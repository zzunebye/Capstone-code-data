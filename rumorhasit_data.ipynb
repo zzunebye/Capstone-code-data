{
 "metadata": {
  "language_info": {
   "codemirror_mode": {
    "name": "ipython",
    "version": 3
   },
   "file_extension": ".py",
   "mimetype": "text/x-python",
   "name": "python",
   "nbconvert_exporter": "python",
   "pygments_lexer": "ipython3",
   "version": "3.8.2-final"
  },
  "orig_nbformat": 2,
  "kernelspec": {
   "name": "venv",
   "display_name": "x86VenvTest",
   "language": "python"
  }
 },
 "nbformat": 4,
 "nbformat_minor": 2,
 "cells": [
  {
   "cell_type": "code",
   "execution_count": 1,
   "metadata": {},
   "outputs": [
    {
     "output_type": "stream",
     "name": "stderr",
     "text": [
      "[nltk_data] Downloading package punkt to /Users/june/nltk_data...\n[nltk_data]   Package punkt is already up-to-date!\n[nltk_data] Downloading package averaged_perceptron_tagger to\n[nltk_data]     /Users/june/nltk_data...\n[nltk_data]   Package averaged_perceptron_tagger is already up-to-\n[nltk_data]       date!\n"
     ]
    }
   ],
   "source": [
    "import pandas as pd\n",
    "import numpy as np\n",
    "from glob2 import glob\n",
    "import json\n",
    "\n",
    "import nltk\n",
    "nltk.download('punkt')\n",
    "nltk.download('averaged_perceptron_tagger')\n",
    "import re\n",
    "from nltk.corpus import stopwords as stp\n",
    "from nltk.stem.porter import PorterStemmer\n",
    "\n",
    "import gensim\n",
    "import gensim.models.word2vec as w2v\n",
    "from gensim.test.utils import common_texts\n",
    "from gensim.models.doc2vec import Doc2Vec, TaggedDocument\n",
    "from datetime import datetime\n",
    "from datetime import date\n",
    "from datetime import timedelta"
   ]
  },
  {
   "cell_type": "code",
   "execution_count": 31,
   "metadata": {},
   "outputs": [
    {
     "output_type": "stream",
     "name": "stdout",
     "text": [
      "\u001b[31mREADME.md\u001b[m\u001b[m     \u001b[31mcell-ids.txt\u001b[m\u001b[m  \u001b[31mobama-ids.txt\u001b[m\u001b[m\n\u001b[31mairfrance.txt\u001b[m\u001b[m \u001b[31mmichelle.txt\u001b[m\u001b[m  \u001b[31mpalin.txt\u001b[m\u001b[m\n"
     ]
    }
   ],
   "source": [
    "!ls ../rumor_has_it/data/"
   ]
  },
  {
   "cell_type": "code",
   "execution_count": 38,
   "metadata": {},
   "outputs": [],
   "source": [
    "airfrance = pd.read_csv(\"../rumor_has_it/data/airfrance.txt\",sep='\\t',names=['time', 'id', 'text','isRumor'])\n",
    "michelle = pd.read_csv(\"../rumor_has_it/data/michelle.txt\",sep='\\t',names=['time', 'id', 'text','isRumor'])"
   ]
  },
  {
   "cell_type": "code",
   "execution_count": 39,
   "metadata": {},
   "outputs": [
    {
     "output_type": "stream",
     "name": "stdout",
     "text": [
      "(505, 4)\n"
     ]
    },
    {
     "output_type": "execute_result",
     "data": {
      "text/plain": [
       "                  time               id  \\\n",
       "0  2009-06-23 16:47:40             kynn   \n",
       "1  2009-06-23 08:39:07   scotsmandotcom   \n",
       "2  2009-06-23 03:36:45  vjkrishnamishra   \n",
       "3  2009-06-23 07:45:21         geehall1   \n",
       "4  2009-06-21 23:18:18           nolaxe   \n",
       "\n",
       "                                                text  isRumor  \n",
       "0  RT @BerinKinsman: Bolivian news runs \"Lost\" st...       12  \n",
       "1  Air France jet crash: Search teams pick up bla...        0  \n",
       "2  News Outlets Fooled: ‘Shocking’ Air France Cra...       12  \n",
       "3  TV station falls for Air France hoax [pic] htt...       12  \n",
       "4  RT @BreakingNews: UPDATE -- Bolivian, Polish a...       12  "
      ],
      "text/html": "<div>\n<style scoped>\n    .dataframe tbody tr th:only-of-type {\n        vertical-align: middle;\n    }\n\n    .dataframe tbody tr th {\n        vertical-align: top;\n    }\n\n    .dataframe thead th {\n        text-align: right;\n    }\n</style>\n<table border=\"1\" class=\"dataframe\">\n  <thead>\n    <tr style=\"text-align: right;\">\n      <th></th>\n      <th>time</th>\n      <th>id</th>\n      <th>text</th>\n      <th>isRumor</th>\n    </tr>\n  </thead>\n  <tbody>\n    <tr>\n      <th>0</th>\n      <td>2009-06-23 16:47:40</td>\n      <td>kynn</td>\n      <td>RT @BerinKinsman: Bolivian news runs \"Lost\" st...</td>\n      <td>12</td>\n    </tr>\n    <tr>\n      <th>1</th>\n      <td>2009-06-23 08:39:07</td>\n      <td>scotsmandotcom</td>\n      <td>Air France jet crash: Search teams pick up bla...</td>\n      <td>0</td>\n    </tr>\n    <tr>\n      <th>2</th>\n      <td>2009-06-23 03:36:45</td>\n      <td>vjkrishnamishra</td>\n      <td>News Outlets Fooled: ‘Shocking’ Air France Cra...</td>\n      <td>12</td>\n    </tr>\n    <tr>\n      <th>3</th>\n      <td>2009-06-23 07:45:21</td>\n      <td>geehall1</td>\n      <td>TV station falls for Air France hoax [pic] htt...</td>\n      <td>12</td>\n    </tr>\n    <tr>\n      <th>4</th>\n      <td>2009-06-21 23:18:18</td>\n      <td>nolaxe</td>\n      <td>RT @BreakingNews: UPDATE -- Bolivian, Polish a...</td>\n      <td>12</td>\n    </tr>\n  </tbody>\n</table>\n</div>"
     },
     "metadata": {},
     "execution_count": 39
    }
   ],
   "source": [
    "print(airfrance.shape)\n",
    "airfrance.head()"
   ]
  },
  {
   "cell_type": "code",
   "execution_count": 40,
   "metadata": {},
   "outputs": [
    {
     "output_type": "stream",
     "name": "stdout",
     "text": [
      "(299, 4)\n"
     ]
    },
    {
     "output_type": "execute_result",
     "data": {
      "text/plain": [
       "                  time              id  \\\n",
       "0  2009-06-16 10:54:58    fakemichelle   \n",
       "1  2009-06-25 11:50:45       gregmitch   \n",
       "2  2009-06-23 02:06:57          goodco   \n",
       "3  2009-06-22 23:03:49  jamiesanderson   \n",
       "4  2009-06-22 19:06:46        asheinin   \n",
       "\n",
       "                                                text  isRumor  \n",
       "0  Video: Rusty DePass Michelle Obama Gorrila Com...        0  \n",
       "1  WAsh Post: Michelle Obama complains to staff--...        0  \n",
       "2  great day for kaboom!!RT @kaboomplay KaBOOM! s...        0  \n",
       "3  RT @wachfoxnews: SC 1st lady, staff won't disc...        0  \n",
       "4  RT @MegKinnardAP: SC 1st lady, staff won't dis...        0  "
      ],
      "text/html": "<div>\n<style scoped>\n    .dataframe tbody tr th:only-of-type {\n        vertical-align: middle;\n    }\n\n    .dataframe tbody tr th {\n        vertical-align: top;\n    }\n\n    .dataframe thead th {\n        text-align: right;\n    }\n</style>\n<table border=\"1\" class=\"dataframe\">\n  <thead>\n    <tr style=\"text-align: right;\">\n      <th></th>\n      <th>time</th>\n      <th>id</th>\n      <th>text</th>\n      <th>isRumor</th>\n    </tr>\n  </thead>\n  <tbody>\n    <tr>\n      <th>0</th>\n      <td>2009-06-16 10:54:58</td>\n      <td>fakemichelle</td>\n      <td>Video: Rusty DePass Michelle Obama Gorrila Com...</td>\n      <td>0</td>\n    </tr>\n    <tr>\n      <th>1</th>\n      <td>2009-06-25 11:50:45</td>\n      <td>gregmitch</td>\n      <td>WAsh Post: Michelle Obama complains to staff--...</td>\n      <td>0</td>\n    </tr>\n    <tr>\n      <th>2</th>\n      <td>2009-06-23 02:06:57</td>\n      <td>goodco</td>\n      <td>great day for kaboom!!RT @kaboomplay KaBOOM! s...</td>\n      <td>0</td>\n    </tr>\n    <tr>\n      <th>3</th>\n      <td>2009-06-22 23:03:49</td>\n      <td>jamiesanderson</td>\n      <td>RT @wachfoxnews: SC 1st lady, staff won't disc...</td>\n      <td>0</td>\n    </tr>\n    <tr>\n      <th>4</th>\n      <td>2009-06-22 19:06:46</td>\n      <td>asheinin</td>\n      <td>RT @MegKinnardAP: SC 1st lady, staff won't dis...</td>\n      <td>0</td>\n    </tr>\n  </tbody>\n</table>\n</div>"
     },
     "metadata": {},
     "execution_count": 40
    }
   ],
   "source": [
    "print(michelle.shape)\n",
    "michelle.head(5)"
   ]
  },
  {
   "cell_type": "code",
   "execution_count": null,
   "metadata": {},
   "outputs": [],
   "source": []
  }
 ]
}