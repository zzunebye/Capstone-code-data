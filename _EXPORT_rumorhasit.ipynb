{
 "cells": [
  {
   "cell_type": "markdown",
   "metadata": {},
   "source": [
    "# 이 노트북은 `Rumor-has-it` 중 3 개의 Dataset (airfrance.txt, michelle.txt, and palin.txt)를 가져와 작업한다."
   ]
  },
  {
   "cell_type": "code",
   "execution_count": 14,
   "metadata": {},
   "outputs": [],
   "source": [
    "import pandas as pd\n",
    "import numpy as np\n",
    "from glob2 import glob\n",
    "import json\n",
    "\n",
    "# import nltk; nltk.download('punkt'); nltk.download('averaged_perceptron_tagger')\n",
    "# import re\n",
    "# from nltk.corpus import stopwords as stp\n",
    "# from nltk.stem.porter import PorterStemmer\n",
    "\n",
    "# import gensim\n",
    "# import gensim.models.word2vec as w2v\n",
    "# from gensim.test.utils import common_texts\n",
    "# from gensim.models.doc2vec import Doc2Vec, TaggedDocument"
   ]
  },
  {
   "cell_type": "code",
   "execution_count": 15,
   "metadata": {},
   "outputs": [
    {
     "name": "stdout",
     "output_type": "stream",
     "text": [
      "\u001b[31mREADME.md\u001b[m\u001b[m     \u001b[31mcell-ids.txt\u001b[m\u001b[m  \u001b[31mobama-ids.txt\u001b[m\u001b[m\n",
      "\u001b[31mairfrance.txt\u001b[m\u001b[m \u001b[31mmichelle.txt\u001b[m\u001b[m  \u001b[31mpalin.txt\u001b[m\u001b[m\n"
     ]
    }
   ],
   "source": [
    "!ls ../rumor_has_it/data/"
   ]
  },
  {
   "cell_type": "code",
   "execution_count": 36,
   "metadata": {},
   "outputs": [
    {
     "data": {
      "text/plain": "'../rumor_has_it/data/                     time             id  \\\\\\n0     2009-07-03 19:59:33        donbart   \\n1     2009-07-04 01:37:35    davidcorndc   \\n2     2009-07-05 01:20:02      geoff9cow   \\n3     2009-07-19 06:06:50       tahdeetz   \\n4     2009-07-05 13:52:12      geoff9cow   \\n...                   ...            ...   \\n4418  2009-12-11 04:40:09       oscaroes   \\n4419  2009-12-08 21:18:49          milo9   \\n4420  2009-12-30 17:16:58  twt_political   \\n4421  2009-12-09 09:05:08         jazgar   \\n4422  2009-12-30 01:01:48         jdotts   \\n\\n                                                   text  isRumor  \\n0     RT @jeffjarvis: Place your bets: Baby? Breakdo...       13  \\n1     Don\\'t know about this @LippyLauri: RT @schilli...       13  \\n2     RT @AblativMeatshld The public has a right 2 l...        0  \\n3     Hey Lib/Marxists, Consider the Divorce!! #tcot...        0  \\n4     RT @AblativMeatshld: @geoff9cow divorce of som...        0  \\n...                                                 ...      ...  \\n4418  Tiger is seen to get divorced, while Hillary i...        0  \\n4419  RT @crooksandliars New at C&L: \"There Was A Lo...       11  \\n4420  Rove to divorce, Palin custody, underwear bomb...        0  \\n4421  There Was A Lot Of Talk About Divorce In The P...       11  \\n4422  news on CNN today: Karl Rove got a divorce and...        0  \\n\\n[4423 rows x 4 columns].txt'"
     },
     "execution_count": 36,
     "metadata": {},
     "output_type": "execute_result"
    }
   ],
   "source": [
    "\"../rumor_has_it/data/{}.txt\".format(event)"
   ]
  },
  {
   "cell_type": "code",
   "execution_count": 87,
   "metadata": {},
   "outputs": [],
   "source": [
    "events = ['airfrance','michelle','palin']\n",
    "# print(events[1])\n",
    "events_dfs = []\n",
    "for i, event in enumerate(events):\n",
    "    path = f\"../rumor_has_it/data/{events[i]}.txt\"\n",
    "    temp = pd.read_csv(path, sep='\\t',names=['time', 'id', 'text','isRumor'])\n",
    "    temp[\"Event\"] = events[i]\n",
    "    events_dfs.append(temp)\n",
    "    temp.loc[temp.isRumor > 0, 'isRumor'] = 1"
   ]
  },
  {
   "cell_type": "code",
   "execution_count": 88,
   "metadata": {},
   "outputs": [],
   "source": [
    "dataset = pd.concat(events_dfs)"
   ]
  },
  {
   "cell_type": "code",
   "execution_count": 91,
   "metadata": {},
   "outputs": [
    {
     "data": {
      "text/html": "<div>\n<style scoped>\n    .dataframe tbody tr th:only-of-type {\n        vertical-align: middle;\n    }\n\n    .dataframe tbody tr th {\n        vertical-align: top;\n    }\n\n    .dataframe thead th {\n        text-align: right;\n    }\n</style>\n<table border=\"1\" class=\"dataframe\">\n  <thead>\n    <tr style=\"text-align: right;\">\n      <th></th>\n      <th>time</th>\n      <th>id</th>\n      <th>text</th>\n      <th>isRumor</th>\n      <th>Event</th>\n    </tr>\n  </thead>\n  <tbody>\n    <tr>\n      <th>218</th>\n      <td>2009-06-21 00:30:46</td>\n      <td>failtracker</td>\n      <td>RT @julio_r: Epic FAIL!!! El video de PAT Noti...</td>\n      <td>1</td>\n      <td>airfrance</td>\n    </tr>\n    <tr>\n      <th>1754</th>\n      <td>2009-08-01 21:21:35</td>\n      <td>northwestfire</td>\n      <td>RT @Fingertipnews: RT @MPOTheHill: Palin camp ...</td>\n      <td>1</td>\n      <td>palin</td>\n    </tr>\n    <tr>\n      <th>907</th>\n      <td>2009-08-03 23:07:30</td>\n      <td>moneycoach76</td>\n      <td>Sarah Palin Getting a Divorce, Types Person wi...</td>\n      <td>1</td>\n      <td>palin</td>\n    </tr>\n    <tr>\n      <th>2167</th>\n      <td>2009-08-02 17:42:50</td>\n      <td>phillipalden</td>\n      <td>So Todd and Sarah Palin are getting a divorce....</td>\n      <td>1</td>\n      <td>palin</td>\n    </tr>\n    <tr>\n      <th>152</th>\n      <td>2009-06-28 10:15:29</td>\n      <td>simonbarker</td>\n      <td>RT @FreshPlastic: Newscast shows pictures from...</td>\n      <td>1</td>\n      <td>airfrance</td>\n    </tr>\n  </tbody>\n</table>\n</div>",
      "text/plain": "                     time             id  \\\n218   2009-06-21 00:30:46    failtracker   \n1754  2009-08-01 21:21:35  northwestfire   \n907   2009-08-03 23:07:30   moneycoach76   \n2167  2009-08-02 17:42:50   phillipalden   \n152   2009-06-28 10:15:29    simonbarker   \n\n                                                   text  isRumor      Event  \n218   RT @julio_r: Epic FAIL!!! El video de PAT Noti...        1  airfrance  \n1754  RT @Fingertipnews: RT @MPOTheHill: Palin camp ...        1      palin  \n907   Sarah Palin Getting a Divorce, Types Person wi...        1      palin  \n2167  So Todd and Sarah Palin are getting a divorce....        1      palin  \n152   RT @FreshPlastic: Newscast shows pictures from...        1  airfrance  "
     },
     "execution_count": 91,
     "metadata": {},
     "output_type": "execute_result"
    }
   ],
   "source": [
    "dataset.sample(5)"
   ]
  },
  {
   "cell_type": "code",
   "execution_count": 92,
   "metadata": {},
   "outputs": [
    {
     "data": {
      "text/plain": "time       5227\nid         5227\ntext       5227\nisRumor    5227\nEvent      5227\ndtype: int64"
     },
     "execution_count": 92,
     "metadata": {},
     "output_type": "execute_result"
    }
   ],
   "source": [
    "dataset.count()"
   ]
  },
  {
   "cell_type": "code",
   "execution_count": 12,
   "metadata": {},
   "outputs": [
    {
     "data": {
      "text/plain": "isRumor\n1    4752\n0     475\ndtype: int64"
     },
     "execution_count": 12,
     "metadata": {},
     "output_type": "execute_result"
    }
   ],
   "source": [
    "dataset.value_counts('isRumor')#.plot(kind='bar')"
   ]
  },
  {
   "cell_type": "code",
   "execution_count": 93,
   "metadata": {},
   "outputs": [],
   "source": [
    "dataset.to_csv('./data/_RHS_text.csv', index = False)"
   ]
  }
 ],
 "metadata": {
  "kernelspec": {
   "display_name": "rosetta",
   "language": "python",
   "name": "rosetta"
  },
  "language_info": {
   "codemirror_mode": {
    "name": "ipython",
    "version": 3
   },
   "file_extension": ".py",
   "mimetype": "text/x-python",
   "name": "python",
   "nbconvert_exporter": "python",
   "pygments_lexer": "ipython3",
   "version": "3.8.8"
  },
  "orig_nbformat": 2
 },
 "nbformat": 4,
 "nbformat_minor": 2
}