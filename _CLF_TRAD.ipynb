{
 "cells": [
  {
   "cell_type": "markdown",
   "metadata": {},
   "source": [
    "# Functions / Libraries"
   ]
  },
  {
   "cell_type": "code",
   "execution_count": 1,
   "metadata": {},
   "outputs": [],
   "source": [
    "import os\n",
    "import re\n",
    "from tqdm import tqdm\n",
    "import numpy as np\n",
    "import pandas as pd\n",
    "import matplotlib.pyplot as plt\n",
    "%matplotlib inline\n",
    "\n",
    "from sklearn.pipeline import make_pipeline\n",
    "from sklearn.preprocessing import StandardScaler\n",
    "from sklearn.preprocessing import MinMaxScaler\n",
    "from sklearn.svm import SVC\n",
    "from sklearn.svm import LinearSVC\n",
    "\n",
    "\n",
    "from sklearn.model_selection import cross_val_score\n",
    "from sklearn.metrics import accuracy_score, recall_score, precision_score, f1_score\n",
    "from sklearn.metrics import classification_report\n",
    "\n",
    "from sklearn.naive_bayes import GaussianNB\n",
    "\n",
    "from sklearn.ensemble import RandomForestClassifier\n",
    "from sklearn.ensemble import AdaBoostClassifier\n",
    "from sklearn.linear_model import LogisticRegression\n",
    "from sklearn.model_selection import RandomizedSearchCV, GridSearchCV\n",
    "from sklearn.ensemble import GradientBoostingClassifier"
   ]
  },
  {
   "cell_type": "code",
   "execution_count": 2,
   "metadata": {},
   "outputs": [],
   "source": [
    "from fetchData import fetchdata "
   ]
  },
  {
   "cell_type": "code",
   "execution_count": 3,
   "metadata": {},
   "outputs": [],
   "source": [
    "def train_test(X_train, X_test, y_train, y_test, clf):\n",
    "    clf.fit(X_train, y_train)\n",
    "    result = clf.predict(X_test)\n",
    "    print(\"Accuracy:\\t\\t\",accuracy_score(y_test,result))\n",
    "    print('Precision Score:\\t', str(precision_score(y_test,result)))\n",
    "    print('Recall Score:\\t\\t' + str(recall_score(y_test,result)))\n",
    "    print(\"F1 Score:\\t\\t\",f1_score(y_test, result, average='macro', zero_division=True))\n",
    "    print(classification_report(y_test, result))\n",
    "    \n",
    "\n",
    "def valid(X_valid, y_valid, clf):\n",
    "    clf.fit\n",
    "    result = clf.predict(X_valid)\n",
    "    print(\"Accuracy:\",accuracy_score(result,y_valid))\n",
    "    print(classification_report(y_valid, result))\n",
    "\n",
    "def cv_events(data):\n",
    "    NUM_EVENT = data.Event.unique().shape[0]\n",
    "    EVENTS = data.Event.unique()\n",
    "\n",
    "    cv_pd_list = []\n",
    "    for i, d in enumerate(EVENTS):\n",
    "        df1, df2 = [x for _, x in data.groupby(data['Event'] != d)]\n",
    "        df1.reset_index(inplace=True, drop=True)\n",
    "        df2.reset_index(inplace=True, drop=True)\n",
    "        cv_pd_list.append([df1, df2])\n",
    "    return cv_pd_list\n",
    "\n",
    "def algorithm_pipeline(X_train_data, X_test_data, y_train_data, y_test_data, \n",
    "                       model, param_grid, cv=10, scoring_fit='neg_mean_squared_error',\n",
    "                       do_probabilities = False):\n",
    "    gs = GridSearchCV(\n",
    "        estimator=model,\n",
    "        param_grid=param_grid, \n",
    "        cv=cv, \n",
    "        n_jobs=-1, \n",
    "        scoring=scoring_fit,\n",
    "        verbose=2\n",
    "    )\n",
    "    fitted_model = gs.fit(X_train_data, y_train_data)\n",
    "    \n",
    "    if do_probabilities:\n",
    "      pred = fitted_model.predict_proba(X_test_data)\n",
    "    else:\n",
    "      pred = fitted_model.predict(X_test_data)\n",
    "    \n",
    "    return fitted_model, pred"
   ]
  },
  {
   "cell_type": "code",
   "execution_count": 4,
   "metadata": {},
   "outputs": [],
   "source": [
    "def scale_concat(data_list):\n",
    "    scaler = StandardScaler()\n",
    "    df = scaler.fit_transform(pd.concat(data_list, axis=1))\n",
    "    return df"
   ]
  },
  {
   "cell_type": "markdown",
   "metadata": {},
   "source": [
    "# Data"
   ]
  },
  {
   "cell_type": "code",
   "execution_count": 12,
   "metadata": {},
   "outputs": [],
   "source": [
    "pheme_AVGw2v = pd.read_csv('./data/_PHEME_text_AVGw2v.csv').drop(['token'],axis=1)\n",
    "pheme_sparse = pd.read_csv('./data/_PHEME_sparse.csv')\n",
    "pheme_y = pd.read_csv('./data/_PHEME_target.csv').target\n",
    "pheme_event = pd.read_csv('./data/_PHEME_text.csv')['Event']\n",
    "pheme_bert = fetchdata('pheme','bert')\n",
    "pheme_thread =  fetchdata('pheme','thread')\n",
    "\n",
    "ext_AVGw2v = pd.read_csv('./data/_PHEMEext_text_AVGw2v.csv').drop(['token'],axis=1)\n",
    "ext_sparse = pd.read_csv('./data/_PHEMEext_sparse.csv')\n",
    "ext_y = pd.read_csv('./data/_PHEMEext_text.csv').target\n",
    "ext_event = pd.read_csv('./data/_PHEMEext_text.csv').Event\n",
    "ext_bert = fetchdata('ext','bert')\n",
    "ext_thread = fetchdata('ext','thread')\n",
    "\n",
    "rhi = pd.read_csv('./data/_RHI_text_AVGw2v.csv').drop(['token'],axis=1)\n",
    "rhi_y = pd.read_csv('./data/_RHI_target.csv')\n",
    "rhi_bert = fetchdata('rhi','bert')\n",
    "\n",
    "# pheme_all = pd.read_csv(\"./data/all/_PHEMEall.csv\")\n",
    "# ext_all = pd.read_csv(\"./data/all/_PHEMEextall.csv\")\n",
    "\n",
    "# temp = pd.read_csv('./data/previous/data_notembeded.csv')\n",
    "# pd.concat([pheme_sparse, pheme_event])"
   ]
  },
  {
   "cell_type": "code",
   "execution_count": 6,
   "metadata": {},
   "outputs": [],
   "source": [
    "pheme_thread = pheme_thread.replace(-np.inf, 0)\n",
    "ext_thread = ext_thread.replace(-np.inf, 0)"
   ]
  },
  {
   "cell_type": "code",
   "execution_count": 10,
   "metadata": {},
   "outputs": [],
   "source": [
    "# cv = cv_events(pd.concat([pheme_sparse, pheme_event], axis=1))\n",
    "cv = cv_events(pd.concat([pheme_sparse, pheme_y, pheme_event],axis=1))"
   ]
  },
  {
   "cell_type": "markdown",
   "metadata": {},
   "source": [
    "# Feature Importance on Sparse Features"
   ]
  },
  {
   "cell_type": "code",
   "execution_count": 13,
   "metadata": {},
   "outputs": [
    {
     "name": "stdout",
     "output_type": "stream",
     "text": [
      "Feature ranking:\n",
      "1. feature 25: capital_ratio (0.023554)\n",
      "2. feature 29: listed_count (0.023047)\n",
      "3. feature 28: tweet_count (0.022576)\n",
      "4. feature 13: Numeral (0.022373)\n",
      "5. feature 31: follow_ratio (0.021648)\n",
      "6. feature 5: Noun (0.020772)\n",
      "7. feature 6: Verb (0.018965)\n",
      "8. feature 30: friends_count (0.018720)\n",
      "9. feature 7: Adjective (0.018711)\n",
      "10. feature 32: account_age_days (0.018371)\n",
      "11. feature 3: Skepticism (0.018333)\n",
      "12. feature 63: AVG FPP (0.018230)\n",
      "13. feature 16: Determiner (0.018211)\n",
      "14. feature 20: word_count (0.017997)\n",
      "15. feature 19: char_count (0.017476)\n",
      "16. feature 64: STD FPP (0.017206)\n",
      "17. feature 67: AVG TPP (0.017082)\n",
      "18. feature 69: AVG Skepticism (0.017057)\n",
      "19. feature 21: HashTag (0.016944)\n",
      "20. feature 65: AVG SPP (0.016567)\n",
      "21. feature 56: thread_time (0.016411)\n",
      "22. feature 66: STD SPP (0.016360)\n",
      "23. feature 14: Conjunction_inj (0.016151)\n",
      "24. feature 68: STD TPP (0.016145)\n",
      "25. feature 41: Ratio HashTag (0.016090)\n",
      "26. feature 38: AVG CharCount (0.015695)\n",
      "27. feature 8: Pronoun (0.015674)\n",
      "28. feature 54: AVG AccAge (0.015432)\n",
      "29. feature 37: AVG WordCount (0.015418)\n",
      "30. feature 40: SUM HashTag (0.015303)\n",
      "31. feature 33: verified (0.015233)\n",
      "32. feature 36: AVG FriendsCount (0.015208)\n",
      "33. feature 9: FirstPersonPronoun (0.015171)\n",
      "34. feature 62: RATIO Period (0.015147)\n",
      "35. feature 59: Ratio Media (0.015048)\n",
      "36. feature 39: AVG HashTag (0.014982)\n",
      "37. feature 60: RATIO Question (0.014928)\n",
      "38. feature 55: STD AccAge (0.014914)\n",
      "39. feature 26: retweet_count (0.014715)\n",
      "40. feature 51: SUM RT (0.014321)\n",
      "41. feature 52: AVG RT (0.014225)\n",
      "42. feature 46: AVG Mention (0.014223)\n",
      "43. feature 61: RATIO Exclaim (0.014075)\n",
      "44. feature 2: has_media (0.013751)\n",
      "45. feature 35: SUM FriendsCount (0.013744)\n",
      "46. feature 47: Ratio Mention (0.013624)\n",
      "47. feature 12: Adverb (0.013606)\n",
      "48. feature 34: depth (0.013599)\n",
      "49. feature 53: STD RT (0.013502)\n",
      "50. feature 44: RATIO Url (0.013118)\n",
      "51. feature 48: Tweets Count (0.013090)\n",
      "52. feature 45: SUM Mention (0.013022)\n",
      "53. feature 43: STD Url (0.012792)\n",
      "54. feature 42: AVG Url (0.012651)\n",
      "55. feature 1: URLcount (0.012328)\n",
      "56. feature 49: Ratio Verified (0.011846)\n",
      "57. feature 17: Modal (0.010733)\n",
      "58. feature 50: SUM Verified (0.010200)\n",
      "59. feature 18: Whs (0.009731)\n",
      "60. feature 57: STD Emoji (0.009702)\n",
      "61. feature 58: AVG Emoji (0.009570)\n",
      "62. feature 4: MentionCount (0.008058)\n",
      "63. feature 11: ThirdPersonPronoun (0.007592)\n",
      "64. feature 24: has_period (0.006844)\n",
      "65. feature 15: Particle (0.006585)\n",
      "66. feature 10: SecondPersonPronoun (0.005497)\n",
      "67. feature 22: has_question (0.004690)\n",
      "68. feature 23: has_exclaim (0.004280)\n",
      "69. feature 0: emoji_count (0.001138)\n",
      "70. feature 27: isRT (0.000000)\n"
     ]
    },
    {
     "data": {
      "image/png": "[encoded data removed]",
      "text/plain": "<Figure size 432x288 with 1 Axes>"
     },
     "metadata": {
      "needs_background": "light"
     },
     "output_type": "display_data"
    }
   ],
   "source": [
    "from sklearn.ensemble import ExtraTreesClassifier\n",
    "scaler = StandardScaler()\n",
    "X = scaler.fit_transform(pheme_sparse)\n",
    "X2 = scaler.fit_transform(pheme_thread)\n",
    "\n",
    "X = pd.concat([pheme_sparse, pheme_thread], axis=1)\n",
    "\n",
    "forest = ExtraTreesClassifier(n_estimators=250,\n",
    "                              random_state=3)\n",
    "\n",
    "forest.fit(X, pheme_y)\n",
    "importances = forest.feature_importances_\n",
    "std = np.std([tree.feature_importances_ for tree in forest.estimators_],\n",
    "             axis=0)\n",
    "indices = np.argsort(importances)[::-1]\n",
    "\n",
    "# Print the feature ranking\n",
    "print(\"Feature ranking:\")\n",
    "\n",
    "for f in range(X.shape[1]):\n",
    "    print(\"%d. feature %d: %s (%f)\" % (f + 1, indices[f], X.columns[indices[f]], importances[indices[f]]))\n",
    "\n",
    "# Plot the impurity-based feature importances of the forest\n",
    "plt.figure()\n",
    "plt.title(\"Feature importances\")\n",
    "plt.bar(range(X.shape[1]), importances[indices],\n",
    "        color=\"r\", yerr=std[indices], align=\"center\")\n",
    "plt.xticks(range(X.shape[1]), indices)\n",
    "plt.xlim([-1, X.shape[1]])\n",
    "plt.show()"
   ]
  },
  {
   "cell_type": "code",
   "execution_count": null,
   "metadata": {},
   "outputs": [],
   "source": [
    "Feature ranking:\n",
    "1. feature 25: capital_ratio (0.023554)\n",
    "2. feature 29: listed_count (0.023047)\n",
    "3. feature 28: tweet_count (0.022576)\n",
    "4. feature 13: Numeral (0.022373)\n",
    "5. feature 31: follow_ratio (0.021648)\n",
    "6. feature 5: Noun (0.020772)\n",
    "7. feature 6: Verb (0.018965)\n",
    "8. feature 30: friends_count (0.018720)\n",
    "9. feature 7: Adjective (0.018711)\n",
    "10. feature 32: account_age_days (0.018371)\n",
    "11. feature 3: Skepticism (0.018333)\n",
    "12. feature 63: AVG FPP (0.018230)\n",
    "13. feature 16: Determiner (0.018211)\n",
    "14. feature 20: word_count (0.017997)\n",
    "15. feature 19: char_count (0.017476)\n",
    "16. feature 64: STD FPP (0.017206)\n",
    "17. feature 67: AVG TPP (0.017082)\n",
    "18. feature 69: AVG Skepticism (0.017057)\n",
    "19. feature 21: HashTag (0.016944)\n",
    "20. feature 65: AVG SPP (0.016567)\n",
    "21. feature 56: thread_time (0.016411)\n",
    "22. feature 66: STD SPP (0.016360)\n",
    "23. feature 14: Conjunction_inj (0.016151)\n",
    "24. feature 68: STD TPP (0.016145)\n",
    "25. feature 41: Ratio HashTag (0.016090)\n",
    "26. feature 38: AVG CharCount (0.015695)\n",
    "27. feature 8: Pronoun (0.015674)\n",
    "28. feature 54: AVG AccAge (0.015432)\n",
    "29. feature 37: AVG WordCount (0.015418)\n",
    "30. feature 40: SUM HashTag (0.015303)\n",
    "31. feature 33: verified (0.015233)\n",
    "32. feature 36: AVG FriendsCount (0.015208)\n",
    "33. feature 9: FirstPersonPronoun (0.015171)\n",
    "34. feature 62: RATIO Period (0.015147)\n",
    "35. feature 59: Ratio Media (0.015048)\n",
    "36. feature 39: AVG HashTag (0.014982)\n",
    "37. feature 60: RATIO Question (0.014928)\n",
    "38. feature 55: STD AccAge (0.014914)\n",
    "39. feature 26: retweet_count (0.014715)\n",
    "40. feature 51: SUM RT (0.014321)\n",
    "41. feature 52: AVG RT (0.014225)\n",
    "42. feature 46: AVG Mention (0.014223)\n",
    "43. feature 61: RATIO Exclaim (0.014075)\n",
    "44. feature 2: has_media (0.013751)\n",
    "45. feature 35: SUM FriendsCount (0.013744)\n",
    "46. feature 47: Ratio Mention (0.013624)\n",
    "47. feature 12: Adverb (0.013606)\n",
    "48. feature 34: depth (0.013599)\n",
    "49. feature 53: STD RT (0.013502)\n",
    "50. feature 44: RATIO Url (0.013118)\n",
    "51. feature 48: Tweets Count (0.013090)\n",
    "52. feature 45: SUM Mention (0.013022)\n",
    "53. feature 43: STD Url (0.012792)\n",
    "54. feature 42: AVG Url (0.012651)\n",
    "55. feature 1: URLcount (0.012328)\n",
    "56. feature 49: Ratio Verified (0.011846)\n",
    "57. feature 17: Modal (0.010733)\n",
    "58. feature 50: SUM Verified (0.010200)\n",
    "59. feature 18: Whs (0.009731)\n",
    "60. feature 57: STD Emoji (0.009702)\n",
    "61. feature 58: AVG Emoji (0.009570)\n",
    "62. feature 4: MentionCount (0.008058)\n",
    "63. feature 11: ThirdPersonPronoun (0.007592)\n",
    "64. feature 24: has_period (0.006844)\n",
    "65. feature 15: Particle (0.006585)\n",
    "66. feature 10: SecondPersonPronoun (0.005497)\n",
    "67. feature 22: has_question (0.004690)\n",
    "68. feature 23: has_exclaim (0.004280)\n",
    "69. feature 0: emoji_count (0.001138)\n",
    "70. feature 27: isRT (0.000000"
   ]
  },
  {
   "cell_type": "code",
   "execution_count": 7,
   "metadata": {},
   "outputs": [
    {
     "name": "stdout",
     "output_type": "stream",
     "text": [
      "Feature ranking:\n",
      "1. feature 25: capital_ratio (0.023554)\n",
      "2. feature 29: listed_count (0.023047)\n",
      "3. feature 28: tweet_count (0.022576)\n",
      "4. feature 13: Numeral (0.022373)\n",
      "5. feature 31: follow_ratio (0.021648)\n",
      "6. feature 5: Noun (0.020772)\n",
      "7. feature 6: Verb (0.018965)\n",
      "8. feature 30: friends_count (0.018720)\n",
      "9. feature 7: Adjective (0.018711)\n",
      "10. feature 32: account_age_days (0.018371)\n",
      "11. feature 3: Skepticism (0.018333)\n",
      "12. feature 63: AVG FPP (0.018230)\n",
      "13. feature 16: Determiner (0.018211)\n",
      "14. feature 20: word_count (0.017997)\n",
      "15. feature 19: char_count (0.017476)\n",
      "16. feature 64: STD FPP (0.017206)\n",
      "17. feature 67: AVG TPP (0.017082)\n",
      "18. feature 69: AVG Skepticism (0.017057)\n",
      "19. feature 21: HashTag (0.016944)\n",
      "20. feature 65: AVG SPP (0.016567)\n",
      "21. feature 56: thread_time (0.016411)\n",
      "22. feature 66: STD SPP (0.016360)\n",
      "23. feature 14: Conjunction_inj (0.016151)\n",
      "24. feature 68: STD TPP (0.016145)\n",
      "25. feature 41: Ratio HashTag (0.016090)\n",
      "26. feature 38: AVG CharCount (0.015695)\n",
      "27. feature 8: Pronoun (0.015674)\n",
      "28. feature 54: AVG AccAge (0.015432)\n",
      "29. feature 37: AVG WordCount (0.015418)\n",
      "30. feature 40: SUM HashTag (0.015303)\n",
      "31. feature 33: verified (0.015233)\n",
      "32. feature 36: AVG FriendsCount (0.015208)\n",
      "33. feature 9: FirstPersonPronoun (0.015171)\n",
      "34. feature 62: RATIO Period (0.015147)\n",
      "35. feature 59: Ratio Media (0.015048)\n",
      "36. feature 39: AVG HashTag (0.014982)\n",
      "37. feature 60: RATIO Question (0.014928)\n",
      "38. feature 55: STD AccAge (0.014914)\n",
      "39. feature 26: retweet_count (0.014715)\n",
      "40. feature 51: SUM RT (0.014321)\n",
      "41. feature 52: AVG RT (0.014225)\n",
      "42. feature 46: AVG Mention (0.014223)\n",
      "43. feature 61: RATIO Exclaim (0.014075)\n",
      "44. feature 2: has_media (0.013751)\n",
      "45. feature 35: SUM FriendsCount (0.013744)\n",
      "46. feature 47: Ratio Mention (0.013624)\n",
      "47. feature 12: Adverb (0.013606)\n",
      "48. feature 34: depth (0.013599)\n",
      "49. feature 53: STD RT (0.013502)\n",
      "50. feature 44: RATIO Url (0.013118)\n",
      "51. feature 48: Tweets Count (0.013090)\n",
      "52. feature 45: SUM Mention (0.013022)\n",
      "53. feature 43: STD Url (0.012792)\n",
      "54. feature 42: AVG Url (0.012651)\n",
      "55. feature 1: URLcount (0.012328)\n",
      "56. feature 49: Ratio Verified (0.011846)\n",
      "57. feature 17: Modal (0.010733)\n",
      "58. feature 50: SUM Verified (0.010200)\n",
      "59. feature 18: Whs (0.009731)\n",
      "60. feature 57: STD Emoji (0.009702)\n",
      "61. feature 58: AVG Emoji (0.009570)\n",
      "62. feature 4: MentionCount (0.008058)\n",
      "63. feature 11: ThirdPersonPronoun (0.007592)\n",
      "64. feature 24: has_period (0.006844)\n",
      "65. feature 15: Particle (0.006585)\n",
      "66. feature 10: SecondPersonPronoun (0.005497)\n",
      "67. feature 22: has_question (0.004690)\n",
      "68. feature 23: has_exclaim (0.004280)\n",
      "69. feature 0: emoji_count (0.001138)\n",
      "70. feature 27: isRT (0.000000)\n"
     ]
    },
    {
     "data": {
      "image/png": "[encoded data removed]",
      "text/plain": "<Figure size 432x288 with 1 Axes>"
     },
     "metadata": {
      "needs_background": "light"
     },
     "output_type": "display_data"
    }
   ],
   "source": [
    "from sklearn.ensemble import ExtraTreesClassifier\n",
    "scaler = StandardScaler()\n",
    "X = scaler.fit_transform(pheme_sparse)\n",
    "X2 = scaler.fit_transform(pheme_thread)\n",
    "\n",
    "X = pd.concat([pheme_sparse, pheme_thread], axis=1)\n",
    "\n",
    "forest = ExtraTreesClassifier(n_estimators=250,\n",
    "                              random_state=3)\n",
    "\n",
    "forest.fit(X, pheme_y)\n",
    "importances = forest.feature_importances_\n",
    "std = np.std([tree.feature_importances_ for tree in forest.estimators_],\n",
    "             axis=0)\n",
    "indices = np.argsort(importances)[::-1]\n",
    "\n",
    "# Print the feature ranking\n",
    "print(\"Feature ranking:\")\n",
    "\n",
    "for f in range(X.shape[1]):\n",
    "    print(\"%d. feature %d: %s (%f)\" % (f + 1, indices[f], X.columns[indices[f]], importances[indices[f]]))\n",
    "\n",
    "# Plot the impurity-based feature importances of the forest\n",
    "plt.figure()\n",
    "plt.title(\"Feature importances\")\n",
    "plt.bar(range(X.shape[1]), importances[indices],\n",
    "        color=\"r\", yerr=std[indices], align=\"center\")\n",
    "plt.xticks(range(X.shape[1]), indices)\n",
    "plt.xlim([-1, X.shape[1]])\n",
    "plt.show()"
   ]
  },
  {
   "cell_type": "markdown",
   "metadata": {},
   "source": [
    "# Thread"
   ]
  },
  {
   "cell_type": "code",
   "execution_count": 44,
   "metadata": {},
   "outputs": [],
   "source": [
    "scaler = StandardScaler()\n",
    "X_train = scaler.fit_transform(pheme_thread.values)\n",
    "X_test = scaler.fit_transform(ext_thread.values)"
   ]
  },
  {
   "cell_type": "code",
   "execution_count": 46,
   "metadata": {},
   "outputs": [
    {
     "name": "stdout",
     "output_type": "stream",
     "text": [
      "Accuracy:\t\t 0.24123711340206186\n",
      "Precision Score:\t 1.0\n",
      "Recall Score:\t\t0.0027100271002710027\n",
      "F1 Score:\t\t 0.19603603603603603\n",
      "              precision    recall  f1-score   support\n",
      "\n",
      "           0       0.24      1.00      0.39       116\n",
      "           1       1.00      0.00      0.01       369\n",
      "\n",
      "    accuracy                           0.24       485\n",
      "   macro avg       0.62      0.50      0.20       485\n",
      "weighted avg       0.82      0.24      0.10       485\n",
      "\n"
     ]
    }
   ],
   "source": [
    "clf = SVC()\n",
    "train_test(X_train, X_test, pheme_y, ext_y, clf)\n",
    "\n",
    "# Accuracy:\t\t 0.6268041237113402\n",
    "# Precision Score:\t 0.7596685082872928\n",
    "# Recall Score:\t\t0.7452574525745257\n",
    "# F1 Score:\t\t 0.49753590255796776"
   ]
  },
  {
   "cell_type": "markdown",
   "metadata": {},
   "source": [
    "# Sparse"
   ]
  },
  {
   "cell_type": "markdown",
   "metadata": {},
   "source": [
    "## Data"
   ]
  },
  {
   "cell_type": "code",
   "execution_count": 8,
   "metadata": {},
   "outputs": [],
   "source": [
    "scaler = StandardScaler()\n",
    "pheme_sparse_scaled = scaler.fit_transform(pheme_sparse.values)\n",
    "ext_sparse_scaled = scaler.fit_transform(ext_sparse.values)"
   ]
  },
  {
   "cell_type": "markdown",
   "metadata": {},
   "source": [
    "## CLF"
   ]
  },
  {
   "cell_type": "code",
   "execution_count": 9,
   "metadata": {},
   "outputs": [
    {
     "name": "stdout",
     "output_type": "stream",
     "text": [
      "Accuracy:\t\t 0.354639175257732\n",
      "Precision Score:\t 0.9242424242424242\n",
      "Recall Score:\t\t0.16531165311653118\n",
      "F1 Score:\t\t 0.34770652057149\n",
      "              precision    recall  f1-score   support\n",
      "\n",
      "           0       0.26      0.96      0.41       116\n",
      "           1       0.92      0.17      0.28       369\n",
      "\n",
      "    accuracy                           0.35       485\n",
      "   macro avg       0.59      0.56      0.35       485\n",
      "weighted avg       0.77      0.35      0.31       485\n",
      "\n"
     ]
    }
   ],
   "source": [
    "clf = SVC(gamma='auto')\n",
    "train_test(pheme_sparse_scaled, ext_sparse_scaled, pheme_y, ext_y, clf)"
   ]
  },
  {
   "cell_type": "code",
   "execution_count": 10,
   "metadata": {},
   "outputs": [
    {
     "name": "stdout",
     "output_type": "stream",
     "text": [
      "Accuracy:\t\t 0.6371134020618556\n",
      "Precision Score:\t 0.8205980066445183\n",
      "Recall Score:\t\t0.6693766937669376\n",
      "F1 Score:\t\t 0.5753233830845771\n",
      "              precision    recall  f1-score   support\n",
      "\n",
      "           0       0.34      0.53      0.41       116\n",
      "           1       0.82      0.67      0.74       369\n",
      "\n",
      "    accuracy                           0.64       485\n",
      "   macro avg       0.58      0.60      0.58       485\n",
      "weighted avg       0.70      0.64      0.66       485\n",
      "\n"
     ]
    }
   ],
   "source": [
    "clf = GaussianNB()\n",
    "train_test(pheme_sparse_scaled, ext_sparse_scaled, pheme_y, ext_y, clf)"
   ]
  },
  {
   "cell_type": "markdown",
   "metadata": {},
   "source": [
    "## SPARSE - PHEME CV"
   ]
  },
  {
   "cell_type": "code",
   "execution_count": 37,
   "metadata": {},
   "outputs": [
    {
     "name": "stdout",
     "output_type": "stream",
     "text": [
      "Accuracy:\t\t 0.47191011235955055\n",
      "Precision Score:\t 0.0\n",
      "Recall Score:\t\t0.0\n",
      "F1 Score:\t\t 0.32061068702290074\n",
      "              precision    recall  f1-score   support\n",
      "\n",
      "           0       0.47      1.00      0.64       420\n",
      "           1       0.00      0.00      0.00       470\n",
      "\n",
      "    accuracy                           0.47       890\n",
      "   macro avg       0.24      0.50      0.32       890\n",
      "weighted avg       0.22      0.47      0.30       890\n",
      "\n"
     ]
    },
    {
     "name": "stderr",
     "output_type": "stream",
     "text": [
      "/Users/june/miniconda3/envs/rosetta/lib/python3.8/site-packages/sklearn/metrics/_classification.py:1245: UndefinedMetricWarning: Precision is ill-defined and being set to 0.0 due to no predicted samples. Use `zero_division` parameter to control this behavior.\n",
      "  _warn_prf(average, modifier, msg_start, len(result))\n",
      "/Users/june/miniconda3/envs/rosetta/lib/python3.8/site-packages/sklearn/metrics/_classification.py:1245: UndefinedMetricWarning: Precision and F-score are ill-defined and being set to 0.0 in labels with no predicted samples. Use `zero_division` parameter to control this behavior.\n",
      "  _warn_prf(average, modifier, msg_start, len(result))\n",
      "/Users/june/miniconda3/envs/rosetta/lib/python3.8/site-packages/sklearn/metrics/_classification.py:1245: UndefinedMetricWarning: Precision and F-score are ill-defined and being set to 0.0 in labels with no predicted samples. Use `zero_division` parameter to control this behavior.\n",
      "  _warn_prf(average, modifier, msg_start, len(result))\n",
      "/Users/june/miniconda3/envs/rosetta/lib/python3.8/site-packages/sklearn/metrics/_classification.py:1245: UndefinedMetricWarning: Precision and F-score are ill-defined and being set to 0.0 in labels with no predicted samples. Use `zero_division` parameter to control this behavior.\n",
      "  _warn_prf(average, modifier, msg_start, len(result))\n"
     ]
    }
   ],
   "source": [
    "X = cv[3][1].drop(['target', 'Event'],axis=1)\n",
    "y = cv[3][1].target\n",
    "val_X = cv[3][0].drop(['target', 'Event'],axis=1)\n",
    "val_y = cv[3][0].target\n",
    "clf = SVC(gamma='auto')\n",
    "train_test(X, val_X, y, val_y, clf)\n",
    "# valid(rhi, rhi_y, clf)"
   ]
  },
  {
   "cell_type": "markdown",
   "metadata": {},
   "source": [
    "# Sparse + W2V"
   ]
  },
  {
   "cell_type": "markdown",
   "metadata": {},
   "source": [
    "## Data"
   ]
  },
  {
   "cell_type": "code",
   "execution_count": 41,
   "metadata": {},
   "outputs": [],
   "source": [
    "scaler = StandardScaler()\n",
    "df = scaler.fit_transform(pheme_sparse.values)\n",
    "sparse_w2v = np.concatenate([df, pheme_AVGw2v.values],axis=1)\n",
    "df = scaler.fit_transform(ext_sparse.values)\n",
    "sparse_w2v_ext = np.concatenate([df, ext_AVGw2v.values],axis=1)"
   ]
  },
  {
   "cell_type": "markdown",
   "metadata": {},
   "source": [
    "## CLF"
   ]
  },
  {
   "cell_type": "code",
   "execution_count": 42,
   "metadata": {},
   "outputs": [
    {
     "name": "stdout",
     "output_type": "stream",
     "text": [
      "Accuracy:\t\t 0.32989690721649484\n",
      "Precision Score:\t 0.9782608695652174\n",
      "Recall Score:\t\t0.12195121951219512\n",
      "F1 Score:\t\t 0.31564094214696625\n",
      "              precision    recall  f1-score   support\n",
      "\n",
      "           0       0.26      0.99      0.41       116\n",
      "           1       0.98      0.12      0.22       369\n",
      "\n",
      "    accuracy                           0.33       485\n",
      "   macro avg       0.62      0.56      0.32       485\n",
      "weighted avg       0.81      0.33      0.26       485\n",
      "\n"
     ]
    }
   ],
   "source": [
    "clf = SVC(gamma='auto')\n",
    "train_test(sparse_w2v, sparse_w2v_ext, pheme_y, ext_y, clf)"
   ]
  },
  {
   "cell_type": "code",
   "execution_count": 45,
   "metadata": {},
   "outputs": [
    {
     "name": "stdout",
     "output_type": "stream",
     "text": [
      "Accuracy:\t\t 0.4\n",
      "Precision Score:\t 0.9148936170212766\n",
      "Recall Score:\t\t0.23306233062330622\n",
      "F1 Score:\t\t 0.3987628918680588\n",
      "              precision    recall  f1-score   support\n",
      "\n",
      "           0       0.28      0.93      0.43       116\n",
      "           1       0.91      0.23      0.37       369\n",
      "\n",
      "    accuracy                           0.40       485\n",
      "   macro avg       0.60      0.58      0.40       485\n",
      "weighted avg       0.76      0.40      0.38       485\n",
      "\n"
     ]
    }
   ],
   "source": [
    "clf = GaussianNB()\n",
    "train_test(sparse_w2v, sparse_w2v_ext, pheme_y, ext_y, clf)"
   ]
  },
  {
   "cell_type": "markdown",
   "metadata": {},
   "source": [
    "# BERT"
   ]
  },
  {
   "cell_type": "markdown",
   "metadata": {},
   "source": [
    "## Data"
   ]
  },
  {
   "cell_type": "code",
   "execution_count": 17,
   "metadata": {},
   "outputs": [
    {
     "data": {
      "text/html": "<div>\n<style scoped>\n    .dataframe tbody tr th:only-of-type {\n        vertical-align: middle;\n    }\n\n    .dataframe tbody tr th {\n        vertical-align: top;\n    }\n\n    .dataframe thead th {\n        text-align: right;\n    }\n</style>\n<table border=\"1\" class=\"dataframe\">\n  <thead>\n    <tr style=\"text-align: right;\">\n      <th></th>\n      <th>BERTEmbed_0</th>\n      <th>BERTEmbed_1</th>\n      <th>BERTEmbed_2</th>\n      <th>BERTEmbed_3</th>\n      <th>BERTEmbed_4</th>\n      <th>BERTEmbed_5</th>\n      <th>BERTEmbed_6</th>\n      <th>BERTEmbed_7</th>\n      <th>BERTEmbed_8</th>\n      <th>BERTEmbed_9</th>\n      <th>...</th>\n      <th>BERTEmbed_758</th>\n      <th>BERTEmbed_759</th>\n      <th>BERTEmbed_760</th>\n      <th>BERTEmbed_761</th>\n      <th>BERTEmbed_762</th>\n      <th>BERTEmbed_763</th>\n      <th>BERTEmbed_764</th>\n      <th>BERTEmbed_765</th>\n      <th>BERTEmbed_766</th>\n      <th>BERTEmbed_767</th>\n    </tr>\n  </thead>\n  <tbody>\n    <tr>\n      <th>0</th>\n      <td>0.299457</td>\n      <td>0.198897</td>\n      <td>-0.491295</td>\n      <td>0.211787</td>\n      <td>0.197080</td>\n      <td>0.234026</td>\n      <td>0.200608</td>\n      <td>-0.096086</td>\n      <td>0.250423</td>\n      <td>0.266876</td>\n      <td>...</td>\n      <td>0.209932</td>\n      <td>-0.166056</td>\n      <td>0.245046</td>\n      <td>-0.580443</td>\n      <td>-0.141690</td>\n      <td>0.222918</td>\n      <td>-0.144328</td>\n      <td>0.048243</td>\n      <td>-0.027414</td>\n      <td>-0.055394</td>\n    </tr>\n    <tr>\n      <th>1</th>\n      <td>0.299628</td>\n      <td>0.207495</td>\n      <td>-0.491100</td>\n      <td>0.207046</td>\n      <td>0.198606</td>\n      <td>0.223802</td>\n      <td>0.201070</td>\n      <td>-0.085390</td>\n      <td>0.272306</td>\n      <td>0.276768</td>\n      <td>...</td>\n      <td>0.227522</td>\n      <td>-0.168281</td>\n      <td>0.246145</td>\n      <td>-0.575933</td>\n      <td>-0.133583</td>\n      <td>0.210461</td>\n      <td>-0.141031</td>\n      <td>0.049042</td>\n      <td>-0.035745</td>\n      <td>-0.065774</td>\n    </tr>\n    <tr>\n      <th>2</th>\n      <td>0.300907</td>\n      <td>0.193260</td>\n      <td>-0.498778</td>\n      <td>0.215972</td>\n      <td>0.193097</td>\n      <td>0.223985</td>\n      <td>0.181815</td>\n      <td>-0.106533</td>\n      <td>0.247362</td>\n      <td>0.262557</td>\n      <td>...</td>\n      <td>0.210722</td>\n      <td>-0.168287</td>\n      <td>0.242233</td>\n      <td>-0.579043</td>\n      <td>-0.142183</td>\n      <td>0.223372</td>\n      <td>-0.142068</td>\n      <td>0.043969</td>\n      <td>-0.031963</td>\n      <td>-0.054336</td>\n    </tr>\n    <tr>\n      <th>3</th>\n      <td>0.294519</td>\n      <td>0.198307</td>\n      <td>-0.492020</td>\n      <td>0.211912</td>\n      <td>0.201571</td>\n      <td>0.225530</td>\n      <td>0.192947</td>\n      <td>-0.100199</td>\n      <td>0.261141</td>\n      <td>0.264648</td>\n      <td>...</td>\n      <td>0.216593</td>\n      <td>-0.163219</td>\n      <td>0.242032</td>\n      <td>-0.586569</td>\n      <td>-0.137623</td>\n      <td>0.219293</td>\n      <td>-0.139870</td>\n      <td>0.039641</td>\n      <td>-0.034909</td>\n      <td>-0.062468</td>\n    </tr>\n    <tr>\n      <th>4</th>\n      <td>0.296625</td>\n      <td>0.196416</td>\n      <td>-0.493361</td>\n      <td>0.214012</td>\n      <td>0.195244</td>\n      <td>0.231359</td>\n      <td>0.194209</td>\n      <td>-0.101270</td>\n      <td>0.252890</td>\n      <td>0.263173</td>\n      <td>...</td>\n      <td>0.211895</td>\n      <td>-0.166441</td>\n      <td>0.237079</td>\n      <td>-0.587006</td>\n      <td>-0.140724</td>\n      <td>0.224566</td>\n      <td>-0.142844</td>\n      <td>0.041942</td>\n      <td>-0.030708</td>\n      <td>-0.056173</td>\n    </tr>\n  </tbody>\n</table>\n<p>5 rows × 768 columns</p>\n</div>",
      "text/plain": "   BERTEmbed_0  BERTEmbed_1  BERTEmbed_2  BERTEmbed_3  BERTEmbed_4  \\\n0     0.299457     0.198897    -0.491295     0.211787     0.197080   \n1     0.299628     0.207495    -0.491100     0.207046     0.198606   \n2     0.300907     0.193260    -0.498778     0.215972     0.193097   \n3     0.294519     0.198307    -0.492020     0.211912     0.201571   \n4     0.296625     0.196416    -0.493361     0.214012     0.195244   \n\n   BERTEmbed_5  BERTEmbed_6  BERTEmbed_7  BERTEmbed_8  BERTEmbed_9  ...  \\\n0     0.234026     0.200608    -0.096086     0.250423     0.266876  ...   \n1     0.223802     0.201070    -0.085390     0.272306     0.276768  ...   \n2     0.223985     0.181815    -0.106533     0.247362     0.262557  ...   \n3     0.225530     0.192947    -0.100199     0.261141     0.264648  ...   \n4     0.231359     0.194209    -0.101270     0.252890     0.263173  ...   \n\n   BERTEmbed_758  BERTEmbed_759  BERTEmbed_760  BERTEmbed_761  BERTEmbed_762  \\\n0       0.209932      -0.166056       0.245046      -0.580443      -0.141690   \n1       0.227522      -0.168281       0.246145      -0.575933      -0.133583   \n2       0.210722      -0.168287       0.242233      -0.579043      -0.142183   \n3       0.216593      -0.163219       0.242032      -0.586569      -0.137623   \n4       0.211895      -0.166441       0.237079      -0.587006      -0.140724   \n\n   BERTEmbed_763  BERTEmbed_764  BERTEmbed_765  BERTEmbed_766  BERTEmbed_767  \n0       0.222918      -0.144328       0.048243      -0.027414      -0.055394  \n1       0.210461      -0.141031       0.049042      -0.035745      -0.065774  \n2       0.223372      -0.142068       0.043969      -0.031963      -0.054336  \n3       0.219293      -0.139870       0.039641      -0.034909      -0.062468  \n4       0.224566      -0.142844       0.041942      -0.030708      -0.056173  \n\n[5 rows x 768 columns]"
     },
     "execution_count": 17,
     "metadata": {},
     "output_type": "execute_result"
    }
   ],
   "source": [
    "# pheme_y.head()\n",
    "pheme_bert.head()"
   ]
  },
  {
   "cell_type": "markdown",
   "metadata": {},
   "source": [
    "## CLF"
   ]
  },
  {
   "cell_type": "code",
   "execution_count": 72,
   "metadata": {},
   "outputs": [
    {
     "name": "stdout",
     "output_type": "stream",
     "text": [
      "Accuracy:\t\t 0.5917525773195876\n",
      "Precision Score:\t 0.7697160883280757\n",
      "Recall Score:\t\t0.6612466124661247\n",
      "F1 Score:\t\t 0.5070935818995606\n",
      "              precision    recall  f1-score   support\n",
      "\n",
      "           0       0.26      0.37      0.30       116\n",
      "           1       0.77      0.66      0.71       369\n",
      "\n",
      "    accuracy                           0.59       485\n",
      "   macro avg       0.51      0.52      0.51       485\n",
      "weighted avg       0.65      0.59      0.61       485\n",
      "\n"
     ]
    }
   ],
   "source": [
    "clf = SVC(gamma='auto')\n",
    "train_test(pheme_bert, ext_bert, pheme_y, ext_y, clf)"
   ]
  },
  {
   "cell_type": "code",
   "execution_count": 83,
   "metadata": {},
   "outputs": [
    {
     "name": "stdout",
     "output_type": "stream",
     "text": [
      "Accuracy:\t\t 0.6268041237113402\n",
      "Precision Score:\t 0.7596685082872928\n",
      "Recall Score:\t\t0.7452574525745257\n",
      "F1 Score:\t\t 0.49753590255796776\n",
      "              precision    recall  f1-score   support\n",
      "\n",
      "           0       0.24      0.25      0.24       116\n",
      "           1       0.76      0.75      0.75       369\n",
      "\n",
      "    accuracy                           0.63       485\n",
      "   macro avg       0.50      0.50      0.50       485\n",
      "weighted avg       0.63      0.63      0.63       485\n",
      "\n"
     ]
    }
   ],
   "source": [
    "clf = GaussianNB()\n",
    "train_test(pheme_bert, ext_bert, pheme_y, ext_y, clf)"
   ]
  },
  {
   "cell_type": "markdown",
   "metadata": {},
   "source": [
    "# W2V"
   ]
  },
  {
   "cell_type": "markdown",
   "metadata": {},
   "source": [
    "## Data"
   ]
  },
  {
   "cell_type": "markdown",
   "metadata": {},
   "source": [
    "## CLF"
   ]
  },
  {
   "cell_type": "code",
   "execution_count": 84,
   "metadata": {},
   "outputs": [
    {
     "name": "stdout",
     "output_type": "stream",
     "text": [
      "Accuracy:\t\t 0.32989690721649484\n",
      "Precision Score:\t 0.9782608695652174\n",
      "Recall Score:\t\t0.12195121951219512\n",
      "F1 Score:\t\t 0.31564094214696625\n",
      "              precision    recall  f1-score   support\n",
      "\n",
      "           0       0.26      0.99      0.41       116\n",
      "           1       0.98      0.12      0.22       369\n",
      "\n",
      "    accuracy                           0.33       485\n",
      "   macro avg       0.62      0.56      0.32       485\n",
      "weighted avg       0.81      0.33      0.26       485\n",
      "\n"
     ]
    }
   ],
   "source": [
    "clf = SVC(gamma='auto')\n",
    "train_test(sparse_w2v, sparse_w2v_ext, pheme_y, ext_y, clf)"
   ]
  },
  {
   "cell_type": "code",
   "execution_count": 85,
   "metadata": {},
   "outputs": [
    {
     "name": "stdout",
     "output_type": "stream",
     "text": [
      "Accuracy:\t\t 0.4\n",
      "Precision Score:\t 0.9148936170212766\n",
      "Recall Score:\t\t0.23306233062330622\n",
      "F1 Score:\t\t 0.3987628918680588\n",
      "              precision    recall  f1-score   support\n",
      "\n",
      "           0       0.28      0.93      0.43       116\n",
      "           1       0.91      0.23      0.37       369\n",
      "\n",
      "    accuracy                           0.40       485\n",
      "   macro avg       0.60      0.58      0.40       485\n",
      "weighted avg       0.76      0.40      0.38       485\n",
      "\n"
     ]
    }
   ],
   "source": [
    "clf = GaussianNB()\n",
    "train_test(sparse_w2v, sparse_w2v_ext, pheme_y, ext_y, clf)"
   ]
  },
  {
   "cell_type": "markdown",
   "metadata": {},
   "source": [
    "# BERT + SPARSE"
   ]
  },
  {
   "cell_type": "markdown",
   "metadata": {},
   "source": [
    "## Data"
   ]
  },
  {
   "cell_type": "code",
   "execution_count": 38,
   "metadata": {},
   "outputs": [],
   "source": [
    "scaler = StandardScaler()\n",
    "df = scaler.fit_transform(pheme_sparse.values)\n",
    "df2 = scaler.fit_transform(pheme_thread.values)\n",
    "sparse_bert = np.concatenate([df, df2, pheme_bert.values],axis=1)\n",
    "df = scaler.fit_transform(ext_sparse.values)\n",
    "df2 = scaler.fit_transform(ext_thread.values)\n",
    "sparse_bert_ext = np.concatenate([df, df2, ext_bert.values],axis=1)"
   ]
  },
  {
   "cell_type": "markdown",
   "metadata": {},
   "source": [
    "## CLF"
   ]
  },
  {
   "cell_type": "code",
   "execution_count": 39,
   "metadata": {},
   "outputs": [
    {
     "name": "stdout",
     "output_type": "stream",
     "text": [
      "Accuracy:\t\t 0.4350515463917526\n",
      "Precision Score:\t 0.8925619834710744\n",
      "Recall Score:\t\t0.2926829268292683\n",
      "F1 Score:\t\t 0.43499149659863945\n",
      "              precision    recall  f1-score   support\n",
      "\n",
      "           0       0.28      0.89      0.43       116\n",
      "           1       0.89      0.29      0.44       369\n",
      "\n",
      "    accuracy                           0.44       485\n",
      "   macro avg       0.59      0.59      0.43       485\n",
      "weighted avg       0.75      0.44      0.44       485\n",
      "\n"
     ]
    }
   ],
   "source": [
    "clf = SVC(gamma='auto')\n",
    "train_test(sparse_bert, sparse_bert_ext, pheme_y, ext_y, clf)"
   ]
  },
  {
   "cell_type": "code",
   "execution_count": 37,
   "metadata": {},
   "outputs": [
    {
     "name": "stdout",
     "output_type": "stream",
     "text": [
      "Accuracy:\t\t 0.6268041237113402\n",
      "Precision Score:\t 0.7596685082872928\n",
      "Recall Score:\t\t0.7452574525745257\n",
      "F1 Score:\t\t 0.49753590255796776\n",
      "              precision    recall  f1-score   support\n",
      "\n",
      "           0       0.24      0.25      0.24       116\n",
      "           1       0.76      0.75      0.75       369\n",
      "\n",
      "    accuracy                           0.63       485\n",
      "   macro avg       0.50      0.50      0.50       485\n",
      "weighted avg       0.63      0.63      0.63       485\n",
      "\n"
     ]
    }
   ],
   "source": [
    "clf = GaussianNB()\n",
    "train_test(sparse_bert, sparse_bert_ext, pheme_y, ext_y, clf)\n",
    "\n",
    "# Accuracy:\t\t 0.6268041237113402\n",
    "# Precision Score:\t 0.7596685082872928\n",
    "# Recall Score:\t\t0.7452574525745257\n",
    "# F1 Score:\t\t 0.49753590255796776"
   ]
  },
  {
   "cell_type": "code",
   "execution_count": 13,
   "metadata": {},
   "outputs": [
    {
     "name": "stdout",
     "output_type": "stream",
     "text": [
      "Accuracy:\t\t 0.6536082474226804\n",
      "Precision Score:\t 0.7570332480818415\n",
      "Recall Score:\t\t0.8021680216802168\n",
      "F1 Score:\t\t 0.48947368421052634\n",
      "              precision    recall  f1-score   support\n",
      "\n",
      "           0       0.22      0.18      0.20       116\n",
      "           1       0.76      0.80      0.78       369\n",
      "\n",
      "    accuracy                           0.65       485\n",
      "   macro avg       0.49      0.49      0.49       485\n",
      "weighted avg       0.63      0.65      0.64       485\n",
      "\n"
     ]
    }
   ],
   "source": [
    "X = scale_concat([pheme_sparse, pheme_bert])\n",
    "X2 = scale_concat([ext_sparse, ext_bert])\n",
    "clf = GaussianNB()\n",
    "train_test(X, sparse_bert_ext, pheme_y, ext_y, clf)"
   ]
  },
  {
   "cell_type": "code",
   "execution_count": 35,
   "metadata": {},
   "outputs": [
    {
     "name": "stdout",
     "output_type": "stream",
     "text": [
      "Accuracy:\t\t 0.5051546391752577\n",
      "Precision Score:\t 0.8028169014084507\n",
      "Recall Score:\t\t0.4634146341463415\n",
      "F1 Score:\t\t 0.4845360824742268\n",
      "              precision    recall  f1-score   support\n",
      "\n",
      "           0       0.27      0.64      0.38       116\n",
      "           1       0.80      0.46      0.59       369\n",
      "\n",
      "    accuracy                           0.51       485\n",
      "   macro avg       0.54      0.55      0.48       485\n",
      "weighted avg       0.68      0.51      0.54       485\n",
      "\n"
     ]
    }
   ],
   "source": [
    "X = scale_concat([pheme_sparse, pheme_bert, pheme_thread])\n",
    "X2 = scale_concat([ext_sparse, ext_bert, ext_thread])\n",
    "clf = SVC()\n",
    "train_test(X, X2, pheme_y, ext_y, clf)"
   ]
  }
 ],
 "metadata": {
  "kernelspec": {
   "display_name": "rosetta",
   "language": "python",
   "name": "rosetta"
  },
  "language_info": {
   "codemirror_mode": {
    "name": "ipython",
    "version": 3
   },
   "file_extension": ".py",
   "mimetype": "text/x-python",
   "name": "python",
   "nbconvert_exporter": "python",
   "pygments_lexer": "ipython3",
   "version": "3.8.8"
  },
  "orig_nbformat": 2
 },
 "nbformat": 4,
 "nbformat_minor": 2
}