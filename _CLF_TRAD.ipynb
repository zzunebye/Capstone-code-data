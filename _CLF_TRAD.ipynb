{
 "cells": [
  {
   "cell_type": "markdown",
   "metadata": {},
   "source": [
    "# Functions / Libraries"
   ]
  },
  {
   "cell_type": "code",
   "execution_count": 2,
   "metadata": {},
   "outputs": [],
   "source": [
    "import os\n",
    "import re\n",
    "from tqdm import tqdm\n",
    "import numpy as np\n",
    "import pandas as pd\n",
    "import matplotlib.pyplot as plt\n",
    "%matplotlib inline\n",
    "import random\n",
    "\n",
    "from sklearn.pipeline import make_pipeline\n",
    "from sklearn.preprocessing import StandardScaler\n",
    "from sklearn.preprocessing import MinMaxScaler\n",
    "from sklearn.svm import SVC\n",
    "from sklearn.svm import LinearSVC\n",
    "\n",
    "\n",
    "from sklearn.model_selection import cross_val_score\n",
    "from sklearn.metrics import accuracy_score, recall_score, precision_score, f1_score\n",
    "from sklearn.metrics import classification_report\n",
    "\n",
    "from sklearn.naive_bayes import GaussianNB\n",
    "\n",
    "from sklearn.ensemble import RandomForestClassifier\n",
    "from sklearn.ensemble import AdaBoostClassifier\n",
    "from sklearn.linear_model import LogisticRegression\n",
    "from sklearn.model_selection import RandomizedSearchCV, GridSearchCV\n",
    "from sklearn.ensemble import GradientBoostingClassifier"
   ]
  },
  {
   "cell_type": "code",
   "execution_count": 3,
   "metadata": {},
   "outputs": [],
   "source": [
    "from fetchData import fetchdata "
   ]
  },
  {
   "cell_type": "code",
   "execution_count": 4,
   "metadata": {},
   "outputs": [],
   "source": [
    "def train_test(X_train, X_test, y_train, y_test, clf):\n",
    "    clf.fit(X_train, y_train)\n",
    "    result = clf.predict(X_test)\n",
    "    print(\"Accuracy:\\t\\t\",accuracy_score(y_test,result))\n",
    "    print('Precision Score:\\t', str(precision_score(y_test,result)))\n",
    "    print('Recall Score:\\t\\t' + str(recall_score(y_test,result)))\n",
    "    print(\"F1 Score:\\t\\t\",f1_score(y_test, result, average='macro', zero_division=True))\n",
    "    print(classification_report(y_test, result))\n",
    "    \n",
    "\n",
    "def valid(X_valid, y_valid, clf):\n",
    "    clf.fit\n",
    "    result = clf.predict(X_valid)\n",
    "    print(\"Accuracy:\",accuracy_score(result,y_valid))\n",
    "    print(classification_report(y_valid, result))\n",
    "\n",
    "def cv_events(data):\n",
    "    NUM_EVENT = data.Event.unique().shape[0]\n",
    "    EVENTS = data.Event.unique()\n",
    "\n",
    "    cv_pd_list = []\n",
    "    for i, d in enumerate(EVENTS):\n",
    "        df1, df2 = [x for _, x in data.groupby(data['Event'] != d)]\n",
    "        df1.reset_index(inplace=True, drop=True)\n",
    "        df2.reset_index(inplace=True, drop=True)\n",
    "        cv_pd_list.append([df1, df2])\n",
    "    return cv_pd_list\n",
    "\n",
    "def algorithm_pipeline(X_train_data, X_test_data, y_train_data, y_test_data, \n",
    "                       model, param_grid, cv=10, scoring_fit='neg_mean_squared_error',\n",
    "                       do_probabilities = False):\n",
    "    gs = GridSearchCV(\n",
    "        estimator=model,\n",
    "        param_grid=param_grid, \n",
    "        cv=cv, \n",
    "        n_jobs=-1, \n",
    "        scoring=scoring_fit,\n",
    "        verbose=2\n",
    "    )\n",
    "    fitted_model = gs.fit(X_train_data, y_train_data)\n",
    "    \n",
    "    if do_probabilities:\n",
    "      pred = fitted_model.predict_proba(X_test_data)\n",
    "    else:\n",
    "      pred = fitted_model.predict(X_test_data)\n",
    "    \n",
    "    return fitted_model, pred"
   ]
  },
  {
   "cell_type": "code",
   "execution_count": 5,
   "metadata": {},
   "outputs": [],
   "source": [
    "def scale_concat(data_list):\n",
    "    scaler = StandardScaler()\n",
    "    df = scaler.fit_transform(pd.concat(data_list, axis=1))\n",
    "    return df"
   ]
  },
  {
   "cell_type": "markdown",
   "metadata": {},
   "source": [
    "# Data"
   ]
  },
  {
   "cell_type": "code",
   "execution_count": 26,
   "metadata": {},
   "outputs": [],
   "source": [
    "# Final\n",
    "pheme_sparse_final = pd.read_csv('./data/_PHEME_sparse.csv')\n",
    "pheme_y = pd.read_csv('./data/_PHEME_target.csv').target\n",
    "pheme_pos_final = pd.read_csv('./data/_PHEME_postags.csv')\n",
    "pheme_thread_final_avg = pd.read_csv('./data/_PHEME_thread_avg.csv')\n",
    "pheme_thread_final_std = pd.read_csv('./data/_PHEME_thread_std.csv')\n",
    "\n",
    "ext_pos_final = pd.read_csv('./data/_PHEMEext_postags.csv')\n",
    "ext_sparse_final = pd.read_csv('./data/_PHEMEext_sparse.csv')\n",
    "ext_y = pd.read_csv('./data/_PHEMEext_text.csv').target\n",
    "ext_thread_final_avg = pd.read_csv('./data/_PHEMEext_thread_avg.csv')\n",
    "ext_thread_final_std = pd.read_csv('./data/_PHEMEext_thread_std.csv')\n",
    "\n",
    "pheme_bert_simple_normal = pd.read_csv('./data/_PHEME_Bert_final_simple_nrmzd.csv')\n",
    "ext_bert_simple_normal = pd.read_csv('./data/_PHEMEext_Bert_final_simple_nrmzd.csv')\n",
    "\n",
    "pheme_bert_brackets_normal = pd.read_csv('./data/_PHEME_Bert_final_brackets_nrmzd.csv')\n",
    "ext_bert_brackets_normal = pd.read_csv('./data/_PHEMEext_Bert_final_brackets_nrmzd.csv')\n",
    "\n",
    "pheme_event = pd.read_csv('./data/_PHEME_text.csv')['Event']\n",
    "ext_event = pd.read_csv('./data/_PHEMEext_text.csv').Event\n",
    "pheme_AVGw2v = pd.read_csv('./data/_PHEME_text_AVGw2v_final.csv')\n",
    "ext_AVGw2v = pd.read_csv('./data/_PHEMEext_text_AVGw2v_final.csv')\n"
   ]
  },
  {
   "cell_type": "code",
   "execution_count": 27,
   "metadata": {},
   "outputs": [],
   "source": [
    "pheme_root = pd.concat([pheme_sparse_final, pheme_pos_final],axis=1)\n",
    "ext_root = pd.concat([ext_sparse_final, ext_pos_final],axis=1)\n",
    "\n",
    "pheme_root_thread = pd.concat([pheme_root, pheme_thread_final_avg],axis=1)\n",
    "ext_root_thread = pd.concat([ext_root, ext_thread_final_avg],axis=1)\n",
    "\n",
    "pheme_total_bert= pd.concat([pheme_root_thread, pheme_bert_simple_normal],axis=1)\n",
    "ext_total_bert = pd.concat([ext_root_thread, ext_bert_simple_normal],axis=1)\n",
    "pheme_total_w2v= pd.concat([pheme_root_thread, pheme_AVGw2v],axis=1)\n",
    "ext_total_w2v = pd.concat([ext_root_thread, ext_AVGw2v],axis=1)\n",
    "\n",
    "\n",
    "\n",
    "pheme_w2v_bert = pd.concat([pheme_AVGw2v, pheme_bert_simple_normal],axis=1)\n",
    "ext_w2v_bert = pd.concat([ext_AVGw2v, ext_bert_simple_normal],axis=1)"
   ]
  },
  {
   "cell_type": "code",
   "execution_count": 28,
   "metadata": {},
   "outputs": [],
   "source": [
    "all_event = pd.concat([pheme_event,ext_event],axis=0, ignore_index=True)\n",
    "all_y = pd.concat([pheme_y,ext_y],axis=0, ignore_index=True)\n",
    "\n",
    "all_root = pd.concat([pheme_root, ext_root],axis=0, ignore_index=True)\n",
    "all_thread = pd.concat([pheme_thread_final_avg, ext_thread_final_avg],axis=0, ignore_index=True)\n",
    "all_bert_simple = pd.concat([pheme_bert_simple_normal,ext_bert_simple_normal],axis=0,ignore_index=True)\n",
    "all_AVGw2v = pd.concat([pheme_AVGw2v,ext_AVGw2v],axis=0,ignore_index=True)\n",
    "all_w2v_bert = pd.concat([pheme_w2v_bert,ext_w2v_bert],axis=0,ignore_index=True)\n",
    "all_root_thread = pd.concat([pheme_root_thread,ext_root_thread],axis=0,ignore_index=True)\n",
    "all_total_bert = pd.concat([pheme_total_bert,ext_total_bert],axis=0,ignore_index=True)\n",
    "all_total_w2v = pd.concat([pheme_total_w2v,ext_total_w2v],axis=0,ignore_index=True)"
   ]
  },
  {
   "cell_type": "code",
   "execution_count": 25,
   "metadata": {},
   "outputs": [
    {
     "data": {
      "text/plain": "(6425, 301)"
     },
     "execution_count": 25,
     "metadata": {},
     "output_type": "execute_result"
    }
   ],
   "source": [
    "all_total_w2v.shape"
   ]
  },
  {
   "cell_type": "code",
   "execution_count": 10,
   "metadata": {},
   "outputs": [],
   "source": [
    "# cv = cv_events(pd.concat([pheme_sparse, pheme_event], axis=1))\n",
    "# cv = cv_events(pd.concat([pheme_sparse, pheme_y, pheme_event],axis=1))"
   ]
  },
  {
   "cell_type": "markdown",
   "metadata": {},
   "source": [
    "# Functions"
   ]
  },
  {
   "cell_type": "code",
   "execution_count": 9,
   "metadata": {},
   "outputs": [],
   "source": [
    "def set_seed(seed_value=42):\n",
    "    \"\"\"Set seed for reproducibility.\n",
    "    \"\"\"\n",
    "    random.seed(seed_value)\n",
    "    np.random.seed(seed_value)\n",
    "\n",
    "np.random.seed(42)\n",
    "random.seed(42)\n",
    "\n",
    "seed = 42"
   ]
  },
  {
   "cell_type": "code",
   "execution_count": 14,
   "metadata": {},
   "outputs": [],
   "source": [
    "def process_cv(dataset, events=pheme_event, target=pheme_y, verbose=True):\n",
    "    cv_pd_list = []\n",
    "    data = pd.concat([dataset, pheme_event, pheme_y], axis=1)\n",
    "    NUM_EVENT = data.Event.unique().shape[0]\n",
    "    EVENTS = data.Event.unique()\n",
    "    results = {}\n",
    "\n",
    "    for i, d in enumerate(EVENTS):\n",
    "        df1, df2 = [x for _, x in data.groupby(data['Event'] != d)]\n",
    "        df1.reset_index(inplace=True, drop=True)\n",
    "        df2.reset_index(inplace=True, drop=True)\n",
    "        cv_pd_list.append([df2, df1])\n",
    "    for index, fold in enumerate(cv_pd_list):\n",
    "        train, test = fold\n",
    "        print(\"FOLD %d\\n----------------------------------------------------------------------------\" % (int(index)+1))\n",
    "        train_target = train.pop('target')\n",
    "        train.pop('Event')\n",
    "        test_target = test.pop('target')\n",
    "        test.pop('Event')\n"
   ]
  },
  {
   "cell_type": "code",
   "execution_count": 29,
   "metadata": {},
   "outputs": [
    {
     "data": {
      "text/plain": "(623, 301)"
     },
     "execution_count": 29,
     "metadata": {},
     "output_type": "execute_result"
    }
   ],
   "source": [
    "ext_total_w2v.shape"
   ]
  },
  {
   "cell_type": "code",
   "execution_count": 77,
   "metadata": {},
   "outputs": [],
   "source": [
    "def cv_process(dataset, clfClass, target, events, verbose=True, scaling=False):\n",
    "\n",
    "    # cv_pd_list[?][0]은 Training cv_pd_list[?][1] Testing\n",
    "    cv_pd_list = []\n",
    "    data = pd.concat([dataset, events, target], axis=1)\n",
    "    NUM_EVENT = data.Event.unique().shape[0]\n",
    "    EVENTS = data.Event.unique()\n",
    "    results = {}\n",
    "    # modelClass.__class__\n",
    "\n",
    "    for i, d in enumerate(EVENTS):\n",
    "        df1, df2 = [x for _, x in data.groupby(data['Event'] != d)]\n",
    "        df1.reset_index(inplace=True, drop=True)\n",
    "        df2.reset_index(inplace=True, drop=True)\n",
    "        cv_pd_list.append([df2, df1])\n",
    "    \n",
    "    # for train, test in cv_pd_list:\n",
    "    #     print(\"Train: %s \\ Test: %s\" % (train.shape, test.shape))\n",
    "\n",
    "    # log = writeLog()\n",
    "    modelname = clfClass.__name__\n",
    "    PREFIX = \"./Model/\"+modelname+\"_\"\n",
    "    # log.write(PREFIX+\"log.txt\",f\"\\nSTARTING TEST of {epochs} EPOCH\\n\")\n",
    "\n",
    "    for index, fold in enumerate(cv_pd_list):\n",
    "\n",
    "        # DATA PREPARATION\n",
    "        train, test = fold\n",
    "        # log.writeWithoutCR(PREFIX+\"log.txt\",f\"\\n----------------------------------------------------------------------------\\n> FOLD {int(index)+1}\\n----------------------------------------------------------------------------\")\n",
    "        print(f'> FOLD {int(index)+1}')\n",
    "        train_target = train.pop('target')\n",
    "        train.pop('Event').values\n",
    "        test_target = test.pop('target')\n",
    "        test.pop('Event')\n",
    "\n",
    "        if scaling==True:\n",
    "            scaler = StandardScaler()\n",
    "            train = pd.DataFrame(scaler.fit_transform(train))\n",
    "            test = pd.DataFrame(scaler.transform(test))\n",
    "\n",
    "        train_size = int(train.shape[0])\n",
    "        test_size = int(test.shape[0])\n",
    "\n",
    "        model = clfClass()\n",
    "\n",
    "        if verbose==True:\n",
    "                # print(\"mean: %s, std: %s\" % (data[0].mean(), data[0].std()))\n",
    "                print(\"Train Size\",train_size,\"Test Size\",test_size)\n",
    "\n",
    "        model.fit(train, train_target)\n",
    "        result = model.predict(test)\n",
    "\n",
    "        acc = accuracy_score(test_target,result)\n",
    "        f1 = f1_score(test_target,result, average='macro')\n",
    "        if verbose==True:\n",
    "            print(\"Accuracy:\\t\\t\",acc)\n",
    "            print('Precision Score:\\t', str(precision_score(test_target,result)))\n",
    "            print('Recall Score:\\t\\t' + str(recall_score(test_target,result)))\n",
    "            print(\"F1 Score:\\t\\t\",f1)\n",
    "        # print(classification_report(test_target,result)\n",
    "\n",
    "        results[index] = [acc*100, f1*100,train_size, test_size]\n",
    "\n",
    "    return results"
   ]
  },
  {
   "cell_type": "markdown",
   "metadata": {},
   "source": [
    "# Batch"
   ]
  },
  {
   "cell_type": "code",
   "execution_count": 52,
   "metadata": {},
   "outputs": [],
   "source": [
    "result_list = []\n",
    "result_mean_list = []"
   ]
  },
  {
   "cell_type": "code",
   "execution_count": 53,
   "metadata": {},
   "outputs": [],
   "source": [
    "from sklearn.naive_bayes import GaussianNB\n",
    "\n",
    "from sklearn.ensemble import RandomForestClassifier\n",
    "from sklearn.ensemble import AdaBoostClassifier\n",
    "from sklearn.linear_model import LogisticRegression"
   ]
  },
  {
   "cell_type": "code",
   "execution_count": 119,
   "metadata": {},
   "outputs": [
    {
     "name": "stdout",
     "output_type": "stream",
     "text": [
      "> FOLD 1\n",
      "Train Size 4346 Test Size 2079\n",
      "Accuracy:\t\t 0.7229437229437229\n",
      "Precision Score:\t 0.4206989247311828\n",
      "Recall Score:\t\t0.6834061135371179\n",
      "F1 Score:\t\t 0.6629703763911748\n",
      "> FOLD 2\n",
      "Train Size 5282 Test Size 1143\n",
      "Accuracy:\t\t 0.710411198600175\n",
      "Precision Score:\t 0.3769633507853403\n",
      "Recall Score:\t\t0.2535211267605634\n",
      "F1 Score:\t\t 0.5601929727687522\n",
      "> FOLD 3\n",
      "Train Size 5956 Test Size 469\n",
      "Accuracy:\t\t 0.6460554371002132\n",
      "Precision Score:\t 0.7068965517241379\n",
      "Recall Score:\t\t0.5168067226890757\n",
      "F1 Score:\t\t 0.6407490125143047\n",
      "> FOLD 4\n",
      "Train Size 5535 Test Size 890\n",
      "Accuracy:\t\t 0.6348314606741573\n",
      "Precision Score:\t 0.7821011673151751\n",
      "Recall Score:\t\t0.4276595744680851\n",
      "F1 Score:\t\t 0.6221576918504934\n",
      "> FOLD 5\n",
      "Train Size 5204 Test Size 1221\n",
      "Accuracy:\t\t 0.6764946764946765\n",
      "Precision Score:\t 0.673972602739726\n",
      "Recall Score:\t\t0.47126436781609193\n",
      "F1 Score:\t\t 0.650329699808234\n",
      "> FOLD 6\n",
      "Train Size 6411 Test Size 14\n",
      "Accuracy:\t\t 0.35714285714285715\n",
      "Precision Score:\t 1.0\n",
      "Recall Score:\t\t0.35714285714285715\n",
      "F1 Score:\t\t 0.2631578947368421\n",
      "> FOLD 7\n",
      "Train Size 6192 Test Size 233\n",
      "Accuracy:\t\t 0.23605150214592274\n",
      "Precision Score:\t 0.9636363636363636\n",
      "Recall Score:\t\t0.2314410480349345\n",
      "F1 Score:\t\t 0.19760872929887013\n",
      "> FOLD 8\n",
      "Train Size 6187 Test Size 238\n",
      "Accuracy:\t\t 0.5756302521008403\n",
      "Precision Score:\t 0.6712328767123288\n",
      "Recall Score:\t\t0.3888888888888889\n",
      "F1 Score:\t\t 0.5639206864648151\n",
      "> FOLD 9\n",
      "Train Size 6287 Test Size 138\n",
      "Accuracy:\t\t 0.5289855072463768\n",
      "Precision Score:\t 0.4696969696969697\n",
      "Recall Score:\t\t0.5081967213114754\n",
      "F1 Score:\t\t 0.5259736828198489\n"
     ]
    }
   ],
   "source": [
    "# ---------------------------------------------------------------------------- #\n",
    "#                                  ROOT + POS                                  #\n",
    "# ---------------------------------------------------------------------------- #\n",
    "\n",
    "dataset = all_root\n",
    "model = SVC\n",
    "\n",
    "testing_results = []\n",
    "\n",
    "result = cv_process(dataset, clfClass=model, events=all_event, target=all_y, verbose=True, scaling=True)\n",
    "testing_results.append(result)\n",
    "\n",
    "# writeLog().writeWithoutCR(\"./Model/\"+root_model.__name__+\"_\"+\"log.txt\",f\"RESULT:\\n{epochs_diff(testing_results)}\")\n",
    "result_df = pd.DataFrame.from_dict(testing_results[0], orient='index', columns=['Acc', 'F1', 'Train_size','Test_size'])\n",
    "result_df['Features'] = 'RP'\n",
    "result_df['CV'] = 9\n",
    "result_df['CLF'] = model.__name__\n",
    "\n",
    "result_list.append(result_df)\n",
    "CV_result_df = pd.DataFrame(result_df[['Acc','F1', 'CV']].mean(), columns=[result_df.Features[0]]).T\n",
    "CV_result_df['CLF'] = result_df['CLF'][0]\n",
    "result_mean_list.append(CV_result_df)\n",
    "\n",
    "testing_results = []\n"
   ]
  },
  {
   "cell_type": "code",
   "execution_count": 154,
   "metadata": {},
   "outputs": [
    {
     "name": "stdout",
     "output_type": "stream",
     "text": [
      "> FOLD 1\n",
      "> FOLD 2\n",
      "> FOLD 3\n",
      "> FOLD 4\n",
      "> FOLD 5\n",
      "> FOLD 6\n",
      "> FOLD 7\n",
      "> FOLD 8\n",
      "> FOLD 9\n"
     ]
    }
   ],
   "source": [
    "# ---------------------------------------------------------------------------- #\n",
    "#                                  Thread                                  #\n",
    "# ---------------------------------------------------------------------------- #\n",
    "\n",
    "dataset = all_thread\n",
    "model = SVC\n",
    "\n",
    "testing_results = []\n",
    "\n",
    "result = cv_process(dataset, clfClass=model, events=all_event, target=all_y, verbose=False, scaling=True)\n",
    "testing_results.append(result)\n",
    "\n",
    "# writeLog().writeWithoutCR(\"./Model/\"+root_model.__name__+\"_\"+\"log.txt\",f\"RESULT:\\n{epochs_diff(testing_results)}\")\n",
    "result_df = pd.DataFrame.from_dict(testing_results[0], orient='index', columns=['Acc', 'F1', 'Train_size','Test_size'])\n",
    "result_df['Features'] = 'Thread'\n",
    "result_df['CV'] = 9\n",
    "result_df['CLF'] = model.__name__\n",
    "\n",
    "result_list.append(result_df)\n",
    "CV_result_df = pd.DataFrame(result_df[['Acc','F1', 'CV']].mean(), columns=[result_df.Features[0]]).T\n",
    "CV_result_df['CLF'] = result_df['CLF'][0]\n",
    "result_mean_list.append(CV_result_df)\n",
    "\n",
    "testing_results = []\n"
   ]
  },
  {
   "cell_type": "code",
   "execution_count": 153,
   "metadata": {},
   "outputs": [
    {
     "name": "stdout",
     "output_type": "stream",
     "text": [
      "> FOLD 1\n",
      "Train Size 4346 Test Size 2079\n",
      "Accuracy:\t\t 0.8258778258778259\n",
      "Precision Score:\t 0.5845070422535211\n",
      "Recall Score:\t\t0.7248908296943232\n",
      "F1 Score:\t\t 0.7657961954695167\n",
      "> FOLD 2\n",
      "Train Size 5282 Test Size 1143\n",
      "Accuracy:\t\t 0.7725284339457568\n",
      "Precision Score:\t 0.58\n",
      "Recall Score:\t\t0.30633802816901406\n",
      "F1 Score:\t\t 0.6302664450438434\n",
      "> FOLD 3\n",
      "Train Size 5956 Test Size 469\n",
      "Accuracy:\t\t 0.6886993603411514\n",
      "Precision Score:\t 0.7446808510638298\n",
      "Recall Score:\t\t0.5882352941176471\n",
      "F1 Score:\t\t 0.6860603726525822\n",
      "> FOLD 4\n",
      "Train Size 5535 Test Size 890\n",
      "Accuracy:\t\t 0.648314606741573\n",
      "Precision Score:\t 0.8284518828451883\n",
      "Recall Score:\t\t0.42127659574468085\n",
      "F1 Score:\t\t 0.6331414559241655\n",
      "> FOLD 5\n",
      "Train Size 5204 Test Size 1221\n",
      "Accuracy:\t\t 0.6764946764946765\n",
      "Precision Score:\t 0.7797356828193832\n",
      "Recall Score:\t\t0.3390804597701149\n",
      "F1 Score:\t\t 0.6196582645732802\n",
      "> FOLD 6\n",
      "Train Size 6411 Test Size 14\n",
      "Accuracy:\t\t 0.5714285714285714\n",
      "Precision Score:\t 1.0\n",
      "Recall Score:\t\t0.5714285714285714\n",
      "F1 Score:\t\t 0.36363636363636365\n",
      "> FOLD 7\n",
      "Train Size 6192 Test Size 233\n",
      "Accuracy:\t\t 0.06437768240343347\n",
      "Precision Score:\t 1.0\n",
      "Recall Score:\t\t0.048034934497816595\n",
      "F1 Score:\t\t 0.06353244837758112\n",
      "> FOLD 8\n",
      "Train Size 6187 Test Size 238\n",
      "Accuracy:\t\t 0.5336134453781513\n",
      "Precision Score:\t 0.8\n",
      "Recall Score:\t\t0.15873015873015872\n",
      "F1 Score:\t\t 0.46168110035659704\n",
      "> FOLD 9\n",
      "Train Size 6287 Test Size 138\n",
      "Accuracy:\t\t 0.572463768115942\n",
      "Precision Score:\t 0.5555555555555556\n",
      "Recall Score:\t\t0.16393442622950818\n",
      "F1 Score:\t\t 0.47683608558761165\n"
     ]
    }
   ],
   "source": [
    "# ---------------------------------------------------------------------------- #\n",
    "#                                  w2v                                  #\n",
    "# ---------------------------------------------------------------------------- #\n",
    "\n",
    "dataset = all_AVGw2v\n",
    "model = SVC\n",
    "\n",
    "testing_results = []\n",
    "\n",
    "result = cv_process(dataset, clfClass=model, events=all_event, target=all_y, verbose=False, scaling=True)\n",
    "testing_results.append(result)\n",
    "\n",
    "# writeLog().writeWithoutCR(\"./Model/\"+root_model.__name__+\"_\"+\"log.txt\",f\"RESULT:\\n{epochs_diff(testing_results)}\")\n",
    "result_df = pd.DataFrame.from_dict(testing_results[0], orient='index', columns=['Acc', 'F1', 'Train_size','Test_size'])\n",
    "result_df['Features'] = 'W2V'\n",
    "result_df['CV'] = 9\n",
    "result_df['CLF'] = model.__name__\n",
    "\n",
    "result_list.append(result_df)\n",
    "CV_result_df = pd.DataFrame(result_df[['Acc','F1', 'CV']].mean(), columns=[result_df.Features[0]]).T\n",
    "CV_result_df['CLF'] = result_df['CLF'][0]\n",
    "result_mean_list.append(CV_result_df)\n",
    "\n",
    "testing_results = []\n"
   ]
  },
  {
   "cell_type": "code",
   "execution_count": 123,
   "metadata": {},
   "outputs": [
    {
     "name": "stdout",
     "output_type": "stream",
     "text": [
      "> FOLD 1\n",
      "> FOLD 2\n",
      "> FOLD 3\n",
      "> FOLD 4\n",
      "> FOLD 5\n",
      "> FOLD 6\n",
      "> FOLD 7\n",
      "> FOLD 8\n",
      "> FOLD 9\n"
     ]
    }
   ],
   "source": [
    "# ---------------------------------------------------------------------------- #\n",
    "#                                  BERT                                  #\n",
    "# ---------------------------------------------------------------------------- #\n",
    "\n",
    "dataset = all_bert_simple\n",
    "model = SVC\n",
    "testing_results = []\n",
    "\n",
    "result = cv_process(dataset, clfClass=model, events=all_event, target=all_y, verbose=False, scaling=True)\n",
    "testing_results.append(result)\n",
    "\n",
    "# writeLog().writeWithoutCR(\"./Model/\"+root_model.__name__+\"_\"+\"log.txt\",f\"RESULT:\\n{epochs_diff(testing_results)}\")\n",
    "result_df = pd.DataFrame.from_dict(testing_results[0], orient='index', columns=['Acc', 'F1', 'Train_size','Test_size'])\n",
    "result_df['Features'] = 'BERT'\n",
    "result_df['CV'] = 9\n",
    "result_df['CLF'] = model.__name__\n",
    "\n",
    "result_list.append(result_df)\n",
    "CV_result_df = pd.DataFrame(result_df[['Acc','F1', 'CV']].mean(), columns=[result_df.Features[0]]).T\n",
    "CV_result_df['CLF'] = result_df['CLF'][0]\n",
    "result_mean_list.append(CV_result_df)\n",
    "\n",
    "testing_results = []\n"
   ]
  },
  {
   "cell_type": "code",
   "execution_count": 104,
   "metadata": {},
   "outputs": [
    {
     "name": "stdout",
     "output_type": "stream",
     "text": [
      "> FOLD 1\n",
      "Train Size 4346 Test Size 2079\n",
      "Accuracy:\t\t 0.5377585377585378\n",
      "Precision Score:\t 0.30579150579150577\n",
      "Recall Score:\t\t0.8646288209606987\n",
      "F1 Score:\t\t 0.526106359991129\n",
      "> FOLD 2\n",
      "Train Size 5282 Test Size 1143\n",
      "Accuracy:\t\t 0.5660542432195975\n",
      "Precision Score:\t 0.24519230769230768\n",
      "Recall Score:\t\t0.3591549295774648\n",
      "F1 Score:\t\t 0.4893460637722933\n",
      "> FOLD 3\n",
      "Train Size 5956 Test Size 469\n",
      "Accuracy:\t\t 0.5181236673773987\n",
      "Precision Score:\t 0.5165745856353591\n",
      "Recall Score:\t\t0.7857142857142857\n",
      "F1 Score:\t\t 0.47734714003944767\n",
      "> FOLD 4\n",
      "Train Size 5535 Test Size 890\n",
      "Accuracy:\t\t 0.6404494382022472\n",
      "Precision Score:\t 0.6306620209059234\n",
      "Recall Score:\t\t0.7702127659574468\n",
      "F1 Score:\t\t 0.629351990671331\n",
      "> FOLD 5\n",
      "Train Size 5204 Test Size 1221\n",
      "Accuracy:\t\t 0.5773955773955773\n",
      "Precision Score:\t 0.5033557046979866\n",
      "Recall Score:\t\t0.8620689655172413\n",
      "F1 Score:\t\t 0.566334621865398\n",
      "> FOLD 6\n",
      "Train Size 6411 Test Size 14\n",
      "Accuracy:\t\t 0.8571428571428571\n",
      "Precision Score:\t 1.0\n",
      "Recall Score:\t\t0.8571428571428571\n",
      "F1 Score:\t\t 0.4615384615384615\n",
      "> FOLD 7\n",
      "Train Size 6192 Test Size 233\n",
      "Accuracy:\t\t 0.6394849785407726\n",
      "Precision Score:\t 0.9801324503311258\n",
      "Recall Score:\t\t0.6462882096069869\n",
      "F1 Score:\t\t 0.40110159118727057\n",
      "> FOLD 8\n",
      "Train Size 6187 Test Size 238\n",
      "Accuracy:\t\t 0.5630252100840336\n",
      "Precision Score:\t 0.5567010309278351\n",
      "Recall Score:\t\t0.8571428571428571\n",
      "F1 Score:\t\t 0.5041666666666668\n",
      "> FOLD 9\n",
      "Train Size 6287 Test Size 138\n",
      "Accuracy:\t\t 0.427536231884058\n",
      "Precision Score:\t 0.4338235294117647\n",
      "Recall Score:\t\t0.9672131147540983\n",
      "F1 Score:\t\t 0.29949238578680204\n"
     ]
    }
   ],
   "source": [
    "# ---------------------------------------------------------------------------- #\n",
    "#                                  ROOT + POS + Thread                                  #\n",
    "# ---------------------------------------------------------------------------- #\n",
    "\n",
    "dataset = all_root_thread\n",
    "model = GaussianNB\n",
    "\n",
    "\n",
    "testing_results = []\n",
    "\n",
    "result = cv_process(dataset, clfClass=model, events=all_event, target=all_y, verbose=False, scaling=True)\n",
    "testing_results.append(result)\n",
    "\n",
    "# writeLog().writeWithoutCR(\"./Model/\"+root_model.__name__+\"_\"+\"log.txt\",f\"RESULT:\\n{epochs_diff(testing_results)}\")\n",
    "result_df = pd.DataFrame.from_dict(testing_results[0], orient='index', columns=['Acc', 'F1', 'Train_size','Test_size'])\n",
    "result_df['Features'] = 'RPT'\n",
    "result_df['CV'] = 9\n",
    "result_df['CLF'] = model.__name__\n",
    "\n",
    "result_list.append(result_df)\n",
    "CV_result_df = pd.DataFrame(result_df[['Acc','F1', 'CV']].mean(), columns=[result_df.Features[0]]).T\n",
    "CV_result_df['CLF'] = result_df['CLF'][0]\n",
    "result_mean_list.append(CV_result_df)\n",
    "\n",
    "testing_results = []\n"
   ]
  },
  {
   "cell_type": "code",
   "execution_count": 129,
   "metadata": {},
   "outputs": [
    {
     "name": "stdout",
     "output_type": "stream",
     "text": [
      "> FOLD 1\n",
      "> FOLD 2\n",
      "> FOLD 3\n",
      "> FOLD 4\n",
      "> FOLD 5\n",
      "> FOLD 6\n",
      "> FOLD 7\n",
      "> FOLD 8\n",
      "> FOLD 9\n"
     ]
    }
   ],
   "source": [
    "# ---------------------------------------------------------------------------- #\n",
    "#                                 W2V + RPT                                 #\n",
    "# ---------------------------------------------------------------------------- #\n",
    "\n",
    "dataset = all_total_w2v\n",
    "model = SVC\n",
    "\n",
    "testing_results = []\n",
    "\n",
    "result = cv_process(dataset, clfClass=model, events=all_event, target=all_y, verbose=False, scaling=True)\n",
    "testing_results.append(result)\n",
    "\n",
    "# writeLog().writeWithoutCR(\"./Model/\"+root_model.__name__+\"_\"+\"log.txt\",f\"RESULT:\\n{epochs_diff(testing_results)}\")\n",
    "result_df = pd.DataFrame.from_dict(testing_results[0], orient='index', columns=['Acc', 'F1', 'Train_size','Test_size'])\n",
    "result_df['Features'] = 'RPT + W2V'\n",
    "result_df['CV'] = 9\n",
    "result_df['CLF'] = model.__name__\n",
    "\n",
    "result_list.append(result_df)\n",
    "CV_result_df = pd.DataFrame(result_df[['Acc','F1', 'CV']].mean(), columns=[result_df.Features[0]]).T\n",
    "CV_result_df['CLF'] = result_df['CLF'][0]\n",
    "result_mean_list.append(CV_result_df)"
   ]
  },
  {
   "cell_type": "code",
   "execution_count": 116,
   "metadata": {},
   "outputs": [
    {
     "name": "stdout",
     "output_type": "stream",
     "text": [
      "> FOLD 1\n",
      "Train Size 4346 Test Size 2079\n",
      "Accuracy:\t\t 0.8335738335738335\n",
      "Precision Score:\t 0.6007194244604317\n",
      "Recall Score:\t\t0.7292576419213974\n",
      "F1 Score:\t\t 0.7743631148651702\n",
      "> FOLD 2\n",
      "Train Size 5282 Test Size 1143\n",
      "Accuracy:\t\t 0.7585301837270341\n",
      "Precision Score:\t 0.5714285714285714\n",
      "Recall Score:\t\t0.11267605633802817\n",
      "F1 Score:\t\t 0.5232029502448461\n",
      "> FOLD 3\n",
      "Train Size 5956 Test Size 469\n",
      "Accuracy:\t\t 0.652452025586354\n",
      "Precision Score:\t 0.7551020408163265\n",
      "Recall Score:\t\t0.46638655462184875\n",
      "F1 Score:\t\t 0.6409337497945091\n",
      "> FOLD 4\n",
      "Train Size 5535 Test Size 890\n",
      "Accuracy:\t\t 0.7573033707865169\n",
      "Precision Score:\t 0.8207070707070707\n",
      "Recall Score:\t\t0.6914893617021277\n",
      "F1 Score:\t\t 0.7571267580010208\n",
      "> FOLD 5\n",
      "Train Size 5204 Test Size 1221\n",
      "Accuracy:\t\t 0.7264537264537264\n",
      "Precision Score:\t 0.7385786802030457\n",
      "Recall Score:\t\t0.5574712643678161\n",
      "F1 Score:\t\t 0.7082491543951421\n",
      "> FOLD 6\n",
      "Train Size 6411 Test Size 14\n",
      "Accuracy:\t\t 0.6428571428571429\n",
      "Precision Score:\t 1.0\n",
      "Recall Score:\t\t0.6428571428571429\n",
      "F1 Score:\t\t 0.391304347826087\n",
      "> FOLD 7\n",
      "Train Size 6192 Test Size 233\n",
      "Accuracy:\t\t 0.20600858369098712\n",
      "Precision Score:\t 0.9782608695652174\n",
      "Recall Score:\t\t0.1965065502183406\n",
      "F1 Score:\t\t 0.1793431699190861\n",
      "> FOLD 8\n",
      "Train Size 6187 Test Size 238\n",
      "Accuracy:\t\t 0.542016806722689\n",
      "Precision Score:\t 0.7931034482758621\n",
      "Recall Score:\t\t0.18253968253968253\n",
      "F1 Score:\t\t 0.47860516531001907\n",
      "> FOLD 9\n",
      "Train Size 6287 Test Size 138\n",
      "Accuracy:\t\t 0.5652173913043478\n",
      "Precision Score:\t 0.5081967213114754\n",
      "Recall Score:\t\t0.5081967213114754\n",
      "F1 Score:\t\t 0.5592931658505429\n"
     ]
    }
   ],
   "source": [
    "# ---------------------------------------------------------------------------- #\n",
    "#                                 ALL Features                                 #\n",
    "# ---------------------------------------------------------------------------- #\n",
    "\n",
    "dataset = all_total_bert\n",
    "model = SVC\n",
    "\n",
    "testing_results = []\n",
    "\n",
    "result = cv_process(dataset, clfClass=model, events=all_event, target=all_y, verbose=False, scaling=True)\n",
    "testing_results.append(result)\n",
    "\n",
    "# writeLog().writeWithoutCR(\"./Model/\"+root_model.__name__+\"_\"+\"log.txt\",f\"RESULT:\\n{epochs_diff(testing_results)}\")\n",
    "result_df = pd.DataFrame.from_dict(testing_results[0], orient='index', columns=['Acc', 'F1', 'Train_size','Test_size'])\n",
    "result_df['Features'] = 'RPT + BERT'\n",
    "result_df['CV'] = 9\n",
    "result_df['CLF'] = model.__name__\n",
    "\n",
    "result_list.append(result_df)\n",
    "CV_result_df = pd.DataFrame(result_df[['Acc','F1', 'CV']].mean(), columns=[result_df.Features[0]]).T\n",
    "CV_result_df['CLF'] = result_df['CLF'][0]\n",
    "result_mean_list.append(CV_result_df)"
   ]
  },
  {
   "cell_type": "markdown",
   "metadata": {},
   "source": [
    "# Result"
   ]
  },
  {
   "cell_type": "code",
   "execution_count": 155,
   "metadata": {},
   "outputs": [
    {
     "data": {
      "text/html": "<div>\n<style scoped>\n    .dataframe tbody tr th:only-of-type {\n        vertical-align: middle;\n    }\n\n    .dataframe tbody tr th {\n        vertical-align: top;\n    }\n\n    .dataframe thead th {\n        text-align: right;\n    }\n</style>\n<table border=\"1\" class=\"dataframe\">\n  <thead>\n    <tr style=\"text-align: right;\">\n      <th></th>\n      <th>Acc</th>\n      <th>F1</th>\n      <th>Train_size</th>\n      <th>Test_size</th>\n      <th>Features</th>\n      <th>CV</th>\n      <th>CLF</th>\n    </tr>\n  </thead>\n  <tbody>\n    <tr>\n      <th>0</th>\n      <td>74.170274</td>\n      <td>66.476049</td>\n      <td>4346</td>\n      <td>2079</td>\n      <td>RP</td>\n      <td>9</td>\n      <td>RandomForestClassifier</td>\n    </tr>\n    <tr>\n      <th>1</th>\n      <td>73.928259</td>\n      <td>50.874870</td>\n      <td>5282</td>\n      <td>1143</td>\n      <td>RP</td>\n      <td>9</td>\n      <td>RandomForestClassifier</td>\n    </tr>\n    <tr>\n      <th>2</th>\n      <td>67.590618</td>\n      <td>67.590471</td>\n      <td>5956</td>\n      <td>469</td>\n      <td>RP</td>\n      <td>9</td>\n      <td>RandomForestClassifier</td>\n    </tr>\n    <tr>\n      <th>3</th>\n      <td>58.314607</td>\n      <td>54.586528</td>\n      <td>5535</td>\n      <td>890</td>\n      <td>RP</td>\n      <td>9</td>\n      <td>RandomForestClassifier</td>\n    </tr>\n    <tr>\n      <th>4</th>\n      <td>65.356265</td>\n      <td>59.023627</td>\n      <td>5204</td>\n      <td>1221</td>\n      <td>RP</td>\n      <td>9</td>\n      <td>RandomForestClassifier</td>\n    </tr>\n    <tr>\n      <th>...</th>\n      <td>...</td>\n      <td>...</td>\n      <td>...</td>\n      <td>...</td>\n      <td>...</td>\n      <td>...</td>\n      <td>...</td>\n    </tr>\n    <tr>\n      <th>4</th>\n      <td>61.588862</td>\n      <td>52.419810</td>\n      <td>5204</td>\n      <td>1221</td>\n      <td>Thread</td>\n      <td>9</td>\n      <td>SVC</td>\n    </tr>\n    <tr>\n      <th>5</th>\n      <td>71.428571</td>\n      <td>41.666667</td>\n      <td>6411</td>\n      <td>14</td>\n      <td>Thread</td>\n      <td>9</td>\n      <td>SVC</td>\n    </tr>\n    <tr>\n      <th>6</th>\n      <td>35.193133</td>\n      <td>26.532189</td>\n      <td>6192</td>\n      <td>233</td>\n      <td>Thread</td>\n      <td>9</td>\n      <td>SVC</td>\n    </tr>\n    <tr>\n      <th>7</th>\n      <td>57.142857</td>\n      <td>54.631083</td>\n      <td>6187</td>\n      <td>238</td>\n      <td>Thread</td>\n      <td>9</td>\n      <td>SVC</td>\n    </tr>\n    <tr>\n      <th>8</th>\n      <td>43.478261</td>\n      <td>32.335932</td>\n      <td>6287</td>\n      <td>138</td>\n      <td>Thread</td>\n      <td>9</td>\n      <td>SVC</td>\n    </tr>\n  </tbody>\n</table>\n<p>216 rows × 7 columns</p>\n</div>",
      "text/plain": "          Acc         F1  Train_size  Test_size Features  CV  \\\n0   74.170274  66.476049        4346       2079       RP   9   \n1   73.928259  50.874870        5282       1143       RP   9   \n2   67.590618  67.590471        5956        469       RP   9   \n3   58.314607  54.586528        5535        890       RP   9   \n4   65.356265  59.023627        5204       1221       RP   9   \n..        ...        ...         ...        ...      ...  ..   \n4   61.588862  52.419810        5204       1221   Thread   9   \n5   71.428571  41.666667        6411         14   Thread   9   \n6   35.193133  26.532189        6192        233   Thread   9   \n7   57.142857  54.631083        6187        238   Thread   9   \n8   43.478261  32.335932        6287        138   Thread   9   \n\n                       CLF  \n0   RandomForestClassifier  \n1   RandomForestClassifier  \n2   RandomForestClassifier  \n3   RandomForestClassifier  \n4   RandomForestClassifier  \n..                     ...  \n4                      SVC  \n5                      SVC  \n6                      SVC  \n7                      SVC  \n8                      SVC  \n\n[216 rows x 7 columns]"
     },
     "execution_count": 155,
     "metadata": {},
     "output_type": "execute_result"
    }
   ],
   "source": [
    "final_result = pd.concat(result_list)\n",
    "final_result.to_csv('./data/final_result_trad.csv')\n",
    "final_result = pd.read_csv('./data/final_result_trad.csv', index_col=['Unnamed: 0'])\n",
    "final_result"
   ]
  },
  {
   "cell_type": "code",
   "execution_count": 156,
   "metadata": {},
   "outputs": [
    {
     "data": {
      "text/html": "<div>\n<style scoped>\n    .dataframe tbody tr th:only-of-type {\n        vertical-align: middle;\n    }\n\n    .dataframe tbody tr th {\n        vertical-align: top;\n    }\n\n    .dataframe thead th {\n        text-align: right;\n    }\n</style>\n<table border=\"1\" class=\"dataframe\">\n  <thead>\n    <tr style=\"text-align: right;\">\n      <th></th>\n      <th>Acc</th>\n      <th>F1</th>\n      <th>CV</th>\n      <th>CLF</th>\n    </tr>\n  </thead>\n  <tbody>\n    <tr>\n      <th>RP</th>\n      <td>59.585615</td>\n      <td>48.260343</td>\n      <td>9.0</td>\n      <td>RandomForestClassifier</td>\n    </tr>\n    <tr>\n      <th>RP</th>\n      <td>60.199755</td>\n      <td>48.327515</td>\n      <td>9.0</td>\n      <td>RandomForestClassifier</td>\n    </tr>\n    <tr>\n      <th>RP</th>\n      <td>60.199755</td>\n      <td>48.327515</td>\n      <td>9.0</td>\n      <td>RandomForestClassifier</td>\n    </tr>\n    <tr>\n      <th>RP</th>\n      <td>55.988184</td>\n      <td>51.986107</td>\n      <td>9.0</td>\n      <td>LogisticRegression</td>\n    </tr>\n    <tr>\n      <th>RP</th>\n      <td>56.539407</td>\n      <td>52.078453</td>\n      <td>9.0</td>\n      <td>SVC</td>\n    </tr>\n    <tr>\n      <th>RP</th>\n      <td>59.963892</td>\n      <td>52.372452</td>\n      <td>9.0</td>\n      <td>GaussianNB</td>\n    </tr>\n    <tr>\n      <th>thread</th>\n      <td>59.300732</td>\n      <td>45.718719</td>\n      <td>9.0</td>\n      <td>RandomForestClassifier</td>\n    </tr>\n    <tr>\n      <th>W2V</th>\n      <td>52.757742</td>\n      <td>47.164008</td>\n      <td>9.0</td>\n      <td>RandomForestClassifier</td>\n    </tr>\n    <tr>\n      <th>BERT</th>\n      <td>53.409970</td>\n      <td>47.769311</td>\n      <td>9.0</td>\n      <td>RandomForestClassifier</td>\n    </tr>\n    <tr>\n      <th>RPT</th>\n      <td>59.409867</td>\n      <td>46.771044</td>\n      <td>9.0</td>\n      <td>RandomForestClassifier</td>\n    </tr>\n    <tr>\n      <th>RPT + BERT</th>\n      <td>56.411103</td>\n      <td>51.820143</td>\n      <td>9.0</td>\n      <td>RandomForestClassifier</td>\n    </tr>\n    <tr>\n      <th>RP</th>\n      <td>59.963892</td>\n      <td>52.372452</td>\n      <td>9.0</td>\n      <td>GaussianNB</td>\n    </tr>\n    <tr>\n      <th>Thread</th>\n      <td>59.404906</td>\n      <td>46.335935</td>\n      <td>9.0</td>\n      <td>GaussianNB</td>\n    </tr>\n    <tr>\n      <th>W2V</th>\n      <td>59.440297</td>\n      <td>54.106923</td>\n      <td>9.0</td>\n      <td>GaussianNB</td>\n    </tr>\n    <tr>\n      <th>BERT</th>\n      <td>60.029846</td>\n      <td>56.775122</td>\n      <td>9.0</td>\n      <td>GaussianNB</td>\n    </tr>\n    <tr>\n      <th>RPT</th>\n      <td>59.188564</td>\n      <td>48.386503</td>\n      <td>9.0</td>\n      <td>GaussianNB</td>\n    </tr>\n    <tr>\n      <th>RPT + W2V</th>\n      <td>63.814826</td>\n      <td>55.708365</td>\n      <td>9.0</td>\n      <td>GaussianNB</td>\n    </tr>\n    <tr>\n      <th>RPT + BERT</th>\n      <td>61.619751</td>\n      <td>57.716726</td>\n      <td>9.0</td>\n      <td>GaussianNB</td>\n    </tr>\n    <tr>\n      <th>RPT + BERT</th>\n      <td>63.160145</td>\n      <td>55.693573</td>\n      <td>9.0</td>\n      <td>SVC</td>\n    </tr>\n    <tr>\n      <th>RP</th>\n      <td>56.539407</td>\n      <td>52.078453</td>\n      <td>9.0</td>\n      <td>SVC</td>\n    </tr>\n    <tr>\n      <th>BERT</th>\n      <td>60.753041</td>\n      <td>52.189512</td>\n      <td>9.0</td>\n      <td>SVC</td>\n    </tr>\n    <tr>\n      <th>RPT + W2V</th>\n      <td>62.337890</td>\n      <td>55.221933</td>\n      <td>9.0</td>\n      <td>SVC</td>\n    </tr>\n    <tr>\n      <th>W2V</th>\n      <td>59.486649</td>\n      <td>52.228986</td>\n      <td>9.0</td>\n      <td>SVC</td>\n    </tr>\n    <tr>\n      <th>Thread</th>\n      <td>57.417532</td>\n      <td>46.714669</td>\n      <td>9.0</td>\n      <td>SVC</td>\n    </tr>\n  </tbody>\n</table>\n</div>",
      "text/plain": "                  Acc         F1   CV                     CLF\nRP          59.585615  48.260343  9.0  RandomForestClassifier\nRP          60.199755  48.327515  9.0  RandomForestClassifier\nRP          60.199755  48.327515  9.0  RandomForestClassifier\nRP          55.988184  51.986107  9.0      LogisticRegression\nRP          56.539407  52.078453  9.0                     SVC\nRP          59.963892  52.372452  9.0              GaussianNB\nthread      59.300732  45.718719  9.0  RandomForestClassifier\nW2V         52.757742  47.164008  9.0  RandomForestClassifier\nBERT        53.409970  47.769311  9.0  RandomForestClassifier\nRPT         59.409867  46.771044  9.0  RandomForestClassifier\nRPT + BERT  56.411103  51.820143  9.0  RandomForestClassifier\nRP          59.963892  52.372452  9.0              GaussianNB\nThread      59.404906  46.335935  9.0              GaussianNB\nW2V         59.440297  54.106923  9.0              GaussianNB\nBERT        60.029846  56.775122  9.0              GaussianNB\nRPT         59.188564  48.386503  9.0              GaussianNB\nRPT + W2V   63.814826  55.708365  9.0              GaussianNB\nRPT + BERT  61.619751  57.716726  9.0              GaussianNB\nRPT + BERT  63.160145  55.693573  9.0                     SVC\nRP          56.539407  52.078453  9.0                     SVC\nBERT        60.753041  52.189512  9.0                     SVC\nRPT + W2V   62.337890  55.221933  9.0                     SVC\nW2V         59.486649  52.228986  9.0                     SVC\nThread      57.417532  46.714669  9.0                     SVC"
     },
     "execution_count": 156,
     "metadata": {},
     "output_type": "execute_result"
    }
   ],
   "source": [
    "final_cv = pd.concat(result_mean_list)\n",
    "final_cv.to_csv('./data/final_cv_trad.csv')\n",
    "final_cv = pd.read_csv('./data/final_cv_trad.csv', index_col=['Unnamed: 0'])\n",
    "final_cv"
   ]
  },
  {
   "cell_type": "code",
   "execution_count": 157,
   "metadata": {},
   "outputs": [
    {
     "data": {
      "text/html": "<div>\n<style scoped>\n    .dataframe tbody tr th:only-of-type {\n        vertical-align: middle;\n    }\n\n    .dataframe tbody tr th {\n        vertical-align: top;\n    }\n\n    .dataframe thead th {\n        text-align: right;\n    }\n</style>\n<table border=\"1\" class=\"dataframe\">\n  <thead>\n    <tr style=\"text-align: right;\">\n      <th></th>\n      <th>Acc</th>\n      <th>F1</th>\n      <th>CV</th>\n      <th>CLF</th>\n    </tr>\n  </thead>\n  <tbody>\n    <tr>\n      <th>RP</th>\n      <td>59.585615</td>\n      <td>48.260343</td>\n      <td>9.0</td>\n      <td>RandomForestClassifier</td>\n    </tr>\n    <tr>\n      <th>RP</th>\n      <td>60.199755</td>\n      <td>48.327515</td>\n      <td>9.0</td>\n      <td>RandomForestClassifier</td>\n    </tr>\n    <tr>\n      <th>RP</th>\n      <td>60.199755</td>\n      <td>48.327515</td>\n      <td>9.0</td>\n      <td>RandomForestClassifier</td>\n    </tr>\n    <tr>\n      <th>thread</th>\n      <td>59.300732</td>\n      <td>45.718719</td>\n      <td>9.0</td>\n      <td>RandomForestClassifier</td>\n    </tr>\n    <tr>\n      <th>W2V</th>\n      <td>52.757742</td>\n      <td>47.164008</td>\n      <td>9.0</td>\n      <td>RandomForestClassifier</td>\n    </tr>\n    <tr>\n      <th>BERT</th>\n      <td>53.409970</td>\n      <td>47.769311</td>\n      <td>9.0</td>\n      <td>RandomForestClassifier</td>\n    </tr>\n    <tr>\n      <th>RPT</th>\n      <td>59.409867</td>\n      <td>46.771044</td>\n      <td>9.0</td>\n      <td>RandomForestClassifier</td>\n    </tr>\n    <tr>\n      <th>RPT + BERT</th>\n      <td>56.411103</td>\n      <td>51.820143</td>\n      <td>9.0</td>\n      <td>RandomForestClassifier</td>\n    </tr>\n  </tbody>\n</table>\n</div>",
      "text/plain": "                  Acc         F1   CV                     CLF\nRP          59.585615  48.260343  9.0  RandomForestClassifier\nRP          60.199755  48.327515  9.0  RandomForestClassifier\nRP          60.199755  48.327515  9.0  RandomForestClassifier\nthread      59.300732  45.718719  9.0  RandomForestClassifier\nW2V         52.757742  47.164008  9.0  RandomForestClassifier\nBERT        53.409970  47.769311  9.0  RandomForestClassifier\nRPT         59.409867  46.771044  9.0  RandomForestClassifier\nRPT + BERT  56.411103  51.820143  9.0  RandomForestClassifier"
     },
     "execution_count": 157,
     "metadata": {},
     "output_type": "execute_result"
    }
   ],
   "source": [
    "final_cv.loc[final_cv.CLF == 'RandomForestClassifier']"
   ]
  },
  {
   "cell_type": "code",
   "execution_count": 158,
   "metadata": {},
   "outputs": [
    {
     "data": {
      "text/html": "<div>\n<style scoped>\n    .dataframe tbody tr th:only-of-type {\n        vertical-align: middle;\n    }\n\n    .dataframe tbody tr th {\n        vertical-align: top;\n    }\n\n    .dataframe thead th {\n        text-align: right;\n    }\n</style>\n<table border=\"1\" class=\"dataframe\">\n  <thead>\n    <tr style=\"text-align: right;\">\n      <th></th>\n      <th>Acc</th>\n      <th>F1</th>\n      <th>CV</th>\n      <th>CLF</th>\n    </tr>\n  </thead>\n  <tbody>\n    <tr>\n      <th>RP</th>\n      <td>59.963892</td>\n      <td>52.372452</td>\n      <td>9.0</td>\n      <td>GaussianNB</td>\n    </tr>\n    <tr>\n      <th>RP</th>\n      <td>59.963892</td>\n      <td>52.372452</td>\n      <td>9.0</td>\n      <td>GaussianNB</td>\n    </tr>\n    <tr>\n      <th>Thread</th>\n      <td>59.404906</td>\n      <td>46.335935</td>\n      <td>9.0</td>\n      <td>GaussianNB</td>\n    </tr>\n    <tr>\n      <th>W2V</th>\n      <td>59.440297</td>\n      <td>54.106923</td>\n      <td>9.0</td>\n      <td>GaussianNB</td>\n    </tr>\n    <tr>\n      <th>BERT</th>\n      <td>60.029846</td>\n      <td>56.775122</td>\n      <td>9.0</td>\n      <td>GaussianNB</td>\n    </tr>\n    <tr>\n      <th>RPT</th>\n      <td>59.188564</td>\n      <td>48.386503</td>\n      <td>9.0</td>\n      <td>GaussianNB</td>\n    </tr>\n    <tr>\n      <th>RPT + W2V</th>\n      <td>63.814826</td>\n      <td>55.708365</td>\n      <td>9.0</td>\n      <td>GaussianNB</td>\n    </tr>\n    <tr>\n      <th>RPT + BERT</th>\n      <td>61.619751</td>\n      <td>57.716726</td>\n      <td>9.0</td>\n      <td>GaussianNB</td>\n    </tr>\n  </tbody>\n</table>\n</div>",
      "text/plain": "                  Acc         F1   CV         CLF\nRP          59.963892  52.372452  9.0  GaussianNB\nRP          59.963892  52.372452  9.0  GaussianNB\nThread      59.404906  46.335935  9.0  GaussianNB\nW2V         59.440297  54.106923  9.0  GaussianNB\nBERT        60.029846  56.775122  9.0  GaussianNB\nRPT         59.188564  48.386503  9.0  GaussianNB\nRPT + W2V   63.814826  55.708365  9.0  GaussianNB\nRPT + BERT  61.619751  57.716726  9.0  GaussianNB"
     },
     "execution_count": 158,
     "metadata": {},
     "output_type": "execute_result"
    }
   ],
   "source": [
    "final_cv.loc[final_cv.CLF == 'GaussianNB']"
   ]
  },
  {
   "cell_type": "code",
   "execution_count": 159,
   "metadata": {},
   "outputs": [
    {
     "data": {
      "text/html": "<div>\n<style scoped>\n    .dataframe tbody tr th:only-of-type {\n        vertical-align: middle;\n    }\n\n    .dataframe tbody tr th {\n        vertical-align: top;\n    }\n\n    .dataframe thead th {\n        text-align: right;\n    }\n</style>\n<table border=\"1\" class=\"dataframe\">\n  <thead>\n    <tr style=\"text-align: right;\">\n      <th></th>\n      <th>Acc</th>\n      <th>F1</th>\n      <th>CV</th>\n      <th>CLF</th>\n    </tr>\n  </thead>\n  <tbody>\n    <tr>\n      <th>RP</th>\n      <td>56.539407</td>\n      <td>52.078453</td>\n      <td>9.0</td>\n      <td>SVC</td>\n    </tr>\n    <tr>\n      <th>RPT + BERT</th>\n      <td>63.160145</td>\n      <td>55.693573</td>\n      <td>9.0</td>\n      <td>SVC</td>\n    </tr>\n    <tr>\n      <th>RP</th>\n      <td>56.539407</td>\n      <td>52.078453</td>\n      <td>9.0</td>\n      <td>SVC</td>\n    </tr>\n    <tr>\n      <th>BERT</th>\n      <td>60.753041</td>\n      <td>52.189512</td>\n      <td>9.0</td>\n      <td>SVC</td>\n    </tr>\n    <tr>\n      <th>RPT + W2V</th>\n      <td>62.337890</td>\n      <td>55.221933</td>\n      <td>9.0</td>\n      <td>SVC</td>\n    </tr>\n    <tr>\n      <th>W2V</th>\n      <td>59.486649</td>\n      <td>52.228986</td>\n      <td>9.0</td>\n      <td>SVC</td>\n    </tr>\n    <tr>\n      <th>Thread</th>\n      <td>57.417532</td>\n      <td>46.714669</td>\n      <td>9.0</td>\n      <td>SVC</td>\n    </tr>\n  </tbody>\n</table>\n</div>",
      "text/plain": "                  Acc         F1   CV  CLF\nRP          56.539407  52.078453  9.0  SVC\nRPT + BERT  63.160145  55.693573  9.0  SVC\nRP          56.539407  52.078453  9.0  SVC\nBERT        60.753041  52.189512  9.0  SVC\nRPT + W2V   62.337890  55.221933  9.0  SVC\nW2V         59.486649  52.228986  9.0  SVC\nThread      57.417532  46.714669  9.0  SVC"
     },
     "execution_count": 159,
     "metadata": {},
     "output_type": "execute_result"
    }
   ],
   "source": [
    "final_cv.loc[final_cv.CLF == 'SVC']"
   ]
  },
  {
   "cell_type": "markdown",
   "metadata": {},
   "source": [
    "# Feature Importance on Sparse Features"
   ]
  },
  {
   "cell_type": "code",
   "execution_count": 6,
   "metadata": {},
   "outputs": [
    {
     "name": "stdout",
     "output_type": "stream",
     "text": [
      "Feature ranking:\n",
      "1. feature 25: capital_ratio (0.022929)\n",
      "2. feature 28: tweet_count (0.022486)\n",
      "3. feature 13: Numeral (0.021493)\n",
      "4. feature 31: follower_count (0.020663)\n",
      "5. feature 5: Noun (0.020122)\n",
      "6. feature 29: listed_count (0.019489)\n",
      "7. feature 6: Verb (0.018645)\n",
      "8. feature 65: AVG FPP (0.017962)\n",
      "9. feature 32: followers/friend (0.017806)\n",
      "10. feature 33: favourites_count (0.017505)\n",
      "11. feature 20: word_count (0.017440)\n",
      "12. feature 3: Skepticism (0.017433)\n",
      "13. feature 16: Determiner (0.017349)\n",
      "14. feature 7: Adjective (0.017347)\n",
      "15. feature 34: account_age_days (0.017262)\n",
      "16. feature 19: char_count (0.017011)\n",
      "17. feature 71: AVG Skepticism (0.016744)\n",
      "18. feature 66: STD FPP (0.016599)\n",
      "19. feature 21: HashTag (0.016599)\n",
      "20. feature 68: STD SPP (0.016549)\n",
      "21. feature 69: AVG TPP (0.016370)\n",
      "22. feature 8: Pronoun (0.016242)\n",
      "23. feature 30: friends_count (0.016239)\n",
      "24. feature 35: verified (0.016109)\n",
      "25. feature 67: AVG SPP (0.016017)\n",
      "26. feature 14: Conjunction_inj (0.015892)\n",
      "27. feature 70: STD TPP (0.015641)\n",
      "28. feature 58: thread_time (0.015584)\n",
      "29. feature 43: Ratio HashTag (0.015365)\n",
      "30. feature 40: AVG CharCount (0.015332)\n",
      "31. feature 56: AVG AccAge (0.014981)\n",
      "32. feature 42: SUM HashTag (0.014903)\n",
      "33. feature 39: AVG WordCount (0.014641)\n",
      "34. feature 61: Ratio Media (0.014641)\n",
      "35. feature 38: AVG FriendsCount (0.014580)\n",
      "36. feature 64: RATIO Period (0.014563)\n",
      "37. feature 41: AVG HashTag (0.014531)\n",
      "38. feature 57: STD AccAge (0.014445)\n",
      "39. feature 62: RATIO Question (0.014375)\n",
      "40. feature 26: retweet_count (0.014099)\n",
      "41. feature 9: FirstPersonPronoun (0.013946)\n",
      "42. feature 2: has_media (0.013903)\n",
      "43. feature 54: AVG RT (0.013776)\n",
      "44. feature 63: RATIO Exclaim (0.013766)\n",
      "45. feature 48: AVG Mention (0.013723)\n",
      "46. feature 53: SUM RT (0.013463)\n",
      "47. feature 37: SUM FriendsCount (0.013344)\n",
      "48. feature 12: Adverb (0.013295)\n",
      "49. feature 49: Ratio Mention (0.013066)\n",
      "50. feature 36: depth (0.012995)\n",
      "51. feature 46: RATIO Url (0.012822)\n",
      "52. feature 47: SUM Mention (0.012702)\n",
      "53. feature 50: Tweets Count (0.012663)\n",
      "54. feature 45: STD Url (0.012413)\n",
      "55. feature 55: STD RT (0.012302)\n",
      "56. feature 44: AVG Url (0.012253)\n",
      "57. feature 1: URLcount (0.011909)\n",
      "58. feature 51: Ratio Verified (0.011506)\n",
      "59. feature 17: Modal (0.010629)\n",
      "60. feature 52: SUM Verified (0.009691)\n",
      "61. feature 59: STD Emoji (0.009532)\n",
      "62. feature 18: Whs (0.009385)\n",
      "63. feature 60: AVG Emoji (0.009360)\n",
      "64. feature 4: MentionCount (0.007886)\n",
      "65. feature 11: ThirdPersonPronoun (0.007481)\n",
      "66. feature 24: has_period (0.006557)\n",
      "67. feature 15: Particle (0.006539)\n",
      "68. feature 10: SecondPersonPronoun (0.005420)\n",
      "69. feature 22: has_question (0.004551)\n",
      "70. feature 23: has_exclaim (0.004076)\n",
      "71. feature 0: emoji_count (0.001062)\n",
      "72. feature 27: isRT (0.000000)\n"
     ]
    },
    {
     "data": {
      "image/png": "[encoded data removed]",
      "text/plain": "<Figure size 432x288 with 1 Axes>"
     },
     "metadata": {
      "needs_background": "light"
     },
     "output_type": "display_data"
    }
   ],
   "source": [
    "from sklearn.ensemble import ExtraTreesClassifier\n",
    "scaler = StandardScaler()\n",
    "X = scaler.fit_transform(pheme_sparse)\n",
    "X2 = scaler.fit_transform(pheme_thread)\n",
    "\n",
    "X = pd.concat([pheme_sparse, pheme_thread], axis=1)\n",
    "\n",
    "forest = ExtraTreesClassifier(n_estimators=250,\n",
    "                              random_state=3)\n",
    "\n",
    "forest.fit(X, pheme_y)\n",
    "importances = forest.feature_importances_\n",
    "std = np.std([tree.feature_importances_ for tree in forest.estimators_],\n",
    "             axis=0)\n",
    "indices = np.argsort(importances)[::-1]\n",
    "\n",
    "# Print the feature ranking\n",
    "print(\"Feature ranking:\")\n",
    "\n",
    "for f in range(X.shape[1]):\n",
    "    print(\"%d. feature %d: %s (%f)\" % (f + 1, indices[f], X.columns[indices[f]], importances[indices[f]]))\n",
    "\n",
    "# Plot the impurity-based feature importances of the forest\n",
    "plt.figure()\n",
    "plt.title(\"Feature importances\")\n",
    "plt.bar(range(X.shape[1]), importances[indices],\n",
    "        color=\"r\", yerr=std[indices], align=\"center\")\n",
    "plt.xticks(range(X.shape[1]), indices)\n",
    "plt.xlim([-1, X.shape[1]])\n",
    "plt.show()"
   ]
  },
  {
   "cell_type": "code",
   "execution_count": null,
   "metadata": {},
   "outputs": [],
   "source": [
    "Feature ranking:\n",
    "1. feature 25: capital_ratio (0.023554)\n",
    "2. feature 29: listed_count (0.023047)\n",
    "3. feature 28: tweet_count (0.022576)\n",
    "4. feature 13: Numeral (0.022373)\n",
    "5. feature 31: follow_ratio (0.021648)\n",
    "6. feature 5: Noun (0.020772)\n",
    "7. feature 6: Verb (0.018965)\n",
    "8. feature 30: friends_count (0.018720)\n",
    "9. feature 7: Adjective (0.018711)\n",
    "10. feature 32: account_age_days (0.018371)\n",
    "11. feature 3: Skepticism (0.018333)\n",
    "12. feature 63: AVG FPP (0.018230)\n",
    "13. feature 16: Determiner (0.018211)\n",
    "14. feature 20: word_count (0.017997)\n",
    "15. feature 19: char_count (0.017476)\n",
    "16. feature 64: STD FPP (0.017206)\n",
    "17. feature 67: AVG TPP (0.017082)\n",
    "18. feature 69: AVG Skepticism (0.017057)\n",
    "19. feature 21: HashTag (0.016944)\n",
    "20. feature 65: AVG SPP (0.016567)\n",
    "21. feature 56: thread_time (0.016411)\n",
    "22. feature 66: STD SPP (0.016360)\n",
    "23. feature 14: Conjunction_inj (0.016151)\n",
    "24. feature 68: STD TPP (0.016145)\n",
    "25. feature 41: Ratio HashTag (0.016090)\n",
    "26. feature 38: AVG CharCount (0.015695)\n",
    "27. feature 8: Pronoun (0.015674)\n",
    "28. feature 54: AVG AccAge (0.015432)\n",
    "29. feature 37: AVG WordCount (0.015418)\n",
    "30. feature 40: SUM HashTag (0.015303)\n",
    "31. feature 33: verified (0.015233)\n",
    "32. feature 36: AVG FriendsCount (0.015208)\n",
    "33. feature 9: FirstPersonPronoun (0.015171)\n",
    "34. feature 62: RATIO Period (0.015147)\n",
    "35. feature 59: Ratio Media (0.015048)\n",
    "36. feature 39: AVG HashTag (0.014982)\n",
    "37. feature 60: RATIO Question (0.014928)\n",
    "38. feature 55: STD AccAge (0.014914)\n",
    "39. feature 26: retweet_count (0.014715)\n",
    "40. feature 51: SUM RT (0.014321)\n",
    "41. feature 52: AVG RT (0.014225)\n",
    "42. feature 46: AVG Mention (0.014223)\n",
    "43. feature 61: RATIO Exclaim (0.014075)\n",
    "44. feature 2: has_media (0.013751)\n",
    "45. feature 35: SUM FriendsCount (0.013744)\n",
    "46. feature 47: Ratio Mention (0.013624)\n",
    "47. feature 12: Adverb (0.013606)\n",
    "48. feature 34: depth (0.013599)\n",
    "49. feature 53: STD RT (0.013502)\n",
    "50. feature 44: RATIO Url (0.013118)\n",
    "51. feature 48: Tweets Count (0.013090)\n",
    "52. feature 45: SUM Mention (0.013022)\n",
    "53. feature 43: STD Url (0.012792)\n",
    "54. feature 42: AVG Url (0.012651)\n",
    "55. feature 1: URLcount (0.012328)\n",
    "56. feature 49: Ratio Verified (0.011846)\n",
    "57. feature 17: Modal (0.010733)\n",
    "58. feature 50: SUM Verified (0.010200)\n",
    "59. feature 18: Whs (0.009731)\n",
    "60. feature 57: STD Emoji (0.009702)\n",
    "61. feature 58: AVG Emoji (0.009570)\n",
    "62. feature 4: MentionCount (0.008058)\n",
    "63. feature 11: ThirdPersonPronoun (0.007592)\n",
    "64. feature 24: has_period (0.006844)\n",
    "65. feature 15: Particle (0.006585)\n",
    "66. feature 10: SecondPersonPronoun (0.005497)\n",
    "67. feature 22: has_question (0.004690)\n",
    "68. feature 23: has_exclaim (0.004280)\n",
    "69. feature 0: emoji_count (0.001138)\n",
    "70. feature 27: isRT (0.000000"
   ]
  },
  {
   "cell_type": "code",
   "execution_count": 7,
   "metadata": {},
   "outputs": [
    {
     "name": "stdout",
     "output_type": "stream",
     "text": [
      "Feature ranking:\n",
      "1. feature 25: capital_ratio (0.023554)\n",
      "2. feature 29: listed_count (0.023047)\n",
      "3. feature 28: tweet_count (0.022576)\n",
      "4. feature 13: Numeral (0.022373)\n",
      "5. feature 31: follow_ratio (0.021648)\n",
      "6. feature 5: Noun (0.020772)\n",
      "7. feature 6: Verb (0.018965)\n",
      "8. feature 30: friends_count (0.018720)\n",
      "9. feature 7: Adjective (0.018711)\n",
      "10. feature 32: account_age_days (0.018371)\n",
      "11. feature 3: Skepticism (0.018333)\n",
      "12. feature 63: AVG FPP (0.018230)\n",
      "13. feature 16: Determiner (0.018211)\n",
      "14. feature 20: word_count (0.017997)\n",
      "15. feature 19: char_count (0.017476)\n",
      "16. feature 64: STD FPP (0.017206)\n",
      "17. feature 67: AVG TPP (0.017082)\n",
      "18. feature 69: AVG Skepticism (0.017057)\n",
      "19. feature 21: HashTag (0.016944)\n",
      "20. feature 65: AVG SPP (0.016567)\n",
      "21. feature 56: thread_time (0.016411)\n",
      "22. feature 66: STD SPP (0.016360)\n",
      "23. feature 14: Conjunction_inj (0.016151)\n",
      "24. feature 68: STD TPP (0.016145)\n",
      "25. feature 41: Ratio HashTag (0.016090)\n",
      "26. feature 38: AVG CharCount (0.015695)\n",
      "27. feature 8: Pronoun (0.015674)\n",
      "28. feature 54: AVG AccAge (0.015432)\n",
      "29. feature 37: AVG WordCount (0.015418)\n",
      "30. feature 40: SUM HashTag (0.015303)\n",
      "31. feature 33: verified (0.015233)\n",
      "32. feature 36: AVG FriendsCount (0.015208)\n",
      "33. feature 9: FirstPersonPronoun (0.015171)\n",
      "34. feature 62: RATIO Period (0.015147)\n",
      "35. feature 59: Ratio Media (0.015048)\n",
      "36. feature 39: AVG HashTag (0.014982)\n",
      "37. feature 60: RATIO Question (0.014928)\n",
      "38. feature 55: STD AccAge (0.014914)\n",
      "39. feature 26: retweet_count (0.014715)\n",
      "40. feature 51: SUM RT (0.014321)\n",
      "41. feature 52: AVG RT (0.014225)\n",
      "42. feature 46: AVG Mention (0.014223)\n",
      "43. feature 61: RATIO Exclaim (0.014075)\n",
      "44. feature 2: has_media (0.013751)\n",
      "45. feature 35: SUM FriendsCount (0.013744)\n",
      "46. feature 47: Ratio Mention (0.013624)\n",
      "47. feature 12: Adverb (0.013606)\n",
      "48. feature 34: depth (0.013599)\n",
      "49. feature 53: STD RT (0.013502)\n",
      "50. feature 44: RATIO Url (0.013118)\n",
      "51. feature 48: Tweets Count (0.013090)\n",
      "52. feature 45: SUM Mention (0.013022)\n",
      "53. feature 43: STD Url (0.012792)\n",
      "54. feature 42: AVG Url (0.012651)\n",
      "55. feature 1: URLcount (0.012328)\n",
      "56. feature 49: Ratio Verified (0.011846)\n",
      "57. feature 17: Modal (0.010733)\n",
      "58. feature 50: SUM Verified (0.010200)\n",
      "59. feature 18: Whs (0.009731)\n",
      "60. feature 57: STD Emoji (0.009702)\n",
      "61. feature 58: AVG Emoji (0.009570)\n",
      "62. feature 4: MentionCount (0.008058)\n",
      "63. feature 11: ThirdPersonPronoun (0.007592)\n",
      "64. feature 24: has_period (0.006844)\n",
      "65. feature 15: Particle (0.006585)\n",
      "66. feature 10: SecondPersonPronoun (0.005497)\n",
      "67. feature 22: has_question (0.004690)\n",
      "68. feature 23: has_exclaim (0.004280)\n",
      "69. feature 0: emoji_count (0.001138)\n",
      "70. feature 27: isRT (0.000000)\n"
     ]
    },
    {
     "data": {
      "image/png": "[encoded data removed]",
      "text/plain": "<Figure size 432x288 with 1 Axes>"
     },
     "metadata": {
      "needs_background": "light"
     },
     "output_type": "display_data"
    }
   ],
   "source": [
    "from sklearn.ensemble import ExtraTreesClassifier\n",
    "scaler = StandardScaler()\n",
    "X = scaler.fit_transform(pheme_sparse)\n",
    "X2 = scaler.fit_transform(pheme_thread)\n",
    "\n",
    "X = pd.concat([pheme_sparse, pheme_thread], axis=1)\n",
    "\n",
    "forest = ExtraTreesClassifier(n_estimators=250,\n",
    "                              random_state=3)\n",
    "\n",
    "forest.fit(X, pheme_y)\n",
    "importances = forest.feature_importances_\n",
    "std = np.std([tree.feature_importances_ for tree in forest.estimators_],\n",
    "             axis=0)\n",
    "indices = np.argsort(importances)[::-1]\n",
    "\n",
    "# Print the feature ranking\n",
    "print(\"Feature ranking:\")\n",
    "\n",
    "for f in range(X.shape[1]):\n",
    "    print(\"%d. feature %d: %s (%f)\" % (f + 1, indices[f], X.columns[indices[f]], importances[indices[f]]))\n",
    "\n",
    "# Plot the impurity-based feature importances of the forest\n",
    "plt.figure()\n",
    "plt.title(\"Feature importances\")\n",
    "plt.bar(range(X.shape[1]), importances[indices],\n",
    "        color=\"r\", yerr=std[indices], align=\"center\")\n",
    "plt.xticks(range(X.shape[1]), indices)\n",
    "plt.xlim([-1, X.shape[1]])\n",
    "plt.show()"
   ]
  },
  {
   "cell_type": "markdown",
   "metadata": {},
   "source": [
    "# Thread"
   ]
  },
  {
   "cell_type": "code",
   "execution_count": 15,
   "metadata": {},
   "outputs": [
    {
     "name": "stdout",
     "output_type": "stream",
     "text": [
      "FOLD 1\n",
      "----------------------------------------------------------------------------\n",
      "FOLD 2\n",
      "----------------------------------------------------------------------------\n",
      "FOLD 3\n",
      "----------------------------------------------------------------------------\n",
      "FOLD 4\n",
      "----------------------------------------------------------------------------\n",
      "FOLD 5\n",
      "----------------------------------------------------------------------------\n"
     ]
    }
   ],
   "source": [
    "process_cv(pheme_thread)"
   ]
  },
  {
   "cell_type": "code",
   "execution_count": 44,
   "metadata": {},
   "outputs": [],
   "source": [
    "scaler = StandardScaler()\n",
    "X_train = scaler.fit_transform(pheme_thread.values)\n",
    "X_test = scaler.fit_transform(ext_thread.values)"
   ]
  },
  {
   "cell_type": "code",
   "execution_count": 46,
   "metadata": {},
   "outputs": [
    {
     "name": "stdout",
     "output_type": "stream",
     "text": [
      "Accuracy:\t\t 0.24123711340206186\n",
      "Precision Score:\t 1.0\n",
      "Recall Score:\t\t0.0027100271002710027\n",
      "F1 Score:\t\t 0.19603603603603603\n",
      "              precision    recall  f1-score   support\n",
      "\n",
      "           0       0.24      1.00      0.39       116\n",
      "           1       1.00      0.00      0.01       369\n",
      "\n",
      "    accuracy                           0.24       485\n",
      "   macro avg       0.62      0.50      0.20       485\n",
      "weighted avg       0.82      0.24      0.10       485\n",
      "\n"
     ]
    }
   ],
   "source": [
    "clf = SVC()\n",
    "train_test(X_train, X_test, pheme_y, ext_y, clf)\n",
    "\n",
    "# Accuracy:\t\t 0.6268041237113402\n",
    "# Precision Score:\t 0.7596685082872928\n",
    "# Recall Score:\t\t0.7452574525745257\n",
    "# F1 Score:\t\t 0.49753590255796776"
   ]
  },
  {
   "cell_type": "markdown",
   "metadata": {},
   "source": [
    "# Sparse"
   ]
  },
  {
   "cell_type": "markdown",
   "metadata": {},
   "source": [
    "## Data"
   ]
  },
  {
   "cell_type": "code",
   "execution_count": 8,
   "metadata": {},
   "outputs": [],
   "source": [
    "scaler = StandardScaler()\n",
    "pheme_sparse_scaled = scaler.fit_transform(pheme_sparse.values)\n",
    "ext_sparse_scaled = scaler.fit_transform(ext_sparse.values)"
   ]
  },
  {
   "cell_type": "markdown",
   "metadata": {},
   "source": [
    "## CLF"
   ]
  },
  {
   "cell_type": "code",
   "execution_count": 9,
   "metadata": {},
   "outputs": [
    {
     "name": "stdout",
     "output_type": "stream",
     "text": [
      "Accuracy:\t\t 0.354639175257732\n",
      "Precision Score:\t 0.9242424242424242\n",
      "Recall Score:\t\t0.16531165311653118\n",
      "F1 Score:\t\t 0.34770652057149\n",
      "              precision    recall  f1-score   support\n",
      "\n",
      "           0       0.26      0.96      0.41       116\n",
      "           1       0.92      0.17      0.28       369\n",
      "\n",
      "    accuracy                           0.35       485\n",
      "   macro avg       0.59      0.56      0.35       485\n",
      "weighted avg       0.77      0.35      0.31       485\n",
      "\n"
     ]
    }
   ],
   "source": [
    "clf = SVC(gamma='auto')\n",
    "train_test(pheme_sparse_scaled, ext_sparse_scaled, pheme_y, ext_y, clf)"
   ]
  },
  {
   "cell_type": "code",
   "execution_count": 10,
   "metadata": {},
   "outputs": [
    {
     "name": "stdout",
     "output_type": "stream",
     "text": [
      "Accuracy:\t\t 0.6371134020618556\n",
      "Precision Score:\t 0.8205980066445183\n",
      "Recall Score:\t\t0.6693766937669376\n",
      "F1 Score:\t\t 0.5753233830845771\n",
      "              precision    recall  f1-score   support\n",
      "\n",
      "           0       0.34      0.53      0.41       116\n",
      "           1       0.82      0.67      0.74       369\n",
      "\n",
      "    accuracy                           0.64       485\n",
      "   macro avg       0.58      0.60      0.58       485\n",
      "weighted avg       0.70      0.64      0.66       485\n",
      "\n"
     ]
    }
   ],
   "source": [
    "clf = GaussianNB()\n",
    "train_test(pheme_sparse_scaled, ext_sparse_scaled, pheme_y, ext_y, clf)"
   ]
  },
  {
   "cell_type": "markdown",
   "metadata": {},
   "source": [
    "## SPARSE - PHEME CV"
   ]
  },
  {
   "cell_type": "code",
   "execution_count": 37,
   "metadata": {},
   "outputs": [
    {
     "name": "stdout",
     "output_type": "stream",
     "text": [
      "Accuracy:\t\t 0.47191011235955055\n",
      "Precision Score:\t 0.0\n",
      "Recall Score:\t\t0.0\n",
      "F1 Score:\t\t 0.32061068702290074\n",
      "              precision    recall  f1-score   support\n",
      "\n",
      "           0       0.47      1.00      0.64       420\n",
      "           1       0.00      0.00      0.00       470\n",
      "\n",
      "    accuracy                           0.47       890\n",
      "   macro avg       0.24      0.50      0.32       890\n",
      "weighted avg       0.22      0.47      0.30       890\n",
      "\n"
     ]
    },
    {
     "name": "stderr",
     "output_type": "stream",
     "text": [
      "/Users/june/miniconda3/envs/rosetta/lib/python3.8/site-packages/sklearn/metrics/_classification.py:1245: UndefinedMetricWarning: Precision is ill-defined and being set to 0.0 due to no predicted samples. Use `zero_division` parameter to control this behavior.\n",
      "  _warn_prf(average, modifier, msg_start, len(result))\n",
      "/Users/june/miniconda3/envs/rosetta/lib/python3.8/site-packages/sklearn/metrics/_classification.py:1245: UndefinedMetricWarning: Precision and F-score are ill-defined and being set to 0.0 in labels with no predicted samples. Use `zero_division` parameter to control this behavior.\n",
      "  _warn_prf(average, modifier, msg_start, len(result))\n",
      "/Users/june/miniconda3/envs/rosetta/lib/python3.8/site-packages/sklearn/metrics/_classification.py:1245: UndefinedMetricWarning: Precision and F-score are ill-defined and being set to 0.0 in labels with no predicted samples. Use `zero_division` parameter to control this behavior.\n",
      "  _warn_prf(average, modifier, msg_start, len(result))\n",
      "/Users/june/miniconda3/envs/rosetta/lib/python3.8/site-packages/sklearn/metrics/_classification.py:1245: UndefinedMetricWarning: Precision and F-score are ill-defined and being set to 0.0 in labels with no predicted samples. Use `zero_division` parameter to control this behavior.\n",
      "  _warn_prf(average, modifier, msg_start, len(result))\n"
     ]
    }
   ],
   "source": [
    "X = cv[3][1].drop(['target', 'Event'],axis=1)\n",
    "y = cv[3][1].target\n",
    "val_X = cv[3][0].drop(['target', 'Event'],axis=1)\n",
    "val_y = cv[3][0].target\n",
    "clf = SVC(gamma='auto')\n",
    "train_test(X, val_X, y, val_y, clf)\n",
    "# valid(rhi, rhi_y, clf)"
   ]
  },
  {
   "cell_type": "markdown",
   "metadata": {},
   "source": [
    "# Sparse + W2V"
   ]
  },
  {
   "cell_type": "markdown",
   "metadata": {},
   "source": [
    "## Data"
   ]
  },
  {
   "cell_type": "code",
   "execution_count": 41,
   "metadata": {},
   "outputs": [],
   "source": [
    "scaler = StandardScaler()\n",
    "df = scaler.fit_transform(pheme_sparse.values)\n",
    "sparse_w2v = np.concatenate([df, pheme_AVGw2v.values],axis=1)\n",
    "df = scaler.fit_transform(ext_sparse.values)\n",
    "sparse_w2v_ext = np.concatenate([df, ext_AVGw2v.values],axis=1)"
   ]
  },
  {
   "cell_type": "markdown",
   "metadata": {},
   "source": [
    "## CLF"
   ]
  },
  {
   "cell_type": "code",
   "execution_count": 84,
   "metadata": {},
   "outputs": [
    {
     "ename": "NameError",
     "evalue": "name 'sparse_w2v' is not defined",
     "output_type": "error",
     "traceback": [
      "\u001b[0;31m---------------------------------------------------------------------------\u001b[0m",
      "\u001b[0;31mNameError\u001b[0m                                 Traceback (most recent call last)",
      "\u001b[0;32m<ipython-input-84-442f5acd8e74>\u001b[0m in \u001b[0;36m<module>\u001b[0;34m\u001b[0m\n\u001b[1;32m      1\u001b[0m \u001b[0mclf\u001b[0m \u001b[0;34m=\u001b[0m \u001b[0mSVC\u001b[0m\u001b[0;34m(\u001b[0m\u001b[0mgamma\u001b[0m\u001b[0;34m=\u001b[0m\u001b[0;34m'auto'\u001b[0m\u001b[0;34m)\u001b[0m\u001b[0;34m\u001b[0m\u001b[0;34m\u001b[0m\u001b[0m\n\u001b[0;32m----> 2\u001b[0;31m \u001b[0mtrain_test\u001b[0m\u001b[0;34m(\u001b[0m\u001b[0msparse_w2v\u001b[0m\u001b[0;34m,\u001b[0m \u001b[0msparse_w2v_ext\u001b[0m\u001b[0;34m,\u001b[0m \u001b[0mpheme_y\u001b[0m\u001b[0;34m,\u001b[0m \u001b[0mext_y\u001b[0m\u001b[0;34m,\u001b[0m \u001b[0mclf\u001b[0m\u001b[0;34m)\u001b[0m\u001b[0;34m\u001b[0m\u001b[0;34m\u001b[0m\u001b[0m\n\u001b[0m",
      "\u001b[0;31mNameError\u001b[0m: name 'sparse_w2v' is not defined"
     ]
    }
   ],
   "source": [
    "clf = SVC(gamma='auto')\n",
    "train_test(sparse_w2v, sparse_w2v_ext, pheme_y, ext_y, clf)"
   ]
  },
  {
   "cell_type": "code",
   "execution_count": 45,
   "metadata": {},
   "outputs": [
    {
     "name": "stdout",
     "output_type": "stream",
     "text": [
      "Accuracy:\t\t 0.4\n",
      "Precision Score:\t 0.9148936170212766\n",
      "Recall Score:\t\t0.23306233062330622\n",
      "F1 Score:\t\t 0.3987628918680588\n",
      "              precision    recall  f1-score   support\n",
      "\n",
      "           0       0.28      0.93      0.43       116\n",
      "           1       0.91      0.23      0.37       369\n",
      "\n",
      "    accuracy                           0.40       485\n",
      "   macro avg       0.60      0.58      0.40       485\n",
      "weighted avg       0.76      0.40      0.38       485\n",
      "\n"
     ]
    }
   ],
   "source": [
    "clf = GaussianNB()\n",
    "train_test(sparse_w2v, sparse_w2v_ext, pheme_y, ext_y, clf)"
   ]
  },
  {
   "cell_type": "markdown",
   "metadata": {},
   "source": [
    "# BERT"
   ]
  },
  {
   "cell_type": "markdown",
   "metadata": {},
   "source": [
    "## Data"
   ]
  },
  {
   "cell_type": "code",
   "execution_count": 17,
   "metadata": {},
   "outputs": [
    {
     "data": {
      "text/html": "<div>\n<style scoped>\n    .dataframe tbody tr th:only-of-type {\n        vertical-align: middle;\n    }\n\n    .dataframe tbody tr th {\n        vertical-align: top;\n    }\n\n    .dataframe thead th {\n        text-align: right;\n    }\n</style>\n<table border=\"1\" class=\"dataframe\">\n  <thead>\n    <tr style=\"text-align: right;\">\n      <th></th>\n      <th>BERTEmbed_0</th>\n      <th>BERTEmbed_1</th>\n      <th>BERTEmbed_2</th>\n      <th>BERTEmbed_3</th>\n      <th>BERTEmbed_4</th>\n      <th>BERTEmbed_5</th>\n      <th>BERTEmbed_6</th>\n      <th>BERTEmbed_7</th>\n      <th>BERTEmbed_8</th>\n      <th>BERTEmbed_9</th>\n      <th>...</th>\n      <th>BERTEmbed_758</th>\n      <th>BERTEmbed_759</th>\n      <th>BERTEmbed_760</th>\n      <th>BERTEmbed_761</th>\n      <th>BERTEmbed_762</th>\n      <th>BERTEmbed_763</th>\n      <th>BERTEmbed_764</th>\n      <th>BERTEmbed_765</th>\n      <th>BERTEmbed_766</th>\n      <th>BERTEmbed_767</th>\n    </tr>\n  </thead>\n  <tbody>\n    <tr>\n      <th>0</th>\n      <td>0.299457</td>\n      <td>0.198897</td>\n      <td>-0.491295</td>\n      <td>0.211787</td>\n      <td>0.197080</td>\n      <td>0.234026</td>\n      <td>0.200608</td>\n      <td>-0.096086</td>\n      <td>0.250423</td>\n      <td>0.266876</td>\n      <td>...</td>\n      <td>0.209932</td>\n      <td>-0.166056</td>\n      <td>0.245046</td>\n      <td>-0.580443</td>\n      <td>-0.141690</td>\n      <td>0.222918</td>\n      <td>-0.144328</td>\n      <td>0.048243</td>\n      <td>-0.027414</td>\n      <td>-0.055394</td>\n    </tr>\n    <tr>\n      <th>1</th>\n      <td>0.299628</td>\n      <td>0.207495</td>\n      <td>-0.491100</td>\n      <td>0.207046</td>\n      <td>0.198606</td>\n      <td>0.223802</td>\n      <td>0.201070</td>\n      <td>-0.085390</td>\n      <td>0.272306</td>\n      <td>0.276768</td>\n      <td>...</td>\n      <td>0.227522</td>\n      <td>-0.168281</td>\n      <td>0.246145</td>\n      <td>-0.575933</td>\n      <td>-0.133583</td>\n      <td>0.210461</td>\n      <td>-0.141031</td>\n      <td>0.049042</td>\n      <td>-0.035745</td>\n      <td>-0.065774</td>\n    </tr>\n    <tr>\n      <th>2</th>\n      <td>0.300907</td>\n      <td>0.193260</td>\n      <td>-0.498778</td>\n      <td>0.215972</td>\n      <td>0.193097</td>\n      <td>0.223985</td>\n      <td>0.181815</td>\n      <td>-0.106533</td>\n      <td>0.247362</td>\n      <td>0.262557</td>\n      <td>...</td>\n      <td>0.210722</td>\n      <td>-0.168287</td>\n      <td>0.242233</td>\n      <td>-0.579043</td>\n      <td>-0.142183</td>\n      <td>0.223372</td>\n      <td>-0.142068</td>\n      <td>0.043969</td>\n      <td>-0.031963</td>\n      <td>-0.054336</td>\n    </tr>\n    <tr>\n      <th>3</th>\n      <td>0.294519</td>\n      <td>0.198307</td>\n      <td>-0.492020</td>\n      <td>0.211912</td>\n      <td>0.201571</td>\n      <td>0.225530</td>\n      <td>0.192947</td>\n      <td>-0.100199</td>\n      <td>0.261141</td>\n      <td>0.264648</td>\n      <td>...</td>\n      <td>0.216593</td>\n      <td>-0.163219</td>\n      <td>0.242032</td>\n      <td>-0.586569</td>\n      <td>-0.137623</td>\n      <td>0.219293</td>\n      <td>-0.139870</td>\n      <td>0.039641</td>\n      <td>-0.034909</td>\n      <td>-0.062468</td>\n    </tr>\n    <tr>\n      <th>4</th>\n      <td>0.296625</td>\n      <td>0.196416</td>\n      <td>-0.493361</td>\n      <td>0.214012</td>\n      <td>0.195244</td>\n      <td>0.231359</td>\n      <td>0.194209</td>\n      <td>-0.101270</td>\n      <td>0.252890</td>\n      <td>0.263173</td>\n      <td>...</td>\n      <td>0.211895</td>\n      <td>-0.166441</td>\n      <td>0.237079</td>\n      <td>-0.587006</td>\n      <td>-0.140724</td>\n      <td>0.224566</td>\n      <td>-0.142844</td>\n      <td>0.041942</td>\n      <td>-0.030708</td>\n      <td>-0.056173</td>\n    </tr>\n  </tbody>\n</table>\n<p>5 rows × 768 columns</p>\n</div>",
      "text/plain": "   BERTEmbed_0  BERTEmbed_1  BERTEmbed_2  BERTEmbed_3  BERTEmbed_4  \\\n0     0.299457     0.198897    -0.491295     0.211787     0.197080   \n1     0.299628     0.207495    -0.491100     0.207046     0.198606   \n2     0.300907     0.193260    -0.498778     0.215972     0.193097   \n3     0.294519     0.198307    -0.492020     0.211912     0.201571   \n4     0.296625     0.196416    -0.493361     0.214012     0.195244   \n\n   BERTEmbed_5  BERTEmbed_6  BERTEmbed_7  BERTEmbed_8  BERTEmbed_9  ...  \\\n0     0.234026     0.200608    -0.096086     0.250423     0.266876  ...   \n1     0.223802     0.201070    -0.085390     0.272306     0.276768  ...   \n2     0.223985     0.181815    -0.106533     0.247362     0.262557  ...   \n3     0.225530     0.192947    -0.100199     0.261141     0.264648  ...   \n4     0.231359     0.194209    -0.101270     0.252890     0.263173  ...   \n\n   BERTEmbed_758  BERTEmbed_759  BERTEmbed_760  BERTEmbed_761  BERTEmbed_762  \\\n0       0.209932      -0.166056       0.245046      -0.580443      -0.141690   \n1       0.227522      -0.168281       0.246145      -0.575933      -0.133583   \n2       0.210722      -0.168287       0.242233      -0.579043      -0.142183   \n3       0.216593      -0.163219       0.242032      -0.586569      -0.137623   \n4       0.211895      -0.166441       0.237079      -0.587006      -0.140724   \n\n   BERTEmbed_763  BERTEmbed_764  BERTEmbed_765  BERTEmbed_766  BERTEmbed_767  \n0       0.222918      -0.144328       0.048243      -0.027414      -0.055394  \n1       0.210461      -0.141031       0.049042      -0.035745      -0.065774  \n2       0.223372      -0.142068       0.043969      -0.031963      -0.054336  \n3       0.219293      -0.139870       0.039641      -0.034909      -0.062468  \n4       0.224566      -0.142844       0.041942      -0.030708      -0.056173  \n\n[5 rows x 768 columns]"
     },
     "execution_count": 17,
     "metadata": {},
     "output_type": "execute_result"
    }
   ],
   "source": [
    "# pheme_y.head()\n",
    "pheme_bert.head()"
   ]
  },
  {
   "cell_type": "markdown",
   "metadata": {},
   "source": [
    "## CLF"
   ]
  },
  {
   "cell_type": "code",
   "execution_count": 72,
   "metadata": {},
   "outputs": [
    {
     "name": "stdout",
     "output_type": "stream",
     "text": [
      "Accuracy:\t\t 0.5917525773195876\n",
      "Precision Score:\t 0.7697160883280757\n",
      "Recall Score:\t\t0.6612466124661247\n",
      "F1 Score:\t\t 0.5070935818995606\n",
      "              precision    recall  f1-score   support\n",
      "\n",
      "           0       0.26      0.37      0.30       116\n",
      "           1       0.77      0.66      0.71       369\n",
      "\n",
      "    accuracy                           0.59       485\n",
      "   macro avg       0.51      0.52      0.51       485\n",
      "weighted avg       0.65      0.59      0.61       485\n",
      "\n"
     ]
    }
   ],
   "source": [
    "clf = SVC(gamma='auto')\n",
    "train_test(pheme_bert, ext_bert, pheme_y, ext_y, clf)"
   ]
  },
  {
   "cell_type": "code",
   "execution_count": 83,
   "metadata": {},
   "outputs": [
    {
     "name": "stdout",
     "output_type": "stream",
     "text": [
      "Accuracy:\t\t 0.6268041237113402\n",
      "Precision Score:\t 0.7596685082872928\n",
      "Recall Score:\t\t0.7452574525745257\n",
      "F1 Score:\t\t 0.49753590255796776\n",
      "              precision    recall  f1-score   support\n",
      "\n",
      "           0       0.24      0.25      0.24       116\n",
      "           1       0.76      0.75      0.75       369\n",
      "\n",
      "    accuracy                           0.63       485\n",
      "   macro avg       0.50      0.50      0.50       485\n",
      "weighted avg       0.63      0.63      0.63       485\n",
      "\n"
     ]
    }
   ],
   "source": [
    "clf = GaussianNB()\n",
    "train_test(pheme_bert, ext_bert, pheme_y, ext_y, clf)"
   ]
  },
  {
   "cell_type": "markdown",
   "metadata": {},
   "source": [
    "# W2V"
   ]
  },
  {
   "cell_type": "markdown",
   "metadata": {},
   "source": [
    "## Data"
   ]
  },
  {
   "cell_type": "markdown",
   "metadata": {},
   "source": [
    "## CLF"
   ]
  },
  {
   "cell_type": "code",
   "execution_count": 84,
   "metadata": {},
   "outputs": [
    {
     "name": "stdout",
     "output_type": "stream",
     "text": [
      "Accuracy:\t\t 0.32989690721649484\n",
      "Precision Score:\t 0.9782608695652174\n",
      "Recall Score:\t\t0.12195121951219512\n",
      "F1 Score:\t\t 0.31564094214696625\n",
      "              precision    recall  f1-score   support\n",
      "\n",
      "           0       0.26      0.99      0.41       116\n",
      "           1       0.98      0.12      0.22       369\n",
      "\n",
      "    accuracy                           0.33       485\n",
      "   macro avg       0.62      0.56      0.32       485\n",
      "weighted avg       0.81      0.33      0.26       485\n",
      "\n"
     ]
    }
   ],
   "source": [
    "clf = SVC(gamma='auto')\n",
    "train_test(sparse_w2v, sparse_w2v_ext, pheme_y, ext_y, clf)"
   ]
  },
  {
   "cell_type": "code",
   "execution_count": 85,
   "metadata": {},
   "outputs": [
    {
     "name": "stdout",
     "output_type": "stream",
     "text": [
      "Accuracy:\t\t 0.4\n",
      "Precision Score:\t 0.9148936170212766\n",
      "Recall Score:\t\t0.23306233062330622\n",
      "F1 Score:\t\t 0.3987628918680588\n",
      "              precision    recall  f1-score   support\n",
      "\n",
      "           0       0.28      0.93      0.43       116\n",
      "           1       0.91      0.23      0.37       369\n",
      "\n",
      "    accuracy                           0.40       485\n",
      "   macro avg       0.60      0.58      0.40       485\n",
      "weighted avg       0.76      0.40      0.38       485\n",
      "\n"
     ]
    }
   ],
   "source": [
    "clf = GaussianNB()\n",
    "train_test(sparse_w2v, sparse_w2v_ext, pheme_y, ext_y, clf)"
   ]
  },
  {
   "cell_type": "markdown",
   "metadata": {},
   "source": [
    "# BERT + SPARSE"
   ]
  },
  {
   "cell_type": "markdown",
   "metadata": {},
   "source": [
    "## Data"
   ]
  },
  {
   "cell_type": "code",
   "execution_count": 38,
   "metadata": {},
   "outputs": [],
   "source": [
    "scaler = StandardScaler()\n",
    "df = scaler.fit_transform(pheme_sparse.values)\n",
    "df2 = scaler.fit_transform(pheme_thread.values)\n",
    "sparse_bert = np.concatenate([df, df2, pheme_bert.values],axis=1)\n",
    "df = scaler.fit_transform(ext_sparse.values)\n",
    "df2 = scaler.fit_transform(ext_thread.values)\n",
    "sparse_bert_ext = np.concatenate([df, df2, ext_bert.values],axis=1)"
   ]
  },
  {
   "cell_type": "markdown",
   "metadata": {},
   "source": [
    "## CLF"
   ]
  },
  {
   "cell_type": "code",
   "execution_count": 39,
   "metadata": {},
   "outputs": [
    {
     "name": "stdout",
     "output_type": "stream",
     "text": [
      "Accuracy:\t\t 0.4350515463917526\n",
      "Precision Score:\t 0.8925619834710744\n",
      "Recall Score:\t\t0.2926829268292683\n",
      "F1 Score:\t\t 0.43499149659863945\n",
      "              precision    recall  f1-score   support\n",
      "\n",
      "           0       0.28      0.89      0.43       116\n",
      "           1       0.89      0.29      0.44       369\n",
      "\n",
      "    accuracy                           0.44       485\n",
      "   macro avg       0.59      0.59      0.43       485\n",
      "weighted avg       0.75      0.44      0.44       485\n",
      "\n"
     ]
    }
   ],
   "source": [
    "clf = SVC(gamma='auto')\n",
    "train_test(sparse_bert, sparse_bert_ext, pheme_y, ext_y, clf)"
   ]
  },
  {
   "cell_type": "code",
   "execution_count": 37,
   "metadata": {},
   "outputs": [
    {
     "name": "stdout",
     "output_type": "stream",
     "text": [
      "Accuracy:\t\t 0.6268041237113402\n",
      "Precision Score:\t 0.7596685082872928\n",
      "Recall Score:\t\t0.7452574525745257\n",
      "F1 Score:\t\t 0.49753590255796776\n",
      "              precision    recall  f1-score   support\n",
      "\n",
      "           0       0.24      0.25      0.24       116\n",
      "           1       0.76      0.75      0.75       369\n",
      "\n",
      "    accuracy                           0.63       485\n",
      "   macro avg       0.50      0.50      0.50       485\n",
      "weighted avg       0.63      0.63      0.63       485\n",
      "\n"
     ]
    }
   ],
   "source": [
    "clf = GaussianNB()\n",
    "train_test(sparse_bert, sparse_bert_ext, pheme_y, ext_y, clf)\n",
    "\n",
    "# Accuracy:\t\t 0.6268041237113402\n",
    "# Precision Score:\t 0.7596685082872928\n",
    "# Recall Score:\t\t0.7452574525745257\n",
    "# F1 Score:\t\t 0.49753590255796776"
   ]
  },
  {
   "cell_type": "code",
   "execution_count": 13,
   "metadata": {},
   "outputs": [
    {
     "name": "stdout",
     "output_type": "stream",
     "text": [
      "Accuracy:\t\t 0.6536082474226804\n",
      "Precision Score:\t 0.7570332480818415\n",
      "Recall Score:\t\t0.8021680216802168\n",
      "F1 Score:\t\t 0.48947368421052634\n",
      "              precision    recall  f1-score   support\n",
      "\n",
      "           0       0.22      0.18      0.20       116\n",
      "           1       0.76      0.80      0.78       369\n",
      "\n",
      "    accuracy                           0.65       485\n",
      "   macro avg       0.49      0.49      0.49       485\n",
      "weighted avg       0.63      0.65      0.64       485\n",
      "\n"
     ]
    }
   ],
   "source": [
    "X = scale_concat([pheme_sparse, pheme_bert])\n",
    "X2 = scale_concat([ext_sparse, ext_bert])\n",
    "clf = GaussianNB()\n",
    "train_test(X, sparse_bert_ext, pheme_y, ext_y, clf)"
   ]
  },
  {
   "cell_type": "code",
   "execution_count": 35,
   "metadata": {},
   "outputs": [
    {
     "name": "stdout",
     "output_type": "stream",
     "text": [
      "Accuracy:\t\t 0.5051546391752577\n",
      "Precision Score:\t 0.8028169014084507\n",
      "Recall Score:\t\t0.4634146341463415\n",
      "F1 Score:\t\t 0.4845360824742268\n",
      "              precision    recall  f1-score   support\n",
      "\n",
      "           0       0.27      0.64      0.38       116\n",
      "           1       0.80      0.46      0.59       369\n",
      "\n",
      "    accuracy                           0.51       485\n",
      "   macro avg       0.54      0.55      0.48       485\n",
      "weighted avg       0.68      0.51      0.54       485\n",
      "\n"
     ]
    }
   ],
   "source": [
    "X = scale_concat([pheme_sparse, pheme_bert, pheme_thread])\n",
    "X2 = scale_concat([ext_sparse, ext_bert, ext_thread])\n",
    "clf = SVC()\n",
    "train_test(X, X2, pheme_y, ext_y, clf)"
   ]
  }
 ],
 "metadata": {
  "kernelspec": {
   "display_name": "rosetta",
   "language": "python",
   "name": "rosetta"
  },
  "language_info": {
   "codemirror_mode": {
    "name": "ipython",
    "version": 3
   },
   "file_extension": ".py",
   "mimetype": "text/x-python",
   "name": "python",
   "nbconvert_exporter": "python",
   "pygments_lexer": "ipython3",
   "version": "3.8.8"
  },
  "orig_nbformat": 2
 },
 "nbformat": 4,
 "nbformat_minor": 2
}