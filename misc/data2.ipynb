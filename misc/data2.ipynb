{
 "metadata": {
  "language_info": {
   "codemirror_mode": {
    "name": "ipython",
    "version": 3
   },
   "file_extension": ".py",
   "mimetype": "text/x-python",
   "name": "python",
   "nbconvert_exporter": "python",
   "pygments_lexer": "ipython3",
   "version": "3.7.9-final"
  },
  "orig_nbformat": 2,
  "kernelspec": {
   "name": "ds",
   "display_name": "DS",
   "language": "python"
  }
 },
 "nbformat": 4,
 "nbformat_minor": 2,
 "cells": [
  {
   "cell_type": "code",
   "execution_count": 2,
   "metadata": {},
   "outputs": [
    {
     "output_type": "stream",
     "name": "stderr",
     "text": [
      "[nltk_data] Downloading package punkt to /Users/june/nltk_data...\n[nltk_data]   Package punkt is already up-to-date!\n[nltk_data] Downloading package averaged_perceptron_tagger to\n[nltk_data]     /Users/june/nltk_data...\n[nltk_data]   Package averaged_perceptron_tagger is already up-to-\n[nltk_data]       date!\n"
     ]
    }
   ],
   "source": [
    "import pandas as pd\n",
    "import numpy as np\n",
    "from glob2 import glob\n",
    "import json\n",
    "\n",
    "import nltk\n",
    "import nltk\n",
    "nltk.download('punkt')\n",
    "nltk.download('averaged_perceptron_tagger')\n",
    "import re\n",
    "from nltk.corpus import stopwords as stp\n",
    "from nltk.stem.porter import PorterStemmer\n",
    "\n",
    "import gensim\n",
    "import gensim.models.word2vec as w2v\n",
    "\n",
    "from datetime import datetime\n",
    "from datetime import date\n",
    "from datetime import timedelta"
   ]
  },
  {
   "source": [
    "# Data Import"
   ],
   "cell_type": "markdown",
   "metadata": {}
  },
  {
   "cell_type": "code",
   "execution_count": 24,
   "metadata": {
    "tags": [
     "outputPrepend"
    ]
   },
   "outputs": [
    {
     "output_type": "stream",
     "name": "stdout",
     "text": [
      ", '../pheme-rnr-dataset/ferguson/non-rumours/498401948585181184/source-tweet/498401948585181184.json', '../pheme-rnr-dataset/ferguson/non-rumours/499679986727411715/source-tweet/499679986727411715.json', '../pheme-rnr-dataset/ferguson/non-rumours/498264393185239040/source-tweet/498264393185239040.json', '../pheme-rnr-dataset/ferguson/non-rumours/500282674200604672/source-tweet/500282674200604672.json', '../pheme-rnr-dataset/ferguson/non-rumours/499387985096237056/source-tweet/499387985096237056.json', '../pheme-rnr-dataset/ferguson/non-rumours/498293625420148736/source-tweet/498293625420148736.json', '../pheme-rnr-dataset/ferguson/non-rumours/498544167757570049/source-tweet/498544167757570049.json', '../pheme-rnr-dataset/ferguson/non-rumours/500277472068263937/source-tweet/500277472068263937.json', '../pheme-rnr-dataset/ferguson/non-rumours/500257318219837440/source-tweet/500257318219837440.json', '../pheme-rnr-dataset/ferguson/non-rumours/498487611963744256/source-tweet/498487611963744256.json', '../pheme-rnr-dataset/ferguson/non-rumours/499698817567293440/source-tweet/499698817567293440.json', '../pheme-rnr-dataset/ferguson/non-rumours/500376174095511552/source-tweet/500376174095511552.json', '../pheme-rnr-dataset/ferguson/non-rumours/499657337985323009/source-tweet/499657337985323009.json', '../pheme-rnr-dataset/ferguson/non-rumours/498303288295817217/source-tweet/498303288295817217.json', '../pheme-rnr-dataset/ferguson/non-rumours/498477164380299264/source-tweet/498477164380299264.json', '../pheme-rnr-dataset/ferguson/non-rumours/499363975377993729/source-tweet/499363975377993729.json', '../pheme-rnr-dataset/ferguson/non-rumours/500175929902395392/source-tweet/500175929902395392.json', '../pheme-rnr-dataset/ferguson/non-rumours/500272399867068416/source-tweet/500272399867068416.json', '../pheme-rnr-dataset/ferguson/non-rumours/499669445548449793/source-tweet/499669445548449793.json', '../pheme-rnr-dataset/ferguson/non-rumours/499542449753051136/source-tweet/499542449753051136.json', '../pheme-rnr-dataset/ferguson/non-rumours/500360558806568960/source-tweet/500360558806568960.json', '../pheme-rnr-dataset/ferguson/non-rumours/499684402616864768/source-tweet/499684402616864768.json', '../pheme-rnr-dataset/ferguson/non-rumours/498586725502173184/source-tweet/498586725502173184.json', '../pheme-rnr-dataset/ferguson/non-rumours/500280176924557314/source-tweet/500280176924557314.json', '../pheme-rnr-dataset/ferguson/non-rumours/499602989133594624/source-tweet/499602989133594624.json', '../pheme-rnr-dataset/ferguson/non-rumours/500347948635791360/source-tweet/500347948635791360.json', '../pheme-rnr-dataset/ferguson/non-rumours/498529979672842241/source-tweet/498529979672842241.json', '../pheme-rnr-dataset/ferguson/non-rumours/499698828845780993/source-tweet/499698828845780993.json', '../pheme-rnr-dataset/ferguson/non-rumours/498276771226451968/source-tweet/498276771226451968.json', '../pheme-rnr-dataset/ferguson/non-rumours/499386726414954496/source-tweet/499386726414954496.json', '../pheme-rnr-dataset/ferguson/non-rumours/498463733447163905/source-tweet/498463733447163905.json', '../pheme-rnr-dataset/ferguson/non-rumours/499484255869612034/source-tweet/499484255869612034.json', '../pheme-rnr-dataset/ferguson/non-rumours/500315536937324544/source-tweet/500315536937324544.json', '../pheme-rnr-dataset/ferguson/non-rumours/498263598062661633/source-tweet/498263598062661633.json', '../pheme-rnr-dataset/ferguson/non-rumours/499704658139435008/source-tweet/499704658139435008.json', '../pheme-rnr-dataset/ferguson/non-rumours/499564237552115712/source-tweet/499564237552115712.json', '../pheme-rnr-dataset/ferguson/non-rumours/498280074941313024/source-tweet/498280074941313024.json', '../pheme-rnr-dataset/ferguson/non-rumours/499689438092726273/source-tweet/499689438092726273.json', '../pheme-rnr-dataset/ferguson/non-rumours/499410965075886080/source-tweet/499410965075886080.json', '../pheme-rnr-dataset/ferguson/non-rumours/499690351875981313/source-tweet/499690351875981313.json', '../pheme-rnr-dataset/ferguson/non-rumours/499595283504701440/source-tweet/499595283504701440.json', '../pheme-rnr-dataset/ferguson/non-rumours/499453886474637312/source-tweet/499453886474637312.json', '../pheme-rnr-dataset/ferguson/non-rumours/498301902048997377/source-tweet/498301902048997377.json', '../pheme-rnr-dataset/ferguson/non-rumours/500269950876286976/source-tweet/500269950876286976.json', '../pheme-rnr-dataset/ferguson/non-rumours/499357077429817344/source-tweet/499357077429817344.json', '../pheme-rnr-dataset/ferguson/non-rumours/500416861016580096/source-tweet/500416861016580096.json', '../pheme-rnr-dataset/ferguson/non-rumours/500160181184249856/source-tweet/500160181184249856.json', '../pheme-rnr-dataset/ferguson/non-rumours/500315907567001600/source-tweet/500315907567001600.json', '../pheme-rnr-dataset/ferguson/non-rumours/499601956491374594/source-tweet/499601956491374594.json', '../pheme-rnr-dataset/ferguson/non-rumours/498609222020780033/source-tweet/498609222020780033.json', '../pheme-rnr-dataset/ferguson/non-rumours/498274934553317376/source-tweet/498274934553317376.json', '../pheme-rnr-dataset/ferguson/non-rumours/498480344992350209/source-tweet/498480344992350209.json', '../pheme-rnr-dataset/ferguson/non-rumours/500277421506306048/source-tweet/500277421506306048.json', '../pheme-rnr-dataset/ferguson/non-rumours/499699989237747712/source-tweet/499699989237747712.json', '../pheme-rnr-dataset/ferguson/non-rumours/499369948943495168/source-tweet/499369948943495168.json', '../pheme-rnr-dataset/ferguson/non-rumours/500266967102914560/source-tweet/500266967102914560.json', '../pheme-rnr-dataset/ferguson/non-rumours/499403422278619136/source-tweet/499403422278619136.json', '../pheme-rnr-dataset/ferguson/non-rumours/499698366402789376/source-tweet/499698366402789376.json', '../pheme-rnr-dataset/ferguson/non-rumours/498497395198799872/source-tweet/498497395198799872.json', '../pheme-rnr-dataset/ferguson/non-rumours/500249630664560640/source-tweet/500249630664560640.json', '../pheme-rnr-dataset/ferguson/non-rumours/498278882244853760/source-tweet/498278882244853760.json', '../pheme-rnr-dataset/ferguson/non-rumours/500288284195426305/source-tweet/500288284195426305.json', '../pheme-rnr-dataset/ferguson/non-rumours/499427218171248641/source-tweet/499427218171248641.json', '../pheme-rnr-dataset/ferguson/non-rumours/498255721260400640/source-tweet/498255721260400640.json', '../pheme-rnr-dataset/ferguson/non-rumours/500070716650565632/source-tweet/500070716650565632.json', '../pheme-rnr-dataset/ferguson/non-rumours/500352655827279874/source-tweet/500352655827279874.json', '../pheme-rnr-dataset/ferguson/non-rumours/500382073593405442/source-tweet/500382073593405442.json', '../pheme-rnr-dataset/ferguson/non-rumours/498489114384420865/source-tweet/498489114384420865.json', '../pheme-rnr-dataset/ferguson/non-rumours/500411055315910656/source-tweet/500411055315910656.json', '../pheme-rnr-dataset/ferguson/non-rumours/500320286341099523/source-tweet/500320286341099523.json', '../pheme-rnr-dataset/ferguson/non-rumours/499362269269336064/source-tweet/499362269269336064.json', '../pheme-rnr-dataset/ferguson/non-rumours/500402908740210688/source-tweet/500402908740210688.json', '../pheme-rnr-dataset/ferguson/non-rumours/500310319844298752/source-tweet/500310319844298752.json', '../pheme-rnr-dataset/ferguson/non-rumours/500272350906957824/source-tweet/500272350906957824.json', '../pheme-rnr-dataset/ferguson/non-rumours/500295570393542657/source-tweet/500295570393542657.json', '../pheme-rnr-dataset/ferguson/non-rumours/499650640314777601/source-tweet/499650640314777601.json', '../pheme-rnr-dataset/ferguson/non-rumours/498285782512050176/source-tweet/498285782512050176.json', '../pheme-rnr-dataset/ferguson/non-rumours/500221671245377537/source-tweet/500221671245377537.json', '../pheme-rnr-dataset/ferguson/non-rumours/499401831874043905/source-tweet/499401831874043905.json', '../pheme-rnr-dataset/ferguson/non-rumours/500368204376850432/source-tweet/500368204376850432.json', '../pheme-rnr-dataset/ferguson/non-rumours/499588291335692288/source-tweet/499588291335692288.json', '../pheme-rnr-dataset/ferguson/non-rumours/499530401136668672/source-tweet/499530401136668672.json', '../pheme-rnr-dataset/ferguson/non-rumours/500366417674268673/source-tweet/500366417674268673.json', '../pheme-rnr-dataset/ferguson/non-rumours/500327581514993665/source-tweet/500327581514993665.json', '../pheme-rnr-dataset/ferguson/non-rumours/498264107460870144/source-tweet/498264107460870144.json', '../pheme-rnr-dataset/ferguson/non-rumours/499679142766735362/source-tweet/499679142766735362.json', '../pheme-rnr-dataset/ferguson/non-rumours/499427833102745600/source-tweet/499427833102745600.json', '../pheme-rnr-dataset/ferguson/non-rumours/498300897051807744/source-tweet/498300897051807744.json', '../pheme-rnr-dataset/ferguson/non-rumours/500251503903662082/source-tweet/500251503903662082.json', '../pheme-rnr-dataset/ferguson/non-rumours/500186818374270976/source-tweet/500186818374270976.json', '../pheme-rnr-dataset/ferguson/non-rumours/499439550029381632/source-tweet/499439550029381632.json', '../pheme-rnr-dataset/ferguson/non-rumours/499704336935821314/source-tweet/499704336935821314.json', '../pheme-rnr-dataset/ferguson/non-rumours/499673760484433921/source-tweet/499673760484433921.json', '../pheme-rnr-dataset/ferguson/non-rumours/498602798687469568/source-tweet/498602798687469568.json', '../pheme-rnr-dataset/ferguson/non-rumours/500355259341242370/source-tweet/500355259341242370.json', '../pheme-rnr-dataset/ferguson/non-rumours/499364002318020608/source-tweet/499364002318020608.json', '../pheme-rnr-dataset/ferguson/non-rumours/500255282757632000/source-tweet/500255282757632000.json', '../pheme-rnr-dataset/ferguson/non-rumours/498530946338258944/source-tweet/498530946338258944.json', '../pheme-rnr-dataset/ferguson/non-rumours/499394221984714752/source-tweet/499394221984714752.json', '../pheme-rnr-dataset/ferguson/non-rumours/500408829696544768/source-tweet/500408829696544768.json', '../pheme-rnr-dataset/ferguson/non-rumours/498494758814109696/source-tweet/498494758814109696.json', '../pheme-rnr-dataset/ferguson/non-rumours/500352850329751552/source-tweet/500352850329751552.json', '../pheme-rnr-dataset/ferguson/non-rumours/500334308867858432/source-tweet/500334308867858432.json', '../pheme-rnr-dataset/ferguson/non-rumours/499571347375136768/source-tweet/499571347375136768.json', '../pheme-rnr-dataset/ferguson/non-rumours/498285405142540289/source-tweet/498285405142540289.json', '../pheme-rnr-dataset/ferguson/non-rumours/499412821671968769/source-tweet/499412821671968769.json', '../pheme-rnr-dataset/ferguson/non-rumours/498508707244683264/source-tweet/498508707244683264.json', '../pheme-rnr-dataset/ferguson/non-rumours/499397048878501888/source-tweet/499397048878501888.json', '../pheme-rnr-dataset/ferguson/non-rumours/499389815268573187/source-tweet/499389815268573187.json', '../pheme-rnr-dataset/ferguson/non-rumours/500263561298710528/source-tweet/500263561298710528.json', '../pheme-rnr-dataset/ferguson/non-rumours/499701576395919360/source-tweet/499701576395919360.json', '../pheme-rnr-dataset/ferguson/non-rumours/499605248747786240/source-tweet/499605248747786240.json', '../pheme-rnr-dataset/ferguson/non-rumours/499690835059814400/source-tweet/499690835059814400.json', '../pheme-rnr-dataset/ferguson/non-rumours/499424290748780546/source-tweet/499424290748780546.json', '../pheme-rnr-dataset/ferguson/non-rumours/498259903962570752/source-tweet/498259903962570752.json', '../pheme-rnr-dataset/ferguson/non-rumours/499660768908832771/source-tweet/499660768908832771.json', '../pheme-rnr-dataset/ferguson/non-rumours/499364522038394880/source-tweet/499364522038394880.json', '../pheme-rnr-dataset/ferguson/non-rumours/500399997113098240/source-tweet/500399997113098240.json', '../pheme-rnr-dataset/ferguson/non-rumours/500362377062547457/source-tweet/500362377062547457.json', '../pheme-rnr-dataset/ferguson/non-rumours/500307273659318272/source-tweet/500307273659318272.json', '../pheme-rnr-dataset/ferguson/non-rumours/499362348940144640/source-tweet/499362348940144640.json', '../pheme-rnr-dataset/ferguson/non-rumours/500329800725442562/source-tweet/500329800725442562.json', '../pheme-rnr-dataset/ferguson/non-rumours/499363323335680000/source-tweet/499363323335680000.json', '../pheme-rnr-dataset/ferguson/non-rumours/499691638424608768/source-tweet/499691638424608768.json', '../pheme-rnr-dataset/ferguson/non-rumours/500256984768475136/source-tweet/500256984768475136.json', '../pheme-rnr-dataset/ferguson/non-rumours/500329864017498114/source-tweet/500329864017498114.json', '../pheme-rnr-dataset/ferguson/non-rumours/499703033174179840/source-tweet/499703033174179840.json', '../pheme-rnr-dataset/ferguson/non-rumours/499589336816308227/source-tweet/499589336816308227.json', '../pheme-rnr-dataset/ferguson/non-rumours/500385877684539393/source-tweet/500385877684539393.json', '../pheme-rnr-dataset/ferguson/non-rumours/499584511710351361/source-tweet/499584511710351361.json', '../pheme-rnr-dataset/ferguson/non-rumours/499626055251271682/source-tweet/499626055251271682.json', '../pheme-rnr-dataset/ferguson/non-rumours/500072137374171136/source-tweet/500072137374171136.json', '../pheme-rnr-dataset/ferguson/non-rumours/500306837103968257/source-tweet/500306837103968257.json', '../pheme-rnr-dataset/ferguson/non-rumours/498318192000118784/source-tweet/498318192000118784.json', '../pheme-rnr-dataset/ferguson/non-rumours/500402804910206976/source-tweet/500402804910206976.json', '../pheme-rnr-dataset/ferguson/non-rumours/499695682476060673/source-tweet/499695682476060673.json', '../pheme-rnr-dataset/ferguson/non-rumours/500163615555878912/source-tweet/500163615555878912.json', '../pheme-rnr-dataset/ferguson/non-rumours/500396175753633792/source-tweet/500396175753633792.json', '../pheme-rnr-dataset/ferguson/non-rumours/498323364197699584/source-tweet/498323364197699584.json', '../pheme-rnr-dataset/ferguson/non-rumours/498294815579467777/source-tweet/498294815579467777.json', '../pheme-rnr-dataset/ferguson/non-rumours/500317687239966722/source-tweet/500317687239966722.json', '../pheme-rnr-dataset/ferguson/non-rumours/500315609171636225/source-tweet/500315609171636225.json', '../pheme-rnr-dataset/ferguson/non-rumours/498455001463664640/source-tweet/498455001463664640.json', '../pheme-rnr-dataset/ferguson/non-rumours/498281886603411456/source-tweet/498281886603411456.json', '../pheme-rnr-dataset/ferguson/non-rumours/498267196833808384/source-tweet/498267196833808384.json', '../pheme-rnr-dataset/ferguson/non-rumours/499568802267672576/source-tweet/499568802267672576.json', '../pheme-rnr-dataset/ferguson/non-rumours/500308900957405185/source-tweet/500308900957405185.json', '../pheme-rnr-dataset/ferguson/non-rumours/499607500187250689/source-tweet/499607500187250689.json', '../pheme-rnr-dataset/ferguson/non-rumours/499665889198088192/source-tweet/499665889198088192.json', '../pheme-rnr-dataset/ferguson/non-rumours/498340530770939904/source-tweet/498340530770939904.json', '../pheme-rnr-dataset/ferguson/non-rumours/499667482354143232/source-tweet/499667482354143232.json', '../pheme-rnr-dataset/ferguson/non-rumours/499387698390790144/source-tweet/499387698390790144.json', '../pheme-rnr-dataset/ferguson/non-rumours/499689919929798657/source-tweet/499689919929798657.json', '../pheme-rnr-dataset/ferguson/non-rumours/499366152049803264/source-tweet/499366152049803264.json', '../pheme-rnr-dataset/ferguson/non-rumours/500074069354905600/source-tweet/500074069354905600.json', '../pheme-rnr-dataset/ferguson/non-rumours/499667557247614977/source-tweet/499667557247614977.json', '../pheme-rnr-dataset/ferguson/non-rumours/498466570675716096/source-tweet/498466570675716096.json', '../pheme-rnr-dataset/ferguson/non-rumours/499426471300329472/source-tweet/499426471300329472.json', '../pheme-rnr-dataset/ferguson/non-rumours/499467982943186944/source-tweet/499467982943186944.json', '../pheme-rnr-dataset/ferguson/non-rumours/500315984910372864/source-tweet/500315984910372864.json', '../pheme-rnr-dataset/ferguson/non-rumours/500314823117115393/source-tweet/500314823117115393.json', '../pheme-rnr-dataset/ferguson/non-rumours/500234390723915776/source-tweet/500234390723915776.json', '../pheme-rnr-dataset/ferguson/non-rumours/499364508641808384/source-tweet/499364508641808384.json', '../pheme-rnr-dataset/ferguson/non-rumours/500180740127342592/source-tweet/500180740127342592.json', '../pheme-rnr-dataset/ferguson/non-rumours/499357289363431425/source-tweet/499357289363431425.json', '../pheme-rnr-dataset/ferguson/non-rumours/499691814358888448/source-tweet/499691814358888448.json', '../pheme-rnr-dataset/ferguson/non-rumours/500386524416856064/source-tweet/500386524416856064.json', '../pheme-rnr-dataset/ferguson/non-rumours/500427783848615936/source-tweet/500427783848615936.json', '../pheme-rnr-dataset/ferguson/non-rumours/500277477986828288/source-tweet/500277477986828288.json', '../pheme-rnr-dataset/ferguson/non-rumours/500331134040162304/source-tweet/500331134040162304.json', '../pheme-rnr-dataset/ferguson/non-rumours/498284429333524480/source-tweet/498284429333524480.json', '../pheme-rnr-dataset/ferguson/non-rumours/499683602452717569/source-tweet/499683602452717569.json', '../pheme-rnr-dataset/ferguson/non-rumours/499446112147628032/source-tweet/499446112147628032.json', '../pheme-rnr-dataset/ferguson/non-rumours/499606771246567424/source-tweet/499606771246567424.json', '../pheme-rnr-dataset/ferguson/non-rumours/499674902060744704/source-tweet/499674902060744704.json', '../pheme-rnr-dataset/ferguson/non-rumours/499696733979688961/source-tweet/499696733979688961.json', '../pheme-rnr-dataset/ferguson/non-rumours/500270284117925888/source-tweet/500270284117925888.json', '../pheme-rnr-dataset/ferguson/non-rumours/498477676219600896/source-tweet/498477676219600896.json', '../pheme-rnr-dataset/ferguson/non-rumours/499531968229683200/source-tweet/499531968229683200.json', '../pheme-rnr-dataset/ferguson/non-rumours/498253652755111937/source-tweet/498253652755111937.json', '../pheme-rnr-dataset/ferguson/non-rumours/500430673099104256/source-tweet/500430673099104256.json', '../pheme-rnr-dataset/ferguson/non-rumours/500250935885852673/source-tweet/500250935885852673.json', '../pheme-rnr-dataset/ferguson/non-rumours/500307863894786048/source-tweet/500307863894786048.json', '../pheme-rnr-dataset/ferguson/non-rumours/500189389855916032/source-tweet/500189389855916032.json', '../pheme-rnr-dataset/ferguson/non-rumours/498486850521423872/source-tweet/498486850521423872.json', '../pheme-rnr-dataset/ferguson/non-rumours/499361679197884416/source-tweet/499361679197884416.json', '../pheme-rnr-dataset/ferguson/non-rumours/500318003024494596/source-tweet/500318003024494596.json', '../pheme-rnr-dataset/ferguson/non-rumours/499706350759206912/source-tweet/499706350759206912.json', '../pheme-rnr-dataset/ferguson/non-rumours/500316380063748096/source-tweet/500316380063748096.json', '../pheme-rnr-dataset/ferguson/non-rumours/499705915227271168/source-tweet/499705915227271168.json', '../pheme-rnr-dataset/ferguson/non-rumours/499444395800682497/source-tweet/499444395800682497.json', '../pheme-rnr-dataset/ferguson/non-rumours/499699435551866880/source-tweet/499699435551866880.json', '../pheme-rnr-dataset/ferguson/non-rumours/498314939359301632/source-tweet/498314939359301632.json', '../pheme-rnr-dataset/ferguson/non-rumours/499478732315566080/source-tweet/499478732315566080.json', '../pheme-rnr-dataset/ferguson/non-rumours/500382270340214784/source-tweet/500382270340214784.json', '../pheme-rnr-dataset/ferguson/non-rumours/500286460210462720/source-tweet/500286460210462720.json', '../pheme-rnr-dataset/ferguson/non-rumours/498507434693246977/source-tweet/498507434693246977.json', '../pheme-rnr-dataset/ferguson/non-rumours/499703127193305088/source-tweet/499703127193305088.json']\n"
     ]
    },
    {
     "output_type": "execute_result",
     "data": {
      "text/plain": [
       "5802"
      ]
     },
     "metadata": {},
     "execution_count": 24
    }
   ],
   "source": [
    "jsonFiles = glob('../pheme-rnr-dataset/**/source-tweet/*.json') #Can be used absolute or relative paths\n",
    "print(jsonFiles)"
   ]
  },
  {
   "cell_type": "code",
   "execution_count": 25,
   "metadata": {},
   "outputs": [
    {
     "output_type": "execute_result",
     "data": {
      "text/plain": [
       "5802"
      ]
     },
     "metadata": {},
     "execution_count": 25
    }
   ],
   "source": [
    "len(jsonFiles)"
   ]
  },
  {
   "cell_type": "code",
   "execution_count": 36,
   "metadata": {
    "tags": []
   },
   "outputs": [],
   "source": [
    "data_list=[]\n",
    "isRumorList = []\n",
    "\n",
    "for jsonFile in jsonFiles[0:1000]:\n",
    "\n",
    "    if jsonFile.find(\"non-rumours\") == -1:\n",
    "        isRumorList.append(1)\n",
    "    else:\n",
    "        isRumorList.append(0)\n",
    "\n",
    "    with open (jsonFile, 'r') as f:\n",
    "        for l in f.readlines():\n",
    "            if not l.strip (): # skip empty lines\n",
    "                continue\n",
    "            json_data = json.loads(l)\n",
    "            # print (json_data,\"\\n\\n\")\n",
    "            data_list.append(json_data)\n",
    "tweet_data_frame = pd.DataFrame.from_dict(data_list)"
   ]
  },
  {
   "cell_type": "code",
   "execution_count": 51,
   "metadata": {},
   "outputs": [
    {
     "output_type": "execute_result",
     "data": {
      "text/plain": [
       "     isRumor\n",
       "0          1\n",
       "1          1\n",
       "2          1\n",
       "3          1\n",
       "4          1\n",
       "..       ...\n",
       "995        1\n",
       "996        1\n",
       "997        1\n",
       "998        1\n",
       "999        1\n",
       "\n",
       "[1000 rows x 1 columns]"
      ],
      "text/html": "<div>\n<style scoped>\n    .dataframe tbody tr th:only-of-type {\n        vertical-align: middle;\n    }\n\n    .dataframe tbody tr th {\n        vertical-align: top;\n    }\n\n    .dataframe thead th {\n        text-align: right;\n    }\n</style>\n<table border=\"1\" class=\"dataframe\">\n  <thead>\n    <tr style=\"text-align: right;\">\n      <th></th>\n      <th>isRumor</th>\n    </tr>\n  </thead>\n  <tbody>\n    <tr>\n      <th>0</th>\n      <td>1</td>\n    </tr>\n    <tr>\n      <th>1</th>\n      <td>1</td>\n    </tr>\n    <tr>\n      <th>2</th>\n      <td>1</td>\n    </tr>\n    <tr>\n      <th>3</th>\n      <td>1</td>\n    </tr>\n    <tr>\n      <th>4</th>\n      <td>1</td>\n    </tr>\n    <tr>\n      <th>...</th>\n      <td>...</td>\n    </tr>\n    <tr>\n      <th>995</th>\n      <td>1</td>\n    </tr>\n    <tr>\n      <th>996</th>\n      <td>1</td>\n    </tr>\n    <tr>\n      <th>997</th>\n      <td>1</td>\n    </tr>\n    <tr>\n      <th>998</th>\n      <td>1</td>\n    </tr>\n    <tr>\n      <th>999</th>\n      <td>1</td>\n    </tr>\n  </tbody>\n</table>\n<p>1000 rows × 1 columns</p>\n</div>"
     },
     "metadata": {},
     "execution_count": 51
    }
   ],
   "source": [
    "df_label = pd.DataFrame(isRumorList, columns=['isRumor'])\n",
    "df_label"
   ]
  },
  {
   "cell_type": "code",
   "execution_count": 52,
   "metadata": {},
   "outputs": [
    {
     "output_type": "stream",
     "name": "stdout",
     "text": [
      "rumor\n"
     ]
    }
   ],
   "source": [
    "def printRumor(route):\n",
    "    if route.find(\"non-rumours\") == -1:\n",
    "        print('rumor')\n",
    "    else:\n",
    "        print('non-rumor')\n",
    "\n",
    "printRumor(jsonFiles[1])"
   ]
  },
  {
   "cell_type": "code",
   "execution_count": 58,
   "metadata": {},
   "outputs": [
    {
     "output_type": "execute_result",
     "data": {
      "text/plain": [
       "    contributors  truncated  \\\n",
       "0           None      False   \n",
       "1           None      False   \n",
       "2           None      False   \n",
       "3           None      False   \n",
       "4           None      False   \n",
       "..           ...        ...   \n",
       "995         None      False   \n",
       "996         None      False   \n",
       "997         None      False   \n",
       "998         None      False   \n",
       "999         None      False   \n",
       "\n",
       "                                                  text in_reply_to_status_id  \\\n",
       "0    EXTENDED: Dramatic video of gunfire inside hal...                  None   \n",
       "1    Police have clarified that there were two shoo...                  None   \n",
       "2    Soldier killed in Ottawa identified as Cpl. Na...                  None   \n",
       "3    NORAD increases number of planes on higher ale...                  None   \n",
       "4    All 3 patients injured in #OttawaShooting rele...                  None   \n",
       "..                                                 ...                   ...   \n",
       "995  Flight #4U9525 initially climbed to 38,000 fee...                  None   \n",
       "996  #BREAKING: A #Germanwings Airbus A320 plane ha...                  None   \n",
       "997  French officials confirm i/d of #Germanwings c...                  None   \n",
       "998  French PM: fears 142-150 passengers died when ...                  None   \n",
       "999  2 babies were among 144 passengers on board cr...                  None   \n",
       "\n",
       "                     id  favorite_count  \\\n",
       "0    524950899899113473             132   \n",
       "1    524990163446140928              70   \n",
       "2    525039002307424256             141   \n",
       "3    524957752138149888              39   \n",
       "4    525051365195014144             126   \n",
       "..                  ...             ...   \n",
       "995  580325090367315968             202   \n",
       "996  580320945740480512              22   \n",
       "997  581063816882065408               9   \n",
       "998  580326073776357376              34   \n",
       "999  580370275121938432             306   \n",
       "\n",
       "                                                source  retweeted coordinates  \\\n",
       "0    <a href=\"https://about.twitter.com/products/tw...      False        None   \n",
       "1    <a href=\"http://www.hootsuite.com\" rel=\"nofoll...      False        None   \n",
       "2    <a href=\"https://about.twitter.com/products/tw...      False        None   \n",
       "3    <a href=\"http://twitter.com\" rel=\"nofollow\">Tw...      False        None   \n",
       "4    <a href=\"http://twitter.com\" rel=\"nofollow\">Tw...      False        None   \n",
       "..                                                 ...        ...         ...   \n",
       "995  <a href=\"https://about.twitter.com/products/tw...      False        None   \n",
       "996  <a href=\"https://about.twitter.com/products/tw...      False        None   \n",
       "997  <a href=\"http://twitter.com/download/iphone\" r...      False        None   \n",
       "998  <a href=\"http://twitter.com\" rel=\"nofollow\">Tw...      False        None   \n",
       "999  <a href=\"http://www.socialflow.com\" rel=\"nofol...      False        None   \n",
       "\n",
       "                                              entities  ...  \\\n",
       "0    {'symbols': [], 'user_mentions': [], 'hashtags...  ...   \n",
       "1    {'symbols': [], 'user_mentions': [], 'hashtags...  ...   \n",
       "2    {'symbols': [], 'media': [{'expanded_url': 'ht...  ...   \n",
       "3    {'symbols': [], 'user_mentions': [], 'hashtags...  ...   \n",
       "4    {'symbols': [], 'user_mentions': [], 'hashtags...  ...   \n",
       "..                                                 ...  ...   \n",
       "995  {'symbols': [], 'user_mentions': [], 'hashtags...  ...   \n",
       "996  {'user_mentions': [], 'symbols': [], 'trends':...  ...   \n",
       "997  {'symbols': [], 'media': [{'expanded_url': 'ht...  ...   \n",
       "998  {'symbols': [], 'user_mentions': [{'id': 26462...  ...   \n",
       "999  {'user_mentions': [{'id': 26462022, 'indices':...  ...   \n",
       "\n",
       "                                                  user   geo  \\\n",
       "0    {'follow_request_sent': False, 'profile_use_ba...  None   \n",
       "1    {'follow_request_sent': False, 'profile_use_ba...  None   \n",
       "2    {'follow_request_sent': None, 'profile_use_bac...  None   \n",
       "3    {'follow_request_sent': False, 'profile_use_ba...  None   \n",
       "4    {'follow_request_sent': False, 'profile_use_ba...  None   \n",
       "..                                                 ...   ...   \n",
       "995  {'follow_request_sent': False, 'profile_use_ba...  None   \n",
       "996  {'follow_request_sent': None, 'profile_use_bac...  None   \n",
       "997  {'follow_request_sent': None, 'profile_use_bac...  None   \n",
       "998  {'follow_request_sent': False, 'profile_use_ba...  None   \n",
       "999  {'follow_request_sent': None, 'profile_use_bac...  None   \n",
       "\n",
       "     in_reply_to_user_id_str  possibly_sensitive  lang  \\\n",
       "0                       None               False    en   \n",
       "1                       None                 NaN    en   \n",
       "2                       None               False    en   \n",
       "3                       None               False    en   \n",
       "4                       None                 NaN    en   \n",
       "..                       ...                 ...   ...   \n",
       "995                     None               False    en   \n",
       "996                     None               False    en   \n",
       "997                     None               False    en   \n",
       "998                     None               False    en   \n",
       "999                     None               False    en   \n",
       "\n",
       "                         created_at in_reply_to_status_id_str place  \\\n",
       "0    Wed Oct 22 15:50:22 +0000 2014                      None  None   \n",
       "1    Wed Oct 22 18:26:23 +0000 2014                      None  None   \n",
       "2    Wed Oct 22 21:40:27 +0000 2014                      None  None   \n",
       "3    Wed Oct 22 16:17:36 +0000 2014                      None  None   \n",
       "4    Wed Oct 22 22:29:35 +0000 2014                      None  None   \n",
       "..                              ...                       ...   ...   \n",
       "995  Tue Mar 24 11:07:38 +0000 2015                      None  None   \n",
       "996  Tue Mar 24 10:51:09 +0000 2015                      None  None   \n",
       "997  Thu Mar 26 12:03:04 +0000 2015                      None  None   \n",
       "998  Tue Mar 24 11:11:32 +0000 2015                      None  None   \n",
       "999  Tue Mar 24 14:07:11 +0000 2015                      None  None   \n",
       "\n",
       "                                     extended_entities filter_level  \n",
       "0    {'media': [{'expanded_url': 'http://twitter.co...          NaN  \n",
       "1                                                  NaN          NaN  \n",
       "2    {'media': [{'expanded_url': 'http://twitter.co...          low  \n",
       "3                                                  NaN          NaN  \n",
       "4                                                  NaN          NaN  \n",
       "..                                                 ...          ...  \n",
       "995  {'media': [{'expanded_url': 'http://twitter.co...          NaN  \n",
       "996                                                NaN          low  \n",
       "997  {'media': [{'expanded_url': 'http://twitter.co...          low  \n",
       "998  {'media': [{'expanded_url': 'http://twitter.co...          NaN  \n",
       "999                                                NaN          low  \n",
       "\n",
       "[1000 rows x 25 columns]"
      ],
      "text/html": "<div>\n<style scoped>\n    .dataframe tbody tr th:only-of-type {\n        vertical-align: middle;\n    }\n\n    .dataframe tbody tr th {\n        vertical-align: top;\n    }\n\n    .dataframe thead th {\n        text-align: right;\n    }\n</style>\n<table border=\"1\" class=\"dataframe\">\n  <thead>\n    <tr style=\"text-align: right;\">\n      <th></th>\n      <th>contributors</th>\n      <th>truncated</th>\n      <th>text</th>\n      <th>in_reply_to_status_id</th>\n      <th>id</th>\n      <th>favorite_count</th>\n      <th>source</th>\n      <th>retweeted</th>\n      <th>coordinates</th>\n      <th>entities</th>\n      <th>...</th>\n      <th>user</th>\n      <th>geo</th>\n      <th>in_reply_to_user_id_str</th>\n      <th>possibly_sensitive</th>\n      <th>lang</th>\n      <th>created_at</th>\n      <th>in_reply_to_status_id_str</th>\n      <th>place</th>\n      <th>extended_entities</th>\n      <th>filter_level</th>\n    </tr>\n  </thead>\n  <tbody>\n    <tr>\n      <th>0</th>\n      <td>None</td>\n      <td>False</td>\n      <td>EXTENDED: Dramatic video of gunfire inside hal...</td>\n      <td>None</td>\n      <td>524950899899113473</td>\n      <td>132</td>\n      <td>&lt;a href=\"https://about.twitter.com/products/tw...</td>\n      <td>False</td>\n      <td>None</td>\n      <td>{'symbols': [], 'user_mentions': [], 'hashtags...</td>\n      <td>...</td>\n      <td>{'follow_request_sent': False, 'profile_use_ba...</td>\n      <td>None</td>\n      <td>None</td>\n      <td>False</td>\n      <td>en</td>\n      <td>Wed Oct 22 15:50:22 +0000 2014</td>\n      <td>None</td>\n      <td>None</td>\n      <td>{'media': [{'expanded_url': 'http://twitter.co...</td>\n      <td>NaN</td>\n    </tr>\n    <tr>\n      <th>1</th>\n      <td>None</td>\n      <td>False</td>\n      <td>Police have clarified that there were two shoo...</td>\n      <td>None</td>\n      <td>524990163446140928</td>\n      <td>70</td>\n      <td>&lt;a href=\"http://www.hootsuite.com\" rel=\"nofoll...</td>\n      <td>False</td>\n      <td>None</td>\n      <td>{'symbols': [], 'user_mentions': [], 'hashtags...</td>\n      <td>...</td>\n      <td>{'follow_request_sent': False, 'profile_use_ba...</td>\n      <td>None</td>\n      <td>None</td>\n      <td>NaN</td>\n      <td>en</td>\n      <td>Wed Oct 22 18:26:23 +0000 2014</td>\n      <td>None</td>\n      <td>None</td>\n      <td>NaN</td>\n      <td>NaN</td>\n    </tr>\n    <tr>\n      <th>2</th>\n      <td>None</td>\n      <td>False</td>\n      <td>Soldier killed in Ottawa identified as Cpl. Na...</td>\n      <td>None</td>\n      <td>525039002307424256</td>\n      <td>141</td>\n      <td>&lt;a href=\"https://about.twitter.com/products/tw...</td>\n      <td>False</td>\n      <td>None</td>\n      <td>{'symbols': [], 'media': [{'expanded_url': 'ht...</td>\n      <td>...</td>\n      <td>{'follow_request_sent': None, 'profile_use_bac...</td>\n      <td>None</td>\n      <td>None</td>\n      <td>False</td>\n      <td>en</td>\n      <td>Wed Oct 22 21:40:27 +0000 2014</td>\n      <td>None</td>\n      <td>None</td>\n      <td>{'media': [{'expanded_url': 'http://twitter.co...</td>\n      <td>low</td>\n    </tr>\n    <tr>\n      <th>3</th>\n      <td>None</td>\n      <td>False</td>\n      <td>NORAD increases number of planes on higher ale...</td>\n      <td>None</td>\n      <td>524957752138149888</td>\n      <td>39</td>\n      <td>&lt;a href=\"http://twitter.com\" rel=\"nofollow\"&gt;Tw...</td>\n      <td>False</td>\n      <td>None</td>\n      <td>{'symbols': [], 'user_mentions': [], 'hashtags...</td>\n      <td>...</td>\n      <td>{'follow_request_sent': False, 'profile_use_ba...</td>\n      <td>None</td>\n      <td>None</td>\n      <td>False</td>\n      <td>en</td>\n      <td>Wed Oct 22 16:17:36 +0000 2014</td>\n      <td>None</td>\n      <td>None</td>\n      <td>NaN</td>\n      <td>NaN</td>\n    </tr>\n    <tr>\n      <th>4</th>\n      <td>None</td>\n      <td>False</td>\n      <td>All 3 patients injured in #OttawaShooting rele...</td>\n      <td>None</td>\n      <td>525051365195014144</td>\n      <td>126</td>\n      <td>&lt;a href=\"http://twitter.com\" rel=\"nofollow\"&gt;Tw...</td>\n      <td>False</td>\n      <td>None</td>\n      <td>{'symbols': [], 'user_mentions': [], 'hashtags...</td>\n      <td>...</td>\n      <td>{'follow_request_sent': False, 'profile_use_ba...</td>\n      <td>None</td>\n      <td>None</td>\n      <td>NaN</td>\n      <td>en</td>\n      <td>Wed Oct 22 22:29:35 +0000 2014</td>\n      <td>None</td>\n      <td>None</td>\n      <td>NaN</td>\n      <td>NaN</td>\n    </tr>\n    <tr>\n      <th>...</th>\n      <td>...</td>\n      <td>...</td>\n      <td>...</td>\n      <td>...</td>\n      <td>...</td>\n      <td>...</td>\n      <td>...</td>\n      <td>...</td>\n      <td>...</td>\n      <td>...</td>\n      <td>...</td>\n      <td>...</td>\n      <td>...</td>\n      <td>...</td>\n      <td>...</td>\n      <td>...</td>\n      <td>...</td>\n      <td>...</td>\n      <td>...</td>\n      <td>...</td>\n      <td>...</td>\n    </tr>\n    <tr>\n      <th>995</th>\n      <td>None</td>\n      <td>False</td>\n      <td>Flight #4U9525 initially climbed to 38,000 fee...</td>\n      <td>None</td>\n      <td>580325090367315968</td>\n      <td>202</td>\n      <td>&lt;a href=\"https://about.twitter.com/products/tw...</td>\n      <td>False</td>\n      <td>None</td>\n      <td>{'symbols': [], 'user_mentions': [], 'hashtags...</td>\n      <td>...</td>\n      <td>{'follow_request_sent': False, 'profile_use_ba...</td>\n      <td>None</td>\n      <td>None</td>\n      <td>False</td>\n      <td>en</td>\n      <td>Tue Mar 24 11:07:38 +0000 2015</td>\n      <td>None</td>\n      <td>None</td>\n      <td>{'media': [{'expanded_url': 'http://twitter.co...</td>\n      <td>NaN</td>\n    </tr>\n    <tr>\n      <th>996</th>\n      <td>None</td>\n      <td>False</td>\n      <td>#BREAKING: A #Germanwings Airbus A320 plane ha...</td>\n      <td>None</td>\n      <td>580320945740480512</td>\n      <td>22</td>\n      <td>&lt;a href=\"https://about.twitter.com/products/tw...</td>\n      <td>False</td>\n      <td>None</td>\n      <td>{'user_mentions': [], 'symbols': [], 'trends':...</td>\n      <td>...</td>\n      <td>{'follow_request_sent': None, 'profile_use_bac...</td>\n      <td>None</td>\n      <td>None</td>\n      <td>False</td>\n      <td>en</td>\n      <td>Tue Mar 24 10:51:09 +0000 2015</td>\n      <td>None</td>\n      <td>None</td>\n      <td>NaN</td>\n      <td>low</td>\n    </tr>\n    <tr>\n      <th>997</th>\n      <td>None</td>\n      <td>False</td>\n      <td>French officials confirm i/d of #Germanwings c...</td>\n      <td>None</td>\n      <td>581063816882065408</td>\n      <td>9</td>\n      <td>&lt;a href=\"http://twitter.com/download/iphone\" r...</td>\n      <td>False</td>\n      <td>None</td>\n      <td>{'symbols': [], 'media': [{'expanded_url': 'ht...</td>\n      <td>...</td>\n      <td>{'follow_request_sent': None, 'profile_use_bac...</td>\n      <td>None</td>\n      <td>None</td>\n      <td>False</td>\n      <td>en</td>\n      <td>Thu Mar 26 12:03:04 +0000 2015</td>\n      <td>None</td>\n      <td>None</td>\n      <td>{'media': [{'expanded_url': 'http://twitter.co...</td>\n      <td>low</td>\n    </tr>\n    <tr>\n      <th>998</th>\n      <td>None</td>\n      <td>False</td>\n      <td>French PM: fears 142-150 passengers died when ...</td>\n      <td>None</td>\n      <td>580326073776357376</td>\n      <td>34</td>\n      <td>&lt;a href=\"http://twitter.com\" rel=\"nofollow\"&gt;Tw...</td>\n      <td>False</td>\n      <td>None</td>\n      <td>{'symbols': [], 'user_mentions': [{'id': 26462...</td>\n      <td>...</td>\n      <td>{'follow_request_sent': False, 'profile_use_ba...</td>\n      <td>None</td>\n      <td>None</td>\n      <td>False</td>\n      <td>en</td>\n      <td>Tue Mar 24 11:11:32 +0000 2015</td>\n      <td>None</td>\n      <td>None</td>\n      <td>{'media': [{'expanded_url': 'http://twitter.co...</td>\n      <td>NaN</td>\n    </tr>\n    <tr>\n      <th>999</th>\n      <td>None</td>\n      <td>False</td>\n      <td>2 babies were among 144 passengers on board cr...</td>\n      <td>None</td>\n      <td>580370275121938432</td>\n      <td>306</td>\n      <td>&lt;a href=\"http://www.socialflow.com\" rel=\"nofol...</td>\n      <td>False</td>\n      <td>None</td>\n      <td>{'user_mentions': [{'id': 26462022, 'indices':...</td>\n      <td>...</td>\n      <td>{'follow_request_sent': None, 'profile_use_bac...</td>\n      <td>None</td>\n      <td>None</td>\n      <td>False</td>\n      <td>en</td>\n      <td>Tue Mar 24 14:07:11 +0000 2015</td>\n      <td>None</td>\n      <td>None</td>\n      <td>NaN</td>\n      <td>low</td>\n    </tr>\n  </tbody>\n</table>\n<p>1000 rows × 25 columns</p>\n</div>"
     },
     "metadata": {},
     "execution_count": 58
    }
   ],
   "source": [
    "tweet_data_frame"
   ]
  },
  {
   "source": [
    "## Flatten and extract basic features"
   ],
   "cell_type": "markdown",
   "metadata": {}
  },
  {
   "cell_type": "code",
   "execution_count": 97,
   "metadata": {},
   "outputs": [],
   "source": [
    "def flatten_tweets(tweets):\n",
    "\n",
    "    def capitalratio(tweet_text):\n",
    "        uppers = [l for l in tweet_text if l.isupper()]\n",
    "        capitalratio = len(uppers) / len(tweet_text)\n",
    "        return capitalratio \n",
    "\n",
    "    def tweets2tokens(tweet_text):\n",
    "\n",
    "        # Tokenizing\n",
    "        tokens = nltk.word_tokenize(re.sub(r'([^\\s\\w]|_)+','', tweet_text.lower()))\n",
    "\n",
    "        # Setting url value (whether the tweet contains http link) and filter http links\n",
    "        url=0\n",
    "        for token in tokens:\n",
    "            if token.startswith( 'http' ):\n",
    "                url=1\n",
    "        tokens = [token for token in tokens if not token.startswith('http')]\n",
    "\n",
    "        ## Stemming\n",
    "        # porter = PorterStemmer()\n",
    "        # tokens = [porter.stem(token) for token in tokens]\n",
    "\n",
    "        # Filtering Stop words\n",
    "        # from nltk.corpus import stopwords\n",
    "        # stop_words = set(stopwords.words('english'))\n",
    "        # tokens = [token for token in tokens if not token in stop_words]\n",
    "\n",
    "        return tokens,url\n",
    "    \n",
    "    def getposcount(tokens):\n",
    "            postag = []\n",
    "            poscount = {}\n",
    "            poscount['Noun']=0\n",
    "            poscount['Verb']=0\n",
    "            poscount['Adjective'] = 0\n",
    "            poscount['Pronoun']=0\n",
    "            poscount['FirstPersonPronoun']=0\n",
    "            poscount['SecondPersonPronoun']=0\n",
    "            poscount['ThirdPersonPronoun']=0\n",
    "            poscount['Adverb']=0\n",
    "            Nouns = {'NN','NNS','NNP','NNPS'}\n",
    "            Verbs={'VB','VBP','VBZ','VBN','VBG','VBD','To'}\n",
    "            first_person_pronouns=['I','me','my','mine','we','us','our','ours']\n",
    "            second_person_pronouns=['you','your','yours']\n",
    "            third_person_pronouns=['he','she','it','him','her','it','his','hers','its','they','them','their','theirs']\n",
    "\n",
    "            for word in tokens:\n",
    "                w_lower=word.lower()\n",
    "                if w_lower in first_person_pronouns:\n",
    "                    poscount['FirstPersonPronoun']+=1\n",
    "                elif w_lower in second_person_pronouns:\n",
    "                    poscount['SecondPersonPronoun']+=1\n",
    "                elif w_lower in third_person_pronouns:\n",
    "                    poscount['ThirdPersonPronoun']+=1\n",
    "            \n",
    "            postag = nltk.pos_tag(tokens)\n",
    "            for g1 in postag:\n",
    "                if g1[1] in Nouns:\n",
    "                    poscount['Noun'] += 1\n",
    "                elif g1[1] in Verbs:\n",
    "                    poscount['Verb']+= 1\n",
    "                elif g1[1]=='ADJ'or g1[1]=='JJ':\n",
    "                    poscount['Adjective']+=1\n",
    "                elif g1[1]=='PRP' or g1[1]=='PRON':\n",
    "                    poscount['Pronoun']+=1\n",
    "                elif g1[1]=='ADV':\n",
    "                    poscount['Adverb']+=1\n",
    "            return poscount\n",
    "\n",
    "    def contentlength(words):\n",
    "        wordcount = len(words)\n",
    "        return wordcount\n",
    "\n",
    "    \"\"\" Flattens out tweet dictionaries so relevant JSON is in a top-level dictionary. \"\"\"\n",
    "    tweets_list = []\n",
    "    total_tokens_l = []\n",
    "\n",
    "    # Iterate through each tweet\n",
    "    for tweet_obj in tweets:\n",
    "        output_f = dict()\n",
    "\n",
    "        output_f['text']= tweet_obj['text']\n",
    "        output_f['text_token'], _ = tweets2tokens(tweet_obj['text'])\n",
    "        total_tokens_l.extend(output_f['text_token'])\n",
    "\n",
    "        '''POS Tagging'''\n",
    "        pos_dict=getposcount(tweet_obj)\n",
    "        # features.update(pos_dict)\n",
    "        # print(type(pos_dict))\n",
    "        # print(type(pos_dict))\n",
    "        output_f.update(pos_dict)\n",
    "\n",
    "        output_f['char_count'] = len(output_f['text'])\n",
    "        output_f['word_count'] = len(output_f['text_token'])\n",
    "\n",
    "        output_f['has_question'] = \"?\" in output_f[\"text\"]\n",
    "        output_f['has_exclaim'] = \"!\" in output_f[\"text\"]\n",
    "        output_f['has_period'] = \".\" in output_f[\"text\"]\n",
    "        # hasperiod=sum(c =='.' for c in tweet_text)\n",
    "    \n",
    "        ''' User info'''\n",
    "        # Store the user screen name in 'user-screen_name'\n",
    "        # output_f['user-screen_name'] = tweet_obj['user']['screen_name']\n",
    "        \n",
    "        # Store the user location\n",
    "        # output_f['user-location'] = tweet_obj['user']['location']\n",
    "\n",
    "        acc_created = datetime.strptime(tweet_obj['user']['created_at'], '%a %b %d %H:%M:%S %z %Y')\n",
    "        tweet_created = datetime.strptime(tweet_obj['created_at'], '%a %b %d %H:%M:%S %z %Y')\n",
    "        age = (tweet_created - acc_created)\n",
    "        # print(type(timedelta.total_seconds(age)))\n",
    "\n",
    "        output_f['capital_ratio']=(capitalratio(tweet_obj['text']))\n",
    "\n",
    "        # features=(capitalratio(data_list[0]['user']))\n",
    "        output_f['tweet_count'] = np.log10(tweet_obj['user']['statuses_count'])\n",
    "        output_f['listed_count'] = np.log10(tweet_obj['user']['listed_count'])\n",
    "        output_f['follow_ratio'] = np.log10(tweet_obj['user']['followers_count'])\n",
    "        output_f['age'] = int(timedelta.total_seconds(age)/86400)\n",
    "        output_f['verified'] = tweet_obj['user']['verified']\n",
    "\n",
    "        tweets_list.append(output_f)\n",
    "\n",
    "    unk_tokens_l = list(set(total_tokens_l))\n",
    "    print(len(total_tokens_l), len(unk_tokens_l)) # number of tokens and unique tokens\n",
    "\n",
    "    return tweets_list"
   ]
  },
  {
   "cell_type": "code",
   "execution_count": 98,
   "metadata": {
    "tags": []
   },
   "outputs": [
    {
     "output_type": "stream",
     "name": "stdout",
     "text": [
      "34 29\n"
     ]
    },
    {
     "output_type": "execute_result",
     "data": {
      "text/plain": [
       "                                                text  \\\n",
       "0  EXTENDED: Dramatic video of gunfire inside hal...   \n",
       "1  Police have clarified that there were two shoo...   \n",
       "\n",
       "                                          text_token  Noun  Verb  Adjective  \\\n",
       "0  [extended, dramatic, video, of, gunfire, insid...    15     4          5   \n",
       "1  [police, have, clarified, that, there, were, t...    14     4          4   \n",
       "\n",
       "   Pronoun  FirstPersonPronoun  SecondPersonPronoun  ThirdPersonPronoun  \\\n",
       "0        0                   0                    0                   0   \n",
       "1        0                   0                    0                   0   \n",
       "\n",
       "   Adverb  ...  word_count  has_question  has_exclaim  has_period  \\\n",
       "0       0  ...          14         False        False        True   \n",
       "1       0  ...          20         False        False        True   \n",
       "\n",
       "   capital_ratio  tweet_count  listed_count  follow_ratio   age  verified  \n",
       "0       0.137681     4.665787      3.094820      4.764161  2071     False  \n",
       "1       0.050000     4.700323      3.293584      5.238716  1468      True  \n",
       "\n",
       "[2 rows x 21 columns]"
      ],
      "text/html": "<div>\n<style scoped>\n    .dataframe tbody tr th:only-of-type {\n        vertical-align: middle;\n    }\n\n    .dataframe tbody tr th {\n        vertical-align: top;\n    }\n\n    .dataframe thead th {\n        text-align: right;\n    }\n</style>\n<table border=\"1\" class=\"dataframe\">\n  <thead>\n    <tr style=\"text-align: right;\">\n      <th></th>\n      <th>text</th>\n      <th>text_token</th>\n      <th>Noun</th>\n      <th>Verb</th>\n      <th>Adjective</th>\n      <th>Pronoun</th>\n      <th>FirstPersonPronoun</th>\n      <th>SecondPersonPronoun</th>\n      <th>ThirdPersonPronoun</th>\n      <th>Adverb</th>\n      <th>...</th>\n      <th>word_count</th>\n      <th>has_question</th>\n      <th>has_exclaim</th>\n      <th>has_period</th>\n      <th>capital_ratio</th>\n      <th>tweet_count</th>\n      <th>listed_count</th>\n      <th>follow_ratio</th>\n      <th>age</th>\n      <th>verified</th>\n    </tr>\n  </thead>\n  <tbody>\n    <tr>\n      <th>0</th>\n      <td>EXTENDED: Dramatic video of gunfire inside hal...</td>\n      <td>[extended, dramatic, video, of, gunfire, insid...</td>\n      <td>15</td>\n      <td>4</td>\n      <td>5</td>\n      <td>0</td>\n      <td>0</td>\n      <td>0</td>\n      <td>0</td>\n      <td>0</td>\n      <td>...</td>\n      <td>14</td>\n      <td>False</td>\n      <td>False</td>\n      <td>True</td>\n      <td>0.137681</td>\n      <td>4.665787</td>\n      <td>3.094820</td>\n      <td>4.764161</td>\n      <td>2071</td>\n      <td>False</td>\n    </tr>\n    <tr>\n      <th>1</th>\n      <td>Police have clarified that there were two shoo...</td>\n      <td>[police, have, clarified, that, there, were, t...</td>\n      <td>14</td>\n      <td>4</td>\n      <td>4</td>\n      <td>0</td>\n      <td>0</td>\n      <td>0</td>\n      <td>0</td>\n      <td>0</td>\n      <td>...</td>\n      <td>20</td>\n      <td>False</td>\n      <td>False</td>\n      <td>True</td>\n      <td>0.050000</td>\n      <td>4.700323</td>\n      <td>3.293584</td>\n      <td>5.238716</td>\n      <td>1468</td>\n      <td>True</td>\n    </tr>\n  </tbody>\n</table>\n<p>2 rows × 21 columns</p>\n</div>"
     },
     "metadata": {},
     "execution_count": 98
    }
   ],
   "source": [
    "df = pd.DataFrame(flatten_tweets(data_list[0:2]))\n",
    "df"
   ]
  },
  {
   "cell_type": "code",
   "execution_count": 75,
   "metadata": {
    "tags": []
   },
   "outputs": [
    {
     "output_type": "execute_result",
     "data": {
      "text/plain": [
       "                                                 text  \\\n",
       "11  #OttawaShooting police say they are investigat...   \n",
       "12  Reports now that 2nd shooter has been shot in ...   \n",
       "27  CTV News confirms that Canadian authorities ha...   \n",
       "35  Ottawa Police spokesman tells @ABC News that 3...   \n",
       "43  FBI assisting in the case of the Ottawa shooti...   \n",
       "\n",
       "                                           text_token  char_count  word_count  \\\n",
       "11  [ottawashooting, police, say, they, are, inves...         133          21   \n",
       "12  [reports, now, that, 2nd, shooter, has, been, ...          70          12   \n",
       "27  [ctv, news, confirms, that, canadian, authorit...         140          20   \n",
       "35  [ottawa, police, spokesman, tells, abc, news, ...         125          18   \n",
       "43  [fbi, assisting, in, the, case, of, the, ottaw...          84          15   \n",
       "\n",
       "    has_question  has_exclaim  has_period  capital_ratio  tweet_count  \\\n",
       "11         False        False       False       0.060150     2.948413   \n",
       "12         False        False       False       0.028571     4.277495   \n",
       "27         False        False       False       0.078571     4.920108   \n",
       "35         False        False       False       0.072000     4.986736   \n",
       "43         False        False       False       0.095238     4.700202   \n",
       "\n",
       "    listed_count  follow_ratio   age  verified  \n",
       "11      1.949390      3.230193  1671      True  \n",
       "12      2.457882      4.552644  2030     False  \n",
       "27      3.723948      5.806241  2093      True  \n",
       "35      4.559260      6.559645  2027      True  \n",
       "43      3.292699      5.238290  1468      True  "
      ],
      "text/html": "<div>\n<style scoped>\n    .dataframe tbody tr th:only-of-type {\n        vertical-align: middle;\n    }\n\n    .dataframe tbody tr th {\n        vertical-align: top;\n    }\n\n    .dataframe thead th {\n        text-align: right;\n    }\n</style>\n<table border=\"1\" class=\"dataframe\">\n  <thead>\n    <tr style=\"text-align: right;\">\n      <th></th>\n      <th>text</th>\n      <th>text_token</th>\n      <th>char_count</th>\n      <th>word_count</th>\n      <th>has_question</th>\n      <th>has_exclaim</th>\n      <th>has_period</th>\n      <th>capital_ratio</th>\n      <th>tweet_count</th>\n      <th>listed_count</th>\n      <th>follow_ratio</th>\n      <th>age</th>\n      <th>verified</th>\n    </tr>\n  </thead>\n  <tbody>\n    <tr>\n      <th>11</th>\n      <td>#OttawaShooting police say they are investigat...</td>\n      <td>[ottawashooting, police, say, they, are, inves...</td>\n      <td>133</td>\n      <td>21</td>\n      <td>False</td>\n      <td>False</td>\n      <td>False</td>\n      <td>0.060150</td>\n      <td>2.948413</td>\n      <td>1.949390</td>\n      <td>3.230193</td>\n      <td>1671</td>\n      <td>True</td>\n    </tr>\n    <tr>\n      <th>12</th>\n      <td>Reports now that 2nd shooter has been shot in ...</td>\n      <td>[reports, now, that, 2nd, shooter, has, been, ...</td>\n      <td>70</td>\n      <td>12</td>\n      <td>False</td>\n      <td>False</td>\n      <td>False</td>\n      <td>0.028571</td>\n      <td>4.277495</td>\n      <td>2.457882</td>\n      <td>4.552644</td>\n      <td>2030</td>\n      <td>False</td>\n    </tr>\n    <tr>\n      <th>27</th>\n      <td>CTV News confirms that Canadian authorities ha...</td>\n      <td>[ctv, news, confirms, that, canadian, authorit...</td>\n      <td>140</td>\n      <td>20</td>\n      <td>False</td>\n      <td>False</td>\n      <td>False</td>\n      <td>0.078571</td>\n      <td>4.920108</td>\n      <td>3.723948</td>\n      <td>5.806241</td>\n      <td>2093</td>\n      <td>True</td>\n    </tr>\n    <tr>\n      <th>35</th>\n      <td>Ottawa Police spokesman tells @ABC News that 3...</td>\n      <td>[ottawa, police, spokesman, tells, abc, news, ...</td>\n      <td>125</td>\n      <td>18</td>\n      <td>False</td>\n      <td>False</td>\n      <td>False</td>\n      <td>0.072000</td>\n      <td>4.986736</td>\n      <td>4.559260</td>\n      <td>6.559645</td>\n      <td>2027</td>\n      <td>True</td>\n    </tr>\n    <tr>\n      <th>43</th>\n      <td>FBI assisting in the case of the Ottawa shooti...</td>\n      <td>[fbi, assisting, in, the, case, of, the, ottaw...</td>\n      <td>84</td>\n      <td>15</td>\n      <td>False</td>\n      <td>False</td>\n      <td>False</td>\n      <td>0.095238</td>\n      <td>4.700202</td>\n      <td>3.292699</td>\n      <td>5.238290</td>\n      <td>1468</td>\n      <td>True</td>\n    </tr>\n  </tbody>\n</table>\n</div>"
     },
     "metadata": {},
     "execution_count": 75
    }
   ],
   "source": [
    "# for index, row in df.iterrows():\n",
    "#     print(df.text[index],\"\\n\")\n",
    "df.loc[df['has_period']==False].head()"
   ]
  },
  {
   "cell_type": "code",
   "execution_count": 99,
   "metadata": {},
   "outputs": [
    {
     "output_type": "stream",
     "name": "stdout",
     "text": [
      "<class 'pandas.core.frame.DataFrame'>\nRangeIndex: 2 entries, 0 to 1\nData columns (total 21 columns):\n #   Column               Non-Null Count  Dtype  \n---  ------               --------------  -----  \n 0   text                 2 non-null      object \n 1   text_token           2 non-null      object \n 2   Noun                 2 non-null      int64  \n 3   Verb                 2 non-null      int64  \n 4   Adjective            2 non-null      int64  \n 5   Pronoun              2 non-null      int64  \n 6   FirstPersonPronoun   2 non-null      int64  \n 7   SecondPersonPronoun  2 non-null      int64  \n 8   ThirdPersonPronoun   2 non-null      int64  \n 9   Adverb               2 non-null      int64  \n 10  char_count           2 non-null      int64  \n 11  word_count           2 non-null      int64  \n 12  has_question         2 non-null      bool   \n 13  has_exclaim          2 non-null      bool   \n 14  has_period           2 non-null      bool   \n 15  capital_ratio        2 non-null      float64\n 16  tweet_count          2 non-null      float64\n 17  listed_count         2 non-null      float64\n 18  follow_ratio         2 non-null      float64\n 19  age                  2 non-null      int64  \n 20  verified             2 non-null      bool   \ndtypes: bool(4), float64(4), int64(11), object(2)\nmemory usage: 408.0+ bytes\n"
     ]
    }
   ],
   "source": [
    "df.info()"
   ]
  },
  {
   "cell_type": "code",
   "execution_count": 57,
   "metadata": {},
   "outputs": [
    {
     "output_type": "execute_result",
     "data": {
      "text/plain": [
       "                                                  text  \\\n",
       "0    EXTENDED: Dramatic video of gunfire inside hal...   \n",
       "1    Police have clarified that there were two shoo...   \n",
       "2    Soldier killed in Ottawa identified as Cpl. Na...   \n",
       "3    NORAD increases number of planes on higher ale...   \n",
       "4    All 3 patients injured in #OttawaShooting rele...   \n",
       "..                                                 ...   \n",
       "995  Flight #4U9525 initially climbed to 38,000 fee...   \n",
       "996  #BREAKING: A #Germanwings Airbus A320 plane ha...   \n",
       "997  French officials confirm i/d of #Germanwings c...   \n",
       "998  French PM: fears 142-150 passengers died when ...   \n",
       "999  2 babies were among 144 passengers on board cr...   \n",
       "\n",
       "                                            text_token  char_count  \\\n",
       "0    [extended, dramatic, video, of, gunfire, insid...         138   \n",
       "1    [police, have, clarified, that, there, were, t...         120   \n",
       "2    [soldier, killed, in, ottawa, identified, as, ...         105   \n",
       "3    [norad, increases, number, of, planes, on, hig...         140   \n",
       "4    [all, 3, patients, injured, in, ottawashooting...         105   \n",
       "..                                                 ...         ...   \n",
       "995  [flight, 4u9525, initially, climbed, to, 38000...         137   \n",
       "996  [breaking, a, germanwings, airbus, a320, plane...         110   \n",
       "997  [french, officials, confirm, id, of, germanwin...         138   \n",
       "998  [french, pm, fears, 142150, passengers, died, ...         138   \n",
       "999  [2, babies, were, among, 144, passengers, on, ...         130   \n",
       "\n",
       "     word_count  has_question  has_exclaim  has_period  capital_ratio  \\\n",
       "0            14         False        False        True       0.137681   \n",
       "1            20         False        False        True       0.050000   \n",
       "2             9         False        False        True       0.142857   \n",
       "3            17         False        False        True       0.085714   \n",
       "4            13         False        False        True       0.047619   \n",
       "..          ...           ...          ...         ...            ...   \n",
       "995          19         False        False        True       0.043796   \n",
       "996          16         False        False        True       0.118182   \n",
       "997          18         False        False        True       0.079710   \n",
       "998          17         False        False        True       0.079710   \n",
       "999          16         False        False        True       0.061538   \n",
       "\n",
       "     tweet_count  listed_count  follow_ratio   age  verified  isRumor  \n",
       "0       4.665787      3.094820      4.764161  2071     False        1  \n",
       "1       4.700323      3.293584      5.238716  1468      True        1  \n",
       "2       4.665525      3.093422      4.758851  2072     False        1  \n",
       "3       4.860464      4.368677      6.437026  2769      True        1  \n",
       "4       4.408172      3.725340      5.563716  2106      True        1  \n",
       "..           ...           ...           ...   ...       ...      ...  \n",
       "995     3.902601      3.377306      5.330714  1801      True        1  \n",
       "996     5.187507      3.946551      5.787635  2917      True        1  \n",
       "997     2.791691      1.477121      2.830589  1405     False        1  \n",
       "998     4.502632      2.453318      3.895367  1564     False        1  \n",
       "999     4.376705      5.024724      7.150212  2892      True        1  \n",
       "\n",
       "[1000 rows x 14 columns]"
      ],
      "text/html": "<div>\n<style scoped>\n    .dataframe tbody tr th:only-of-type {\n        vertical-align: middle;\n    }\n\n    .dataframe tbody tr th {\n        vertical-align: top;\n    }\n\n    .dataframe thead th {\n        text-align: right;\n    }\n</style>\n<table border=\"1\" class=\"dataframe\">\n  <thead>\n    <tr style=\"text-align: right;\">\n      <th></th>\n      <th>text</th>\n      <th>text_token</th>\n      <th>char_count</th>\n      <th>word_count</th>\n      <th>has_question</th>\n      <th>has_exclaim</th>\n      <th>has_period</th>\n      <th>capital_ratio</th>\n      <th>tweet_count</th>\n      <th>listed_count</th>\n      <th>follow_ratio</th>\n      <th>age</th>\n      <th>verified</th>\n      <th>isRumor</th>\n    </tr>\n  </thead>\n  <tbody>\n    <tr>\n      <th>0</th>\n      <td>EXTENDED: Dramatic video of gunfire inside hal...</td>\n      <td>[extended, dramatic, video, of, gunfire, insid...</td>\n      <td>138</td>\n      <td>14</td>\n      <td>False</td>\n      <td>False</td>\n      <td>True</td>\n      <td>0.137681</td>\n      <td>4.665787</td>\n      <td>3.094820</td>\n      <td>4.764161</td>\n      <td>2071</td>\n      <td>False</td>\n      <td>1</td>\n    </tr>\n    <tr>\n      <th>1</th>\n      <td>Police have clarified that there were two shoo...</td>\n      <td>[police, have, clarified, that, there, were, t...</td>\n      <td>120</td>\n      <td>20</td>\n      <td>False</td>\n      <td>False</td>\n      <td>True</td>\n      <td>0.050000</td>\n      <td>4.700323</td>\n      <td>3.293584</td>\n      <td>5.238716</td>\n      <td>1468</td>\n      <td>True</td>\n      <td>1</td>\n    </tr>\n    <tr>\n      <th>2</th>\n      <td>Soldier killed in Ottawa identified as Cpl. Na...</td>\n      <td>[soldier, killed, in, ottawa, identified, as, ...</td>\n      <td>105</td>\n      <td>9</td>\n      <td>False</td>\n      <td>False</td>\n      <td>True</td>\n      <td>0.142857</td>\n      <td>4.665525</td>\n      <td>3.093422</td>\n      <td>4.758851</td>\n      <td>2072</td>\n      <td>False</td>\n      <td>1</td>\n    </tr>\n    <tr>\n      <th>3</th>\n      <td>NORAD increases number of planes on higher ale...</td>\n      <td>[norad, increases, number, of, planes, on, hig...</td>\n      <td>140</td>\n      <td>17</td>\n      <td>False</td>\n      <td>False</td>\n      <td>True</td>\n      <td>0.085714</td>\n      <td>4.860464</td>\n      <td>4.368677</td>\n      <td>6.437026</td>\n      <td>2769</td>\n      <td>True</td>\n      <td>1</td>\n    </tr>\n    <tr>\n      <th>4</th>\n      <td>All 3 patients injured in #OttawaShooting rele...</td>\n      <td>[all, 3, patients, injured, in, ottawashooting...</td>\n      <td>105</td>\n      <td>13</td>\n      <td>False</td>\n      <td>False</td>\n      <td>True</td>\n      <td>0.047619</td>\n      <td>4.408172</td>\n      <td>3.725340</td>\n      <td>5.563716</td>\n      <td>2106</td>\n      <td>True</td>\n      <td>1</td>\n    </tr>\n    <tr>\n      <th>...</th>\n      <td>...</td>\n      <td>...</td>\n      <td>...</td>\n      <td>...</td>\n      <td>...</td>\n      <td>...</td>\n      <td>...</td>\n      <td>...</td>\n      <td>...</td>\n      <td>...</td>\n      <td>...</td>\n      <td>...</td>\n      <td>...</td>\n      <td>...</td>\n    </tr>\n    <tr>\n      <th>995</th>\n      <td>Flight #4U9525 initially climbed to 38,000 fee...</td>\n      <td>[flight, 4u9525, initially, climbed, to, 38000...</td>\n      <td>137</td>\n      <td>19</td>\n      <td>False</td>\n      <td>False</td>\n      <td>True</td>\n      <td>0.043796</td>\n      <td>3.902601</td>\n      <td>3.377306</td>\n      <td>5.330714</td>\n      <td>1801</td>\n      <td>True</td>\n      <td>1</td>\n    </tr>\n    <tr>\n      <th>996</th>\n      <td>#BREAKING: A #Germanwings Airbus A320 plane ha...</td>\n      <td>[breaking, a, germanwings, airbus, a320, plane...</td>\n      <td>110</td>\n      <td>16</td>\n      <td>False</td>\n      <td>False</td>\n      <td>True</td>\n      <td>0.118182</td>\n      <td>5.187507</td>\n      <td>3.946551</td>\n      <td>5.787635</td>\n      <td>2917</td>\n      <td>True</td>\n      <td>1</td>\n    </tr>\n    <tr>\n      <th>997</th>\n      <td>French officials confirm i/d of #Germanwings c...</td>\n      <td>[french, officials, confirm, id, of, germanwin...</td>\n      <td>138</td>\n      <td>18</td>\n      <td>False</td>\n      <td>False</td>\n      <td>True</td>\n      <td>0.079710</td>\n      <td>2.791691</td>\n      <td>1.477121</td>\n      <td>2.830589</td>\n      <td>1405</td>\n      <td>False</td>\n      <td>1</td>\n    </tr>\n    <tr>\n      <th>998</th>\n      <td>French PM: fears 142-150 passengers died when ...</td>\n      <td>[french, pm, fears, 142150, passengers, died, ...</td>\n      <td>138</td>\n      <td>17</td>\n      <td>False</td>\n      <td>False</td>\n      <td>True</td>\n      <td>0.079710</td>\n      <td>4.502632</td>\n      <td>2.453318</td>\n      <td>3.895367</td>\n      <td>1564</td>\n      <td>False</td>\n      <td>1</td>\n    </tr>\n    <tr>\n      <th>999</th>\n      <td>2 babies were among 144 passengers on board cr...</td>\n      <td>[2, babies, were, among, 144, passengers, on, ...</td>\n      <td>130</td>\n      <td>16</td>\n      <td>False</td>\n      <td>False</td>\n      <td>True</td>\n      <td>0.061538</td>\n      <td>4.376705</td>\n      <td>5.024724</td>\n      <td>7.150212</td>\n      <td>2892</td>\n      <td>True</td>\n      <td>1</td>\n    </tr>\n  </tbody>\n</table>\n<p>1000 rows × 14 columns</p>\n</div>"
     },
     "metadata": {},
     "execution_count": 57
    }
   ],
   "source": [
    "df.join(df_label)"
   ]
  },
  {
   "source": [
    "# Word2vec"
   ],
   "cell_type": "markdown",
   "metadata": {}
  },
  {
   "cell_type": "code",
   "execution_count": 14,
   "metadata": {},
   "outputs": [],
   "source": [
    "word2vec_  = w2v.Word2Vec(\n",
    "    df['text_token'],\n",
    "    sg = 1, \n",
    "    seed = 1,\n",
    "    workers = 4,\n",
    "    size = 300,\n",
    "    min_count = 2,\n",
    "    window = 5,\n",
    "    sample = 1e-3 \n",
    ")"
   ]
  },
  {
   "cell_type": "code",
   "execution_count": 15,
   "metadata": {},
   "outputs": [
    {
     "output_type": "stream",
     "name": "stdout",
     "text": [
      "Number of word vectors: 91\n"
     ]
    }
   ],
   "source": [
    "print(\"Number of word vectors: {}\".format(len(word2vec_.wv.vocab)))"
   ]
  },
  {
   "cell_type": "code",
   "execution_count": 16,
   "metadata": {},
   "outputs": [
    {
     "output_type": "execute_result",
     "data": {
      "text/plain": [
       "[('in', 0.15410608053207397),\n",
       " ('shooter', 0.14074741303920746),\n",
       " ('that', 0.13804525136947632),\n",
       " ('cirillo', 0.12065115571022034),\n",
       " ('is', 0.11968900263309479),\n",
       " ('today', 0.11726216226816177),\n",
       " ('to', 0.11567626893520355),\n",
       " ('ottnews', 0.11402125656604767),\n",
       " ('confirmed', 0.11307068169116974),\n",
       " ('national', 0.1011582538485527)]"
      ]
     },
     "metadata": {},
     "execution_count": 16
    }
   ],
   "source": [
    "word2vec_.wv.most_similar('extended')"
   ]
  },
  {
   "cell_type": "code",
   "execution_count": 22,
   "metadata": {},
   "outputs": [
    {
     "output_type": "execute_result",
     "data": {
      "text/plain": [
       "(934, 3380)"
      ]
     },
     "metadata": {},
     "execution_count": 22
    }
   ],
   "source": [
    "word2vec_.train(df['text_token'], total_examples = word2vec_.corpus_count, epochs = word2vec_.iter)"
   ]
  },
  {
   "cell_type": "code",
   "execution_count": 37,
   "metadata": {},
   "outputs": [
    {
     "output_type": "execute_result",
     "data": {
      "text/plain": [
       "(91, 300)"
      ]
     },
     "metadata": {},
     "execution_count": 37
    }
   ],
   "source": [
    "word2vec_.wv.vectors.shape # vocab size / window size"
   ]
  },
  {
   "cell_type": "code",
   "execution_count": 24,
   "metadata": {},
   "outputs": [],
   "source": [
    "word_vectors = word2vec_.wv\n",
    "vocabs = word_vectors.vocab.keys()"
   ]
  },
  {
   "cell_type": "code",
   "execution_count": 25,
   "metadata": {},
   "outputs": [],
   "source": [
    "w2v_vectors = word_vectors.vectors # here you load vectors for each word in your model\n",
    "w2v_indices = {word: word_vectors.vocab[word].index for word in word_vectors.vocab} # here you load indices - with whom you can find an index of the particular word in your model "
   ]
  },
  {
   "cell_type": "code",
   "execution_count": 26,
   "metadata": {},
   "outputs": [],
   "source": [
    "def vectorize(line): \n",
    "    words = []\n",
    "    \n",
    "    for word in line: # line - iterable, for example list of tokens \n",
    "        try:\n",
    "            w2v_idx = w2v_indices[word]\n",
    "        except KeyError: # if you does not have a vector for this word in your w2v model, continue \n",
    "            continue\n",
    "        words.append(list(w2v_vectors[w2v_idx]))\n",
    "        if not word:\n",
    "            words.append(None)\n",
    "\n",
    "        if len(line) > len(words):\n",
    "            continue\n",
    "        # if word: \n",
    "            # words = np.asarray(words)\n",
    "            # min_vec = words.min(axis=0)\n",
    "            # max_vec = words.max(axis=0)\n",
    "            # return np.concatenate((min_vec, max_vec))\n",
    "    return np.asarray(words)"
   ]
  },
  {
   "cell_type": "code",
   "execution_count": 27,
   "metadata": {},
   "outputs": [
    {
     "output_type": "stream",
     "name": "stdout",
     "text": [
      "Tweet 1:  Police have clarified that there were two shootings in Ottawa today, not three: at the War Memorial and Parliament Hill.\nIndice of 'police': 14\nIndice of 'police': [-8.7909115e-04  2.2678173e-03  7.8279595e-04 -2.4806941e-04\n  2.2085416e-04  3.7070556e-04  1.3762022e-03 -1.3553880e-03\n -2.3897479e-03  3.5416114e-03 -1.3871110e-03 -1.1577387e-03\n -1.4710624e-03 -9.4026956e-04 -3.0743168e-03  1.6168635e-03\n  2.3008650e-03  1.2779868e-03  4.2597158e-04 -8.8723429e-04\n -1.4630724e-03 -2.5113446e-03  1.1259553e-03  4.6747914e-04\n  1.1300911e-03  1.2301856e-03 -1.2631878e-03 -1.3203674e-03\n -1.1576045e-03  1.6581834e-03  2.7205111e-03  4.7297205e-04\n -2.2558081e-03 -6.5106875e-04  9.0882956e-04  3.4149017e-03\n -2.4374521e-04 -7.7263417e-04 -2.5090321e-03  9.2527538e-04\n -1.3953398e-04  2.2183282e-03  2.5357136e-03  1.1761730e-03\n -9.0547965e-04  7.3233241e-04 -8.4784382e-04 -1.0688273e-03\n -8.5110922e-04 -1.6235624e-03  2.2432089e-03  2.1959362e-03\n -2.6698710e-04  5.3775246e-04  1.5630228e-04 -2.7091692e-03\n  1.6218764e-03 -2.7069021e-03 -9.5247815e-04  2.2792667e-03\n -2.4897114e-03  8.8011660e-04  1.4594890e-03 -1.5603121e-03\n -5.6883908e-04  4.0620507e-04 -1.1793445e-03  2.5163835e-03\n -3.7946510e-03 -2.1821307e-03 -7.3184125e-04  1.6356421e-03\n -4.3983379e-04 -1.2190003e-03  2.5750299e-03 -1.3658439e-03\n  5.3505664e-04  1.5630105e-03 -8.9726847e-04  9.3859686e-05\n -3.3393919e-03  3.8560326e-03  2.5424750e-03 -1.0788930e-03\n  4.2621998e-04 -1.6557997e-03 -1.3717328e-03 -9.2809566e-04\n -9.4741309e-04  2.5336968e-03  1.8555934e-03 -8.1310980e-05\n -2.5294202e-03 -1.2172399e-03 -1.8573184e-03 -1.5215877e-03\n -1.1472192e-03  3.8754721e-03  4.6688275e-04 -7.7622250e-04\n  2.3238274e-04  1.5962915e-03  1.1414046e-03 -1.0271943e-03\n -2.4966863e-03 -4.4662153e-05 -3.6108289e-05 -5.3691678e-04\n -6.9651235e-04  1.0313175e-03  3.6886688e-03  2.1584691e-03\n  2.0845767e-04  1.7468592e-03 -6.6423602e-04  5.3817633e-04\n  1.6615422e-03  1.3176498e-03  5.1444746e-04  4.8894377e-04\n -1.1467681e-03  1.0209649e-03  2.7775862e-03  4.3525439e-04\n -1.6329720e-04 -1.8823337e-03  1.1043731e-03  6.2028860e-04\n  1.2584570e-03  8.7102555e-04 -7.5354817e-04  1.4303210e-03\n  7.6834665e-04 -1.4867426e-03 -1.8544315e-04 -8.5025211e-04\n  1.6493212e-03  3.8576363e-05  3.0702687e-04 -7.0613291e-04\n  1.5395613e-03 -6.9637777e-04  5.8360463e-05  9.0927337e-05\n  7.4674528e-05  2.7364158e-05  2.9178045e-03 -5.7505176e-04\n -2.5966298e-04 -2.5339450e-03 -7.7130110e-04  1.9047883e-03\n  3.6805376e-04  2.1235645e-03  2.5366715e-03 -6.1823078e-04\n -1.6912350e-03  2.4695531e-03 -1.7972805e-03  2.0132004e-03\n -1.1748121e-03 -2.5809098e-03 -2.3997314e-03  1.8211611e-03\n  1.6518380e-03 -3.1954283e-03  6.9455034e-04 -2.1217377e-03\n  7.4608356e-04 -1.9280337e-03  8.3277468e-04  1.0037341e-03\n  1.5977571e-03 -2.0574769e-03 -5.9966207e-04 -2.0420209e-03\n -1.9698625e-03 -5.3111749e-04 -1.9518153e-03 -2.0787455e-03\n  1.8224844e-03 -1.0911397e-03 -5.5464398e-04 -1.0395681e-03\n -6.9787074e-04 -1.4360494e-03 -9.4830198e-04  1.6044142e-03\n -1.1989829e-03  1.9819390e-03  6.8694312e-04 -2.8220238e-03\n  1.8656701e-03 -2.6281161e-04  2.8787607e-03 -3.7280514e-04\n  6.6660577e-04 -1.5517608e-03  3.0924342e-04  1.8943687e-03\n -8.1545778e-04  7.4762793e-04 -1.8246209e-03 -1.3622548e-03\n  2.1665590e-03  2.4993098e-03  2.1298244e-03 -1.1180893e-03\n -1.6527592e-03 -9.4436377e-04 -3.2140189e-05  2.0595698e-03\n -3.0686986e-03  2.3208922e-03  3.0048360e-04  8.1233442e-04\n -1.8082694e-03 -6.7760254e-04 -2.6212130e-03 -3.3751540e-04\n  3.2380607e-04 -1.0734535e-03 -6.0008967e-04  9.0868882e-05\n  2.8668344e-03 -9.4644533e-04 -1.4921568e-03  9.1135426e-04\n  1.9324343e-03  1.2937556e-04 -1.1618689e-03  5.7184574e-04\n  6.2472309e-04 -1.5533572e-03  5.5060582e-04 -2.3183327e-03\n -2.2345821e-03 -2.0426260e-03 -2.0314169e-03 -1.4145948e-03\n  1.7066608e-03 -2.3524354e-03 -1.3455006e-04  1.4696518e-04\n -2.3770391e-04 -6.9642044e-04  5.1131001e-04  5.5306044e-04\n  2.8648840e-03  2.0176684e-03 -2.5271655e-03 -5.6215440e-04\n -2.7080500e-04 -1.0865633e-03  1.6521094e-03 -1.5877136e-03\n -8.9536310e-04 -1.9440148e-03 -3.6493695e-04 -9.3241187e-04\n  3.1105359e-03  1.1730101e-03  1.1466538e-03  2.1198714e-04\n -9.4833388e-04 -1.7135647e-03 -3.9778661e-04 -1.6436361e-03\n  2.5540236e-03 -2.2993351e-03 -8.2252704e-04  1.9067137e-03\n -7.8195869e-04  3.6604624e-04  9.9783763e-04  2.5307757e-04\n -4.4511692e-03  7.4727031e-05  6.3649507e-04 -2.0550818e-03\n  9.0914589e-05  1.8785100e-03 -1.2462420e-03  9.7147032e-04\n  2.3913707e-03 -8.2099141e-04 -3.3072466e-03  7.7672402e-04\n -2.6977637e-03 -2.2024475e-03 -1.2047086e-03 -6.2896957e-04\n  5.2020099e-04 -1.8147136e-03  2.2416979e-03 -2.0488368e-03\n  1.3864568e-03 -3.0867811e-04 -1.8911255e-03 -1.6106913e-04]\nIndice of 'have': 30\nIndice of 'have': [-2.89468997e-04  4.25309548e-03  1.23918848e-03  1.39110931e-03\n -5.71308658e-04  3.08494386e-03  1.71255134e-03  2.49154924e-04\n -2.44943658e-03  2.50306260e-03 -6.18686550e-04 -3.03594838e-03\n -2.12557102e-03 -1.70648622e-03 -2.16869242e-03  1.43020327e-04\n  3.04451445e-03  4.73145861e-03  3.07051325e-03 -4.29956708e-03\n -3.05725168e-03 -1.78067537e-03  1.78518263e-03  2.79834447e-03\n  3.83416610e-03  3.46797961e-03 -8.33338534e-04 -8.81571686e-05\n -9.69927351e-04 -2.59889697e-04  4.17251419e-03 -1.53307838e-03\n -2.80785281e-03 -8.19639419e-04 -1.33386650e-03  1.72614621e-03\n -1.82640285e-03  1.27774244e-03 -5.30079764e-04  1.02383026e-03\n -1.08785240e-03  1.72633282e-03  1.05460722e-03  1.13427895e-03\n -6.44460786e-04 -1.59334810e-03  2.34467420e-03 -1.17570220e-03\n  1.14737777e-03 -1.09872431e-03  9.19247395e-04  1.82229525e-03\n  6.92554866e-04 -8.01425485e-04 -2.05429527e-03 -2.95863557e-03\n  1.30450411e-03 -3.82877304e-03 -1.54861395e-04  3.57125304e-03\n -2.02102237e-03  6.36932207e-04  3.14367469e-03 -2.20762473e-03\n  2.42860246e-04  1.28248066e-03 -2.65744654e-03  3.20777181e-03\n -4.51898295e-03  7.02150341e-04 -2.93628545e-04  2.77995481e-04\n  1.24567538e-03 -1.33672415e-03  3.29904654e-03 -2.08618050e-03\n  2.59843958e-03 -1.30441724e-04 -1.46007491e-03 -1.53203332e-03\n -4.61833738e-03  3.29319015e-03  1.54955068e-03 -4.27817320e-03\n  5.16051194e-04 -3.24999192e-03 -1.79738051e-03 -5.02230832e-03\n -1.32122857e-03  3.69750964e-03  1.81450893e-03  1.67989917e-03\n -1.33083703e-03 -4.05221060e-03 -1.54000212e-04 -8.39339336e-04\n -1.12577435e-03  5.35273459e-03 -5.27622178e-04 -2.65847135e-04\n  1.19937956e-03  1.76871940e-03  1.63825334e-03  1.37548253e-03\n -1.08206493e-03  1.95939816e-03  8.57217005e-04  7.82301795e-05\n -3.04988731e-04  2.42448784e-03  4.01395280e-03  3.64041422e-03\n  1.07232062e-03  1.43264042e-04 -2.31182063e-03 -1.08797278e-04\n  2.23355973e-03 -1.34744344e-03 -1.06037514e-04  1.93718406e-05\n  1.05717231e-03  4.83812671e-03  1.43116072e-03  2.95865233e-03\n -2.02574139e-03 -1.09232287e-03  4.20354074e-03  4.35569527e-05\n -5.91665041e-04  1.96220446e-03  1.41159049e-03  2.11907853e-03\n  2.14668317e-03  4.10818502e-05 -1.38043019e-04 -6.42972227e-05\n -4.63831413e-04 -3.68772948e-04 -2.57954234e-03  2.74858647e-03\n  2.47685262e-03 -2.28574499e-03  3.55803757e-04  2.49416276e-04\n  6.06585701e-04 -1.21744710e-03  7.14614289e-04 -6.94672752e-04\n -9.37513832e-04 -9.72533657e-04 -3.14056338e-03  2.55083246e-03\n  3.66230169e-03  1.97934126e-03  2.74643954e-03  4.29976091e-04\n -1.81780860e-03  4.68556565e-04  2.49132368e-04  2.68056698e-04\n -2.35838769e-03 -2.31238245e-03 -1.81113183e-03  4.73044842e-04\n  1.44619669e-03 -1.38226245e-03  2.70576566e-04 -2.02911859e-03\n  2.26867106e-03  9.54335264e-04  2.01228121e-03 -1.37411489e-03\n  2.58252583e-03 -1.05051312e-03 -1.45899307e-03  8.86787719e-04\n -3.13507486e-03 -9.94889881e-04 -1.71005609e-03 -4.30404674e-04\n -4.56099442e-05  5.52688107e-05  8.66724004e-04 -4.37379233e-04\n -1.73370179e-03 -2.99932179e-03 -1.62742537e-04  2.37547536e-03\n -1.25257496e-03  1.64559134e-03  2.51123728e-03 -3.05910618e-03\n  3.27330199e-03  1.83402491e-03  2.57329550e-04 -1.41387817e-03\n  1.16724681e-04  7.79968628e-04 -5.80777851e-05  2.29836884e-03\n -1.47925733e-04  5.47699688e-04  1.09446810e-04 -1.48776220e-03\n  1.49493001e-03  2.35865242e-03  1.77608675e-03 -3.60221975e-03\n -3.39325587e-03 -7.77787180e-04  1.35064602e-03  3.24652623e-03\n -2.01530126e-03  3.20513267e-03  1.60250964e-03 -2.76975683e-04\n -3.66781278e-05 -2.76860956e-04 -5.67013863e-03  5.36403022e-05\n  1.05816894e-03  6.30720926e-04 -8.19414854e-04 -2.88150331e-04\n  3.28058703e-03  5.57436550e-04 -1.71280664e-03  1.46875158e-03\n  2.38684635e-03  3.38028884e-03  7.34921196e-04  1.79996205e-04\n  8.97810445e-04  2.68962496e-04 -1.31632027e-03 -1.59670587e-03\n -5.61450317e-04 -2.03291862e-03 -8.94735625e-04  1.17117667e-03\n  3.25225620e-03 -2.76308227e-03 -7.43870274e-04 -2.16628728e-03\n  7.19602336e-04 -2.94786529e-03  7.39224313e-04  1.31802377e-03\n  3.18408990e-03  4.37962532e-04 -2.83144251e-03 -4.37737704e-04\n -4.14301176e-03 -1.16544450e-03  2.00481643e-03 -9.68354347e-04\n -3.07189446e-04 -2.37870659e-03  1.77707756e-03 -9.86454310e-04\n  2.89511611e-03  5.22759437e-05  2.09148414e-03  7.54076522e-04\n -9.12745832e-04 -2.69631715e-03 -6.80834230e-04 -1.61099155e-03\n  5.66833140e-03 -1.46210159e-03  2.09501944e-03  1.77729293e-03\n -2.33529368e-03 -1.60468742e-03  2.98916246e-03  1.16834301e-03\n -3.56574287e-03  8.81322194e-05  1.67710835e-03 -1.07663509e-03\n  3.14544770e-04  8.80092673e-04 -3.28365434e-03  3.50009953e-03\n  1.74456520e-03 -2.25514290e-03 -4.42001689e-03  1.46519626e-04\n -3.97176575e-03 -2.43542530e-03  8.41379631e-04  2.75676860e-03\n -6.19451675e-05 -4.06939100e-04  1.19270303e-03  6.29305549e-04\n  1.51272654e-03  6.19808736e-04 -2.48866808e-03 -2.47054780e-03]\n\nVector of the first headline:\n [[-8.7909115e-04  2.2678173e-03  7.8279595e-04 ... -3.0867811e-04\n  -1.8911255e-03 -1.6106913e-04]\n [-2.8946900e-04  4.2530955e-03  1.2391885e-03 ...  6.1980874e-04\n  -2.4886681e-03 -2.4705478e-03]\n [-5.0215487e-04  4.0901704e-03 -1.1841261e-05 ... -4.6129976e-04\n  -2.0509316e-03 -2.9612663e-03]\n ...\n [-6.4243548e-05  2.2149046e-03  1.1547696e-03 ...  1.7974962e-03\n   1.5734373e-04 -8.3841739e-04]\n [ 9.6000684e-04  5.3549451e-03 -1.3434339e-03 ...  1.5550036e-03\n  -2.2070843e-03 -3.9882581e-03]\n [-1.7136518e-03  6.0596275e-03 -1.2361802e-03 ...  2.1709891e-03\n  -1.7635848e-03 -4.6049608e-03]]\n"
     ]
    }
   ],
   "source": [
    "print(\"Tweet 1: \", df['text'][1])\n",
    "print(\"Indice of '{}': {}\".format(df['text_token'][1][0], w2v_indices[df['text_token'][1][0]]))\n",
    "print(\"Indice of '{}': {}\".format(df['text_token'][1][0], w2v_vectors[w2v_indices[df['text_token'][1][0]]]))\n",
    "print(\"Indice of '{}': {}\".format(df['text_token'][1][1], w2v_indices[df['text_token'][1][1]]))\n",
    "print(\"Indice of '{}': {}\".format(df['text_token'][1][1], w2v_vectors[w2v_indices[df['text_token'][1][1]]]))\n",
    "print(\"\\nVector of the first headline:\\n\", vectorize(df['text_token'][1]))"
   ]
  },
  {
   "cell_type": "code",
   "execution_count": 38,
   "metadata": {},
   "outputs": [
    {
     "output_type": "stream",
     "name": "stdout",
     "text": [
      "300\n"
     ]
    },
    {
     "output_type": "execute_result",
     "data": {
      "text/plain": [
       "                                          text_token  \\\n",
       "0  [extended, dramatic, video, of, gunfire, insid...   \n",
       "1  [police, have, clarified, that, there, were, t...   \n",
       "2  [soldier, killed, in, ottawa, identified, as, ...   \n",
       "3  [norad, increases, number, of, planes, on, hig...   \n",
       "4  [all, 3, patients, injured, in, ottawashooting...   \n",
       "\n",
       "                                      text_token_vec  \n",
       "0  [-0.00036248728, 0.003031671, -3.3325305e-05, ...  \n",
       "1  [-0.00023865417, 0.0041637407, -0.00036229126,...  \n",
       "2  [0.00019319016, 0.003343624, -0.0006239494, 2....  \n",
       "3  [-0.0012566921, 0.0022387316, 0.00034883057, 0...  \n",
       "4  [-9.845568e-05, 0.003184773, -0.0003556437, 0....  "
      ],
      "text/html": "<div>\n<style scoped>\n    .dataframe tbody tr th:only-of-type {\n        vertical-align: middle;\n    }\n\n    .dataframe tbody tr th {\n        vertical-align: top;\n    }\n\n    .dataframe thead th {\n        text-align: right;\n    }\n</style>\n<table border=\"1\" class=\"dataframe\">\n  <thead>\n    <tr style=\"text-align: right;\">\n      <th></th>\n      <th>text_token</th>\n      <th>text_token_vec</th>\n    </tr>\n  </thead>\n  <tbody>\n    <tr>\n      <th>0</th>\n      <td>[extended, dramatic, video, of, gunfire, insid...</td>\n      <td>[-0.00036248728, 0.003031671, -3.3325305e-05, ...</td>\n    </tr>\n    <tr>\n      <th>1</th>\n      <td>[police, have, clarified, that, there, were, t...</td>\n      <td>[-0.00023865417, 0.0041637407, -0.00036229126,...</td>\n    </tr>\n    <tr>\n      <th>2</th>\n      <td>[soldier, killed, in, ottawa, identified, as, ...</td>\n      <td>[0.00019319016, 0.003343624, -0.0006239494, 2....</td>\n    </tr>\n    <tr>\n      <th>3</th>\n      <td>[norad, increases, number, of, planes, on, hig...</td>\n      <td>[-0.0012566921, 0.0022387316, 0.00034883057, 0...</td>\n    </tr>\n    <tr>\n      <th>4</th>\n      <td>[all, 3, patients, injured, in, ottawashooting...</td>\n      <td>[-9.845568e-05, 0.003184773, -0.0003556437, 0....</td>\n    </tr>\n  </tbody>\n</table>\n</div>"
     },
     "metadata": {},
     "execution_count": 38
    }
   ],
   "source": [
    "import copy\n",
    "df['text_token_vec'] = copy.deepcopy(df['text_token'])\n",
    "\n",
    "for index, sentence in enumerate(df['text_token_vec']):\n",
    "    df['text_token_vec'][index] = vectorize(sentence).mean(axis=0)\n",
    "    # df['text_token_vec'][0].mean(axis=0)\n",
    "\n",
    "print(len(df['text_token_vec'][0]))\n",
    "df[['text_token','text_token_vec']].head()"
   ]
  },
  {
   "cell_type": "code",
   "execution_count": 39,
   "metadata": {},
   "outputs": [],
   "source": [
    "df_avg = pd.DataFrame(df['text_token_vec'].values.tolist()).add_prefix('token_avg')#.join(df)"
   ]
  },
  {
   "cell_type": "code",
   "execution_count": 40,
   "metadata": {},
   "outputs": [
    {
     "output_type": "execute_result",
     "data": {
      "text/plain": [
       "   token_avg0  token_avg1  token_avg2  token_avg3  token_avg4  token_avg5  \\\n",
       "0   -0.000362    0.003032   -0.000033    0.000764    0.000562    0.002019   \n",
       "1   -0.000239    0.004164   -0.000362    0.000563    0.000864    0.003096   \n",
       "2    0.000193    0.003344   -0.000624    0.000021    0.000610    0.002801   \n",
       "3   -0.001257    0.002239    0.000349    0.000763    0.000656    0.002196   \n",
       "4   -0.000098    0.003185   -0.000356    0.000714    0.000728    0.002770   \n",
       "\n",
       "   token_avg6  token_avg7  token_avg8  token_avg9  ...  token_avg290  \\\n",
       "0    0.000485    0.000402   -0.001589    0.002466  ...     -0.000710   \n",
       "1    0.000252    0.000395   -0.001798    0.003777  ...     -0.000787   \n",
       "2    0.000233    0.000530   -0.001825    0.002633  ...     -0.000589   \n",
       "3   -0.000204    0.000054   -0.001752    0.002196  ...     -0.000796   \n",
       "4   -0.000517    0.000390   -0.001722    0.002985  ...     -0.000314   \n",
       "\n",
       "   token_avg291  token_avg292  token_avg293  token_avg294  token_avg295  \\\n",
       "0      0.001461     -0.001360     -0.000839      0.001078     -0.000220   \n",
       "1      0.001626     -0.001098     -0.000841      0.001279     -0.000745   \n",
       "2      0.001662     -0.001044     -0.001242      0.000846     -0.000242   \n",
       "3      0.000938     -0.001104     -0.001364      0.001031     -0.000012   \n",
       "4      0.001454     -0.001179     -0.000891      0.001048     -0.000578   \n",
       "\n",
       "   token_avg296  token_avg297  token_avg298  token_avg299  \n",
       "0      0.000509      0.000607     -0.000904     -0.002605  \n",
       "1      0.000655      0.000847     -0.001636     -0.002769  \n",
       "2      0.000367      0.000623     -0.001472     -0.003005  \n",
       "3     -0.000142      0.000074     -0.001242     -0.002073  \n",
       "4      0.000132     -0.000038     -0.001487     -0.002678  \n",
       "\n",
       "[5 rows x 300 columns]"
      ],
      "text/html": "<div>\n<style scoped>\n    .dataframe tbody tr th:only-of-type {\n        vertical-align: middle;\n    }\n\n    .dataframe tbody tr th {\n        vertical-align: top;\n    }\n\n    .dataframe thead th {\n        text-align: right;\n    }\n</style>\n<table border=\"1\" class=\"dataframe\">\n  <thead>\n    <tr style=\"text-align: right;\">\n      <th></th>\n      <th>token_avg0</th>\n      <th>token_avg1</th>\n      <th>token_avg2</th>\n      <th>token_avg3</th>\n      <th>token_avg4</th>\n      <th>token_avg5</th>\n      <th>token_avg6</th>\n      <th>token_avg7</th>\n      <th>token_avg8</th>\n      <th>token_avg9</th>\n      <th>...</th>\n      <th>token_avg290</th>\n      <th>token_avg291</th>\n      <th>token_avg292</th>\n      <th>token_avg293</th>\n      <th>token_avg294</th>\n      <th>token_avg295</th>\n      <th>token_avg296</th>\n      <th>token_avg297</th>\n      <th>token_avg298</th>\n      <th>token_avg299</th>\n    </tr>\n  </thead>\n  <tbody>\n    <tr>\n      <th>0</th>\n      <td>-0.000362</td>\n      <td>0.003032</td>\n      <td>-0.000033</td>\n      <td>0.000764</td>\n      <td>0.000562</td>\n      <td>0.002019</td>\n      <td>0.000485</td>\n      <td>0.000402</td>\n      <td>-0.001589</td>\n      <td>0.002466</td>\n      <td>...</td>\n      <td>-0.000710</td>\n      <td>0.001461</td>\n      <td>-0.001360</td>\n      <td>-0.000839</td>\n      <td>0.001078</td>\n      <td>-0.000220</td>\n      <td>0.000509</td>\n      <td>0.000607</td>\n      <td>-0.000904</td>\n      <td>-0.002605</td>\n    </tr>\n    <tr>\n      <th>1</th>\n      <td>-0.000239</td>\n      <td>0.004164</td>\n      <td>-0.000362</td>\n      <td>0.000563</td>\n      <td>0.000864</td>\n      <td>0.003096</td>\n      <td>0.000252</td>\n      <td>0.000395</td>\n      <td>-0.001798</td>\n      <td>0.003777</td>\n      <td>...</td>\n      <td>-0.000787</td>\n      <td>0.001626</td>\n      <td>-0.001098</td>\n      <td>-0.000841</td>\n      <td>0.001279</td>\n      <td>-0.000745</td>\n      <td>0.000655</td>\n      <td>0.000847</td>\n      <td>-0.001636</td>\n      <td>-0.002769</td>\n    </tr>\n    <tr>\n      <th>2</th>\n      <td>0.000193</td>\n      <td>0.003344</td>\n      <td>-0.000624</td>\n      <td>0.000021</td>\n      <td>0.000610</td>\n      <td>0.002801</td>\n      <td>0.000233</td>\n      <td>0.000530</td>\n      <td>-0.001825</td>\n      <td>0.002633</td>\n      <td>...</td>\n      <td>-0.000589</td>\n      <td>0.001662</td>\n      <td>-0.001044</td>\n      <td>-0.001242</td>\n      <td>0.000846</td>\n      <td>-0.000242</td>\n      <td>0.000367</td>\n      <td>0.000623</td>\n      <td>-0.001472</td>\n      <td>-0.003005</td>\n    </tr>\n    <tr>\n      <th>3</th>\n      <td>-0.001257</td>\n      <td>0.002239</td>\n      <td>0.000349</td>\n      <td>0.000763</td>\n      <td>0.000656</td>\n      <td>0.002196</td>\n      <td>-0.000204</td>\n      <td>0.000054</td>\n      <td>-0.001752</td>\n      <td>0.002196</td>\n      <td>...</td>\n      <td>-0.000796</td>\n      <td>0.000938</td>\n      <td>-0.001104</td>\n      <td>-0.001364</td>\n      <td>0.001031</td>\n      <td>-0.000012</td>\n      <td>-0.000142</td>\n      <td>0.000074</td>\n      <td>-0.001242</td>\n      <td>-0.002073</td>\n    </tr>\n    <tr>\n      <th>4</th>\n      <td>-0.000098</td>\n      <td>0.003185</td>\n      <td>-0.000356</td>\n      <td>0.000714</td>\n      <td>0.000728</td>\n      <td>0.002770</td>\n      <td>-0.000517</td>\n      <td>0.000390</td>\n      <td>-0.001722</td>\n      <td>0.002985</td>\n      <td>...</td>\n      <td>-0.000314</td>\n      <td>0.001454</td>\n      <td>-0.001179</td>\n      <td>-0.000891</td>\n      <td>0.001048</td>\n      <td>-0.000578</td>\n      <td>0.000132</td>\n      <td>-0.000038</td>\n      <td>-0.001487</td>\n      <td>-0.002678</td>\n    </tr>\n  </tbody>\n</table>\n<p>5 rows × 300 columns</p>\n</div>"
     },
     "metadata": {},
     "execution_count": 40
    }
   ],
   "source": [
    "df_avg.head()"
   ]
  },
  {
   "source": [
    "### Average of Vectors & Previous features"
   ],
   "cell_type": "markdown",
   "metadata": {}
  },
  {
   "cell_type": "code",
   "execution_count": 32,
   "metadata": {},
   "outputs": [
    {
     "output_type": "execute_result",
     "data": {
      "text/plain": [
       "                                                text  \\\n",
       "0  EXTENDED: Dramatic video of gunfire inside hal...   \n",
       "1  Police have clarified that there were two shoo...   \n",
       "2  Soldier killed in Ottawa identified as Cpl. Na...   \n",
       "3  NORAD increases number of planes on higher ale...   \n",
       "4  All 3 patients injured in #OttawaShooting rele...   \n",
       "\n",
       "                                          text_token  char_count  word_count  \\\n",
       "0  [extended, dramatic, video, of, gunfire, insid...         138          14   \n",
       "1  [police, have, clarified, that, there, were, t...         120          20   \n",
       "2  [soldier, killed, in, ottawa, identified, as, ...         105           9   \n",
       "3  [norad, increases, number, of, planes, on, hig...         140          17   \n",
       "4  [all, 3, patients, injured, in, ottawashooting...         105          13   \n",
       "\n",
       "   has_question  has_exclaim  has_period  capital_ratio  tweet_count  \\\n",
       "0         False        False        True       0.137681     4.665787   \n",
       "1         False        False        True       0.050000     4.700323   \n",
       "2         False        False        True       0.142857     4.665525   \n",
       "3         False        False        True       0.085714     4.860464   \n",
       "4         False        False        True       0.047619     4.408172   \n",
       "\n",
       "   listed_count  ...  token_avg290  token_avg291  token_avg292 token_avg293  \\\n",
       "0      3.094820  ...     -0.000710      0.001461     -0.001360    -0.000839   \n",
       "1      3.293584  ...     -0.000787      0.001626     -0.001098    -0.000841   \n",
       "2      3.093422  ...     -0.000589      0.001662     -0.001044    -0.001242   \n",
       "3      4.368677  ...     -0.000796      0.000938     -0.001104    -0.001364   \n",
       "4      3.725340  ...     -0.000314      0.001454     -0.001179    -0.000891   \n",
       "\n",
       "   token_avg294  token_avg295  token_avg296  token_avg297  token_avg298  \\\n",
       "0      0.001078     -0.000220      0.000509      0.000607     -0.000904   \n",
       "1      0.001279     -0.000745      0.000655      0.000847     -0.001636   \n",
       "2      0.000846     -0.000242      0.000367      0.000623     -0.001472   \n",
       "3      0.001031     -0.000012     -0.000142      0.000074     -0.001242   \n",
       "4      0.001048     -0.000578      0.000132     -0.000038     -0.001487   \n",
       "\n",
       "   token_avg299  \n",
       "0     -0.002605  \n",
       "1     -0.002769  \n",
       "2     -0.003005  \n",
       "3     -0.002073  \n",
       "4     -0.002678  \n",
       "\n",
       "[5 rows x 314 columns]"
      ],
      "text/html": "<div>\n<style scoped>\n    .dataframe tbody tr th:only-of-type {\n        vertical-align: middle;\n    }\n\n    .dataframe tbody tr th {\n        vertical-align: top;\n    }\n\n    .dataframe thead th {\n        text-align: right;\n    }\n</style>\n<table border=\"1\" class=\"dataframe\">\n  <thead>\n    <tr style=\"text-align: right;\">\n      <th></th>\n      <th>text</th>\n      <th>text_token</th>\n      <th>char_count</th>\n      <th>word_count</th>\n      <th>has_question</th>\n      <th>has_exclaim</th>\n      <th>has_period</th>\n      <th>capital_ratio</th>\n      <th>tweet_count</th>\n      <th>listed_count</th>\n      <th>...</th>\n      <th>token_avg290</th>\n      <th>token_avg291</th>\n      <th>token_avg292</th>\n      <th>token_avg293</th>\n      <th>token_avg294</th>\n      <th>token_avg295</th>\n      <th>token_avg296</th>\n      <th>token_avg297</th>\n      <th>token_avg298</th>\n      <th>token_avg299</th>\n    </tr>\n  </thead>\n  <tbody>\n    <tr>\n      <th>0</th>\n      <td>EXTENDED: Dramatic video of gunfire inside hal...</td>\n      <td>[extended, dramatic, video, of, gunfire, insid...</td>\n      <td>138</td>\n      <td>14</td>\n      <td>False</td>\n      <td>False</td>\n      <td>True</td>\n      <td>0.137681</td>\n      <td>4.665787</td>\n      <td>3.094820</td>\n      <td>...</td>\n      <td>-0.000710</td>\n      <td>0.001461</td>\n      <td>-0.001360</td>\n      <td>-0.000839</td>\n      <td>0.001078</td>\n      <td>-0.000220</td>\n      <td>0.000509</td>\n      <td>0.000607</td>\n      <td>-0.000904</td>\n      <td>-0.002605</td>\n    </tr>\n    <tr>\n      <th>1</th>\n      <td>Police have clarified that there were two shoo...</td>\n      <td>[police, have, clarified, that, there, were, t...</td>\n      <td>120</td>\n      <td>20</td>\n      <td>False</td>\n      <td>False</td>\n      <td>True</td>\n      <td>0.050000</td>\n      <td>4.700323</td>\n      <td>3.293584</td>\n      <td>...</td>\n      <td>-0.000787</td>\n      <td>0.001626</td>\n      <td>-0.001098</td>\n      <td>-0.000841</td>\n      <td>0.001279</td>\n      <td>-0.000745</td>\n      <td>0.000655</td>\n      <td>0.000847</td>\n      <td>-0.001636</td>\n      <td>-0.002769</td>\n    </tr>\n    <tr>\n      <th>2</th>\n      <td>Soldier killed in Ottawa identified as Cpl. Na...</td>\n      <td>[soldier, killed, in, ottawa, identified, as, ...</td>\n      <td>105</td>\n      <td>9</td>\n      <td>False</td>\n      <td>False</td>\n      <td>True</td>\n      <td>0.142857</td>\n      <td>4.665525</td>\n      <td>3.093422</td>\n      <td>...</td>\n      <td>-0.000589</td>\n      <td>0.001662</td>\n      <td>-0.001044</td>\n      <td>-0.001242</td>\n      <td>0.000846</td>\n      <td>-0.000242</td>\n      <td>0.000367</td>\n      <td>0.000623</td>\n      <td>-0.001472</td>\n      <td>-0.003005</td>\n    </tr>\n    <tr>\n      <th>3</th>\n      <td>NORAD increases number of planes on higher ale...</td>\n      <td>[norad, increases, number, of, planes, on, hig...</td>\n      <td>140</td>\n      <td>17</td>\n      <td>False</td>\n      <td>False</td>\n      <td>True</td>\n      <td>0.085714</td>\n      <td>4.860464</td>\n      <td>4.368677</td>\n      <td>...</td>\n      <td>-0.000796</td>\n      <td>0.000938</td>\n      <td>-0.001104</td>\n      <td>-0.001364</td>\n      <td>0.001031</td>\n      <td>-0.000012</td>\n      <td>-0.000142</td>\n      <td>0.000074</td>\n      <td>-0.001242</td>\n      <td>-0.002073</td>\n    </tr>\n    <tr>\n      <th>4</th>\n      <td>All 3 patients injured in #OttawaShooting rele...</td>\n      <td>[all, 3, patients, injured, in, ottawashooting...</td>\n      <td>105</td>\n      <td>13</td>\n      <td>False</td>\n      <td>False</td>\n      <td>True</td>\n      <td>0.047619</td>\n      <td>4.408172</td>\n      <td>3.725340</td>\n      <td>...</td>\n      <td>-0.000314</td>\n      <td>0.001454</td>\n      <td>-0.001179</td>\n      <td>-0.000891</td>\n      <td>0.001048</td>\n      <td>-0.000578</td>\n      <td>0.000132</td>\n      <td>-0.000038</td>\n      <td>-0.001487</td>\n      <td>-0.002678</td>\n    </tr>\n  </tbody>\n</table>\n<p>5 rows × 314 columns</p>\n</div>"
     },
     "metadata": {},
     "execution_count": 32
    }
   ],
   "source": [
    "df.join(df_avg).head()"
   ]
  },
  {
   "source": [
    "# Doc2Vec"
   ],
   "cell_type": "markdown",
   "metadata": {}
  },
  {
   "cell_type": "code",
   "execution_count": 42,
   "metadata": {},
   "outputs": [],
   "source": [
    "from gensim.test.utils import common_texts\n",
    "from gensim.models.doc2vec import Doc2Vec, TaggedDocument"
   ]
  },
  {
   "cell_type": "code",
   "execution_count": 43,
   "metadata": {},
   "outputs": [],
   "source": [
    "#Doc2vec 실행\n",
    "documents = [TaggedDocument(doc, [i]) for i, doc in enumerate(df['text_token'])]\n",
    "model = Doc2Vec(documents, vector_size=300, min_alpha=0.025, window=10, min_count=1, workers=4)"
   ]
  },
  {
   "cell_type": "code",
   "execution_count": 44,
   "metadata": {},
   "outputs": [
    {
     "output_type": "execute_result",
     "data": {
      "text/plain": [
       "300"
      ]
     },
     "metadata": {},
     "execution_count": 44
    }
   ],
   "source": [
    "# document vector의 정보\n",
    "len(model.docvecs[0])"
   ]
  },
  {
   "cell_type": "code",
   "execution_count": 46,
   "metadata": {},
   "outputs": [],
   "source": [
    "def most_similar_text(index):\n",
    "    similar = model.docvecs.most_similar(index)\n",
    "\n",
    "    print(\"The quried text: \\n\\n{} \\n\\nis most similar to the text:\\n\\n{}\".format(df['text'][index],df['text'][similar[0][0]]))"
   ]
  },
  {
   "cell_type": "code",
   "execution_count": 45,
   "metadata": {},
   "outputs": [
    {
     "output_type": "execute_result",
     "data": {
      "text/plain": [
       "[(31, 0.13479533791542053),\n",
       " (12, 0.11979718506336212),\n",
       " (4, 0.09530271589756012),\n",
       " (34, 0.0881328135728836),\n",
       " (5, 0.08271204680204391),\n",
       " (15, 0.07966940850019455),\n",
       " (8, 0.07744815945625305),\n",
       " (47, 0.07733796536922455),\n",
       " (19, 0.0739109143614769),\n",
       " (44, 0.07232490181922913)]"
      ]
     },
     "metadata": {},
     "execution_count": 45
    }
   ],
   "source": [
    "model.docvecs.most_similar(1)"
   ]
  },
  {
   "cell_type": "code",
   "execution_count": 47,
   "metadata": {},
   "outputs": [
    {
     "output_type": "stream",
     "name": "stdout",
     "text": [
      "The quried text: \n\nSenior U.S. official: Canadian government has informed U.S. that one shooter is dead in Ottawa. Live blog: http://t.co/q98AMohu7T \n\nis most similar to the text:\n\nTwenty-four-year-old Cpl. Nathan Cirillo was shot dead today at the War Memorial in #Ottawa. #cdnpoli #OttawaShooting http://t.co/j42xy9LX5k\n"
     ]
    }
   ],
   "source": [
    "most_similar_text(30)"
   ]
  },
  {
   "source": [
    "## Convert to feature for df"
   ],
   "cell_type": "markdown",
   "metadata": {}
  },
  {
   "cell_type": "code",
   "execution_count": 48,
   "metadata": {},
   "outputs": [],
   "source": [
    "list_doc = []\n",
    "for index, tokens in enumerate(df['text_token']):\n",
    "    list_doc.append(model.docvecs[index])"
   ]
  },
  {
   "cell_type": "code",
   "execution_count": 52,
   "metadata": {},
   "outputs": [],
   "source": [
    "df_doc = pd.DataFrame(list_doc).add_prefix('doc_vec')"
   ]
  },
  {
   "cell_type": "code",
   "execution_count": 53,
   "metadata": {},
   "outputs": [
    {
     "output_type": "execute_result",
     "data": {
      "text/plain": [
       "   doc_vec0  doc_vec1  doc_vec2  doc_vec3  doc_vec4  doc_vec5  doc_vec6  \\\n",
       "0  0.001254  0.000135  0.000481  0.000981 -0.000149  0.000084  0.000492   \n",
       "1  0.001397 -0.000555 -0.000488 -0.000673 -0.001624  0.000628  0.000476   \n",
       "2 -0.000193 -0.000940 -0.000979 -0.000738  0.001395 -0.001106  0.000247   \n",
       "3 -0.001311 -0.000474 -0.001242 -0.000106 -0.000916  0.001561  0.000604   \n",
       "4 -0.001080 -0.001007  0.001325  0.001059  0.000241  0.001430 -0.000641   \n",
       "\n",
       "   doc_vec7  doc_vec8  doc_vec9  ...  doc_vec290  doc_vec291  doc_vec292  \\\n",
       "0 -0.000723  0.000023  0.000389  ...   -0.000729   -0.001183   -0.000241   \n",
       "1  0.001602 -0.000383 -0.000133  ...    0.000500    0.000647   -0.000827   \n",
       "2 -0.000483 -0.000823  0.001396  ...   -0.000135    0.000966    0.000596   \n",
       "3 -0.000501 -0.000529  0.000829  ...    0.000454   -0.001348   -0.001652   \n",
       "4  0.001540  0.001282 -0.000097  ...    0.001457    0.000818    0.000454   \n",
       "\n",
       "   doc_vec293  doc_vec294  doc_vec295  doc_vec296  doc_vec297  doc_vec298  \\\n",
       "0    0.000246   -0.000162   -0.001003    0.000154   -0.000411    0.001321   \n",
       "1    0.001236   -0.001421    0.001280    0.000317    0.001384    0.000516   \n",
       "2    0.001133   -0.001446   -0.000983    0.000215   -0.000484   -0.001110   \n",
       "3   -0.000885    0.001322   -0.000220   -0.000741   -0.001046   -0.000123   \n",
       "4    0.001714   -0.000894    0.001281   -0.000675   -0.001235    0.000623   \n",
       "\n",
       "   doc_vec299  \n",
       "0    0.001406  \n",
       "1   -0.000400  \n",
       "2   -0.000691  \n",
       "3    0.001043  \n",
       "4   -0.001579  \n",
       "\n",
       "[5 rows x 300 columns]"
      ],
      "text/html": "<div>\n<style scoped>\n    .dataframe tbody tr th:only-of-type {\n        vertical-align: middle;\n    }\n\n    .dataframe tbody tr th {\n        vertical-align: top;\n    }\n\n    .dataframe thead th {\n        text-align: right;\n    }\n</style>\n<table border=\"1\" class=\"dataframe\">\n  <thead>\n    <tr style=\"text-align: right;\">\n      <th></th>\n      <th>doc_vec0</th>\n      <th>doc_vec1</th>\n      <th>doc_vec2</th>\n      <th>doc_vec3</th>\n      <th>doc_vec4</th>\n      <th>doc_vec5</th>\n      <th>doc_vec6</th>\n      <th>doc_vec7</th>\n      <th>doc_vec8</th>\n      <th>doc_vec9</th>\n      <th>...</th>\n      <th>doc_vec290</th>\n      <th>doc_vec291</th>\n      <th>doc_vec292</th>\n      <th>doc_vec293</th>\n      <th>doc_vec294</th>\n      <th>doc_vec295</th>\n      <th>doc_vec296</th>\n      <th>doc_vec297</th>\n      <th>doc_vec298</th>\n      <th>doc_vec299</th>\n    </tr>\n  </thead>\n  <tbody>\n    <tr>\n      <th>0</th>\n      <td>0.001254</td>\n      <td>0.000135</td>\n      <td>0.000481</td>\n      <td>0.000981</td>\n      <td>-0.000149</td>\n      <td>0.000084</td>\n      <td>0.000492</td>\n      <td>-0.000723</td>\n      <td>0.000023</td>\n      <td>0.000389</td>\n      <td>...</td>\n      <td>-0.000729</td>\n      <td>-0.001183</td>\n      <td>-0.000241</td>\n      <td>0.000246</td>\n      <td>-0.000162</td>\n      <td>-0.001003</td>\n      <td>0.000154</td>\n      <td>-0.000411</td>\n      <td>0.001321</td>\n      <td>0.001406</td>\n    </tr>\n    <tr>\n      <th>1</th>\n      <td>0.001397</td>\n      <td>-0.000555</td>\n      <td>-0.000488</td>\n      <td>-0.000673</td>\n      <td>-0.001624</td>\n      <td>0.000628</td>\n      <td>0.000476</td>\n      <td>0.001602</td>\n      <td>-0.000383</td>\n      <td>-0.000133</td>\n      <td>...</td>\n      <td>0.000500</td>\n      <td>0.000647</td>\n      <td>-0.000827</td>\n      <td>0.001236</td>\n      <td>-0.001421</td>\n      <td>0.001280</td>\n      <td>0.000317</td>\n      <td>0.001384</td>\n      <td>0.000516</td>\n      <td>-0.000400</td>\n    </tr>\n    <tr>\n      <th>2</th>\n      <td>-0.000193</td>\n      <td>-0.000940</td>\n      <td>-0.000979</td>\n      <td>-0.000738</td>\n      <td>0.001395</td>\n      <td>-0.001106</td>\n      <td>0.000247</td>\n      <td>-0.000483</td>\n      <td>-0.000823</td>\n      <td>0.001396</td>\n      <td>...</td>\n      <td>-0.000135</td>\n      <td>0.000966</td>\n      <td>0.000596</td>\n      <td>0.001133</td>\n      <td>-0.001446</td>\n      <td>-0.000983</td>\n      <td>0.000215</td>\n      <td>-0.000484</td>\n      <td>-0.001110</td>\n      <td>-0.000691</td>\n    </tr>\n    <tr>\n      <th>3</th>\n      <td>-0.001311</td>\n      <td>-0.000474</td>\n      <td>-0.001242</td>\n      <td>-0.000106</td>\n      <td>-0.000916</td>\n      <td>0.001561</td>\n      <td>0.000604</td>\n      <td>-0.000501</td>\n      <td>-0.000529</td>\n      <td>0.000829</td>\n      <td>...</td>\n      <td>0.000454</td>\n      <td>-0.001348</td>\n      <td>-0.001652</td>\n      <td>-0.000885</td>\n      <td>0.001322</td>\n      <td>-0.000220</td>\n      <td>-0.000741</td>\n      <td>-0.001046</td>\n      <td>-0.000123</td>\n      <td>0.001043</td>\n    </tr>\n    <tr>\n      <th>4</th>\n      <td>-0.001080</td>\n      <td>-0.001007</td>\n      <td>0.001325</td>\n      <td>0.001059</td>\n      <td>0.000241</td>\n      <td>0.001430</td>\n      <td>-0.000641</td>\n      <td>0.001540</td>\n      <td>0.001282</td>\n      <td>-0.000097</td>\n      <td>...</td>\n      <td>0.001457</td>\n      <td>0.000818</td>\n      <td>0.000454</td>\n      <td>0.001714</td>\n      <td>-0.000894</td>\n      <td>0.001281</td>\n      <td>-0.000675</td>\n      <td>-0.001235</td>\n      <td>0.000623</td>\n      <td>-0.001579</td>\n    </tr>\n  </tbody>\n</table>\n<p>5 rows × 300 columns</p>\n</div>"
     },
     "metadata": {},
     "execution_count": 53
    }
   ],
   "source": [
    "df_doc.head()"
   ]
  },
  {
   "cell_type": "code",
   "execution_count": 55,
   "metadata": {},
   "outputs": [
    {
     "output_type": "execute_result",
     "data": {
      "text/plain": [
       "                                                text  \\\n",
       "0  EXTENDED: Dramatic video of gunfire inside hal...   \n",
       "1  Police have clarified that there were two shoo...   \n",
       "2  Soldier killed in Ottawa identified as Cpl. Na...   \n",
       "3  NORAD increases number of planes on higher ale...   \n",
       "4  All 3 patients injured in #OttawaShooting rele...   \n",
       "\n",
       "                                          text_token  char_count  word_count  \\\n",
       "0  [extended, dramatic, video, of, gunfire, insid...         138          14   \n",
       "1  [police, have, clarified, that, there, were, t...         120          20   \n",
       "2  [soldier, killed, in, ottawa, identified, as, ...         105           9   \n",
       "3  [norad, increases, number, of, planes, on, hig...         140          17   \n",
       "4  [all, 3, patients, injured, in, ottawashooting...         105          13   \n",
       "\n",
       "   has_question  has_exclaim  has_period  capital_ratio  tweet_count  \\\n",
       "0         False        False        True       0.137681     4.665787   \n",
       "1         False        False        True       0.050000     4.700323   \n",
       "2         False        False        True       0.142857     4.665525   \n",
       "3         False        False        True       0.085714     4.860464   \n",
       "4         False        False        True       0.047619     4.408172   \n",
       "\n",
       "   listed_count  ...  doc_vec290  doc_vec291  doc_vec292 doc_vec293  \\\n",
       "0      3.094820  ...   -0.000729   -0.001183   -0.000241   0.000246   \n",
       "1      3.293584  ...    0.000500    0.000647   -0.000827   0.001236   \n",
       "2      3.093422  ...   -0.000135    0.000966    0.000596   0.001133   \n",
       "3      4.368677  ...    0.000454   -0.001348   -0.001652  -0.000885   \n",
       "4      3.725340  ...    0.001457    0.000818    0.000454   0.001714   \n",
       "\n",
       "   doc_vec294  doc_vec295  doc_vec296  doc_vec297  doc_vec298  doc_vec299  \n",
       "0   -0.000162   -0.001003    0.000154   -0.000411    0.001321    0.001406  \n",
       "1   -0.001421    0.001280    0.000317    0.001384    0.000516   -0.000400  \n",
       "2   -0.001446   -0.000983    0.000215   -0.000484   -0.001110   -0.000691  \n",
       "3    0.001322   -0.000220   -0.000741   -0.001046   -0.000123    0.001043  \n",
       "4   -0.000894    0.001281   -0.000675   -0.001235    0.000623   -0.001579  \n",
       "\n",
       "[5 rows x 314 columns]"
      ],
      "text/html": "<div>\n<style scoped>\n    .dataframe tbody tr th:only-of-type {\n        vertical-align: middle;\n    }\n\n    .dataframe tbody tr th {\n        vertical-align: top;\n    }\n\n    .dataframe thead th {\n        text-align: right;\n    }\n</style>\n<table border=\"1\" class=\"dataframe\">\n  <thead>\n    <tr style=\"text-align: right;\">\n      <th></th>\n      <th>text</th>\n      <th>text_token</th>\n      <th>char_count</th>\n      <th>word_count</th>\n      <th>has_question</th>\n      <th>has_exclaim</th>\n      <th>has_period</th>\n      <th>capital_ratio</th>\n      <th>tweet_count</th>\n      <th>listed_count</th>\n      <th>...</th>\n      <th>doc_vec290</th>\n      <th>doc_vec291</th>\n      <th>doc_vec292</th>\n      <th>doc_vec293</th>\n      <th>doc_vec294</th>\n      <th>doc_vec295</th>\n      <th>doc_vec296</th>\n      <th>doc_vec297</th>\n      <th>doc_vec298</th>\n      <th>doc_vec299</th>\n    </tr>\n  </thead>\n  <tbody>\n    <tr>\n      <th>0</th>\n      <td>EXTENDED: Dramatic video of gunfire inside hal...</td>\n      <td>[extended, dramatic, video, of, gunfire, insid...</td>\n      <td>138</td>\n      <td>14</td>\n      <td>False</td>\n      <td>False</td>\n      <td>True</td>\n      <td>0.137681</td>\n      <td>4.665787</td>\n      <td>3.094820</td>\n      <td>...</td>\n      <td>-0.000729</td>\n      <td>-0.001183</td>\n      <td>-0.000241</td>\n      <td>0.000246</td>\n      <td>-0.000162</td>\n      <td>-0.001003</td>\n      <td>0.000154</td>\n      <td>-0.000411</td>\n      <td>0.001321</td>\n      <td>0.001406</td>\n    </tr>\n    <tr>\n      <th>1</th>\n      <td>Police have clarified that there were two shoo...</td>\n      <td>[police, have, clarified, that, there, were, t...</td>\n      <td>120</td>\n      <td>20</td>\n      <td>False</td>\n      <td>False</td>\n      <td>True</td>\n      <td>0.050000</td>\n      <td>4.700323</td>\n      <td>3.293584</td>\n      <td>...</td>\n      <td>0.000500</td>\n      <td>0.000647</td>\n      <td>-0.000827</td>\n      <td>0.001236</td>\n      <td>-0.001421</td>\n      <td>0.001280</td>\n      <td>0.000317</td>\n      <td>0.001384</td>\n      <td>0.000516</td>\n      <td>-0.000400</td>\n    </tr>\n    <tr>\n      <th>2</th>\n      <td>Soldier killed in Ottawa identified as Cpl. Na...</td>\n      <td>[soldier, killed, in, ottawa, identified, as, ...</td>\n      <td>105</td>\n      <td>9</td>\n      <td>False</td>\n      <td>False</td>\n      <td>True</td>\n      <td>0.142857</td>\n      <td>4.665525</td>\n      <td>3.093422</td>\n      <td>...</td>\n      <td>-0.000135</td>\n      <td>0.000966</td>\n      <td>0.000596</td>\n      <td>0.001133</td>\n      <td>-0.001446</td>\n      <td>-0.000983</td>\n      <td>0.000215</td>\n      <td>-0.000484</td>\n      <td>-0.001110</td>\n      <td>-0.000691</td>\n    </tr>\n    <tr>\n      <th>3</th>\n      <td>NORAD increases number of planes on higher ale...</td>\n      <td>[norad, increases, number, of, planes, on, hig...</td>\n      <td>140</td>\n      <td>17</td>\n      <td>False</td>\n      <td>False</td>\n      <td>True</td>\n      <td>0.085714</td>\n      <td>4.860464</td>\n      <td>4.368677</td>\n      <td>...</td>\n      <td>0.000454</td>\n      <td>-0.001348</td>\n      <td>-0.001652</td>\n      <td>-0.000885</td>\n      <td>0.001322</td>\n      <td>-0.000220</td>\n      <td>-0.000741</td>\n      <td>-0.001046</td>\n      <td>-0.000123</td>\n      <td>0.001043</td>\n    </tr>\n    <tr>\n      <th>4</th>\n      <td>All 3 patients injured in #OttawaShooting rele...</td>\n      <td>[all, 3, patients, injured, in, ottawashooting...</td>\n      <td>105</td>\n      <td>13</td>\n      <td>False</td>\n      <td>False</td>\n      <td>True</td>\n      <td>0.047619</td>\n      <td>4.408172</td>\n      <td>3.725340</td>\n      <td>...</td>\n      <td>0.001457</td>\n      <td>0.000818</td>\n      <td>0.000454</td>\n      <td>0.001714</td>\n      <td>-0.000894</td>\n      <td>0.001281</td>\n      <td>-0.000675</td>\n      <td>-0.001235</td>\n      <td>0.000623</td>\n      <td>-0.001579</td>\n    </tr>\n  </tbody>\n</table>\n<p>5 rows × 314 columns</p>\n</div>"
     },
     "metadata": {},
     "execution_count": 55
    }
   ],
   "source": [
    "df.join(df_doc).head()"
   ]
  },
  {
   "source": [
    "# POS tagging"
   ],
   "cell_type": "markdown",
   "metadata": {}
  },
  {
   "cell_type": "code",
   "execution_count": 1,
   "metadata": {},
   "outputs": [
    {
     "output_type": "error",
     "ename": "NameError",
     "evalue": "name 'df' is not defined",
     "traceback": [
      "\u001b[0;31m---------------------------------------------------------------------------\u001b[0m",
      "\u001b[0;31mNameError\u001b[0m                                 Traceback (most recent call last)",
      "\u001b[0;32m<ipython-input-1-00cf07b74dcd>\u001b[0m in \u001b[0;36m<module>\u001b[0;34m\u001b[0m\n\u001b[0;32m----> 1\u001b[0;31m \u001b[0mdf\u001b[0m\u001b[0;34m\u001b[0m\u001b[0;34m\u001b[0m\u001b[0m\n\u001b[0m",
      "\u001b[0;31mNameError\u001b[0m: name 'df' is not defined"
     ]
    }
   ],
   "source": []
  },
  {
   "source": [],
   "cell_type": "markdown",
   "metadata": {}
  }
 ]
}