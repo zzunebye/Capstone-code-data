{
 "cells": [
  {
   "cell_type": "code",
   "execution_count": 114,
   "metadata": {},
   "outputs": [],
   "source": [
    "import os\n",
    "import re\n",
    "from tqdm import tqdm\n",
    "import numpy as np\n",
    "import pandas as pd\n",
    "import matplotlib.pyplot as plt\n",
    "%matplotlib inline\n",
    "\n",
    "from sklearn.pipeline import make_pipeline\n",
    "from sklearn.preprocessing import StandardScaler\n",
    "from sklearn.preprocessing import MinMaxScaler\n",
    "from sklearn.svm import SVC\n",
    "\n",
    "from sklearn.model_selection import cross_val_score\n",
    "from sklearn.metrics import accuracy_score, recall_score, precision_score, f1_score\n",
    "from sklearn.metrics import classification_report\n",
    "\n",
    "from sklearn.naive_bayes import GaussianNB"
   ]
  },
  {
   "cell_type": "code",
   "execution_count": 133,
   "metadata": {},
   "outputs": [],
   "source": [
    "def train_test(X_train, X_test, y_train, y_test, clf):\n",
    "    clf.fit(X_train, y_train)\n",
    "    result = clf.predict(X_test)\n",
    "    print(\"Accuracy:\\t\\t\",accuracy_score(y_test,result))\n",
    "    print('Precision Score:\\t', str(precision_score(y_test,result)))\n",
    "    print('Recall Score:\\t\\t' + str(recall_score(y_test,result)))\n",
    "    print(\"F1 Score:\\t\\t\",f1_score(y_test, result, average='macro', zero_division=True))\n",
    "    print(classification_report(y_test, result))\n",
    "    \n",
    "\n",
    "def valid(X_valid, y_valid, clf):\n",
    "    clf.fit\n",
    "    result = clf.predict(X_valid)\n",
    "    print(\"Accuracy:\",accuracy_score(result,y_valid))\n",
    "    print(classification_report(y_valid, result))\n",
    "\n",
    "def cv_events(data):\n",
    "    NUM_EVENT = data.Event.unique().shape[0]\n",
    "    EVENTS = data.Event.unique()\n",
    "\n",
    "    cv_pd_list = []\n",
    "    for i, d in enumerate(EVENTS):\n",
    "        df1, df2 = [x for _, x in data.groupby(data['Event'] != d)]\n",
    "        df1.reset_index(inplace=True, drop=True)\n",
    "        df2.reset_index(inplace=True, drop=True)\n",
    "        cv_pd_list.append([df1, df2])\n",
    "    return cv_pd_list\n",
    "\n"
   ]
  },
  {
   "cell_type": "code",
   "execution_count": 58,
   "metadata": {},
   "outputs": [],
   "source": [
    "pheme_AVGw2v = pd.read_csv('./data/_PHEME_text_AVGw2v.csv').drop(['token'],axis=1)\n",
    "pheme_sparse = pd.read_csv('./data/_PHEME_sparse.csv')\n",
    "pheme_y = pd.read_csv('./data/_PHEME_target.csv').target\n",
    "pheme_event = pd.read_csv('./data/_PHEME_text.csv')['Event']\n",
    "\n",
    "ext_AVGw2v = pd.read_csv('./data/_PHEMEext_text_AVGw2v.csv').drop(['token'],axis=1)\n",
    "ext_sparse = pd.read_csv('./data/_PHEMEext_sparse.csv')\n",
    "ext_y = pd.read_csv('./data/_PHEMEext_text.csv').target\n",
    "ext_event = pd.read_csv('./data/_PHEMEext_text.csv').Event\n",
    "\n",
    "rhi = pd.read_csv('./data/_RHI_text_AVGw2v.csv').drop(['token'],axis=1)\n",
    "rhi_y = pd.read_csv('./data/_RHI_target.csv')\n",
    "\n",
    "temp = pd.read_csv('./data/data_notembeded.csv')\n",
    "\n",
    "# rhi_y = pd.read_csv('./data/_RHI_target.csv')\n",
    "# pheme_y = pd.read_csv('./data/_HSI_target.csv')\n",
    "# x = pd.read_csv('./data/X_basic.csv')\n",
    "# notembedded = pd.read_csv('./data/data_notembeded.csv')\n",
    "\n",
    "# pd.concat([pheme_sparse, pheme_event])"
   ]
  },
  {
   "cell_type": "code",
   "execution_count": 59,
   "metadata": {},
   "outputs": [],
   "source": [
    "# cv = cv_events(pd.concat([pheme_sparse, pheme_event], axis=1))\n",
    "cv = cv_events(pd.concat([pheme_sparse, pheme_y, pheme_event],axis=1))"
   ]
  },
  {
   "cell_type": "markdown",
   "metadata": {},
   "source": [
    "# Feature Importance on Sparse Features"
   ]
  },
  {
   "cell_type": "code",
   "execution_count": 57,
   "metadata": {},
   "outputs": [
    {
     "name": "stdout",
     "output_type": "stream",
     "text": [
      "Feature ranking:\n",
      "1. feature 21: capital_ratio (0.070348)\n",
      "2. feature 22: tweet_count (0.067731)\n",
      "3. feature 25: follow_ratio (0.065416)\n",
      "4. feature 23: listed_count (0.061458)\n",
      "5. feature 16: char_count (0.057502)\n",
      "6. feature 17: word_count (0.056836)\n",
      "7. feature 24: friends_count (0.053489)\n",
      "8. feature 1: Noun (0.052405)\n",
      "9. feature 2: Verb (0.051640)\n",
      "10. feature 3: Adjective (0.047992)\n",
      "11. feature 10: Conjunction_inj (0.047734)\n",
      "12. feature 15: HashTag (0.045334)\n",
      "13. feature 12: Determiner (0.043449)\n",
      "14. feature 9: Numeral (0.040898)\n",
      "15. feature 8: Adverb (0.035493)\n",
      "16. feature 0: URLcount (0.033127)\n",
      "17. feature 4: Pronoun (0.025715)\n",
      "18. feature 5: FirstPersonPronoun (0.024285)\n",
      "19. feature 26: verified (0.021909)\n",
      "20. feature 14: Whs (0.019576)\n",
      "21. feature 13: Modal (0.015865)\n",
      "22. feature 7: ThirdPersonPronoun (0.013858)\n",
      "23. feature 11: Particle (0.012361)\n",
      "24. feature 20: has_period (0.011424)\n",
      "25. feature 6: SecondPersonPronoun (0.009101)\n",
      "26. feature 18: has_question (0.008733)\n",
      "27. feature 19: has_exclaim (0.006321)\n"
     ]
    },
    {
     "data": {
      "image/png": "[encoded data removed]",
      "text/plain": "<Figure size 432x288 with 1 Axes>"
     },
     "metadata": {
      "needs_background": "light"
     },
     "output_type": "display_data"
    }
   ],
   "source": [
    "from sklearn.ensemble import ExtraTreesClassifier\n",
    "scaler = StandardScaler()\n",
    "X = scaler.fit_transform(pheme_sparse)\n",
    "\n",
    "forest = ExtraTreesClassifier(n_estimators=250,\n",
    "                              random_state=3)\n",
    "\n",
    "forest.fit(X, pheme_y)\n",
    "importances = forest.feature_importances_\n",
    "std = np.std([tree.feature_importances_ for tree in forest.estimators_],\n",
    "             axis=0)\n",
    "indices = np.argsort(importances)[::-1]\n",
    "\n",
    "# Print the feature ranking\n",
    "print(\"Feature ranking:\")\n",
    "\n",
    "for f in range(pheme_sparse.shape[1]):\n",
    "    print(\"%d. feature %d: %s (%f)\" % (f + 1, indices[f], pheme_sparse.columns[indices[f]], importances[indices[f]]))\n",
    "\n",
    "# Plot the impurity-based feature importances of the forest\n",
    "plt.figure()\n",
    "plt.title(\"Feature importances\")\n",
    "plt.bar(range(pheme_sparse.shape[1]), importances[indices],\n",
    "        color=\"r\", yerr=std[indices], align=\"center\")\n",
    "plt.xticks(range(pheme_sparse.shape[1]), indices)\n",
    "plt.xlim([-1, pheme_sparse.shape[1]])\n",
    "plt.show()"
   ]
  },
  {
   "cell_type": "markdown",
   "metadata": {},
   "source": [
    "# Sparse"
   ]
  },
  {
   "cell_type": "code",
   "execution_count": 145,
   "metadata": {},
   "outputs": [
    {
     "name": "stdout",
     "output_type": "stream",
     "text": [
      "Accuracy:\t\t 0.2865979381443299\n",
      "Precision Score:\t 0.9259259259259259\n",
      "Recall Score:\t\t0.06775067750677506\n",
      "F1 Score:\t\t 0.2617375849083166\n",
      "              precision    recall  f1-score   support\n",
      "\n",
      "           0       0.25      0.98      0.40       116\n",
      "           1       0.93      0.07      0.13       369\n",
      "\n",
      "    accuracy                           0.29       485\n",
      "   macro avg       0.59      0.53      0.26       485\n",
      "weighted avg       0.76      0.29      0.19       485\n",
      "\n"
     ]
    }
   ],
   "source": [
    "clf = make_pipeline((StandardScaler()), SVC(gamma='auto'))\n",
    "train_test(pheme_sparse, ext_sparse, pheme_y, ext_y, clf)"
   ]
  },
  {
   "cell_type": "code",
   "execution_count": 159,
   "metadata": {},
   "outputs": [
    {
     "name": "stdout",
     "output_type": "stream",
     "text": [
      "Accuracy:\t\t 0.23917525773195877\n",
      "Precision Score:\t 0.5\n",
      "Recall Score:\t\t0.0027100271002710027\n",
      "F1 Score:\t\t 0.19468206219710296\n",
      "              precision    recall  f1-score   support\n",
      "\n",
      "           0       0.24      0.99      0.38       116\n",
      "           1       0.50      0.00      0.01       369\n",
      "\n",
      "    accuracy                           0.24       485\n",
      "   macro avg       0.37      0.50      0.19       485\n",
      "weighted avg       0.44      0.24      0.10       485\n",
      "\n"
     ]
    }
   ],
   "source": [
    "clf = GaussianNB()\n",
    "train_test(pheme_sparse, ext_sparse, pheme_y, ext_y, clf)"
   ]
  },
  {
   "cell_type": "code",
   "execution_count": 160,
   "metadata": {},
   "outputs": [
    {
     "name": "stdout",
     "output_type": "stream",
     "text": [
      "Accuracy:\t\t 0.31958762886597936\n",
      "Precision Score:\t 0.975609756097561\n",
      "Recall Score:\t\t0.10840108401084012\n",
      "F1 Score:\t\t 0.302918118466899\n",
      "              precision    recall  f1-score   support\n",
      "\n",
      "           0       0.26      0.99      0.41       116\n",
      "           1       0.98      0.11      0.20       369\n",
      "\n",
      "    accuracy                           0.32       485\n",
      "   macro avg       0.62      0.55      0.30       485\n",
      "weighted avg       0.80      0.32      0.25       485\n",
      "\n"
     ]
    }
   ],
   "source": [
    "clf = make_pipeline((StandardScaler()), GradientBoostingClassifier())\n",
    "train_test(pheme_sparse, ext_sparse, pheme_y, ext_y, clf)"
   ]
  },
  {
   "cell_type": "code",
   "execution_count": null,
   "metadata": {},
   "outputs": [],
   "source": [
    "clf = make_pipeline((StandardScaler()), model.best_estimator_)\n",
    "train_test(pheme_sparse, ext_sparse, pheme_y, ext_y, clf)"
   ]
  },
  {
   "cell_type": "markdown",
   "metadata": {},
   "source": [
    "## SPARSE - PHEME CV"
   ]
  },
  {
   "cell_type": "code",
   "execution_count": 32,
   "metadata": {},
   "outputs": [
    {
     "name": "stdout",
     "output_type": "stream",
     "text": [
      "Accuracy: 0.47191011235955055\n",
      "              precision    recall  f1-score   support\n",
      "\n",
      "           0       0.47      1.00      0.64       420\n",
      "           1       0.00      0.00      0.00       470\n",
      "\n",
      "    accuracy                           0.47       890\n",
      "   macro avg       0.24      0.50      0.32       890\n",
      "weighted avg       0.22      0.47      0.30       890\n",
      "\n",
      "0.32061068702290074\n"
     ]
    },
    {
     "name": "stderr",
     "output_type": "stream",
     "text": [
      "/Users/june/miniconda3/envs/rosetta/lib/python3.8/site-packages/sklearn/metrics/_classification.py:1245: UndefinedMetricWarning: Precision and F-score are ill-defined and being set to 0.0 in labels with no predicted samples. Use `zero_division` parameter to control this behavior.\n",
      "  _warn_prf(average, modifier, msg_start, len(result))\n",
      "/Users/june/miniconda3/envs/rosetta/lib/python3.8/site-packages/sklearn/metrics/_classification.py:1245: UndefinedMetricWarning: Precision and F-score are ill-defined and being set to 0.0 in labels with no predicted samples. Use `zero_division` parameter to control this behavior.\n",
      "  _warn_prf(average, modifier, msg_start, len(result))\n",
      "/Users/june/miniconda3/envs/rosetta/lib/python3.8/site-packages/sklearn/metrics/_classification.py:1245: UndefinedMetricWarning: Precision and F-score are ill-defined and being set to 0.0 in labels with no predicted samples. Use `zero_division` parameter to control this behavior.\n",
      "  _warn_prf(average, modifier, msg_start, len(result))\n"
     ]
    }
   ],
   "source": [
    "X = cv[3][1].drop(['target', 'Event'],axis=1)\n",
    "y = cv[3][1].target\n",
    "val_X = cv[3][0].drop(['target', 'Event'],axis=1)\n",
    "val_y = cv[3][0].target\n",
    "clf = SVC(gamma='auto')\n",
    "train_test(X, val_X, y, val_y, clf)\n",
    "# valid(rhi, rhi_y, clf)"
   ]
  },
  {
   "cell_type": "markdown",
   "metadata": {},
   "source": [
    "# Sparse + W2V"
   ]
  },
  {
   "cell_type": "code",
   "execution_count": 158,
   "metadata": {},
   "outputs": [],
   "source": [
    "from sklearn.ensemble import RandomForestClassifier\n",
    "from sklearn.ensemble import AdaBoostClassifier\n",
    "from sklearn.linear_model import LogisticRegression\n",
    "from sklearn.model_selection import RandomizedSearchCV, GridSearchCV\n",
    "from sklearn.ensemble import GradientBoostingClassifier\n",
    "\n"
   ]
  },
  {
   "cell_type": "code",
   "execution_count": 61,
   "metadata": {},
   "outputs": [],
   "source": [
    "sparse_w2v = pd.concat([pheme_sparse, pheme_AVGw2v],axis=1)\n",
    "sparse_w2v_ext = pd.concat([ext_sparse, ext_AVGw2v],axis=1)"
   ]
  },
  {
   "cell_type": "code",
   "execution_count": 98,
   "metadata": {},
   "outputs": [],
   "source": [
    "def algorithm_pipeline(X_train_data, X_test_data, y_train_data, y_test_data, \n",
    "                       model, param_grid, cv=10, scoring_fit='neg_mean_squared_error',\n",
    "                       do_probabilities = False):\n",
    "    gs = GridSearchCV(\n",
    "        estimator=model,\n",
    "        param_grid=param_grid, \n",
    "        cv=cv, \n",
    "        n_jobs=-1, \n",
    "        scoring=scoring_fit,\n",
    "        verbose=2\n",
    "    )\n",
    "    fitted_model = gs.fit(X_train_data, y_train_data)\n",
    "    \n",
    "    if do_probabilities:\n",
    "      pred = fitted_model.predict_proba(X_test_data)\n",
    "    else:\n",
    "      pred = fitted_model.predict(X_test_data)\n",
    "    \n",
    "    return fitted_model, pred"
   ]
  },
  {
   "cell_type": "code",
   "execution_count": 146,
   "metadata": {},
   "outputs": [
    {
     "name": "stdout",
     "output_type": "stream",
     "text": [
      "Accuracy:\t\t 0.29690721649484536\n",
      "Precision Score:\t 0.8888888888888888\n",
      "Recall Score:\t\t0.08672086720867209\n",
      "F1 Score:\t\t 0.27724243417458755\n",
      "              precision    recall  f1-score   support\n",
      "\n",
      "           0       0.25      0.97      0.40       116\n",
      "           1       0.89      0.09      0.16       369\n",
      "\n",
      "    accuracy                           0.30       485\n",
      "   macro avg       0.57      0.53      0.28       485\n",
      "weighted avg       0.74      0.30      0.22       485\n",
      "\n"
     ]
    }
   ],
   "source": [
    "clf = make_pipeline((StandardScaler()), SVC(gamma='auto'))\n",
    "train_test(sparse_w2v, sparse_w2v_ext, pheme_y, ext_y, clf)"
   ]
  },
  {
   "cell_type": "code",
   "execution_count": 147,
   "metadata": {},
   "outputs": [
    {
     "name": "stdout",
     "output_type": "stream",
     "text": [
      "Accuracy:\t\t 0.3525773195876289\n",
      "Precision Score:\t 0.9365079365079365\n",
      "Recall Score:\t\t0.15989159891598917\n",
      "F1 Score:\t\t 0.3447525127357841\n",
      "              precision    recall  f1-score   support\n",
      "\n",
      "           0       0.27      0.97      0.42       116\n",
      "           1       0.94      0.16      0.27       369\n",
      "\n",
      "    accuracy                           0.35       485\n",
      "   macro avg       0.60      0.56      0.34       485\n",
      "weighted avg       0.78      0.35      0.31       485\n",
      "\n"
     ]
    }
   ],
   "source": [
    "clf = make_pipeline((StandardScaler()), GaussianNB())\n",
    "train_test(sparse_w2v, sparse_w2v_ext, pheme_y, ext_y, clf)"
   ]
  },
  {
   "cell_type": "code",
   "execution_count": 152,
   "metadata": {},
   "outputs": [
    {
     "name": "stdout",
     "output_type": "stream",
     "text": [
      "Accuracy:\t\t 0.44948453608247424\n",
      "Precision Score:\t 0.8923076923076924\n",
      "Recall Score:\t\t0.3143631436314363\n",
      "F1 Score:\t\t 0.4490254394138596\n",
      "              precision    recall  f1-score   support\n",
      "\n",
      "           0       0.29      0.88      0.43       116\n",
      "           1       0.89      0.31      0.46       369\n",
      "\n",
      "    accuracy                           0.45       485\n",
      "   macro avg       0.59      0.60      0.45       485\n",
      "weighted avg       0.75      0.45      0.46       485\n",
      "\n"
     ]
    },
    {
     "name": "stderr",
     "output_type": "stream",
     "text": [
      "/Users/june/miniconda3/envs/rosetta/lib/python3.8/site-packages/sklearn/linear_model/_logistic.py:763: ConvergenceWarning: lbfgs failed to converge (status=1):\n",
      "STOP: TOTAL NO. of ITERATIONS REACHED LIMIT.\n",
      "\n",
      "Increase the number of iterations (max_iter) or scale the data as shown in:\n",
      "    https://scikit-learn.org/stable/modules/preprocessing.html\n",
      "Please also refer to the documentation for alternative solver options:\n",
      "    https://scikit-learn.org/stable/modules/linear_model.html#logistic-regression\n",
      "  n_iter_i = _check_optimize_result(\n"
     ]
    }
   ],
   "source": [
    "clf = make_pipeline((StandardScaler()), LogisticRegression())\n",
    "train_test(sparse_w2v, sparse_w2v_ext, pheme_y, ext_y, clf)"
   ]
  },
  {
   "cell_type": "code",
   "execution_count": 153,
   "metadata": {},
   "outputs": [
    {
     "name": "stdout",
     "output_type": "stream",
     "text": [
      "Accuracy:\t\t 0.311340206185567\n",
      "Precision Score:\t 0.9069767441860465\n",
      "Recall Score:\t\t0.10569105691056911\n",
      "F1 Score:\t\t 0.29537704005289345\n",
      "              precision    recall  f1-score   support\n",
      "\n",
      "           0       0.25      0.97      0.40       116\n",
      "           1       0.91      0.11      0.19       369\n",
      "\n",
      "    accuracy                           0.31       485\n",
      "   macro avg       0.58      0.54      0.30       485\n",
      "weighted avg       0.75      0.31      0.24       485\n",
      "\n"
     ]
    }
   ],
   "source": [
    "clf = make_pipeline((StandardScaler()), GradientBoostingClassifier())\n",
    "train_test(sparse_w2v, sparse_w2v_ext, pheme_y, ext_y, clf)"
   ]
  },
  {
   "cell_type": "code",
   "execution_count": 162,
   "metadata": {},
   "outputs": [
    {
     "name": "stdout",
     "output_type": "stream",
     "text": [
      "Accuracy:\t\t 0.25773195876288657\n",
      "Precision Score:\t 1.0\n",
      "Recall Score:\t\t0.024390243902439025\n",
      "F1 Score:\t\t 0.21975546975546975\n",
      "              precision    recall  f1-score   support\n",
      "\n",
      "           0       0.24      1.00      0.39       116\n",
      "           1       1.00      0.02      0.05       369\n",
      "\n",
      "    accuracy                           0.26       485\n",
      "   macro avg       0.62      0.51      0.22       485\n",
      "weighted avg       0.82      0.26      0.13       485\n",
      "\n"
     ]
    }
   ],
   "source": [
    "# # ------------------------------------ RF ------------------------------------ #\n",
    "\n",
    "# model = RandomForestClassifier()\n",
    "# param_grid = {\n",
    "#     'n_estimators': [400, 700, 1000],\n",
    "#     'max_depth': [15,20,25],\n",
    "#     'max_leaf_nodes': [50, 100, 200]\n",
    "# }\n",
    "\n",
    "# model, pred = algorithm_pipeline(pheme_sparse, ext_sparse, pheme_y, ext_y, model, \n",
    "#                                  param_grid, cv=5, scoring_fit='accuracy')\n",
    "\n",
    "# print(model.best_score_)\n",
    "# print(model.best_params_)\n",
    "\n",
    "clf = make_pipeline((StandardScaler()), model.best_estimator_)\n",
    "train_test(sparse_w2v, sparse_w2v_ext, pheme_y, ext_y, clf)"
   ]
  },
  {
   "cell_type": "code",
   "execution_count": null,
   "metadata": {},
   "outputs": [],
   "source": []
  }
 ],
 "metadata": {
  "kernelspec": {
   "display_name": "rosetta",
   "language": "python",
   "name": "rosetta"
  },
  "language_info": {
   "codemirror_mode": {
    "name": "ipython",
    "version": 3
   },
   "file_extension": ".py",
   "mimetype": "text/x-python",
   "name": "python",
   "nbconvert_exporter": "python",
   "pygments_lexer": "ipython3",
   "version": "3.8.8"
  },
  "orig_nbformat": 2
 },
 "nbformat": 4,
 "nbformat_minor": 2
}