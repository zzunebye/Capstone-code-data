{
 "cells": [
  {
   "cell_type": "code",
   "execution_count": null,
   "metadata": {},
   "outputs": [],
   "source": [
    "# Implementing BERTweet\n",
    "    이 노트북은 Huggingface의 BERTweet 모델을 이용해 기존 raw data를 BERTweet 벡터 결과물로 변환하는 코드이다.\n",
    "1. 라이브러리 가져오기\n",
    "2. Pretrained Model / Tokenizer 불러온후\n",
    "3. 전체 코처스를 토큰화한 후에 "
   ]
  },
  {
   "cell_type": "code",
   "execution_count": null,
   "metadata": {},
   "outputs": [],
   "source": [
    "## Import Libraries and Pretrained model "
   ]
  },
  {
   "cell_type": "code",
   "execution_count": 1,
   "metadata": {},
   "outputs": [],
   "source": [
    "import pandas as pd\n",
    "import torch\n",
    "\n",
    "from transformers import AutoModel, AutoTokenizer \n",
    "import logging"
   ]
  },
  {
   "cell_type": "code",
   "execution_count": 2,
   "metadata": {},
   "outputs": [],
   "source": [
    "# text:{BREAKING: Armed man takes hostage in ...} text_token: {['breaking', 'armed',...]}\n",
    "raw_text = pd.read_csv('./data/raw_text_tokens.csv')"
   ]
  },
  {
   "cell_type": "code",
   "execution_count": null,
   "metadata": {},
   "outputs": [],
   "source": [
    "### 밑의 코드는 아래와 같은 결과를 출력한다.\n",
    "\n",
    "    'BREAKING: Armed man takes hostage in kosher grocery east of Paris http://t.co/PBs3sMwhLt'\n",
    "    \n",
    "=> *BaseModelOutputWithPoolingAndCrossAttentions*\n",
    "- 이 객체는 last_hidden_state와 pooler_output 텐서를 보유한다."
   ]
  },
  {
   "cell_type": "code",
   "execution_count": 3,
   "metadata": {},
   "outputs": [],
   "source": [
    "# ------------------------------------ 테스팅 ----------------------------------- #\n",
    "# raw_text.text[0]"
   ]
  },
  {
   "cell_type": "code",
   "execution_count": 4,
   "metadata": {},
   "outputs": [
    {
     "name": "stderr",
     "output_type": "stream",
     "text": [
      "Special tokens have been added in the vocabulary, make sure the associated word embedding are fine-tuned or trained.\n"
     ]
    }
   ],
   "source": [
    "# For transformers v3.x: # tokenizer = AutoTokenizer.from_pretrained(\"vinai/bertweet-base\")\n",
    "# With TensorFlow 2.0+: # from transformers import TFAutoModel # bertweet = TFAutoModel.from_pretrained(\"vinai/bertweet-base\")\n",
    "\n",
    "bertweet = AutoModel.from_pretrained(\"vinai/bertweet-base\")\n",
    "tokenizer = AutoTokenizer.from_pretrained(\n",
    "    \"vinai/bertweet-base\", use_fast=False)  # For transformers v4.x+\n",
    "\n",
    "# ------------------------------------ 테스팅 ----------------------------------- #\n",
    "# input_ids = torch.tensor([tokenizer.encode(raw_text.text[0])])\n",
    "# with torch.no_grad():\n",
    "#     features = bertweet(input_ids)  # Models outputs are now tuples\n",
    "# print(features)\n"
   ]
  },
  {
   "cell_type": "code",
   "execution_count": null,
   "metadata": {},
   "outputs": [],
   "source": [
    "## Processing the entire raw_test corpus"
   ]
  },
  {
   "cell_type": "code",
   "execution_count": 12,
   "metadata": {},
   "outputs": [],
   "source": [
    "tokens = [tokenizer.tokenize(tweet) for tweet in raw_text.text]\n",
    "input_ids = torch.tensor([tokenizer.encode(raw_text.text[0])])\n",
    "\n",
    "# with torch.no_grad():\n",
    "#     features = bertweet(input_ids)  # Models outputs are now tuples"
   ]
  },
  {
   "cell_type": "code",
   "execution_count": 6,
   "metadata": {},
   "outputs": [
    {
     "data": {
      "text/plain": "tensor([[    0, 19481, 31440,    22, 19959,   171,   956, 20778,    16,  3322,\n         10794,  8923,  3420,    15,  3177, 45565, 11412, 46442,   423,   698,\n           423,   455,  2938, 31429,     2]])"
     },
     "execution_count": 6,
     "metadata": {},
     "output_type": "execute_result"
    }
   ],
   "source": [
    "input_ids # input sentence's word indices"
   ]
  },
  {
   "cell_type": "code",
   "execution_count": 13,
   "metadata": {},
   "outputs": [
    {
     "name": "stdout",
     "output_type": "stream",
     "text": [
      "torch.Size([1, 25, 768])\n",
      "torch.Size([25, 768])\n",
      "torch.Size([25, 768])\n",
      "torch.Size([768])\n",
      "Our final sentence embedding vector of shape: torch.Size([768])\n"
     ]
    }
   ],
   "source": [
    "last_hidden = features.last_hidden_state\n",
    "print(last_hidden.shape)\n",
    "sentence_embedding = torch.mean(last_hidden, dim=0)\n",
    "print(sentence_embedding.shape)\n",
    "token_vecs = last_hidden[-1]\n",
    "print(token_vecs.shape)\n",
    "sentence_embedding = torch.mean(token_vecs, dim=0)\n",
    "print(sentence_embedding.shape)\n",
    "\n",
    "print (\"Our final sentence embedding vector of shape:\", sentence_embedding.size())"
   ]
  },
  {
   "cell_type": "code",
   "execution_count": null,
   "metadata": {},
   "outputs": [],
   "source": [
    "# sentence_embedding"
   ]
  },
  {
   "cell_type": "code",
   "execution_count": null,
   "metadata": {
    "tags": []
   },
   "outputs": [],
   "source": [
    "for i, token_str in enumerate(tokens[0]):\n",
    "  print (i, token_str)"
   ]
  },
  {
   "cell_type": "code",
   "execution_count": null,
   "metadata": {},
   "outputs": [],
   "source": [
    "from scipy.spatial.distance import cosine\n",
    "\n",
    "# Calculate the cosine similarity between the word bank \n",
    "# in \"bank robber\" vs \"river bank\" (different meanings).\n",
    "diff_bank = 1 - cosine(token_vecs_sum[10], token_vecs_sum[19])\n",
    "\n",
    "# Calculate the cosine similarity between the word bank\n",
    "# in \"bank robber\" vs \"bank vault\" (same meaning).\n",
    "same_bank = 1 - cosine(token_vecs_sum[10], token_vecs_sum[6])\n",
    "\n",
    "print('Vector similarity for  *similar*  meanings:  %.2f' % same_bank)\n",
    "print('Vector similarity for *different* meanings:  %.2f' % diff_bank)"
   ]
  },
  {
   "cell_type": "code",
   "execution_count": 36,
   "metadata": {},
   "outputs": [
    {
     "data": {
      "text/plain": [
       "'BREAKING: Armed man takes hostage in kosher grocery east of Paris http://t.co/PBs3sMwhLt'"
      ]
     },
     "execution_count": 36,
     "metadata": {},
     "output_type": "execute_result"
    }
   ],
   "source": [
    "raw_text.text[0]"
   ]
  },
  {
   "cell_type": "code",
   "execution_count": 68,
   "metadata": {},
   "outputs": [],
   "source": [
    "tokens = [tokenizer.tokenize(tweet) for tweet in raw_text.text]\n",
    "# tokens[1]"
   ]
  },
  {
   "cell_type": "code",
   "execution_count": 67,
   "metadata": {},
   "outputs": [],
   "source": [
    "indexed_tokens = tokenizer.convert_tokens_to_ids(tokens[1])\n",
    "texts_inverse = [tokenizer.convert_tokens_to_ids(token) for token in tokens]\n",
    "# texts_inverse[0]"
   ]
  },
  {
   "cell_type": "code",
   "execution_count": 74,
   "metadata": {
    "tags": []
   },
   "outputs": [
    {
     "name": "stdout",
     "output_type": "stream",
     "text": [
      "BREA@@ 19481\n",
      "KING@@ 31440\n",
      ": 22\n",
      "Armed 19959\n",
      "man 171\n",
      "takes 956\n",
      "hostage 20778\n",
      "in 16\n",
      "ko@@ 3322\n",
      "sher 10794\n",
      "grocery 8923\n",
      "east 3420\n",
      "of 15\n",
      "Paris 3177\n",
      "http://@@ 45565\n",
      "t.co/@@ 11412\n",
      "PB@@ 46442\n",
      "s@@ 423\n",
      "3@@ 698\n",
      "s@@ 423\n",
      "M@@ 455\n",
      "wh@@ 2938\n",
      "Lt 31429\n"
     ]
    }
   ],
   "source": [
    "# Display the words with their indeces.\n",
    "for tup in zip(tokens[0], texts_inverse[0]):\n",
    "    print('{} {}'.format(tup[0], tup[1]))"
   ]
  },
  {
   "cell_type": "code",
   "execution_count": null,
   "metadata": {},
   "outputs": [],
   "source": [
    "## Bulk Embedding"
   ]
  },
  {
   "cell_type": "code",
   "execution_count": 294,
   "metadata": {},
   "outputs": [],
   "source": [
    "from torch.utils.data import Dataset, DataLoader"
   ]
  },
  {
   "cell_type": "code",
   "execution_count": 295,
   "metadata": {},
   "outputs": [],
   "source": [
    "text = raw_text.text\n",
    "text.dropna(inplace=True)\n",
    "# text = text.sample(frac=0.4, random_state=999)\n",
    "\n",
    "tokenizer = AutoTokenizer.from_pretrained(\"vinai/bertweet-base\", use_fast=False)\n",
    "bertweet = AutoModel.from_pretrained(\"vinai/bertweet-base\")\n",
    "\n",
    "sents = [tokenizer.tokenize(tweet) for tweet in text]\n",
    "len(sents)"
   ]
  },
  {
   "cell_type": "code",
   "execution_count": 302,
   "metadata": {},
   "outputs": [],
   "source": [
    "bertweet.eval()\n",
    "\n",
    "embeddings = []\n",
    "\n",
    "for sent in sents:\n",
    "    input_ids = torch.tensor([tokenizer.encode(sent)])\n",
    "    with torch.no_grad():\n",
    "        features = bertweet(input_ids)  # Models outputs are now tuples\n",
    "    embeddings.append(features)\n",
    "    \n",
    "result = [torch.mean(features.last_hidden_state[-1], dim=0).tolist() for features in embeddings]"
   ]
  },
  {
   "cell_type": "code",
   "execution_count": 308,
   "metadata": {},
   "outputs": [
    {
     "data": {
      "text/plain": [
       "(5802, 768)"
      ]
     },
     "execution_count": 308,
     "metadata": {},
     "output_type": "execute_result"
    }
   ],
   "source": [
    "df_bertweet = pd.DataFrame(result)\n",
    "print(df_bertweet.shape)"
   ]
  },
  {
   "cell_type": "code",
   "execution_count": 3,
   "metadata": {},
   "outputs": [
    {
     "ename": "NameError",
     "evalue": "name 'df_bertweet' is not defined",
     "output_type": "error",
     "traceback": [
      "\u001b[0;31m---------------------------------------------------------------------------\u001b[0m",
      "\u001b[0;31mNameError\u001b[0m                                 Traceback (most recent call last)",
      "\u001b[0;32m<ipython-input-3-430273c1de93>\u001b[0m in \u001b[0;36m<module>\u001b[0;34m\u001b[0m\n\u001b[0;32m----> 1\u001b[0;31m \u001b[0mdf_bertweet\u001b[0m\u001b[0;34m.\u001b[0m\u001b[0mto_csv\u001b[0m\u001b[0;34m(\u001b[0m\u001b[0;34m'./bertweet.csv'\u001b[0m\u001b[0;34m,\u001b[0m \u001b[0mindex\u001b[0m \u001b[0;34m=\u001b[0m \u001b[0;32mFalse\u001b[0m\u001b[0;34m)\u001b[0m\u001b[0;34m\u001b[0m\u001b[0;34m\u001b[0m\u001b[0m\n\u001b[0m",
      "\u001b[0;31mNameError\u001b[0m: name 'df_bertweet' is not defined"
     ]
    }
   ],
   "source": [
    "df_bertweet.to_csv('./bertweet.csv', index = False)"
   ]
  },
  {
   "cell_type": "code",
   "execution_count": null,
   "metadata": {},
   "outputs": [],
   "source": [
    "### Save the file"
   ]
  },
  {
   "cell_type": "code",
   "execution_count": 46,
   "metadata": {},
   "outputs": [
    {
     "name": "stdout",
     "output_type": "stream",
     "text": [
      "(5802, 35)\n",
      "(5802, 768)\n",
      "(5802, 803)\n"
     ]
    }
   ],
   "source": [
    "bertweet = pd.read_csv('./bertweet.csv')\n",
    "df_data = pd.read_csv('./data_notembeded.csv')\n",
    "print(df_data.shape)\n",
    "print(bertweet.shape)\n",
    "df_bertweet = pd.concat([df_data,bertweet],axis=1)\n",
    "print(df_bertweet.shape)"
   ]
  },
  {
   "cell_type": "code",
   "execution_count": 47,
   "metadata": {},
   "outputs": [],
   "source": [
    "df_bertweet.to_csv('./df_bertweet.csv', index = False)"
   ]
  },
  {
   "cell_type": "code",
   "execution_count": null,
   "metadata": {},
   "outputs": [],
   "source": [
    "## Bulk Embedding (Validation File)"
   ]
  },
  {
   "cell_type": "code",
   "execution_count": 32,
   "metadata": {},
   "outputs": [],
   "source": [
    "data = pd.read_csv('data_valid_notembeded.csv')\n",
    "\n",
    "text = data.text\n",
    "text.dropna(inplace=True)\n",
    "# text = text.sample(frac=0.4, random_state=999)\n",
    "\n",
    "tokenizer = AutoTokenizer.from_pretrained(\"vinai/bertweet-base\", use_fast=False)\n",
    "bertweet = AutoModel.from_pretrained(\"vinai/bertweet-base\")\n",
    "\n",
    "sents = [tokenizer.tokenize(tweet) for tweet in text]\n",
    "len(sents)"
   ]
  },
  {
   "cell_type": "code",
   "execution_count": 38,
   "metadata": {},
   "outputs": [],
   "source": [
    "bertweet.eval()\n",
    "embeddings = []\n",
    "\n",
    "for sent in sents:\n",
    "    input_ids = torch.tensor([tokenizer.encode(sent)])\n",
    "    with torch.no_grad():\n",
    "        features = bertweet(input_ids)  # Models outputs are now tuples\n",
    "    embeddings.append(features)\n",
    "    \n",
    "result = [torch.mean(features.last_hidden_state[-1], dim=0).tolist() for features in embeddings]"
   ]
  },
  {
   "cell_type": "code",
   "execution_count": 40,
   "metadata": {},
   "outputs": [
    {
     "name": "stdout",
     "output_type": "stream",
     "text": [
      "(390, 768)\n"
     ]
    }
   ],
   "source": [
    "bertweet = pd.DataFrame(result)\n",
    "print(bertweet.shape)\n",
    "print(data.shape)\n",
    "print(bertweet.shape)\n",
    "df_valid_bertweet = pd.concat([data,bertweet],axis=1)\n",
    "print(df_valid_bertweet.shape)"
   ]
  },
  {
   "cell_type": "code",
   "execution_count": 6,
   "metadata": {},
   "outputs": [
    {
     "ename": "NameError",
     "evalue": "name 'bertweet' is not defined",
     "output_type": "error",
     "traceback": [
      "\u001b[0;31m---------------------------------------------------------------------------\u001b[0m",
      "\u001b[0;31mNameError\u001b[0m                                 Traceback (most recent call last)",
      "\u001b[0;32m<ipython-input-6-7a599ed16ab5>\u001b[0m in \u001b[0;36m<module>\u001b[0;34m\u001b[0m\n\u001b[0;32m----> 1\u001b[0;31m \u001b[0mbertweet\u001b[0m\u001b[0;34m\u001b[0m\u001b[0;34m\u001b[0m\u001b[0m\n\u001b[0m",
      "\u001b[0;31mNameError\u001b[0m: name 'bertweet' is not defined"
     ]
    }
   ],
   "source": [
    "bertweet"
   ]
  },
  {
   "cell_type": "code",
   "execution_count": 45,
   "metadata": {},
   "outputs": [],
   "source": [
    "df_valid_bertweet.to_csv('./df_valid_bertweet.csv', index = False)"
   ]
  },
  {
   "cell_type": "code",
   "execution_count": null,
   "metadata": {},
   "outputs": [],
   "source": [
    "## Bulk Embedding (Train and Test File)"
   ]
  },
  {
   "cell_type": "code",
   "execution_count": null,
   "metadata": {},
   "outputs": [],
   "source": [
    "data = pd.read_csv('train.csv')\n",
    "\n",
    "text = data.text\n",
    "text.dropna(inplace=True)\n",
    "# text = text.sample(frac=0.4, random_state=999)\n",
    "\n",
    "tokenizer = AutoTokenizer.from_pretrained(\"vinai/bertweet-base\", use_fast=False)\n",
    "bertweet = AutoModel.from_pretrained(\"vinai/bertweet-base\")\n",
    "\n",
    "sents = [tokenizer.tokenize(tweet) for tweet in text]\n",
    "print(len(sents))\n",
    "\n",
    "bertweet.eval()\n",
    "embeddings = []\n",
    "\n",
    "for sent in sents:\n",
    "    input_ids = torch.tensor([tokenizer.encode(sent)])\n",
    "    with torch.no_grad():\n",
    "        features = bertweet(input_ids)  # Models outputs are now tuples\n",
    "    embeddings.append(features)\n",
    "    \n",
    "result = [torch.mean(features.last_hidden_state[-1], dim=0).tolist() for features in embeddings]\n",
    "\n",
    "bertweet = pd.DataFrame(result)\n",
    "print(bertweet.shape)\n",
    "print(data.shape)\n",
    "print(bertweet.shape)\n",
    "df_valid_bertweet = pd.concat([data,bertweet],axis=1)\n",
    "print(df_valid_bertweet.shape)"
   ]
  }
 ],
 "metadata": {
  "kernelspec": {
   "display_name": "rosetta",
   "language": "python",
   "name": "rosetta"
  },
  "language_info": {
   "codemirror_mode": {
    "name": "ipython",
    "version": 3
   },
   "file_extension": ".py",
   "mimetype": "text/x-python",
   "name": "python",
   "nbconvert_exporter": "python",
   "pygments_lexer": "ipython3",
   "version": "3.8.8"
  },
  "orig_nbformat": 2
 },
 "nbformat": 4,
 "nbformat_minor": 2
}