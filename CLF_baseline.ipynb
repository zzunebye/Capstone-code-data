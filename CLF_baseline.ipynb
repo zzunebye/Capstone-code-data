{
 "cells": [
  {
   "cell_type": "code",
   "execution_count": 1,
   "metadata": {},
   "outputs": [],
   "source": [
    "import pandas as pd\n",
    "import numpy as np\n",
    "import json\n",
    "import matplotlib.pyplot as plt\n",
    "\n",
    "from sklearn.pipeline import make_pipeline\n",
    "from sklearn.preprocessing import StandardScaler\n",
    "from sklearn.preprocessing import MinMaxScaler\n",
    "from sklearn.svm import SVC\n",
    "\n",
    "from sklearn.model_selection import cross_val_score\n",
    "from sklearn.metrics import accuracy_score\n",
    "from sklearn.metrics import classification_report\n",
    "from sklearn.metrics import f1_score"
   ]
  },
  {
   "cell_type": "code",
   "execution_count": 2,
   "metadata": {},
   "outputs": [],
   "source": [
    "import json\n",
    "\n",
    "import torch\n",
    "import tensorflow\n",
    "import transformers"
   ]
  },
  {
   "cell_type": "code",
   "execution_count": 114,
   "metadata": {},
   "outputs": [],
   "source": [
    "pd.set_option('display.max_columns', None)"
   ]
  },
  {
   "cell_type": "markdown",
   "metadata": {},
   "source": [
    "# Import Data"
   ]
  },
  {
   "cell_type": "code",
   "execution_count": 115,
   "metadata": {},
   "outputs": [],
   "source": [
    "train_avg = pd.read_csv('./data/train_avg.csv')\n",
    "test_avg = pd.read_csv('./data/test_avg.csv')\n",
    "\n",
    "train_doc = pd.read_csv('./data/train_doc.csv')\n",
    "test_doc = pd.read_csv('./data/test_doc.csv')\n",
    "\n",
    "valid_avg = pd.read_csv('./data/valid_avg.csv')\n",
    "valid_doc = pd.read_csv('./data/valid_doc.csv')\n",
    "\n",
    "data = pd.read_csv('./data/data_notembeded.csv')\n",
    "\n",
    "df_bertweet = pd.read_csv('./data/df_bertweet.csv')\n",
    "df_valid_bertweet = pd.read_csv('./data/df_valid_bertweet.csv')"
   ]
  },
  {
   "cell_type": "code",
   "execution_count": 116,
   "metadata": {},
   "outputs": [],
   "source": [
    "for dataset in [train_avg, test_avg, train_doc, test_doc, valid_avg, valid_doc, df_bertweet, df_valid_bertweet, data]:\n",
    "    dataset.drop(['text','text_token','urls', 'urls_expanded','user_url'], axis=1, inplace=True)"
   ]
  },
  {
   "cell_type": "code",
   "execution_count": 117,
   "metadata": {},
   "outputs": [
    {
     "name": "stdout",
     "output_type": "stream",
     "text": [
      "Shape of the Train and test data of Avg: (4912, 329)/(890, 329)\n",
      "Shape of the Train and test data of Doc2vec: (4912, 329)/(890, 329)\n",
      "\n",
      "Shape of the validation data of Avg: (328, 329)\n",
      "Shape of the validation data of Doc2vec: (328, 329)\n",
      "\n",
      "Shape of the data w/ BERTweet: (5802, 797)\n",
      "\n",
      "Shape of the validation data w/ BERTweet: (390, 797)\n",
      "\n",
      "Shape of the whole root tweet data w/o embedding: (5802, 30)\n"
     ]
    }
   ],
   "source": [
    "print(\"Shape of the Train and test data of Avg: {}/{}\".format(train_avg.shape, test_avg.shape))\n",
    "print(\"Shape of the Train and test data of Doc2vec: {}/{}\".format(train_doc.shape, test_doc.shape))\n",
    "print(\"\\nShape of the validation data of Avg: {}\".format(valid_avg.shape))\n",
    "print(\"Shape of the validation data of Doc2vec: {}\".format(valid_doc.shape))\n",
    "print(\"\\nShape of the data w/ BERTweet: {}\".format(df_bertweet.shape))\n",
    "print(\"\\nShape of the validation data w/ BERTweet: {}\".format(df_valid_bertweet.shape))\n",
    "\n",
    "print(\"\\nShape of the whole root tweet data w/o embedding: {}\".format(data.shape))"
   ]
  },
  {
   "cell_type": "code",
   "execution_count": 118,
   "metadata": {},
   "outputs": [],
   "source": [
    "train_y = train_avg.isRumor\n",
    "test_y = test_avg.isRumor\n",
    "valid_y = valid_avg.isRumor\n",
    "df_bertweet_y = df_bertweet.isRumor\n",
    "data_y = data.isRumor\n",
    "df_valid_bertweet_y = df_valid_bertweet.isRumor\n",
    "for dataset in [train_avg, test_avg, train_doc, test_doc, valid_avg, valid_doc, df_bertweet, df_valid_bertweet, data]:\n",
    "    dataset.drop(['isRumor'], axis=1, inplace=True)"
   ]
  },
  {
   "cell_type": "code",
   "execution_count": 119,
   "metadata": {},
   "outputs": [
    {
     "name": "stdout",
     "output_type": "stream",
     "text": [
      "(4912,) (890,) (328,) (5802,) (390,) (5802,)\n"
     ]
    }
   ],
   "source": [
    "print(train_y.shape, test_y.shape, valid_y.shape, df_bertweet_y.shape, df_valid_bertweet_y.shape, data_y.shape)"
   ]
  },
  {
   "cell_type": "code",
   "execution_count": 120,
   "metadata": {},
   "outputs": [],
   "source": [
    "train_avg_base = train_avg.drop(['hasURL', 'hasUserURL', 'isNotOnlyText', 'char_count'],axis=1)\n",
    "test_avg_base = test_avg.drop(['hasURL', 'hasUserURL', 'isNotOnlyText', 'char_count'],axis=1)\n",
    "valid_avg_base = valid_avg.drop(['hasURL', 'hasUserURL', 'isNotOnlyText', 'char_count'],axis=1)\n",
    "train_doc_base = train_doc.drop(['hasURL', 'hasUserURL', 'isNotOnlyText', 'char_count'],axis=1)\n",
    "test_doc_base = test_doc.drop(['hasURL', 'hasUserURL', 'isNotOnlyText', 'char_count'],axis=1)\n",
    "valid_doc_base = valid_doc.drop(['hasURL', 'hasUserURL', 'isNotOnlyText', 'char_count'],axis=1)\n",
    "bertweet_base = df_bertweet.drop(['hasURL', 'hasUserURL', 'isNotOnlyText', 'char_count'],axis=1)\n",
    "bertweet_valid_base = df_valid_bertweet.drop(['hasURL', 'hasUserURL', 'isNotOnlyText', 'char_count'],axis=1)\n",
    "data_base = data.drop(['hasURL', 'hasUserURL', 'isNotOnlyText', 'char_count'],axis=1)\n",
    "# valid_doc_base = valid_doc.drop(['hasURL', 'hasUserURL', 'isNotOnlyText', 'char_count', ],axis=1)"
   ]
  },
  {
   "cell_type": "code",
   "execution_count": 121,
   "metadata": {},
   "outputs": [],
   "source": [
    "train_novec= train_avg[['Noun', 'Verb', 'Adjective', 'Pronoun', 'FirstPersonPronoun', 'SecondPersonPronoun', 'ThirdPersonPronoun', 'Adverb', 'Numeral', 'Conjunction_inj', 'Particle', 'Determiner', 'Modal', 'Whs', 'word_count', 'has_question', 'has_exclaim', 'has_period', 'capital_ratio', 'tweet_count', 'listed_count', 'follow_ratio', 'age', 'verified','hasURL', 'hasUserURL', 'isNotOnlyText', 'char_count']]\n",
    "test_novec= test_avg[['Noun', 'Verb', 'Adjective', 'Pronoun', 'FirstPersonPronoun', 'SecondPersonPronoun', 'ThirdPersonPronoun', 'Adverb', 'Numeral', 'Conjunction_inj', 'Particle', 'Determiner', 'Modal', 'Whs', 'word_count', 'has_question', 'has_exclaim', 'has_period', 'capital_ratio', 'tweet_count', 'listed_count', 'follow_ratio', 'age', 'verified', 'hasURL', 'hasUserURL', 'isNotOnlyText', 'char_count']]\n",
    "valid_novec = valid_avg[['Noun', 'Verb', 'Adjective', 'Pronoun', 'FirstPersonPronoun', 'SecondPersonPronoun', 'ThirdPersonPronoun', 'Adverb', 'Numeral', 'Conjunction_inj', 'Particle', 'Determiner', 'Modal', 'Whs', 'word_count', 'has_question', 'has_exclaim', 'has_period', 'capital_ratio', 'tweet_count', 'listed_count', 'follow_ratio', 'age', 'verified', 'hasURL', 'hasUserURL', 'isNotOnlyText', 'char_count']]\n",
    "# train_novec= train_avg_base[['Noun', 'Verb', 'Adjective', 'Pronoun', 'FirstPersonPronoun', 'SecondPersonPronoun', 'ThirdPersonPronoun', 'Adverb', 'Numeral', 'Conjunction_inj', 'Particle', 'Determiner', 'Modal', 'Whs', 'word_count', 'has_question', 'has_exclaim', 'has_period', 'capital_ratio', 'tweet_count', 'listed_count', 'follow_ratio', 'age', 'verified']]\n",
    "# test_novec= test_avg_base[['Noun', 'Verb', 'Adjective', 'Pronoun', 'FirstPersonPronoun', 'SecondPersonPronoun', 'ThirdPersonPronoun', 'Adverb', 'Numeral', 'Conjunction_inj', 'Particle', 'Determiner', 'Modal', 'Whs', 'word_count', 'has_question', 'has_exclaim', 'has_period', 'capital_ratio', 'tweet_count', 'listed_count', 'follow_ratio', 'age', 'verified']]\n",
    "# valid_novec = valid_avg_base[['Noun', 'Verb', 'Adjective', 'Pronoun', 'FirstPersonPronoun', 'SecondPersonPronoun', 'ThirdPersonPronoun', 'Adverb', 'Numeral', 'Conjunction_inj', 'Particle', 'Determiner', 'Modal', 'Whs', 'word_count', 'has_question', 'has_exclaim', 'has_period', 'capital_ratio', 'tweet_count', 'listed_count', 'follow_ratio', 'age', 'verified']]"
   ]
  },
  {
   "cell_type": "code",
   "execution_count": 122,
   "metadata": {},
   "outputs": [],
   "source": [
    "def train_test(X_train, X_test, y_train, y_test, clf):\n",
    "    clf.fit(X_train, y_train)\n",
    "    result = clf.predict(X_test)\n",
    "    print(\"Accuracy:\",accuracy_score(result,y_test))\n",
    "    print(classification_report(y_test, result))\n",
    "    print(f1_score(y_test, result, average='macro'))\n",
    "\n",
    "\n",
    "def valid(X_valid, y_valid, clf):\n",
    "    result = clf.predict(X_valid)\n",
    "    print(\"Accuracy:\",accuracy_score(result,y_valid))\n",
    "    print(classification_report(y_valid, result))"
   ]
  },
  {
   "cell_type": "markdown",
   "metadata": {},
   "source": [
    "### Number of URls"
   ]
  },
  {
   "cell_type": "code",
   "execution_count": 123,
   "metadata": {},
   "outputs": [],
   "source": [
    "urls_sum = pd.read_csv('/data./urls_sum.csv')\n",
    "urls_sum_valid = pd.read_csv('/data./valid_urls_sum.csv')"
   ]
  },
  {
   "cell_type": "code",
   "execution_count": 133,
   "metadata": {},
   "outputs": [
    {
     "data": {
      "text/html": "<div>\n<style scoped>\n    .dataframe tbody tr th:only-of-type {\n        vertical-align: middle;\n    }\n\n    .dataframe tbody tr th {\n        vertical-align: top;\n    }\n\n    .dataframe thead th {\n        text-align: right;\n    }\n</style>\n<table border=\"1\" class=\"dataframe\">\n  <thead>\n    <tr style=\"text-align: right;\">\n      <th></th>\n      <th>hasURL</th>\n      <th>hasUserURL</th>\n      <th>isNotOnlyText</th>\n      <th>Noun</th>\n      <th>Verb</th>\n      <th>Adjective</th>\n      <th>Pronoun</th>\n      <th>FirstPersonPronoun</th>\n      <th>SecondPersonPronoun</th>\n      <th>ThirdPersonPronoun</th>\n      <th>Adverb</th>\n      <th>Numeral</th>\n      <th>Conjunction_inj</th>\n      <th>Particle</th>\n      <th>Determiner</th>\n      <th>Modal</th>\n      <th>Whs</th>\n      <th>char_count</th>\n      <th>word_count</th>\n      <th>has_question</th>\n      <th>has_exclaim</th>\n      <th>has_period</th>\n      <th>capital_ratio</th>\n      <th>tweet_count</th>\n      <th>listed_count</th>\n      <th>follow_ratio</th>\n      <th>age</th>\n      <th>verified</th>\n      <th>0</th>\n      <th>1</th>\n      <th>2</th>\n      <th>3</th>\n      <th>4</th>\n      <th>5</th>\n      <th>6</th>\n      <th>7</th>\n      <th>8</th>\n      <th>9</th>\n      <th>10</th>\n      <th>11</th>\n      <th>12</th>\n      <th>13</th>\n      <th>14</th>\n      <th>15</th>\n      <th>16</th>\n      <th>17</th>\n      <th>18</th>\n      <th>19</th>\n      <th>20</th>\n      <th>21</th>\n      <th>22</th>\n      <th>23</th>\n      <th>24</th>\n      <th>25</th>\n      <th>26</th>\n      <th>27</th>\n      <th>28</th>\n      <th>29</th>\n      <th>30</th>\n      <th>31</th>\n      <th>32</th>\n      <th>33</th>\n      <th>34</th>\n      <th>35</th>\n      <th>36</th>\n      <th>37</th>\n      <th>38</th>\n      <th>39</th>\n      <th>40</th>\n      <th>41</th>\n      <th>42</th>\n      <th>43</th>\n      <th>44</th>\n      <th>45</th>\n      <th>46</th>\n      <th>47</th>\n      <th>48</th>\n      <th>49</th>\n      <th>50</th>\n      <th>51</th>\n      <th>52</th>\n      <th>53</th>\n      <th>54</th>\n      <th>55</th>\n      <th>56</th>\n      <th>57</th>\n      <th>58</th>\n      <th>59</th>\n      <th>60</th>\n      <th>61</th>\n      <th>62</th>\n      <th>63</th>\n      <th>64</th>\n      <th>65</th>\n      <th>66</th>\n      <th>67</th>\n      <th>68</th>\n      <th>69</th>\n      <th>70</th>\n      <th>71</th>\n      <th>72</th>\n      <th>73</th>\n      <th>74</th>\n      <th>75</th>\n      <th>76</th>\n      <th>77</th>\n      <th>78</th>\n      <th>79</th>\n      <th>80</th>\n      <th>81</th>\n      <th>82</th>\n      <th>83</th>\n      <th>84</th>\n      <th>85</th>\n      <th>86</th>\n      <th>87</th>\n      <th>88</th>\n      <th>89</th>\n      <th>90</th>\n      <th>91</th>\n      <th>92</th>\n      <th>93</th>\n      <th>94</th>\n      <th>95</th>\n      <th>96</th>\n      <th>97</th>\n      <th>98</th>\n      <th>99</th>\n      <th>100</th>\n      <th>101</th>\n      <th>102</th>\n      <th>103</th>\n      <th>104</th>\n      <th>105</th>\n      <th>106</th>\n      <th>107</th>\n      <th>108</th>\n      <th>109</th>\n      <th>110</th>\n      <th>111</th>\n      <th>112</th>\n      <th>113</th>\n      <th>114</th>\n      <th>115</th>\n      <th>116</th>\n      <th>117</th>\n      <th>118</th>\n      <th>119</th>\n      <th>120</th>\n      <th>121</th>\n      <th>122</th>\n      <th>123</th>\n      <th>124</th>\n      <th>125</th>\n      <th>126</th>\n      <th>127</th>\n      <th>128</th>\n      <th>129</th>\n      <th>130</th>\n      <th>131</th>\n      <th>132</th>\n      <th>133</th>\n      <th>134</th>\n      <th>135</th>\n      <th>136</th>\n      <th>137</th>\n      <th>138</th>\n      <th>139</th>\n      <th>140</th>\n      <th>141</th>\n      <th>142</th>\n      <th>143</th>\n      <th>144</th>\n      <th>145</th>\n      <th>146</th>\n      <th>147</th>\n      <th>148</th>\n      <th>149</th>\n      <th>150</th>\n      <th>151</th>\n      <th>152</th>\n      <th>153</th>\n      <th>154</th>\n      <th>155</th>\n      <th>156</th>\n      <th>157</th>\n      <th>158</th>\n      <th>159</th>\n      <th>160</th>\n      <th>161</th>\n      <th>162</th>\n      <th>163</th>\n      <th>164</th>\n      <th>165</th>\n      <th>166</th>\n      <th>167</th>\n      <th>168</th>\n      <th>169</th>\n      <th>170</th>\n      <th>171</th>\n      <th>172</th>\n      <th>173</th>\n      <th>174</th>\n      <th>175</th>\n      <th>176</th>\n      <th>177</th>\n      <th>178</th>\n      <th>179</th>\n      <th>180</th>\n      <th>181</th>\n      <th>182</th>\n      <th>183</th>\n      <th>184</th>\n      <th>185</th>\n      <th>186</th>\n      <th>187</th>\n      <th>188</th>\n      <th>189</th>\n      <th>190</th>\n      <th>191</th>\n      <th>192</th>\n      <th>193</th>\n      <th>194</th>\n      <th>195</th>\n      <th>196</th>\n      <th>197</th>\n      <th>198</th>\n      <th>199</th>\n      <th>200</th>\n      <th>201</th>\n      <th>202</th>\n      <th>203</th>\n      <th>204</th>\n      <th>205</th>\n      <th>206</th>\n      <th>207</th>\n      <th>208</th>\n      <th>209</th>\n      <th>210</th>\n      <th>211</th>\n      <th>212</th>\n      <th>213</th>\n      <th>214</th>\n      <th>215</th>\n      <th>216</th>\n      <th>217</th>\n      <th>218</th>\n      <th>219</th>\n      <th>220</th>\n      <th>221</th>\n      <th>222</th>\n      <th>223</th>\n      <th>224</th>\n      <th>225</th>\n      <th>226</th>\n      <th>227</th>\n      <th>228</th>\n      <th>229</th>\n      <th>230</th>\n      <th>231</th>\n      <th>232</th>\n      <th>233</th>\n      <th>234</th>\n      <th>235</th>\n      <th>236</th>\n      <th>237</th>\n      <th>238</th>\n      <th>239</th>\n      <th>240</th>\n      <th>241</th>\n      <th>242</th>\n      <th>243</th>\n      <th>244</th>\n      <th>245</th>\n      <th>246</th>\n      <th>247</th>\n      <th>248</th>\n      <th>249</th>\n      <th>250</th>\n      <th>251</th>\n      <th>252</th>\n      <th>253</th>\n      <th>254</th>\n      <th>255</th>\n      <th>256</th>\n      <th>257</th>\n      <th>258</th>\n      <th>259</th>\n      <th>260</th>\n      <th>261</th>\n      <th>262</th>\n      <th>263</th>\n      <th>264</th>\n      <th>265</th>\n      <th>266</th>\n      <th>267</th>\n      <th>268</th>\n      <th>269</th>\n      <th>270</th>\n      <th>271</th>\n      <th>272</th>\n      <th>273</th>\n      <th>274</th>\n      <th>275</th>\n      <th>276</th>\n      <th>277</th>\n      <th>278</th>\n      <th>279</th>\n      <th>280</th>\n      <th>281</th>\n      <th>282</th>\n      <th>283</th>\n      <th>284</th>\n      <th>285</th>\n      <th>286</th>\n      <th>287</th>\n      <th>288</th>\n      <th>289</th>\n      <th>290</th>\n      <th>291</th>\n      <th>292</th>\n      <th>293</th>\n      <th>294</th>\n      <th>295</th>\n      <th>296</th>\n      <th>297</th>\n      <th>298</th>\n      <th>299</th>\n      <th>300</th>\n      <th>301</th>\n      <th>302</th>\n      <th>303</th>\n      <th>304</th>\n      <th>305</th>\n      <th>306</th>\n      <th>307</th>\n      <th>308</th>\n      <th>309</th>\n      <th>310</th>\n      <th>311</th>\n      <th>312</th>\n      <th>313</th>\n      <th>314</th>\n      <th>315</th>\n      <th>316</th>\n      <th>317</th>\n      <th>318</th>\n      <th>319</th>\n      <th>320</th>\n      <th>321</th>\n      <th>322</th>\n      <th>323</th>\n      <th>324</th>\n      <th>325</th>\n      <th>326</th>\n      <th>327</th>\n      <th>328</th>\n      <th>329</th>\n      <th>330</th>\n      <th>331</th>\n      <th>332</th>\n      <th>333</th>\n      <th>334</th>\n      <th>335</th>\n      <th>336</th>\n      <th>337</th>\n      <th>338</th>\n      <th>339</th>\n      <th>340</th>\n      <th>341</th>\n      <th>342</th>\n      <th>343</th>\n      <th>344</th>\n      <th>345</th>\n      <th>346</th>\n      <th>347</th>\n      <th>348</th>\n      <th>349</th>\n      <th>350</th>\n      <th>351</th>\n      <th>352</th>\n      <th>353</th>\n      <th>354</th>\n      <th>355</th>\n      <th>356</th>\n      <th>357</th>\n      <th>358</th>\n      <th>359</th>\n      <th>360</th>\n      <th>361</th>\n      <th>362</th>\n      <th>363</th>\n      <th>364</th>\n      <th>365</th>\n      <th>366</th>\n      <th>367</th>\n      <th>368</th>\n      <th>369</th>\n      <th>370</th>\n      <th>371</th>\n      <th>372</th>\n      <th>373</th>\n      <th>374</th>\n      <th>375</th>\n      <th>376</th>\n      <th>377</th>\n      <th>378</th>\n      <th>379</th>\n      <th>380</th>\n      <th>381</th>\n      <th>382</th>\n      <th>383</th>\n      <th>384</th>\n      <th>385</th>\n      <th>386</th>\n      <th>387</th>\n      <th>388</th>\n      <th>389</th>\n      <th>390</th>\n      <th>391</th>\n      <th>392</th>\n      <th>393</th>\n      <th>394</th>\n      <th>395</th>\n      <th>396</th>\n      <th>397</th>\n      <th>398</th>\n      <th>399</th>\n      <th>400</th>\n      <th>401</th>\n      <th>402</th>\n      <th>403</th>\n      <th>404</th>\n      <th>405</th>\n      <th>406</th>\n      <th>407</th>\n      <th>408</th>\n      <th>409</th>\n      <th>410</th>\n      <th>411</th>\n      <th>412</th>\n      <th>413</th>\n      <th>414</th>\n      <th>415</th>\n      <th>416</th>\n      <th>417</th>\n      <th>418</th>\n      <th>419</th>\n      <th>420</th>\n      <th>421</th>\n      <th>422</th>\n      <th>423</th>\n      <th>424</th>\n      <th>425</th>\n      <th>426</th>\n      <th>427</th>\n      <th>428</th>\n      <th>429</th>\n      <th>430</th>\n      <th>431</th>\n      <th>432</th>\n      <th>433</th>\n      <th>434</th>\n      <th>435</th>\n      <th>436</th>\n      <th>437</th>\n      <th>438</th>\n      <th>439</th>\n      <th>440</th>\n      <th>441</th>\n      <th>442</th>\n      <th>443</th>\n      <th>444</th>\n      <th>445</th>\n      <th>446</th>\n      <th>447</th>\n      <th>448</th>\n      <th>449</th>\n      <th>450</th>\n      <th>451</th>\n      <th>452</th>\n      <th>453</th>\n      <th>454</th>\n      <th>455</th>\n      <th>456</th>\n      <th>457</th>\n      <th>458</th>\n      <th>459</th>\n      <th>460</th>\n      <th>461</th>\n      <th>462</th>\n      <th>463</th>\n      <th>464</th>\n      <th>465</th>\n      <th>466</th>\n      <th>467</th>\n      <th>468</th>\n      <th>469</th>\n      <th>470</th>\n      <th>471</th>\n      <th>472</th>\n      <th>473</th>\n      <th>474</th>\n      <th>475</th>\n      <th>476</th>\n      <th>477</th>\n      <th>478</th>\n      <th>479</th>\n      <th>480</th>\n      <th>481</th>\n      <th>482</th>\n      <th>483</th>\n      <th>484</th>\n      <th>485</th>\n      <th>486</th>\n      <th>487</th>\n      <th>488</th>\n      <th>489</th>\n      <th>490</th>\n      <th>491</th>\n      <th>492</th>\n      <th>493</th>\n      <th>494</th>\n      <th>495</th>\n      <th>496</th>\n      <th>497</th>\n      <th>498</th>\n      <th>499</th>\n      <th>500</th>\n      <th>501</th>\n      <th>502</th>\n      <th>503</th>\n      <th>504</th>\n      <th>505</th>\n      <th>506</th>\n      <th>507</th>\n      <th>508</th>\n      <th>509</th>\n      <th>510</th>\n      <th>511</th>\n      <th>512</th>\n      <th>513</th>\n      <th>514</th>\n      <th>515</th>\n      <th>516</th>\n      <th>517</th>\n      <th>518</th>\n      <th>519</th>\n      <th>520</th>\n      <th>521</th>\n      <th>522</th>\n      <th>523</th>\n      <th>524</th>\n      <th>525</th>\n      <th>526</th>\n      <th>527</th>\n      <th>528</th>\n      <th>529</th>\n      <th>530</th>\n      <th>531</th>\n      <th>532</th>\n      <th>533</th>\n      <th>534</th>\n      <th>535</th>\n      <th>536</th>\n      <th>537</th>\n      <th>538</th>\n      <th>539</th>\n      <th>540</th>\n      <th>541</th>\n      <th>542</th>\n      <th>543</th>\n      <th>544</th>\n      <th>545</th>\n      <th>546</th>\n      <th>547</th>\n      <th>548</th>\n      <th>549</th>\n      <th>550</th>\n      <th>551</th>\n      <th>552</th>\n      <th>553</th>\n      <th>554</th>\n      <th>555</th>\n      <th>556</th>\n      <th>557</th>\n      <th>558</th>\n      <th>559</th>\n      <th>560</th>\n      <th>561</th>\n      <th>562</th>\n      <th>563</th>\n      <th>564</th>\n      <th>565</th>\n      <th>566</th>\n      <th>567</th>\n      <th>568</th>\n      <th>569</th>\n      <th>570</th>\n      <th>571</th>\n      <th>572</th>\n      <th>573</th>\n      <th>574</th>\n      <th>575</th>\n      <th>576</th>\n      <th>577</th>\n      <th>578</th>\n      <th>579</th>\n      <th>580</th>\n      <th>581</th>\n      <th>582</th>\n      <th>583</th>\n      <th>584</th>\n      <th>585</th>\n      <th>586</th>\n      <th>587</th>\n      <th>588</th>\n      <th>589</th>\n      <th>590</th>\n      <th>591</th>\n      <th>592</th>\n      <th>593</th>\n      <th>594</th>\n      <th>595</th>\n      <th>596</th>\n      <th>597</th>\n      <th>598</th>\n      <th>599</th>\n      <th>600</th>\n      <th>601</th>\n      <th>602</th>\n      <th>603</th>\n      <th>604</th>\n      <th>605</th>\n      <th>606</th>\n      <th>607</th>\n      <th>608</th>\n      <th>609</th>\n      <th>610</th>\n      <th>611</th>\n      <th>612</th>\n      <th>613</th>\n      <th>614</th>\n      <th>615</th>\n      <th>616</th>\n      <th>617</th>\n      <th>618</th>\n      <th>619</th>\n      <th>620</th>\n      <th>621</th>\n      <th>622</th>\n      <th>623</th>\n      <th>624</th>\n      <th>625</th>\n      <th>626</th>\n      <th>627</th>\n      <th>628</th>\n      <th>629</th>\n      <th>630</th>\n      <th>631</th>\n      <th>632</th>\n      <th>633</th>\n      <th>634</th>\n      <th>635</th>\n      <th>636</th>\n      <th>637</th>\n      <th>638</th>\n      <th>639</th>\n      <th>640</th>\n      <th>641</th>\n      <th>642</th>\n      <th>643</th>\n      <th>644</th>\n      <th>645</th>\n      <th>646</th>\n      <th>647</th>\n      <th>648</th>\n      <th>649</th>\n      <th>650</th>\n      <th>651</th>\n      <th>652</th>\n      <th>653</th>\n      <th>654</th>\n      <th>655</th>\n      <th>656</th>\n      <th>657</th>\n      <th>658</th>\n      <th>659</th>\n      <th>660</th>\n      <th>661</th>\n      <th>662</th>\n      <th>663</th>\n      <th>664</th>\n      <th>665</th>\n      <th>666</th>\n      <th>667</th>\n      <th>668</th>\n      <th>669</th>\n      <th>670</th>\n      <th>671</th>\n      <th>672</th>\n      <th>673</th>\n      <th>674</th>\n      <th>675</th>\n      <th>676</th>\n      <th>677</th>\n      <th>678</th>\n      <th>679</th>\n      <th>680</th>\n      <th>681</th>\n      <th>682</th>\n      <th>683</th>\n      <th>684</th>\n      <th>685</th>\n      <th>686</th>\n      <th>687</th>\n      <th>688</th>\n      <th>689</th>\n      <th>690</th>\n      <th>691</th>\n      <th>692</th>\n      <th>693</th>\n      <th>694</th>\n      <th>695</th>\n      <th>696</th>\n      <th>697</th>\n      <th>698</th>\n      <th>699</th>\n      <th>700</th>\n      <th>701</th>\n      <th>702</th>\n      <th>703</th>\n      <th>704</th>\n      <th>705</th>\n      <th>706</th>\n      <th>707</th>\n      <th>708</th>\n      <th>709</th>\n      <th>710</th>\n      <th>711</th>\n      <th>712</th>\n      <th>713</th>\n      <th>714</th>\n      <th>715</th>\n      <th>716</th>\n      <th>717</th>\n      <th>718</th>\n      <th>719</th>\n      <th>720</th>\n      <th>721</th>\n      <th>722</th>\n      <th>723</th>\n      <th>724</th>\n      <th>725</th>\n      <th>726</th>\n      <th>727</th>\n      <th>728</th>\n      <th>729</th>\n      <th>730</th>\n      <th>731</th>\n      <th>732</th>\n      <th>733</th>\n      <th>734</th>\n      <th>735</th>\n      <th>736</th>\n      <th>737</th>\n      <th>738</th>\n      <th>739</th>\n      <th>740</th>\n      <th>741</th>\n      <th>742</th>\n      <th>743</th>\n      <th>744</th>\n      <th>745</th>\n      <th>746</th>\n      <th>747</th>\n      <th>748</th>\n      <th>749</th>\n      <th>750</th>\n      <th>751</th>\n      <th>752</th>\n      <th>753</th>\n      <th>754</th>\n      <th>755</th>\n      <th>756</th>\n      <th>757</th>\n      <th>758</th>\n      <th>759</th>\n      <th>760</th>\n      <th>761</th>\n      <th>762</th>\n      <th>763</th>\n      <th>764</th>\n      <th>765</th>\n      <th>766</th>\n      <th>767</th>\n      <th>NumOfUrls</th>\n    </tr>\n  </thead>\n  <tbody>\n    <tr>\n      <th>0</th>\n      <td>1</td>\n      <td>1</td>\n      <td>1</td>\n      <td>6</td>\n      <td>3</td>\n      <td>0</td>\n      <td>0</td>\n      <td>0</td>\n      <td>0</td>\n      <td>0</td>\n      <td>0</td>\n      <td>0</td>\n      <td>2</td>\n      <td>0</td>\n      <td>0</td>\n      <td>0</td>\n      <td>0</td>\n      <td>88</td>\n      <td>11</td>\n      <td>0</td>\n      <td>0</td>\n      <td>1</td>\n      <td>0.159091</td>\n      <td>4.803286</td>\n      <td>3.855943</td>\n      <td>5.287349</td>\n      <td>2126</td>\n      <td>1</td>\n      <td>-0.050837</td>\n      <td>0.092732</td>\n      <td>0.114739</td>\n      <td>0.075394</td>\n      <td>0.107089</td>\n      <td>0.13905</td>\n      <td>0.07316</td>\n      <td>0.130306</td>\n      <td>0.228484</td>\n      <td>-0.100131</td>\n      <td>-0.014994</td>\n      <td>0.113855</td>\n      <td>-0.150934</td>\n      <td>0.122817</td>\n      <td>0.105345</td>\n      <td>0.282658</td>\n      <td>-0.009214</td>\n      <td>0.026026</td>\n      <td>0.384472</td>\n      <td>0.005275</td>\n      <td>-0.029484</td>\n      <td>0.008477</td>\n      <td>0.13608</td>\n      <td>0.086456</td>\n      <td>0.187912</td>\n      <td>-0.009612</td>\n      <td>0.067772</td>\n      <td>0.016709</td>\n      <td>0.259856</td>\n      <td>0.036181</td>\n      <td>-0.033826</td>\n      <td>-0.0338</td>\n      <td>0.127175</td>\n      <td>-0.034795</td>\n      <td>0.184054</td>\n      <td>-0.205514</td>\n      <td>0.036112</td>\n      <td>0.313101</td>\n      <td>0.028765</td>\n      <td>0.066649</td>\n      <td>-0.026885</td>\n      <td>-0.301041</td>\n      <td>0.025878</td>\n      <td>0.221337</td>\n      <td>0.413406</td>\n      <td>-0.046079</td>\n      <td>-0.008628</td>\n      <td>-0.089164</td>\n      <td>0.180499</td>\n      <td>-0.038341</td>\n      <td>0.062557</td>\n      <td>0.019168</td>\n      <td>0.294053</td>\n      <td>-0.127257</td>\n      <td>-0.072294</td>\n      <td>-0.165382</td>\n      <td>0.160989</td>\n      <td>0.319801</td>\n      <td>0.221671</td>\n      <td>-0.047767</td>\n      <td>0.043942</td>\n      <td>-0.09491</td>\n      <td>0.16816</td>\n      <td>-0.098562</td>\n      <td>0.235896</td>\n      <td>0.008319</td>\n      <td>0.179441</td>\n      <td>-0.042238</td>\n      <td>0.235846</td>\n      <td>0.08542</td>\n      <td>0.122401</td>\n      <td>0.024702</td>\n      <td>0.049678</td>\n      <td>-0.004363</td>\n      <td>0.022773</td>\n      <td>0.073948</td>\n      <td>0.093372</td>\n      <td>-0.08766</td>\n      <td>0.016639</td>\n      <td>-0.00047</td>\n      <td>0.018962</td>\n      <td>0.030085</td>\n      <td>-0.042204</td>\n      <td>-0.048046</td>\n      <td>0.157178</td>\n      <td>-0.056926</td>\n      <td>0.090154</td>\n      <td>-0.435785</td>\n      <td>0.049993</td>\n      <td>0.118588</td>\n      <td>0.121751</td>\n      <td>0.188421</td>\n      <td>-0.009043</td>\n      <td>-0.106354</td>\n      <td>0.020515</td>\n      <td>0.051942</td>\n      <td>0.097716</td>\n      <td>-0.171429</td>\n      <td>-0.146155</td>\n      <td>0.118173</td>\n      <td>0.174123</td>\n      <td>0.187443</td>\n      <td>0.124163</td>\n      <td>0.017795</td>\n      <td>0.188406</td>\n      <td>0.003787</td>\n      <td>0.136248</td>\n      <td>0.009168</td>\n      <td>-0.043809</td>\n      <td>-0.058206</td>\n      <td>-0.053651</td>\n      <td>-0.071363</td>\n      <td>-0.027494</td>\n      <td>0.059122</td>\n      <td>-0.056397</td>\n      <td>0.076876</td>\n      <td>0.023384</td>\n      <td>-0.101217</td>\n      <td>-0.035729</td>\n      <td>-0.035874</td>\n      <td>-0.113552</td>\n      <td>0.32688</td>\n      <td>1.128277</td>\n      <td>-0.162523</td>\n      <td>0.244552</td>\n      <td>0.134151</td>\n      <td>-0.341332</td>\n      <td>-0.023636</td>\n      <td>-0.230737</td>\n      <td>0.23435</td>\n      <td>0.01764</td>\n      <td>0.139768</td>\n      <td>0.012609</td>\n      <td>0.099411</td>\n      <td>0.120146</td>\n      <td>0.082593</td>\n      <td>-0.029837</td>\n      <td>0.075398</td>\n      <td>0.073279</td>\n      <td>0.192991</td>\n      <td>-0.010465</td>\n      <td>0.037354</td>\n      <td>0.152419</td>\n      <td>0.130833</td>\n      <td>0.185745</td>\n      <td>-0.017404</td>\n      <td>-0.062685</td>\n      <td>-0.155184</td>\n      <td>0.103873</td>\n      <td>0.069338</td>\n      <td>0.192149</td>\n      <td>0.235524</td>\n      <td>-0.034443</td>\n      <td>0.246916</td>\n      <td>-0.056299</td>\n      <td>0.283455</td>\n      <td>0.15655</td>\n      <td>-0.064347</td>\n      <td>0.093145</td>\n      <td>-0.100822</td>\n      <td>0.490345</td>\n      <td>0.085057</td>\n      <td>0.070042</td>\n      <td>-0.158754</td>\n      <td>0.036534</td>\n      <td>-0.024924</td>\n      <td>0.171337</td>\n      <td>0.184439</td>\n      <td>0.085795</td>\n      <td>-0.380791</td>\n      <td>-0.147535</td>\n      <td>0.097836</td>\n      <td>0.132983</td>\n      <td>-0.119722</td>\n      <td>-0.053787</td>\n      <td>-0.191895</td>\n      <td>-0.004669</td>\n      <td>0.055565</td>\n      <td>0.105001</td>\n      <td>0.217994</td>\n      <td>0.118883</td>\n      <td>-0.013437</td>\n      <td>0.049413</td>\n      <td>-0.184649</td>\n      <td>0.142525</td>\n      <td>0.093046</td>\n      <td>0.733452</td>\n      <td>-0.026955</td>\n      <td>0.076216</td>\n      <td>0.102615</td>\n      <td>0.075032</td>\n      <td>0.159832</td>\n      <td>0.175995</td>\n      <td>0.034533</td>\n      <td>0.216974</td>\n      <td>-0.040822</td>\n      <td>-0.620106</td>\n      <td>0.015153</td>\n      <td>-0.191234</td>\n      <td>-0.02798</td>\n      <td>0.144968</td>\n      <td>0.082474</td>\n      <td>0.004093</td>\n      <td>0.137805</td>\n      <td>0.014259</td>\n      <td>-0.02632</td>\n      <td>0.129793</td>\n      <td>0.037035</td>\n      <td>0.103467</td>\n      <td>0.130584</td>\n      <td>0.059276</td>\n      <td>-0.007008</td>\n      <td>0.05147</td>\n      <td>0.177875</td>\n      <td>0.154718</td>\n      <td>1.459721</td>\n      <td>-0.019871</td>\n      <td>-0.177107</td>\n      <td>0.00871</td>\n      <td>0.202174</td>\n      <td>0.023483</td>\n      <td>-0.0007</td>\n      <td>0.24965</td>\n      <td>0.013207</td>\n      <td>0.014274</td>\n      <td>0.035296</td>\n      <td>0.183861</td>\n      <td>0.168008</td>\n      <td>-0.193728</td>\n      <td>-0.033217</td>\n      <td>0.112602</td>\n      <td>-0.662006</td>\n      <td>0.236307</td>\n      <td>0.022692</td>\n      <td>0.076554</td>\n      <td>-0.076364</td>\n      <td>0.001315</td>\n      <td>0.003409</td>\n      <td>0.143209</td>\n      <td>-0.085346</td>\n      <td>-0.11333</td>\n      <td>0.041998</td>\n      <td>-0.310889</td>\n      <td>0.036343</td>\n      <td>0.078607</td>\n      <td>0.007644</td>\n      <td>-0.003193</td>\n      <td>0.245886</td>\n      <td>-0.00598</td>\n      <td>0.366047</td>\n      <td>0.113158</td>\n      <td>-0.090079</td>\n      <td>0.185</td>\n      <td>0.010817</td>\n      <td>0.044746</td>\n      <td>0.065226</td>\n      <td>0.022737</td>\n      <td>0.047623</td>\n      <td>0.015578</td>\n      <td>0.199833</td>\n      <td>0.119033</td>\n      <td>-0.17745</td>\n      <td>0.243363</td>\n      <td>0.026125</td>\n      <td>-0.134751</td>\n      <td>0.062516</td>\n      <td>-0.003423</td>\n      <td>-0.086743</td>\n      <td>0.037737</td>\n      <td>0.092975</td>\n      <td>0.013743</td>\n      <td>0.019833</td>\n      <td>0.017909</td>\n      <td>0.061941</td>\n      <td>-0.125108</td>\n      <td>0.026385</td>\n      <td>0.177655</td>\n      <td>0.209732</td>\n      <td>0.138689</td>\n      <td>0.193858</td>\n      <td>0.320215</td>\n      <td>0.170495</td>\n      <td>0.098713</td>\n      <td>0.094638</td>\n      <td>0.167456</td>\n      <td>0.052898</td>\n      <td>0.055709</td>\n      <td>-0.191465</td>\n      <td>0.029039</td>\n      <td>0.023186</td>\n      <td>0.165401</td>\n      <td>-0.019926</td>\n      <td>0.093978</td>\n      <td>0.071466</td>\n      <td>-0.106965</td>\n      <td>-0.283926</td>\n      <td>0.09382</td>\n      <td>-0.135303</td>\n      <td>-0.080348</td>\n      <td>-0.079342</td>\n      <td>0.13895</td>\n      <td>-0.057813</td>\n      <td>-0.035777</td>\n      <td>0.026291</td>\n      <td>0.159044</td>\n      <td>0.021355</td>\n      <td>0.023304</td>\n      <td>0.118728</td>\n      <td>-0.052093</td>\n      <td>-0.044166</td>\n      <td>0.069713</td>\n      <td>-0.143708</td>\n      <td>0.246741</td>\n      <td>-0.248931</td>\n      <td>0.167621</td>\n      <td>0.271046</td>\n      <td>-0.013233</td>\n      <td>0.099574</td>\n      <td>0.053031</td>\n      <td>0.079658</td>\n      <td>0.020334</td>\n      <td>-0.074295</td>\n      <td>0.197075</td>\n      <td>-0.098494</td>\n      <td>-0.050227</td>\n      <td>0.148226</td>\n      <td>0.109211</td>\n      <td>0.106813</td>\n      <td>0.10765</td>\n      <td>-0.02709</td>\n      <td>0.11277</td>\n      <td>-0.151641</td>\n      <td>-0.033031</td>\n      <td>0.08224</td>\n      <td>0.01081</td>\n      <td>0.14583</td>\n      <td>0.127097</td>\n      <td>0.04943</td>\n      <td>-0.050675</td>\n      <td>0.177297</td>\n      <td>0.038675</td>\n      <td>-0.033512</td>\n      <td>-0.008634</td>\n      <td>-0.378383</td>\n      <td>0.329451</td>\n      <td>0.052087</td>\n      <td>-0.194045</td>\n      <td>0.203455</td>\n      <td>-0.008665</td>\n      <td>-0.036847</td>\n      <td>0.048802</td>\n      <td>0.030757</td>\n      <td>0.170823</td>\n      <td>0.058219</td>\n      <td>0.166422</td>\n      <td>0.154835</td>\n      <td>-0.026366</td>\n      <td>0.077685</td>\n      <td>-0.088685</td>\n      <td>-0.080075</td>\n      <td>-0.085859</td>\n      <td>0.068221</td>\n      <td>0.139089</td>\n      <td>0.031414</td>\n      <td>-0.013288</td>\n      <td>-0.046386</td>\n      <td>0.057323</td>\n      <td>0.020031</td>\n      <td>-0.097825</td>\n      <td>0.066423</td>\n      <td>0.042751</td>\n      <td>0.141207</td>\n      <td>0.028556</td>\n      <td>0.08162</td>\n      <td>-0.04442</td>\n      <td>-0.237922</td>\n      <td>0.021506</td>\n      <td>1.36069</td>\n      <td>-0.086635</td>\n      <td>0.068215</td>\n      <td>0.087148</td>\n      <td>0.1785</td>\n      <td>-0.032101</td>\n      <td>0.096385</td>\n      <td>-0.029826</td>\n      <td>-0.051449</td>\n      <td>-0.074922</td>\n      <td>0.039719</td>\n      <td>0.047692</td>\n      <td>0.059988</td>\n      <td>0.027319</td>\n      <td>0.071627</td>\n      <td>-0.033938</td>\n      <td>-0.090796</td>\n      <td>0.033027</td>\n      <td>0.067911</td>\n      <td>0.094762</td>\n      <td>0.078694</td>\n      <td>-0.007233</td>\n      <td>-0.013146</td>\n      <td>0.186293</td>\n      <td>-0.021997</td>\n      <td>0.049522</td>\n      <td>-0.365491</td>\n      <td>0.157743</td>\n      <td>0.220855</td>\n      <td>0.00105</td>\n      <td>0.479389</td>\n      <td>0.153713</td>\n      <td>0.172776</td>\n      <td>0.04413</td>\n      <td>0.080743</td>\n      <td>0.139156</td>\n      <td>0.02863</td>\n      <td>-0.100594</td>\n      <td>0.057783</td>\n      <td>0.258978</td>\n      <td>-0.016781</td>\n      <td>0.212371</td>\n      <td>0.259094</td>\n      <td>0.192993</td>\n      <td>0.087324</td>\n      <td>-0.177233</td>\n      <td>0.165854</td>\n      <td>-0.013197</td>\n      <td>-0.235912</td>\n      <td>0.118583</td>\n      <td>0.076536</td>\n      <td>-0.199586</td>\n      <td>0.065384</td>\n      <td>0.081454</td>\n      <td>0.012155</td>\n      <td>0.080003</td>\n      <td>0.087354</td>\n      <td>0.20402</td>\n      <td>0.024035</td>\n      <td>0.063078</td>\n      <td>0.397284</td>\n      <td>0.163372</td>\n      <td>0.138074</td>\n      <td>-0.151533</td>\n      <td>0.116161</td>\n      <td>-0.024617</td>\n      <td>-0.057374</td>\n      <td>-0.018934</td>\n      <td>1.260831</td>\n      <td>-0.121087</td>\n      <td>-0.068355</td>\n      <td>0.005283</td>\n      <td>0.23374</td>\n      <td>0.126684</td>\n      <td>0.166496</td>\n      <td>0.155109</td>\n      <td>0.050933</td>\n      <td>0.099754</td>\n      <td>0.157397</td>\n      <td>0.014706</td>\n      <td>0.06616</td>\n      <td>-0.017415</td>\n      <td>0.033976</td>\n      <td>0.144182</td>\n      <td>-0.074391</td>\n      <td>0.218043</td>\n      <td>0.10832</td>\n      <td>0.069208</td>\n      <td>0.021019</td>\n      <td>0.09636</td>\n      <td>0.023787</td>\n      <td>0.099954</td>\n      <td>0.021042</td>\n      <td>-0.196631</td>\n      <td>0.091346</td>\n      <td>-0.236719</td>\n      <td>0.19975</td>\n      <td>-0.076617</td>\n      <td>0.212115</td>\n      <td>-0.119809</td>\n      <td>0.055534</td>\n      <td>-0.050219</td>\n      <td>-0.012184</td>\n      <td>0.027356</td>\n      <td>0.040284</td>\n      <td>-0.125519</td>\n      <td>0.106275</td>\n      <td>0.094535</td>\n      <td>-0.040326</td>\n      <td>0.220184</td>\n      <td>0.294389</td>\n      <td>-0.007067</td>\n      <td>0.015102</td>\n      <td>0.209651</td>\n      <td>-0.071828</td>\n      <td>0.40391</td>\n      <td>0.095651</td>\n      <td>-0.012581</td>\n      <td>-0.17435</td>\n      <td>-0.001841</td>\n      <td>0.016571</td>\n      <td>-0.227041</td>\n      <td>-0.042659</td>\n      <td>-0.052829</td>\n      <td>0.014349</td>\n      <td>-0.334312</td>\n      <td>-0.058526</td>\n      <td>0.01464</td>\n      <td>0.06551</td>\n      <td>-0.23657</td>\n      <td>0.235616</td>\n      <td>-0.141037</td>\n      <td>-0.045091</td>\n      <td>0.091257</td>\n      <td>0.000331</td>\n      <td>-0.085923</td>\n      <td>-0.113953</td>\n      <td>0.16588</td>\n      <td>0.115256</td>\n      <td>0.151689</td>\n      <td>-0.019073</td>\n      <td>0.358882</td>\n      <td>0.187635</td>\n      <td>0.161047</td>\n      <td>0.001556</td>\n      <td>-0.133403</td>\n      <td>-0.02983</td>\n      <td>0.072631</td>\n      <td>-0.106322</td>\n      <td>0.010788</td>\n      <td>0.077473</td>\n      <td>0.274538</td>\n      <td>0.064489</td>\n      <td>-0.066754</td>\n      <td>-0.010169</td>\n      <td>0.147994</td>\n      <td>0.689777</td>\n      <td>0.051599</td>\n      <td>0.06027</td>\n      <td>0.12269</td>\n      <td>0.095201</td>\n      <td>0.349429</td>\n      <td>0.137133</td>\n      <td>0.013771</td>\n      <td>-0.186556</td>\n      <td>-0.112904</td>\n      <td>0.114636</td>\n      <td>0.021767</td>\n      <td>0.116981</td>\n      <td>0.269665</td>\n      <td>0.025507</td>\n      <td>-0.049283</td>\n      <td>0.014599</td>\n      <td>-0.191199</td>\n      <td>0.11708</td>\n      <td>-0.139389</td>\n      <td>-0.099676</td>\n      <td>-0.015247</td>\n      <td>0.060215</td>\n      <td>0.142366</td>\n      <td>0.030017</td>\n      <td>-0.015911</td>\n      <td>0.151216</td>\n      <td>0.065849</td>\n      <td>-0.081206</td>\n      <td>0.070137</td>\n      <td>-0.09733</td>\n      <td>-0.093912</td>\n      <td>-0.001228</td>\n      <td>-0.143985</td>\n      <td>0.097763</td>\n      <td>0.001074</td>\n      <td>0.122071</td>\n      <td>-0.120969</td>\n      <td>0.124059</td>\n      <td>0.138693</td>\n      <td>0.081858</td>\n      <td>-0.195262</td>\n      <td>-0.023435</td>\n      <td>-0.167506</td>\n      <td>0.206062</td>\n      <td>0.227225</td>\n      <td>-0.154247</td>\n      <td>0.108975</td>\n      <td>-0.127518</td>\n      <td>0.100334</td>\n      <td>0.007248</td>\n      <td>0.243197</td>\n      <td>-0.133537</td>\n      <td>-0.076681</td>\n      <td>-0.189701</td>\n      <td>0.087706</td>\n      <td>-0.005775</td>\n      <td>-0.03579</td>\n      <td>0.084758</td>\n      <td>0.101637</td>\n      <td>0.212239</td>\n      <td>0.086524</td>\n      <td>-0.048381</td>\n      <td>-0.051883</td>\n      <td>0.032049</td>\n      <td>-0.050279</td>\n      <td>0.017213</td>\n      <td>-0.007712</td>\n      <td>-0.391676</td>\n      <td>0.096847</td>\n      <td>0.027986</td>\n      <td>0.016868</td>\n      <td>-0.034939</td>\n      <td>0.067554</td>\n      <td>-0.010633</td>\n      <td>-0.051447</td>\n      <td>0.282146</td>\n      <td>0.09184</td>\n      <td>-0.164617</td>\n      <td>0.086962</td>\n      <td>0.01407</td>\n      <td>0.459107</td>\n      <td>0.017774</td>\n      <td>0.020485</td>\n      <td>-0.0981</td>\n      <td>0.122735</td>\n      <td>0.053456</td>\n      <td>0.040969</td>\n      <td>-0.195629</td>\n      <td>-0.148964</td>\n      <td>0.056046</td>\n      <td>0.128047</td>\n      <td>-0.141275</td>\n      <td>-0.03932</td>\n      <td>0.186491</td>\n      <td>0.158052</td>\n      <td>0.047916</td>\n      <td>-0.125734</td>\n      <td>0.071971</td>\n      <td>-0.026531</td>\n      <td>0.146315</td>\n      <td>0.121328</td>\n      <td>0.023354</td>\n      <td>-0.118615</td>\n      <td>-0.026744</td>\n      <td>-0.148396</td>\n      <td>0.091453</td>\n      <td>0.126715</td>\n      <td>0.114614</td>\n      <td>0.12071</td>\n      <td>-0.035757</td>\n      <td>0.031627</td>\n      <td>-0.03396</td>\n      <td>-0.145217</td>\n      <td>0.015119</td>\n      <td>-0.417659</td>\n      <td>-0.115307</td>\n      <td>0.322232</td>\n      <td>0.082257</td>\n      <td>0.056434</td>\n      <td>-0.386645</td>\n      <td>-0.124879</td>\n      <td>0.200853</td>\n      <td>0.137919</td>\n      <td>-0.09017</td>\n      <td>0.25741</td>\n      <td>-0.255948</td>\n      <td>0.117308</td>\n      <td>0.165138</td>\n      <td>0.508033</td>\n      <td>-0.014933</td>\n      <td>-0.164363</td>\n      <td>0.220411</td>\n      <td>-0.06227</td>\n      <td>0.126027</td>\n      <td>-0.015052</td>\n      <td>0.052886</td>\n      <td>-0.535616</td>\n      <td>0.035637</td>\n      <td>0.444762</td>\n      <td>-0.059953</td>\n      <td>0.037359</td>\n      <td>0.239752</td>\n      <td>0.157297</td>\n      <td>-0.108926</td>\n      <td>0.356802</td>\n      <td>0.017034</td>\n      <td>0.17362</td>\n      <td>0.218611</td>\n      <td>0.07815</td>\n      <td>-0.149544</td>\n      <td>0.041637</td>\n      <td>0.25998</td>\n      <td>0.050585</td>\n      <td>-0.136436</td>\n      <td>0.054819</td>\n      <td>0.166581</td>\n      <td>0.148762</td>\n      <td>0.218715</td>\n      <td>-0.166534</td>\n      <td>0.06971</td>\n      <td>-0.022982</td>\n      <td>-0.070087</td>\n      <td>-0.006693</td>\n      <td>-0.064969</td>\n      <td>0.130012</td>\n      <td>0.054172</td>\n      <td>-0.124304</td>\n      <td>-0.078061</td>\n      <td>-0.164155</td>\n      <td>0.03094</td>\n      <td>0.206835</td>\n      <td>0.134861</td>\n      <td>-0.190867</td>\n      <td>0.029455</td>\n      <td>-0.047716</td>\n      <td>0.583071</td>\n      <td>-0.113225</td>\n      <td>0.222723</td>\n      <td>0.024497</td>\n      <td>0.26618</td>\n      <td>0.022932</td>\n      <td>-0.061573</td>\n      <td>0.041119</td>\n      <td>0.040224</td>\n      <td>-0.131573</td>\n      <td>-0.165236</td>\n      <td>0.146708</td>\n      <td>0.075032</td>\n      <td>0.120438</td>\n      <td>-0.085065</td>\n      <td>0.181672</td>\n      <td>0.041622</td>\n      <td>-0.137938</td>\n      <td>0.111752</td>\n      <td>0.033204</td>\n      <td>0.152241</td>\n      <td>0.030201</td>\n      <td>0.035101</td>\n      <td>-0.07186</td>\n      <td>0.047905</td>\n      <td>-0.158136</td>\n      <td>-0.088049</td>\n      <td>0.176418</td>\n      <td>-0.043394</td>\n      <td>-0.10993</td>\n      <td>-0.000682</td>\n      <td>-0.005207</td>\n      <td>-0.11089</td>\n      <td>0.395303</td>\n      <td>0.104175</td>\n      <td>-0.126055</td>\n      <td>0.310015</td>\n      <td>0.24269</td>\n      <td>0.181283</td>\n      <td>0.093428</td>\n      <td>0.039698</td>\n      <td>-0.011851</td>\n      <td>0.139229</td>\n      <td>0.0594</td>\n      <td>-0.15553</td>\n      <td>-0.058981</td>\n      <td>0.238678</td>\n      <td>0.163132</td>\n      <td>0.095772</td>\n      <td>0.080576</td>\n      <td>-0.049174</td>\n      <td>0.014364</td>\n      <td>0.135755</td>\n      <td>0.120841</td>\n      <td>-0.019499</td>\n      <td>-0.092559</td>\n      <td>0.037895</td>\n      <td>-0.026119</td>\n      <td>-0.037888</td>\n      <td>1</td>\n    </tr>\n  </tbody>\n</table>\n</div>",
      "text/plain": [
       "   hasURL  hasUserURL  isNotOnlyText  Noun  Verb  Adjective  Pronoun  \\\n",
       "0       1           1              1     6     3          0        0   \n",
       "\n",
       "   FirstPersonPronoun  SecondPersonPronoun  ThirdPersonPronoun  Adverb  \\\n",
       "0                   0                    0                   0       0   \n",
       "\n",
       "   Numeral  Conjunction_inj  Particle  Determiner  Modal  Whs  char_count  \\\n",
       "0        0                2         0           0      0    0          88   \n",
       "\n",
       "   word_count  has_question  has_exclaim  has_period  capital_ratio  \\\n",
       "0          11             0            0           1       0.159091   \n",
       "\n",
       "   tweet_count  listed_count  follow_ratio   age  verified         0  \\\n",
       "0     4.803286      3.855943      5.287349  2126         1 -0.050837   \n",
       "\n",
       "          1         2         3         4        5        6         7  \\\n",
       "0  0.092732  0.114739  0.075394  0.107089  0.13905  0.07316  0.130306   \n",
       "\n",
       "          8         9        10        11        12        13        14  \\\n",
       "0  0.228484 -0.100131 -0.014994  0.113855 -0.150934  0.122817  0.105345   \n",
       "\n",
       "         15        16        17        18        19        20        21  \\\n",
       "0  0.282658 -0.009214  0.026026  0.384472  0.005275 -0.029484  0.008477   \n",
       "\n",
       "        22        23        24        25        26        27        28  \\\n",
       "0  0.13608  0.086456  0.187912 -0.009612  0.067772  0.016709  0.259856   \n",
       "\n",
       "         29        30      31        32        33        34        35  \\\n",
       "0  0.036181 -0.033826 -0.0338  0.127175 -0.034795  0.184054 -0.205514   \n",
       "\n",
       "         36        37        38        39        40        41        42  \\\n",
       "0  0.036112  0.313101  0.028765  0.066649 -0.026885 -0.301041  0.025878   \n",
       "\n",
       "         43        44        45        46        47        48        49  \\\n",
       "0  0.221337  0.413406 -0.046079 -0.008628 -0.089164  0.180499 -0.038341   \n",
       "\n",
       "         50        51        52        53        54        55        56  \\\n",
       "0  0.062557  0.019168  0.294053 -0.127257 -0.072294 -0.165382  0.160989   \n",
       "\n",
       "         57        58        59        60       61       62        63  \\\n",
       "0  0.319801  0.221671 -0.047767  0.043942 -0.09491  0.16816 -0.098562   \n",
       "\n",
       "         64        65        66        67        68       69        70  \\\n",
       "0  0.235896  0.008319  0.179441 -0.042238  0.235846  0.08542  0.122401   \n",
       "\n",
       "         71        72        73        74        75        76       77  \\\n",
       "0  0.024702  0.049678 -0.004363  0.022773  0.073948  0.093372 -0.08766   \n",
       "\n",
       "         78       79        80        81        82        83        84  \\\n",
       "0  0.016639 -0.00047  0.018962  0.030085 -0.042204 -0.048046  0.157178   \n",
       "\n",
       "         85        86        87        88        89        90        91  \\\n",
       "0 -0.056926  0.090154 -0.435785  0.049993  0.118588  0.121751  0.188421   \n",
       "\n",
       "         92        93        94        95        96        97        98  \\\n",
       "0 -0.009043 -0.106354  0.020515  0.051942  0.097716 -0.171429 -0.146155   \n",
       "\n",
       "         99       100       101       102       103       104       105  \\\n",
       "0  0.118173  0.174123  0.187443  0.124163  0.017795  0.188406  0.003787   \n",
       "\n",
       "        106       107       108       109       110       111       112  \\\n",
       "0  0.136248  0.009168 -0.043809 -0.058206 -0.053651 -0.071363 -0.027494   \n",
       "\n",
       "        113       114       115       116       117       118       119  \\\n",
       "0  0.059122 -0.056397  0.076876  0.023384 -0.101217 -0.035729 -0.035874   \n",
       "\n",
       "        120      121       122       123       124       125       126  \\\n",
       "0 -0.113552  0.32688  1.128277 -0.162523  0.244552  0.134151 -0.341332   \n",
       "\n",
       "        127       128      129      130       131       132       133  \\\n",
       "0 -0.023636 -0.230737  0.23435  0.01764  0.139768  0.012609  0.099411   \n",
       "\n",
       "        134       135       136       137       138       139       140  \\\n",
       "0  0.120146  0.082593 -0.029837  0.075398  0.073279  0.192991 -0.010465   \n",
       "\n",
       "        141       142       143       144       145       146       147  \\\n",
       "0  0.037354  0.152419  0.130833  0.185745 -0.017404 -0.062685 -0.155184   \n",
       "\n",
       "        148       149       150       151       152       153       154  \\\n",
       "0  0.103873  0.069338  0.192149  0.235524 -0.034443  0.246916 -0.056299   \n",
       "\n",
       "        155      156       157       158       159       160       161  \\\n",
       "0  0.283455  0.15655 -0.064347  0.093145 -0.100822  0.490345  0.085057   \n",
       "\n",
       "        162       163       164       165       166       167       168  \\\n",
       "0  0.070042 -0.158754  0.036534 -0.024924  0.171337  0.184439  0.085795   \n",
       "\n",
       "        169       170       171       172       173       174       175  \\\n",
       "0 -0.380791 -0.147535  0.097836  0.132983 -0.119722 -0.053787 -0.191895   \n",
       "\n",
       "        176       177       178       179       180       181       182  \\\n",
       "0 -0.004669  0.055565  0.105001  0.217994  0.118883 -0.013437  0.049413   \n",
       "\n",
       "        183       184       185       186       187       188       189  \\\n",
       "0 -0.184649  0.142525  0.093046  0.733452 -0.026955  0.076216  0.102615   \n",
       "\n",
       "        190       191       192       193       194       195       196  \\\n",
       "0  0.075032  0.159832  0.175995  0.034533  0.216974 -0.040822 -0.620106   \n",
       "\n",
       "        197       198      199       200       201       202       203  \\\n",
       "0  0.015153 -0.191234 -0.02798  0.144968  0.082474  0.004093  0.137805   \n",
       "\n",
       "        204      205       206       207       208       209       210  \\\n",
       "0  0.014259 -0.02632  0.129793  0.037035  0.103467  0.130584  0.059276   \n",
       "\n",
       "        211      212       213       214       215       216       217  \\\n",
       "0 -0.007008  0.05147  0.177875  0.154718  1.459721 -0.019871 -0.177107   \n",
       "\n",
       "       218       219       220     221      222       223       224       225  \\\n",
       "0  0.00871  0.202174  0.023483 -0.0007  0.24965  0.013207  0.014274  0.035296   \n",
       "\n",
       "        226       227       228       229       230       231       232  \\\n",
       "0  0.183861  0.168008 -0.193728 -0.033217  0.112602 -0.662006  0.236307   \n",
       "\n",
       "        233       234       235       236       237       238       239  \\\n",
       "0  0.022692  0.076554 -0.076364  0.001315  0.003409  0.143209 -0.085346   \n",
       "\n",
       "       240       241       242       243       244       245       246  \\\n",
       "0 -0.11333  0.041998 -0.310889  0.036343  0.078607  0.007644 -0.003193   \n",
       "\n",
       "        247      248       249       250       251    252       253       254  \\\n",
       "0  0.245886 -0.00598  0.366047  0.113158 -0.090079  0.185  0.010817  0.044746   \n",
       "\n",
       "        255       256       257       258       259       260      261  \\\n",
       "0  0.065226  0.022737  0.047623  0.015578  0.199833  0.119033 -0.17745   \n",
       "\n",
       "        262       263       264       265       266       267       268  \\\n",
       "0  0.243363  0.026125 -0.134751  0.062516 -0.003423 -0.086743  0.037737   \n",
       "\n",
       "        269       270       271       272       273       274       275  \\\n",
       "0  0.092975  0.013743  0.019833  0.017909  0.061941 -0.125108  0.026385   \n",
       "\n",
       "        276       277       278       279       280       281       282  \\\n",
       "0  0.177655  0.209732  0.138689  0.193858  0.320215  0.170495  0.098713   \n",
       "\n",
       "        283       284       285       286       287       288       289  \\\n",
       "0  0.094638  0.167456  0.052898  0.055709 -0.191465  0.029039  0.023186   \n",
       "\n",
       "        290       291       292       293       294       295      296  \\\n",
       "0  0.165401 -0.019926  0.093978  0.071466 -0.106965 -0.283926  0.09382   \n",
       "\n",
       "        297       298       299      300       301       302       303  \\\n",
       "0 -0.135303 -0.080348 -0.079342  0.13895 -0.057813 -0.035777  0.026291   \n",
       "\n",
       "        304       305       306       307       308       309       310  \\\n",
       "0  0.159044  0.021355  0.023304  0.118728 -0.052093 -0.044166  0.069713   \n",
       "\n",
       "        311       312       313       314       315       316       317  \\\n",
       "0 -0.143708  0.246741 -0.248931  0.167621  0.271046 -0.013233  0.099574   \n",
       "\n",
       "        318       319       320       321       322       323       324  \\\n",
       "0  0.053031  0.079658  0.020334 -0.074295  0.197075 -0.098494 -0.050227   \n",
       "\n",
       "        325       326       327      328      329      330       331  \\\n",
       "0  0.148226  0.109211  0.106813  0.10765 -0.02709  0.11277 -0.151641   \n",
       "\n",
       "        332      333      334      335       336      337       338       339  \\\n",
       "0 -0.033031  0.08224  0.01081  0.14583  0.127097  0.04943 -0.050675  0.177297   \n",
       "\n",
       "        340       341       342       343       344       345       346  \\\n",
       "0  0.038675 -0.033512 -0.008634 -0.378383  0.329451  0.052087 -0.194045   \n",
       "\n",
       "        347       348       349       350       351       352       353  \\\n",
       "0  0.203455 -0.008665 -0.036847  0.048802  0.030757  0.170823  0.058219   \n",
       "\n",
       "        354       355       356       357       358       359       360  \\\n",
       "0  0.166422  0.154835 -0.026366  0.077685 -0.088685 -0.080075 -0.085859   \n",
       "\n",
       "        361       362       363       364       365       366       367  \\\n",
       "0  0.068221  0.139089  0.031414 -0.013288 -0.046386  0.057323  0.020031   \n",
       "\n",
       "        368       369       370       371       372      373      374  \\\n",
       "0 -0.097825  0.066423  0.042751  0.141207  0.028556  0.08162 -0.04442   \n",
       "\n",
       "        375       376      377       378       379       380     381  \\\n",
       "0 -0.237922  0.021506  1.36069 -0.086635  0.068215  0.087148  0.1785   \n",
       "\n",
       "        382       383       384       385       386       387       388  \\\n",
       "0 -0.032101  0.096385 -0.029826 -0.051449 -0.074922  0.039719  0.047692   \n",
       "\n",
       "        389       390       391       392       393       394       395  \\\n",
       "0  0.059988  0.027319  0.071627 -0.033938 -0.090796  0.033027  0.067911   \n",
       "\n",
       "        396       397       398       399       400       401       402  \\\n",
       "0  0.094762  0.078694 -0.007233 -0.013146  0.186293 -0.021997  0.049522   \n",
       "\n",
       "        403       404       405      406       407       408       409  \\\n",
       "0 -0.365491  0.157743  0.220855  0.00105  0.479389  0.153713  0.172776   \n",
       "\n",
       "       410       411       412      413       414       415       416  \\\n",
       "0  0.04413  0.080743  0.139156  0.02863 -0.100594  0.057783  0.258978   \n",
       "\n",
       "        417       418       419       420       421       422       423  \\\n",
       "0 -0.016781  0.212371  0.259094  0.192993  0.087324 -0.177233  0.165854   \n",
       "\n",
       "        424       425       426       427       428       429       430  \\\n",
       "0 -0.013197 -0.235912  0.118583  0.076536 -0.199586  0.065384  0.081454   \n",
       "\n",
       "        431       432       433      434       435       436       437  \\\n",
       "0  0.012155  0.080003  0.087354  0.20402  0.024035  0.063078  0.397284   \n",
       "\n",
       "        438       439       440       441       442       443       444  \\\n",
       "0  0.163372  0.138074 -0.151533  0.116161 -0.024617 -0.057374 -0.018934   \n",
       "\n",
       "        445       446       447       448      449       450       451  \\\n",
       "0  1.260831 -0.121087 -0.068355  0.005283  0.23374  0.126684  0.166496   \n",
       "\n",
       "        452       453       454       455       456      457       458  \\\n",
       "0  0.155109  0.050933  0.099754  0.157397  0.014706  0.06616 -0.017415   \n",
       "\n",
       "        459       460       461       462      463       464       465  \\\n",
       "0  0.033976  0.144182 -0.074391  0.218043  0.10832  0.069208  0.021019   \n",
       "\n",
       "       466       467       468       469       470       471       472  \\\n",
       "0  0.09636  0.023787  0.099954  0.021042 -0.196631  0.091346 -0.236719   \n",
       "\n",
       "       473       474       475       476       477       478       479  \\\n",
       "0  0.19975 -0.076617  0.212115 -0.119809  0.055534 -0.050219 -0.012184   \n",
       "\n",
       "        480       481       482       483       484       485       486  \\\n",
       "0  0.027356  0.040284 -0.125519  0.106275  0.094535 -0.040326  0.220184   \n",
       "\n",
       "        487       488       489       490       491      492       493  \\\n",
       "0  0.294389 -0.007067  0.015102  0.209651 -0.071828  0.40391  0.095651   \n",
       "\n",
       "        494      495       496       497       498       499       500  \\\n",
       "0 -0.012581 -0.17435 -0.001841  0.016571 -0.227041 -0.042659 -0.052829   \n",
       "\n",
       "        501       502       503      504      505      506       507  \\\n",
       "0  0.014349 -0.334312 -0.058526  0.01464  0.06551 -0.23657  0.235616   \n",
       "\n",
       "        508       509       510       511       512       513      514  \\\n",
       "0 -0.141037 -0.045091  0.091257  0.000331 -0.085923 -0.113953  0.16588   \n",
       "\n",
       "        515       516       517       518       519       520       521  \\\n",
       "0  0.115256  0.151689 -0.019073  0.358882  0.187635  0.161047  0.001556   \n",
       "\n",
       "        522      523       524       525       526       527       528  \\\n",
       "0 -0.133403 -0.02983  0.072631 -0.106322  0.010788  0.077473  0.274538   \n",
       "\n",
       "        529       530       531       532       533       534      535  \\\n",
       "0  0.064489 -0.066754 -0.010169  0.147994  0.689777  0.051599  0.06027   \n",
       "\n",
       "       536       537       538       539       540       541       542  \\\n",
       "0  0.12269  0.095201  0.349429  0.137133  0.013771 -0.186556 -0.112904   \n",
       "\n",
       "        543       544       545       546       547       548       549  \\\n",
       "0  0.114636  0.021767  0.116981  0.269665  0.025507 -0.049283  0.014599   \n",
       "\n",
       "        550      551       552       553       554       555       556  \\\n",
       "0 -0.191199  0.11708 -0.139389 -0.099676 -0.015247  0.060215  0.142366   \n",
       "\n",
       "        557       558       559       560       561       562      563  \\\n",
       "0  0.030017 -0.015911  0.151216  0.065849 -0.081206  0.070137 -0.09733   \n",
       "\n",
       "        564       565       566       567       568       569       570  \\\n",
       "0 -0.093912 -0.001228 -0.143985  0.097763  0.001074  0.122071 -0.120969   \n",
       "\n",
       "        571       572       573       574       575       576       577  \\\n",
       "0  0.124059  0.138693  0.081858 -0.195262 -0.023435 -0.167506  0.206062   \n",
       "\n",
       "        578       579       580       581       582       583       584  \\\n",
       "0  0.227225 -0.154247  0.108975 -0.127518  0.100334  0.007248  0.243197   \n",
       "\n",
       "        585       586       587       588       589      590       591  \\\n",
       "0 -0.133537 -0.076681 -0.189701  0.087706 -0.005775 -0.03579  0.084758   \n",
       "\n",
       "        592       593       594       595       596       597       598  \\\n",
       "0  0.101637  0.212239  0.086524 -0.048381 -0.051883  0.032049 -0.050279   \n",
       "\n",
       "        599       600       601       602       603       604       605  \\\n",
       "0  0.017213 -0.007712 -0.391676  0.096847  0.027986  0.016868 -0.034939   \n",
       "\n",
       "        606       607       608       609      610       611       612  \\\n",
       "0  0.067554 -0.010633 -0.051447  0.282146  0.09184 -0.164617  0.086962   \n",
       "\n",
       "       613       614       615       616     617       618       619  \\\n",
       "0  0.01407  0.459107  0.017774  0.020485 -0.0981  0.122735  0.053456   \n",
       "\n",
       "        620       621       622       623       624       625      626  \\\n",
       "0  0.040969 -0.195629 -0.148964  0.056046  0.128047 -0.141275 -0.03932   \n",
       "\n",
       "        627       628       629       630       631       632       633  \\\n",
       "0  0.186491  0.158052  0.047916 -0.125734  0.071971 -0.026531  0.146315   \n",
       "\n",
       "        634       635       636       637       638       639       640  \\\n",
       "0  0.121328  0.023354 -0.118615 -0.026744 -0.148396  0.091453  0.126715   \n",
       "\n",
       "        641      642       643       644      645       646       647  \\\n",
       "0  0.114614  0.12071 -0.035757  0.031627 -0.03396 -0.145217  0.015119   \n",
       "\n",
       "        648       649       650       651       652       653       654  \\\n",
       "0 -0.417659 -0.115307  0.322232  0.082257  0.056434 -0.386645 -0.124879   \n",
       "\n",
       "        655       656      657      658       659       660       661  \\\n",
       "0  0.200853  0.137919 -0.09017  0.25741 -0.255948  0.117308  0.165138   \n",
       "\n",
       "        662       663       664       665      666       667       668  \\\n",
       "0  0.508033 -0.014933 -0.164363  0.220411 -0.06227  0.126027 -0.015052   \n",
       "\n",
       "        669       670       671       672       673       674       675  \\\n",
       "0  0.052886 -0.535616  0.035637  0.444762 -0.059953  0.037359  0.239752   \n",
       "\n",
       "        676       677       678       679      680       681      682  \\\n",
       "0  0.157297 -0.108926  0.356802  0.017034  0.17362  0.218611  0.07815   \n",
       "\n",
       "        683       684      685       686       687       688       689  \\\n",
       "0 -0.149544  0.041637  0.25998  0.050585 -0.136436  0.054819  0.166581   \n",
       "\n",
       "        690       691       692      693       694       695       696  \\\n",
       "0  0.148762  0.218715 -0.166534  0.06971 -0.022982 -0.070087 -0.006693   \n",
       "\n",
       "        697       698       699       700       701       702      703  \\\n",
       "0 -0.064969  0.130012  0.054172 -0.124304 -0.078061 -0.164155  0.03094   \n",
       "\n",
       "        704       705       706       707       708       709       710  \\\n",
       "0  0.206835  0.134861 -0.190867  0.029455 -0.047716  0.583071 -0.113225   \n",
       "\n",
       "        711       712      713       714       715       716       717  \\\n",
       "0  0.222723  0.024497  0.26618  0.022932 -0.061573  0.041119  0.040224   \n",
       "\n",
       "        718       719       720       721       722       723       724  \\\n",
       "0 -0.131573 -0.165236  0.146708  0.075032  0.120438 -0.085065  0.181672   \n",
       "\n",
       "        725       726       727       728       729       730       731  \\\n",
       "0  0.041622 -0.137938  0.111752  0.033204  0.152241  0.030201  0.035101   \n",
       "\n",
       "       732       733       734       735       736       737      738  \\\n",
       "0 -0.07186  0.047905 -0.158136 -0.088049  0.176418 -0.043394 -0.10993   \n",
       "\n",
       "        739       740      741       742       743       744       745  \\\n",
       "0 -0.000682 -0.005207 -0.11089  0.395303  0.104175 -0.126055  0.310015   \n",
       "\n",
       "       746       747       748       749       750       751     752      753  \\\n",
       "0  0.24269  0.181283  0.093428  0.039698 -0.011851  0.139229  0.0594 -0.15553   \n",
       "\n",
       "        754       755       756       757       758       759       760  \\\n",
       "0 -0.058981  0.238678  0.163132  0.095772  0.080576 -0.049174  0.014364   \n",
       "\n",
       "        761       762       763       764       765       766       767  \\\n",
       "0  0.135755  0.120841 -0.019499 -0.092559  0.037895 -0.026119 -0.037888   \n",
       "\n",
       "   NumOfUrls  \n",
       "0          1  "
      ]
     },
     "execution_count": 133,
     "metadata": {},
     "output_type": "execute_result"
    }
   ],
   "source": [
    "df_bertweet.head(1)"
   ]
  },
  {
   "cell_type": "code",
   "execution_count": 124,
   "metadata": {},
   "outputs": [
    {
     "name": "stdout",
     "output_type": "stream",
     "text": [
      "(5802, 1)\n",
      "(390, 1)\n",
      "(5802, 796)\n",
      "(390, 796)\n",
      "(5802, 29)\n"
     ]
    }
   ],
   "source": [
    "print(urls_sum.shape)\n",
    "print(urls_sum_valid.shape)\n",
    "print(df_bertweet.shape)\n",
    "print(df_valid_bertweet.shape)\n",
    "print(data.shape)"
   ]
  },
  {
   "cell_type": "code",
   "execution_count": 125,
   "metadata": {},
   "outputs": [
    {
     "name": "stdout",
     "output_type": "stream",
     "text": [
      "(5802, 797)\n",
      "(390, 797)\n",
      "(5802, 30)\n"
     ]
    }
   ],
   "source": [
    "df_bertweet = pd.concat([df_bertweet,urls_sum],axis=1)\n",
    "df_valid_bertweet = pd.concat([df_valid_bertweet,urls_sum_valid],axis=1)\n",
    "data = pd.concat([data,urls_sum],axis=1)\n",
    "print(df_bertweet.shape)\n",
    "print(df_valid_bertweet.shape)\n",
    "print(data.shape)"
   ]
  },
  {
   "cell_type": "markdown",
   "metadata": {},
   "source": [
    "# Classification"
   ]
  },
  {
   "cell_type": "code",
   "execution_count": null,
   "metadata": {},
   "outputs": [],
   "source": [
    "from sklearn.feature_selection import SelectKBest\n",
    "from sklearn.feature_selection import f_classif\n",
    "# define feature selection\n",
    "fs = SelectKBest(score_func=f_classif, k=2)\n",
    "# apply feature selection\n",
    "X_selected = fs.fit_transform(X, y)\n",
    "print(X_selected.shape)"
   ]
  },
  {
   "cell_type": "code",
   "execution_count": 71,
   "metadata": {},
   "outputs": [
    {
     "name": "stdout",
     "output_type": "stream",
     "text": [
      "0: hasURL\n",
      "1: hasUserURL\n",
      "2: isNotOnlyText\n",
      "3: Noun\n",
      "4: Verb\n",
      "5: Adjective\n",
      "6: Pronoun\n",
      "7: FirstPersonPronoun\n",
      "8: SecondPersonPronoun\n",
      "9: ThirdPersonPronoun\n",
      "10: Adverb\n",
      "11: Numeral\n",
      "12: Conjunction_inj\n",
      "13: Particle\n",
      "14: Determiner\n",
      "15: Modal\n",
      "16: Whs\n",
      "17: char_count\n",
      "18: word_count\n",
      "19: has_question\n",
      "20: has_exclaim\n",
      "21: has_period\n",
      "22: capital_ratio\n",
      "23: tweet_count\n",
      "24: listed_count\n",
      "25: follow_ratio\n",
      "26: age\n",
      "27: verified\n",
      "28: isRumor.1\n",
      "29: NumOfUrls\n",
      "30: NumOfUrls\n"
     ]
    }
   ],
   "source": [
    "for i,col in enumerate(data):\n",
    "    print(\"{}: {}\".format(i, col))"
   ]
  },
  {
   "cell_type": "code",
   "execution_count": 86,
   "metadata": {},
   "outputs": [
    {
     "name": "stdout",
     "output_type": "stream",
     "text": [
      "Feature ranking:\n",
      "1. feature 22: capital_ratio (0.073909)\n",
      "2. feature 23: tweet_count (0.068439)\n",
      "3. feature 25: follow_ratio (0.067538)\n",
      "4. feature 24: listed_count (0.066843)\n",
      "5. feature 26: age (0.063003)\n",
      "6. feature 17: char_count (0.060206)\n",
      "7. feature 18: word_count (0.059290)\n",
      "8. feature 4: Verb (0.058110)\n",
      "9. feature 3: Noun (0.054845)\n",
      "10. feature 12: Conjunction_inj (0.050495)\n",
      "11. feature 5: Adjective (0.049894)\n",
      "12. feature 14: Determiner (0.045328)\n",
      "13. feature 11: Numeral (0.042537)\n",
      "14. feature 10: Adverb (0.035322)\n",
      "15. feature 6: Pronoun (0.025884)\n",
      "16. feature 7: FirstPersonPronoun (0.023385)\n",
      "17. feature 27: verified (0.020702)\n",
      "18. feature 16: Whs (0.020345)\n",
      "19. feature 15: Modal (0.016057)\n",
      "20. feature 9: ThirdPersonPronoun (0.015516)\n",
      "21. feature 2: isNotOnlyText (0.014586)\n",
      "22. feature 13: Particle (0.013632)\n",
      "23. feature 0: hasURL (0.010724)\n",
      "24. feature 21: has_period (0.010121)\n",
      "25. feature 19: has_question (0.009321)\n",
      "26. feature 8: SecondPersonPronoun (0.008906)\n",
      "27. feature 28: NumOfUrls (0.008567)\n",
      "28. feature 20: has_exclaim (0.006497)\n",
      "29. feature 1: hasUserURL (0.000000)\n"
     ]
    },
    {
     "data": {
      "image/png": "[encoded data removed]",
      "image/svg+xml": "<?xml version=\"1.0\" encoding=\"utf-8\" standalone=\"no\"?>\n<!DOCTYPE svg PUBLIC \"-//W3C//DTD SVG 1.1//EN\"\n  \"http://www.w3.org/Graphics/SVG/1.1/DTD/svg11.dtd\">\n<!-- Created with matplotlib (https://matplotlib.org/) -->\n<svg height=\"263.63625pt\" version=\"1.1\" viewBox=\"0 0 378.465625 263.63625\" width=\"378.465625pt\" xmlns=\"http://www.w3.org/2000/svg\" xmlns:xlink=\"http://www.w3.org/1999/xlink\">\n <metadata>\n  <rdf:RDF xmlns:cc=\"http://creativecommons.org/ns#\" xmlns:dc=\"http://purl.org/dc/elements/1.1/\" xmlns:rdf=\"http://www.w3.org/1999/02/22-rdf-syntax-ns#\">\n   <cc:Work>\n    <dc:type rdf:resource=\"http://purl.org/dc/dcmitype/StillImage\"/>\n    <dc:date>2021-01-04T21:03:23.986879</dc:date>\n    <dc:format>image/svg+xml</dc:format>\n    <dc:creator>\n     <cc:Agent>\n      <dc:title>Matplotlib v3.3.3, https://matplotlib.org/</dc:title>\n     </cc:Agent>\n    </dc:creator>\n   </cc:Work>\n  </rdf:RDF>\n </metadata>\n <defs>\n  <style type=\"text/css\">*{stroke-linecap:butt;stroke-linejoin:round;}</style>\n </defs>\n <g id=\"figure_1\">\n  <g id=\"patch_1\">\n   <path d=\"M 0 263.63625 \nL 378.465625 263.63625 \nL 378.465625 0 \nL 0 0 \nz\n\" style=\"fill:none;\"/>\n  </g>\n  <g id=\"axes_1\">\n   <g id=\"patch_2\">\n    <path d=\"M 36.465625 239.758125 \nL 371.265625 239.758125 \nL 371.265625 22.318125 \nL 36.465625 22.318125 \nz\n\" style=\"fill:#ffffff;\"/>\n   </g>\n   <g id=\"patch_3\">\n    <path clip-path=\"url(#pec31c8007b)\" d=\"M 43.161625 239.758125 \nL 52.089625 239.758125 \nL 52.089625 49.538465 \nL 43.161625 49.538465 \nz\n\" style=\"fill:#ff0000;\"/>\n   </g>\n   <g id=\"patch_4\">\n    <path clip-path=\"url(#pec31c8007b)\" d=\"M 54.321625 239.758125 \nL 63.249625 239.758125 \nL 63.249625 63.615485 \nL 54.321625 63.615485 \nz\n\" style=\"fill:#ff0000;\"/>\n   </g>\n   <g id=\"patch_5\">\n    <path clip-path=\"url(#pec31c8007b)\" d=\"M 65.481625 239.758125 \nL 74.409625 239.758125 \nL 74.409625 65.936072 \nL 65.481625 65.936072 \nz\n\" style=\"fill:#ff0000;\"/>\n   </g>\n   <g id=\"patch_6\">\n    <path clip-path=\"url(#pec31c8007b)\" d=\"M 76.641625 239.758125 \nL 85.569625 239.758125 \nL 85.569625 67.724923 \nL 76.641625 67.724923 \nz\n\" style=\"fill:#ff0000;\"/>\n   </g>\n   <g id=\"patch_7\">\n    <path clip-path=\"url(#pec31c8007b)\" d=\"M 87.801625 239.758125 \nL 96.729625 239.758125 \nL 96.729625 77.607274 \nL 87.801625 77.607274 \nz\n\" style=\"fill:#ff0000;\"/>\n   </g>\n   <g id=\"patch_8\">\n    <path clip-path=\"url(#pec31c8007b)\" d=\"M 98.961625 239.758125 \nL 107.889625 239.758125 \nL 107.889625 84.805589 \nL 98.961625 84.805589 \nz\n\" style=\"fill:#ff0000;\"/>\n   </g>\n   <g id=\"patch_9\">\n    <path clip-path=\"url(#pec31c8007b)\" d=\"M 110.121625 239.758125 \nL 119.049625 239.758125 \nL 119.049625 87.163853 \nL 110.121625 87.163853 \nz\n\" style=\"fill:#ff0000;\"/>\n   </g>\n   <g id=\"patch_10\">\n    <path clip-path=\"url(#pec31c8007b)\" d=\"M 121.281625 239.758125 \nL 130.209625 239.758125 \nL 130.209625 90.198962 \nL 121.281625 90.198962 \nz\n\" style=\"fill:#ff0000;\"/>\n   </g>\n   <g id=\"patch_11\">\n    <path clip-path=\"url(#pec31c8007b)\" d=\"M 132.441625 239.758125 \nL 141.369625 239.758125 \nL 141.369625 98.604096 \nL 132.441625 98.604096 \nz\n\" style=\"fill:#ff0000;\"/>\n   </g>\n   <g id=\"patch_12\">\n    <path clip-path=\"url(#pec31c8007b)\" d=\"M 143.601625 239.758125 \nL 152.529625 239.758125 \nL 152.529625 109.799731 \nL 143.601625 109.799731 \nz\n\" style=\"fill:#ff0000;\"/>\n   </g>\n   <g id=\"patch_13\">\n    <path clip-path=\"url(#pec31c8007b)\" d=\"M 154.761625 239.758125 \nL 163.689625 239.758125 \nL 163.689625 111.34672 \nL 154.761625 111.34672 \nz\n\" style=\"fill:#ff0000;\"/>\n   </g>\n   <g id=\"patch_14\">\n    <path clip-path=\"url(#pec31c8007b)\" d=\"M 165.921625 239.758125 \nL 174.849625 239.758125 \nL 174.849625 123.097659 \nL 165.921625 123.097659 \nz\n\" style=\"fill:#ff0000;\"/>\n   </g>\n   <g id=\"patch_15\">\n    <path clip-path=\"url(#pec31c8007b)\" d=\"M 177.081625 239.758125 \nL 186.009625 239.758125 \nL 186.009625 130.280137 \nL 177.081625 130.280137 \nz\n\" style=\"fill:#ff0000;\"/>\n   </g>\n   <g id=\"patch_16\">\n    <path clip-path=\"url(#pec31c8007b)\" d=\"M 188.241625 239.758125 \nL 197.169625 239.758125 \nL 197.169625 148.849421 \nL 188.241625 148.849421 \nz\n\" style=\"fill:#ff0000;\"/>\n   </g>\n   <g id=\"patch_17\">\n    <path clip-path=\"url(#pec31c8007b)\" d=\"M 199.401625 239.758125 \nL 208.329625 239.758125 \nL 208.329625 173.140407 \nL 199.401625 173.140407 \nz\n\" style=\"fill:#ff0000;\"/>\n   </g>\n   <g id=\"patch_18\">\n    <path clip-path=\"url(#pec31c8007b)\" d=\"M 210.561625 239.758125 \nL 219.489625 239.758125 \nL 219.489625 179.571524 \nL 210.561625 179.571524 \nz\n\" style=\"fill:#ff0000;\"/>\n   </g>\n   <g id=\"patch_19\">\n    <path clip-path=\"url(#pec31c8007b)\" d=\"M 221.721625 239.758125 \nL 230.649625 239.758125 \nL 230.649625 186.477454 \nL 221.721625 186.477454 \nz\n\" style=\"fill:#ff0000;\"/>\n   </g>\n   <g id=\"patch_20\">\n    <path clip-path=\"url(#pec31c8007b)\" d=\"M 232.881625 239.758125 \nL 241.809625 239.758125 \nL 241.809625 187.396461 \nL 232.881625 187.396461 \nz\n\" style=\"fill:#ff0000;\"/>\n   </g>\n   <g id=\"patch_21\">\n    <path clip-path=\"url(#pec31c8007b)\" d=\"M 244.041625 239.758125 \nL 252.969625 239.758125 \nL 252.969625 198.431922 \nL 244.041625 198.431922 \nz\n\" style=\"fill:#ff0000;\"/>\n   </g>\n   <g id=\"patch_22\">\n    <path clip-path=\"url(#pec31c8007b)\" d=\"M 255.201625 239.758125 \nL 264.129625 239.758125 \nL 264.129625 199.824681 \nL 255.201625 199.824681 \nz\n\" style=\"fill:#ff0000;\"/>\n   </g>\n   <g id=\"patch_23\">\n    <path clip-path=\"url(#pec31c8007b)\" d=\"M 266.361625 239.758125 \nL 275.289625 239.758125 \nL 275.289625 202.218645 \nL 266.361625 202.218645 \nz\n\" style=\"fill:#ff0000;\"/>\n   </g>\n   <g id=\"patch_24\">\n    <path clip-path=\"url(#pec31c8007b)\" d=\"M 277.521625 239.758125 \nL 286.449625 239.758125 \nL 286.449625 204.673316 \nL 277.521625 204.673316 \nz\n\" style=\"fill:#ff0000;\"/>\n   </g>\n   <g id=\"patch_25\">\n    <path clip-path=\"url(#pec31c8007b)\" d=\"M 288.681625 239.758125 \nL 297.609625 239.758125 \nL 297.609625 212.15679 \nL 288.681625 212.15679 \nz\n\" style=\"fill:#ff0000;\"/>\n   </g>\n   <g id=\"patch_26\">\n    <path clip-path=\"url(#pec31c8007b)\" d=\"M 299.841625 239.758125 \nL 308.769625 239.758125 \nL 308.769625 213.709975 \nL 299.841625 213.709975 \nz\n\" style=\"fill:#ff0000;\"/>\n   </g>\n   <g id=\"patch_27\">\n    <path clip-path=\"url(#pec31c8007b)\" d=\"M 311.001625 239.758125 \nL 319.929625 239.758125 \nL 319.929625 215.768798 \nL 311.001625 215.768798 \nz\n\" style=\"fill:#ff0000;\"/>\n   </g>\n   <g id=\"patch_28\">\n    <path clip-path=\"url(#pec31c8007b)\" d=\"M 322.161625 239.758125 \nL 331.089625 239.758125 \nL 331.089625 216.836892 \nL 322.161625 216.836892 \nz\n\" style=\"fill:#ff0000;\"/>\n   </g>\n   <g id=\"patch_29\">\n    <path clip-path=\"url(#pec31c8007b)\" d=\"M 333.321625 239.758125 \nL 342.249625 239.758125 \nL 342.249625 217.70902 \nL 333.321625 217.70902 \nz\n\" style=\"fill:#ff0000;\"/>\n   </g>\n   <g id=\"patch_30\">\n    <path clip-path=\"url(#pec31c8007b)\" d=\"M 344.481625 239.758125 \nL 353.409625 239.758125 \nL 353.409625 223.035836 \nL 344.481625 223.035836 \nz\n\" style=\"fill:#ff0000;\"/>\n   </g>\n   <g id=\"patch_31\">\n    <path clip-path=\"url(#pec31c8007b)\" d=\"M 355.641625 239.758125 \nL 364.569625 239.758125 \nL 364.569625 239.758125 \nL 355.641625 239.758125 \nz\n\" style=\"fill:#ff0000;\"/>\n   </g>\n   <g id=\"matplotlib.axis_1\">\n    <g id=\"xtick_1\">\n     <g id=\"line2d_1\">\n      <defs>\n       <path d=\"M 0 0 \nL 0 3.5 \n\" id=\"mde3947dced\" style=\"stroke:#000000;stroke-width:0.8;\"/>\n      </defs>\n      <g>\n       <use style=\"stroke:#000000;stroke-width:0.8;\" x=\"47.625625\" xlink:href=\"#mde3947dced\" y=\"239.758125\"/>\n      </g>\n     </g>\n     <g id=\"text_1\">\n      <!-- 22 -->\n      <g transform=\"translate(41.263125 254.356563)scale(0.1 -0.1)\">\n       <defs>\n        <path d=\"M 19.1875 8.296875 \nL 53.609375 8.296875 \nL 53.609375 0 \nL 7.328125 0 \nL 7.328125 8.296875 \nQ 12.9375 14.109375 22.625 23.890625 \nQ 32.328125 33.6875 34.8125 36.53125 \nQ 39.546875 41.84375 41.421875 45.53125 \nQ 43.3125 49.21875 43.3125 52.78125 \nQ 43.3125 58.59375 39.234375 62.25 \nQ 35.15625 65.921875 28.609375 65.921875 \nQ 23.96875 65.921875 18.8125 64.3125 \nQ 13.671875 62.703125 7.8125 59.421875 \nL 7.8125 69.390625 \nQ 13.765625 71.78125 18.9375 73 \nQ 24.125 74.21875 28.421875 74.21875 \nQ 39.75 74.21875 46.484375 68.546875 \nQ 53.21875 62.890625 53.21875 53.421875 \nQ 53.21875 48.921875 51.53125 44.890625 \nQ 49.859375 40.875 45.40625 35.40625 \nQ 44.1875 33.984375 37.640625 27.21875 \nQ 31.109375 20.453125 19.1875 8.296875 \nz\n\" id=\"DejaVuSans-50\"/>\n       </defs>\n       <use xlink:href=\"#DejaVuSans-50\"/>\n       <use x=\"63.623047\" xlink:href=\"#DejaVuSans-50\"/>\n      </g>\n     </g>\n    </g>\n    <g id=\"xtick_2\">\n     <g id=\"line2d_2\">\n      <g>\n       <use style=\"stroke:#000000;stroke-width:0.8;\" x=\"58.785625\" xlink:href=\"#mde3947dced\" y=\"239.758125\"/>\n      </g>\n     </g>\n     <g id=\"text_2\">\n      <!-- 23 -->\n      <g transform=\"translate(52.423125 254.356563)scale(0.1 -0.1)\">\n       <defs>\n        <path d=\"M 40.578125 39.3125 \nQ 47.65625 37.796875 51.625 33 \nQ 55.609375 28.21875 55.609375 21.1875 \nQ 55.609375 10.40625 48.1875 4.484375 \nQ 40.765625 -1.421875 27.09375 -1.421875 \nQ 22.515625 -1.421875 17.65625 -0.515625 \nQ 12.796875 0.390625 7.625 2.203125 \nL 7.625 11.71875 \nQ 11.71875 9.328125 16.59375 8.109375 \nQ 21.484375 6.890625 26.8125 6.890625 \nQ 36.078125 6.890625 40.9375 10.546875 \nQ 45.796875 14.203125 45.796875 21.1875 \nQ 45.796875 27.640625 41.28125 31.265625 \nQ 36.765625 34.90625 28.71875 34.90625 \nL 20.21875 34.90625 \nL 20.21875 43.015625 \nL 29.109375 43.015625 \nQ 36.375 43.015625 40.234375 45.921875 \nQ 44.09375 48.828125 44.09375 54.296875 \nQ 44.09375 59.90625 40.109375 62.90625 \nQ 36.140625 65.921875 28.71875 65.921875 \nQ 24.65625 65.921875 20.015625 65.03125 \nQ 15.375 64.15625 9.8125 62.3125 \nL 9.8125 71.09375 \nQ 15.4375 72.65625 20.34375 73.4375 \nQ 25.25 74.21875 29.59375 74.21875 \nQ 40.828125 74.21875 47.359375 69.109375 \nQ 53.90625 64.015625 53.90625 55.328125 \nQ 53.90625 49.265625 50.4375 45.09375 \nQ 46.96875 40.921875 40.578125 39.3125 \nz\n\" id=\"DejaVuSans-51\"/>\n       </defs>\n       <use xlink:href=\"#DejaVuSans-50\"/>\n       <use x=\"63.623047\" xlink:href=\"#DejaVuSans-51\"/>\n      </g>\n     </g>\n    </g>\n    <g id=\"xtick_3\">\n     <g id=\"line2d_3\">\n      <g>\n       <use style=\"stroke:#000000;stroke-width:0.8;\" x=\"69.945625\" xlink:href=\"#mde3947dced\" y=\"239.758125\"/>\n      </g>\n     </g>\n     <g id=\"text_3\">\n      <!-- 25 -->\n      <g transform=\"translate(63.583125 254.356563)scale(0.1 -0.1)\">\n       <defs>\n        <path d=\"M 10.796875 72.90625 \nL 49.515625 72.90625 \nL 49.515625 64.59375 \nL 19.828125 64.59375 \nL 19.828125 46.734375 \nQ 21.96875 47.46875 24.109375 47.828125 \nQ 26.265625 48.1875 28.421875 48.1875 \nQ 40.625 48.1875 47.75 41.5 \nQ 54.890625 34.8125 54.890625 23.390625 \nQ 54.890625 11.625 47.5625 5.09375 \nQ 40.234375 -1.421875 26.90625 -1.421875 \nQ 22.3125 -1.421875 17.546875 -0.640625 \nQ 12.796875 0.140625 7.71875 1.703125 \nL 7.71875 11.625 \nQ 12.109375 9.234375 16.796875 8.0625 \nQ 21.484375 6.890625 26.703125 6.890625 \nQ 35.15625 6.890625 40.078125 11.328125 \nQ 45.015625 15.765625 45.015625 23.390625 \nQ 45.015625 31 40.078125 35.4375 \nQ 35.15625 39.890625 26.703125 39.890625 \nQ 22.75 39.890625 18.8125 39.015625 \nQ 14.890625 38.140625 10.796875 36.28125 \nz\n\" id=\"DejaVuSans-53\"/>\n       </defs>\n       <use xlink:href=\"#DejaVuSans-50\"/>\n       <use x=\"63.623047\" xlink:href=\"#DejaVuSans-53\"/>\n      </g>\n     </g>\n    </g>\n    <g id=\"xtick_4\">\n     <g id=\"line2d_4\">\n      <g>\n       <use style=\"stroke:#000000;stroke-width:0.8;\" x=\"81.105625\" xlink:href=\"#mde3947dced\" y=\"239.758125\"/>\n      </g>\n     </g>\n     <g id=\"text_4\">\n      <!-- 24 -->\n      <g transform=\"translate(74.743125 254.356563)scale(0.1 -0.1)\">\n       <defs>\n        <path d=\"M 37.796875 64.3125 \nL 12.890625 25.390625 \nL 37.796875 25.390625 \nz\nM 35.203125 72.90625 \nL 47.609375 72.90625 \nL 47.609375 25.390625 \nL 58.015625 25.390625 \nL 58.015625 17.1875 \nL 47.609375 17.1875 \nL 47.609375 0 \nL 37.796875 0 \nL 37.796875 17.1875 \nL 4.890625 17.1875 \nL 4.890625 26.703125 \nz\n\" id=\"DejaVuSans-52\"/>\n       </defs>\n       <use xlink:href=\"#DejaVuSans-50\"/>\n       <use x=\"63.623047\" xlink:href=\"#DejaVuSans-52\"/>\n      </g>\n     </g>\n    </g>\n    <g id=\"xtick_5\">\n     <g id=\"line2d_5\">\n      <g>\n       <use style=\"stroke:#000000;stroke-width:0.8;\" x=\"92.265625\" xlink:href=\"#mde3947dced\" y=\"239.758125\"/>\n      </g>\n     </g>\n     <g id=\"text_5\">\n      <!-- 26 -->\n      <g transform=\"translate(85.903125 254.356563)scale(0.1 -0.1)\">\n       <defs>\n        <path d=\"M 33.015625 40.375 \nQ 26.375 40.375 22.484375 35.828125 \nQ 18.609375 31.296875 18.609375 23.390625 \nQ 18.609375 15.53125 22.484375 10.953125 \nQ 26.375 6.390625 33.015625 6.390625 \nQ 39.65625 6.390625 43.53125 10.953125 \nQ 47.40625 15.53125 47.40625 23.390625 \nQ 47.40625 31.296875 43.53125 35.828125 \nQ 39.65625 40.375 33.015625 40.375 \nz\nM 52.59375 71.296875 \nL 52.59375 62.3125 \nQ 48.875 64.0625 45.09375 64.984375 \nQ 41.3125 65.921875 37.59375 65.921875 \nQ 27.828125 65.921875 22.671875 59.328125 \nQ 17.53125 52.734375 16.796875 39.40625 \nQ 19.671875 43.65625 24.015625 45.921875 \nQ 28.375 48.1875 33.59375 48.1875 \nQ 44.578125 48.1875 50.953125 41.515625 \nQ 57.328125 34.859375 57.328125 23.390625 \nQ 57.328125 12.15625 50.6875 5.359375 \nQ 44.046875 -1.421875 33.015625 -1.421875 \nQ 20.359375 -1.421875 13.671875 8.265625 \nQ 6.984375 17.96875 6.984375 36.375 \nQ 6.984375 53.65625 15.1875 63.9375 \nQ 23.390625 74.21875 37.203125 74.21875 \nQ 40.921875 74.21875 44.703125 73.484375 \nQ 48.484375 72.75 52.59375 71.296875 \nz\n\" id=\"DejaVuSans-54\"/>\n       </defs>\n       <use xlink:href=\"#DejaVuSans-50\"/>\n       <use x=\"63.623047\" xlink:href=\"#DejaVuSans-54\"/>\n      </g>\n     </g>\n    </g>\n    <g id=\"xtick_6\">\n     <g id=\"line2d_6\">\n      <g>\n       <use style=\"stroke:#000000;stroke-width:0.8;\" x=\"103.425625\" xlink:href=\"#mde3947dced\" y=\"239.758125\"/>\n      </g>\n     </g>\n     <g id=\"text_6\">\n      <!-- 17 -->\n      <g transform=\"translate(97.063125 254.356563)scale(0.1 -0.1)\">\n       <defs>\n        <path d=\"M 12.40625 8.296875 \nL 28.515625 8.296875 \nL 28.515625 63.921875 \nL 10.984375 60.40625 \nL 10.984375 69.390625 \nL 28.421875 72.90625 \nL 38.28125 72.90625 \nL 38.28125 8.296875 \nL 54.390625 8.296875 \nL 54.390625 0 \nL 12.40625 0 \nz\n\" id=\"DejaVuSans-49\"/>\n        <path d=\"M 8.203125 72.90625 \nL 55.078125 72.90625 \nL 55.078125 68.703125 \nL 28.609375 0 \nL 18.3125 0 \nL 43.21875 64.59375 \nL 8.203125 64.59375 \nz\n\" id=\"DejaVuSans-55\"/>\n       </defs>\n       <use xlink:href=\"#DejaVuSans-49\"/>\n       <use x=\"63.623047\" xlink:href=\"#DejaVuSans-55\"/>\n      </g>\n     </g>\n    </g>\n    <g id=\"xtick_7\">\n     <g id=\"line2d_7\">\n      <g>\n       <use style=\"stroke:#000000;stroke-width:0.8;\" x=\"114.585625\" xlink:href=\"#mde3947dced\" y=\"239.758125\"/>\n      </g>\n     </g>\n     <g id=\"text_7\">\n      <!-- 18 -->\n      <g transform=\"translate(108.223125 254.356563)scale(0.1 -0.1)\">\n       <defs>\n        <path d=\"M 31.78125 34.625 \nQ 24.75 34.625 20.71875 30.859375 \nQ 16.703125 27.09375 16.703125 20.515625 \nQ 16.703125 13.921875 20.71875 10.15625 \nQ 24.75 6.390625 31.78125 6.390625 \nQ 38.8125 6.390625 42.859375 10.171875 \nQ 46.921875 13.96875 46.921875 20.515625 \nQ 46.921875 27.09375 42.890625 30.859375 \nQ 38.875 34.625 31.78125 34.625 \nz\nM 21.921875 38.8125 \nQ 15.578125 40.375 12.03125 44.71875 \nQ 8.5 49.078125 8.5 55.328125 \nQ 8.5 64.0625 14.71875 69.140625 \nQ 20.953125 74.21875 31.78125 74.21875 \nQ 42.671875 74.21875 48.875 69.140625 \nQ 55.078125 64.0625 55.078125 55.328125 \nQ 55.078125 49.078125 51.53125 44.71875 \nQ 48 40.375 41.703125 38.8125 \nQ 48.828125 37.15625 52.796875 32.3125 \nQ 56.78125 27.484375 56.78125 20.515625 \nQ 56.78125 9.90625 50.3125 4.234375 \nQ 43.84375 -1.421875 31.78125 -1.421875 \nQ 19.734375 -1.421875 13.25 4.234375 \nQ 6.78125 9.90625 6.78125 20.515625 \nQ 6.78125 27.484375 10.78125 32.3125 \nQ 14.796875 37.15625 21.921875 38.8125 \nz\nM 18.3125 54.390625 \nQ 18.3125 48.734375 21.84375 45.5625 \nQ 25.390625 42.390625 31.78125 42.390625 \nQ 38.140625 42.390625 41.71875 45.5625 \nQ 45.3125 48.734375 45.3125 54.390625 \nQ 45.3125 60.0625 41.71875 63.234375 \nQ 38.140625 66.40625 31.78125 66.40625 \nQ 25.390625 66.40625 21.84375 63.234375 \nQ 18.3125 60.0625 18.3125 54.390625 \nz\n\" id=\"DejaVuSans-56\"/>\n       </defs>\n       <use xlink:href=\"#DejaVuSans-49\"/>\n       <use x=\"63.623047\" xlink:href=\"#DejaVuSans-56\"/>\n      </g>\n     </g>\n    </g>\n    <g id=\"xtick_8\">\n     <g id=\"line2d_8\">\n      <g>\n       <use style=\"stroke:#000000;stroke-width:0.8;\" x=\"125.745625\" xlink:href=\"#mde3947dced\" y=\"239.758125\"/>\n      </g>\n     </g>\n     <g id=\"text_8\">\n      <!-- 4 -->\n      <g transform=\"translate(122.564375 254.356563)scale(0.1 -0.1)\">\n       <use xlink:href=\"#DejaVuSans-52\"/>\n      </g>\n     </g>\n    </g>\n    <g id=\"xtick_9\">\n     <g id=\"line2d_9\">\n      <g>\n       <use style=\"stroke:#000000;stroke-width:0.8;\" x=\"136.905625\" xlink:href=\"#mde3947dced\" y=\"239.758125\"/>\n      </g>\n     </g>\n     <g id=\"text_9\">\n      <!-- 3 -->\n      <g transform=\"translate(133.724375 254.356563)scale(0.1 -0.1)\">\n       <use xlink:href=\"#DejaVuSans-51\"/>\n      </g>\n     </g>\n    </g>\n    <g id=\"xtick_10\">\n     <g id=\"line2d_10\">\n      <g>\n       <use style=\"stroke:#000000;stroke-width:0.8;\" x=\"148.065625\" xlink:href=\"#mde3947dced\" y=\"239.758125\"/>\n      </g>\n     </g>\n     <g id=\"text_10\">\n      <!-- 12 -->\n      <g transform=\"translate(141.703125 254.356563)scale(0.1 -0.1)\">\n       <use xlink:href=\"#DejaVuSans-49\"/>\n       <use x=\"63.623047\" xlink:href=\"#DejaVuSans-50\"/>\n      </g>\n     </g>\n    </g>\n    <g id=\"xtick_11\">\n     <g id=\"line2d_11\">\n      <g>\n       <use style=\"stroke:#000000;stroke-width:0.8;\" x=\"159.225625\" xlink:href=\"#mde3947dced\" y=\"239.758125\"/>\n      </g>\n     </g>\n     <g id=\"text_11\">\n      <!-- 5 -->\n      <g transform=\"translate(156.044375 254.356563)scale(0.1 -0.1)\">\n       <use xlink:href=\"#DejaVuSans-53\"/>\n      </g>\n     </g>\n    </g>\n    <g id=\"xtick_12\">\n     <g id=\"line2d_12\">\n      <g>\n       <use style=\"stroke:#000000;stroke-width:0.8;\" x=\"170.385625\" xlink:href=\"#mde3947dced\" y=\"239.758125\"/>\n      </g>\n     </g>\n     <g id=\"text_12\">\n      <!-- 14 -->\n      <g transform=\"translate(164.023125 254.356563)scale(0.1 -0.1)\">\n       <use xlink:href=\"#DejaVuSans-49\"/>\n       <use x=\"63.623047\" xlink:href=\"#DejaVuSans-52\"/>\n      </g>\n     </g>\n    </g>\n    <g id=\"xtick_13\">\n     <g id=\"line2d_13\">\n      <g>\n       <use style=\"stroke:#000000;stroke-width:0.8;\" x=\"181.545625\" xlink:href=\"#mde3947dced\" y=\"239.758125\"/>\n      </g>\n     </g>\n     <g id=\"text_13\">\n      <!-- 11 -->\n      <g transform=\"translate(175.183125 254.356563)scale(0.1 -0.1)\">\n       <use xlink:href=\"#DejaVuSans-49\"/>\n       <use x=\"63.623047\" xlink:href=\"#DejaVuSans-49\"/>\n      </g>\n     </g>\n    </g>\n    <g id=\"xtick_14\">\n     <g id=\"line2d_14\">\n      <g>\n       <use style=\"stroke:#000000;stroke-width:0.8;\" x=\"192.705625\" xlink:href=\"#mde3947dced\" y=\"239.758125\"/>\n      </g>\n     </g>\n     <g id=\"text_14\">\n      <!-- 10 -->\n      <g transform=\"translate(186.343125 254.356563)scale(0.1 -0.1)\">\n       <defs>\n        <path d=\"M 31.78125 66.40625 \nQ 24.171875 66.40625 20.328125 58.90625 \nQ 16.5 51.421875 16.5 36.375 \nQ 16.5 21.390625 20.328125 13.890625 \nQ 24.171875 6.390625 31.78125 6.390625 \nQ 39.453125 6.390625 43.28125 13.890625 \nQ 47.125 21.390625 47.125 36.375 \nQ 47.125 51.421875 43.28125 58.90625 \nQ 39.453125 66.40625 31.78125 66.40625 \nz\nM 31.78125 74.21875 \nQ 44.046875 74.21875 50.515625 64.515625 \nQ 56.984375 54.828125 56.984375 36.375 \nQ 56.984375 17.96875 50.515625 8.265625 \nQ 44.046875 -1.421875 31.78125 -1.421875 \nQ 19.53125 -1.421875 13.0625 8.265625 \nQ 6.59375 17.96875 6.59375 36.375 \nQ 6.59375 54.828125 13.0625 64.515625 \nQ 19.53125 74.21875 31.78125 74.21875 \nz\n\" id=\"DejaVuSans-48\"/>\n       </defs>\n       <use xlink:href=\"#DejaVuSans-49\"/>\n       <use x=\"63.623047\" xlink:href=\"#DejaVuSans-48\"/>\n      </g>\n     </g>\n    </g>\n    <g id=\"xtick_15\">\n     <g id=\"line2d_15\">\n      <g>\n       <use style=\"stroke:#000000;stroke-width:0.8;\" x=\"203.865625\" xlink:href=\"#mde3947dced\" y=\"239.758125\"/>\n      </g>\n     </g>\n     <g id=\"text_15\">\n      <!-- 6 -->\n      <g transform=\"translate(200.684375 254.356563)scale(0.1 -0.1)\">\n       <use xlink:href=\"#DejaVuSans-54\"/>\n      </g>\n     </g>\n    </g>\n    <g id=\"xtick_16\">\n     <g id=\"line2d_16\">\n      <g>\n       <use style=\"stroke:#000000;stroke-width:0.8;\" x=\"215.025625\" xlink:href=\"#mde3947dced\" y=\"239.758125\"/>\n      </g>\n     </g>\n     <g id=\"text_16\">\n      <!-- 7 -->\n      <g transform=\"translate(211.844375 254.356563)scale(0.1 -0.1)\">\n       <use xlink:href=\"#DejaVuSans-55\"/>\n      </g>\n     </g>\n    </g>\n    <g id=\"xtick_17\">\n     <g id=\"line2d_17\">\n      <g>\n       <use style=\"stroke:#000000;stroke-width:0.8;\" x=\"226.185625\" xlink:href=\"#mde3947dced\" y=\"239.758125\"/>\n      </g>\n     </g>\n     <g id=\"text_17\">\n      <!-- 27 -->\n      <g transform=\"translate(219.823125 254.356563)scale(0.1 -0.1)\">\n       <use xlink:href=\"#DejaVuSans-50\"/>\n       <use x=\"63.623047\" xlink:href=\"#DejaVuSans-55\"/>\n      </g>\n     </g>\n    </g>\n    <g id=\"xtick_18\">\n     <g id=\"line2d_18\">\n      <g>\n       <use style=\"stroke:#000000;stroke-width:0.8;\" x=\"237.345625\" xlink:href=\"#mde3947dced\" y=\"239.758125\"/>\n      </g>\n     </g>\n     <g id=\"text_18\">\n      <!-- 16 -->\n      <g transform=\"translate(230.983125 254.356563)scale(0.1 -0.1)\">\n       <use xlink:href=\"#DejaVuSans-49\"/>\n       <use x=\"63.623047\" xlink:href=\"#DejaVuSans-54\"/>\n      </g>\n     </g>\n    </g>\n    <g id=\"xtick_19\">\n     <g id=\"line2d_19\">\n      <g>\n       <use style=\"stroke:#000000;stroke-width:0.8;\" x=\"248.505625\" xlink:href=\"#mde3947dced\" y=\"239.758125\"/>\n      </g>\n     </g>\n     <g id=\"text_19\">\n      <!-- 15 -->\n      <g transform=\"translate(242.143125 254.356563)scale(0.1 -0.1)\">\n       <use xlink:href=\"#DejaVuSans-49\"/>\n       <use x=\"63.623047\" xlink:href=\"#DejaVuSans-53\"/>\n      </g>\n     </g>\n    </g>\n    <g id=\"xtick_20\">\n     <g id=\"line2d_20\">\n      <g>\n       <use style=\"stroke:#000000;stroke-width:0.8;\" x=\"259.665625\" xlink:href=\"#mde3947dced\" y=\"239.758125\"/>\n      </g>\n     </g>\n     <g id=\"text_20\">\n      <!-- 9 -->\n      <g transform=\"translate(256.484375 254.356563)scale(0.1 -0.1)\">\n       <defs>\n        <path d=\"M 10.984375 1.515625 \nL 10.984375 10.5 \nQ 14.703125 8.734375 18.5 7.8125 \nQ 22.3125 6.890625 25.984375 6.890625 \nQ 35.75 6.890625 40.890625 13.453125 \nQ 46.046875 20.015625 46.78125 33.40625 \nQ 43.953125 29.203125 39.59375 26.953125 \nQ 35.25 24.703125 29.984375 24.703125 \nQ 19.046875 24.703125 12.671875 31.3125 \nQ 6.296875 37.9375 6.296875 49.421875 \nQ 6.296875 60.640625 12.9375 67.421875 \nQ 19.578125 74.21875 30.609375 74.21875 \nQ 43.265625 74.21875 49.921875 64.515625 \nQ 56.59375 54.828125 56.59375 36.375 \nQ 56.59375 19.140625 48.40625 8.859375 \nQ 40.234375 -1.421875 26.421875 -1.421875 \nQ 22.703125 -1.421875 18.890625 -0.6875 \nQ 15.09375 0.046875 10.984375 1.515625 \nz\nM 30.609375 32.421875 \nQ 37.25 32.421875 41.125 36.953125 \nQ 45.015625 41.5 45.015625 49.421875 \nQ 45.015625 57.28125 41.125 61.84375 \nQ 37.25 66.40625 30.609375 66.40625 \nQ 23.96875 66.40625 20.09375 61.84375 \nQ 16.21875 57.28125 16.21875 49.421875 \nQ 16.21875 41.5 20.09375 36.953125 \nQ 23.96875 32.421875 30.609375 32.421875 \nz\n\" id=\"DejaVuSans-57\"/>\n       </defs>\n       <use xlink:href=\"#DejaVuSans-57\"/>\n      </g>\n     </g>\n    </g>\n    <g id=\"xtick_21\">\n     <g id=\"line2d_21\">\n      <g>\n       <use style=\"stroke:#000000;stroke-width:0.8;\" x=\"270.825625\" xlink:href=\"#mde3947dced\" y=\"239.758125\"/>\n      </g>\n     </g>\n     <g id=\"text_21\">\n      <!-- 2 -->\n      <g transform=\"translate(267.644375 254.356563)scale(0.1 -0.1)\">\n       <use xlink:href=\"#DejaVuSans-50\"/>\n      </g>\n     </g>\n    </g>\n    <g id=\"xtick_22\">\n     <g id=\"line2d_22\">\n      <g>\n       <use style=\"stroke:#000000;stroke-width:0.8;\" x=\"281.985625\" xlink:href=\"#mde3947dced\" y=\"239.758125\"/>\n      </g>\n     </g>\n     <g id=\"text_22\">\n      <!-- 13 -->\n      <g transform=\"translate(275.623125 254.356563)scale(0.1 -0.1)\">\n       <use xlink:href=\"#DejaVuSans-49\"/>\n       <use x=\"63.623047\" xlink:href=\"#DejaVuSans-51\"/>\n      </g>\n     </g>\n    </g>\n    <g id=\"xtick_23\">\n     <g id=\"line2d_23\">\n      <g>\n       <use style=\"stroke:#000000;stroke-width:0.8;\" x=\"293.145625\" xlink:href=\"#mde3947dced\" y=\"239.758125\"/>\n      </g>\n     </g>\n     <g id=\"text_23\">\n      <!-- 0 -->\n      <g transform=\"translate(289.964375 254.356563)scale(0.1 -0.1)\">\n       <use xlink:href=\"#DejaVuSans-48\"/>\n      </g>\n     </g>\n    </g>\n    <g id=\"xtick_24\">\n     <g id=\"line2d_24\">\n      <g>\n       <use style=\"stroke:#000000;stroke-width:0.8;\" x=\"304.305625\" xlink:href=\"#mde3947dced\" y=\"239.758125\"/>\n      </g>\n     </g>\n     <g id=\"text_24\">\n      <!-- 21 -->\n      <g transform=\"translate(297.943125 254.356563)scale(0.1 -0.1)\">\n       <use xlink:href=\"#DejaVuSans-50\"/>\n       <use x=\"63.623047\" xlink:href=\"#DejaVuSans-49\"/>\n      </g>\n     </g>\n    </g>\n    <g id=\"xtick_25\">\n     <g id=\"line2d_25\">\n      <g>\n       <use style=\"stroke:#000000;stroke-width:0.8;\" x=\"315.465625\" xlink:href=\"#mde3947dced\" y=\"239.758125\"/>\n      </g>\n     </g>\n     <g id=\"text_25\">\n      <!-- 19 -->\n      <g transform=\"translate(309.103125 254.356563)scale(0.1 -0.1)\">\n       <use xlink:href=\"#DejaVuSans-49\"/>\n       <use x=\"63.623047\" xlink:href=\"#DejaVuSans-57\"/>\n      </g>\n     </g>\n    </g>\n    <g id=\"xtick_26\">\n     <g id=\"line2d_26\">\n      <g>\n       <use style=\"stroke:#000000;stroke-width:0.8;\" x=\"326.625625\" xlink:href=\"#mde3947dced\" y=\"239.758125\"/>\n      </g>\n     </g>\n     <g id=\"text_26\">\n      <!-- 8 -->\n      <g transform=\"translate(323.444375 254.356563)scale(0.1 -0.1)\">\n       <use xlink:href=\"#DejaVuSans-56\"/>\n      </g>\n     </g>\n    </g>\n    <g id=\"xtick_27\">\n     <g id=\"line2d_27\">\n      <g>\n       <use style=\"stroke:#000000;stroke-width:0.8;\" x=\"337.785625\" xlink:href=\"#mde3947dced\" y=\"239.758125\"/>\n      </g>\n     </g>\n     <g id=\"text_27\">\n      <!-- 28 -->\n      <g transform=\"translate(331.423125 254.356563)scale(0.1 -0.1)\">\n       <use xlink:href=\"#DejaVuSans-50\"/>\n       <use x=\"63.623047\" xlink:href=\"#DejaVuSans-56\"/>\n      </g>\n     </g>\n    </g>\n    <g id=\"xtick_28\">\n     <g id=\"line2d_28\">\n      <g>\n       <use style=\"stroke:#000000;stroke-width:0.8;\" x=\"348.945625\" xlink:href=\"#mde3947dced\" y=\"239.758125\"/>\n      </g>\n     </g>\n     <g id=\"text_28\">\n      <!-- 20 -->\n      <g transform=\"translate(342.583125 254.356563)scale(0.1 -0.1)\">\n       <use xlink:href=\"#DejaVuSans-50\"/>\n       <use x=\"63.623047\" xlink:href=\"#DejaVuSans-48\"/>\n      </g>\n     </g>\n    </g>\n    <g id=\"xtick_29\">\n     <g id=\"line2d_29\">\n      <g>\n       <use style=\"stroke:#000000;stroke-width:0.8;\" x=\"360.105625\" xlink:href=\"#mde3947dced\" y=\"239.758125\"/>\n      </g>\n     </g>\n     <g id=\"text_29\">\n      <!-- 1 -->\n      <g transform=\"translate(356.924375 254.356563)scale(0.1 -0.1)\">\n       <use xlink:href=\"#DejaVuSans-49\"/>\n      </g>\n     </g>\n    </g>\n   </g>\n   <g id=\"matplotlib.axis_2\">\n    <g id=\"ytick_1\">\n     <g id=\"line2d_30\">\n      <defs>\n       <path d=\"M 0 0 \nL -3.5 0 \n\" id=\"mcf8710f7bd\" style=\"stroke:#000000;stroke-width:0.8;\"/>\n      </defs>\n      <g>\n       <use style=\"stroke:#000000;stroke-width:0.8;\" x=\"36.465625\" xlink:href=\"#mcf8710f7bd\" y=\"239.758125\"/>\n      </g>\n     </g>\n     <g id=\"text_30\">\n      <!-- 0.00 -->\n      <g transform=\"translate(7.2 243.557344)scale(0.1 -0.1)\">\n       <defs>\n        <path d=\"M 10.6875 12.40625 \nL 21 12.40625 \nL 21 0 \nL 10.6875 0 \nz\n\" id=\"DejaVuSans-46\"/>\n       </defs>\n       <use xlink:href=\"#DejaVuSans-48\"/>\n       <use x=\"63.623047\" xlink:href=\"#DejaVuSans-46\"/>\n       <use x=\"95.410156\" xlink:href=\"#DejaVuSans-48\"/>\n       <use x=\"159.033203\" xlink:href=\"#DejaVuSans-48\"/>\n      </g>\n     </g>\n    </g>\n    <g id=\"ytick_2\">\n     <g id=\"line2d_31\">\n      <g>\n       <use style=\"stroke:#000000;stroke-width:0.8;\" x=\"36.465625\" xlink:href=\"#mcf8710f7bd\" y=\"214.021051\"/>\n      </g>\n     </g>\n     <g id=\"text_31\">\n      <!-- 0.01 -->\n      <g transform=\"translate(7.2 217.82027)scale(0.1 -0.1)\">\n       <use xlink:href=\"#DejaVuSans-48\"/>\n       <use x=\"63.623047\" xlink:href=\"#DejaVuSans-46\"/>\n       <use x=\"95.410156\" xlink:href=\"#DejaVuSans-48\"/>\n       <use x=\"159.033203\" xlink:href=\"#DejaVuSans-49\"/>\n      </g>\n     </g>\n    </g>\n    <g id=\"ytick_3\">\n     <g id=\"line2d_32\">\n      <g>\n       <use style=\"stroke:#000000;stroke-width:0.8;\" x=\"36.465625\" xlink:href=\"#mcf8710f7bd\" y=\"188.283977\"/>\n      </g>\n     </g>\n     <g id=\"text_32\">\n      <!-- 0.02 -->\n      <g transform=\"translate(7.2 192.083196)scale(0.1 -0.1)\">\n       <use xlink:href=\"#DejaVuSans-48\"/>\n       <use x=\"63.623047\" xlink:href=\"#DejaVuSans-46\"/>\n       <use x=\"95.410156\" xlink:href=\"#DejaVuSans-48\"/>\n       <use x=\"159.033203\" xlink:href=\"#DejaVuSans-50\"/>\n      </g>\n     </g>\n    </g>\n    <g id=\"ytick_4\">\n     <g id=\"line2d_33\">\n      <g>\n       <use style=\"stroke:#000000;stroke-width:0.8;\" x=\"36.465625\" xlink:href=\"#mcf8710f7bd\" y=\"162.546903\"/>\n      </g>\n     </g>\n     <g id=\"text_33\">\n      <!-- 0.03 -->\n      <g transform=\"translate(7.2 166.346122)scale(0.1 -0.1)\">\n       <use xlink:href=\"#DejaVuSans-48\"/>\n       <use x=\"63.623047\" xlink:href=\"#DejaVuSans-46\"/>\n       <use x=\"95.410156\" xlink:href=\"#DejaVuSans-48\"/>\n       <use x=\"159.033203\" xlink:href=\"#DejaVuSans-51\"/>\n      </g>\n     </g>\n    </g>\n    <g id=\"ytick_5\">\n     <g id=\"line2d_34\">\n      <g>\n       <use style=\"stroke:#000000;stroke-width:0.8;\" x=\"36.465625\" xlink:href=\"#mcf8710f7bd\" y=\"136.809829\"/>\n      </g>\n     </g>\n     <g id=\"text_34\">\n      <!-- 0.04 -->\n      <g transform=\"translate(7.2 140.609048)scale(0.1 -0.1)\">\n       <use xlink:href=\"#DejaVuSans-48\"/>\n       <use x=\"63.623047\" xlink:href=\"#DejaVuSans-46\"/>\n       <use x=\"95.410156\" xlink:href=\"#DejaVuSans-48\"/>\n       <use x=\"159.033203\" xlink:href=\"#DejaVuSans-52\"/>\n      </g>\n     </g>\n    </g>\n    <g id=\"ytick_6\">\n     <g id=\"line2d_35\">\n      <g>\n       <use style=\"stroke:#000000;stroke-width:0.8;\" x=\"36.465625\" xlink:href=\"#mcf8710f7bd\" y=\"111.072755\"/>\n      </g>\n     </g>\n     <g id=\"text_35\">\n      <!-- 0.05 -->\n      <g transform=\"translate(7.2 114.871974)scale(0.1 -0.1)\">\n       <use xlink:href=\"#DejaVuSans-48\"/>\n       <use x=\"63.623047\" xlink:href=\"#DejaVuSans-46\"/>\n       <use x=\"95.410156\" xlink:href=\"#DejaVuSans-48\"/>\n       <use x=\"159.033203\" xlink:href=\"#DejaVuSans-53\"/>\n      </g>\n     </g>\n    </g>\n    <g id=\"ytick_7\">\n     <g id=\"line2d_36\">\n      <g>\n       <use style=\"stroke:#000000;stroke-width:0.8;\" x=\"36.465625\" xlink:href=\"#mcf8710f7bd\" y=\"85.335681\"/>\n      </g>\n     </g>\n     <g id=\"text_36\">\n      <!-- 0.06 -->\n      <g transform=\"translate(7.2 89.1349)scale(0.1 -0.1)\">\n       <use xlink:href=\"#DejaVuSans-48\"/>\n       <use x=\"63.623047\" xlink:href=\"#DejaVuSans-46\"/>\n       <use x=\"95.410156\" xlink:href=\"#DejaVuSans-48\"/>\n       <use x=\"159.033203\" xlink:href=\"#DejaVuSans-54\"/>\n      </g>\n     </g>\n    </g>\n    <g id=\"ytick_8\">\n     <g id=\"line2d_37\">\n      <g>\n       <use style=\"stroke:#000000;stroke-width:0.8;\" x=\"36.465625\" xlink:href=\"#mcf8710f7bd\" y=\"59.598607\"/>\n      </g>\n     </g>\n     <g id=\"text_37\">\n      <!-- 0.07 -->\n      <g transform=\"translate(7.2 63.397826)scale(0.1 -0.1)\">\n       <use xlink:href=\"#DejaVuSans-48\"/>\n       <use x=\"63.623047\" xlink:href=\"#DejaVuSans-46\"/>\n       <use x=\"95.410156\" xlink:href=\"#DejaVuSans-48\"/>\n       <use x=\"159.033203\" xlink:href=\"#DejaVuSans-55\"/>\n      </g>\n     </g>\n    </g>\n    <g id=\"ytick_9\">\n     <g id=\"line2d_38\">\n      <g>\n       <use style=\"stroke:#000000;stroke-width:0.8;\" x=\"36.465625\" xlink:href=\"#mcf8710f7bd\" y=\"33.861533\"/>\n      </g>\n     </g>\n     <g id=\"text_38\">\n      <!-- 0.08 -->\n      <g transform=\"translate(7.2 37.660752)scale(0.1 -0.1)\">\n       <use xlink:href=\"#DejaVuSans-48\"/>\n       <use x=\"63.623047\" xlink:href=\"#DejaVuSans-46\"/>\n       <use x=\"95.410156\" xlink:href=\"#DejaVuSans-48\"/>\n       <use x=\"159.033203\" xlink:href=\"#DejaVuSans-56\"/>\n      </g>\n     </g>\n    </g>\n   </g>\n   <g id=\"LineCollection_1\">\n    <path clip-path=\"url(#pec31c8007b)\" d=\"M 47.625625 66.404519 \nL 47.625625 32.672411 \n\" style=\"fill:none;stroke:#000000;stroke-width:1.5;\"/>\n    <path clip-path=\"url(#pec31c8007b)\" d=\"M 58.785625 83.404977 \nL 58.785625 43.825994 \n\" style=\"fill:none;stroke:#000000;stroke-width:1.5;\"/>\n    <path clip-path=\"url(#pec31c8007b)\" d=\"M 69.945625 89.738995 \nL 69.945625 42.133149 \n\" style=\"fill:none;stroke:#000000;stroke-width:1.5;\"/>\n    <path clip-path=\"url(#pec31c8007b)\" d=\"M 81.105625 92.599784 \nL 81.105625 42.850062 \n\" style=\"fill:none;stroke:#000000;stroke-width:1.5;\"/>\n    <path clip-path=\"url(#pec31c8007b)\" d=\"M 92.265625 94.696611 \nL 92.265625 60.517937 \n\" style=\"fill:none;stroke:#000000;stroke-width:1.5;\"/>\n    <path clip-path=\"url(#pec31c8007b)\" d=\"M 103.425625 99.458446 \nL 103.425625 70.152733 \n\" style=\"fill:none;stroke:#000000;stroke-width:1.5;\"/>\n    <path clip-path=\"url(#pec31c8007b)\" d=\"M 114.585625 101.45637 \nL 114.585625 72.871336 \n\" style=\"fill:none;stroke:#000000;stroke-width:1.5;\"/>\n    <path clip-path=\"url(#pec31c8007b)\" d=\"M 125.745625 104.998641 \nL 125.745625 75.399283 \n\" style=\"fill:none;stroke:#000000;stroke-width:1.5;\"/>\n    <path clip-path=\"url(#pec31c8007b)\" d=\"M 136.905625 111.451802 \nL 136.905625 85.75639 \n\" style=\"fill:none;stroke:#000000;stroke-width:1.5;\"/>\n    <path clip-path=\"url(#pec31c8007b)\" d=\"M 148.065625 121.840887 \nL 148.065625 97.758575 \n\" style=\"fill:none;stroke:#000000;stroke-width:1.5;\"/>\n    <path clip-path=\"url(#pec31c8007b)\" d=\"M 159.225625 124.62976 \nL 159.225625 98.06368 \n\" style=\"fill:none;stroke:#000000;stroke-width:1.5;\"/>\n    <path clip-path=\"url(#pec31c8007b)\" d=\"M 170.385625 135.255285 \nL 170.385625 110.940032 \n\" style=\"fill:none;stroke:#000000;stroke-width:1.5;\"/>\n    <path clip-path=\"url(#pec31c8007b)\" d=\"M 181.545625 141.125323 \nL 181.545625 119.434951 \n\" style=\"fill:none;stroke:#000000;stroke-width:1.5;\"/>\n    <path clip-path=\"url(#pec31c8007b)\" d=\"M 192.705625 161.178549 \nL 192.705625 136.520293 \n\" style=\"fill:none;stroke:#000000;stroke-width:1.5;\"/>\n    <path clip-path=\"url(#pec31c8007b)\" d=\"M 203.865625 185.830888 \nL 203.865625 160.449926 \n\" style=\"fill:none;stroke:#000000;stroke-width:1.5;\"/>\n    <path clip-path=\"url(#pec31c8007b)\" d=\"M 215.025625 194.040815 \nL 215.025625 165.102233 \n\" style=\"fill:none;stroke:#000000;stroke-width:1.5;\"/>\n    <path clip-path=\"url(#pec31c8007b)\" d=\"M 226.185625 197.903075 \nL 226.185625 175.051833 \n\" style=\"fill:none;stroke:#000000;stroke-width:1.5;\"/>\n    <path clip-path=\"url(#pec31c8007b)\" d=\"M 237.345625 196.655965 \nL 237.345625 178.136956 \n\" style=\"fill:none;stroke:#000000;stroke-width:1.5;\"/>\n    <path clip-path=\"url(#pec31c8007b)\" d=\"M 248.505625 204.058475 \nL 248.505625 192.805369 \n\" style=\"fill:none;stroke:#000000;stroke-width:1.5;\"/>\n    <path clip-path=\"url(#pec31c8007b)\" d=\"M 259.665625 209.468728 \nL 259.665625 190.180634 \n\" style=\"fill:none;stroke:#000000;stroke-width:1.5;\"/>\n    <path clip-path=\"url(#pec31c8007b)\" d=\"M 270.825625 213.408078 \nL 270.825625 191.029212 \n\" style=\"fill:none;stroke:#000000;stroke-width:1.5;\"/>\n    <path clip-path=\"url(#pec31c8007b)\" d=\"M 281.985625 209.714428 \nL 281.985625 199.632203 \n\" style=\"fill:none;stroke:#000000;stroke-width:1.5;\"/>\n    <path clip-path=\"url(#pec31c8007b)\" d=\"M 293.145625 226.438761 \nL 293.145625 197.874818 \n\" style=\"fill:none;stroke:#000000;stroke-width:1.5;\"/>\n    <path clip-path=\"url(#pec31c8007b)\" d=\"M 304.305625 221.431085 \nL 304.305625 205.988866 \n\" style=\"fill:none;stroke:#000000;stroke-width:1.5;\"/>\n    <path clip-path=\"url(#pec31c8007b)\" d=\"M 315.465625 221.955734 \nL 315.465625 209.581862 \n\" style=\"fill:none;stroke:#000000;stroke-width:1.5;\"/>\n    <path clip-path=\"url(#pec31c8007b)\" d=\"M 326.625625 223.246076 \nL 326.625625 210.427708 \n\" style=\"fill:none;stroke:#000000;stroke-width:1.5;\"/>\n    <path clip-path=\"url(#pec31c8007b)\" d=\"M 337.785625 231.341938 \nL 337.785625 204.076103 \n\" style=\"fill:none;stroke:#000000;stroke-width:1.5;\"/>\n    <path clip-path=\"url(#pec31c8007b)\" d=\"M 348.945625 226.969442 \nL 348.945625 219.102229 \n\" style=\"fill:none;stroke:#000000;stroke-width:1.5;\"/>\n    <path clip-path=\"url(#pec31c8007b)\" d=\"M 360.105625 239.758125 \nL 360.105625 239.758125 \n\" style=\"fill:none;stroke:#000000;stroke-width:1.5;\"/>\n   </g>\n   <g id=\"patch_32\">\n    <path d=\"M 36.465625 239.758125 \nL 36.465625 22.318125 \n\" style=\"fill:none;stroke:#000000;stroke-linecap:square;stroke-linejoin:miter;stroke-width:0.8;\"/>\n   </g>\n   <g id=\"patch_33\">\n    <path d=\"M 371.265625 239.758125 \nL 371.265625 22.318125 \n\" style=\"fill:none;stroke:#000000;stroke-linecap:square;stroke-linejoin:miter;stroke-width:0.8;\"/>\n   </g>\n   <g id=\"patch_34\">\n    <path d=\"M 36.465625 239.758125 \nL 371.265625 239.758125 \n\" style=\"fill:none;stroke:#000000;stroke-linecap:square;stroke-linejoin:miter;stroke-width:0.8;\"/>\n   </g>\n   <g id=\"patch_35\">\n    <path d=\"M 36.465625 22.318125 \nL 371.265625 22.318125 \n\" style=\"fill:none;stroke:#000000;stroke-linecap:square;stroke-linejoin:miter;stroke-width:0.8;\"/>\n   </g>\n   <g id=\"text_39\">\n    <!-- Feature importances -->\n    <g transform=\"translate(141.884688 16.318125)scale(0.12 -0.12)\">\n     <defs>\n      <path d=\"M 9.8125 72.90625 \nL 51.703125 72.90625 \nL 51.703125 64.59375 \nL 19.671875 64.59375 \nL 19.671875 43.109375 \nL 48.578125 43.109375 \nL 48.578125 34.8125 \nL 19.671875 34.8125 \nL 19.671875 0 \nL 9.8125 0 \nz\n\" id=\"DejaVuSans-70\"/>\n      <path d=\"M 56.203125 29.59375 \nL 56.203125 25.203125 \nL 14.890625 25.203125 \nQ 15.484375 15.921875 20.484375 11.0625 \nQ 25.484375 6.203125 34.421875 6.203125 \nQ 39.59375 6.203125 44.453125 7.46875 \nQ 49.3125 8.734375 54.109375 11.28125 \nL 54.109375 2.78125 \nQ 49.265625 0.734375 44.1875 -0.34375 \nQ 39.109375 -1.421875 33.890625 -1.421875 \nQ 20.796875 -1.421875 13.15625 6.1875 \nQ 5.515625 13.8125 5.515625 26.8125 \nQ 5.515625 40.234375 12.765625 48.109375 \nQ 20.015625 56 32.328125 56 \nQ 43.359375 56 49.78125 48.890625 \nQ 56.203125 41.796875 56.203125 29.59375 \nz\nM 47.21875 32.234375 \nQ 47.125 39.59375 43.09375 43.984375 \nQ 39.0625 48.390625 32.421875 48.390625 \nQ 24.90625 48.390625 20.390625 44.140625 \nQ 15.875 39.890625 15.1875 32.171875 \nz\n\" id=\"DejaVuSans-101\"/>\n      <path d=\"M 34.28125 27.484375 \nQ 23.390625 27.484375 19.1875 25 \nQ 14.984375 22.515625 14.984375 16.5 \nQ 14.984375 11.71875 18.140625 8.90625 \nQ 21.296875 6.109375 26.703125 6.109375 \nQ 34.1875 6.109375 38.703125 11.40625 \nQ 43.21875 16.703125 43.21875 25.484375 \nL 43.21875 27.484375 \nz\nM 52.203125 31.203125 \nL 52.203125 0 \nL 43.21875 0 \nL 43.21875 8.296875 \nQ 40.140625 3.328125 35.546875 0.953125 \nQ 30.953125 -1.421875 24.3125 -1.421875 \nQ 15.921875 -1.421875 10.953125 3.296875 \nQ 6 8.015625 6 15.921875 \nQ 6 25.140625 12.171875 29.828125 \nQ 18.359375 34.515625 30.609375 34.515625 \nL 43.21875 34.515625 \nL 43.21875 35.40625 \nQ 43.21875 41.609375 39.140625 45 \nQ 35.0625 48.390625 27.6875 48.390625 \nQ 23 48.390625 18.546875 47.265625 \nQ 14.109375 46.140625 10.015625 43.890625 \nL 10.015625 52.203125 \nQ 14.9375 54.109375 19.578125 55.046875 \nQ 24.21875 56 28.609375 56 \nQ 40.484375 56 46.34375 49.84375 \nQ 52.203125 43.703125 52.203125 31.203125 \nz\n\" id=\"DejaVuSans-97\"/>\n      <path d=\"M 18.3125 70.21875 \nL 18.3125 54.6875 \nL 36.8125 54.6875 \nL 36.8125 47.703125 \nL 18.3125 47.703125 \nL 18.3125 18.015625 \nQ 18.3125 11.328125 20.140625 9.421875 \nQ 21.96875 7.515625 27.59375 7.515625 \nL 36.8125 7.515625 \nL 36.8125 0 \nL 27.59375 0 \nQ 17.1875 0 13.234375 3.875 \nQ 9.28125 7.765625 9.28125 18.015625 \nL 9.28125 47.703125 \nL 2.6875 47.703125 \nL 2.6875 54.6875 \nL 9.28125 54.6875 \nL 9.28125 70.21875 \nz\n\" id=\"DejaVuSans-116\"/>\n      <path d=\"M 8.5 21.578125 \nL 8.5 54.6875 \nL 17.484375 54.6875 \nL 17.484375 21.921875 \nQ 17.484375 14.15625 20.5 10.265625 \nQ 23.53125 6.390625 29.59375 6.390625 \nQ 36.859375 6.390625 41.078125 11.03125 \nQ 45.3125 15.671875 45.3125 23.6875 \nL 45.3125 54.6875 \nL 54.296875 54.6875 \nL 54.296875 0 \nL 45.3125 0 \nL 45.3125 8.40625 \nQ 42.046875 3.421875 37.71875 1 \nQ 33.40625 -1.421875 27.6875 -1.421875 \nQ 18.265625 -1.421875 13.375 4.4375 \nQ 8.5 10.296875 8.5 21.578125 \nz\nM 31.109375 56 \nz\n\" id=\"DejaVuSans-117\"/>\n      <path d=\"M 41.109375 46.296875 \nQ 39.59375 47.171875 37.8125 47.578125 \nQ 36.03125 48 33.890625 48 \nQ 26.265625 48 22.1875 43.046875 \nQ 18.109375 38.09375 18.109375 28.8125 \nL 18.109375 0 \nL 9.078125 0 \nL 9.078125 54.6875 \nL 18.109375 54.6875 \nL 18.109375 46.1875 \nQ 20.953125 51.171875 25.484375 53.578125 \nQ 30.03125 56 36.53125 56 \nQ 37.453125 56 38.578125 55.875 \nQ 39.703125 55.765625 41.0625 55.515625 \nz\n\" id=\"DejaVuSans-114\"/>\n      <path id=\"DejaVuSans-32\"/>\n      <path d=\"M 9.421875 54.6875 \nL 18.40625 54.6875 \nL 18.40625 0 \nL 9.421875 0 \nz\nM 9.421875 75.984375 \nL 18.40625 75.984375 \nL 18.40625 64.59375 \nL 9.421875 64.59375 \nz\n\" id=\"DejaVuSans-105\"/>\n      <path d=\"M 52 44.1875 \nQ 55.375 50.25 60.0625 53.125 \nQ 64.75 56 71.09375 56 \nQ 79.640625 56 84.28125 50.015625 \nQ 88.921875 44.046875 88.921875 33.015625 \nL 88.921875 0 \nL 79.890625 0 \nL 79.890625 32.71875 \nQ 79.890625 40.578125 77.09375 44.375 \nQ 74.3125 48.1875 68.609375 48.1875 \nQ 61.625 48.1875 57.5625 43.546875 \nQ 53.515625 38.921875 53.515625 30.90625 \nL 53.515625 0 \nL 44.484375 0 \nL 44.484375 32.71875 \nQ 44.484375 40.625 41.703125 44.40625 \nQ 38.921875 48.1875 33.109375 48.1875 \nQ 26.21875 48.1875 22.15625 43.53125 \nQ 18.109375 38.875 18.109375 30.90625 \nL 18.109375 0 \nL 9.078125 0 \nL 9.078125 54.6875 \nL 18.109375 54.6875 \nL 18.109375 46.1875 \nQ 21.1875 51.21875 25.484375 53.609375 \nQ 29.78125 56 35.6875 56 \nQ 41.65625 56 45.828125 52.96875 \nQ 50 49.953125 52 44.1875 \nz\n\" id=\"DejaVuSans-109\"/>\n      <path d=\"M 18.109375 8.203125 \nL 18.109375 -20.796875 \nL 9.078125 -20.796875 \nL 9.078125 54.6875 \nL 18.109375 54.6875 \nL 18.109375 46.390625 \nQ 20.953125 51.265625 25.265625 53.625 \nQ 29.59375 56 35.59375 56 \nQ 45.5625 56 51.78125 48.09375 \nQ 58.015625 40.1875 58.015625 27.296875 \nQ 58.015625 14.40625 51.78125 6.484375 \nQ 45.5625 -1.421875 35.59375 -1.421875 \nQ 29.59375 -1.421875 25.265625 0.953125 \nQ 20.953125 3.328125 18.109375 8.203125 \nz\nM 48.6875 27.296875 \nQ 48.6875 37.203125 44.609375 42.84375 \nQ 40.53125 48.484375 33.40625 48.484375 \nQ 26.265625 48.484375 22.1875 42.84375 \nQ 18.109375 37.203125 18.109375 27.296875 \nQ 18.109375 17.390625 22.1875 11.75 \nQ 26.265625 6.109375 33.40625 6.109375 \nQ 40.53125 6.109375 44.609375 11.75 \nQ 48.6875 17.390625 48.6875 27.296875 \nz\n\" id=\"DejaVuSans-112\"/>\n      <path d=\"M 30.609375 48.390625 \nQ 23.390625 48.390625 19.1875 42.75 \nQ 14.984375 37.109375 14.984375 27.296875 \nQ 14.984375 17.484375 19.15625 11.84375 \nQ 23.34375 6.203125 30.609375 6.203125 \nQ 37.796875 6.203125 41.984375 11.859375 \nQ 46.1875 17.53125 46.1875 27.296875 \nQ 46.1875 37.015625 41.984375 42.703125 \nQ 37.796875 48.390625 30.609375 48.390625 \nz\nM 30.609375 56 \nQ 42.328125 56 49.015625 48.375 \nQ 55.71875 40.765625 55.71875 27.296875 \nQ 55.71875 13.875 49.015625 6.21875 \nQ 42.328125 -1.421875 30.609375 -1.421875 \nQ 18.84375 -1.421875 12.171875 6.21875 \nQ 5.515625 13.875 5.515625 27.296875 \nQ 5.515625 40.765625 12.171875 48.375 \nQ 18.84375 56 30.609375 56 \nz\n\" id=\"DejaVuSans-111\"/>\n      <path d=\"M 54.890625 33.015625 \nL 54.890625 0 \nL 45.90625 0 \nL 45.90625 32.71875 \nQ 45.90625 40.484375 42.875 44.328125 \nQ 39.84375 48.1875 33.796875 48.1875 \nQ 26.515625 48.1875 22.3125 43.546875 \nQ 18.109375 38.921875 18.109375 30.90625 \nL 18.109375 0 \nL 9.078125 0 \nL 9.078125 54.6875 \nL 18.109375 54.6875 \nL 18.109375 46.1875 \nQ 21.34375 51.125 25.703125 53.5625 \nQ 30.078125 56 35.796875 56 \nQ 45.21875 56 50.046875 50.171875 \nQ 54.890625 44.34375 54.890625 33.015625 \nz\n\" id=\"DejaVuSans-110\"/>\n      <path d=\"M 48.78125 52.59375 \nL 48.78125 44.1875 \nQ 44.96875 46.296875 41.140625 47.34375 \nQ 37.3125 48.390625 33.40625 48.390625 \nQ 24.65625 48.390625 19.8125 42.84375 \nQ 14.984375 37.3125 14.984375 27.296875 \nQ 14.984375 17.28125 19.8125 11.734375 \nQ 24.65625 6.203125 33.40625 6.203125 \nQ 37.3125 6.203125 41.140625 7.25 \nQ 44.96875 8.296875 48.78125 10.40625 \nL 48.78125 2.09375 \nQ 45.015625 0.34375 40.984375 -0.53125 \nQ 36.96875 -1.421875 32.421875 -1.421875 \nQ 20.0625 -1.421875 12.78125 6.34375 \nQ 5.515625 14.109375 5.515625 27.296875 \nQ 5.515625 40.671875 12.859375 48.328125 \nQ 20.21875 56 33.015625 56 \nQ 37.15625 56 41.109375 55.140625 \nQ 45.0625 54.296875 48.78125 52.59375 \nz\n\" id=\"DejaVuSans-99\"/>\n      <path d=\"M 44.28125 53.078125 \nL 44.28125 44.578125 \nQ 40.484375 46.53125 36.375 47.5 \nQ 32.28125 48.484375 27.875 48.484375 \nQ 21.1875 48.484375 17.84375 46.4375 \nQ 14.5 44.390625 14.5 40.28125 \nQ 14.5 37.15625 16.890625 35.375 \nQ 19.28125 33.59375 26.515625 31.984375 \nL 29.59375 31.296875 \nQ 39.15625 29.25 43.1875 25.515625 \nQ 47.21875 21.78125 47.21875 15.09375 \nQ 47.21875 7.46875 41.1875 3.015625 \nQ 35.15625 -1.421875 24.609375 -1.421875 \nQ 20.21875 -1.421875 15.453125 -0.5625 \nQ 10.6875 0.296875 5.421875 2 \nL 5.421875 11.28125 \nQ 10.40625 8.6875 15.234375 7.390625 \nQ 20.0625 6.109375 24.8125 6.109375 \nQ 31.15625 6.109375 34.5625 8.28125 \nQ 37.984375 10.453125 37.984375 14.40625 \nQ 37.984375 18.0625 35.515625 20.015625 \nQ 33.0625 21.96875 24.703125 23.78125 \nL 21.578125 24.515625 \nQ 13.234375 26.265625 9.515625 29.90625 \nQ 5.8125 33.546875 5.8125 39.890625 \nQ 5.8125 47.609375 11.28125 51.796875 \nQ 16.75 56 26.8125 56 \nQ 31.78125 56 36.171875 55.265625 \nQ 40.578125 54.546875 44.28125 53.078125 \nz\n\" id=\"DejaVuSans-115\"/>\n     </defs>\n     <use xlink:href=\"#DejaVuSans-70\"/>\n     <use x=\"52.019531\" xlink:href=\"#DejaVuSans-101\"/>\n     <use x=\"113.542969\" xlink:href=\"#DejaVuSans-97\"/>\n     <use x=\"174.822266\" xlink:href=\"#DejaVuSans-116\"/>\n     <use x=\"214.03125\" xlink:href=\"#DejaVuSans-117\"/>\n     <use x=\"277.410156\" xlink:href=\"#DejaVuSans-114\"/>\n     <use x=\"316.273438\" xlink:href=\"#DejaVuSans-101\"/>\n     <use x=\"377.796875\" xlink:href=\"#DejaVuSans-32\"/>\n     <use x=\"409.583984\" xlink:href=\"#DejaVuSans-105\"/>\n     <use x=\"437.367188\" xlink:href=\"#DejaVuSans-109\"/>\n     <use x=\"534.779297\" xlink:href=\"#DejaVuSans-112\"/>\n     <use x=\"598.255859\" xlink:href=\"#DejaVuSans-111\"/>\n     <use x=\"659.4375\" xlink:href=\"#DejaVuSans-114\"/>\n     <use x=\"700.550781\" xlink:href=\"#DejaVuSans-116\"/>\n     <use x=\"739.759766\" xlink:href=\"#DejaVuSans-97\"/>\n     <use x=\"801.039062\" xlink:href=\"#DejaVuSans-110\"/>\n     <use x=\"864.417969\" xlink:href=\"#DejaVuSans-99\"/>\n     <use x=\"919.398438\" xlink:href=\"#DejaVuSans-101\"/>\n     <use x=\"980.921875\" xlink:href=\"#DejaVuSans-115\"/>\n    </g>\n   </g>\n  </g>\n </g>\n <defs>\n  <clipPath id=\"pec31c8007b\">\n   <rect height=\"217.44\" width=\"334.8\" x=\"36.465625\" y=\"22.318125\"/>\n  </clipPath>\n </defs>\n</svg>\n",
      "text/plain": "<Figure size 432x288 with 1 Axes>"
     },
     "metadata": {
      "needs_background": "light"
     },
     "output_type": "display_data"
    }
   ],
   "source": [
    "from sklearn.ensemble import ExtraTreesClassifier\n",
    "forest = ExtraTreesClassifier(n_estimators=250,\n",
    "                              random_state=0)\n",
    "\n",
    "forest.fit(data, data_y)\n",
    "importances = forest.feature_importances_\n",
    "std = np.std([tree.feature_importances_ for tree in forest.estimators_],\n",
    "             axis=0)\n",
    "indices = np.argsort(importances)[::-1]\n",
    "\n",
    "# Print the feature ranking\n",
    "print(\"Feature ranking:\")\n",
    "\n",
    "for f in range(data.shape[1]):\n",
    "    print(\"%d. feature %d: %s (%f)\" % (f + 1, indices[f], data.columns[indices[f]], importances[indices[f]]))\n",
    "\n",
    "# Plot the impurity-based feature importances of the forest\n",
    "plt.figure()\n",
    "plt.title(\"Feature importances\")\n",
    "plt.bar(range(data.shape[1]), importances[indices],\n",
    "        color=\"r\", yerr=std[indices], align=\"center\")\n",
    "plt.xticks(range(data.shape[1]), indices)\n",
    "plt.xlim([-1, data.shape[1]])\n",
    "plt.show()"
   ]
  },
  {
   "cell_type": "markdown",
   "metadata": {},
   "source": [
    "## Basic Classifiers with Averaged Document Vector"
   ]
  },
  {
   "cell_type": "markdown",
   "metadata": {},
   "source": [
    "## SVM\n",
    "### Word2Vec Baseline Features"
   ]
  },
  {
   "cell_type": "code",
   "execution_count": 181,
   "metadata": {},
   "outputs": [
    {
     "name": "stdout",
     "output_type": "stream",
     "text": [
      "Accuracy: 0.6898876404494382\n",
      "              precision    recall  f1-score   support\n",
      "\n",
      "           0       0.61      0.94      0.74       420\n",
      "           1       0.89      0.47      0.62       470\n",
      "\n",
      "    accuracy                           0.69       890\n",
      "   macro avg       0.75      0.70      0.68       890\n",
      "weighted avg       0.76      0.69      0.67       890\n",
      "\n",
      "0.6778559400720772\n",
      "Accuracy: 0.5030487804878049\n",
      "              precision    recall  f1-score   support\n",
      "\n",
      "           0       0.50      0.97      0.66       160\n",
      "           1       0.69      0.05      0.10       168\n",
      "\n",
      "    accuracy                           0.50       328\n",
      "   macro avg       0.59      0.51      0.38       328\n",
      "weighted avg       0.60      0.50      0.37       328\n",
      "\n"
     ]
    }
   ],
   "source": [
    "clf = make_pipeline((StandardScaler()), SVC(gamma='auto'))\n",
    "train_test(train_avg_base, test_avg_base, train_y, test_y, clf)\n",
    "valid(valid_avg_base, valid_y, clf)"
   ]
  },
  {
   "cell_type": "markdown",
   "metadata": {},
   "source": [
    "### Word2Vec Baseline Features (without word vectors)"
   ]
  },
  {
   "cell_type": "code",
   "execution_count": 182,
   "metadata": {},
   "outputs": [
    {
     "name": "stdout",
     "output_type": "stream",
     "text": [
      "Accuracy: 0.6067415730337079\n",
      "              precision    recall  f1-score   support\n",
      "\n",
      "           0       0.55      0.91      0.69       420\n",
      "           1       0.81      0.33      0.47       470\n",
      "\n",
      "    accuracy                           0.61       890\n",
      "   macro avg       0.68      0.62      0.58       890\n",
      "weighted avg       0.69      0.61      0.57       890\n",
      "\n",
      "0.5791200298331611\n",
      "Accuracy: 0.49085365853658536\n",
      "              precision    recall  f1-score   support\n",
      "\n",
      "           0       0.49      0.98      0.65       160\n",
      "           1       0.57      0.02      0.05       168\n",
      "\n",
      "    accuracy                           0.49       328\n",
      "   macro avg       0.53      0.50      0.35       328\n",
      "weighted avg       0.53      0.49      0.34       328\n",
      "\n"
     ]
    }
   ],
   "source": [
    "clf = make_pipeline(StandardScaler(), SVC(gamma='auto'))\n",
    "train_test(train_novec, test_novec, train_y, test_y, clf)\n",
    "valid(valid_novec, valid_y, clf)"
   ]
  },
  {
   "cell_type": "markdown",
   "metadata": {},
   "source": [
    "### Word2Vec Avg dataset *('hasURL', 'hasUserURL', 'isNotOnlyText', 'char_count')* are added"
   ]
  },
  {
   "cell_type": "code",
   "execution_count": 106,
   "metadata": {},
   "outputs": [
    {
     "name": "stdout",
     "output_type": "stream",
     "text": [
      "Accuracy: 0.6910112359550562\n",
      "              precision    recall  f1-score   support\n",
      "\n",
      "           0       0.61      0.94      0.74       420\n",
      "           1       0.89      0.47      0.62       470\n",
      "\n",
      "    accuracy                           0.69       890\n",
      "   macro avg       0.75      0.70      0.68       890\n",
      "weighted avg       0.76      0.69      0.68       890\n",
      "\n",
      "Accuracy: 0.5030487804878049\n",
      "              precision    recall  f1-score   support\n",
      "\n",
      "           0       0.50      0.98      0.66       160\n",
      "           1       0.73      0.05      0.09       168\n",
      "\n",
      "    accuracy                           0.50       328\n",
      "   macro avg       0.61      0.51      0.37       328\n",
      "weighted avg       0.61      0.50      0.37       328\n",
      "\n"
     ]
    }
   ],
   "source": [
    "clf = make_pipeline(StandardScaler(), SVC(gamma='auto'))\n",
    "train_test(train_avg, test_avg, train_y, test_y, clf)\n",
    "valid(valid_avg, valid_y, clf)"
   ]
  },
  {
   "cell_type": "markdown",
   "metadata": {},
   "source": [
    "### Doc2Vec dataset"
   ]
  },
  {
   "cell_type": "code",
   "execution_count": 109,
   "metadata": {},
   "outputs": [
    {
     "name": "stdout",
     "output_type": "stream",
     "text": [
      "Accuracy: 0.4730337078651685\n",
      "              precision    recall  f1-score   support\n",
      "\n",
      "           0       0.47      1.00      0.64       420\n",
      "           1       0.60      0.01      0.01       470\n",
      "\n",
      "    accuracy                           0.47       890\n",
      "   macro avg       0.54      0.50      0.33       890\n",
      "weighted avg       0.54      0.47      0.31       890\n",
      "\n",
      "Accuracy: 0.4878048780487805\n",
      "              precision    recall  f1-score   support\n",
      "\n",
      "           0       0.49      1.00      0.66       160\n",
      "           1       0.00      0.00      0.00       168\n",
      "\n",
      "    accuracy                           0.49       328\n",
      "   macro avg       0.24      0.50      0.33       328\n",
      "weighted avg       0.24      0.49      0.32       328\n",
      "\n"
     ]
    }
   ],
   "source": [
    "clf = make_pipeline((StandardScaler()), SVC(gamma='auto'))\n",
    "train_test(train_doc_base, test_doc_base, train_y, test_y, clf)\n",
    "valid(valid_doc_base, valid_y, clf)"
   ]
  },
  {
   "cell_type": "code",
   "execution_count": 110,
   "metadata": {},
   "outputs": [
    {
     "name": "stdout",
     "output_type": "stream",
     "text": [
      "Accuracy: 0.4752808988764045\n",
      "              precision    recall  f1-score   support\n",
      "\n",
      "           0       0.47      1.00      0.64       420\n",
      "           1       0.71      0.01      0.02       470\n",
      "\n",
      "    accuracy                           0.48       890\n",
      "   macro avg       0.59      0.50      0.33       890\n",
      "weighted avg       0.60      0.48      0.31       890\n",
      "\n",
      "Accuracy: 0.4878048780487805\n",
      "              precision    recall  f1-score   support\n",
      "\n",
      "           0       0.49      1.00      0.66       160\n",
      "           1       0.00      0.00      0.00       168\n",
      "\n",
      "    accuracy                           0.49       328\n",
      "   macro avg       0.24      0.50      0.33       328\n",
      "weighted avg       0.24      0.49      0.32       328\n",
      "\n"
     ]
    }
   ],
   "source": [
    "clf = make_pipeline(StandardScaler(), SVC(gamma='auto'))\n",
    "train_test(train_doc, test_doc, train_y, test_y, clf)\n",
    "valid(valid_doc, valid_y, clf)"
   ]
  },
  {
   "cell_type": "markdown",
   "metadata": {},
   "source": [
    "### BERTweet"
   ]
  },
  {
   "cell_type": "code",
   "execution_count": 126,
   "metadata": {},
   "outputs": [
    {
     "name": "stdout",
     "output_type": "stream",
     "text": [
      "Accuracy: 0.517948717948718\n",
      "              precision    recall  f1-score   support\n",
      "\n",
      "           0       0.50      0.99      0.67       189\n",
      "           1       0.88      0.07      0.14       201\n",
      "\n",
      "    accuracy                           0.52       390\n",
      "   macro avg       0.69      0.53      0.40       390\n",
      "weighted avg       0.70      0.52      0.39       390\n",
      "\n",
      "0.40154755297267297\n"
     ]
    }
   ],
   "source": [
    "clf = make_pipeline((StandardScaler()), SVC(gamma='auto'))\n",
    "train_test(bertweet_base, bertweet_valid_base, df_bertweet_y, df_valid_bertweet_y, clf)\n",
    "# valid(valid_avg_base, valid_y, clf)"
   ]
  },
  {
   "cell_type": "code",
   "execution_count": 127,
   "metadata": {},
   "outputs": [
    {
     "name": "stdout",
     "output_type": "stream",
     "text": [
      "Accuracy: 0.5205128205128206\n",
      "              precision    recall  f1-score   support\n",
      "\n",
      "           0       0.50      0.98      0.67       189\n",
      "           1       0.85      0.08      0.15       201\n",
      "\n",
      "    accuracy                           0.52       390\n",
      "   macro avg       0.68      0.53      0.41       390\n",
      "weighted avg       0.68      0.52      0.40       390\n",
      "\n",
      "0.40966010733452596\n"
     ]
    }
   ],
   "source": [
    "# 'hasURL', 'hasUserURL', 'isNotOnlyText', 'char_count', 'NumOfURLs'\n",
    "clf = make_pipeline((StandardScaler()), SVC(gamma='auto'))\n",
    "train_test(df_bertweet, df_valid_bertweet, df_bertweet_y, df_valid_bertweet_y, clf)\n",
    "# valid(valid_avg_base, valid_y, clf)"
   ]
  },
  {
   "cell_type": "markdown",
   "metadata": {},
   "source": [
    "## Naive Bayes"
   ]
  },
  {
   "cell_type": "code",
   "execution_count": 112,
   "metadata": {},
   "outputs": [],
   "source": [
    "from sklearn.naive_bayes import GaussianNB"
   ]
  },
  {
   "cell_type": "code",
   "execution_count": 113,
   "metadata": {},
   "outputs": [
    {
     "name": "stdout",
     "output_type": "stream",
     "text": [
      "Accuracy: 0.7235955056179775\n",
      "              precision    recall  f1-score   support\n",
      "\n",
      "           0       0.67      0.83      0.74       420\n",
      "           1       0.80      0.63      0.71       470\n",
      "\n",
      "    accuracy                           0.72       890\n",
      "   macro avg       0.74      0.73      0.72       890\n",
      "weighted avg       0.74      0.72      0.72       890\n",
      "\n",
      "Accuracy: 0.524390243902439\n",
      "              precision    recall  f1-score   support\n",
      "\n",
      "           0       0.51      0.96      0.66       160\n",
      "           1       0.75      0.11      0.19       168\n",
      "\n",
      "    accuracy                           0.52       328\n",
      "   macro avg       0.63      0.53      0.43       328\n",
      "weighted avg       0.63      0.52      0.42       328\n",
      "\n"
     ]
    }
   ],
   "source": [
    "clf = make_pipeline((StandardScaler()), GaussianNB())\n",
    "train_test(train_avg_base, test_avg_base, train_y, test_y, clf)\n",
    "valid(valid_avg_base, valid_y, clf)"
   ]
  },
  {
   "cell_type": "code",
   "execution_count": 116,
   "metadata": {},
   "outputs": [
    {
     "name": "stdout",
     "output_type": "stream",
     "text": [
      "Accuracy: 0.6640449438202247\n",
      "              precision    recall  f1-score   support\n",
      "\n",
      "           0       0.69      0.52      0.59       420\n",
      "           1       0.65      0.79      0.71       470\n",
      "\n",
      "    accuracy                           0.66       890\n",
      "   macro avg       0.67      0.66      0.65       890\n",
      "weighted avg       0.67      0.66      0.66       890\n",
      "\n",
      "Accuracy: 0.5457317073170732\n",
      "              precision    recall  f1-score   support\n",
      "\n",
      "           0       0.52      0.81      0.63       160\n",
      "           1       0.62      0.30      0.40       168\n",
      "\n",
      "    accuracy                           0.55       328\n",
      "   macro avg       0.57      0.55      0.52       328\n",
      "weighted avg       0.57      0.55      0.51       328\n",
      "\n"
     ]
    }
   ],
   "source": [
    "clf = make_pipeline((StandardScaler()), GaussianNB())\n",
    "train_test(train_avg_novec, test_avg_novec, train_y, test_y, clf)\n",
    "valid(valid_avg_novec, valid_y, clf)"
   ]
  },
  {
   "cell_type": "code",
   "execution_count": 115,
   "metadata": {},
   "outputs": [
    {
     "name": "stdout",
     "output_type": "stream",
     "text": [
      "Accuracy: 0.7235955056179775\n",
      "              precision    recall  f1-score   support\n",
      "\n",
      "           0       0.67      0.83      0.74       420\n",
      "           1       0.80      0.63      0.71       470\n",
      "\n",
      "    accuracy                           0.72       890\n",
      "   macro avg       0.74      0.73      0.72       890\n",
      "weighted avg       0.74      0.72      0.72       890\n",
      "\n",
      "Accuracy: 0.524390243902439\n",
      "              precision    recall  f1-score   support\n",
      "\n",
      "           0       0.51      0.96      0.66       160\n",
      "           1       0.75      0.11      0.19       168\n",
      "\n",
      "    accuracy                           0.52       328\n",
      "   macro avg       0.63      0.53      0.43       328\n",
      "weighted avg       0.63      0.52      0.42       328\n",
      "\n"
     ]
    }
   ],
   "source": [
    "clf = make_pipeline((StandardScaler()), GaussianNB())\n",
    "train_test(train_avg, test_avg, train_y, test_y, clf)\n",
    "valid(valid_avg, valid_y, clf)"
   ]
  },
  {
   "cell_type": "markdown",
   "metadata": {},
   "source": [
    "## Logistic Regression"
   ]
  },
  {
   "cell_type": "code",
   "execution_count": 117,
   "metadata": {},
   "outputs": [],
   "source": [
    "from sklearn.linear_model import LogisticRegression"
   ]
  },
  {
   "cell_type": "code",
   "execution_count": 118,
   "metadata": {},
   "outputs": [
    {
     "name": "stdout",
     "output_type": "stream",
     "text": [
      "Accuracy: 0.648314606741573\n",
      "              precision    recall  f1-score   support\n",
      "\n",
      "           0       0.58      0.95      0.72       420\n",
      "           1       0.89      0.38      0.53       470\n",
      "\n",
      "    accuracy                           0.65       890\n",
      "   macro avg       0.73      0.66      0.63       890\n",
      "weighted avg       0.74      0.65      0.62       890\n",
      "\n",
      "Accuracy: 0.5274390243902439\n",
      "              precision    recall  f1-score   support\n",
      "\n",
      "           0       0.51      0.93      0.66       160\n",
      "           1       0.69      0.14      0.24       168\n",
      "\n",
      "    accuracy                           0.53       328\n",
      "   macro avg       0.60      0.54      0.45       328\n",
      "weighted avg       0.60      0.53      0.44       328\n",
      "\n"
     ]
    }
   ],
   "source": [
    "clf = make_pipeline((StandardScaler()), LogisticRegression())\n",
    "train_test(train_avg_base, test_avg_base, train_y, test_y, clf)\n",
    "valid(valid_avg_base, valid_y, clf)"
   ]
  },
  {
   "cell_type": "code",
   "execution_count": 121,
   "metadata": {},
   "outputs": [
    {
     "name": "stdout",
     "output_type": "stream",
     "text": [
      "Accuracy: 0.5853932584269663\n",
      "              precision    recall  f1-score   support\n",
      "\n",
      "           0       0.54      0.90      0.67       420\n",
      "           1       0.78      0.30      0.43       470\n",
      "\n",
      "    accuracy                           0.59       890\n",
      "   macro avg       0.66      0.60      0.55       890\n",
      "weighted avg       0.66      0.59      0.55       890\n",
      "\n",
      "Accuracy: 0.4969512195121951\n",
      "              precision    recall  f1-score   support\n",
      "\n",
      "           0       0.49      0.96      0.65       160\n",
      "           1       0.60      0.05      0.10       168\n",
      "\n",
      "    accuracy                           0.50       328\n",
      "   macro avg       0.55      0.51      0.37       328\n",
      "weighted avg       0.55      0.50      0.37       328\n",
      "\n"
     ]
    }
   ],
   "source": [
    "clf = make_pipeline((StandardScaler()), LogisticRegression())\n",
    "train_test(train_avg_novec, test_avg_novec, train_y, test_y, clf)\n",
    "valid(valid_avg_novec, valid_y, clf)"
   ]
  },
  {
   "cell_type": "code",
   "execution_count": 122,
   "metadata": {},
   "outputs": [
    {
     "name": "stdout",
     "output_type": "stream",
     "text": [
      "Accuracy: 0.6393258426966292\n",
      "              precision    recall  f1-score   support\n",
      "\n",
      "           0       0.57      0.93      0.71       420\n",
      "           1       0.86      0.38      0.52       470\n",
      "\n",
      "    accuracy                           0.64       890\n",
      "   macro avg       0.72      0.65      0.62       890\n",
      "weighted avg       0.73      0.64      0.61       890\n",
      "\n",
      "Accuracy: 0.524390243902439\n",
      "              precision    recall  f1-score   support\n",
      "\n",
      "           0       0.51      0.93      0.65       160\n",
      "           1       0.67      0.14      0.24       168\n",
      "\n",
      "    accuracy                           0.52       328\n",
      "   macro avg       0.59      0.53      0.45       328\n",
      "weighted avg       0.59      0.52      0.44       328\n",
      "\n"
     ]
    }
   ],
   "source": [
    "clf = make_pipeline((StandardScaler()), LogisticRegression())\n",
    "train_test(train_avg, test_avg, train_y, test_y, clf)\n",
    "valid(valid_avg, valid_y, clf)"
   ]
  },
  {
   "cell_type": "markdown",
   "metadata": {},
   "source": [
    "### Doc2Vec"
   ]
  },
  {
   "cell_type": "code",
   "execution_count": 192,
   "metadata": {},
   "outputs": [
    {
     "name": "stdout",
     "output_type": "stream",
     "text": [
      "Accuracy: 0.5483146067415731\n",
      "              precision    recall  f1-score   support\n",
      "\n",
      "           0       0.51      0.82      0.63       420\n",
      "           1       0.66      0.30      0.42       470\n",
      "\n",
      "    accuracy                           0.55       890\n",
      "   macro avg       0.58      0.56      0.52       890\n",
      "weighted avg       0.59      0.55      0.52       890\n",
      "\n",
      "0.5237829031433683\n",
      "Accuracy: 0.5121951219512195\n",
      "              precision    recall  f1-score   support\n",
      "\n",
      "           0       0.50      0.86      0.63       160\n",
      "           1       0.57      0.18      0.28       168\n",
      "\n",
      "    accuracy                           0.51       328\n",
      "   macro avg       0.54      0.52      0.46       328\n",
      "weighted avg       0.54      0.51      0.45       328\n",
      "\n"
     ]
    }
   ],
   "source": [
    "clf = make_pipeline(StandardScaler(), LogisticRegression())\n",
    "train_test(train_doc_base, test_doc_base, train_y, test_y, clf)\n",
    "valid(valid_doc_base, valid_y, clf)"
   ]
  },
  {
   "cell_type": "code",
   "execution_count": null,
   "metadata": {},
   "outputs": [],
   "source": [
    "clf = make_pipeline((StandardScaler()), LogisticRegression())\n",
    "train_test(train_doc_nobase, test_avg, train_y, test_y, clf)\n",
    "valid(valid_avg, valid_y, clf)"
   ]
  },
  {
   "cell_type": "markdown",
   "metadata": {},
   "source": [
    "### Bertweet"
   ]
  },
  {
   "cell_type": "code",
   "execution_count": 215,
   "metadata": {},
   "outputs": [
    {
     "name": "stdout",
     "output_type": "stream",
     "text": [
      "Accuracy: 0.5538461538461539\n",
      "              precision    recall  f1-score   support\n",
      "\n",
      "           0       0.52      0.87      0.65       189\n",
      "           1       0.68      0.25      0.37       201\n",
      "\n",
      "    accuracy                           0.55       390\n",
      "   macro avg       0.60      0.56      0.51       390\n",
      "weighted avg       0.60      0.55      0.51       390\n",
      "\n",
      "0.5121635610766045\n"
     ]
    }
   ],
   "source": [
    "clf = make_pipeline(StandardScaler(), LogisticRegression())\n",
    "train_test(bertweet_base, bertweet_valid_base, df_bertweet_y, df_valid_bertweet_y, clf)\n",
    "# valid(valid_avg_base, valid_y, clf)"
   ]
  },
  {
   "cell_type": "markdown",
   "metadata": {},
   "source": [
    "## Random Forest"
   ]
  },
  {
   "cell_type": "code",
   "execution_count": 129,
   "metadata": {},
   "outputs": [],
   "source": [
    "from sklearn.ensemble import RandomForestClassifier\n",
    "from sklearn.ensemble import AdaBoostClassifier"
   ]
  },
  {
   "cell_type": "code",
   "execution_count": 130,
   "metadata": {},
   "outputs": [
    {
     "name": "stdout",
     "output_type": "stream",
     "text": [
      "Accuracy: 0.7179775280898877\n",
      "              precision    recall  f1-score   support\n",
      "\n",
      "           0       0.64      0.92      0.75       420\n",
      "           1       0.88      0.54      0.67       470\n",
      "\n",
      "    accuracy                           0.72       890\n",
      "   macro avg       0.76      0.73      0.71       890\n",
      "weighted avg       0.77      0.72      0.71       890\n",
      "\n",
      "0.7117321492401337\n",
      "Accuracy: 0.5030487804878049\n",
      "              precision    recall  f1-score   support\n",
      "\n",
      "           0       0.50      0.97      0.66       160\n",
      "           1       0.69      0.05      0.10       168\n",
      "\n",
      "    accuracy                           0.50       328\n",
      "   macro avg       0.59      0.51      0.38       328\n",
      "weighted avg       0.60      0.50      0.37       328\n",
      "\n"
     ]
    }
   ],
   "source": [
    "clf = make_pipeline((StandardScaler()), RandomForestClassifier(max_depth=5, random_state=0))\n",
    "train_test(train_avg_base, test_avg_base, train_y, test_y, clf)\n",
    "valid(valid_avg_base, valid_y, clf)"
   ]
  },
  {
   "cell_type": "code",
   "execution_count": 132,
   "metadata": {},
   "outputs": [
    {
     "name": "stdout",
     "output_type": "stream",
     "text": [
      "Accuracy: 0.49325842696629213\n",
      "              precision    recall  f1-score   support\n",
      "\n",
      "           0       0.48      1.00      0.65       420\n",
      "           1       1.00      0.04      0.08       470\n",
      "\n",
      "    accuracy                           0.49       890\n",
      "   macro avg       0.74      0.52      0.36       890\n",
      "weighted avg       0.76      0.49      0.35       890\n",
      "\n",
      "0.36418400789483274\n",
      "Accuracy: 0.4878048780487805\n",
      "              precision    recall  f1-score   support\n",
      "\n",
      "           0       0.49      1.00      0.66       160\n",
      "           1       0.00      0.00      0.00       168\n",
      "\n",
      "    accuracy                           0.49       328\n",
      "   macro avg       0.24      0.50      0.33       328\n",
      "weighted avg       0.24      0.49      0.32       328\n",
      "\n"
     ]
    }
   ],
   "source": [
    "clf = make_pipeline((StandardScaler()), RandomForestClassifier(max_depth=5, random_state=0))\n",
    "train_test(train_doc_base, test_doc_base, train_y, test_y, clf)\n",
    "valid(valid_doc_base, valid_y, clf)"
   ]
  },
  {
   "cell_type": "code",
   "execution_count": 205,
   "metadata": {},
   "outputs": [
    {
     "name": "stdout",
     "output_type": "stream",
     "text": [
      "Accuracy: 0.48717948717948717\n",
      "              precision    recall  f1-score   support\n",
      "\n",
      "           0       0.49      1.00      0.65       189\n",
      "           1       1.00      0.00      0.01       201\n",
      "\n",
      "    accuracy                           0.49       390\n",
      "   macro avg       0.74      0.50      0.33       390\n",
      "weighted avg       0.75      0.49      0.32       390\n",
      "\n",
      "0.3319401144266676\n"
     ]
    }
   ],
   "source": [
    "clf = make_pipeline( RandomForestClassifier())\n",
    "train_test(bertweet_base, bertweet_valid_base, df_bertweet_y, df_valid_bertweet_y, clf)"
   ]
  },
  {
   "cell_type": "markdown",
   "metadata": {},
   "source": [
    "---"
   ]
  }
 ],
 "metadata": {
  "kernelspec": {
   "display_name": "x86VenvTest",
   "language": "python",
   "name": "venv"
  },
  "language_info": {
   "codemirror_mode": {
    "name": "ipython",
    "version": 3
   },
   "file_extension": ".py",
   "mimetype": "text/x-python",
   "name": "python",
   "nbconvert_exporter": "python",
   "pygments_lexer": "ipython3",
   "version": "3.8.8"
  },
  "orig_nbformat": 2
 },
 "nbformat": 4,
 "nbformat_minor": 2
}