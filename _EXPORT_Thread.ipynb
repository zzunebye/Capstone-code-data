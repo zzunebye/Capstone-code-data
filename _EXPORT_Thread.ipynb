{
 "cells": [
  {
   "cell_type": "markdown",
   "metadata": {},
   "source": [
    "# Library"
   ]
  },
  {
   "cell_type": "code",
   "execution_count": 1,
   "metadata": {},
   "outputs": [
    {
     "name": "stderr",
     "output_type": "stream",
     "text": [
      "[nltk_data] Downloading package punkt to /Users/june/nltk_data...\n",
      "[nltk_data]   Package punkt is already up-to-date!\n",
      "[nltk_data] Downloading package averaged_perceptron_tagger to\n",
      "[nltk_data]     /Users/june/nltk_data...\n",
      "[nltk_data]   Package averaged_perceptron_tagger is already up-to-\n",
      "[nltk_data]       date!\n"
     ]
    }
   ],
   "source": [
    "import pandas as pd\n",
    "import numpy as np\n",
    "from glob2 import glob\n",
    "import json\n",
    "\n",
    "import matplotlib.pyplot as plt\n",
    "\n",
    "import nltk\n",
    "nltk.download('punkt')\n",
    "nltk.download('averaged_perceptron_tagger')\n",
    "import re\n",
    "from sklearn.inspection import permutation_importance\n",
    "\n",
    "\n",
    "import gensim\n",
    "import gensim.models.word2vec as w2v\n",
    "from gensim.test.utils import common_texts\n",
    "from datetime import datetime\n",
    "from datetime import date\n",
    "from datetime import timedelta\n",
    "\n",
    "from nltk import SnowballStemmer\n",
    "from nltk.corpus import wordnet\n",
    "from nltk.corpus import stopwords\n",
    "from nltk.stem import WordNetLemmatizer\n",
    "from nltk.stem.porter import PorterStemmer\n",
    "from nltk.tokenize import TweetTokenizer\n",
    "import emoji\n",
    "\n",
    "import __Preprocessing\n"
   ]
  },
  {
   "cell_type": "code",
   "execution_count": 2,
   "metadata": {},
   "outputs": [],
   "source": [
    "pd.set_option('display.max_columns', None)\n",
    "# pd.set_option('display.max_rows', 400)\n",
    "# pd.set_option('display.max_rowwidth', 100)\n",
    "pd.set_option('display.max_colwidth', 200)\n",
    "pd.options.display.float_format = '{}'.format\n",
    "# pd.options.display.float_format = '{:.5f}'.format"
   ]
  },
  {
   "cell_type": "markdown",
   "metadata": {},
   "source": [
    "# Functions"
   ]
  },
  {
   "cell_type": "code",
   "execution_count": 3,
   "metadata": {},
   "outputs": [],
   "source": [
    "# Deprecated\n",
    "def getposcount_all_withPOScount(tokens):\n",
    "    postag = []\n",
    "    poscount = {}\n",
    "    poscount['Noun']=0\n",
    "    poscount['Verb']=0\n",
    "    poscount['Adjective'] = 0\n",
    "    poscount['Pronoun']=0\n",
    "    poscount['FirstPersonPronoun']=0\n",
    "    poscount['SecondPersonPronoun']=0\n",
    "    poscount['ThirdPersonPronoun']=0\n",
    "    poscount['Adverb']=0\n",
    "    poscount['Numeral']=0\n",
    "    poscount['Conjunction_inj']=0\n",
    "    poscount['Particle']=0\n",
    "    poscount['Determiner']=0\n",
    "    poscount['Modal']=0\n",
    "    poscount['Whs']=0\n",
    "    poscount['test_auxiliary']=0\n",
    "    poscount['test_tentat']=0\n",
    "    poscount['test_certain']=0\n",
    "\n",
    "    Nouns = {'NN','NNS','NNP','NNPS'}\n",
    "    Adverbs = {'RB','RBR','RBS'}\n",
    "    Whs = {'WDT','WP','WRB'} # Composition of wh-determiner(that,what), wh-pronoun(who), wh-adverb(how)\n",
    "    Verbs={'VB','VBP','VBZ','VBN','VBG','VBD','To'}\n",
    "    first_person_pronouns=['i','me','my','mine','we','us','our','ours'] #'i',\n",
    "    second_person_pronouns=['you','your','yours', 'ya']\n",
    "    third_person_pronouns=['he','she','it','him','her','it','his','hers','its','they','them','their','theirs']\n",
    "    test_auxiliary=['be','will','have','am','is','was','were','can','could','dare','did','may','might','must','ought','shall','should','would']\n",
    "    test_tentat=['maybe','perhaps','possibly','probably','guess']\n",
    "    test_certain=['always','never']\n",
    "\n",
    "    for word in tokens:\n",
    "        w_lower=word.lower()\n",
    "        if w_lower in first_person_pronouns:\n",
    "            poscount['FirstPersonPronoun']+=1\n",
    "        elif w_lower in second_person_pronouns:\n",
    "            poscount['SecondPersonPronoun']+=1\n",
    "        elif w_lower in third_person_pronouns:\n",
    "            poscount['ThirdPersonPronoun']+=1\n",
    "        \n",
    "    for word in tokens:\n",
    "        w_lower=word.lower()\n",
    "        if w_lower in test_auxiliary:\n",
    "            poscount['test_auxiliary']+=1\n",
    "        elif w_lower in test_tentat:\n",
    "            poscount['test_tentat']+=1\n",
    "        elif w_lower in test_certain:\n",
    "            poscount['test_certain']+=1\n",
    "    \n",
    "    postag = nltk.pos_tag(tokens)\n",
    "    for g1 in postag:\n",
    "        if g1[1] in Nouns:\n",
    "            poscount['Noun'] += 1\n",
    "        elif g1[1] in Verbs:\n",
    "            poscount['Verb']+= 1\n",
    "        elif g1[1]=='ADJ'or g1[1]=='JJ':\n",
    "            poscount['Adjective']+=1\n",
    "        elif g1[1]=='PRP' or g1[1]=='PRON' or g1[1]=='PRP$':\n",
    "            poscount['Pronoun']+=1\n",
    "        elif g1[1] in Adverbs or g1[1]=='ADV':\n",
    "            poscount['Adverb']+=1\n",
    "        elif g1[1]=='CD':\n",
    "            poscount['Numeral']+=1\n",
    "        elif g1[1]=='CC' or g1[1]=='IN':\n",
    "            poscount['Conjunction_inj']+=1\n",
    "        elif g1[1]=='RP':\n",
    "            poscount['Particle']+=1\n",
    "        elif g1[1]=='MD':\n",
    "            poscount['Modal']+=1\n",
    "        elif g1[1]=='DT':\n",
    "            poscount['Determiner']+=1\n",
    "        elif g1[1] in Whs:\n",
    "            poscount['Whs']+=1\n",
    "    return poscount"
   ]
  },
  {
   "cell_type": "code",
   "execution_count": 4,
   "metadata": {},
   "outputs": [],
   "source": [
    "lmt = WordNetLemmatizer()\n",
    "stemmer = SnowballStemmer(\"english\")\n",
    "freqdist = nltk.FreqDist()\n",
    "stop_words = set(stopwords.words('english'))\n",
    "tweet_tokenizer = TweetTokenizer()\n",
    "\n",
    "\"\"\" Replaces contractions from a string to their equivalents \"\"\"\n",
    "contraction_patterns = [ (r'won\\'t', 'will not'), (r'can\\'t', 'cannot'), (r'i\\'m', 'i am'), (r'ain\\'t', 'is not'), (r'(\\w+)\\'ll', '\\g<1> will'), (r'(\\w+)n\\'t', '\\g<1> not'),\n",
    "                         (r'(\\w+)\\'ve', '\\g<1> have'), (r'(\\w+)\\'s', '\\g<1> is'), (r'(\\w+)\\'re', '\\g<1> are'), (r'(\\w+)\\'d', '\\g<1> would'), (r'&', 'and'), (r'dammit', 'damn it'), (r'dont', 'do not'), (r'wont', 'will not'), \n",
    "                         (r'i\\'d', 'i would'), (r'I\\'d', 'I would'), (r'he\\'d', 'he would'), (r'she\\'d', 'she would'), (r'they\\'d', 'they would'), (r'we\\'d', 'we would')]\n",
    "def replaceContraction(text):\n",
    "    patterns = [(re.compile(regex), repl) for (regex, repl) in contraction_patterns]\n",
    "    for (pattern, repl) in patterns:\n",
    "        (text, count) = re.subn(pattern, repl, text)\n",
    "    return text\n",
    "\n",
    "def capitalratio(tweet_text):\n",
    "    uppers = [l for l in tweet_text if l.isupper()]\n",
    "    capitalratio = len(uppers) / len(tweet_text)\n",
    "    return capitalratio \n",
    "\n",
    "def getTokenization(sent):\n",
    "    tweet_tokens = []\n",
    "    sent = sent.lower()\n",
    "    sent = replaceContraction(sent)\n",
    "\n",
    "    sent = re.sub(r\"http\\S+\", \"*\", sent) # http link -> '*'\n",
    "    # sent = re.sub(r\"@\\S+\", \"@\", sent)   # mention -> '@'\n",
    "    sent = re.sub(r\"@[^\\s]+\", \"@\", sent)   # mention -> '@'\n",
    "    sent = re.sub(r\"(#)(\\S+)\", r'\\1 \\2', sent) \n",
    "\n",
    "    sent = re.sub(r'([^\\s\\w@#\\*]|_)+', '', sent) # Erasing Special Characters\n",
    "    # sent = re.sub('@[^\\s]+','atUser',sent)\n",
    "    # sent = re.sub('((www\\.[^\\s]+)|(https?://[^\\s]+))','url',sent)\n",
    "    # sent = re.sub(r'#([^\\s]+)', r'\\1', sent)\n",
    "\n",
    "\n",
    "    # sent = re.sub('', '', sent.lower())\n",
    "    # sent = [tweet_tokenizer.tokenize(sent)]\n",
    "    sent = tweet_tokenizer.tokenize(sent)\n",
    "    sent = [stemmer.stem(token) for token in sent]\n",
    "    sent = [lmt.lemmatize(token) for token in sent]\n",
    "\n",
    "    temp = [token for token in sent if not token in stop_words]\n",
    "    url=0\n",
    "    for token in temp:\n",
    "        if token.startswith('*'):\n",
    "            url+=1\n",
    "    # tweet_tokens.append([temp])\n",
    "    # tweet_tokens.append(tweet_tokenizer.tokenize(sent))\n",
    "    # df_tokens = pd.DataFrame(tweet_tokens, columns=['token'])\n",
    "    return temp, url\n",
    "\n",
    "def extract_urls(entities_dicts):\n",
    "    if len(entities_dicts) < 1:\n",
    "        return 0\n",
    "    if len(entities_dicts) == 1:\n",
    "        return 1\n",
    "    if len(entities_dicts) == 2:\n",
    "        return 2\n",
    "\n",
    "    # urls = []\n",
    "    # urls_expanded = []\n",
    "\n",
    "    # key = 'url'\n",
    "    # key2 = 'expanded_url'\n",
    "    # # print(len(entities_dict))\n",
    "    # for i in entities_dicts:\n",
    "    #     urls.append(i[key])\n",
    "    #     urls_expanded.append(i[key2])\n",
    "    # return 1, urls, urls_expanded\n"
   ]
  },
  {
   "cell_type": "code",
   "execution_count": 5,
   "metadata": {},
   "outputs": [],
   "source": [
    "\n",
    "def getposcount_all(tokens):\n",
    "    postag = []\n",
    "    poscount = {}\n",
    "\n",
    "    poscount['FirstPersonPronoun']=0\n",
    "    poscount['SecondPersonPronoun']=0\n",
    "    poscount['ThirdPersonPronoun']=0\n",
    "    poscount['test_auxiliary']=0\n",
    "    poscount['test_tentat']=0\n",
    "    poscount['test_certain']=0\n",
    "    poscount['Numeral']=0\n",
    "\n",
    "\n",
    "    first_person_pronouns=['i','me','my','mine','we','us','our','ours'] #'i',\n",
    "    second_person_pronouns=['you','your','yours', 'ya']\n",
    "    third_person_pronouns=['he','she','it','him','her','it','his','hers','its','they','them','their','theirs']\n",
    "    test_auxiliary=['be','will','have','am','is','was','were','can','could','dare','did','may','might','must','ought','shall','should','would']\n",
    "    test_tentat=['maybe','perhaps','possibly','probably','guess']\n",
    "    test_certain=['always','never']\n",
    "\n",
    "    for word in tokens:\n",
    "        w_lower=word.lower()\n",
    "        if w_lower in first_person_pronouns:\n",
    "            poscount['FirstPersonPronoun']+=1\n",
    "        elif w_lower in second_person_pronouns:\n",
    "            poscount['SecondPersonPronoun']+=1\n",
    "        elif w_lower in third_person_pronouns:\n",
    "            poscount['ThirdPersonPronoun']+=1\n",
    "        \n",
    "    for word in tokens:\n",
    "        w_lower=word.lower()\n",
    "        if w_lower in test_auxiliary:\n",
    "            poscount['test_auxiliary']+=1\n",
    "        elif w_lower in test_tentat:\n",
    "            poscount['test_tentat']+=1\n",
    "        elif w_lower in test_certain:\n",
    "            poscount['test_certain']+=1\n",
    "\n",
    "    postag = nltk.pos_tag(tokens)\n",
    "    for g1 in postag:\n",
    "        if g1[1]=='CD':\n",
    "            poscount['Numeral']+=1\n",
    "    return poscount\n",
    "\n",
    "def fetchRawText_all(path, events, tweetType):\n",
    "    jsons = []\n",
    "    for i, event in enumerate(events):\n",
    "        jsons.append(glob('%s/%s/**/%s/[0-9]*.json' % (path, event, tweetType)))\n",
    "    for i,d in enumerate(jsons): print(\"%s's length is %d\" %(events[i], len(d)))\n",
    "\n",
    "    targets = []\n",
    "    features = []\n",
    "    isSrcTweet = []\n",
    "    for index, dataset in enumerate(jsons):\n",
    "        targetEvent = []\n",
    "        dataEvent = []\n",
    "        count = 0  # help var\n",
    "        for jsonFile in dataset:\n",
    "            count += 1\n",
    "            if jsonFile.find(\"non-rumours\") == -1:\n",
    "                targetEvent.append(1)\n",
    "            else:\n",
    "                targetEvent.append(0)\n",
    "            if jsonFile.find(\"source-tweet\") == -1:\n",
    "                isSrcTweet.append(0)\n",
    "            else: #if jsonFile.find(\"reactions\") == 1:\n",
    "                isSrcTweet.append(1)\n",
    "                \n",
    "\n",
    "            with open(jsonFile, 'r') as f:\n",
    "                for l in f.readlines():\n",
    "                    if not l.strip():  # skip empty lines\n",
    "                        continue\n",
    "                    json_data = json.loads(l)\n",
    "                    dataEvent.append(json_data)\n",
    "        targets.append(targetEvent)\n",
    "        features.append(dataEvent)\n",
    "        # isSrcTweet.append(isSrcTweet)\n",
    "\n",
    "    # print(\"\\nNumber of Events:\", len(targets))\n",
    "    # print(\"Number of tweets in the first event:\", len(targets[0]))\n",
    "\n",
    "    # targets은 targetEvent들을 리스트에 담은 것\n",
    "    target_list = []\n",
    "    for event in targets:\n",
    "        for elem in event:\n",
    "            target_list.append(elem)\n",
    "    target = pd.DataFrame(target_list, columns=[\"target\"])\n",
    "    isSrcTweet = pd.DataFrame(isSrcTweet, columns=[\"isSrcTweet\"])\n",
    "\n",
    "    extracted_features = []\n",
    "\n",
    "    extracted = []\n",
    "\n",
    "    NoneList = []\n",
    "\n",
    "    for obj_list in features:\n",
    "        extracted_event = []\n",
    "        for obj in obj_list:\n",
    "            output_f = dict()\n",
    "\n",
    "            if (('id' not in obj)):\n",
    "                print('sth happend')\n",
    "                return obj\n",
    "\n",
    "            if ('text' in obj):\n",
    "                output_f['text'] = obj['text']\n",
    "            else:\n",
    "                output_f['text'] = None\n",
    "            if ('text' in obj):\n",
    "                output_f['text'] = obj['text']\n",
    "            else:\n",
    "                output_f['text'] = None\n",
    "            if ('id' in obj):\n",
    "                output_f['id'] = obj['id']\n",
    "            else:\n",
    "                output_f['id'] = None\n",
    "            if ('in_reply_to_status_id' in obj):\n",
    "                output_f['pid'] = obj['in_reply_to_status_id']\n",
    "            else:\n",
    "                output_f['pid'] = None\n",
    "            output_f['userid'] = obj['user']['id']\n",
    "            \n",
    "            output_f['emoji_count'] = emoji.emoji_count(obj['text'])\n",
    "            urls_dicts = obj['entities']['urls']\n",
    "            if \"media\" in obj['entities']:\n",
    "                output_f['has_media'] = len(obj['entities']['media'])\n",
    "                # output_f['media_type'] = obj['entities']['media'][0]['type']\n",
    "            else:\n",
    "                output_f['has_media'] = 0\n",
    "                # output_f['media_type'] = 0\n",
    "            output_f['URLcount'] = len(urls_dicts)\n",
    "            # output_f['URLcount'] = extract_urls(urls_dicts)\n",
    "            tempForMention = re.sub(r\"http\\S+\", \"HTTPURL\", obj['text'].lower())\n",
    "            verification = 0\n",
    "            verification += len(re.findall(r'is(that|this|it) true', obj['text']))\n",
    "            verification += len(re.findall(r'wh[a]*t[?!|!?][?!|!?]*', obj['text']))\n",
    "            verification += len(re.findall(r'(rumour|rumor|debunk)', obj['text']))\n",
    "            verification += len(re.findall(r'(real?|really?|uncomfirmed)', obj['text']))\n",
    "            verification += len(re.findall(r'(that|this|it) is not true', obj['text']))\n",
    "            verification += len(re.findall(r'(that|this|it) is false', obj['text']))\n",
    "            verification += len(re.findall(r'(h[m]*)', obj['text']))\n",
    "            output_f['Skepticism'] = verification      \n",
    "            \n",
    "            mention = 0\n",
    "            for token in tempForMention:\n",
    "                if token.startswith('@'):\n",
    "                    mention+=1 \n",
    "            output_f['MentionCount'] = mention            \n",
    "\n",
    "            '''POS Tagging'''\n",
    "            temp = output_f['text']\n",
    "            temp = replaceContraction(temp.lower())\n",
    "            temp = re.sub(r\"(#)(\\S+)\", '', temp)\n",
    "            temp = re.sub(r\"(@)(\\S+)\", '', temp)\n",
    "            temp = re.sub(r\"http\\S+\", \"\", temp)\n",
    "            temp = re.sub(r'([^\\s\\w#\\*]|_)+', '', temp) # Erasing Special Characters\n",
    "            temp = temp.split()\n",
    "            pos_dict=getposcount_all(temp)\n",
    "\n",
    "            output_f['token_for_POS'] = temp\n",
    "            output_f.update(pos_dict)\n",
    "\n",
    "            output_f['char_count'] = len(output_f['text'])\n",
    "            output_f['word_count'] = len(output_f['text'].split())\n",
    "\n",
    "            # output_f['HashTag'] = len(obj['entities'][0]['hashtags'])\n",
    "            output_f['HashTag'] = len(obj['entities']['hashtags'])\n",
    "\n",
    "            output_f['has_question'] = \"?\" in output_f[\"text\"]\n",
    "            output_f['has_exclaim'] = \"!\" in output_f[\"text\"]\n",
    "            output_f['has_period'] = \".\" in output_f[\"text\"]\n",
    "\n",
    "            output_f['retweet_count'] = obj['retweet_count']\n",
    "            output_f['isRT'] = obj['retweeted']\n",
    "\n",
    "            # output_f['statuses_count'] = np.log10(obj['user']['statuses_count']+0.0000000001)\n",
    "            # output_f['listed_count'] = np.log10(obj['user']['listed_count']+0.000000001)\n",
    "            # output_f['friends_count'] = np.log10(obj['user']['friends_count']+0.0000000001)\n",
    "            # output_f['followers_count'] = np.log10(obj['user']['followers_count']+0.0000000001)\n",
    "\n",
    "            output_f['statuses_count'] = obj['user']['statuses_count']\n",
    "            output_f['listed_count'] = obj['user']['listed_count']\n",
    "            output_f['friends_count'] = obj['user']['friends_count']\n",
    "            output_f['followers_count'] = obj['user']['followers_count']\n",
    "\n",
    "            output_f['location'] = obj['user']['location']\n",
    "            output_f['name'] = obj['user']['name']\n",
    "\n",
    "            if (output_f['friends_count'] <= 0):\n",
    "                output_f['followers/friend'] = obj['user']['followers_count']\n",
    "            else:\n",
    "                output_f['followers/friend'] = obj['user']['followers_count']/obj['user']['friends_count']\n",
    "\n",
    "            output_f['favourites_count'] = obj['user']['favourites_count']\n",
    "            \n",
    "            acc_created = datetime.strptime(obj['user']['created_at'], '%a %b %d %H:%M:%S %z %Y')\n",
    "            tweet_created = datetime.strptime(obj['created_at'], '%a %b %d %H:%M:%S %z %Y')\n",
    "            age = (tweet_created - acc_created)\n",
    "            output_f['account_age_days'] = age.days\n",
    "            output_f['tweet_created'] = datetime.timestamp(tweet_created)\n",
    "            # output_f['tweet_created2'] = tweet_created\n",
    "\n",
    "            output_f['capital_ratio']=(capitalratio(obj['text']))\n",
    "            output_f['verified'] = obj['user']['verified']\n",
    "\n",
    "            extracted_event.append(output_f)\n",
    "        extracted_features.append(extracted_event)\n",
    "\n",
    "    extracted_df = []\n",
    "    # print(events)\n",
    "    # print(len(extracted_features))\n",
    "    for i, data in enumerate(extracted_features):\n",
    "        temp = pd.DataFrame(data)\n",
    "        temp[\"Event\"] = events[i]\n",
    "        extracted_df.append(pd.DataFrame(temp))\n",
    "\n",
    "    final = pd.concat(extracted_df, ignore_index=True)\n",
    "    final = pd.concat([final, isSrcTweet ,target], axis=1)\n",
    "    final.pid = final.pid\n",
    "    return final\n",
    "\n",
    "def depth(x):\n",
    "    if type(x) is dict and x:\n",
    "        return 1 + max(depth(x[a]) for a in x)\n",
    "    if type(x) is list and x:\n",
    "        return 1 + max(depth(a) for a in x)\n",
    "    return 0\n",
    "\n",
    "def getThreadData(path, events):\n",
    "    import re\n",
    "\n",
    "    sources = []\n",
    "    for i, event in enumerate(events):\n",
    "        sources.append(glob('%s/%s/*/*' % (path, event)))\n",
    "    roots = []\n",
    "    children = []\n",
    "    features = []\n",
    "    isSrcTweet = []\n",
    "    for num, event in enumerate(sources):\n",
    "        for index, dataset in enumerate(event):\n",
    "            # print(dataset)\n",
    "            # children.append(glob('%s/reactions/*/*' % (dataset)))\n",
    "            childs = [os.path.basename(x) for x in glob('%s/reactions/*.json' % (dataset))]\n",
    "            reext = re.compile(r'(.*?)\\.json')\n",
    "            childs = (reext.match(child) for child in childs)\n",
    "            children.append([match.group(1) for match in childs if match])\n",
    "            # print(dataset)\n",
    "            roots.append(os.path.basename(dataset))\n",
    "\n",
    "    df = pd.DataFrame(roots, columns=['Root'])\n",
    "    df = pd.concat([df,pd.DataFrame(children)],axis=1)\n",
    "    \n",
    "    structfile = []\n",
    "    annotatedfile= []\n",
    "    for i, event in enumerate(events):\n",
    "        structfile.append(glob('%s/%s/**/[0-9]*/structure.json' % (path, event)))\n",
    "        annotatedfile.append(glob('%s/%s/**/[0-9]*/annotation.json' % (path, event)))\n",
    "\n",
    "    for i,d in enumerate(structfile): print(\"%s's structure.json number is %d\" %(events[i], len(d)))\n",
    "    for i,d in enumerate(annotatedfile): print(\"%s's annotated.json number is %d\" %(events[i], len(d)))\n",
    "    # print(structfile)\n",
    "\n",
    "    thread_depths = []\n",
    "    thread_roots = []\n",
    "    for index, dataset in enumerate(structfile):\n",
    "        targetEvent = []\n",
    "        dataEvent = []\n",
    "        count = 0  # help var\n",
    "        for jsonFile in dataset:\n",
    "            # print(jsonFile)\n",
    "            match = re.search(\"/([0-9]*)/\", jsonFile)\n",
    "            rootname = match.group(1) if match else None\n",
    "            # print(rootname)\n",
    "            with open(jsonFile, 'r') as f:\n",
    "                for l in f.readlines():\n",
    "                    if not l.strip():  # skip empty lines\n",
    "                        continue\n",
    "                json_data = json.loads(l)\n",
    "                # print(json_data)\n",
    "                thread_depth = depth(json_data)\n",
    "                thread_depths.append([rootname,thread_depth])\n",
    "                # thread_roots.append(rootname)\n",
    "    df_depth = pd.DataFrame(thread_depths, columns=['Root', 'depth'])\n",
    "    df = pd.merge(df, df_depth, on=\"Root\")\n",
    "    \n",
    "    isTrue = []\n",
    "    misinfo = []\n",
    "    for index, dataset in enumerate(annotatedfile):\n",
    "        targetEvent = []\n",
    "        dataEvent = []\n",
    "        count = 0  # help var\n",
    "        for jsonFile in dataset:\n",
    "            match = re.search(\"/([0-9]*)/\", jsonFile)\n",
    "            rootname = match.group(1) if match else None\n",
    "            with open(jsonFile, 'r') as f:\n",
    "                for l in f.readlines():\n",
    "                    if not l.strip():  # skip empty lines\n",
    "                        continue\n",
    "                json_data = json.loads(l)\n",
    "                if ('misinformation' in json_data ):\n",
    "                    misinformation = json_data['misinformation']\n",
    "                else:\n",
    "                    misinformation = -1\n",
    "                if (json_data['is_rumour'] == \"nonrumour\"):\n",
    "                    truth = 0\n",
    "                elif (json_data['is_rumour'] == \"rumour\" and 'true' in json_data):\n",
    "                    if (json_data['true']==1):\n",
    "                        truth = 1\n",
    "                    elif (json_data['true']==0):\n",
    "                        truth = 2\n",
    "                else:\n",
    "                    truth = -1\n",
    "                misinfo.append([rootname,misinformation,truth])\n",
    "                # print(json_data)\n",
    "                # print(json_data)\n",
    "                # misinfo = json_data['misinformation']\n",
    "                # misinfo.append([rootname,json_data['misinformation']])\n",
    "                # thread_roots.append(rootname)\n",
    "    df_annotation = pd.DataFrame(misinfo,columns=['Root', 'misinformation', 'truth'])\n",
    "                \n",
    "    # return pd.DataFrame(thread_depths)\n",
    "    return df , df_annotation\n",
    "\n",
    "def getThreadDataPHEME(path, events):\n",
    "    import re\n",
    "\n",
    "    sources = []\n",
    "    for i, event in enumerate(events):\n",
    "        sources.append(glob('%s/%s/*/*' % (path, event)))\n",
    "    roots = []\n",
    "    children = []\n",
    "    features = []\n",
    "    isSrcTweet = []\n",
    "    childs_list=[]\n",
    "    for num, event in enumerate(sources):\n",
    "        for index, dataset in enumerate(event):\n",
    "            # print(dataset)\n",
    "            # children.append(glob('%s/reactions/*/*' % (dataset)))\n",
    "            childs = [os.path.basename(x) for x in glob('%s/reactions/*.json' % (dataset))]\n",
    "            reext = re.compile(r'(.*?)\\.json')\n",
    "            childs = (reext.match(child) for child in childs)\n",
    "            children.append([match.group(1) for match in childs if match])\n",
    "            # print(dataset)\n",
    "            roots.append(os.path.basename(dataset))\n",
    "\n",
    "            # childs_list.append(children)\n",
    "\n",
    "    df = pd.DataFrame(roots, columns=['Root'])\n",
    "    return pd.concat([df,pd.DataFrame(children)],axis=1)\n",
    "    return df\n",
    "    \n",
    "    structfile = []\n",
    "    for i, event in enumerate(events):\n",
    "        structfile.append(glob('%s/%s/**/[0-9]*/structure.json' % (path, event)))\n",
    "\n",
    "    for i,d in enumerate(structfile): print(\"%s's structure.json number is %d\" %(events[i], len(d)))\n",
    "    # print(structfile)\n",
    "\n",
    "    thread_depths = []\n",
    "    thread_roots = []\n",
    "    for index, dataset in enumerate(structfile):\n",
    "        targetEvent = []\n",
    "        dataEvent = []\n",
    "        count = 0  # help var\n",
    "        for jsonFile in dataset:\n",
    "            # print(jsonFile)\n",
    "            match = re.search(\"/([0-9]*)/\", jsonFile)\n",
    "            # p.match(\"lalalaI want this partlalala\").group(1)\n",
    "            rootname = match.group(1) if match else None\n",
    "            # print(rootname)\n",
    "            with open(jsonFile, 'r') as f:\n",
    "                for l in f.readlines():\n",
    "                    if not l.strip():  # skip empty lines\n",
    "                        continue\n",
    "                json_data = json.loads(l)\n",
    "                # print(json_data)\n",
    "                thread_depth = depth(json_data)\n",
    "                thread_depths.append([rootname,thread_depth])\n",
    "                # thread_roots.append(rootname)\n",
    "    df_depth = pd.DataFrame(thread_depths, columns=['Root', 'depth'])\n",
    "    df = pd.merge(df, df_depth, on=\"Root\")\n",
    "                \n",
    "    \n",
    "    # return pd.DataFrame(thread_depths)\n",
    "    return df"
   ]
  },
  {
   "cell_type": "code",
   "execution_count": 20,
   "metadata": {},
   "outputs": [],
   "source": [
    "import warnings\n",
    "warnings.filterwarnings(\"ignore\")\n",
    "'''\n",
    "@POStag-related: hashtag url mention emoji FPP SPP TPP\n",
    "\n",
    "'''\n",
    "\n",
    "def getThreadInfo_AVG(structure, df):\n",
    "\n",
    "    threadInfo = []\n",
    "    thread_depth = structure[['Root', 'depth']]\n",
    "    structure = structure.drop('depth', axis=1)\n",
    "    for index, data in enumerate(structure.Root[:]):\n",
    "        tweetInfo = []\n",
    "        # print(\"data: %s\\n\" %(data))\n",
    "        # print(\"data: %s\\n%s\\n\" %(data, structure.loc[index,0:].values))\n",
    "        # print(\"root: %s\\tFirst reaction: %s\\n\" %(data, structure.loc[index,0]))\n",
    "\n",
    "        pid = int(data)\n",
    "        thread = structure.loc[structure['Root']==pid].dropna(axis=1)\n",
    "        thread_node_count = len([childid for childid in structure.loc[index,:].dropna()]) \n",
    "        p_userid = df.loc[(df['id'] == int(data))].userid.sum()\n",
    "\n",
    "        # threadRange = structure.loc[structure['Root']==data].any().sum()-1\n",
    "        # print(structure)\n",
    "        threadRange = len(structure.iloc[index,:].dropna())\n",
    "\n",
    "        # 아래로는 성공적인 Features\n",
    "        friends_sum = np.sum([np.sum(df.loc[(df['id'] == int(childid))]['friends_count'].values) for childid in structure.loc[index,:].dropna()])\n",
    "        friends_avg = np.mean([np.sum(df.loc[(df['id'] == int(childid))]['friends_count'].values) for childid in structure.loc[index,:].dropna()])\n",
    "        \n",
    "        words_sum = np.sum([np.sum(df.loc[(df['id'] == int(childid))]['word_count'].values) for childid in structure.loc[index,:].dropna()])\n",
    "        words_avg = np.mean([np.sum(df.loc[(df['id'] == int(childid))]['word_count'].values) for childid in structure.loc[index,:].dropna()])\n",
    "\n",
    "        char_avg = np.mean([np.sum(df.loc[(df['id'] == int(childid))]['char_count'].values) for childid in structure.loc[index,:].dropna()])\n",
    "        \n",
    "        hashtagsum = np.sum([np.sum(df.loc[(df['id'] == int(childid))]['HashTag'].values) for childid in structure.loc[index,:].dropna()])\n",
    "        hashtagavg = np.mean([np.sum(df.loc[(df['id'] == int(childid))]['HashTag'].values) for childid in structure.loc[index,:].dropna()])\n",
    "        hashtagratio = np.mean([np.any(df.loc[(df['id'] == int(childid))]['HashTag']) for childid in structure.loc[index,:].dropna()])\n",
    "        \n",
    "        urlsum = np.sum([np.sum(df.loc[(df['id'] == int(childid))]['URLcount'].values) for childid in structure.loc[index,:].dropna()])\n",
    "        # urlavg = np.mean([np.sum(df.loc[(df['id'] == int(childid))]['URLcount'].values) for childid in structure.loc[index,:].dropna()])\n",
    "        urlavg = np.mean([np.sum(df.loc[(df['id'] == int(childid))]['URLcount'].values) for childid in structure.loc[index,:].dropna()])\n",
    "        urlratio = np.mean([np.any(df.loc[(df['id'] == int(childid))]['URLcount'].values) for childid in structure.loc[index,:].dropna()])\n",
    "        \n",
    "        mentionsum = np.sum([np.sum(df.loc[(df['id'] == int(childid))]['MentionCount'].values) for childid in structure.loc[index,:].dropna()])\n",
    "        mentionavg = np.mean([np.sum(df.loc[(df['id'] == int(childid))]['MentionCount'].values) for childid in structure.loc[index,:].dropna()])\n",
    "        mentionratio = np.mean([np.any(df.loc[(df['id'] == int(childid))]['MentionCount'].values) for childid in structure.loc[index,:].dropna()])\n",
    "        \n",
    "        statuesavg = np.mean([np.sum(df.loc[(df['id'] == int(childid))]['statuses_count'].values) for childid in structure.loc[index,:].dropna()])\n",
    "        \n",
    "        listedavg = np.mean([np.sum(df.loc[(df['id'] == int(childid))]['listed_count'].values) for childid in structure.loc[index,:].dropna()])\n",
    "\n",
    "        followeravg = np.mean([np.sum(df.loc[(df['id'] == int(childid))]['followers_count'].values) for childid in structure.loc[index,:].dropna()])\n",
    "\n",
    "        followers_friendratio = np.mean([np.sum(df.loc[(df['id'] == int(childid))]['followers/friend'].values) for childid in structure.loc[index,:].dropna()])\n",
    "\n",
    "        favoriteavg = np.mean([np.sum(df.loc[(df['id'] == int(childid))]['favourites_count'].values) for childid in structure.loc[index,:].dropna()])\n",
    "        \n",
    "        verifiedsum = np.sum([np.sum(df.loc[(df['id'] == int(childid))]['verified'].values) for childid in structure.loc[index,:].dropna()])\n",
    "        verifiedratio = np.mean([np.any(df.loc[(df['id'] == int(childid))]['verified'].values) for childid in structure.loc[index,:].dropna()])\n",
    "\n",
    "        retweetsum = np.sum([np.sum(df.loc[(df['id'] == int(childid))]['retweet_count'].values) for childid in structure.loc[index,:].dropna()])\n",
    "        retweetavg = np.mean([np.sum(df.loc[(df['id'] == int(childid))]['retweet_count'].values) for childid in structure.loc[index,:].dropna()])\n",
    "        # retweetstd = np.std([np.sum(df.loc[(df['id'] == int(childid))]['retweet_count'].values) for childid in structure.loc[index,:].dropna()])\n",
    "\n",
    "        accageavg = np.mean([np.sum(df.loc[(df['id'] == int(childid))]['account_age_days'].values) for childid in structure.loc[index,:].dropna()])\n",
    "        # accagestd = np.std([np.sum(df.loc[(df['id'] == int(childid))]['account_age_days'].values) for childid in structure.loc[index,:].dropna()])\n",
    "\n",
    "        emojiavg = np.mean([np.sum(df.loc[(df['id'] == int(childid))]['emoji_count'].values) for childid in structure.loc[index,:].dropna()])\n",
    "        emojiratio = np.mean([np.any(df.loc[(df['id'] == int(childid))]['emoji_count'].values) for childid in structure.loc[index,:].dropna()])\n",
    "        # emojistd = np.std([np.sum(df.loc[(df['id'] == int(childid))]['emoji_count'].values) for childid in structure.loc[index,:].dropna()])\n",
    "\n",
    "        mediaratio = np.mean([np.sum(df.loc[(df['id'] == int(childid))]['has_media'].values) for childid in structure.loc[index,:].dropna()])\n",
    "        questionratio = np.mean([np.sum(df.loc[(df['id'] == int(childid))]['has_question'].values) for childid in structure.loc[index,:].dropna()])\n",
    "        exclamationratio = np.mean([np.sum(df.loc[(df['id'] == int(childid))]['has_exclaim'].values) for childid in structure.loc[index,:].dropna()])\n",
    "        periodratio = np.mean([np.sum(df.loc[(df['id'] == int(childid))]['has_period'].values) for childid in structure.loc[index,:].dropna()])\n",
    "\n",
    "        FPPmean = np.mean([np.sum(df.loc[(df['id'] == int(childid))]['FirstPersonPronoun'].values) for childid in structure.loc[index,:].dropna()])\n",
    "        SPPmean = np.mean([np.sum(df.loc[(df['id'] == int(childid))]['SecondPersonPronoun'].values) for childid in structure.loc[index,:].dropna()])\n",
    "        TPPmean = np.mean([np.sum(df.loc[(df['id'] == int(childid))]['ThirdPersonPronoun'].values) for childid in structure.loc[index,:].dropna()])\n",
    "        # FPPstd = np.std([np.sum(df.loc[(df['id'] == int(childid))]['FirstPersonPronoun'].values) for childid in structure.loc[index,:].dropna()])\n",
    "        # SPPstd = np.std([np.sum(df.loc[(df['id'] == int(childid))]['SecondPersonPronoun'].values) for childid in structure.loc[index,:].dropna()])\n",
    "        # TPPstd = np.std([np.sum(df.loc[(df['id'] == int(childid))]['ThirdPersonPronoun'].values) for childid in structure.loc[index,:].dropna()])\n",
    "\n",
    "        Skepticismmean = np.mean([np.sum(df.loc[(df['id'] == int(childid))]['Skepticism'].values) for childid in structure.loc[index,:].dropna()])\n",
    "        Skepticismratio = np.mean([np.any(df.loc[(df['id'] == int(childid))]['Skepticism'].values) for childid in structure.loc[index,:].dropna()])\n",
    "\n",
    "        test_auxiliaryratio = np.mean([np.any(df.loc[(df['id'] == int(childid))]['test_auxiliary'].values) for childid in structure.loc[index,:].dropna()])\n",
    "        test_tentatratio = np.mean([np.any(df.loc[(df['id'] == int(childid))]['test_tentat'].values) for childid in structure.loc[index,:].dropna()])\n",
    "        test_certainratio = np.mean([np.any(df.loc[(df['id'] == int(childid))]['test_certain'].values) for childid in structure.loc[index,:].dropna()])\n",
    "\n",
    "        # 루트 트윗 작성자가 쓰레드에서 차지하는 비율\n",
    "        root_user_ratio = np.sum([np.any(all_ext.loc[(all_ext['id'] == int(childid)) & (all_ext['userid'] == p_userid)]['userid'].values) for childid in structure_ext.loc[0, :].dropna()]) / thread_node_count\n",
    "        unique_user_ratio = len(np.unique([np.sum(all_ext.loc[(all_ext['id'] == int(childid))]['userid'].values) for childid in structure_ext.loc[0, :].dropna()])) / thread_node_count\n",
    "        unique_user_sum = len(np.unique([np.sum(all_ext.loc[(all_ext['id'] == int(childid))]['userid'].values) for childid in structure_ext.loc[0, :].dropna()]))\n",
    "\n",
    "        # Get the lifetime of thread\n",
    "        # root_created = df.loc[(df['id'] == int(pid))].tweet_created.sum()\n",
    "        # try:\n",
    "        #     thread_latest = np.max([np.sum(df.loc[(df['id'] == childid)]['tweet_created'].values) for childid in structure.loc[index,'0':].dropna()])\n",
    "        # except:\n",
    "        # #     print([df.loc[(df['id'] == int(childid))]['tweet_created'].values for childid in structure.loc[index,'0':].dropna()])\n",
    "        #     print(\"error\")\n",
    "\n",
    "        # thread_life = thread_latest - root_created\n",
    "        try:\n",
    "            thread_life = np.max([np.sum(df.loc[(df['id'] == childid)]['tweet_created']) for childid in structure.loc[index,:].dropna()] - df.loc[(df['id'] == pid)].tweet_created.sum())\n",
    "            # if thread_life < 0: thread_life=0\n",
    "        except:\n",
    "            print(\"index:\", index)\n",
    "        thread_nodes_created = [np.sum(df.loc[(df['id'] == childid)]['tweet_created']) for childid in structure.loc[index,:].dropna()] - df.loc[(df['id'] == pid)].tweet_created.sum()\n",
    "        # print(\"thread_nodes_created\",thread_nodes_created)\n",
    "        thread_range = [0,thread_life*0.25, thread_life*0.5, thread_life*0.75]\n",
    "        # print(thread_range)\n",
    "        thread_temp = np.digitize(thread_nodes_created, bins= [thread_range[0],thread_range[1],thread_range[2],thread_range[3]])\n",
    "        # print(\"thread_temp\",thread_temp)\n",
    "        # thread_range_count.append(np.bincount(thread_temp)[1:])\n",
    "        # thread_range_ratio.append(np.bincount(thread_temp)[1:]/thread_node_count)\n",
    "        # print(\"thread temp binconunt:\",np.bincount(thread_temp)[1:])\n",
    "        NodeThreadCount_0, NodeThreadCount_25, NodeThreadCount_5, NodeThreadCount_75 = np.bincount(thread_temp)[1:]\n",
    "        NodeThreadRatio_0, NodeThreadRatio_25, NodeThreadRatio_5, NodeThreadRatio_75 = np.bincount(thread_temp)[1:]/thread_node_count\n",
    "        # thread_range_count = np.bincount(thread_temp)[1:]\n",
    "        # thread_range_ratio = np.bincount(thread_temp)[1:]/thread_node_count\n",
    "\n",
    "\n",
    "        # 해당 스레드의 트윗 개수\n",
    "        # print(\"thread_node_count:\",thread_node_count,\", threadRange:\",threadRange, \"lastest Thread:\", thread_latest )\n",
    "        # print(structure.loc[structure.Root == data])\n",
    "\n",
    "        tweetInfo.append(data)\n",
    "        # friends_sum = np.log(friends_sum, where=0<friends_sum, out=np.nan*friends_sum)\n",
    "        # friends_sum = np.log10(friends_sum-friends_sum.min()+1)\n",
    "        tweetInfo.append(friends_sum)\n",
    "        tweetInfo.append(friends_avg)\n",
    "        tweetInfo.append(words_avg)\n",
    "        tweetInfo.append(words_sum)\n",
    "        tweetInfo.append(char_avg)\n",
    "\n",
    "        tweetInfo.append(hashtagavg)\n",
    "        tweetInfo.append(hashtagsum)\n",
    "        tweetInfo.append(hashtagratio)\n",
    "        tweetInfo.append(urlsum)\n",
    "        tweetInfo.append(urlavg)\n",
    "        # tweetInfo.append(urlstd)\n",
    "        tweetInfo.append(urlratio)\n",
    "        tweetInfo.append(mentionsum)\n",
    "        tweetInfo.append(mentionavg)\n",
    "        tweetInfo.append(mentionratio)\n",
    "        tweetInfo.append(statuesavg)\n",
    "        tweetInfo.append(listedavg)\n",
    "        tweetInfo.append(followeravg)\n",
    "        tweetInfo.append(followers_friendratio)\n",
    "        tweetInfo.append(favoriteavg)\n",
    "         \n",
    "        tweetInfo.append(thread_node_count)\n",
    "        tweetInfo.append(verifiedratio)\n",
    "        tweetInfo.append(verifiedsum)\n",
    "        tweetInfo.append(retweetsum)\n",
    "        tweetInfo.append(retweetavg)\n",
    "        # tweetInfo.append(retweetstd)\n",
    "        tweetInfo.append(accageavg)\n",
    "        # tweetInfo.append(accagestd)\n",
    "        tweetInfo.append(thread_life)\n",
    "        # tweetInfo.append(emojistd)\n",
    "        tweetInfo.append(emojiavg)\n",
    "        tweetInfo.append(emojiratio)\n",
    "        tweetInfo.append(mediaratio)\n",
    "        tweetInfo.append(questionratio)\n",
    "        tweetInfo.append(exclamationratio)\n",
    "        tweetInfo.append(periodratio)\n",
    "        tweetInfo.append(FPPmean)\n",
    "        # tweetInfo.append(FPPstd)\n",
    "        tweetInfo.append(SPPmean)\n",
    "        # tweetInfo.append(SPPstd)\n",
    "        tweetInfo.append(TPPmean)\n",
    "        # tweetInfo.append(TPPstd)\n",
    "        tweetInfo.append(Skepticismmean)\n",
    "        tweetInfo.append(Skepticismratio)\n",
    "        tweetInfo.append(test_auxiliaryratio)\n",
    "        tweetInfo.append(test_tentatratio)\n",
    "        tweetInfo.append(test_certainratio)\n",
    "        tweetInfo.append(root_user_ratio)\n",
    "        tweetInfo.append(unique_user_ratio)\n",
    "        tweetInfo.append(unique_user_sum)\n",
    "        tweetInfo.extend([NodeThreadCount_0, NodeThreadCount_25, NodeThreadCount_5, NodeThreadCount_75])\n",
    "        tweetInfo.extend([NodeThreadRatio_0, NodeThreadRatio_25, NodeThreadRatio_5, NodeThreadRatio_75])\n",
    "        # tweetInfo.append(thread_range_count[1])\n",
    "        # tweetInfo.append(thread_range_count[2])\n",
    "        # tweetInfo.append(thread_range_count[3])\n",
    "        # tweetInfo.append(thread_range_count[4])\n",
    "        # tweetInfo.append(thread_range_ratio[1])\n",
    "        # tweetInfo.append(thread_range_ratio[2])\n",
    "        # tweetInfo.append(thread_range_ratio[3])\n",
    "        # tweetInfo.append(thread_range_ratio[4])\n",
    "        # print(len(tweetInfo))\n",
    "        threadInfo.append(tweetInfo)\n",
    "\n",
    "        result = pd.DataFrame(threadInfo, columns=['Root', 'SUM FriendsCount','AVG FriendsCount', 'AVG WordCount','SUM WordCount', 'AVG CharCount', 'AVG HashTag', 'SUM HashTag', 'Ratio HashTag','SUM Url', 'AVG Url','RATIO Url','SUM Mention', \n",
    "            'AVG Mention', 'Ratio Mention','AVG Statues','AVG Listed','AVG Follower','AVG followers/friend','AVG favorite', 'Tweets Count', 'Ratio Verified','SUM Verified','SUM RT', 'AVG RT','AVG AccAge', 'thread_time', \"AVG Emoji\",\"RATIO Emoji\",\n",
    "            \"Ratio Media\",'RATIO Question', 'RATIO Exclaim','RATIO Period', 'AVG FPP', 'AVG SPP','AVG TPP','AVG Skepticism','Ratio Skepticism', 'test_auxiliary','test_tentat','test_certain', 'root_user_ratio','unique_user_ratio','unique_user_sum',\n",
    "            'NodeThreadCount_0', 'NodeThreadCount_25', 'NodeThreadCount_5', 'NodeThreadCount_75', 'NodeThreadRatio_0', 'NodeThreadRatio_25', 'NodeThreadRatio_5', 'NodeThreadRatio_75'\n",
    "            ])\n",
    "        result = pd.merge(thread_depth, result, on=\"Root\").drop(['Root'], axis=1)\n",
    "    # result.friends_sum = np.log10(result.friends_sum-result.friends_sum.min()+1)\n",
    "    # result.friends_avg = np.log10(result.friends_avg-result.friends_avg.min()+1)\n",
    "\n",
    "    # print(threadInfo)\n",
    "    # result['SUM FriendsCount'] = np.log10(result['SUM FriendsCount']-result['SUM FriendsCount'].min()+1)\n",
    "    # result['AVG FriendsCount'] = np.log10(result['AVG FriendsCount']-result['AVG FriendsCount'].min()+1)\n",
    "    # result['AVG Statues'] = np.log10(result['AVG Statues']-result['AVG Statues'].min()+1)\n",
    "    # result['AVG Listed'] = np.log10(result['AVG Listed']-result['AVG Listed'].min()+1)\n",
    "    # result['AVG Follower'] = np.log10(result['AVG Follower']-result['AVG Follower'].min()+1)\n",
    "    # result['AVG favorite'] = np.log10(result['AVG favorite']-result['AVG favorite'].min()+1)\n",
    "    # # result['SUM RT'] = np.log10(result['SUM RT']-result['SUM RT'].min()+1)\n",
    "    # # result['AVG RT'] = np.log10(result['AVG RT']-result['AVG RT'].min()+1)\n",
    "    # # result['AVG AccAge'] = np.log10(result['AVG AccAge']-result['AVG AccAge'].min()+1)\n",
    "    # result['thread_time'] = np.log10(result['thread_time']-result['thread_time'].min()+1)\n",
    "    # # result['SUM WordCount'] = np.log10(result['SUM WordCount']-result['SUM WordCount'].min()+1)\n",
    "    # result['AVG followers/friend'] = np.log10(result['AVG followers/friend']-result['AVG followers/friend'].min()+1)\n",
    "    # result['AVG CharCount'] = np.log10(result['AVG CharCount']-result['AVG CharCount'].min()+1)\n",
    "    # result['Tweets Count'] = np.log10(result['Tweets Count']-result['Tweets Count'].min()+1)\n",
    "\n",
    "    result = result.fillna(0)\n",
    "    result = result.replace(-np.inf, 0)\n",
    "    return result\n",
    "\n",
    "def getThreadInfo_STD(structure, df):\n",
    "    threadInfo = []\n",
    "    thread_depth = structure[['Root', 'depth']]\n",
    "    structure = structure.drop('depth', axis=1)\n",
    "    for index, data in enumerate(structure.Root):\n",
    "        tweetInfo = []\n",
    "        # print(\"data: %s\\n\" %(data))\n",
    "        # print(\"data: %s\\n%s\\n\" %(data, structure.loc[index,0:].values))\n",
    "        # print(\"root: %s\\tFirst reaction: %s\\n\" %(data, structure.loc[index,0]))\n",
    "        \n",
    "        pid = int(data)\n",
    "        thread = structure.loc[structure['Root']==pid].dropna(axis=1)\n",
    "        # threadRange = structure.loc[structure['Root']==data].any().sum()-1\n",
    "        threadRange = len(structure.iloc[index,:].dropna())\n",
    "        df.loc[(df['id'] == int(pid))].userid.sum()\n",
    "\n",
    "        # 해당 스레드의 트윗 개수\n",
    "        thread_node_count = len([childid for childid in structure.loc[index,:].dropna()]) \n",
    "\n",
    "        # 아래로는 성공적인 Features\n",
    "        friends_sum = np.sum([np.sum(df.loc[(df['id'] == int(childid))]['friends_count'].values) for childid in structure.loc[index,:].dropna()])\n",
    "        friends_std = np.std([np.sum(df.loc[(df['id'] == int(childid))]['friends_count'].values) for childid in structure.loc[index,:].dropna()])\n",
    "        \n",
    "        words_sum = np.sum([np.sum(df.loc[(df['id'] == int(childid))]['word_count'].values) for childid in structure.loc[index,:].dropna()])\n",
    "        words_std = np.std([np.sum(df.loc[(df['id'] == int(childid))]['word_count'].values) for childid in structure.loc[index,:].dropna()])\n",
    "\n",
    "        char_std = np.std([np.sum(df.loc[(df['id'] == int(childid))]['char_count'].values) for childid in structure.loc[index,:].dropna()])\n",
    "        \n",
    "        hashtagsum = np.sum([np.sum(df.loc[(df['id'] == int(childid))]['HashTag'].values) for childid in structure.loc[index,:].dropna()])\n",
    "        hashtagstd = np.std([np.sum(df.loc[(df['id'] == int(childid))]['HashTag'].values) for childid in structure.loc[index,:].dropna()])\n",
    "        hashtagratio = np.mean([np.any(df.loc[(df['id'] == int(childid))]['HashTag']) for childid in structure.loc[index,:].dropna()])\n",
    "        \n",
    "        urlsum = np.sum([np.sum(df.loc[(df['id'] == int(childid))]['URLcount'].values) for childid in structure.loc[index,:].dropna()])\n",
    "        # urlavg = np.mean([np.sum(df.loc[(df['id'] == int(childid))]['URLcount'].values) for childid in structure.loc[index,:].dropna()])\n",
    "        urlstd = np.std([np.sum(df.loc[(df['id'] == int(childid))]['URLcount'].values) for childid in structure.loc[index,:].dropna()])\n",
    "        urlratio = np.mean([np.any(df.loc[(df['id'] == int(childid))]['URLcount'].values) for childid in structure.loc[index,:].dropna()])\n",
    "        \n",
    "        mentionsum = np.sum([np.sum(df.loc[(df['id'] == int(childid))]['MentionCount'].values) for childid in structure.loc[index,:].dropna()])\n",
    "        mentionstd = np.std([np.sum(df.loc[(df['id'] == int(childid))]['MentionCount'].values) for childid in structure.loc[index,:].dropna()])\n",
    "        mentionratio = np.mean([np.any(df.loc[(df['id'] == int(childid))]['MentionCount'].values) for childid in structure.loc[index,:].dropna()])\n",
    "        \n",
    "        statuesstd = np.std([np.sum(df.loc[(df['id'] == int(childid))]['statuses_count'].values) for childid in structure.loc[index,:].dropna()])\n",
    "        \n",
    "        listedstd = np.std([np.sum(df.loc[(df['id'] == int(childid))]['listed_count'].values) for childid in structure.loc[index,:].dropna()])\n",
    "\n",
    "        followerstd = np.std([np.sum(df.loc[(df['id'] == int(childid))]['followers_count'].values) for childid in structure.loc[index,:].dropna()])\n",
    "\n",
    "        followers_friendratio = np.mean([np.sum(df.loc[(df['id'] == int(childid))]['followers/friend'].values) for childid in structure.loc[index,:].dropna()])\n",
    "\n",
    "        favoritestd = np.std([np.sum(df.loc[(df['id'] == int(childid))]['favourites_count'].values) for childid in structure.loc[index,:].dropna()])\n",
    "        \n",
    "        verifiedsum = np.sum([np.sum(df.loc[(df['id'] == int(childid))]['verified'].values) for childid in structure.loc[index,:].dropna()])\n",
    "        verifiedratio = np.mean([np.any(df.loc[(df['id'] == int(childid))]['verified'].values) for childid in structure.loc[index,:].dropna()])\n",
    "\n",
    "        retweetsum = np.sum([np.sum(df.loc[(df['id'] == int(childid))]['retweet_count'].values) for childid in structure.loc[index,:].dropna()])\n",
    "        retweetstd = np.std([np.sum(df.loc[(df['id'] == int(childid))]['retweet_count'].values) for childid in structure.loc[index,:].dropna()])\n",
    "\n",
    "        accagestd = np.std([np.sum(df.loc[(df['id'] == int(childid))]['account_age_days'].values) for childid in structure.loc[index,:].dropna()])\n",
    "\n",
    "        emojiratio = np.mean([np.any(df.loc[(df['id'] == int(childid))]['emoji_count'].values) for childid in structure.loc[index,:].dropna()])\n",
    "        emojistd = np.std([np.sum(df.loc[(df['id'] == int(childid))]['emoji_count'].values) for childid in structure.loc[index,:].dropna()])\n",
    "\n",
    "        mediaratio = np.mean([np.sum(df.loc[(df['id'] == int(childid))]['has_media'].values) for childid in structure.loc[index,:].dropna()])\n",
    "        questionratio = np.mean([np.sum(df.loc[(df['id'] == int(childid))]['has_question'].values) for childid in structure.loc[index,:].dropna()])\n",
    "        exclamationratio = np.mean([np.sum(df.loc[(df['id'] == int(childid))]['has_exclaim'].values) for childid in structure.loc[index,:].dropna()])\n",
    "        periodratio = np.mean([np.sum(df.loc[(df['id'] == int(childid))]['has_period'].values) for childid in structure.loc[index,:].dropna()])\n",
    "\n",
    "        FPPstd = np.std([np.sum(df.loc[(df['id'] == int(childid))]['FirstPersonPronoun'].values) for childid in structure.loc[index,:].dropna()])\n",
    "        SPPstd = np.std([np.sum(df.loc[(df['id'] == int(childid))]['SecondPersonPronoun'].values) for childid in structure.loc[index,:].dropna()])\n",
    "        TPPstd = np.std([np.sum(df.loc[(df['id'] == int(childid))]['ThirdPersonPronoun'].values) for childid in structure.loc[index,:].dropna()])\n",
    "\n",
    "        Skepticismmean = np.mean([np.sum(df.loc[(df['id'] == int(childid))]['Skepticism'].values) for childid in structure.loc[index,:].dropna()])\n",
    "        Skepticismratio = np.mean([np.any(df.loc[(df['id'] == int(childid))]['Skepticism'].values) for childid in structure.loc[index,:].dropna()])\n",
    "\n",
    "        test_auxiliaryratio = np.std([np.any(df.loc[(df['id'] == int(childid))]['test_auxiliary'].values) for childid in structure.loc[index,:].dropna()])\n",
    "        test_tentatratio = np.std([np.any(df.loc[(df['id'] == int(childid))]['test_tentat'].values) for childid in structure.loc[index,:].dropna()])\n",
    "        test_certainratio = np.std([np.any(df.loc[(df['id'] == int(childid))]['test_certain'].values) for childid in structure.loc[index,:].dropna()])\n",
    "\n",
    "        # 루트 트윗 작성자가 쓰레드에서 차지하는 비율\n",
    "        root_user_ratio = np.sum([np.any(all_ext.loc[(all_ext['id'] == int(childid)) & (all_ext['userid'] == p_userid)]['userid'].values) for childid in structure_ext.loc[0, :].dropna()]) / thread_node_count\n",
    "\n",
    "        unique_user_ratio = len(np.unique([np.sum(all_ext.loc[(all_ext['id'] == int(childid))]['userid'].values) for childid in structure_ext.loc[0, :].dropna()])) / thread_node_count\n",
    "\n",
    "        unique_user_sum = len(np.unique([np.sum(all_ext.loc[(all_ext['id'] == int(childid))]['userid'].values) for childid in structure_ext.loc[0, :].dropna()]))\n",
    "\n",
    "        # Get the lifetime of thread\n",
    "        # root_created = df.loc[(df['id'] == int(pid))].tweet_created.sum()\n",
    "        # try:\n",
    "        #     thread_latest = np.max([np.sum(df.loc[(df['id'] == childid)]['tweet_created'].values) for childid in structure.loc[index,'0':].dropna()])\n",
    "        # except:\n",
    "        # #     print([df.loc[(df['id'] == int(childid))]['tweet_created'].values for childid in structure.loc[index,'0':].dropna()])\n",
    "        #     print(\"error\")\n",
    "\n",
    "        # thread_life = thread_latest - root_created\n",
    "        try:\n",
    "            thread_life = np.max([np.sum(df.loc[(df['id'] == childid)]['tweet_created']) for childid in structure.loc[index,:].dropna()] - df.loc[(df['id'] == pid)].tweet_created.sum())\n",
    "            # if thread_life < 0: thread_life=0\n",
    "        except:\n",
    "            print(\"index:\", index)\n",
    "\n",
    "        thread_nodes_created = [np.sum(df.loc[(df['id'] == childid)]['tweet_created']) for childid in structure.loc[index,:].dropna()] - df.loc[(df['id'] == pid)].tweet_created.sum()\n",
    "        # print(\"thread_nodes_created\",thread_nodes_created)\n",
    "        thread_range = [0,thread_life*0.25, thread_life*0.5, thread_life*0.75]\n",
    "        # print(thread_range)\n",
    "        thread_temp = np.digitize(thread_nodes_created, bins= [thread_range[0],thread_range[1],thread_range[2],thread_range[3]])\n",
    "        # print(\"thread_temp\",thread_temp)\n",
    "        # thread_range_count.append(np.bincount(thread_temp)[1:])\n",
    "        # thread_range_ratio.append(np.bincount(thread_temp)[1:]/thread_node_count)\n",
    "        # print(\"thread temp binconunt:\",np.bincount(thread_temp)[1:])\n",
    "        NodeThreadCount_0, NodeThreadCount_25, NodeThreadCount_5, NodeThreadCount_75 = np.bincount(thread_temp)[1:]\n",
    "        NodeThreadRatio_0, NodeThreadRatio_25, NodeThreadRatio_5, NodeThreadRatio_75 = np.bincount(thread_temp)[1:]/thread_node_count\n",
    "\n",
    "        \n",
    "        # print(structure.loc[structure.Root == data])\n",
    "\n",
    "        tweetInfo.append(data)\n",
    "        # friends_sum = np.log(friends_sum, where=0<friends_sum, out=np.nan*friends_sum)\n",
    "        # friends_sum = np.log10(friends_sum-friends_sum.min()+1)\n",
    "        tweetInfo.append(friends_sum)\n",
    "        tweetInfo.append(friends_std)\n",
    "        tweetInfo.append(words_std)\n",
    "        tweetInfo.append(words_sum)\n",
    "        tweetInfo.append(char_std)\n",
    "\n",
    "        tweetInfo.append(hashtagstd)\n",
    "        tweetInfo.append(hashtagsum)\n",
    "        tweetInfo.append(hashtagratio)\n",
    "        tweetInfo.append(urlsum)\n",
    "        tweetInfo.append(urlstd)\n",
    "        tweetInfo.append(urlratio)\n",
    "        tweetInfo.append(mentionsum)\n",
    "        tweetInfo.append(mentionstd)\n",
    "        tweetInfo.append(mentionratio)\n",
    "        tweetInfo.append(statuesstd)\n",
    "        tweetInfo.append(listedstd)\n",
    "        tweetInfo.append(followerstd)\n",
    "        tweetInfo.append(followers_friendratio)\n",
    "        tweetInfo.append(favoritestd)\n",
    "         \n",
    "        tweetInfo.append(thread_node_count)\n",
    "        tweetInfo.append(verifiedratio)\n",
    "        tweetInfo.append(verifiedsum)\n",
    "        tweetInfo.append(retweetsum)\n",
    "        tweetInfo.append(retweetstd)\n",
    "        tweetInfo.append(accagestd)\n",
    "        tweetInfo.append(thread_life)\n",
    "        tweetInfo.append(emojistd)\n",
    "        tweetInfo.append(emojiratio)\n",
    "        tweetInfo.append(mediaratio)\n",
    "        tweetInfo.append(questionratio)\n",
    "        tweetInfo.append(exclamationratio)\n",
    "        tweetInfo.append(periodratio)\n",
    "        tweetInfo.append(FPPstd)\n",
    "        tweetInfo.append(SPPstd)\n",
    "        tweetInfo.append(TPPstd)\n",
    "        tweetInfo.append(Skepticismmean)\n",
    "        tweetInfo.append(Skepticismratio)\n",
    "        tweetInfo.append(test_auxiliaryratio)\n",
    "        tweetInfo.append(test_tentatratio)\n",
    "        tweetInfo.append(test_certainratio)\n",
    "        tweetInfo.append(root_user_ratio)\n",
    "        tweetInfo.append(unique_user_ratio)\n",
    "        tweetInfo.append(unique_user_sum)\n",
    "        tweetInfo.extend([NodeThreadCount_0, NodeThreadCount_25, NodeThreadCount_5, NodeThreadCount_75])\n",
    "        tweetInfo.extend([NodeThreadRatio_0, NodeThreadRatio_25, NodeThreadRatio_5, NodeThreadRatio_75])\n",
    "\n",
    "\n",
    "        threadInfo.append(tweetInfo)\n",
    "\n",
    "        result = pd.DataFrame(threadInfo, columns=['Root', 'SUM FriendsCount','STD FriendsCount', 'STD WordCount','SUM WordCount', 'STD CharCount', 'STD HashTag', 'SUM HashTag', 'Ratio HashTag','SUM Url', 'STD Url','RATIO Url','SUM Mention', 'STD Mention', 'Ratio Mention','STD Statues','STD Listed','STD Follower','STD followers/friend','STD favorite', 'Tweets Count', 'Ratio Verified','SUM Verified','SUM RT', 'STD RT','STD AccAge', 'thread_time', \"STD Emoji\",\"RATIO Emoji\",\"Ratio Media\",'RATIO Question', 'RATIO Exclaim','RATIO Period', 'STD FPP', 'STD SPP','STD TPP','Mean Skepticism','Ratio Skepticism', 'test_auxiliary','test_tentat','test_certain', 'root_user_ratio','unique_user_ratio','unique_user_sum',\n",
    "                    'NodeThreadCount_0', 'NodeThreadCount_25', 'NodeThreadCount_5', 'NodeThreadCount_75', 'NodeThreadRatio_0', 'NodeThreadRatio_25', 'NodeThreadRatio_5', 'NodeThreadRatio_75'\n",
    "        ])\n",
    "        result = pd.merge(thread_depth, result, on=\"Root\").drop(['Root'], axis=1)\n",
    "\n",
    "    result = result.fillna(0)\n",
    "    result = result.replace(-np.inf, 0)\n",
    "    return result"
   ]
  },
  {
   "cell_type": "markdown",
   "metadata": {},
   "source": [
    "# Data"
   ]
  },
  {
   "cell_type": "code",
   "execution_count": 7,
   "metadata": {},
   "outputs": [],
   "source": [
    "pheme_pos = pd.read_csv(\"./data/_PHEME_postags.csv\")\n",
    "ext_pos = pd.read_csv(\"./data/_PHEME_postags.csv\")"
   ]
  },
  {
   "cell_type": "markdown",
   "metadata": {},
   "source": [
    "# Execution"
   ]
  },
  {
   "cell_type": "markdown",
   "metadata": {},
   "source": [
    "## PHEME ALL Create\n",
    "\n",
    "- 420120 Tweets"
   ]
  },
  {
   "cell_type": "code",
   "execution_count": 215,
   "metadata": {},
   "outputs": [
    {
     "name": "stdout",
     "output_type": "stream",
     "text": [
      "charliehebdo's length is 38268\n",
      "ferguson's length is 24175\n",
      "germanwings-crash's length is 4489\n",
      "ottawashooting's length is 12284\n",
      "sydneysiege's length is 23996\n"
     ]
    }
   ],
   "source": [
    "path = \"../pheme-rnr-dataset\"\n",
    "events = ['charliehebdo', 'ferguson',\n",
    "          'germanwings-crash', 'ottawashooting', 'sydneysiege']\n",
    "# events = ['germanwings-sydneysiege']\n",
    "# # # # events = [eventname+\"-all-rnr-threads\" for eventname in events]\n",
    "\n",
    "tweetType = '*'\n",
    "final = fetchRawText_all(path, events, tweetType)\n",
    "\n",
    "final.isRT = final.isRT.replace({True: 1, False: 0}) \n",
    "final.verified = final.verified.replace({True: 1, False: 0}) \n",
    "final.has_question = final.has_question.replace({True: 1, False: 0}) \n",
    "final.has_exclaim = final.has_exclaim.replace({True: 1, False: 0}) \n",
    "final.has_period = final.has_period.replace({True: 1, False: 0}) \n",
    "final = final.replace(-np.inf, 0)\n"
   ]
  },
  {
   "cell_type": "code",
   "execution_count": 216,
   "metadata": {},
   "outputs": [],
   "source": [
    "final.isRT = final.isRT.replace({True: 1, False: 0}) \n",
    "final.verified = final.verified.replace({True: 1, False: 0}) \n",
    "final.has_question = final.has_question.replace({True: 1, False: 0}) \n",
    "final.has_exclaim = final.has_exclaim.replace({True: 1, False: 0}) \n",
    "final.has_period = final.has_period.replace({True: 1, False: 0}) \n",
    "final = final.replace(-np.inf, 0)\n",
    "\n",
    "all_pheme = final\n",
    "all_pheme.to_csv('./data/all/_PHEMEall.csv', index = False)"
   ]
  },
  {
   "cell_type": "code",
   "execution_count": null,
   "metadata": {},
   "outputs": [
    {
     "data": {
      "application/x.notebook.stdout": "charliehebdo-all-rnr-threads's structure.json number is 2079\nferguson-all-rnr-threads's structure.json number is 1143\ngermanwings-crash-all-rnr-threads's structure.json number is 469\nottawashooting-all-rnr-threads's structure.json number is 890\nsydneysiege-all-rnr-threads's structure.json number is 1221\n"
     },
     "output_type": "unknown"
    }
   ],
   "source": [
    "path = \"../PHEME/all-rnr-annotated-threads\"\n",
    "events = ['charliehebdo', 'ferguson',\n",
    "          'germanwings-crash', 'ottawashooting', 'sydneysiege']\n",
    "events = [eventname+\"-all-rnr-threads\" for eventname in events]\n",
    "pheme_structure = getThreadData(path, events)\n",
    "# pheme_structure.to_csv('./data/all/_PHEME_structure.csv', index = False)\n"
   ]
  },
  {
   "cell_type": "markdown",
   "metadata": {},
   "source": [
    "## PHEME ALL Process"
   ]
  },
  {
   "cell_type": "code",
   "execution_count": 218,
   "metadata": {},
   "outputs": [
    {
     "name": "stdout",
     "output_type": "stream",
     "text": [
      "(125208, 40) (5802, 347)\n"
     ]
    }
   ],
   "source": [
    "all_pheme = pd.read_csv(\"./data/all/_PHEMEall.csv\")\n",
    "structure_pheme = pd.read_csv(\"./data/all/_PHEME_structure.csv\")\n",
    "print(all_pheme.shape,structure_pheme.shape)"
   ]
  },
  {
   "cell_type": "code",
   "execution_count": null,
   "metadata": {},
   "outputs": [],
   "source": [
    "# pheme_thread = getThreadInfo(structure_pheme, all_pheme)\n",
    "# pheme_thread.head(15)\n",
    "# pheme_thread.to_csv('./data/_PHEME_thread.csv', index = False)"
   ]
  },
  {
   "cell_type": "code",
   "execution_count": 220,
   "metadata": {},
   "outputs": [],
   "source": [
    "# pheme_thread_avg = getThreadInfo_AVG(structure_pheme, all_pheme)\n",
    "# pheme_thread_avg.head(5)\n",
    "# pheme_thread_avg.to_csv('./data/_PHEME_thread_avg.csv', index = False)"
   ]
  },
  {
   "cell_type": "code",
   "execution_count": 221,
   "metadata": {},
   "outputs": [
    {
     "data": {
      "text/html": "<div>\n<style scoped>\n    .dataframe tbody tr th:only-of-type {\n        vertical-align: middle;\n    }\n\n    .dataframe tbody tr th {\n        vertical-align: top;\n    }\n\n    .dataframe thead th {\n        text-align: right;\n    }\n</style>\n<table border=\"1\" class=\"dataframe\">\n  <thead>\n    <tr style=\"text-align: right;\">\n      <th></th>\n      <th>NodeThreadCount_0</th>\n      <th>NodeThreadCount_25</th>\n      <th>NodeThreadCount_5</th>\n      <th>NodeThreadCount_75</th>\n      <th>NodeThreadRatio_0</th>\n      <th>NodeThreadRatio_25</th>\n      <th>NodeThreadRatio_5</th>\n      <th>NodeThreadRatio_75</th>\n    </tr>\n  </thead>\n  <tbody>\n    <tr>\n      <th>0</th>\n      <td>7</td>\n      <td>0</td>\n      <td>1</td>\n      <td>11</td>\n      <td>0.3684210526315789</td>\n      <td>0.0</td>\n      <td>0.05263157894736842</td>\n      <td>0.5789473684210527</td>\n    </tr>\n    <tr>\n      <th>1</th>\n      <td>7</td>\n      <td>0</td>\n      <td>0</td>\n      <td>1</td>\n      <td>0.875</td>\n      <td>0.0</td>\n      <td>0.0</td>\n      <td>0.125</td>\n    </tr>\n    <tr>\n      <th>2</th>\n      <td>5</td>\n      <td>0</td>\n      <td>1</td>\n      <td>1</td>\n      <td>0.7142857142857143</td>\n      <td>0.0</td>\n      <td>0.14285714285714285</td>\n      <td>0.14285714285714285</td>\n    </tr>\n    <tr>\n      <th>3</th>\n      <td>8</td>\n      <td>0</td>\n      <td>0</td>\n      <td>2</td>\n      <td>0.8</td>\n      <td>0.0</td>\n      <td>0.0</td>\n      <td>0.2</td>\n    </tr>\n    <tr>\n      <th>4</th>\n      <td>4</td>\n      <td>0</td>\n      <td>0</td>\n      <td>1</td>\n      <td>0.8</td>\n      <td>0.0</td>\n      <td>0.0</td>\n      <td>0.2</td>\n    </tr>\n    <tr>\n      <th>...</th>\n      <td>...</td>\n      <td>...</td>\n      <td>...</td>\n      <td>...</td>\n      <td>...</td>\n      <td>...</td>\n      <td>...</td>\n      <td>...</td>\n    </tr>\n    <tr>\n      <th>5797</th>\n      <td>81</td>\n      <td>4</td>\n      <td>1</td>\n      <td>1</td>\n      <td>0.9310344827586207</td>\n      <td>0.04597701149425287</td>\n      <td>0.011494252873563218</td>\n      <td>0.011494252873563218</td>\n    </tr>\n    <tr>\n      <th>5798</th>\n      <td>38</td>\n      <td>9</td>\n      <td>5</td>\n      <td>55</td>\n      <td>0.35514018691588783</td>\n      <td>0.08411214953271028</td>\n      <td>0.04672897196261682</td>\n      <td>0.514018691588785</td>\n    </tr>\n    <tr>\n      <th>5799</th>\n      <td>5</td>\n      <td>0</td>\n      <td>0</td>\n      <td>3</td>\n      <td>0.625</td>\n      <td>0.0</td>\n      <td>0.0</td>\n      <td>0.375</td>\n    </tr>\n    <tr>\n      <th>5800</th>\n      <td>26</td>\n      <td>18</td>\n      <td>3</td>\n      <td>1</td>\n      <td>0.5416666666666666</td>\n      <td>0.375</td>\n      <td>0.0625</td>\n      <td>0.020833333333333332</td>\n    </tr>\n    <tr>\n      <th>5801</th>\n      <td>5</td>\n      <td>2</td>\n      <td>3</td>\n      <td>1</td>\n      <td>0.45454545454545453</td>\n      <td>0.18181818181818182</td>\n      <td>0.2727272727272727</td>\n      <td>0.09090909090909091</td>\n    </tr>\n  </tbody>\n</table>\n<p>5802 rows × 8 columns</p>\n</div>",
      "text/plain": "      NodeThreadCount_0  NodeThreadCount_25  NodeThreadCount_5  \\\n0                     7                   0                  1   \n1                     7                   0                  0   \n2                     5                   0                  1   \n3                     8                   0                  0   \n4                     4                   0                  0   \n...                 ...                 ...                ...   \n5797                 81                   4                  1   \n5798                 38                   9                  5   \n5799                  5                   0                  0   \n5800                 26                  18                  3   \n5801                  5                   2                  3   \n\n      NodeThreadCount_75   NodeThreadRatio_0  NodeThreadRatio_25  \\\n0                     11  0.3684210526315789                 0.0   \n1                      1               0.875                 0.0   \n2                      1  0.7142857142857143                 0.0   \n3                      2                 0.8                 0.0   \n4                      1                 0.8                 0.0   \n...                  ...                 ...                 ...   \n5797                   1  0.9310344827586207 0.04597701149425287   \n5798                  55 0.35514018691588783 0.08411214953271028   \n5799                   3               0.625                 0.0   \n5800                   1  0.5416666666666666               0.375   \n5801                   1 0.45454545454545453 0.18181818181818182   \n\n        NodeThreadRatio_5   NodeThreadRatio_75  \n0     0.05263157894736842   0.5789473684210527  \n1                     0.0                0.125  \n2     0.14285714285714285  0.14285714285714285  \n3                     0.0                  0.2  \n4                     0.0                  0.2  \n...                   ...                  ...  \n5797 0.011494252873563218 0.011494252873563218  \n5798  0.04672897196261682    0.514018691588785  \n5799                  0.0                0.375  \n5800               0.0625 0.020833333333333332  \n5801   0.2727272727272727  0.09090909090909091  \n\n[5802 rows x 8 columns]"
     },
     "execution_count": 221,
     "metadata": {},
     "output_type": "execute_result"
    }
   ],
   "source": [
    "pheme_thread_avg[['NodeThreadCount_0', 'NodeThreadCount_25', 'NodeThreadCount_5', 'NodeThreadCount_75', 'NodeThreadRatio_0', 'NodeThreadRatio_25', 'NodeThreadRatio_5', 'NodeThreadRatio_75']]"
   ]
  },
  {
   "cell_type": "code",
   "execution_count": 229,
   "metadata": {},
   "outputs": [],
   "source": [
    "# pheme_thread_std = getThreadInfo_STD(structure_pheme, all_pheme)\n",
    "# pheme_thread_std.head(5)\n",
    "pheme_thread_std.to_csv('./data/_PHEME_thread_std.csv', index = False)"
   ]
  },
  {
   "cell_type": "code",
   "execution_count": 230,
   "metadata": {},
   "outputs": [
    {
     "data": {
      "text/plain": "Index(['depth', 'SUM FriendsCount', 'STD FriendsCount', 'STD WordCount',\n       'SUM WordCount', 'STD CharCount', 'STD HashTag', 'SUM HashTag',\n       'Ratio HashTag', 'SUM Url', 'STD Url', 'RATIO Url', 'SUM Mention',\n       'STD Mention', 'Ratio Mention', 'STD Statues', 'STD Listed',\n       'STD Follower', 'STD followers/friend', 'STD favorite', 'Tweets Count',\n       'Ratio Verified', 'SUM Verified', 'SUM RT', 'STD RT', 'STD AccAge',\n       'thread_time', 'STD Emoji', 'RATIO Emoji', 'Ratio Media',\n       'RATIO Question', 'RATIO Exclaim', 'RATIO Period', 'STD FPP', 'STD SPP',\n       'STD TPP', 'Mean Skepticism', 'Ratio Skepticism', 'test_auxiliary',\n       'test_tentat', 'test_certain', 'root_user_ratio', 'unique_user_ratio',\n       'unique_user_sum', 'NodeThreadCount_0', 'NodeThreadCount_25',\n       'NodeThreadCount_5', 'NodeThreadCount_75', 'NodeThreadRatio_0',\n       'NodeThreadRatio_25', 'NodeThreadRatio_5', 'NodeThreadRatio_75'],\n      dtype='object')"
     },
     "execution_count": 230,
     "metadata": {},
     "output_type": "execute_result"
    }
   ],
   "source": [
    "pheme_thread_std.columns"
   ]
  },
  {
   "cell_type": "markdown",
   "metadata": {},
   "source": [
    "## PHEMEext Create"
   ]
  },
  {
   "cell_type": "code",
   "execution_count": 21,
   "metadata": {},
   "outputs": [
    {
     "name": "stdout",
     "output_type": "stream",
     "text": [
      "ebola-essien's length is 226\n",
      "prince-toronto's length is 902\n",
      "putinmissing's length is 835\n",
      "gurlitt's length is 179\n"
     ]
    }
   ],
   "source": [
    "path = \"../PHEME/all-rnr-annotated-threads\"\n",
    "events = ['ebola-essien', 'prince-toronto', 'putinmissing', 'gurlitt']\n",
    "# events = ['ebola-essien']\n",
    "tweetType = '*'\n",
    "\n",
    "all_ext = fetchRawText_all(path, events, tweetType)\n",
    "all_ext.isRT = all_ext.isRT.replace({True: 1, False: 0}) \n",
    "all_ext.verified = all_ext.verified.replace({True: 1, False: 0}) \n",
    "all_ext.has_question = all_ext.has_question.replace({True: 1, False: 0}) \n",
    "all_ext.has_exclaim = all_ext.has_exclaim.replace({True: 1, False: 0}) \n",
    "all_ext.has_period = all_ext.has_period.replace({True: 1, False: 0}) \n",
    "all_ext = all_ext.replace(-np.inf, 0)"
   ]
  },
  {
   "cell_type": "code",
   "execution_count": 9,
   "metadata": {},
   "outputs": [],
   "source": [
    "all_ext.to_csv('./data/all/_PHEMEextall.csv', index = False)"
   ]
  },
  {
   "cell_type": "code",
   "execution_count": 10,
   "metadata": {},
   "outputs": [
    {
     "name": "stdout",
     "output_type": "stream",
     "text": [
      "(2142, 40)\n",
      "Index(['text', 'id', 'pid', 'userid', 'emoji_count', 'has_media', 'URLcount',\n",
      "       'Skepticism', 'MentionCount', 'token_for_POS', 'FirstPersonPronoun',\n",
      "       'SecondPersonPronoun', 'ThirdPersonPronoun', 'test_auxiliary',\n",
      "       'test_tentat', 'test_certain', 'Numeral', 'char_count', 'word_count',\n",
      "       'HashTag', 'has_question', 'has_exclaim', 'has_period', 'retweet_count',\n",
      "       'isRT', 'statuses_count', 'listed_count', 'friends_count',\n",
      "       'followers_count', 'location', 'name', 'followers/friend',\n",
      "       'favourites_count', 'account_age_days', 'tweet_created',\n",
      "       'capital_ratio', 'verified', 'Event', 'isSrcTweet', 'target'],\n",
      "      dtype='object')\n"
     ]
    },
    {
     "data": {
      "text/html": "<div>\n<style scoped>\n    .dataframe tbody tr th:only-of-type {\n        vertical-align: middle;\n    }\n\n    .dataframe tbody tr th {\n        vertical-align: top;\n    }\n\n    .dataframe thead th {\n        text-align: right;\n    }\n</style>\n<table border=\"1\" class=\"dataframe\">\n  <thead>\n    <tr style=\"text-align: right;\">\n      <th></th>\n      <th>text</th>\n      <th>id</th>\n      <th>pid</th>\n      <th>userid</th>\n      <th>emoji_count</th>\n      <th>has_media</th>\n      <th>URLcount</th>\n      <th>Skepticism</th>\n      <th>MentionCount</th>\n      <th>token_for_POS</th>\n      <th>FirstPersonPronoun</th>\n      <th>SecondPersonPronoun</th>\n      <th>ThirdPersonPronoun</th>\n      <th>test_auxiliary</th>\n      <th>test_tentat</th>\n      <th>test_certain</th>\n      <th>Numeral</th>\n      <th>char_count</th>\n      <th>word_count</th>\n      <th>HashTag</th>\n      <th>has_question</th>\n      <th>has_exclaim</th>\n      <th>has_period</th>\n      <th>retweet_count</th>\n      <th>isRT</th>\n      <th>statuses_count</th>\n      <th>listed_count</th>\n      <th>friends_count</th>\n      <th>followers_count</th>\n      <th>location</th>\n      <th>name</th>\n      <th>followers/friend</th>\n      <th>favourites_count</th>\n      <th>account_age_days</th>\n      <th>tweet_created</th>\n      <th>capital_ratio</th>\n      <th>verified</th>\n      <th>Event</th>\n      <th>isSrcTweet</th>\n      <th>target</th>\n    </tr>\n  </thead>\n  <tbody>\n    <tr>\n      <th>0</th>\n      <td>@Mourinholic 😕😕 http://t.co/sFoV1v8uDo</td>\n      <td>521410632953131008</td>\n      <td>5.213691793925816e+17</td>\n      <td>159811191</td>\n      <td>2</td>\n      <td>1</td>\n      <td>0</td>\n      <td>2</td>\n      <td>1</td>\n      <td>[]</td>\n      <td>0</td>\n      <td>0</td>\n      <td>0</td>\n      <td>0</td>\n      <td>0</td>\n      <td>0</td>\n      <td>0</td>\n      <td>38</td>\n      <td>3</td>\n      <td>0</td>\n      <td>0</td>\n      <td>0</td>\n      <td>1</td>\n      <td>0</td>\n      <td>0</td>\n      <td>78030</td>\n      <td>16</td>\n      <td>1374</td>\n      <td>3636</td>\n      <td>Dortmund</td>\n      <td>#Jinxed</td>\n      <td>2.646288209606987</td>\n      <td>1088</td>\n      <td>1569</td>\n      <td>1413148956.0</td>\n      <td>0.10526315789473684</td>\n      <td>0</td>\n      <td>ebola-essien</td>\n      <td>0</td>\n      <td>1</td>\n    </tr>\n    <tr>\n      <th>1</th>\n      <td>“@Mourinholic: Micheal Essien denying the Ebola rumours like https://t.co/8Yo8iLgISS”</td>\n      <td>521373142347153409</td>\n      <td>5.213691793925816e+17</td>\n      <td>2338265452</td>\n      <td>0</td>\n      <td>0</td>\n      <td>1</td>\n      <td>5</td>\n      <td>1</td>\n      <td>[micheal, essien, denying, the, ebola, rumours, like]</td>\n      <td>0</td>\n      <td>0</td>\n      <td>0</td>\n      <td>0</td>\n      <td>0</td>\n      <td>0</td>\n      <td>0</td>\n      <td>85</td>\n      <td>9</td>\n      <td>0</td>\n      <td>0</td>\n      <td>0</td>\n      <td>1</td>\n      <td>0</td>\n      <td>0</td>\n      <td>3875</td>\n      <td>8</td>\n      <td>1261</td>\n      <td>1278</td>\n      <td>Stamford Bridge</td>\n      <td>Diegooooooooo</td>\n      <td>1.0134813639968279</td>\n      <td>62</td>\n      <td>242</td>\n      <td>1413140018.0</td>\n      <td>0.10588235294117647</td>\n      <td>0</td>\n      <td>ebola-essien</td>\n      <td>0</td>\n      <td>1</td>\n    </tr>\n    <tr>\n      <th>2</th>\n      <td>@Mourinholic Hmmm.</td>\n      <td>521369380249432064</td>\n      <td>5.213691793925816e+17</td>\n      <td>1042012837</td>\n      <td>0</td>\n      <td>0</td>\n      <td>0</td>\n      <td>1</td>\n      <td>1</td>\n      <td>[hmmm]</td>\n      <td>0</td>\n      <td>0</td>\n      <td>0</td>\n      <td>0</td>\n      <td>0</td>\n      <td>0</td>\n      <td>0</td>\n      <td>18</td>\n      <td>2</td>\n      <td>0</td>\n      <td>0</td>\n      <td>0</td>\n      <td>1</td>\n      <td>0</td>\n      <td>0</td>\n      <td>33334</td>\n      <td>15</td>\n      <td>78</td>\n      <td>1394</td>\n      <td>Cairo</td>\n      <td>Ahmed Wagih</td>\n      <td>17.871794871794872</td>\n      <td>2651</td>\n      <td>653</td>\n      <td>1413139121.0</td>\n      <td>0.1111111111111111</td>\n      <td>0</td>\n      <td>ebola-essien</td>\n      <td>0</td>\n      <td>1</td>\n    </tr>\n  </tbody>\n</table>\n</div>",
      "text/plain": "                                                                                    text  \\\n0                                                 @Mourinholic 😕😕 http://t.co/sFoV1v8uDo   \n1  “@Mourinholic: Micheal Essien denying the Ebola rumours like https://t.co/8Yo8iLgISS”   \n2                                                                     @Mourinholic Hmmm.   \n\n                   id                   pid      userid  emoji_count  \\\n0  521410632953131008 5.213691793925816e+17   159811191            2   \n1  521373142347153409 5.213691793925816e+17  2338265452            0   \n2  521369380249432064 5.213691793925816e+17  1042012837            0   \n\n   has_media  URLcount  Skepticism  MentionCount  \\\n0          1         0           2             1   \n1          0         1           5             1   \n2          0         0           1             1   \n\n                                           token_for_POS  FirstPersonPronoun  \\\n0                                                     []                   0   \n1  [micheal, essien, denying, the, ebola, rumours, like]                   0   \n2                                                 [hmmm]                   0   \n\n   SecondPersonPronoun  ThirdPersonPronoun  test_auxiliary  test_tentat  \\\n0                    0                   0               0            0   \n1                    0                   0               0            0   \n2                    0                   0               0            0   \n\n   test_certain  Numeral  char_count  word_count  HashTag  has_question  \\\n0             0        0          38           3        0             0   \n1             0        0          85           9        0             0   \n2             0        0          18           2        0             0   \n\n   has_exclaim  has_period  retweet_count isRT  statuses_count  listed_count  \\\n0            0           1              0    0           78030            16   \n1            0           1              0    0            3875             8   \n2            0           1              0    0           33334            15   \n\n   friends_count  followers_count         location           name  \\\n0           1374             3636         Dortmund       #Jinxed    \n1           1261             1278  Stamford Bridge  Diegooooooooo   \n2             78             1394            Cairo    Ahmed Wagih   \n\n    followers/friend  favourites_count  account_age_days  tweet_created  \\\n0  2.646288209606987              1088              1569   1413148956.0   \n1 1.0134813639968279                62               242   1413140018.0   \n2 17.871794871794872              2651               653   1413139121.0   \n\n        capital_ratio  verified         Event  isSrcTweet  target  \n0 0.10526315789473684         0  ebola-essien           0       1  \n1 0.10588235294117647         0  ebola-essien           0       1  \n2  0.1111111111111111         0  ebola-essien           0       1  "
     },
     "execution_count": 10,
     "metadata": {},
     "output_type": "execute_result"
    }
   ],
   "source": [
    "print(all_ext.shape)\n",
    "print(all_ext.columns)\n",
    "all_ext.head(3)"
   ]
  },
  {
   "cell_type": "code",
   "execution_count": 11,
   "metadata": {},
   "outputs": [
    {
     "name": "stdout",
     "output_type": "stream",
     "text": [
      "ebola-essien's structure.json number is 14\n",
      "prince-toronto's structure.json number is 233\n",
      "putinmissing's structure.json number is 238\n",
      "gurlitt's structure.json number is 138\n",
      "ebola-essien's annotated.json number is 14\n",
      "prince-toronto's annotated.json number is 233\n",
      "putinmissing's annotated.json number is 238\n",
      "gurlitt's annotated.json number is 138\n"
     ]
    }
   ],
   "source": [
    "import os\n",
    "# ext_structure = getThreadData(path, events)\n",
    "structure_ext, annotation_ext = getThreadData(path, events)\n",
    "annotation_ext = annotation_ext.replace({'0': 0}) "
   ]
  },
  {
   "cell_type": "code",
   "execution_count": 12,
   "metadata": {},
   "outputs": [
    {
     "data": {
      "text/plain": " 1    245\n-1    193\n 0    185\nName: misinformation, dtype: int64"
     },
     "execution_count": 12,
     "metadata": {},
     "output_type": "execute_result"
    }
   ],
   "source": [
    "annotation_ext.misinformation.value_counts()"
   ]
  },
  {
   "cell_type": "code",
   "execution_count": 13,
   "metadata": {},
   "outputs": [],
   "source": [
    "# structure_ext.to_csv('./data/all/_PHEMEext_structure.csv', index = False)"
   ]
  },
  {
   "cell_type": "markdown",
   "metadata": {},
   "source": [
    "### data looking"
   ]
  },
  {
   "cell_type": "code",
   "execution_count": null,
   "metadata": {},
   "outputs": [
    {
     "data": {
      "application/x.notebook.error-traceback": {
       "ename": "SyntaxError",
       "evalue": "invalid syntax (<ipython-input-186-33b1d2d62580>, line 1)",
       "traceback": [
        "\u001b[0;36m  File \u001b[0;32m\"<ipython-input-186-33b1d2d62580>\"\u001b[0;36m, line \u001b[0;32m1\u001b[0m\n\u001b[0;31m    mentionsum = np.sum([np.sum( df.loc[ df.loc[(df['id'] == int(childid))]['location'].values == ] ) for childid in structure.loc[index,:].dropna()])\u001b[0m\n\u001b[0m                                                                                                  ^\u001b[0m\n\u001b[0;31mSyntaxError\u001b[0m\u001b[0;31m:\u001b[0m invalid syntax\n"
       ]
      }
     },
     "output_type": "unknown"
    }
   ],
   "source": [
    "mentionsum = np.sum([np.sum( df.loc[ df.loc[(df['id'] == int(childid))]['location'].values == ] ) for childid in structure.loc[index,:].dropna()])"
   ]
  },
  {
   "cell_type": "code",
   "execution_count": null,
   "metadata": {},
   "outputs": [
    {
     "data": {
      "text/plain": "159811191"
     },
     "output_type": "unknown"
    }
   ],
   "source": [
    "p_userid = all_ext.loc[(all_ext['id'] == int(521410632953131008))].userid.sum()\n",
    "p_userid"
   ]
  },
  {
   "cell_type": "code",
   "execution_count": null,
   "metadata": {},
   "outputs": [
    {
     "data": {
      "text/plain": "16"
     },
     "output_type": "unknown"
    }
   ],
   "source": [
    "len(([np.sum(all_ext.loc[(all_ext['id'] == int(childid))]\n",
    "        ['userid'].values) for childid in structure_ext.loc[0, :].dropna()]))\n",
    "# len([np.sum(df.loc[(df['id'] == int(childid))]\n",
    "#         ['userid'].values) for childid in structure.loc[0, :].dropna()])"
   ]
  },
  {
   "cell_type": "code",
   "execution_count": null,
   "metadata": {},
   "outputs": [
    {
     "data": {
      "text/plain": "16"
     },
     "output_type": "unknown"
    }
   ],
   "source": [
    "len([childid for childid in structure_ext.loc[0, :].dropna()])"
   ]
  },
  {
   "cell_type": "code",
   "execution_count": 90,
   "metadata": {},
   "outputs": [],
   "source": [
    "p_userid = all_ext.loc[(all_ext['id'] == int(521410632953131008))].userid.sum()\n"
   ]
  },
  {
   "cell_type": "code",
   "execution_count": 91,
   "metadata": {},
   "outputs": [
    {
     "data": {
      "text/plain": "0.0625"
     },
     "execution_count": 91,
     "metadata": {},
     "output_type": "execute_result"
    }
   ],
   "source": [
    "# 루트 트윗 작성자가 쓰레드에서 차지하는 비율\n",
    "np.sum([np.any(all_ext.loc[(all_ext['id'] == int(childid)) & (all_ext['userid'] == p_userid)]['userid'].values) for childid in structure_ext.loc[0, :].dropna()]) / len([childid for childid in structure_ext.loc[0, :].dropna()])"
   ]
  },
  {
   "cell_type": "code",
   "execution_count": null,
   "metadata": {},
   "outputs": [
    {
     "data": {
      "text/plain": "13"
     },
     "output_type": "unknown"
    }
   ],
   "source": [
    "# 해당 쓰레드의 unique한 작성자 수\n",
    "len(np.unique([np.sum(all_ext.loc[(all_ext['id'] == int(childid))]['userid'].values) for childid in structure_ext.loc[0, :].dropna()]))"
   ]
  },
  {
   "cell_type": "code",
   "execution_count": null,
   "metadata": {},
   "outputs": [
    {
     "data": {
      "text/plain": "Root     521369179392581632\n0        521410632953131008\n1        521373142347153409\n2        521369380249432064\n3        521370496928337920\n4        521370224256614400\n5        521370771793670144\n6        521378607231279104\n7        521370530134626307\n8        521373433654157312\n9        521369485144387584\n10       521370061550809088\n11       521369671975858176\n12       521372372927266817\n13       521373960509079552\n14                     None\n15                     None\n16                     None\n17                     None\n18                     None\n19                     None\n20                     None\n21                     None\n22                     None\n23                     None\n24                     None\n25                     None\ndepth                     4\nName: 0, dtype: object"
     },
     "output_type": "unknown"
    }
   ],
   "source": [
    "structure_ext.loc[0,:]"
   ]
  },
  {
   "cell_type": "code",
   "execution_count": null,
   "metadata": {},
   "outputs": [
    {
     "data": {
      "text/plain": "0        159811191\n1       2338265452\n2       1042012837\n3         96820406\n4        159412087\n           ...    \n1958     563061700\n1959     267736380\n1960     512529194\n1961      34792486\n1962     218264459\nName: userid, Length: 1963, dtype: int64"
     },
     "output_type": "unknown"
    }
   ],
   "source": [
    "all_ext['userid']"
   ]
  },
  {
   "cell_type": "code",
   "execution_count": null,
   "metadata": {},
   "outputs": [
    {
     "data": {
      "application/x.notebook.error-traceback": {
       "ename": "ValueError",
       "evalue": "The truth value of a Series is ambiguous. Use a.empty, a.bool(), a.item(), a.any() or a.all().",
       "traceback": [
        "\u001b[0;31m---------------------------------------------------------------------------\u001b[0m",
        "\u001b[0;31mValueError\u001b[0m                                Traceback (most recent call last)",
        "\u001b[0;32m<ipython-input-89-154a418ce4d9>\u001b[0m in \u001b[0;36m<module>\u001b[0;34m\u001b[0m\n\u001b[0;32m----> 1\u001b[0;31m all_ext.loc[(all_ext['retweet_count'] > 0) and \n\u001b[0m\u001b[1;32m      2\u001b[0m     (all_ext.pid == 521369179392581632)][['verified', 'HashTag', 'URLcount',\n\u001b[1;32m      3\u001b[0m     'MentionCount', 'retweet_count', 'isSrcTweet', 'target']].sample(18)\n",
        "\u001b[0;32m~/miniconda3/envs/rosetta/lib/python3.8/site-packages/pandas/core/generic.py\u001b[0m in \u001b[0;36m__nonzero__\u001b[0;34m(self)\u001b[0m\n\u001b[1;32m   1439\u001b[0m     \u001b[0;34m@\u001b[0m\u001b[0mfinal\u001b[0m\u001b[0;34m\u001b[0m\u001b[0;34m\u001b[0m\u001b[0m\n\u001b[1;32m   1440\u001b[0m     \u001b[0;32mdef\u001b[0m \u001b[0m__nonzero__\u001b[0m\u001b[0;34m(\u001b[0m\u001b[0mself\u001b[0m\u001b[0;34m)\u001b[0m\u001b[0;34m:\u001b[0m\u001b[0;34m\u001b[0m\u001b[0;34m\u001b[0m\u001b[0m\n\u001b[0;32m-> 1441\u001b[0;31m         raise ValueError(\n\u001b[0m\u001b[1;32m   1442\u001b[0m             \u001b[0;34mf\"The truth value of a {type(self).__name__} is ambiguous. \"\u001b[0m\u001b[0;34m\u001b[0m\u001b[0;34m\u001b[0m\u001b[0m\n\u001b[1;32m   1443\u001b[0m             \u001b[0;34m\"Use a.empty, a.bool(), a.item(), a.any() or a.all().\"\u001b[0m\u001b[0;34m\u001b[0m\u001b[0;34m\u001b[0m\u001b[0m\n",
        "\u001b[0;31mValueError\u001b[0m: The truth value of a Series is ambiguous. Use a.empty, a.bool(), a.item(), a.any() or a.all()."
       ]
      }
     },
     "output_type": "unknown"
    }
   ],
   "source": [
    "all_ext.loc[(all_ext['location'] == and \n",
    "    (all_ext.pid == 521369179392581632)][['verified', 'HashTag', 'URLcount',\n",
    "    'MentionCount', 'retweet_count', 'isSrcTweet', 'target']].sample(18)\n"
   ]
  },
  {
   "cell_type": "code",
   "execution_count": null,
   "metadata": {},
   "outputs": [
    {
     "data": {
      "text/html": "<div>\n<style scoped>\n    .dataframe tbody tr th:only-of-type {\n        vertical-align: middle;\n    }\n\n    .dataframe tbody tr th {\n        vertical-align: top;\n    }\n\n    .dataframe thead th {\n        text-align: right;\n    }\n</style>\n<table border=\"1\" class=\"dataframe\">\n  <thead>\n    <tr style=\"text-align: right;\">\n      <th></th>\n      <th>location</th>\n      <th>name</th>\n    </tr>\n  </thead>\n  <tbody>\n    <tr>\n      <th>0</th>\n      <td>Dortmund</td>\n      <td>#Jinxed</td>\n    </tr>\n    <tr>\n      <th>1</th>\n      <td>Stamford Bridge</td>\n      <td>Diegooooooooo</td>\n    </tr>\n    <tr>\n      <th>2</th>\n      <td>Cairo</td>\n      <td>Ahmed Wagih</td>\n    </tr>\n    <tr>\n      <th>3</th>\n      <td></td>\n      <td>Matthew Terzian</td>\n    </tr>\n    <tr>\n      <th>4</th>\n      <td></td>\n      <td>Rashad</td>\n    </tr>\n    <tr>\n      <th>...</th>\n      <td>...</td>\n      <td>...</td>\n    </tr>\n    <tr>\n      <th>1958</th>\n      <td></td>\n      <td>Andrew Stuttaford</td>\n    </tr>\n    <tr>\n      <th>1959</th>\n      <td>Idaho</td>\n      <td>Jon Muench</td>\n    </tr>\n    <tr>\n      <th>1960</th>\n      <td></td>\n      <td>DigoriePiper</td>\n    </tr>\n    <tr>\n      <th>1961</th>\n      <td>NYC</td>\n      <td>Andrea Chalupa</td>\n    </tr>\n    <tr>\n      <th>1962</th>\n      <td>la terra firma</td>\n      <td>°•.༺•way❇seer•༻*°•.*</td>\n    </tr>\n  </tbody>\n</table>\n<p>1963 rows × 2 columns</p>\n</div>",
      "text/plain": "             location                  name\n0            Dortmund              #Jinxed \n1     Stamford Bridge         Diegooooooooo\n2               Cairo           Ahmed Wagih\n3                           Matthew Terzian\n4                                    Rashad\n...               ...                   ...\n1958                      Andrew Stuttaford\n1959            Idaho            Jon Muench\n1960                           DigoriePiper\n1961              NYC        Andrea Chalupa\n1962   la terra firma  °•.༺•way❇seer•༻*°•.*\n\n[1963 rows x 2 columns]"
     },
     "output_type": "unknown"
    }
   ],
   "source": [
    "# all_ext[['test_auxiliary','test_tentat','test_certain']].value_counts()\n",
    "# final_ext[['test_auxiliary','test_tentat','test_certain']].value_counts()\n",
    "all_ext[['location', 'name']]"
   ]
  },
  {
   "cell_type": "code",
   "execution_count": null,
   "metadata": {},
   "outputs": [
    {
     "data": {
      "text/html": "<div>\n<style scoped>\n    .dataframe tbody tr th:only-of-type {\n        vertical-align: middle;\n    }\n\n    .dataframe tbody tr th {\n        vertical-align: top;\n    }\n\n    .dataframe thead th {\n        text-align: right;\n    }\n</style>\n<table border=\"1\" class=\"dataframe\">\n  <thead>\n    <tr style=\"text-align: right;\">\n      <th></th>\n      <th>text</th>\n      <th>test_auxiliary</th>\n      <th>test_tentat</th>\n      <th>test_certain</th>\n    </tr>\n  </thead>\n  <tbody>\n    <tr>\n      <th>1</th>\n      <td>No truth in internet rumours that I have contracted Ebola.i m very well &amp;amp; I'm doing very gud &amp;amp; will be training as usual tomorrow.#falsenews</td>\n      <td>4</td>\n      <td>0</td>\n      <td>0</td>\n    </tr>\n    <tr>\n      <th>4</th>\n      <td>Milan have stated that the reports about Essien having Ebola are completely false.\\nhttp://t.co/Sb9v9ulfTX\\n@MichaelEssien</td>\n      <td>1</td>\n      <td>0</td>\n      <td>0</td>\n    </tr>\n    <tr>\n      <th>5</th>\n      <td>I'm very fit and very healthy,No truth in the internet rumours that I have contracted Ebola.im well &amp;amp;… http://t.co/TGidyI5JVG</td>\n      <td>2</td>\n      <td>0</td>\n      <td>0</td>\n    </tr>\n    <tr>\n      <th>9</th>\n      <td>AC Milan have denied reports that midfielder Michael Essien has contracted Ebola while on national duty with Ghana #SSFootball</td>\n      <td>1</td>\n      <td>0</td>\n      <td>0</td>\n    </tr>\n    <tr>\n      <th>13</th>\n      <td>AC Milan have confirmed that the reports about Michael Essien having Ebola are completely false.</td>\n      <td>1</td>\n      <td>0</td>\n      <td>0</td>\n    </tr>\n    <tr>\n      <th>...</th>\n      <td>...</td>\n      <td>...</td>\n      <td>...</td>\n      <td>...</td>\n    </tr>\n    <tr>\n      <th>471</th>\n      <td>Why do I see tanks in front of Moscow Mayor's office? #putinmissing</td>\n      <td>1</td>\n      <td>0</td>\n      <td>0</td>\n    </tr>\n    <tr>\n      <th>477</th>\n      <td>Stauffenberg meant well, but killing Hitler in July 1944 would have left Germany @ war, under control of Generals &amp;amp; NSDAP types. #PutinDead</td>\n      <td>2</td>\n      <td>0</td>\n      <td>0</td>\n    </tr>\n    <tr>\n      <th>478</th>\n      <td>We've sussed it. The Kremlin's getting ready for St Patrick's Day ;) #putinmissing #putindead http://t.co/J4aOEUv4gl</td>\n      <td>3</td>\n      <td>0</td>\n      <td>0</td>\n    </tr>\n    <tr>\n      <th>479</th>\n      <td>There was no coup in #Ukraine, #Putin now admits he was the one who urged Yanukovych to flee the country. http://t.co/Zx6ZaC5osy</td>\n      <td>2</td>\n      <td>0</td>\n      <td>0</td>\n    </tr>\n    <tr>\n      <th>483</th>\n      <td>Putin juggling enough instability. He would make a live appearance by now to squash death/coup jitters.</td>\n      <td>1</td>\n      <td>0</td>\n      <td>0</td>\n    </tr>\n  </tbody>\n</table>\n<p>301 rows × 4 columns</p>\n</div>",
      "text/plain": "                                                                                                                                                     text  \\\n1    No truth in internet rumours that I have contracted Ebola.i m very well &amp; I'm doing very gud &amp; will be training as usual tomorrow.#falsenews   \n4                              Milan have stated that the reports about Essien having Ebola are completely false.\\nhttp://t.co/Sb9v9ulfTX\\n@MichaelEssien   \n5                       I'm very fit and very healthy,No truth in the internet rumours that I have contracted Ebola.im well &amp;… http://t.co/TGidyI5JVG   \n9                          AC Milan have denied reports that midfielder Michael Essien has contracted Ebola while on national duty with Ghana #SSFootball   \n13                                                       AC Milan have confirmed that the reports about Michael Essien having Ebola are completely false.   \n..                                                                                                                                                    ...   \n471                                                                                   Why do I see tanks in front of Moscow Mayor's office? #putinmissing   \n477       Stauffenberg meant well, but killing Hitler in July 1944 would have left Germany @ war, under control of Generals &amp; NSDAP types. #PutinDead   \n478                                  We've sussed it. The Kremlin's getting ready for St Patrick's Day ;) #putinmissing #putindead http://t.co/J4aOEUv4gl   \n479                      There was no coup in #Ukraine, #Putin now admits he was the one who urged Yanukovych to flee the country. http://t.co/Zx6ZaC5osy   \n483                                               Putin juggling enough instability. He would make a live appearance by now to squash death/coup jitters.   \n\n     test_auxiliary  test_tentat  test_certain  \n1                 4            0             0  \n4                 1            0             0  \n5                 2            0             0  \n9                 1            0             0  \n13                1            0             0  \n..              ...          ...           ...  \n471               1            0             0  \n477               2            0             0  \n478               3            0             0  \n479               2            0             0  \n483               1            0             0  \n\n[301 rows x 4 columns]"
     },
     "output_type": "unknown"
    }
   ],
   "source": [
    "# all_ext[['text','test_auxiliary','test_tentat','test_certain']].loc[(all_ext.test_auxiliary > 0)|(all_ext.test_tentat > 0)]\n",
    "final_ext[['text','test_auxiliary','test_tentat','test_certain']].loc[(final_ext.test_auxiliary > 0)|(final_ext.test_tentat > 0)]"
   ]
  },
  {
   "cell_type": "markdown",
   "metadata": {},
   "source": [
    "### Next"
   ]
  },
  {
   "cell_type": "markdown",
   "metadata": {},
   "source": [
    "## PHEMEext Thread data PROCESS"
   ]
  },
  {
   "cell_type": "code",
   "execution_count": 22,
   "metadata": {},
   "outputs": [
    {
     "name": "stdout",
     "output_type": "stream",
     "text": [
      "(2142, 40) (623, 28)\n"
     ]
    }
   ],
   "source": [
    "all_ext = pd.read_csv(\"./data/all/_PHEMEextall.csv\")\n",
    "structure_ext = pd.read_csv(\"./data/all/_PHEMEext_structure.csv\")\n",
    "ext_y = pd.read_csv('./data/_PHEMEext_text.csv').target\n",
    "print(all_ext.shape, structure_ext.shape)"
   ]
  },
  {
   "cell_type": "code",
   "execution_count": 23,
   "metadata": {},
   "outputs": [
    {
     "data": {
      "text/html": "<div>\n<style scoped>\n    .dataframe tbody tr th:only-of-type {\n        vertical-align: middle;\n    }\n\n    .dataframe tbody tr th {\n        vertical-align: top;\n    }\n\n    .dataframe thead th {\n        text-align: right;\n    }\n</style>\n<table border=\"1\" class=\"dataframe\">\n  <thead>\n    <tr style=\"text-align: right;\">\n      <th></th>\n      <th>NodeThreadCount_0</th>\n      <th>NodeThreadCount_25</th>\n      <th>NodeThreadCount_5</th>\n      <th>NodeThreadCount_75</th>\n      <th>NodeThreadRatio_0</th>\n      <th>NodeThreadRatio_25</th>\n      <th>NodeThreadRatio_5</th>\n      <th>NodeThreadRatio_75</th>\n    </tr>\n  </thead>\n  <tbody>\n    <tr>\n      <th>0</th>\n      <td>14</td>\n      <td>0</td>\n      <td>0</td>\n      <td>1</td>\n      <td>0.9333333333333333</td>\n      <td>0.0</td>\n      <td>0.0</td>\n      <td>0.06666666666666667</td>\n    </tr>\n    <tr>\n      <th>1</th>\n      <td>18</td>\n      <td>0</td>\n      <td>0</td>\n      <td>1</td>\n      <td>0.9473684210526315</td>\n      <td>0.0</td>\n      <td>0.0</td>\n      <td>0.05263157894736842</td>\n    </tr>\n    <tr>\n      <th>2</th>\n      <td>3</td>\n      <td>1</td>\n      <td>0</td>\n      <td>3</td>\n      <td>0.42857142857142855</td>\n      <td>0.14285714285714285</td>\n      <td>0.0</td>\n      <td>0.42857142857142855</td>\n    </tr>\n    <tr>\n      <th>3</th>\n      <td>6</td>\n      <td>3</td>\n      <td>1</td>\n      <td>3</td>\n      <td>0.46153846153846156</td>\n      <td>0.23076923076923078</td>\n      <td>0.07692307692307693</td>\n      <td>0.23076923076923078</td>\n    </tr>\n    <tr>\n      <th>4</th>\n      <td>4</td>\n      <td>0</td>\n      <td>0</td>\n      <td>1</td>\n      <td>0.8</td>\n      <td>0.0</td>\n      <td>0.0</td>\n      <td>0.2</td>\n    </tr>\n    <tr>\n      <th>...</th>\n      <td>...</td>\n      <td>...</td>\n      <td>...</td>\n      <td>...</td>\n      <td>...</td>\n      <td>...</td>\n      <td>...</td>\n      <td>...</td>\n    </tr>\n    <tr>\n      <th>618</th>\n      <td>0</td>\n      <td>0</td>\n      <td>0</td>\n      <td>1</td>\n      <td>0.0</td>\n      <td>0.0</td>\n      <td>0.0</td>\n      <td>1.0</td>\n    </tr>\n    <tr>\n      <th>619</th>\n      <td>0</td>\n      <td>0</td>\n      <td>0</td>\n      <td>1</td>\n      <td>0.0</td>\n      <td>0.0</td>\n      <td>0.0</td>\n      <td>1.0</td>\n    </tr>\n    <tr>\n      <th>620</th>\n      <td>0</td>\n      <td>0</td>\n      <td>0</td>\n      <td>1</td>\n      <td>0.0</td>\n      <td>0.0</td>\n      <td>0.0</td>\n      <td>1.0</td>\n    </tr>\n    <tr>\n      <th>621</th>\n      <td>1</td>\n      <td>0</td>\n      <td>0</td>\n      <td>1</td>\n      <td>0.5</td>\n      <td>0.0</td>\n      <td>0.0</td>\n      <td>0.5</td>\n    </tr>\n    <tr>\n      <th>622</th>\n      <td>0</td>\n      <td>0</td>\n      <td>0</td>\n      <td>1</td>\n      <td>0.0</td>\n      <td>0.0</td>\n      <td>0.0</td>\n      <td>1.0</td>\n    </tr>\n  </tbody>\n</table>\n<p>623 rows × 8 columns</p>\n</div>",
      "text/plain": "     NodeThreadCount_0  NodeThreadCount_25  NodeThreadCount_5  \\\n0                   14                   0                  0   \n1                   18                   0                  0   \n2                    3                   1                  0   \n3                    6                   3                  1   \n4                    4                   0                  0   \n..                 ...                 ...                ...   \n618                  0                   0                  0   \n619                  0                   0                  0   \n620                  0                   0                  0   \n621                  1                   0                  0   \n622                  0                   0                  0   \n\n     NodeThreadCount_75   NodeThreadRatio_0  NodeThreadRatio_25  \\\n0                     1  0.9333333333333333                 0.0   \n1                     1  0.9473684210526315                 0.0   \n2                     3 0.42857142857142855 0.14285714285714285   \n3                     3 0.46153846153846156 0.23076923076923078   \n4                     1                 0.8                 0.0   \n..                  ...                 ...                 ...   \n618                   1                 0.0                 0.0   \n619                   1                 0.0                 0.0   \n620                   1                 0.0                 0.0   \n621                   1                 0.5                 0.0   \n622                   1                 0.0                 0.0   \n\n      NodeThreadRatio_5  NodeThreadRatio_75  \n0                   0.0 0.06666666666666667  \n1                   0.0 0.05263157894736842  \n2                   0.0 0.42857142857142855  \n3   0.07692307692307693 0.23076923076923078  \n4                   0.0                 0.2  \n..                  ...                 ...  \n618                 0.0                 1.0  \n619                 0.0                 1.0  \n620                 0.0                 1.0  \n621                 0.0                 0.5  \n622                 0.0                 1.0  \n\n[623 rows x 8 columns]"
     },
     "execution_count": 23,
     "metadata": {},
     "output_type": "execute_result"
    }
   ],
   "source": [
    "ext_thread_avg = getThreadInfo_AVG(structure_ext, all_ext)\n",
    "# ext_thread_std = getThreadInfo_noAVG(structure_ext, all_ext)\n",
    "ext_thread_avg[['NodeThreadCount_0', 'NodeThreadCount_25', 'NodeThreadCount_5', 'NodeThreadCount_75', 'NodeThreadRatio_0', 'NodeThreadRatio_25', 'NodeThreadRatio_5', 'NodeThreadRatio_75']]"
   ]
  },
  {
   "cell_type": "code",
   "execution_count": 24,
   "metadata": {},
   "outputs": [
    {
     "data": {
      "text/plain": "Index(['depth', 'SUM FriendsCount', 'AVG FriendsCount', 'AVG WordCount',\n       'SUM WordCount', 'AVG CharCount', 'AVG HashTag', 'SUM HashTag',\n       'Ratio HashTag', 'SUM Url', 'AVG Url', 'RATIO Url', 'SUM Mention',\n       'AVG Mention', 'Ratio Mention', 'AVG Statues', 'AVG Listed',\n       'AVG Follower', 'AVG followers/friend', 'AVG favorite', 'Tweets Count',\n       'Ratio Verified', 'SUM Verified', 'SUM RT', 'AVG RT', 'AVG AccAge',\n       'thread_time', 'AVG Emoji', 'RATIO Emoji', 'Ratio Media',\n       'RATIO Question', 'RATIO Exclaim', 'RATIO Period', 'AVG FPP', 'AVG SPP',\n       'AVG TPP', 'AVG Skepticism', 'Ratio Skepticism', 'test_auxiliary',\n       'test_tentat', 'test_certain', 'root_user_ratio', 'unique_user_ratio',\n       'unique_user_sum', 'NodeThreadCount_0', 'NodeThreadCount_25',\n       'NodeThreadCount_5', 'NodeThreadCount_75', 'NodeThreadRatio_0',\n       'NodeThreadRatio_25', 'NodeThreadRatio_5', 'NodeThreadRatio_75'],\n      dtype='object')"
     },
     "execution_count": 24,
     "metadata": {},
     "output_type": "execute_result"
    }
   ],
   "source": [
    "ext_thread_avg.columns"
   ]
  },
  {
   "cell_type": "code",
   "execution_count": 25,
   "metadata": {},
   "outputs": [],
   "source": [
    "ext_thread_avg.to_csv('./data/_PHEMEext_thread_avg.csv', index = False)\n",
    "# ext_thread_std.to_csv('./data/_PHEMEext_thread_std.csv', index = False)"
   ]
  },
  {
   "cell_type": "code",
   "execution_count": 204,
   "metadata": {},
   "outputs": [
    {
     "data": {
      "text/html": "<div>\n<style scoped>\n    .dataframe tbody tr th:only-of-type {\n        vertical-align: middle;\n    }\n\n    .dataframe tbody tr th {\n        vertical-align: top;\n    }\n\n    .dataframe thead th {\n        text-align: right;\n    }\n</style>\n<table border=\"1\" class=\"dataframe\">\n  <thead>\n    <tr style=\"text-align: right;\">\n      <th></th>\n      <th>NodeThreadCount 0</th>\n      <th>NodeThreadCount 0.25</th>\n      <th>NodeThreadCount 0.5</th>\n      <th>NodeThreadCount 0.75</th>\n      <th>NodeThreadRatio 0</th>\n      <th>NodeThreadRatio 0.25</th>\n      <th>NodeThreadRatio 0.5</th>\n      <th>NodeThreadRatio 0.75</th>\n    </tr>\n  </thead>\n  <tbody>\n    <tr>\n      <th>0</th>\n      <td>14</td>\n      <td>0</td>\n      <td>0</td>\n      <td>1</td>\n      <td>0.9333333333333333</td>\n      <td>0.0</td>\n      <td>0.0</td>\n      <td>0.06666666666666667</td>\n    </tr>\n    <tr>\n      <th>1</th>\n      <td>18</td>\n      <td>0</td>\n      <td>0</td>\n      <td>1</td>\n      <td>0.9473684210526315</td>\n      <td>0.0</td>\n      <td>0.0</td>\n      <td>0.05263157894736842</td>\n    </tr>\n    <tr>\n      <th>2</th>\n      <td>3</td>\n      <td>1</td>\n      <td>0</td>\n      <td>3</td>\n      <td>0.42857142857142855</td>\n      <td>0.14285714285714285</td>\n      <td>0.0</td>\n      <td>0.42857142857142855</td>\n    </tr>\n    <tr>\n      <th>3</th>\n      <td>6</td>\n      <td>3</td>\n      <td>1</td>\n      <td>3</td>\n      <td>0.46153846153846156</td>\n      <td>0.23076923076923078</td>\n      <td>0.07692307692307693</td>\n      <td>0.23076923076923078</td>\n    </tr>\n    <tr>\n      <th>4</th>\n      <td>4</td>\n      <td>0</td>\n      <td>0</td>\n      <td>1</td>\n      <td>0.8</td>\n      <td>0.0</td>\n      <td>0.0</td>\n      <td>0.2</td>\n    </tr>\n    <tr>\n      <th>5</th>\n      <td>18</td>\n      <td>1</td>\n      <td>0</td>\n      <td>1</td>\n      <td>0.9</td>\n      <td>0.05</td>\n      <td>0.0</td>\n      <td>0.05</td>\n    </tr>\n    <tr>\n      <th>6</th>\n      <td>11</td>\n      <td>5</td>\n      <td>1</td>\n      <td>10</td>\n      <td>0.4074074074074074</td>\n      <td>0.18518518518518517</td>\n      <td>0.037037037037037035</td>\n      <td>0.37037037037037035</td>\n    </tr>\n    <tr>\n      <th>7</th>\n      <td>7</td>\n      <td>0</td>\n      <td>0</td>\n      <td>2</td>\n      <td>0.7777777777777778</td>\n      <td>0.0</td>\n      <td>0.0</td>\n      <td>0.2222222222222222</td>\n    </tr>\n    <tr>\n      <th>8</th>\n      <td>4</td>\n      <td>3</td>\n      <td>0</td>\n      <td>3</td>\n      <td>0.4</td>\n      <td>0.3</td>\n      <td>0.0</td>\n      <td>0.3</td>\n    </tr>\n    <tr>\n      <th>9</th>\n      <td>13</td>\n      <td>1</td>\n      <td>1</td>\n      <td>1</td>\n      <td>0.8125</td>\n      <td>0.0625</td>\n      <td>0.0625</td>\n      <td>0.0625</td>\n    </tr>\n  </tbody>\n</table>\n</div>",
      "text/plain": "   NodeThreadCount 0  NodeThreadCount 0.25  NodeThreadCount 0.5  \\\n0                 14                     0                    0   \n1                 18                     0                    0   \n2                  3                     1                    0   \n3                  6                     3                    1   \n4                  4                     0                    0   \n5                 18                     1                    0   \n6                 11                     5                    1   \n7                  7                     0                    0   \n8                  4                     3                    0   \n9                 13                     1                    1   \n\n   NodeThreadCount 0.75   NodeThreadRatio 0  NodeThreadRatio 0.25  \\\n0                     1  0.9333333333333333                   0.0   \n1                     1  0.9473684210526315                   0.0   \n2                     3 0.42857142857142855   0.14285714285714285   \n3                     3 0.46153846153846156   0.23076923076923078   \n4                     1                 0.8                   0.0   \n5                     1                 0.9                  0.05   \n6                    10  0.4074074074074074   0.18518518518518517   \n7                     2  0.7777777777777778                   0.0   \n8                     3                 0.4                   0.3   \n9                     1              0.8125                0.0625   \n\n   NodeThreadRatio 0.5  NodeThreadRatio 0.75  \n0                  0.0   0.06666666666666667  \n1                  0.0   0.05263157894736842  \n2                  0.0   0.42857142857142855  \n3  0.07692307692307693   0.23076923076923078  \n4                  0.0                   0.2  \n5                  0.0                  0.05  \n6 0.037037037037037035   0.37037037037037035  \n7                  0.0    0.2222222222222222  \n8                  0.0                   0.3  \n9               0.0625                0.0625  "
     },
     "execution_count": 204,
     "metadata": {},
     "output_type": "execute_result"
    }
   ],
   "source": [
    "tweetInfo = []\n",
    "thread_range_count = []\n",
    "thread_range_ratio = []\n",
    "\n",
    "structure = structure_ext.drop(['depth'], axis=1)\n",
    "for index, data in enumerate(structure.Root[:10]):\n",
    "    pid = int(data)\n",
    "    thread_node_count = len([childid for childid in structure.loc[index,:].dropna()]) \n",
    "\n",
    "    thread_life = np.max([np.sum(all_ext.loc[(all_ext['id'] == childid)]['tweet_created']) for childid in structure.loc[index,:].dropna()] - all_ext.loc[(all_ext['id'] == pid)].tweet_created.sum())\n",
    "    thread_nodes_created = [np.sum(all_ext.loc[(all_ext['id'] == childid)]['tweet_created']) for childid in structure.loc[index,:].dropna()] - all_ext.loc[(all_ext['id'] == pid)].tweet_created.sum()\n",
    "    # print(\"thread_nodes_created\",thread_nodes_created)\n",
    "    # print(\"thread_life\",thread_life)\n",
    "\n",
    "    thread_range = [0,thread_life*0.25, thread_life*0.5, thread_life*0.75]\n",
    "    # print(thread_range)\n",
    "    thread_temp = np.digitize(thread_nodes_created, bins= [thread_range[0],thread_range[1],thread_range[2],thread_range[3]])\n",
    "    # print(\"thread_temp\",thread_temp)\n",
    "\n",
    "    thread_range_count.append(np.bincount(thread_temp)[1:])\n",
    "    # print(\"thread temp binconunt:\",np.bincount(thread_temp)[1:])\n",
    "    thread_range_ratio.append(np.bincount(thread_temp)[1:]/thread_node_count)\n",
    "    # a,b,c,d = np.bincount(thread_temp)[1:]\n",
    "\n",
    "    # tweetInfo.append([thread_life, thread_nodes_created, thread_range, thread_range_count, thread_range_ratio])\n",
    "df1 = pd.DataFrame(thread_range_count,columns=['NodeThreadCount 0','NodeThreadCount 0.25','NodeThreadCount 0.5','NodeThreadCount 0.75',])\n",
    "df2 = pd.DataFrame(thread_range_ratio,columns=['NodeThreadRatio 0','NodeThreadRatio 0.25','NodeThreadRatio 0.5','NodeThreadRatio 0.75',])\n",
    "ext_thread_time_df = pd.concat([df1,df2],axis=1)\n",
    "ext_thread_time_df\n"
   ]
  },
  {
   "cell_type": "code",
   "execution_count": 60,
   "metadata": {},
   "outputs": [
    {
     "data": {
      "text/html": "<div>\n<style scoped>\n    .dataframe tbody tr th:only-of-type {\n        vertical-align: middle;\n    }\n\n    .dataframe tbody tr th {\n        vertical-align: top;\n    }\n\n    .dataframe thead th {\n        text-align: right;\n    }\n</style>\n<table border=\"1\" class=\"dataframe\">\n  <thead>\n    <tr style=\"text-align: right;\">\n      <th></th>\n      <th>NodeThreadCount 0</th>\n      <th>NodeThreadCount 0.25</th>\n      <th>NodeThreadCount 0.5</th>\n      <th>NodeThreadCount 0.75</th>\n    </tr>\n  </thead>\n  <tbody>\n    <tr>\n      <th>0</th>\n      <td>14</td>\n      <td>0</td>\n      <td>0</td>\n      <td>1</td>\n    </tr>\n    <tr>\n      <th>1</th>\n      <td>18</td>\n      <td>0</td>\n      <td>0</td>\n      <td>1</td>\n    </tr>\n  </tbody>\n</table>\n</div>",
      "text/plain": "   NodeThreadCount 0  NodeThreadCount 0.25  NodeThreadCount 0.5  \\\n0                 14                     0                    0   \n1                 18                     0                    0   \n\n   NodeThreadCount 0.75  \n0                     1  \n1                     1  "
     },
     "execution_count": 60,
     "metadata": {},
     "output_type": "execute_result"
    }
   ],
   "source": [
    "df1\n"
   ]
  },
  {
   "cell_type": "code",
   "execution_count": 61,
   "metadata": {},
   "outputs": [
    {
     "data": {
      "text/plain": "(18, 0, 0, 1)"
     },
     "execution_count": 61,
     "metadata": {},
     "output_type": "execute_result"
    }
   ],
   "source": [
    "a,b,c,d"
   ]
  },
  {
   "cell_type": "markdown",
   "metadata": {},
   "source": [
    "# Logify the result"
   ]
  },
  {
   "cell_type": "markdown",
   "metadata": {},
   "source": [
    "## 👇 Thread 정보만을 추출한 결과\n",
    "아래의 Features들은 모두 한 Root 트윗에 달린 Thread의 정보를 포함한다.\n",
    "\n",
    "---"
   ]
  },
  {
   "cell_type": "code",
   "execution_count": null,
   "metadata": {},
   "outputs": [],
   "source": [
    "pheme_thread = pd.read_csv(\"./data/_PHEME_thread.csv\")\n",
    "pheme_all = pd.read_csv(\"./data/all/_PHEMEall.csv\")\n",
    "ext_thread = pd.read_csv(\"./data/_PHEMEext_thread.csv\")\n",
    "pheme_thread_avg = pd.read_csv(\"./data/_PHEME_thread_avg.csv\")\n",
    "ext_thread_avg = pd.read_csv(\"./data/_PHEMEext_thread_avg.csv\")\n",
    "# pheme_thread.info()"
   ]
  },
  {
   "cell_type": "code",
   "execution_count": null,
   "metadata": {},
   "outputs": [],
   "source": [
    "# ext_thread_avg.drop(['unique_user_sum'],axis=1).to_csv('./data/_PHEMEext_thread_avg.csv', index = False)"
   ]
  },
  {
   "cell_type": "code",
   "execution_count": null,
   "metadata": {},
   "outputs": [],
   "source": [
    "# pheme_thread_avg.drop(['unique_user_sum'],axis=1).to_csv('./data/_PHEME_thread_avg.csv', index = False)"
   ]
  },
  {
   "cell_type": "code",
   "execution_count": null,
   "metadata": {},
   "outputs": [
    {
     "data": {
      "application/x.notebook.stdout": "depth : -0.06069342688788918\nSUM FriendsCount : -0.02849670644317242\nAVG FriendsCount : -0.01791733369155535\nAVG WordCount : -0.028745368201758378\nSUM WordCount : -0.06583157549165951\nAVG CharCount : -0.0585156573504035\nAVG HashTag : -0.057490549769171874\nSUM HashTag : -0.08296439012596422\nRatio HashTag : -0.05857458130737733\nSUM Url : 0.029197375686576665\nAVG Url : 0.06221989854036648\nRATIO Url : 0.07631115413175521\nSUM Mention : -0.0679570357194177\nAVG Mention : -0.049483105861974686\nRatio Mention : -0.008546730515521198\nAVG Statues : -0.01618409039938384\nAVG Listed : 0.013503370206689638\nAVG Follower : 0.0742321229337662\nAVG followers/friend : 0.058667527840588186\nAVG favorite : -0.019431616893236844\nTweets Count : -0.06609829968334364\nRatio Verified : 0.06967897492773252\nSUM Verified : 0.02472399503205972\nSUM RT : -0.03489936869947932\nAVG RT : -0.028877087864229267\nAVG AccAge : 0.0328554654001057\nthread_time : -0.1155786014640931\nAVG Emoji : -0.02932855173423856\nRATIO Emoji : -0.016384882367784476\nRatio Media : -0.09314308316176101\nRATIO Question : -0.005989377712117246\nRATIO Exclaim : -0.058622874185368906\nRATIO Period : -0.05938796457234243\nAVG FPP : -0.18118515882862224\nAVG SPP : -0.1603819613841158\nAVG TPP : 0.013960176308594596\nAVG Skepticism : -0.08496878134829235\nRatio Skepticism : -0.04536064589174023\ntest_auxiliary : -0.03989234406667594\ntest_tentat : 0.004956319873359622\ntest_certain : -0.051526129730133145\nroot_user_ratio : 0.0056548920042725735\nunique_user_ratio : 0.005654892004272539\n"
     },
     "output_type": "unknown"
    }
   ],
   "source": [
    "# for data in ext_thread.columns:\n",
    "#     print(data,\":\",ext_thread[data].corr(ext_y))\n",
    "for data in pheme_thread_avg.columns:\n",
    "    print(data,\":\",pheme_thread_avg[data].corr(pheme_y))"
   ]
  },
  {
   "cell_type": "code",
   "execution_count": null,
   "metadata": {},
   "outputs": [
    {
     "data": {
      "text/html": "<div>\n<style scoped>\n    .dataframe tbody tr th:only-of-type {\n        vertical-align: middle;\n    }\n\n    .dataframe tbody tr th {\n        vertical-align: top;\n    }\n\n    .dataframe thead th {\n        text-align: right;\n    }\n</style>\n<table border=\"1\" class=\"dataframe\">\n  <thead>\n    <tr style=\"text-align: right;\">\n      <th></th>\n      <th>depth</th>\n      <th>SUM FriendsCount</th>\n      <th>AVG FriendsCount</th>\n      <th>AVG WordCount</th>\n      <th>SUM WordCount</th>\n      <th>AVG CharCount</th>\n      <th>AVG HashTag</th>\n      <th>SUM HashTag</th>\n      <th>Ratio HashTag</th>\n      <th>SUM Url</th>\n      <th>AVG Url</th>\n      <th>RATIO Url</th>\n      <th>SUM Mention</th>\n      <th>AVG Mention</th>\n      <th>Ratio Mention</th>\n      <th>AVG Statues</th>\n      <th>AVG Listed</th>\n      <th>AVG Follower</th>\n      <th>AVG followers/friend</th>\n      <th>AVG favorite</th>\n      <th>Tweets Count</th>\n      <th>Ratio Verified</th>\n      <th>SUM Verified</th>\n      <th>SUM RT</th>\n      <th>AVG RT</th>\n      <th>AVG AccAge</th>\n      <th>thread_time</th>\n      <th>AVG Emoji</th>\n      <th>RATIO Emoji</th>\n      <th>Ratio Media</th>\n      <th>RATIO Question</th>\n      <th>RATIO Exclaim</th>\n      <th>RATIO Period</th>\n      <th>AVG FPP</th>\n      <th>AVG SPP</th>\n      <th>AVG TPP</th>\n      <th>AVG Skepticism</th>\n      <th>Ratio Skepticism</th>\n    </tr>\n  </thead>\n  <tbody>\n    <tr>\n      <th>count</th>\n      <td>485.00000</td>\n      <td>485.00000</td>\n      <td>485.00000</td>\n      <td>485.00000</td>\n      <td>485.00000</td>\n      <td>485.00000</td>\n      <td>485.00000</td>\n      <td>485.00000</td>\n      <td>485.00000</td>\n      <td>485.00000</td>\n      <td>485.00000</td>\n      <td>485.00000</td>\n      <td>485.00000</td>\n      <td>485.00000</td>\n      <td>485.00000</td>\n      <td>485.00000</td>\n      <td>485.00000</td>\n      <td>485.00000</td>\n      <td>485.00000</td>\n      <td>485.00000</td>\n      <td>485.00000</td>\n      <td>485.00000</td>\n      <td>485.00000</td>\n      <td>485.00000</td>\n      <td>485.00000</td>\n      <td>485.00000</td>\n      <td>485.00000</td>\n      <td>485.00000</td>\n      <td>485.00000</td>\n      <td>485.00000</td>\n      <td>485.00000</td>\n      <td>485.00000</td>\n      <td>485.00000</td>\n      <td>485.00000</td>\n      <td>485.00000</td>\n      <td>485.00000</td>\n      <td>485.00000</td>\n      <td>485.00000</td>\n    </tr>\n    <tr>\n      <th>mean</th>\n      <td>2.19794</td>\n      <td>2.71752</td>\n      <td>2.33266</td>\n      <td>10.01375</td>\n      <td>1.27193</td>\n      <td>1.60452</td>\n      <td>0.59794</td>\n      <td>1.25361</td>\n      <td>0.29762</td>\n      <td>0.51340</td>\n      <td>0.22614</td>\n      <td>0.22078</td>\n      <td>3.59381</td>\n      <td>0.60497</td>\n      <td>0.40513</td>\n      <td>3.36478</td>\n      <td>1.34006</td>\n      <td>2.71131</td>\n      <td>0.55145</td>\n      <td>2.34798</td>\n      <td>0.39030</td>\n      <td>0.06684</td>\n      <td>0.15258</td>\n      <td>0.67103</td>\n      <td>0.44146</td>\n      <td>2.55391</td>\n      <td>2.17879</td>\n      <td>0.03985</td>\n      <td>0.02008</td>\n      <td>0.13214</td>\n      <td>0.15139</td>\n      <td>0.10150</td>\n      <td>0.52345</td>\n      <td>0.18014</td>\n      <td>0.06492</td>\n      <td>0.24703</td>\n      <td>2.26836</td>\n      <td>0.65777</td>\n    </tr>\n    <tr>\n      <th>std</th>\n      <td>1.70257</td>\n      <td>1.25022</td>\n      <td>1.06547</td>\n      <td>6.36584</td>\n      <td>0.61126</td>\n      <td>0.67452</td>\n      <td>0.96245</td>\n      <td>1.75798</td>\n      <td>0.39206</td>\n      <td>0.78620</td>\n      <td>0.37453</td>\n      <td>0.35968</td>\n      <td>6.05126</td>\n      <td>0.66793</td>\n      <td>0.35595</td>\n      <td>1.48228</td>\n      <td>0.92251</td>\n      <td>1.36753</td>\n      <td>0.61120</td>\n      <td>1.31856</td>\n      <td>0.40859</td>\n      <td>0.21699</td>\n      <td>0.38759</td>\n      <td>0.60637</td>\n      <td>0.39141</td>\n      <td>1.07148</td>\n      <td>1.93851</td>\n      <td>0.20250</td>\n      <td>0.08366</td>\n      <td>0.29372</td>\n      <td>0.28140</td>\n      <td>0.21562</td>\n      <td>0.38458</td>\n      <td>0.33362</td>\n      <td>0.22990</td>\n      <td>0.40823</td>\n      <td>1.75281</td>\n      <td>0.35917</td>\n    </tr>\n    <tr>\n      <th>min</th>\n      <td>1.00000</td>\n      <td>0.00000</td>\n      <td>0.00000</td>\n      <td>0.00000</td>\n      <td>0.00000</td>\n      <td>0.00000</td>\n      <td>0.00000</td>\n      <td>0.00000</td>\n      <td>0.00000</td>\n      <td>0.00000</td>\n      <td>0.00000</td>\n      <td>0.00000</td>\n      <td>0.00000</td>\n      <td>0.00000</td>\n      <td>0.00000</td>\n      <td>0.00000</td>\n      <td>0.00000</td>\n      <td>0.00000</td>\n      <td>0.00000</td>\n      <td>0.00000</td>\n      <td>0.00000</td>\n      <td>0.00000</td>\n      <td>0.00000</td>\n      <td>0.00000</td>\n      <td>0.00000</td>\n      <td>0.00000</td>\n      <td>0.00000</td>\n      <td>0.00000</td>\n      <td>0.00000</td>\n      <td>0.00000</td>\n      <td>0.00000</td>\n      <td>0.00000</td>\n      <td>0.00000</td>\n      <td>0.00000</td>\n      <td>0.00000</td>\n      <td>0.00000</td>\n      <td>0.00000</td>\n      <td>0.00000</td>\n    </tr>\n    <tr>\n      <th>25%</th>\n      <td>1.00000</td>\n      <td>2.45939</td>\n      <td>2.15836</td>\n      <td>5.50000</td>\n      <td>1.07918</td>\n      <td>1.60638</td>\n      <td>0.00000</td>\n      <td>0.00000</td>\n      <td>0.00000</td>\n      <td>0.00000</td>\n      <td>0.00000</td>\n      <td>0.00000</td>\n      <td>0.00000</td>\n      <td>0.00000</td>\n      <td>0.00000</td>\n      <td>3.18624</td>\n      <td>0.60206</td>\n      <td>2.21484</td>\n      <td>0.15249</td>\n      <td>1.46613</td>\n      <td>0.00000</td>\n      <td>0.00000</td>\n      <td>0.00000</td>\n      <td>0.00000</td>\n      <td>0.00000</td>\n      <td>2.67821</td>\n      <td>0.00000</td>\n      <td>0.00000</td>\n      <td>0.00000</td>\n      <td>0.00000</td>\n      <td>0.00000</td>\n      <td>0.00000</td>\n      <td>0.16667</td>\n      <td>0.00000</td>\n      <td>0.00000</td>\n      <td>0.00000</td>\n      <td>1.00000</td>\n      <td>0.50000</td>\n    </tr>\n    <tr>\n      <th>50%</th>\n      <td>2.00000</td>\n      <td>3.05767</td>\n      <td>2.61700</td>\n      <td>10.00000</td>\n      <td>1.32222</td>\n      <td>1.84839</td>\n      <td>0.04167</td>\n      <td>1.00000</td>\n      <td>0.04167</td>\n      <td>0.00000</td>\n      <td>0.00000</td>\n      <td>0.00000</td>\n      <td>1.00000</td>\n      <td>0.50000</td>\n      <td>0.50000</td>\n      <td>3.80862</td>\n      <td>1.33297</td>\n      <td>2.96567</td>\n      <td>0.30674</td>\n      <td>2.68485</td>\n      <td>0.30103</td>\n      <td>0.00000</td>\n      <td>0.00000</td>\n      <td>0.60206</td>\n      <td>0.47712</td>\n      <td>2.97288</td>\n      <td>2.74974</td>\n      <td>0.00000</td>\n      <td>0.00000</td>\n      <td>0.00000</td>\n      <td>0.00000</td>\n      <td>0.00000</td>\n      <td>0.50000</td>\n      <td>0.00000</td>\n      <td>0.00000</td>\n      <td>0.00000</td>\n      <td>2.00000</td>\n      <td>0.71429</td>\n    </tr>\n    <tr>\n      <th>75%</th>\n      <td>3.00000</td>\n      <td>3.48202</td>\n      <td>2.98453</td>\n      <td>15.00000</td>\n      <td>1.67210</td>\n      <td>2.02119</td>\n      <td>1.00000</td>\n      <td>2.00000</td>\n      <td>0.50000</td>\n      <td>1.00000</td>\n      <td>0.33333</td>\n      <td>0.33333</td>\n      <td>4.00000</td>\n      <td>1.00000</td>\n      <td>0.66667</td>\n      <td>4.28419</td>\n      <td>1.96047</td>\n      <td>3.56268</td>\n      <td>0.73366</td>\n      <td>3.36163</td>\n      <td>0.69897</td>\n      <td>0.00000</td>\n      <td>0.00000</td>\n      <td>0.95424</td>\n      <td>0.69897</td>\n      <td>3.15957</td>\n      <td>3.84292</td>\n      <td>0.00000</td>\n      <td>0.00000</td>\n      <td>0.05556</td>\n      <td>0.16667</td>\n      <td>0.11111</td>\n      <td>1.00000</td>\n      <td>0.25000</td>\n      <td>0.00000</td>\n      <td>0.40000</td>\n      <td>3.00000</td>\n      <td>1.00000</td>\n    </tr>\n    <tr>\n      <th>max</th>\n      <td>16.00000</td>\n      <td>5.15280</td>\n      <td>4.38686</td>\n      <td>29.00000</td>\n      <td>2.51455</td>\n      <td>2.15836</td>\n      <td>6.00000</td>\n      <td>12.00000</td>\n      <td>1.00000</td>\n      <td>5.00000</td>\n      <td>2.00000</td>\n      <td>1.00000</td>\n      <td>38.00000</td>\n      <td>6.50000</td>\n      <td>1.00000</td>\n      <td>5.40023</td>\n      <td>4.02991</td>\n      <td>5.74995</td>\n      <td>3.13014</td>\n      <td>4.98318</td>\n      <td>1.43136</td>\n      <td>1.00000</td>\n      <td>3.00000</td>\n      <td>4.01770</td>\n      <td>2.73970</td>\n      <td>3.48029</td>\n      <td>5.87737</td>\n      <td>3.00000</td>\n      <td>1.00000</td>\n      <td>1.00000</td>\n      <td>1.00000</td>\n      <td>1.00000</td>\n      <td>1.00000</td>\n      <td>2.00000</td>\n      <td>2.00000</td>\n      <td>2.00000</td>\n      <td>9.00000</td>\n      <td>1.00000</td>\n    </tr>\n  </tbody>\n</table>\n</div>",
      "text/plain": "          depth  SUM FriendsCount  AVG FriendsCount  AVG WordCount  \\\ncount 485.00000         485.00000         485.00000      485.00000   \nmean    2.19794           2.71752           2.33266       10.01375   \nstd     1.70257           1.25022           1.06547        6.36584   \nmin     1.00000           0.00000           0.00000        0.00000   \n25%     1.00000           2.45939           2.15836        5.50000   \n50%     2.00000           3.05767           2.61700       10.00000   \n75%     3.00000           3.48202           2.98453       15.00000   \nmax    16.00000           5.15280           4.38686       29.00000   \n\n       SUM WordCount  AVG CharCount  AVG HashTag  SUM HashTag  Ratio HashTag  \\\ncount      485.00000      485.00000    485.00000    485.00000      485.00000   \nmean         1.27193        1.60452      0.59794      1.25361        0.29762   \nstd          0.61126        0.67452      0.96245      1.75798        0.39206   \nmin          0.00000        0.00000      0.00000      0.00000        0.00000   \n25%          1.07918        1.60638      0.00000      0.00000        0.00000   \n50%          1.32222        1.84839      0.04167      1.00000        0.04167   \n75%          1.67210        2.02119      1.00000      2.00000        0.50000   \nmax          2.51455        2.15836      6.00000     12.00000        1.00000   \n\n        SUM Url   AVG Url  RATIO Url  SUM Mention  AVG Mention  Ratio Mention  \\\ncount 485.00000 485.00000  485.00000    485.00000    485.00000      485.00000   \nmean    0.51340   0.22614    0.22078      3.59381      0.60497        0.40513   \nstd     0.78620   0.37453    0.35968      6.05126      0.66793        0.35595   \nmin     0.00000   0.00000    0.00000      0.00000      0.00000        0.00000   \n25%     0.00000   0.00000    0.00000      0.00000      0.00000        0.00000   \n50%     0.00000   0.00000    0.00000      1.00000      0.50000        0.50000   \n75%     1.00000   0.33333    0.33333      4.00000      1.00000        0.66667   \nmax     5.00000   2.00000    1.00000     38.00000      6.50000        1.00000   \n\n       AVG Statues  AVG Listed  AVG Follower  AVG followers/friend  \\\ncount    485.00000   485.00000     485.00000             485.00000   \nmean       3.36478     1.34006       2.71131               0.55145   \nstd        1.48228     0.92251       1.36753               0.61120   \nmin        0.00000     0.00000       0.00000               0.00000   \n25%        3.18624     0.60206       2.21484               0.15249   \n50%        3.80862     1.33297       2.96567               0.30674   \n75%        4.28419     1.96047       3.56268               0.73366   \nmax        5.40023     4.02991       5.74995               3.13014   \n\n       AVG favorite  Tweets Count  Ratio Verified  SUM Verified    SUM RT  \\\ncount     485.00000     485.00000       485.00000     485.00000 485.00000   \nmean        2.34798       0.39030         0.06684       0.15258   0.67103   \nstd         1.31856       0.40859         0.21699       0.38759   0.60637   \nmin         0.00000       0.00000         0.00000       0.00000   0.00000   \n25%         1.46613       0.00000         0.00000       0.00000   0.00000   \n50%         2.68485       0.30103         0.00000       0.00000   0.60206   \n75%         3.36163       0.69897         0.00000       0.00000   0.95424   \nmax         4.98318       1.43136         1.00000       3.00000   4.01770   \n\n         AVG RT  AVG AccAge  thread_time  AVG Emoji  RATIO Emoji  Ratio Media  \\\ncount 485.00000   485.00000    485.00000  485.00000    485.00000    485.00000   \nmean    0.44146     2.55391      2.17879    0.03985      0.02008      0.13214   \nstd     0.39141     1.07148      1.93851    0.20250      0.08366      0.29372   \nmin     0.00000     0.00000      0.00000    0.00000      0.00000      0.00000   \n25%     0.00000     2.67821      0.00000    0.00000      0.00000      0.00000   \n50%     0.47712     2.97288      2.74974    0.00000      0.00000      0.00000   \n75%     0.69897     3.15957      3.84292    0.00000      0.00000      0.05556   \nmax     2.73970     3.48029      5.87737    3.00000      1.00000      1.00000   \n\n       RATIO Question  RATIO Exclaim  RATIO Period   AVG FPP   AVG SPP  \\\ncount       485.00000      485.00000     485.00000 485.00000 485.00000   \nmean          0.15139        0.10150       0.52345   0.18014   0.06492   \nstd           0.28140        0.21562       0.38458   0.33362   0.22990   \nmin           0.00000        0.00000       0.00000   0.00000   0.00000   \n25%           0.00000        0.00000       0.16667   0.00000   0.00000   \n50%           0.00000        0.00000       0.50000   0.00000   0.00000   \n75%           0.16667        0.11111       1.00000   0.25000   0.00000   \nmax           1.00000        1.00000       1.00000   2.00000   2.00000   \n\n        AVG TPP  AVG Skepticism  Ratio Skepticism  \ncount 485.00000       485.00000         485.00000  \nmean    0.24703         2.26836           0.65777  \nstd     0.40823         1.75281           0.35917  \nmin     0.00000         0.00000           0.00000  \n25%     0.00000         1.00000           0.50000  \n50%     0.00000         2.00000           0.71429  \n75%     0.40000         3.00000           1.00000  \nmax     2.00000         9.00000           1.00000  "
     },
     "output_type": "unknown"
    }
   ],
   "source": [
    "ext_thread_avg.describe()"
   ]
  },
  {
   "cell_type": "code",
   "execution_count": null,
   "metadata": {},
   "outputs": [],
   "source": []
  },
  {
   "cell_type": "markdown",
   "metadata": {},
   "source": [
    "#### BERT & EMOJI 이모지 다루는 차이 😂😂😂😂😂\n",
    "\n",
    "> Before applying fastBPE to the pre-training corpus of 850M English Tweets, we tokenized these Tweets using TweetTokenizer from the NLTK toolkit and used the emoji package to translate emotion icons into text strings (here, each icon is referred to as a word token). We also normalized the Tweets by converting user mentions and web/url links into special tokens @USER and HTTPURL, respectively. Thus it is recommended to also apply the same pre-processing step for BERTweet-based downstream applications w.r.t. the raw input Tweets. BERTweet provides this pre-processing step by enabling the normalization argument.\n",
    "\n"
   ]
  },
  {
   "cell_type": "code",
   "execution_count": null,
   "metadata": {},
   "outputs": [],
   "source": [
    "import torch\n",
    "from transformers import AutoModel, AutoTokenizer \n",
    "bertweet = AutoModel.from_pretrained(\"vinai/bertweet-base\", )\n",
    "\n",
    "# For transformers v4.x+: \n",
    "tokenizer = AutoTokenizer.from_pretrained(\"vinai/bertweet-base\", use_fast=False, normalization=False)"
   ]
  },
  {
   "cell_type": "code",
   "execution_count": null,
   "metadata": {},
   "outputs": [
    {
     "data": {
      "text/plain": "[array(['2014-10-12 21:22:36+00:00'], dtype=object),\n array([], dtype=object),\n array(['2014-10-12 18:38:41+00:00'], dtype=object),\n array(['2014-10-12 18:43:07+00:00'], dtype=object),\n array(['2014-10-12 18:42:02+00:00'], dtype=object),\n array(['2014-10-12 18:44:13+00:00'], dtype=object),\n array(['2014-10-12 19:15:21+00:00'], dtype=object),\n array([], dtype=object),\n array(['2014-10-12 18:54:47+00:00'], dtype=object),\n array(['2014-10-12 18:39:06+00:00'], dtype=object),\n array(['2014-10-12 18:41:23+00:00'], dtype=object),\n array(['2014-10-12 18:39:51+00:00'], dtype=object),\n array([], dtype=object),\n array(['2014-10-12 18:56:53+00:00'], dtype=object)]"
     },
     "output_type": "unknown"
    }
   ],
   "source": [
    "list(ext_thread.thread_time[0])"
   ]
  },
  {
   "cell_type": "code",
   "execution_count": null,
   "metadata": {},
   "outputs": [],
   "source": [
    "# INPUT TWEET IS ALREADY NORMALIZED!\n",
    "line = \"@MichaelEssien that's a shame wanted to Invest in you😔\"\n",
    "print(line)\n",
    "print(tokenizer.encode(line),\"\\n\")\n",
    "input_ids = torch.tensor([tokenizer.encode(line)])\n",
    "# print(input_ids)\n",
    "\n",
    "line = \"HTTPURL @MichaelEssien that's a shame wanted to Invest INVEST in you😔😂😂 http://www.google.com\"\n",
    "input_ids = torch.tensor([tokenizer.encode(line)])\n",
    "print(line)\n",
    "print(tokenizer.encode(line),\"\\n\")\n",
    "\n",
    "line = \"HTTPURL @USER that's a shame wanted to Invest INVEST in you:pensive_face::face_with_tears_of_joy::face_with_tears_of_joy: HTTPURL\"\n",
    "input_ids = torch.tensor([tokenizer.encode(line)])\n",
    "print(line)\n",
    "print(tokenizer.encode(line),\"\\n\")\n",
    "\n",
    "line = \"HTTPURL @USER that's a shame wanted to Invest INVEST in you pensive_face face_with_tears_of_joy face_with_tears_of_joy :grinning_face_with_big_eyes: HTTPURL  \"\n",
    "input_ids = torch.tensor([tokenizer.encode(line)])\n",
    "print(line)\n",
    "print(tokenizer.encode(line))\n",
    "\n",
    "\n",
    "# with torch.no_grad():\n",
    "#     features = bertweet(input_ids)  # Models outputs are now tuples\n",
    "# print(features)"
   ]
  },
  {
   "cell_type": "code",
   "execution_count": null,
   "metadata": {},
   "outputs": [],
   "source": [
    "text = \"HTTPURL @MichaelEssien that's a shame wanted to Invest INVEST in you😔😂😂😃 http://www.google.com\"\n",
    "print(emoji.emoji_count(text),\"\\n\")\n",
    "print(text)\n",
    "text = emoji.demojize(text)\n",
    "# print(emoji.get_emoji_regexp(),\"\\n\")\n",
    "# text=text.strip(':')\n",
    "# text = re.sub(r'(@.*?)[\\s]', '@USER ', text)\n",
    "text = re.sub(r\"@\\S+\", \"@USER\", text)   # mention -> '@'\n",
    "text = re.sub(r\"http\\S+\", \"HTTPURL\", text)  # http link -> '*'\n",
    "emojis = re.findall(r'(::)', text)\n",
    "print(emojis)\n",
    "# print(text,\"\\n\")\n",
    "text = re.sub(r':[^:]*:', r' \\g<0>', text)  # http link -> '*'\n",
    "print(text,\"\\n\")\n",
    "\n",
    "text=text.split()\n",
    "# text= re.sub(r'(:[!_\\-\\w]+:)', '', text)\n",
    "print(text,\"\\n\")\n",
    "# emojis"
   ]
  },
  {
   "cell_type": "markdown",
   "metadata": {},
   "source": [
    "#### 추가 데이터들"
   ]
  },
  {
   "cell_type": "code",
   "execution_count": null,
   "metadata": {},
   "outputs": [],
   "source": [
    "all_ext.loc[(all_ext['id'] == int(529657433866915840))].HashTag.values[0]"
   ]
  },
  {
   "cell_type": "code",
   "execution_count": null,
   "metadata": {},
   "outputs": [],
   "source": [
    "all_ext.loc[(all_ext['pid'] == int(521367917322338304))][['text','token_for_POS','HashTag','Pronoun','FirstPersonPronoun','SecondPersonPronoun','ThirdPersonPronoun','Numeral','Modal','Whs', 'Noun', 'Verb','Adjective','has_question',\t'has_exclaim',\t'has_period']]"
   ]
  },
  {
   "cell_type": "code",
   "execution_count": 41,
   "metadata": {},
   "outputs": [
    {
     "data": {
      "text/html": "<div>\n<style scoped>\n    .dataframe tbody tr th:only-of-type {\n        vertical-align: middle;\n    }\n\n    .dataframe tbody tr th {\n        vertical-align: top;\n    }\n\n    .dataframe thead th {\n        text-align: right;\n    }\n</style>\n<table border=\"1\" class=\"dataframe\">\n  <thead>\n    <tr style=\"text-align: right;\">\n      <th></th>\n      <th>id</th>\n      <th>pid</th>\n      <th>userid</th>\n      <th>emoji_count</th>\n      <th>has_media</th>\n      <th>URLcount</th>\n      <th>Skepticism</th>\n      <th>FirstPersonPronoun</th>\n      <th>SecondPersonPronoun</th>\n      <th>ThirdPersonPronoun</th>\n      <th>test_auxiliary</th>\n      <th>test_tentat</th>\n      <th>test_certain</th>\n      <th>Numeral</th>\n      <th>char_count</th>\n      <th>word_count</th>\n      <th>HashTag</th>\n      <th>has_question</th>\n      <th>has_exclaim</th>\n      <th>has_period</th>\n      <th>retweet_count</th>\n      <th>statuses_count</th>\n      <th>listed_count</th>\n      <th>friends_count</th>\n      <th>followers_count</th>\n      <th>followers/friend</th>\n      <th>favourites_count</th>\n      <th>account_age_days</th>\n      <th>tweet_created</th>\n      <th>capital_ratio</th>\n      <th>verified</th>\n      <th>isSrcTweet</th>\n    </tr>\n    <tr>\n      <th>target</th>\n      <th></th>\n      <th></th>\n      <th></th>\n      <th></th>\n      <th></th>\n      <th></th>\n      <th></th>\n      <th></th>\n      <th></th>\n      <th></th>\n      <th></th>\n      <th></th>\n      <th></th>\n      <th></th>\n      <th></th>\n      <th></th>\n      <th></th>\n      <th></th>\n      <th></th>\n      <th></th>\n      <th></th>\n      <th></th>\n      <th></th>\n      <th></th>\n      <th></th>\n      <th></th>\n      <th></th>\n      <th></th>\n      <th></th>\n      <th></th>\n      <th></th>\n      <th></th>\n    </tr>\n  </thead>\n  <tbody>\n    <tr>\n      <th>0</th>\n      <td>5.758435e+17</td>\n      <td>5.761280e+17</td>\n      <td>1.003418e+09</td>\n      <td>0.030986</td>\n      <td>0.191549</td>\n      <td>0.135211</td>\n      <td>3.104225</td>\n      <td>0.278873</td>\n      <td>0.129577</td>\n      <td>0.453521</td>\n      <td>0.881690</td>\n      <td>0.042254</td>\n      <td>0.025352</td>\n      <td>0.115493</td>\n      <td>90.391549</td>\n      <td>13.259155</td>\n      <td>0.830986</td>\n      <td>0.146479</td>\n      <td>0.146479</td>\n      <td>0.656338</td>\n      <td>5.157746</td>\n      <td>23223.433803</td>\n      <td>135.363380</td>\n      <td>1104.377465</td>\n      <td>5718.202817</td>\n      <td>10.813604</td>\n      <td>5908.273239</td>\n      <td>1220.769014</td>\n      <td>1.426127e+09</td>\n      <td>0.074394</td>\n      <td>0.016901</td>\n      <td>0.326761</td>\n    </tr>\n    <tr>\n      <th>1</th>\n      <td>5.427667e+17</td>\n      <td>5.419582e+17</td>\n      <td>7.157203e+08</td>\n      <td>0.094527</td>\n      <td>0.101368</td>\n      <td>0.208333</td>\n      <td>3.017413</td>\n      <td>0.350124</td>\n      <td>0.108831</td>\n      <td>0.378731</td>\n      <td>0.847637</td>\n      <td>0.034826</td>\n      <td>0.011816</td>\n      <td>0.122512</td>\n      <td>88.379353</td>\n      <td>12.961443</td>\n      <td>0.357587</td>\n      <td>0.196517</td>\n      <td>0.184080</td>\n      <td>0.626244</td>\n      <td>15.259950</td>\n      <td>24814.713930</td>\n      <td>219.782338</td>\n      <td>1236.807214</td>\n      <td>16125.910448</td>\n      <td>39.040759</td>\n      <td>3399.085199</td>\n      <td>1313.238806</td>\n      <td>1.418241e+09</td>\n      <td>0.092860</td>\n      <td>0.075249</td>\n      <td>0.229478</td>\n    </tr>\n  </tbody>\n</table>\n</div>",
      "text/plain": "                  id           pid        userid  emoji_count  has_media  \\\ntarget                                                                     \n0       5.758435e+17  5.761280e+17  1.003418e+09     0.030986   0.191549   \n1       5.427667e+17  5.419582e+17  7.157203e+08     0.094527   0.101368   \n\n        URLcount  Skepticism  FirstPersonPronoun  SecondPersonPronoun  \\\ntarget                                                                  \n0       0.135211    3.104225            0.278873             0.129577   \n1       0.208333    3.017413            0.350124             0.108831   \n\n        ThirdPersonPronoun  test_auxiliary  test_tentat  test_certain  \\\ntarget                                                                  \n0                 0.453521        0.881690     0.042254      0.025352   \n1                 0.378731        0.847637     0.034826      0.011816   \n\n         Numeral  char_count  word_count   HashTag  has_question  has_exclaim  \\\ntarget                                                                          \n0       0.115493   90.391549   13.259155  0.830986      0.146479     0.146479   \n1       0.122512   88.379353   12.961443  0.357587      0.196517     0.184080   \n\n        has_period  retweet_count  statuses_count  listed_count  \\\ntarget                                                            \n0         0.656338       5.157746    23223.433803    135.363380   \n1         0.626244      15.259950    24814.713930    219.782338   \n\n        friends_count  followers_count  followers/friend  favourites_count  \\\ntarget                                                                       \n0         1104.377465      5718.202817         10.813604       5908.273239   \n1         1236.807214     16125.910448         39.040759       3399.085199   \n\n        account_age_days  tweet_created  capital_ratio  verified  isSrcTweet  \ntarget                                                                        \n0            1220.769014   1.426127e+09       0.074394  0.016901    0.326761  \n1            1313.238806   1.418241e+09       0.092860  0.075249    0.229478  "
     },
     "execution_count": 41,
     "metadata": {},
     "output_type": "execute_result"
    }
   ],
   "source": [
    "# all_ext.loc[((all_ext['Skepticism'] >-1))].groupby('target').mean()  #[['text','URLcount','token_for_POS','id','pid','HashTag','Pronoun','FirstPersonPronoun','SecondPersonPronoun','ThirdPersonPronoun']]\n",
    "all_ext.loc[((all_ext['Skepticism'] >-1))].groupby('target').mean()  #[['text','URLcount','token_for_POS','id','pid','HashTag','Pronoun','FirstPersonPronoun','SecondPersonPronoun','ThirdPersonPronoun']]"
   ]
  },
  {
   "cell_type": "code",
   "execution_count": null,
   "metadata": {},
   "outputs": [],
   "source": [
    "pd.concat([ext_thread, ext_y], axis=1).groupby('target').mean() "
   ]
  },
  {
   "cell_type": "code",
   "execution_count": null,
   "metadata": {},
   "outputs": [],
   "source": [
    "all_ext[['id','text','token_for_POS','HashTag','URLcount','target','Skepticism']].loc[all_ext.HashTag > 4]\n",
    "# all_ext['HashTag'].value_counts()\n"
   ]
  },
  {
   "cell_type": "markdown",
   "metadata": {},
   "source": [
    "#### Thread()를 만드는데 필요한 정보들\n",
    "\n",
    "---"
   ]
  },
  {
   "cell_type": "code",
   "execution_count": 50,
   "metadata": {},
   "outputs": [
    {
     "data": {
      "text/html": "<div>\n<style scoped>\n    .dataframe tbody tr th:only-of-type {\n        vertical-align: middle;\n    }\n\n    .dataframe tbody tr th {\n        vertical-align: top;\n    }\n\n    .dataframe thead th {\n        text-align: right;\n    }\n</style>\n<table border=\"1\" class=\"dataframe\">\n  <thead>\n    <tr style=\"text-align: right;\">\n      <th></th>\n      <th>Root</th>\n      <th>0</th>\n      <th>1</th>\n      <th>2</th>\n      <th>3</th>\n      <th>4</th>\n      <th>5</th>\n      <th>6</th>\n      <th>7</th>\n      <th>8</th>\n      <th>9</th>\n      <th>10</th>\n      <th>11</th>\n      <th>12</th>\n      <th>13</th>\n      <th>14</th>\n      <th>15</th>\n      <th>16</th>\n      <th>17</th>\n      <th>18</th>\n      <th>19</th>\n      <th>20</th>\n      <th>21</th>\n      <th>22</th>\n      <th>23</th>\n      <th>24</th>\n      <th>25</th>\n      <th>depth</th>\n    </tr>\n  </thead>\n  <tbody>\n    <tr>\n      <th>0</th>\n      <td>521369179392581632</td>\n      <td>5.214106e+17</td>\n      <td>5.213731e+17</td>\n      <td>5.213694e+17</td>\n      <td>5.213705e+17</td>\n      <td>5.213702e+17</td>\n      <td>5.213708e+17</td>\n      <td>5.213786e+17</td>\n      <td>5.213705e+17</td>\n      <td>5.213734e+17</td>\n      <td>5.213695e+17</td>\n      <td>5.213701e+17</td>\n      <td>5.213697e+17</td>\n      <td>5.213724e+17</td>\n      <td>5.213740e+17</td>\n      <td>NaN</td>\n      <td>NaN</td>\n      <td>NaN</td>\n      <td>NaN</td>\n      <td>NaN</td>\n      <td>NaN</td>\n      <td>NaN</td>\n      <td>NaN</td>\n      <td>NaN</td>\n      <td>NaN</td>\n      <td>NaN</td>\n      <td>NaN</td>\n      <td>4</td>\n    </tr>\n    <tr>\n      <th>1</th>\n      <td>521367917322338304</td>\n      <td>5.213685e+17</td>\n      <td>5.213688e+17</td>\n      <td>5.213682e+17</td>\n      <td>5.213686e+17</td>\n      <td>5.217930e+17</td>\n      <td>5.213682e+17</td>\n      <td>5.213683e+17</td>\n      <td>5.213683e+17</td>\n      <td>5.213683e+17</td>\n      <td>5.213685e+17</td>\n      <td>5.213688e+17</td>\n      <td>5.213683e+17</td>\n      <td>5.213681e+17</td>\n      <td>5.213684e+17</td>\n      <td>5.213682e+17</td>\n      <td>5.213683e+17</td>\n      <td>5.213686e+17</td>\n      <td>5.213681e+17</td>\n      <td>NaN</td>\n      <td>NaN</td>\n      <td>NaN</td>\n      <td>NaN</td>\n      <td>NaN</td>\n      <td>NaN</td>\n      <td>NaN</td>\n      <td>NaN</td>\n      <td>4</td>\n    </tr>\n    <tr>\n      <th>2</th>\n      <td>522286703848218624</td>\n      <td>5.222880e+17</td>\n      <td>5.222887e+17</td>\n      <td>5.222956e+17</td>\n      <td>5.222963e+17</td>\n      <td>5.222917e+17</td>\n      <td>5.222974e+17</td>\n      <td>NaN</td>\n      <td>NaN</td>\n      <td>NaN</td>\n      <td>NaN</td>\n      <td>NaN</td>\n      <td>NaN</td>\n      <td>NaN</td>\n      <td>NaN</td>\n      <td>NaN</td>\n      <td>NaN</td>\n      <td>NaN</td>\n      <td>NaN</td>\n      <td>NaN</td>\n      <td>NaN</td>\n      <td>NaN</td>\n      <td>NaN</td>\n      <td>NaN</td>\n      <td>NaN</td>\n      <td>NaN</td>\n      <td>NaN</td>\n      <td>2</td>\n    </tr>\n    <tr>\n      <th>3</th>\n      <td>521375609206083584</td>\n      <td>5.213993e+17</td>\n      <td>5.214484e+17</td>\n      <td>5.213759e+17</td>\n      <td>5.214287e+17</td>\n      <td>5.214655e+17</td>\n      <td>5.214194e+17</td>\n      <td>5.214197e+17</td>\n      <td>5.214467e+17</td>\n      <td>5.213757e+17</td>\n      <td>5.213793e+17</td>\n      <td>5.213769e+17</td>\n      <td>5.213836e+17</td>\n      <td>NaN</td>\n      <td>NaN</td>\n      <td>NaN</td>\n      <td>NaN</td>\n      <td>NaN</td>\n      <td>NaN</td>\n      <td>NaN</td>\n      <td>NaN</td>\n      <td>NaN</td>\n      <td>NaN</td>\n      <td>NaN</td>\n      <td>NaN</td>\n      <td>NaN</td>\n      <td>NaN</td>\n      <td>3</td>\n    </tr>\n    <tr>\n      <th>4</th>\n      <td>521358118597689344</td>\n      <td>5.213616e+17</td>\n      <td>5.213812e+17</td>\n      <td>5.213599e+17</td>\n      <td>5.213595e+17</td>\n      <td>NaN</td>\n      <td>NaN</td>\n      <td>NaN</td>\n      <td>NaN</td>\n      <td>NaN</td>\n      <td>NaN</td>\n      <td>NaN</td>\n      <td>NaN</td>\n      <td>NaN</td>\n      <td>NaN</td>\n      <td>NaN</td>\n      <td>NaN</td>\n      <td>NaN</td>\n      <td>NaN</td>\n      <td>NaN</td>\n      <td>NaN</td>\n      <td>NaN</td>\n      <td>NaN</td>\n      <td>NaN</td>\n      <td>NaN</td>\n      <td>NaN</td>\n      <td>NaN</td>\n      <td>2</td>\n    </tr>\n    <tr>\n      <th>...</th>\n      <td>...</td>\n      <td>...</td>\n      <td>...</td>\n      <td>...</td>\n      <td>...</td>\n      <td>...</td>\n      <td>...</td>\n      <td>...</td>\n      <td>...</td>\n      <td>...</td>\n      <td>...</td>\n      <td>...</td>\n      <td>...</td>\n      <td>...</td>\n      <td>...</td>\n      <td>...</td>\n      <td>...</td>\n      <td>...</td>\n      <td>...</td>\n      <td>...</td>\n      <td>...</td>\n      <td>...</td>\n      <td>...</td>\n      <td>...</td>\n      <td>...</td>\n      <td>...</td>\n      <td>...</td>\n      <td>...</td>\n    </tr>\n    <tr>\n      <th>480</th>\n      <td>576509905596727296</td>\n      <td>5.765150e+17</td>\n      <td>5.765265e+17</td>\n      <td>NaN</td>\n      <td>NaN</td>\n      <td>NaN</td>\n      <td>NaN</td>\n      <td>NaN</td>\n      <td>NaN</td>\n      <td>NaN</td>\n      <td>NaN</td>\n      <td>NaN</td>\n      <td>NaN</td>\n      <td>NaN</td>\n      <td>NaN</td>\n      <td>NaN</td>\n      <td>NaN</td>\n      <td>NaN</td>\n      <td>NaN</td>\n      <td>NaN</td>\n      <td>NaN</td>\n      <td>NaN</td>\n      <td>NaN</td>\n      <td>NaN</td>\n      <td>NaN</td>\n      <td>NaN</td>\n      <td>NaN</td>\n      <td>2</td>\n    </tr>\n    <tr>\n      <th>481</th>\n      <td>576464933648371712</td>\n      <td>NaN</td>\n      <td>NaN</td>\n      <td>NaN</td>\n      <td>NaN</td>\n      <td>NaN</td>\n      <td>NaN</td>\n      <td>NaN</td>\n      <td>NaN</td>\n      <td>NaN</td>\n      <td>NaN</td>\n      <td>NaN</td>\n      <td>NaN</td>\n      <td>NaN</td>\n      <td>NaN</td>\n      <td>NaN</td>\n      <td>NaN</td>\n      <td>NaN</td>\n      <td>NaN</td>\n      <td>NaN</td>\n      <td>NaN</td>\n      <td>NaN</td>\n      <td>NaN</td>\n      <td>NaN</td>\n      <td>NaN</td>\n      <td>NaN</td>\n      <td>NaN</td>\n      <td>1</td>\n    </tr>\n    <tr>\n      <th>482</th>\n      <td>576387464924819456</td>\n      <td>5.763982e+17</td>\n      <td>NaN</td>\n      <td>NaN</td>\n      <td>NaN</td>\n      <td>NaN</td>\n      <td>NaN</td>\n      <td>NaN</td>\n      <td>NaN</td>\n      <td>NaN</td>\n      <td>NaN</td>\n      <td>NaN</td>\n      <td>NaN</td>\n      <td>NaN</td>\n      <td>NaN</td>\n      <td>NaN</td>\n      <td>NaN</td>\n      <td>NaN</td>\n      <td>NaN</td>\n      <td>NaN</td>\n      <td>NaN</td>\n      <td>NaN</td>\n      <td>NaN</td>\n      <td>NaN</td>\n      <td>NaN</td>\n      <td>NaN</td>\n      <td>NaN</td>\n      <td>2</td>\n    </tr>\n    <tr>\n      <th>483</th>\n      <td>576443643680178176</td>\n      <td>5.764440e+17</td>\n      <td>5.764465e+17</td>\n      <td>5.764624e+17</td>\n      <td>NaN</td>\n      <td>NaN</td>\n      <td>NaN</td>\n      <td>NaN</td>\n      <td>NaN</td>\n      <td>NaN</td>\n      <td>NaN</td>\n      <td>NaN</td>\n      <td>NaN</td>\n      <td>NaN</td>\n      <td>NaN</td>\n      <td>NaN</td>\n      <td>NaN</td>\n      <td>NaN</td>\n      <td>NaN</td>\n      <td>NaN</td>\n      <td>NaN</td>\n      <td>NaN</td>\n      <td>NaN</td>\n      <td>NaN</td>\n      <td>NaN</td>\n      <td>NaN</td>\n      <td>NaN</td>\n      <td>2</td>\n    </tr>\n    <tr>\n      <th>484</th>\n      <td>576715243948118016</td>\n      <td>NaN</td>\n      <td>NaN</td>\n      <td>NaN</td>\n      <td>NaN</td>\n      <td>NaN</td>\n      <td>NaN</td>\n      <td>NaN</td>\n      <td>NaN</td>\n      <td>NaN</td>\n      <td>NaN</td>\n      <td>NaN</td>\n      <td>NaN</td>\n      <td>NaN</td>\n      <td>NaN</td>\n      <td>NaN</td>\n      <td>NaN</td>\n      <td>NaN</td>\n      <td>NaN</td>\n      <td>NaN</td>\n      <td>NaN</td>\n      <td>NaN</td>\n      <td>NaN</td>\n      <td>NaN</td>\n      <td>NaN</td>\n      <td>NaN</td>\n      <td>NaN</td>\n      <td>1</td>\n    </tr>\n  </tbody>\n</table>\n<p>485 rows × 28 columns</p>\n</div>",
      "text/plain": "                   Root             0             1             2  \\\n0    521369179392581632  5.214106e+17  5.213731e+17  5.213694e+17   \n1    521367917322338304  5.213685e+17  5.213688e+17  5.213682e+17   \n2    522286703848218624  5.222880e+17  5.222887e+17  5.222956e+17   \n3    521375609206083584  5.213993e+17  5.214484e+17  5.213759e+17   \n4    521358118597689344  5.213616e+17  5.213812e+17  5.213599e+17   \n..                  ...           ...           ...           ...   \n480  576509905596727296  5.765150e+17  5.765265e+17           NaN   \n481  576464933648371712           NaN           NaN           NaN   \n482  576387464924819456  5.763982e+17           NaN           NaN   \n483  576443643680178176  5.764440e+17  5.764465e+17  5.764624e+17   \n484  576715243948118016           NaN           NaN           NaN   \n\n                3             4             5             6             7  \\\n0    5.213705e+17  5.213702e+17  5.213708e+17  5.213786e+17  5.213705e+17   \n1    5.213686e+17  5.217930e+17  5.213682e+17  5.213683e+17  5.213683e+17   \n2    5.222963e+17  5.222917e+17  5.222974e+17           NaN           NaN   \n3    5.214287e+17  5.214655e+17  5.214194e+17  5.214197e+17  5.214467e+17   \n4    5.213595e+17           NaN           NaN           NaN           NaN   \n..            ...           ...           ...           ...           ...   \n480           NaN           NaN           NaN           NaN           NaN   \n481           NaN           NaN           NaN           NaN           NaN   \n482           NaN           NaN           NaN           NaN           NaN   \n483           NaN           NaN           NaN           NaN           NaN   \n484           NaN           NaN           NaN           NaN           NaN   \n\n                8             9            10            11            12  \\\n0    5.213734e+17  5.213695e+17  5.213701e+17  5.213697e+17  5.213724e+17   \n1    5.213683e+17  5.213685e+17  5.213688e+17  5.213683e+17  5.213681e+17   \n2             NaN           NaN           NaN           NaN           NaN   \n3    5.213757e+17  5.213793e+17  5.213769e+17  5.213836e+17           NaN   \n4             NaN           NaN           NaN           NaN           NaN   \n..            ...           ...           ...           ...           ...   \n480           NaN           NaN           NaN           NaN           NaN   \n481           NaN           NaN           NaN           NaN           NaN   \n482           NaN           NaN           NaN           NaN           NaN   \n483           NaN           NaN           NaN           NaN           NaN   \n484           NaN           NaN           NaN           NaN           NaN   \n\n               13            14            15            16            17  18  \\\n0    5.213740e+17           NaN           NaN           NaN           NaN NaN   \n1    5.213684e+17  5.213682e+17  5.213683e+17  5.213686e+17  5.213681e+17 NaN   \n2             NaN           NaN           NaN           NaN           NaN NaN   \n3             NaN           NaN           NaN           NaN           NaN NaN   \n4             NaN           NaN           NaN           NaN           NaN NaN   \n..            ...           ...           ...           ...           ...  ..   \n480           NaN           NaN           NaN           NaN           NaN NaN   \n481           NaN           NaN           NaN           NaN           NaN NaN   \n482           NaN           NaN           NaN           NaN           NaN NaN   \n483           NaN           NaN           NaN           NaN           NaN NaN   \n484           NaN           NaN           NaN           NaN           NaN NaN   \n\n     19  20  21  22  23  24  25  depth  \n0   NaN NaN NaN NaN NaN NaN NaN      4  \n1   NaN NaN NaN NaN NaN NaN NaN      4  \n2   NaN NaN NaN NaN NaN NaN NaN      2  \n3   NaN NaN NaN NaN NaN NaN NaN      3  \n4   NaN NaN NaN NaN NaN NaN NaN      2  \n..   ..  ..  ..  ..  ..  ..  ..    ...  \n480 NaN NaN NaN NaN NaN NaN NaN      2  \n481 NaN NaN NaN NaN NaN NaN NaN      1  \n482 NaN NaN NaN NaN NaN NaN NaN      2  \n483 NaN NaN NaN NaN NaN NaN NaN      2  \n484 NaN NaN NaN NaN NaN NaN NaN      1  \n\n[485 rows x 28 columns]"
     },
     "execution_count": 50,
     "metadata": {},
     "output_type": "execute_result"
    }
   ],
   "source": [
    "structure_ext"
   ]
  },
  {
   "cell_type": "code",
   "execution_count": 51,
   "metadata": {},
   "outputs": [],
   "source": [
    "pid = 521369179392581632"
   ]
  },
  {
   "cell_type": "code",
   "execution_count": 164,
   "metadata": {},
   "outputs": [],
   "source": [
    "tweetInfo = []\n",
    "thread_range_count = []\n",
    "thread_range_ratio = []\n",
    "structure = structure_ext.drop(['depth'], axis=1)\n",
    "for index, data in enumerate(structure.Root):\n",
    "    pid = int(data)\n",
    "    thread_node_count = len([childid for childid in structure.loc[index,:].dropna()]) \n",
    "\n",
    "    thread_life = np.max([np.sum(all_ext.loc[(all_ext['id'] == childid)]['tweet_created']) for childid in structure.loc[index,:].dropna()] - all_ext.loc[(all_ext['id'] == pid)].tweet_created.sum())\n",
    "    thread_nodes_created = [np.sum(all_ext.loc[(all_ext['id'] == childid)]['tweet_created']) for childid in structure.loc[index,:].dropna()] - all_ext.loc[(all_ext['id'] == pid)].tweet_created.sum()\n",
    "\n",
    "\n",
    "    thread_range = [0,thread_life*0.25, thread_life*0.5, thread_life*0.75]\n",
    "    thread_temp = np.digitize(thread_nodes_created, bins= [thread_range[0],thread_range[1],thread_range[2],thread_range[3]])\n",
    "    thread_range_count.append(np.bincount(thread_temp)[1:])\n",
    "    thread_range_ratio.append(np.bincount(thread_temp)[1:]/thread_node_count)\n",
    "    # tweetInfo.append([thread_life, thread_nodes_created, thread_range, thread_range_count, thread_range_ratio])\n",
    "df1 = pd.DataFrame(thread_range_count,columns=['NodeThreadCount 0','NodeThreadCount 0.25','NodeThreadCount 0.5','NodeThreadCount 0.75',])\n",
    "df2 = pd.DataFrame(thread_range_ratio,columns=['NodeThreadRatio 0','NodeThreadRatio 0.25','NodeThreadRatio 0.5','NodeThreadRatio 0.75',])\n",
    "ext_thread_time_df = pd.concat([df1,df2],axis=1)\n"
   ]
  },
  {
   "cell_type": "code",
   "execution_count": 165,
   "metadata": {},
   "outputs": [
    {
     "data": {
      "text/html": "<div>\n<style scoped>\n    .dataframe tbody tr th:only-of-type {\n        vertical-align: middle;\n    }\n\n    .dataframe tbody tr th {\n        vertical-align: top;\n    }\n\n    .dataframe thead th {\n        text-align: right;\n    }\n</style>\n<table border=\"1\" class=\"dataframe\">\n  <thead>\n    <tr style=\"text-align: right;\">\n      <th></th>\n      <th>NodeThreadCount 0</th>\n      <th>NodeThreadCount 0.25</th>\n      <th>NodeThreadCount 0.5</th>\n      <th>NodeThreadCount 0.75</th>\n      <th>NodeThreadRatio 0</th>\n      <th>NodeThreadRatio 0.25</th>\n      <th>NodeThreadRatio 0.5</th>\n      <th>NodeThreadRatio 0.75</th>\n    </tr>\n  </thead>\n  <tbody>\n    <tr>\n      <th>0</th>\n      <td>14</td>\n      <td>0</td>\n      <td>0</td>\n      <td>1</td>\n      <td>0.9333333333333333</td>\n      <td>0.0</td>\n      <td>0.0</td>\n      <td>0.06666666666666667</td>\n    </tr>\n    <tr>\n      <th>1</th>\n      <td>18</td>\n      <td>0</td>\n      <td>0</td>\n      <td>1</td>\n      <td>0.9473684210526315</td>\n      <td>0.0</td>\n      <td>0.0</td>\n      <td>0.05263157894736842</td>\n    </tr>\n    <tr>\n      <th>2</th>\n      <td>3</td>\n      <td>1</td>\n      <td>0</td>\n      <td>3</td>\n      <td>0.42857142857142855</td>\n      <td>0.14285714285714285</td>\n      <td>0.0</td>\n      <td>0.42857142857142855</td>\n    </tr>\n    <tr>\n      <th>3</th>\n      <td>6</td>\n      <td>3</td>\n      <td>1</td>\n      <td>3</td>\n      <td>0.46153846153846156</td>\n      <td>0.23076923076923078</td>\n      <td>0.07692307692307693</td>\n      <td>0.23076923076923078</td>\n    </tr>\n    <tr>\n      <th>4</th>\n      <td>4</td>\n      <td>0</td>\n      <td>0</td>\n      <td>1</td>\n      <td>0.8</td>\n      <td>0.0</td>\n      <td>0.0</td>\n      <td>0.2</td>\n    </tr>\n    <tr>\n      <th>...</th>\n      <td>...</td>\n      <td>...</td>\n      <td>...</td>\n      <td>...</td>\n      <td>...</td>\n      <td>...</td>\n      <td>...</td>\n      <td>...</td>\n    </tr>\n    <tr>\n      <th>480</th>\n      <td>1</td>\n      <td>1</td>\n      <td>0</td>\n      <td>1</td>\n      <td>0.3333333333333333</td>\n      <td>0.3333333333333333</td>\n      <td>0.0</td>\n      <td>0.3333333333333333</td>\n    </tr>\n    <tr>\n      <th>481</th>\n      <td>0</td>\n      <td>0</td>\n      <td>0</td>\n      <td>1</td>\n      <td>0.0</td>\n      <td>0.0</td>\n      <td>0.0</td>\n      <td>1.0</td>\n    </tr>\n    <tr>\n      <th>482</th>\n      <td>1</td>\n      <td>0</td>\n      <td>0</td>\n      <td>1</td>\n      <td>0.5</td>\n      <td>0.0</td>\n      <td>0.0</td>\n      <td>0.5</td>\n    </tr>\n    <tr>\n      <th>483</th>\n      <td>3</td>\n      <td>0</td>\n      <td>0</td>\n      <td>1</td>\n      <td>0.75</td>\n      <td>0.0</td>\n      <td>0.0</td>\n      <td>0.25</td>\n    </tr>\n    <tr>\n      <th>484</th>\n      <td>0</td>\n      <td>0</td>\n      <td>0</td>\n      <td>1</td>\n      <td>0.0</td>\n      <td>0.0</td>\n      <td>0.0</td>\n      <td>1.0</td>\n    </tr>\n  </tbody>\n</table>\n<p>485 rows × 8 columns</p>\n</div>",
      "text/plain": "     NodeThreadCount 0  NodeThreadCount 0.25  NodeThreadCount 0.5  \\\n0                   14                     0                    0   \n1                   18                     0                    0   \n2                    3                     1                    0   \n3                    6                     3                    1   \n4                    4                     0                    0   \n..                 ...                   ...                  ...   \n480                  1                     1                    0   \n481                  0                     0                    0   \n482                  1                     0                    0   \n483                  3                     0                    0   \n484                  0                     0                    0   \n\n     NodeThreadCount 0.75   NodeThreadRatio 0  NodeThreadRatio 0.25  \\\n0                       1  0.9333333333333333                   0.0   \n1                       1  0.9473684210526315                   0.0   \n2                       3 0.42857142857142855   0.14285714285714285   \n3                       3 0.46153846153846156   0.23076923076923078   \n4                       1                 0.8                   0.0   \n..                    ...                 ...                   ...   \n480                     1  0.3333333333333333    0.3333333333333333   \n481                     1                 0.0                   0.0   \n482                     1                 0.5                   0.0   \n483                     1                0.75                   0.0   \n484                     1                 0.0                   0.0   \n\n     NodeThreadRatio 0.5  NodeThreadRatio 0.75  \n0                    0.0   0.06666666666666667  \n1                    0.0   0.05263157894736842  \n2                    0.0   0.42857142857142855  \n3    0.07692307692307693   0.23076923076923078  \n4                    0.0                   0.2  \n..                   ...                   ...  \n480                  0.0    0.3333333333333333  \n481                  0.0                   1.0  \n482                  0.0                   0.5  \n483                  0.0                  0.25  \n484                  0.0                   1.0  \n\n[485 rows x 8 columns]"
     },
     "execution_count": 165,
     "metadata": {},
     "output_type": "execute_result"
    }
   ],
   "source": [
    "ext_thread_time_df"
   ]
  },
  {
   "cell_type": "code",
   "execution_count": null,
   "metadata": {},
   "outputs": [],
   "source": [
    "'''\n",
    "0은 가장 마지막 트윗의 쓰레드 생성으로부터의 시간차: 즉 쓰레드의 지속 기간\n",
    "1은 해당 쓰레드의 가장 마지막 트윗\n",
    "2는 해당 쓰레드의 트윗들이 생성된 시간\n",
    "3은 해당 쓰레드의 트윗들과 첫 트윗간의 시간 차  \n",
    "4는 해당 쓰레드의 트윗들과 첫 트윗간의 시간 차를 퍼센타일로 나눈것\n",
    "5는 해당 쓰레드의 트윗들이\n",
    "6은 해당 쓰레드의 타임라인을 4등분 한 값들\n",
    "7은 해당 쓰레드의 트윗들이 쓰레드의 타임라인에서 몇번쨰 퍼센타일에 위치하는지를 카운트 함.\n",
    "8은 해당 쓰레드의 트윗들이 쓰레드의 타임라인에서 몇번쨰 퍼센타일에 위치하는지를 비율로 나타냄.\n",
    "\n",
    "2에서 0.0인 값은 무엇인가? -> depth, 드랍함\n",
    "쓸 것은 7과 8이며, 이는 0과 3,6를 필요로 한다.\n",
    "'''\n",
    "tweetInfo = []\n",
    "structure = structure_ext.drop(['depth'], axis=1)\n",
    "for index, data in enumerate(structure.Root):\n",
    "    pid = int(data)\n",
    "    thread_node_count = len([childid for childid in structure.loc[index,:].dropna()]) \n",
    "\n",
    "    thread_life = np.max([np.sum(all_ext.loc[(all_ext['id'] == childid)]['tweet_created']) for childid in structure.loc[index,:].dropna()] - all_ext.loc[(all_ext['id'] == pid)].tweet_created.sum())\n",
    "\n",
    "\n",
    "    thread_life2 = np.max([np.sum(all_ext.loc[(all_ext['id'] == childid)]['tweet_created']) for childid in structure.loc[index,:].dropna()])\n",
    "\n",
    "    thread_life3 = [np.sum(all_ext.loc[(all_ext['id'] == childid)]['tweet_created']) for childid in structure.loc[index,:].dropna()]\n",
    "\n",
    "    thread_life4 = [np.sum(all_ext.loc[(all_ext['id'] == childid)]['tweet_created']) for childid in structure.loc[index,:].dropna()] - all_ext.loc[(all_ext['id'] == pid)].tweet_created.sum()\n",
    "\n",
    "    thread_life5 = [np.percentile(thread_life4, 0),np.percentile(thread_life4, 25),np.percentile(thread_life4, 50),np.percentile(thread_life4, 75)]\n",
    "\n",
    "    result = np.digitize(thread_life4, bins= [np.percentile(thread_life4, 0),np.percentile(thread_life4, 25),np.percentile(thread_life4, 50),np.percentile(thread_life4, 75)])\n",
    "    thread_life6 = np.bincount(result)[1:]/thread_node_count\n",
    "\n",
    "    # 0번 데이터와 동일\n",
    "    # thread_life7 = np.max([np.sum(all_ext.loc[(all_ext['id'] == childid)]['tweet_created']) for childid in structure.loc[index,:].dropna()] - all_ext.loc[(all_ext['id'] == pid)].tweet_created.sum())\n",
    "\n",
    "    thread_life7 = [0,thread_life*0.25, thread_life*0.5, thread_life*0.75]\n",
    "    result = np.digitize(thread_life4, bins= [thread_life7[0],thread_life7[1],thread_life7[2],thread_life7[3]])\n",
    "    thread_life8 = np.bincount(result)[1:]\n",
    "    thread_life9 = np.bincount(result)[1:]/thread_node_count\n",
    "\n",
    "\n",
    "    tweetInfo.append([thread_life,thread_life2,thread_life3,thread_life4,thread_life5,thread_life6,thread_life7,thread_life8,thread_life9])\n",
    "    # tweetInfo.append(thread_life2)\n",
    "pd.DataFrame(tweetInfo)\n"
   ]
  },
  {
   "cell_type": "code",
   "execution_count": 138,
   "metadata": {},
   "outputs": [
    {
     "name": "stdout",
     "output_type": "stream",
     "text": [
      "1.1461280327501029\n",
      "2.6153846153846154\n",
      "[0 3 3 3 4]\n"
     ]
    },
    {
     "data": {
      "text/html": "<div>\n<style scoped>\n    .dataframe tbody tr th:only-of-type {\n        vertical-align: middle;\n    }\n\n    .dataframe tbody tr th {\n        vertical-align: top;\n    }\n\n    .dataframe thead th {\n        text-align: right;\n    }\n</style>\n<table border=\"1\" class=\"dataframe\">\n  <thead>\n    <tr style=\"text-align: right;\">\n      <th></th>\n      <th>0</th>\n      <th>1</th>\n      <th>2</th>\n      <th>3</th>\n      <th>4</th>\n      <th>5</th>\n      <th>6</th>\n      <th>7</th>\n      <th>8</th>\n      <th>9</th>\n      <th>10</th>\n      <th>11</th>\n      <th>12</th>\n    </tr>\n  </thead>\n  <tbody>\n    <tr>\n      <th>0</th>\n      <td>1.0</td>\n      <td>3.0</td>\n      <td>4.0</td>\n      <td>1.0</td>\n      <td>4.0</td>\n      <td>4.0</td>\n      <td>3.0</td>\n      <td>3.0</td>\n      <td>4.0</td>\n      <td>1.0</td>\n      <td>2.0</td>\n      <td>2.0</td>\n      <td>2.0</td>\n    </tr>\n    <tr>\n      <th>1</th>\n      <td>1413140606.0</td>\n      <td>1413146264.0</td>\n      <td>1413157960.0</td>\n      <td>1413140673.0</td>\n      <td>1413153255.0</td>\n      <td>1413162046.0</td>\n      <td>1413151050.0</td>\n      <td>1413151112.0</td>\n      <td>1413157550.0</td>\n      <td>1413140637.0</td>\n      <td>1413141498.0</td>\n      <td>1413140920.0</td>\n      <td>1413142523.0</td>\n    </tr>\n    <tr>\n      <th>2</th>\n      <td>0.0</td>\n      <td>5658.0</td>\n      <td>17354.0</td>\n      <td>67.0</td>\n      <td>12649.0</td>\n      <td>21440.0</td>\n      <td>10444.0</td>\n      <td>10506.0</td>\n      <td>16944.0</td>\n      <td>31.0</td>\n      <td>892.0</td>\n      <td>314.0</td>\n      <td>1917.0</td>\n    </tr>\n  </tbody>\n</table>\n</div>",
      "text/plain": "            0            1            2            3            4   \\\n0          1.0          3.0          4.0          1.0          4.0   \n1 1413140606.0 1413146264.0 1413157960.0 1413140673.0 1413153255.0   \n2          0.0       5658.0      17354.0         67.0      12649.0   \n\n            5            6            7            8            9   \\\n0          4.0          3.0          3.0          4.0          1.0   \n1 1413162046.0 1413151050.0 1413151112.0 1413157550.0 1413140637.0   \n2      21440.0      10444.0      10506.0      16944.0         31.0   \n\n            10           11           12  \n0          2.0          2.0          2.0  \n1 1413141498.0 1413140920.0 1413142523.0  \n2        892.0        314.0       1917.0  "
     },
     "execution_count": 138,
     "metadata": {},
     "output_type": "execute_result"
    }
   ],
   "source": [
    "thread_range = [0.0, 5658.0, 17354.0, 67.0, 12649.0, 21440.0, 10444.0, 10506.0, 16944.0, 31.0, 892.0, 314.0, 1917.0]\t\n",
    "thread_time = [1413140606.0, 1413146264.0, 1413157960.0, 1413140673.0, 1413153255.0, 1413162046.0, 1413151050.0, 1413151112.0, 1413157550.0, 1413140637.0, 1413141498.0, 1413140920.0, 1413142523.0]\n",
    "result = np.digitize(thread_range, bins= [np.percentile(thread_range, 0),np.percentile(thread_range, 25),np.percentile(thread_range, 50),np.percentile(thread_range, 75)])\n",
    "df = pd.DataFrame([result,thread_time,thread_range])\n",
    "# pd.cut(pd.DataFrame(thread_range,columns=['start'])['start'],bins=4)\n",
    "# pd.DataFrame(thread_range)\n",
    "print(np.std(result))\n",
    "print(np.mean(df.iloc[0]))\n",
    "print(np.bincount(df.iloc[0]))\n",
    "df"
   ]
  },
  {
   "cell_type": "code",
   "execution_count": 49,
   "metadata": {},
   "outputs": [
    {
     "data": {
      "text/html": "<div>\n<style scoped>\n    .dataframe tbody tr th:only-of-type {\n        vertical-align: middle;\n    }\n\n    .dataframe tbody tr th {\n        vertical-align: top;\n    }\n\n    .dataframe thead th {\n        text-align: right;\n    }\n</style>\n<table border=\"1\" class=\"dataframe\">\n  <thead>\n    <tr style=\"text-align: right;\">\n      <th></th>\n      <th>id</th>\n      <th>pid</th>\n      <th>userid</th>\n      <th>emoji_count</th>\n      <th>has_media</th>\n      <th>URLcount</th>\n      <th>Skepticism</th>\n      <th>FirstPersonPronoun</th>\n      <th>SecondPersonPronoun</th>\n      <th>ThirdPersonPronoun</th>\n      <th>test_auxiliary</th>\n      <th>test_tentat</th>\n      <th>test_certain</th>\n      <th>Numeral</th>\n      <th>char_count</th>\n      <th>word_count</th>\n      <th>HashTag</th>\n      <th>has_question</th>\n      <th>has_exclaim</th>\n      <th>has_period</th>\n      <th>retweet_count</th>\n      <th>statuses_count</th>\n      <th>listed_count</th>\n      <th>friends_count</th>\n      <th>followers_count</th>\n      <th>followers/friend</th>\n      <th>favourites_count</th>\n      <th>account_age_days</th>\n      <th>tweet_created</th>\n      <th>capital_ratio</th>\n      <th>verified</th>\n      <th>isSrcTweet</th>\n      <th>target</th>\n    </tr>\n  </thead>\n  <tbody>\n    <tr>\n      <th>count</th>\n      <td>1.963000e+03</td>\n      <td>1.478000e+03</td>\n      <td>1.963000e+03</td>\n      <td>1963.000000</td>\n      <td>1963.000000</td>\n      <td>1963.000000</td>\n      <td>1963.000000</td>\n      <td>1963.000000</td>\n      <td>1963.000000</td>\n      <td>1963.000000</td>\n      <td>1963.000000</td>\n      <td>1963.000000</td>\n      <td>1963.000000</td>\n      <td>1963.000000</td>\n      <td>1963.000000</td>\n      <td>1963.000000</td>\n      <td>1963.000000</td>\n      <td>1963.000000</td>\n      <td>1963.000000</td>\n      <td>1963.000000</td>\n      <td>1963.000000</td>\n      <td>1963.00000</td>\n      <td>1963.000000</td>\n      <td>1963.000000</td>\n      <td>1.963000e+03</td>\n      <td>1963.000000</td>\n      <td>1963.000000</td>\n      <td>1963.000000</td>\n      <td>1.963000e+03</td>\n      <td>1963.000000</td>\n      <td>1963.000000</td>\n      <td>1963.000000</td>\n      <td>1963.000000</td>\n    </tr>\n    <tr>\n      <th>mean</th>\n      <td>5.487485e+17</td>\n      <td>5.474837e+17</td>\n      <td>7.677491e+08</td>\n      <td>0.083036</td>\n      <td>0.117677</td>\n      <td>0.195110</td>\n      <td>3.033113</td>\n      <td>0.337239</td>\n      <td>0.112583</td>\n      <td>0.392257</td>\n      <td>0.853795</td>\n      <td>0.036169</td>\n      <td>0.014264</td>\n      <td>0.121243</td>\n      <td>88.743250</td>\n      <td>13.015283</td>\n      <td>0.443199</td>\n      <td>0.187468</td>\n      <td>0.177280</td>\n      <td>0.631686</td>\n      <td>13.433011</td>\n      <td>24526.93785</td>\n      <td>204.515537</td>\n      <td>1212.857871</td>\n      <td>1.424372e+04</td>\n      <td>33.936001</td>\n      <td>3852.860927</td>\n      <td>1296.516047</td>\n      <td>1.419667e+09</td>\n      <td>0.089520</td>\n      <td>0.064697</td>\n      <td>0.247071</td>\n      <td>0.819154</td>\n    </tr>\n    <tr>\n      <th>std</th>\n      <td>2.419729e+16</td>\n      <td>2.419491e+16</td>\n      <td>9.605766e+08</td>\n      <td>0.525334</td>\n      <td>0.322307</td>\n      <td>0.407794</td>\n      <td>2.086661</td>\n      <td>0.726921</td>\n      <td>0.364113</td>\n      <td>0.686985</td>\n      <td>1.022439</td>\n      <td>0.194774</td>\n      <td>0.122829</td>\n      <td>0.379887</td>\n      <td>39.006551</td>\n      <td>6.422023</td>\n      <td>0.984699</td>\n      <td>0.390386</td>\n      <td>0.382003</td>\n      <td>0.482470</td>\n      <td>254.083079</td>\n      <td>44156.16595</td>\n      <td>931.038308</td>\n      <td>3468.819447</td>\n      <td>9.185721e+04</td>\n      <td>269.561856</td>\n      <td>8806.898843</td>\n      <td>737.280478</td>\n      <td>5.769083e+06</td>\n      <td>0.075709</td>\n      <td>0.246053</td>\n      <td>0.431418</td>\n      <td>0.384988</td>\n    </tr>\n    <tr>\n      <th>min</th>\n      <td>5.213104e+17</td>\n      <td>5.213104e+17</td>\n      <td>3.993300e+04</td>\n      <td>0.000000</td>\n      <td>0.000000</td>\n      <td>0.000000</td>\n      <td>0.000000</td>\n      <td>0.000000</td>\n      <td>0.000000</td>\n      <td>0.000000</td>\n      <td>0.000000</td>\n      <td>0.000000</td>\n      <td>0.000000</td>\n      <td>0.000000</td>\n      <td>8.000000</td>\n      <td>1.000000</td>\n      <td>0.000000</td>\n      <td>0.000000</td>\n      <td>0.000000</td>\n      <td>0.000000</td>\n      <td>0.000000</td>\n      <td>1.00000</td>\n      <td>0.000000</td>\n      <td>0.000000</td>\n      <td>2.000000e+00</td>\n      <td>0.006969</td>\n      <td>0.000000</td>\n      <td>3.000000</td>\n      <td>1.413125e+09</td>\n      <td>0.000000</td>\n      <td>0.000000</td>\n      <td>0.000000</td>\n      <td>0.000000</td>\n    </tr>\n    <tr>\n      <th>25%</th>\n      <td>5.296767e+17</td>\n      <td>5.296548e+17</td>\n      <td>4.840911e+07</td>\n      <td>0.000000</td>\n      <td>0.000000</td>\n      <td>0.000000</td>\n      <td>1.000000</td>\n      <td>0.000000</td>\n      <td>0.000000</td>\n      <td>0.000000</td>\n      <td>0.000000</td>\n      <td>0.000000</td>\n      <td>0.000000</td>\n      <td>0.000000</td>\n      <td>55.000000</td>\n      <td>8.000000</td>\n      <td>0.000000</td>\n      <td>0.000000</td>\n      <td>0.000000</td>\n      <td>0.000000</td>\n      <td>0.000000</td>\n      <td>2504.50000</td>\n      <td>3.000000</td>\n      <td>209.500000</td>\n      <td>1.765000e+02</td>\n      <td>0.541128</td>\n      <td>89.500000</td>\n      <td>652.000000</td>\n      <td>1.415120e+09</td>\n      <td>0.041667</td>\n      <td>0.000000</td>\n      <td>0.000000</td>\n      <td>1.000000</td>\n    </tr>\n    <tr>\n      <th>50%</th>\n      <td>5.297539e+17</td>\n      <td>5.297357e+17</td>\n      <td>2.914131e+08</td>\n      <td>0.000000</td>\n      <td>0.000000</td>\n      <td>0.000000</td>\n      <td>3.000000</td>\n      <td>0.000000</td>\n      <td>0.000000</td>\n      <td>0.000000</td>\n      <td>1.000000</td>\n      <td>0.000000</td>\n      <td>0.000000</td>\n      <td>0.000000</td>\n      <td>90.000000</td>\n      <td>13.000000</td>\n      <td>0.000000</td>\n      <td>0.000000</td>\n      <td>0.000000</td>\n      <td>1.000000</td>\n      <td>0.000000</td>\n      <td>8742.00000</td>\n      <td>13.000000</td>\n      <td>549.000000</td>\n      <td>6.680000e+02</td>\n      <td>1.051062</td>\n      <td>734.000000</td>\n      <td>1313.000000</td>\n      <td>1.415138e+09</td>\n      <td>0.072464</td>\n      <td>0.000000</td>\n      <td>0.000000</td>\n      <td>1.000000</td>\n    </tr>\n    <tr>\n      <th>75%</th>\n      <td>5.765608e+17</td>\n      <td>5.765046e+17</td>\n      <td>1.262230e+09</td>\n      <td>0.000000</td>\n      <td>0.000000</td>\n      <td>0.000000</td>\n      <td>4.000000</td>\n      <td>0.000000</td>\n      <td>0.000000</td>\n      <td>1.000000</td>\n      <td>1.000000</td>\n      <td>0.000000</td>\n      <td>0.000000</td>\n      <td>0.000000</td>\n      <td>128.000000</td>\n      <td>18.000000</td>\n      <td>0.000000</td>\n      <td>0.000000</td>\n      <td>0.000000</td>\n      <td>1.000000</td>\n      <td>2.000000</td>\n      <td>27291.50000</td>\n      <td>60.500000</td>\n      <td>1109.500000</td>\n      <td>2.479500e+03</td>\n      <td>2.556098</td>\n      <td>3015.500000</td>\n      <td>2031.000000</td>\n      <td>1.426298e+09</td>\n      <td>0.116111</td>\n      <td>0.000000</td>\n      <td>0.000000</td>\n      <td>1.000000</td>\n    </tr>\n    <tr>\n      <th>max</th>\n      <td>5.794791e+17</td>\n      <td>5.774539e+17</td>\n      <td>3.080427e+09</td>\n      <td>10.000000</td>\n      <td>1.000000</td>\n      <td>2.000000</td>\n      <td>12.000000</td>\n      <td>7.000000</td>\n      <td>3.000000</td>\n      <td>5.000000</td>\n      <td>6.000000</td>\n      <td>2.000000</td>\n      <td>2.000000</td>\n      <td>3.000000</td>\n      <td>148.000000</td>\n      <td>29.000000</td>\n      <td>7.000000</td>\n      <td>1.000000</td>\n      <td>1.000000</td>\n      <td>1.000000</td>\n      <td>10402.000000</td>\n      <td>544431.00000</td>\n      <td>14430.000000</td>\n      <td>68912.000000</td>\n      <td>2.064747e+06</td>\n      <td>8215.700000</td>\n      <td>96201.000000</td>\n      <td>3021.000000</td>\n      <td>1.426994e+09</td>\n      <td>0.764706</td>\n      <td>1.000000</td>\n      <td>1.000000</td>\n      <td>1.000000</td>\n    </tr>\n  </tbody>\n</table>\n</div>",
      "text/plain": "                 id           pid        userid  emoji_count    has_media  \\\ncount  1.963000e+03  1.478000e+03  1.963000e+03  1963.000000  1963.000000   \nmean   5.487485e+17  5.474837e+17  7.677491e+08     0.083036     0.117677   \nstd    2.419729e+16  2.419491e+16  9.605766e+08     0.525334     0.322307   \nmin    5.213104e+17  5.213104e+17  3.993300e+04     0.000000     0.000000   \n25%    5.296767e+17  5.296548e+17  4.840911e+07     0.000000     0.000000   \n50%    5.297539e+17  5.297357e+17  2.914131e+08     0.000000     0.000000   \n75%    5.765608e+17  5.765046e+17  1.262230e+09     0.000000     0.000000   \nmax    5.794791e+17  5.774539e+17  3.080427e+09    10.000000     1.000000   \n\n          URLcount   Skepticism  FirstPersonPronoun  SecondPersonPronoun  \\\ncount  1963.000000  1963.000000         1963.000000          1963.000000   \nmean      0.195110     3.033113            0.337239             0.112583   \nstd       0.407794     2.086661            0.726921             0.364113   \nmin       0.000000     0.000000            0.000000             0.000000   \n25%       0.000000     1.000000            0.000000             0.000000   \n50%       0.000000     3.000000            0.000000             0.000000   \n75%       0.000000     4.000000            0.000000             0.000000   \nmax       2.000000    12.000000            7.000000             3.000000   \n\n       ThirdPersonPronoun  test_auxiliary  test_tentat  test_certain  \\\ncount         1963.000000     1963.000000  1963.000000   1963.000000   \nmean             0.392257        0.853795     0.036169      0.014264   \nstd              0.686985        1.022439     0.194774      0.122829   \nmin              0.000000        0.000000     0.000000      0.000000   \n25%              0.000000        0.000000     0.000000      0.000000   \n50%              0.000000        1.000000     0.000000      0.000000   \n75%              1.000000        1.000000     0.000000      0.000000   \nmax              5.000000        6.000000     2.000000      2.000000   \n\n           Numeral   char_count   word_count      HashTag  has_question  \\\ncount  1963.000000  1963.000000  1963.000000  1963.000000   1963.000000   \nmean      0.121243    88.743250    13.015283     0.443199      0.187468   \nstd       0.379887    39.006551     6.422023     0.984699      0.390386   \nmin       0.000000     8.000000     1.000000     0.000000      0.000000   \n25%       0.000000    55.000000     8.000000     0.000000      0.000000   \n50%       0.000000    90.000000    13.000000     0.000000      0.000000   \n75%       0.000000   128.000000    18.000000     0.000000      0.000000   \nmax       3.000000   148.000000    29.000000     7.000000      1.000000   \n\n       has_exclaim   has_period  retweet_count  statuses_count  listed_count  \\\ncount  1963.000000  1963.000000    1963.000000      1963.00000   1963.000000   \nmean      0.177280     0.631686      13.433011     24526.93785    204.515537   \nstd       0.382003     0.482470     254.083079     44156.16595    931.038308   \nmin       0.000000     0.000000       0.000000         1.00000      0.000000   \n25%       0.000000     0.000000       0.000000      2504.50000      3.000000   \n50%       0.000000     1.000000       0.000000      8742.00000     13.000000   \n75%       0.000000     1.000000       2.000000     27291.50000     60.500000   \nmax       1.000000     1.000000   10402.000000    544431.00000  14430.000000   \n\n       friends_count  followers_count  followers/friend  favourites_count  \\\ncount    1963.000000     1.963000e+03       1963.000000       1963.000000   \nmean     1212.857871     1.424372e+04         33.936001       3852.860927   \nstd      3468.819447     9.185721e+04        269.561856       8806.898843   \nmin         0.000000     2.000000e+00          0.006969          0.000000   \n25%       209.500000     1.765000e+02          0.541128         89.500000   \n50%       549.000000     6.680000e+02          1.051062        734.000000   \n75%      1109.500000     2.479500e+03          2.556098       3015.500000   \nmax     68912.000000     2.064747e+06       8215.700000      96201.000000   \n\n       account_age_days  tweet_created  capital_ratio     verified  \\\ncount       1963.000000   1.963000e+03    1963.000000  1963.000000   \nmean        1296.516047   1.419667e+09       0.089520     0.064697   \nstd          737.280478   5.769083e+06       0.075709     0.246053   \nmin            3.000000   1.413125e+09       0.000000     0.000000   \n25%          652.000000   1.415120e+09       0.041667     0.000000   \n50%         1313.000000   1.415138e+09       0.072464     0.000000   \n75%         2031.000000   1.426298e+09       0.116111     0.000000   \nmax         3021.000000   1.426994e+09       0.764706     1.000000   \n\n        isSrcTweet       target  \ncount  1963.000000  1963.000000  \nmean      0.247071     0.819154  \nstd       0.431418     0.384988  \nmin       0.000000     0.000000  \n25%       0.000000     1.000000  \n50%       0.000000     1.000000  \n75%       0.000000     1.000000  \nmax       1.000000     1.000000  "
     },
     "execution_count": 49,
     "metadata": {},
     "output_type": "execute_result"
    }
   ],
   "source": [
    "all_ext.describe()"
   ]
  },
  {
   "cell_type": "code",
   "execution_count": 43,
   "metadata": {},
   "outputs": [
    {
     "data": {
      "text/plain": "target\n1    71\n0    26\ndtype: int64"
     },
     "execution_count": 43,
     "metadata": {},
     "output_type": "execute_result"
    }
   ],
   "source": [
    "all_ext.loc[all_ext['account_age_days']<100][['account_age_days','verified', 'HashTag', 'URLcount',\n",
    "                                            'retweet_count', 'isSrcTweet', 'target']].value_counts('target')\n"
   ]
  },
  {
   "cell_type": "code",
   "execution_count": 47,
   "metadata": {},
   "outputs": [
    {
     "ename": "ValueError",
     "evalue": "The truth value of a Series is ambiguous. Use a.empty, a.bool(), a.item(), a.any() or a.all().",
     "output_type": "error",
     "traceback": [
      "\u001b[0;31m---------------------------------------------------------------------------\u001b[0m",
      "\u001b[0;31mValueError\u001b[0m                                Traceback (most recent call last)",
      "\u001b[0;32m<ipython-input-47-4b5709a94d49>\u001b[0m in \u001b[0;36m<module>\u001b[0;34m\u001b[0m\n\u001b[0;32m----> 1\u001b[0;31m all_ext.loc[(all_ext['retweet_count'] > 0) and (all_ext.pid==521369179392581632)][['verified', 'HashTag', 'URLcount',\n\u001b[0m\u001b[1;32m      2\u001b[0m                                            'MentionCount', 'retweet_count', 'isSrcTweet', 'target']].sample(18)\n",
      "\u001b[0;32m~/miniconda3/envs/rosetta/lib/python3.8/site-packages/pandas/core/generic.py\u001b[0m in \u001b[0;36m__nonzero__\u001b[0;34m(self)\u001b[0m\n\u001b[1;32m   1439\u001b[0m     \u001b[0;34m@\u001b[0m\u001b[0mfinal\u001b[0m\u001b[0;34m\u001b[0m\u001b[0;34m\u001b[0m\u001b[0m\n\u001b[1;32m   1440\u001b[0m     \u001b[0;32mdef\u001b[0m \u001b[0m__nonzero__\u001b[0m\u001b[0;34m(\u001b[0m\u001b[0mself\u001b[0m\u001b[0;34m)\u001b[0m\u001b[0;34m:\u001b[0m\u001b[0;34m\u001b[0m\u001b[0;34m\u001b[0m\u001b[0m\n\u001b[0;32m-> 1441\u001b[0;31m         raise ValueError(\n\u001b[0m\u001b[1;32m   1442\u001b[0m             \u001b[0;34mf\"The truth value of a {type(self).__name__} is ambiguous. \"\u001b[0m\u001b[0;34m\u001b[0m\u001b[0;34m\u001b[0m\u001b[0m\n\u001b[1;32m   1443\u001b[0m             \u001b[0;34m\"Use a.empty, a.bool(), a.item(), a.any() or a.all().\"\u001b[0m\u001b[0;34m\u001b[0m\u001b[0;34m\u001b[0m\u001b[0m\n",
      "\u001b[0;31mValueError\u001b[0m: The truth value of a Series is ambiguous. Use a.empty, a.bool(), a.item(), a.any() or a.all()."
     ]
    }
   ],
   "source": [
    "all_ext.loc[(all_ext['retweet_count'] > 0) and (all_ext.pid==521369179392581632)][['verified', 'HashTag', 'URLcount',\n",
    "                                           'MentionCount', 'retweet_count', 'isSrcTweet', 'target']].sample(18)\n"
   ]
  },
  {
   "cell_type": "code",
   "execution_count": 48,
   "metadata": {},
   "outputs": [
    {
     "ename": "KeyError",
     "evalue": "\"['MentionCount'] not in index\"",
     "output_type": "error",
     "traceback": [
      "\u001b[0;31m---------------------------------------------------------------------------\u001b[0m",
      "\u001b[0;31mKeyError\u001b[0m                                  Traceback (most recent call last)",
      "\u001b[0;32m<ipython-input-48-f6372c4175e8>\u001b[0m in \u001b[0;36m<module>\u001b[0;34m\u001b[0m\n\u001b[0;32m----> 1\u001b[0;31m \u001b[0mall_ext\u001b[0m\u001b[0;34m.\u001b[0m\u001b[0mloc\u001b[0m\u001b[0;34m[\u001b[0m\u001b[0mall_ext\u001b[0m\u001b[0;34m[\u001b[0m\u001b[0;34m'retweet_count'\u001b[0m\u001b[0;34m]\u001b[0m\u001b[0;34m>\u001b[0m\u001b[0;36m0\u001b[0m\u001b[0;34m]\u001b[0m\u001b[0;34m[\u001b[0m\u001b[0;34m[\u001b[0m\u001b[0;34m'text'\u001b[0m\u001b[0;34m,\u001b[0m \u001b[0;34m'verified'\u001b[0m\u001b[0;34m,\u001b[0m \u001b[0;34m'HashTag'\u001b[0m\u001b[0;34m,\u001b[0m \u001b[0;34m'URLcount'\u001b[0m\u001b[0;34m,\u001b[0m \u001b[0;34m'MentionCount'\u001b[0m\u001b[0;34m,\u001b[0m\u001b[0;34m'retweet_count'\u001b[0m\u001b[0;34m,\u001b[0m\u001b[0;34m'target'\u001b[0m\u001b[0;34m]\u001b[0m\u001b[0;34m]\u001b[0m\u001b[0;34m.\u001b[0m\u001b[0mgroupby\u001b[0m\u001b[0;34m(\u001b[0m\u001b[0;34m'target'\u001b[0m\u001b[0;34m)\u001b[0m\u001b[0;34m.\u001b[0m\u001b[0mmean\u001b[0m\u001b[0;34m(\u001b[0m\u001b[0;34m)\u001b[0m\u001b[0;34m\u001b[0m\u001b[0;34m\u001b[0m\u001b[0m\n\u001b[0m",
      "\u001b[0;32m~/miniconda3/envs/rosetta/lib/python3.8/site-packages/pandas/core/frame.py\u001b[0m in \u001b[0;36m__getitem__\u001b[0;34m(self, key)\u001b[0m\n\u001b[1;32m   3028\u001b[0m             \u001b[0;32mif\u001b[0m \u001b[0mis_iterator\u001b[0m\u001b[0;34m(\u001b[0m\u001b[0mkey\u001b[0m\u001b[0;34m)\u001b[0m\u001b[0;34m:\u001b[0m\u001b[0;34m\u001b[0m\u001b[0;34m\u001b[0m\u001b[0m\n\u001b[1;32m   3029\u001b[0m                 \u001b[0mkey\u001b[0m \u001b[0;34m=\u001b[0m \u001b[0mlist\u001b[0m\u001b[0;34m(\u001b[0m\u001b[0mkey\u001b[0m\u001b[0;34m)\u001b[0m\u001b[0;34m\u001b[0m\u001b[0;34m\u001b[0m\u001b[0m\n\u001b[0;32m-> 3030\u001b[0;31m             \u001b[0mindexer\u001b[0m \u001b[0;34m=\u001b[0m \u001b[0mself\u001b[0m\u001b[0;34m.\u001b[0m\u001b[0mloc\u001b[0m\u001b[0;34m.\u001b[0m\u001b[0m_get_listlike_indexer\u001b[0m\u001b[0;34m(\u001b[0m\u001b[0mkey\u001b[0m\u001b[0;34m,\u001b[0m \u001b[0maxis\u001b[0m\u001b[0;34m=\u001b[0m\u001b[0;36m1\u001b[0m\u001b[0;34m,\u001b[0m \u001b[0mraise_missing\u001b[0m\u001b[0;34m=\u001b[0m\u001b[0;32mTrue\u001b[0m\u001b[0;34m)\u001b[0m\u001b[0;34m[\u001b[0m\u001b[0;36m1\u001b[0m\u001b[0;34m]\u001b[0m\u001b[0;34m\u001b[0m\u001b[0;34m\u001b[0m\u001b[0m\n\u001b[0m\u001b[1;32m   3031\u001b[0m \u001b[0;34m\u001b[0m\u001b[0m\n\u001b[1;32m   3032\u001b[0m         \u001b[0;31m# take() does not accept boolean indexers\u001b[0m\u001b[0;34m\u001b[0m\u001b[0;34m\u001b[0m\u001b[0;34m\u001b[0m\u001b[0m\n",
      "\u001b[0;32m~/miniconda3/envs/rosetta/lib/python3.8/site-packages/pandas/core/indexing.py\u001b[0m in \u001b[0;36m_get_listlike_indexer\u001b[0;34m(self, key, axis, raise_missing)\u001b[0m\n\u001b[1;32m   1264\u001b[0m             \u001b[0mkeyarr\u001b[0m\u001b[0;34m,\u001b[0m \u001b[0mindexer\u001b[0m\u001b[0;34m,\u001b[0m \u001b[0mnew_indexer\u001b[0m \u001b[0;34m=\u001b[0m \u001b[0max\u001b[0m\u001b[0;34m.\u001b[0m\u001b[0m_reindex_non_unique\u001b[0m\u001b[0;34m(\u001b[0m\u001b[0mkeyarr\u001b[0m\u001b[0;34m)\u001b[0m\u001b[0;34m\u001b[0m\u001b[0;34m\u001b[0m\u001b[0m\n\u001b[1;32m   1265\u001b[0m \u001b[0;34m\u001b[0m\u001b[0m\n\u001b[0;32m-> 1266\u001b[0;31m         \u001b[0mself\u001b[0m\u001b[0;34m.\u001b[0m\u001b[0m_validate_read_indexer\u001b[0m\u001b[0;34m(\u001b[0m\u001b[0mkeyarr\u001b[0m\u001b[0;34m,\u001b[0m \u001b[0mindexer\u001b[0m\u001b[0;34m,\u001b[0m \u001b[0maxis\u001b[0m\u001b[0;34m,\u001b[0m \u001b[0mraise_missing\u001b[0m\u001b[0;34m=\u001b[0m\u001b[0mraise_missing\u001b[0m\u001b[0;34m)\u001b[0m\u001b[0;34m\u001b[0m\u001b[0;34m\u001b[0m\u001b[0m\n\u001b[0m\u001b[1;32m   1267\u001b[0m         \u001b[0;32mreturn\u001b[0m \u001b[0mkeyarr\u001b[0m\u001b[0;34m,\u001b[0m \u001b[0mindexer\u001b[0m\u001b[0;34m\u001b[0m\u001b[0;34m\u001b[0m\u001b[0m\n\u001b[1;32m   1268\u001b[0m \u001b[0;34m\u001b[0m\u001b[0m\n",
      "\u001b[0;32m~/miniconda3/envs/rosetta/lib/python3.8/site-packages/pandas/core/indexing.py\u001b[0m in \u001b[0;36m_validate_read_indexer\u001b[0;34m(self, key, indexer, axis, raise_missing)\u001b[0m\n\u001b[1;32m   1314\u001b[0m             \u001b[0;32mif\u001b[0m \u001b[0mraise_missing\u001b[0m\u001b[0;34m:\u001b[0m\u001b[0;34m\u001b[0m\u001b[0;34m\u001b[0m\u001b[0m\n\u001b[1;32m   1315\u001b[0m                 \u001b[0mnot_found\u001b[0m \u001b[0;34m=\u001b[0m \u001b[0mlist\u001b[0m\u001b[0;34m(\u001b[0m\u001b[0mset\u001b[0m\u001b[0;34m(\u001b[0m\u001b[0mkey\u001b[0m\u001b[0;34m)\u001b[0m \u001b[0;34m-\u001b[0m \u001b[0mset\u001b[0m\u001b[0;34m(\u001b[0m\u001b[0max\u001b[0m\u001b[0;34m)\u001b[0m\u001b[0;34m)\u001b[0m\u001b[0;34m\u001b[0m\u001b[0;34m\u001b[0m\u001b[0m\n\u001b[0;32m-> 1316\u001b[0;31m                 \u001b[0;32mraise\u001b[0m \u001b[0mKeyError\u001b[0m\u001b[0;34m(\u001b[0m\u001b[0;34mf\"{not_found} not in index\"\u001b[0m\u001b[0;34m)\u001b[0m\u001b[0;34m\u001b[0m\u001b[0;34m\u001b[0m\u001b[0m\n\u001b[0m\u001b[1;32m   1317\u001b[0m \u001b[0;34m\u001b[0m\u001b[0m\n\u001b[1;32m   1318\u001b[0m             \u001b[0mnot_found\u001b[0m \u001b[0;34m=\u001b[0m \u001b[0mkey\u001b[0m\u001b[0;34m[\u001b[0m\u001b[0mmissing_mask\u001b[0m\u001b[0;34m]\u001b[0m\u001b[0;34m\u001b[0m\u001b[0;34m\u001b[0m\u001b[0m\n",
      "\u001b[0;31mKeyError\u001b[0m: \"['MentionCount'] not in index\""
     ]
    }
   ],
   "source": [
    "all_ext.loc[all_ext['retweet_count']>0][['text', 'verified', 'HashTag', 'URLcount', 'MentionCount','retweet_count','target']].groupby('target').mean()"
   ]
  },
  {
   "cell_type": "code",
   "execution_count": null,
   "metadata": {},
   "outputs": [
    {
     "data": {
      "text/plain": "0    521410632953131008.00000\n1    521373142347153408.00000\n2    521369380249432064.00000\n3    521370496928337920.00000\n4    521370224256614400.00000\n5    521370771793670144.00000\n6    521378607231279104.00000\n7    521370530134626304.00000\n8    521373433654157312.00000\n9    521369485144387584.00000\n10   521370061550809088.00000\n11   521369671975858176.00000\n12   521372372927266816.00000\n13   521373960509079552.00000\nName: 0, dtype: float64"
     },
     "output_type": "unknown"
    }
   ],
   "source": [
    "structure_ext.loc[0,'0':].dropna()"
   ]
  },
  {
   "cell_type": "code",
   "execution_count": null,
   "metadata": {},
   "outputs": [
    {
     "data": {
      "text/plain": "15"
     },
     "output_type": "unknown"
    }
   ],
   "source": [
    "# friends_count = [np.sum(all_ext.loc[(all_ext['id'] == int(childid))]['friends_count'].values) for childid in structure_ext.loc[0,'0':].dropna()]\n",
    "len([childid for childid in structure_ext.loc[0,:].dropna()]) \n",
    "\n",
    "# # '''print where 'Sum Friends Count' is 0'''\n",
    "# ext_thread.loc[ext_thread['Sum Friends Count'] == 0]"
   ]
  },
  {
   "cell_type": "code",
   "execution_count": null,
   "metadata": {},
   "outputs": [
    {
     "data": {
      "text/plain": "Root   521369179392581632.00000\n0      521410632953131008.00000\n1      521373142347153408.00000\n2      521369380249432064.00000\n3      521370496928337920.00000\n4      521370224256614400.00000\n5      521370771793670144.00000\n6      521378607231279104.00000\n7      521370530134626304.00000\n8      521373433654157312.00000\n9      521369485144387584.00000\n10     521370061550809088.00000\n11     521369671975858176.00000\n12     521372372927266816.00000\n13     521373960509079552.00000\nName: 0, dtype: float64"
     },
     "output_type": "unknown"
    }
   ],
   "source": [
    "structure_ext.loc[0].dropna()"
   ]
  },
  {
   "cell_type": "code",
   "execution_count": null,
   "metadata": {},
   "outputs": [],
   "source": [
    "# (all_ext.loc[(all_ext['pid'] == 521369179392581632)])"
   ]
  },
  {
   "cell_type": "markdown",
   "metadata": {},
   "source": [
    "# Checking the result"
   ]
  },
  {
   "cell_type": "markdown",
   "metadata": {},
   "source": [
    "### Feature Importance"
   ]
  },
  {
   "cell_type": "code",
   "execution_count": 50,
   "metadata": {},
   "outputs": [],
   "source": [
    "from sklearn.ensemble import ExtraTreesClassifier\n",
    "import matplotlib.pyplot as plt\n",
    "\n",
    "def f_imp(X, y):\n",
    "    forest = ExtraTreesClassifier(n_estimators=250,\n",
    "                                random_state=3)\n",
    "\n",
    "    forest.fit(X, y)\n",
    "    importances = forest.feature_importances_\n",
    "    std = np.std([tree.feature_importances_ for tree in forest.estimators_],\n",
    "                axis=0)\n",
    "    indices = np.argsort(importances)[::-1]\n",
    "\n",
    "    # Print the feature ranking\n",
    "    print(\"Feature ranking:\")\n",
    "\n",
    "    for f in range(X.shape[1]):\n",
    "        print(\"%d. feature %d: %s (%f)\" % (f + 1, indices[f], X.columns[indices[f]], importances[indices[f]]))\n",
    "\n",
    "    # Plot the impurity-based feature importances of the forest\n",
    "    plt.figure(figsize=(12, 7))\n",
    "    plt.title(\"Feature importances\")\n",
    "    plt.scatter(importances[indices], X.columns[indices], color=\"r\")\n",
    "    plt.tight_layout()\n",
    "    plt.show()\n",
    "\n",
    "def f_imp2(X, y):\n",
    "    rf = RandomForestClassifier(random_state=42)\n",
    "    rf.fit(X, y)\n",
    "    result = permutation_importance(rf, X, y, n_repeats=10,\n",
    "                                    random_state=42, n_jobs=2)\n",
    "    sorted_idx = result.importances_mean.argsort()\n",
    "\n",
    "    fig, ax = plt.subplots()\n",
    "    fig.set_size_inches(15, 7)\n",
    "    ax.boxplot(result.importances[sorted_idx].T,\n",
    "            vert=False, labels=X.columns[sorted_idx])\n",
    "    ax.set_title(\"Permutation Importances (test set)\",fontdict={'fontsize': 'x-large', 'fontweight': 'medium'})\n",
    "    ax.labelsize='x-large'\n",
    "    fig.titlesize='x-large'\n",
    "    fig.tight_layout()\n",
    "    plt.show()"
   ]
  },
  {
   "cell_type": "code",
   "execution_count": 53,
   "metadata": {},
   "outputs": [
    {
     "name": "stdout",
     "output_type": "stream",
     "text": [
      "Feature ranking:\n",
      "1. feature 33: AVG FPP (0.036464)\n",
      "2. feature 17: AVG Follower (0.031733)\n",
      "3. feature 34: AVG SPP (0.031035)\n",
      "4. feature 18: AVG followers/friend (0.030910)\n",
      "5. feature 29: Ratio Media (0.029265)\n",
      "6. feature 36: AVG Skepticism (0.028353)\n",
      "7. feature 26: thread_time (0.027945)\n",
      "8. feature 35: AVG TPP (0.027030)\n",
      "9. feature 8: Ratio HashTag (0.026850)\n",
      "10. feature 15: AVG Statues (0.025882)\n",
      "11. feature 5: AVG CharCount (0.025824)\n",
      "12. feature 3: AVG WordCount (0.025737)\n",
      "13. feature 25: AVG AccAge (0.025494)\n",
      "14. feature 16: AVG Listed (0.025132)\n",
      "15. feature 24: AVG RT (0.024753)\n",
      "16. feature 23: SUM RT (0.024694)\n",
      "17. feature 32: RATIO Period (0.024568)\n",
      "18. feature 19: AVG favorite (0.024535)\n",
      "19. feature 38: test_auxiliary (0.024413)\n",
      "20. feature 13: AVG Mention (0.023800)\n",
      "21. feature 6: AVG HashTag (0.023676)\n",
      "22. feature 7: SUM HashTag (0.023287)\n",
      "23. feature 2: AVG FriendsCount (0.023090)\n",
      "24. feature 1: SUM FriendsCount (0.023037)\n",
      "25. feature 30: RATIO Question (0.022788)\n",
      "26. feature 21: Ratio Verified (0.022767)\n",
      "27. feature 4: SUM WordCount (0.022733)\n",
      "28. feature 31: RATIO Exclaim (0.022074)\n",
      "29. feature 37: Ratio Skepticism (0.021151)\n",
      "30. feature 11: RATIO Url (0.020688)\n",
      "31. feature 12: SUM Mention (0.020619)\n",
      "32. feature 14: Ratio Mention (0.020572)\n",
      "33. feature 0: depth (0.020518)\n",
      "34. feature 10: AVG Url (0.019808)\n",
      "35. feature 41: root_user_ratio (0.018660)\n",
      "36. feature 22: SUM Verified (0.018505)\n",
      "37. feature 20: Tweets Count (0.018345)\n",
      "38. feature 9: SUM Url (0.018280)\n",
      "39. feature 42: unique_user_ratio (0.018202)\n",
      "40. feature 39: test_tentat (0.015040)\n",
      "41. feature 28: RATIO Emoji (0.014588)\n",
      "42. feature 27: AVG Emoji (0.013737)\n",
      "43. feature 40: test_certain (0.013420)\n"
     ]
    },
    {
     "data": {
      "image/png": "[encoded data removed]",
      "text/plain": "<Figure size 864x504 with 1 Axes>"
     },
     "metadata": {
      "needs_background": "light"
     },
     "output_type": "display_data"
    }
   ],
   "source": [
    "f_imp(pheme_thread_avg, pheme_y)"
   ]
  },
  {
   "cell_type": "code",
   "execution_count": 54,
   "metadata": {},
   "outputs": [
    {
     "name": "stdout",
     "output_type": "stream",
     "text": [
      "Feature ranking:\n",
      "1. feature 0: NodeThreadCount 0 (0.201499)\n",
      "2. feature 7: NodeThreadRatio 0.75 (0.188200)\n",
      "3. feature 4: NodeThreadRatio 0 (0.162719)\n",
      "4. feature 5: NodeThreadRatio 0.25 (0.125013)\n",
      "5. feature 3: NodeThreadCount 0.75 (0.101112)\n",
      "6. feature 1: NodeThreadCount 0.25 (0.083354)\n",
      "7. feature 6: NodeThreadRatio 0.5 (0.077098)\n",
      "8. feature 2: NodeThreadCount 0.5 (0.061004)\n"
     ]
    },
    {
     "data": {
      "image/png": "[encoded data removed]",
      "text/plain": "<Figure size 864x504 with 1 Axes>"
     },
     "metadata": {
      "needs_background": "light"
     },
     "output_type": "display_data"
    }
   ],
   "source": [
    "f_imp(ext_thread_time_df, ext_y)"
   ]
  },
  {
   "cell_type": "code",
   "execution_count": 55,
   "metadata": {},
   "outputs": [
    {
     "data": {
      "image/png": "[encoded data removed]",
      "text/plain": "<Figure size 1080x504 with 1 Axes>"
     },
     "metadata": {
      "needs_background": "light"
     },
     "output_type": "display_data"
    }
   ],
   "source": [
    "f_imp2(ext_thread_time_df, ext_y)"
   ]
  },
  {
   "cell_type": "markdown",
   "metadata": {},
   "source": [
    "### Data Manipulation"
   ]
  },
  {
   "cell_type": "code",
   "execution_count": null,
   "metadata": {},
   "outputs": [
    {
     "data": {
      "application/x.notebook.stream": "(125208, 42)\n(5802, 347)\n"
     },
     "output_type": "unknown"
    }
   ],
   "source": [
    "all_pheme = pd.read_csv(\"./data/all/_PHEMEall.csv\")\n",
    "structure_pheme = pd.read_csv(\"./data/all/_PHEME_structure.csv\")\n",
    "print(all_pheme.shape)\n",
    "print(structure_pheme.shape)"
   ]
  },
  {
   "cell_type": "code",
   "execution_count": null,
   "metadata": {},
   "outputs": [],
   "source": [
    "for:\n",
    "    pheme_thread_log_1 = np.log10(pheme_thread[['depth','Tweets Count','AVG CharCount', 'SUM RT', 'AVG RT', 'AVG AccAge','thread_time','AVG Skepticism']])\n",
    "    ext_thread_log_1 = np.log10(ext_thread[['depth','Tweets Count','AVG CharCount', 'SUM RT', 'AVG RT', 'AVG AccAge','thread_time','AVG Skepticism']])\n",
    "    pheme_thread_log_1 = pheme_thread_log_1.replace(-np.inf, 0)\n",
    "    ext_thread_log_1 = ext_thread_log_1.replace(-np.inf, 0)\n",
    "\n",
    "    pheme_thread_log_2 = np.log10(pheme_thread)\n",
    "    ext_thread_log_2 = np.log10(ext_thread)\n",
    "    pheme_thread_log_2 = pheme_thread_log_2.replace(-np.inf, 0)\n",
    "    ext_thread_log_2 = ext_thread_log_2.replace(-np.inf, 0)\n",
    "\n",
    "    pheme_thread_log_3 = np.log10(pheme_thread[['depth','Tweets Count','AVG CharCount', 'SUM RT', 'AVG RT', 'AVG AccAge','thread_time','AVG Skepticism']])\n",
    "    ext_thread_log_3 = np.log10(ext_thread[['depth','Tweets Count','AVG CharCount', 'SUM RT', 'AVG RT', 'AVG AccAge','thread_time','AVG Skepticism']])\n",
    "    pheme_temp = pheme_thread.drop(['depth','Tweets Count','AVG CharCount', 'SUM RT', 'AVG RT', 'AVG AccAge','thread_time','AVG Skepticism'],axis=1)\n",
    "    ext_temp = ext_thread.drop(['depth','Tweets Count','AVG CharCount', 'SUM RT', 'AVG RT', 'AVG AccAge','thread_time','AVG Skepticism'],axis=1)\n",
    "    pheme_thread_log_3 = pd.concat([pheme_thread_log_3, pheme_temp], axis=1)\n",
    "    ext_thread_log_3 = pd.concat([ext_thread_log_3, ext_temp], axis=1)\n",
    "    pheme_thread_log_3 = pheme_thread_log_3.replace(-np.inf, 0)\n",
    "    ext_thread_log_3 = ext_thread_log_3.replace(-np.inf, 0)\n",
    "\n",
    "    pheme_thread_log_4 = np.log10(pheme_thread+1)\n",
    "    ext_thread_log_4 = np.log10(ext_thread+1)\n",
    "    pheme_thread_log_4 = pheme_thread_log_4.replace(-np.inf, 0)\n",
    "    ext_thread_log_4 = ext_thread_log_4.replace(-np.inf, 0)\n",
    "\n",
    "    pheme_thread_log_5 = np.log10(pheme_thread-pheme_thread.min()+1)\n",
    "    ext_thread_log_5 = np.log10(ext_thread-ext_thread.min()+1)\n",
    "    pheme_thread_log_5 = pheme_thread_log_5.replace(-np.inf, 0)\n",
    "    ext_thread_log_5 = ext_thread_log_5.replace(-np.inf, 0)\n",
    "\n",
    "    # pheme_thread_log_6 = np.log10(pheme_thread-pheme_thread.min()+1)\n",
    "    ext_thread_log_6 = np.log10(ext_thread_nostd-ext_thread_nostd.min()+1)\n",
    "    # pheme_thread_log_6 = pheme_thread_log_5.replace(-np.inf, 0)\n",
    "    ext_thread_log_6 = ext_thread_log_6.replace(-np.inf, 0)\n",
    "\n",
    "    ext_thread_log_7 = np.log10(ext_thread_noavg-ext_thread_noavg.min()+1)\n",
    "    # pheme_thread_log_7 = pheme_thread_log_5.replace(-np.inf, 0)\n",
    "    ext_thread_log_7 = ext_thread_log_7.replace(-np.inf, 0)\n",
    "\n",
    "    oheme_temp = pheme_thread_std.drop(['depth','SUM FriendsCount', 'SUM HashTag','SUM Mention', 'Tweets Count','AVG CharCount','AVG WordCount', 'SUM RT', 'AVG RT', 'AVG AccAge','thread_time','AVG Skepticism'],axis=1)\n",
    "    pheme_thread_log_8 = pheme_thread_std[['depth','SUM FriendsCount', 'SUM HashTag','SUM Mention', 'Tweets Count','AVG CharCount','AVG WordCount', 'SUM RT', 'AVG RT', 'AVG AccAge','thread_time','AVG Skepticism']]\n",
    "    pheme_thread_log_8 = np.log10(pheme_thread_log_8-pheme_thread_log_8.min()+1)\n",
    "    pheme_thread_log_8 = pd.concat([pheme_thread_log_8, oheme_temp], axis=1)\n",
    "    pheme_thread_log_8 = pheme_thread_log_8.replace(-np.inf, 0)\n",
    "\n",
    "    ext_temp = ext_thread_std.drop(['depth','SUM FriendsCount', 'SUM HashTag','SUM Mention', 'Tweets Count','AVG CharCount','AVG WordCount', 'SUM RT', 'AVG RT', 'AVG AccAge','thread_time','AVG Skepticism'],axis=1)\n",
    "    ext_thread_log_8 = ext_thread_std[['depth','SUM FriendsCount', 'SUM HashTag','SUM Mention', 'Tweets Count','AVG CharCount','AVG WordCount', 'SUM RT', 'AVG RT', 'AVG AccAge','thread_time','AVG Skepticism']]\n",
    "    ext_thread_log_8 = np.log10(ext_thread_log_8-ext_thread_log_8.min()+1)\n",
    "    ext_thread_log_8 = pd.concat([ext_thread_log_8, ext_temp], axis=1)\n",
    "    ext_thread_log_8 = ext_thread_log_8.replace(-np.inf, 0)\n",
    "\n",
    "\n",
    "    pheme_thread_log_9 = np.log10(pheme_thread_std-pheme_thread_std.min()+1)\n",
    "    ext_thread_log_9 = np.log10(ext_thread_std-ext_thread_std.min()+1)\n",
    "    pheme_thread_log_9 = pheme_thread_log_9.replace(-np.inf, 0)\n",
    "    ext_thread_log_9 = ext_thread_log_9.replace(-np.inf, 0)\n",
    "\n",
    "\n",
    "    # pheme_thread_log_7 = pheme_thread_log_5.replace(-np.inf, 0)\n",
    "\n",
    "    # pheme_structure.to_csv('./data/all/_PHEME_structure.csv', index = False)\n",
    "\n",
    "    # pheme_thread_log_5.to_csv('./data/_PHEME_thread_log.csv', index = False)\n",
    "    # ext_thread_log_5.to_csv('./data/_PHEMEext_thread_log.csv', index = False)\n",
    "\n",
    "    # np.isinf(pheme_thread_log).sum()\n",
    "    # ext_thread_log = np.log10(ext_thread)\n",
    "    # np.isinf(ext_thread_log).sum()"
   ]
  },
  {
   "cell_type": "markdown",
   "metadata": {},
   "source": [
    "### Trad"
   ]
  },
  {
   "cell_type": "code",
   "execution_count": 35,
   "metadata": {},
   "outputs": [],
   "source": [
    "from sklearn.model_selection import train_test_split\n",
    "from sklearn.naive_bayes import GaussianNB\n",
    "from sklearn.metrics import accuracy_score, recall_score, precision_score, f1_score\n",
    "from sklearn.metrics import classification_report\n",
    "from sklearn.preprocessing import StandardScaler\n",
    "\n",
    "from sklearn.svm import SVC\n",
    "from sklearn.svm import LinearSVC\n",
    "from sklearn.ensemble import RandomForestClassifier\n",
    "from sklearn.ensemble import AdaBoostClassifier\n",
    "from sklearn.linear_model import LogisticRegression"
   ]
  },
  {
   "cell_type": "code",
   "execution_count": 36,
   "metadata": {},
   "outputs": [
    {
     "ename": "NameError",
     "evalue": "name 'ext_thread_avg' is not defined",
     "output_type": "error",
     "traceback": [
      "\u001b[0;31m---------------------------------------------------------------------------\u001b[0m",
      "\u001b[0;31mNameError\u001b[0m                                 Traceback (most recent call last)",
      "\u001b[0;32m<ipython-input-36-8923e0b5794a>\u001b[0m in \u001b[0;36m<module>\u001b[0;34m\u001b[0m\n\u001b[1;32m     23\u001b[0m \u001b[0;34m\u001b[0m\u001b[0m\n\u001b[1;32m     24\u001b[0m \u001b[0;31m# ext_thread = ext_thread.replace(-np.inf, 0)\u001b[0m\u001b[0;34m\u001b[0m\u001b[0;34m\u001b[0m\u001b[0;34m\u001b[0m\u001b[0m\n\u001b[0;32m---> 25\u001b[0;31m \u001b[0mX_train\u001b[0m\u001b[0;34m,\u001b[0m \u001b[0mX_test\u001b[0m\u001b[0;34m,\u001b[0m \u001b[0my_train\u001b[0m\u001b[0;34m,\u001b[0m \u001b[0my_test\u001b[0m \u001b[0;34m=\u001b[0m \u001b[0mtrain_test_split\u001b[0m\u001b[0;34m(\u001b[0m\u001b[0mext_thread_avg\u001b[0m\u001b[0;34m.\u001b[0m\u001b[0miloc\u001b[0m\u001b[0;34m[\u001b[0m\u001b[0;34m:\u001b[0m\u001b[0;34m,\u001b[0m\u001b[0;34m:\u001b[0m\u001b[0;34m]\u001b[0m\u001b[0;34m,\u001b[0m \u001b[0mext_y\u001b[0m\u001b[0;34m,\u001b[0m \u001b[0mtest_size\u001b[0m\u001b[0;34m=\u001b[0m\u001b[0;36m0.12\u001b[0m\u001b[0;34m,\u001b[0m \u001b[0mrandom_state\u001b[0m\u001b[0;34m=\u001b[0m\u001b[0;36m42\u001b[0m\u001b[0;34m)\u001b[0m\u001b[0;34m\u001b[0m\u001b[0;34m\u001b[0m\u001b[0m\n\u001b[0m",
      "\u001b[0;31mNameError\u001b[0m: name 'ext_thread_avg' is not defined"
     ]
    }
   ],
   "source": [
    "def train_test(X_train, X_test, y_train, y_test, clf):\n",
    "    clf.fit(X_train, y_train)\n",
    "    result = clf.predict(X_test)\n",
    "    print(\"Accuracy:\\t\\t\",accuracy_score(y_test,result))\n",
    "    print('Precision Score:\\t', str(precision_score(y_test,result)))\n",
    "    print('Recall Score:\\t\\t' + str(recall_score(y_test,result)))\n",
    "    print(\"F1 Score:\\t\\t\",f1_score(y_test, result, average='macro', zero_division=True))\n",
    "    print(classification_report(y_test, result))\n",
    "    \n",
    "pheme_all = pd.read_csv(\"./data/all/_PHEMEall.csv\")\n",
    "pheme_thread = pd.read_csv(\"./data/_PHEME_thread.csv\")\n",
    "pheme_thread_std = pd.read_csv(\"./data/_PHEME_thread_std.csv\")\n",
    "pheme_thread_avg = pd.read_csv(\"./data/_PHEME_thread_avg.csv\")\n",
    "pheme_y = pd.read_csv('./data/_PHEME_text.csv').target\n",
    "ext_all = pd.read_csv(\"./data/all/_PHEMEextall.csv\")\n",
    "ext_thread = pd.read_csv(\"./data/_PHEMEext_thread.csv\")\n",
    "ext_thread_std = pd.read_csv(\"./data/_PHEMEext_thread_std.csv\")\n",
    "# ext_thread_avg = pd.read_csv(\"./data/_PHEMEext_thread_avg.csv\")\n",
    "ext_y = pd.read_csv('./data/_PHEMEext_text.csv').target\n",
    "\n",
    "# ext_thread = ext_thread.replace(-np.inf, 0)\n",
    "X_train, X_test, y_train, y_test = train_test_split(ext_thread_avg.iloc[:,:], ext_y, test_size=0.12, random_state=42)\n"
   ]
  },
  {
   "cell_type": "code",
   "execution_count": 42,
   "metadata": {},
   "outputs": [
    {
     "name": "stdout",
     "output_type": "stream",
     "text": [
      "[0.45360825 0.43298969 0.40206186 0.45360825 0.37113402]\n",
      "[0.68041237 0.25773196 0.2371134  0.24742268 0.26804124]\n",
      "[0.67010309 0.26804124 0.2371134  0.24742268 0.26804124]\n"
     ]
    }
   ],
   "source": [
    "from sklearn.model_selection import cross_val_score\n",
    "clf = GaussianNB()\n",
    "scores = cross_val_score(clf, ext_thread_time_df, ext_y, cv=5)\n",
    "print(scores)\n",
    "clf = GaussianNB()\n",
    "scores = cross_val_score(clf, ext_thread, ext_y, cv=5)\n",
    "print(scores)\n",
    "clf = GaussianNB()\n",
    "scores = cross_val_score(clf, pd.concat([ext_thread_time_df,ext_thread],axis=1), ext_y, cv=5)\n",
    "print(scores)\n"
   ]
  },
  {
   "cell_type": "code",
   "execution_count": null,
   "metadata": {},
   "outputs": [
    {
     "data": {
      "application/x.notebook.stdout": "Accuracy:\t\t 0.5918367346938775\nPrecision Score:\t 0.8\nRecall Score:\t\t0.5\nF1 Score:\t\t 0.5903010033444817\n              precision    recall  f1-score   support\n\n           0       0.45      0.76      0.57        17\n           1       0.80      0.50      0.62        32\n\n    accuracy                           0.59        49\n   macro avg       0.62      0.63      0.59        49\nweighted avg       0.68      0.59      0.60        49\n\n"
     },
     "output_type": "unknown"
    }
   ],
   "source": [
    "# All X_ext\n",
    "X_train, X_test, y_train, y_test = train_test_split(ext_thread_time_df.iloc[:,:], ext_y, test_size=0.1, random_state=42)\n",
    "scaler = StandardScaler()\n",
    "X_train = scaler.fit_transform(X_train)\n",
    "X_test = scaler.transform(X_test)\n",
    "clf = GaussianNB()\n",
    "train_test(X_train, X_test, y_train, y_test, clf)"
   ]
  },
  {
   "cell_type": "code",
   "execution_count": null,
   "metadata": {},
   "outputs": [
    {
     "data": {
      "application/x.notebook.stdout": "Accuracy:\t\t 0.673469387755102\nPrecision Score:\t 0.7666666666666667\nRecall Score:\t\t0.71875\nF1 Score:\t\t 0.6487455197132617\n              precision    recall  f1-score   support\n\n           0       0.53      0.59      0.56        17\n           1       0.77      0.72      0.74        32\n\n    accuracy                           0.67        49\n   macro avg       0.65      0.65      0.65        49\nweighted avg       0.68      0.67      0.68        49\n\nAccuracy:\t\t 0.5714285714285714\nPrecision Score:\t 0.7391304347826086\nRecall Score:\t\t0.53125\nF1 Score:\t\t 0.5649048625792812\n              precision    recall  f1-score   support\n\n           0       0.42      0.65      0.51        17\n           1       0.74      0.53      0.62        32\n\n    accuracy                           0.57        49\n   macro avg       0.58      0.59      0.56        49\nweighted avg       0.63      0.57      0.58        49\n\n"
     },
     "output_type": "unknown"
    }
   ],
   "source": [
    "# All X_ext\n",
    "X_train, X_test, y_train, y_test = train_test_split(ext_thread_avg.iloc[:,:], ext_y, test_size=0.1, random_state=42)\n",
    "clf = GaussianNB()\n",
    "train_test(X_train, X_test, y_train, y_test, clf)\n",
    "\n",
    "X_train, X_test, y_train, y_test = train_test_split(ext_thread_std.iloc[:,:], ext_y, test_size=0.1, random_state=42)\n",
    "clf = GaussianNB()\n",
    "train_test(X_train, X_test, y_train, y_test, clf)"
   ]
  },
  {
   "cell_type": "code",
   "execution_count": null,
   "metadata": {},
   "outputs": [
    {
     "data": {
      "application/x.notebook.stdout": "Accuracy:\t\t 0.5443298969072164\nPrecision Score:\t 0.8189655172413793\nRecall Score:\t\t0.5149051490514905\nF1 Score:\t\t 0.5166817724749626\n              precision    recall  f1-score   support\n\n           0       0.29      0.64      0.40       116\n           1       0.82      0.51      0.63       369\n\n    accuracy                           0.54       485\n   macro avg       0.56      0.58      0.52       485\nweighted avg       0.69      0.54      0.58       485\n\n"
     },
     "output_type": "unknown"
    }
   ],
   "source": [
    "# All X_ext\n",
    "# X_train, X_test, y_train, y_test = train_test_split(pheme_thread_avg, pheme_y, test_size=0.1, random_state=42)\n",
    "clf = RandomForestClassifier()\n",
    "train_test(pheme_thread_avg,ext_thread_avg, pheme_y, ext_y, clf)"
   ]
  },
  {
   "cell_type": "markdown",
   "metadata": {},
   "source": [
    "### DL\n",
    "\n",
    "Training data: pheme_thread_scaled\n",
    "\n",
    "Testing data: ext_thread_scaled"
   ]
  },
  {
   "cell_type": "code",
   "execution_count": null,
   "metadata": {},
   "outputs": [],
   "source": [
    "from fetchData import fetchdata \n",
    "import __MLP\n",
    "from sklearn.metrics import classification_report\n",
    "from sklearn.preprocessing import StandardScaler\n",
    "\n",
    "import pandas as pd\n",
    "import numpy as np\n",
    "import matplotlib.pyplot as plt\n",
    "import torch\n",
    "import torch.nn as nn\n",
    "import torch.nn.functional as F\n",
    "import torch.optim as optim\n",
    "from sklearn.model_selection import train_test_split\n",
    "\n",
    "from torch.utils.data import TensorDataset, DataLoader, RandomSampler, SequentialSampler\n",
    "from torch.utils.data.sampler import WeightedRandomSampler\n",
    "from torch.optim import lr_scheduler\n",
    "\n",
    "from sklearn.metrics import accuracy_score\n",
    "from sklearn.metrics import classification_report\n",
    "from sklearn.metrics import f1_score\n",
    "from transformers import AdamW, get_linear_schedule_with_warmup\n",
    "from sklearn.model_selection import train_test_split\n"
   ]
  },
  {
   "cell_type": "code",
   "execution_count": null,
   "metadata": {},
   "outputs": [
    {
     "data": {
      "application/x.notebook.error-traceback": {
       "ename": "NameError",
       "evalue": "name 'ext_thread_noavg' is not defined",
       "traceback": [
        "\u001b[0;31m---------------------------------------------------------------------------\u001b[0m",
        "\u001b[0;31mNameError\u001b[0m                                 Traceback (most recent call last)",
        "\u001b[0;32m<ipython-input-212-480ccafd250d>\u001b[0m in \u001b[0;36m<module>\u001b[0;34m\u001b[0m\n\u001b[1;32m      4\u001b[0m \u001b[0;31m# ext_y = pd.read_csv('./data/_PHEMEext_target.csv')\u001b[0m\u001b[0;34m\u001b[0m\u001b[0;34m\u001b[0m\u001b[0;34m\u001b[0m\u001b[0m\n\u001b[1;32m      5\u001b[0m \u001b[0;31m# # pd.read_csv('./data/_PHEME_text.csv').target\u001b[0m\u001b[0;34m\u001b[0m\u001b[0;34m\u001b[0m\u001b[0;34m\u001b[0m\u001b[0m\n\u001b[0;32m----> 6\u001b[0;31m \u001b[0mX_train\u001b[0m\u001b[0;34m,\u001b[0m \u001b[0mX_test\u001b[0m\u001b[0;34m,\u001b[0m \u001b[0my_train\u001b[0m\u001b[0;34m,\u001b[0m \u001b[0my_test\u001b[0m \u001b[0;34m=\u001b[0m \u001b[0mtrain_test_split\u001b[0m\u001b[0;34m(\u001b[0m\u001b[0mext_thread_noavg\u001b[0m\u001b[0;34m,\u001b[0m \u001b[0mext_y\u001b[0m\u001b[0;34m,\u001b[0m \u001b[0mtest_size\u001b[0m\u001b[0;34m=\u001b[0m\u001b[0;36m0.10\u001b[0m\u001b[0;34m,\u001b[0m \u001b[0mrandom_state\u001b[0m\u001b[0;34m=\u001b[0m\u001b[0;36m42\u001b[0m\u001b[0;34m)\u001b[0m\u001b[0;34m\u001b[0m\u001b[0;34m\u001b[0m\u001b[0m\n\u001b[0m\u001b[1;32m      7\u001b[0m \u001b[0mprint\u001b[0m\u001b[0;34m(\u001b[0m\u001b[0mtorch\u001b[0m\u001b[0;34m.\u001b[0m\u001b[0mTensor\u001b[0m\u001b[0;34m(\u001b[0m\u001b[0mpheme_thread\u001b[0m\u001b[0;34m.\u001b[0m\u001b[0mvalues\u001b[0m\u001b[0;34m)\u001b[0m\u001b[0;34m.\u001b[0m\u001b[0mshape\u001b[0m\u001b[0;34m,\u001b[0m\u001b[0mtorch\u001b[0m\u001b[0;34m.\u001b[0m\u001b[0mTensor\u001b[0m\u001b[0;34m(\u001b[0m\u001b[0mext_thread\u001b[0m\u001b[0;34m.\u001b[0m\u001b[0mvalues\u001b[0m\u001b[0;34m)\u001b[0m\u001b[0;34m.\u001b[0m\u001b[0mshape\u001b[0m\u001b[0;34m)\u001b[0m\u001b[0;34m\u001b[0m\u001b[0;34m\u001b[0m\u001b[0m\n\u001b[1;32m      8\u001b[0m \u001b[0mprint\u001b[0m\u001b[0;34m(\u001b[0m\u001b[0mtorch\u001b[0m\u001b[0;34m.\u001b[0m\u001b[0mTensor\u001b[0m\u001b[0;34m(\u001b[0m\u001b[0mX_train\u001b[0m\u001b[0;34m.\u001b[0m\u001b[0mvalues\u001b[0m\u001b[0;34m)\u001b[0m\u001b[0;34m.\u001b[0m\u001b[0mshape\u001b[0m\u001b[0;34m,\u001b[0m\u001b[0mtorch\u001b[0m\u001b[0;34m.\u001b[0m\u001b[0mTensor\u001b[0m\u001b[0;34m(\u001b[0m\u001b[0mX_test\u001b[0m\u001b[0;34m.\u001b[0m\u001b[0mvalues\u001b[0m\u001b[0;34m)\u001b[0m\u001b[0;34m.\u001b[0m\u001b[0mshape\u001b[0m\u001b[0;34m)\u001b[0m\u001b[0;34m\u001b[0m\u001b[0;34m\u001b[0m\u001b[0m\n",
        "\u001b[0;31mNameError\u001b[0m: name 'ext_thread_noavg' is not defined"
       ]
      }
     },
     "output_type": "unknown"
    }
   ],
   "source": [
    "# pheme_thread = pd.read_csv(\"./data/all/_PHEME_thread.csv\")\n",
    "# ext_thread = pd.read_csv(\"./data/all/_PHEMEext_thread.csv\")\n",
    "# pheme_y = pd.read_csv('./data/_PHEME_target.csv')\n",
    "# ext_y = pd.read_csv('./data/_PHEMEext_target.csv')\n",
    "# # pd.read_csv('./data/_PHEME_text.csv').target\n",
    "X_train, X_test, y_train, y_test = train_test_split(ext_thread_noavg, ext_y, test_size=0.10, random_state=42)\n",
    "print(torch.Tensor(pheme_thread.values).shape,torch.Tensor(ext_thread.values).shape)\n",
    "print(torch.Tensor(X_train.values).shape,torch.Tensor(X_test.values).shape)\n",
    "\n",
    "# scaler = StandardScaler()\n",
    "\n",
    "# pheme_thread_scaled = scaler.fit_transform(X_train)\n",
    "# ext_thread_scaled = scaler.transform(X_test)\n",
    "# print(torch.Tensor(pheme_thread_scaled).shape,torch.Tensor(ext_thread_scaled).shape)\n",
    "\n",
    "# pheme_thread_scaled = scaler.fit_transform(pheme_thread)\n",
    "# ext_thread_scaled = scaler.transform(ext_thread)\n",
    "# print(torch.Tensor(pheme_thread_scaled).shape,torch.Tensor(ext_thread_scaled).shape)"
   ]
  },
  {
   "cell_type": "code",
   "execution_count": null,
   "metadata": {},
   "outputs": [
    {
     "data": {
      "text/plain": "(5802, 38)"
     },
     "output_type": "unknown"
    }
   ],
   "source": [
    "pheme_thread_avg.shape"
   ]
  },
  {
   "cell_type": "code",
   "execution_count": null,
   "metadata": {},
   "outputs": [],
   "source": [
    "scaler = StandardScaler()\n",
    "pheme_thread_scaled = scaler.fit_transform(pheme_thread_avg)\n",
    "ext_thread_scaled = scaler.transform(ext_thread_avg)"
   ]
  },
  {
   "cell_type": "code",
   "execution_count": null,
   "metadata": {},
   "outputs": [
    {
     "data": {
      "application/x.notebook.stdout": "(426, 38) (59, 38)\n(426,) (59,)\n(5802, 36) (485, 36)\n(5802, 38) (485, 38)\n(5802,) (485,)\n"
     },
     "output_type": "unknown"
    }
   ],
   "source": [
    "print(X_train.shape, X_test.shape)\n",
    "print(y_train.shape, y_test.shape)\n",
    "print(pheme_thread.shape, ext_thread.shape)\n",
    "print(pheme_thread_avg.shape, ext_thread_avg.shape)\n",
    "# print(pheme_thread_scaled.shape, ext_thread_scaled.shape)\n",
    "print(pheme_y.shape, ext_y.shape)"
   ]
  },
  {
   "cell_type": "code",
   "execution_count": null,
   "metadata": {},
   "outputs": [
    {
     "data": {
      "application/x.notebook.stdout": "Train X Size: torch.Size([5802, 1, 38]) / Train y Size: torch.Size([5802, 1])\nTest X Size: torch.Size([485, 1, 38]) / Test y Size: torch.Size([485, 1])\nTrain Size 5802 Test Size 485\n"
     },
     "output_type": "unknown"
    }
   ],
   "source": [
    "tensor_x1 = torch.Tensor(pheme_thread_scaled).unsqueeze(1)\n",
    "tensor_y1 = torch.Tensor(pheme_y.values).unsqueeze(1)\n",
    "tensor_x2 = torch.Tensor(ext_thread_scaled).unsqueeze(1)\n",
    "tensor_y2 = torch.Tensor(ext_y.values).unsqueeze(1)\n",
    "# tensor_y1 = torch.Tensor(pheme_y.values).unsqueeze(1)\n",
    "\n",
    "# X_train, X_test, y_train, y_test = train_test_split(ext_thread_avg, ext_y, test_size=0.1, random_state=42)\n",
    "\n",
    "# tensor_x1 = torch.Tensor(X_train.values).unsqueeze(1)\n",
    "# tensor_y1 = torch.Tensor(y_train.values).unsqueeze(1)\n",
    "# tensor_x2 = torch.Tensor(X_test.values).unsqueeze(1)\n",
    "# tensor_y2 = torch.Tensor(y_test.values).unsqueeze(1)\n",
    "\n",
    "train_dataset = TensorDataset(tensor_x1,tensor_y1)\n",
    "test_dataset = TensorDataset(tensor_x2,tensor_y2)\n",
    "\n",
    "batch_size = 8\n",
    "counts = np.bincount(y_train.values)\n",
    "labels_weights = 1. / counts\n",
    "weights = labels_weights[y_train.values]\n",
    "train_sampler = WeightedRandomSampler(weights, len(weights))\n",
    "test_sampler = SequentialSampler(tensor_x2)\n",
    "\n",
    "train_dataloader = DataLoader(train_dataset, batch_size=batch_size, sampler=train_sampler, num_workers=2)\n",
    "test_dataloader = DataLoader(test_dataset, batch_size=batch_size, shuffle=False, num_workers=2)\n",
    "\n",
    "train_size = int(tensor_y1.size(0))\n",
    "test_size = int(tensor_y2.size(0))\n",
    "print(\"Train X Size:\", tensor_x1.shape, \"/ Train y Size:\", tensor_y1.shape)\n",
    "print(\"Test X Size:\", tensor_x2.shape, \"/ Test y Size:\", tensor_y2.shape)\n",
    "print(\"Train Size\",train_size,\"Test Size\",test_size)\n"
   ]
  },
  {
   "cell_type": "code",
   "execution_count": null,
   "metadata": {},
   "outputs": [
    {
     "data": {
      "application/x.notebook.stdout": "torch.Size([5802, 1, 38])\ntorch.Size([5802, 1])\n"
     },
     "output_type": "unknown"
    }
   ],
   "source": [
    "print(tensor_x1.size())\n",
    "print(tensor_y1.size())\n"
   ]
  },
  {
   "cell_type": "code",
   "execution_count": null,
   "metadata": {},
   "outputs": [],
   "source": [
    "class sparse_model(nn.Module):\n",
    "    def __init__(self):\n",
    "        super(sparse_model, self).__init__() # 1*20\n",
    "        self.fc1 = nn.Linear(38, 12, bias=True) # 420\n",
    "        self.fc3 = nn.Linear(12, 1)\n",
    "\n",
    "        self.drop_3 = nn.Dropout(0.3)\n",
    "        self.drop_4 = nn.Dropout(0.4)\n",
    "        self.drop_2 = nn.Dropout(0.2)\n",
    "\n",
    "    def forward(self, x):\n",
    "        x = self.drop_4(F.elu(self.fc1(x)))\n",
    "        x = self.fc3(x)\n",
    "        return x"
   ]
  },
  {
   "cell_type": "code",
   "execution_count": null,
   "metadata": {},
   "outputs": [
    {
     "data": {
      "application/x.notebook.stdout": "No GPU available, using the CPU instead.\n"
     },
     "output_type": "unknown"
    }
   ],
   "source": [
    "if torch.cuda.is_available():       \n",
    "    device = torch.device(\"cuda\")\n",
    "    print(f'There are {torch.cuda.device_count()} GPU(s) available.')\n",
    "    print('Device name:', torch.cuda.get_device_name(0))\n",
    "\n",
    "else:\n",
    "    print('No GPU available, using the CPU instead.')\n",
    "    device = torch.device(\"cpu\")"
   ]
  },
  {
   "cell_type": "code",
   "execution_count": null,
   "metadata": {},
   "outputs": [],
   "source": [
    "model_sparse = sparse_model()\n",
    "\n",
    "criterion = nn.BCEWithLogitsLoss()\n",
    "# optimizer = optim.SGD(model_sparse.parameters(), lr=0.01, momentum=0.9)\n",
    "optimizer = optim.Adam(model_sparse.parameters(), lr=5e-5, eps=1e-8, weight_decay=1e-6)\n",
    "# scheduler = lr_scheduler.ExponentialLR(optimizer, gamma= 0.99)  \n",
    "\n",
    "\n",
    "epochs = 100\n",
    "\n",
    "total_steps = len(train_dataloader) * epochs\n",
    "scheduler = get_linear_schedule_with_warmup(optimizer,\n",
    "                                            num_warmup_steps=0,  # Default value\n",
    "                                            num_training_steps=total_steps)\n",
    "\n",
    "PATH = \"./Model/state_dict_sparse_model.pt\""
   ]
  },
  {
   "cell_type": "code",
   "execution_count": null,
   "metadata": {},
   "outputs": [],
   "source": [
    "def clf_report(train_loss, train_acc, val_loss, val_acc):\n",
    "    fig, ax = plt.subplots(4, 1, figsize=(12,8))\n",
    "    ax[0].plot(train_loss[:])\n",
    "    ax[0].set_ylabel('Loss')\n",
    "    ax[0].set_title('Training Loss')\n",
    "\n",
    "    ax[1].plot(train_acc[:])\n",
    "    ax[1].set_ylabel('Classification Accuracy')\n",
    "    ax[1].set_title('Training Accuracy')\n",
    "\n",
    "    ax[2].plot(val_loss[:])\n",
    "    ax[2].set_ylabel('Classification Accuracy')\n",
    "    ax[2].set_title('Testing Loss')\n",
    "\n",
    "    ax[3].plot(val_acc[:])\n",
    "    ax[3].set_ylabel('Classification Accuracy')\n",
    "    ax[3].set_title('Testing Accuracy')\n",
    "\n",
    "    plt.tight_layout()\n",
    "    plt.show()\n",
    "\n",
    "    print(\"Min of Training Loss: %4f\"%(np.min(train_loss)))\n",
    "    print(\"Max of Training Accuracy: %4f\"%(np.max(train_acc)))\n",
    "    print(\"Mean of Training Loss: %4f\"%(np.mean(train_loss)))\n",
    "    print(\"Mean of Training Accuracy: %4f\"%(np.mean(train_acc)))\n",
    "    print(\"----\")\n",
    "    print(\"Max of Testing Accuracy: %4f\"%(np.max(val_acc)))\n",
    "    print(\"Mean of Testing Loss: %4f\"%(np.mean(val_loss)))\n",
    "    print(\"Mean of Testing Accuracy: %4f\"%(np.mean(val_acc)))\n",
    "\n",
    "def set_seed(seed_value=42):\n",
    "    \"\"\"Set seed for reproducibility.\n",
    "    \"\"\"\n",
    "    random.seed(seed_value)\n",
    "    np.random.seed(seed_value)\n",
    "    torch.manual_seed(seed_value)\n",
    "    torch.cuda.manual_seed_all(seed_value)\n",
    "\n",
    "def train1(model, num_epochs, criterion, optimizer, scheduler, train_loader, train_size, test_loader=None, test_size=None, patience=5, PATH='./state_dict_model.pt'):\n",
    "    set_seed(42)\n",
    "    train_loss = []\n",
    "    patience_count = 0\n",
    "    train_accuracy = []\n",
    "    prev_loss = 10\n",
    "    best_loss = 10.0\n",
    "    val_corrects_list = []\n",
    "    val_loss_list = []\n",
    "    val_acc_list = []\n",
    "    for epoch in range(num_epochs):  # loop over the dataset multiple times\n",
    "        # print('Epoch {}/{}'.format(epoch, num_epochs - 1))\n",
    "        # print('-' * 10)\n",
    "        running_corrects = 0.0\n",
    "        running_loss = 0.0\n",
    "        model.train()  # Set model to training mode\n",
    "        for i, data in enumerate(train_loader, 0):\n",
    "            # get the inputs; data is a list of [inputs, labels]\n",
    "            inputs, labels = data\n",
    "            inputs, labels = inputs.float(), labels.float()\n",
    "\n",
    "            # zero the parameter gradients\n",
    "            optimizer.zero_grad()\n",
    "\n",
    "            # forward + backward + optimize\n",
    "            outputs = model(inputs)\n",
    "\n",
    "            #  _, predictions = torch.max(outputs.data, 1) won’t work if your output only contains a single output unit.\n",
    "            # _, preds = torch.max(outputs, 1)\n",
    "            # print(outputs.flatten().size())\n",
    "            preds = outputs.squeeze(1) > 0.0\n",
    "\n",
    "            loss = criterion(outputs, labels.unsqueeze(1))\n",
    "            loss.backward()\n",
    "            optimizer.step()\n",
    "\n",
    "            # step function\n",
    "            scheduler.step()\n",
    "\n",
    "            running_loss += loss.item() * inputs.size(0)\n",
    "            running_corrects += torch.sum(preds == labels.data)\n",
    "\n",
    "        epoch_loss = running_loss / train_size\n",
    "        # print(running_loss)\n",
    "        # print(train_size)\n",
    "        epoch_acc = running_corrects.double() / train_size\n",
    "        train_loss.append(epoch_loss)\n",
    "        train_accuracy.append(epoch_acc)\n",
    "\n",
    "        if (epoch % 2 == 0):\n",
    "            print('Epoch {}/{}\\tTrain) Acc: {:.4f}, Loss: {:.4f}'.format(epoch,\n",
    "                                                                         num_epochs - 1, epoch_acc, epoch_loss))\n",
    "\n",
    "        if (test_loader != None):\n",
    "            model.eval()\n",
    "            with torch.no_grad():\n",
    "                val_loss = 0.0\n",
    "                val_corrects = 0\n",
    "                val_preds_list = []\n",
    "                val_label_list = []\n",
    "                for j, val in enumerate(test_loader, 0):\n",
    "                    val_x, val_label = val\n",
    "                    val_x, val_label = val_x.float(), val_label.float()\n",
    "                    val_outputs = model(val_x)\n",
    "                    # _, val_preds = torch.max(val_outputs, 1)\n",
    "                    val_preds = val_outputs.squeeze(1) > 0.0\n",
    "                    # print(\"val_preds:\\n\", val_preds)\n",
    "                    # print(\"val_labels:\\n\", val_label)\n",
    "\n",
    "                    val_preds_list.append(val_preds)\n",
    "                    val_label_list.append(val_label)\n",
    "                    v_loss = criterion(val_outputs, val_label.unsqueeze(1))\n",
    "                    val_loss += (v_loss.item() * val_x.size(0))\n",
    "                    val_corrects += torch.sum(val_preds == val_label)\n",
    "                    # print(\"val_corrects:\\n\", val_corrects)\n",
    "                    # accuracy = (preds == b_labels).cpu().numpy().mean() * 100\n",
    "\n",
    "                if (epoch % 2 == 0):\n",
    "                    val_preds_list = torch.cat(val_preds_list, 0)\n",
    "                    val_label_list = torch.cat(val_label_list, 0)\n",
    "                    # print(\"\\t\\tValidation) Acc: {:.4f} Loss:{:.4f} F1 score: {:4f}\".format(val_corrects/test_size, val_loss/test_size, f1_score(val_label_list,val_preds_list,average='macro')))\n",
    "                    print(\"\\t\\tValidation) Acc: {:.4f} Loss:{:.4f}\".format(\n",
    "                        val_corrects/test_size, val_loss/test_size))\n",
    "            # print(\"val_corrects:\\n\", val_corrects)\n",
    "\n",
    "            val_corrects_list.append(val_corrects/test_size)\n",
    "            val_loss_list.append(val_loss/test_size)\n",
    "            val_acc = val_corrects.double() / test_size\n",
    "            val_acc_list.append(val_acc)\n",
    "\n",
    "        if epoch_loss < best_loss:\n",
    "            # print(\"prev_loss: {:.5f}\".format(prev_loss))\n",
    "            # print(\"loss: {:.5f}\".format(loss))\n",
    "            print(\n",
    "                \"\\t\\tSaving the best model w/ loss {:.4f}\".format(epoch_loss))\n",
    "            torch.save(model.state_dict(), PATH)\n",
    "            best_loss = epoch_loss\n",
    "            patience_count = 0\n",
    "        elif best_loss < epoch_loss:\n",
    "            patience_count += 1\n",
    "        if patience_count >= patience:\n",
    "            print(\"Finishing the Model: Loss is not decreasing...\")\n",
    "            print(train_loss[-6:-1])\n",
    "            return train_accuracy, train_loss, val_acc_list, val_loss_list\n",
    "    return train_accuracy, train_loss, val_acc_list, val_loss_list\n",
    "\n",
    "def train2(model, num_epochs, criterion, optimizer, train_loader, train_size, test_loader=None, test_size=None, patience=5, PATH='./state_dict_model.pt'):\n",
    "    set_seed(42)\n",
    "    train_loss = []\n",
    "    patience_count = 0\n",
    "    train_accuracy = []\n",
    "    prev_loss = 10\n",
    "    best_loss = 10.0\n",
    "    val_corrects_list = []\n",
    "    val_loss_list = []\n",
    "    val_acc_list = []\n",
    "    for epoch in range(num_epochs):  # loop over the dataset multiple times\n",
    "        # print('Epoch {}/{}'.format(epoch, num_epochs - 1))\n",
    "        # print('-' * 10)\n",
    "        running_corrects = 0.0\n",
    "        running_loss = 0.0\n",
    "        model.train()  # Set model to training mode\n",
    "        for i, data in enumerate(train_loader, 0):\n",
    "            # get the inputs; data is a list of [inputs, labels]\n",
    "            inputs, labels = data\n",
    "            inputs, labels = inputs.float(), labels.float()\n",
    "            print(inputs.size())\n",
    "            print(labels.size())\n",
    "            print(inputs.flatten())\n",
    "            print(labels.flatten())\n",
    "\n",
    "            # zero the parameter gradients\n",
    "            optimizer.zero_grad()\n",
    "\n",
    "            # forward + backward + optimize\n",
    "            outputs = model(inputs)\n",
    "            print(\"outputs:\",outputs.size())\n",
    "            print(\"outputs:\",outputs)\n",
    "            print(\"labels:\",labels.size())\n",
    "            print(\"labels:\",labels.unsqueeze(1).size())\n",
    "\n",
    "            #  _, predictions = torch.max(outputs.data, 1) won’t work if your output only contains a single output unit.\n",
    "            # _, preds = torch.max(outputs, 1)\n",
    "            preds = torch.argmax(outputs, dim=1).flatten()\n",
    "            # print(outputs.flatten().size())\n",
    "            # preds = outputs > 0.0\n",
    "            # labels = labels.view(-1)\n",
    "            loss = criterion(outputs, labels.long())\n",
    "            loss.backward()\n",
    "            optimizer.step()\n",
    "\n",
    "            # step function\n",
    "            scheduler.step()\n",
    "\n",
    "            running_loss += loss.item() * inputs.size(0)\n",
    "            running_corrects += torch.sum(preds == labels.data)\n",
    "            # print('running correct')\n",
    "            # print(running_corrects)\n",
    "\n",
    "        epoch_loss = running_loss / train_size\n",
    "        # print(running_loss)\n",
    "        # print(train_size)\n",
    "        epoch_acc = running_corrects.double() / train_size\n",
    "        train_loss.append(epoch_loss)\n",
    "        train_accuracy.append(epoch_acc)\n",
    "\n",
    "        if (epoch % 2 == 0):\n",
    "            print('Epoch {}/{}\\tTrain) Acc: {:.4f}, Loss: {:.4f}'.format(epoch,\n",
    "                                                                         num_epochs - 1, epoch_acc, epoch_loss))\n",
    "\n",
    "        if (test_loader != None):\n",
    "            model.eval()\n",
    "            with torch.no_grad():\n",
    "                val_loss = 0.0\n",
    "                val_corrects = 0\n",
    "                val_preds_list = []\n",
    "                val_label_list = []\n",
    "                for j, val in enumerate(test_loader, 0):\n",
    "                    val_x, val_label = val\n",
    "                    val_x, val_label = val_x.float(), val_label.float()\n",
    "                    val_outputs = model(val_x)\n",
    "                    val_preds = torch.argmax(val_outputs, dim=1).flatten()\n",
    "                    # _, val_preds = torch.max(val_outputs, 1)\n",
    "                    # print(\"val_outputs:\",val_outputs.flatten())\n",
    "                    # val_preds = val_outputs > 0.0\n",
    "                    # print(\"val_preds:\",val_preds)\n",
    "                    val_preds_list.append(val_preds)\n",
    "                    val_label_list.append(val_label)\n",
    "                    v_loss = criterion(val_outputs, val_label.unsqueeze(1))\n",
    "                    val_loss += (v_loss.item() * val_x.size(0))\n",
    "                    val_corrects += torch.sum(val_preds ==\n",
    "                                              val_label.data).double()\n",
    "                if (epoch % 2 == 0):\n",
    "                    val_preds_list = torch.cat(val_preds_list, 0)\n",
    "                    val_label_list = torch.cat(val_label_list, 0)\n",
    "                    # print(\"\\t\\tValidation) Acc: {:.4f} Loss:{:.4f} F1 score: {:4f}\".format(val_corrects/test_size, val_loss/test_size, f1_score(val_label_list,val_preds_list,average='macro')))\n",
    "                    print(\"\\t\\tValidation) Acc: {:.4f} Loss:{:.4f}\".format(\n",
    "                        val_corrects/test_size, val_loss/test_size))\n",
    "            val_corrects_list.append(val_corrects/test_size)\n",
    "            val_loss_list.append(val_loss/test_size)\n",
    "            val_acc = val_corrects.double() / test_size\n",
    "            val_acc_list.append(val_acc)\n",
    "\n",
    "        if epoch_loss < best_loss:\n",
    "            # print(\"prev_loss: {:.5f}\".format(prev_loss))\n",
    "            # print(\"loss: {:.5f}\".format(loss))\n",
    "            print(\n",
    "                \"\\t\\tSaving the best model w/ loss {:.4f}\".format(epoch_loss))\n",
    "            torch.save(model.state_dict(), PATH)\n",
    "            best_loss = epoch_loss\n",
    "            patience_count = 0\n",
    "        elif best_loss < epoch_loss:\n",
    "            patience_count += 1\n",
    "        if patience_count >= patience:\n",
    "            print(\"Finishing the Model: Loss is not decreasing...\")\n",
    "            print(train_loss[-6:-1])\n",
    "            return train_accuracy, train_loss, val_acc_list, val_loss_list\n",
    "    return train_accuracy, train_loss, val_acc_list, val_loss_list\n",
    "\n",
    "def predict(model, criterion, val_dataloader, val_size):\n",
    "    model.eval()\n",
    "    with torch.no_grad():\n",
    "        val_loss = 0.0\n",
    "        val_corrects = 0\n",
    "        for j, val in enumerate(val_dataloader, 0):\n",
    "            val_x, val_label = val\n",
    "            val_x, val_label = val_x.float(), val_label.float()\n",
    "            val_outputs = model(val_x)\n",
    "            val_preds = val_outputs.squeeze(1) > 0.0\n",
    "\n",
    "            val_preds_list.append(val_preds)\n",
    "            val_label_list.append(val_label)\n",
    "            v_loss = criterion(val_outputs, val_label.unsqueeze(1))\n",
    "            val_loss += (v_loss.item() * val_x.size(0))\n",
    "            val_corrects += torch.sum(val_preds == val_label)\n",
    "\n",
    "    val_preds_list = torch.cat(val_preds_list, 0)\n",
    "    val_label_list = torch.cat(val_label_list, 0)\n",
    "    val_corrects = val_corrects/val_size\n",
    "    val_loss/test_size\n",
    "    val_acc = val_corrects.double() / val_size\n",
    "    print(\"\\t\\tValidation) Acc: {:.4f} Loss:{:.4f}\".format(\n",
    "        val_corrects/val_size, val_loss/test_size))\n",
    "    # print(\"\\t\\tValidation) Acc: {:.4f} Loss:{:.4f} F1 score: {:4f}\".format(val_corrects/val_size, val_loss/test_size, f1_score(val_label_list,val_preds_list,average='macro')))\n"
   ]
  },
  {
   "cell_type": "code",
   "execution_count": null,
   "metadata": {},
   "outputs": [
    {
     "data": {
      "application/x.notebook.stdout": "Epoch 0/99\tTrain) Acc: 0.0357, Loss: 0.0515\n\t\tValidation) Acc: 0.5979 Loss:0.6834\n\t\tSaving the best model w/ loss 0.0515\n\t\tSaving the best model w/ loss 0.0510\nEpoch 2/99\tTrain) Acc: 0.0474, Loss: 0.0496\n\t\tValidation) Acc: 0.6247 Loss:0.6726\n\t\tSaving the best model w/ loss 0.0496\n\t\tSaving the best model w/ loss 0.0486\nEpoch 4/99\tTrain) Acc: 0.0483, Loss: 0.0481\n\t\tValidation) Acc: 0.6351 Loss:0.6619\n\t\tSaving the best model w/ loss 0.0481\nEpoch 6/99\tTrain) Acc: 0.0510, Loss: 0.0471\n\t\tValidation) Acc: 0.6474 Loss:0.6523\n\t\tSaving the best model w/ loss 0.0471\n\t\tSaving the best model w/ loss 0.0463\nEpoch 8/99\tTrain) Acc: 0.0524, Loss: 0.0471\n\t\tValidation) Acc: 0.6660 Loss:0.6440\n\t\tSaving the best model w/ loss 0.0458\nEpoch 10/99\tTrain) Acc: 0.0562, Loss: 0.0457\n\t\tValidation) Acc: 0.6763 Loss:0.6367\n\t\tSaving the best model w/ loss 0.0457\n\t\tSaving the best model w/ loss 0.0446\nEpoch 12/99\tTrain) Acc: 0.0593, Loss: 0.0442\n\t\tValidation) Acc: 0.6784 Loss:0.6286\n\t\tSaving the best model w/ loss 0.0442\nEpoch 14/99\tTrain) Acc: 0.0610, Loss: 0.0439\n\t\tValidation) Acc: 0.6887 Loss:0.6214\n\t\tSaving the best model w/ loss 0.0439\n\t\tSaving the best model w/ loss 0.0437\nEpoch 16/99\tTrain) Acc: 0.0617, Loss: 0.0423\n\t\tValidation) Acc: 0.6928 Loss:0.6145\n\t\tSaving the best model w/ loss 0.0423\nEpoch 18/99\tTrain) Acc: 0.0605, Loss: 0.0428\n\t\tValidation) Acc: 0.6928 Loss:0.6086\n\t\tSaving the best model w/ loss 0.0410\nEpoch 20/99\tTrain) Acc: 0.0650, Loss: 0.0401\n\t\tValidation) Acc: 0.6907 Loss:0.6022\n\t\tSaving the best model w/ loss 0.0401\nEpoch 22/99\tTrain) Acc: 0.0646, Loss: 0.0400\n\t\tValidation) Acc: 0.6969 Loss:0.5970\n\t\tSaving the best model w/ loss 0.0400\n\t\tSaving the best model w/ loss 0.0393\nEpoch 24/99\tTrain) Acc: 0.0657, Loss: 0.0387\n\t\tValidation) Acc: 0.6990 Loss:0.5919\n\t\tSaving the best model w/ loss 0.0387\nEpoch 26/99\tTrain) Acc: 0.0646, Loss: 0.0382\n\t\tValidation) Acc: 0.6969 Loss:0.5880\n\t\tSaving the best model w/ loss 0.0382\nEpoch 28/99\tTrain) Acc: 0.0657, Loss: 0.0379\n\t\tValidation) Acc: 0.7113 Loss:0.5839\n\t\tSaving the best model w/ loss 0.0379\nEpoch 30/99\tTrain) Acc: 0.0657, Loss: 0.0373\n\t\tValidation) Acc: 0.7093 Loss:0.5809\n\t\tSaving the best model w/ loss 0.0373\n\t\tSaving the best model w/ loss 0.0369\nEpoch 32/99\tTrain) Acc: 0.0655, Loss: 0.0376\n\t\tValidation) Acc: 0.7093 Loss:0.5788\n\t\tSaving the best model w/ loss 0.0364\nEpoch 34/99\tTrain) Acc: 0.0676, Loss: 0.0351\n\t\tValidation) Acc: 0.7093 Loss:0.5760\n\t\tSaving the best model w/ loss 0.0351\nEpoch 36/99\tTrain) Acc: 0.0674, Loss: 0.0348\n\t\tValidation) Acc: 0.7113 Loss:0.5736\n\t\tSaving the best model w/ loss 0.0348\n\t\tSaving the best model w/ loss 0.0344\nEpoch 38/99\tTrain) Acc: 0.0681, Loss: 0.0337\n\t\tValidation) Acc: 0.7093 Loss:0.5715\n\t\tSaving the best model w/ loss 0.0337\nEpoch 40/99\tTrain) Acc: 0.0693, Loss: 0.0328\n\t\tValidation) Acc: 0.7072 Loss:0.5699\n\t\tSaving the best model w/ loss 0.0328\nEpoch 42/99\tTrain) Acc: 0.0677, Loss: 0.0338\n\t\tValidation) Acc: 0.7072 Loss:0.5681\n\t\tSaving the best model w/ loss 0.0322\nEpoch 44/99\tTrain) Acc: 0.0674, Loss: 0.0332\n\t\tValidation) Acc: 0.7093 Loss:0.5666\nEpoch 46/99\tTrain) Acc: 0.0689, Loss: 0.0322\n\t\tValidation) Acc: 0.7093 Loss:0.5653\n\t\tSaving the best model w/ loss 0.0320\nEpoch 48/99\tTrain) Acc: 0.0691, Loss: 0.0312\n\t\tValidation) Acc: 0.7093 Loss:0.5644\n\t\tSaving the best model w/ loss 0.0312\nEpoch 50/99\tTrain) Acc: 0.0684, Loss: 0.0305\n\t\tValidation) Acc: 0.7134 Loss:0.5635\n\t\tSaving the best model w/ loss 0.0305\nEpoch 52/99\tTrain) Acc: 0.0686, Loss: 0.0319\n\t\tValidation) Acc: 0.7134 Loss:0.5629\nEpoch 54/99\tTrain) Acc: 0.0653, Loss: 0.0323\n\t\tValidation) Acc: 0.7155 Loss:0.5623\n\t\tSaving the best model w/ loss 0.0293\nEpoch 56/99\tTrain) Acc: 0.0683, Loss: 0.0304\n\t\tValidation) Acc: 0.7155 Loss:0.5621\nEpoch 58/99\tTrain) Acc: 0.0686, Loss: 0.0301\n\t\tValidation) Acc: 0.7155 Loss:0.5619\n\t\tSaving the best model w/ loss 0.0292\nEpoch 60/99\tTrain) Acc: 0.0705, Loss: 0.0284\n\t\tValidation) Acc: 0.7155 Loss:0.5618\n\t\tSaving the best model w/ loss 0.0284\nEpoch 62/99\tTrain) Acc: 0.0681, Loss: 0.0299\n\t\tValidation) Acc: 0.7196 Loss:0.5615\nEpoch 64/99\tTrain) Acc: 0.0700, Loss: 0.0281\n\t\tValidation) Acc: 0.7237 Loss:0.5612\n\t\tSaving the best model w/ loss 0.0281\nEpoch 66/99\tTrain) Acc: 0.0679, Loss: 0.0292\n\t\tValidation) Acc: 0.7237 Loss:0.5611\n\t\tSaving the best model w/ loss 0.0279\nEpoch 68/99\tTrain) Acc: 0.0689, Loss: 0.0288\n\t\tValidation) Acc: 0.7237 Loss:0.5610\nEpoch 70/99\tTrain) Acc: 0.0681, Loss: 0.0291\n\t\tValidation) Acc: 0.7237 Loss:0.5608\nEpoch 72/99\tTrain) Acc: 0.0698, Loss: 0.0285\n\t\tValidation) Acc: 0.7258 Loss:0.5607\nFinishing the Model: Loss is not decreasing...\n[0.027912357610819546, 0.028848437924337403, 0.02844981610343523, 0.029122860040881642, 0.02875080471489192]\n"
     },
     "output_type": "unknown"
    }
   ],
   "source": [
    "import random\n",
    "\n",
    "train_acc, train_loss, val_acc, val_loss_list = train1(model=model_sparse, num_epochs=epochs,patience=5, criterion=criterion, optimizer=optimizer, scheduler=scheduler, train_loader=train_dataloader, train_size=train_size, test_loader=test_dataloader, test_size=test_size, PATH=PATH)"
   ]
  },
  {
   "cell_type": "code",
   "execution_count": null,
   "metadata": {},
   "outputs": [
    {
     "data": {
      "image/png": "[encoded data removed]",
      "text/plain": "<Figure size 864x576 with 4 Axes>"
     },
     "output_type": "unknown"
    },
    {
     "data": {
      "application/x.notebook.stdout": "Min of Training Loss: 0.033228\nMax of Training Accuracy: 0.065495\nMean of Training Loss: 0.043980\nMean of Training Accuracy: 0.049195\n----\nMax of Testing Accuracy: 0.738144\nMean of Testing Loss: 0.625475\nMean of Testing Accuracy: 0.628689\n"
     },
     "output_type": "unknown"
    }
   ],
   "source": [
    "__MLP.clf_report(train_loss, train_acc, val_loss_list, val_acc)"
   ]
  },
  {
   "cell_type": "code",
   "execution_count": null,
   "metadata": {},
   "outputs": [],
   "source": [
    "# 1. log_lists 1\n",
    "# - Min of Training Loss: 0.676791\n",
    "# - Max of Training Accuracy: 0.580834\n",
    "# - Mean of Training Loss: 0.930833\n",
    "# - Mean of Training Accuracy: 0.549138\n",
    "\n",
    "# - Max of Testing Accuracy: 0.758763\n",
    "# - Mean of Testing Loss: 0.639751\n",
    "# - Mean of Testing Accuracy: 0.741991\n",
    "\n",
    "# 2. log_lists 2\n",
    "# Min of Training Loss: 0.661804\n",
    "# Max of Training Accuracy: 0.623923\n",
    "# Mean of Training Loss: 0.675339\n",
    "# Mean of Training Accuracy: 0.579164\n",
    "# ----\n",
    "# Max of Testing Accuracy: 0.754639\n",
    "# Mean of Testing Loss: 0.647825\n",
    "# Mean of Testing Accuracy: 0.663184\n",
    "\n",
    "# 3. log_lists 3\n",
    "# Min of Training Loss: 0.689231\n",
    "# Max of Training Accuracy: 0.551534\n",
    "# Mean of Training Loss: 0.691886\n",
    "# Mean of Training Accuracy: 0.529895\n",
    "# ----\n",
    "# Max of Testing Accuracy: 0.769072\n",
    "# Mean of Testing Loss: 0.672092\n",
    "# Mean of Testing Accuracy: 0.727753\n",
    "\n",
    "# 4. log_lists 4\n",
    "# Min of Training Loss: 0.655381\n",
    "# Max of Training Accuracy: 0.615822\n",
    "# Mean of Training Loss: 0.668167\n",
    "# Mean of Training Accuracy: 0.590891\n",
    "# ----\n",
    "# Max of Testing Accuracy: 0.760825\n",
    "# Mean of Testing Loss: 0.602897\n",
    "# Mean of Testing Accuracy: 0.751031\n",
    "\n",
    "# 5. log_lists 5\n",
    "# Min of Training Loss: 0.645203\n",
    "# Max of Training Accuracy: 0.638573\n",
    "# Mean of Training Loss: 0.664737\n",
    "# Mean of Training Accuracy: 0.602872\n",
    "# ----\n",
    "# Max of Testing Accuracy: 0.773196\n",
    "# Mean of Testing Loss: 0.595279\n",
    "# Mean of Testing Accuracy: 0.755809"
   ]
  },
  {
   "cell_type": "code",
   "execution_count": null,
   "metadata": {},
   "outputs": [
    {
     "data": {
      "text/plain": "(5802, 33)"
     },
     "output_type": "unknown"
    }
   ],
   "source": [
    "pheme_thread_log_9.shape\n",
    "pheme_thread_log_9.shape"
   ]
  },
  {
   "cell_type": "code",
   "execution_count": null,
   "metadata": {},
   "outputs": [
    {
     "data": {
      "application/x.notebook.error-traceback": {
       "ename": "NameError",
       "evalue": "name 'pheme_thread_log_8' is not defined",
       "traceback": [
        "\u001b[0;31m---------------------------------------------------------------------------\u001b[0m",
        "\u001b[0;31mNameError\u001b[0m                                 Traceback (most recent call last)",
        "\u001b[0;32m<ipython-input-101-43ed68abceb7>\u001b[0m in \u001b[0;36m<module>\u001b[0;34m\u001b[0m\n\u001b[1;32m      1\u001b[0m \u001b[0;31m# pheme_thread_log_9\u001b[0m\u001b[0;34m\u001b[0m\u001b[0;34m\u001b[0m\u001b[0;34m\u001b[0m\u001b[0m\n\u001b[1;32m      2\u001b[0m \u001b[0;34m\u001b[0m\u001b[0m\n\u001b[0;32m----> 3\u001b[0;31m \u001b[0mtensor_x1\u001b[0m \u001b[0;34m=\u001b[0m \u001b[0mtorch\u001b[0m\u001b[0;34m.\u001b[0m\u001b[0mTensor\u001b[0m\u001b[0;34m(\u001b[0m\u001b[0mpheme_thread_log_8\u001b[0m\u001b[0;34m.\u001b[0m\u001b[0mvalues\u001b[0m\u001b[0;34m)\u001b[0m\u001b[0;34m.\u001b[0m\u001b[0munsqueeze\u001b[0m\u001b[0;34m(\u001b[0m\u001b[0;36m1\u001b[0m\u001b[0;34m)\u001b[0m\u001b[0;34m\u001b[0m\u001b[0;34m\u001b[0m\u001b[0m\n\u001b[0m\u001b[1;32m      4\u001b[0m \u001b[0mtensor_y1\u001b[0m \u001b[0;34m=\u001b[0m \u001b[0mtorch\u001b[0m\u001b[0;34m.\u001b[0m\u001b[0mTensor\u001b[0m\u001b[0;34m(\u001b[0m\u001b[0mpheme_y\u001b[0m\u001b[0;34m.\u001b[0m\u001b[0mvalues\u001b[0m\u001b[0;34m)\u001b[0m\u001b[0;34m.\u001b[0m\u001b[0munsqueeze\u001b[0m\u001b[0;34m(\u001b[0m\u001b[0;36m1\u001b[0m\u001b[0;34m)\u001b[0m\u001b[0;34m\u001b[0m\u001b[0;34m\u001b[0m\u001b[0m\n\u001b[1;32m      5\u001b[0m \u001b[0mtrain_dataset\u001b[0m \u001b[0;34m=\u001b[0m \u001b[0mTensorDataset\u001b[0m\u001b[0;34m(\u001b[0m\u001b[0mtensor_x1\u001b[0m\u001b[0;34m,\u001b[0m\u001b[0mtensor_y1\u001b[0m\u001b[0;34m)\u001b[0m\u001b[0;34m\u001b[0m\u001b[0;34m\u001b[0m\u001b[0m\n",
        "\u001b[0;31mNameError\u001b[0m: name 'pheme_thread_log_8' is not defined"
       ]
      }
     },
     "output_type": "unknown"
    }
   ],
   "source": [
    "# pheme_thread_log_9\n",
    "\n",
    "tensor_x1 = torch.Tensor(pheme_thread_log_8.values).unsqueeze(1)\n",
    "tensor_y1 = torch.Tensor(pheme_y.values).unsqueeze(1)\n",
    "train_dataset = TensorDataset(tensor_x1,tensor_y1)\n",
    "\n",
    "tensor_x2 = torch.Tensor(ext_thread_log_8.values).unsqueeze(1)\n",
    "tensor_y2 = torch.Tensor(ext_y.values).unsqueeze(1)\n",
    "test_dataset = TensorDataset(tensor_x2,tensor_y2)\n",
    "\n",
    "batch_size = 8\n",
    "counts = np.bincount(pheme_y.values)\n",
    "labels_weights = 1. / counts\n",
    "weights = labels_weights[pheme_y.values]\n",
    "train_sampler = WeightedRandomSampler(weights, len(weights))\n",
    "test_sampler = SequentialSampler(tensor_x2)\n",
    "\n",
    "train_dataloader = DataLoader(train_dataset, batch_size=batch_size, sampler=train_sampler, num_workers=2)\n",
    "test_dataloader = DataLoader(test_dataset, batch_size=batch_size, shuffle=False, num_workers=2)\n",
    "\n",
    "train_size = int(tensor_y1.size(0))\n",
    "test_size = int(tensor_y2.size(0))\n",
    "print(\"Train X Size:\", tensor_x1.shape, \"/ Train y Size:\", tensor_y1.shape)\n",
    "print(\"Test X Size:\", tensor_x2.shape, \"/ Test y Size:\", tensor_y2.shape)\n",
    "print(\"Train Size\",train_size,\"Test Size\",test_size)"
   ]
  },
  {
   "cell_type": "code",
   "execution_count": null,
   "metadata": {},
   "outputs": [],
   "source": [
    "model_sparse = sparse_model()\n",
    "\n",
    "criterion = nn.BCEWithLogitsLoss()\n",
    "# optimizer = optim.SGD(model_sparse.parameters(), lr=0.01, momentum=0.9)\n",
    "optimizer = optim.Adam(model_sparse.parameters(), lr=5e-5, eps=1e-8, weight_decay=1e-6)\n",
    "# scheduler = lr_scheduler.ExponentialLR(optimizer, gamma= 0.99)  \n",
    "\n",
    "epochs = 100\n",
    "\n",
    "total_steps = len(train_dataloader) * epochs\n",
    "scheduler = get_linear_schedule_with_warmup(optimizer,\n",
    "                                            num_warmup_steps=0,  # Default value\n",
    "                                            num_training_steps=total_steps)\n",
    "# PATH = \"./Model/state_dict_sparse_model.pt\""
   ]
  },
  {
   "cell_type": "code",
   "execution_count": null,
   "metadata": {},
   "outputs": [
    {
     "data": {
      "application/x.notebook.stdout": "Epoch 0/99\tTrain) Acc: 0.0596, Loss: 0.0318\n\t\tValidation) Acc: 0.7546 Loss:0.5863\n\t\tSaving the best model w/ loss 0.0318\n\t\tSaving the best model w/ loss 0.0271\nEpoch 2/99\tTrain) Acc: 0.0684, Loss: 0.0185\n\t\tValidation) Acc: 0.7588 Loss:0.5567\n\t\tSaving the best model w/ loss 0.0185\n"
     },
     "output_type": "unknown"
    },
    {
     "data": {
      "application/x.notebook.error-traceback": {
       "ename": "RuntimeError",
       "evalue": "DataLoader worker (pid 65620) is killed by signal: Interrupt: 2. ",
       "traceback": [
        "\u001b[0;31m---------------------------------------------------------------------------\u001b[0m",
        "\u001b[0;31mKeyboardInterrupt\u001b[0m                         Traceback (most recent call last)",
        "    \u001b[0;31m[... skipping hidden 1 frame]\u001b[0m\n",
        "\u001b[0;32m<ipython-input-103-16d706f7b80b>\u001b[0m in \u001b[0;36m<module>\u001b[0;34m\u001b[0m\n\u001b[0;32m----> 1\u001b[0;31m \u001b[0mtrain_acc\u001b[0m\u001b[0;34m,\u001b[0m \u001b[0mtrain_loss\u001b[0m\u001b[0;34m,\u001b[0m \u001b[0mval_acc\u001b[0m\u001b[0;34m,\u001b[0m \u001b[0mval_loss_list\u001b[0m \u001b[0;34m=\u001b[0m \u001b[0mtrain1\u001b[0m\u001b[0;34m(\u001b[0m\u001b[0mmodel\u001b[0m\u001b[0;34m=\u001b[0m\u001b[0mmodel_sparse\u001b[0m\u001b[0;34m,\u001b[0m \u001b[0mnum_epochs\u001b[0m\u001b[0;34m=\u001b[0m\u001b[0mepochs\u001b[0m\u001b[0;34m,\u001b[0m\u001b[0mpatience\u001b[0m\u001b[0;34m=\u001b[0m\u001b[0;36m5\u001b[0m\u001b[0;34m,\u001b[0m \u001b[0mcriterion\u001b[0m\u001b[0;34m=\u001b[0m\u001b[0mcriterion\u001b[0m\u001b[0;34m,\u001b[0m \u001b[0moptimizer\u001b[0m\u001b[0;34m=\u001b[0m\u001b[0moptimizer\u001b[0m\u001b[0;34m,\u001b[0m \u001b[0mscheduler\u001b[0m\u001b[0;34m=\u001b[0m\u001b[0mscheduler\u001b[0m\u001b[0;34m,\u001b[0m \u001b[0mtrain_loader\u001b[0m\u001b[0;34m=\u001b[0m\u001b[0mtrain_dataloader\u001b[0m\u001b[0;34m,\u001b[0m \u001b[0mtrain_size\u001b[0m\u001b[0;34m=\u001b[0m\u001b[0mtrain_size\u001b[0m\u001b[0;34m,\u001b[0m \u001b[0mtest_loader\u001b[0m\u001b[0;34m=\u001b[0m\u001b[0mtest_dataloader\u001b[0m\u001b[0;34m,\u001b[0m \u001b[0mtest_size\u001b[0m\u001b[0;34m=\u001b[0m\u001b[0mtest_size\u001b[0m\u001b[0;34m,\u001b[0m \u001b[0mPATH\u001b[0m\u001b[0;34m=\u001b[0m\u001b[0mPATH\u001b[0m\u001b[0;34m)\u001b[0m\u001b[0;34m\u001b[0m\u001b[0;34m\u001b[0m\u001b[0m\n\u001b[0m",
        "\u001b[0;32m<ipython-input-92-cb49b67d9e17>\u001b[0m in \u001b[0;36mtrain1\u001b[0;34m(model, num_epochs, criterion, optimizer, scheduler, train_loader, train_size, test_loader, test_size, patience, PATH)\u001b[0m\n\u001b[1;32m     54\u001b[0m         \u001b[0mmodel\u001b[0m\u001b[0;34m.\u001b[0m\u001b[0mtrain\u001b[0m\u001b[0;34m(\u001b[0m\u001b[0;34m)\u001b[0m  \u001b[0;31m# Set model to training mode\u001b[0m\u001b[0;34m\u001b[0m\u001b[0;34m\u001b[0m\u001b[0m\n\u001b[0;32m---> 55\u001b[0;31m         \u001b[0;32mfor\u001b[0m \u001b[0mi\u001b[0m\u001b[0;34m,\u001b[0m \u001b[0mdata\u001b[0m \u001b[0;32min\u001b[0m \u001b[0menumerate\u001b[0m\u001b[0;34m(\u001b[0m\u001b[0mtrain_loader\u001b[0m\u001b[0;34m,\u001b[0m \u001b[0;36m0\u001b[0m\u001b[0;34m)\u001b[0m\u001b[0;34m:\u001b[0m\u001b[0;34m\u001b[0m\u001b[0;34m\u001b[0m\u001b[0m\n\u001b[0m\u001b[1;32m     56\u001b[0m             \u001b[0;31m# get the inputs; data is a list of [inputs, labels]\u001b[0m\u001b[0;34m\u001b[0m\u001b[0;34m\u001b[0m\u001b[0;34m\u001b[0m\u001b[0m\n",
        "\u001b[0;32m~/miniconda3/envs/rosetta/lib/python3.8/site-packages/torch/utils/data/dataloader.py\u001b[0m in \u001b[0;36m__next__\u001b[0;34m(self)\u001b[0m\n\u001b[1;32m    516\u001b[0m                 \u001b[0mself\u001b[0m\u001b[0;34m.\u001b[0m\u001b[0m_reset\u001b[0m\u001b[0;34m(\u001b[0m\u001b[0;34m)\u001b[0m\u001b[0;34m\u001b[0m\u001b[0;34m\u001b[0m\u001b[0m\n\u001b[0;32m--> 517\u001b[0;31m             \u001b[0mdata\u001b[0m \u001b[0;34m=\u001b[0m \u001b[0mself\u001b[0m\u001b[0;34m.\u001b[0m\u001b[0m_next_data\u001b[0m\u001b[0;34m(\u001b[0m\u001b[0;34m)\u001b[0m\u001b[0;34m\u001b[0m\u001b[0;34m\u001b[0m\u001b[0m\n\u001b[0m\u001b[1;32m    518\u001b[0m             \u001b[0mself\u001b[0m\u001b[0;34m.\u001b[0m\u001b[0m_num_yielded\u001b[0m \u001b[0;34m+=\u001b[0m \u001b[0;36m1\u001b[0m\u001b[0;34m\u001b[0m\u001b[0;34m\u001b[0m\u001b[0m\n",
        "\u001b[0;32m~/miniconda3/envs/rosetta/lib/python3.8/site-packages/torch/utils/data/dataloader.py\u001b[0m in \u001b[0;36m_next_data\u001b[0;34m(self)\u001b[0m\n\u001b[1;32m   1181\u001b[0m             \u001b[0;32massert\u001b[0m \u001b[0;32mnot\u001b[0m \u001b[0mself\u001b[0m\u001b[0;34m.\u001b[0m\u001b[0m_shutdown\u001b[0m \u001b[0;32mand\u001b[0m \u001b[0mself\u001b[0m\u001b[0;34m.\u001b[0m\u001b[0m_tasks_outstanding\u001b[0m \u001b[0;34m>\u001b[0m \u001b[0;36m0\u001b[0m\u001b[0;34m\u001b[0m\u001b[0;34m\u001b[0m\u001b[0m\n\u001b[0;32m-> 1182\u001b[0;31m             \u001b[0midx\u001b[0m\u001b[0;34m,\u001b[0m \u001b[0mdata\u001b[0m \u001b[0;34m=\u001b[0m \u001b[0mself\u001b[0m\u001b[0;34m.\u001b[0m\u001b[0m_get_data\u001b[0m\u001b[0;34m(\u001b[0m\u001b[0;34m)\u001b[0m\u001b[0;34m\u001b[0m\u001b[0;34m\u001b[0m\u001b[0m\n\u001b[0m\u001b[1;32m   1183\u001b[0m             \u001b[0mself\u001b[0m\u001b[0;34m.\u001b[0m\u001b[0m_tasks_outstanding\u001b[0m \u001b[0;34m-=\u001b[0m \u001b[0;36m1\u001b[0m\u001b[0;34m\u001b[0m\u001b[0;34m\u001b[0m\u001b[0m\n",
        "\u001b[0;32m~/miniconda3/envs/rosetta/lib/python3.8/site-packages/torch/utils/data/dataloader.py\u001b[0m in \u001b[0;36m_get_data\u001b[0;34m(self)\u001b[0m\n\u001b[1;32m   1147\u001b[0m             \u001b[0;32mwhile\u001b[0m \u001b[0;32mTrue\u001b[0m\u001b[0;34m:\u001b[0m\u001b[0;34m\u001b[0m\u001b[0;34m\u001b[0m\u001b[0m\n\u001b[0;32m-> 1148\u001b[0;31m                 \u001b[0msuccess\u001b[0m\u001b[0;34m,\u001b[0m \u001b[0mdata\u001b[0m \u001b[0;34m=\u001b[0m \u001b[0mself\u001b[0m\u001b[0;34m.\u001b[0m\u001b[0m_try_get_data\u001b[0m\u001b[0;34m(\u001b[0m\u001b[0;34m)\u001b[0m\u001b[0;34m\u001b[0m\u001b[0;34m\u001b[0m\u001b[0m\n\u001b[0m\u001b[1;32m   1149\u001b[0m                 \u001b[0;32mif\u001b[0m \u001b[0msuccess\u001b[0m\u001b[0;34m:\u001b[0m\u001b[0;34m\u001b[0m\u001b[0;34m\u001b[0m\u001b[0m\n",
        "\u001b[0;32m~/miniconda3/envs/rosetta/lib/python3.8/site-packages/torch/utils/data/dataloader.py\u001b[0m in \u001b[0;36m_try_get_data\u001b[0;34m(self, timeout)\u001b[0m\n\u001b[1;32m    985\u001b[0m         \u001b[0;32mtry\u001b[0m\u001b[0;34m:\u001b[0m\u001b[0;34m\u001b[0m\u001b[0;34m\u001b[0m\u001b[0m\n\u001b[0;32m--> 986\u001b[0;31m             \u001b[0mdata\u001b[0m \u001b[0;34m=\u001b[0m \u001b[0mself\u001b[0m\u001b[0;34m.\u001b[0m\u001b[0m_data_queue\u001b[0m\u001b[0;34m.\u001b[0m\u001b[0mget\u001b[0m\u001b[0;34m(\u001b[0m\u001b[0mtimeout\u001b[0m\u001b[0;34m=\u001b[0m\u001b[0mtimeout\u001b[0m\u001b[0;34m)\u001b[0m\u001b[0;34m\u001b[0m\u001b[0;34m\u001b[0m\u001b[0m\n\u001b[0m\u001b[1;32m    987\u001b[0m             \u001b[0;32mreturn\u001b[0m \u001b[0;34m(\u001b[0m\u001b[0;32mTrue\u001b[0m\u001b[0;34m,\u001b[0m \u001b[0mdata\u001b[0m\u001b[0;34m)\u001b[0m\u001b[0;34m\u001b[0m\u001b[0;34m\u001b[0m\u001b[0m\n",
        "\u001b[0;32m~/miniconda3/envs/rosetta/lib/python3.8/multiprocessing/queues.py\u001b[0m in \u001b[0;36mget\u001b[0;34m(self, block, timeout)\u001b[0m\n\u001b[1;32m    106\u001b[0m                     \u001b[0mtimeout\u001b[0m \u001b[0;34m=\u001b[0m \u001b[0mdeadline\u001b[0m \u001b[0;34m-\u001b[0m \u001b[0mtime\u001b[0m\u001b[0;34m.\u001b[0m\u001b[0mmonotonic\u001b[0m\u001b[0;34m(\u001b[0m\u001b[0;34m)\u001b[0m\u001b[0;34m\u001b[0m\u001b[0;34m\u001b[0m\u001b[0m\n\u001b[0;32m--> 107\u001b[0;31m                     \u001b[0;32mif\u001b[0m \u001b[0;32mnot\u001b[0m \u001b[0mself\u001b[0m\u001b[0;34m.\u001b[0m\u001b[0m_poll\u001b[0m\u001b[0;34m(\u001b[0m\u001b[0mtimeout\u001b[0m\u001b[0;34m)\u001b[0m\u001b[0;34m:\u001b[0m\u001b[0;34m\u001b[0m\u001b[0;34m\u001b[0m\u001b[0m\n\u001b[0m\u001b[1;32m    108\u001b[0m                         \u001b[0;32mraise\u001b[0m \u001b[0mEmpty\u001b[0m\u001b[0;34m\u001b[0m\u001b[0;34m\u001b[0m\u001b[0m\n",
        "\u001b[0;32m~/miniconda3/envs/rosetta/lib/python3.8/multiprocessing/connection.py\u001b[0m in \u001b[0;36mpoll\u001b[0;34m(self, timeout)\u001b[0m\n\u001b[1;32m    256\u001b[0m         \u001b[0mself\u001b[0m\u001b[0;34m.\u001b[0m\u001b[0m_check_readable\u001b[0m\u001b[0;34m(\u001b[0m\u001b[0;34m)\u001b[0m\u001b[0;34m\u001b[0m\u001b[0;34m\u001b[0m\u001b[0m\n\u001b[0;32m--> 257\u001b[0;31m         \u001b[0;32mreturn\u001b[0m \u001b[0mself\u001b[0m\u001b[0;34m.\u001b[0m\u001b[0m_poll\u001b[0m\u001b[0;34m(\u001b[0m\u001b[0mtimeout\u001b[0m\u001b[0;34m)\u001b[0m\u001b[0;34m\u001b[0m\u001b[0;34m\u001b[0m\u001b[0m\n\u001b[0m\u001b[1;32m    258\u001b[0m \u001b[0;34m\u001b[0m\u001b[0m\n",
        "\u001b[0;32m~/miniconda3/envs/rosetta/lib/python3.8/multiprocessing/connection.py\u001b[0m in \u001b[0;36m_poll\u001b[0;34m(self, timeout)\u001b[0m\n\u001b[1;32m    423\u001b[0m     \u001b[0;32mdef\u001b[0m \u001b[0m_poll\u001b[0m\u001b[0;34m(\u001b[0m\u001b[0mself\u001b[0m\u001b[0;34m,\u001b[0m \u001b[0mtimeout\u001b[0m\u001b[0;34m)\u001b[0m\u001b[0;34m:\u001b[0m\u001b[0;34m\u001b[0m\u001b[0;34m\u001b[0m\u001b[0m\n\u001b[0;32m--> 424\u001b[0;31m         \u001b[0mr\u001b[0m \u001b[0;34m=\u001b[0m \u001b[0mwait\u001b[0m\u001b[0;34m(\u001b[0m\u001b[0;34m[\u001b[0m\u001b[0mself\u001b[0m\u001b[0;34m]\u001b[0m\u001b[0;34m,\u001b[0m \u001b[0mtimeout\u001b[0m\u001b[0;34m)\u001b[0m\u001b[0;34m\u001b[0m\u001b[0;34m\u001b[0m\u001b[0m\n\u001b[0m\u001b[1;32m    425\u001b[0m         \u001b[0;32mreturn\u001b[0m \u001b[0mbool\u001b[0m\u001b[0;34m(\u001b[0m\u001b[0mr\u001b[0m\u001b[0;34m)\u001b[0m\u001b[0;34m\u001b[0m\u001b[0;34m\u001b[0m\u001b[0m\n",
        "\u001b[0;32m~/miniconda3/envs/rosetta/lib/python3.8/multiprocessing/connection.py\u001b[0m in \u001b[0;36mwait\u001b[0;34m(object_list, timeout)\u001b[0m\n\u001b[1;32m    930\u001b[0m             \u001b[0;32mwhile\u001b[0m \u001b[0;32mTrue\u001b[0m\u001b[0;34m:\u001b[0m\u001b[0;34m\u001b[0m\u001b[0;34m\u001b[0m\u001b[0m\n\u001b[0;32m--> 931\u001b[0;31m                 \u001b[0mready\u001b[0m \u001b[0;34m=\u001b[0m \u001b[0mselector\u001b[0m\u001b[0;34m.\u001b[0m\u001b[0mselect\u001b[0m\u001b[0;34m(\u001b[0m\u001b[0mtimeout\u001b[0m\u001b[0;34m)\u001b[0m\u001b[0;34m\u001b[0m\u001b[0;34m\u001b[0m\u001b[0m\n\u001b[0m\u001b[1;32m    932\u001b[0m                 \u001b[0;32mif\u001b[0m \u001b[0mready\u001b[0m\u001b[0;34m:\u001b[0m\u001b[0;34m\u001b[0m\u001b[0;34m\u001b[0m\u001b[0m\n",
        "\u001b[0;32m~/miniconda3/envs/rosetta/lib/python3.8/selectors.py\u001b[0m in \u001b[0;36mselect\u001b[0;34m(self, timeout)\u001b[0m\n\u001b[1;32m    414\u001b[0m         \u001b[0;32mtry\u001b[0m\u001b[0;34m:\u001b[0m\u001b[0;34m\u001b[0m\u001b[0;34m\u001b[0m\u001b[0m\n\u001b[0;32m--> 415\u001b[0;31m             \u001b[0mfd_event_list\u001b[0m \u001b[0;34m=\u001b[0m \u001b[0mself\u001b[0m\u001b[0;34m.\u001b[0m\u001b[0m_selector\u001b[0m\u001b[0;34m.\u001b[0m\u001b[0mpoll\u001b[0m\u001b[0;34m(\u001b[0m\u001b[0mtimeout\u001b[0m\u001b[0;34m)\u001b[0m\u001b[0;34m\u001b[0m\u001b[0;34m\u001b[0m\u001b[0m\n\u001b[0m\u001b[1;32m    416\u001b[0m         \u001b[0;32mexcept\u001b[0m \u001b[0mInterruptedError\u001b[0m\u001b[0;34m:\u001b[0m\u001b[0;34m\u001b[0m\u001b[0;34m\u001b[0m\u001b[0m\n",
        "\u001b[0;31mKeyboardInterrupt\u001b[0m: ",
        "\nDuring handling of the above exception, another exception occurred:\n",
        "\u001b[0;31mAttributeError\u001b[0m                            Traceback (most recent call last)",
        "\u001b[0;32m~/miniconda3/envs/rosetta/lib/python3.8/site-packages/IPython/core/interactiveshell.py\u001b[0m in \u001b[0;36mshowtraceback\u001b[0;34m(self, exc_tuple, filename, tb_offset, exception_only, running_compiled_code)\u001b[0m\n\u001b[1;32m   2060\u001b[0m                         \u001b[0;31m# in the engines. This should return a list of strings.\u001b[0m\u001b[0;34m\u001b[0m\u001b[0;34m\u001b[0m\u001b[0;34m\u001b[0m\u001b[0m\n\u001b[0;32m-> 2061\u001b[0;31m                         \u001b[0mstb\u001b[0m \u001b[0;34m=\u001b[0m \u001b[0mvalue\u001b[0m\u001b[0;34m.\u001b[0m\u001b[0m_render_traceback_\u001b[0m\u001b[0;34m(\u001b[0m\u001b[0;34m)\u001b[0m\u001b[0;34m\u001b[0m\u001b[0;34m\u001b[0m\u001b[0m\n\u001b[0m\u001b[1;32m   2062\u001b[0m                     \u001b[0;32mexcept\u001b[0m \u001b[0mException\u001b[0m\u001b[0;34m:\u001b[0m\u001b[0;34m\u001b[0m\u001b[0;34m\u001b[0m\u001b[0m\n",
        "\u001b[0;31mAttributeError\u001b[0m: 'KeyboardInterrupt' object has no attribute '_render_traceback_'",
        "\nDuring handling of the above exception, another exception occurred:\n",
        "\u001b[0;31mRuntimeError\u001b[0m                              Traceback (most recent call last)",
        "    \u001b[0;31m[... skipping hidden 1 frame]\u001b[0m\n",
        "\u001b[0;32m~/miniconda3/envs/rosetta/lib/python3.8/site-packages/IPython/core/interactiveshell.py\u001b[0m in \u001b[0;36mshowtraceback\u001b[0;34m(self, exc_tuple, filename, tb_offset, exception_only, running_compiled_code)\u001b[0m\n\u001b[1;32m   2061\u001b[0m                         \u001b[0mstb\u001b[0m \u001b[0;34m=\u001b[0m \u001b[0mvalue\u001b[0m\u001b[0;34m.\u001b[0m\u001b[0m_render_traceback_\u001b[0m\u001b[0;34m(\u001b[0m\u001b[0;34m)\u001b[0m\u001b[0;34m\u001b[0m\u001b[0;34m\u001b[0m\u001b[0m\n\u001b[1;32m   2062\u001b[0m                     \u001b[0;32mexcept\u001b[0m \u001b[0mException\u001b[0m\u001b[0;34m:\u001b[0m\u001b[0;34m\u001b[0m\u001b[0;34m\u001b[0m\u001b[0m\n\u001b[0;32m-> 2063\u001b[0;31m                         stb = self.InteractiveTB.structured_traceback(etype,\n\u001b[0m\u001b[1;32m   2064\u001b[0m                                             value, tb, tb_offset=tb_offset)\n\u001b[1;32m   2065\u001b[0m \u001b[0;34m\u001b[0m\u001b[0m\n",
        "\u001b[0;32m~/miniconda3/envs/rosetta/lib/python3.8/site-packages/IPython/core/ultratb.py\u001b[0m in \u001b[0;36mstructured_traceback\u001b[0;34m(self, etype, value, tb, tb_offset, number_of_lines_of_context)\u001b[0m\n\u001b[1;32m   1365\u001b[0m         \u001b[0;32melse\u001b[0m\u001b[0;34m:\u001b[0m\u001b[0;34m\u001b[0m\u001b[0;34m\u001b[0m\u001b[0m\n\u001b[1;32m   1366\u001b[0m             \u001b[0mself\u001b[0m\u001b[0;34m.\u001b[0m\u001b[0mtb\u001b[0m \u001b[0;34m=\u001b[0m \u001b[0mtb\u001b[0m\u001b[0;34m\u001b[0m\u001b[0;34m\u001b[0m\u001b[0m\n\u001b[0;32m-> 1367\u001b[0;31m         return FormattedTB.structured_traceback(\n\u001b[0m\u001b[1;32m   1368\u001b[0m             self, etype, value, tb, tb_offset, number_of_lines_of_context)\n\u001b[1;32m   1369\u001b[0m \u001b[0;34m\u001b[0m\u001b[0m\n",
        "\u001b[0;32m~/miniconda3/envs/rosetta/lib/python3.8/site-packages/IPython/core/ultratb.py\u001b[0m in \u001b[0;36mstructured_traceback\u001b[0;34m(self, etype, value, tb, tb_offset, number_of_lines_of_context)\u001b[0m\n\u001b[1;32m   1265\u001b[0m         \u001b[0;32mif\u001b[0m \u001b[0mmode\u001b[0m \u001b[0;32min\u001b[0m \u001b[0mself\u001b[0m\u001b[0;34m.\u001b[0m\u001b[0mverbose_modes\u001b[0m\u001b[0;34m:\u001b[0m\u001b[0;34m\u001b[0m\u001b[0;34m\u001b[0m\u001b[0m\n\u001b[1;32m   1266\u001b[0m             \u001b[0;31m# Verbose modes need a full traceback\u001b[0m\u001b[0;34m\u001b[0m\u001b[0;34m\u001b[0m\u001b[0;34m\u001b[0m\u001b[0m\n\u001b[0;32m-> 1267\u001b[0;31m             return VerboseTB.structured_traceback(\n\u001b[0m\u001b[1;32m   1268\u001b[0m                 \u001b[0mself\u001b[0m\u001b[0;34m,\u001b[0m \u001b[0metype\u001b[0m\u001b[0;34m,\u001b[0m \u001b[0mvalue\u001b[0m\u001b[0;34m,\u001b[0m \u001b[0mtb\u001b[0m\u001b[0;34m,\u001b[0m \u001b[0mtb_offset\u001b[0m\u001b[0;34m,\u001b[0m \u001b[0mnumber_of_lines_of_context\u001b[0m\u001b[0;34m\u001b[0m\u001b[0;34m\u001b[0m\u001b[0m\n\u001b[1;32m   1269\u001b[0m             )\n",
        "\u001b[0;32m~/miniconda3/envs/rosetta/lib/python3.8/site-packages/IPython/core/ultratb.py\u001b[0m in \u001b[0;36mstructured_traceback\u001b[0;34m(self, etype, evalue, etb, tb_offset, number_of_lines_of_context)\u001b[0m\n\u001b[1;32m   1122\u001b[0m         \u001b[0;34m\"\"\"Return a nice text document describing the traceback.\"\"\"\u001b[0m\u001b[0;34m\u001b[0m\u001b[0;34m\u001b[0m\u001b[0m\n\u001b[1;32m   1123\u001b[0m \u001b[0;34m\u001b[0m\u001b[0m\n\u001b[0;32m-> 1124\u001b[0;31m         formatted_exception = self.format_exception_as_a_whole(etype, evalue, etb, number_of_lines_of_context,\n\u001b[0m\u001b[1;32m   1125\u001b[0m                                                                tb_offset)\n\u001b[1;32m   1126\u001b[0m \u001b[0;34m\u001b[0m\u001b[0m\n",
        "\u001b[0;32m~/miniconda3/envs/rosetta/lib/python3.8/site-packages/IPython/core/ultratb.py\u001b[0m in \u001b[0;36mformat_exception_as_a_whole\u001b[0;34m(self, etype, evalue, etb, number_of_lines_of_context, tb_offset)\u001b[0m\n\u001b[1;32m   1082\u001b[0m         \u001b[0mlast_unique\u001b[0m\u001b[0;34m,\u001b[0m \u001b[0mrecursion_repeat\u001b[0m \u001b[0;34m=\u001b[0m \u001b[0mfind_recursion\u001b[0m\u001b[0;34m(\u001b[0m\u001b[0morig_etype\u001b[0m\u001b[0;34m,\u001b[0m \u001b[0mevalue\u001b[0m\u001b[0;34m,\u001b[0m \u001b[0mrecords\u001b[0m\u001b[0;34m)\u001b[0m\u001b[0;34m\u001b[0m\u001b[0;34m\u001b[0m\u001b[0m\n\u001b[1;32m   1083\u001b[0m \u001b[0;34m\u001b[0m\u001b[0m\n\u001b[0;32m-> 1084\u001b[0;31m         \u001b[0mframes\u001b[0m \u001b[0;34m=\u001b[0m \u001b[0mself\u001b[0m\u001b[0;34m.\u001b[0m\u001b[0mformat_records\u001b[0m\u001b[0;34m(\u001b[0m\u001b[0mrecords\u001b[0m\u001b[0;34m,\u001b[0m \u001b[0mlast_unique\u001b[0m\u001b[0;34m,\u001b[0m \u001b[0mrecursion_repeat\u001b[0m\u001b[0;34m)\u001b[0m\u001b[0;34m\u001b[0m\u001b[0;34m\u001b[0m\u001b[0m\n\u001b[0m\u001b[1;32m   1085\u001b[0m \u001b[0;34m\u001b[0m\u001b[0m\n\u001b[1;32m   1086\u001b[0m         \u001b[0mformatted_exception\u001b[0m \u001b[0;34m=\u001b[0m \u001b[0mself\u001b[0m\u001b[0;34m.\u001b[0m\u001b[0mformat_exception\u001b[0m\u001b[0;34m(\u001b[0m\u001b[0metype\u001b[0m\u001b[0;34m,\u001b[0m \u001b[0mevalue\u001b[0m\u001b[0;34m)\u001b[0m\u001b[0;34m\u001b[0m\u001b[0;34m\u001b[0m\u001b[0m\n",
        "\u001b[0;32m~/miniconda3/envs/rosetta/lib/python3.8/site-packages/IPython/core/ultratb.py\u001b[0m in \u001b[0;36mformat_records\u001b[0;34m(self, records, last_unique, recursion_repeat)\u001b[0m\n\u001b[1;32m    833\u001b[0m                 \u001b[0mskipped\u001b[0m \u001b[0;34m=\u001b[0m \u001b[0;36m0\u001b[0m\u001b[0;34m\u001b[0m\u001b[0;34m\u001b[0m\u001b[0m\n\u001b[1;32m    834\u001b[0m \u001b[0;34m\u001b[0m\u001b[0m\n\u001b[0;32m--> 835\u001b[0;31m             \u001b[0mframes\u001b[0m\u001b[0;34m.\u001b[0m\u001b[0mappend\u001b[0m\u001b[0;34m(\u001b[0m\u001b[0mself\u001b[0m\u001b[0;34m.\u001b[0m\u001b[0mformat_record\u001b[0m\u001b[0;34m(\u001b[0m\u001b[0;34m*\u001b[0m\u001b[0mr\u001b[0m\u001b[0;34m)\u001b[0m\u001b[0;34m)\u001b[0m\u001b[0;34m\u001b[0m\u001b[0;34m\u001b[0m\u001b[0m\n\u001b[0m\u001b[1;32m    836\u001b[0m \u001b[0;34m\u001b[0m\u001b[0m\n\u001b[1;32m    837\u001b[0m         \u001b[0;32mif\u001b[0m \u001b[0mskipped\u001b[0m\u001b[0;34m:\u001b[0m\u001b[0;34m\u001b[0m\u001b[0;34m\u001b[0m\u001b[0m\n",
        "\u001b[0;32m~/miniconda3/envs/rosetta/lib/python3.8/site-packages/IPython/core/ultratb.py\u001b[0m in \u001b[0;36mformat_record\u001b[0;34m(self, frame, file, lnum, func, lines, index)\u001b[0m\n\u001b[1;32m   1021\u001b[0m             \u001b[0;32mreturn\u001b[0m \u001b[0mlevel\u001b[0m\u001b[0;34m\u001b[0m\u001b[0;34m\u001b[0m\u001b[0m\n\u001b[1;32m   1022\u001b[0m         \u001b[0;32melse\u001b[0m\u001b[0;34m:\u001b[0m\u001b[0;34m\u001b[0m\u001b[0;34m\u001b[0m\u001b[0m\n\u001b[0;32m-> 1023\u001b[0;31m             \u001b[0m_line_format\u001b[0m \u001b[0;34m=\u001b[0m \u001b[0mPyColorize\u001b[0m\u001b[0;34m.\u001b[0m\u001b[0mParser\u001b[0m\u001b[0;34m(\u001b[0m\u001b[0mstyle\u001b[0m\u001b[0;34m=\u001b[0m\u001b[0mcol_scheme\u001b[0m\u001b[0;34m,\u001b[0m \u001b[0mparent\u001b[0m\u001b[0;34m=\u001b[0m\u001b[0mself\u001b[0m\u001b[0;34m)\u001b[0m\u001b[0;34m.\u001b[0m\u001b[0mformat2\u001b[0m\u001b[0;34m\u001b[0m\u001b[0;34m\u001b[0m\u001b[0m\n\u001b[0m\u001b[1;32m   1024\u001b[0m             return '%s%s' % (level, ''.join(\n\u001b[1;32m   1025\u001b[0m                 _format_traceback_lines(lnum, index, lines, Colors, lvals,\n",
        "\u001b[0;32m~/miniconda3/envs/rosetta/lib/python3.8/site-packages/IPython/utils/PyColorize.py\u001b[0m in \u001b[0;36m__init__\u001b[0;34m(self, color_table, out, parent, style)\u001b[0m\n\u001b[1;32m    184\u001b[0m         \"\"\"\n\u001b[1;32m    185\u001b[0m \u001b[0;34m\u001b[0m\u001b[0m\n\u001b[0;32m--> 186\u001b[0;31m         \u001b[0msuper\u001b[0m\u001b[0;34m(\u001b[0m\u001b[0mParser\u001b[0m\u001b[0;34m,\u001b[0m \u001b[0mself\u001b[0m\u001b[0;34m)\u001b[0m\u001b[0;34m.\u001b[0m\u001b[0m__init__\u001b[0m\u001b[0;34m(\u001b[0m\u001b[0mparent\u001b[0m\u001b[0;34m=\u001b[0m\u001b[0mparent\u001b[0m\u001b[0;34m)\u001b[0m\u001b[0;34m\u001b[0m\u001b[0;34m\u001b[0m\u001b[0m\n\u001b[0m\u001b[1;32m    187\u001b[0m \u001b[0;34m\u001b[0m\u001b[0m\n\u001b[1;32m    188\u001b[0m         \u001b[0mself\u001b[0m\u001b[0;34m.\u001b[0m\u001b[0mcolor_table\u001b[0m \u001b[0;34m=\u001b[0m \u001b[0mcolor_table\u001b[0m \u001b[0;32mif\u001b[0m \u001b[0mcolor_table\u001b[0m \u001b[0;32melse\u001b[0m \u001b[0mANSICodeColors\u001b[0m\u001b[0;34m\u001b[0m\u001b[0;34m\u001b[0m\u001b[0m\n",
        "\u001b[0;32m~/miniconda3/envs/rosetta/lib/python3.8/site-packages/traitlets/config/configurable.py\u001b[0m in \u001b[0;36m__init__\u001b[0;34m(self, **kwargs)\u001b[0m\n\u001b[1;32m    102\u001b[0m             \u001b[0;31m# making that a class attribute.\u001b[0m\u001b[0;34m\u001b[0m\u001b[0;34m\u001b[0m\u001b[0;34m\u001b[0m\u001b[0m\n\u001b[1;32m    103\u001b[0m             \u001b[0;31m# self.config = deepcopy(config)\u001b[0m\u001b[0;34m\u001b[0m\u001b[0;34m\u001b[0m\u001b[0;34m\u001b[0m\u001b[0m\n\u001b[0;32m--> 104\u001b[0;31m             \u001b[0mself\u001b[0m\u001b[0;34m.\u001b[0m\u001b[0mconfig\u001b[0m \u001b[0;34m=\u001b[0m \u001b[0mconfig\u001b[0m\u001b[0;34m\u001b[0m\u001b[0;34m\u001b[0m\u001b[0m\n\u001b[0m\u001b[1;32m    105\u001b[0m         \u001b[0;32melse\u001b[0m\u001b[0;34m:\u001b[0m\u001b[0;34m\u001b[0m\u001b[0;34m\u001b[0m\u001b[0m\n\u001b[1;32m    106\u001b[0m             \u001b[0;31m# allow _config_default to return something\u001b[0m\u001b[0;34m\u001b[0m\u001b[0;34m\u001b[0m\u001b[0;34m\u001b[0m\u001b[0m\n",
        "\u001b[0;32m~/miniconda3/envs/rosetta/lib/python3.8/site-packages/traitlets/traitlets.py\u001b[0m in \u001b[0;36m__set__\u001b[0;34m(self, obj, value)\u001b[0m\n\u001b[1;32m    602\u001b[0m             \u001b[0;32mraise\u001b[0m \u001b[0mTraitError\u001b[0m\u001b[0;34m(\u001b[0m\u001b[0;34m'The \"%s\" trait is read-only.'\u001b[0m \u001b[0;34m%\u001b[0m \u001b[0mself\u001b[0m\u001b[0;34m.\u001b[0m\u001b[0mname\u001b[0m\u001b[0;34m)\u001b[0m\u001b[0;34m\u001b[0m\u001b[0;34m\u001b[0m\u001b[0m\n\u001b[1;32m    603\u001b[0m         \u001b[0;32melse\u001b[0m\u001b[0;34m:\u001b[0m\u001b[0;34m\u001b[0m\u001b[0;34m\u001b[0m\u001b[0m\n\u001b[0;32m--> 604\u001b[0;31m             \u001b[0mself\u001b[0m\u001b[0;34m.\u001b[0m\u001b[0mset\u001b[0m\u001b[0;34m(\u001b[0m\u001b[0mobj\u001b[0m\u001b[0;34m,\u001b[0m \u001b[0mvalue\u001b[0m\u001b[0;34m)\u001b[0m\u001b[0;34m\u001b[0m\u001b[0;34m\u001b[0m\u001b[0m\n\u001b[0m\u001b[1;32m    605\u001b[0m \u001b[0;34m\u001b[0m\u001b[0m\n\u001b[1;32m    606\u001b[0m     \u001b[0;32mdef\u001b[0m \u001b[0m_validate\u001b[0m\u001b[0;34m(\u001b[0m\u001b[0mself\u001b[0m\u001b[0;34m,\u001b[0m \u001b[0mobj\u001b[0m\u001b[0;34m,\u001b[0m \u001b[0mvalue\u001b[0m\u001b[0;34m)\u001b[0m\u001b[0;34m:\u001b[0m\u001b[0;34m\u001b[0m\u001b[0;34m\u001b[0m\u001b[0m\n",
        "\u001b[0;32m~/miniconda3/envs/rosetta/lib/python3.8/site-packages/traitlets/traitlets.py\u001b[0m in \u001b[0;36mset\u001b[0;34m(self, obj, value)\u001b[0m\n\u001b[1;32m    591\u001b[0m             \u001b[0;31m# we explicitly compare silent to True just in case the equality\u001b[0m\u001b[0;34m\u001b[0m\u001b[0;34m\u001b[0m\u001b[0;34m\u001b[0m\u001b[0m\n\u001b[1;32m    592\u001b[0m             \u001b[0;31m# comparison above returns something other than True/False\u001b[0m\u001b[0;34m\u001b[0m\u001b[0;34m\u001b[0m\u001b[0;34m\u001b[0m\u001b[0m\n\u001b[0;32m--> 593\u001b[0;31m             \u001b[0mobj\u001b[0m\u001b[0;34m.\u001b[0m\u001b[0m_notify_trait\u001b[0m\u001b[0;34m(\u001b[0m\u001b[0mself\u001b[0m\u001b[0;34m.\u001b[0m\u001b[0mname\u001b[0m\u001b[0;34m,\u001b[0m \u001b[0mold_value\u001b[0m\u001b[0;34m,\u001b[0m \u001b[0mnew_value\u001b[0m\u001b[0;34m)\u001b[0m\u001b[0;34m\u001b[0m\u001b[0;34m\u001b[0m\u001b[0m\n\u001b[0m\u001b[1;32m    594\u001b[0m \u001b[0;34m\u001b[0m\u001b[0m\n\u001b[1;32m    595\u001b[0m     \u001b[0;32mdef\u001b[0m \u001b[0m__set__\u001b[0m\u001b[0;34m(\u001b[0m\u001b[0mself\u001b[0m\u001b[0;34m,\u001b[0m \u001b[0mobj\u001b[0m\u001b[0;34m,\u001b[0m \u001b[0mvalue\u001b[0m\u001b[0;34m)\u001b[0m\u001b[0;34m:\u001b[0m\u001b[0;34m\u001b[0m\u001b[0;34m\u001b[0m\u001b[0m\n",
        "\u001b[0;32m~/miniconda3/envs/rosetta/lib/python3.8/site-packages/traitlets/traitlets.py\u001b[0m in \u001b[0;36m_notify_trait\u001b[0;34m(self, name, old_value, new_value)\u001b[0m\n\u001b[1;32m   1215\u001b[0m \u001b[0;34m\u001b[0m\u001b[0m\n\u001b[1;32m   1216\u001b[0m     \u001b[0;32mdef\u001b[0m \u001b[0m_notify_trait\u001b[0m\u001b[0;34m(\u001b[0m\u001b[0mself\u001b[0m\u001b[0;34m,\u001b[0m \u001b[0mname\u001b[0m\u001b[0;34m,\u001b[0m \u001b[0mold_value\u001b[0m\u001b[0;34m,\u001b[0m \u001b[0mnew_value\u001b[0m\u001b[0;34m)\u001b[0m\u001b[0;34m:\u001b[0m\u001b[0;34m\u001b[0m\u001b[0;34m\u001b[0m\u001b[0m\n\u001b[0;32m-> 1217\u001b[0;31m         self.notify_change(Bunch(\n\u001b[0m\u001b[1;32m   1218\u001b[0m             \u001b[0mname\u001b[0m\u001b[0;34m=\u001b[0m\u001b[0mname\u001b[0m\u001b[0;34m,\u001b[0m\u001b[0;34m\u001b[0m\u001b[0;34m\u001b[0m\u001b[0m\n\u001b[1;32m   1219\u001b[0m             \u001b[0mold\u001b[0m\u001b[0;34m=\u001b[0m\u001b[0mold_value\u001b[0m\u001b[0;34m,\u001b[0m\u001b[0;34m\u001b[0m\u001b[0;34m\u001b[0m\u001b[0m\n",
        "\u001b[0;32m~/miniconda3/envs/rosetta/lib/python3.8/site-packages/traitlets/traitlets.py\u001b[0m in \u001b[0;36mnotify_change\u001b[0;34m(self, change)\u001b[0m\n\u001b[1;32m   1225\u001b[0m     \u001b[0;32mdef\u001b[0m \u001b[0mnotify_change\u001b[0m\u001b[0;34m(\u001b[0m\u001b[0mself\u001b[0m\u001b[0;34m,\u001b[0m \u001b[0mchange\u001b[0m\u001b[0;34m)\u001b[0m\u001b[0;34m:\u001b[0m\u001b[0;34m\u001b[0m\u001b[0;34m\u001b[0m\u001b[0m\n\u001b[1;32m   1226\u001b[0m         \u001b[0;34m\"\"\"Notify observers of a change event\"\"\"\u001b[0m\u001b[0;34m\u001b[0m\u001b[0;34m\u001b[0m\u001b[0m\n\u001b[0;32m-> 1227\u001b[0;31m         \u001b[0;32mreturn\u001b[0m \u001b[0mself\u001b[0m\u001b[0;34m.\u001b[0m\u001b[0m_notify_observers\u001b[0m\u001b[0;34m(\u001b[0m\u001b[0mchange\u001b[0m\u001b[0;34m)\u001b[0m\u001b[0;34m\u001b[0m\u001b[0;34m\u001b[0m\u001b[0m\n\u001b[0m\u001b[1;32m   1228\u001b[0m \u001b[0;34m\u001b[0m\u001b[0m\n\u001b[1;32m   1229\u001b[0m     \u001b[0;32mdef\u001b[0m \u001b[0m_notify_observers\u001b[0m\u001b[0;34m(\u001b[0m\u001b[0mself\u001b[0m\u001b[0;34m,\u001b[0m \u001b[0mevent\u001b[0m\u001b[0;34m)\u001b[0m\u001b[0;34m:\u001b[0m\u001b[0;34m\u001b[0m\u001b[0;34m\u001b[0m\u001b[0m\n",
        "\u001b[0;32m~/miniconda3/envs/rosetta/lib/python3.8/site-packages/traitlets/traitlets.py\u001b[0m in \u001b[0;36m_notify_observers\u001b[0;34m(self, event)\u001b[0m\n\u001b[1;32m   1262\u001b[0m                 \u001b[0mc\u001b[0m \u001b[0;34m=\u001b[0m \u001b[0mgetattr\u001b[0m\u001b[0;34m(\u001b[0m\u001b[0mself\u001b[0m\u001b[0;34m,\u001b[0m \u001b[0mc\u001b[0m\u001b[0;34m.\u001b[0m\u001b[0mname\u001b[0m\u001b[0;34m)\u001b[0m\u001b[0;34m\u001b[0m\u001b[0;34m\u001b[0m\u001b[0m\n\u001b[1;32m   1263\u001b[0m \u001b[0;34m\u001b[0m\u001b[0m\n\u001b[0;32m-> 1264\u001b[0;31m             \u001b[0mc\u001b[0m\u001b[0;34m(\u001b[0m\u001b[0mevent\u001b[0m\u001b[0;34m)\u001b[0m\u001b[0;34m\u001b[0m\u001b[0;34m\u001b[0m\u001b[0m\n\u001b[0m\u001b[1;32m   1265\u001b[0m \u001b[0;34m\u001b[0m\u001b[0m\n\u001b[1;32m   1266\u001b[0m     \u001b[0;32mdef\u001b[0m \u001b[0m_add_notifiers\u001b[0m\u001b[0;34m(\u001b[0m\u001b[0mself\u001b[0m\u001b[0;34m,\u001b[0m \u001b[0mhandler\u001b[0m\u001b[0;34m,\u001b[0m \u001b[0mname\u001b[0m\u001b[0;34m,\u001b[0m \u001b[0mtype\u001b[0m\u001b[0;34m)\u001b[0m\u001b[0;34m:\u001b[0m\u001b[0;34m\u001b[0m\u001b[0;34m\u001b[0m\u001b[0m\n",
        "\u001b[0;32m~/miniconda3/envs/rosetta/lib/python3.8/site-packages/traitlets/traitlets.py\u001b[0m in \u001b[0;36mcompatible_observer\u001b[0;34m(self, change_or_name, old, new)\u001b[0m\n\u001b[1;32m    886\u001b[0m                 \u001b[0mowner\u001b[0m\u001b[0;34m=\u001b[0m\u001b[0mself\u001b[0m\u001b[0;34m,\u001b[0m\u001b[0;34m\u001b[0m\u001b[0;34m\u001b[0m\u001b[0m\n\u001b[1;32m    887\u001b[0m             )\n\u001b[0;32m--> 888\u001b[0;31m         \u001b[0;32mreturn\u001b[0m \u001b[0mfunc\u001b[0m\u001b[0;34m(\u001b[0m\u001b[0mself\u001b[0m\u001b[0;34m,\u001b[0m \u001b[0mchange\u001b[0m\u001b[0;34m)\u001b[0m\u001b[0;34m\u001b[0m\u001b[0;34m\u001b[0m\u001b[0m\n\u001b[0m\u001b[1;32m    889\u001b[0m     \u001b[0;32mreturn\u001b[0m \u001b[0mcompatible_observer\u001b[0m\u001b[0;34m\u001b[0m\u001b[0;34m\u001b[0m\u001b[0m\n\u001b[1;32m    890\u001b[0m \u001b[0;34m\u001b[0m\u001b[0m\n",
        "\u001b[0;32m~/miniconda3/envs/rosetta/lib/python3.8/site-packages/traitlets/config/configurable.py\u001b[0m in \u001b[0;36m_config_changed\u001b[0;34m(self, change)\u001b[0m\n\u001b[1;32m    200\u001b[0m         \"\"\"\n\u001b[1;32m    201\u001b[0m         \u001b[0;31m# Get all traits with a config metadata entry that is True\u001b[0m\u001b[0;34m\u001b[0m\u001b[0;34m\u001b[0m\u001b[0;34m\u001b[0m\u001b[0m\n\u001b[0;32m--> 202\u001b[0;31m         \u001b[0mtraits\u001b[0m \u001b[0;34m=\u001b[0m \u001b[0mself\u001b[0m\u001b[0;34m.\u001b[0m\u001b[0mtraits\u001b[0m\u001b[0;34m(\u001b[0m\u001b[0mconfig\u001b[0m\u001b[0;34m=\u001b[0m\u001b[0;32mTrue\u001b[0m\u001b[0;34m)\u001b[0m\u001b[0;34m\u001b[0m\u001b[0;34m\u001b[0m\u001b[0m\n\u001b[0m\u001b[1;32m    203\u001b[0m \u001b[0;34m\u001b[0m\u001b[0m\n\u001b[1;32m    204\u001b[0m         \u001b[0;31m# We auto-load config section for this class as well as any parent\u001b[0m\u001b[0;34m\u001b[0m\u001b[0;34m\u001b[0m\u001b[0;34m\u001b[0m\u001b[0m\n",
        "\u001b[0;32m~/miniconda3/envs/rosetta/lib/python3.8/site-packages/traitlets/traitlets.py\u001b[0m in \u001b[0;36mtraits\u001b[0;34m(self, **metadata)\u001b[0m\n\u001b[1;32m   1604\u001b[0m         \u001b[0mto\u001b[0m \u001b[0mthe\u001b[0m \u001b[0mfunction\u001b[0m\u001b[0;34m.\u001b[0m\u001b[0;34m\u001b[0m\u001b[0;34m\u001b[0m\u001b[0m\n\u001b[1;32m   1605\u001b[0m         \"\"\"\n\u001b[0;32m-> 1606\u001b[0;31m         traits = dict([memb for memb in getmembers(self.__class__) if\n\u001b[0m\u001b[1;32m   1607\u001b[0m                      isinstance(memb[1], TraitType)])\n\u001b[1;32m   1608\u001b[0m \u001b[0;34m\u001b[0m\u001b[0m\n",
        "\u001b[0;32m~/miniconda3/envs/rosetta/lib/python3.8/site-packages/traitlets/traitlets.py\u001b[0m in \u001b[0;36mgetmembers\u001b[0;34m(object, predicate)\u001b[0m\n\u001b[1;32m    231\u001b[0m             \u001b[0;32mpass\u001b[0m\u001b[0;34m\u001b[0m\u001b[0;34m\u001b[0m\u001b[0m\n\u001b[1;32m    232\u001b[0m         \u001b[0;32melse\u001b[0m\u001b[0;34m:\u001b[0m\u001b[0;34m\u001b[0m\u001b[0;34m\u001b[0m\u001b[0m\n\u001b[0;32m--> 233\u001b[0;31m             \u001b[0;32mif\u001b[0m \u001b[0;32mnot\u001b[0m \u001b[0mpredicate\u001b[0m \u001b[0;32mor\u001b[0m \u001b[0mpredicate\u001b[0m\u001b[0;34m(\u001b[0m\u001b[0mvalue\u001b[0m\u001b[0;34m)\u001b[0m\u001b[0;34m:\u001b[0m\u001b[0;34m\u001b[0m\u001b[0;34m\u001b[0m\u001b[0m\n\u001b[0m\u001b[1;32m    234\u001b[0m                 \u001b[0mresults\u001b[0m\u001b[0;34m.\u001b[0m\u001b[0mappend\u001b[0m\u001b[0;34m(\u001b[0m\u001b[0;34m(\u001b[0m\u001b[0mkey\u001b[0m\u001b[0;34m,\u001b[0m \u001b[0mvalue\u001b[0m\u001b[0;34m)\u001b[0m\u001b[0;34m)\u001b[0m\u001b[0;34m\u001b[0m\u001b[0;34m\u001b[0m\u001b[0m\n\u001b[1;32m    235\u001b[0m     \u001b[0mresults\u001b[0m\u001b[0;34m.\u001b[0m\u001b[0msort\u001b[0m\u001b[0;34m(\u001b[0m\u001b[0;34m)\u001b[0m\u001b[0;34m\u001b[0m\u001b[0;34m\u001b[0m\u001b[0m\n",
        "\u001b[0;32m~/miniconda3/envs/rosetta/lib/python3.8/site-packages/torch/utils/data/_utils/signal_handling.py\u001b[0m in \u001b[0;36mhandler\u001b[0;34m(signum, frame)\u001b[0m\n\u001b[1;32m     64\u001b[0m         \u001b[0;31m# This following call uses `waitid` with WNOHANG from C side. Therefore,\u001b[0m\u001b[0;34m\u001b[0m\u001b[0;34m\u001b[0m\u001b[0;34m\u001b[0m\u001b[0m\n\u001b[1;32m     65\u001b[0m         \u001b[0;31m# Python can still get and update the process status successfully.\u001b[0m\u001b[0;34m\u001b[0m\u001b[0;34m\u001b[0m\u001b[0;34m\u001b[0m\u001b[0m\n\u001b[0;32m---> 66\u001b[0;31m         \u001b[0m_error_if_any_worker_fails\u001b[0m\u001b[0;34m(\u001b[0m\u001b[0;34m)\u001b[0m\u001b[0;34m\u001b[0m\u001b[0;34m\u001b[0m\u001b[0m\n\u001b[0m\u001b[1;32m     67\u001b[0m         \u001b[0;32mif\u001b[0m \u001b[0mprevious_handler\u001b[0m \u001b[0;32mis\u001b[0m \u001b[0;32mnot\u001b[0m \u001b[0;32mNone\u001b[0m\u001b[0;34m:\u001b[0m\u001b[0;34m\u001b[0m\u001b[0;34m\u001b[0m\u001b[0m\n\u001b[1;32m     68\u001b[0m             \u001b[0;32massert\u001b[0m \u001b[0mcallable\u001b[0m\u001b[0;34m(\u001b[0m\u001b[0mprevious_handler\u001b[0m\u001b[0;34m)\u001b[0m\u001b[0;34m\u001b[0m\u001b[0;34m\u001b[0m\u001b[0m\n",
        "\u001b[0;31mRuntimeError\u001b[0m: DataLoader worker (pid 65620) is killed by signal: Interrupt: 2. "
       ]
      }
     },
     "output_type": "unknown"
    }
   ],
   "source": [
    "train_acc, train_loss, val_acc, val_loss_list = train1(model=model_sparse, num_epochs=epochs,patience=5, criterion=criterion, optimizer=optimizer, scheduler=scheduler, train_loader=train_dataloader, train_size=train_size, test_loader=test_dataloader, test_size=test_size, PATH=PATH)\n"
   ]
  },
  {
   "cell_type": "code",
   "execution_count": null,
   "metadata": {},
   "outputs": [
    {
     "data": {
      "image/png": "[encoded data removed]",
      "text/plain": "<Figure size 864x576 with 4 Axes>"
     },
     "output_type": "unknown"
    },
    {
     "data": {
      "application/x.notebook.stdout": "Min of Training Loss: 0.661521\nMax of Training Accuracy: 0.616684\nMean of Training Loss: 0.676972\nMean of Training Accuracy: 0.578032\n----\nMax of Testing Accuracy: 0.414433\nMean of Testing Loss: 0.752124\nMean of Testing Accuracy: 0.320928\n"
     },
     "output_type": "unknown"
    }
   ],
   "source": [
    "__MLP.clf_report(train_loss, train_acc, val_loss_list, val_acc)"
   ]
  }
 ],
 "metadata": {
  "kernelspec": {
   "display_name": "Python 3.8.8 64-bit (conda)",
   "name": "python388jvsc74a57bd0b3e779290c3971bcb91630500d66c3c3cecd721489b4b277b4ac4fef67ef773c"
  },
  "language_info": {
   "codemirror_mode": {
    "name": "ipython",
    "version": 3
   },
   "file_extension": ".py",
   "mimetype": "text/x-python",
   "name": "python",
   "nbconvert_exporter": "python",
   "pygments_lexer": "ipython3",
   "version": "3.8.8"
  },
  "metadata": {
   "interpreter": {
    "hash": "b3e779290c3971bcb91630500d66c3c3cecd721489b4b277b4ac4fef67ef773c"
   }
  },
  "orig_nbformat": 2
 },
 "nbformat": 4,
 "nbformat_minor": 2
}