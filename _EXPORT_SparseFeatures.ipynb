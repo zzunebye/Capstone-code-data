{
 "cells": [
  {
   "cell_type": "code",
   "execution_count": null,
   "metadata": {},
   "outputs": [],
   "source": [
    "# 실행시 등장하는 URL을 클릭하여 허용해주면 인증KEY가 나타난다. 복사하여 URL아래 빈칸에 붙여넣으면 마운트에 성공하게된다.\n",
    "from google.colab import drive\n",
    "drive.mount('./MyDrive')"
   ]
  },
  {
   "cell_type": "code",
   "execution_count": null,
   "metadata": {},
   "outputs": [],
   "source": [
    "cd MyDrive/MyDrive/Capstone/code_data"
   ]
  },
  {
   "cell_type": "markdown",
   "metadata": {},
   "source": [
    "# Libraries"
   ]
  },
  {
   "cell_type": "code",
   "execution_count": 2,
   "metadata": {},
   "outputs": [
    {
     "name": "stderr",
     "output_type": "stream",
     "text": [
      "[nltk_data] Downloading package punkt to /Users/june/nltk_data...\n",
      "[nltk_data]   Package punkt is already up-to-date!\n",
      "[nltk_data] Downloading package averaged_perceptron_tagger to\n",
      "[nltk_data]     /Users/june/nltk_data...\n",
      "[nltk_data]   Package averaged_perceptron_tagger is already up-to-\n",
      "[nltk_data]       date!\n"
     ]
    }
   ],
   "source": [
    "import pandas as pd\n",
    "import numpy as np\n",
    "from glob2 import glob\n",
    "import json\n",
    "\n",
    "import nltk\n",
    "nltk.download('punkt')\n",
    "nltk.download('averaged_perceptron_tagger')\n",
    "import re\n",
    "from nltk.corpus import stopwords\n",
    "from nltk.stem.porter import PorterStemmer\n",
    "\n",
    "import gensim\n",
    "import gensim.models.word2vec as w2v\n",
    "from gensim.test.utils import common_texts\n",
    "from datetime import datetime\n",
    "from datetime import date\n",
    "from datetime import timedelta\n",
    "\n",
    "from nltk import SnowballStemmer\n",
    "from nltk.corpus import wordnet\n",
    "from nltk.corpus import stopwords\n",
    "from nltk.stem import WordNetLemmatizer\n",
    "from nltk.stem.porter import PorterStemmer\n",
    "from nltk.tokenize import TweetTokenizer\n",
    "import emoji\n"
   ]
  },
  {
   "cell_type": "code",
   "execution_count": 3,
   "metadata": {},
   "outputs": [],
   "source": [
    "pd.set_option('display.max_columns', None)\n",
    "# pd.set_option('display.max_rows', 400)\n",
    "# pd.set_option('display.max_rowwidth', 100)\n",
    "pd.set_option('display.max_colwidth', 200)"
   ]
  },
  {
   "cell_type": "markdown",
   "metadata": {},
   "source": [
    "# Functions"
   ]
  },
  {
   "cell_type": "code",
   "execution_count": 4,
   "metadata": {},
   "outputs": [],
   "source": [
    "lmt = WordNetLemmatizer()\n",
    "stemmer = SnowballStemmer(\"english\")\n",
    "freqdist = nltk.FreqDist()\n",
    "stop_words = set(stopwords.words('english'))\n",
    "tweet_tokenizer = TweetTokenizer()\n",
    "\n",
    "\"\"\" Replaces contractions from a string to their equivalents \"\"\"\n",
    "contraction_patterns = [ (r'won\\'t', 'will not'), (r'can\\'t', 'cannot'), (r'i\\'m', 'i am'), (r'ain\\'t', 'is not'), (r'(\\w+)\\'ll', '\\g<1> will'), (r'(\\w+)n\\'t', '\\g<1> not'),\n",
    "                         (r'(\\w+)\\'ve', '\\g<1> have'), (r'(\\w+)\\'s', '\\g<1> is'), (r'(\\w+)\\'re', '\\g<1> are'), (r'(\\w+)\\'d', '\\g<1> would'), (r'&', 'and'), (r'dammit', 'damn it'), (r'dont', 'do not'), (r'wont', 'will not'), \n",
    "                         (r'i\\'d', 'i would'), (r'I\\'d', 'I would'), (r'he\\'d', 'he would'), (r'she\\'d', 'she would'), (r'they\\'d', 'they would'), (r'we\\'d', 'we would')]\n",
    "def replaceContraction(text):\n",
    "    patterns = [(re.compile(regex), repl) for (regex, repl) in contraction_patterns]\n",
    "    for (pattern, repl) in patterns:\n",
    "        (text, count) = re.subn(pattern, repl, text)\n",
    "    return text\n",
    "\n",
    "def capitalratio(tweet_text):\n",
    "    uppers = [l for l in tweet_text if l.isupper()]\n",
    "    capitalratio = len(uppers) / len(tweet_text)\n",
    "    return capitalratio \n",
    "\n",
    "def getTokenization(sent):\n",
    "    tweet_tokens = []\n",
    "    sent = sent.lower()\n",
    "    sent = replaceContraction(sent)\n",
    "\n",
    "    sent = re.sub(r\"http\\S+\", \"*\", sent) # http link -> '*'\n",
    "    # sent = re.sub(r\"@\\S+\", \"@\", sent)   # mention -> '@'\n",
    "    sent = re.sub(r\"@[^\\s]+\", \"@\", sent)   # mention -> '@'\n",
    "    sent = re.sub(r\"(#)(\\S+)\", r'\\1 \\2', sent) \n",
    "\n",
    "    sent = re.sub(r'([^\\s\\w@#\\*]|_)+', '', sent) # Erasing Special Characters\n",
    "    # sent = re.sub('@[^\\s]+','atUser',sent)\n",
    "    # sent = re.sub('((www\\.[^\\s]+)|(https?://[^\\s]+))','url',sent)\n",
    "    # sent = re.sub(r'#([^\\s]+)', r'\\1', sent)\n",
    "\n",
    "\n",
    "    # sent = re.sub('', '', sent.lower())\n",
    "    # sent = [tweet_tokenizer.tokenize(sent)]\n",
    "    sent = tweet_tokenizer.tokenize(sent)\n",
    "    sent = [stemmer.stem(token) for token in sent]\n",
    "    sent = [lmt.lemmatize(token) for token in sent]\n",
    "\n",
    "    temp = [token for token in sent if not token in stop_words]\n",
    "    url=0\n",
    "    for token in temp:\n",
    "        if token.startswith('*'):\n",
    "            url+=1\n",
    "    # tweet_tokens.append([temp])\n",
    "    # tweet_tokens.append(tweet_tokenizer.tokenize(sent))\n",
    "    # df_tokens = pd.DataFrame(tweet_tokens, columns=['token'])\n",
    "    return temp, url\n",
    "\n",
    "def extract_urls(entities_dicts):\n",
    "    if len(entities_dicts) < 1:\n",
    "        return 0\n",
    "    if len(entities_dicts) == 1:\n",
    "        return 1\n",
    "    if len(entities_dicts) == 2:\n",
    "        return 2\n",
    "\n",
    "    # urls = []\n",
    "    # urls_expanded = []\n",
    "\n",
    "    # key = 'url'\n",
    "    # key2 = 'expanded_url'\n",
    "    # # print(len(entities_dict))\n",
    "    # for i in entities_dicts:\n",
    "    #     urls.append(i[key])\n",
    "    #     urls_expanded.append(i[key2])\n",
    "    # return 1, urls, urls_expanded\n",
    "\n",
    "def getposcount(tokens):\n",
    "    postag = []\n",
    "    poscount = {}\n",
    "    poscount['Noun']=0\n",
    "    poscount['Verb']=0\n",
    "    poscount['Adjective'] = 0\n",
    "    poscount['Pronoun']=0\n",
    "    poscount['FirstPersonPronoun']=0\n",
    "    poscount['SecondPersonPronoun']=0\n",
    "    poscount['ThirdPersonPronoun']=0\n",
    "    poscount['Adverb']=0\n",
    "    poscount['Numeral']=0\n",
    "    poscount['Conjunction_inj']=0\n",
    "    poscount['Particle']=0\n",
    "    poscount['Determiner']=0\n",
    "    poscount['Modal']=0\n",
    "    poscount['Whs']=0\n",
    "\n",
    "    Nouns = {'NN','NNS','NNP','NNPS'}\n",
    "    Adverbs = {'RB','RBR','RBS'}\n",
    "    Whs = {'WDT','WP','WRB'} # Composition of wh-determiner(that,what), wh-pronoun(who), wh-adverb(how)\n",
    "    Verbs={'VB','VBP','VBZ','VBN','VBG','VBD','To'}\n",
    "    first_person_pronouns=['i','I','me','my','mine','we','us','our','ours'] #'i',\n",
    "    second_person_pronouns=['you','your','yours', 'ya']\n",
    "    third_person_pronouns=['he','she','it','him','her','it','his','hers','its','they','them','their','theirs']\n",
    "\n",
    "    for word in tokens:\n",
    "        w_lower=word.lower()\n",
    "        if w_lower in first_person_pronouns:\n",
    "            poscount['FirstPersonPronoun']+=1\n",
    "        elif w_lower in second_person_pronouns:\n",
    "            poscount['SecondPersonPronoun']+=1\n",
    "        elif w_lower in third_person_pronouns:\n",
    "            poscount['ThirdPersonPronoun']+=1\n",
    "    \n",
    "    postag = nltk.pos_tag(tokens)\n",
    "    for g1 in postag:\n",
    "        if g1[1] in Nouns:\n",
    "            poscount['Noun'] += 1\n",
    "        elif g1[1] in Verbs:\n",
    "            poscount['Verb']+= 1\n",
    "        elif g1[1]=='ADJ'or g1[1]=='JJ':\n",
    "            poscount['Adjective']+=1\n",
    "        elif g1[1]=='PRP' or g1[1]=='PRON' or g1[1]=='PRP$':\n",
    "            poscount['Pronoun']+=1\n",
    "        elif g1[1] in Adverbs or g1[1]=='ADV':\n",
    "            poscount['Adverb']+=1\n",
    "        elif g1[1]=='CD':\n",
    "            poscount['Numeral']+=1\n",
    "        elif g1[1]=='CC' or g1[1]=='IN':\n",
    "            poscount['Conjunction_inj']+=1\n",
    "        elif g1[1]=='RP':\n",
    "            poscount['Particle']+=1\n",
    "        elif g1[1]=='MD':\n",
    "            poscount['Modal']+=1\n",
    "        elif g1[1]=='DT':\n",
    "            poscount['Determiner']+=1\n",
    "        elif g1[1] in Whs:\n",
    "            poscount['Whs']+=1\n",
    "    return poscount\n",
    "\n",
    "def fetchRawText(path, events, tweetType):\n",
    "    jsons = []\n",
    "    for i, event in enumerate(events):\n",
    "        jsons.append(glob('%s/%s/**/%s/*.json' % (path, event,tweetType)))\n",
    "    for i,d in enumerate(jsons): print(\"%s's length is %d\" %(events[i], len(d)))\n",
    "\n",
    "    targets = []\n",
    "    features = []\n",
    "    for index, dataset in enumerate(jsons):\n",
    "        targetEvent = []\n",
    "        dataEvent = []\n",
    "        count = 0  # help var\n",
    "        for jsonFile in dataset:\n",
    "            count += 1\n",
    "            if jsonFile.find(\"non-rumours\") == -1:\n",
    "                targetEvent.append(1)\n",
    "            else:\n",
    "                targetEvent.append(0)\n",
    "\n",
    "            with open(jsonFile, 'r') as f:\n",
    "                for l in f.readlines():\n",
    "                    if not l.strip():  # skip empty lines\n",
    "                        continue\n",
    "                    try:\n",
    "                        json_data = json.loads(l)\n",
    "                    except:\n",
    "                        print (l,\"\\n\\n\")\n",
    "                        break\n",
    "                    dataEvent.append(json_data)\n",
    "        print(index, events[index], len(targetEvent), len(dataEvent))\n",
    "        targets.append(targetEvent)\n",
    "        features.append(dataEvent)\n",
    "\n",
    "    # print(\"\\nNumber of Events:\", len(targets))\n",
    "    # print(\"Number of tweets in the first event:\", len(targets[0]))\n",
    "\n",
    "    # targets은 targetEvent들을 리스트에 담은 것\n",
    "    target_list = []\n",
    "    for event in targets:\n",
    "        for elem in event:\n",
    "            target_list.append(elem)\n",
    "    target = pd.DataFrame(target_list, columns=[\"target\"])\n",
    "\n",
    "    extracted_features = []\n",
    "\n",
    "    extracted = []\n",
    "\n",
    "    for obj_list in features:\n",
    "        extracted_event = []\n",
    "        for obj in obj_list:\n",
    "            output_f = dict()\n",
    "            output_f['text'] = obj['text']\n",
    "            urls_dicts = obj['entities']['urls']\n",
    "            output_f['URLcount'] = extract_urls(urls_dicts)\n",
    "        \n",
    "            # print(type(obj['user']))\n",
    "            # print(obj['user'].contains_key('entities'))\n",
    "            # if ('url' in obj['user']):\n",
    "            #     output_f['hasUserURL'] = 1\n",
    "            #     output_f['user_url'] = 1 if (obj['user']['url'] != None) else 0\n",
    "            # elif ('entities' in obj['user']):\n",
    "            #     output_f['user_entity'] = obj['user']['entities']['url']['urls']\n",
    "            #     # print(obj['user']['entities']['url']['urls'])\n",
    "            #     output_f['user_url'] = obj['user']['entities']['expanded_url']\n",
    "            #     output_f['hasUserURL'] , _ , output_f['user_url'] = extract_urls(obj['user']['entities']['url']['urls'])\n",
    "            # else:\n",
    "            #     # output_f['user_entity'] = None\n",
    "            #     output_f['user_url'] = 0\n",
    "            #     output_f['hasUserURL'] = 0\n",
    "            \n",
    "\n",
    "            output_f['text_token'], output_f['URLcount'] = getTokenization(obj['text'])\n",
    "            '''POS Tagging and text cleansing for POS'''\n",
    "            temp = output_f['text']\n",
    "            temp=  emoji.demojize(temp)\n",
    "            temp = re.sub(r\"(#)(\\S+)\", r'\\1 \\2', temp)\n",
    "            temp = re.sub(r\"http\\S+\", \"\", temp)\n",
    "            temp = replaceContraction(temp.lower())\n",
    "            temp = temp.split()\n",
    "            pos_dict=getposcount(temp)\n",
    "            output_f.update(pos_dict)\n",
    "            output_f['emoji_count'] = emoji.emoji_count(obj['text'])\n",
    "\n",
    "            output_f['char_count'] = len(output_f['text'])\n",
    "            output_f['word_count'] = len(output_f['text'].split())\n",
    "\n",
    "            output_f['has_question'] = \"?\" in output_f[\"text\"]\n",
    "            output_f['has_exclaim'] = \"!\" in output_f[\"text\"]\n",
    "            output_f['has_period'] = \".\" in output_f[\"text\"]\n",
    "\n",
    "            output_f['capital_ratio']=(capitalratio(obj['text']))\n",
    "            output_f['retweet_count'] = obj['retweet_count']\n",
    "            output_f['tweet_count'] = np.log10(obj['user']['statuses_count'])\n",
    "            output_f['listed_count'] = np.log10(obj['user']['listed_count'])\n",
    "            output_f['friends_count'] = np.log10(obj['user']['friends_count'])\n",
    "            output_f['follow_ratio'] = np.log10(obj['user']['followers_count'])\n",
    "\n",
    "            acc_created = datetime.strptime(obj['user']['created_at'], '%a %b %d %H:%M:%S %z %Y')\n",
    "            tweet_created = datetime.strptime(obj['created_at'], '%a %b %d %H:%M:%S %z %Y')\n",
    "            age = (tweet_created - acc_created)\n",
    "            output_f['account_age_days'] = age.days\n",
    "            \n",
    "            output_f['capital_ratio']=(capitalratio(obj['text']))\n",
    "            output_f['verified'] = obj['user']['verified']\n",
    "\n",
    "            extracted_event.append(output_f)\n",
    "        extracted_features.append(extracted_event)\n",
    "\n",
    "    extracted_df = []\n",
    "    for i, data in enumerate(extracted_features):\n",
    "        temp = pd.DataFrame(data)\n",
    "        temp[\"Event\"] = events[i]\n",
    "        extracted_df.append(pd.DataFrame(temp))\n",
    "\n",
    "    final = pd.concat(extracted_df, ignore_index=True)\n",
    "    final = pd.concat([final, target], axis=1)\n",
    "    return final\n",
    "    "
   ]
  },
  {
   "cell_type": "markdown",
   "metadata": {},
   "source": [
    "# PHEME"
   ]
  },
  {
   "cell_type": "code",
   "execution_count": 5,
   "metadata": {},
   "outputs": [
    {
     "ename": "KeyboardInterrupt",
     "evalue": "",
     "output_type": "error",
     "traceback": [
      "\u001b[0;31m---------------------------------------------------------------------------\u001b[0m",
      "\u001b[0;31mKeyboardInterrupt\u001b[0m                         Traceback (most recent call last)",
      "\u001b[0;32m<ipython-input-5-a7e6d1abce43>\u001b[0m in \u001b[0;36m<module>\u001b[0;34m\u001b[0m\n\u001b[1;32m      4\u001b[0m \u001b[0mtweetType\u001b[0m \u001b[0;34m=\u001b[0m \u001b[0;34m'source-tweet'\u001b[0m\u001b[0;34m\u001b[0m\u001b[0;34m\u001b[0m\u001b[0m\n\u001b[1;32m      5\u001b[0m \u001b[0mjsons\u001b[0m \u001b[0;34m=\u001b[0m \u001b[0;34m[\u001b[0m\u001b[0;34m]\u001b[0m\u001b[0;34m\u001b[0m\u001b[0;34m\u001b[0m\u001b[0m\n\u001b[0;32m----> 6\u001b[0;31m \u001b[0mfinal\u001b[0m \u001b[0;34m=\u001b[0m \u001b[0mfetchRawText\u001b[0m\u001b[0;34m(\u001b[0m\u001b[0mpath\u001b[0m\u001b[0;34m,\u001b[0m \u001b[0mevents\u001b[0m\u001b[0;34m,\u001b[0m \u001b[0mtweetType\u001b[0m\u001b[0;34m)\u001b[0m\u001b[0;34m\u001b[0m\u001b[0;34m\u001b[0m\u001b[0m\n\u001b[0m\u001b[1;32m      7\u001b[0m \u001b[0mtarget\u001b[0m \u001b[0;34m=\u001b[0m \u001b[0mfinal\u001b[0m\u001b[0;34m.\u001b[0m\u001b[0mtarget\u001b[0m\u001b[0;34m\u001b[0m\u001b[0;34m\u001b[0m\u001b[0m\n\u001b[1;32m      8\u001b[0m \u001b[0mfinal\u001b[0m\u001b[0;34m.\u001b[0m\u001b[0mverified\u001b[0m \u001b[0;34m=\u001b[0m \u001b[0mfinal\u001b[0m\u001b[0;34m.\u001b[0m\u001b[0mverified\u001b[0m\u001b[0;34m.\u001b[0m\u001b[0mreplace\u001b[0m\u001b[0;34m(\u001b[0m\u001b[0;34m{\u001b[0m\u001b[0;32mTrue\u001b[0m\u001b[0;34m:\u001b[0m \u001b[0;36m1\u001b[0m\u001b[0;34m,\u001b[0m \u001b[0;32mFalse\u001b[0m\u001b[0;34m:\u001b[0m \u001b[0;36m0\u001b[0m\u001b[0;34m}\u001b[0m\u001b[0;34m)\u001b[0m\u001b[0;34m\u001b[0m\u001b[0;34m\u001b[0m\u001b[0m\n",
      "\u001b[0;32m<ipython-input-4-d22b68828612>\u001b[0m in \u001b[0;36mfetchRawText\u001b[0;34m(path, events, tweetType)\u001b[0m\n\u001b[1;32m    135\u001b[0m     \u001b[0mjsons\u001b[0m \u001b[0;34m=\u001b[0m \u001b[0;34m[\u001b[0m\u001b[0;34m]\u001b[0m\u001b[0;34m\u001b[0m\u001b[0;34m\u001b[0m\u001b[0m\n\u001b[1;32m    136\u001b[0m     \u001b[0;32mfor\u001b[0m \u001b[0mi\u001b[0m\u001b[0;34m,\u001b[0m \u001b[0mevent\u001b[0m \u001b[0;32min\u001b[0m \u001b[0menumerate\u001b[0m\u001b[0;34m(\u001b[0m\u001b[0mevents\u001b[0m\u001b[0;34m)\u001b[0m\u001b[0;34m:\u001b[0m\u001b[0;34m\u001b[0m\u001b[0;34m\u001b[0m\u001b[0m\n\u001b[0;32m--> 137\u001b[0;31m         \u001b[0mjsons\u001b[0m\u001b[0;34m.\u001b[0m\u001b[0mappend\u001b[0m\u001b[0;34m(\u001b[0m\u001b[0mglob\u001b[0m\u001b[0;34m(\u001b[0m\u001b[0;34m'%s/%s/**/%s/*.json'\u001b[0m \u001b[0;34m%\u001b[0m \u001b[0;34m(\u001b[0m\u001b[0mpath\u001b[0m\u001b[0;34m,\u001b[0m \u001b[0mevent\u001b[0m\u001b[0;34m,\u001b[0m\u001b[0mtweetType\u001b[0m\u001b[0;34m)\u001b[0m\u001b[0;34m)\u001b[0m\u001b[0;34m)\u001b[0m\u001b[0;34m\u001b[0m\u001b[0;34m\u001b[0m\u001b[0m\n\u001b[0m\u001b[1;32m    138\u001b[0m     \u001b[0;32mfor\u001b[0m \u001b[0mi\u001b[0m\u001b[0;34m,\u001b[0m\u001b[0md\u001b[0m \u001b[0;32min\u001b[0m \u001b[0menumerate\u001b[0m\u001b[0;34m(\u001b[0m\u001b[0mjsons\u001b[0m\u001b[0;34m)\u001b[0m\u001b[0;34m:\u001b[0m \u001b[0mprint\u001b[0m\u001b[0;34m(\u001b[0m\u001b[0;34m\"%s's length is %d\"\u001b[0m \u001b[0;34m%\u001b[0m\u001b[0;34m(\u001b[0m\u001b[0mevents\u001b[0m\u001b[0;34m[\u001b[0m\u001b[0mi\u001b[0m\u001b[0;34m]\u001b[0m\u001b[0;34m,\u001b[0m \u001b[0mlen\u001b[0m\u001b[0;34m(\u001b[0m\u001b[0md\u001b[0m\u001b[0;34m)\u001b[0m\u001b[0;34m)\u001b[0m\u001b[0;34m)\u001b[0m\u001b[0;34m\u001b[0m\u001b[0;34m\u001b[0m\u001b[0m\n\u001b[1;32m    139\u001b[0m \u001b[0;34m\u001b[0m\u001b[0m\n",
      "\u001b[0;32m~/miniconda3/envs/rosetta/lib/python3.8/site-packages/glob2/impl.py\u001b[0m in \u001b[0;36mglob\u001b[0;34m(self, pathname, with_matches, include_hidden, recursive, norm_paths, case_sensitive, sep)\u001b[0m\n\u001b[1;32m     58\u001b[0m         \u001b[0ma\u001b[0m \u001b[0mdot\u001b[0m \u001b[0mare\u001b[0m \u001b[0malso\u001b[0m \u001b[0mreturned\u001b[0m\u001b[0;34m.\u001b[0m\u001b[0;34m\u001b[0m\u001b[0;34m\u001b[0m\u001b[0m\n\u001b[1;32m     59\u001b[0m         \"\"\"\n\u001b[0;32m---> 60\u001b[0;31m         return list(self.iglob(pathname, with_matches, include_hidden,\n\u001b[0m\u001b[1;32m     61\u001b[0m                                norm_paths, case_sensitive, sep))\n\u001b[1;32m     62\u001b[0m \u001b[0;34m\u001b[0m\u001b[0m\n",
      "\u001b[0;32m~/miniconda3/envs/rosetta/lib/python3.8/site-packages/glob2/impl.py\u001b[0m in \u001b[0;36m_iglob\u001b[0;34m(self, pathname, rootcall, include_hidden, norm_paths, case_sensitive, sep)\u001b[0m\n\u001b[1;32m    124\u001b[0m \u001b[0;34m\u001b[0m\u001b[0m\n\u001b[1;32m    125\u001b[0m         \u001b[0;31m# Resolve ``basename`` expr for every directory found\u001b[0m\u001b[0;34m\u001b[0m\u001b[0;34m\u001b[0m\u001b[0;34m\u001b[0m\u001b[0m\n\u001b[0;32m--> 126\u001b[0;31m         \u001b[0;32mfor\u001b[0m \u001b[0mdirname\u001b[0m\u001b[0;34m,\u001b[0m \u001b[0mdir_groups\u001b[0m \u001b[0;32min\u001b[0m \u001b[0mdirs\u001b[0m\u001b[0;34m:\u001b[0m\u001b[0;34m\u001b[0m\u001b[0;34m\u001b[0m\u001b[0m\n\u001b[0m\u001b[1;32m    127\u001b[0m             for name, groups in self.resolve_pattern(dirname, basename,\n\u001b[1;32m    128\u001b[0m                                                      \u001b[0;32mnot\u001b[0m \u001b[0mrootcall\u001b[0m\u001b[0;34m,\u001b[0m \u001b[0minclude_hidden\u001b[0m\u001b[0;34m,\u001b[0m\u001b[0;34m\u001b[0m\u001b[0;34m\u001b[0m\u001b[0m\n",
      "\u001b[0;32m~/miniconda3/envs/rosetta/lib/python3.8/site-packages/glob2/impl.py\u001b[0m in \u001b[0;36m_iglob\u001b[0;34m(self, pathname, rootcall, include_hidden, norm_paths, case_sensitive, sep)\u001b[0m\n\u001b[1;32m    124\u001b[0m \u001b[0;34m\u001b[0m\u001b[0m\n\u001b[1;32m    125\u001b[0m         \u001b[0;31m# Resolve ``basename`` expr for every directory found\u001b[0m\u001b[0;34m\u001b[0m\u001b[0;34m\u001b[0m\u001b[0;34m\u001b[0m\u001b[0m\n\u001b[0;32m--> 126\u001b[0;31m         \u001b[0;32mfor\u001b[0m \u001b[0mdirname\u001b[0m\u001b[0;34m,\u001b[0m \u001b[0mdir_groups\u001b[0m \u001b[0;32min\u001b[0m \u001b[0mdirs\u001b[0m\u001b[0;34m:\u001b[0m\u001b[0;34m\u001b[0m\u001b[0;34m\u001b[0m\u001b[0m\n\u001b[0m\u001b[1;32m    127\u001b[0m             for name, groups in self.resolve_pattern(dirname, basename,\n\u001b[1;32m    128\u001b[0m                                                      \u001b[0;32mnot\u001b[0m \u001b[0mrootcall\u001b[0m\u001b[0;34m,\u001b[0m \u001b[0minclude_hidden\u001b[0m\u001b[0;34m,\u001b[0m\u001b[0;34m\u001b[0m\u001b[0;34m\u001b[0m\u001b[0m\n",
      "\u001b[0;32m~/miniconda3/envs/rosetta/lib/python3.8/site-packages/glob2/impl.py\u001b[0m in \u001b[0;36m_iglob\u001b[0;34m(self, pathname, rootcall, include_hidden, norm_paths, case_sensitive, sep)\u001b[0m\n\u001b[1;32m    125\u001b[0m         \u001b[0;31m# Resolve ``basename`` expr for every directory found\u001b[0m\u001b[0;34m\u001b[0m\u001b[0;34m\u001b[0m\u001b[0;34m\u001b[0m\u001b[0m\n\u001b[1;32m    126\u001b[0m         \u001b[0;32mfor\u001b[0m \u001b[0mdirname\u001b[0m\u001b[0;34m,\u001b[0m \u001b[0mdir_groups\u001b[0m \u001b[0;32min\u001b[0m \u001b[0mdirs\u001b[0m\u001b[0;34m:\u001b[0m\u001b[0;34m\u001b[0m\u001b[0;34m\u001b[0m\u001b[0m\n\u001b[0;32m--> 127\u001b[0;31m             for name, groups in self.resolve_pattern(dirname, basename,\n\u001b[0m\u001b[1;32m    128\u001b[0m                                                      \u001b[0;32mnot\u001b[0m \u001b[0mrootcall\u001b[0m\u001b[0;34m,\u001b[0m \u001b[0minclude_hidden\u001b[0m\u001b[0;34m,\u001b[0m\u001b[0;34m\u001b[0m\u001b[0;34m\u001b[0m\u001b[0m\n\u001b[1;32m    129\u001b[0m                                                      norm_paths, case_sensitive, sep):\n",
      "\u001b[0;32m~/miniconda3/envs/rosetta/lib/python3.8/site-packages/glob2/impl.py\u001b[0m in \u001b[0;36mresolve_pattern\u001b[0;34m(self, dirname, pattern, globstar_with_root, include_hidden, norm_paths, case_sensitive, sep)\u001b[0m\n\u001b[1;32m    168\u001b[0m                 \u001b[0;31m# having to deal with os.path.normpath() later.\u001b[0m\u001b[0;34m\u001b[0m\u001b[0;34m\u001b[0m\u001b[0;34m\u001b[0m\u001b[0m\n\u001b[1;32m    169\u001b[0m                 \u001b[0mnames\u001b[0m \u001b[0;34m=\u001b[0m \u001b[0;34m[\u001b[0m\u001b[0;34m''\u001b[0m\u001b[0;34m]\u001b[0m \u001b[0;32mif\u001b[0m \u001b[0mglobstar_with_root\u001b[0m \u001b[0;32melse\u001b[0m \u001b[0;34m[\u001b[0m\u001b[0;34m]\u001b[0m\u001b[0;34m\u001b[0m\u001b[0;34m\u001b[0m\u001b[0m\n\u001b[0;32m--> 170\u001b[0;31m                 \u001b[0;32mfor\u001b[0m \u001b[0mtop\u001b[0m\u001b[0;34m,\u001b[0m \u001b[0mentries\u001b[0m \u001b[0;32min\u001b[0m \u001b[0mself\u001b[0m\u001b[0;34m.\u001b[0m\u001b[0mwalk\u001b[0m\u001b[0;34m(\u001b[0m\u001b[0mdirname\u001b[0m\u001b[0;34m,\u001b[0m \u001b[0msep\u001b[0m\u001b[0;34m=\u001b[0m\u001b[0msep\u001b[0m\u001b[0;34m)\u001b[0m\u001b[0;34m:\u001b[0m\u001b[0;34m\u001b[0m\u001b[0;34m\u001b[0m\u001b[0m\n\u001b[0m\u001b[1;32m    171\u001b[0m                     \u001b[0m_mkabs\u001b[0m \u001b[0;34m=\u001b[0m \u001b[0;32mlambda\u001b[0m \u001b[0ms\u001b[0m\u001b[0;34m:\u001b[0m \u001b[0m_join_paths\u001b[0m\u001b[0;34m(\u001b[0m\u001b[0;34m[\u001b[0m\u001b[0mtop\u001b[0m\u001b[0;34m[\u001b[0m\u001b[0mlen\u001b[0m\u001b[0;34m(\u001b[0m\u001b[0mdirname\u001b[0m\u001b[0;34m)\u001b[0m \u001b[0;34m+\u001b[0m \u001b[0;36m1\u001b[0m\u001b[0;34m:\u001b[0m\u001b[0;34m]\u001b[0m\u001b[0;34m,\u001b[0m \u001b[0ms\u001b[0m\u001b[0;34m]\u001b[0m\u001b[0;34m,\u001b[0m \u001b[0msep\u001b[0m\u001b[0;34m=\u001b[0m\u001b[0msep\u001b[0m\u001b[0;34m)\u001b[0m\u001b[0;34m\u001b[0m\u001b[0;34m\u001b[0m\u001b[0m\n\u001b[1;32m    172\u001b[0m                     \u001b[0mnames\u001b[0m\u001b[0;34m.\u001b[0m\u001b[0mextend\u001b[0m\u001b[0;34m(\u001b[0m\u001b[0mmap\u001b[0m\u001b[0;34m(\u001b[0m\u001b[0m_mkabs\u001b[0m\u001b[0;34m,\u001b[0m \u001b[0mentries\u001b[0m\u001b[0;34m)\u001b[0m\u001b[0;34m)\u001b[0m\u001b[0;34m\u001b[0m\u001b[0;34m\u001b[0m\u001b[0m\n",
      "\u001b[0;32m~/miniconda3/envs/rosetta/lib/python3.8/site-packages/glob2/impl.py\u001b[0m in \u001b[0;36mwalk\u001b[0;34m(self, top, followlinks, sep)\u001b[0m\n\u001b[1;32m     43\u001b[0m             \u001b[0mnew_path\u001b[0m \u001b[0;34m=\u001b[0m \u001b[0m_join_paths\u001b[0m\u001b[0;34m(\u001b[0m\u001b[0;34m[\u001b[0m\u001b[0mtop\u001b[0m\u001b[0;34m,\u001b[0m \u001b[0mname\u001b[0m\u001b[0;34m]\u001b[0m\u001b[0;34m,\u001b[0m \u001b[0msep\u001b[0m\u001b[0;34m=\u001b[0m\u001b[0msep\u001b[0m\u001b[0;34m)\u001b[0m\u001b[0;34m\u001b[0m\u001b[0;34m\u001b[0m\u001b[0m\n\u001b[1;32m     44\u001b[0m             \u001b[0;32mif\u001b[0m \u001b[0mfollowlinks\u001b[0m \u001b[0;32mor\u001b[0m \u001b[0;32mnot\u001b[0m \u001b[0mself\u001b[0m\u001b[0;34m.\u001b[0m\u001b[0mislink\u001b[0m\u001b[0;34m(\u001b[0m\u001b[0mnew_path\u001b[0m\u001b[0;34m)\u001b[0m\u001b[0;34m:\u001b[0m\u001b[0;34m\u001b[0m\u001b[0;34m\u001b[0m\u001b[0m\n\u001b[0;32m---> 45\u001b[0;31m                 \u001b[0;32mfor\u001b[0m \u001b[0mx\u001b[0m \u001b[0;32min\u001b[0m \u001b[0mself\u001b[0m\u001b[0;34m.\u001b[0m\u001b[0mwalk\u001b[0m\u001b[0;34m(\u001b[0m\u001b[0mnew_path\u001b[0m\u001b[0;34m,\u001b[0m \u001b[0mfollowlinks\u001b[0m\u001b[0;34m)\u001b[0m\u001b[0;34m:\u001b[0m\u001b[0;34m\u001b[0m\u001b[0;34m\u001b[0m\u001b[0m\n\u001b[0m\u001b[1;32m     46\u001b[0m                     \u001b[0;32myield\u001b[0m \u001b[0mx\u001b[0m\u001b[0;34m\u001b[0m\u001b[0;34m\u001b[0m\u001b[0m\n\u001b[1;32m     47\u001b[0m \u001b[0;34m\u001b[0m\u001b[0m\n",
      "\u001b[0;32m~/miniconda3/envs/rosetta/lib/python3.8/site-packages/glob2/impl.py\u001b[0m in \u001b[0;36mwalk\u001b[0;34m(self, top, followlinks, sep)\u001b[0m\n\u001b[1;32m     43\u001b[0m             \u001b[0mnew_path\u001b[0m \u001b[0;34m=\u001b[0m \u001b[0m_join_paths\u001b[0m\u001b[0;34m(\u001b[0m\u001b[0;34m[\u001b[0m\u001b[0mtop\u001b[0m\u001b[0;34m,\u001b[0m \u001b[0mname\u001b[0m\u001b[0;34m]\u001b[0m\u001b[0;34m,\u001b[0m \u001b[0msep\u001b[0m\u001b[0;34m=\u001b[0m\u001b[0msep\u001b[0m\u001b[0;34m)\u001b[0m\u001b[0;34m\u001b[0m\u001b[0;34m\u001b[0m\u001b[0m\n\u001b[1;32m     44\u001b[0m             \u001b[0;32mif\u001b[0m \u001b[0mfollowlinks\u001b[0m \u001b[0;32mor\u001b[0m \u001b[0;32mnot\u001b[0m \u001b[0mself\u001b[0m\u001b[0;34m.\u001b[0m\u001b[0mislink\u001b[0m\u001b[0;34m(\u001b[0m\u001b[0mnew_path\u001b[0m\u001b[0;34m)\u001b[0m\u001b[0;34m:\u001b[0m\u001b[0;34m\u001b[0m\u001b[0;34m\u001b[0m\u001b[0m\n\u001b[0;32m---> 45\u001b[0;31m                 \u001b[0;32mfor\u001b[0m \u001b[0mx\u001b[0m \u001b[0;32min\u001b[0m \u001b[0mself\u001b[0m\u001b[0;34m.\u001b[0m\u001b[0mwalk\u001b[0m\u001b[0;34m(\u001b[0m\u001b[0mnew_path\u001b[0m\u001b[0;34m,\u001b[0m \u001b[0mfollowlinks\u001b[0m\u001b[0;34m)\u001b[0m\u001b[0;34m:\u001b[0m\u001b[0;34m\u001b[0m\u001b[0;34m\u001b[0m\u001b[0m\n\u001b[0m\u001b[1;32m     46\u001b[0m                     \u001b[0;32myield\u001b[0m \u001b[0mx\u001b[0m\u001b[0;34m\u001b[0m\u001b[0;34m\u001b[0m\u001b[0m\n\u001b[1;32m     47\u001b[0m \u001b[0;34m\u001b[0m\u001b[0m\n",
      "\u001b[0;32m~/miniconda3/envs/rosetta/lib/python3.8/site-packages/glob2/impl.py\u001b[0m in \u001b[0;36mwalk\u001b[0;34m(self, top, followlinks, sep)\u001b[0m\n\u001b[1;32m     43\u001b[0m             \u001b[0mnew_path\u001b[0m \u001b[0;34m=\u001b[0m \u001b[0m_join_paths\u001b[0m\u001b[0;34m(\u001b[0m\u001b[0;34m[\u001b[0m\u001b[0mtop\u001b[0m\u001b[0;34m,\u001b[0m \u001b[0mname\u001b[0m\u001b[0;34m]\u001b[0m\u001b[0;34m,\u001b[0m \u001b[0msep\u001b[0m\u001b[0;34m=\u001b[0m\u001b[0msep\u001b[0m\u001b[0;34m)\u001b[0m\u001b[0;34m\u001b[0m\u001b[0;34m\u001b[0m\u001b[0m\n\u001b[1;32m     44\u001b[0m             \u001b[0;32mif\u001b[0m \u001b[0mfollowlinks\u001b[0m \u001b[0;32mor\u001b[0m \u001b[0;32mnot\u001b[0m \u001b[0mself\u001b[0m\u001b[0;34m.\u001b[0m\u001b[0mislink\u001b[0m\u001b[0;34m(\u001b[0m\u001b[0mnew_path\u001b[0m\u001b[0;34m)\u001b[0m\u001b[0;34m:\u001b[0m\u001b[0;34m\u001b[0m\u001b[0;34m\u001b[0m\u001b[0m\n\u001b[0;32m---> 45\u001b[0;31m                 \u001b[0;32mfor\u001b[0m \u001b[0mx\u001b[0m \u001b[0;32min\u001b[0m \u001b[0mself\u001b[0m\u001b[0;34m.\u001b[0m\u001b[0mwalk\u001b[0m\u001b[0;34m(\u001b[0m\u001b[0mnew_path\u001b[0m\u001b[0;34m,\u001b[0m \u001b[0mfollowlinks\u001b[0m\u001b[0;34m)\u001b[0m\u001b[0;34m:\u001b[0m\u001b[0;34m\u001b[0m\u001b[0;34m\u001b[0m\u001b[0m\n\u001b[0m\u001b[1;32m     46\u001b[0m                     \u001b[0;32myield\u001b[0m \u001b[0mx\u001b[0m\u001b[0;34m\u001b[0m\u001b[0;34m\u001b[0m\u001b[0m\n\u001b[1;32m     47\u001b[0m \u001b[0;34m\u001b[0m\u001b[0m\n",
      "\u001b[0;32m~/miniconda3/envs/rosetta/lib/python3.8/site-packages/glob2/impl.py\u001b[0m in \u001b[0;36mwalk\u001b[0;34m(self, top, followlinks, sep)\u001b[0m\n\u001b[1;32m     42\u001b[0m         \u001b[0;32mfor\u001b[0m \u001b[0mname\u001b[0m \u001b[0;32min\u001b[0m \u001b[0mitems\u001b[0m\u001b[0;34m:\u001b[0m\u001b[0;34m\u001b[0m\u001b[0;34m\u001b[0m\u001b[0m\n\u001b[1;32m     43\u001b[0m             \u001b[0mnew_path\u001b[0m \u001b[0;34m=\u001b[0m \u001b[0m_join_paths\u001b[0m\u001b[0;34m(\u001b[0m\u001b[0;34m[\u001b[0m\u001b[0mtop\u001b[0m\u001b[0;34m,\u001b[0m \u001b[0mname\u001b[0m\u001b[0;34m]\u001b[0m\u001b[0;34m,\u001b[0m \u001b[0msep\u001b[0m\u001b[0;34m=\u001b[0m\u001b[0msep\u001b[0m\u001b[0;34m)\u001b[0m\u001b[0;34m\u001b[0m\u001b[0;34m\u001b[0m\u001b[0m\n\u001b[0;32m---> 44\u001b[0;31m             \u001b[0;32mif\u001b[0m \u001b[0mfollowlinks\u001b[0m \u001b[0;32mor\u001b[0m \u001b[0;32mnot\u001b[0m \u001b[0mself\u001b[0m\u001b[0;34m.\u001b[0m\u001b[0mislink\u001b[0m\u001b[0;34m(\u001b[0m\u001b[0mnew_path\u001b[0m\u001b[0;34m)\u001b[0m\u001b[0;34m:\u001b[0m\u001b[0;34m\u001b[0m\u001b[0;34m\u001b[0m\u001b[0m\n\u001b[0m\u001b[1;32m     45\u001b[0m                 \u001b[0;32mfor\u001b[0m \u001b[0mx\u001b[0m \u001b[0;32min\u001b[0m \u001b[0mself\u001b[0m\u001b[0;34m.\u001b[0m\u001b[0mwalk\u001b[0m\u001b[0;34m(\u001b[0m\u001b[0mnew_path\u001b[0m\u001b[0;34m,\u001b[0m \u001b[0mfollowlinks\u001b[0m\u001b[0;34m)\u001b[0m\u001b[0;34m:\u001b[0m\u001b[0;34m\u001b[0m\u001b[0;34m\u001b[0m\u001b[0m\n\u001b[1;32m     46\u001b[0m                     \u001b[0;32myield\u001b[0m \u001b[0mx\u001b[0m\u001b[0;34m\u001b[0m\u001b[0;34m\u001b[0m\u001b[0m\n",
      "\u001b[0;32m~/miniconda3/envs/rosetta/lib/python3.8/posixpath.py\u001b[0m in \u001b[0;36mislink\u001b[0;34m(path)\u001b[0m\n\u001b[1;32m    165\u001b[0m     \u001b[0;34m\"\"\"Test whether a path is a symbolic link\"\"\"\u001b[0m\u001b[0;34m\u001b[0m\u001b[0;34m\u001b[0m\u001b[0m\n\u001b[1;32m    166\u001b[0m     \u001b[0;32mtry\u001b[0m\u001b[0;34m:\u001b[0m\u001b[0;34m\u001b[0m\u001b[0;34m\u001b[0m\u001b[0m\n\u001b[0;32m--> 167\u001b[0;31m         \u001b[0mst\u001b[0m \u001b[0;34m=\u001b[0m \u001b[0mos\u001b[0m\u001b[0;34m.\u001b[0m\u001b[0mlstat\u001b[0m\u001b[0;34m(\u001b[0m\u001b[0mpath\u001b[0m\u001b[0;34m)\u001b[0m\u001b[0;34m\u001b[0m\u001b[0;34m\u001b[0m\u001b[0m\n\u001b[0m\u001b[1;32m    168\u001b[0m     \u001b[0;32mexcept\u001b[0m \u001b[0;34m(\u001b[0m\u001b[0mOSError\u001b[0m\u001b[0;34m,\u001b[0m \u001b[0mValueError\u001b[0m\u001b[0;34m,\u001b[0m \u001b[0mAttributeError\u001b[0m\u001b[0;34m)\u001b[0m\u001b[0;34m:\u001b[0m\u001b[0;34m\u001b[0m\u001b[0;34m\u001b[0m\u001b[0m\n\u001b[1;32m    169\u001b[0m         \u001b[0;32mreturn\u001b[0m \u001b[0;32mFalse\u001b[0m\u001b[0;34m\u001b[0m\u001b[0;34m\u001b[0m\u001b[0m\n",
      "\u001b[0;31mKeyboardInterrupt\u001b[0m: "
     ]
    }
   ],
   "source": [
    "path = \"../pheme-rnr-dataset\"\n",
    "events = ['charliehebdo', 'ferguson',\n",
    "          'germanwings-crash', 'ottawashooting', 'sydneysiege']\n",
    "tweetType = 'source-tweet'\n",
    "jsons = []\n",
    "final = fetchRawText(path, events, tweetType)\n",
    "target = final.target\n",
    "final.verified = final.verified.replace({True: 1, False: 0}) \n",
    "final.has_question = final.has_question.replace({True: 1, False: 0}) \n",
    "final.has_exclaim = final.has_exclaim.replace({True: 1, False: 0}) \n",
    "final.has_period = final.has_period.replace({True: 1, False: 0}) \n",
    "final = final.replace(-np.inf, 0)\n"
   ]
  },
  {
   "cell_type": "code",
   "execution_count": 29,
   "metadata": {},
   "outputs": [
    {
     "data": {
      "text/html": "<div>\n<style scoped>\n    .dataframe tbody tr th:only-of-type {\n        vertical-align: middle;\n    }\n\n    .dataframe tbody tr th {\n        vertical-align: top;\n    }\n\n    .dataframe thead th {\n        text-align: right;\n    }\n</style>\n<table border=\"1\" class=\"dataframe\">\n  <thead>\n    <tr style=\"text-align: right;\">\n      <th></th>\n      <th>URLcount</th>\n      <th>Noun</th>\n      <th>Verb</th>\n      <th>Adjective</th>\n      <th>Pronoun</th>\n      <th>FirstPersonPronoun</th>\n      <th>SecondPersonPronoun</th>\n      <th>ThirdPersonPronoun</th>\n      <th>Adverb</th>\n      <th>Numeral</th>\n      <th>Conjunction_inj</th>\n      <th>Particle</th>\n      <th>Determiner</th>\n      <th>Modal</th>\n      <th>Whs</th>\n      <th>emoji_count</th>\n      <th>char_count</th>\n      <th>word_count</th>\n      <th>has_question</th>\n      <th>has_exclaim</th>\n      <th>has_period</th>\n      <th>capital_ratio</th>\n      <th>retweet_count</th>\n      <th>tweet_count</th>\n      <th>listed_count</th>\n      <th>friends_count</th>\n      <th>follow_ratio</th>\n      <th>account_age_days</th>\n      <th>verified</th>\n    </tr>\n  </thead>\n  <tbody>\n    <tr>\n      <th>0</th>\n      <td>1</td>\n      <td>7</td>\n      <td>2</td>\n      <td>0</td>\n      <td>0</td>\n      <td>0</td>\n      <td>0</td>\n      <td>0</td>\n      <td>0</td>\n      <td>0</td>\n      <td>2</td>\n      <td>0</td>\n      <td>0</td>\n      <td>0</td>\n      <td>0</td>\n      <td>0</td>\n      <td>88</td>\n      <td>12</td>\n      <td>0</td>\n      <td>0</td>\n      <td>1</td>\n      <td>0.159091</td>\n      <td>177</td>\n      <td>4.803286</td>\n      <td>3.855943</td>\n      <td>2.788168</td>\n      <td>5.287349</td>\n      <td>2126</td>\n      <td>1</td>\n    </tr>\n    <tr>\n      <th>1</th>\n      <td>0</td>\n      <td>3</td>\n      <td>2</td>\n      <td>0</td>\n      <td>0</td>\n      <td>0</td>\n      <td>0</td>\n      <td>0</td>\n      <td>0</td>\n      <td>0</td>\n      <td>1</td>\n      <td>0</td>\n      <td>0</td>\n      <td>0</td>\n      <td>0</td>\n      <td>0</td>\n      <td>53</td>\n      <td>6</td>\n      <td>0</td>\n      <td>0</td>\n      <td>1</td>\n      <td>0.037736</td>\n      <td>134</td>\n      <td>3.031812</td>\n      <td>2.146128</td>\n      <td>2.574031</td>\n      <td>3.672929</td>\n      <td>1050</td>\n      <td>0</td>\n    </tr>\n    <tr>\n      <th>2</th>\n      <td>0</td>\n      <td>4</td>\n      <td>4</td>\n      <td>7</td>\n      <td>0</td>\n      <td>0</td>\n      <td>0</td>\n      <td>0</td>\n      <td>1</td>\n      <td>0</td>\n      <td>2</td>\n      <td>0</td>\n      <td>0</td>\n      <td>0</td>\n      <td>0</td>\n      <td>0</td>\n      <td>136</td>\n      <td>18</td>\n      <td>0</td>\n      <td>0</td>\n      <td>1</td>\n      <td>0.073529</td>\n      <td>148</td>\n      <td>3.856245</td>\n      <td>2.879669</td>\n      <td>2.772322</td>\n      <td>4.309651</td>\n      <td>2030</td>\n      <td>0</td>\n    </tr>\n    <tr>\n      <th>3</th>\n      <td>2</td>\n      <td>4</td>\n      <td>5</td>\n      <td>1</td>\n      <td>0</td>\n      <td>0</td>\n      <td>0</td>\n      <td>0</td>\n      <td>0</td>\n      <td>0</td>\n      <td>0</td>\n      <td>0</td>\n      <td>2</td>\n      <td>0</td>\n      <td>1</td>\n      <td>0</td>\n      <td>138</td>\n      <td>16</td>\n      <td>0</td>\n      <td>0</td>\n      <td>1</td>\n      <td>0.101449</td>\n      <td>684</td>\n      <td>4.735814</td>\n      <td>5.009820</td>\n      <td>3.016197</td>\n      <td>7.187664</td>\n      <td>2891</td>\n      <td>1</td>\n    </tr>\n    <tr>\n      <th>4</th>\n      <td>2</td>\n      <td>7</td>\n      <td>2</td>\n      <td>0</td>\n      <td>0</td>\n      <td>0</td>\n      <td>0</td>\n      <td>0</td>\n      <td>0</td>\n      <td>0</td>\n      <td>2</td>\n      <td>0</td>\n      <td>0</td>\n      <td>0</td>\n      <td>0</td>\n      <td>0</td>\n      <td>117</td>\n      <td>13</td>\n      <td>0</td>\n      <td>0</td>\n      <td>1</td>\n      <td>0.145299</td>\n      <td>113</td>\n      <td>5.021181</td>\n      <td>4.132996</td>\n      <td>2.662758</td>\n      <td>5.925434</td>\n      <td>1975</td>\n      <td>1</td>\n    </tr>\n  </tbody>\n</table>\n</div>",
      "text/plain": "   URLcount  Noun  Verb  Adjective  Pronoun  FirstPersonPronoun  \\\n0         1     7     2          0        0                   0   \n1         0     3     2          0        0                   0   \n2         0     4     4          7        0                   0   \n3         2     4     5          1        0                   0   \n4         2     7     2          0        0                   0   \n\n   SecondPersonPronoun  ThirdPersonPronoun  Adverb  Numeral  Conjunction_inj  \\\n0                    0                   0       0        0                2   \n1                    0                   0       0        0                1   \n2                    0                   0       1        0                2   \n3                    0                   0       0        0                0   \n4                    0                   0       0        0                2   \n\n   Particle  Determiner  Modal  Whs  emoji_count  char_count  word_count  \\\n0         0           0      0    0            0          88          12   \n1         0           0      0    0            0          53           6   \n2         0           0      0    0            0         136          18   \n3         0           2      0    1            0         138          16   \n4         0           0      0    0            0         117          13   \n\n   has_question  has_exclaim  has_period  capital_ratio  retweet_count  \\\n0             0            0           1       0.159091            177   \n1             0            0           1       0.037736            134   \n2             0            0           1       0.073529            148   \n3             0            0           1       0.101449            684   \n4             0            0           1       0.145299            113   \n\n   tweet_count  listed_count  friends_count  follow_ratio  account_age_days  \\\n0     4.803286      3.855943       2.788168      5.287349              2126   \n1     3.031812      2.146128       2.574031      3.672929              1050   \n2     3.856245      2.879669       2.772322      4.309651              2030   \n3     4.735814      5.009820       3.016197      7.187664              2891   \n4     5.021181      4.132996       2.662758      5.925434              1975   \n\n   verified  \n0         1  \n1         0  \n2         0  \n3         1  \n4         1  "
     },
     "execution_count": 29,
     "metadata": {},
     "output_type": "execute_result"
    }
   ],
   "source": [
    "final.drop(['text_token','text','Event','target'], axis=1, inplace=True)\n",
    "final.head()"
   ]
  },
  {
   "cell_type": "code",
   "execution_count": 30,
   "metadata": {},
   "outputs": [],
   "source": [
    "final.to_csv('./data/_PHEME_sparse.csv', index = False)"
   ]
  },
  {
   "cell_type": "markdown",
   "metadata": {},
   "source": [
    "# PHEME (Extension)"
   ]
  },
  {
   "cell_type": "code",
   "execution_count": 25,
   "metadata": {},
   "outputs": [
    {
     "name": "stdout",
     "output_type": "stream",
     "text": [
      "ebola-essien's length is 14\n",
      "prince-toronto's length is 233\n",
      "putinmissing's length is 238\n",
      "0 ebola-essien 14 14\n",
      "1 prince-toronto 233 233\n",
      "2 putinmissing 238 238\n"
     ]
    },
    {
     "name": "stderr",
     "output_type": "stream",
     "text": [
      "<ipython-input-24-d22b68828612>:227: RuntimeWarning: divide by zero encountered in log10\n",
      "  output_f['listed_count'] = np.log10(obj['user']['listed_count'])\n",
      "<ipython-input-24-d22b68828612>:228: RuntimeWarning: divide by zero encountered in log10\n",
      "  output_f['friends_count'] = np.log10(obj['user']['friends_count'])\n"
     ]
    }
   ],
   "source": [
    "path = \"../PHEME/all-rnr-annotated-threads\"\n",
    "events = ['ebola-essien', 'prince-toronto', 'putinmissing']\n",
    "tweetType = 'source-tweets'\n",
    "jsons = []\n",
    "final_ext = fetchRawText(path,events,tweetType)\n",
    "ext_target = final_ext.target\n",
    "final_ext.verified = final_ext.verified.replace({True: 1, False: 0}) \n",
    "final_ext.has_question = final_ext.has_question.replace({True: 1, False: 0}) \n",
    "final_ext.has_exclaim = final_ext.has_exclaim.replace({True: 1, False: 0}) \n",
    "final_ext.has_period = final_ext.has_period.replace({True: 1, False: 0}) \n",
    "final_ext = final_ext.replace(-np.inf, 0)"
   ]
  },
  {
   "cell_type": "code",
   "execution_count": 26,
   "metadata": {},
   "outputs": [
    {
     "data": {
      "text/html": "<div>\n<style scoped>\n    .dataframe tbody tr th:only-of-type {\n        vertical-align: middle;\n    }\n\n    .dataframe tbody tr th {\n        vertical-align: top;\n    }\n\n    .dataframe thead th {\n        text-align: right;\n    }\n</style>\n<table border=\"1\" class=\"dataframe\">\n  <thead>\n    <tr style=\"text-align: right;\">\n      <th></th>\n      <th>URLcount</th>\n      <th>Noun</th>\n      <th>Verb</th>\n      <th>Adjective</th>\n      <th>Pronoun</th>\n      <th>FirstPersonPronoun</th>\n      <th>SecondPersonPronoun</th>\n      <th>ThirdPersonPronoun</th>\n      <th>Adverb</th>\n      <th>Numeral</th>\n      <th>Conjunction_inj</th>\n      <th>Particle</th>\n      <th>Determiner</th>\n      <th>Modal</th>\n      <th>Whs</th>\n      <th>emoji_count</th>\n      <th>char_count</th>\n      <th>word_count</th>\n      <th>has_question</th>\n      <th>has_exclaim</th>\n      <th>has_period</th>\n      <th>capital_ratio</th>\n      <th>retweet_count</th>\n      <th>tweet_count</th>\n      <th>listed_count</th>\n      <th>friends_count</th>\n      <th>follow_ratio</th>\n      <th>account_age_days</th>\n      <th>verified</th>\n    </tr>\n  </thead>\n  <tbody>\n    <tr>\n      <th>0</th>\n      <td>1</td>\n      <td>2</td>\n      <td>2</td>\n      <td>1</td>\n      <td>0</td>\n      <td>0</td>\n      <td>0</td>\n      <td>0</td>\n      <td>0</td>\n      <td>0</td>\n      <td>1</td>\n      <td>0</td>\n      <td>1</td>\n      <td>0</td>\n      <td>0</td>\n      <td>0</td>\n      <td>69</td>\n      <td>8</td>\n      <td>0</td>\n      <td>0</td>\n      <td>1</td>\n      <td>0.101449</td>\n      <td>117</td>\n      <td>4.609338</td>\n      <td>2.170262</td>\n      <td>2.814248</td>\n      <td>4.339113</td>\n      <td>1570</td>\n      <td>0</td>\n    </tr>\n    <tr>\n      <th>1</th>\n      <td>0</td>\n      <td>9</td>\n      <td>6</td>\n      <td>3</td>\n      <td>0</td>\n      <td>2</td>\n      <td>0</td>\n      <td>0</td>\n      <td>3</td>\n      <td>0</td>\n      <td>4</td>\n      <td>0</td>\n      <td>1</td>\n      <td>1</td>\n      <td>0</td>\n      <td>0</td>\n      <td>148</td>\n      <td>25</td>\n      <td>0</td>\n      <td>0</td>\n      <td>1</td>\n      <td>0.027027</td>\n      <td>10402</td>\n      <td>2.706718</td>\n      <td>3.210319</td>\n      <td>2.245513</td>\n      <td>5.688861</td>\n      <td>579</td>\n      <td>1</td>\n    </tr>\n    <tr>\n      <th>2</th>\n      <td>0</td>\n      <td>7</td>\n      <td>4</td>\n      <td>1</td>\n      <td>1</td>\n      <td>0</td>\n      <td>0</td>\n      <td>1</td>\n      <td>0</td>\n      <td>0</td>\n      <td>2</td>\n      <td>0</td>\n      <td>3</td>\n      <td>0</td>\n      <td>1</td>\n      <td>0</td>\n      <td>119</td>\n      <td>20</td>\n      <td>0</td>\n      <td>0</td>\n      <td>1</td>\n      <td>0.025210</td>\n      <td>126</td>\n      <td>4.920290</td>\n      <td>3.335458</td>\n      <td>2.158362</td>\n      <td>5.366137</td>\n      <td>2042</td>\n      <td>0</td>\n    </tr>\n    <tr>\n      <th>3</th>\n      <td>2</td>\n      <td>5</td>\n      <td>3</td>\n      <td>2</td>\n      <td>0</td>\n      <td>0</td>\n      <td>0</td>\n      <td>0</td>\n      <td>0</td>\n      <td>0</td>\n      <td>1</td>\n      <td>0</td>\n      <td>2</td>\n      <td>0</td>\n      <td>0</td>\n      <td>0</td>\n      <td>130</td>\n      <td>16</td>\n      <td>0</td>\n      <td>0</td>\n      <td>1</td>\n      <td>0.107692</td>\n      <td>192</td>\n      <td>4.188872</td>\n      <td>2.783904</td>\n      <td>2.854913</td>\n      <td>4.866571</td>\n      <td>468</td>\n      <td>1</td>\n    </tr>\n    <tr>\n      <th>4</th>\n      <td>1</td>\n      <td>4</td>\n      <td>4</td>\n      <td>2</td>\n      <td>0</td>\n      <td>0</td>\n      <td>0</td>\n      <td>0</td>\n      <td>1</td>\n      <td>0</td>\n      <td>2</td>\n      <td>0</td>\n      <td>1</td>\n      <td>0</td>\n      <td>0</td>\n      <td>0</td>\n      <td>120</td>\n      <td>15</td>\n      <td>0</td>\n      <td>0</td>\n      <td>1</td>\n      <td>0.066667</td>\n      <td>196</td>\n      <td>4.920290</td>\n      <td>3.335458</td>\n      <td>2.158362</td>\n      <td>5.366137</td>\n      <td>2039</td>\n      <td>0</td>\n    </tr>\n  </tbody>\n</table>\n</div>",
      "text/plain": "   URLcount  Noun  Verb  Adjective  Pronoun  FirstPersonPronoun  \\\n0         1     2     2          1        0                   0   \n1         0     9     6          3        0                   2   \n2         0     7     4          1        1                   0   \n3         2     5     3          2        0                   0   \n4         1     4     4          2        0                   0   \n\n   SecondPersonPronoun  ThirdPersonPronoun  Adverb  Numeral  Conjunction_inj  \\\n0                    0                   0       0        0                1   \n1                    0                   0       3        0                4   \n2                    0                   1       0        0                2   \n3                    0                   0       0        0                1   \n4                    0                   0       1        0                2   \n\n   Particle  Determiner  Modal  Whs  emoji_count  char_count  word_count  \\\n0         0           1      0    0            0          69           8   \n1         0           1      1    0            0         148          25   \n2         0           3      0    1            0         119          20   \n3         0           2      0    0            0         130          16   \n4         0           1      0    0            0         120          15   \n\n   has_question  has_exclaim  has_period  capital_ratio  retweet_count  \\\n0             0            0           1       0.101449            117   \n1             0            0           1       0.027027          10402   \n2             0            0           1       0.025210            126   \n3             0            0           1       0.107692            192   \n4             0            0           1       0.066667            196   \n\n   tweet_count  listed_count  friends_count  follow_ratio  account_age_days  \\\n0     4.609338      2.170262       2.814248      4.339113              1570   \n1     2.706718      3.210319       2.245513      5.688861               579   \n2     4.920290      3.335458       2.158362      5.366137              2042   \n3     4.188872      2.783904       2.854913      4.866571               468   \n4     4.920290      3.335458       2.158362      5.366137              2039   \n\n   verified  \n0         0  \n1         1  \n2         0  \n3         1  \n4         0  "
     },
     "execution_count": 26,
     "metadata": {},
     "output_type": "execute_result"
    }
   ],
   "source": [
    "final_ext.drop(['text_token','text','Event','target'], axis=1, inplace=True)\n",
    "final_ext.head()"
   ]
  },
  {
   "cell_type": "code",
   "execution_count": 27,
   "metadata": {},
   "outputs": [],
   "source": [
    "final_ext.to_csv('./data/_PHEMEext_sparse.csv', index = False)"
   ]
  },
  {
   "cell_type": "markdown",
   "metadata": {},
   "source": [
    "# PHEME ALL (Reactions)"
   ]
  },
  {
   "cell_type": "markdown",
   "metadata": {},
   "source": [
    "## Functions"
   ]
  },
  {
   "cell_type": "code",
   "execution_count": 20,
   "metadata": {},
   "outputs": [],
   "source": [
    "import pandas as pd\n",
    "import numpy as np\n",
    "\n",
    "from glob2 import glob\n",
    "import json\n",
    "\n",
    "pd.options.display.float_format = '{:.5f}'.format\n",
    "\n",
    "def fetchRawText_all(path, events, tweetType):\n",
    "    jsons = []\n",
    "    for i, event in enumerate(events):\n",
    "        jsons.append(glob('%s/%s/**/%s/[0-9]*.json' % (path, event, tweetType)))\n",
    "    for i,d in enumerate(jsons): print(\"%s's length is %d\" %(events[i], len(d)))\n",
    "\n",
    "    targets = []\n",
    "    features = []\n",
    "    isSrcTweet = []\n",
    "    for index, dataset in enumerate(jsons):\n",
    "        targetEvent = []\n",
    "        dataEvent = []\n",
    "        count = 0  # help var\n",
    "        for jsonFile in dataset:\n",
    "            count += 1\n",
    "            if jsonFile.find(\"non-rumours\") == -1:\n",
    "                targetEvent.append(1)\n",
    "            else:\n",
    "                targetEvent.append(0)\n",
    "            if jsonFile.find(\"source-tweet\") == -1:\n",
    "                isSrcTweet.append(0)\n",
    "            else: #if jsonFile.find(\"reactions\") == 1:\n",
    "                isSrcTweet.append(1)\n",
    "                \n",
    "\n",
    "            with open(jsonFile, 'r') as f:\n",
    "                for l in f.readlines():\n",
    "                    if not l.strip():  # skip empty lines\n",
    "                        continue\n",
    "                    json_data = json.loads(l)\n",
    "                    dataEvent.append(json_data)\n",
    "        targets.append(targetEvent)\n",
    "        features.append(dataEvent)\n",
    "        # isSrcTweet.append(isSrcTweet)\n",
    "\n",
    "    # print(\"\\nNumber of Events:\", len(targets))\n",
    "    # print(\"Number of tweets in the first event:\", len(targets[0]))\n",
    "\n",
    "    # targets은 targetEvent들을 리스트에 담은 것\n",
    "    target_list = []\n",
    "    for event in targets:\n",
    "        for elem in event:\n",
    "            target_list.append(elem)\n",
    "    target = pd.DataFrame(target_list, columns=[\"target\"])\n",
    "    isSrcTweet = pd.DataFrame(isSrcTweet, columns=[\"isSrcTweet\"])\n",
    "\n",
    "    extracted_features = []\n",
    "\n",
    "    extracted = []\n",
    "\n",
    "    NoneList = []\n",
    "\n",
    "    for obj_list in features:\n",
    "        extracted_event = []\n",
    "        for obj in obj_list:\n",
    "            output_f = dict()\n",
    "\n",
    "            if (('id' not in obj)):\n",
    "                print('sth happend')\n",
    "                return obj\n",
    "\n",
    "            if ('text' in obj):\n",
    "                output_f['text'] = obj['text']\n",
    "            else:\n",
    "                output_f['text'] = None\n",
    "            if ('id' in obj):\n",
    "                output_f['id'] = obj['id']\n",
    "            else:\n",
    "                output_f['id'] = None\n",
    "            if ('in_reply_to_status_id' in obj):\n",
    "                output_f['pid'] = obj['in_reply_to_status_id']\n",
    "            else:\n",
    "                output_f['pid'] = None\n",
    "            output_f['emoji_count'] = emoji.emoji_count(obj['text'])\n",
    "            urls_dicts = obj['entities']['urls']\n",
    "            if \"media\" in obj['entities']:\n",
    "                output_f['has_media'] = len(obj['entities']['media'])\n",
    "                # output_f['media_type'] = obj['entities']['media'][0]['type']\n",
    "            else:\n",
    "                output_f['has_media'] = 0\n",
    "                # output_f['media_type'] = 0\n",
    "            output_f['URLcount'] = len(urls_dicts)\n",
    "            # output_f['URLcount'] = extract_urls(urls_dicts)\n",
    "            # temp = obj['text'].lower()\n",
    "            temp = re.sub(r\"http\\S+\", \"HTTPURL\", obj['text'])\n",
    "            verification = 0\n",
    "            verification += len(re.findall(r'is(that|this|it) true', obj['text']))\n",
    "            verification += len(re.findall(r'wh[a]*t[?!|!?][?!|!?]*', obj['text']))\n",
    "            verification += len(re.findall(r'(rumour|rumor|debunk)', obj['text']))\n",
    "            verification += len(re.findall(r'(real?|really?|uncomfirmed)', obj['text']))\n",
    "            verification += len(re.findall(r'(that|this|it) is not true', obj['text']))\n",
    "            verification += len(re.findall(r'(that|this|it) is false', obj['text']))\n",
    "            verification += len(re.findall(r'(h[m]*)', obj['text']))\n",
    "            output_f['Skepticism'] = verification            \n",
    "            url, mention = 0, 0\n",
    "            for token in temp:\n",
    "                if token.startswith('HTTPURL'):\n",
    "                # if token.startswith (r\"http\\S+\"):\n",
    "                    url+=1\n",
    "                if token.startswith('@'):\n",
    "                    mention+=1 \n",
    "            # output_f['URLcount'] = url\n",
    "            output_f['MentionCount'] = mention\n",
    "\n",
    "            '''POS Tagging'''\n",
    "            temp = output_f['text']\n",
    "            temp = replaceContraction(temp.lower())\n",
    "            temp = re.sub(r\"(#)(\\S+)\", '', temp)\n",
    "            temp = re.sub(r\"(@)(\\S+)\", '', temp)\n",
    "            temp = re.sub(r\"http\\S+\", \"\", temp)\n",
    "            temp = re.sub(r'([^\\s\\w#\\*]|_)+', '', temp) # Erasing Special Characters\n",
    "\n",
    "            temp = temp.split()\n",
    "            pos_dict=getposcount(temp)\n",
    "            output_f['token_for_POS'] = temp\n",
    "            output_f.update(pos_dict)\n",
    "\n",
    "            output_f['char_count'] = len(output_f['text'])\n",
    "            output_f['word_count'] = len(output_f['text'].split())\n",
    "\n",
    "            # output_f['HashTag'] = len(obj['entities'][0]['hashtags'])\n",
    "            output_f['HashTag'] = len(obj['entities']['hashtags'])\n",
    "\n",
    "            output_f['has_question'] = \"?\" in output_f[\"text\"]\n",
    "            output_f['has_exclaim'] = \"!\" in output_f[\"text\"]\n",
    "            output_f['has_period'] = \".\" in output_f[\"text\"]\n",
    "\n",
    "            output_f['retweet_count'] = obj['retweet_count']\n",
    "            output_f['isRT'] = obj['retweeted']\n",
    "\n",
    "            output_f['tweet_count'] = np.log10(obj['user']['statuses_count'])\n",
    "            output_f['listed_count'] = np.log10(obj['user']['listed_count'])\n",
    "            output_f['friends_count'] = np.log10(obj['user']['friends_count'])\n",
    "            output_f['follow_ratio'] = np.log10(obj['user']['followers_count'])\n",
    "            \n",
    "            acc_created = datetime.strptime(obj['user']['created_at'], '%a %b %d %H:%M:%S %z %Y')\n",
    "            tweet_created = datetime.strptime(obj['created_at'], '%a %b %d %H:%M:%S %z %Y')\n",
    "            age = (tweet_created - acc_created)\n",
    "            output_f['account_age_days'] = age.days\n",
    "            output_f['tweet_created'] = datetime.timestamp(tweet_created)\n",
    "            # output_f['tweet_created2'] = tweet_created\n",
    "\n",
    "\n",
    "\n",
    "            output_f['capital_ratio']=(capitalratio(obj['text']))\n",
    "            output_f['verified'] = obj['user']['verified']\n",
    "\n",
    "            extracted_event.append(output_f)\n",
    "        extracted_features.append(extracted_event)\n",
    "\n",
    "    extracted_df = []\n",
    "    # print(events)\n",
    "    # print(len(extracted_features))\n",
    "    for i, data in enumerate(extracted_features):\n",
    "        temp = pd.DataFrame(data)\n",
    "        temp[\"Event\"] = events[i]\n",
    "        extracted_df.append(pd.DataFrame(temp))\n",
    "\n",
    "    final = pd.concat(extracted_df, ignore_index=True)\n",
    "    final = pd.concat([final, isSrcTweet ,target], axis=1)\n",
    "    final.pid = final.pid\n",
    "    return final\n",
    "\n",
    "def depth(x):\n",
    "    if type(x) is dict and x:\n",
    "        return 1 + max(depth(x[a]) for a in x)\n",
    "    if type(x) is list and x:\n",
    "        return 1 + max(depth(a) for a in x)\n",
    "    return 0\n",
    "\n",
    "def getThreadData(path, events):\n",
    "    import re\n",
    "\n",
    "    sources = []\n",
    "    for i, event in enumerate(events):\n",
    "        sources.append(glob('%s/%s/*/*' % (path, event)))\n",
    "    roots = []\n",
    "    children = []\n",
    "    features = []\n",
    "    isSrcTweet = []\n",
    "    for num, event in enumerate(sources):\n",
    "        for index, dataset in enumerate(event):\n",
    "            # print(dataset)\n",
    "            # children.append(glob('%s/reactions/*/*' % (dataset)))\n",
    "            childs = [os.path.basename(x) for x in glob('%s/reactions/*.json' % (dataset))]\n",
    "            reext = re.compile(r'(.*?)\\.json')\n",
    "            childs = (reext.match(child) for child in childs)\n",
    "            children.append([match.group(1) for match in childs if match])\n",
    "            # print(dataset)\n",
    "            roots.append(os.path.basename(dataset))\n",
    "\n",
    "    df = pd.DataFrame(roots, columns=['Root'])\n",
    "    df = pd.concat([df,pd.DataFrame(children)],axis=1)\n",
    "    \n",
    "    structfile = []\n",
    "    for i, event in enumerate(events):\n",
    "        structfile.append(glob('%s/%s/**/[0-9]*/structure.json' % (path, event)))\n",
    "\n",
    "    for i,d in enumerate(structfile): print(\"%s's structure.json number is %d\" %(events[i], len(d)))\n",
    "    # print(structfile)\n",
    "\n",
    "    thread_depths = []\n",
    "    thread_roots = []\n",
    "    for index, dataset in enumerate(structfile):\n",
    "        targetEvent = []\n",
    "        dataEvent = []\n",
    "        count = 0  # help var\n",
    "        for jsonFile in dataset:\n",
    "            # print(jsonFile)\n",
    "            match = re.search(\"/([0-9]*)/\", jsonFile)\n",
    "            # p.match(\"lalalaI want this partlalala\").group(1)\n",
    "            rootname = match.group(1) if match else None\n",
    "            # print(rootname)\n",
    "            with open(jsonFile, 'r') as f:\n",
    "                for l in f.readlines():\n",
    "                    if not l.strip():  # skip empty lines\n",
    "                        continue\n",
    "                json_data = json.loads(l)\n",
    "                # print(json_data)\n",
    "                thread_depth = depth(json_data)\n",
    "                thread_depths.append([rootname,thread_depth])\n",
    "                # thread_roots.append(rootname)\n",
    "    df_depth = pd.DataFrame(thread_depths, columns=['Root', 'depth'])\n",
    "    df = pd.merge(df, df_depth, on=\"Root\")\n",
    "                \n",
    "    \n",
    "    # return pd.DataFrame(thread_depths)\n",
    "    return df\n",
    "\n",
    "def getThreadDataPHEME(path, events):\n",
    "    import re\n",
    "\n",
    "    sources = []\n",
    "    for i, event in enumerate(events):\n",
    "        sources.append(glob('%s/%s/*/*' % (path, event)))\n",
    "    roots = []\n",
    "    children = []\n",
    "    features = []\n",
    "    isSrcTweet = []\n",
    "    childs_list=[]\n",
    "    for num, event in enumerate(sources):\n",
    "        for index, dataset in enumerate(event):\n",
    "            # print(dataset)\n",
    "            # children.append(glob('%s/reactions/*/*' % (dataset)))\n",
    "            childs = [os.path.basename(x) for x in glob('%s/reactions/*.json' % (dataset))]\n",
    "            reext = re.compile(r'(.*?)\\.json')\n",
    "            childs = (reext.match(child) for child in childs)\n",
    "            children.append([match.group(1) for match in childs if match])\n",
    "            # print(dataset)\n",
    "            roots.append(os.path.basename(dataset))\n",
    "\n",
    "            # childs_list.append(children)\n",
    "\n",
    "    df = pd.DataFrame(roots, columns=['Root'])\n",
    "    return pd.concat([df,pd.DataFrame(children)],axis=1)\n",
    "    return df\n",
    "    \n",
    "    structfile = []\n",
    "    for i, event in enumerate(events):\n",
    "        structfile.append(glob('%s/%s/**/[0-9]*/structure.json' % (path, event)))\n",
    "\n",
    "    for i,d in enumerate(structfile): print(\"%s's structure.json number is %d\" %(events[i], len(d)))\n",
    "    # print(structfile)\n",
    "\n",
    "    thread_depths = []\n",
    "    thread_roots = []\n",
    "    for index, dataset in enumerate(structfile):\n",
    "        targetEvent = []\n",
    "        dataEvent = []\n",
    "        count = 0  # help var\n",
    "        for jsonFile in dataset:\n",
    "            # print(jsonFile)\n",
    "            match = re.search(\"/([0-9]*)/\", jsonFile)\n",
    "            # p.match(\"lalalaI want this partlalala\").group(1)\n",
    "            rootname = match.group(1) if match else None\n",
    "            # print(rootname)\n",
    "            with open(jsonFile, 'r') as f:\n",
    "                for l in f.readlines():\n",
    "                    if not l.strip():  # skip empty lines\n",
    "                        continue\n",
    "                json_data = json.loads(l)\n",
    "                # print(json_data)\n",
    "                thread_depth = depth(json_data)\n",
    "                thread_depths.append([rootname,thread_depth])\n",
    "                # thread_roots.append(rootname)\n",
    "    df_depth = pd.DataFrame(thread_depths, columns=['Root', 'depth'])\n",
    "    df = pd.merge(df, df_depth, on=\"Root\")\n",
    "                \n",
    "    \n",
    "    # return pd.DataFrame(thread_depths)\n",
    "    return df"
   ]
  },
  {
   "cell_type": "code",
   "execution_count": 52,
   "metadata": {},
   "outputs": [],
   "source": [
    "import warnings\n",
    "warnings.filterwarnings(\"ignore\")\n",
    "\n",
    "def getThreadInfo(structure, df):\n",
    "    threadInfo = []\n",
    "    thread_depth = structure[['Root', 'depth']]\n",
    "    structure = structure.drop('depth', axis=1)\n",
    "    for index, data in enumerate(structure.Root):\n",
    "        tweetInfo = []\n",
    "        # print(\"data: %s\\n\" %(data))\n",
    "        # print(\"data: %s\\n%s\\n\" %(data, structure.loc[index,0:].values))\n",
    "        # print(\"root: %s\\tFirst reaction: %s\\n\" %(data, structure.loc[index,0]))\n",
    "\n",
    "        \n",
    "        pid = int(data)\n",
    "        thread = structure.loc[structure['Root']==pid].dropna(axis=1)\n",
    "        # threadRange = structure.loc[structure['Root']==data].any().sum()-1\n",
    "        # print(structure)\n",
    "        threadRange = len(structure.iloc[index,:].dropna())\n",
    "\n",
    "        # 아래로는 성공적인 Features\n",
    "        friends_count = np.sum([np.sum(df.loc[(df['id'] == int(childid))]['friends_count'].values) for childid in structure.loc[index,:].dropna()])\n",
    "        friends_countavg = np.mean([np.sum(df.loc[(df['id'] == int(childid))]['friends_count'].values) for childid in structure.loc[index,:].dropna()])\n",
    "        words_count = np.mean([np.sum(df.loc[(df['id'] == int(childid))]['word_count'].values) for childid in structure.loc[index,:].dropna()])\n",
    "        char_count = np.mean([np.sum(df.loc[(df['id'] == int(childid))]['char_count'].values) for childid in structure.loc[index,:].dropna()])\n",
    "        hashtagavg = np.mean([np.sum(df.loc[(df['id'] == int(childid))]['HashTag'].values) for childid in structure.loc[index,:].dropna()])\n",
    "        hashtagsum = np.sum([np.sum(df.loc[(df['id'] == int(childid))]['HashTag'].values) for childid in structure.loc[index,:].dropna()])\n",
    "        hashtagpercentage = np.sum([np.any(df.loc[(df['id'] == int(childid))]['HashTag']) for childid in structure.loc[index,:].dropna()])/threadRange\n",
    "        urlavg = np.mean([np.sum(df.loc[(df['id'] == int(childid))]['URLcount'].values) for childid in structure.loc[index,:].dropna()])\n",
    "        urlstd = np.std([np.sum(df.loc[(df['id'] == int(childid))]['URLcount'].values) for childid in structure.loc[index,:].dropna()])\n",
    "        urlratio = np.mean([np.any(df.loc[(df['id'] == int(childid))]['URLcount'].values) for childid in structure.loc[index,:].dropna()])\n",
    "        mentionsum = np.sum([np.sum(df.loc[(df['id'] == int(childid))]['MentionCount'].values) for childid in structure.loc[index,:].dropna()])\n",
    "        mentionavg = np.mean([np.sum(df.loc[(df['id'] == int(childid))]['MentionCount'].values) for childid in structure.loc[index,:].dropna()])\n",
    "        mentionpercentage = np.sum([np.any(df.loc[(df['id'] == int(childid))]['MentionCount'].values) for childid in structure.loc[index,:].dropna()])/threadRange\n",
    "        verifiedratio = np.mean([np.any(df.loc[(df['id'] == int(childid))]['verified'].values) for childid in structure.loc[index,:].dropna()])\n",
    "        verifiedsum = np.sum([np.sum(df.loc[(df['id'] == int(childid))]['verified'].values) for childid in structure.loc[index,:].dropna()])\n",
    "        retweetsum = np.sum([np.sum(df.loc[(df['id'] == int(childid))]['retweet_count'].values) for childid in structure.loc[index,:].dropna()])\n",
    "        retweetavg = np.mean([np.sum(df.loc[(df['id'] == int(childid))]['retweet_count'].values) for childid in structure.loc[index,:].dropna()])\n",
    "        retweetstd = np.std([np.sum(df.loc[(df['id'] == int(childid))]['retweet_count'].values) for childid in structure.loc[index,:].dropna()])\n",
    "        accageavg = np.mean([np.sum(df.loc[(df['id'] == int(childid))]['account_age_days'].values) for childid in structure.loc[index,:].dropna()])\n",
    "        accagestd = np.std([np.sum(df.loc[(df['id'] == int(childid))]['account_age_days'].values) for childid in structure.loc[index,:].dropna()])\n",
    "        emojistd = np.std([np.sum(df.loc[(df['id'] == int(childid))]['emoji_count'].values) for childid in structure.loc[index,:].dropna()])\n",
    "        emojimean = np.mean([np.sum(df.loc[(df['id'] == int(childid))]['emoji_count'].values) for childid in structure.loc[index,:].dropna()])\n",
    "        mediaratio = np.mean([np.sum(df.loc[(df['id'] == int(childid))]['has_media'].values) for childid in structure.loc[index,:].dropna()])\n",
    "        questionratio = np.mean([np.sum(df.loc[(df['id'] == int(childid))]['has_question'].values) for childid in structure.loc[index,:].dropna()])\n",
    "        exclamationratio = np.mean([np.sum(df.loc[(df['id'] == int(childid))]['has_exclaim'].values) for childid in structure.loc[index,:].dropna()])\n",
    "        periodratio = np.mean([np.sum(df.loc[(df['id'] == int(childid))]['has_period'].values) for childid in structure.loc[index,:].dropna()])\n",
    "        FPPmean = np.mean([np.sum(df.loc[(df['id'] == int(childid))]['FirstPersonPronoun'].values) for childid in structure.loc[index,:].dropna()])\n",
    "        FPPstd = np.std([np.sum(df.loc[(df['id'] == int(childid))]['FirstPersonPronoun'].values) for childid in structure.loc[index,:].dropna()])\n",
    "        SPPmean = np.mean([np.sum(df.loc[(df['id'] == int(childid))]['SecondPersonPronoun'].values) for childid in structure.loc[index,:].dropna()])\n",
    "        SPPstd = np.std([np.sum(df.loc[(df['id'] == int(childid))]['SecondPersonPronoun'].values) for childid in structure.loc[index,:].dropna()])\n",
    "        TPPmean = np.mean([np.sum(df.loc[(df['id'] == int(childid))]['ThirdPersonPronoun'].values) for childid in structure.loc[index,:].dropna()])\n",
    "        TPPstd = np.std([np.sum(df.loc[(df['id'] == int(childid))]['ThirdPersonPronoun'].values) for childid in structure.loc[index,:].dropna()])\n",
    "        Skepticismmean = np.mean([np.sum(df.loc[(df['id'] == int(childid))]['Skepticism'].values) for childid in structure.loc[index,:].dropna()])\n",
    "\n",
    "        # Get the lifetime of thread\n",
    "        # root_created = df.loc[(df['id'] == int(pid))].tweet_created.sum()\n",
    "        # try:\n",
    "        #     thread_latest = np.max([np.sum(df.loc[(df['id'] == childid)]['tweet_created'].values) for childid in structure.loc[index,'0':].dropna()])\n",
    "        # except:\n",
    "        # #     print([df.loc[(df['id'] == int(childid))]['tweet_created'].values for childid in structure.loc[index,'0':].dropna()])\n",
    "        #     print(\"error\")\n",
    "\n",
    "        # thread_life = thread_latest - root_created\n",
    "        try:\n",
    "            thread_life = np.max([np.sum(df.loc[(df['id'] == childid)]['tweet_created']) for childid in structure.loc[index,:].dropna()] - df.loc[(df['id'] == pid)].tweet_created.sum())\n",
    "            # if thread_life < 0: thread_life=0\n",
    "        except:\n",
    "            print(\"index:\", index)\n",
    "\n",
    "        # 해당 스레드의 트윗 개수\n",
    "        thread_node_count = len([childid for childid in structure.loc[index,:].dropna()]) \n",
    "        # print(\"thread_node_count:\",thread_node_count,\", threadRange:\",threadRange, \"lastest Thread:\", thread_latest )\n",
    "        # print(structure.loc[structure.Root == data])\n",
    "\n",
    "        tweetInfo.append(data)\n",
    "        tweetInfo.append(friends_count)\n",
    "        tweetInfo.append(friends_countavg)\n",
    "        tweetInfo.append(words_count)\n",
    "        tweetInfo.append(char_count)\n",
    "        tweetInfo.append(hashtagavg)\n",
    "        tweetInfo.append(hashtagsum)\n",
    "        tweetInfo.append(hashtagpercentage)\n",
    "        tweetInfo.append(urlavg)\n",
    "        tweetInfo.append(urlstd)\n",
    "        tweetInfo.append(urlratio)\n",
    "        tweetInfo.append(mentionsum)\n",
    "        tweetInfo.append(mentionavg)\n",
    "        tweetInfo.append(mentionpercentage)\n",
    "        tweetInfo.append(thread_node_count)\n",
    "        tweetInfo.append(verifiedratio)\n",
    "        tweetInfo.append(verifiedsum)\n",
    "        tweetInfo.append(retweetsum)\n",
    "        tweetInfo.append(retweetavg)\n",
    "        tweetInfo.append(retweetstd)\n",
    "        tweetInfo.append(accageavg)\n",
    "        tweetInfo.append(accagestd)\n",
    "        tweetInfo.append(thread_life)\n",
    "        tweetInfo.append(emojistd)\n",
    "        tweetInfo.append(emojimean)\n",
    "        tweetInfo.append(mediaratio)\n",
    "        tweetInfo.append(questionratio)\n",
    "        tweetInfo.append(exclamationratio)\n",
    "        tweetInfo.append(periodratio)\n",
    "        tweetInfo.append(FPPmean)\n",
    "        tweetInfo.append(FPPstd)\n",
    "        tweetInfo.append(SPPmean)\n",
    "        tweetInfo.append(SPPstd)\n",
    "        tweetInfo.append(TPPmean)\n",
    "        tweetInfo.append(TPPstd)\n",
    "        tweetInfo.append(Skepticismmean)\n",
    "\n",
    "        threadInfo.append(tweetInfo)\n",
    "\n",
    "        result = pd.DataFrame(threadInfo, columns=['Root', 'SUM FriendsCount','AVG FriendsCount', 'AVG WordCount', 'AVG CharCount', 'AVG HashTag', 'SUM HashTag', 'Ratio HashTag', 'AVG Url','STD Url','RATIO Url','SUM Mention', 'AVG Mention', 'Ratio Mention', 'Tweets Count', 'Ratio Verified','SUM Verified','SUM RT', 'AVG RT','STD RT', 'AVG AccAge', 'STD AccAge', 'thread_time', \"STD Emoji\",\"AVG Emoji\",\"Ratio Media\",'RATIO Question', 'RATIO Exclaim','RATIO Period', 'AVG FPP','STD FPP','AVG SPP','STD SPP','AVG TPP','STD TPP','AVG Skepticism'])\n",
    "        result = pd.merge(thread_depth, result, on=\"Root\").drop(['Root'], axis=1)\n",
    "    # print(threadInfo)\n",
    "    return result"
   ]
  },
  {
   "cell_type": "markdown",
   "metadata": {},
   "source": [
    "## PHEME ALL Create\n",
    "\n",
    "420120 Tweets"
   ]
  },
  {
   "cell_type": "code",
   "execution_count": 32,
   "metadata": {},
   "outputs": [],
   "source": [
    "# path = \"../pheme-rnr-dataset\"\n",
    "# events = ['charliehebdo', 'ferguson',\n",
    "#           'germanwings-crash', 'ottawashooting', 'sydneysiege']\n",
    "# events = ['germanwings-sydneysiege']\n",
    "# # events = [eventname+\"-all-rnr-threads\" for eventname in events]\n",
    "\n",
    "# tweetType = '*'\n",
    "# final = fetchRawText_all(path, events, tweetType)\n",
    "# final.isRT = final.isRT.replace({True: 1, False: 0}) \n",
    "# final.verified = final.verified.replace({True: 1, False: 0}) \n",
    "# final.has_question = final.has_question.replace({True: 1, False: 0}) \n",
    "# final.has_exclaim = final.has_exclaim.replace({True: 1, False: 0}) \n",
    "# final.has_period = final.has_period.replace({True: 1, False: 0}) \n",
    "# final = final.replace(-np.inf, 0)\n",
    "\n",
    "all_pheme = final\n",
    "# all_pheme.to_csv('./data/all/_PHEMEall.csv', index = False)"
   ]
  },
  {
   "cell_type": "code",
   "execution_count": 33,
   "metadata": {},
   "outputs": [
    {
     "name": "stdout",
     "output_type": "stream",
     "text": [
      "charliehebdo-all-rnr-threads's structure.json number is 2079\n",
      "ferguson-all-rnr-threads's structure.json number is 1143\n",
      "germanwings-crash-all-rnr-threads's structure.json number is 469\n",
      "ottawashooting-all-rnr-threads's structure.json number is 890\n",
      "sydneysiege-all-rnr-threads's structure.json number is 1221\n"
     ]
    }
   ],
   "source": [
    "path = \"../PHEME/all-rnr-annotated-threads\"\n",
    "events = ['charliehebdo', 'ferguson',\n",
    "          'germanwings-crash', 'ottawashooting', 'sydneysiege']\n",
    "events = [eventname+\"-all-rnr-threads\" for eventname in events]\n",
    "pheme_structure = getThreadData(path, events)\n",
    "# pheme_structure.to_csv('./data/all/_PHEME_structure.csv', index = False)\n"
   ]
  },
  {
   "cell_type": "code",
   "execution_count": 36,
   "metadata": {},
   "outputs": [
    {
     "data": {
      "text/html": "<div>\n<style scoped>\n    .dataframe tbody tr th:only-of-type {\n        vertical-align: middle;\n    }\n\n    .dataframe tbody tr th {\n        vertical-align: top;\n    }\n\n    .dataframe thead th {\n        text-align: right;\n    }\n</style>\n<table border=\"1\" class=\"dataframe\">\n  <thead>\n    <tr style=\"text-align: right;\">\n      <th></th>\n      <th>Root</th>\n      <th>0</th>\n      <th>1</th>\n      <th>2</th>\n      <th>3</th>\n      <th>4</th>\n      <th>5</th>\n      <th>6</th>\n      <th>7</th>\n      <th>8</th>\n      <th>9</th>\n      <th>10</th>\n      <th>11</th>\n      <th>12</th>\n      <th>13</th>\n      <th>14</th>\n      <th>15</th>\n      <th>16</th>\n      <th>17</th>\n      <th>18</th>\n      <th>19</th>\n      <th>20</th>\n      <th>21</th>\n      <th>22</th>\n      <th>23</th>\n      <th>24</th>\n      <th>25</th>\n      <th>26</th>\n      <th>27</th>\n      <th>28</th>\n      <th>29</th>\n      <th>30</th>\n      <th>31</th>\n      <th>32</th>\n      <th>33</th>\n      <th>34</th>\n      <th>35</th>\n      <th>36</th>\n      <th>37</th>\n      <th>38</th>\n      <th>39</th>\n      <th>40</th>\n      <th>41</th>\n      <th>42</th>\n      <th>43</th>\n      <th>44</th>\n      <th>45</th>\n      <th>46</th>\n      <th>47</th>\n      <th>48</th>\n      <th>49</th>\n      <th>50</th>\n      <th>51</th>\n      <th>52</th>\n      <th>53</th>\n      <th>54</th>\n      <th>55</th>\n      <th>56</th>\n      <th>57</th>\n      <th>58</th>\n      <th>59</th>\n      <th>60</th>\n      <th>61</th>\n      <th>62</th>\n      <th>63</th>\n      <th>64</th>\n      <th>65</th>\n      <th>66</th>\n      <th>67</th>\n      <th>68</th>\n      <th>69</th>\n      <th>70</th>\n      <th>71</th>\n      <th>72</th>\n      <th>73</th>\n      <th>74</th>\n      <th>75</th>\n      <th>76</th>\n      <th>77</th>\n      <th>78</th>\n      <th>79</th>\n      <th>80</th>\n      <th>81</th>\n      <th>82</th>\n      <th>83</th>\n      <th>84</th>\n      <th>85</th>\n      <th>86</th>\n      <th>87</th>\n      <th>88</th>\n      <th>89</th>\n      <th>90</th>\n      <th>91</th>\n      <th>92</th>\n      <th>93</th>\n      <th>94</th>\n      <th>95</th>\n      <th>96</th>\n      <th>97</th>\n      <th>98</th>\n      <th>99</th>\n      <th>100</th>\n      <th>101</th>\n      <th>102</th>\n      <th>103</th>\n      <th>104</th>\n      <th>105</th>\n      <th>106</th>\n      <th>107</th>\n      <th>108</th>\n      <th>109</th>\n      <th>110</th>\n      <th>111</th>\n      <th>112</th>\n      <th>113</th>\n      <th>114</th>\n      <th>115</th>\n      <th>116</th>\n      <th>117</th>\n      <th>118</th>\n      <th>119</th>\n      <th>120</th>\n      <th>121</th>\n      <th>122</th>\n      <th>123</th>\n      <th>124</th>\n      <th>125</th>\n      <th>126</th>\n      <th>127</th>\n      <th>128</th>\n      <th>129</th>\n      <th>130</th>\n      <th>131</th>\n      <th>132</th>\n      <th>133</th>\n      <th>134</th>\n      <th>135</th>\n      <th>136</th>\n      <th>137</th>\n      <th>138</th>\n      <th>139</th>\n      <th>140</th>\n      <th>141</th>\n      <th>142</th>\n      <th>143</th>\n      <th>144</th>\n      <th>145</th>\n      <th>146</th>\n      <th>147</th>\n      <th>148</th>\n      <th>149</th>\n      <th>150</th>\n      <th>151</th>\n      <th>152</th>\n      <th>153</th>\n      <th>154</th>\n      <th>155</th>\n      <th>156</th>\n      <th>157</th>\n      <th>158</th>\n      <th>159</th>\n      <th>160</th>\n      <th>161</th>\n      <th>162</th>\n      <th>163</th>\n      <th>164</th>\n      <th>165</th>\n      <th>166</th>\n      <th>167</th>\n      <th>168</th>\n      <th>169</th>\n      <th>170</th>\n      <th>171</th>\n      <th>172</th>\n      <th>173</th>\n      <th>174</th>\n      <th>175</th>\n      <th>176</th>\n      <th>177</th>\n      <th>178</th>\n      <th>179</th>\n      <th>180</th>\n      <th>181</th>\n      <th>182</th>\n      <th>183</th>\n      <th>184</th>\n      <th>185</th>\n      <th>186</th>\n      <th>187</th>\n      <th>188</th>\n      <th>189</th>\n      <th>190</th>\n      <th>191</th>\n      <th>192</th>\n      <th>193</th>\n      <th>194</th>\n      <th>195</th>\n      <th>196</th>\n      <th>197</th>\n      <th>198</th>\n      <th>199</th>\n      <th>200</th>\n      <th>201</th>\n      <th>202</th>\n      <th>203</th>\n      <th>204</th>\n      <th>205</th>\n      <th>206</th>\n      <th>207</th>\n      <th>208</th>\n      <th>209</th>\n      <th>210</th>\n      <th>211</th>\n      <th>212</th>\n      <th>213</th>\n      <th>214</th>\n      <th>215</th>\n      <th>216</th>\n      <th>217</th>\n      <th>218</th>\n      <th>219</th>\n      <th>220</th>\n      <th>221</th>\n      <th>222</th>\n      <th>223</th>\n      <th>224</th>\n      <th>225</th>\n      <th>226</th>\n      <th>227</th>\n      <th>228</th>\n      <th>229</th>\n      <th>230</th>\n      <th>231</th>\n      <th>232</th>\n      <th>233</th>\n      <th>234</th>\n      <th>235</th>\n      <th>236</th>\n      <th>237</th>\n      <th>238</th>\n      <th>239</th>\n      <th>240</th>\n      <th>241</th>\n      <th>242</th>\n      <th>243</th>\n      <th>244</th>\n      <th>245</th>\n      <th>246</th>\n      <th>247</th>\n      <th>248</th>\n      <th>249</th>\n      <th>250</th>\n      <th>251</th>\n      <th>252</th>\n      <th>253</th>\n      <th>254</th>\n      <th>255</th>\n      <th>256</th>\n      <th>257</th>\n      <th>258</th>\n      <th>259</th>\n      <th>260</th>\n      <th>261</th>\n      <th>262</th>\n      <th>263</th>\n      <th>264</th>\n      <th>265</th>\n      <th>266</th>\n      <th>267</th>\n      <th>268</th>\n      <th>269</th>\n      <th>270</th>\n      <th>271</th>\n      <th>272</th>\n      <th>273</th>\n      <th>274</th>\n      <th>275</th>\n      <th>276</th>\n      <th>277</th>\n      <th>278</th>\n      <th>279</th>\n      <th>280</th>\n      <th>281</th>\n      <th>282</th>\n      <th>283</th>\n      <th>284</th>\n      <th>285</th>\n      <th>286</th>\n      <th>287</th>\n      <th>288</th>\n      <th>289</th>\n      <th>290</th>\n      <th>291</th>\n      <th>292</th>\n      <th>293</th>\n      <th>294</th>\n      <th>295</th>\n      <th>296</th>\n      <th>297</th>\n      <th>298</th>\n      <th>299</th>\n      <th>300</th>\n      <th>301</th>\n      <th>302</th>\n      <th>303</th>\n      <th>304</th>\n      <th>305</th>\n      <th>306</th>\n      <th>307</th>\n      <th>308</th>\n      <th>309</th>\n      <th>310</th>\n      <th>311</th>\n      <th>312</th>\n      <th>313</th>\n      <th>314</th>\n      <th>315</th>\n      <th>316</th>\n      <th>317</th>\n      <th>318</th>\n      <th>319</th>\n      <th>320</th>\n      <th>321</th>\n      <th>322</th>\n      <th>323</th>\n      <th>324</th>\n      <th>325</th>\n      <th>326</th>\n      <th>327</th>\n      <th>328</th>\n      <th>329</th>\n      <th>330</th>\n      <th>331</th>\n      <th>332</th>\n      <th>333</th>\n      <th>334</th>\n      <th>335</th>\n      <th>336</th>\n      <th>337</th>\n      <th>338</th>\n      <th>339</th>\n      <th>340</th>\n      <th>341</th>\n      <th>342</th>\n      <th>343</th>\n      <th>344</th>\n      <th>depth</th>\n    </tr>\n  </thead>\n  <tbody>\n    <tr>\n      <th>0</th>\n      <td>553529101659566080</td>\n      <td>553530890908098561</td>\n      <td>553547184000339968</td>\n      <td>553546643941761024</td>\n      <td>553530583583047680</td>\n      <td>553547846612295681</td>\n      <td>553529275127963650</td>\n      <td>553546424453836801</td>\n      <td>553543300544618498</td>\n      <td>553546244811792385</td>\n      <td>553547413512675329</td>\n      <td>553545294462197760</td>\n      <td>553548113332285440</td>\n      <td>553530877607948288</td>\n      <td>553545602705793026</td>\n      <td>553546983437115393</td>\n      <td>553530334160384000</td>\n      <td>553531136501362688</td>\n      <td>553547587668553732</td>\n      <td>None</td>\n      <td>None</td>\n      <td>None</td>\n      <td>None</td>\n      <td>None</td>\n      <td>None</td>\n      <td>None</td>\n      <td>None</td>\n      <td>None</td>\n      <td>None</td>\n      <td>None</td>\n      <td>None</td>\n      <td>None</td>\n      <td>None</td>\n      <td>None</td>\n      <td>None</td>\n      <td>None</td>\n      <td>None</td>\n      <td>None</td>\n      <td>None</td>\n      <td>None</td>\n      <td>None</td>\n      <td>None</td>\n      <td>None</td>\n      <td>None</td>\n      <td>None</td>\n      <td>None</td>\n      <td>None</td>\n      <td>None</td>\n      <td>None</td>\n      <td>None</td>\n      <td>None</td>\n      <td>None</td>\n      <td>None</td>\n      <td>None</td>\n      <td>None</td>\n      <td>None</td>\n      <td>None</td>\n      <td>None</td>\n      <td>None</td>\n      <td>None</td>\n      <td>None</td>\n      <td>None</td>\n      <td>None</td>\n      <td>None</td>\n      <td>None</td>\n      <td>None</td>\n      <td>None</td>\n      <td>None</td>\n      <td>None</td>\n      <td>None</td>\n      <td>None</td>\n      <td>None</td>\n      <td>None</td>\n      <td>None</td>\n      <td>None</td>\n      <td>None</td>\n      <td>None</td>\n      <td>None</td>\n      <td>None</td>\n      <td>None</td>\n      <td>None</td>\n      <td>None</td>\n      <td>None</td>\n      <td>None</td>\n      <td>None</td>\n      <td>None</td>\n      <td>None</td>\n      <td>None</td>\n      <td>None</td>\n      <td>None</td>\n      <td>None</td>\n      <td>None</td>\n      <td>None</td>\n      <td>None</td>\n      <td>None</td>\n      <td>None</td>\n      <td>None</td>\n      <td>None</td>\n      <td>None</td>\n      <td>None</td>\n      <td>None</td>\n      <td>None</td>\n      <td>None</td>\n      <td>None</td>\n      <td>None</td>\n      <td>None</td>\n      <td>None</td>\n      <td>None</td>\n      <td>None</td>\n      <td>None</td>\n      <td>None</td>\n      <td>None</td>\n      <td>None</td>\n      <td>None</td>\n      <td>None</td>\n      <td>None</td>\n      <td>None</td>\n      <td>None</td>\n      <td>None</td>\n      <td>None</td>\n      <td>None</td>\n      <td>None</td>\n      <td>None</td>\n      <td>None</td>\n      <td>None</td>\n      <td>None</td>\n      <td>None</td>\n      <td>None</td>\n      <td>None</td>\n      <td>None</td>\n      <td>None</td>\n      <td>None</td>\n      <td>None</td>\n      <td>None</td>\n      <td>None</td>\n      <td>None</td>\n      <td>None</td>\n      <td>None</td>\n      <td>None</td>\n      <td>None</td>\n      <td>None</td>\n      <td>None</td>\n      <td>None</td>\n      <td>None</td>\n      <td>None</td>\n      <td>None</td>\n      <td>None</td>\n      <td>None</td>\n      <td>None</td>\n      <td>None</td>\n      <td>None</td>\n      <td>None</td>\n      <td>None</td>\n      <td>None</td>\n      <td>None</td>\n      <td>None</td>\n      <td>None</td>\n      <td>None</td>\n      <td>None</td>\n      <td>None</td>\n      <td>None</td>\n      <td>None</td>\n      <td>None</td>\n      <td>None</td>\n      <td>None</td>\n      <td>None</td>\n      <td>None</td>\n      <td>None</td>\n      <td>None</td>\n      <td>None</td>\n      <td>None</td>\n      <td>None</td>\n      <td>None</td>\n      <td>None</td>\n      <td>None</td>\n      <td>None</td>\n      <td>None</td>\n      <td>None</td>\n      <td>None</td>\n      <td>None</td>\n      <td>None</td>\n      <td>None</td>\n      <td>None</td>\n      <td>None</td>\n      <td>None</td>\n      <td>None</td>\n      <td>None</td>\n      <td>None</td>\n      <td>None</td>\n      <td>None</td>\n      <td>None</td>\n      <td>None</td>\n      <td>None</td>\n      <td>None</td>\n      <td>None</td>\n      <td>None</td>\n      <td>None</td>\n      <td>None</td>\n      <td>None</td>\n      <td>None</td>\n      <td>None</td>\n      <td>None</td>\n      <td>None</td>\n      <td>None</td>\n      <td>None</td>\n      <td>None</td>\n      <td>None</td>\n      <td>None</td>\n      <td>None</td>\n      <td>None</td>\n      <td>None</td>\n      <td>None</td>\n      <td>None</td>\n      <td>None</td>\n      <td>None</td>\n      <td>None</td>\n      <td>None</td>\n      <td>None</td>\n      <td>None</td>\n      <td>None</td>\n      <td>None</td>\n      <td>None</td>\n      <td>None</td>\n      <td>None</td>\n      <td>None</td>\n      <td>None</td>\n      <td>None</td>\n      <td>None</td>\n      <td>None</td>\n      <td>None</td>\n      <td>None</td>\n      <td>None</td>\n      <td>None</td>\n      <td>None</td>\n      <td>None</td>\n      <td>None</td>\n      <td>None</td>\n      <td>None</td>\n      <td>None</td>\n      <td>None</td>\n      <td>None</td>\n      <td>None</td>\n      <td>None</td>\n      <td>None</td>\n      <td>None</td>\n      <td>None</td>\n      <td>None</td>\n      <td>None</td>\n      <td>None</td>\n      <td>None</td>\n      <td>None</td>\n      <td>None</td>\n      <td>None</td>\n      <td>None</td>\n      <td>None</td>\n      <td>None</td>\n      <td>None</td>\n      <td>None</td>\n      <td>None</td>\n      <td>None</td>\n      <td>None</td>\n      <td>None</td>\n      <td>None</td>\n      <td>None</td>\n      <td>None</td>\n      <td>None</td>\n      <td>None</td>\n      <td>None</td>\n      <td>None</td>\n      <td>None</td>\n      <td>None</td>\n      <td>None</td>\n      <td>None</td>\n      <td>None</td>\n      <td>None</td>\n      <td>None</td>\n      <td>None</td>\n      <td>None</td>\n      <td>None</td>\n      <td>None</td>\n      <td>None</td>\n      <td>None</td>\n      <td>None</td>\n      <td>None</td>\n      <td>None</td>\n      <td>None</td>\n      <td>None</td>\n      <td>None</td>\n      <td>None</td>\n      <td>None</td>\n      <td>None</td>\n      <td>None</td>\n      <td>None</td>\n      <td>None</td>\n      <td>None</td>\n      <td>None</td>\n      <td>None</td>\n      <td>None</td>\n      <td>None</td>\n      <td>None</td>\n      <td>None</td>\n      <td>None</td>\n      <td>None</td>\n      <td>None</td>\n      <td>None</td>\n      <td>None</td>\n      <td>None</td>\n      <td>None</td>\n      <td>None</td>\n      <td>None</td>\n      <td>None</td>\n      <td>None</td>\n      <td>None</td>\n      <td>None</td>\n      <td>None</td>\n      <td>None</td>\n      <td>None</td>\n      <td>None</td>\n      <td>None</td>\n      <td>None</td>\n      <td>None</td>\n      <td>None</td>\n      <td>None</td>\n      <td>None</td>\n      <td>None</td>\n      <td>None</td>\n      <td>None</td>\n      <td>None</td>\n      <td>None</td>\n      <td>None</td>\n      <td>None</td>\n      <td>None</td>\n      <td>None</td>\n      <td>None</td>\n      <td>None</td>\n      <td>None</td>\n      <td>None</td>\n      <td>None</td>\n      <td>None</td>\n      <td>None</td>\n      <td>None</td>\n      <td>None</td>\n      <td>None</td>\n      <td>None</td>\n      <td>None</td>\n      <td>None</td>\n      <td>2</td>\n    </tr>\n    <tr>\n      <th>1</th>\n      <td>553587735613952001</td>\n      <td>553588921662455808</td>\n      <td>553588691130941441</td>\n      <td>553591458390097920</td>\n      <td>553689534446465026</td>\n      <td>553588158592733184</td>\n      <td>553588782109564928</td>\n      <td>553591848821092353</td>\n      <td>None</td>\n      <td>None</td>\n      <td>None</td>\n      <td>None</td>\n      <td>None</td>\n      <td>None</td>\n      <td>None</td>\n      <td>None</td>\n      <td>None</td>\n      <td>None</td>\n      <td>None</td>\n      <td>None</td>\n      <td>None</td>\n      <td>None</td>\n      <td>None</td>\n      <td>None</td>\n      <td>None</td>\n      <td>None</td>\n      <td>None</td>\n      <td>None</td>\n      <td>None</td>\n      <td>None</td>\n      <td>None</td>\n      <td>None</td>\n      <td>None</td>\n      <td>None</td>\n      <td>None</td>\n      <td>None</td>\n      <td>None</td>\n      <td>None</td>\n      <td>None</td>\n      <td>None</td>\n      <td>None</td>\n      <td>None</td>\n      <td>None</td>\n      <td>None</td>\n      <td>None</td>\n      <td>None</td>\n      <td>None</td>\n      <td>None</td>\n      <td>None</td>\n      <td>None</td>\n      <td>None</td>\n      <td>None</td>\n      <td>None</td>\n      <td>None</td>\n      <td>None</td>\n      <td>None</td>\n      <td>None</td>\n      <td>None</td>\n      <td>None</td>\n      <td>None</td>\n      <td>None</td>\n      <td>None</td>\n      <td>None</td>\n      <td>None</td>\n      <td>None</td>\n      <td>None</td>\n      <td>None</td>\n      <td>None</td>\n      <td>None</td>\n      <td>None</td>\n      <td>None</td>\n      <td>None</td>\n      <td>None</td>\n      <td>None</td>\n      <td>None</td>\n      <td>None</td>\n      <td>None</td>\n      <td>None</td>\n      <td>None</td>\n      <td>None</td>\n      <td>None</td>\n      <td>None</td>\n      <td>None</td>\n      <td>None</td>\n      <td>None</td>\n      <td>None</td>\n      <td>None</td>\n      <td>None</td>\n      <td>None</td>\n      <td>None</td>\n      <td>None</td>\n      <td>None</td>\n      <td>None</td>\n      <td>None</td>\n      <td>None</td>\n      <td>None</td>\n      <td>None</td>\n      <td>None</td>\n      <td>None</td>\n      <td>None</td>\n      <td>None</td>\n      <td>None</td>\n      <td>None</td>\n      <td>None</td>\n      <td>None</td>\n      <td>None</td>\n      <td>None</td>\n      <td>None</td>\n      <td>None</td>\n      <td>None</td>\n      <td>None</td>\n      <td>None</td>\n      <td>None</td>\n      <td>None</td>\n      <td>None</td>\n      <td>None</td>\n      <td>None</td>\n      <td>None</td>\n      <td>None</td>\n      <td>None</td>\n      <td>None</td>\n      <td>None</td>\n      <td>None</td>\n      <td>None</td>\n      <td>None</td>\n      <td>None</td>\n      <td>None</td>\n      <td>None</td>\n      <td>None</td>\n      <td>None</td>\n      <td>None</td>\n      <td>None</td>\n      <td>None</td>\n      <td>None</td>\n      <td>None</td>\n      <td>None</td>\n      <td>None</td>\n      <td>None</td>\n      <td>None</td>\n      <td>None</td>\n      <td>None</td>\n      <td>None</td>\n      <td>None</td>\n      <td>None</td>\n      <td>None</td>\n      <td>None</td>\n      <td>None</td>\n      <td>None</td>\n      <td>None</td>\n      <td>None</td>\n      <td>None</td>\n      <td>None</td>\n      <td>None</td>\n      <td>None</td>\n      <td>None</td>\n      <td>None</td>\n      <td>None</td>\n      <td>None</td>\n      <td>None</td>\n      <td>None</td>\n      <td>None</td>\n      <td>None</td>\n      <td>None</td>\n      <td>None</td>\n      <td>None</td>\n      <td>None</td>\n      <td>None</td>\n      <td>None</td>\n      <td>None</td>\n      <td>None</td>\n      <td>None</td>\n      <td>None</td>\n      <td>None</td>\n      <td>None</td>\n      <td>None</td>\n      <td>None</td>\n      <td>None</td>\n      <td>None</td>\n      <td>None</td>\n      <td>None</td>\n      <td>None</td>\n      <td>None</td>\n      <td>None</td>\n      <td>None</td>\n      <td>None</td>\n      <td>None</td>\n      <td>None</td>\n      <td>None</td>\n      <td>None</td>\n      <td>None</td>\n      <td>None</td>\n      <td>None</td>\n      <td>None</td>\n      <td>None</td>\n      <td>None</td>\n      <td>None</td>\n      <td>None</td>\n      <td>None</td>\n      <td>None</td>\n      <td>None</td>\n      <td>None</td>\n      <td>None</td>\n      <td>None</td>\n      <td>None</td>\n      <td>None</td>\n      <td>None</td>\n      <td>None</td>\n      <td>None</td>\n      <td>None</td>\n      <td>None</td>\n      <td>None</td>\n      <td>None</td>\n      <td>None</td>\n      <td>None</td>\n      <td>None</td>\n      <td>None</td>\n      <td>None</td>\n      <td>None</td>\n      <td>None</td>\n      <td>None</td>\n      <td>None</td>\n      <td>None</td>\n      <td>None</td>\n      <td>None</td>\n      <td>None</td>\n      <td>None</td>\n      <td>None</td>\n      <td>None</td>\n      <td>None</td>\n      <td>None</td>\n      <td>None</td>\n      <td>None</td>\n      <td>None</td>\n      <td>None</td>\n      <td>None</td>\n      <td>None</td>\n      <td>None</td>\n      <td>None</td>\n      <td>None</td>\n      <td>None</td>\n      <td>None</td>\n      <td>None</td>\n      <td>None</td>\n      <td>None</td>\n      <td>None</td>\n      <td>None</td>\n      <td>None</td>\n      <td>None</td>\n      <td>None</td>\n      <td>None</td>\n      <td>None</td>\n      <td>None</td>\n      <td>None</td>\n      <td>None</td>\n      <td>None</td>\n      <td>None</td>\n      <td>None</td>\n      <td>None</td>\n      <td>None</td>\n      <td>None</td>\n      <td>None</td>\n      <td>None</td>\n      <td>None</td>\n      <td>None</td>\n      <td>None</td>\n      <td>None</td>\n      <td>None</td>\n      <td>None</td>\n      <td>None</td>\n      <td>None</td>\n      <td>None</td>\n      <td>None</td>\n      <td>None</td>\n      <td>None</td>\n      <td>None</td>\n      <td>None</td>\n      <td>None</td>\n      <td>None</td>\n      <td>None</td>\n      <td>None</td>\n      <td>None</td>\n      <td>None</td>\n      <td>None</td>\n      <td>None</td>\n      <td>None</td>\n      <td>None</td>\n      <td>None</td>\n      <td>None</td>\n      <td>None</td>\n      <td>None</td>\n      <td>None</td>\n      <td>None</td>\n      <td>None</td>\n      <td>None</td>\n      <td>None</td>\n      <td>None</td>\n      <td>None</td>\n      <td>None</td>\n      <td>None</td>\n      <td>None</td>\n      <td>None</td>\n      <td>None</td>\n      <td>None</td>\n      <td>None</td>\n      <td>None</td>\n      <td>None</td>\n      <td>None</td>\n      <td>None</td>\n      <td>None</td>\n      <td>None</td>\n      <td>None</td>\n      <td>None</td>\n      <td>None</td>\n      <td>None</td>\n      <td>None</td>\n      <td>None</td>\n      <td>None</td>\n      <td>None</td>\n      <td>None</td>\n      <td>None</td>\n      <td>None</td>\n      <td>None</td>\n      <td>None</td>\n      <td>None</td>\n      <td>None</td>\n      <td>None</td>\n      <td>None</td>\n      <td>None</td>\n      <td>None</td>\n      <td>None</td>\n      <td>None</td>\n      <td>None</td>\n      <td>None</td>\n      <td>None</td>\n      <td>None</td>\n      <td>None</td>\n      <td>None</td>\n      <td>None</td>\n      <td>None</td>\n      <td>None</td>\n      <td>None</td>\n      <td>None</td>\n      <td>None</td>\n      <td>None</td>\n      <td>None</td>\n      <td>None</td>\n      <td>4</td>\n    </tr>\n    <tr>\n      <th>2</th>\n      <td>552816932643405824</td>\n      <td>552823532716298240</td>\n      <td>552852220924788736</td>\n      <td>552885622520958976</td>\n      <td>552817493170204672</td>\n      <td>552817741288443905</td>\n      <td>552819314332811266</td>\n      <td>None</td>\n      <td>None</td>\n      <td>None</td>\n      <td>None</td>\n      <td>None</td>\n      <td>None</td>\n      <td>None</td>\n      <td>None</td>\n      <td>None</td>\n      <td>None</td>\n      <td>None</td>\n      <td>None</td>\n      <td>None</td>\n      <td>None</td>\n      <td>None</td>\n      <td>None</td>\n      <td>None</td>\n      <td>None</td>\n      <td>None</td>\n      <td>None</td>\n      <td>None</td>\n      <td>None</td>\n      <td>None</td>\n      <td>None</td>\n      <td>None</td>\n      <td>None</td>\n      <td>None</td>\n      <td>None</td>\n      <td>None</td>\n      <td>None</td>\n      <td>None</td>\n      <td>None</td>\n      <td>None</td>\n      <td>None</td>\n      <td>None</td>\n      <td>None</td>\n      <td>None</td>\n      <td>None</td>\n      <td>None</td>\n      <td>None</td>\n      <td>None</td>\n      <td>None</td>\n      <td>None</td>\n      <td>None</td>\n      <td>None</td>\n      <td>None</td>\n      <td>None</td>\n      <td>None</td>\n      <td>None</td>\n      <td>None</td>\n      <td>None</td>\n      <td>None</td>\n      <td>None</td>\n      <td>None</td>\n      <td>None</td>\n      <td>None</td>\n      <td>None</td>\n      <td>None</td>\n      <td>None</td>\n      <td>None</td>\n      <td>None</td>\n      <td>None</td>\n      <td>None</td>\n      <td>None</td>\n      <td>None</td>\n      <td>None</td>\n      <td>None</td>\n      <td>None</td>\n      <td>None</td>\n      <td>None</td>\n      <td>None</td>\n      <td>None</td>\n      <td>None</td>\n      <td>None</td>\n      <td>None</td>\n      <td>None</td>\n      <td>None</td>\n      <td>None</td>\n      <td>None</td>\n      <td>None</td>\n      <td>None</td>\n      <td>None</td>\n      <td>None</td>\n      <td>None</td>\n      <td>None</td>\n      <td>None</td>\n      <td>None</td>\n      <td>None</td>\n      <td>None</td>\n      <td>None</td>\n      <td>None</td>\n      <td>None</td>\n      <td>None</td>\n      <td>None</td>\n      <td>None</td>\n      <td>None</td>\n      <td>None</td>\n      <td>None</td>\n      <td>None</td>\n      <td>None</td>\n      <td>None</td>\n      <td>None</td>\n      <td>None</td>\n      <td>None</td>\n      <td>None</td>\n      <td>None</td>\n      <td>None</td>\n      <td>None</td>\n      <td>None</td>\n      <td>None</td>\n      <td>None</td>\n      <td>None</td>\n      <td>None</td>\n      <td>None</td>\n      <td>None</td>\n      <td>None</td>\n      <td>None</td>\n      <td>None</td>\n      <td>None</td>\n      <td>None</td>\n      <td>None</td>\n      <td>None</td>\n      <td>None</td>\n      <td>None</td>\n      <td>None</td>\n      <td>None</td>\n      <td>None</td>\n      <td>None</td>\n      <td>None</td>\n      <td>None</td>\n      <td>None</td>\n      <td>None</td>\n      <td>None</td>\n      <td>None</td>\n      <td>None</td>\n      <td>None</td>\n      <td>None</td>\n      <td>None</td>\n      <td>None</td>\n      <td>None</td>\n      <td>None</td>\n      <td>None</td>\n      <td>None</td>\n      <td>None</td>\n      <td>None</td>\n      <td>None</td>\n      <td>None</td>\n      <td>None</td>\n      <td>None</td>\n      <td>None</td>\n      <td>None</td>\n      <td>None</td>\n      <td>None</td>\n      <td>None</td>\n      <td>None</td>\n      <td>None</td>\n      <td>None</td>\n      <td>None</td>\n      <td>None</td>\n      <td>None</td>\n      <td>None</td>\n      <td>None</td>\n      <td>None</td>\n      <td>None</td>\n      <td>None</td>\n      <td>None</td>\n      <td>None</td>\n      <td>None</td>\n      <td>None</td>\n      <td>None</td>\n      <td>None</td>\n      <td>None</td>\n      <td>None</td>\n      <td>None</td>\n      <td>None</td>\n      <td>None</td>\n      <td>None</td>\n      <td>None</td>\n      <td>None</td>\n      <td>None</td>\n      <td>None</td>\n      <td>None</td>\n      <td>None</td>\n      <td>None</td>\n      <td>None</td>\n      <td>None</td>\n      <td>None</td>\n      <td>None</td>\n      <td>None</td>\n      <td>None</td>\n      <td>None</td>\n      <td>None</td>\n      <td>None</td>\n      <td>None</td>\n      <td>None</td>\n      <td>None</td>\n      <td>None</td>\n      <td>None</td>\n      <td>None</td>\n      <td>None</td>\n      <td>None</td>\n      <td>None</td>\n      <td>None</td>\n      <td>None</td>\n      <td>None</td>\n      <td>None</td>\n      <td>None</td>\n      <td>None</td>\n      <td>None</td>\n      <td>None</td>\n      <td>None</td>\n      <td>None</td>\n      <td>None</td>\n      <td>None</td>\n      <td>None</td>\n      <td>None</td>\n      <td>None</td>\n      <td>None</td>\n      <td>None</td>\n      <td>None</td>\n      <td>None</td>\n      <td>None</td>\n      <td>None</td>\n      <td>None</td>\n      <td>None</td>\n      <td>None</td>\n      <td>None</td>\n      <td>None</td>\n      <td>None</td>\n      <td>None</td>\n      <td>None</td>\n      <td>None</td>\n      <td>None</td>\n      <td>None</td>\n      <td>None</td>\n      <td>None</td>\n      <td>None</td>\n      <td>None</td>\n      <td>None</td>\n      <td>None</td>\n      <td>None</td>\n      <td>None</td>\n      <td>None</td>\n      <td>None</td>\n      <td>None</td>\n      <td>None</td>\n      <td>None</td>\n      <td>None</td>\n      <td>None</td>\n      <td>None</td>\n      <td>None</td>\n      <td>None</td>\n      <td>None</td>\n      <td>None</td>\n      <td>None</td>\n      <td>None</td>\n      <td>None</td>\n      <td>None</td>\n      <td>None</td>\n      <td>None</td>\n      <td>None</td>\n      <td>None</td>\n      <td>None</td>\n      <td>None</td>\n      <td>None</td>\n      <td>None</td>\n      <td>None</td>\n      <td>None</td>\n      <td>None</td>\n      <td>None</td>\n      <td>None</td>\n      <td>None</td>\n      <td>None</td>\n      <td>None</td>\n      <td>None</td>\n      <td>None</td>\n      <td>None</td>\n      <td>None</td>\n      <td>None</td>\n      <td>None</td>\n      <td>None</td>\n      <td>None</td>\n      <td>None</td>\n      <td>None</td>\n      <td>None</td>\n      <td>None</td>\n      <td>None</td>\n      <td>None</td>\n      <td>None</td>\n      <td>None</td>\n      <td>None</td>\n      <td>None</td>\n      <td>None</td>\n      <td>None</td>\n      <td>None</td>\n      <td>None</td>\n      <td>None</td>\n      <td>None</td>\n      <td>None</td>\n      <td>None</td>\n      <td>None</td>\n      <td>None</td>\n      <td>None</td>\n      <td>None</td>\n      <td>None</td>\n      <td>None</td>\n      <td>None</td>\n      <td>None</td>\n      <td>None</td>\n      <td>None</td>\n      <td>None</td>\n      <td>None</td>\n      <td>None</td>\n      <td>None</td>\n      <td>None</td>\n      <td>None</td>\n      <td>None</td>\n      <td>None</td>\n      <td>None</td>\n      <td>None</td>\n      <td>None</td>\n      <td>None</td>\n      <td>None</td>\n      <td>None</td>\n      <td>None</td>\n      <td>None</td>\n      <td>None</td>\n      <td>None</td>\n      <td>None</td>\n      <td>None</td>\n      <td>None</td>\n      <td>None</td>\n      <td>None</td>\n      <td>None</td>\n      <td>None</td>\n      <td>None</td>\n      <td>None</td>\n      <td>None</td>\n      <td>None</td>\n      <td>2</td>\n    </tr>\n    <tr>\n      <th>3</th>\n      <td>553515399438811136</td>\n      <td>553516443833495552</td>\n      <td>553523060662611968</td>\n      <td>553520353172267008</td>\n      <td>553516582836928512</td>\n      <td>553943262827143168</td>\n      <td>553516583168253952</td>\n      <td>553522248364343296</td>\n      <td>553979514439888900</td>\n      <td>553529219972468736</td>\n      <td>None</td>\n      <td>None</td>\n      <td>None</td>\n      <td>None</td>\n      <td>None</td>\n      <td>None</td>\n      <td>None</td>\n      <td>None</td>\n      <td>None</td>\n      <td>None</td>\n      <td>None</td>\n      <td>None</td>\n      <td>None</td>\n      <td>None</td>\n      <td>None</td>\n      <td>None</td>\n      <td>None</td>\n      <td>None</td>\n      <td>None</td>\n      <td>None</td>\n      <td>None</td>\n      <td>None</td>\n      <td>None</td>\n      <td>None</td>\n      <td>None</td>\n      <td>None</td>\n      <td>None</td>\n      <td>None</td>\n      <td>None</td>\n      <td>None</td>\n      <td>None</td>\n      <td>None</td>\n      <td>None</td>\n      <td>None</td>\n      <td>None</td>\n      <td>None</td>\n      <td>None</td>\n      <td>None</td>\n      <td>None</td>\n      <td>None</td>\n      <td>None</td>\n      <td>None</td>\n      <td>None</td>\n      <td>None</td>\n      <td>None</td>\n      <td>None</td>\n      <td>None</td>\n      <td>None</td>\n      <td>None</td>\n      <td>None</td>\n      <td>None</td>\n      <td>None</td>\n      <td>None</td>\n      <td>None</td>\n      <td>None</td>\n      <td>None</td>\n      <td>None</td>\n      <td>None</td>\n      <td>None</td>\n      <td>None</td>\n      <td>None</td>\n      <td>None</td>\n      <td>None</td>\n      <td>None</td>\n      <td>None</td>\n      <td>None</td>\n      <td>None</td>\n      <td>None</td>\n      <td>None</td>\n      <td>None</td>\n      <td>None</td>\n      <td>None</td>\n      <td>None</td>\n      <td>None</td>\n      <td>None</td>\n      <td>None</td>\n      <td>None</td>\n      <td>None</td>\n      <td>None</td>\n      <td>None</td>\n      <td>None</td>\n      <td>None</td>\n      <td>None</td>\n      <td>None</td>\n      <td>None</td>\n      <td>None</td>\n      <td>None</td>\n      <td>None</td>\n      <td>None</td>\n      <td>None</td>\n      <td>None</td>\n      <td>None</td>\n      <td>None</td>\n      <td>None</td>\n      <td>None</td>\n      <td>None</td>\n      <td>None</td>\n      <td>None</td>\n      <td>None</td>\n      <td>None</td>\n      <td>None</td>\n      <td>None</td>\n      <td>None</td>\n      <td>None</td>\n      <td>None</td>\n      <td>None</td>\n      <td>None</td>\n      <td>None</td>\n      <td>None</td>\n      <td>None</td>\n      <td>None</td>\n      <td>None</td>\n      <td>None</td>\n      <td>None</td>\n      <td>None</td>\n      <td>None</td>\n      <td>None</td>\n      <td>None</td>\n      <td>None</td>\n      <td>None</td>\n      <td>None</td>\n      <td>None</td>\n      <td>None</td>\n      <td>None</td>\n      <td>None</td>\n      <td>None</td>\n      <td>None</td>\n      <td>None</td>\n      <td>None</td>\n      <td>None</td>\n      <td>None</td>\n      <td>None</td>\n      <td>None</td>\n      <td>None</td>\n      <td>None</td>\n      <td>None</td>\n      <td>None</td>\n      <td>None</td>\n      <td>None</td>\n      <td>None</td>\n      <td>None</td>\n      <td>None</td>\n      <td>None</td>\n      <td>None</td>\n      <td>None</td>\n      <td>None</td>\n      <td>None</td>\n      <td>None</td>\n      <td>None</td>\n      <td>None</td>\n      <td>None</td>\n      <td>None</td>\n      <td>None</td>\n      <td>None</td>\n      <td>None</td>\n      <td>None</td>\n      <td>None</td>\n      <td>None</td>\n      <td>None</td>\n      <td>None</td>\n      <td>None</td>\n      <td>None</td>\n      <td>None</td>\n      <td>None</td>\n      <td>None</td>\n      <td>None</td>\n      <td>None</td>\n      <td>None</td>\n      <td>None</td>\n      <td>None</td>\n      <td>None</td>\n      <td>None</td>\n      <td>None</td>\n      <td>None</td>\n      <td>None</td>\n      <td>None</td>\n      <td>None</td>\n      <td>None</td>\n      <td>None</td>\n      <td>None</td>\n      <td>None</td>\n      <td>None</td>\n      <td>None</td>\n      <td>None</td>\n      <td>None</td>\n      <td>None</td>\n      <td>None</td>\n      <td>None</td>\n      <td>None</td>\n      <td>None</td>\n      <td>None</td>\n      <td>None</td>\n      <td>None</td>\n      <td>None</td>\n      <td>None</td>\n      <td>None</td>\n      <td>None</td>\n      <td>None</td>\n      <td>None</td>\n      <td>None</td>\n      <td>None</td>\n      <td>None</td>\n      <td>None</td>\n      <td>None</td>\n      <td>None</td>\n      <td>None</td>\n      <td>None</td>\n      <td>None</td>\n      <td>None</td>\n      <td>None</td>\n      <td>None</td>\n      <td>None</td>\n      <td>None</td>\n      <td>None</td>\n      <td>None</td>\n      <td>None</td>\n      <td>None</td>\n      <td>None</td>\n      <td>None</td>\n      <td>None</td>\n      <td>None</td>\n      <td>None</td>\n      <td>None</td>\n      <td>None</td>\n      <td>None</td>\n      <td>None</td>\n      <td>None</td>\n      <td>None</td>\n      <td>None</td>\n      <td>None</td>\n      <td>None</td>\n      <td>None</td>\n      <td>None</td>\n      <td>None</td>\n      <td>None</td>\n      <td>None</td>\n      <td>None</td>\n      <td>None</td>\n      <td>None</td>\n      <td>None</td>\n      <td>None</td>\n      <td>None</td>\n      <td>None</td>\n      <td>None</td>\n      <td>None</td>\n      <td>None</td>\n      <td>None</td>\n      <td>None</td>\n      <td>None</td>\n      <td>None</td>\n      <td>None</td>\n      <td>None</td>\n      <td>None</td>\n      <td>None</td>\n      <td>None</td>\n      <td>None</td>\n      <td>None</td>\n      <td>None</td>\n      <td>None</td>\n      <td>None</td>\n      <td>None</td>\n      <td>None</td>\n      <td>None</td>\n      <td>None</td>\n      <td>None</td>\n      <td>None</td>\n      <td>None</td>\n      <td>None</td>\n      <td>None</td>\n      <td>None</td>\n      <td>None</td>\n      <td>None</td>\n      <td>None</td>\n      <td>None</td>\n      <td>None</td>\n      <td>None</td>\n      <td>None</td>\n      <td>None</td>\n      <td>None</td>\n      <td>None</td>\n      <td>None</td>\n      <td>None</td>\n      <td>None</td>\n      <td>None</td>\n      <td>None</td>\n      <td>None</td>\n      <td>None</td>\n      <td>None</td>\n      <td>None</td>\n      <td>None</td>\n      <td>None</td>\n      <td>None</td>\n      <td>None</td>\n      <td>None</td>\n      <td>None</td>\n      <td>None</td>\n      <td>None</td>\n      <td>None</td>\n      <td>None</td>\n      <td>None</td>\n      <td>None</td>\n      <td>None</td>\n      <td>None</td>\n      <td>None</td>\n      <td>None</td>\n      <td>None</td>\n      <td>None</td>\n      <td>None</td>\n      <td>None</td>\n      <td>None</td>\n      <td>None</td>\n      <td>None</td>\n      <td>None</td>\n      <td>None</td>\n      <td>None</td>\n      <td>None</td>\n      <td>None</td>\n      <td>None</td>\n      <td>None</td>\n      <td>None</td>\n      <td>None</td>\n      <td>None</td>\n      <td>None</td>\n      <td>None</td>\n      <td>None</td>\n      <td>None</td>\n      <td>None</td>\n      <td>None</td>\n      <td>None</td>\n      <td>None</td>\n      <td>None</td>\n      <td>None</td>\n      <td>None</td>\n      <td>None</td>\n      <td>None</td>\n      <td>None</td>\n      <td>3</td>\n    </tr>\n    <tr>\n      <th>4</th>\n      <td>552808620187217920</td>\n      <td>552809691311775746</td>\n      <td>552809447668457473</td>\n      <td>552809551364624384</td>\n      <td>552814199706230784</td>\n      <td>None</td>\n      <td>None</td>\n      <td>None</td>\n      <td>None</td>\n      <td>None</td>\n      <td>None</td>\n      <td>None</td>\n      <td>None</td>\n      <td>None</td>\n      <td>None</td>\n      <td>None</td>\n      <td>None</td>\n      <td>None</td>\n      <td>None</td>\n      <td>None</td>\n      <td>None</td>\n      <td>None</td>\n      <td>None</td>\n      <td>None</td>\n      <td>None</td>\n      <td>None</td>\n      <td>None</td>\n      <td>None</td>\n      <td>None</td>\n      <td>None</td>\n      <td>None</td>\n      <td>None</td>\n      <td>None</td>\n      <td>None</td>\n      <td>None</td>\n      <td>None</td>\n      <td>None</td>\n      <td>None</td>\n      <td>None</td>\n      <td>None</td>\n      <td>None</td>\n      <td>None</td>\n      <td>None</td>\n      <td>None</td>\n      <td>None</td>\n      <td>None</td>\n      <td>None</td>\n      <td>None</td>\n      <td>None</td>\n      <td>None</td>\n      <td>None</td>\n      <td>None</td>\n      <td>None</td>\n      <td>None</td>\n      <td>None</td>\n      <td>None</td>\n      <td>None</td>\n      <td>None</td>\n      <td>None</td>\n      <td>None</td>\n      <td>None</td>\n      <td>None</td>\n      <td>None</td>\n      <td>None</td>\n      <td>None</td>\n      <td>None</td>\n      <td>None</td>\n      <td>None</td>\n      <td>None</td>\n      <td>None</td>\n      <td>None</td>\n      <td>None</td>\n      <td>None</td>\n      <td>None</td>\n      <td>None</td>\n      <td>None</td>\n      <td>None</td>\n      <td>None</td>\n      <td>None</td>\n      <td>None</td>\n      <td>None</td>\n      <td>None</td>\n      <td>None</td>\n      <td>None</td>\n      <td>None</td>\n      <td>None</td>\n      <td>None</td>\n      <td>None</td>\n      <td>None</td>\n      <td>None</td>\n      <td>None</td>\n      <td>None</td>\n      <td>None</td>\n      <td>None</td>\n      <td>None</td>\n      <td>None</td>\n      <td>None</td>\n      <td>None</td>\n      <td>None</td>\n      <td>None</td>\n      <td>None</td>\n      <td>None</td>\n      <td>None</td>\n      <td>None</td>\n      <td>None</td>\n      <td>None</td>\n      <td>None</td>\n      <td>None</td>\n      <td>None</td>\n      <td>None</td>\n      <td>None</td>\n      <td>None</td>\n      <td>None</td>\n      <td>None</td>\n      <td>None</td>\n      <td>None</td>\n      <td>None</td>\n      <td>None</td>\n      <td>None</td>\n      <td>None</td>\n      <td>None</td>\n      <td>None</td>\n      <td>None</td>\n      <td>None</td>\n      <td>None</td>\n      <td>None</td>\n      <td>None</td>\n      <td>None</td>\n      <td>None</td>\n      <td>None</td>\n      <td>None</td>\n      <td>None</td>\n      <td>None</td>\n      <td>None</td>\n      <td>None</td>\n      <td>None</td>\n      <td>None</td>\n      <td>None</td>\n      <td>None</td>\n      <td>None</td>\n      <td>None</td>\n      <td>None</td>\n      <td>None</td>\n      <td>None</td>\n      <td>None</td>\n      <td>None</td>\n      <td>None</td>\n      <td>None</td>\n      <td>None</td>\n      <td>None</td>\n      <td>None</td>\n      <td>None</td>\n      <td>None</td>\n      <td>None</td>\n      <td>None</td>\n      <td>None</td>\n      <td>None</td>\n      <td>None</td>\n      <td>None</td>\n      <td>None</td>\n      <td>None</td>\n      <td>None</td>\n      <td>None</td>\n      <td>None</td>\n      <td>None</td>\n      <td>None</td>\n      <td>None</td>\n      <td>None</td>\n      <td>None</td>\n      <td>None</td>\n      <td>None</td>\n      <td>None</td>\n      <td>None</td>\n      <td>None</td>\n      <td>None</td>\n      <td>None</td>\n      <td>None</td>\n      <td>None</td>\n      <td>None</td>\n      <td>None</td>\n      <td>None</td>\n      <td>None</td>\n      <td>None</td>\n      <td>None</td>\n      <td>None</td>\n      <td>None</td>\n      <td>None</td>\n      <td>None</td>\n      <td>None</td>\n      <td>None</td>\n      <td>None</td>\n      <td>None</td>\n      <td>None</td>\n      <td>None</td>\n      <td>None</td>\n      <td>None</td>\n      <td>None</td>\n      <td>None</td>\n      <td>None</td>\n      <td>None</td>\n      <td>None</td>\n      <td>None</td>\n      <td>None</td>\n      <td>None</td>\n      <td>None</td>\n      <td>None</td>\n      <td>None</td>\n      <td>None</td>\n      <td>None</td>\n      <td>None</td>\n      <td>None</td>\n      <td>None</td>\n      <td>None</td>\n      <td>None</td>\n      <td>None</td>\n      <td>None</td>\n      <td>None</td>\n      <td>None</td>\n      <td>None</td>\n      <td>None</td>\n      <td>None</td>\n      <td>None</td>\n      <td>None</td>\n      <td>None</td>\n      <td>None</td>\n      <td>None</td>\n      <td>None</td>\n      <td>None</td>\n      <td>None</td>\n      <td>None</td>\n      <td>None</td>\n      <td>None</td>\n      <td>None</td>\n      <td>None</td>\n      <td>None</td>\n      <td>None</td>\n      <td>None</td>\n      <td>None</td>\n      <td>None</td>\n      <td>None</td>\n      <td>None</td>\n      <td>None</td>\n      <td>None</td>\n      <td>None</td>\n      <td>None</td>\n      <td>None</td>\n      <td>None</td>\n      <td>None</td>\n      <td>None</td>\n      <td>None</td>\n      <td>None</td>\n      <td>None</td>\n      <td>None</td>\n      <td>None</td>\n      <td>None</td>\n      <td>None</td>\n      <td>None</td>\n      <td>None</td>\n      <td>None</td>\n      <td>None</td>\n      <td>None</td>\n      <td>None</td>\n      <td>None</td>\n      <td>None</td>\n      <td>None</td>\n      <td>None</td>\n      <td>None</td>\n      <td>None</td>\n      <td>None</td>\n      <td>None</td>\n      <td>None</td>\n      <td>None</td>\n      <td>None</td>\n      <td>None</td>\n      <td>None</td>\n      <td>None</td>\n      <td>None</td>\n      <td>None</td>\n      <td>None</td>\n      <td>None</td>\n      <td>None</td>\n      <td>None</td>\n      <td>None</td>\n      <td>None</td>\n      <td>None</td>\n      <td>None</td>\n      <td>None</td>\n      <td>None</td>\n      <td>None</td>\n      <td>None</td>\n      <td>None</td>\n      <td>None</td>\n      <td>None</td>\n      <td>None</td>\n      <td>None</td>\n      <td>None</td>\n      <td>None</td>\n      <td>None</td>\n      <td>None</td>\n      <td>None</td>\n      <td>None</td>\n      <td>None</td>\n      <td>None</td>\n      <td>None</td>\n      <td>None</td>\n      <td>None</td>\n      <td>None</td>\n      <td>None</td>\n      <td>None</td>\n      <td>None</td>\n      <td>None</td>\n      <td>None</td>\n      <td>None</td>\n      <td>None</td>\n      <td>None</td>\n      <td>None</td>\n      <td>None</td>\n      <td>None</td>\n      <td>None</td>\n      <td>None</td>\n      <td>None</td>\n      <td>None</td>\n      <td>None</td>\n      <td>None</td>\n      <td>None</td>\n      <td>None</td>\n      <td>None</td>\n      <td>None</td>\n      <td>None</td>\n      <td>None</td>\n      <td>None</td>\n      <td>None</td>\n      <td>None</td>\n      <td>None</td>\n      <td>None</td>\n      <td>None</td>\n      <td>None</td>\n      <td>None</td>\n      <td>None</td>\n      <td>None</td>\n      <td>None</td>\n      <td>None</td>\n      <td>None</td>\n      <td>None</td>\n      <td>None</td>\n      <td>None</td>\n      <td>2</td>\n    </tr>\n    <tr>\n      <th>...</th>\n      <td>...</td>\n      <td>...</td>\n      <td>...</td>\n      <td>...</td>\n      <td>...</td>\n      <td>...</td>\n      <td>...</td>\n      <td>...</td>\n      <td>...</td>\n      <td>...</td>\n      <td>...</td>\n      <td>...</td>\n      <td>...</td>\n      <td>...</td>\n      <td>...</td>\n      <td>...</td>\n      <td>...</td>\n      <td>...</td>\n      <td>...</td>\n      <td>...</td>\n      <td>...</td>\n      <td>...</td>\n      <td>...</td>\n      <td>...</td>\n      <td>...</td>\n      <td>...</td>\n      <td>...</td>\n      <td>...</td>\n      <td>...</td>\n      <td>...</td>\n      <td>...</td>\n      <td>...</td>\n      <td>...</td>\n      <td>...</td>\n      <td>...</td>\n      <td>...</td>\n      <td>...</td>\n      <td>...</td>\n      <td>...</td>\n      <td>...</td>\n      <td>...</td>\n      <td>...</td>\n      <td>...</td>\n      <td>...</td>\n      <td>...</td>\n      <td>...</td>\n      <td>...</td>\n      <td>...</td>\n      <td>...</td>\n      <td>...</td>\n      <td>...</td>\n      <td>...</td>\n      <td>...</td>\n      <td>...</td>\n      <td>...</td>\n      <td>...</td>\n      <td>...</td>\n      <td>...</td>\n      <td>...</td>\n      <td>...</td>\n      <td>...</td>\n      <td>...</td>\n      <td>...</td>\n      <td>...</td>\n      <td>...</td>\n      <td>...</td>\n      <td>...</td>\n      <td>...</td>\n      <td>...</td>\n      <td>...</td>\n      <td>...</td>\n      <td>...</td>\n      <td>...</td>\n      <td>...</td>\n      <td>...</td>\n      <td>...</td>\n      <td>...</td>\n      <td>...</td>\n      <td>...</td>\n      <td>...</td>\n      <td>...</td>\n      <td>...</td>\n      <td>...</td>\n      <td>...</td>\n      <td>...</td>\n      <td>...</td>\n      <td>...</td>\n      <td>...</td>\n      <td>...</td>\n      <td>...</td>\n      <td>...</td>\n      <td>...</td>\n      <td>...</td>\n      <td>...</td>\n      <td>...</td>\n      <td>...</td>\n      <td>...</td>\n      <td>...</td>\n      <td>...</td>\n      <td>...</td>\n      <td>...</td>\n      <td>...</td>\n      <td>...</td>\n      <td>...</td>\n      <td>...</td>\n      <td>...</td>\n      <td>...</td>\n      <td>...</td>\n      <td>...</td>\n      <td>...</td>\n      <td>...</td>\n      <td>...</td>\n      <td>...</td>\n      <td>...</td>\n      <td>...</td>\n      <td>...</td>\n      <td>...</td>\n      <td>...</td>\n      <td>...</td>\n      <td>...</td>\n      <td>...</td>\n      <td>...</td>\n      <td>...</td>\n      <td>...</td>\n      <td>...</td>\n      <td>...</td>\n      <td>...</td>\n      <td>...</td>\n      <td>...</td>\n      <td>...</td>\n      <td>...</td>\n      <td>...</td>\n      <td>...</td>\n      <td>...</td>\n      <td>...</td>\n      <td>...</td>\n      <td>...</td>\n      <td>...</td>\n      <td>...</td>\n      <td>...</td>\n      <td>...</td>\n      <td>...</td>\n      <td>...</td>\n      <td>...</td>\n      <td>...</td>\n      <td>...</td>\n      <td>...</td>\n      <td>...</td>\n      <td>...</td>\n      <td>...</td>\n      <td>...</td>\n      <td>...</td>\n      <td>...</td>\n      <td>...</td>\n      <td>...</td>\n      <td>...</td>\n      <td>...</td>\n      <td>...</td>\n      <td>...</td>\n      <td>...</td>\n      <td>...</td>\n      <td>...</td>\n      <td>...</td>\n      <td>...</td>\n      <td>...</td>\n      <td>...</td>\n      <td>...</td>\n      <td>...</td>\n      <td>...</td>\n      <td>...</td>\n      <td>...</td>\n      <td>...</td>\n      <td>...</td>\n      <td>...</td>\n      <td>...</td>\n      <td>...</td>\n      <td>...</td>\n      <td>...</td>\n      <td>...</td>\n      <td>...</td>\n      <td>...</td>\n      <td>...</td>\n      <td>...</td>\n      <td>...</td>\n      <td>...</td>\n      <td>...</td>\n      <td>...</td>\n      <td>...</td>\n      <td>...</td>\n      <td>...</td>\n      <td>...</td>\n      <td>...</td>\n      <td>...</td>\n      <td>...</td>\n      <td>...</td>\n      <td>...</td>\n      <td>...</td>\n      <td>...</td>\n      <td>...</td>\n      <td>...</td>\n      <td>...</td>\n      <td>...</td>\n      <td>...</td>\n      <td>...</td>\n      <td>...</td>\n      <td>...</td>\n      <td>...</td>\n      <td>...</td>\n      <td>...</td>\n      <td>...</td>\n      <td>...</td>\n      <td>...</td>\n      <td>...</td>\n      <td>...</td>\n      <td>...</td>\n      <td>...</td>\n      <td>...</td>\n      <td>...</td>\n      <td>...</td>\n      <td>...</td>\n      <td>...</td>\n      <td>...</td>\n      <td>...</td>\n      <td>...</td>\n      <td>...</td>\n      <td>...</td>\n      <td>...</td>\n      <td>...</td>\n      <td>...</td>\n      <td>...</td>\n      <td>...</td>\n      <td>...</td>\n      <td>...</td>\n      <td>...</td>\n      <td>...</td>\n      <td>...</td>\n      <td>...</td>\n      <td>...</td>\n      <td>...</td>\n      <td>...</td>\n      <td>...</td>\n      <td>...</td>\n      <td>...</td>\n      <td>...</td>\n      <td>...</td>\n      <td>...</td>\n      <td>...</td>\n      <td>...</td>\n      <td>...</td>\n      <td>...</td>\n      <td>...</td>\n      <td>...</td>\n      <td>...</td>\n      <td>...</td>\n      <td>...</td>\n      <td>...</td>\n      <td>...</td>\n      <td>...</td>\n      <td>...</td>\n      <td>...</td>\n      <td>...</td>\n      <td>...</td>\n      <td>...</td>\n      <td>...</td>\n      <td>...</td>\n      <td>...</td>\n      <td>...</td>\n      <td>...</td>\n      <td>...</td>\n      <td>...</td>\n      <td>...</td>\n      <td>...</td>\n      <td>...</td>\n      <td>...</td>\n      <td>...</td>\n      <td>...</td>\n      <td>...</td>\n      <td>...</td>\n      <td>...</td>\n      <td>...</td>\n      <td>...</td>\n      <td>...</td>\n      <td>...</td>\n      <td>...</td>\n      <td>...</td>\n      <td>...</td>\n      <td>...</td>\n      <td>...</td>\n      <td>...</td>\n      <td>...</td>\n      <td>...</td>\n      <td>...</td>\n      <td>...</td>\n      <td>...</td>\n      <td>...</td>\n      <td>...</td>\n      <td>...</td>\n      <td>...</td>\n      <td>...</td>\n      <td>...</td>\n      <td>...</td>\n      <td>...</td>\n      <td>...</td>\n      <td>...</td>\n      <td>...</td>\n      <td>...</td>\n      <td>...</td>\n      <td>...</td>\n      <td>...</td>\n      <td>...</td>\n      <td>...</td>\n      <td>...</td>\n      <td>...</td>\n      <td>...</td>\n      <td>...</td>\n      <td>...</td>\n      <td>...</td>\n      <td>...</td>\n      <td>...</td>\n      <td>...</td>\n      <td>...</td>\n      <td>...</td>\n      <td>...</td>\n      <td>...</td>\n      <td>...</td>\n      <td>...</td>\n      <td>...</td>\n      <td>...</td>\n      <td>...</td>\n      <td>...</td>\n      <td>...</td>\n      <td>...</td>\n      <td>...</td>\n      <td>...</td>\n      <td>...</td>\n      <td>...</td>\n      <td>...</td>\n      <td>...</td>\n      <td>...</td>\n      <td>...</td>\n      <td>...</td>\n      <td>...</td>\n      <td>...</td>\n      <td>...</td>\n      <td>...</td>\n      <td>...</td>\n      <td>...</td>\n    </tr>\n    <tr>\n      <th>5797</th>\n      <td>544463778780557312</td>\n      <td>544473650309890048</td>\n      <td>544483200735526912</td>\n      <td>544494908392763392</td>\n      <td>544478943899025408</td>\n      <td>544476804137123840</td>\n      <td>544488274530541568</td>\n      <td>544486617709178880</td>\n      <td>544484236992864256</td>\n      <td>544465003223728128</td>\n      <td>544514927788961792</td>\n      <td>544513605836607488</td>\n      <td>544496856739246080</td>\n      <td>544557597852856320</td>\n      <td>544500215236284416</td>\n      <td>544476576025677825</td>\n      <td>544486729260863488</td>\n      <td>544483262081818624</td>\n      <td>544513491663466497</td>\n      <td>544477207343931392</td>\n      <td>544475703811801088</td>\n      <td>544488545725861888</td>\n      <td>544501639487713280</td>\n      <td>544502491195256832</td>\n      <td>544468256870772737</td>\n      <td>544475397166211075</td>\n      <td>544493100903579649</td>\n      <td>544690153654980608</td>\n      <td>544493666015150080</td>\n      <td>544495170075770882</td>\n      <td>544573390044942336</td>\n      <td>544496551260061696</td>\n      <td>544465917409652736</td>\n      <td>544498000840519680</td>\n      <td>544490889465573376</td>\n      <td>544497833517535232</td>\n      <td>544495766191218688</td>\n      <td>544495483079913472</td>\n      <td>544494276873551872</td>\n      <td>544501825626701824</td>\n      <td>544493934898982912</td>\n      <td>544485016504258560</td>\n      <td>544482941943173120</td>\n      <td>544489629835984896</td>\n      <td>544498126087000064</td>\n      <td>544497542478958592</td>\n      <td>544478198344728576</td>\n      <td>544465923080720384</td>\n      <td>544501426223726592</td>\n      <td>544492558010052608</td>\n      <td>544557704073588736</td>\n      <td>544495085606699008</td>\n      <td>544494823709736960</td>\n      <td>544620307852439552</td>\n      <td>544501612673134592</td>\n      <td>544496566258503681</td>\n      <td>544473977369137152</td>\n      <td>544530260533186561</td>\n      <td>544475211652153344</td>\n      <td>544495324824629249</td>\n      <td>544478765880197120</td>\n      <td>544477209516601344</td>\n      <td>544494898742046722</td>\n      <td>544492853670318081</td>\n      <td>544479755815636993</td>\n      <td>544483899431079936</td>\n      <td>544493205585403905</td>\n      <td>544491205690945536</td>\n      <td>544495355081928704</td>\n      <td>544501088137662464</td>\n      <td>544471773719584768</td>\n      <td>544497581985120256</td>\n      <td>544499619489931266</td>\n      <td>544497040202268672</td>\n      <td>544470068319379456</td>\n      <td>544470532955971584</td>\n      <td>544488517020053504</td>\n      <td>544471036037591041</td>\n      <td>544488734922518528</td>\n      <td>544507807685308418</td>\n      <td>544502160742834177</td>\n      <td>544480727111598082</td>\n      <td>544465027928166400</td>\n      <td>544494939842023425</td>\n      <td>544467535404752896</td>\n      <td>544476135367909376</td>\n      <td>544492345010692096</td>\n      <td>None</td>\n      <td>None</td>\n      <td>None</td>\n      <td>None</td>\n      <td>None</td>\n      <td>None</td>\n      <td>None</td>\n      <td>None</td>\n      <td>None</td>\n      <td>None</td>\n      <td>None</td>\n      <td>None</td>\n      <td>None</td>\n      <td>None</td>\n      <td>None</td>\n      <td>None</td>\n      <td>None</td>\n      <td>None</td>\n      <td>None</td>\n      <td>None</td>\n      <td>None</td>\n      <td>None</td>\n      <td>None</td>\n      <td>None</td>\n      <td>None</td>\n      <td>None</td>\n      <td>None</td>\n      <td>None</td>\n      <td>None</td>\n      <td>None</td>\n      <td>None</td>\n      <td>None</td>\n      <td>None</td>\n      <td>None</td>\n      <td>None</td>\n      <td>None</td>\n      <td>None</td>\n      <td>None</td>\n      <td>None</td>\n      <td>None</td>\n      <td>None</td>\n      <td>None</td>\n      <td>None</td>\n      <td>None</td>\n      <td>None</td>\n      <td>None</td>\n      <td>None</td>\n      <td>None</td>\n      <td>None</td>\n      <td>None</td>\n      <td>None</td>\n      <td>None</td>\n      <td>None</td>\n      <td>None</td>\n      <td>None</td>\n      <td>None</td>\n      <td>None</td>\n      <td>None</td>\n      <td>None</td>\n      <td>None</td>\n      <td>None</td>\n      <td>None</td>\n      <td>None</td>\n      <td>None</td>\n      <td>None</td>\n      <td>None</td>\n      <td>None</td>\n      <td>None</td>\n      <td>None</td>\n      <td>None</td>\n      <td>None</td>\n      <td>None</td>\n      <td>None</td>\n      <td>None</td>\n      <td>None</td>\n      <td>None</td>\n      <td>None</td>\n      <td>None</td>\n      <td>None</td>\n      <td>None</td>\n      <td>None</td>\n      <td>None</td>\n      <td>None</td>\n      <td>None</td>\n      <td>None</td>\n      <td>None</td>\n      <td>None</td>\n      <td>None</td>\n      <td>None</td>\n      <td>None</td>\n      <td>None</td>\n      <td>None</td>\n      <td>None</td>\n      <td>None</td>\n      <td>None</td>\n      <td>None</td>\n      <td>None</td>\n      <td>None</td>\n      <td>None</td>\n      <td>None</td>\n      <td>None</td>\n      <td>None</td>\n      <td>None</td>\n      <td>None</td>\n      <td>None</td>\n      <td>None</td>\n      <td>None</td>\n      <td>None</td>\n      <td>None</td>\n      <td>None</td>\n      <td>None</td>\n      <td>None</td>\n      <td>None</td>\n      <td>None</td>\n      <td>None</td>\n      <td>None</td>\n      <td>None</td>\n      <td>None</td>\n      <td>None</td>\n      <td>None</td>\n      <td>None</td>\n      <td>None</td>\n      <td>None</td>\n      <td>None</td>\n      <td>None</td>\n      <td>None</td>\n      <td>None</td>\n      <td>None</td>\n      <td>None</td>\n      <td>None</td>\n      <td>None</td>\n      <td>None</td>\n      <td>None</td>\n      <td>None</td>\n      <td>None</td>\n      <td>None</td>\n      <td>None</td>\n      <td>None</td>\n      <td>None</td>\n      <td>None</td>\n      <td>None</td>\n      <td>None</td>\n      <td>None</td>\n      <td>None</td>\n      <td>None</td>\n      <td>None</td>\n      <td>None</td>\n      <td>None</td>\n      <td>None</td>\n      <td>None</td>\n      <td>None</td>\n      <td>None</td>\n      <td>None</td>\n      <td>None</td>\n      <td>None</td>\n      <td>None</td>\n      <td>None</td>\n      <td>None</td>\n      <td>None</td>\n      <td>None</td>\n      <td>None</td>\n      <td>None</td>\n      <td>None</td>\n      <td>None</td>\n      <td>None</td>\n      <td>None</td>\n      <td>None</td>\n      <td>None</td>\n      <td>None</td>\n      <td>None</td>\n      <td>None</td>\n      <td>None</td>\n      <td>None</td>\n      <td>None</td>\n      <td>None</td>\n      <td>None</td>\n      <td>None</td>\n      <td>None</td>\n      <td>None</td>\n      <td>None</td>\n      <td>None</td>\n      <td>None</td>\n      <td>None</td>\n      <td>None</td>\n      <td>None</td>\n      <td>None</td>\n      <td>None</td>\n      <td>None</td>\n      <td>None</td>\n      <td>None</td>\n      <td>None</td>\n      <td>None</td>\n      <td>None</td>\n      <td>None</td>\n      <td>None</td>\n      <td>None</td>\n      <td>None</td>\n      <td>None</td>\n      <td>None</td>\n      <td>None</td>\n      <td>None</td>\n      <td>None</td>\n      <td>None</td>\n      <td>None</td>\n      <td>None</td>\n      <td>None</td>\n      <td>None</td>\n      <td>None</td>\n      <td>None</td>\n      <td>None</td>\n      <td>None</td>\n      <td>None</td>\n      <td>None</td>\n      <td>None</td>\n      <td>None</td>\n      <td>None</td>\n      <td>None</td>\n      <td>None</td>\n      <td>None</td>\n      <td>None</td>\n      <td>None</td>\n      <td>None</td>\n      <td>None</td>\n      <td>None</td>\n      <td>None</td>\n      <td>None</td>\n      <td>None</td>\n      <td>None</td>\n      <td>None</td>\n      <td>None</td>\n      <td>None</td>\n      <td>None</td>\n      <td>None</td>\n      <td>None</td>\n      <td>None</td>\n      <td>None</td>\n      <td>None</td>\n      <td>None</td>\n      <td>None</td>\n      <td>None</td>\n      <td>None</td>\n      <td>None</td>\n      <td>None</td>\n      <td>None</td>\n      <td>None</td>\n      <td>None</td>\n      <td>None</td>\n      <td>None</td>\n      <td>None</td>\n      <td>None</td>\n      <td>None</td>\n      <td>None</td>\n      <td>None</td>\n      <td>None</td>\n      <td>None</td>\n      <td>None</td>\n      <td>None</td>\n      <td>None</td>\n      <td>None</td>\n      <td>20</td>\n    </tr>\n    <tr>\n      <th>5798</th>\n      <td>544305018439204864</td>\n      <td>544315210702794752</td>\n      <td>544310135120592896</td>\n      <td>544450933745541120</td>\n      <td>544732351524536320</td>\n      <td>544732885539094528</td>\n      <td>544305231107198978</td>\n      <td>544733008826470400</td>\n      <td>544731625050099712</td>\n      <td>544317627263647744</td>\n      <td>544307419199729664</td>\n      <td>544731699863900160</td>\n      <td>544314712461434880</td>\n      <td>544732305227804672</td>\n      <td>544342856064720896</td>\n      <td>544306061147389952</td>\n      <td>544733901068185600</td>\n      <td>544305476138057730</td>\n      <td>544733382329262080</td>\n      <td>544730116837113857</td>\n      <td>544681271746899968</td>\n      <td>544731280290906112</td>\n      <td>544308460817362944</td>\n      <td>544306253736841216</td>\n      <td>544733198329344000</td>\n      <td>544732442385342464</td>\n      <td>544730153377861632</td>\n      <td>544730817252315136</td>\n      <td>544317184701251584</td>\n      <td>544732076407537666</td>\n      <td>544733677520187392</td>\n      <td>544732565832482816</td>\n      <td>544353253106786305</td>\n      <td>544733768750469120</td>\n      <td>544732204837130241</td>\n      <td>544681678246252545</td>\n      <td>544732161098936320</td>\n      <td>544345538465136640</td>\n      <td>544731755044143105</td>\n      <td>544733949474668544</td>\n      <td>544732253319094272</td>\n      <td>544346548310921216</td>\n      <td>544450553208930305</td>\n      <td>544346957310091264</td>\n      <td>544345005868191744</td>\n      <td>544323831305752576</td>\n      <td>544306640762458112</td>\n      <td>544733333306245120</td>\n      <td>544732022405885952</td>\n      <td>544574634642137089</td>\n      <td>544733301303676928</td>\n      <td>544316744987594755</td>\n      <td>544733924778590208</td>\n      <td>544733866230296576</td>\n      <td>544730920243453952</td>\n      <td>544305941798477824</td>\n      <td>544315080041435136</td>\n      <td>544316071994347521</td>\n      <td>544305711430127616</td>\n      <td>544310549228425216</td>\n      <td>544308993619816448</td>\n      <td>544733032796921857</td>\n      <td>544704828493279232</td>\n      <td>544305815927394304</td>\n      <td>544733829706293249</td>\n      <td>544733553456844800</td>\n      <td>544731515322916864</td>\n      <td>544730290393219072</td>\n      <td>544731876859318272</td>\n      <td>544732619347619840</td>\n      <td>544307963100667904</td>\n      <td>544731021074505728</td>\n      <td>544305156758994944</td>\n      <td>544729954798555136</td>\n      <td>544731613075357697</td>\n      <td>544730649203322880</td>\n      <td>544733736919912448</td>\n      <td>544731418052816897</td>\n      <td>544732060561461249</td>\n      <td>544306010781806594</td>\n      <td>544730925511483392</td>\n      <td>544731786472087553</td>\n      <td>544732914924417025</td>\n      <td>544705174317846528</td>\n      <td>544731405901905920</td>\n      <td>544323294514520064</td>\n      <td>544732553203429377</td>\n      <td>544731899357569024</td>\n      <td>544733153462853632</td>\n      <td>544306150418956288</td>\n      <td>544732767268126721</td>\n      <td>544582091456147458</td>\n      <td>544305358412324864</td>\n      <td>544546180274077697</td>\n      <td>544306235835957249</td>\n      <td>544686998880268288</td>\n      <td>544574063461810176</td>\n      <td>544731165413081088</td>\n      <td>544733689046122496</td>\n      <td>544535472312053760</td>\n      <td>544309726033375232</td>\n      <td>544867340362727424</td>\n      <td>544305766430416898</td>\n      <td>544450625048956929</td>\n      <td>544306392463851520</td>\n      <td>544732667384979456</td>\n      <td>544548015047184384</td>\n      <td>None</td>\n      <td>None</td>\n      <td>None</td>\n      <td>None</td>\n      <td>None</td>\n      <td>None</td>\n      <td>None</td>\n      <td>None</td>\n      <td>None</td>\n      <td>None</td>\n      <td>None</td>\n      <td>None</td>\n      <td>None</td>\n      <td>None</td>\n      <td>None</td>\n      <td>None</td>\n      <td>None</td>\n      <td>None</td>\n      <td>None</td>\n      <td>None</td>\n      <td>None</td>\n      <td>None</td>\n      <td>None</td>\n      <td>None</td>\n      <td>None</td>\n      <td>None</td>\n      <td>None</td>\n      <td>None</td>\n      <td>None</td>\n      <td>None</td>\n      <td>None</td>\n      <td>None</td>\n      <td>None</td>\n      <td>None</td>\n      <td>None</td>\n      <td>None</td>\n      <td>None</td>\n      <td>None</td>\n      <td>None</td>\n      <td>None</td>\n      <td>None</td>\n      <td>None</td>\n      <td>None</td>\n      <td>None</td>\n      <td>None</td>\n      <td>None</td>\n      <td>None</td>\n      <td>None</td>\n      <td>None</td>\n      <td>None</td>\n      <td>None</td>\n      <td>None</td>\n      <td>None</td>\n      <td>None</td>\n      <td>None</td>\n      <td>None</td>\n      <td>None</td>\n      <td>None</td>\n      <td>None</td>\n      <td>None</td>\n      <td>None</td>\n      <td>None</td>\n      <td>None</td>\n      <td>None</td>\n      <td>None</td>\n      <td>None</td>\n      <td>None</td>\n      <td>None</td>\n      <td>None</td>\n      <td>None</td>\n      <td>None</td>\n      <td>None</td>\n      <td>None</td>\n      <td>None</td>\n      <td>None</td>\n      <td>None</td>\n      <td>None</td>\n      <td>None</td>\n      <td>None</td>\n      <td>None</td>\n      <td>None</td>\n      <td>None</td>\n      <td>None</td>\n      <td>None</td>\n      <td>None</td>\n      <td>None</td>\n      <td>None</td>\n      <td>None</td>\n      <td>None</td>\n      <td>None</td>\n      <td>None</td>\n      <td>None</td>\n      <td>None</td>\n      <td>None</td>\n      <td>None</td>\n      <td>None</td>\n      <td>None</td>\n      <td>None</td>\n      <td>None</td>\n      <td>None</td>\n      <td>None</td>\n      <td>None</td>\n      <td>None</td>\n      <td>None</td>\n      <td>None</td>\n      <td>None</td>\n      <td>None</td>\n      <td>None</td>\n      <td>None</td>\n      <td>None</td>\n      <td>None</td>\n      <td>None</td>\n      <td>None</td>\n      <td>None</td>\n      <td>None</td>\n      <td>None</td>\n      <td>None</td>\n      <td>None</td>\n      <td>None</td>\n      <td>None</td>\n      <td>None</td>\n      <td>None</td>\n      <td>None</td>\n      <td>None</td>\n      <td>None</td>\n      <td>None</td>\n      <td>None</td>\n      <td>None</td>\n      <td>None</td>\n      <td>None</td>\n      <td>None</td>\n      <td>None</td>\n      <td>None</td>\n      <td>None</td>\n      <td>None</td>\n      <td>None</td>\n      <td>None</td>\n      <td>None</td>\n      <td>None</td>\n      <td>None</td>\n      <td>None</td>\n      <td>None</td>\n      <td>None</td>\n      <td>None</td>\n      <td>None</td>\n      <td>None</td>\n      <td>None</td>\n      <td>None</td>\n      <td>None</td>\n      <td>None</td>\n      <td>None</td>\n      <td>None</td>\n      <td>None</td>\n      <td>None</td>\n      <td>None</td>\n      <td>None</td>\n      <td>None</td>\n      <td>None</td>\n      <td>None</td>\n      <td>None</td>\n      <td>None</td>\n      <td>None</td>\n      <td>None</td>\n      <td>None</td>\n      <td>None</td>\n      <td>None</td>\n      <td>None</td>\n      <td>None</td>\n      <td>None</td>\n      <td>None</td>\n      <td>None</td>\n      <td>None</td>\n      <td>None</td>\n      <td>None</td>\n      <td>None</td>\n      <td>None</td>\n      <td>None</td>\n      <td>None</td>\n      <td>None</td>\n      <td>None</td>\n      <td>None</td>\n      <td>None</td>\n      <td>None</td>\n      <td>None</td>\n      <td>None</td>\n      <td>None</td>\n      <td>None</td>\n      <td>None</td>\n      <td>None</td>\n      <td>None</td>\n      <td>None</td>\n      <td>None</td>\n      <td>None</td>\n      <td>None</td>\n      <td>None</td>\n      <td>None</td>\n      <td>None</td>\n      <td>None</td>\n      <td>None</td>\n      <td>None</td>\n      <td>None</td>\n      <td>None</td>\n      <td>None</td>\n      <td>None</td>\n      <td>None</td>\n      <td>None</td>\n      <td>None</td>\n      <td>None</td>\n      <td>None</td>\n      <td>None</td>\n      <td>None</td>\n      <td>None</td>\n      <td>None</td>\n      <td>None</td>\n      <td>None</td>\n      <td>None</td>\n      <td>None</td>\n      <td>None</td>\n      <td>None</td>\n      <td>None</td>\n      <td>None</td>\n      <td>None</td>\n      <td>None</td>\n      <td>None</td>\n      <td>None</td>\n      <td>None</td>\n      <td>None</td>\n      <td>None</td>\n      <td>None</td>\n      <td>None</td>\n      <td>None</td>\n      <td>None</td>\n      <td>None</td>\n      <td>None</td>\n      <td>None</td>\n      <td>None</td>\n      <td>None</td>\n      <td>None</td>\n      <td>None</td>\n      <td>20</td>\n    </tr>\n    <tr>\n      <th>5799</th>\n      <td>544415816851021824</td>\n      <td>544428170103906304</td>\n      <td>544916189609066496</td>\n      <td>544915155385999360</td>\n      <td>544417985620742147</td>\n      <td>544417068649439232</td>\n      <td>544918572095401984</td>\n      <td>544423583879929856</td>\n      <td>None</td>\n      <td>None</td>\n      <td>None</td>\n      <td>None</td>\n      <td>None</td>\n      <td>None</td>\n      <td>None</td>\n      <td>None</td>\n      <td>None</td>\n      <td>None</td>\n      <td>None</td>\n      <td>None</td>\n      <td>None</td>\n      <td>None</td>\n      <td>None</td>\n      <td>None</td>\n      <td>None</td>\n      <td>None</td>\n      <td>None</td>\n      <td>None</td>\n      <td>None</td>\n      <td>None</td>\n      <td>None</td>\n      <td>None</td>\n      <td>None</td>\n      <td>None</td>\n      <td>None</td>\n      <td>None</td>\n      <td>None</td>\n      <td>None</td>\n      <td>None</td>\n      <td>None</td>\n      <td>None</td>\n      <td>None</td>\n      <td>None</td>\n      <td>None</td>\n      <td>None</td>\n      <td>None</td>\n      <td>None</td>\n      <td>None</td>\n      <td>None</td>\n      <td>None</td>\n      <td>None</td>\n      <td>None</td>\n      <td>None</td>\n      <td>None</td>\n      <td>None</td>\n      <td>None</td>\n      <td>None</td>\n      <td>None</td>\n      <td>None</td>\n      <td>None</td>\n      <td>None</td>\n      <td>None</td>\n      <td>None</td>\n      <td>None</td>\n      <td>None</td>\n      <td>None</td>\n      <td>None</td>\n      <td>None</td>\n      <td>None</td>\n      <td>None</td>\n      <td>None</td>\n      <td>None</td>\n      <td>None</td>\n      <td>None</td>\n      <td>None</td>\n      <td>None</td>\n      <td>None</td>\n      <td>None</td>\n      <td>None</td>\n      <td>None</td>\n      <td>None</td>\n      <td>None</td>\n      <td>None</td>\n      <td>None</td>\n      <td>None</td>\n      <td>None</td>\n      <td>None</td>\n      <td>None</td>\n      <td>None</td>\n      <td>None</td>\n      <td>None</td>\n      <td>None</td>\n      <td>None</td>\n      <td>None</td>\n      <td>None</td>\n      <td>None</td>\n      <td>None</td>\n      <td>None</td>\n      <td>None</td>\n      <td>None</td>\n      <td>None</td>\n      <td>None</td>\n      <td>None</td>\n      <td>None</td>\n      <td>None</td>\n      <td>None</td>\n      <td>None</td>\n      <td>None</td>\n      <td>None</td>\n      <td>None</td>\n      <td>None</td>\n      <td>None</td>\n      <td>None</td>\n      <td>None</td>\n      <td>None</td>\n      <td>None</td>\n      <td>None</td>\n      <td>None</td>\n      <td>None</td>\n      <td>None</td>\n      <td>None</td>\n      <td>None</td>\n      <td>None</td>\n      <td>None</td>\n      <td>None</td>\n      <td>None</td>\n      <td>None</td>\n      <td>None</td>\n      <td>None</td>\n      <td>None</td>\n      <td>None</td>\n      <td>None</td>\n      <td>None</td>\n      <td>None</td>\n      <td>None</td>\n      <td>None</td>\n      <td>None</td>\n      <td>None</td>\n      <td>None</td>\n      <td>None</td>\n      <td>None</td>\n      <td>None</td>\n      <td>None</td>\n      <td>None</td>\n      <td>None</td>\n      <td>None</td>\n      <td>None</td>\n      <td>None</td>\n      <td>None</td>\n      <td>None</td>\n      <td>None</td>\n      <td>None</td>\n      <td>None</td>\n      <td>None</td>\n      <td>None</td>\n      <td>None</td>\n      <td>None</td>\n      <td>None</td>\n      <td>None</td>\n      <td>None</td>\n      <td>None</td>\n      <td>None</td>\n      <td>None</td>\n      <td>None</td>\n      <td>None</td>\n      <td>None</td>\n      <td>None</td>\n      <td>None</td>\n      <td>None</td>\n      <td>None</td>\n      <td>None</td>\n      <td>None</td>\n      <td>None</td>\n      <td>None</td>\n      <td>None</td>\n      <td>None</td>\n      <td>None</td>\n      <td>None</td>\n      <td>None</td>\n      <td>None</td>\n      <td>None</td>\n      <td>None</td>\n      <td>None</td>\n      <td>None</td>\n      <td>None</td>\n      <td>None</td>\n      <td>None</td>\n      <td>None</td>\n      <td>None</td>\n      <td>None</td>\n      <td>None</td>\n      <td>None</td>\n      <td>None</td>\n      <td>None</td>\n      <td>None</td>\n      <td>None</td>\n      <td>None</td>\n      <td>None</td>\n      <td>None</td>\n      <td>None</td>\n      <td>None</td>\n      <td>None</td>\n      <td>None</td>\n      <td>None</td>\n      <td>None</td>\n      <td>None</td>\n      <td>None</td>\n      <td>None</td>\n      <td>None</td>\n      <td>None</td>\n      <td>None</td>\n      <td>None</td>\n      <td>None</td>\n      <td>None</td>\n      <td>None</td>\n      <td>None</td>\n      <td>None</td>\n      <td>None</td>\n      <td>None</td>\n      <td>None</td>\n      <td>None</td>\n      <td>None</td>\n      <td>None</td>\n      <td>None</td>\n      <td>None</td>\n      <td>None</td>\n      <td>None</td>\n      <td>None</td>\n      <td>None</td>\n      <td>None</td>\n      <td>None</td>\n      <td>None</td>\n      <td>None</td>\n      <td>None</td>\n      <td>None</td>\n      <td>None</td>\n      <td>None</td>\n      <td>None</td>\n      <td>None</td>\n      <td>None</td>\n      <td>None</td>\n      <td>None</td>\n      <td>None</td>\n      <td>None</td>\n      <td>None</td>\n      <td>None</td>\n      <td>None</td>\n      <td>None</td>\n      <td>None</td>\n      <td>None</td>\n      <td>None</td>\n      <td>None</td>\n      <td>None</td>\n      <td>None</td>\n      <td>None</td>\n      <td>None</td>\n      <td>None</td>\n      <td>None</td>\n      <td>None</td>\n      <td>None</td>\n      <td>None</td>\n      <td>None</td>\n      <td>None</td>\n      <td>None</td>\n      <td>None</td>\n      <td>None</td>\n      <td>None</td>\n      <td>None</td>\n      <td>None</td>\n      <td>None</td>\n      <td>None</td>\n      <td>None</td>\n      <td>None</td>\n      <td>None</td>\n      <td>None</td>\n      <td>None</td>\n      <td>None</td>\n      <td>None</td>\n      <td>None</td>\n      <td>None</td>\n      <td>None</td>\n      <td>None</td>\n      <td>None</td>\n      <td>None</td>\n      <td>None</td>\n      <td>None</td>\n      <td>None</td>\n      <td>None</td>\n      <td>None</td>\n      <td>None</td>\n      <td>None</td>\n      <td>None</td>\n      <td>None</td>\n      <td>None</td>\n      <td>None</td>\n      <td>None</td>\n      <td>None</td>\n      <td>None</td>\n      <td>None</td>\n      <td>None</td>\n      <td>None</td>\n      <td>None</td>\n      <td>None</td>\n      <td>None</td>\n      <td>None</td>\n      <td>None</td>\n      <td>None</td>\n      <td>None</td>\n      <td>None</td>\n      <td>None</td>\n      <td>None</td>\n      <td>None</td>\n      <td>None</td>\n      <td>None</td>\n      <td>None</td>\n      <td>None</td>\n      <td>None</td>\n      <td>None</td>\n      <td>None</td>\n      <td>None</td>\n      <td>None</td>\n      <td>None</td>\n      <td>None</td>\n      <td>None</td>\n      <td>None</td>\n      <td>None</td>\n      <td>None</td>\n      <td>None</td>\n      <td>None</td>\n      <td>None</td>\n      <td>None</td>\n      <td>None</td>\n      <td>None</td>\n      <td>None</td>\n      <td>None</td>\n      <td>None</td>\n      <td>None</td>\n      <td>None</td>\n      <td>None</td>\n      <td>None</td>\n      <td>None</td>\n      <td>None</td>\n      <td>None</td>\n      <td>None</td>\n      <td>None</td>\n      <td>None</td>\n      <td>4</td>\n    </tr>\n    <tr>\n      <th>5800</th>\n      <td>544495066258362368</td>\n      <td>544496999723446272</td>\n      <td>544526409683972098</td>\n      <td>544498051188940800</td>\n      <td>544506798603251712</td>\n      <td>544509560883777536</td>\n      <td>544496919259533312</td>\n      <td>544515869972643840</td>\n      <td>544504888550768642</td>\n      <td>544503570758762496</td>\n      <td>544502981904064512</td>\n      <td>544495378452971520</td>\n      <td>544497109593239552</td>\n      <td>544506421052989441</td>\n      <td>544504301931204609</td>\n      <td>544504784347480065</td>\n      <td>544501114071416832</td>\n      <td>544506819893551105</td>\n      <td>544496145066491904</td>\n      <td>544518136322863104</td>\n      <td>544497727561031680</td>\n      <td>544498007425961984</td>\n      <td>544512272270655488</td>\n      <td>544495548846596096</td>\n      <td>544495428788822016</td>\n      <td>544509567535939584</td>\n      <td>544498865014317056</td>\n      <td>544495828036235264</td>\n      <td>544507459638132736</td>\n      <td>544499983215771649</td>\n      <td>544504506437095424</td>\n      <td>544502757194223616</td>\n      <td>544509814512967680</td>\n      <td>544498579877138432</td>\n      <td>544495428923043841</td>\n      <td>544508826771550210</td>\n      <td>544495702450405380</td>\n      <td>544507092200357888</td>\n      <td>544496736363102210</td>\n      <td>544506108162088961</td>\n      <td>544496930366443520</td>\n      <td>544496467516600320</td>\n      <td>544495523303288832</td>\n      <td>544507954222092288</td>\n      <td>544496900763025411</td>\n      <td>544506227850358785</td>\n      <td>544502434958409728</td>\n      <td>544495959221501952</td>\n      <td>None</td>\n      <td>None</td>\n      <td>None</td>\n      <td>None</td>\n      <td>None</td>\n      <td>None</td>\n      <td>None</td>\n      <td>None</td>\n      <td>None</td>\n      <td>None</td>\n      <td>None</td>\n      <td>None</td>\n      <td>None</td>\n      <td>None</td>\n      <td>None</td>\n      <td>None</td>\n      <td>None</td>\n      <td>None</td>\n      <td>None</td>\n      <td>None</td>\n      <td>None</td>\n      <td>None</td>\n      <td>None</td>\n      <td>None</td>\n      <td>None</td>\n      <td>None</td>\n      <td>None</td>\n      <td>None</td>\n      <td>None</td>\n      <td>None</td>\n      <td>None</td>\n      <td>None</td>\n      <td>None</td>\n      <td>None</td>\n      <td>None</td>\n      <td>None</td>\n      <td>None</td>\n      <td>None</td>\n      <td>None</td>\n      <td>None</td>\n      <td>None</td>\n      <td>None</td>\n      <td>None</td>\n      <td>None</td>\n      <td>None</td>\n      <td>None</td>\n      <td>None</td>\n      <td>None</td>\n      <td>None</td>\n      <td>None</td>\n      <td>None</td>\n      <td>None</td>\n      <td>None</td>\n      <td>None</td>\n      <td>None</td>\n      <td>None</td>\n      <td>None</td>\n      <td>None</td>\n      <td>None</td>\n      <td>None</td>\n      <td>None</td>\n      <td>None</td>\n      <td>None</td>\n      <td>None</td>\n      <td>None</td>\n      <td>None</td>\n      <td>None</td>\n      <td>None</td>\n      <td>None</td>\n      <td>None</td>\n      <td>None</td>\n      <td>None</td>\n      <td>None</td>\n      <td>None</td>\n      <td>None</td>\n      <td>None</td>\n      <td>None</td>\n      <td>None</td>\n      <td>None</td>\n      <td>None</td>\n      <td>None</td>\n      <td>None</td>\n      <td>None</td>\n      <td>None</td>\n      <td>None</td>\n      <td>None</td>\n      <td>None</td>\n      <td>None</td>\n      <td>None</td>\n      <td>None</td>\n      <td>None</td>\n      <td>None</td>\n      <td>None</td>\n      <td>None</td>\n      <td>None</td>\n      <td>None</td>\n      <td>None</td>\n      <td>None</td>\n      <td>None</td>\n      <td>None</td>\n      <td>None</td>\n      <td>None</td>\n      <td>None</td>\n      <td>None</td>\n      <td>None</td>\n      <td>None</td>\n      <td>None</td>\n      <td>None</td>\n      <td>None</td>\n      <td>None</td>\n      <td>None</td>\n      <td>None</td>\n      <td>None</td>\n      <td>None</td>\n      <td>None</td>\n      <td>None</td>\n      <td>None</td>\n      <td>None</td>\n      <td>None</td>\n      <td>None</td>\n      <td>None</td>\n      <td>None</td>\n      <td>None</td>\n      <td>None</td>\n      <td>None</td>\n      <td>None</td>\n      <td>None</td>\n      <td>None</td>\n      <td>None</td>\n      <td>None</td>\n      <td>None</td>\n      <td>None</td>\n      <td>None</td>\n      <td>None</td>\n      <td>None</td>\n      <td>None</td>\n      <td>None</td>\n      <td>None</td>\n      <td>None</td>\n      <td>None</td>\n      <td>None</td>\n      <td>None</td>\n      <td>None</td>\n      <td>None</td>\n      <td>None</td>\n      <td>None</td>\n      <td>None</td>\n      <td>None</td>\n      <td>None</td>\n      <td>None</td>\n      <td>None</td>\n      <td>None</td>\n      <td>None</td>\n      <td>None</td>\n      <td>None</td>\n      <td>None</td>\n      <td>None</td>\n      <td>None</td>\n      <td>None</td>\n      <td>None</td>\n      <td>None</td>\n      <td>None</td>\n      <td>None</td>\n      <td>None</td>\n      <td>None</td>\n      <td>None</td>\n      <td>None</td>\n      <td>None</td>\n      <td>None</td>\n      <td>None</td>\n      <td>None</td>\n      <td>None</td>\n      <td>None</td>\n      <td>None</td>\n      <td>None</td>\n      <td>None</td>\n      <td>None</td>\n      <td>None</td>\n      <td>None</td>\n      <td>None</td>\n      <td>None</td>\n      <td>None</td>\n      <td>None</td>\n      <td>None</td>\n      <td>None</td>\n      <td>None</td>\n      <td>None</td>\n      <td>None</td>\n      <td>None</td>\n      <td>None</td>\n      <td>None</td>\n      <td>None</td>\n      <td>None</td>\n      <td>None</td>\n      <td>None</td>\n      <td>None</td>\n      <td>None</td>\n      <td>None</td>\n      <td>None</td>\n      <td>None</td>\n      <td>None</td>\n      <td>None</td>\n      <td>None</td>\n      <td>None</td>\n      <td>None</td>\n      <td>None</td>\n      <td>None</td>\n      <td>None</td>\n      <td>None</td>\n      <td>None</td>\n      <td>None</td>\n      <td>None</td>\n      <td>None</td>\n      <td>None</td>\n      <td>None</td>\n      <td>None</td>\n      <td>None</td>\n      <td>None</td>\n      <td>None</td>\n      <td>None</td>\n      <td>None</td>\n      <td>None</td>\n      <td>None</td>\n      <td>None</td>\n      <td>None</td>\n      <td>None</td>\n      <td>None</td>\n      <td>None</td>\n      <td>None</td>\n      <td>None</td>\n      <td>None</td>\n      <td>None</td>\n      <td>None</td>\n      <td>None</td>\n      <td>None</td>\n      <td>None</td>\n      <td>None</td>\n      <td>None</td>\n      <td>None</td>\n      <td>None</td>\n      <td>None</td>\n      <td>None</td>\n      <td>None</td>\n      <td>None</td>\n      <td>None</td>\n      <td>None</td>\n      <td>None</td>\n      <td>None</td>\n      <td>None</td>\n      <td>None</td>\n      <td>None</td>\n      <td>None</td>\n      <td>None</td>\n      <td>None</td>\n      <td>None</td>\n      <td>None</td>\n      <td>None</td>\n      <td>None</td>\n      <td>None</td>\n      <td>None</td>\n      <td>None</td>\n      <td>None</td>\n      <td>None</td>\n      <td>None</td>\n      <td>None</td>\n      <td>None</td>\n      <td>None</td>\n      <td>None</td>\n      <td>None</td>\n      <td>None</td>\n      <td>None</td>\n      <td>None</td>\n      <td>None</td>\n      <td>None</td>\n      <td>None</td>\n      <td>None</td>\n      <td>None</td>\n      <td>None</td>\n      <td>None</td>\n      <td>None</td>\n      <td>None</td>\n      <td>None</td>\n      <td>None</td>\n      <td>None</td>\n      <td>None</td>\n      <td>None</td>\n      <td>None</td>\n      <td>None</td>\n      <td>None</td>\n      <td>None</td>\n      <td>None</td>\n      <td>None</td>\n      <td>None</td>\n      <td>None</td>\n      <td>None</td>\n      <td>None</td>\n      <td>None</td>\n      <td>None</td>\n      <td>16</td>\n    </tr>\n    <tr>\n      <th>5801</th>\n      <td>544419008615702528</td>\n      <td>544430607665618944</td>\n      <td>544420034861207552</td>\n      <td>544448562054959104</td>\n      <td>544439593634779136</td>\n      <td>544420339904573440</td>\n      <td>544427788745592832</td>\n      <td>544440722129031168</td>\n      <td>544421326664896512</td>\n      <td>544425604188090370</td>\n      <td>544439684655378433</td>\n      <td>None</td>\n      <td>None</td>\n      <td>None</td>\n      <td>None</td>\n      <td>None</td>\n      <td>None</td>\n      <td>None</td>\n      <td>None</td>\n      <td>None</td>\n      <td>None</td>\n      <td>None</td>\n      <td>None</td>\n      <td>None</td>\n      <td>None</td>\n      <td>None</td>\n      <td>None</td>\n      <td>None</td>\n      <td>None</td>\n      <td>None</td>\n      <td>None</td>\n      <td>None</td>\n      <td>None</td>\n      <td>None</td>\n      <td>None</td>\n      <td>None</td>\n      <td>None</td>\n      <td>None</td>\n      <td>None</td>\n      <td>None</td>\n      <td>None</td>\n      <td>None</td>\n      <td>None</td>\n      <td>None</td>\n      <td>None</td>\n      <td>None</td>\n      <td>None</td>\n      <td>None</td>\n      <td>None</td>\n      <td>None</td>\n      <td>None</td>\n      <td>None</td>\n      <td>None</td>\n      <td>None</td>\n      <td>None</td>\n      <td>None</td>\n      <td>None</td>\n      <td>None</td>\n      <td>None</td>\n      <td>None</td>\n      <td>None</td>\n      <td>None</td>\n      <td>None</td>\n      <td>None</td>\n      <td>None</td>\n      <td>None</td>\n      <td>None</td>\n      <td>None</td>\n      <td>None</td>\n      <td>None</td>\n      <td>None</td>\n      <td>None</td>\n      <td>None</td>\n      <td>None</td>\n      <td>None</td>\n      <td>None</td>\n      <td>None</td>\n      <td>None</td>\n      <td>None</td>\n      <td>None</td>\n      <td>None</td>\n      <td>None</td>\n      <td>None</td>\n      <td>None</td>\n      <td>None</td>\n      <td>None</td>\n      <td>None</td>\n      <td>None</td>\n      <td>None</td>\n      <td>None</td>\n      <td>None</td>\n      <td>None</td>\n      <td>None</td>\n      <td>None</td>\n      <td>None</td>\n      <td>None</td>\n      <td>None</td>\n      <td>None</td>\n      <td>None</td>\n      <td>None</td>\n      <td>None</td>\n      <td>None</td>\n      <td>None</td>\n      <td>None</td>\n      <td>None</td>\n      <td>None</td>\n      <td>None</td>\n      <td>None</td>\n      <td>None</td>\n      <td>None</td>\n      <td>None</td>\n      <td>None</td>\n      <td>None</td>\n      <td>None</td>\n      <td>None</td>\n      <td>None</td>\n      <td>None</td>\n      <td>None</td>\n      <td>None</td>\n      <td>None</td>\n      <td>None</td>\n      <td>None</td>\n      <td>None</td>\n      <td>None</td>\n      <td>None</td>\n      <td>None</td>\n      <td>None</td>\n      <td>None</td>\n      <td>None</td>\n      <td>None</td>\n      <td>None</td>\n      <td>None</td>\n      <td>None</td>\n      <td>None</td>\n      <td>None</td>\n      <td>None</td>\n      <td>None</td>\n      <td>None</td>\n      <td>None</td>\n      <td>None</td>\n      <td>None</td>\n      <td>None</td>\n      <td>None</td>\n      <td>None</td>\n      <td>None</td>\n      <td>None</td>\n      <td>None</td>\n      <td>None</td>\n      <td>None</td>\n      <td>None</td>\n      <td>None</td>\n      <td>None</td>\n      <td>None</td>\n      <td>None</td>\n      <td>None</td>\n      <td>None</td>\n      <td>None</td>\n      <td>None</td>\n      <td>None</td>\n      <td>None</td>\n      <td>None</td>\n      <td>None</td>\n      <td>None</td>\n      <td>None</td>\n      <td>None</td>\n      <td>None</td>\n      <td>None</td>\n      <td>None</td>\n      <td>None</td>\n      <td>None</td>\n      <td>None</td>\n      <td>None</td>\n      <td>None</td>\n      <td>None</td>\n      <td>None</td>\n      <td>None</td>\n      <td>None</td>\n      <td>None</td>\n      <td>None</td>\n      <td>None</td>\n      <td>None</td>\n      <td>None</td>\n      <td>None</td>\n      <td>None</td>\n      <td>None</td>\n      <td>None</td>\n      <td>None</td>\n      <td>None</td>\n      <td>None</td>\n      <td>None</td>\n      <td>None</td>\n      <td>None</td>\n      <td>None</td>\n      <td>None</td>\n      <td>None</td>\n      <td>None</td>\n      <td>None</td>\n      <td>None</td>\n      <td>None</td>\n      <td>None</td>\n      <td>None</td>\n      <td>None</td>\n      <td>None</td>\n      <td>None</td>\n      <td>None</td>\n      <td>None</td>\n      <td>None</td>\n      <td>None</td>\n      <td>None</td>\n      <td>None</td>\n      <td>None</td>\n      <td>None</td>\n      <td>None</td>\n      <td>None</td>\n      <td>None</td>\n      <td>None</td>\n      <td>None</td>\n      <td>None</td>\n      <td>None</td>\n      <td>None</td>\n      <td>None</td>\n      <td>None</td>\n      <td>None</td>\n      <td>None</td>\n      <td>None</td>\n      <td>None</td>\n      <td>None</td>\n      <td>None</td>\n      <td>None</td>\n      <td>None</td>\n      <td>None</td>\n      <td>None</td>\n      <td>None</td>\n      <td>None</td>\n      <td>None</td>\n      <td>None</td>\n      <td>None</td>\n      <td>None</td>\n      <td>None</td>\n      <td>None</td>\n      <td>None</td>\n      <td>None</td>\n      <td>None</td>\n      <td>None</td>\n      <td>None</td>\n      <td>None</td>\n      <td>None</td>\n      <td>None</td>\n      <td>None</td>\n      <td>None</td>\n      <td>None</td>\n      <td>None</td>\n      <td>None</td>\n      <td>None</td>\n      <td>None</td>\n      <td>None</td>\n      <td>None</td>\n      <td>None</td>\n      <td>None</td>\n      <td>None</td>\n      <td>None</td>\n      <td>None</td>\n      <td>None</td>\n      <td>None</td>\n      <td>None</td>\n      <td>None</td>\n      <td>None</td>\n      <td>None</td>\n      <td>None</td>\n      <td>None</td>\n      <td>None</td>\n      <td>None</td>\n      <td>None</td>\n      <td>None</td>\n      <td>None</td>\n      <td>None</td>\n      <td>None</td>\n      <td>None</td>\n      <td>None</td>\n      <td>None</td>\n      <td>None</td>\n      <td>None</td>\n      <td>None</td>\n      <td>None</td>\n      <td>None</td>\n      <td>None</td>\n      <td>None</td>\n      <td>None</td>\n      <td>None</td>\n      <td>None</td>\n      <td>None</td>\n      <td>None</td>\n      <td>None</td>\n      <td>None</td>\n      <td>None</td>\n      <td>None</td>\n      <td>None</td>\n      <td>None</td>\n      <td>None</td>\n      <td>None</td>\n      <td>None</td>\n      <td>None</td>\n      <td>None</td>\n      <td>None</td>\n      <td>None</td>\n      <td>None</td>\n      <td>None</td>\n      <td>None</td>\n      <td>None</td>\n      <td>None</td>\n      <td>None</td>\n      <td>None</td>\n      <td>None</td>\n      <td>None</td>\n      <td>None</td>\n      <td>None</td>\n      <td>None</td>\n      <td>None</td>\n      <td>None</td>\n      <td>None</td>\n      <td>None</td>\n      <td>None</td>\n      <td>None</td>\n      <td>None</td>\n      <td>None</td>\n      <td>None</td>\n      <td>None</td>\n      <td>None</td>\n      <td>None</td>\n      <td>None</td>\n      <td>None</td>\n      <td>None</td>\n      <td>None</td>\n      <td>None</td>\n      <td>None</td>\n      <td>None</td>\n      <td>None</td>\n      <td>None</td>\n      <td>None</td>\n      <td>None</td>\n      <td>None</td>\n      <td>None</td>\n      <td>None</td>\n      <td>None</td>\n      <td>None</td>\n      <td>None</td>\n      <td>3</td>\n    </tr>\n  </tbody>\n</table>\n<p>5802 rows × 347 columns</p>\n</div>",
      "text/plain": "                    Root                   0                   1  \\\n0     553529101659566080  553530890908098561  553547184000339968   \n1     553587735613952001  553588921662455808  553588691130941441   \n2     552816932643405824  552823532716298240  552852220924788736   \n3     553515399438811136  553516443833495552  553523060662611968   \n4     552808620187217920  552809691311775746  552809447668457473   \n...                  ...                 ...                 ...   \n5797  544463778780557312  544473650309890048  544483200735526912   \n5798  544305018439204864  544315210702794752  544310135120592896   \n5799  544415816851021824  544428170103906304  544916189609066496   \n5800  544495066258362368  544496999723446272  544526409683972098   \n5801  544419008615702528  544430607665618944  544420034861207552   \n\n                       2                   3                   4  \\\n0     553546643941761024  553530583583047680  553547846612295681   \n1     553591458390097920  553689534446465026  553588158592733184   \n2     552885622520958976  552817493170204672  552817741288443905   \n3     553520353172267008  553516582836928512  553943262827143168   \n4     552809551364624384  552814199706230784                None   \n...                  ...                 ...                 ...   \n5797  544494908392763392  544478943899025408  544476804137123840   \n5798  544450933745541120  544732351524536320  544732885539094528   \n5799  544915155385999360  544417985620742147  544417068649439232   \n5800  544498051188940800  544506798603251712  544509560883777536   \n5801  544448562054959104  544439593634779136  544420339904573440   \n\n                       5                   6                   7  \\\n0     553529275127963650  553546424453836801  553543300544618498   \n1     553588782109564928  553591848821092353                None   \n2     552819314332811266                None                None   \n3     553516583168253952  553522248364343296  553979514439888900   \n4                   None                None                None   \n...                  ...                 ...                 ...   \n5797  544488274530541568  544486617709178880  544484236992864256   \n5798  544305231107198978  544733008826470400  544731625050099712   \n5799  544918572095401984  544423583879929856                None   \n5800  544496919259533312  544515869972643840  544504888550768642   \n5801  544427788745592832  544440722129031168  544421326664896512   \n\n                       8                   9                  10  \\\n0     553546244811792385  553547413512675329  553545294462197760   \n1                   None                None                None   \n2                   None                None                None   \n3     553529219972468736                None                None   \n4                   None                None                None   \n...                  ...                 ...                 ...   \n5797  544465003223728128  544514927788961792  544513605836607488   \n5798  544317627263647744  544307419199729664  544731699863900160   \n5799                None                None                None   \n5800  544503570758762496  544502981904064512  544495378452971520   \n5801  544425604188090370  544439684655378433                None   \n\n                      11                  12                  13  \\\n0     553548113332285440  553530877607948288  553545602705793026   \n1                   None                None                None   \n2                   None                None                None   \n3                   None                None                None   \n4                   None                None                None   \n...                  ...                 ...                 ...   \n5797  544496856739246080  544557597852856320  544500215236284416   \n5798  544314712461434880  544732305227804672  544342856064720896   \n5799                None                None                None   \n5800  544497109593239552  544506421052989441  544504301931204609   \n5801                None                None                None   \n\n                      14                  15                  16  \\\n0     553546983437115393  553530334160384000  553531136501362688   \n1                   None                None                None   \n2                   None                None                None   \n3                   None                None                None   \n4                   None                None                None   \n...                  ...                 ...                 ...   \n5797  544476576025677825  544486729260863488  544483262081818624   \n5798  544306061147389952  544733901068185600  544305476138057730   \n5799                None                None                None   \n5800  544504784347480065  544501114071416832  544506819893551105   \n5801                None                None                None   \n\n                      17                  18                  19  \\\n0     553547587668553732                None                None   \n1                   None                None                None   \n2                   None                None                None   \n3                   None                None                None   \n4                   None                None                None   \n...                  ...                 ...                 ...   \n5797  544513491663466497  544477207343931392  544475703811801088   \n5798  544733382329262080  544730116837113857  544681271746899968   \n5799                None                None                None   \n5800  544496145066491904  544518136322863104  544497727561031680   \n5801                None                None                None   \n\n                      20                  21                  22  \\\n0                   None                None                None   \n1                   None                None                None   \n2                   None                None                None   \n3                   None                None                None   \n4                   None                None                None   \n...                  ...                 ...                 ...   \n5797  544488545725861888  544501639487713280  544502491195256832   \n5798  544731280290906112  544308460817362944  544306253736841216   \n5799                None                None                None   \n5800  544498007425961984  544512272270655488  544495548846596096   \n5801                None                None                None   \n\n                      23                  24                  25  \\\n0                   None                None                None   \n1                   None                None                None   \n2                   None                None                None   \n3                   None                None                None   \n4                   None                None                None   \n...                  ...                 ...                 ...   \n5797  544468256870772737  544475397166211075  544493100903579649   \n5798  544733198329344000  544732442385342464  544730153377861632   \n5799                None                None                None   \n5800  544495428788822016  544509567535939584  544498865014317056   \n5801                None                None                None   \n\n                      26                  27                  28  \\\n0                   None                None                None   \n1                   None                None                None   \n2                   None                None                None   \n3                   None                None                None   \n4                   None                None                None   \n...                  ...                 ...                 ...   \n5797  544690153654980608  544493666015150080  544495170075770882   \n5798  544730817252315136  544317184701251584  544732076407537666   \n5799                None                None                None   \n5800  544495828036235264  544507459638132736  544499983215771649   \n5801                None                None                None   \n\n                      29                  30                  31  \\\n0                   None                None                None   \n1                   None                None                None   \n2                   None                None                None   \n3                   None                None                None   \n4                   None                None                None   \n...                  ...                 ...                 ...   \n5797  544573390044942336  544496551260061696  544465917409652736   \n5798  544733677520187392  544732565832482816  544353253106786305   \n5799                None                None                None   \n5800  544504506437095424  544502757194223616  544509814512967680   \n5801                None                None                None   \n\n                      32                  33                  34  \\\n0                   None                None                None   \n1                   None                None                None   \n2                   None                None                None   \n3                   None                None                None   \n4                   None                None                None   \n...                  ...                 ...                 ...   \n5797  544498000840519680  544490889465573376  544497833517535232   \n5798  544733768750469120  544732204837130241  544681678246252545   \n5799                None                None                None   \n5800  544498579877138432  544495428923043841  544508826771550210   \n5801                None                None                None   \n\n                      35                  36                  37  \\\n0                   None                None                None   \n1                   None                None                None   \n2                   None                None                None   \n3                   None                None                None   \n4                   None                None                None   \n...                  ...                 ...                 ...   \n5797  544495766191218688  544495483079913472  544494276873551872   \n5798  544732161098936320  544345538465136640  544731755044143105   \n5799                None                None                None   \n5800  544495702450405380  544507092200357888  544496736363102210   \n5801                None                None                None   \n\n                      38                  39                  40  \\\n0                   None                None                None   \n1                   None                None                None   \n2                   None                None                None   \n3                   None                None                None   \n4                   None                None                None   \n...                  ...                 ...                 ...   \n5797  544501825626701824  544493934898982912  544485016504258560   \n5798  544733949474668544  544732253319094272  544346548310921216   \n5799                None                None                None   \n5800  544506108162088961  544496930366443520  544496467516600320   \n5801                None                None                None   \n\n                      41                  42                  43  \\\n0                   None                None                None   \n1                   None                None                None   \n2                   None                None                None   \n3                   None                None                None   \n4                   None                None                None   \n...                  ...                 ...                 ...   \n5797  544482941943173120  544489629835984896  544498126087000064   \n5798  544450553208930305  544346957310091264  544345005868191744   \n5799                None                None                None   \n5800  544495523303288832  544507954222092288  544496900763025411   \n5801                None                None                None   \n\n                      44                  45                  46  \\\n0                   None                None                None   \n1                   None                None                None   \n2                   None                None                None   \n3                   None                None                None   \n4                   None                None                None   \n...                  ...                 ...                 ...   \n5797  544497542478958592  544478198344728576  544465923080720384   \n5798  544323831305752576  544306640762458112  544733333306245120   \n5799                None                None                None   \n5800  544506227850358785  544502434958409728  544495959221501952   \n5801                None                None                None   \n\n                      47                  48                  49  \\\n0                   None                None                None   \n1                   None                None                None   \n2                   None                None                None   \n3                   None                None                None   \n4                   None                None                None   \n...                  ...                 ...                 ...   \n5797  544501426223726592  544492558010052608  544557704073588736   \n5798  544732022405885952  544574634642137089  544733301303676928   \n5799                None                None                None   \n5800                None                None                None   \n5801                None                None                None   \n\n                      50                  51                  52  \\\n0                   None                None                None   \n1                   None                None                None   \n2                   None                None                None   \n3                   None                None                None   \n4                   None                None                None   \n...                  ...                 ...                 ...   \n5797  544495085606699008  544494823709736960  544620307852439552   \n5798  544316744987594755  544733924778590208  544733866230296576   \n5799                None                None                None   \n5800                None                None                None   \n5801                None                None                None   \n\n                      53                  54                  55  \\\n0                   None                None                None   \n1                   None                None                None   \n2                   None                None                None   \n3                   None                None                None   \n4                   None                None                None   \n...                  ...                 ...                 ...   \n5797  544501612673134592  544496566258503681  544473977369137152   \n5798  544730920243453952  544305941798477824  544315080041435136   \n5799                None                None                None   \n5800                None                None                None   \n5801                None                None                None   \n\n                      56                  57                  58  \\\n0                   None                None                None   \n1                   None                None                None   \n2                   None                None                None   \n3                   None                None                None   \n4                   None                None                None   \n...                  ...                 ...                 ...   \n5797  544530260533186561  544475211652153344  544495324824629249   \n5798  544316071994347521  544305711430127616  544310549228425216   \n5799                None                None                None   \n5800                None                None                None   \n5801                None                None                None   \n\n                      59                  60                  61  \\\n0                   None                None                None   \n1                   None                None                None   \n2                   None                None                None   \n3                   None                None                None   \n4                   None                None                None   \n...                  ...                 ...                 ...   \n5797  544478765880197120  544477209516601344  544494898742046722   \n5798  544308993619816448  544733032796921857  544704828493279232   \n5799                None                None                None   \n5800                None                None                None   \n5801                None                None                None   \n\n                      62                  63                  64  \\\n0                   None                None                None   \n1                   None                None                None   \n2                   None                None                None   \n3                   None                None                None   \n4                   None                None                None   \n...                  ...                 ...                 ...   \n5797  544492853670318081  544479755815636993  544483899431079936   \n5798  544305815927394304  544733829706293249  544733553456844800   \n5799                None                None                None   \n5800                None                None                None   \n5801                None                None                None   \n\n                      65                  66                  67  \\\n0                   None                None                None   \n1                   None                None                None   \n2                   None                None                None   \n3                   None                None                None   \n4                   None                None                None   \n...                  ...                 ...                 ...   \n5797  544493205585403905  544491205690945536  544495355081928704   \n5798  544731515322916864  544730290393219072  544731876859318272   \n5799                None                None                None   \n5800                None                None                None   \n5801                None                None                None   \n\n                      68                  69                  70  \\\n0                   None                None                None   \n1                   None                None                None   \n2                   None                None                None   \n3                   None                None                None   \n4                   None                None                None   \n...                  ...                 ...                 ...   \n5797  544501088137662464  544471773719584768  544497581985120256   \n5798  544732619347619840  544307963100667904  544731021074505728   \n5799                None                None                None   \n5800                None                None                None   \n5801                None                None                None   \n\n                      71                  72                  73  \\\n0                   None                None                None   \n1                   None                None                None   \n2                   None                None                None   \n3                   None                None                None   \n4                   None                None                None   \n...                  ...                 ...                 ...   \n5797  544499619489931266  544497040202268672  544470068319379456   \n5798  544305156758994944  544729954798555136  544731613075357697   \n5799                None                None                None   \n5800                None                None                None   \n5801                None                None                None   \n\n                      74                  75                  76  \\\n0                   None                None                None   \n1                   None                None                None   \n2                   None                None                None   \n3                   None                None                None   \n4                   None                None                None   \n...                  ...                 ...                 ...   \n5797  544470532955971584  544488517020053504  544471036037591041   \n5798  544730649203322880  544733736919912448  544731418052816897   \n5799                None                None                None   \n5800                None                None                None   \n5801                None                None                None   \n\n                      77                  78                  79  \\\n0                   None                None                None   \n1                   None                None                None   \n2                   None                None                None   \n3                   None                None                None   \n4                   None                None                None   \n...                  ...                 ...                 ...   \n5797  544488734922518528  544507807685308418  544502160742834177   \n5798  544732060561461249  544306010781806594  544730925511483392   \n5799                None                None                None   \n5800                None                None                None   \n5801                None                None                None   \n\n                      80                  81                  82  \\\n0                   None                None                None   \n1                   None                None                None   \n2                   None                None                None   \n3                   None                None                None   \n4                   None                None                None   \n...                  ...                 ...                 ...   \n5797  544480727111598082  544465027928166400  544494939842023425   \n5798  544731786472087553  544732914924417025  544705174317846528   \n5799                None                None                None   \n5800                None                None                None   \n5801                None                None                None   \n\n                      83                  84                  85  \\\n0                   None                None                None   \n1                   None                None                None   \n2                   None                None                None   \n3                   None                None                None   \n4                   None                None                None   \n...                  ...                 ...                 ...   \n5797  544467535404752896  544476135367909376  544492345010692096   \n5798  544731405901905920  544323294514520064  544732553203429377   \n5799                None                None                None   \n5800                None                None                None   \n5801                None                None                None   \n\n                      86                  87                  88  \\\n0                   None                None                None   \n1                   None                None                None   \n2                   None                None                None   \n3                   None                None                None   \n4                   None                None                None   \n...                  ...                 ...                 ...   \n5797                None                None                None   \n5798  544731899357569024  544733153462853632  544306150418956288   \n5799                None                None                None   \n5800                None                None                None   \n5801                None                None                None   \n\n                      89                  90                  91  \\\n0                   None                None                None   \n1                   None                None                None   \n2                   None                None                None   \n3                   None                None                None   \n4                   None                None                None   \n...                  ...                 ...                 ...   \n5797                None                None                None   \n5798  544732767268126721  544582091456147458  544305358412324864   \n5799                None                None                None   \n5800                None                None                None   \n5801                None                None                None   \n\n                      92                  93                  94  \\\n0                   None                None                None   \n1                   None                None                None   \n2                   None                None                None   \n3                   None                None                None   \n4                   None                None                None   \n...                  ...                 ...                 ...   \n5797                None                None                None   \n5798  544546180274077697  544306235835957249  544686998880268288   \n5799                None                None                None   \n5800                None                None                None   \n5801                None                None                None   \n\n                      95                  96                  97  \\\n0                   None                None                None   \n1                   None                None                None   \n2                   None                None                None   \n3                   None                None                None   \n4                   None                None                None   \n...                  ...                 ...                 ...   \n5797                None                None                None   \n5798  544574063461810176  544731165413081088  544733689046122496   \n5799                None                None                None   \n5800                None                None                None   \n5801                None                None                None   \n\n                      98                  99                 100  \\\n0                   None                None                None   \n1                   None                None                None   \n2                   None                None                None   \n3                   None                None                None   \n4                   None                None                None   \n...                  ...                 ...                 ...   \n5797                None                None                None   \n5798  544535472312053760  544309726033375232  544867340362727424   \n5799                None                None                None   \n5800                None                None                None   \n5801                None                None                None   \n\n                     101                 102                 103  \\\n0                   None                None                None   \n1                   None                None                None   \n2                   None                None                None   \n3                   None                None                None   \n4                   None                None                None   \n...                  ...                 ...                 ...   \n5797                None                None                None   \n5798  544305766430416898  544450625048956929  544306392463851520   \n5799                None                None                None   \n5800                None                None                None   \n5801                None                None                None   \n\n                     104                 105   106   107   108   109   110  \\\n0                   None                None  None  None  None  None  None   \n1                   None                None  None  None  None  None  None   \n2                   None                None  None  None  None  None  None   \n3                   None                None  None  None  None  None  None   \n4                   None                None  None  None  None  None  None   \n...                  ...                 ...   ...   ...   ...   ...   ...   \n5797                None                None  None  None  None  None  None   \n5798  544732667384979456  544548015047184384  None  None  None  None  None   \n5799                None                None  None  None  None  None  None   \n5800                None                None  None  None  None  None  None   \n5801                None                None  None  None  None  None  None   \n\n       111   112   113   114   115   116   117   118   119   120   121   122  \\\n0     None  None  None  None  None  None  None  None  None  None  None  None   \n1     None  None  None  None  None  None  None  None  None  None  None  None   \n2     None  None  None  None  None  None  None  None  None  None  None  None   \n3     None  None  None  None  None  None  None  None  None  None  None  None   \n4     None  None  None  None  None  None  None  None  None  None  None  None   \n...    ...   ...   ...   ...   ...   ...   ...   ...   ...   ...   ...   ...   \n5797  None  None  None  None  None  None  None  None  None  None  None  None   \n5798  None  None  None  None  None  None  None  None  None  None  None  None   \n5799  None  None  None  None  None  None  None  None  None  None  None  None   \n5800  None  None  None  None  None  None  None  None  None  None  None  None   \n5801  None  None  None  None  None  None  None  None  None  None  None  None   \n\n       123   124   125   126   127   128   129   130   131   132   133   134  \\\n0     None  None  None  None  None  None  None  None  None  None  None  None   \n1     None  None  None  None  None  None  None  None  None  None  None  None   \n2     None  None  None  None  None  None  None  None  None  None  None  None   \n3     None  None  None  None  None  None  None  None  None  None  None  None   \n4     None  None  None  None  None  None  None  None  None  None  None  None   \n...    ...   ...   ...   ...   ...   ...   ...   ...   ...   ...   ...   ...   \n5797  None  None  None  None  None  None  None  None  None  None  None  None   \n5798  None  None  None  None  None  None  None  None  None  None  None  None   \n5799  None  None  None  None  None  None  None  None  None  None  None  None   \n5800  None  None  None  None  None  None  None  None  None  None  None  None   \n5801  None  None  None  None  None  None  None  None  None  None  None  None   \n\n       135   136   137   138   139   140   141   142   143   144   145   146  \\\n0     None  None  None  None  None  None  None  None  None  None  None  None   \n1     None  None  None  None  None  None  None  None  None  None  None  None   \n2     None  None  None  None  None  None  None  None  None  None  None  None   \n3     None  None  None  None  None  None  None  None  None  None  None  None   \n4     None  None  None  None  None  None  None  None  None  None  None  None   \n...    ...   ...   ...   ...   ...   ...   ...   ...   ...   ...   ...   ...   \n5797  None  None  None  None  None  None  None  None  None  None  None  None   \n5798  None  None  None  None  None  None  None  None  None  None  None  None   \n5799  None  None  None  None  None  None  None  None  None  None  None  None   \n5800  None  None  None  None  None  None  None  None  None  None  None  None   \n5801  None  None  None  None  None  None  None  None  None  None  None  None   \n\n       147   148   149   150   151   152   153   154   155   156   157   158  \\\n0     None  None  None  None  None  None  None  None  None  None  None  None   \n1     None  None  None  None  None  None  None  None  None  None  None  None   \n2     None  None  None  None  None  None  None  None  None  None  None  None   \n3     None  None  None  None  None  None  None  None  None  None  None  None   \n4     None  None  None  None  None  None  None  None  None  None  None  None   \n...    ...   ...   ...   ...   ...   ...   ...   ...   ...   ...   ...   ...   \n5797  None  None  None  None  None  None  None  None  None  None  None  None   \n5798  None  None  None  None  None  None  None  None  None  None  None  None   \n5799  None  None  None  None  None  None  None  None  None  None  None  None   \n5800  None  None  None  None  None  None  None  None  None  None  None  None   \n5801  None  None  None  None  None  None  None  None  None  None  None  None   \n\n       159   160   161   162   163   164   165   166   167   168   169   170  \\\n0     None  None  None  None  None  None  None  None  None  None  None  None   \n1     None  None  None  None  None  None  None  None  None  None  None  None   \n2     None  None  None  None  None  None  None  None  None  None  None  None   \n3     None  None  None  None  None  None  None  None  None  None  None  None   \n4     None  None  None  None  None  None  None  None  None  None  None  None   \n...    ...   ...   ...   ...   ...   ...   ...   ...   ...   ...   ...   ...   \n5797  None  None  None  None  None  None  None  None  None  None  None  None   \n5798  None  None  None  None  None  None  None  None  None  None  None  None   \n5799  None  None  None  None  None  None  None  None  None  None  None  None   \n5800  None  None  None  None  None  None  None  None  None  None  None  None   \n5801  None  None  None  None  None  None  None  None  None  None  None  None   \n\n       171   172   173   174   175   176   177   178   179   180   181   182  \\\n0     None  None  None  None  None  None  None  None  None  None  None  None   \n1     None  None  None  None  None  None  None  None  None  None  None  None   \n2     None  None  None  None  None  None  None  None  None  None  None  None   \n3     None  None  None  None  None  None  None  None  None  None  None  None   \n4     None  None  None  None  None  None  None  None  None  None  None  None   \n...    ...   ...   ...   ...   ...   ...   ...   ...   ...   ...   ...   ...   \n5797  None  None  None  None  None  None  None  None  None  None  None  None   \n5798  None  None  None  None  None  None  None  None  None  None  None  None   \n5799  None  None  None  None  None  None  None  None  None  None  None  None   \n5800  None  None  None  None  None  None  None  None  None  None  None  None   \n5801  None  None  None  None  None  None  None  None  None  None  None  None   \n\n       183   184   185   186   187   188   189   190   191   192   193   194  \\\n0     None  None  None  None  None  None  None  None  None  None  None  None   \n1     None  None  None  None  None  None  None  None  None  None  None  None   \n2     None  None  None  None  None  None  None  None  None  None  None  None   \n3     None  None  None  None  None  None  None  None  None  None  None  None   \n4     None  None  None  None  None  None  None  None  None  None  None  None   \n...    ...   ...   ...   ...   ...   ...   ...   ...   ...   ...   ...   ...   \n5797  None  None  None  None  None  None  None  None  None  None  None  None   \n5798  None  None  None  None  None  None  None  None  None  None  None  None   \n5799  None  None  None  None  None  None  None  None  None  None  None  None   \n5800  None  None  None  None  None  None  None  None  None  None  None  None   \n5801  None  None  None  None  None  None  None  None  None  None  None  None   \n\n       195   196   197   198   199   200   201   202   203   204   205   206  \\\n0     None  None  None  None  None  None  None  None  None  None  None  None   \n1     None  None  None  None  None  None  None  None  None  None  None  None   \n2     None  None  None  None  None  None  None  None  None  None  None  None   \n3     None  None  None  None  None  None  None  None  None  None  None  None   \n4     None  None  None  None  None  None  None  None  None  None  None  None   \n...    ...   ...   ...   ...   ...   ...   ...   ...   ...   ...   ...   ...   \n5797  None  None  None  None  None  None  None  None  None  None  None  None   \n5798  None  None  None  None  None  None  None  None  None  None  None  None   \n5799  None  None  None  None  None  None  None  None  None  None  None  None   \n5800  None  None  None  None  None  None  None  None  None  None  None  None   \n5801  None  None  None  None  None  None  None  None  None  None  None  None   \n\n       207   208   209   210   211   212   213   214   215   216   217   218  \\\n0     None  None  None  None  None  None  None  None  None  None  None  None   \n1     None  None  None  None  None  None  None  None  None  None  None  None   \n2     None  None  None  None  None  None  None  None  None  None  None  None   \n3     None  None  None  None  None  None  None  None  None  None  None  None   \n4     None  None  None  None  None  None  None  None  None  None  None  None   \n...    ...   ...   ...   ...   ...   ...   ...   ...   ...   ...   ...   ...   \n5797  None  None  None  None  None  None  None  None  None  None  None  None   \n5798  None  None  None  None  None  None  None  None  None  None  None  None   \n5799  None  None  None  None  None  None  None  None  None  None  None  None   \n5800  None  None  None  None  None  None  None  None  None  None  None  None   \n5801  None  None  None  None  None  None  None  None  None  None  None  None   \n\n       219   220   221   222   223   224   225   226   227   228   229   230  \\\n0     None  None  None  None  None  None  None  None  None  None  None  None   \n1     None  None  None  None  None  None  None  None  None  None  None  None   \n2     None  None  None  None  None  None  None  None  None  None  None  None   \n3     None  None  None  None  None  None  None  None  None  None  None  None   \n4     None  None  None  None  None  None  None  None  None  None  None  None   \n...    ...   ...   ...   ...   ...   ...   ...   ...   ...   ...   ...   ...   \n5797  None  None  None  None  None  None  None  None  None  None  None  None   \n5798  None  None  None  None  None  None  None  None  None  None  None  None   \n5799  None  None  None  None  None  None  None  None  None  None  None  None   \n5800  None  None  None  None  None  None  None  None  None  None  None  None   \n5801  None  None  None  None  None  None  None  None  None  None  None  None   \n\n       231   232   233   234   235   236   237   238   239   240   241   242  \\\n0     None  None  None  None  None  None  None  None  None  None  None  None   \n1     None  None  None  None  None  None  None  None  None  None  None  None   \n2     None  None  None  None  None  None  None  None  None  None  None  None   \n3     None  None  None  None  None  None  None  None  None  None  None  None   \n4     None  None  None  None  None  None  None  None  None  None  None  None   \n...    ...   ...   ...   ...   ...   ...   ...   ...   ...   ...   ...   ...   \n5797  None  None  None  None  None  None  None  None  None  None  None  None   \n5798  None  None  None  None  None  None  None  None  None  None  None  None   \n5799  None  None  None  None  None  None  None  None  None  None  None  None   \n5800  None  None  None  None  None  None  None  None  None  None  None  None   \n5801  None  None  None  None  None  None  None  None  None  None  None  None   \n\n       243   244   245   246   247   248   249   250   251   252   253   254  \\\n0     None  None  None  None  None  None  None  None  None  None  None  None   \n1     None  None  None  None  None  None  None  None  None  None  None  None   \n2     None  None  None  None  None  None  None  None  None  None  None  None   \n3     None  None  None  None  None  None  None  None  None  None  None  None   \n4     None  None  None  None  None  None  None  None  None  None  None  None   \n...    ...   ...   ...   ...   ...   ...   ...   ...   ...   ...   ...   ...   \n5797  None  None  None  None  None  None  None  None  None  None  None  None   \n5798  None  None  None  None  None  None  None  None  None  None  None  None   \n5799  None  None  None  None  None  None  None  None  None  None  None  None   \n5800  None  None  None  None  None  None  None  None  None  None  None  None   \n5801  None  None  None  None  None  None  None  None  None  None  None  None   \n\n       255   256   257   258   259   260   261   262   263   264   265   266  \\\n0     None  None  None  None  None  None  None  None  None  None  None  None   \n1     None  None  None  None  None  None  None  None  None  None  None  None   \n2     None  None  None  None  None  None  None  None  None  None  None  None   \n3     None  None  None  None  None  None  None  None  None  None  None  None   \n4     None  None  None  None  None  None  None  None  None  None  None  None   \n...    ...   ...   ...   ...   ...   ...   ...   ...   ...   ...   ...   ...   \n5797  None  None  None  None  None  None  None  None  None  None  None  None   \n5798  None  None  None  None  None  None  None  None  None  None  None  None   \n5799  None  None  None  None  None  None  None  None  None  None  None  None   \n5800  None  None  None  None  None  None  None  None  None  None  None  None   \n5801  None  None  None  None  None  None  None  None  None  None  None  None   \n\n       267   268   269   270   271   272   273   274   275   276   277   278  \\\n0     None  None  None  None  None  None  None  None  None  None  None  None   \n1     None  None  None  None  None  None  None  None  None  None  None  None   \n2     None  None  None  None  None  None  None  None  None  None  None  None   \n3     None  None  None  None  None  None  None  None  None  None  None  None   \n4     None  None  None  None  None  None  None  None  None  None  None  None   \n...    ...   ...   ...   ...   ...   ...   ...   ...   ...   ...   ...   ...   \n5797  None  None  None  None  None  None  None  None  None  None  None  None   \n5798  None  None  None  None  None  None  None  None  None  None  None  None   \n5799  None  None  None  None  None  None  None  None  None  None  None  None   \n5800  None  None  None  None  None  None  None  None  None  None  None  None   \n5801  None  None  None  None  None  None  None  None  None  None  None  None   \n\n       279   280   281   282   283   284   285   286   287   288   289   290  \\\n0     None  None  None  None  None  None  None  None  None  None  None  None   \n1     None  None  None  None  None  None  None  None  None  None  None  None   \n2     None  None  None  None  None  None  None  None  None  None  None  None   \n3     None  None  None  None  None  None  None  None  None  None  None  None   \n4     None  None  None  None  None  None  None  None  None  None  None  None   \n...    ...   ...   ...   ...   ...   ...   ...   ...   ...   ...   ...   ...   \n5797  None  None  None  None  None  None  None  None  None  None  None  None   \n5798  None  None  None  None  None  None  None  None  None  None  None  None   \n5799  None  None  None  None  None  None  None  None  None  None  None  None   \n5800  None  None  None  None  None  None  None  None  None  None  None  None   \n5801  None  None  None  None  None  None  None  None  None  None  None  None   \n\n       291   292   293   294   295   296   297   298   299   300   301   302  \\\n0     None  None  None  None  None  None  None  None  None  None  None  None   \n1     None  None  None  None  None  None  None  None  None  None  None  None   \n2     None  None  None  None  None  None  None  None  None  None  None  None   \n3     None  None  None  None  None  None  None  None  None  None  None  None   \n4     None  None  None  None  None  None  None  None  None  None  None  None   \n...    ...   ...   ...   ...   ...   ...   ...   ...   ...   ...   ...   ...   \n5797  None  None  None  None  None  None  None  None  None  None  None  None   \n5798  None  None  None  None  None  None  None  None  None  None  None  None   \n5799  None  None  None  None  None  None  None  None  None  None  None  None   \n5800  None  None  None  None  None  None  None  None  None  None  None  None   \n5801  None  None  None  None  None  None  None  None  None  None  None  None   \n\n       303   304   305   306   307   308   309   310   311   312   313   314  \\\n0     None  None  None  None  None  None  None  None  None  None  None  None   \n1     None  None  None  None  None  None  None  None  None  None  None  None   \n2     None  None  None  None  None  None  None  None  None  None  None  None   \n3     None  None  None  None  None  None  None  None  None  None  None  None   \n4     None  None  None  None  None  None  None  None  None  None  None  None   \n...    ...   ...   ...   ...   ...   ...   ...   ...   ...   ...   ...   ...   \n5797  None  None  None  None  None  None  None  None  None  None  None  None   \n5798  None  None  None  None  None  None  None  None  None  None  None  None   \n5799  None  None  None  None  None  None  None  None  None  None  None  None   \n5800  None  None  None  None  None  None  None  None  None  None  None  None   \n5801  None  None  None  None  None  None  None  None  None  None  None  None   \n\n       315   316   317   318   319   320   321   322   323   324   325   326  \\\n0     None  None  None  None  None  None  None  None  None  None  None  None   \n1     None  None  None  None  None  None  None  None  None  None  None  None   \n2     None  None  None  None  None  None  None  None  None  None  None  None   \n3     None  None  None  None  None  None  None  None  None  None  None  None   \n4     None  None  None  None  None  None  None  None  None  None  None  None   \n...    ...   ...   ...   ...   ...   ...   ...   ...   ...   ...   ...   ...   \n5797  None  None  None  None  None  None  None  None  None  None  None  None   \n5798  None  None  None  None  None  None  None  None  None  None  None  None   \n5799  None  None  None  None  None  None  None  None  None  None  None  None   \n5800  None  None  None  None  None  None  None  None  None  None  None  None   \n5801  None  None  None  None  None  None  None  None  None  None  None  None   \n\n       327   328   329   330   331   332   333   334   335   336   337   338  \\\n0     None  None  None  None  None  None  None  None  None  None  None  None   \n1     None  None  None  None  None  None  None  None  None  None  None  None   \n2     None  None  None  None  None  None  None  None  None  None  None  None   \n3     None  None  None  None  None  None  None  None  None  None  None  None   \n4     None  None  None  None  None  None  None  None  None  None  None  None   \n...    ...   ...   ...   ...   ...   ...   ...   ...   ...   ...   ...   ...   \n5797  None  None  None  None  None  None  None  None  None  None  None  None   \n5798  None  None  None  None  None  None  None  None  None  None  None  None   \n5799  None  None  None  None  None  None  None  None  None  None  None  None   \n5800  None  None  None  None  None  None  None  None  None  None  None  None   \n5801  None  None  None  None  None  None  None  None  None  None  None  None   \n\n       339   340   341   342   343   344  depth  \n0     None  None  None  None  None  None      2  \n1     None  None  None  None  None  None      4  \n2     None  None  None  None  None  None      2  \n3     None  None  None  None  None  None      3  \n4     None  None  None  None  None  None      2  \n...    ...   ...   ...   ...   ...   ...    ...  \n5797  None  None  None  None  None  None     20  \n5798  None  None  None  None  None  None     20  \n5799  None  None  None  None  None  None      4  \n5800  None  None  None  None  None  None     16  \n5801  None  None  None  None  None  None      3  \n\n[5802 rows x 347 columns]"
     },
     "execution_count": 36,
     "metadata": {},
     "output_type": "execute_result"
    }
   ],
   "source": [
    "pheme_structure"
   ]
  },
  {
   "cell_type": "markdown",
   "metadata": {},
   "source": [
    "## PHEME ALL Process"
   ]
  },
  {
   "cell_type": "code",
   "execution_count": 29,
   "metadata": {},
   "outputs": [
    {
     "name": "stdout",
     "output_type": "stream",
     "text": [
      "(125208, 42)\n",
      "(5802, 347)\n"
     ]
    }
   ],
   "source": [
    "all_pheme = pd.read_csv(\"./data/all/_PHEMEall.csv\")\n",
    "structure_pheme = pd.read_csv(\"./data/all/_PHEME_structure.csv\")\n",
    "print(all_pheme.shape)\n",
    "print(structure_pheme.shape)"
   ]
  },
  {
   "cell_type": "code",
   "execution_count": 361,
   "metadata": {},
   "outputs": [],
   "source": [
    "pheme_thread = getThreadInfo(structure_pheme, all_pheme)\n",
    "pheme_thread = pheme_thread.fillna(0)\n",
    "pheme_thread = pheme_thread.replace(-np.inf, 0)\n",
    "pheme_thread.head(15)\n",
    "pheme_thread.to_csv('./data/_PHEME_thread.csv', index = False)"
   ]
  },
  {
   "cell_type": "markdown",
   "metadata": {},
   "source": [
    "## PHEME Thread 결과"
   ]
  },
  {
   "cell_type": "markdown",
   "metadata": {},
   "source": [
    "## PHEMEext Create"
   ]
  },
  {
   "cell_type": "code",
   "execution_count": 16,
   "metadata": {},
   "outputs": [
    {
     "name": "stdout",
     "output_type": "stream",
     "text": [
      "ebola-essien's length is 226\n",
      "prince-toronto's length is 902\n",
      "putinmissing's length is 835\n",
      "(1963, 42)\n"
     ]
    },
    {
     "data": {
      "text/html": "<div>\n<style scoped>\n    .dataframe tbody tr th:only-of-type {\n        vertical-align: middle;\n    }\n\n    .dataframe tbody tr th {\n        vertical-align: top;\n    }\n\n    .dataframe thead th {\n        text-align: right;\n    }\n</style>\n<table border=\"1\" class=\"dataframe\">\n  <thead>\n    <tr style=\"text-align: right;\">\n      <th></th>\n      <th>text</th>\n      <th>id</th>\n      <th>pid</th>\n      <th>emoji_count</th>\n      <th>has_media</th>\n      <th>URLcount</th>\n      <th>Skepticism</th>\n      <th>MentionCount</th>\n      <th>token_for_POS</th>\n      <th>Noun</th>\n      <th>Verb</th>\n      <th>Adjective</th>\n      <th>Pronoun</th>\n      <th>FirstPersonPronoun</th>\n      <th>SecondPersonPronoun</th>\n      <th>ThirdPersonPronoun</th>\n      <th>Adverb</th>\n      <th>Numeral</th>\n      <th>Conjunction_inj</th>\n      <th>Particle</th>\n      <th>Determiner</th>\n      <th>Modal</th>\n      <th>Whs</th>\n      <th>char_count</th>\n      <th>word_count</th>\n      <th>HashTag</th>\n      <th>has_question</th>\n      <th>has_exclaim</th>\n      <th>has_period</th>\n      <th>retweet_count</th>\n      <th>isRT</th>\n      <th>tweet_count</th>\n      <th>listed_count</th>\n      <th>friends_count</th>\n      <th>follow_ratio</th>\n      <th>account_age_days</th>\n      <th>tweet_created</th>\n      <th>capital_ratio</th>\n      <th>verified</th>\n      <th>Event</th>\n      <th>isSrcTweet</th>\n      <th>target</th>\n    </tr>\n  </thead>\n  <tbody>\n    <tr>\n      <th>0</th>\n      <td>@Mourinholic 😕😕 http://t.co/sFoV1v8uDo</td>\n      <td>521410632953131008</td>\n      <td>521369179392581632.00000</td>\n      <td>2</td>\n      <td>1</td>\n      <td>0</td>\n      <td>2</td>\n      <td>1</td>\n      <td>[]</td>\n      <td>0</td>\n      <td>0</td>\n      <td>0</td>\n      <td>0</td>\n      <td>0</td>\n      <td>0</td>\n      <td>0</td>\n      <td>0</td>\n      <td>0</td>\n      <td>0</td>\n      <td>0</td>\n      <td>0</td>\n      <td>0</td>\n      <td>0</td>\n      <td>38</td>\n      <td>3</td>\n      <td>0</td>\n      <td>0</td>\n      <td>0</td>\n      <td>1</td>\n      <td>0</td>\n      <td>0</td>\n      <td>4.89226</td>\n      <td>1.20412</td>\n      <td>3.13799</td>\n      <td>3.56062</td>\n      <td>1569</td>\n      <td>1413148956.00000</td>\n      <td>0.10526</td>\n      <td>0</td>\n      <td>ebola-essien</td>\n      <td>0</td>\n      <td>1</td>\n    </tr>\n    <tr>\n      <th>1</th>\n      <td>“@Mourinholic: Micheal Essien denying the Ebola rumours like https://t.co/8Yo8iLgISS”</td>\n      <td>521373142347153409</td>\n      <td>521369179392581632.00000</td>\n      <td>0</td>\n      <td>0</td>\n      <td>1</td>\n      <td>5</td>\n      <td>1</td>\n      <td>[micheal, essien, denying, the, ebola, rumours, like]</td>\n      <td>2</td>\n      <td>2</td>\n      <td>1</td>\n      <td>0</td>\n      <td>0</td>\n      <td>0</td>\n      <td>0</td>\n      <td>0</td>\n      <td>0</td>\n      <td>1</td>\n      <td>0</td>\n      <td>1</td>\n      <td>0</td>\n      <td>0</td>\n      <td>85</td>\n      <td>9</td>\n      <td>0</td>\n      <td>0</td>\n      <td>0</td>\n      <td>1</td>\n      <td>0</td>\n      <td>0</td>\n      <td>3.58827</td>\n      <td>0.90309</td>\n      <td>3.10072</td>\n      <td>3.10653</td>\n      <td>242</td>\n      <td>1413140018.00000</td>\n      <td>0.10588</td>\n      <td>0</td>\n      <td>ebola-essien</td>\n      <td>0</td>\n      <td>1</td>\n    </tr>\n    <tr>\n      <th>2</th>\n      <td>@Mourinholic Hmmm.</td>\n      <td>521369380249432064</td>\n      <td>521369179392581632.00000</td>\n      <td>0</td>\n      <td>0</td>\n      <td>0</td>\n      <td>1</td>\n      <td>1</td>\n      <td>[hmmm]</td>\n      <td>1</td>\n      <td>0</td>\n      <td>0</td>\n      <td>0</td>\n      <td>0</td>\n      <td>0</td>\n      <td>0</td>\n      <td>0</td>\n      <td>0</td>\n      <td>0</td>\n      <td>0</td>\n      <td>0</td>\n      <td>0</td>\n      <td>0</td>\n      <td>18</td>\n      <td>2</td>\n      <td>0</td>\n      <td>0</td>\n      <td>0</td>\n      <td>1</td>\n      <td>0</td>\n      <td>0</td>\n      <td>4.52289</td>\n      <td>1.17609</td>\n      <td>1.89209</td>\n      <td>3.14426</td>\n      <td>653</td>\n      <td>1413139121.00000</td>\n      <td>0.11111</td>\n      <td>0</td>\n      <td>ebola-essien</td>\n      <td>0</td>\n      <td>1</td>\n    </tr>\n    <tr>\n      <th>3</th>\n      <td>@Mourinholic Even though it was against us, it was a bloody amazing goal.</td>\n      <td>521370496928337920</td>\n      <td>521369179392581632.00000</td>\n      <td>0</td>\n      <td>0</td>\n      <td>0</td>\n      <td>3</td>\n      <td>1</td>\n      <td>[even, though, it, was, against, us, it, was, a, bloody, amazing, goal]</td>\n      <td>1</td>\n      <td>2</td>\n      <td>2</td>\n      <td>3</td>\n      <td>1</td>\n      <td>0</td>\n      <td>2</td>\n      <td>1</td>\n      <td>0</td>\n      <td>2</td>\n      <td>0</td>\n      <td>1</td>\n      <td>0</td>\n      <td>0</td>\n      <td>73</td>\n      <td>13</td>\n      <td>0</td>\n      <td>0</td>\n      <td>0</td>\n      <td>1</td>\n      <td>0</td>\n      <td>0</td>\n      <td>2.96755</td>\n      <td>0.00000</td>\n      <td>2.35025</td>\n      <td>1.75587</td>\n      <td>1762</td>\n      <td>1413139387.00000</td>\n      <td>0.02740</td>\n      <td>0</td>\n      <td>ebola-essien</td>\n      <td>0</td>\n      <td>1</td>\n    </tr>\n    <tr>\n      <th>4</th>\n      <td>@CdtChoco1er thanks bro.</td>\n      <td>521370224256614400</td>\n      <td>521370061550809088.00000</td>\n      <td>0</td>\n      <td>0</td>\n      <td>0</td>\n      <td>2</td>\n      <td>1</td>\n      <td>[thanks, bro]</td>\n      <td>1</td>\n      <td>1</td>\n      <td>0</td>\n      <td>0</td>\n      <td>0</td>\n      <td>0</td>\n      <td>0</td>\n      <td>0</td>\n      <td>0</td>\n      <td>0</td>\n      <td>0</td>\n      <td>0</td>\n      <td>0</td>\n      <td>0</td>\n      <td>24</td>\n      <td>3</td>\n      <td>0</td>\n      <td>0</td>\n      <td>0</td>\n      <td>1</td>\n      <td>0</td>\n      <td>0</td>\n      <td>4.62381</td>\n      <td>2.20140</td>\n      <td>2.82607</td>\n      <td>4.35601</td>\n      <td>1570</td>\n      <td>1413139322.00000</td>\n      <td>0.08333</td>\n      <td>0</td>\n      <td>ebola-essien</td>\n      <td>0</td>\n      <td>1</td>\n    </tr>\n  </tbody>\n</table>\n</div>",
      "text/plain": "                                                                                    text  \\\n0                                                 @Mourinholic 😕😕 http://t.co/sFoV1v8uDo   \n1  “@Mourinholic: Micheal Essien denying the Ebola rumours like https://t.co/8Yo8iLgISS”   \n2                                                                     @Mourinholic Hmmm.   \n3              @Mourinholic Even though it was against us, it was a bloody amazing goal.   \n4                                                               @CdtChoco1er thanks bro.   \n\n                   id                      pid  emoji_count  has_media  \\\n0  521410632953131008 521369179392581632.00000            2          1   \n1  521373142347153409 521369179392581632.00000            0          0   \n2  521369380249432064 521369179392581632.00000            0          0   \n3  521370496928337920 521369179392581632.00000            0          0   \n4  521370224256614400 521370061550809088.00000            0          0   \n\n   URLcount  Skepticism  MentionCount  \\\n0         0           2             1   \n1         1           5             1   \n2         0           1             1   \n3         0           3             1   \n4         0           2             1   \n\n                                                             token_for_POS  \\\n0                                                                       []   \n1                    [micheal, essien, denying, the, ebola, rumours, like]   \n2                                                                   [hmmm]   \n3  [even, though, it, was, against, us, it, was, a, bloody, amazing, goal]   \n4                                                            [thanks, bro]   \n\n   Noun  Verb  Adjective  Pronoun  FirstPersonPronoun  SecondPersonPronoun  \\\n0     0     0          0        0                   0                    0   \n1     2     2          1        0                   0                    0   \n2     1     0          0        0                   0                    0   \n3     1     2          2        3                   1                    0   \n4     1     1          0        0                   0                    0   \n\n   ThirdPersonPronoun  Adverb  Numeral  Conjunction_inj  Particle  Determiner  \\\n0                   0       0        0                0         0           0   \n1                   0       0        0                1         0           1   \n2                   0       0        0                0         0           0   \n3                   2       1        0                2         0           1   \n4                   0       0        0                0         0           0   \n\n   Modal  Whs  char_count  word_count  HashTag  has_question  has_exclaim  \\\n0      0    0          38           3        0             0            0   \n1      0    0          85           9        0             0            0   \n2      0    0          18           2        0             0            0   \n3      0    0          73          13        0             0            0   \n4      0    0          24           3        0             0            0   \n\n   has_period  retweet_count isRT  tweet_count  listed_count  friends_count  \\\n0           1              0    0      4.89226       1.20412        3.13799   \n1           1              0    0      3.58827       0.90309        3.10072   \n2           1              0    0      4.52289       1.17609        1.89209   \n3           1              0    0      2.96755       0.00000        2.35025   \n4           1              0    0      4.62381       2.20140        2.82607   \n\n   follow_ratio  account_age_days    tweet_created  capital_ratio  verified  \\\n0       3.56062              1569 1413148956.00000        0.10526         0   \n1       3.10653               242 1413140018.00000        0.10588         0   \n2       3.14426               653 1413139121.00000        0.11111         0   \n3       1.75587              1762 1413139387.00000        0.02740         0   \n4       4.35601              1570 1413139322.00000        0.08333         0   \n\n          Event  isSrcTweet  target  \n0  ebola-essien           0       1  \n1  ebola-essien           0       1  \n2  ebola-essien           0       1  \n3  ebola-essien           0       1  \n4  ebola-essien           0       1  "
     },
     "execution_count": 16,
     "metadata": {},
     "output_type": "execute_result"
    }
   ],
   "source": [
    "path = \"../PHEME/all-rnr-annotated-threads\"\n",
    "events = ['ebola-essien', 'prince-toronto', 'putinmissing']\n",
    "# events = ['ebola-essien']\n",
    "tweetType = '*'\n",
    "\n",
    "all_ext = fetchRawText_all(path, events, tweetType)\n",
    "all_ext.isRT = all_ext.isRT.replace({True: 1, False: 0}) \n",
    "all_ext.verified = all_ext.verified.replace({True: 1, False: 0}) \n",
    "all_ext.has_question = all_ext.has_question.replace({True: 1, False: 0}) \n",
    "all_ext.has_exclaim = all_ext.has_exclaim.replace({True: 1, False: 0}) \n",
    "all_ext.has_period = all_ext.has_period.replace({True: 1, False: 0}) \n",
    "all_ext = all_ext.replace(-np.inf, 0)\n",
    "\n",
    "print(all_ext.shape)\n",
    "all_ext.head(5)"
   ]
  },
  {
   "cell_type": "code",
   "execution_count": 244,
   "metadata": {},
   "outputs": [],
   "source": [
    "all_ext.to_csv('./data/all/_PHEMEextall.csv', index = False)"
   ]
  },
  {
   "cell_type": "code",
   "execution_count": 223,
   "metadata": {},
   "outputs": [
    {
     "name": "stdout",
     "output_type": "stream",
     "text": [
      "ebola-essien's structure.json number is 14\n",
      "prince-toronto's structure.json number is 233\n",
      "putinmissing's structure.json number is 238\n"
     ]
    }
   ],
   "source": [
    "import os\n",
    "# ext_structure = getThreadData(path, events)\n",
    "structure_ext = getThreadData(path, events)"
   ]
  },
  {
   "cell_type": "code",
   "execution_count": 339,
   "metadata": {},
   "outputs": [],
   "source": [
    "structure_ext.to_csv('./data/all/_PHEMEext_structure.csv', index = False)"
   ]
  },
  {
   "cell_type": "markdown",
   "metadata": {},
   "source": [
    "## PHEMEext Thread data PROCESS"
   ]
  },
  {
   "cell_type": "code",
   "execution_count": 54,
   "metadata": {},
   "outputs": [
    {
     "name": "stdout",
     "output_type": "stream",
     "text": [
      "(1963, 42)\n",
      "(485, 28)\n"
     ]
    }
   ],
   "source": [
    "all_ext = pd.read_csv(\"./data/all/_PHEMEextall.csv\")\n",
    "structure_ext = pd.read_csv(\"./data/all/_PHEMEext_structure.csv\")\n",
    "ext_y = pd.read_csv('./data/_PHEMEext_target.csv')\n",
    "print(all_ext.shape)\n",
    "print(structure_ext.shape)"
   ]
  },
  {
   "cell_type": "code",
   "execution_count": 36,
   "metadata": {},
   "outputs": [],
   "source": [
    "# all_ext.loc[all_ext.id.isna() == True] #= all_pheme.id.astype(int)"
   ]
  },
  {
   "cell_type": "code",
   "execution_count": 55,
   "metadata": {},
   "outputs": [],
   "source": [
    "# SUM FriendsCount\tAVG FriendsCount 들이 -inf 값 포함\n",
    "ext_thread = getThreadInfo(structure_ext, all_ext)\n",
    "ext_thread = ext_thread.fillna(0)\n",
    "ext_thread = ext_thread.replace(-np.inf, 0)\n",
    "ext_thread.head(15)\n",
    "ext_thread.to_csv('./data/_PHEMEext_thread.csv', index = False)"
   ]
  },
  {
   "cell_type": "markdown",
   "metadata": {},
   "source": [
    "## 👇 Thread 정보만을 추출한 결과\n",
    "아래의 Features들은 모두 한 Root 트윗에 달린 Thread의 정보를 포함한다.\n",
    "\n",
    "---"
   ]
  },
  {
   "cell_type": "code",
   "execution_count": 107,
   "metadata": {},
   "outputs": [
    {
     "name": "stdout",
     "output_type": "stream",
     "text": [
      "<class 'pandas.core.frame.DataFrame'>\n",
      "RangeIndex: 5802 entries, 0 to 5801\n",
      "Data columns (total 36 columns):\n",
      " #   Column            Non-Null Count  Dtype  \n",
      "---  ------            --------------  -----  \n",
      " 0   depth             5802 non-null   int64  \n",
      " 1   SUM FriendsCount  5802 non-null   float64\n",
      " 2   AVG FriendsCount  5802 non-null   float64\n",
      " 3   AVG WordCount     5802 non-null   float64\n",
      " 4   AVG CharCount     5802 non-null   float64\n",
      " 5   AVG HashTag       5802 non-null   float64\n",
      " 6   SUM HashTag       5802 non-null   float64\n",
      " 7   Ratio HashTag     5802 non-null   float64\n",
      " 8   AVG Url           5802 non-null   float64\n",
      " 9   STD Url           5802 non-null   float64\n",
      " 10  RATIO Url         5802 non-null   float64\n",
      " 11  SUM Mention       5802 non-null   float64\n",
      " 12  AVG Mention       5802 non-null   float64\n",
      " 13  Ratio Mention     5802 non-null   float64\n",
      " 14  Tweets Count      5802 non-null   int64  \n",
      " 15  Ratio Verified    5802 non-null   float64\n",
      " 16  SUM Verified      5802 non-null   float64\n",
      " 17  SUM RT            5802 non-null   float64\n",
      " 18  AVG RT            5802 non-null   float64\n",
      " 19  STD RT            5802 non-null   float64\n",
      " 20  AVG AccAge        5802 non-null   float64\n",
      " 21  STD AccAge        5802 non-null   float64\n",
      " 22  thread_time       5802 non-null   float64\n",
      " 23  STD Emoji         5802 non-null   float64\n",
      " 24  AVG Emoji         5802 non-null   float64\n",
      " 25  Ratio Media       5802 non-null   float64\n",
      " 26  RATIO Question    5802 non-null   float64\n",
      " 27  RATIO Exclaim     5802 non-null   float64\n",
      " 28  RATIO Period      5802 non-null   float64\n",
      " 29  AVG FPP           5802 non-null   float64\n",
      " 30  STD FPP           5802 non-null   float64\n",
      " 31  AVG SPP           5802 non-null   float64\n",
      " 32  STD SPP           5802 non-null   float64\n",
      " 33  AVG TPP           5802 non-null   float64\n",
      " 34  STD TPP           5802 non-null   float64\n",
      " 35  AVG Skepticism    5802 non-null   float64\n",
      "dtypes: float64(34), int64(2)\n",
      "memory usage: 1.6 MB\n"
     ]
    }
   ],
   "source": [
    "pheme_thread = pd.read_csv(\"./data/_PHEME_thread.csv\")\n",
    "ext_thread = pd.read_csv(\"./data/_PHEMEext_thread.csv\")\n",
    "pheme_thread.info()"
   ]
  },
  {
   "cell_type": "code",
   "execution_count": 106,
   "metadata": {},
   "outputs": [
    {
     "name": "stdout",
     "output_type": "stream",
     "text": [
      "<class 'pandas.core.frame.DataFrame'>\n",
      "RangeIndex: 485 entries, 0 to 484\n",
      "Data columns (total 36 columns):\n",
      " #   Column            Non-Null Count  Dtype  \n",
      "---  ------            --------------  -----  \n",
      " 0   depth             485 non-null    int64  \n",
      " 1   SUM FriendsCount  485 non-null    float64\n",
      " 2   AVG FriendsCount  485 non-null    float64\n",
      " 3   AVG WordCount     485 non-null    float64\n",
      " 4   AVG CharCount     485 non-null    float64\n",
      " 5   AVG HashTag       485 non-null    float64\n",
      " 6   SUM HashTag       485 non-null    int64  \n",
      " 7   Ratio HashTag     485 non-null    float64\n",
      " 8   AVG Url           485 non-null    float64\n",
      " 9   STD Url           485 non-null    float64\n",
      " 10  RATIO Url         485 non-null    float64\n",
      " 11  SUM Mention       485 non-null    int64  \n",
      " 12  AVG Mention       485 non-null    float64\n",
      " 13  Ratio Mention     485 non-null    float64\n",
      " 14  Tweets Count      485 non-null    int64  \n",
      " 15  Ratio Verified    485 non-null    float64\n",
      " 16  SUM Verified      485 non-null    int64  \n",
      " 17  SUM RT            485 non-null    int64  \n",
      " 18  AVG RT            485 non-null    float64\n",
      " 19  STD RT            485 non-null    float64\n",
      " 20  AVG AccAge        485 non-null    float64\n",
      " 21  STD AccAge        485 non-null    float64\n",
      " 22  thread_time       485 non-null    float64\n",
      " 23  STD Emoji         485 non-null    float64\n",
      " 24  AVG Emoji         485 non-null    float64\n",
      " 25  Ratio Media       485 non-null    float64\n",
      " 26  RATIO Question    485 non-null    float64\n",
      " 27  RATIO Exclaim     485 non-null    float64\n",
      " 28  RATIO Period      485 non-null    float64\n",
      " 29  AVG FPP           485 non-null    float64\n",
      " 30  STD FPP           485 non-null    float64\n",
      " 31  AVG SPP           485 non-null    float64\n",
      " 32  STD SPP           485 non-null    float64\n",
      " 33  AVG TPP           485 non-null    float64\n",
      " 34  STD TPP           485 non-null    float64\n",
      " 35  AVG Skepticism    485 non-null    float64\n",
      "dtypes: float64(30), int64(6)\n",
      "memory usage: 136.5 KB\n"
     ]
    }
   ],
   "source": [
    "ext_thread.info()\n",
    "# ext_thread.sample(30)"
   ]
  },
  {
   "cell_type": "code",
   "execution_count": 95,
   "metadata": {},
   "outputs": [
    {
     "data": {
      "text/html": "<div>\n<style scoped>\n    .dataframe tbody tr th:only-of-type {\n        vertical-align: middle;\n    }\n\n    .dataframe tbody tr th {\n        vertical-align: top;\n    }\n\n    .dataframe thead th {\n        text-align: right;\n    }\n</style>\n<table border=\"1\" class=\"dataframe\">\n  <thead>\n    <tr style=\"text-align: right;\">\n      <th></th>\n      <th>depth</th>\n      <th>SUM FriendsCount</th>\n      <th>AVG FriendsCount</th>\n      <th>AVG WordCount</th>\n      <th>AVG CharCount</th>\n      <th>AVG HashTag</th>\n      <th>SUM HashTag</th>\n      <th>Ratio HashTag</th>\n      <th>AVG Url</th>\n      <th>STD Url</th>\n      <th>RATIO Url</th>\n      <th>SUM Mention</th>\n      <th>AVG Mention</th>\n      <th>Ratio Mention</th>\n      <th>Tweets Count</th>\n      <th>Ratio Verified</th>\n      <th>SUM Verified</th>\n      <th>SUM RT</th>\n      <th>AVG RT</th>\n      <th>STD RT</th>\n      <th>AVG AccAge</th>\n      <th>STD AccAge</th>\n      <th>thread_time</th>\n      <th>STD Emoji</th>\n      <th>AVG Emoji</th>\n      <th>Ratio Media</th>\n      <th>RATIO Question</th>\n      <th>RATIO Exclaim</th>\n      <th>RATIO Period</th>\n      <th>AVG FPP</th>\n      <th>STD FPP</th>\n      <th>AVG SPP</th>\n      <th>STD SPP</th>\n      <th>AVG TPP</th>\n      <th>STD TPP</th>\n      <th>AVG Skepticism</th>\n    </tr>\n  </thead>\n  <tbody>\n    <tr>\n      <th>count</th>\n      <td>5802.00000</td>\n      <td>5802.00000</td>\n      <td>5802.00000</td>\n      <td>5802.00000</td>\n      <td>5802.00000</td>\n      <td>5802.00000</td>\n      <td>5802.00000</td>\n      <td>5802.00000</td>\n      <td>5802.00000</td>\n      <td>5802.00000</td>\n      <td>5802.00000</td>\n      <td>5802.00000</td>\n      <td>5802.00000</td>\n      <td>5802.00000</td>\n      <td>5802.00000</td>\n      <td>5802.00000</td>\n      <td>5802.00000</td>\n      <td>5802.00000</td>\n      <td>5802.00000</td>\n      <td>5802.00000</td>\n      <td>5802.00000</td>\n      <td>5802.00000</td>\n      <td>5802.00000</td>\n      <td>5802.00000</td>\n      <td>5802.00000</td>\n      <td>5802.00000</td>\n      <td>5802.00000</td>\n      <td>5802.00000</td>\n      <td>5802.00000</td>\n      <td>5802.00000</td>\n      <td>5802.00000</td>\n      <td>5802.00000</td>\n      <td>5802.00000</td>\n      <td>5802.00000</td>\n      <td>5802.00000</td>\n      <td>5802.00000</td>\n    </tr>\n    <tr>\n      <th>mean</th>\n      <td>4.44485</td>\n      <td>47.71738</td>\n      <td>2.69625</td>\n      <td>14.12534</td>\n      <td>98.17147</td>\n      <td>0.49636</td>\n      <td>5.68218</td>\n      <td>0.30148</td>\n      <td>0.16980</td>\n      <td>0.23129</td>\n      <td>0.15955</td>\n      <td>30.27749</td>\n      <td>1.40993</td>\n      <td>0.85680</td>\n      <td>17.78904</td>\n      <td>0.09014</td>\n      <td>0.93554</td>\n      <td>593.67890</td>\n      <td>54.18365</td>\n      <td>107.02151</td>\n      <td>1301.45512</td>\n      <td>656.56185</td>\n      <td>42042.33919</td>\n      <td>0.13800</td>\n      <td>0.05157</td>\n      <td>0.15089</td>\n      <td>0.12817</td>\n      <td>0.11582</td>\n      <td>0.68090</td>\n      <td>0.28007</td>\n      <td>0.44079</td>\n      <td>0.16835</td>\n      <td>0.31677</td>\n      <td>0.36429</td>\n      <td>0.52918</td>\n      <td>3.43485</td>\n    </tr>\n    <tr>\n      <th>std</th>\n      <td>3.88666</td>\n      <td>54.60815</td>\n      <td>0.42489</td>\n      <td>3.31060</td>\n      <td>20.47492</td>\n      <td>0.58934</td>\n      <td>6.19011</td>\n      <td>0.26675</td>\n      <td>0.24628</td>\n      <td>0.22348</td>\n      <td>0.22659</td>\n      <td>46.74222</td>\n      <td>0.65022</td>\n      <td>0.22467</td>\n      <td>20.09487</td>\n      <td>0.16636</td>\n      <td>1.54716</td>\n      <td>3559.90091</td>\n      <td>253.02338</td>\n      <td>618.82036</td>\n      <td>404.98186</td>\n      <td>278.92828</td>\n      <td>105966.08161</td>\n      <td>0.57902</td>\n      <td>0.22355</td>\n      <td>0.23264</td>\n      <td>0.13394</td>\n      <td>0.13547</td>\n      <td>0.22620</td>\n      <td>0.28947</td>\n      <td>0.32284</td>\n      <td>0.22777</td>\n      <td>0.29921</td>\n      <td>0.33694</td>\n      <td>0.36382</td>\n      <td>1.18817</td>\n    </tr>\n    <tr>\n      <th>min</th>\n      <td>1.00000</td>\n      <td>0.00000</td>\n      <td>0.00000</td>\n      <td>4.00000</td>\n      <td>32.05263</td>\n      <td>0.00000</td>\n      <td>0.00000</td>\n      <td>0.00000</td>\n      <td>0.00000</td>\n      <td>0.00000</td>\n      <td>0.00000</td>\n      <td>0.00000</td>\n      <td>0.00000</td>\n      <td>0.00000</td>\n      <td>1.00000</td>\n      <td>0.00000</td>\n      <td>0.00000</td>\n      <td>25.00000</td>\n      <td>0.80399</td>\n      <td>0.00000</td>\n      <td>0.00000</td>\n      <td>0.00000</td>\n      <td>0.00000</td>\n      <td>0.00000</td>\n      <td>0.00000</td>\n      <td>0.00000</td>\n      <td>0.00000</td>\n      <td>0.00000</td>\n      <td>0.00000</td>\n      <td>0.00000</td>\n      <td>0.00000</td>\n      <td>0.00000</td>\n      <td>0.00000</td>\n      <td>0.00000</td>\n      <td>0.00000</td>\n      <td>0.00000</td>\n    </tr>\n    <tr>\n      <th>25%</th>\n      <td>2.00000</td>\n      <td>17.68543</td>\n      <td>2.45857</td>\n      <td>12.00000</td>\n      <td>85.55952</td>\n      <td>0.14286</td>\n      <td>2.00000</td>\n      <td>0.10526</td>\n      <td>0.00000</td>\n      <td>0.00000</td>\n      <td>0.00000</td>\n      <td>8.00000</td>\n      <td>1.00000</td>\n      <td>0.85714</td>\n      <td>7.00000</td>\n      <td>0.00000</td>\n      <td>0.00000</td>\n      <td>135.00000</td>\n      <td>11.36364</td>\n      <td>35.36346</td>\n      <td>1050.45909</td>\n      <td>550.85241</td>\n      <td>852.50000</td>\n      <td>0.00000</td>\n      <td>0.00000</td>\n      <td>0.00000</td>\n      <td>0.00000</td>\n      <td>0.00000</td>\n      <td>0.54545</td>\n      <td>0.06667</td>\n      <td>0.22330</td>\n      <td>0.00000</td>\n      <td>0.00000</td>\n      <td>0.12500</td>\n      <td>0.31427</td>\n      <td>2.66667</td>\n    </tr>\n    <tr>\n      <th>50%</th>\n      <td>3.00000</td>\n      <td>37.92571</td>\n      <td>2.66155</td>\n      <td>14.03274</td>\n      <td>97.69925</td>\n      <td>0.33333</td>\n      <td>4.00000</td>\n      <td>0.23077</td>\n      <td>0.06667</td>\n      <td>0.22906</td>\n      <td>0.06667</td>\n      <td>20.00000</td>\n      <td>1.33333</td>\n      <td>0.93750</td>\n      <td>14.00000</td>\n      <td>0.04348</td>\n      <td>1.00000</td>\n      <td>214.00000</td>\n      <td>21.14286</td>\n      <td>54.70362</td>\n      <td>1278.36250</td>\n      <td>671.42693</td>\n      <td>6901.50000</td>\n      <td>0.00000</td>\n      <td>0.00000</td>\n      <td>0.05000</td>\n      <td>0.11111</td>\n      <td>0.09091</td>\n      <td>0.68182</td>\n      <td>0.22500</td>\n      <td>0.44536</td>\n      <td>0.10526</td>\n      <td>0.30689</td>\n      <td>0.32143</td>\n      <td>0.53619</td>\n      <td>3.34580</td>\n    </tr>\n    <tr>\n      <th>75%</th>\n      <td>5.00000</td>\n      <td>57.75385</td>\n      <td>2.88499</td>\n      <td>16.00000</td>\n      <td>109.60000</td>\n      <td>0.65217</td>\n      <td>8.00000</td>\n      <td>0.42105</td>\n      <td>0.25000</td>\n      <td>0.41574</td>\n      <td>0.22727</td>\n      <td>34.00000</td>\n      <td>1.73684</td>\n      <td>0.96296</td>\n      <td>21.00000</td>\n      <td>0.10526</td>\n      <td>1.00000</td>\n      <td>486.00000</td>\n      <td>42.74107</td>\n      <td>97.66895</td>\n      <td>1524.67544</td>\n      <td>783.81545</td>\n      <td>30902.25000</td>\n      <td>0.00000</td>\n      <td>0.00000</td>\n      <td>0.20000</td>\n      <td>0.20000</td>\n      <td>0.16667</td>\n      <td>0.81818</td>\n      <td>0.40000</td>\n      <td>0.65555</td>\n      <td>0.25000</td>\n      <td>0.51034</td>\n      <td>0.52174</td>\n      <td>0.76244</td>\n      <td>4.04545</td>\n    </tr>\n    <tr>\n      <th>max</th>\n      <td>48.00000</td>\n      <td>986.34693</td>\n      <td>5.83813</td>\n      <td>37.75000</td>\n      <td>228.00000</td>\n      <td>7.50000</td>\n      <td>97.00000</td>\n      <td>1.00000</td>\n      <td>2.66667</td>\n      <td>2.16025</td>\n      <td>1.00000</td>\n      <td>972.00000</td>\n      <td>6.16667</td>\n      <td>1.00000</td>\n      <td>346.00000</td>\n      <td>1.00000</td>\n      <td>40.00000</td>\n      <td>207563.00000</td>\n      <td>13837.53333</td>\n      <td>35263.04180</td>\n      <td>3462.66667</td>\n      <td>2233.77450</td>\n      <td>1317255.00000</td>\n      <td>25.43456</td>\n      <td>7.16667</td>\n      <td>1.66667</td>\n      <td>1.00000</td>\n      <td>1.66667</td>\n      <td>1.66667</td>\n      <td>4.00000</td>\n      <td>3.05505</td>\n      <td>4.00000</td>\n      <td>2.73354</td>\n      <td>6.00000</td>\n      <td>3.76663</td>\n      <td>12.00000</td>\n    </tr>\n  </tbody>\n</table>\n</div>",
      "text/plain": "           depth  SUM FriendsCount  AVG FriendsCount  AVG WordCount  \\\ncount 5802.00000        5802.00000        5802.00000     5802.00000   \nmean     4.44485          47.71738           2.69625       14.12534   \nstd      3.88666          54.60815           0.42489        3.31060   \nmin      1.00000           0.00000           0.00000        4.00000   \n25%      2.00000          17.68543           2.45857       12.00000   \n50%      3.00000          37.92571           2.66155       14.03274   \n75%      5.00000          57.75385           2.88499       16.00000   \nmax     48.00000         986.34693           5.83813       37.75000   \n\n       AVG CharCount  AVG HashTag  SUM HashTag  Ratio HashTag    AVG Url  \\\ncount     5802.00000   5802.00000   5802.00000     5802.00000 5802.00000   \nmean        98.17147      0.49636      5.68218        0.30148    0.16980   \nstd         20.47492      0.58934      6.19011        0.26675    0.24628   \nmin         32.05263      0.00000      0.00000        0.00000    0.00000   \n25%         85.55952      0.14286      2.00000        0.10526    0.00000   \n50%         97.69925      0.33333      4.00000        0.23077    0.06667   \n75%        109.60000      0.65217      8.00000        0.42105    0.25000   \nmax        228.00000      7.50000     97.00000        1.00000    2.66667   \n\n         STD Url  RATIO Url  SUM Mention  AVG Mention  Ratio Mention  \\\ncount 5802.00000 5802.00000   5802.00000   5802.00000     5802.00000   \nmean     0.23129    0.15955     30.27749      1.40993        0.85680   \nstd      0.22348    0.22659     46.74222      0.65022        0.22467   \nmin      0.00000    0.00000      0.00000      0.00000        0.00000   \n25%      0.00000    0.00000      8.00000      1.00000        0.85714   \n50%      0.22906    0.06667     20.00000      1.33333        0.93750   \n75%      0.41574    0.22727     34.00000      1.73684        0.96296   \nmax      2.16025    1.00000    972.00000      6.16667        1.00000   \n\n       Tweets Count  Ratio Verified  SUM Verified       SUM RT      AVG RT  \\\ncount    5802.00000      5802.00000    5802.00000   5802.00000  5802.00000   \nmean       17.78904         0.09014       0.93554    593.67890    54.18365   \nstd        20.09487         0.16636       1.54716   3559.90091   253.02338   \nmin         1.00000         0.00000       0.00000     25.00000     0.80399   \n25%         7.00000         0.00000       0.00000    135.00000    11.36364   \n50%        14.00000         0.04348       1.00000    214.00000    21.14286   \n75%        21.00000         0.10526       1.00000    486.00000    42.74107   \nmax       346.00000         1.00000      40.00000 207563.00000 13837.53333   \n\n           STD RT  AVG AccAge  STD AccAge   thread_time  STD Emoji  AVG Emoji  \\\ncount  5802.00000  5802.00000  5802.00000    5802.00000 5802.00000 5802.00000   \nmean    107.02151  1301.45512   656.56185   42042.33919    0.13800    0.05157   \nstd     618.82036   404.98186   278.92828  105966.08161    0.57902    0.22355   \nmin       0.00000     0.00000     0.00000       0.00000    0.00000    0.00000   \n25%      35.36346  1050.45909   550.85241     852.50000    0.00000    0.00000   \n50%      54.70362  1278.36250   671.42693    6901.50000    0.00000    0.00000   \n75%      97.66895  1524.67544   783.81545   30902.25000    0.00000    0.00000   \nmax   35263.04180  3462.66667  2233.77450 1317255.00000   25.43456    7.16667   \n\n       Ratio Media  RATIO Question  RATIO Exclaim  RATIO Period    AVG FPP  \\\ncount   5802.00000      5802.00000     5802.00000    5802.00000 5802.00000   \nmean       0.15089         0.12817        0.11582       0.68090    0.28007   \nstd        0.23264         0.13394        0.13547       0.22620    0.28947   \nmin        0.00000         0.00000        0.00000       0.00000    0.00000   \n25%        0.00000         0.00000        0.00000       0.54545    0.06667   \n50%        0.05000         0.11111        0.09091       0.68182    0.22500   \n75%        0.20000         0.20000        0.16667       0.81818    0.40000   \nmax        1.66667         1.00000        1.66667       1.66667    4.00000   \n\n         STD FPP    AVG SPP    STD SPP    AVG TPP    STD TPP  AVG Skepticism  \ncount 5802.00000 5802.00000 5802.00000 5802.00000 5802.00000      5802.00000  \nmean     0.44079    0.16835    0.31677    0.36429    0.52918         3.43485  \nstd      0.32284    0.22777    0.29921    0.33694    0.36382         1.18817  \nmin      0.00000    0.00000    0.00000    0.00000    0.00000         0.00000  \n25%      0.22330    0.00000    0.00000    0.12500    0.31427         2.66667  \n50%      0.44536    0.10526    0.30689    0.32143    0.53619         3.34580  \n75%      0.65555    0.25000    0.51034    0.52174    0.76244         4.04545  \nmax      3.05505    4.00000    2.73354    6.00000    3.76663        12.00000  "
     },
     "execution_count": 95,
     "metadata": {},
     "output_type": "execute_result"
    }
   ],
   "source": [
    "pheme_thread.describe()"
   ]
  },
  {
   "cell_type": "code",
   "execution_count": 96,
   "metadata": {},
   "outputs": [
    {
     "data": {
      "text/html": "<div>\n<style scoped>\n    .dataframe tbody tr th:only-of-type {\n        vertical-align: middle;\n    }\n\n    .dataframe tbody tr th {\n        vertical-align: top;\n    }\n\n    .dataframe thead th {\n        text-align: right;\n    }\n</style>\n<table border=\"1\" class=\"dataframe\">\n  <thead>\n    <tr style=\"text-align: right;\">\n      <th></th>\n      <th>depth</th>\n      <th>SUM FriendsCount</th>\n      <th>AVG FriendsCount</th>\n      <th>AVG WordCount</th>\n      <th>AVG CharCount</th>\n      <th>AVG HashTag</th>\n      <th>SUM HashTag</th>\n      <th>Ratio HashTag</th>\n      <th>AVG Url</th>\n      <th>STD Url</th>\n      <th>RATIO Url</th>\n      <th>SUM Mention</th>\n      <th>AVG Mention</th>\n      <th>Ratio Mention</th>\n      <th>Tweets Count</th>\n      <th>Ratio Verified</th>\n      <th>SUM Verified</th>\n      <th>SUM RT</th>\n      <th>AVG RT</th>\n      <th>STD RT</th>\n      <th>AVG AccAge</th>\n      <th>STD AccAge</th>\n      <th>thread_time</th>\n      <th>STD Emoji</th>\n      <th>AVG Emoji</th>\n      <th>Ratio Media</th>\n      <th>RATIO Question</th>\n      <th>RATIO Exclaim</th>\n      <th>RATIO Period</th>\n      <th>AVG FPP</th>\n      <th>STD FPP</th>\n      <th>AVG SPP</th>\n      <th>STD SPP</th>\n      <th>AVG TPP</th>\n      <th>STD TPP</th>\n      <th>AVG Skepticism</th>\n    </tr>\n  </thead>\n  <tbody>\n    <tr>\n      <th>count</th>\n      <td>485.00000</td>\n      <td>485.00000</td>\n      <td>485.00000</td>\n      <td>485.00000</td>\n      <td>485.00000</td>\n      <td>485.00000</td>\n      <td>485.00000</td>\n      <td>485.00000</td>\n      <td>485.00000</td>\n      <td>485.00000</td>\n      <td>485.00000</td>\n      <td>485.00000</td>\n      <td>485.00000</td>\n      <td>485.00000</td>\n      <td>485.00000</td>\n      <td>485.00000</td>\n      <td>485.00000</td>\n      <td>485.00000</td>\n      <td>485.00000</td>\n      <td>485.00000</td>\n      <td>485.00000</td>\n      <td>485.00000</td>\n      <td>485.00000</td>\n      <td>485.00000</td>\n      <td>485.00000</td>\n      <td>485.00000</td>\n      <td>485.00000</td>\n      <td>485.00000</td>\n      <td>485.00000</td>\n      <td>485.00000</td>\n      <td>485.00000</td>\n      <td>485.00000</td>\n      <td>485.00000</td>\n      <td>485.00000</td>\n      <td>485.00000</td>\n      <td>485.00000</td>\n    </tr>\n    <tr>\n      <th>mean</th>\n      <td>2.19794</td>\n      <td>7.61952</td>\n      <td>1.91587</td>\n      <td>10.01375</td>\n      <td>69.41844</td>\n      <td>0.59794</td>\n      <td>1.25361</td>\n      <td>0.29762</td>\n      <td>0.22614</td>\n      <td>0.10124</td>\n      <td>0.22078</td>\n      <td>3.59381</td>\n      <td>0.60497</td>\n      <td>0.40513</td>\n      <td>4.04742</td>\n      <td>0.06684</td>\n      <td>0.15258</td>\n      <td>40.95258</td>\n      <td>4.41943</td>\n      <td>9.69219</td>\n      <td>986.42153</td>\n      <td>370.60815</td>\n      <td>15581.70722</td>\n      <td>0.06312</td>\n      <td>0.03985</td>\n      <td>0.13214</td>\n      <td>0.15139</td>\n      <td>0.10150</td>\n      <td>0.52345</td>\n      <td>0.18014</td>\n      <td>0.19884</td>\n      <td>0.06492</td>\n      <td>0.06322</td>\n      <td>0.24703</td>\n      <td>0.20441</td>\n      <td>2.26836</td>\n    </tr>\n    <tr>\n      <th>std</th>\n      <td>1.70257</td>\n      <td>9.62440</td>\n      <td>1.05029</td>\n      <td>6.36584</td>\n      <td>42.83633</td>\n      <td>0.96245</td>\n      <td>1.75798</td>\n      <td>0.39206</td>\n      <td>0.37453</td>\n      <td>0.18859</td>\n      <td>0.35968</td>\n      <td>6.05126</td>\n      <td>0.66793</td>\n      <td>0.35595</td>\n      <td>4.83785</td>\n      <td>0.21699</td>\n      <td>0.38759</td>\n      <td>482.16712</td>\n      <td>25.62266</td>\n      <td>107.48288</td>\n      <td>709.21957</td>\n      <td>392.53652</td>\n      <td>51235.86482</td>\n      <td>0.25042</td>\n      <td>0.20250</td>\n      <td>0.29372</td>\n      <td>0.28140</td>\n      <td>0.21562</td>\n      <td>0.38458</td>\n      <td>0.33362</td>\n      <td>0.35683</td>\n      <td>0.22990</td>\n      <td>0.16169</td>\n      <td>0.40823</td>\n      <td>0.32968</td>\n      <td>1.75281</td>\n    </tr>\n    <tr>\n      <th>min</th>\n      <td>1.00000</td>\n      <td>0.00000</td>\n      <td>0.00000</td>\n      <td>0.00000</td>\n      <td>0.00000</td>\n      <td>0.00000</td>\n      <td>0.00000</td>\n      <td>0.00000</td>\n      <td>0.00000</td>\n      <td>0.00000</td>\n      <td>0.00000</td>\n      <td>0.00000</td>\n      <td>0.00000</td>\n      <td>0.00000</td>\n      <td>1.00000</td>\n      <td>0.00000</td>\n      <td>0.00000</td>\n      <td>0.00000</td>\n      <td>0.00000</td>\n      <td>0.00000</td>\n      <td>0.00000</td>\n      <td>0.00000</td>\n      <td>0.00000</td>\n      <td>0.00000</td>\n      <td>0.00000</td>\n      <td>0.00000</td>\n      <td>0.00000</td>\n      <td>0.00000</td>\n      <td>0.00000</td>\n      <td>0.00000</td>\n      <td>0.00000</td>\n      <td>0.00000</td>\n      <td>0.00000</td>\n      <td>0.00000</td>\n      <td>0.00000</td>\n      <td>0.00000</td>\n    </tr>\n    <tr>\n      <th>25%</th>\n      <td>1.00000</td>\n      <td>2.48855</td>\n      <td>1.31377</td>\n      <td>5.50000</td>\n      <td>39.40000</td>\n      <td>0.00000</td>\n      <td>0.00000</td>\n      <td>0.00000</td>\n      <td>0.00000</td>\n      <td>0.00000</td>\n      <td>0.00000</td>\n      <td>0.00000</td>\n      <td>0.00000</td>\n      <td>0.00000</td>\n      <td>1.00000</td>\n      <td>0.00000</td>\n      <td>0.00000</td>\n      <td>0.00000</td>\n      <td>0.00000</td>\n      <td>0.00000</td>\n      <td>475.66667</td>\n      <td>0.00000</td>\n      <td>0.00000</td>\n      <td>0.00000</td>\n      <td>0.00000</td>\n      <td>0.00000</td>\n      <td>0.00000</td>\n      <td>0.00000</td>\n      <td>0.16667</td>\n      <td>0.00000</td>\n      <td>0.00000</td>\n      <td>0.00000</td>\n      <td>0.00000</td>\n      <td>0.00000</td>\n      <td>0.00000</td>\n      <td>1.00000</td>\n    </tr>\n    <tr>\n      <th>50%</th>\n      <td>2.00000</td>\n      <td>3.79844</td>\n      <td>2.07485</td>\n      <td>10.00000</td>\n      <td>69.53333</td>\n      <td>0.04167</td>\n      <td>1.00000</td>\n      <td>0.04167</td>\n      <td>0.00000</td>\n      <td>0.00000</td>\n      <td>0.00000</td>\n      <td>1.00000</td>\n      <td>0.50000</td>\n      <td>0.50000</td>\n      <td>2.00000</td>\n      <td>0.00000</td>\n      <td>0.00000</td>\n      <td>3.00000</td>\n      <td>2.00000</td>\n      <td>0.00000</td>\n      <td>938.46154</td>\n      <td>209.00000</td>\n      <td>561.00000</td>\n      <td>0.00000</td>\n      <td>0.00000</td>\n      <td>0.00000</td>\n      <td>0.00000</td>\n      <td>0.00000</td>\n      <td>0.50000</td>\n      <td>0.00000</td>\n      <td>0.00000</td>\n      <td>0.00000</td>\n      <td>0.00000</td>\n      <td>0.00000</td>\n      <td>0.00000</td>\n      <td>2.00000</td>\n    </tr>\n    <tr>\n      <th>75%</th>\n      <td>3.00000</td>\n      <td>9.19258</td>\n      <td>2.70672</td>\n      <td>15.00000</td>\n      <td>104.00000</td>\n      <td>1.00000</td>\n      <td>2.00000</td>\n      <td>0.50000</td>\n      <td>0.33333</td>\n      <td>0.00000</td>\n      <td>0.33333</td>\n      <td>4.00000</td>\n      <td>1.00000</td>\n      <td>0.66667</td>\n      <td>5.00000</td>\n      <td>0.00000</td>\n      <td>0.00000</td>\n      <td>8.00000</td>\n      <td>4.00000</td>\n      <td>2.49444</td>\n      <td>1443.00000</td>\n      <td>726.71193</td>\n      <td>6964.00000</td>\n      <td>0.00000</td>\n      <td>0.00000</td>\n      <td>0.05556</td>\n      <td>0.16667</td>\n      <td>0.11111</td>\n      <td>1.00000</td>\n      <td>0.25000</td>\n      <td>0.40000</td>\n      <td>0.00000</td>\n      <td>0.00000</td>\n      <td>0.40000</td>\n      <td>0.43301</td>\n      <td>3.00000</td>\n    </tr>\n    <tr>\n      <th>max</th>\n      <td>16.00000</td>\n      <td>57.40306</td>\n      <td>4.38684</td>\n      <td>29.00000</td>\n      <td>143.00000</td>\n      <td>6.00000</td>\n      <td>12.00000</td>\n      <td>1.00000</td>\n      <td>2.00000</td>\n      <td>0.94281</td>\n      <td>1.00000</td>\n      <td>38.00000</td>\n      <td>6.50000</td>\n      <td>1.00000</td>\n      <td>27.00000</td>\n      <td>1.00000</td>\n      <td>3.00000</td>\n      <td>10415.00000</td>\n      <td>548.15789</td>\n      <td>2322.57324</td>\n      <td>3021.00000</td>\n      <td>1432.00000</td>\n      <td>753999.00000</td>\n      <td>2.76385</td>\n      <td>3.00000</td>\n      <td>1.00000</td>\n      <td>1.00000</td>\n      <td>1.00000</td>\n      <td>1.00000</td>\n      <td>2.00000</td>\n      <td>2.00000</td>\n      <td>2.00000</td>\n      <td>1.00000</td>\n      <td>2.00000</td>\n      <td>2.00000</td>\n      <td>9.00000</td>\n    </tr>\n  </tbody>\n</table>\n</div>",
      "text/plain": "          depth  SUM FriendsCount  AVG FriendsCount  AVG WordCount  \\\ncount 485.00000         485.00000         485.00000      485.00000   \nmean    2.19794           7.61952           1.91587       10.01375   \nstd     1.70257           9.62440           1.05029        6.36584   \nmin     1.00000           0.00000           0.00000        0.00000   \n25%     1.00000           2.48855           1.31377        5.50000   \n50%     2.00000           3.79844           2.07485       10.00000   \n75%     3.00000           9.19258           2.70672       15.00000   \nmax    16.00000          57.40306           4.38684       29.00000   \n\n       AVG CharCount  AVG HashTag  SUM HashTag  Ratio HashTag   AVG Url  \\\ncount      485.00000    485.00000    485.00000      485.00000 485.00000   \nmean        69.41844      0.59794      1.25361        0.29762   0.22614   \nstd         42.83633      0.96245      1.75798        0.39206   0.37453   \nmin          0.00000      0.00000      0.00000        0.00000   0.00000   \n25%         39.40000      0.00000      0.00000        0.00000   0.00000   \n50%         69.53333      0.04167      1.00000        0.04167   0.00000   \n75%        104.00000      1.00000      2.00000        0.50000   0.33333   \nmax        143.00000      6.00000     12.00000        1.00000   2.00000   \n\n        STD Url  RATIO Url  SUM Mention  AVG Mention  Ratio Mention  \\\ncount 485.00000  485.00000    485.00000    485.00000      485.00000   \nmean    0.10124    0.22078      3.59381      0.60497        0.40513   \nstd     0.18859    0.35968      6.05126      0.66793        0.35595   \nmin     0.00000    0.00000      0.00000      0.00000        0.00000   \n25%     0.00000    0.00000      0.00000      0.00000        0.00000   \n50%     0.00000    0.00000      1.00000      0.50000        0.50000   \n75%     0.00000    0.33333      4.00000      1.00000        0.66667   \nmax     0.94281    1.00000     38.00000      6.50000        1.00000   \n\n       Tweets Count  Ratio Verified  SUM Verified      SUM RT    AVG RT  \\\ncount     485.00000       485.00000     485.00000   485.00000 485.00000   \nmean        4.04742         0.06684       0.15258    40.95258   4.41943   \nstd         4.83785         0.21699       0.38759   482.16712  25.62266   \nmin         1.00000         0.00000       0.00000     0.00000   0.00000   \n25%         1.00000         0.00000       0.00000     0.00000   0.00000   \n50%         2.00000         0.00000       0.00000     3.00000   2.00000   \n75%         5.00000         0.00000       0.00000     8.00000   4.00000   \nmax        27.00000         1.00000       3.00000 10415.00000 548.15789   \n\n          STD RT  AVG AccAge  STD AccAge  thread_time  STD Emoji  AVG Emoji  \\\ncount  485.00000   485.00000   485.00000    485.00000  485.00000  485.00000   \nmean     9.69219   986.42153   370.60815  15581.70722    0.06312    0.03985   \nstd    107.48288   709.21957   392.53652  51235.86482    0.25042    0.20250   \nmin      0.00000     0.00000     0.00000      0.00000    0.00000    0.00000   \n25%      0.00000   475.66667     0.00000      0.00000    0.00000    0.00000   \n50%      0.00000   938.46154   209.00000    561.00000    0.00000    0.00000   \n75%      2.49444  1443.00000   726.71193   6964.00000    0.00000    0.00000   \nmax   2322.57324  3021.00000  1432.00000 753999.00000    2.76385    3.00000   \n\n       Ratio Media  RATIO Question  RATIO Exclaim  RATIO Period   AVG FPP  \\\ncount    485.00000       485.00000      485.00000     485.00000 485.00000   \nmean       0.13214         0.15139        0.10150       0.52345   0.18014   \nstd        0.29372         0.28140        0.21562       0.38458   0.33362   \nmin        0.00000         0.00000        0.00000       0.00000   0.00000   \n25%        0.00000         0.00000        0.00000       0.16667   0.00000   \n50%        0.00000         0.00000        0.00000       0.50000   0.00000   \n75%        0.05556         0.16667        0.11111       1.00000   0.25000   \nmax        1.00000         1.00000        1.00000       1.00000   2.00000   \n\n        STD FPP   AVG SPP   STD SPP   AVG TPP   STD TPP  AVG Skepticism  \ncount 485.00000 485.00000 485.00000 485.00000 485.00000       485.00000  \nmean    0.19884   0.06492   0.06322   0.24703   0.20441         2.26836  \nstd     0.35683   0.22990   0.16169   0.40823   0.32968         1.75281  \nmin     0.00000   0.00000   0.00000   0.00000   0.00000         0.00000  \n25%     0.00000   0.00000   0.00000   0.00000   0.00000         1.00000  \n50%     0.00000   0.00000   0.00000   0.00000   0.00000         2.00000  \n75%     0.40000   0.00000   0.00000   0.40000   0.43301         3.00000  \nmax     2.00000   2.00000   1.00000   2.00000   2.00000         9.00000  "
     },
     "execution_count": 96,
     "metadata": {},
     "output_type": "execute_result"
    }
   ],
   "source": [
    "ext_thread.describe()"
   ]
  },
  {
   "cell_type": "code",
   "execution_count": 93,
   "metadata": {},
   "outputs": [
    {
     "name": "stdout",
     "output_type": "stream",
     "text": [
      "depth : -0.06069342688788918\n",
      "SUM FriendsCount : -0.06658383688147566\n",
      "AVG FriendsCount : -0.033291526306805735\n",
      "AVG WordCount : -0.028745368201758378\n",
      "AVG CharCount : -0.0585156573504035\n",
      "AVG HashTag : -0.057490549769171874\n",
      "SUM HashTag : -0.08296439012596422\n",
      "Ratio HashTag : -0.05857458130737733\n",
      "AVG Url : 0.06221989854036648\n",
      "STD Url : 0.04448522719648556\n",
      "RATIO Url : 0.07631115413175521\n",
      "SUM Mention : -0.0679517260459248\n",
      "AVG Mention : -0.049444382744994735\n",
      "Ratio Mention : -0.008521806634464309\n",
      "Tweets Count : -0.06609829968334364\n",
      "Ratio Verified : 0.06967897492773252\n",
      "SUM Verified : 0.02472399503205972\n",
      "SUM RT : -0.03489936869947932\n",
      "AVG RT : -0.028877087864229267\n",
      "STD RT : -0.02833104088630045\n",
      "AVG AccAge : 0.0328554654001057\n",
      "STD AccAge : 0.005046520701145404\n",
      "thread_time : -0.1155786014640931\n",
      "STD Emoji : -0.020083094068074823\n",
      "AVG Emoji : -0.02932855173423856\n",
      "Ratio Media : -0.09314308316176101\n",
      "RATIO Question : -0.005989377712117246\n",
      "RATIO Exclaim : -0.058622874185368906\n",
      "RATIO Period : -0.05938796457234243\n",
      "AVG FPP : -0.18118515882862224\n",
      "STD FPP : -0.15020796677268272\n",
      "AVG SPP : -0.1603819613841158\n",
      "STD SPP : -0.1520458386681659\n",
      "AVG TPP : 0.013960176308594596\n",
      "STD TPP : 0.01317048096081552\n",
      "AVG Skepticism : -0.08496878134829233\n"
     ]
    }
   ],
   "source": [
    "# for data in ext_thread.columns:\n",
    "    # print(data,\":\",ext_thread[data].corr(ext_y))\n",
    "for data in pheme_thread.columns:\n",
    "    print(data,\":\",pheme_thread[data].corr(pheme_y))"
   ]
  },
  {
   "cell_type": "code",
   "execution_count": 59,
   "metadata": {},
   "outputs": [
    {
     "data": {
      "text/html": "<div>\n<style scoped>\n    .dataframe tbody tr th:only-of-type {\n        vertical-align: middle;\n    }\n\n    .dataframe tbody tr th {\n        vertical-align: top;\n    }\n\n    .dataframe thead th {\n        text-align: right;\n    }\n</style>\n<table border=\"1\" class=\"dataframe\">\n  <thead>\n    <tr style=\"text-align: right;\">\n      <th></th>\n      <th>depth</th>\n      <th>SUM FriendsCount</th>\n      <th>AVG FriendsCount</th>\n      <th>AVG WordCount</th>\n      <th>AVG CharCount</th>\n      <th>AVG HashTag</th>\n      <th>SUM HashTag</th>\n      <th>Ratio HashTag</th>\n      <th>AVG Url</th>\n      <th>STD Url</th>\n      <th>RATIO Url</th>\n      <th>SUM Mention</th>\n      <th>AVG Mention</th>\n      <th>Ratio Mention</th>\n      <th>Tweets Count</th>\n      <th>Ratio Verified</th>\n      <th>SUM Verified</th>\n      <th>SUM RT</th>\n      <th>AVG RT</th>\n      <th>STD RT</th>\n      <th>AVG AccAge</th>\n      <th>STD AccAge</th>\n      <th>thread_time</th>\n      <th>STD Emoji</th>\n      <th>AVG Emoji</th>\n      <th>Ratio Media</th>\n      <th>RATIO Question</th>\n      <th>RATIO Exclaim</th>\n      <th>RATIO Period</th>\n      <th>AVG FPP</th>\n      <th>STD FPP</th>\n      <th>AVG SPP</th>\n      <th>STD SPP</th>\n      <th>AVG TPP</th>\n      <th>STD TPP</th>\n      <th>AVG Skepticism</th>\n    </tr>\n  </thead>\n  <tbody>\n    <tr>\n      <th>0</th>\n      <td>4</td>\n      <td>32.98406</td>\n      <td>2.19894</td>\n      <td>6.66667</td>\n      <td>49.33333</td>\n      <td>0.00000</td>\n      <td>0</td>\n      <td>0.00000</td>\n      <td>0.26667</td>\n      <td>0.44222</td>\n      <td>0.26667</td>\n      <td>12</td>\n      <td>0.80000</td>\n      <td>0.73333</td>\n      <td>15</td>\n      <td>0.00000</td>\n      <td>0</td>\n      <td>117</td>\n      <td>7.80000</td>\n      <td>29.18493</td>\n      <td>812.26667</td>\n      <td>613.86887</td>\n      <td>9883.00000</td>\n      <td>0.54160</td>\n      <td>0.20000</td>\n      <td>0.06667</td>\n      <td>0.06667</td>\n      <td>0.13333</td>\n      <td>0.73333</td>\n      <td>0.13333</td>\n      <td>0.33993</td>\n      <td>0.00000</td>\n      <td>0.00000</td>\n      <td>0.33333</td>\n      <td>0.69921</td>\n      <td>2.40000</td>\n    </tr>\n    <tr>\n      <th>1</th>\n      <td>4</td>\n      <td>31.82036</td>\n      <td>1.67476</td>\n      <td>5.68421</td>\n      <td>36.89474</td>\n      <td>0.05263</td>\n      <td>1</td>\n      <td>0.05263</td>\n      <td>0.00000</td>\n      <td>0.00000</td>\n      <td>0.00000</td>\n      <td>15</td>\n      <td>0.78947</td>\n      <td>0.57895</td>\n      <td>19</td>\n      <td>0.05263</td>\n      <td>1</td>\n      <td>10415</td>\n      <td>548.15789</td>\n      <td>2322.57324</td>\n      <td>534.42105</td>\n      <td>527.59936</td>\n      <td>101340.00000</td>\n      <td>0.30689</td>\n      <td>0.10526</td>\n      <td>0.00000</td>\n      <td>0.05263</td>\n      <td>0.15789</td>\n      <td>0.21053</td>\n      <td>0.26316</td>\n      <td>0.63595</td>\n      <td>0.26316</td>\n      <td>0.54696</td>\n      <td>0.05263</td>\n      <td>0.22330</td>\n      <td>1.89474</td>\n    </tr>\n    <tr>\n      <th>2</th>\n      <td>2</td>\n      <td>14.53146</td>\n      <td>2.07592</td>\n      <td>12.00000</td>\n      <td>75.28571</td>\n      <td>0.00000</td>\n      <td>0</td>\n      <td>0.00000</td>\n      <td>0.00000</td>\n      <td>0.00000</td>\n      <td>0.00000</td>\n      <td>6</td>\n      <td>0.85714</td>\n      <td>0.71429</td>\n      <td>7</td>\n      <td>0.00000</td>\n      <td>0</td>\n      <td>127</td>\n      <td>18.14286</td>\n      <td>44.03385</td>\n      <td>919.14286</td>\n      <td>866.42260</td>\n      <td>2557.00000</td>\n      <td>0.00000</td>\n      <td>0.00000</td>\n      <td>0.00000</td>\n      <td>0.14286</td>\n      <td>0.14286</td>\n      <td>0.57143</td>\n      <td>0.00000</td>\n      <td>0.00000</td>\n      <td>0.00000</td>\n      <td>0.00000</td>\n      <td>0.57143</td>\n      <td>0.49487</td>\n      <td>2.42857</td>\n    </tr>\n    <tr>\n      <th>3</th>\n      <td>3</td>\n      <td>29.11766</td>\n      <td>2.23982</td>\n      <td>11.00000</td>\n      <td>72.92308</td>\n      <td>0.07692</td>\n      <td>1</td>\n      <td>0.07692</td>\n      <td>0.23077</td>\n      <td>0.42133</td>\n      <td>0.23077</td>\n      <td>15</td>\n      <td>1.15385</td>\n      <td>0.84615</td>\n      <td>13</td>\n      <td>0.07692</td>\n      <td>1</td>\n      <td>195</td>\n      <td>15.00000</td>\n      <td>51.09719</td>\n      <td>649.23077</td>\n      <td>584.40346</td>\n      <td>21440.00000</td>\n      <td>0.00000</td>\n      <td>0.00000</td>\n      <td>0.15385</td>\n      <td>0.07692</td>\n      <td>0.07692</td>\n      <td>0.61538</td>\n      <td>0.30769</td>\n      <td>0.46154</td>\n      <td>0.07692</td>\n      <td>0.26647</td>\n      <td>0.38462</td>\n      <td>0.62493</td>\n      <td>3.23077</td>\n    </tr>\n    <tr>\n      <th>4</th>\n      <td>2</td>\n      <td>10.72732</td>\n      <td>2.14546</td>\n      <td>11.60000</td>\n      <td>96.00000</td>\n      <td>0.00000</td>\n      <td>0</td>\n      <td>0.00000</td>\n      <td>0.40000</td>\n      <td>0.48990</td>\n      <td>0.40000</td>\n      <td>12</td>\n      <td>2.40000</td>\n      <td>1.00000</td>\n      <td>5</td>\n      <td>0.00000</td>\n      <td>0</td>\n      <td>197</td>\n      <td>39.40000</td>\n      <td>78.30096</td>\n      <td>1099.60000</td>\n      <td>695.26760</td>\n      <td>5504.00000</td>\n      <td>0.00000</td>\n      <td>0.00000</td>\n      <td>0.00000</td>\n      <td>0.20000</td>\n      <td>0.00000</td>\n      <td>0.80000</td>\n      <td>0.20000</td>\n      <td>0.40000</td>\n      <td>0.00000</td>\n      <td>0.00000</td>\n      <td>0.00000</td>\n      <td>0.00000</td>\n      <td>4.20000</td>\n    </tr>\n    <tr>\n      <th>...</th>\n      <td>...</td>\n      <td>...</td>\n      <td>...</td>\n      <td>...</td>\n      <td>...</td>\n      <td>...</td>\n      <td>...</td>\n      <td>...</td>\n      <td>...</td>\n      <td>...</td>\n      <td>...</td>\n      <td>...</td>\n      <td>...</td>\n      <td>...</td>\n      <td>...</td>\n      <td>...</td>\n      <td>...</td>\n      <td>...</td>\n      <td>...</td>\n      <td>...</td>\n      <td>...</td>\n      <td>...</td>\n      <td>...</td>\n      <td>...</td>\n      <td>...</td>\n      <td>...</td>\n      <td>...</td>\n      <td>...</td>\n      <td>...</td>\n      <td>...</td>\n      <td>...</td>\n      <td>...</td>\n      <td>...</td>\n      <td>...</td>\n      <td>...</td>\n      <td>...</td>\n    </tr>\n    <tr>\n      <th>480</th>\n      <td>2</td>\n      <td>9.03601</td>\n      <td>3.01200</td>\n      <td>12.33333</td>\n      <td>96.00000</td>\n      <td>1.33333</td>\n      <td>4</td>\n      <td>0.33333</td>\n      <td>0.33333</td>\n      <td>0.47140</td>\n      <td>0.33333</td>\n      <td>3</td>\n      <td>1.00000</td>\n      <td>0.66667</td>\n      <td>3</td>\n      <td>0.00000</td>\n      <td>0</td>\n      <td>32</td>\n      <td>10.66667</td>\n      <td>15.08494</td>\n      <td>1912.66667</td>\n      <td>156.03917</td>\n      <td>3965.00000</td>\n      <td>0.00000</td>\n      <td>0.00000</td>\n      <td>0.33333</td>\n      <td>0.00000</td>\n      <td>0.33333</td>\n      <td>0.66667</td>\n      <td>0.00000</td>\n      <td>0.00000</td>\n      <td>0.00000</td>\n      <td>0.00000</td>\n      <td>0.33333</td>\n      <td>0.47140</td>\n      <td>1.33333</td>\n    </tr>\n    <tr>\n      <th>481</th>\n      <td>1</td>\n      <td>2.44091</td>\n      <td>2.44091</td>\n      <td>10.00000</td>\n      <td>64.00000</td>\n      <td>1.00000</td>\n      <td>1</td>\n      <td>1.00000</td>\n      <td>0.00000</td>\n      <td>0.00000</td>\n      <td>0.00000</td>\n      <td>0</td>\n      <td>0.00000</td>\n      <td>0.00000</td>\n      <td>1</td>\n      <td>0.00000</td>\n      <td>0</td>\n      <td>3</td>\n      <td>3.00000</td>\n      <td>0.00000</td>\n      <td>2029.00000</td>\n      <td>0.00000</td>\n      <td>0.00000</td>\n      <td>0.00000</td>\n      <td>0.00000</td>\n      <td>0.00000</td>\n      <td>0.00000</td>\n      <td>0.00000</td>\n      <td>0.00000</td>\n      <td>0.00000</td>\n      <td>0.00000</td>\n      <td>0.00000</td>\n      <td>0.00000</td>\n      <td>0.00000</td>\n      <td>0.00000</td>\n      <td>2.00000</td>\n    </tr>\n    <tr>\n      <th>482</th>\n      <td>2</td>\n      <td>4.17085</td>\n      <td>2.08542</td>\n      <td>4.00000</td>\n      <td>44.00000</td>\n      <td>0.50000</td>\n      <td>1</td>\n      <td>0.50000</td>\n      <td>0.00000</td>\n      <td>0.00000</td>\n      <td>0.00000</td>\n      <td>1</td>\n      <td>0.50000</td>\n      <td>0.50000</td>\n      <td>2</td>\n      <td>0.00000</td>\n      <td>0</td>\n      <td>3</td>\n      <td>1.50000</td>\n      <td>1.50000</td>\n      <td>1111.50000</td>\n      <td>1106.50000</td>\n      <td>2549.00000</td>\n      <td>0.00000</td>\n      <td>0.00000</td>\n      <td>1.00000</td>\n      <td>0.00000</td>\n      <td>0.00000</td>\n      <td>1.00000</td>\n      <td>0.00000</td>\n      <td>0.00000</td>\n      <td>0.00000</td>\n      <td>0.00000</td>\n      <td>0.00000</td>\n      <td>0.00000</td>\n      <td>2.00000</td>\n    </tr>\n    <tr>\n      <th>483</th>\n      <td>2</td>\n      <td>5.49250</td>\n      <td>1.37312</td>\n      <td>8.25000</td>\n      <td>53.75000</td>\n      <td>0.00000</td>\n      <td>0</td>\n      <td>0.00000</td>\n      <td>0.00000</td>\n      <td>0.00000</td>\n      <td>0.00000</td>\n      <td>1</td>\n      <td>0.25000</td>\n      <td>0.25000</td>\n      <td>4</td>\n      <td>0.00000</td>\n      <td>0</td>\n      <td>8</td>\n      <td>2.00000</td>\n      <td>2.91548</td>\n      <td>800.25000</td>\n      <td>889.28409</td>\n      <td>4472.00000</td>\n      <td>0.00000</td>\n      <td>0.00000</td>\n      <td>0.00000</td>\n      <td>0.00000</td>\n      <td>0.00000</td>\n      <td>0.50000</td>\n      <td>0.25000</td>\n      <td>0.43301</td>\n      <td>0.00000</td>\n      <td>0.00000</td>\n      <td>0.50000</td>\n      <td>0.50000</td>\n      <td>3.00000</td>\n    </tr>\n    <tr>\n      <th>484</th>\n      <td>1</td>\n      <td>3.79844</td>\n      <td>3.79844</td>\n      <td>10.00000</td>\n      <td>93.00000</td>\n      <td>3.00000</td>\n      <td>3</td>\n      <td>1.00000</td>\n      <td>1.00000</td>\n      <td>0.00000</td>\n      <td>1.00000</td>\n      <td>0</td>\n      <td>0.00000</td>\n      <td>0.00000</td>\n      <td>1</td>\n      <td>0.00000</td>\n      <td>0</td>\n      <td>2</td>\n      <td>2.00000</td>\n      <td>0.00000</td>\n      <td>1573.00000</td>\n      <td>0.00000</td>\n      <td>0.00000</td>\n      <td>0.00000</td>\n      <td>0.00000</td>\n      <td>0.00000</td>\n      <td>0.00000</td>\n      <td>0.00000</td>\n      <td>1.00000</td>\n      <td>0.00000</td>\n      <td>0.00000</td>\n      <td>0.00000</td>\n      <td>0.00000</td>\n      <td>0.00000</td>\n      <td>0.00000</td>\n      <td>2.00000</td>\n    </tr>\n  </tbody>\n</table>\n<p>485 rows × 36 columns</p>\n</div>",
      "text/plain": "     depth  SUM FriendsCount  AVG FriendsCount  AVG WordCount  AVG CharCount  \\\n0        4          32.98406           2.19894        6.66667       49.33333   \n1        4          31.82036           1.67476        5.68421       36.89474   \n2        2          14.53146           2.07592       12.00000       75.28571   \n3        3          29.11766           2.23982       11.00000       72.92308   \n4        2          10.72732           2.14546       11.60000       96.00000   \n..     ...               ...               ...            ...            ...   \n480      2           9.03601           3.01200       12.33333       96.00000   \n481      1           2.44091           2.44091       10.00000       64.00000   \n482      2           4.17085           2.08542        4.00000       44.00000   \n483      2           5.49250           1.37312        8.25000       53.75000   \n484      1           3.79844           3.79844       10.00000       93.00000   \n\n     AVG HashTag  SUM HashTag  Ratio HashTag  AVG Url  STD Url  RATIO Url  \\\n0        0.00000            0        0.00000  0.26667  0.44222    0.26667   \n1        0.05263            1        0.05263  0.00000  0.00000    0.00000   \n2        0.00000            0        0.00000  0.00000  0.00000    0.00000   \n3        0.07692            1        0.07692  0.23077  0.42133    0.23077   \n4        0.00000            0        0.00000  0.40000  0.48990    0.40000   \n..           ...          ...            ...      ...      ...        ...   \n480      1.33333            4        0.33333  0.33333  0.47140    0.33333   \n481      1.00000            1        1.00000  0.00000  0.00000    0.00000   \n482      0.50000            1        0.50000  0.00000  0.00000    0.00000   \n483      0.00000            0        0.00000  0.00000  0.00000    0.00000   \n484      3.00000            3        1.00000  1.00000  0.00000    1.00000   \n\n     SUM Mention  AVG Mention  Ratio Mention  Tweets Count  Ratio Verified  \\\n0             12      0.80000        0.73333            15         0.00000   \n1             15      0.78947        0.57895            19         0.05263   \n2              6      0.85714        0.71429             7         0.00000   \n3             15      1.15385        0.84615            13         0.07692   \n4             12      2.40000        1.00000             5         0.00000   \n..           ...          ...            ...           ...             ...   \n480            3      1.00000        0.66667             3         0.00000   \n481            0      0.00000        0.00000             1         0.00000   \n482            1      0.50000        0.50000             2         0.00000   \n483            1      0.25000        0.25000             4         0.00000   \n484            0      0.00000        0.00000             1         0.00000   \n\n     SUM Verified  SUM RT    AVG RT     STD RT  AVG AccAge  STD AccAge  \\\n0               0     117   7.80000   29.18493   812.26667   613.86887   \n1               1   10415 548.15789 2322.57324   534.42105   527.59936   \n2               0     127  18.14286   44.03385   919.14286   866.42260   \n3               1     195  15.00000   51.09719   649.23077   584.40346   \n4               0     197  39.40000   78.30096  1099.60000   695.26760   \n..            ...     ...       ...        ...         ...         ...   \n480             0      32  10.66667   15.08494  1912.66667   156.03917   \n481             0       3   3.00000    0.00000  2029.00000     0.00000   \n482             0       3   1.50000    1.50000  1111.50000  1106.50000   \n483             0       8   2.00000    2.91548   800.25000   889.28409   \n484             0       2   2.00000    0.00000  1573.00000     0.00000   \n\n     thread_time  STD Emoji  AVG Emoji  Ratio Media  RATIO Question  \\\n0     9883.00000    0.54160    0.20000      0.06667         0.06667   \n1   101340.00000    0.30689    0.10526      0.00000         0.05263   \n2     2557.00000    0.00000    0.00000      0.00000         0.14286   \n3    21440.00000    0.00000    0.00000      0.15385         0.07692   \n4     5504.00000    0.00000    0.00000      0.00000         0.20000   \n..           ...        ...        ...          ...             ...   \n480   3965.00000    0.00000    0.00000      0.33333         0.00000   \n481      0.00000    0.00000    0.00000      0.00000         0.00000   \n482   2549.00000    0.00000    0.00000      1.00000         0.00000   \n483   4472.00000    0.00000    0.00000      0.00000         0.00000   \n484      0.00000    0.00000    0.00000      0.00000         0.00000   \n\n     RATIO Exclaim  RATIO Period  AVG FPP  STD FPP  AVG SPP  STD SPP  AVG TPP  \\\n0          0.13333       0.73333  0.13333  0.33993  0.00000  0.00000  0.33333   \n1          0.15789       0.21053  0.26316  0.63595  0.26316  0.54696  0.05263   \n2          0.14286       0.57143  0.00000  0.00000  0.00000  0.00000  0.57143   \n3          0.07692       0.61538  0.30769  0.46154  0.07692  0.26647  0.38462   \n4          0.00000       0.80000  0.20000  0.40000  0.00000  0.00000  0.00000   \n..             ...           ...      ...      ...      ...      ...      ...   \n480        0.33333       0.66667  0.00000  0.00000  0.00000  0.00000  0.33333   \n481        0.00000       0.00000  0.00000  0.00000  0.00000  0.00000  0.00000   \n482        0.00000       1.00000  0.00000  0.00000  0.00000  0.00000  0.00000   \n483        0.00000       0.50000  0.25000  0.43301  0.00000  0.00000  0.50000   \n484        0.00000       1.00000  0.00000  0.00000  0.00000  0.00000  0.00000   \n\n     STD TPP  AVG Skepticism  \n0    0.69921         2.40000  \n1    0.22330         1.89474  \n2    0.49487         2.42857  \n3    0.62493         3.23077  \n4    0.00000         4.20000  \n..       ...             ...  \n480  0.47140         1.33333  \n481  0.00000         2.00000  \n482  0.00000         2.00000  \n483  0.50000         3.00000  \n484  0.00000         2.00000  \n\n[485 rows x 36 columns]"
     },
     "execution_count": 59,
     "metadata": {},
     "output_type": "execute_result"
    }
   ],
   "source": [
    "ext_thread = pd.read_csv('./data/_PHEMEext_thread.csv')\n",
    "ext_thread\n"
   ]
  },
  {
   "cell_type": "code",
   "execution_count": 56,
   "metadata": {},
   "outputs": [
    {
     "data": {
      "text/html": "<div>\n<style scoped>\n    .dataframe tbody tr th:only-of-type {\n        vertical-align: middle;\n    }\n\n    .dataframe tbody tr th {\n        vertical-align: top;\n    }\n\n    .dataframe thead th {\n        text-align: right;\n    }\n</style>\n<table border=\"1\" class=\"dataframe\">\n  <thead>\n    <tr style=\"text-align: right;\">\n      <th></th>\n      <th>depth</th>\n      <th>SUM FriendsCount</th>\n      <th>AVG FriendsCount</th>\n      <th>AVG WordCount</th>\n      <th>AVG CharCount</th>\n      <th>AVG HashTag</th>\n      <th>SUM HashTag</th>\n      <th>Ratio HashTag</th>\n      <th>AVG Url</th>\n      <th>STD Url</th>\n      <th>RATIO Url</th>\n      <th>SUM Mention</th>\n      <th>AVG Mention</th>\n      <th>Ratio Mention</th>\n      <th>Tweets Count</th>\n      <th>Ratio Verified</th>\n      <th>SUM Verified</th>\n      <th>SUM RT</th>\n      <th>AVG RT</th>\n      <th>STD RT</th>\n      <th>AVG AccAge</th>\n      <th>STD AccAge</th>\n      <th>thread_time</th>\n      <th>STD Emoji</th>\n      <th>AVG Emoji</th>\n      <th>Ratio Media</th>\n      <th>RATIO Question</th>\n      <th>RATIO Exclaim</th>\n      <th>RATIO Period</th>\n      <th>AVG FPP</th>\n      <th>STD FPP</th>\n      <th>AVG SPP</th>\n      <th>STD SPP</th>\n      <th>AVG TPP</th>\n      <th>STD TPP</th>\n      <th>AVG Skepticism</th>\n    </tr>\n  </thead>\n  <tbody>\n    <tr>\n      <th>count</th>\n      <td>485.00000</td>\n      <td>485.00000</td>\n      <td>485.00000</td>\n      <td>485.00000</td>\n      <td>485.00000</td>\n      <td>485.00000</td>\n      <td>485.00000</td>\n      <td>485.00000</td>\n      <td>485.00000</td>\n      <td>485.00000</td>\n      <td>485.00000</td>\n      <td>485.00000</td>\n      <td>485.00000</td>\n      <td>485.00000</td>\n      <td>485.00000</td>\n      <td>485.00000</td>\n      <td>485.00000</td>\n      <td>485.00000</td>\n      <td>485.00000</td>\n      <td>485.00000</td>\n      <td>485.00000</td>\n      <td>485.00000</td>\n      <td>485.00000</td>\n      <td>485.00000</td>\n      <td>485.00000</td>\n      <td>485.00000</td>\n      <td>485.00000</td>\n      <td>485.00000</td>\n      <td>485.00000</td>\n      <td>485.00000</td>\n      <td>485.00000</td>\n      <td>485.00000</td>\n      <td>485.00000</td>\n      <td>485.00000</td>\n      <td>485.00000</td>\n      <td>485.00000</td>\n    </tr>\n    <tr>\n      <th>mean</th>\n      <td>2.19794</td>\n      <td>7.61952</td>\n      <td>1.91587</td>\n      <td>10.01375</td>\n      <td>69.41844</td>\n      <td>0.59794</td>\n      <td>1.25361</td>\n      <td>0.29762</td>\n      <td>0.22614</td>\n      <td>0.10124</td>\n      <td>0.22078</td>\n      <td>3.59381</td>\n      <td>0.60497</td>\n      <td>0.40513</td>\n      <td>4.04742</td>\n      <td>0.06684</td>\n      <td>0.15258</td>\n      <td>40.95258</td>\n      <td>4.41943</td>\n      <td>9.69219</td>\n      <td>986.42153</td>\n      <td>370.60815</td>\n      <td>15581.70722</td>\n      <td>0.06312</td>\n      <td>0.03985</td>\n      <td>0.13214</td>\n      <td>0.15139</td>\n      <td>0.10150</td>\n      <td>0.52345</td>\n      <td>0.18014</td>\n      <td>0.19884</td>\n      <td>0.06492</td>\n      <td>0.06322</td>\n      <td>0.24703</td>\n      <td>0.20441</td>\n      <td>2.26836</td>\n    </tr>\n    <tr>\n      <th>std</th>\n      <td>1.70257</td>\n      <td>9.62440</td>\n      <td>1.05029</td>\n      <td>6.36584</td>\n      <td>42.83633</td>\n      <td>0.96245</td>\n      <td>1.75798</td>\n      <td>0.39206</td>\n      <td>0.37453</td>\n      <td>0.18859</td>\n      <td>0.35968</td>\n      <td>6.05126</td>\n      <td>0.66793</td>\n      <td>0.35595</td>\n      <td>4.83785</td>\n      <td>0.21699</td>\n      <td>0.38759</td>\n      <td>482.16712</td>\n      <td>25.62266</td>\n      <td>107.48288</td>\n      <td>709.21957</td>\n      <td>392.53652</td>\n      <td>51235.86482</td>\n      <td>0.25042</td>\n      <td>0.20250</td>\n      <td>0.29372</td>\n      <td>0.28140</td>\n      <td>0.21562</td>\n      <td>0.38458</td>\n      <td>0.33362</td>\n      <td>0.35683</td>\n      <td>0.22990</td>\n      <td>0.16169</td>\n      <td>0.40823</td>\n      <td>0.32968</td>\n      <td>1.75281</td>\n    </tr>\n    <tr>\n      <th>min</th>\n      <td>1.00000</td>\n      <td>0.00000</td>\n      <td>0.00000</td>\n      <td>0.00000</td>\n      <td>0.00000</td>\n      <td>0.00000</td>\n      <td>0.00000</td>\n      <td>0.00000</td>\n      <td>0.00000</td>\n      <td>0.00000</td>\n      <td>0.00000</td>\n      <td>0.00000</td>\n      <td>0.00000</td>\n      <td>0.00000</td>\n      <td>1.00000</td>\n      <td>0.00000</td>\n      <td>0.00000</td>\n      <td>0.00000</td>\n      <td>0.00000</td>\n      <td>0.00000</td>\n      <td>0.00000</td>\n      <td>0.00000</td>\n      <td>0.00000</td>\n      <td>0.00000</td>\n      <td>0.00000</td>\n      <td>0.00000</td>\n      <td>0.00000</td>\n      <td>0.00000</td>\n      <td>0.00000</td>\n      <td>0.00000</td>\n      <td>0.00000</td>\n      <td>0.00000</td>\n      <td>0.00000</td>\n      <td>0.00000</td>\n      <td>0.00000</td>\n      <td>0.00000</td>\n    </tr>\n    <tr>\n      <th>25%</th>\n      <td>1.00000</td>\n      <td>2.48855</td>\n      <td>1.31377</td>\n      <td>5.50000</td>\n      <td>39.40000</td>\n      <td>0.00000</td>\n      <td>0.00000</td>\n      <td>0.00000</td>\n      <td>0.00000</td>\n      <td>0.00000</td>\n      <td>0.00000</td>\n      <td>0.00000</td>\n      <td>0.00000</td>\n      <td>0.00000</td>\n      <td>1.00000</td>\n      <td>0.00000</td>\n      <td>0.00000</td>\n      <td>0.00000</td>\n      <td>0.00000</td>\n      <td>0.00000</td>\n      <td>475.66667</td>\n      <td>0.00000</td>\n      <td>0.00000</td>\n      <td>0.00000</td>\n      <td>0.00000</td>\n      <td>0.00000</td>\n      <td>0.00000</td>\n      <td>0.00000</td>\n      <td>0.16667</td>\n      <td>0.00000</td>\n      <td>0.00000</td>\n      <td>0.00000</td>\n      <td>0.00000</td>\n      <td>0.00000</td>\n      <td>0.00000</td>\n      <td>1.00000</td>\n    </tr>\n    <tr>\n      <th>50%</th>\n      <td>2.00000</td>\n      <td>3.79844</td>\n      <td>2.07485</td>\n      <td>10.00000</td>\n      <td>69.53333</td>\n      <td>0.04167</td>\n      <td>1.00000</td>\n      <td>0.04167</td>\n      <td>0.00000</td>\n      <td>0.00000</td>\n      <td>0.00000</td>\n      <td>1.00000</td>\n      <td>0.50000</td>\n      <td>0.50000</td>\n      <td>2.00000</td>\n      <td>0.00000</td>\n      <td>0.00000</td>\n      <td>3.00000</td>\n      <td>2.00000</td>\n      <td>0.00000</td>\n      <td>938.46154</td>\n      <td>209.00000</td>\n      <td>561.00000</td>\n      <td>0.00000</td>\n      <td>0.00000</td>\n      <td>0.00000</td>\n      <td>0.00000</td>\n      <td>0.00000</td>\n      <td>0.50000</td>\n      <td>0.00000</td>\n      <td>0.00000</td>\n      <td>0.00000</td>\n      <td>0.00000</td>\n      <td>0.00000</td>\n      <td>0.00000</td>\n      <td>2.00000</td>\n    </tr>\n    <tr>\n      <th>75%</th>\n      <td>3.00000</td>\n      <td>9.19258</td>\n      <td>2.70672</td>\n      <td>15.00000</td>\n      <td>104.00000</td>\n      <td>1.00000</td>\n      <td>2.00000</td>\n      <td>0.50000</td>\n      <td>0.33333</td>\n      <td>0.00000</td>\n      <td>0.33333</td>\n      <td>4.00000</td>\n      <td>1.00000</td>\n      <td>0.66667</td>\n      <td>5.00000</td>\n      <td>0.00000</td>\n      <td>0.00000</td>\n      <td>8.00000</td>\n      <td>4.00000</td>\n      <td>2.49444</td>\n      <td>1443.00000</td>\n      <td>726.71193</td>\n      <td>6964.00000</td>\n      <td>0.00000</td>\n      <td>0.00000</td>\n      <td>0.05556</td>\n      <td>0.16667</td>\n      <td>0.11111</td>\n      <td>1.00000</td>\n      <td>0.25000</td>\n      <td>0.40000</td>\n      <td>0.00000</td>\n      <td>0.00000</td>\n      <td>0.40000</td>\n      <td>0.43301</td>\n      <td>3.00000</td>\n    </tr>\n    <tr>\n      <th>max</th>\n      <td>16.00000</td>\n      <td>57.40306</td>\n      <td>4.38684</td>\n      <td>29.00000</td>\n      <td>143.00000</td>\n      <td>6.00000</td>\n      <td>12.00000</td>\n      <td>1.00000</td>\n      <td>2.00000</td>\n      <td>0.94281</td>\n      <td>1.00000</td>\n      <td>38.00000</td>\n      <td>6.50000</td>\n      <td>1.00000</td>\n      <td>27.00000</td>\n      <td>1.00000</td>\n      <td>3.00000</td>\n      <td>10415.00000</td>\n      <td>548.15789</td>\n      <td>2322.57324</td>\n      <td>3021.00000</td>\n      <td>1432.00000</td>\n      <td>753999.00000</td>\n      <td>2.76385</td>\n      <td>3.00000</td>\n      <td>1.00000</td>\n      <td>1.00000</td>\n      <td>1.00000</td>\n      <td>1.00000</td>\n      <td>2.00000</td>\n      <td>2.00000</td>\n      <td>2.00000</td>\n      <td>1.00000</td>\n      <td>2.00000</td>\n      <td>2.00000</td>\n      <td>9.00000</td>\n    </tr>\n  </tbody>\n</table>\n</div>",
      "text/plain": "          depth  SUM FriendsCount  AVG FriendsCount  AVG WordCount  \\\ncount 485.00000         485.00000         485.00000      485.00000   \nmean    2.19794           7.61952           1.91587       10.01375   \nstd     1.70257           9.62440           1.05029        6.36584   \nmin     1.00000           0.00000           0.00000        0.00000   \n25%     1.00000           2.48855           1.31377        5.50000   \n50%     2.00000           3.79844           2.07485       10.00000   \n75%     3.00000           9.19258           2.70672       15.00000   \nmax    16.00000          57.40306           4.38684       29.00000   \n\n       AVG CharCount  AVG HashTag  SUM HashTag  Ratio HashTag   AVG Url  \\\ncount      485.00000    485.00000    485.00000      485.00000 485.00000   \nmean        69.41844      0.59794      1.25361        0.29762   0.22614   \nstd         42.83633      0.96245      1.75798        0.39206   0.37453   \nmin          0.00000      0.00000      0.00000        0.00000   0.00000   \n25%         39.40000      0.00000      0.00000        0.00000   0.00000   \n50%         69.53333      0.04167      1.00000        0.04167   0.00000   \n75%        104.00000      1.00000      2.00000        0.50000   0.33333   \nmax        143.00000      6.00000     12.00000        1.00000   2.00000   \n\n        STD Url  RATIO Url  SUM Mention  AVG Mention  Ratio Mention  \\\ncount 485.00000  485.00000    485.00000    485.00000      485.00000   \nmean    0.10124    0.22078      3.59381      0.60497        0.40513   \nstd     0.18859    0.35968      6.05126      0.66793        0.35595   \nmin     0.00000    0.00000      0.00000      0.00000        0.00000   \n25%     0.00000    0.00000      0.00000      0.00000        0.00000   \n50%     0.00000    0.00000      1.00000      0.50000        0.50000   \n75%     0.00000    0.33333      4.00000      1.00000        0.66667   \nmax     0.94281    1.00000     38.00000      6.50000        1.00000   \n\n       Tweets Count  Ratio Verified  SUM Verified      SUM RT    AVG RT  \\\ncount     485.00000       485.00000     485.00000   485.00000 485.00000   \nmean        4.04742         0.06684       0.15258    40.95258   4.41943   \nstd         4.83785         0.21699       0.38759   482.16712  25.62266   \nmin         1.00000         0.00000       0.00000     0.00000   0.00000   \n25%         1.00000         0.00000       0.00000     0.00000   0.00000   \n50%         2.00000         0.00000       0.00000     3.00000   2.00000   \n75%         5.00000         0.00000       0.00000     8.00000   4.00000   \nmax        27.00000         1.00000       3.00000 10415.00000 548.15789   \n\n          STD RT  AVG AccAge  STD AccAge  thread_time  STD Emoji  AVG Emoji  \\\ncount  485.00000   485.00000   485.00000    485.00000  485.00000  485.00000   \nmean     9.69219   986.42153   370.60815  15581.70722    0.06312    0.03985   \nstd    107.48288   709.21957   392.53652  51235.86482    0.25042    0.20250   \nmin      0.00000     0.00000     0.00000      0.00000    0.00000    0.00000   \n25%      0.00000   475.66667     0.00000      0.00000    0.00000    0.00000   \n50%      0.00000   938.46154   209.00000    561.00000    0.00000    0.00000   \n75%      2.49444  1443.00000   726.71193   6964.00000    0.00000    0.00000   \nmax   2322.57324  3021.00000  1432.00000 753999.00000    2.76385    3.00000   \n\n       Ratio Media  RATIO Question  RATIO Exclaim  RATIO Period   AVG FPP  \\\ncount    485.00000       485.00000      485.00000     485.00000 485.00000   \nmean       0.13214         0.15139        0.10150       0.52345   0.18014   \nstd        0.29372         0.28140        0.21562       0.38458   0.33362   \nmin        0.00000         0.00000        0.00000       0.00000   0.00000   \n25%        0.00000         0.00000        0.00000       0.16667   0.00000   \n50%        0.00000         0.00000        0.00000       0.50000   0.00000   \n75%        0.05556         0.16667        0.11111       1.00000   0.25000   \nmax        1.00000         1.00000        1.00000       1.00000   2.00000   \n\n        STD FPP   AVG SPP   STD SPP   AVG TPP   STD TPP  AVG Skepticism  \ncount 485.00000 485.00000 485.00000 485.00000 485.00000       485.00000  \nmean    0.19884   0.06492   0.06322   0.24703   0.20441         2.26836  \nstd     0.35683   0.22990   0.16169   0.40823   0.32968         1.75281  \nmin     0.00000   0.00000   0.00000   0.00000   0.00000         0.00000  \n25%     0.00000   0.00000   0.00000   0.00000   0.00000         1.00000  \n50%     0.00000   0.00000   0.00000   0.00000   0.00000         2.00000  \n75%     0.40000   0.00000   0.00000   0.40000   0.43301         3.00000  \nmax     2.00000   2.00000   1.00000   2.00000   2.00000         9.00000  "
     },
     "execution_count": 56,
     "metadata": {},
     "output_type": "execute_result"
    }
   ],
   "source": [
    "ext_thread.describe()"
   ]
  },
  {
   "cell_type": "code",
   "execution_count": 234,
   "metadata": {},
   "outputs": [
    {
     "data": {
      "text/plain": "Index(['depth', 'SUM FriendsCount', 'AVG FriendsCount', 'AVG WordCount',\n       'AVG CharCount', 'AVG HashTag', 'SUM HashTag', 'Ratio HashTag',\n       'AVG Url', 'STD Url', 'RATIO Url', 'SUM Mention', 'AVG Mention',\n       'Ratio Mention', 'Tweets Count', 'Ratio Verified', 'SUM Verified',\n       'SUM RT', 'AVG RT', 'STD RT', 'AVG AccAge', 'STD AccAge', 'thread_time',\n       'STD Emoji', 'AVG Emoji', 'Ratio Media', 'RATIO Question',\n       'RATIO Exclaim', 'RATIO Period', 'AVG FPP', 'STD FPP', 'AVG SPP',\n       'STD SPP', 'AVG TPP', 'STD TPP', 'AVG Skepticism'],\n      dtype='object')"
     },
     "execution_count": 234,
     "metadata": {},
     "output_type": "execute_result"
    }
   ],
   "source": [
    "ext_thread.columns"
   ]
  },
  {
   "cell_type": "code",
   "execution_count": 105,
   "metadata": {},
   "outputs": [
    {
     "data": {
      "text/html": "<div>\n<style scoped>\n    .dataframe tbody tr th:only-of-type {\n        vertical-align: middle;\n    }\n\n    .dataframe tbody tr th {\n        vertical-align: top;\n    }\n\n    .dataframe thead th {\n        text-align: right;\n    }\n</style>\n<table border=\"1\" class=\"dataframe\">\n  <thead>\n    <tr style=\"text-align: right;\">\n      <th></th>\n      <th>text</th>\n      <th>id</th>\n      <th>pid</th>\n      <th>emoji_count</th>\n      <th>has_media</th>\n      <th>URLcount</th>\n      <th>Skepticism</th>\n      <th>MentionCount</th>\n      <th>token_for_POS</th>\n      <th>Noun</th>\n      <th>Verb</th>\n      <th>Adjective</th>\n      <th>Pronoun</th>\n      <th>FirstPersonPronoun</th>\n      <th>SecondPersonPronoun</th>\n      <th>ThirdPersonPronoun</th>\n      <th>Adverb</th>\n      <th>Numeral</th>\n      <th>Conjunction_inj</th>\n      <th>Particle</th>\n      <th>Determiner</th>\n      <th>Modal</th>\n      <th>Whs</th>\n      <th>char_count</th>\n      <th>word_count</th>\n      <th>HashTag</th>\n      <th>has_question</th>\n      <th>has_exclaim</th>\n      <th>has_period</th>\n      <th>retweet_count</th>\n      <th>isRT</th>\n      <th>tweet_count</th>\n      <th>listed_count</th>\n      <th>friends_count</th>\n      <th>follow_ratio</th>\n      <th>account_age_days</th>\n      <th>tweet_created</th>\n      <th>capital_ratio</th>\n      <th>verified</th>\n      <th>Event</th>\n      <th>isSrcTweet</th>\n      <th>target</th>\n    </tr>\n  </thead>\n  <tbody>\n    <tr>\n      <th>0</th>\n      <td>BREAKING: Armed man takes hostage in kosher grocery east of Paris http://t.co/PBs3sMwhLt</td>\n      <td>553529101659566080</td>\n      <td>NaN</td>\n      <td>0</td>\n      <td>0</td>\n      <td>1</td>\n      <td>4</td>\n      <td>0</td>\n      <td>[breaking, armed, man, takes, hostage, in, kosher, grocery, east, of, paris]</td>\n      <td>6</td>\n      <td>3</td>\n      <td>0</td>\n      <td>0</td>\n      <td>0</td>\n      <td>0</td>\n      <td>0</td>\n      <td>0</td>\n      <td>0</td>\n      <td>2</td>\n      <td>0</td>\n      <td>0</td>\n      <td>0</td>\n      <td>0</td>\n      <td>88</td>\n      <td>12</td>\n      <td>0</td>\n      <td>0</td>\n      <td>0</td>\n      <td>1</td>\n      <td>177</td>\n      <td>0</td>\n      <td>4.80329</td>\n      <td>3.85594</td>\n      <td>2.78817</td>\n      <td>5.28735</td>\n      <td>2126</td>\n      <td>1420806596.00000</td>\n      <td>0.15909</td>\n      <td>1</td>\n      <td>charliehebdo</td>\n      <td>1</td>\n      <td>1</td>\n    </tr>\n    <tr>\n      <th>1</th>\n      <td>“@haaretzcom: BREAKING: Armed man takes hostage in kosher grocery east of Paris http://t.co/SvpMxBoLsn” @andreinetto</td>\n      <td>553530890908098561</td>\n      <td>553529101659566080.00000</td>\n      <td>0</td>\n      <td>0</td>\n      <td>1</td>\n      <td>4</td>\n      <td>2</td>\n      <td>[breaking, armed, man, takes, hostage, in, kosher, grocery, east, of, paris]</td>\n      <td>6</td>\n      <td>3</td>\n      <td>0</td>\n      <td>0</td>\n      <td>0</td>\n      <td>0</td>\n      <td>0</td>\n      <td>0</td>\n      <td>0</td>\n      <td>2</td>\n      <td>0</td>\n      <td>0</td>\n      <td>0</td>\n      <td>0</td>\n      <td>116</td>\n      <td>14</td>\n      <td>0</td>\n      <td>0</td>\n      <td>0</td>\n      <td>1</td>\n      <td>0</td>\n      <td>0</td>\n      <td>5.01041</td>\n      <td>1.51851</td>\n      <td>3.30038</td>\n      <td>3.11261</td>\n      <td>1391</td>\n      <td>1420807023.00000</td>\n      <td>0.12069</td>\n      <td>0</td>\n      <td>charliehebdo</td>\n      <td>0</td>\n      <td>1</td>\n    </tr>\n    <tr>\n      <th>2</th>\n      <td>@haaretzcom @AhmetHez to kill is right? How dare you you are not soldier how dare you turn children into killers how dare you do that</td>\n      <td>553547184000339968</td>\n      <td>553529101659566080.00000</td>\n      <td>0</td>\n      <td>0</td>\n      <td>0</td>\n      <td>7</td>\n      <td>2</td>\n      <td>[to, kill, is, right, how, dare, you, you, are, not, soldier, how, dare, you, turn, children, into, killers, how, dare, you, do, that]</td>\n      <td>5</td>\n      <td>5</td>\n      <td>2</td>\n      <td>4</td>\n      <td>0</td>\n      <td>4</td>\n      <td>0</td>\n      <td>1</td>\n      <td>0</td>\n      <td>2</td>\n      <td>0</td>\n      <td>0</td>\n      <td>0</td>\n      <td>3</td>\n      <td>133</td>\n      <td>25</td>\n      <td>0</td>\n      <td>1</td>\n      <td>0</td>\n      <td>0</td>\n      <td>0</td>\n      <td>0</td>\n      <td>3.36116</td>\n      <td>0.00000</td>\n      <td>3.30060</td>\n      <td>2.21219</td>\n      <td>2</td>\n      <td>1420810907.00000</td>\n      <td>0.02256</td>\n      <td>0</td>\n      <td>charliehebdo</td>\n      <td>0</td>\n      <td>1</td>\n    </tr>\n    <tr>\n      <th>3</th>\n      <td>@haaretzcom @AhmetHez play back infront of ur kids so they can laugh at you what kind of nonsense you feed their mind what kind of bad words</td>\n      <td>553546643941761024</td>\n      <td>553529101659566080.00000</td>\n      <td>0</td>\n      <td>0</td>\n      <td>0</td>\n      <td>7</td>\n      <td>2</td>\n      <td>[play, back, infront, of, ur, kids, so, they, can, laugh, at, you, what, kind, of, nonsense, you, feed, their, mind, what, kind, of, bad, words]</td>\n      <td>7</td>\n      <td>3</td>\n      <td>2</td>\n      <td>4</td>\n      <td>0</td>\n      <td>2</td>\n      <td>2</td>\n      <td>1</td>\n      <td>0</td>\n      <td>5</td>\n      <td>0</td>\n      <td>0</td>\n      <td>1</td>\n      <td>2</td>\n      <td>140</td>\n      <td>27</td>\n      <td>0</td>\n      <td>0</td>\n      <td>0</td>\n      <td>0</td>\n      <td>0</td>\n      <td>0</td>\n      <td>3.36116</td>\n      <td>0.00000</td>\n      <td>3.30060</td>\n      <td>2.21219</td>\n      <td>2</td>\n      <td>1420810778.00000</td>\n      <td>0.01429</td>\n      <td>0</td>\n      <td>charliehebdo</td>\n      <td>0</td>\n      <td>1</td>\n    </tr>\n    <tr>\n      <th>4</th>\n      <td>@ohohyesyesnono @haaretzcom Bots will conquest all the world.</td>\n      <td>553530583583047680</td>\n      <td>553529101659566080.00000</td>\n      <td>0</td>\n      <td>0</td>\n      <td>0</td>\n      <td>4</td>\n      <td>2</td>\n      <td>[bots, will, conquest, all, the, world]</td>\n      <td>2</td>\n      <td>1</td>\n      <td>0</td>\n      <td>0</td>\n      <td>0</td>\n      <td>0</td>\n      <td>0</td>\n      <td>0</td>\n      <td>0</td>\n      <td>0</td>\n      <td>0</td>\n      <td>1</td>\n      <td>1</td>\n      <td>0</td>\n      <td>61</td>\n      <td>8</td>\n      <td>0</td>\n      <td>0</td>\n      <td>0</td>\n      <td>1</td>\n      <td>0</td>\n      <td>0</td>\n      <td>5.05633</td>\n      <td>0.95424</td>\n      <td>0.47712</td>\n      <td>2.53020</td>\n      <td>68</td>\n      <td>1420806949.00000</td>\n      <td>0.01639</td>\n      <td>0</td>\n      <td>charliehebdo</td>\n      <td>0</td>\n      <td>1</td>\n    </tr>\n    <tr>\n      <th>...</th>\n      <td>...</td>\n      <td>...</td>\n      <td>...</td>\n      <td>...</td>\n      <td>...</td>\n      <td>...</td>\n      <td>...</td>\n      <td>...</td>\n      <td>...</td>\n      <td>...</td>\n      <td>...</td>\n      <td>...</td>\n      <td>...</td>\n      <td>...</td>\n      <td>...</td>\n      <td>...</td>\n      <td>...</td>\n      <td>...</td>\n      <td>...</td>\n      <td>...</td>\n      <td>...</td>\n      <td>...</td>\n      <td>...</td>\n      <td>...</td>\n      <td>...</td>\n      <td>...</td>\n      <td>...</td>\n      <td>...</td>\n      <td>...</td>\n      <td>...</td>\n      <td>...</td>\n      <td>...</td>\n      <td>...</td>\n      <td>...</td>\n      <td>...</td>\n      <td>...</td>\n      <td>...</td>\n      <td>...</td>\n      <td>...</td>\n      <td>...</td>\n      <td>...</td>\n      <td>...</td>\n    </tr>\n    <tr>\n      <th>103207</th>\n      <td>@ABCReligion Gotta love the Aussies.  Gorgeous.</td>\n      <td>544427788745592832</td>\n      <td>544419008615702528.00000</td>\n      <td>0</td>\n      <td>0</td>\n      <td>0</td>\n      <td>1</td>\n      <td>1</td>\n      <td>[gotta, love, the, aussies, gorgeous]</td>\n      <td>2</td>\n      <td>1</td>\n      <td>1</td>\n      <td>0</td>\n      <td>0</td>\n      <td>0</td>\n      <td>0</td>\n      <td>0</td>\n      <td>0</td>\n      <td>0</td>\n      <td>0</td>\n      <td>1</td>\n      <td>0</td>\n      <td>0</td>\n      <td>47</td>\n      <td>6</td>\n      <td>0</td>\n      <td>0</td>\n      <td>0</td>\n      <td>1</td>\n      <td>0</td>\n      <td>0</td>\n      <td>3.95270</td>\n      <td>1.57978</td>\n      <td>2.73239</td>\n      <td>3.26293</td>\n      <td>830</td>\n      <td>1418636674.00000</td>\n      <td>0.14894</td>\n      <td>0</td>\n      <td>sydneysiege</td>\n      <td>0</td>\n      <td>0</td>\n    </tr>\n    <tr>\n      <th>103208</th>\n      <td>@effeminate_guy @ABCReligion not this time around!</td>\n      <td>544440722129031168</td>\n      <td>544439684655378432.00000</td>\n      <td>0</td>\n      <td>0</td>\n      <td>0</td>\n      <td>1</td>\n      <td>2</td>\n      <td>[not, this, time, around]</td>\n      <td>1</td>\n      <td>0</td>\n      <td>0</td>\n      <td>0</td>\n      <td>0</td>\n      <td>0</td>\n      <td>0</td>\n      <td>1</td>\n      <td>0</td>\n      <td>0</td>\n      <td>1</td>\n      <td>1</td>\n      <td>0</td>\n      <td>0</td>\n      <td>50</td>\n      <td>6</td>\n      <td>0</td>\n      <td>0</td>\n      <td>1</td>\n      <td>0</td>\n      <td>0</td>\n      <td>0</td>\n      <td>3.86817</td>\n      <td>1.04139</td>\n      <td>2.84323</td>\n      <td>2.93802</td>\n      <td>657</td>\n      <td>1418639758.00000</td>\n      <td>0.08000</td>\n      <td>0</td>\n      <td>sydneysiege</td>\n      <td>0</td>\n      <td>0</td>\n    </tr>\n    <tr>\n      <th>103209</th>\n      <td>.@ABCReligion racism or anti-religious? Muslim or Arab? Conflicting words.</td>\n      <td>544421326664896512</td>\n      <td>544419008615702528.00000</td>\n      <td>0</td>\n      <td>0</td>\n      <td>0</td>\n      <td>0</td>\n      <td>1</td>\n      <td>[racism, or, antireligious, muslim, or, arab, conflicting, words]</td>\n      <td>4</td>\n      <td>0</td>\n      <td>2</td>\n      <td>0</td>\n      <td>0</td>\n      <td>0</td>\n      <td>0</td>\n      <td>0</td>\n      <td>0</td>\n      <td>2</td>\n      <td>0</td>\n      <td>0</td>\n      <td>0</td>\n      <td>0</td>\n      <td>74</td>\n      <td>9</td>\n      <td>0</td>\n      <td>1</td>\n      <td>0</td>\n      <td>1</td>\n      <td>1</td>\n      <td>0</td>\n      <td>5.02144</td>\n      <td>1.74036</td>\n      <td>2.47567</td>\n      <td>2.80618</td>\n      <td>1286</td>\n      <td>1418635133.00000</td>\n      <td>0.09459</td>\n      <td>0</td>\n      <td>sydneysiege</td>\n      <td>0</td>\n      <td>0</td>\n    </tr>\n    <tr>\n      <th>103210</th>\n      <td>@JezNews  via @ABCReligion Australians respond to racism by telling #Muslim community #illridewithyou. #sydneysiege #MartinPlace</td>\n      <td>544425604188090370</td>\n      <td>544419008615702528.00000</td>\n      <td>0</td>\n      <td>0</td>\n      <td>0</td>\n      <td>1</td>\n      <td>2</td>\n      <td>[via, australians, respond, to, racism, by, telling, community]</td>\n      <td>2</td>\n      <td>3</td>\n      <td>0</td>\n      <td>0</td>\n      <td>0</td>\n      <td>0</td>\n      <td>0</td>\n      <td>0</td>\n      <td>0</td>\n      <td>2</td>\n      <td>0</td>\n      <td>0</td>\n      <td>0</td>\n      <td>0</td>\n      <td>128</td>\n      <td>14</td>\n      <td>4</td>\n      <td>0</td>\n      <td>0</td>\n      <td>1</td>\n      <td>1</td>\n      <td>0</td>\n      <td>3.78447</td>\n      <td>1.47712</td>\n      <td>2.75967</td>\n      <td>2.78462</td>\n      <td>1126</td>\n      <td>1418636153.00000</td>\n      <td>0.07812</td>\n      <td>0</td>\n      <td>sydneysiege</td>\n      <td>0</td>\n      <td>0</td>\n    </tr>\n    <tr>\n      <th>103211</th>\n      <td>@ABCReligion @melkirem But is there a risk of Cronulla-riots kind of incident soon, you think ?</td>\n      <td>544439684655378433</td>\n      <td>544419008615702528.00000</td>\n      <td>0</td>\n      <td>0</td>\n      <td>0</td>\n      <td>2</td>\n      <td>2</td>\n      <td>[but, is, there, a, risk, of, cronullariots, kind, of, incident, soon, you, think]</td>\n      <td>4</td>\n      <td>2</td>\n      <td>0</td>\n      <td>1</td>\n      <td>0</td>\n      <td>1</td>\n      <td>0</td>\n      <td>2</td>\n      <td>0</td>\n      <td>3</td>\n      <td>0</td>\n      <td>1</td>\n      <td>0</td>\n      <td>0</td>\n      <td>95</td>\n      <td>16</td>\n      <td>0</td>\n      <td>1</td>\n      <td>0</td>\n      <td>0</td>\n      <td>0</td>\n      <td>0</td>\n      <td>4.87734</td>\n      <td>0.69897</td>\n      <td>2.89432</td>\n      <td>2.89376</td>\n      <td>1257</td>\n      <td>1418639510.00000</td>\n      <td>0.06316</td>\n      <td>0</td>\n      <td>sydneysiege</td>\n      <td>0</td>\n      <td>0</td>\n    </tr>\n  </tbody>\n</table>\n<p>103212 rows × 42 columns</p>\n</div>",
      "text/plain": "                                                                                                                                                text  \\\n0                                                           BREAKING: Armed man takes hostage in kosher grocery east of Paris http://t.co/PBs3sMwhLt   \n1                               “@haaretzcom: BREAKING: Armed man takes hostage in kosher grocery east of Paris http://t.co/SvpMxBoLsn” @andreinetto   \n2              @haaretzcom @AhmetHez to kill is right? How dare you you are not soldier how dare you turn children into killers how dare you do that   \n3       @haaretzcom @AhmetHez play back infront of ur kids so they can laugh at you what kind of nonsense you feed their mind what kind of bad words   \n4                                                                                      @ohohyesyesnono @haaretzcom Bots will conquest all the world.   \n...                                                                                                                                              ...   \n103207                                                                                               @ABCReligion Gotta love the Aussies.  Gorgeous.   \n103208                                                                                            @effeminate_guy @ABCReligion not this time around!   \n103209                                                                    .@ABCReligion racism or anti-religious? Muslim or Arab? Conflicting words.   \n103210              @JezNews  via @ABCReligion Australians respond to racism by telling #Muslim community #illridewithyou. #sydneysiege #MartinPlace   \n103211                                               @ABCReligion @melkirem But is there a risk of Cronulla-riots kind of incident soon, you think ?   \n\n                        id                      pid  emoji_count  has_media  \\\n0       553529101659566080                      NaN            0          0   \n1       553530890908098561 553529101659566080.00000            0          0   \n2       553547184000339968 553529101659566080.00000            0          0   \n3       553546643941761024 553529101659566080.00000            0          0   \n4       553530583583047680 553529101659566080.00000            0          0   \n...                    ...                      ...          ...        ...   \n103207  544427788745592832 544419008615702528.00000            0          0   \n103208  544440722129031168 544439684655378432.00000            0          0   \n103209  544421326664896512 544419008615702528.00000            0          0   \n103210  544425604188090370 544419008615702528.00000            0          0   \n103211  544439684655378433 544419008615702528.00000            0          0   \n\n        URLcount  Skepticism  MentionCount  \\\n0              1           4             0   \n1              1           4             2   \n2              0           7             2   \n3              0           7             2   \n4              0           4             2   \n...          ...         ...           ...   \n103207         0           1             1   \n103208         0           1             2   \n103209         0           0             1   \n103210         0           1             2   \n103211         0           2             2   \n\n                                                                                                                                           token_for_POS  \\\n0                                                                           [breaking, armed, man, takes, hostage, in, kosher, grocery, east, of, paris]   \n1                                                                           [breaking, armed, man, takes, hostage, in, kosher, grocery, east, of, paris]   \n2                 [to, kill, is, right, how, dare, you, you, are, not, soldier, how, dare, you, turn, children, into, killers, how, dare, you, do, that]   \n3       [play, back, infront, of, ur, kids, so, they, can, laugh, at, you, what, kind, of, nonsense, you, feed, their, mind, what, kind, of, bad, words]   \n4                                                                                                                [bots, will, conquest, all, the, world]   \n...                                                                                                                                                  ...   \n103207                                                                                                             [gotta, love, the, aussies, gorgeous]   \n103208                                                                                                                         [not, this, time, around]   \n103209                                                                                 [racism, or, antireligious, muslim, or, arab, conflicting, words]   \n103210                                                                                   [via, australians, respond, to, racism, by, telling, community]   \n103211                                                                [but, is, there, a, risk, of, cronullariots, kind, of, incident, soon, you, think]   \n\n        Noun  Verb  Adjective  Pronoun  FirstPersonPronoun  \\\n0          6     3          0        0                   0   \n1          6     3          0        0                   0   \n2          5     5          2        4                   0   \n3          7     3          2        4                   0   \n4          2     1          0        0                   0   \n...      ...   ...        ...      ...                 ...   \n103207     2     1          1        0                   0   \n103208     1     0          0        0                   0   \n103209     4     0          2        0                   0   \n103210     2     3          0        0                   0   \n103211     4     2          0        1                   0   \n\n        SecondPersonPronoun  ThirdPersonPronoun  Adverb  Numeral  \\\n0                         0                   0       0        0   \n1                         0                   0       0        0   \n2                         4                   0       1        0   \n3                         2                   2       1        0   \n4                         0                   0       0        0   \n...                     ...                 ...     ...      ...   \n103207                    0                   0       0        0   \n103208                    0                   0       1        0   \n103209                    0                   0       0        0   \n103210                    0                   0       0        0   \n103211                    1                   0       2        0   \n\n        Conjunction_inj  Particle  Determiner  Modal  Whs  char_count  \\\n0                     2         0           0      0    0          88   \n1                     2         0           0      0    0         116   \n2                     2         0           0      0    3         133   \n3                     5         0           0      1    2         140   \n4                     0         0           1      1    0          61   \n...                 ...       ...         ...    ...  ...         ...   \n103207                0         0           1      0    0          47   \n103208                0         1           1      0    0          50   \n103209                2         0           0      0    0          74   \n103210                2         0           0      0    0         128   \n103211                3         0           1      0    0          95   \n\n        word_count  HashTag  has_question  has_exclaim  has_period  \\\n0               12        0             0            0           1   \n1               14        0             0            0           1   \n2               25        0             1            0           0   \n3               27        0             0            0           0   \n4                8        0             0            0           1   \n...            ...      ...           ...          ...         ...   \n103207           6        0             0            0           1   \n103208           6        0             0            1           0   \n103209           9        0             1            0           1   \n103210          14        4             0            0           1   \n103211          16        0             1            0           0   \n\n        retweet_count  isRT  tweet_count  listed_count  friends_count  \\\n0                 177     0      4.80329       3.85594        2.78817   \n1                   0     0      5.01041       1.51851        3.30038   \n2                   0     0      3.36116       0.00000        3.30060   \n3                   0     0      3.36116       0.00000        3.30060   \n4                   0     0      5.05633       0.95424        0.47712   \n...               ...   ...          ...           ...            ...   \n103207              0     0      3.95270       1.57978        2.73239   \n103208              0     0      3.86817       1.04139        2.84323   \n103209              1     0      5.02144       1.74036        2.47567   \n103210              1     0      3.78447       1.47712        2.75967   \n103211              0     0      4.87734       0.69897        2.89432   \n\n        follow_ratio  account_age_days    tweet_created  capital_ratio  \\\n0            5.28735              2126 1420806596.00000        0.15909   \n1            3.11261              1391 1420807023.00000        0.12069   \n2            2.21219                 2 1420810907.00000        0.02256   \n3            2.21219                 2 1420810778.00000        0.01429   \n4            2.53020                68 1420806949.00000        0.01639   \n...              ...               ...              ...            ...   \n103207       3.26293               830 1418636674.00000        0.14894   \n103208       2.93802               657 1418639758.00000        0.08000   \n103209       2.80618              1286 1418635133.00000        0.09459   \n103210       2.78462              1126 1418636153.00000        0.07812   \n103211       2.89376              1257 1418639510.00000        0.06316   \n\n        verified         Event  isSrcTweet  target  \n0              1  charliehebdo           1       1  \n1              0  charliehebdo           0       1  \n2              0  charliehebdo           0       1  \n3              0  charliehebdo           0       1  \n4              0  charliehebdo           0       1  \n...          ...           ...         ...     ...  \n103207         0   sydneysiege           0       0  \n103208         0   sydneysiege           0       0  \n103209         0   sydneysiege           0       0  \n103210         0   sydneysiege           0       0  \n103211         0   sydneysiege           0       0  \n\n[103212 rows x 42 columns]"
     },
     "execution_count": 105,
     "metadata": {},
     "output_type": "execute_result"
    }
   ],
   "source": [
    "all_pheme#.loc[(all_pheme['id'] == None)]"
   ]
  },
  {
   "cell_type": "markdown",
   "metadata": {},
   "source": [
    "#### BERT & EMOJI 이모지 다루는 차이 😂😂😂😂😂\n",
    "\n",
    "> Before applying fastBPE to the pre-training corpus of 850M English Tweets, we tokenized these Tweets using TweetTokenizer from the NLTK toolkit and used the emoji package to translate emotion icons into text strings (here, each icon is referred to as a word token). We also normalized the Tweets by converting user mentions and web/url links into special tokens @USER and HTTPURL, respectively. Thus it is recommended to also apply the same pre-processing step for BERTweet-based downstream applications w.r.t. the raw input Tweets. BERTweet provides this pre-processing step by enabling the normalization argument.\n",
    "\n"
   ]
  },
  {
   "cell_type": "code",
   "execution_count": null,
   "metadata": {},
   "outputs": [],
   "source": [
    "import torch\n",
    "from transformers import AutoModel, AutoTokenizer \n",
    "bertweet = AutoModel.from_pretrained(\"vinai/bertweet-base\", )\n",
    "\n",
    "# For transformers v4.x+: \n",
    "tokenizer = AutoTokenizer.from_pretrained(\"vinai/bertweet-base\", use_fast=False, normalization=False)"
   ]
  },
  {
   "cell_type": "code",
   "execution_count": 67,
   "metadata": {},
   "outputs": [
    {
     "data": {
      "text/plain": "[array(['2014-10-12 21:22:36+00:00'], dtype=object),\n array([], dtype=object),\n array(['2014-10-12 18:38:41+00:00'], dtype=object),\n array(['2014-10-12 18:43:07+00:00'], dtype=object),\n array(['2014-10-12 18:42:02+00:00'], dtype=object),\n array(['2014-10-12 18:44:13+00:00'], dtype=object),\n array(['2014-10-12 19:15:21+00:00'], dtype=object),\n array([], dtype=object),\n array(['2014-10-12 18:54:47+00:00'], dtype=object),\n array(['2014-10-12 18:39:06+00:00'], dtype=object),\n array(['2014-10-12 18:41:23+00:00'], dtype=object),\n array(['2014-10-12 18:39:51+00:00'], dtype=object),\n array([], dtype=object),\n array(['2014-10-12 18:56:53+00:00'], dtype=object)]"
     },
     "execution_count": 67,
     "metadata": {},
     "output_type": "execute_result"
    }
   ],
   "source": [
    "list(ext_thread.thread_time[0])"
   ]
  },
  {
   "cell_type": "code",
   "execution_count": null,
   "metadata": {},
   "outputs": [],
   "source": [
    "# INPUT TWEET IS ALREADY NORMALIZED!\n",
    "line = \"@MichaelEssien that's a shame wanted to Invest in you😔\"\n",
    "print(line)\n",
    "print(tokenizer.encode(line),\"\\n\")\n",
    "input_ids = torch.tensor([tokenizer.encode(line)])\n",
    "# print(input_ids)\n",
    "\n",
    "line = \"HTTPURL @MichaelEssien that's a shame wanted to Invest INVEST in you😔😂😂 http://www.google.com\"\n",
    "input_ids = torch.tensor([tokenizer.encode(line)])\n",
    "print(line)\n",
    "print(tokenizer.encode(line),\"\\n\")\n",
    "\n",
    "line = \"HTTPURL @USER that's a shame wanted to Invest INVEST in you:pensive_face::face_with_tears_of_joy::face_with_tears_of_joy: HTTPURL\"\n",
    "input_ids = torch.tensor([tokenizer.encode(line)])\n",
    "print(line)\n",
    "print(tokenizer.encode(line),\"\\n\")\n",
    "\n",
    "line = \"HTTPURL @USER that's a shame wanted to Invest INVEST in you pensive_face face_with_tears_of_joy face_with_tears_of_joy :grinning_face_with_big_eyes: HTTPURL  \"\n",
    "input_ids = torch.tensor([tokenizer.encode(line)])\n",
    "print(line)\n",
    "print(tokenizer.encode(line))\n",
    "\n",
    "\n",
    "# with torch.no_grad():\n",
    "#     features = bertweet(input_ids)  # Models outputs are now tuples\n",
    "# print(features)"
   ]
  },
  {
   "cell_type": "code",
   "execution_count": null,
   "metadata": {},
   "outputs": [],
   "source": [
    "text = \"HTTPURL @MichaelEssien that's a shame wanted to Invest INVEST in you😔😂😂😃 http://www.google.com\"\n",
    "print(emoji.emoji_count(text),\"\\n\")\n",
    "print(text)\n",
    "text = emoji.demojize(text)\n",
    "# print(emoji.get_emoji_regexp(),\"\\n\")\n",
    "# text=text.strip(':')\n",
    "# text = re.sub(r'(@.*?)[\\s]', '@USER ', text)\n",
    "text = re.sub(r\"@\\S+\", \"@USER\", text)   # mention -> '@'\n",
    "text = re.sub(r\"http\\S+\", \"HTTPURL\", text)  # http link -> '*'\n",
    "emojis = re.findall(r'(::)', text)\n",
    "print(emojis)\n",
    "# print(text,\"\\n\")\n",
    "text = re.sub(r':[^:]*:', r' \\g<0>', text)  # http link -> '*'\n",
    "print(text,\"\\n\")\n",
    "\n",
    "text=text.split()\n",
    "# text= re.sub(r'(:[!_\\-\\w]+:)', '', text)\n",
    "print(text,\"\\n\")\n",
    "# emojis"
   ]
  },
  {
   "cell_type": "markdown",
   "metadata": {},
   "source": [
    "#### 추가 데이터들"
   ]
  },
  {
   "cell_type": "code",
   "execution_count": null,
   "metadata": {},
   "outputs": [],
   "source": [
    "all_ext.loc[(all_ext['id'] == int(529657433866915840))].HashTag.values[0]"
   ]
  },
  {
   "cell_type": "code",
   "execution_count": null,
   "metadata": {},
   "outputs": [],
   "source": [
    "all_ext.loc[(all_ext['pid'] == int(521367917322338304))][['text','token_for_POS','HashTag','Pronoun','FirstPersonPronoun','SecondPersonPronoun','ThirdPersonPronoun','Numeral','Modal','Whs', 'Noun', 'Verb','Adjective','has_question',\t'has_exclaim',\t'has_period']]"
   ]
  },
  {
   "cell_type": "code",
   "execution_count": null,
   "metadata": {},
   "outputs": [],
   "source": [
    "# all_ext.loc[((all_ext['Skepticism'] >-1))].groupby('target').mean()  #[['text','URLcount','token_for_POS','id','pid','HashTag','Pronoun','FirstPersonPronoun','SecondPersonPronoun','ThirdPersonPronoun']]\n",
    "all_ext.loc[((all_ext['Skepticism'] >-1))].groupby('target').mean()  #[['text','URLcount','token_for_POS','id','pid','HashTag','Pronoun','FirstPersonPronoun','SecondPersonPronoun','ThirdPersonPronoun']]"
   ]
  },
  {
   "cell_type": "code",
   "execution_count": null,
   "metadata": {},
   "outputs": [],
   "source": [
    "pd.concat([ext_thread, ext_y], axis=1).groupby('target').mean() "
   ]
  },
  {
   "cell_type": "code",
   "execution_count": null,
   "metadata": {},
   "outputs": [],
   "source": [
    "all_ext[['id','text','token_for_POS','HashTag','URLcount','target','Skepticism']].loc[all_ext.HashTag > 4]\n",
    "# all_ext['HashTag'].value_counts()\n"
   ]
  },
  {
   "cell_type": "code",
   "execution_count": null,
   "metadata": {},
   "outputs": [],
   "source": [
    "# np.max([np.sum(all_ext.loc[(all_ext['id'] == int(childid))]['tweet_created'].values) for childid in structure_ext.loc[0,'0':].dropna()])\n",
    "# np.max([np.sum(all_ext.loc[(all_ext['id'] == childid)]['tweet_created']) for childid in structure_ext.loc[0,'0':'13'].dropna()] - all_ext.loc[(all_ext['id'] == int(521369179392581632))].tweet_created.sum())\n",
    "[np.sum(all_ext.loc[(all_ext['id'] == childid)]['urls_dicts_len']) for childid in structure_ext.loc[11,:].dropna().drop(['depth'],axis=0)]"
   ]
  },
  {
   "cell_type": "markdown",
   "metadata": {},
   "source": [
    "#### Thread()를 만드는데 필요한 정보들\n",
    "\n",
    "---"
   ]
  },
  {
   "cell_type": "code",
   "execution_count": 236,
   "metadata": {},
   "outputs": [
    {
     "data": {
      "text/html": "<div>\n<style scoped>\n    .dataframe tbody tr th:only-of-type {\n        vertical-align: middle;\n    }\n\n    .dataframe tbody tr th {\n        vertical-align: top;\n    }\n\n    .dataframe thead th {\n        text-align: right;\n    }\n</style>\n<table border=\"1\" class=\"dataframe\">\n  <thead>\n    <tr style=\"text-align: right;\">\n      <th></th>\n      <th>id</th>\n      <th>pid</th>\n      <th>emoji_count</th>\n      <th>has_media</th>\n      <th>URLcount</th>\n      <th>Skepticism</th>\n      <th>MentionCount</th>\n      <th>Noun</th>\n      <th>Verb</th>\n      <th>Adjective</th>\n      <th>Pronoun</th>\n      <th>FirstPersonPronoun</th>\n      <th>SecondPersonPronoun</th>\n      <th>ThirdPersonPronoun</th>\n      <th>Adverb</th>\n      <th>Numeral</th>\n      <th>Conjunction_inj</th>\n      <th>Particle</th>\n      <th>Determiner</th>\n      <th>Modal</th>\n      <th>Whs</th>\n      <th>char_count</th>\n      <th>word_count</th>\n      <th>HashTag</th>\n      <th>has_question</th>\n      <th>has_exclaim</th>\n      <th>has_period</th>\n      <th>retweet_count</th>\n      <th>tweet_count</th>\n      <th>listed_count</th>\n      <th>friends_count</th>\n      <th>follow_ratio</th>\n      <th>account_age_days</th>\n      <th>tweet_created</th>\n      <th>capital_ratio</th>\n      <th>verified</th>\n      <th>isSrcTweet</th>\n      <th>target</th>\n    </tr>\n  </thead>\n  <tbody>\n    <tr>\n      <th>count</th>\n      <td>1963.00000</td>\n      <td>1478.00000</td>\n      <td>1963.00000</td>\n      <td>1963.00000</td>\n      <td>1963.00000</td>\n      <td>1963.00000</td>\n      <td>1963.00000</td>\n      <td>1963.00000</td>\n      <td>1963.00000</td>\n      <td>1963.00000</td>\n      <td>1963.00000</td>\n      <td>1963.00000</td>\n      <td>1963.00000</td>\n      <td>1963.00000</td>\n      <td>1963.00000</td>\n      <td>1963.00000</td>\n      <td>1963.00000</td>\n      <td>1963.00000</td>\n      <td>1963.00000</td>\n      <td>1963.00000</td>\n      <td>1963.00000</td>\n      <td>1963.00000</td>\n      <td>1963.00000</td>\n      <td>1963.00000</td>\n      <td>1963.00000</td>\n      <td>1963.00000</td>\n      <td>1963.00000</td>\n      <td>1963.00000</td>\n      <td>1963.00000</td>\n      <td>1963.00000</td>\n      <td>1963.00000</td>\n      <td>1963.00000</td>\n      <td>1963.00000</td>\n      <td>1963.00000</td>\n      <td>1963.00000</td>\n      <td>1963.00000</td>\n      <td>1963.00000</td>\n      <td>1963.00000</td>\n    </tr>\n    <tr>\n      <th>mean</th>\n      <td>548748486071387968.00000</td>\n      <td>547483663616841984.00000</td>\n      <td>0.08304</td>\n      <td>0.11768</td>\n      <td>0.19511</td>\n      <td>3.03311</td>\n      <td>1.26490</td>\n      <td>3.49465</td>\n      <td>2.37341</td>\n      <td>0.89812</td>\n      <td>0.65869</td>\n      <td>0.33724</td>\n      <td>0.11258</td>\n      <td>0.39226</td>\n      <td>0.72033</td>\n      <td>0.12124</td>\n      <td>1.29954</td>\n      <td>0.06928</td>\n      <td>0.78859</td>\n      <td>0.20122</td>\n      <td>0.18136</td>\n      <td>88.74325</td>\n      <td>13.01528</td>\n      <td>0.44320</td>\n      <td>0.18747</td>\n      <td>0.17728</td>\n      <td>0.63169</td>\n      <td>13.43301</td>\n      <td>3.85033</td>\n      <td>1.18417</td>\n      <td>2.67871</td>\n      <td>2.86539</td>\n      <td>1296.51605</td>\n      <td>1419666808.49159</td>\n      <td>0.08952</td>\n      <td>0.06470</td>\n      <td>0.24707</td>\n      <td>0.81915</td>\n    </tr>\n    <tr>\n      <th>std</th>\n      <td>24197288222753516.00000</td>\n      <td>24194908479467996.00000</td>\n      <td>0.52533</td>\n      <td>0.32231</td>\n      <td>0.40779</td>\n      <td>2.08666</td>\n      <td>0.92597</td>\n      <td>2.55108</td>\n      <td>1.83844</td>\n      <td>0.99326</td>\n      <td>0.92956</td>\n      <td>0.72692</td>\n      <td>0.36411</td>\n      <td>0.68698</td>\n      <td>0.98238</td>\n      <td>0.37989</td>\n      <td>1.26827</td>\n      <td>0.26190</td>\n      <td>0.91239</td>\n      <td>0.46241</td>\n      <td>0.44552</td>\n      <td>39.00655</td>\n      <td>6.42202</td>\n      <td>0.98470</td>\n      <td>0.39039</td>\n      <td>0.38200</td>\n      <td>0.48247</td>\n      <td>254.08308</td>\n      <td>0.81881</td>\n      <td>0.92393</td>\n      <td>0.59617</td>\n      <td>0.93745</td>\n      <td>737.28048</td>\n      <td>5769083.07608</td>\n      <td>0.07571</td>\n      <td>0.24605</td>\n      <td>0.43142</td>\n      <td>0.38499</td>\n    </tr>\n    <tr>\n      <th>min</th>\n      <td>521310417696858112.00000</td>\n      <td>521310417696858112.00000</td>\n      <td>0.00000</td>\n      <td>0.00000</td>\n      <td>0.00000</td>\n      <td>0.00000</td>\n      <td>0.00000</td>\n      <td>0.00000</td>\n      <td>0.00000</td>\n      <td>0.00000</td>\n      <td>0.00000</td>\n      <td>0.00000</td>\n      <td>0.00000</td>\n      <td>0.00000</td>\n      <td>0.00000</td>\n      <td>0.00000</td>\n      <td>0.00000</td>\n      <td>0.00000</td>\n      <td>0.00000</td>\n      <td>0.00000</td>\n      <td>0.00000</td>\n      <td>8.00000</td>\n      <td>1.00000</td>\n      <td>0.00000</td>\n      <td>0.00000</td>\n      <td>0.00000</td>\n      <td>0.00000</td>\n      <td>0.00000</td>\n      <td>0.00000</td>\n      <td>0.00000</td>\n      <td>0.00000</td>\n      <td>0.30103</td>\n      <td>3.00000</td>\n      <td>1413125063.00000</td>\n      <td>0.00000</td>\n      <td>0.00000</td>\n      <td>0.00000</td>\n      <td>0.00000</td>\n    </tr>\n    <tr>\n      <th>25%</th>\n      <td>529676680548595712.00000</td>\n      <td>529654768249354240.00000</td>\n      <td>0.00000</td>\n      <td>0.00000</td>\n      <td>0.00000</td>\n      <td>1.00000</td>\n      <td>1.00000</td>\n      <td>1.00000</td>\n      <td>1.00000</td>\n      <td>0.00000</td>\n      <td>0.00000</td>\n      <td>0.00000</td>\n      <td>0.00000</td>\n      <td>0.00000</td>\n      <td>0.00000</td>\n      <td>0.00000</td>\n      <td>0.00000</td>\n      <td>0.00000</td>\n      <td>0.00000</td>\n      <td>0.00000</td>\n      <td>0.00000</td>\n      <td>55.00000</td>\n      <td>8.00000</td>\n      <td>0.00000</td>\n      <td>0.00000</td>\n      <td>0.00000</td>\n      <td>0.00000</td>\n      <td>0.00000</td>\n      <td>3.39872</td>\n      <td>0.47712</td>\n      <td>2.32118</td>\n      <td>2.24674</td>\n      <td>652.00000</td>\n      <td>1415119735.50000</td>\n      <td>0.04167</td>\n      <td>0.00000</td>\n      <td>0.00000</td>\n      <td>1.00000</td>\n    </tr>\n    <tr>\n      <th>50%</th>\n      <td>529753935545118720.00000</td>\n      <td>529735657531656192.00000</td>\n      <td>0.00000</td>\n      <td>0.00000</td>\n      <td>0.00000</td>\n      <td>3.00000</td>\n      <td>1.00000</td>\n      <td>3.00000</td>\n      <td>2.00000</td>\n      <td>1.00000</td>\n      <td>0.00000</td>\n      <td>0.00000</td>\n      <td>0.00000</td>\n      <td>0.00000</td>\n      <td>0.00000</td>\n      <td>0.00000</td>\n      <td>1.00000</td>\n      <td>0.00000</td>\n      <td>1.00000</td>\n      <td>0.00000</td>\n      <td>0.00000</td>\n      <td>90.00000</td>\n      <td>13.00000</td>\n      <td>0.00000</td>\n      <td>0.00000</td>\n      <td>0.00000</td>\n      <td>1.00000</td>\n      <td>0.00000</td>\n      <td>3.94161</td>\n      <td>1.11394</td>\n      <td>2.73957</td>\n      <td>2.82478</td>\n      <td>1313.00000</td>\n      <td>1415138155.00000</td>\n      <td>0.07246</td>\n      <td>0.00000</td>\n      <td>0.00000</td>\n      <td>1.00000</td>\n    </tr>\n    <tr>\n      <th>75%</th>\n      <td>576560832456267776.00000</td>\n      <td>576504635738951680.00000</td>\n      <td>0.00000</td>\n      <td>0.00000</td>\n      <td>0.00000</td>\n      <td>4.00000</td>\n      <td>2.00000</td>\n      <td>5.00000</td>\n      <td>4.00000</td>\n      <td>1.00000</td>\n      <td>1.00000</td>\n      <td>0.00000</td>\n      <td>0.00000</td>\n      <td>1.00000</td>\n      <td>1.00000</td>\n      <td>0.00000</td>\n      <td>2.00000</td>\n      <td>0.00000</td>\n      <td>1.00000</td>\n      <td>0.00000</td>\n      <td>0.00000</td>\n      <td>128.00000</td>\n      <td>18.00000</td>\n      <td>0.00000</td>\n      <td>0.00000</td>\n      <td>0.00000</td>\n      <td>1.00000</td>\n      <td>2.00000</td>\n      <td>4.43603</td>\n      <td>1.78174</td>\n      <td>3.04513</td>\n      <td>3.39436</td>\n      <td>2031.00000</td>\n      <td>1426297788.50000</td>\n      <td>0.11611</td>\n      <td>0.00000</td>\n      <td>0.00000</td>\n      <td>1.00000</td>\n    </tr>\n    <tr>\n      <th>max</th>\n      <td>579479145828257792.00000</td>\n      <td>577453947599777792.00000</td>\n      <td>10.00000</td>\n      <td>1.00000</td>\n      <td>2.00000</td>\n      <td>12.00000</td>\n      <td>7.00000</td>\n      <td>21.00000</td>\n      <td>10.00000</td>\n      <td>6.00000</td>\n      <td>5.00000</td>\n      <td>7.00000</td>\n      <td>3.00000</td>\n      <td>5.00000</td>\n      <td>6.00000</td>\n      <td>3.00000</td>\n      <td>7.00000</td>\n      <td>2.00000</td>\n      <td>5.00000</td>\n      <td>3.00000</td>\n      <td>3.00000</td>\n      <td>148.00000</td>\n      <td>29.00000</td>\n      <td>7.00000</td>\n      <td>1.00000</td>\n      <td>1.00000</td>\n      <td>1.00000</td>\n      <td>10402.00000</td>\n      <td>5.73594</td>\n      <td>4.15927</td>\n      <td>4.83829</td>\n      <td>6.31487</td>\n      <td>3021.00000</td>\n      <td>1426993569.00000</td>\n      <td>0.76471</td>\n      <td>1.00000</td>\n      <td>1.00000</td>\n      <td>1.00000</td>\n    </tr>\n  </tbody>\n</table>\n</div>",
      "text/plain": "                            id                      pid  emoji_count  \\\ncount               1963.00000               1478.00000   1963.00000   \nmean  548748486071387968.00000 547483663616841984.00000      0.08304   \nstd    24197288222753516.00000  24194908479467996.00000      0.52533   \nmin   521310417696858112.00000 521310417696858112.00000      0.00000   \n25%   529676680548595712.00000 529654768249354240.00000      0.00000   \n50%   529753935545118720.00000 529735657531656192.00000      0.00000   \n75%   576560832456267776.00000 576504635738951680.00000      0.00000   \nmax   579479145828257792.00000 577453947599777792.00000     10.00000   \n\n       has_media   URLcount  Skepticism  MentionCount       Noun       Verb  \\\ncount 1963.00000 1963.00000  1963.00000    1963.00000 1963.00000 1963.00000   \nmean     0.11768    0.19511     3.03311       1.26490    3.49465    2.37341   \nstd      0.32231    0.40779     2.08666       0.92597    2.55108    1.83844   \nmin      0.00000    0.00000     0.00000       0.00000    0.00000    0.00000   \n25%      0.00000    0.00000     1.00000       1.00000    1.00000    1.00000   \n50%      0.00000    0.00000     3.00000       1.00000    3.00000    2.00000   \n75%      0.00000    0.00000     4.00000       2.00000    5.00000    4.00000   \nmax      1.00000    2.00000    12.00000       7.00000   21.00000   10.00000   \n\n       Adjective    Pronoun  FirstPersonPronoun  SecondPersonPronoun  \\\ncount 1963.00000 1963.00000          1963.00000           1963.00000   \nmean     0.89812    0.65869             0.33724              0.11258   \nstd      0.99326    0.92956             0.72692              0.36411   \nmin      0.00000    0.00000             0.00000              0.00000   \n25%      0.00000    0.00000             0.00000              0.00000   \n50%      1.00000    0.00000             0.00000              0.00000   \n75%      1.00000    1.00000             0.00000              0.00000   \nmax      6.00000    5.00000             7.00000              3.00000   \n\n       ThirdPersonPronoun     Adverb    Numeral  Conjunction_inj   Particle  \\\ncount          1963.00000 1963.00000 1963.00000       1963.00000 1963.00000   \nmean              0.39226    0.72033    0.12124          1.29954    0.06928   \nstd               0.68698    0.98238    0.37989          1.26827    0.26190   \nmin               0.00000    0.00000    0.00000          0.00000    0.00000   \n25%               0.00000    0.00000    0.00000          0.00000    0.00000   \n50%               0.00000    0.00000    0.00000          1.00000    0.00000   \n75%               1.00000    1.00000    0.00000          2.00000    0.00000   \nmax               5.00000    6.00000    3.00000          7.00000    2.00000   \n\n       Determiner      Modal        Whs  char_count  word_count    HashTag  \\\ncount  1963.00000 1963.00000 1963.00000  1963.00000  1963.00000 1963.00000   \nmean      0.78859    0.20122    0.18136    88.74325    13.01528    0.44320   \nstd       0.91239    0.46241    0.44552    39.00655     6.42202    0.98470   \nmin       0.00000    0.00000    0.00000     8.00000     1.00000    0.00000   \n25%       0.00000    0.00000    0.00000    55.00000     8.00000    0.00000   \n50%       1.00000    0.00000    0.00000    90.00000    13.00000    0.00000   \n75%       1.00000    0.00000    0.00000   128.00000    18.00000    0.00000   \nmax       5.00000    3.00000    3.00000   148.00000    29.00000    7.00000   \n\n       has_question  has_exclaim  has_period  retweet_count  tweet_count  \\\ncount    1963.00000   1963.00000  1963.00000     1963.00000   1963.00000   \nmean        0.18747      0.17728     0.63169       13.43301      3.85033   \nstd         0.39039      0.38200     0.48247      254.08308      0.81881   \nmin         0.00000      0.00000     0.00000        0.00000      0.00000   \n25%         0.00000      0.00000     0.00000        0.00000      3.39872   \n50%         0.00000      0.00000     1.00000        0.00000      3.94161   \n75%         0.00000      0.00000     1.00000        2.00000      4.43603   \nmax         1.00000      1.00000     1.00000    10402.00000      5.73594   \n\n       listed_count  friends_count  follow_ratio  account_age_days  \\\ncount    1963.00000     1963.00000    1963.00000        1963.00000   \nmean        1.18417        2.67871       2.86539        1296.51605   \nstd         0.92393        0.59617       0.93745         737.28048   \nmin         0.00000        0.00000       0.30103           3.00000   \n25%         0.47712        2.32118       2.24674         652.00000   \n50%         1.11394        2.73957       2.82478        1313.00000   \n75%         1.78174        3.04513       3.39436        2031.00000   \nmax         4.15927        4.83829       6.31487        3021.00000   \n\n         tweet_created  capital_ratio   verified  isSrcTweet     target  \ncount       1963.00000     1963.00000 1963.00000  1963.00000 1963.00000  \nmean  1419666808.49159        0.08952    0.06470     0.24707    0.81915  \nstd      5769083.07608        0.07571    0.24605     0.43142    0.38499  \nmin   1413125063.00000        0.00000    0.00000     0.00000    0.00000  \n25%   1415119735.50000        0.04167    0.00000     0.00000    1.00000  \n50%   1415138155.00000        0.07246    0.00000     0.00000    1.00000  \n75%   1426297788.50000        0.11611    0.00000     0.00000    1.00000  \nmax   1426993569.00000        0.76471    1.00000     1.00000    1.00000  "
     },
     "execution_count": 236,
     "metadata": {},
     "output_type": "execute_result"
    }
   ],
   "source": [
    "all_ext.describe()"
   ]
  },
  {
   "cell_type": "code",
   "execution_count": 237,
   "metadata": {},
   "outputs": [
    {
     "data": {
      "text/plain": "target\n1    71\n0    26\ndtype: int64"
     },
     "execution_count": 237,
     "metadata": {},
     "output_type": "execute_result"
    }
   ],
   "source": [
    "all_ext.loc[all_ext['account_age_days']<100][['account_age_days','verified', 'HashTag', 'URLcount',\n",
    "                                           'MentionCount', 'retweet_count', 'isSrcTweet', 'target']].value_counts('target')\n"
   ]
  },
  {
   "cell_type": "code",
   "execution_count": null,
   "metadata": {},
   "outputs": [
    {
     "ename": "SyntaxError",
     "evalue": "unexpected EOF while parsing (<ipython-input-240-4b19871eb0f9>, line 1)",
     "output_type": "error",
     "traceback": [
      "\u001b[0;36m  File \u001b[0;32m\"<ipython-input-240-4b19871eb0f9>\"\u001b[0;36m, line \u001b[0;32m1\u001b[0m\n\u001b[0;31m    all_ext.loc[all_ext['depth']<5][['account_age_days','verified', 'HashTag', 'URLcount',\u001b[0m\n\u001b[0m                                                                                          ^\u001b[0m\n\u001b[0;31mSyntaxError\u001b[0m\u001b[0;31m:\u001b[0m unexpected EOF while parsing\n"
     ]
    }
   ],
   "source": [
    "all_ext.loc[all_ext['depth']<10][['account_age_days','verified', 'HashTag', 'URLcount',\n"
   ]
  },
  {
   "cell_type": "code",
   "execution_count": 367,
   "metadata": {},
   "outputs": [
    {
     "data": {
      "text/html": "<div>\n<style scoped>\n    .dataframe tbody tr th:only-of-type {\n        vertical-align: middle;\n    }\n\n    .dataframe tbody tr th {\n        vertical-align: top;\n    }\n\n    .dataframe thead th {\n        text-align: right;\n    }\n</style>\n<table border=\"1\" class=\"dataframe\">\n  <thead>\n    <tr style=\"text-align: right;\">\n      <th></th>\n      <th>verified</th>\n      <th>HashTag</th>\n      <th>URLcount</th>\n      <th>MentionCount</th>\n      <th>retweet_count</th>\n      <th>isSrcTweet</th>\n      <th>target</th>\n    </tr>\n  </thead>\n  <tbody>\n    <tr>\n      <th>320</th>\n      <td>0</td>\n      <td>1</td>\n      <td>0</td>\n      <td>2</td>\n      <td>1</td>\n      <td>0</td>\n      <td>1</td>\n    </tr>\n    <tr>\n      <th>272</th>\n      <td>0</td>\n      <td>0</td>\n      <td>0</td>\n      <td>0</td>\n      <td>2</td>\n      <td>1</td>\n      <td>1</td>\n    </tr>\n    <tr>\n      <th>442</th>\n      <td>1</td>\n      <td>1</td>\n      <td>1</td>\n      <td>0</td>\n      <td>2</td>\n      <td>1</td>\n      <td>1</td>\n    </tr>\n    <tr>\n      <th>1860</th>\n      <td>0</td>\n      <td>0</td>\n      <td>0</td>\n      <td>1</td>\n      <td>1</td>\n      <td>0</td>\n      <td>0</td>\n    </tr>\n    <tr>\n      <th>1657</th>\n      <td>0</td>\n      <td>0</td>\n      <td>0</td>\n      <td>1</td>\n      <td>8</td>\n      <td>0</td>\n      <td>0</td>\n    </tr>\n    <tr>\n      <th>1177</th>\n      <td>0</td>\n      <td>1</td>\n      <td>1</td>\n      <td>1</td>\n      <td>5</td>\n      <td>1</td>\n      <td>1</td>\n    </tr>\n    <tr>\n      <th>915</th>\n      <td>0</td>\n      <td>0</td>\n      <td>0</td>\n      <td>1</td>\n      <td>1</td>\n      <td>0</td>\n      <td>1</td>\n    </tr>\n    <tr>\n      <th>1873</th>\n      <td>0</td>\n      <td>2</td>\n      <td>0</td>\n      <td>1</td>\n      <td>1</td>\n      <td>0</td>\n      <td>0</td>\n    </tr>\n    <tr>\n      <th>1712</th>\n      <td>0</td>\n      <td>5</td>\n      <td>1</td>\n      <td>0</td>\n      <td>15</td>\n      <td>1</td>\n      <td>0</td>\n    </tr>\n    <tr>\n      <th>603</th>\n      <td>0</td>\n      <td>0</td>\n      <td>2</td>\n      <td>0</td>\n      <td>3</td>\n      <td>1</td>\n      <td>1</td>\n    </tr>\n    <tr>\n      <th>1779</th>\n      <td>0</td>\n      <td>1</td>\n      <td>2</td>\n      <td>0</td>\n      <td>4</td>\n      <td>1</td>\n      <td>0</td>\n    </tr>\n    <tr>\n      <th>1528</th>\n      <td>0</td>\n      <td>0</td>\n      <td>1</td>\n      <td>0</td>\n      <td>11</td>\n      <td>1</td>\n      <td>1</td>\n    </tr>\n    <tr>\n      <th>574</th>\n      <td>0</td>\n      <td>1</td>\n      <td>1</td>\n      <td>2</td>\n      <td>2</td>\n      <td>1</td>\n      <td>1</td>\n    </tr>\n    <tr>\n      <th>280</th>\n      <td>0</td>\n      <td>2</td>\n      <td>0</td>\n      <td>0</td>\n      <td>10</td>\n      <td>1</td>\n      <td>1</td>\n    </tr>\n    <tr>\n      <th>198</th>\n      <td>0</td>\n      <td>0</td>\n      <td>0</td>\n      <td>1</td>\n      <td>13</td>\n      <td>0</td>\n      <td>1</td>\n    </tr>\n    <tr>\n      <th>659</th>\n      <td>1</td>\n      <td>0</td>\n      <td>0</td>\n      <td>0</td>\n      <td>22</td>\n      <td>1</td>\n      <td>1</td>\n    </tr>\n    <tr>\n      <th>666</th>\n      <td>0</td>\n      <td>3</td>\n      <td>1</td>\n      <td>2</td>\n      <td>1</td>\n      <td>0</td>\n      <td>1</td>\n    </tr>\n    <tr>\n      <th>562</th>\n      <td>0</td>\n      <td>0</td>\n      <td>0</td>\n      <td>0</td>\n      <td>2</td>\n      <td>1</td>\n      <td>1</td>\n    </tr>\n  </tbody>\n</table>\n</div>",
      "text/plain": "      verified  HashTag  URLcount  MentionCount  retweet_count  isSrcTweet  \\\n320          0        1         0             2              1           0   \n272          0        0         0             0              2           1   \n442          1        1         1             0              2           1   \n1860         0        0         0             1              1           0   \n1657         0        0         0             1              8           0   \n1177         0        1         1             1              5           1   \n915          0        0         0             1              1           0   \n1873         0        2         0             1              1           0   \n1712         0        5         1             0             15           1   \n603          0        0         2             0              3           1   \n1779         0        1         2             0              4           1   \n1528         0        0         1             0             11           1   \n574          0        1         1             2              2           1   \n280          0        2         0             0             10           1   \n198          0        0         0             1             13           0   \n659          1        0         0             0             22           1   \n666          0        3         1             2              1           0   \n562          0        0         0             0              2           1   \n\n      target  \n320        1  \n272        1  \n442        1  \n1860       0  \n1657       0  \n1177       1  \n915        1  \n1873       0  \n1712       0  \n603        1  \n1779       0  \n1528       1  \n574        1  \n280        1  \n198        1  \n659        1  \n666        1  \n562        1  "
     },
     "execution_count": 367,
     "metadata": {},
     "output_type": "execute_result"
    }
   ],
   "source": [
    "all_ext.loc[(all_ext['retweet_count'] > 0) and (all_ext.pid==521369179392581632)][['verified', 'HashTag', 'URLcount',\n",
    "                                           'MentionCount', 'retweet_count', 'isSrcTweet', 'target']].sample(18)\n"
   ]
  },
  {
   "cell_type": "code",
   "execution_count": 363,
   "metadata": {},
   "outputs": [
    {
     "data": {
      "text/html": "<div>\n<style scoped>\n    .dataframe tbody tr th:only-of-type {\n        vertical-align: middle;\n    }\n\n    .dataframe tbody tr th {\n        vertical-align: top;\n    }\n\n    .dataframe thead th {\n        text-align: right;\n    }\n</style>\n<table border=\"1\" class=\"dataframe\">\n  <thead>\n    <tr style=\"text-align: right;\">\n      <th></th>\n      <th>verified</th>\n      <th>HashTag</th>\n      <th>URLcount</th>\n      <th>MentionCount</th>\n      <th>retweet_count</th>\n    </tr>\n    <tr>\n      <th>target</th>\n      <th></th>\n      <th></th>\n      <th></th>\n      <th></th>\n      <th></th>\n    </tr>\n  </thead>\n  <tbody>\n    <tr>\n      <th>0</th>\n      <td>0.03356</td>\n      <td>1.77852</td>\n      <td>0.65772</td>\n      <td>0.44966</td>\n      <td>12.28859</td>\n    </tr>\n    <tr>\n      <th>1</th>\n      <td>0.19880</td>\n      <td>0.73695</td>\n      <td>0.73695</td>\n      <td>0.68273</td>\n      <td>49.27309</td>\n    </tr>\n  </tbody>\n</table>\n</div>",
      "text/plain": "        verified  HashTag  URLcount  MentionCount  retweet_count\ntarget                                                          \n0        0.03356  1.77852   0.65772       0.44966       12.28859\n1        0.19880  0.73695   0.73695       0.68273       49.27309"
     },
     "execution_count": 363,
     "metadata": {},
     "output_type": "execute_result"
    }
   ],
   "source": [
    "all_ext.loc[all_ext['retweet_count']>0][['text', 'verified', 'HashTag', 'URLcount', 'MentionCount','retweet_count','target']].groupby('target').mean()"
   ]
  },
  {
   "cell_type": "code",
   "execution_count": 15,
   "metadata": {},
   "outputs": [
    {
     "data": {
      "text/plain": "0    521410632953131008.00000\n1    521373142347153408.00000\n2    521369380249432064.00000\n3    521370496928337920.00000\n4    521370224256614400.00000\n5    521370771793670144.00000\n6    521378607231279104.00000\n7    521370530134626304.00000\n8    521373433654157312.00000\n9    521369485144387584.00000\n10   521370061550809088.00000\n11   521369671975858176.00000\n12   521372372927266816.00000\n13   521373960509079552.00000\nName: 0, dtype: float64"
     },
     "execution_count": 15,
     "metadata": {},
     "output_type": "execute_result"
    }
   ],
   "source": [
    "structure_ext.loc[0,'0':].dropna()"
   ]
  },
  {
   "cell_type": "code",
   "execution_count": 29,
   "metadata": {},
   "outputs": [
    {
     "data": {
      "text/plain": "15"
     },
     "execution_count": 29,
     "metadata": {},
     "output_type": "execute_result"
    }
   ],
   "source": [
    "# friends_count = [np.sum(all_ext.loc[(all_ext['id'] == int(childid))]['friends_count'].values) for childid in structure_ext.loc[0,'0':].dropna()]\n",
    "len([childid for childid in structure_ext.loc[0,:].dropna()]) \n",
    "\n",
    "# # '''print where 'Sum Friends Count' is 0'''\n",
    "# ext_thread.loc[ext_thread['Sum Friends Count'] == 0]"
   ]
  },
  {
   "cell_type": "code",
   "execution_count": 28,
   "metadata": {},
   "outputs": [
    {
     "data": {
      "text/plain": "Root   521369179392581632.00000\n0      521410632953131008.00000\n1      521373142347153408.00000\n2      521369380249432064.00000\n3      521370496928337920.00000\n4      521370224256614400.00000\n5      521370771793670144.00000\n6      521378607231279104.00000\n7      521370530134626304.00000\n8      521373433654157312.00000\n9      521369485144387584.00000\n10     521370061550809088.00000\n11     521369671975858176.00000\n12     521372372927266816.00000\n13     521373960509079552.00000\nName: 0, dtype: float64"
     },
     "execution_count": 28,
     "metadata": {},
     "output_type": "execute_result"
    }
   ],
   "source": [
    "structure_ext.loc[0].dropna()"
   ]
  },
  {
   "cell_type": "code",
   "execution_count": 262,
   "metadata": {},
   "outputs": [
    {
     "name": "stdout",
     "output_type": "stream",
     "text": [
      "depth : 0.09651135294025893\n",
      "SUM FriendsCount : 0.11708794533602392\n",
      "AVG FriendsCount : 0.06858376543611712\n",
      "AVG WordCount : 0.08943391962695811\n",
      "AVG CharCount : 0.05225660220179892\n",
      "AVG HashTag : -0.2712498153933583\n",
      "SUM HashTag : -0.2020213812062223\n",
      "Ratio HashTag : -0.240456334984137\n",
      "AVG Url : 0.14876200291574\n",
      "STD Url : 0.12458058557305425\n",
      "RATIO Url : 0.1453347220107918\n",
      "SUM Mention : 0.12588775058523002\n",
      "AVG Mention : 0.17327324771229943\n",
      "Ratio Mention : 0.18082808972064832\n",
      "Tweets Count : 0.11451521885513202\n",
      "Ratio Verified : 0.17773330379532\n",
      "SUM Verified : 0.20925620944171405\n",
      "SUM RT : 0.04211967680606234\n",
      "AVG RT : 0.008996997540094446\n",
      "STD RT : 0.04153692828246094\n",
      "AVG AccAge : 0.07005471617303197\n",
      "STD AccAge : 0.04071581547793717\n",
      "thread_time : 0.5331074867901635\n",
      "STD Emoji : 0.10345835221768021\n",
      "AVG Emoji : 0.034777051500645445\n",
      "Ratio Media : -0.23048349004434254\n",
      "RATIO Question : 0.07184087232996553\n",
      "RATIO Exclaim : -0.013189960608181589\n",
      "RATIO Period : -0.028188725777964507\n",
      "AVG FPP : -0.0063552516058029895\n",
      "STD FPP : 0.09478814765368376\n",
      "AVG SPP : -0.028301014299289187\n",
      "STD SPP : 0.008505390026803394\n",
      "AVG TPP : -0.0633077622426266\n",
      "STD TPP : 0.039503662633227604\n",
      "AVG Skepticism : -0.008395034821742257\n"
     ]
    }
   ],
   "source": []
  },
  {
   "cell_type": "code",
   "execution_count": 508,
   "metadata": {},
   "outputs": [],
   "source": [
    "# (all_ext.loc[(all_ext['pid'] == 521369179392581632)])"
   ]
  },
  {
   "cell_type": "markdown",
   "metadata": {},
   "source": [
    "# Checking the result"
   ]
  },
  {
   "cell_type": "markdown",
   "metadata": {},
   "source": [
    "### Data Manipulation"
   ]
  },
  {
   "cell_type": "code",
   "execution_count": null,
   "metadata": {},
   "outputs": [
    {
     "data": {
      "application/x.notebook.stream": "(125208, 42)\n(5802, 347)\n"
     },
     "output_type": "unknown"
    }
   ],
   "source": [
    "all_pheme = pd.read_csv(\"./data/all/_PHEMEall.csv\")\n",
    "structure_pheme = pd.read_csv(\"./data/all/_PHEME_structure.csv\")\n",
    "print(all_pheme.shape)\n",
    "print(structure_pheme.shape)"
   ]
  },
  {
   "cell_type": "code",
   "execution_count": 148,
   "metadata": {},
   "outputs": [
    {
     "data": {
      "text/plain": "0"
     },
     "execution_count": 148,
     "metadata": {},
     "output_type": "execute_result"
    }
   ],
   "source": [
    "np.isinf(pheme_thread).values.sum() "
   ]
  },
  {
   "cell_type": "code",
   "execution_count": 142,
   "metadata": {},
   "outputs": [
    {
     "data": {
      "text/html": "<div>\n<style scoped>\n    .dataframe tbody tr th:only-of-type {\n        vertical-align: middle;\n    }\n\n    .dataframe tbody tr th {\n        vertical-align: top;\n    }\n\n    .dataframe thead th {\n        text-align: right;\n    }\n</style>\n<table border=\"1\" class=\"dataframe\">\n  <thead>\n    <tr style=\"text-align: right;\">\n      <th></th>\n      <th>0</th>\n    </tr>\n  </thead>\n  <tbody>\n    <tr>\n      <th>depth</th>\n      <td>0</td>\n    </tr>\n    <tr>\n      <th>SUM FriendsCount</th>\n      <td>1</td>\n    </tr>\n    <tr>\n      <th>AVG FriendsCount</th>\n      <td>1</td>\n    </tr>\n    <tr>\n      <th>AVG WordCount</th>\n      <td>0</td>\n    </tr>\n    <tr>\n      <th>AVG CharCount</th>\n      <td>0</td>\n    </tr>\n    <tr>\n      <th>AVG HashTag</th>\n      <td>587</td>\n    </tr>\n    <tr>\n      <th>SUM HashTag</th>\n      <td>587</td>\n    </tr>\n    <tr>\n      <th>Ratio HashTag</th>\n      <td>587</td>\n    </tr>\n    <tr>\n      <th>AVG Url</th>\n      <td>2146</td>\n    </tr>\n    <tr>\n      <th>STD Url</th>\n      <td>2308</td>\n    </tr>\n    <tr>\n      <th>RATIO Url</th>\n      <td>2146</td>\n    </tr>\n    <tr>\n      <th>SUM Mention</th>\n      <td>296</td>\n    </tr>\n    <tr>\n      <th>AVG Mention</th>\n      <td>296</td>\n    </tr>\n    <tr>\n      <th>Ratio Mention</th>\n      <td>296</td>\n    </tr>\n    <tr>\n      <th>Tweets Count</th>\n      <td>0</td>\n    </tr>\n    <tr>\n      <th>Ratio Verified</th>\n      <td>2425</td>\n    </tr>\n    <tr>\n      <th>SUM Verified</th>\n      <td>2425</td>\n    </tr>\n    <tr>\n      <th>SUM RT</th>\n      <td>0</td>\n    </tr>\n    <tr>\n      <th>AVG RT</th>\n      <td>0</td>\n    </tr>\n    <tr>\n      <th>STD RT</th>\n      <td>355</td>\n    </tr>\n    <tr>\n      <th>AVG AccAge</th>\n      <td>1</td>\n    </tr>\n    <tr>\n      <th>STD AccAge</th>\n      <td>357</td>\n    </tr>\n    <tr>\n      <th>thread_time</th>\n      <td>1127</td>\n    </tr>\n    <tr>\n      <th>STD Emoji</th>\n      <td>4450</td>\n    </tr>\n    <tr>\n      <th>AVG Emoji</th>\n      <td>4444</td>\n    </tr>\n    <tr>\n      <th>Ratio Media</th>\n      <td>2457</td>\n    </tr>\n    <tr>\n      <th>RATIO Question</th>\n      <td>1824</td>\n    </tr>\n    <tr>\n      <th>RATIO Exclaim</th>\n      <td>1780</td>\n    </tr>\n    <tr>\n      <th>RATIO Period</th>\n      <td>79</td>\n    </tr>\n    <tr>\n      <th>AVG FPP</th>\n      <td>1275</td>\n    </tr>\n    <tr>\n      <th>STD FPP</th>\n      <td>1345</td>\n    </tr>\n    <tr>\n      <th>AVG SPP</th>\n      <td>2035</td>\n    </tr>\n    <tr>\n      <th>STD SPP</th>\n      <td>2066</td>\n    </tr>\n    <tr>\n      <th>AVG TPP</th>\n      <td>1064</td>\n    </tr>\n    <tr>\n      <th>STD TPP</th>\n      <td>1135</td>\n    </tr>\n    <tr>\n      <th>AVG Skepticism</th>\n      <td>9</td>\n    </tr>\n  </tbody>\n</table>\n</div>",
      "text/plain": "                     0\ndepth                0\nSUM FriendsCount     1\nAVG FriendsCount     1\nAVG WordCount        0\nAVG CharCount        0\nAVG HashTag        587\nSUM HashTag        587\nRatio HashTag      587\nAVG Url           2146\nSTD Url           2308\nRATIO Url         2146\nSUM Mention        296\nAVG Mention        296\nRatio Mention      296\nTweets Count         0\nRatio Verified    2425\nSUM Verified      2425\nSUM RT               0\nAVG RT               0\nSTD RT             355\nAVG AccAge           1\nSTD AccAge         357\nthread_time       1127\nSTD Emoji         4450\nAVG Emoji         4444\nRatio Media       2457\nRATIO Question    1824\nRATIO Exclaim     1780\nRATIO Period        79\nAVG FPP           1275\nSTD FPP           1345\nAVG SPP           2035\nSTD SPP           2066\nAVG TPP           1064\nSTD TPP           1135\nAVG Skepticism       9"
     },
     "execution_count": 142,
     "metadata": {},
     "output_type": "execute_result"
    }
   ],
   "source": [
    "pd.DataFrame(np.isinf(np.log10(pheme_thread)).sum())"
   ]
  },
  {
   "cell_type": "code",
   "execution_count": 294,
   "metadata": {},
   "outputs": [],
   "source": [
    "pheme_thread_log_1 = np.log10(pheme_thread[['depth','Tweets Count','AVG CharCount', 'SUM RT', 'AVG RT', 'AVG AccAge','thread_time','AVG Skepticism']])\n",
    "ext_thread_log_1 = np.log10(ext_thread[['depth','Tweets Count','AVG CharCount', 'SUM RT', 'AVG RT', 'AVG AccAge','thread_time','AVG Skepticism']])\n",
    "pheme_thread_log_1 = pheme_thread_log_1.replace(-np.inf, 0)\n",
    "ext_thread_log_1 = ext_thread_log_1.replace(-np.inf, 0)\n",
    "\n",
    "pheme_thread_log_2 = np.log10(pheme_thread)\n",
    "ext_thread_log_2 = np.log10(ext_thread)\n",
    "pheme_thread_log_2 = pheme_thread_log_2.replace(-np.inf, 0)\n",
    "ext_thread_log_2 = ext_thread_log_2.replace(-np.inf, 0)\n",
    "\n",
    "pheme_thread_log_3 = np.log10(pheme_thread[['depth','Tweets Count','AVG CharCount', 'SUM RT', 'AVG RT', 'AVG AccAge','thread_time','AVG Skepticism']])\n",
    "ext_thread_log_3 = np.log10(ext_thread[['depth','Tweets Count','AVG CharCount', 'SUM RT', 'AVG RT', 'AVG AccAge','thread_time','AVG Skepticism']])\n",
    "pheme_temp = pheme_thread.drop(['depth','Tweets Count','AVG CharCount', 'SUM RT', 'AVG RT', 'AVG AccAge','thread_time','AVG Skepticism'],axis=1)\n",
    "ext_temp = ext_thread.drop(['depth','Tweets Count','AVG CharCount', 'SUM RT', 'AVG RT', 'AVG AccAge','thread_time','AVG Skepticism'],axis=1)\n",
    "pheme_thread_log_3 = pd.concat([pheme_thread_log_3, pheme_temp], axis=1)\n",
    "ext_thread_log_3 = pd.concat([ext_thread_log_3, ext_temp], axis=1)\n",
    "pheme_thread_log_3 = pheme_thread_log_3.replace(-np.inf, 0)\n",
    "ext_thread_log_3 = ext_thread_log_3.replace(-np.inf, 0)\n",
    "\n",
    "pheme_thread_log_4 = np.log10(pheme_thread+1)\n",
    "ext_thread_log_4 = np.log10(ext_thread+1)\n",
    "pheme_thread_log_4 = pheme_thread_log_2.replace(-np.inf, 0)\n",
    "ext_thread_log_4 = ext_thread_log_2.replace(-np.inf, 0)\n",
    "\n",
    "pheme_thread_log_5 = np.log10(pheme_thread-pheme_thread.min()+1)\n",
    "ext_thread_log_5 = np.log10(ext_thread-ext_thread.min()+1)\n",
    "pheme_thread_log_5 = pheme_thread_log_5.replace(-np.inf, 0)\n",
    "ext_thread_log_5 = ext_thread_log_5.replace(-np.inf, 0)\n",
    "\n",
    "# pheme_structure.to_csv('./data/all/_PHEME_structure.csv', index = False)\n",
    "\n",
    "# pheme_thread_log_5.to_csv('./data/_PHEME_thread_log.csv', index = False)\n",
    "# ext_thread_log_5.to_csv('./data/_PHEMEext_thread_log.csv', index = False)\n",
    "\n",
    "# np.isinf(pheme_thread_log).sum()\n",
    "# ext_thread_log = np.log10(ext_thread)\n",
    "# np.isinf(ext_thread_log).sum()"
   ]
  },
  {
   "cell_type": "code",
   "execution_count": 247,
   "metadata": {},
   "outputs": [
    {
     "data": {
      "text/html": "<div>\n<style scoped>\n    .dataframe tbody tr th:only-of-type {\n        vertical-align: middle;\n    }\n\n    .dataframe tbody tr th {\n        vertical-align: top;\n    }\n\n    .dataframe thead th {\n        text-align: right;\n    }\n</style>\n<table border=\"1\" class=\"dataframe\">\n  <thead>\n    <tr style=\"text-align: right;\">\n      <th></th>\n      <th>depth</th>\n      <th>SUM FriendsCount</th>\n      <th>AVG FriendsCount</th>\n      <th>AVG WordCount</th>\n      <th>AVG CharCount</th>\n      <th>AVG HashTag</th>\n      <th>SUM HashTag</th>\n      <th>Ratio HashTag</th>\n      <th>AVG Url</th>\n      <th>STD Url</th>\n      <th>RATIO Url</th>\n      <th>SUM Mention</th>\n      <th>AVG Mention</th>\n      <th>Ratio Mention</th>\n      <th>Tweets Count</th>\n      <th>Ratio Verified</th>\n      <th>SUM Verified</th>\n      <th>SUM RT</th>\n      <th>AVG RT</th>\n      <th>STD RT</th>\n      <th>AVG AccAge</th>\n      <th>STD AccAge</th>\n      <th>thread_time</th>\n      <th>STD Emoji</th>\n      <th>AVG Emoji</th>\n      <th>Ratio Media</th>\n      <th>RATIO Question</th>\n      <th>RATIO Exclaim</th>\n      <th>RATIO Period</th>\n      <th>AVG FPP</th>\n      <th>STD FPP</th>\n      <th>AVG SPP</th>\n      <th>STD SPP</th>\n      <th>AVG TPP</th>\n      <th>STD TPP</th>\n      <th>AVG Skepticism</th>\n    </tr>\n  </thead>\n  <tbody>\n    <tr>\n      <th>0</th>\n      <td>0.47712</td>\n      <td>1.76819</td>\n      <td>0.60570</td>\n      <td>1.29412</td>\n      <td>2.07169</td>\n      <td>0.00000</td>\n      <td>0.00000</td>\n      <td>0.00000</td>\n      <td>0.10146</td>\n      <td>0.15847</td>\n      <td>0.10146</td>\n      <td>1.51851</td>\n      <td>0.42882</td>\n      <td>0.28945</td>\n      <td>1.30103</td>\n      <td>0.02228</td>\n      <td>0.30103</td>\n      <td>2.25527</td>\n      <td>1.01791</td>\n      <td>1.60747</td>\n      <td>2.85809</td>\n      <td>2.98062</td>\n      <td>3.65648</td>\n      <td>0.00000</td>\n      <td>0.00000</td>\n      <td>0.00000</td>\n      <td>0.06367</td>\n      <td>0.00000</td>\n      <td>0.15261</td>\n      <td>0.02228</td>\n      <td>0.08753</td>\n      <td>0.23976</td>\n      <td>0.34382</td>\n      <td>0.26531</td>\n      <td>0.33877</td>\n      <td>0.84510</td>\n    </tr>\n    <tr>\n      <th>1</th>\n      <td>0.69897</td>\n      <td>1.40640</td>\n      <td>0.60868</td>\n      <td>1.13434</td>\n      <td>1.97197</td>\n      <td>0.09691</td>\n      <td>0.47712</td>\n      <td>0.09691</td>\n      <td>0.05115</td>\n      <td>0.12409</td>\n      <td>0.05115</td>\n      <td>1.17609</td>\n      <td>0.43933</td>\n      <td>0.27300</td>\n      <td>0.95424</td>\n      <td>0.00000</td>\n      <td>0.00000</td>\n      <td>2.13672</td>\n      <td>1.25527</td>\n      <td>1.65537</td>\n      <td>3.09065</td>\n      <td>2.59017</td>\n      <td>4.38511</td>\n      <td>0.00000</td>\n      <td>0.00000</td>\n      <td>0.00000</td>\n      <td>0.00000</td>\n      <td>0.05115</td>\n      <td>0.30103</td>\n      <td>0.13830</td>\n      <td>0.22942</td>\n      <td>0.00000</td>\n      <td>0.00000</td>\n      <td>0.13830</td>\n      <td>0.22942</td>\n      <td>0.57403</td>\n    </tr>\n    <tr>\n      <th>2</th>\n      <td>0.47712</td>\n      <td>1.31516</td>\n      <td>0.58078</td>\n      <td>1.20412</td>\n      <td>2.02413</td>\n      <td>0.19629</td>\n      <td>0.69897</td>\n      <td>0.10914</td>\n      <td>0.00000</td>\n      <td>0.00000</td>\n      <td>0.00000</td>\n      <td>1.04139</td>\n      <td>0.38535</td>\n      <td>0.26885</td>\n      <td>0.90309</td>\n      <td>0.00000</td>\n      <td>0.00000</td>\n      <td>2.17609</td>\n      <td>1.34803</td>\n      <td>1.72207</td>\n      <td>3.10072</td>\n      <td>2.81611</td>\n      <td>4.21426</td>\n      <td>0.00000</td>\n      <td>0.00000</td>\n      <td>0.05799</td>\n      <td>0.00000</td>\n      <td>0.05799</td>\n      <td>0.26885</td>\n      <td>0.00000</td>\n      <td>0.00000</td>\n      <td>0.00000</td>\n      <td>0.00000</td>\n      <td>0.10914</td>\n      <td>0.16189</td>\n      <td>0.67342</td>\n    </tr>\n    <tr>\n      <th>3</th>\n      <td>0.60206</td>\n      <td>1.45086</td>\n      <td>0.57100</td>\n      <td>1.22789</td>\n      <td>2.01828</td>\n      <td>0.20412</td>\n      <td>0.84510</td>\n      <td>0.17609</td>\n      <td>0.17609</td>\n      <td>0.22293</td>\n      <td>0.14613</td>\n      <td>1.11394</td>\n      <td>0.34242</td>\n      <td>0.27875</td>\n      <td>1.04139</td>\n      <td>0.04139</td>\n      <td>0.30103</td>\n      <td>2.83632</td>\n      <td>1.84198</td>\n      <td>2.31422</td>\n      <td>3.17560</td>\n      <td>2.83818</td>\n      <td>5.04397</td>\n      <td>0.11394</td>\n      <td>0.04139</td>\n      <td>0.00000</td>\n      <td>0.11394</td>\n      <td>0.04139</td>\n      <td>0.23045</td>\n      <td>0.07918</td>\n      <td>0.14613</td>\n      <td>0.14613</td>\n      <td>0.22098</td>\n      <td>0.11394</td>\n      <td>0.21493</td>\n      <td>0.77815</td>\n    </tr>\n    <tr>\n      <th>4</th>\n      <td>0.47712</td>\n      <td>1.15786</td>\n      <td>0.56546</td>\n      <td>1.20412</td>\n      <td>2.06744</td>\n      <td>0.20412</td>\n      <td>0.60206</td>\n      <td>0.14613</td>\n      <td>0.20412</td>\n      <td>0.17316</td>\n      <td>0.20412</td>\n      <td>0.77815</td>\n      <td>0.30103</td>\n      <td>0.25527</td>\n      <td>0.77815</td>\n      <td>0.07918</td>\n      <td>0.30103</td>\n      <td>2.06446</td>\n      <td>1.38021</td>\n      <td>1.66278</td>\n      <td>3.07320</td>\n      <td>2.66802</td>\n      <td>3.12418</td>\n      <td>0.00000</td>\n      <td>0.00000</td>\n      <td>0.07918</td>\n      <td>0.07918</td>\n      <td>0.07918</td>\n      <td>0.30103</td>\n      <td>0.00000</td>\n      <td>0.00000</td>\n      <td>0.00000</td>\n      <td>0.00000</td>\n      <td>0.14613</td>\n      <td>0.17316</td>\n      <td>0.62325</td>\n    </tr>\n    <tr>\n      <th>...</th>\n      <td>...</td>\n      <td>...</td>\n      <td>...</td>\n      <td>...</td>\n      <td>...</td>\n      <td>...</td>\n      <td>...</td>\n      <td>...</td>\n      <td>...</td>\n      <td>...</td>\n      <td>...</td>\n      <td>...</td>\n      <td>...</td>\n      <td>...</td>\n      <td>...</td>\n      <td>...</td>\n      <td>...</td>\n      <td>...</td>\n      <td>...</td>\n      <td>...</td>\n      <td>...</td>\n      <td>...</td>\n      <td>...</td>\n      <td>...</td>\n      <td>...</td>\n      <td>...</td>\n      <td>...</td>\n      <td>...</td>\n      <td>...</td>\n      <td>...</td>\n      <td>...</td>\n      <td>...</td>\n      <td>...</td>\n      <td>...</td>\n      <td>...</td>\n      <td>...</td>\n    </tr>\n    <tr>\n      <th>5797</th>\n      <td>1.32222</td>\n      <td>2.35160</td>\n      <td>0.55282</td>\n      <td>1.19210</td>\n      <td>2.02648</td>\n      <td>0.04725</td>\n      <td>1.04139</td>\n      <td>0.04275</td>\n      <td>0.07751</td>\n      <td>0.14504</td>\n      <td>0.07751</td>\n      <td>2.34830</td>\n      <td>0.55044</td>\n      <td>0.29853</td>\n      <td>1.94448</td>\n      <td>0.00496</td>\n      <td>0.30103</td>\n      <td>3.24030</td>\n      <td>1.32174</td>\n      <td>2.26456</td>\n      <td>2.98355</td>\n      <td>2.68609</td>\n      <td>4.73218</td>\n      <td>0.00000</td>\n      <td>0.00000</td>\n      <td>0.03820</td>\n      <td>0.09791</td>\n      <td>0.03361</td>\n      <td>0.24517</td>\n      <td>0.22483</td>\n      <td>0.26089</td>\n      <td>0.13236</td>\n      <td>0.18926</td>\n      <td>0.12118</td>\n      <td>0.23120</td>\n      <td>0.63219</td>\n    </tr>\n    <tr>\n      <th>5798</th>\n      <td>1.32222</td>\n      <td>2.37318</td>\n      <td>0.50483</td>\n      <td>1.18625</td>\n      <td>1.97670</td>\n      <td>0.10095</td>\n      <td>1.46240</td>\n      <td>0.04980</td>\n      <td>0.00404</td>\n      <td>0.03990</td>\n      <td>0.00404</td>\n      <td>2.15836</td>\n      <td>0.36856</td>\n      <td>0.29900</td>\n      <td>2.03342</td>\n      <td>0.01983</td>\n      <td>0.77815</td>\n      <td>3.28533</td>\n      <td>1.27918</td>\n      <td>2.26457</td>\n      <td>3.10041</td>\n      <td>2.92947</td>\n      <td>5.12733</td>\n      <td>0.00000</td>\n      <td>0.00000</td>\n      <td>0.00000</td>\n      <td>0.08456</td>\n      <td>0.02752</td>\n      <td>0.24708</td>\n      <td>0.15531</td>\n      <td>0.20349</td>\n      <td>0.23779</td>\n      <td>0.28846</td>\n      <td>0.04616</td>\n      <td>0.13674</td>\n      <td>0.62189</td>\n    </tr>\n    <tr>\n      <th>5799</th>\n      <td>0.69897</td>\n      <td>1.30487</td>\n      <td>0.53112</td>\n      <td>1.26717</td>\n      <td>2.05738</td>\n      <td>0.39794</td>\n      <td>1.11394</td>\n      <td>0.21085</td>\n      <td>0.05115</td>\n      <td>0.12409</td>\n      <td>0.05115</td>\n      <td>0.90309</td>\n      <td>0.27300</td>\n      <td>0.27300</td>\n      <td>0.95424</td>\n      <td>0.00000</td>\n      <td>0.00000</td>\n      <td>2.02938</td>\n      <td>1.15381</td>\n      <td>1.55242</td>\n      <td>2.97209</td>\n      <td>2.76191</td>\n      <td>5.07870</td>\n      <td>0.00000</td>\n      <td>0.00000</td>\n      <td>0.09691</td>\n      <td>0.00000</td>\n      <td>0.09691</td>\n      <td>0.24304</td>\n      <td>0.13830</td>\n      <td>0.22942</td>\n      <td>0.05115</td>\n      <td>0.12409</td>\n      <td>0.13830</td>\n      <td>0.17147</td>\n      <td>0.75012</td>\n    </tr>\n    <tr>\n      <th>5800</th>\n      <td>1.23045</td>\n      <td>2.06021</td>\n      <td>0.52793</td>\n      <td>1.19266</td>\n      <td>2.00842</td>\n      <td>0.03476</td>\n      <td>0.69897</td>\n      <td>0.03476</td>\n      <td>0.04303</td>\n      <td>0.11577</td>\n      <td>0.04303</td>\n      <td>1.92428</td>\n      <td>0.43603</td>\n      <td>0.29648</td>\n      <td>1.69020</td>\n      <td>0.00895</td>\n      <td>0.30103</td>\n      <td>3.10278</td>\n      <td>1.43735</td>\n      <td>2.24944</td>\n      <td>3.10759</td>\n      <td>2.92125</td>\n      <td>3.87355</td>\n      <td>0.11947</td>\n      <td>0.02633</td>\n      <td>0.00000</td>\n      <td>0.05912</td>\n      <td>0.02633</td>\n      <td>0.18799</td>\n      <td>0.04303</td>\n      <td>0.11577</td>\n      <td>0.11115</td>\n      <td>0.20708</td>\n      <td>0.11810</td>\n      <td>0.20889</td>\n      <td>0.63891</td>\n    </tr>\n    <tr>\n      <th>5801</th>\n      <td>0.60206</td>\n      <td>1.49898</td>\n      <td>0.57716</td>\n      <td>1.17872</td>\n      <td>2.00976</td>\n      <td>0.33882</td>\n      <td>1.14613</td>\n      <td>0.10474</td>\n      <td>0.00000</td>\n      <td>0.00000</td>\n      <td>0.00000</td>\n      <td>1.23045</td>\n      <td>0.38997</td>\n      <td>0.28083</td>\n      <td>1.07918</td>\n      <td>0.00000</td>\n      <td>0.00000</td>\n      <td>2.41162</td>\n      <td>1.38674</td>\n      <td>1.85949</td>\n      <td>3.17234</td>\n      <td>2.71655</td>\n      <td>3.84800</td>\n      <td>0.00000</td>\n      <td>0.00000</td>\n      <td>0.00000</td>\n      <td>0.16273</td>\n      <td>0.10474</td>\n      <td>0.21388</td>\n      <td>0.13470</td>\n      <td>0.21559</td>\n      <td>0.10474</td>\n      <td>0.20860</td>\n      <td>0.00000</td>\n      <td>0.00000</td>\n      <td>0.51491</td>\n    </tr>\n  </tbody>\n</table>\n<p>5802 rows × 36 columns</p>\n</div>",
      "text/plain": "       depth  SUM FriendsCount  AVG FriendsCount  AVG WordCount  \\\n0    0.47712           1.76819           0.60570        1.29412   \n1    0.69897           1.40640           0.60868        1.13434   \n2    0.47712           1.31516           0.58078        1.20412   \n3    0.60206           1.45086           0.57100        1.22789   \n4    0.47712           1.15786           0.56546        1.20412   \n...      ...               ...               ...            ...   \n5797 1.32222           2.35160           0.55282        1.19210   \n5798 1.32222           2.37318           0.50483        1.18625   \n5799 0.69897           1.30487           0.53112        1.26717   \n5800 1.23045           2.06021           0.52793        1.19266   \n5801 0.60206           1.49898           0.57716        1.17872   \n\n      AVG CharCount  AVG HashTag  SUM HashTag  Ratio HashTag  AVG Url  \\\n0           2.07169      0.00000      0.00000        0.00000  0.10146   \n1           1.97197      0.09691      0.47712        0.09691  0.05115   \n2           2.02413      0.19629      0.69897        0.10914  0.00000   \n3           2.01828      0.20412      0.84510        0.17609  0.17609   \n4           2.06744      0.20412      0.60206        0.14613  0.20412   \n...             ...          ...          ...            ...      ...   \n5797        2.02648      0.04725      1.04139        0.04275  0.07751   \n5798        1.97670      0.10095      1.46240        0.04980  0.00404   \n5799        2.05738      0.39794      1.11394        0.21085  0.05115   \n5800        2.00842      0.03476      0.69897        0.03476  0.04303   \n5801        2.00976      0.33882      1.14613        0.10474  0.00000   \n\n      STD Url  RATIO Url  SUM Mention  AVG Mention  Ratio Mention  \\\n0     0.15847    0.10146      1.51851      0.42882        0.28945   \n1     0.12409    0.05115      1.17609      0.43933        0.27300   \n2     0.00000    0.00000      1.04139      0.38535        0.26885   \n3     0.22293    0.14613      1.11394      0.34242        0.27875   \n4     0.17316    0.20412      0.77815      0.30103        0.25527   \n...       ...        ...          ...          ...            ...   \n5797  0.14504    0.07751      2.34830      0.55044        0.29853   \n5798  0.03990    0.00404      2.15836      0.36856        0.29900   \n5799  0.12409    0.05115      0.90309      0.27300        0.27300   \n5800  0.11577    0.04303      1.92428      0.43603        0.29648   \n5801  0.00000    0.00000      1.23045      0.38997        0.28083   \n\n      Tweets Count  Ratio Verified  SUM Verified  SUM RT  AVG RT  STD RT  \\\n0          1.30103         0.02228       0.30103 2.25527 1.01791 1.60747   \n1          0.95424         0.00000       0.00000 2.13672 1.25527 1.65537   \n2          0.90309         0.00000       0.00000 2.17609 1.34803 1.72207   \n3          1.04139         0.04139       0.30103 2.83632 1.84198 2.31422   \n4          0.77815         0.07918       0.30103 2.06446 1.38021 1.66278   \n...            ...             ...           ...     ...     ...     ...   \n5797       1.94448         0.00496       0.30103 3.24030 1.32174 2.26456   \n5798       2.03342         0.01983       0.77815 3.28533 1.27918 2.26457   \n5799       0.95424         0.00000       0.00000 2.02938 1.15381 1.55242   \n5800       1.69020         0.00895       0.30103 3.10278 1.43735 2.24944   \n5801       1.07918         0.00000       0.00000 2.41162 1.38674 1.85949   \n\n      AVG AccAge  STD AccAge  thread_time  STD Emoji  AVG Emoji  Ratio Media  \\\n0        2.85809     2.98062      3.65648    0.00000    0.00000      0.00000   \n1        3.09065     2.59017      4.38511    0.00000    0.00000      0.00000   \n2        3.10072     2.81611      4.21426    0.00000    0.00000      0.05799   \n3        3.17560     2.83818      5.04397    0.11394    0.04139      0.00000   \n4        3.07320     2.66802      3.12418    0.00000    0.00000      0.07918   \n...          ...         ...          ...        ...        ...          ...   \n5797     2.98355     2.68609      4.73218    0.00000    0.00000      0.03820   \n5798     3.10041     2.92947      5.12733    0.00000    0.00000      0.00000   \n5799     2.97209     2.76191      5.07870    0.00000    0.00000      0.09691   \n5800     3.10759     2.92125      3.87355    0.11947    0.02633      0.00000   \n5801     3.17234     2.71655      3.84800    0.00000    0.00000      0.00000   \n\n      RATIO Question  RATIO Exclaim  RATIO Period  AVG FPP  STD FPP  AVG SPP  \\\n0            0.06367        0.00000       0.15261  0.02228  0.08753  0.23976   \n1            0.00000        0.05115       0.30103  0.13830  0.22942  0.00000   \n2            0.00000        0.05799       0.26885  0.00000  0.00000  0.00000   \n3            0.11394        0.04139       0.23045  0.07918  0.14613  0.14613   \n4            0.07918        0.07918       0.30103  0.00000  0.00000  0.00000   \n...              ...            ...           ...      ...      ...      ...   \n5797         0.09791        0.03361       0.24517  0.22483  0.26089  0.13236   \n5798         0.08456        0.02752       0.24708  0.15531  0.20349  0.23779   \n5799         0.00000        0.09691       0.24304  0.13830  0.22942  0.05115   \n5800         0.05912        0.02633       0.18799  0.04303  0.11577  0.11115   \n5801         0.16273        0.10474       0.21388  0.13470  0.21559  0.10474   \n\n      STD SPP  AVG TPP  STD TPP  AVG Skepticism  \n0     0.34382  0.26531  0.33877         0.84510  \n1     0.00000  0.13830  0.22942         0.57403  \n2     0.00000  0.10914  0.16189         0.67342  \n3     0.22098  0.11394  0.21493         0.77815  \n4     0.00000  0.14613  0.17316         0.62325  \n...       ...      ...      ...             ...  \n5797  0.18926  0.12118  0.23120         0.63219  \n5798  0.28846  0.04616  0.13674         0.62189  \n5799  0.12409  0.13830  0.17147         0.75012  \n5800  0.20708  0.11810  0.20889         0.63891  \n5801  0.20860  0.00000  0.00000         0.51491  \n\n[5802 rows x 36 columns]"
     },
     "execution_count": 247,
     "metadata": {},
     "output_type": "execute_result"
    }
   ],
   "source": [
    "np.log10(pheme_thread+1)"
   ]
  },
  {
   "cell_type": "code",
   "execution_count": 246,
   "metadata": {},
   "outputs": [
    {
     "data": {
      "text/html": "<div>\n<style scoped>\n    .dataframe tbody tr th:only-of-type {\n        vertical-align: middle;\n    }\n\n    .dataframe tbody tr th {\n        vertical-align: top;\n    }\n\n    .dataframe thead th {\n        text-align: right;\n    }\n</style>\n<table border=\"1\" class=\"dataframe\">\n  <thead>\n    <tr style=\"text-align: right;\">\n      <th></th>\n      <th>depth</th>\n      <th>SUM FriendsCount</th>\n      <th>AVG FriendsCount</th>\n      <th>AVG WordCount</th>\n      <th>AVG CharCount</th>\n      <th>AVG HashTag</th>\n      <th>SUM HashTag</th>\n      <th>Ratio HashTag</th>\n      <th>AVG Url</th>\n      <th>STD Url</th>\n      <th>RATIO Url</th>\n      <th>SUM Mention</th>\n      <th>AVG Mention</th>\n      <th>Ratio Mention</th>\n      <th>Tweets Count</th>\n      <th>Ratio Verified</th>\n      <th>SUM Verified</th>\n      <th>SUM RT</th>\n      <th>AVG RT</th>\n      <th>STD RT</th>\n      <th>AVG AccAge</th>\n      <th>STD AccAge</th>\n      <th>thread_time</th>\n      <th>STD Emoji</th>\n      <th>AVG Emoji</th>\n      <th>Ratio Media</th>\n      <th>RATIO Question</th>\n      <th>RATIO Exclaim</th>\n      <th>RATIO Period</th>\n      <th>AVG FPP</th>\n      <th>STD FPP</th>\n      <th>AVG SPP</th>\n      <th>STD SPP</th>\n      <th>AVG TPP</th>\n      <th>STD TPP</th>\n      <th>AVG Skepticism</th>\n    </tr>\n  </thead>\n  <tbody>\n    <tr>\n      <th>0</th>\n      <td>0.30103</td>\n      <td>1.76819</td>\n      <td>0.60570</td>\n      <td>1.19546</td>\n      <td>1.93397</td>\n      <td>0.00000</td>\n      <td>0.00000</td>\n      <td>0.00000</td>\n      <td>0.10146</td>\n      <td>0.15847</td>\n      <td>0.10146</td>\n      <td>1.51851</td>\n      <td>0.42882</td>\n      <td>0.28945</td>\n      <td>1.27875</td>\n      <td>0.02228</td>\n      <td>0.30103</td>\n      <td>2.19033</td>\n      <td>0.98304</td>\n      <td>1.60747</td>\n      <td>2.85809</td>\n      <td>2.98062</td>\n      <td>3.65648</td>\n      <td>0.00000</td>\n      <td>0.00000</td>\n      <td>0.00000</td>\n      <td>0.06367</td>\n      <td>0.00000</td>\n      <td>0.15261</td>\n      <td>0.02228</td>\n      <td>0.08753</td>\n      <td>0.23976</td>\n      <td>0.34382</td>\n      <td>0.26531</td>\n      <td>0.33877</td>\n      <td>0.84510</td>\n    </tr>\n    <tr>\n      <th>1</th>\n      <td>0.60206</td>\n      <td>1.40640</td>\n      <td>0.60868</td>\n      <td>0.98340</td>\n      <td>1.79027</td>\n      <td>0.09691</td>\n      <td>0.47712</td>\n      <td>0.09691</td>\n      <td>0.05115</td>\n      <td>0.12409</td>\n      <td>0.05115</td>\n      <td>1.17609</td>\n      <td>0.43933</td>\n      <td>0.27300</td>\n      <td>0.90309</td>\n      <td>0.00000</td>\n      <td>0.00000</td>\n      <td>2.04922</td>\n      <td>1.23543</td>\n      <td>1.65537</td>\n      <td>3.09065</td>\n      <td>2.59017</td>\n      <td>4.38511</td>\n      <td>0.00000</td>\n      <td>0.00000</td>\n      <td>0.00000</td>\n      <td>0.00000</td>\n      <td>0.05115</td>\n      <td>0.30103</td>\n      <td>0.13830</td>\n      <td>0.22942</td>\n      <td>0.00000</td>\n      <td>0.00000</td>\n      <td>0.13830</td>\n      <td>0.22942</td>\n      <td>0.57403</td>\n    </tr>\n    <tr>\n      <th>2</th>\n      <td>0.30103</td>\n      <td>1.31516</td>\n      <td>0.58078</td>\n      <td>1.07918</td>\n      <td>1.86724</td>\n      <td>0.19629</td>\n      <td>0.69897</td>\n      <td>0.10914</td>\n      <td>0.00000</td>\n      <td>0.00000</td>\n      <td>0.00000</td>\n      <td>1.04139</td>\n      <td>0.38535</td>\n      <td>0.26885</td>\n      <td>0.84510</td>\n      <td>0.00000</td>\n      <td>0.00000</td>\n      <td>2.09691</td>\n      <td>1.33207</td>\n      <td>1.72207</td>\n      <td>3.10072</td>\n      <td>2.81611</td>\n      <td>4.21426</td>\n      <td>0.00000</td>\n      <td>0.00000</td>\n      <td>0.05799</td>\n      <td>0.00000</td>\n      <td>0.05799</td>\n      <td>0.26885</td>\n      <td>0.00000</td>\n      <td>0.00000</td>\n      <td>0.00000</td>\n      <td>0.00000</td>\n      <td>0.10914</td>\n      <td>0.16189</td>\n      <td>0.67342</td>\n    </tr>\n    <tr>\n      <th>3</th>\n      <td>0.47712</td>\n      <td>1.45086</td>\n      <td>0.57100</td>\n      <td>1.11059</td>\n      <td>1.85882</td>\n      <td>0.20412</td>\n      <td>0.84510</td>\n      <td>0.17609</td>\n      <td>0.17609</td>\n      <td>0.22293</td>\n      <td>0.14613</td>\n      <td>1.11394</td>\n      <td>0.34242</td>\n      <td>0.27875</td>\n      <td>1.00000</td>\n      <td>0.04139</td>\n      <td>0.30103</td>\n      <td>2.82020</td>\n      <td>1.83693</td>\n      <td>2.31422</td>\n      <td>3.17560</td>\n      <td>2.83818</td>\n      <td>5.04397</td>\n      <td>0.11394</td>\n      <td>0.04139</td>\n      <td>0.00000</td>\n      <td>0.11394</td>\n      <td>0.04139</td>\n      <td>0.23045</td>\n      <td>0.07918</td>\n      <td>0.14613</td>\n      <td>0.14613</td>\n      <td>0.22098</td>\n      <td>0.11394</td>\n      <td>0.21493</td>\n      <td>0.77815</td>\n    </tr>\n    <tr>\n      <th>4</th>\n      <td>0.30103</td>\n      <td>1.15786</td>\n      <td>0.56546</td>\n      <td>1.07918</td>\n      <td>1.92813</td>\n      <td>0.20412</td>\n      <td>0.60206</td>\n      <td>0.14613</td>\n      <td>0.20412</td>\n      <td>0.17316</td>\n      <td>0.20412</td>\n      <td>0.77815</td>\n      <td>0.30103</td>\n      <td>0.25527</td>\n      <td>0.69897</td>\n      <td>0.07918</td>\n      <td>0.30103</td>\n      <td>1.95904</td>\n      <td>1.36541</td>\n      <td>1.66278</td>\n      <td>3.07320</td>\n      <td>2.66802</td>\n      <td>3.12418</td>\n      <td>0.00000</td>\n      <td>0.00000</td>\n      <td>0.07918</td>\n      <td>0.07918</td>\n      <td>0.07918</td>\n      <td>0.30103</td>\n      <td>0.00000</td>\n      <td>0.00000</td>\n      <td>0.00000</td>\n      <td>0.00000</td>\n      <td>0.14613</td>\n      <td>0.17316</td>\n      <td>0.62325</td>\n    </tr>\n    <tr>\n      <th>...</th>\n      <td>...</td>\n      <td>...</td>\n      <td>...</td>\n      <td>...</td>\n      <td>...</td>\n      <td>...</td>\n      <td>...</td>\n      <td>...</td>\n      <td>...</td>\n      <td>...</td>\n      <td>...</td>\n      <td>...</td>\n      <td>...</td>\n      <td>...</td>\n      <td>...</td>\n      <td>...</td>\n      <td>...</td>\n      <td>...</td>\n      <td>...</td>\n      <td>...</td>\n      <td>...</td>\n      <td>...</td>\n      <td>...</td>\n      <td>...</td>\n      <td>...</td>\n      <td>...</td>\n      <td>...</td>\n      <td>...</td>\n      <td>...</td>\n      <td>...</td>\n      <td>...</td>\n      <td>...</td>\n      <td>...</td>\n      <td>...</td>\n      <td>...</td>\n      <td>...</td>\n    </tr>\n    <tr>\n      <th>5797</th>\n      <td>1.30103</td>\n      <td>2.35160</td>\n      <td>0.55282</td>\n      <td>1.06308</td>\n      <td>1.87061</td>\n      <td>0.04725</td>\n      <td>1.04139</td>\n      <td>0.04275</td>\n      <td>0.07751</td>\n      <td>0.14504</td>\n      <td>0.07751</td>\n      <td>2.34830</td>\n      <td>0.55044</td>\n      <td>0.29853</td>\n      <td>1.93952</td>\n      <td>0.00496</td>\n      <td>0.30103</td>\n      <td>3.23401</td>\n      <td>1.30477</td>\n      <td>2.26456</td>\n      <td>2.98355</td>\n      <td>2.68609</td>\n      <td>4.73218</td>\n      <td>0.00000</td>\n      <td>0.00000</td>\n      <td>0.03820</td>\n      <td>0.09791</td>\n      <td>0.03361</td>\n      <td>0.24517</td>\n      <td>0.22483</td>\n      <td>0.26089</td>\n      <td>0.13236</td>\n      <td>0.18926</td>\n      <td>0.12118</td>\n      <td>0.23120</td>\n      <td>0.63219</td>\n    </tr>\n    <tr>\n      <th>5798</th>\n      <td>1.30103</td>\n      <td>2.37318</td>\n      <td>0.50483</td>\n      <td>1.05519</td>\n      <td>1.79743</td>\n      <td>0.10095</td>\n      <td>1.46240</td>\n      <td>0.04980</td>\n      <td>0.00404</td>\n      <td>0.03990</td>\n      <td>0.00404</td>\n      <td>2.15836</td>\n      <td>0.36856</td>\n      <td>0.29900</td>\n      <td>2.02938</td>\n      <td>0.01983</td>\n      <td>0.77815</td>\n      <td>3.27967</td>\n      <td>1.26042</td>\n      <td>2.26457</td>\n      <td>3.10041</td>\n      <td>2.92947</td>\n      <td>5.12733</td>\n      <td>0.00000</td>\n      <td>0.00000</td>\n      <td>0.00000</td>\n      <td>0.08456</td>\n      <td>0.02752</td>\n      <td>0.24708</td>\n      <td>0.15531</td>\n      <td>0.20349</td>\n      <td>0.23779</td>\n      <td>0.28846</td>\n      <td>0.04616</td>\n      <td>0.13674</td>\n      <td>0.62189</td>\n    </tr>\n    <tr>\n      <th>5799</th>\n      <td>0.60206</td>\n      <td>1.30487</td>\n      <td>0.53112</td>\n      <td>1.16137</td>\n      <td>1.91420</td>\n      <td>0.39794</td>\n      <td>1.11394</td>\n      <td>0.21085</td>\n      <td>0.05115</td>\n      <td>0.12409</td>\n      <td>0.05115</td>\n      <td>0.90309</td>\n      <td>0.27300</td>\n      <td>0.27300</td>\n      <td>0.90309</td>\n      <td>0.00000</td>\n      <td>0.00000</td>\n      <td>1.91381</td>\n      <td>1.12859</td>\n      <td>1.55242</td>\n      <td>2.97209</td>\n      <td>2.76191</td>\n      <td>5.07870</td>\n      <td>0.00000</td>\n      <td>0.00000</td>\n      <td>0.09691</td>\n      <td>0.00000</td>\n      <td>0.09691</td>\n      <td>0.24304</td>\n      <td>0.13830</td>\n      <td>0.22942</td>\n      <td>0.05115</td>\n      <td>0.12409</td>\n      <td>0.13830</td>\n      <td>0.17147</td>\n      <td>0.75012</td>\n    </tr>\n    <tr>\n      <th>5800</th>\n      <td>1.20412</td>\n      <td>2.06021</td>\n      <td>0.52793</td>\n      <td>1.06383</td>\n      <td>1.84451</td>\n      <td>0.03476</td>\n      <td>0.69897</td>\n      <td>0.03476</td>\n      <td>0.04303</td>\n      <td>0.11577</td>\n      <td>0.04303</td>\n      <td>1.92428</td>\n      <td>0.43603</td>\n      <td>0.29648</td>\n      <td>1.68124</td>\n      <td>0.00895</td>\n      <td>0.30103</td>\n      <td>3.09412</td>\n      <td>1.42441</td>\n      <td>2.24944</td>\n      <td>3.10759</td>\n      <td>2.92125</td>\n      <td>3.87355</td>\n      <td>0.11947</td>\n      <td>0.02633</td>\n      <td>0.00000</td>\n      <td>0.05912</td>\n      <td>0.02633</td>\n      <td>0.18799</td>\n      <td>0.04303</td>\n      <td>0.11577</td>\n      <td>0.11115</td>\n      <td>0.20708</td>\n      <td>0.11810</td>\n      <td>0.20889</td>\n      <td>0.63891</td>\n    </tr>\n    <tr>\n      <th>5801</th>\n      <td>0.47712</td>\n      <td>1.49898</td>\n      <td>0.57716</td>\n      <td>1.04497</td>\n      <td>1.84646</td>\n      <td>0.33882</td>\n      <td>1.14613</td>\n      <td>0.10474</td>\n      <td>0.00000</td>\n      <td>0.00000</td>\n      <td>0.00000</td>\n      <td>1.23045</td>\n      <td>0.38997</td>\n      <td>0.28083</td>\n      <td>1.04139</td>\n      <td>0.00000</td>\n      <td>0.00000</td>\n      <td>2.36736</td>\n      <td>1.37217</td>\n      <td>1.85949</td>\n      <td>3.17234</td>\n      <td>2.71655</td>\n      <td>3.84800</td>\n      <td>0.00000</td>\n      <td>0.00000</td>\n      <td>0.00000</td>\n      <td>0.16273</td>\n      <td>0.10474</td>\n      <td>0.21388</td>\n      <td>0.13470</td>\n      <td>0.21559</td>\n      <td>0.10474</td>\n      <td>0.20860</td>\n      <td>0.00000</td>\n      <td>0.00000</td>\n      <td>0.51491</td>\n    </tr>\n  </tbody>\n</table>\n<p>5802 rows × 36 columns</p>\n</div>",
      "text/plain": "       depth  SUM FriendsCount  AVG FriendsCount  AVG WordCount  \\\n0    0.30103           1.76819           0.60570        1.19546   \n1    0.60206           1.40640           0.60868        0.98340   \n2    0.30103           1.31516           0.58078        1.07918   \n3    0.47712           1.45086           0.57100        1.11059   \n4    0.30103           1.15786           0.56546        1.07918   \n...      ...               ...               ...            ...   \n5797 1.30103           2.35160           0.55282        1.06308   \n5798 1.30103           2.37318           0.50483        1.05519   \n5799 0.60206           1.30487           0.53112        1.16137   \n5800 1.20412           2.06021           0.52793        1.06383   \n5801 0.47712           1.49898           0.57716        1.04497   \n\n      AVG CharCount  AVG HashTag  SUM HashTag  Ratio HashTag  AVG Url  \\\n0           1.93397      0.00000      0.00000        0.00000  0.10146   \n1           1.79027      0.09691      0.47712        0.09691  0.05115   \n2           1.86724      0.19629      0.69897        0.10914  0.00000   \n3           1.85882      0.20412      0.84510        0.17609  0.17609   \n4           1.92813      0.20412      0.60206        0.14613  0.20412   \n...             ...          ...          ...            ...      ...   \n5797        1.87061      0.04725      1.04139        0.04275  0.07751   \n5798        1.79743      0.10095      1.46240        0.04980  0.00404   \n5799        1.91420      0.39794      1.11394        0.21085  0.05115   \n5800        1.84451      0.03476      0.69897        0.03476  0.04303   \n5801        1.84646      0.33882      1.14613        0.10474  0.00000   \n\n      STD Url  RATIO Url  SUM Mention  AVG Mention  Ratio Mention  \\\n0     0.15847    0.10146      1.51851      0.42882        0.28945   \n1     0.12409    0.05115      1.17609      0.43933        0.27300   \n2     0.00000    0.00000      1.04139      0.38535        0.26885   \n3     0.22293    0.14613      1.11394      0.34242        0.27875   \n4     0.17316    0.20412      0.77815      0.30103        0.25527   \n...       ...        ...          ...          ...            ...   \n5797  0.14504    0.07751      2.34830      0.55044        0.29853   \n5798  0.03990    0.00404      2.15836      0.36856        0.29900   \n5799  0.12409    0.05115      0.90309      0.27300        0.27300   \n5800  0.11577    0.04303      1.92428      0.43603        0.29648   \n5801  0.00000    0.00000      1.23045      0.38997        0.28083   \n\n      Tweets Count  Ratio Verified  SUM Verified  SUM RT  AVG RT  STD RT  \\\n0          1.27875         0.02228       0.30103 2.19033 0.98304 1.60747   \n1          0.90309         0.00000       0.00000 2.04922 1.23543 1.65537   \n2          0.84510         0.00000       0.00000 2.09691 1.33207 1.72207   \n3          1.00000         0.04139       0.30103 2.82020 1.83693 2.31422   \n4          0.69897         0.07918       0.30103 1.95904 1.36541 1.66278   \n...            ...             ...           ...     ...     ...     ...   \n5797       1.93952         0.00496       0.30103 3.23401 1.30477 2.26456   \n5798       2.02938         0.01983       0.77815 3.27967 1.26042 2.26457   \n5799       0.90309         0.00000       0.00000 1.91381 1.12859 1.55242   \n5800       1.68124         0.00895       0.30103 3.09412 1.42441 2.24944   \n5801       1.04139         0.00000       0.00000 2.36736 1.37217 1.85949   \n\n      AVG AccAge  STD AccAge  thread_time  STD Emoji  AVG Emoji  Ratio Media  \\\n0        2.85809     2.98062      3.65648    0.00000    0.00000      0.00000   \n1        3.09065     2.59017      4.38511    0.00000    0.00000      0.00000   \n2        3.10072     2.81611      4.21426    0.00000    0.00000      0.05799   \n3        3.17560     2.83818      5.04397    0.11394    0.04139      0.00000   \n4        3.07320     2.66802      3.12418    0.00000    0.00000      0.07918   \n...          ...         ...          ...        ...        ...          ...   \n5797     2.98355     2.68609      4.73218    0.00000    0.00000      0.03820   \n5798     3.10041     2.92947      5.12733    0.00000    0.00000      0.00000   \n5799     2.97209     2.76191      5.07870    0.00000    0.00000      0.09691   \n5800     3.10759     2.92125      3.87355    0.11947    0.02633      0.00000   \n5801     3.17234     2.71655      3.84800    0.00000    0.00000      0.00000   \n\n      RATIO Question  RATIO Exclaim  RATIO Period  AVG FPP  STD FPP  AVG SPP  \\\n0            0.06367        0.00000       0.15261  0.02228  0.08753  0.23976   \n1            0.00000        0.05115       0.30103  0.13830  0.22942  0.00000   \n2            0.00000        0.05799       0.26885  0.00000  0.00000  0.00000   \n3            0.11394        0.04139       0.23045  0.07918  0.14613  0.14613   \n4            0.07918        0.07918       0.30103  0.00000  0.00000  0.00000   \n...              ...            ...           ...      ...      ...      ...   \n5797         0.09791        0.03361       0.24517  0.22483  0.26089  0.13236   \n5798         0.08456        0.02752       0.24708  0.15531  0.20349  0.23779   \n5799         0.00000        0.09691       0.24304  0.13830  0.22942  0.05115   \n5800         0.05912        0.02633       0.18799  0.04303  0.11577  0.11115   \n5801         0.16273        0.10474       0.21388  0.13470  0.21559  0.10474   \n\n      STD SPP  AVG TPP  STD TPP  AVG Skepticism  \n0     0.34382  0.26531  0.33877         0.84510  \n1     0.00000  0.13830  0.22942         0.57403  \n2     0.00000  0.10914  0.16189         0.67342  \n3     0.22098  0.11394  0.21493         0.77815  \n4     0.00000  0.14613  0.17316         0.62325  \n...       ...      ...      ...             ...  \n5797  0.18926  0.12118  0.23120         0.63219  \n5798  0.28846  0.04616  0.13674         0.62189  \n5799  0.12409  0.13830  0.17147         0.75012  \n5800  0.20708  0.11810  0.20889         0.63891  \n5801  0.20860  0.00000  0.00000         0.51491  \n\n[5802 rows x 36 columns]"
     },
     "execution_count": 246,
     "metadata": {},
     "output_type": "execute_result"
    }
   ],
   "source": [
    "np.log10(pheme_thread-pheme_thread.min()+1)"
   ]
  },
  {
   "cell_type": "code",
   "execution_count": 292,
   "metadata": {},
   "outputs": [
    {
     "data": {
      "text/html": "<div>\n<style scoped>\n    .dataframe tbody tr th:only-of-type {\n        vertical-align: middle;\n    }\n\n    .dataframe tbody tr th {\n        vertical-align: top;\n    }\n\n    .dataframe thead th {\n        text-align: right;\n    }\n</style>\n<table border=\"1\" class=\"dataframe\">\n  <thead>\n    <tr style=\"text-align: right;\">\n      <th></th>\n      <th>depth</th>\n      <th>SUM FriendsCount</th>\n      <th>AVG FriendsCount</th>\n      <th>AVG WordCount</th>\n      <th>AVG CharCount</th>\n      <th>AVG HashTag</th>\n      <th>SUM HashTag</th>\n      <th>Ratio HashTag</th>\n      <th>AVG Url</th>\n      <th>STD Url</th>\n      <th>RATIO Url</th>\n      <th>SUM Mention</th>\n      <th>AVG Mention</th>\n      <th>Ratio Mention</th>\n      <th>Tweets Count</th>\n      <th>Ratio Verified</th>\n      <th>SUM Verified</th>\n      <th>SUM RT</th>\n      <th>AVG RT</th>\n      <th>STD RT</th>\n      <th>AVG AccAge</th>\n      <th>STD AccAge</th>\n      <th>thread_time</th>\n      <th>STD Emoji</th>\n      <th>AVG Emoji</th>\n      <th>Ratio Media</th>\n      <th>RATIO Question</th>\n      <th>RATIO Exclaim</th>\n      <th>RATIO Period</th>\n      <th>AVG FPP</th>\n      <th>STD FPP</th>\n      <th>AVG SPP</th>\n      <th>STD SPP</th>\n      <th>AVG TPP</th>\n      <th>STD TPP</th>\n      <th>AVG Skepticism</th>\n    </tr>\n  </thead>\n  <tbody>\n    <tr>\n      <th>0</th>\n      <td>2</td>\n      <td>57.63909</td>\n      <td>3.03364</td>\n      <td>18.68421</td>\n      <td>116.94737</td>\n      <td>0.00000</td>\n      <td>0.00000</td>\n      <td>0.00000</td>\n      <td>0.26316</td>\n      <td>0.44035</td>\n      <td>0.26316</td>\n      <td>32.00000</td>\n      <td>1.68421</td>\n      <td>0.94737</td>\n      <td>19</td>\n      <td>0.05263</td>\n      <td>1.00000</td>\n      <td>179.00000</td>\n      <td>9.42105</td>\n      <td>39.50125</td>\n      <td>720.26316</td>\n      <td>955.35553</td>\n      <td>4533.00000</td>\n      <td>0.00000</td>\n      <td>0.00000</td>\n      <td>0.00000</td>\n      <td>0.15789</td>\n      <td>0.00000</td>\n      <td>0.42105</td>\n      <td>0.05263</td>\n      <td>0.22330</td>\n      <td>0.73684</td>\n      <td>1.20709</td>\n      <td>0.84211</td>\n      <td>1.18158</td>\n      <td>6.00000</td>\n    </tr>\n    <tr>\n      <th>1</th>\n      <td>4</td>\n      <td>24.49158</td>\n      <td>3.06145</td>\n      <td>12.62500</td>\n      <td>92.75000</td>\n      <td>0.25000</td>\n      <td>2.00000</td>\n      <td>0.25000</td>\n      <td>0.12500</td>\n      <td>0.33072</td>\n      <td>0.12500</td>\n      <td>14.00000</td>\n      <td>1.75000</td>\n      <td>0.87500</td>\n      <td>8</td>\n      <td>0.00000</td>\n      <td>0.00000</td>\n      <td>136.00000</td>\n      <td>17.00000</td>\n      <td>44.22386</td>\n      <td>1231.12500</td>\n      <td>388.19951</td>\n      <td>24271.00000</td>\n      <td>0.00000</td>\n      <td>0.00000</td>\n      <td>0.00000</td>\n      <td>0.00000</td>\n      <td>0.12500</td>\n      <td>1.00000</td>\n      <td>0.37500</td>\n      <td>0.69597</td>\n      <td>0.00000</td>\n      <td>0.00000</td>\n      <td>0.37500</td>\n      <td>0.69597</td>\n      <td>2.75000</td>\n    </tr>\n    <tr>\n      <th>2</th>\n      <td>2</td>\n      <td>19.66139</td>\n      <td>2.80877</td>\n      <td>15.00000</td>\n      <td>104.71429</td>\n      <td>0.57143</td>\n      <td>4.00000</td>\n      <td>0.28571</td>\n      <td>0.00000</td>\n      <td>0.00000</td>\n      <td>0.00000</td>\n      <td>10.00000</td>\n      <td>1.42857</td>\n      <td>0.85714</td>\n      <td>7</td>\n      <td>0.00000</td>\n      <td>0.00000</td>\n      <td>149.00000</td>\n      <td>21.28571</td>\n      <td>51.73204</td>\n      <td>1260.00000</td>\n      <td>653.80950</td>\n      <td>16377.00000</td>\n      <td>0.00000</td>\n      <td>0.00000</td>\n      <td>0.14286</td>\n      <td>0.00000</td>\n      <td>0.14286</td>\n      <td>0.85714</td>\n      <td>0.00000</td>\n      <td>0.00000</td>\n      <td>0.00000</td>\n      <td>0.00000</td>\n      <td>0.28571</td>\n      <td>0.45175</td>\n      <td>3.71429</td>\n    </tr>\n    <tr>\n      <th>3</th>\n      <td>3</td>\n      <td>27.23960</td>\n      <td>2.72396</td>\n      <td>15.90000</td>\n      <td>103.30000</td>\n      <td>0.60000</td>\n      <td>6.00000</td>\n      <td>0.50000</td>\n      <td>0.50000</td>\n      <td>0.67082</td>\n      <td>0.40000</td>\n      <td>12.00000</td>\n      <td>1.20000</td>\n      <td>0.90000</td>\n      <td>10</td>\n      <td>0.10000</td>\n      <td>1.00000</td>\n      <td>685.00000</td>\n      <td>68.50000</td>\n      <td>205.16688</td>\n      <td>1497.30000</td>\n      <td>687.94012</td>\n      <td>110654.00000</td>\n      <td>0.30000</td>\n      <td>0.10000</td>\n      <td>0.00000</td>\n      <td>0.30000</td>\n      <td>0.10000</td>\n      <td>0.70000</td>\n      <td>0.20000</td>\n      <td>0.40000</td>\n      <td>0.40000</td>\n      <td>0.66332</td>\n      <td>0.30000</td>\n      <td>0.64031</td>\n      <td>5.00000</td>\n    </tr>\n    <tr>\n      <th>4</th>\n      <td>2</td>\n      <td>13.38340</td>\n      <td>2.67668</td>\n      <td>15.00000</td>\n      <td>115.80000</td>\n      <td>0.60000</td>\n      <td>3.00000</td>\n      <td>0.40000</td>\n      <td>0.60000</td>\n      <td>0.48990</td>\n      <td>0.60000</td>\n      <td>5.00000</td>\n      <td>1.00000</td>\n      <td>0.80000</td>\n      <td>5</td>\n      <td>0.20000</td>\n      <td>1.00000</td>\n      <td>115.00000</td>\n      <td>23.00000</td>\n      <td>45.00222</td>\n      <td>1182.60000</td>\n      <td>464.60590</td>\n      <td>1330.00000</td>\n      <td>0.00000</td>\n      <td>0.00000</td>\n      <td>0.20000</td>\n      <td>0.20000</td>\n      <td>0.20000</td>\n      <td>1.00000</td>\n      <td>0.00000</td>\n      <td>0.00000</td>\n      <td>0.00000</td>\n      <td>0.00000</td>\n      <td>0.40000</td>\n      <td>0.48990</td>\n      <td>3.20000</td>\n    </tr>\n    <tr>\n      <th>...</th>\n      <td>...</td>\n      <td>...</td>\n      <td>...</td>\n      <td>...</td>\n      <td>...</td>\n      <td>...</td>\n      <td>...</td>\n      <td>...</td>\n      <td>...</td>\n      <td>...</td>\n      <td>...</td>\n      <td>...</td>\n      <td>...</td>\n      <td>...</td>\n      <td>...</td>\n      <td>...</td>\n      <td>...</td>\n      <td>...</td>\n      <td>...</td>\n      <td>...</td>\n      <td>...</td>\n      <td>...</td>\n      <td>...</td>\n      <td>...</td>\n      <td>...</td>\n      <td>...</td>\n      <td>...</td>\n      <td>...</td>\n      <td>...</td>\n      <td>...</td>\n      <td>...</td>\n      <td>...</td>\n      <td>...</td>\n      <td>...</td>\n      <td>...</td>\n      <td>...</td>\n    </tr>\n    <tr>\n      <th>5797</th>\n      <td>20</td>\n      <td>223.69939</td>\n      <td>2.57126</td>\n      <td>14.56322</td>\n      <td>105.28736</td>\n      <td>0.11494</td>\n      <td>10.00000</td>\n      <td>0.10345</td>\n      <td>0.19540</td>\n      <td>0.39651</td>\n      <td>0.19540</td>\n      <td>222.00000</td>\n      <td>2.55172</td>\n      <td>0.98851</td>\n      <td>87</td>\n      <td>0.01149</td>\n      <td>1.00000</td>\n      <td>1738.00000</td>\n      <td>19.97701</td>\n      <td>182.88976</td>\n      <td>961.82759</td>\n      <td>484.39274</td>\n      <td>53972.00000</td>\n      <td>0.00000</td>\n      <td>0.00000</td>\n      <td>0.09195</td>\n      <td>0.25287</td>\n      <td>0.08046</td>\n      <td>0.75862</td>\n      <td>0.67816</td>\n      <td>0.82343</td>\n      <td>0.35632</td>\n      <td>0.54619</td>\n      <td>0.32184</td>\n      <td>0.70294</td>\n      <td>3.28736</td>\n    </tr>\n    <tr>\n      <th>5798</th>\n      <td>20</td>\n      <td>235.14782</td>\n      <td>2.19764</td>\n      <td>14.35514</td>\n      <td>93.77570</td>\n      <td>0.26168</td>\n      <td>28.00000</td>\n      <td>0.12150</td>\n      <td>0.00935</td>\n      <td>0.09622</td>\n      <td>0.00935</td>\n      <td>143.00000</td>\n      <td>1.33645</td>\n      <td>0.99065</td>\n      <td>107</td>\n      <td>0.04673</td>\n      <td>5.00000</td>\n      <td>1928.00000</td>\n      <td>18.01869</td>\n      <td>182.89382</td>\n      <td>1259.12150</td>\n      <td>849.10225</td>\n      <td>134068.00000</td>\n      <td>0.00000</td>\n      <td>0.00000</td>\n      <td>0.00000</td>\n      <td>0.21495</td>\n      <td>0.06542</td>\n      <td>0.76636</td>\n      <td>0.42991</td>\n      <td>0.59769</td>\n      <td>0.72897</td>\n      <td>0.94295</td>\n      <td>0.11215</td>\n      <td>0.37007</td>\n      <td>3.18692</td>\n    </tr>\n    <tr>\n      <th>5799</th>\n      <td>4</td>\n      <td>19.17779</td>\n      <td>2.39722</td>\n      <td>17.50000</td>\n      <td>113.12500</td>\n      <td>1.50000</td>\n      <td>12.00000</td>\n      <td>0.62500</td>\n      <td>0.12500</td>\n      <td>0.33072</td>\n      <td>0.12500</td>\n      <td>7.00000</td>\n      <td>0.87500</td>\n      <td>0.87500</td>\n      <td>8</td>\n      <td>0.00000</td>\n      <td>0.00000</td>\n      <td>106.00000</td>\n      <td>13.25000</td>\n      <td>34.67979</td>\n      <td>936.75000</td>\n      <td>576.98088</td>\n      <td>119866.00000</td>\n      <td>0.00000</td>\n      <td>0.00000</td>\n      <td>0.25000</td>\n      <td>0.00000</td>\n      <td>0.25000</td>\n      <td>0.75000</td>\n      <td>0.37500</td>\n      <td>0.69597</td>\n      <td>0.12500</td>\n      <td>0.33072</td>\n      <td>0.37500</td>\n      <td>0.48412</td>\n      <td>4.62500</td>\n    </tr>\n    <tr>\n      <th>5800</th>\n      <td>16</td>\n      <td>113.87185</td>\n      <td>2.37233</td>\n      <td>14.58333</td>\n      <td>100.95833</td>\n      <td>0.08333</td>\n      <td>4.00000</td>\n      <td>0.08333</td>\n      <td>0.10417</td>\n      <td>0.30548</td>\n      <td>0.10417</td>\n      <td>83.00000</td>\n      <td>1.72917</td>\n      <td>0.97917</td>\n      <td>48</td>\n      <td>0.02083</td>\n      <td>1.00000</td>\n      <td>1266.00000</td>\n      <td>26.37500</td>\n      <td>176.59849</td>\n      <td>1280.12500</td>\n      <td>833.16479</td>\n      <td>7473.00000</td>\n      <td>0.31664</td>\n      <td>0.06250</td>\n      <td>0.00000</td>\n      <td>0.14583</td>\n      <td>0.06250</td>\n      <td>0.54167</td>\n      <td>0.10417</td>\n      <td>0.30548</td>\n      <td>0.29167</td>\n      <td>0.61095</td>\n      <td>0.31250</td>\n      <td>0.61767</td>\n      <td>3.35417</td>\n    </tr>\n    <tr>\n      <th>5801</th>\n      <td>3</td>\n      <td>30.54845</td>\n      <td>2.77713</td>\n      <td>14.09091</td>\n      <td>101.27273</td>\n      <td>1.18182</td>\n      <td>13.00000</td>\n      <td>0.27273</td>\n      <td>0.00000</td>\n      <td>0.00000</td>\n      <td>0.00000</td>\n      <td>16.00000</td>\n      <td>1.45455</td>\n      <td>0.90909</td>\n      <td>11</td>\n      <td>0.00000</td>\n      <td>0.00000</td>\n      <td>257.00000</td>\n      <td>23.36364</td>\n      <td>71.35860</td>\n      <td>1486.09091</td>\n      <td>519.65678</td>\n      <td>7046.00000</td>\n      <td>0.00000</td>\n      <td>0.00000</td>\n      <td>0.00000</td>\n      <td>0.45455</td>\n      <td>0.27273</td>\n      <td>0.63636</td>\n      <td>0.36364</td>\n      <td>0.64282</td>\n      <td>0.27273</td>\n      <td>0.61658</td>\n      <td>0.00000</td>\n      <td>0.00000</td>\n      <td>2.27273</td>\n    </tr>\n  </tbody>\n</table>\n<p>5802 rows × 36 columns</p>\n</div>",
      "text/plain": "      depth  SUM FriendsCount  AVG FriendsCount  AVG WordCount  AVG CharCount  \\\n0         2          57.63909           3.03364       18.68421      116.94737   \n1         4          24.49158           3.06145       12.62500       92.75000   \n2         2          19.66139           2.80877       15.00000      104.71429   \n3         3          27.23960           2.72396       15.90000      103.30000   \n4         2          13.38340           2.67668       15.00000      115.80000   \n...     ...               ...               ...            ...            ...   \n5797     20         223.69939           2.57126       14.56322      105.28736   \n5798     20         235.14782           2.19764       14.35514       93.77570   \n5799      4          19.17779           2.39722       17.50000      113.12500   \n5800     16         113.87185           2.37233       14.58333      100.95833   \n5801      3          30.54845           2.77713       14.09091      101.27273   \n\n      AVG HashTag  SUM HashTag  Ratio HashTag  AVG Url  STD Url  RATIO Url  \\\n0         0.00000      0.00000        0.00000  0.26316  0.44035    0.26316   \n1         0.25000      2.00000        0.25000  0.12500  0.33072    0.12500   \n2         0.57143      4.00000        0.28571  0.00000  0.00000    0.00000   \n3         0.60000      6.00000        0.50000  0.50000  0.67082    0.40000   \n4         0.60000      3.00000        0.40000  0.60000  0.48990    0.60000   \n...           ...          ...            ...      ...      ...        ...   \n5797      0.11494     10.00000        0.10345  0.19540  0.39651    0.19540   \n5798      0.26168     28.00000        0.12150  0.00935  0.09622    0.00935   \n5799      1.50000     12.00000        0.62500  0.12500  0.33072    0.12500   \n5800      0.08333      4.00000        0.08333  0.10417  0.30548    0.10417   \n5801      1.18182     13.00000        0.27273  0.00000  0.00000    0.00000   \n\n      SUM Mention  AVG Mention  Ratio Mention  Tweets Count  Ratio Verified  \\\n0        32.00000      1.68421        0.94737            19         0.05263   \n1        14.00000      1.75000        0.87500             8         0.00000   \n2        10.00000      1.42857        0.85714             7         0.00000   \n3        12.00000      1.20000        0.90000            10         0.10000   \n4         5.00000      1.00000        0.80000             5         0.20000   \n...           ...          ...            ...           ...             ...   \n5797    222.00000      2.55172        0.98851            87         0.01149   \n5798    143.00000      1.33645        0.99065           107         0.04673   \n5799      7.00000      0.87500        0.87500             8         0.00000   \n5800     83.00000      1.72917        0.97917            48         0.02083   \n5801     16.00000      1.45455        0.90909            11         0.00000   \n\n      SUM Verified     SUM RT   AVG RT    STD RT  AVG AccAge  STD AccAge  \\\n0          1.00000  179.00000  9.42105  39.50125   720.26316   955.35553   \n1          0.00000  136.00000 17.00000  44.22386  1231.12500   388.19951   \n2          0.00000  149.00000 21.28571  51.73204  1260.00000   653.80950   \n3          1.00000  685.00000 68.50000 205.16688  1497.30000   687.94012   \n4          1.00000  115.00000 23.00000  45.00222  1182.60000   464.60590   \n...            ...        ...      ...       ...         ...         ...   \n5797       1.00000 1738.00000 19.97701 182.88976   961.82759   484.39274   \n5798       5.00000 1928.00000 18.01869 182.89382  1259.12150   849.10225   \n5799       0.00000  106.00000 13.25000  34.67979   936.75000   576.98088   \n5800       1.00000 1266.00000 26.37500 176.59849  1280.12500   833.16479   \n5801       0.00000  257.00000 23.36364  71.35860  1486.09091   519.65678   \n\n      thread_time  STD Emoji  AVG Emoji  Ratio Media  RATIO Question  \\\n0      4533.00000    0.00000    0.00000      0.00000         0.15789   \n1     24271.00000    0.00000    0.00000      0.00000         0.00000   \n2     16377.00000    0.00000    0.00000      0.14286         0.00000   \n3    110654.00000    0.30000    0.10000      0.00000         0.30000   \n4      1330.00000    0.00000    0.00000      0.20000         0.20000   \n...           ...        ...        ...          ...             ...   \n5797  53972.00000    0.00000    0.00000      0.09195         0.25287   \n5798 134068.00000    0.00000    0.00000      0.00000         0.21495   \n5799 119866.00000    0.00000    0.00000      0.25000         0.00000   \n5800   7473.00000    0.31664    0.06250      0.00000         0.14583   \n5801   7046.00000    0.00000    0.00000      0.00000         0.45455   \n\n      RATIO Exclaim  RATIO Period  AVG FPP  STD FPP  AVG SPP  STD SPP  \\\n0           0.00000       0.42105  0.05263  0.22330  0.73684  1.20709   \n1           0.12500       1.00000  0.37500  0.69597  0.00000  0.00000   \n2           0.14286       0.85714  0.00000  0.00000  0.00000  0.00000   \n3           0.10000       0.70000  0.20000  0.40000  0.40000  0.66332   \n4           0.20000       1.00000  0.00000  0.00000  0.00000  0.00000   \n...             ...           ...      ...      ...      ...      ...   \n5797        0.08046       0.75862  0.67816  0.82343  0.35632  0.54619   \n5798        0.06542       0.76636  0.42991  0.59769  0.72897  0.94295   \n5799        0.25000       0.75000  0.37500  0.69597  0.12500  0.33072   \n5800        0.06250       0.54167  0.10417  0.30548  0.29167  0.61095   \n5801        0.27273       0.63636  0.36364  0.64282  0.27273  0.61658   \n\n      AVG TPP  STD TPP  AVG Skepticism  \n0     0.84211  1.18158         6.00000  \n1     0.37500  0.69597         2.75000  \n2     0.28571  0.45175         3.71429  \n3     0.30000  0.64031         5.00000  \n4     0.40000  0.48990         3.20000  \n...       ...      ...             ...  \n5797  0.32184  0.70294         3.28736  \n5798  0.11215  0.37007         3.18692  \n5799  0.37500  0.48412         4.62500  \n5800  0.31250  0.61767         3.35417  \n5801  0.00000  0.00000         2.27273  \n\n[5802 rows x 36 columns]"
     },
     "execution_count": 292,
     "metadata": {},
     "output_type": "execute_result"
    }
   ],
   "source": [
    "pheme_thread"
   ]
  },
  {
   "cell_type": "code",
   "execution_count": 291,
   "metadata": {},
   "outputs": [
    {
     "data": {
      "text/html": "<div>\n<style scoped>\n    .dataframe tbody tr th:only-of-type {\n        vertical-align: middle;\n    }\n\n    .dataframe tbody tr th {\n        vertical-align: top;\n    }\n\n    .dataframe thead th {\n        text-align: right;\n    }\n</style>\n<table border=\"1\" class=\"dataframe\">\n  <thead>\n    <tr style=\"text-align: right;\">\n      <th></th>\n      <th>depth</th>\n      <th>SUM FriendsCount</th>\n      <th>AVG FriendsCount</th>\n      <th>AVG WordCount</th>\n      <th>AVG CharCount</th>\n      <th>AVG HashTag</th>\n      <th>SUM HashTag</th>\n      <th>Ratio HashTag</th>\n      <th>AVG Url</th>\n      <th>STD Url</th>\n      <th>RATIO Url</th>\n      <th>SUM Mention</th>\n      <th>AVG Mention</th>\n      <th>Ratio Mention</th>\n      <th>Tweets Count</th>\n      <th>Ratio Verified</th>\n      <th>SUM Verified</th>\n      <th>SUM RT</th>\n      <th>AVG RT</th>\n      <th>STD RT</th>\n      <th>AVG AccAge</th>\n      <th>STD AccAge</th>\n      <th>thread_time</th>\n      <th>STD Emoji</th>\n      <th>AVG Emoji</th>\n      <th>Ratio Media</th>\n      <th>RATIO Question</th>\n      <th>RATIO Exclaim</th>\n      <th>RATIO Period</th>\n      <th>AVG FPP</th>\n      <th>STD FPP</th>\n      <th>AVG SPP</th>\n      <th>STD SPP</th>\n      <th>AVG TPP</th>\n      <th>STD TPP</th>\n      <th>AVG Skepticism</th>\n    </tr>\n  </thead>\n  <tbody>\n  </tbody>\n</table>\n</div>",
      "text/plain": "Empty DataFrame\nColumns: [depth, SUM FriendsCount, AVG FriendsCount, AVG WordCount, AVG CharCount, AVG HashTag, SUM HashTag, Ratio HashTag, AVG Url, STD Url, RATIO Url, SUM Mention, AVG Mention, Ratio Mention, Tweets Count, Ratio Verified, SUM Verified, SUM RT, AVG RT, STD RT, AVG AccAge, STD AccAge, thread_time, STD Emoji, AVG Emoji, Ratio Media, RATIO Question, RATIO Exclaim, RATIO Period, AVG FPP, STD FPP, AVG SPP, STD SPP, AVG TPP, STD TPP, AVG Skepticism]\nIndex: []"
     },
     "execution_count": 291,
     "metadata": {},
     "output_type": "execute_result"
    }
   ],
   "source": [
    "np.log10(pheme_thread+1).loc[np.isinf(np.log10(pheme_thread+1).thread_time) == True]"
   ]
  },
  {
   "cell_type": "markdown",
   "metadata": {},
   "source": [
    "### Trad"
   ]
  },
  {
   "cell_type": "code",
   "execution_count": 89,
   "metadata": {},
   "outputs": [],
   "source": [
    "def train_test(X_train, X_test, y_train, y_test, clf):\n",
    "    clf.fit(X_train, y_train)\n",
    "    result = clf.predict(X_test)\n",
    "    print(\"Accuracy:\\t\\t\",accuracy_score(y_test,result))\n",
    "    print('Precision Score:\\t', str(precision_score(y_test,result)))\n",
    "    print('Recall Score:\\t\\t' + str(recall_score(y_test,result)))\n",
    "    print(\"F1 Score:\\t\\t\",f1_score(y_test, result, average='macro', zero_division=True))\n",
    "    print(classification_report(y_test, result))\n",
    "    \n",
    "pheme_all = pd.read_csv(\"./data/all/_PHEMEall.csv\")\n",
    "pheme_thread = pd.read_csv(\"./data/_PHEME_thread.csv\")\n",
    "pheme_y = pd.read_csv('./data/_PHEME_text.csv').target\n",
    "ext_all = pd.read_csv(\"./data/all/_PHEMEextall.csv\")\n",
    "ext_thread = pd.read_csv(\"./data/_PHEMEext_thread.csv\")\n",
    "ext_y = pd.read_csv('./data/_PHEMEext_text.csv').target\n",
    "\n",
    "from sklearn.model_selection import train_test_split\n",
    "from sklearn.naive_bayes import GaussianNB\n",
    "from sklearn.metrics import accuracy_score, recall_score, precision_score, f1_score\n",
    "from sklearn.metrics import classification_report\n",
    "from sklearn.preprocessing import StandardScaler\n",
    "\n",
    "from sklearn.svm import SVC\n",
    "from sklearn.svm import LinearSVC\n",
    "from sklearn.ensemble import RandomForestClassifier\n",
    "from sklearn.ensemble import AdaBoostClassifier\n",
    "from sklearn.linear_model import LogisticRegression\n",
    "\n",
    "\n",
    "# ext_thread = ext_thread.replace(-np.inf, 0)\n",
    "X_train, X_test, y_train, y_test = train_test_split(ext_thread.iloc[:,:], ext_y, test_size=0.12, random_state=42)\n"
   ]
  },
  {
   "cell_type": "code",
   "execution_count": 91,
   "metadata": {},
   "outputs": [],
   "source": [
    "scaler = StandardScaler()\n",
    "pheme_thread_scaled = scaler.fit_transform(pheme_thread)\n",
    "ext_thread_scaled = scaler.transform(ext_thread)\n",
    "\n",
    "# X_train = scaler.fit_transform(X_train)\n",
    "# X_test = scaler.transform(X_test)"
   ]
  },
  {
   "cell_type": "code",
   "execution_count": 544,
   "metadata": {},
   "outputs": [
    {
     "name": "stdout",
     "output_type": "stream",
     "text": [
      "Accuracy:\t\t 0.6907216494845361\n",
      "Precision Score:\t 0.6907216494845361\n",
      "Recall Score:\t\t1.0\n",
      "F1 Score:\t\t 0.40853658536585363\n",
      "              precision    recall  f1-score   support\n",
      "\n",
      "           0       0.00      0.00      0.00        30\n",
      "           1       0.69      1.00      0.82        67\n",
      "\n",
      "    accuracy                           0.69        97\n",
      "   macro avg       0.35      0.50      0.41        97\n",
      "weighted avg       0.48      0.69      0.56        97\n",
      "\n"
     ]
    }
   ],
   "source": [
    "# Part of X_ext\n",
    "clf = SVC()\n",
    "train_test(X_train.iloc[:,0:11], X_test.iloc[:,0:11], y_train, y_test, clf)"
   ]
  },
  {
   "cell_type": "code",
   "execution_count": 247,
   "metadata": {},
   "outputs": [
    {
     "name": "stdout",
     "output_type": "stream",
     "text": [
      "Accuracy:\t\t 0.7627118644067796\n",
      "Precision Score:\t 0.9032258064516129\n",
      "Recall Score:\t\t0.717948717948718\n",
      "F1 Score:\t\t 0.7541666666666667\n",
      "              precision    recall  f1-score   support\n",
      "\n",
      "           0       0.61      0.85      0.71        20\n",
      "           1       0.90      0.72      0.80        39\n",
      "\n",
      "    accuracy                           0.76        59\n",
      "   macro avg       0.76      0.78      0.75        59\n",
      "weighted avg       0.80      0.76      0.77        59\n",
      "\n"
     ]
    }
   ],
   "source": [
    "# All X_ext\n",
    "clf = GaussianNB()\n",
    "train_test(X_train, X_test, y_train, y_test, clf)"
   ]
  },
  {
   "cell_type": "code",
   "execution_count": 249,
   "metadata": {},
   "outputs": [
    {
     "name": "stdout",
     "output_type": "stream",
     "text": [
      "Accuracy:\t\t 0.7796610169491526\n",
      "Precision Score:\t 0.76\n",
      "Recall Score:\t\t0.9743589743589743\n",
      "F1 Score:\t\t 0.7028283611003487\n",
      "              precision    recall  f1-score   support\n",
      "\n",
      "           0       0.89      0.40      0.55        20\n",
      "           1       0.76      0.97      0.85        39\n",
      "\n",
      "    accuracy                           0.78        59\n",
      "   macro avg       0.82      0.69      0.70        59\n",
      "weighted avg       0.80      0.78      0.75        59\n",
      "\n"
     ]
    }
   ],
   "source": [
    "# 12\n",
    "clf = SVC()\n",
    "train_test(X_train, X_test, y_train, y_test, clf)"
   ]
  },
  {
   "cell_type": "code",
   "execution_count": 92,
   "metadata": {},
   "outputs": [
    {
     "name": "stdout",
     "output_type": "stream",
     "text": [
      "Accuracy:\t\t 0.6247422680412371\n",
      "Precision Score:\t 0.7741935483870968\n",
      "Recall Score:\t\t0.7154471544715447\n",
      "F1 Score:\t\t 0.5218309859154929\n",
      "              precision    recall  f1-score   support\n",
      "\n",
      "           0       0.27      0.34      0.30       116\n",
      "           1       0.77      0.72      0.74       369\n",
      "\n",
      "    accuracy                           0.62       485\n",
      "   macro avg       0.52      0.53      0.52       485\n",
      "weighted avg       0.65      0.62      0.64       485\n",
      "\n"
     ]
    }
   ],
   "source": [
    "# All PHEME/ext\n",
    "clf = GaussianNB()\n",
    "train_test(pheme_thread_scaled, ext_thread_scaled, pheme_y, ext_y, clf)"
   ]
  },
  {
   "cell_type": "code",
   "execution_count": 168,
   "metadata": {},
   "outputs": [
    {
     "name": "stdout",
     "output_type": "stream",
     "text": [
      "Accuracy:\t\t 0.27422680412371137\n",
      "Precision Score:\t 0.7297297297297297\n",
      "Recall Score:\t\t0.07317073170731707\n",
      "F1 Score:\t\t 0.2544457254655347\n",
      "              precision    recall  f1-score   support\n",
      "\n",
      "           0       0.24      0.91      0.38       116\n",
      "           1       0.73      0.07      0.13       369\n",
      "\n",
      "    accuracy                           0.27       485\n",
      "   macro avg       0.48      0.49      0.25       485\n",
      "weighted avg       0.61      0.27      0.19       485\n",
      "\n"
     ]
    }
   ],
   "source": [
    "# All PHEME/ext - log10\n",
    "clf = GaussianNB()\n",
    "train_test(pheme_thread_log_1, ext_thread_log_1, pheme_y, ext_y, clf)"
   ]
  },
  {
   "cell_type": "code",
   "execution_count": 169,
   "metadata": {},
   "outputs": [
    {
     "name": "stdout",
     "output_type": "stream",
     "text": [
      "Accuracy:\t\t 0.3422680412371134\n",
      "Precision Score:\t 0.8289473684210527\n",
      "Recall Score:\t\t0.17073170731707318\n",
      "F1 Score:\t\t 0.33776350989834136\n",
      "              precision    recall  f1-score   support\n",
      "\n",
      "           0       0.25      0.89      0.39       116\n",
      "           1       0.83      0.17      0.28       369\n",
      "\n",
      "    accuracy                           0.34       485\n",
      "   macro avg       0.54      0.53      0.34       485\n",
      "weighted avg       0.69      0.34      0.31       485\n",
      "\n"
     ]
    }
   ],
   "source": [
    "# All PHEME/ext -log10 on all data\n",
    "clf = GaussianNB()\n",
    "train_test(pheme_thread_log_2, ext_thread_log_2, pheme_y, ext_y, clf)"
   ]
  },
  {
   "cell_type": "code",
   "execution_count": 179,
   "metadata": {},
   "outputs": [
    {
     "name": "stdout",
     "output_type": "stream",
     "text": [
      "Accuracy:\t\t 0.5402061855670103\n",
      "Precision Score:\t 0.792\n",
      "Recall Score:\t\t0.5365853658536586\n",
      "F1 Score:\t\t 0.5022069416253585\n",
      "              precision    recall  f1-score   support\n",
      "\n",
      "           0       0.27      0.55      0.36       116\n",
      "           1       0.79      0.54      0.64       369\n",
      "\n",
      "    accuracy                           0.54       485\n",
      "   macro avg       0.53      0.54      0.50       485\n",
      "weighted avg       0.67      0.54      0.57       485\n",
      "\n"
     ]
    }
   ],
   "source": [
    "# All PHEME/ext -log10 on all data\n",
    "clf = GaussianNB()\n",
    "train_test(pheme_thread_log_3, ext_thread_log_3, pheme_y, ext_y, clf)"
   ]
  },
  {
   "cell_type": "code",
   "execution_count": 266,
   "metadata": {},
   "outputs": [
    {
     "name": "stdout",
     "output_type": "stream",
     "text": [
      "Accuracy:\t\t 0.3422680412371134\n",
      "Precision Score:\t 0.8289473684210527\n",
      "Recall Score:\t\t0.17073170731707318\n",
      "F1 Score:\t\t 0.33776350989834136\n",
      "              precision    recall  f1-score   support\n",
      "\n",
      "           0       0.25      0.89      0.39       116\n",
      "           1       0.83      0.17      0.28       369\n",
      "\n",
      "    accuracy                           0.34       485\n",
      "   macro avg       0.54      0.53      0.34       485\n",
      "weighted avg       0.69      0.34      0.31       485\n",
      "\n"
     ]
    }
   ],
   "source": [
    "# All PHEME/ext -log10 on all data\n",
    "clf = GaussianNB()\n",
    "train_test(pheme_thread_log_4, ext_thread_log_4, pheme_y, ext_y, clf)"
   ]
  },
  {
   "cell_type": "code",
   "execution_count": 267,
   "metadata": {},
   "outputs": [
    {
     "name": "stdout",
     "output_type": "stream",
     "text": [
      "Accuracy:\t\t 0.47835051546391755\n",
      "Precision Score:\t 0.8258426966292135\n",
      "Recall Score:\t\t0.3983739837398374\n",
      "F1 Score:\t\t 0.4696842005177608\n",
      "              precision    recall  f1-score   support\n",
      "\n",
      "           0       0.28      0.73      0.40       116\n",
      "           1       0.83      0.40      0.54       369\n",
      "\n",
      "    accuracy                           0.48       485\n",
      "   macro avg       0.55      0.57      0.47       485\n",
      "weighted avg       0.69      0.48      0.51       485\n",
      "\n"
     ]
    }
   ],
   "source": [
    "# All PHEME/ext -log10 on all data\n",
    "clf = GaussianNB()\n",
    "train_test(pheme_thread_log_5, ext_thread_log_5, pheme_y, ext_y, clf)"
   ]
  },
  {
   "cell_type": "markdown",
   "metadata": {},
   "source": [
    "### DL\n",
    "\n",
    "Training data: pheme_thread_scaled\n",
    "\n",
    "Testing data: ext_thread_scaled"
   ]
  },
  {
   "cell_type": "code",
   "execution_count": 100,
   "metadata": {},
   "outputs": [
    {
     "data": {
      "text/html": "<div>\n<style scoped>\n    .dataframe tbody tr th:only-of-type {\n        vertical-align: middle;\n    }\n\n    .dataframe tbody tr th {\n        vertical-align: top;\n    }\n\n    .dataframe thead th {\n        text-align: right;\n    }\n</style>\n<table border=\"1\" class=\"dataframe\">\n  <thead>\n    <tr style=\"text-align: right;\">\n      <th></th>\n      <th>depth</th>\n      <th>SUM FriendsCount</th>\n      <th>AVG FriendsCount</th>\n      <th>AVG WordCount</th>\n      <th>AVG CharCount</th>\n      <th>AVG HashTag</th>\n      <th>SUM HashTag</th>\n      <th>Ratio HashTag</th>\n      <th>AVG Url</th>\n      <th>STD Url</th>\n      <th>RATIO Url</th>\n      <th>SUM Mention</th>\n      <th>AVG Mention</th>\n      <th>Ratio Mention</th>\n      <th>Tweets Count</th>\n      <th>Ratio Verified</th>\n      <th>SUM Verified</th>\n      <th>SUM RT</th>\n      <th>AVG RT</th>\n      <th>STD RT</th>\n      <th>AVG AccAge</th>\n      <th>STD AccAge</th>\n      <th>thread_time</th>\n      <th>STD Emoji</th>\n      <th>AVG Emoji</th>\n      <th>Ratio Media</th>\n      <th>RATIO Question</th>\n      <th>RATIO Exclaim</th>\n      <th>RATIO Period</th>\n      <th>AVG FPP</th>\n      <th>STD FPP</th>\n      <th>AVG SPP</th>\n      <th>STD SPP</th>\n      <th>AVG TPP</th>\n      <th>STD TPP</th>\n      <th>AVG Skepticism</th>\n    </tr>\n  </thead>\n  <tbody>\n    <tr>\n      <th>count</th>\n      <td>5802.00000</td>\n      <td>5802.00000</td>\n      <td>5802.00000</td>\n      <td>5802.00000</td>\n      <td>5802.00000</td>\n      <td>5802.00000</td>\n      <td>5802.00000</td>\n      <td>5802.00000</td>\n      <td>5802.00000</td>\n      <td>5802.00000</td>\n      <td>5802.00000</td>\n      <td>5802.00000</td>\n      <td>5802.00000</td>\n      <td>5802.00000</td>\n      <td>5802.00000</td>\n      <td>5802.00000</td>\n      <td>5802.00000</td>\n      <td>5802.00000</td>\n      <td>5802.00000</td>\n      <td>5802.00000</td>\n      <td>5802.00000</td>\n      <td>5802.00000</td>\n      <td>5802.00000</td>\n      <td>5802.00000</td>\n      <td>5802.00000</td>\n      <td>5802.00000</td>\n      <td>5802.00000</td>\n      <td>5802.00000</td>\n      <td>5802.00000</td>\n      <td>5802.00000</td>\n      <td>5802.00000</td>\n      <td>5802.00000</td>\n      <td>5802.00000</td>\n      <td>5802.00000</td>\n      <td>5802.00000</td>\n      <td>5802.00000</td>\n    </tr>\n    <tr>\n      <th>mean</th>\n      <td>4.44485</td>\n      <td>47.71738</td>\n      <td>2.69625</td>\n      <td>14.12534</td>\n      <td>98.17147</td>\n      <td>0.49636</td>\n      <td>5.68218</td>\n      <td>0.30148</td>\n      <td>0.16980</td>\n      <td>0.23129</td>\n      <td>0.15955</td>\n      <td>30.27749</td>\n      <td>1.40993</td>\n      <td>0.85680</td>\n      <td>17.78904</td>\n      <td>0.09014</td>\n      <td>0.93554</td>\n      <td>593.67890</td>\n      <td>54.18365</td>\n      <td>107.02151</td>\n      <td>1301.45512</td>\n      <td>656.56185</td>\n      <td>42042.33919</td>\n      <td>0.13800</td>\n      <td>0.05157</td>\n      <td>0.15089</td>\n      <td>0.12817</td>\n      <td>0.11582</td>\n      <td>0.68090</td>\n      <td>0.28007</td>\n      <td>0.44079</td>\n      <td>0.16835</td>\n      <td>0.31677</td>\n      <td>0.36429</td>\n      <td>0.52918</td>\n      <td>3.43485</td>\n    </tr>\n    <tr>\n      <th>std</th>\n      <td>3.88666</td>\n      <td>54.60815</td>\n      <td>0.42489</td>\n      <td>3.31060</td>\n      <td>20.47492</td>\n      <td>0.58934</td>\n      <td>6.19011</td>\n      <td>0.26675</td>\n      <td>0.24628</td>\n      <td>0.22348</td>\n      <td>0.22659</td>\n      <td>46.74222</td>\n      <td>0.65022</td>\n      <td>0.22467</td>\n      <td>20.09487</td>\n      <td>0.16636</td>\n      <td>1.54716</td>\n      <td>3559.90091</td>\n      <td>253.02338</td>\n      <td>618.82036</td>\n      <td>404.98186</td>\n      <td>278.92828</td>\n      <td>105966.08161</td>\n      <td>0.57902</td>\n      <td>0.22355</td>\n      <td>0.23264</td>\n      <td>0.13394</td>\n      <td>0.13547</td>\n      <td>0.22620</td>\n      <td>0.28947</td>\n      <td>0.32284</td>\n      <td>0.22777</td>\n      <td>0.29921</td>\n      <td>0.33694</td>\n      <td>0.36382</td>\n      <td>1.18817</td>\n    </tr>\n    <tr>\n      <th>min</th>\n      <td>1.00000</td>\n      <td>0.00000</td>\n      <td>0.00000</td>\n      <td>4.00000</td>\n      <td>32.05263</td>\n      <td>0.00000</td>\n      <td>0.00000</td>\n      <td>0.00000</td>\n      <td>0.00000</td>\n      <td>0.00000</td>\n      <td>0.00000</td>\n      <td>0.00000</td>\n      <td>0.00000</td>\n      <td>0.00000</td>\n      <td>1.00000</td>\n      <td>0.00000</td>\n      <td>0.00000</td>\n      <td>25.00000</td>\n      <td>0.80399</td>\n      <td>0.00000</td>\n      <td>0.00000</td>\n      <td>0.00000</td>\n      <td>0.00000</td>\n      <td>0.00000</td>\n      <td>0.00000</td>\n      <td>0.00000</td>\n      <td>0.00000</td>\n      <td>0.00000</td>\n      <td>0.00000</td>\n      <td>0.00000</td>\n      <td>0.00000</td>\n      <td>0.00000</td>\n      <td>0.00000</td>\n      <td>0.00000</td>\n      <td>0.00000</td>\n      <td>0.00000</td>\n    </tr>\n    <tr>\n      <th>25%</th>\n      <td>2.00000</td>\n      <td>17.68543</td>\n      <td>2.45857</td>\n      <td>12.00000</td>\n      <td>85.55952</td>\n      <td>0.14286</td>\n      <td>2.00000</td>\n      <td>0.10526</td>\n      <td>0.00000</td>\n      <td>0.00000</td>\n      <td>0.00000</td>\n      <td>8.00000</td>\n      <td>1.00000</td>\n      <td>0.85714</td>\n      <td>7.00000</td>\n      <td>0.00000</td>\n      <td>0.00000</td>\n      <td>135.00000</td>\n      <td>11.36364</td>\n      <td>35.36346</td>\n      <td>1050.45909</td>\n      <td>550.85241</td>\n      <td>852.50000</td>\n      <td>0.00000</td>\n      <td>0.00000</td>\n      <td>0.00000</td>\n      <td>0.00000</td>\n      <td>0.00000</td>\n      <td>0.54545</td>\n      <td>0.06667</td>\n      <td>0.22330</td>\n      <td>0.00000</td>\n      <td>0.00000</td>\n      <td>0.12500</td>\n      <td>0.31427</td>\n      <td>2.66667</td>\n    </tr>\n    <tr>\n      <th>50%</th>\n      <td>3.00000</td>\n      <td>37.92571</td>\n      <td>2.66155</td>\n      <td>14.03274</td>\n      <td>97.69925</td>\n      <td>0.33333</td>\n      <td>4.00000</td>\n      <td>0.23077</td>\n      <td>0.06667</td>\n      <td>0.22906</td>\n      <td>0.06667</td>\n      <td>20.00000</td>\n      <td>1.33333</td>\n      <td>0.93750</td>\n      <td>14.00000</td>\n      <td>0.04348</td>\n      <td>1.00000</td>\n      <td>214.00000</td>\n      <td>21.14286</td>\n      <td>54.70362</td>\n      <td>1278.36250</td>\n      <td>671.42693</td>\n      <td>6901.50000</td>\n      <td>0.00000</td>\n      <td>0.00000</td>\n      <td>0.05000</td>\n      <td>0.11111</td>\n      <td>0.09091</td>\n      <td>0.68182</td>\n      <td>0.22500</td>\n      <td>0.44536</td>\n      <td>0.10526</td>\n      <td>0.30689</td>\n      <td>0.32143</td>\n      <td>0.53619</td>\n      <td>3.34580</td>\n    </tr>\n    <tr>\n      <th>75%</th>\n      <td>5.00000</td>\n      <td>57.75385</td>\n      <td>2.88499</td>\n      <td>16.00000</td>\n      <td>109.60000</td>\n      <td>0.65217</td>\n      <td>8.00000</td>\n      <td>0.42105</td>\n      <td>0.25000</td>\n      <td>0.41574</td>\n      <td>0.22727</td>\n      <td>34.00000</td>\n      <td>1.73684</td>\n      <td>0.96296</td>\n      <td>21.00000</td>\n      <td>0.10526</td>\n      <td>1.00000</td>\n      <td>486.00000</td>\n      <td>42.74107</td>\n      <td>97.66895</td>\n      <td>1524.67544</td>\n      <td>783.81545</td>\n      <td>30902.25000</td>\n      <td>0.00000</td>\n      <td>0.00000</td>\n      <td>0.20000</td>\n      <td>0.20000</td>\n      <td>0.16667</td>\n      <td>0.81818</td>\n      <td>0.40000</td>\n      <td>0.65555</td>\n      <td>0.25000</td>\n      <td>0.51034</td>\n      <td>0.52174</td>\n      <td>0.76244</td>\n      <td>4.04545</td>\n    </tr>\n    <tr>\n      <th>max</th>\n      <td>48.00000</td>\n      <td>986.34693</td>\n      <td>5.83813</td>\n      <td>37.75000</td>\n      <td>228.00000</td>\n      <td>7.50000</td>\n      <td>97.00000</td>\n      <td>1.00000</td>\n      <td>2.66667</td>\n      <td>2.16025</td>\n      <td>1.00000</td>\n      <td>972.00000</td>\n      <td>6.16667</td>\n      <td>1.00000</td>\n      <td>346.00000</td>\n      <td>1.00000</td>\n      <td>40.00000</td>\n      <td>207563.00000</td>\n      <td>13837.53333</td>\n      <td>35263.04180</td>\n      <td>3462.66667</td>\n      <td>2233.77450</td>\n      <td>1317255.00000</td>\n      <td>25.43456</td>\n      <td>7.16667</td>\n      <td>1.66667</td>\n      <td>1.00000</td>\n      <td>1.66667</td>\n      <td>1.66667</td>\n      <td>4.00000</td>\n      <td>3.05505</td>\n      <td>4.00000</td>\n      <td>2.73354</td>\n      <td>6.00000</td>\n      <td>3.76663</td>\n      <td>12.00000</td>\n    </tr>\n  </tbody>\n</table>\n</div>",
      "text/plain": "           depth  SUM FriendsCount  AVG FriendsCount  AVG WordCount  \\\ncount 5802.00000        5802.00000        5802.00000     5802.00000   \nmean     4.44485          47.71738           2.69625       14.12534   \nstd      3.88666          54.60815           0.42489        3.31060   \nmin      1.00000           0.00000           0.00000        4.00000   \n25%      2.00000          17.68543           2.45857       12.00000   \n50%      3.00000          37.92571           2.66155       14.03274   \n75%      5.00000          57.75385           2.88499       16.00000   \nmax     48.00000         986.34693           5.83813       37.75000   \n\n       AVG CharCount  AVG HashTag  SUM HashTag  Ratio HashTag    AVG Url  \\\ncount     5802.00000   5802.00000   5802.00000     5802.00000 5802.00000   \nmean        98.17147      0.49636      5.68218        0.30148    0.16980   \nstd         20.47492      0.58934      6.19011        0.26675    0.24628   \nmin         32.05263      0.00000      0.00000        0.00000    0.00000   \n25%         85.55952      0.14286      2.00000        0.10526    0.00000   \n50%         97.69925      0.33333      4.00000        0.23077    0.06667   \n75%        109.60000      0.65217      8.00000        0.42105    0.25000   \nmax        228.00000      7.50000     97.00000        1.00000    2.66667   \n\n         STD Url  RATIO Url  SUM Mention  AVG Mention  Ratio Mention  \\\ncount 5802.00000 5802.00000   5802.00000   5802.00000     5802.00000   \nmean     0.23129    0.15955     30.27749      1.40993        0.85680   \nstd      0.22348    0.22659     46.74222      0.65022        0.22467   \nmin      0.00000    0.00000      0.00000      0.00000        0.00000   \n25%      0.00000    0.00000      8.00000      1.00000        0.85714   \n50%      0.22906    0.06667     20.00000      1.33333        0.93750   \n75%      0.41574    0.22727     34.00000      1.73684        0.96296   \nmax      2.16025    1.00000    972.00000      6.16667        1.00000   \n\n       Tweets Count  Ratio Verified  SUM Verified       SUM RT      AVG RT  \\\ncount    5802.00000      5802.00000    5802.00000   5802.00000  5802.00000   \nmean       17.78904         0.09014       0.93554    593.67890    54.18365   \nstd        20.09487         0.16636       1.54716   3559.90091   253.02338   \nmin         1.00000         0.00000       0.00000     25.00000     0.80399   \n25%         7.00000         0.00000       0.00000    135.00000    11.36364   \n50%        14.00000         0.04348       1.00000    214.00000    21.14286   \n75%        21.00000         0.10526       1.00000    486.00000    42.74107   \nmax       346.00000         1.00000      40.00000 207563.00000 13837.53333   \n\n           STD RT  AVG AccAge  STD AccAge   thread_time  STD Emoji  AVG Emoji  \\\ncount  5802.00000  5802.00000  5802.00000    5802.00000 5802.00000 5802.00000   \nmean    107.02151  1301.45512   656.56185   42042.33919    0.13800    0.05157   \nstd     618.82036   404.98186   278.92828  105966.08161    0.57902    0.22355   \nmin       0.00000     0.00000     0.00000       0.00000    0.00000    0.00000   \n25%      35.36346  1050.45909   550.85241     852.50000    0.00000    0.00000   \n50%      54.70362  1278.36250   671.42693    6901.50000    0.00000    0.00000   \n75%      97.66895  1524.67544   783.81545   30902.25000    0.00000    0.00000   \nmax   35263.04180  3462.66667  2233.77450 1317255.00000   25.43456    7.16667   \n\n       Ratio Media  RATIO Question  RATIO Exclaim  RATIO Period    AVG FPP  \\\ncount   5802.00000      5802.00000     5802.00000    5802.00000 5802.00000   \nmean       0.15089         0.12817        0.11582       0.68090    0.28007   \nstd        0.23264         0.13394        0.13547       0.22620    0.28947   \nmin        0.00000         0.00000        0.00000       0.00000    0.00000   \n25%        0.00000         0.00000        0.00000       0.54545    0.06667   \n50%        0.05000         0.11111        0.09091       0.68182    0.22500   \n75%        0.20000         0.20000        0.16667       0.81818    0.40000   \nmax        1.66667         1.00000        1.66667       1.66667    4.00000   \n\n         STD FPP    AVG SPP    STD SPP    AVG TPP    STD TPP  AVG Skepticism  \ncount 5802.00000 5802.00000 5802.00000 5802.00000 5802.00000      5802.00000  \nmean     0.44079    0.16835    0.31677    0.36429    0.52918         3.43485  \nstd      0.32284    0.22777    0.29921    0.33694    0.36382         1.18817  \nmin      0.00000    0.00000    0.00000    0.00000    0.00000         0.00000  \n25%      0.22330    0.00000    0.00000    0.12500    0.31427         2.66667  \n50%      0.44536    0.10526    0.30689    0.32143    0.53619         3.34580  \n75%      0.65555    0.25000    0.51034    0.52174    0.76244         4.04545  \nmax      3.05505    4.00000    2.73354    6.00000    3.76663        12.00000  "
     },
     "execution_count": 100,
     "metadata": {},
     "output_type": "execute_result"
    }
   ],
   "source": [
    "# pheme_thread.info()\n",
    "pheme_thread.describe()#.to_csv('./data/threadstat.csv')"
   ]
  },
  {
   "cell_type": "code",
   "execution_count": 101,
   "metadata": {},
   "outputs": [
    {
     "data": {
      "text/html": "<div>\n<style scoped>\n    .dataframe tbody tr th:only-of-type {\n        vertical-align: middle;\n    }\n\n    .dataframe tbody tr th {\n        vertical-align: top;\n    }\n\n    .dataframe thead th {\n        text-align: right;\n    }\n</style>\n<table border=\"1\" class=\"dataframe\">\n  <thead>\n    <tr style=\"text-align: right;\">\n      <th></th>\n      <th>depth</th>\n      <th>SUM FriendsCount</th>\n      <th>AVG FriendsCount</th>\n      <th>AVG WordCount</th>\n      <th>AVG CharCount</th>\n      <th>AVG HashTag</th>\n      <th>SUM HashTag</th>\n      <th>Ratio HashTag</th>\n      <th>AVG Url</th>\n      <th>STD Url</th>\n      <th>RATIO Url</th>\n      <th>SUM Mention</th>\n      <th>AVG Mention</th>\n      <th>Ratio Mention</th>\n      <th>Tweets Count</th>\n      <th>Ratio Verified</th>\n      <th>SUM Verified</th>\n      <th>SUM RT</th>\n      <th>AVG RT</th>\n      <th>STD RT</th>\n      <th>AVG AccAge</th>\n      <th>STD AccAge</th>\n      <th>thread_time</th>\n      <th>STD Emoji</th>\n      <th>AVG Emoji</th>\n      <th>Ratio Media</th>\n      <th>RATIO Question</th>\n      <th>RATIO Exclaim</th>\n      <th>RATIO Period</th>\n      <th>AVG FPP</th>\n      <th>STD FPP</th>\n      <th>AVG SPP</th>\n      <th>STD SPP</th>\n      <th>AVG TPP</th>\n      <th>STD TPP</th>\n      <th>AVG Skepticism</th>\n    </tr>\n  </thead>\n  <tbody>\n    <tr>\n      <th>count</th>\n      <td>485.00000</td>\n      <td>485.00000</td>\n      <td>485.00000</td>\n      <td>485.00000</td>\n      <td>485.00000</td>\n      <td>485.00000</td>\n      <td>485.00000</td>\n      <td>485.00000</td>\n      <td>485.00000</td>\n      <td>485.00000</td>\n      <td>485.00000</td>\n      <td>485.00000</td>\n      <td>485.00000</td>\n      <td>485.00000</td>\n      <td>485.00000</td>\n      <td>485.00000</td>\n      <td>485.00000</td>\n      <td>485.00000</td>\n      <td>485.00000</td>\n      <td>485.00000</td>\n      <td>485.00000</td>\n      <td>485.00000</td>\n      <td>485.00000</td>\n      <td>485.00000</td>\n      <td>485.00000</td>\n      <td>485.00000</td>\n      <td>485.00000</td>\n      <td>485.00000</td>\n      <td>485.00000</td>\n      <td>485.00000</td>\n      <td>485.00000</td>\n      <td>485.00000</td>\n      <td>485.00000</td>\n      <td>485.00000</td>\n      <td>485.00000</td>\n      <td>485.00000</td>\n    </tr>\n    <tr>\n      <th>mean</th>\n      <td>2.19794</td>\n      <td>7.61952</td>\n      <td>1.91587</td>\n      <td>10.01375</td>\n      <td>69.41844</td>\n      <td>0.59794</td>\n      <td>1.25361</td>\n      <td>0.29762</td>\n      <td>0.22614</td>\n      <td>0.10124</td>\n      <td>0.22078</td>\n      <td>3.59381</td>\n      <td>0.60497</td>\n      <td>0.40513</td>\n      <td>4.04742</td>\n      <td>0.06684</td>\n      <td>0.15258</td>\n      <td>40.95258</td>\n      <td>4.41943</td>\n      <td>9.69219</td>\n      <td>986.42153</td>\n      <td>370.60815</td>\n      <td>15581.70722</td>\n      <td>0.06312</td>\n      <td>0.03985</td>\n      <td>0.13214</td>\n      <td>0.15139</td>\n      <td>0.10150</td>\n      <td>0.52345</td>\n      <td>0.18014</td>\n      <td>0.19884</td>\n      <td>0.06492</td>\n      <td>0.06322</td>\n      <td>0.24703</td>\n      <td>0.20441</td>\n      <td>2.26836</td>\n    </tr>\n    <tr>\n      <th>std</th>\n      <td>1.70257</td>\n      <td>9.62440</td>\n      <td>1.05029</td>\n      <td>6.36584</td>\n      <td>42.83633</td>\n      <td>0.96245</td>\n      <td>1.75798</td>\n      <td>0.39206</td>\n      <td>0.37453</td>\n      <td>0.18859</td>\n      <td>0.35968</td>\n      <td>6.05126</td>\n      <td>0.66793</td>\n      <td>0.35595</td>\n      <td>4.83785</td>\n      <td>0.21699</td>\n      <td>0.38759</td>\n      <td>482.16712</td>\n      <td>25.62266</td>\n      <td>107.48288</td>\n      <td>709.21957</td>\n      <td>392.53652</td>\n      <td>51235.86482</td>\n      <td>0.25042</td>\n      <td>0.20250</td>\n      <td>0.29372</td>\n      <td>0.28140</td>\n      <td>0.21562</td>\n      <td>0.38458</td>\n      <td>0.33362</td>\n      <td>0.35683</td>\n      <td>0.22990</td>\n      <td>0.16169</td>\n      <td>0.40823</td>\n      <td>0.32968</td>\n      <td>1.75281</td>\n    </tr>\n    <tr>\n      <th>min</th>\n      <td>1.00000</td>\n      <td>0.00000</td>\n      <td>0.00000</td>\n      <td>0.00000</td>\n      <td>0.00000</td>\n      <td>0.00000</td>\n      <td>0.00000</td>\n      <td>0.00000</td>\n      <td>0.00000</td>\n      <td>0.00000</td>\n      <td>0.00000</td>\n      <td>0.00000</td>\n      <td>0.00000</td>\n      <td>0.00000</td>\n      <td>1.00000</td>\n      <td>0.00000</td>\n      <td>0.00000</td>\n      <td>0.00000</td>\n      <td>0.00000</td>\n      <td>0.00000</td>\n      <td>0.00000</td>\n      <td>0.00000</td>\n      <td>0.00000</td>\n      <td>0.00000</td>\n      <td>0.00000</td>\n      <td>0.00000</td>\n      <td>0.00000</td>\n      <td>0.00000</td>\n      <td>0.00000</td>\n      <td>0.00000</td>\n      <td>0.00000</td>\n      <td>0.00000</td>\n      <td>0.00000</td>\n      <td>0.00000</td>\n      <td>0.00000</td>\n      <td>0.00000</td>\n    </tr>\n    <tr>\n      <th>25%</th>\n      <td>1.00000</td>\n      <td>2.48855</td>\n      <td>1.31377</td>\n      <td>5.50000</td>\n      <td>39.40000</td>\n      <td>0.00000</td>\n      <td>0.00000</td>\n      <td>0.00000</td>\n      <td>0.00000</td>\n      <td>0.00000</td>\n      <td>0.00000</td>\n      <td>0.00000</td>\n      <td>0.00000</td>\n      <td>0.00000</td>\n      <td>1.00000</td>\n      <td>0.00000</td>\n      <td>0.00000</td>\n      <td>0.00000</td>\n      <td>0.00000</td>\n      <td>0.00000</td>\n      <td>475.66667</td>\n      <td>0.00000</td>\n      <td>0.00000</td>\n      <td>0.00000</td>\n      <td>0.00000</td>\n      <td>0.00000</td>\n      <td>0.00000</td>\n      <td>0.00000</td>\n      <td>0.16667</td>\n      <td>0.00000</td>\n      <td>0.00000</td>\n      <td>0.00000</td>\n      <td>0.00000</td>\n      <td>0.00000</td>\n      <td>0.00000</td>\n      <td>1.00000</td>\n    </tr>\n    <tr>\n      <th>50%</th>\n      <td>2.00000</td>\n      <td>3.79844</td>\n      <td>2.07485</td>\n      <td>10.00000</td>\n      <td>69.53333</td>\n      <td>0.04167</td>\n      <td>1.00000</td>\n      <td>0.04167</td>\n      <td>0.00000</td>\n      <td>0.00000</td>\n      <td>0.00000</td>\n      <td>1.00000</td>\n      <td>0.50000</td>\n      <td>0.50000</td>\n      <td>2.00000</td>\n      <td>0.00000</td>\n      <td>0.00000</td>\n      <td>3.00000</td>\n      <td>2.00000</td>\n      <td>0.00000</td>\n      <td>938.46154</td>\n      <td>209.00000</td>\n      <td>561.00000</td>\n      <td>0.00000</td>\n      <td>0.00000</td>\n      <td>0.00000</td>\n      <td>0.00000</td>\n      <td>0.00000</td>\n      <td>0.50000</td>\n      <td>0.00000</td>\n      <td>0.00000</td>\n      <td>0.00000</td>\n      <td>0.00000</td>\n      <td>0.00000</td>\n      <td>0.00000</td>\n      <td>2.00000</td>\n    </tr>\n    <tr>\n      <th>75%</th>\n      <td>3.00000</td>\n      <td>9.19258</td>\n      <td>2.70672</td>\n      <td>15.00000</td>\n      <td>104.00000</td>\n      <td>1.00000</td>\n      <td>2.00000</td>\n      <td>0.50000</td>\n      <td>0.33333</td>\n      <td>0.00000</td>\n      <td>0.33333</td>\n      <td>4.00000</td>\n      <td>1.00000</td>\n      <td>0.66667</td>\n      <td>5.00000</td>\n      <td>0.00000</td>\n      <td>0.00000</td>\n      <td>8.00000</td>\n      <td>4.00000</td>\n      <td>2.49444</td>\n      <td>1443.00000</td>\n      <td>726.71193</td>\n      <td>6964.00000</td>\n      <td>0.00000</td>\n      <td>0.00000</td>\n      <td>0.05556</td>\n      <td>0.16667</td>\n      <td>0.11111</td>\n      <td>1.00000</td>\n      <td>0.25000</td>\n      <td>0.40000</td>\n      <td>0.00000</td>\n      <td>0.00000</td>\n      <td>0.40000</td>\n      <td>0.43301</td>\n      <td>3.00000</td>\n    </tr>\n    <tr>\n      <th>max</th>\n      <td>16.00000</td>\n      <td>57.40306</td>\n      <td>4.38684</td>\n      <td>29.00000</td>\n      <td>143.00000</td>\n      <td>6.00000</td>\n      <td>12.00000</td>\n      <td>1.00000</td>\n      <td>2.00000</td>\n      <td>0.94281</td>\n      <td>1.00000</td>\n      <td>38.00000</td>\n      <td>6.50000</td>\n      <td>1.00000</td>\n      <td>27.00000</td>\n      <td>1.00000</td>\n      <td>3.00000</td>\n      <td>10415.00000</td>\n      <td>548.15789</td>\n      <td>2322.57324</td>\n      <td>3021.00000</td>\n      <td>1432.00000</td>\n      <td>753999.00000</td>\n      <td>2.76385</td>\n      <td>3.00000</td>\n      <td>1.00000</td>\n      <td>1.00000</td>\n      <td>1.00000</td>\n      <td>1.00000</td>\n      <td>2.00000</td>\n      <td>2.00000</td>\n      <td>2.00000</td>\n      <td>1.00000</td>\n      <td>2.00000</td>\n      <td>2.00000</td>\n      <td>9.00000</td>\n    </tr>\n  </tbody>\n</table>\n</div>",
      "text/plain": "          depth  SUM FriendsCount  AVG FriendsCount  AVG WordCount  \\\ncount 485.00000         485.00000         485.00000      485.00000   \nmean    2.19794           7.61952           1.91587       10.01375   \nstd     1.70257           9.62440           1.05029        6.36584   \nmin     1.00000           0.00000           0.00000        0.00000   \n25%     1.00000           2.48855           1.31377        5.50000   \n50%     2.00000           3.79844           2.07485       10.00000   \n75%     3.00000           9.19258           2.70672       15.00000   \nmax    16.00000          57.40306           4.38684       29.00000   \n\n       AVG CharCount  AVG HashTag  SUM HashTag  Ratio HashTag   AVG Url  \\\ncount      485.00000    485.00000    485.00000      485.00000 485.00000   \nmean        69.41844      0.59794      1.25361        0.29762   0.22614   \nstd         42.83633      0.96245      1.75798        0.39206   0.37453   \nmin          0.00000      0.00000      0.00000        0.00000   0.00000   \n25%         39.40000      0.00000      0.00000        0.00000   0.00000   \n50%         69.53333      0.04167      1.00000        0.04167   0.00000   \n75%        104.00000      1.00000      2.00000        0.50000   0.33333   \nmax        143.00000      6.00000     12.00000        1.00000   2.00000   \n\n        STD Url  RATIO Url  SUM Mention  AVG Mention  Ratio Mention  \\\ncount 485.00000  485.00000    485.00000    485.00000      485.00000   \nmean    0.10124    0.22078      3.59381      0.60497        0.40513   \nstd     0.18859    0.35968      6.05126      0.66793        0.35595   \nmin     0.00000    0.00000      0.00000      0.00000        0.00000   \n25%     0.00000    0.00000      0.00000      0.00000        0.00000   \n50%     0.00000    0.00000      1.00000      0.50000        0.50000   \n75%     0.00000    0.33333      4.00000      1.00000        0.66667   \nmax     0.94281    1.00000     38.00000      6.50000        1.00000   \n\n       Tweets Count  Ratio Verified  SUM Verified      SUM RT    AVG RT  \\\ncount     485.00000       485.00000     485.00000   485.00000 485.00000   \nmean        4.04742         0.06684       0.15258    40.95258   4.41943   \nstd         4.83785         0.21699       0.38759   482.16712  25.62266   \nmin         1.00000         0.00000       0.00000     0.00000   0.00000   \n25%         1.00000         0.00000       0.00000     0.00000   0.00000   \n50%         2.00000         0.00000       0.00000     3.00000   2.00000   \n75%         5.00000         0.00000       0.00000     8.00000   4.00000   \nmax        27.00000         1.00000       3.00000 10415.00000 548.15789   \n\n          STD RT  AVG AccAge  STD AccAge  thread_time  STD Emoji  AVG Emoji  \\\ncount  485.00000   485.00000   485.00000    485.00000  485.00000  485.00000   \nmean     9.69219   986.42153   370.60815  15581.70722    0.06312    0.03985   \nstd    107.48288   709.21957   392.53652  51235.86482    0.25042    0.20250   \nmin      0.00000     0.00000     0.00000      0.00000    0.00000    0.00000   \n25%      0.00000   475.66667     0.00000      0.00000    0.00000    0.00000   \n50%      0.00000   938.46154   209.00000    561.00000    0.00000    0.00000   \n75%      2.49444  1443.00000   726.71193   6964.00000    0.00000    0.00000   \nmax   2322.57324  3021.00000  1432.00000 753999.00000    2.76385    3.00000   \n\n       Ratio Media  RATIO Question  RATIO Exclaim  RATIO Period   AVG FPP  \\\ncount    485.00000       485.00000      485.00000     485.00000 485.00000   \nmean       0.13214         0.15139        0.10150       0.52345   0.18014   \nstd        0.29372         0.28140        0.21562       0.38458   0.33362   \nmin        0.00000         0.00000        0.00000       0.00000   0.00000   \n25%        0.00000         0.00000        0.00000       0.16667   0.00000   \n50%        0.00000         0.00000        0.00000       0.50000   0.00000   \n75%        0.05556         0.16667        0.11111       1.00000   0.25000   \nmax        1.00000         1.00000        1.00000       1.00000   2.00000   \n\n        STD FPP   AVG SPP   STD SPP   AVG TPP   STD TPP  AVG Skepticism  \ncount 485.00000 485.00000 485.00000 485.00000 485.00000       485.00000  \nmean    0.19884   0.06492   0.06322   0.24703   0.20441         2.26836  \nstd     0.35683   0.22990   0.16169   0.40823   0.32968         1.75281  \nmin     0.00000   0.00000   0.00000   0.00000   0.00000         0.00000  \n25%     0.00000   0.00000   0.00000   0.00000   0.00000         1.00000  \n50%     0.00000   0.00000   0.00000   0.00000   0.00000         2.00000  \n75%     0.40000   0.00000   0.00000   0.40000   0.43301         3.00000  \nmax     2.00000   2.00000   1.00000   2.00000   2.00000         9.00000  "
     },
     "execution_count": 101,
     "metadata": {},
     "output_type": "execute_result"
    }
   ],
   "source": [
    "# ext_thread.info()\n",
    "ext_thread.describe()\n",
    "# ext_thread.describe().to_csv('./data/threadextstat.csv')"
   ]
  },
  {
   "cell_type": "code",
   "execution_count": 181,
   "metadata": {},
   "outputs": [],
   "source": [
    "from fetchData import fetchdata \n",
    "import __MLP\n",
    "from sklearn.metrics import classification_report\n",
    "from sklearn.preprocessing import StandardScaler\n",
    "\n",
    "import pandas as pd\n",
    "import numpy as np\n",
    "import matplotlib.pyplot as plt\n",
    "import torch\n",
    "import torch.nn as nn\n",
    "import torch.nn.functional as F\n",
    "import torch.optim as optim\n",
    "from sklearn.model_selection import train_test_split\n",
    "\n",
    "from torch.utils.data import TensorDataset, DataLoader, RandomSampler, SequentialSampler\n",
    "from torch.utils.data.sampler import WeightedRandomSampler\n",
    "from torch.optim import lr_scheduler\n",
    "\n",
    "from sklearn.metrics import accuracy_score\n",
    "from sklearn.metrics import classification_report\n",
    "from sklearn.metrics import f1_score\n",
    "from transformers import AdamW, get_linear_schedule_with_warmup\n",
    "\n",
    "from sklearn.model_selection import train_test_split\n"
   ]
  },
  {
   "cell_type": "code",
   "execution_count": 3,
   "metadata": {},
   "outputs": [
    {
     "name": "stdout",
     "output_type": "stream",
     "text": [
      "torch.Size([5802, 36]) torch.Size([485, 36])\n",
      "torch.Size([5105, 36]) torch.Size([697, 36])\n",
      "torch.Size([5105, 36]) torch.Size([697, 36])\n",
      "torch.Size([5802, 36]) torch.Size([485, 36])\n"
     ]
    }
   ],
   "source": [
    "pheme_thread = pd.read_csv(\"./data/all/_PHEME_thread.csv\")\n",
    "ext_thread = pd.read_csv(\"./data/all/_PHEMEext_thread.csv\")\n",
    "pheme_y = pd.read_csv('./data/_PHEME_target.csv')\n",
    "ext_y = pd.read_csv('./data/_PHEMEext_target.csv')\n",
    "# pd.read_csv('./data/_PHEME_text.csv').target\n",
    "X_train, X_test, y_train, y_test = train_test_split(pheme_thread, pheme_y, test_size=0.12, random_state=42)\n",
    "print(torch.Tensor(pheme_thread.values).shape,torch.Tensor(ext_thread.values).shape)\n",
    "print(torch.Tensor(X_train.values).shape,torch.Tensor(X_test.values).shape)\n",
    "\n",
    "scaler = StandardScaler()\n",
    "\n",
    "pheme_thread_scaled = scaler.fit_transform(X_train)\n",
    "ext_thread_scaled = scaler.transform(X_test)\n",
    "print(torch.Tensor(pheme_thread_scaled).shape,torch.Tensor(ext_thread_scaled).shape)\n",
    "\n",
    "pheme_thread_scaled = scaler.fit_transform(pheme_thread)\n",
    "ext_thread_scaled = scaler.transform(ext_thread)\n",
    "print(torch.Tensor(pheme_thread_scaled).shape,torch.Tensor(ext_thread_scaled).shape)"
   ]
  },
  {
   "cell_type": "code",
   "execution_count": 6,
   "metadata": {},
   "outputs": [],
   "source": [
    "# scaler = StandardScaler()\n",
    "# pheme_thread_scaled = scaler.fit_transform(pheme_thread)\n",
    "# ext_thread_scaled = scaler.transform(ext_thread)"
   ]
  },
  {
   "cell_type": "code",
   "execution_count": 289,
   "metadata": {},
   "outputs": [
    {
     "name": "stdout",
     "output_type": "stream",
     "text": [
      "(5802, 36) (485, 36)\n",
      "(5802, 36) (485, 36)\n",
      "(5802,) (485,)\n"
     ]
    }
   ],
   "source": [
    "print(pheme_thread.shape, ext_thread.shape)\n",
    "print(pheme_thread_scaled.shape, ext_thread_scaled.shape)\n",
    "print(pheme_y.shape, ext_y.shape)"
   ]
  },
  {
   "cell_type": "code",
   "execution_count": 290,
   "metadata": {},
   "outputs": [
    {
     "name": "stdout",
     "output_type": "stream",
     "text": [
      "(426, 36) (59, 36)\n",
      "(426,) (59,)\n",
      "(5802, 36) (485, 36)\n",
      "(5802, 36) (485, 36)\n",
      "(5802,) (485,)\n"
     ]
    }
   ],
   "source": [
    "print(X_train.shape, X_test.shape)\n",
    "print(y_train.shape, y_test.shape)\n",
    "print(pheme_thread.shape, ext_thread.shape)\n",
    "print(pheme_thread_scaled.shape, ext_thread_scaled.shape)\n",
    "print(pheme_y.shape, ext_y.shape)"
   ]
  },
  {
   "cell_type": "code",
   "execution_count": 279,
   "metadata": {},
   "outputs": [
    {
     "name": "stdout",
     "output_type": "stream",
     "text": [
      "Train X Size: torch.Size([5802, 1, 36]) / Train y Size: torch.Size([5802, 1])\n",
      "Test X Size: torch.Size([485, 1, 36]) / Test y Size: torch.Size([485, 1])\n",
      "\n",
      "Train X Size: torch.Size([5802, 1, 36]) / Train y Size: torch.Size([5802, 1])\n",
      "Test X Size: torch.Size([485, 1, 36]) / Test y Size: torch.Size([485, 1])\n",
      "Train Size 5802 Test Size 485\n"
     ]
    }
   ],
   "source": [
    "# ------------------------------ Data candidate ------------------------------ #\n",
    "# ext_thread_log_1\n",
    "# ext_thread_log_2\n",
    "# ext_thread_log_3\n",
    "\n",
    "# -------------------------- only training/valid set ------------------------- #\n",
    "\n",
    "# tensor_x1 = torch.Tensor(pheme_sparse.values).unsqueeze(1)\n",
    "# tensor_x1 = torch.Tensor(X_train.values).unsqueeze(1)\n",
    "# tensor_x1 = torch.Tensor(pheme_thread_scaled).unsqueeze(1)\n",
    "tensor_x1 = torch.Tensor(pheme_thread.values).unsqueeze(1)\n",
    "tensor_x1 = torch.Tensor(pheme_thread_log_3.values).unsqueeze(1)\n",
    "tensor_x1 = torch.Tensor(pheme_thread_log_2.values).unsqueeze(1)\n",
    "tensor_x1 = torch.Tensor(pheme_thread_log_1.values).unsqueeze(1)\n",
    "tensor_x1 = torch.Tensor(pheme_thread_log_4.values).unsqueeze(1)\n",
    "tensor_x1 = torch.Tensor(pheme_thread_log_5.values).unsqueeze(1)\n",
    "# tensor_x1 = torch.Tensor(pheme_thread_log_1.values).unsqueeze(1)\n",
    "\n",
    "\n",
    "# tensor_y1 = torch.Tensor(y_train.values)\n",
    "tensor_y1 = torch.Tensor(pheme_y.values).unsqueeze(1)\n",
    "train_dataset = TensorDataset(tensor_x1,tensor_y1)\n",
    "\n",
    "# tensor_x2 = torch.Tensor(ext_sparse.values).unsqueeze(1)\n",
    "# tensor_x2 = torch.Tensor(X_test.values).unsqueeze(1)\n",
    "\n",
    "tensor_x2 = torch.Tensor(ext_thread.values).unsqueeze(1)\n",
    "tensor_x2 = torch.Tensor(ext_thread_log_3.values).unsqueeze(1)\n",
    "tensor_x2 = torch.Tensor(ext_thread_log_2.values).unsqueeze(1)\n",
    "tensor_x2 = torch.Tensor(ext_thread_log_1.values).unsqueeze(1)\n",
    "tensor_x2 = torch.Tensor(ext_thread_log_4.values).unsqueeze(1)\n",
    "tensor_x2 = torch.Tensor(ext_thread_log_5.values).unsqueeze(1)\n",
    "# tensor_y2 = torch.Tensor(y_test.values)\n",
    "tensor_y2 = torch.Tensor(ext_y.values).unsqueeze(1)\n",
    "test_dataset = TensorDataset(tensor_x2,tensor_y2)\n",
    "\n",
    "print(\"Train X Size:\", tensor_x1.shape, \"/ Train y Size:\", tensor_y1.shape)\n",
    "print(\"Test X Size:\", tensor_x2.shape, \"/ Test y Size:\", tensor_y2.shape)\n",
    "print()\n",
    "\n",
    "# ------------------------------ training / test ----------------------------- #\n",
    "\n",
    "\n",
    "# tensor_x1 = torch.Tensor(pheme_thread.values)\n",
    "# tensor_y1 = torch.Tensor(pheme_y.values)\n",
    "# train_dataset = TensorDataset(tensor_x1,tensor_y1)\n",
    "\n",
    "# tensor_x2 = torch.Tensor(ext_thread.values)\n",
    "# tensor_y2 = torch.Tensor(ext_y.values)\n",
    "# test_dataset = TensorDataset(tensor_x2,tensor_y2)\n",
    "\n",
    "\n",
    "# For fine-tuning BERT, the authors recommend a batch size of 16 or 32.\n",
    "batch_size = 8\n",
    "\n",
    "# Initialize WeightedRandomSampler to deal with the unbalanced dataset\n",
    "counts = np.bincount(pheme_y.values)\n",
    "# counts = np.bincount(pheme_y)\n",
    "labels_weights = 1. / counts\n",
    "weights = labels_weights[pheme_y.values]\n",
    "# weights = labels_weights[pheme_y]\n",
    "train_sampler = WeightedRandomSampler(weights, len(weights))\n",
    "test_sampler = SequentialSampler(tensor_x2)\n",
    "\n",
    "train_dataloader = DataLoader(train_dataset, batch_size=batch_size, sampler=train_sampler, num_workers=2)\n",
    "test_dataloader = DataLoader(test_dataset, batch_size=batch_size, shuffle=False, num_workers=2)\n",
    "\n",
    "train_size = int(tensor_y1.size(0))\n",
    "test_size = int(tensor_y2.size(0))\n",
    "print(\"Train X Size:\", tensor_x1.shape, \"/ Train y Size:\", tensor_y1.shape)\n",
    "print(\"Test X Size:\", tensor_x2.shape, \"/ Test y Size:\", tensor_y2.shape)\n",
    "print(\"Train Size\",train_size,\"Test Size\",test_size)"
   ]
  },
  {
   "cell_type": "code",
   "execution_count": 280,
   "metadata": {},
   "outputs": [],
   "source": [
    "# print(counts)\n",
    "# print(weights)"
   ]
  },
  {
   "cell_type": "code",
   "execution_count": 281,
   "metadata": {},
   "outputs": [
    {
     "data": {
      "text/plain": "(426,)"
     },
     "execution_count": 281,
     "metadata": {},
     "output_type": "execute_result"
    }
   ],
   "source": [
    "# pheme_y.target.values.shape\n",
    "y_train.values.shape"
   ]
  },
  {
   "cell_type": "code",
   "execution_count": 282,
   "metadata": {},
   "outputs": [
    {
     "name": "stdout",
     "output_type": "stream",
     "text": [
      "tensor([[0.3010, 1.7682, 0.6057, 1.1955, 1.9340, 0.0000, 0.0000, 0.0000, 0.1015,\n",
      "         0.1585, 0.1015, 1.5185, 0.4288, 0.2894, 1.2788, 0.0223, 0.3010, 2.1903,\n",
      "         0.9830, 1.6075, 2.8581, 2.9806, 3.6565, 0.0000, 0.0000, 0.0000, 0.0637,\n",
      "         0.0000, 0.1526, 0.0223, 0.0875, 0.2398, 0.3438, 0.2653, 0.3388, 0.8451]])\n",
      "tensor([1.])\n"
     ]
    }
   ],
   "source": [
    "print(tensor_x1[0])\n",
    "print(tensor_y1[0])"
   ]
  },
  {
   "cell_type": "code",
   "execution_count": 283,
   "metadata": {},
   "outputs": [],
   "source": [
    "class sparse_model(nn.Module):\n",
    "    def __init__(self):\n",
    "        super(sparse_model, self).__init__() # 1*20\n",
    "        self.fc1 = nn.Linear(36, 10, bias=True) # 420\n",
    "        self.fc3 = nn.Linear(10, 1)\n",
    "\n",
    "        self.drop_3 = nn.Dropout(0.3)\n",
    "        self.drop_4 = nn.Dropout(0.4)\n",
    "        self.drop_2 = nn.Dropout(0.2)\n",
    "\n",
    "    def forward(self, x):\n",
    "        x = self.drop_2(F.elu(self.fc1(x)))\n",
    "        x = self.fc3(x)\n",
    "        return x"
   ]
  },
  {
   "cell_type": "code",
   "execution_count": 284,
   "metadata": {},
   "outputs": [
    {
     "name": "stdout",
     "output_type": "stream",
     "text": [
      "No GPU available, using the CPU instead.\n"
     ]
    }
   ],
   "source": [
    "if torch.cuda.is_available():       \n",
    "    device = torch.device(\"cuda\")\n",
    "    print(f'There are {torch.cuda.device_count()} GPU(s) available.')\n",
    "    print('Device name:', torch.cuda.get_device_name(0))\n",
    "\n",
    "else:\n",
    "    print('No GPU available, using the CPU instead.')\n",
    "    device = torch.device(\"cpu\")"
   ]
  },
  {
   "cell_type": "code",
   "execution_count": 285,
   "metadata": {},
   "outputs": [],
   "source": [
    "model_sparse = sparse_model()\n",
    "\n",
    "criterion = nn.BCEWithLogitsLoss()\n",
    "# optimizer = optim.SGD(model_sparse.parameters(), lr=0.01, momentum=0.9)\n",
    "optimizer = optim.Adam(model_sparse.parameters(), lr=5e-5, eps=1e-8, weight_decay=1e-6)\n",
    "# scheduler = lr_scheduler.ExponentialLR(optimizer, gamma= 0.99)  \n",
    "\n",
    "epochs = 100\n",
    "\n",
    "total_steps = len(train_dataloader) * epochs\n",
    "scheduler = get_linear_schedule_with_warmup(optimizer,\n",
    "                                            num_warmup_steps=0,  # Default value\n",
    "                                            num_training_steps=total_steps)\n",
    "\n",
    "PATH = \"./Model/state_dict_sparse_model.pt\""
   ]
  },
  {
   "cell_type": "code",
   "execution_count": 286,
   "metadata": {},
   "outputs": [],
   "source": [
    "def clf_report(train_loss, train_acc, val_loss, val_acc):\n",
    "    fig, ax = plt.subplots(4, 1, figsize=(12,8))\n",
    "    ax[0].plot(train_loss[:])\n",
    "    ax[0].set_ylabel('Loss')\n",
    "    ax[0].set_title('Training Loss')\n",
    "\n",
    "    ax[1].plot(train_acc[:])\n",
    "    ax[1].set_ylabel('Classification Accuracy')\n",
    "    ax[1].set_title('Training Accuracy')\n",
    "\n",
    "    ax[2].plot(val_loss[:])\n",
    "    ax[2].set_ylabel('Classification Accuracy')\n",
    "    ax[2].set_title('Testing Loss')\n",
    "\n",
    "    ax[3].plot(val_acc[:])\n",
    "    ax[3].set_ylabel('Classification Accuracy')\n",
    "    ax[3].set_title('Testing Accuracy')\n",
    "\n",
    "    plt.tight_layout()\n",
    "    plt.show()\n",
    "\n",
    "    print(\"Min of Training Loss: %4f\"%(np.min(train_loss)))\n",
    "    print(\"Max of Training Accuracy: %4f\"%(np.max(train_acc)))\n",
    "    print(\"Mean of Training Loss: %4f\"%(np.mean(train_loss)))\n",
    "    print(\"Mean of Training Accuracy: %4f\"%(np.mean(train_acc)))\n",
    "    print(\"----\")\n",
    "    print(\"Max of Testing Accuracy: %4f\"%(np.max(val_acc)))\n",
    "    print(\"Mean of Testing Loss: %4f\"%(np.mean(val_loss)))\n",
    "    print(\"Mean of Testing Accuracy: %4f\"%(np.mean(val_acc)))\n",
    "\n",
    "def set_seed(seed_value=42):\n",
    "    \"\"\"Set seed for reproducibility.\n",
    "    \"\"\"\n",
    "    random.seed(seed_value)\n",
    "    np.random.seed(seed_value)\n",
    "    torch.manual_seed(seed_value)\n",
    "    torch.cuda.manual_seed_all(seed_value)\n",
    "\n",
    "def train1(model, num_epochs, criterion, optimizer, scheduler, train_loader, train_size, test_loader=None, test_size=None, patience=5, PATH='./state_dict_model.pt'):\n",
    "    set_seed(42)\n",
    "    train_loss = []\n",
    "    patience_count = 0\n",
    "    train_accuracy = []\n",
    "    prev_loss = 10\n",
    "    best_loss = 10.0\n",
    "    val_corrects_list = []\n",
    "    val_loss_list = []\n",
    "    val_acc_list = []\n",
    "    for epoch in range(num_epochs):  # loop over the dataset multiple times\n",
    "        # print('Epoch {}/{}'.format(epoch, num_epochs - 1))\n",
    "        # print('-' * 10)\n",
    "        running_corrects = 0.0\n",
    "        running_loss = 0.0\n",
    "        model.train()  # Set model to training mode\n",
    "        for i, data in enumerate(train_loader, 0):\n",
    "            # get the inputs; data is a list of [inputs, labels]\n",
    "            inputs, labels = data\n",
    "            inputs, labels = inputs.float(), labels.float()\n",
    "\n",
    "            # zero the parameter gradients\n",
    "            optimizer.zero_grad()\n",
    "\n",
    "            # forward + backward + optimize\n",
    "            outputs = model(inputs)\n",
    "\n",
    "            #  _, predictions = torch.max(outputs.data, 1) won’t work if your output only contains a single output unit.\n",
    "            # _, preds = torch.max(outputs, 1)\n",
    "            # print(outputs.flatten().size())\n",
    "            preds = outputs.squeeze(1) > 0.0\n",
    "\n",
    "            loss = criterion(outputs, labels.unsqueeze(1))\n",
    "            loss.backward()\n",
    "            optimizer.step()\n",
    "\n",
    "            # step function\n",
    "            scheduler.step()\n",
    "\n",
    "            running_loss += loss.item() * inputs.size(0)\n",
    "            running_corrects += torch.sum(preds == labels.data)\n",
    "\n",
    "        epoch_loss = running_loss / train_size\n",
    "        # print(running_loss)\n",
    "        # print(train_size)\n",
    "        epoch_acc = running_corrects.double() / train_size\n",
    "        train_loss.append(epoch_loss)\n",
    "        train_accuracy.append(epoch_acc)\n",
    "\n",
    "        if (epoch % 2 == 0):\n",
    "            print('Epoch {}/{}\\tTrain) Acc: {:.4f}, Loss: {:.4f}'.format(epoch,\n",
    "                                                                         num_epochs - 1, epoch_acc, epoch_loss))\n",
    "\n",
    "        if (test_loader != None):\n",
    "            model.eval()\n",
    "            with torch.no_grad():\n",
    "                val_loss = 0.0\n",
    "                val_corrects = 0\n",
    "                val_preds_list = []\n",
    "                val_label_list = []\n",
    "                for j, val in enumerate(test_loader, 0):\n",
    "                    val_x, val_label = val\n",
    "                    val_x, val_label = val_x.float(), val_label.float()\n",
    "                    val_outputs = model(val_x)\n",
    "                    # _, val_preds = torch.max(val_outputs, 1)\n",
    "                    val_preds = val_outputs.squeeze(1) > 0.0\n",
    "                    # print(\"val_preds:\\n\", val_preds)\n",
    "                    # print(\"val_labels:\\n\", val_label)\n",
    "\n",
    "                    val_preds_list.append(val_preds)\n",
    "                    val_label_list.append(val_label)\n",
    "                    v_loss = criterion(val_outputs, val_label.unsqueeze(1))\n",
    "                    val_loss += (v_loss.item() * val_x.size(0))\n",
    "                    val_corrects += torch.sum(val_preds == val_label)\n",
    "                    # print(\"val_corrects:\\n\", val_corrects)\n",
    "                    # accuracy = (preds == b_labels).cpu().numpy().mean() * 100\n",
    "\n",
    "                if (epoch % 2 == 0):\n",
    "                    val_preds_list = torch.cat(val_preds_list, 0)\n",
    "                    val_label_list = torch.cat(val_label_list, 0)\n",
    "                    # print(\"\\t\\tValidation) Acc: {:.4f} Loss:{:.4f} F1 score: {:4f}\".format(val_corrects/test_size, val_loss/test_size, f1_score(val_label_list,val_preds_list,average='macro')))\n",
    "                    print(\"\\t\\tValidation) Acc: {:.4f} Loss:{:.4f}\".format(\n",
    "                        val_corrects/test_size, val_loss/test_size))\n",
    "            # print(\"val_corrects:\\n\", val_corrects)\n",
    "\n",
    "            val_corrects_list.append(val_corrects/test_size)\n",
    "            val_loss_list.append(val_loss/test_size)\n",
    "            val_acc = val_corrects.double() / test_size\n",
    "            val_acc_list.append(val_acc)\n",
    "\n",
    "        if epoch_loss < best_loss:\n",
    "            # print(\"prev_loss: {:.5f}\".format(prev_loss))\n",
    "            # print(\"loss: {:.5f}\".format(loss))\n",
    "            print(\n",
    "                \"\\t\\tSaving the best model w/ loss {:.4f}\".format(epoch_loss))\n",
    "            torch.save(model.state_dict(), PATH)\n",
    "            best_loss = epoch_loss\n",
    "            patience_count = 0\n",
    "        elif best_loss < epoch_loss:\n",
    "            patience_count += 1\n",
    "        if patience_count >= patience:\n",
    "            print(\"Finishing the Model: Loss is not decreasing...\")\n",
    "            print(train_loss[-6:-1])\n",
    "            return train_accuracy, train_loss, val_acc_list, val_loss_list\n",
    "    return train_accuracy, train_loss, val_acc_list, val_loss_list\n",
    "\n",
    "def train2(model, num_epochs, criterion, optimizer, train_loader, train_size, test_loader=None, test_size=None, patience=5, PATH='./state_dict_model.pt'):\n",
    "    set_seed(42)\n",
    "    train_loss = []\n",
    "    patience_count = 0\n",
    "    train_accuracy = []\n",
    "    prev_loss = 10\n",
    "    best_loss = 10.0\n",
    "    val_corrects_list = []\n",
    "    val_loss_list = []\n",
    "    val_acc_list = []\n",
    "    for epoch in range(num_epochs):  # loop over the dataset multiple times\n",
    "        # print('Epoch {}/{}'.format(epoch, num_epochs - 1))\n",
    "        # print('-' * 10)\n",
    "        running_corrects = 0.0\n",
    "        running_loss = 0.0\n",
    "        model.train()  # Set model to training mode\n",
    "        for i, data in enumerate(train_loader, 0):\n",
    "            # get the inputs; data is a list of [inputs, labels]\n",
    "            inputs, labels = data\n",
    "            inputs, labels = inputs.float(), labels.float()\n",
    "            print(inputs.size())\n",
    "            print(labels.size())\n",
    "            print(inputs.flatten())\n",
    "            print(labels.flatten())\n",
    "\n",
    "            # zero the parameter gradients\n",
    "            optimizer.zero_grad()\n",
    "\n",
    "            # forward + backward + optimize\n",
    "            outputs = model(inputs)\n",
    "            print(\"outputs:\",outputs.size())\n",
    "            print(\"outputs:\",outputs)\n",
    "            print(\"labels:\",labels.size())\n",
    "            print(\"labels:\",labels.unsqueeze(1).size())\n",
    "\n",
    "            #  _, predictions = torch.max(outputs.data, 1) won’t work if your output only contains a single output unit.\n",
    "            # _, preds = torch.max(outputs, 1)\n",
    "            preds = torch.argmax(outputs, dim=1).flatten()\n",
    "            # print(outputs.flatten().size())\n",
    "            # preds = outputs > 0.0\n",
    "            # labels = labels.view(-1)\n",
    "            loss = criterion(outputs, labels.long())\n",
    "            loss.backward()\n",
    "            optimizer.step()\n",
    "\n",
    "            # step function\n",
    "            scheduler.step()\n",
    "\n",
    "            running_loss += loss.item() * inputs.size(0)\n",
    "            running_corrects += torch.sum(preds == labels.data)\n",
    "            # print('running correct')\n",
    "            # print(running_corrects)\n",
    "\n",
    "        epoch_loss = running_loss / train_size\n",
    "        # print(running_loss)\n",
    "        # print(train_size)\n",
    "        epoch_acc = running_corrects.double() / train_size\n",
    "        train_loss.append(epoch_loss)\n",
    "        train_accuracy.append(epoch_acc)\n",
    "\n",
    "        if (epoch % 2 == 0):\n",
    "            print('Epoch {}/{}\\tTrain) Acc: {:.4f}, Loss: {:.4f}'.format(epoch,\n",
    "                                                                         num_epochs - 1, epoch_acc, epoch_loss))\n",
    "\n",
    "        if (test_loader != None):\n",
    "            model.eval()\n",
    "            with torch.no_grad():\n",
    "                val_loss = 0.0\n",
    "                val_corrects = 0\n",
    "                val_preds_list = []\n",
    "                val_label_list = []\n",
    "                for j, val in enumerate(test_loader, 0):\n",
    "                    val_x, val_label = val\n",
    "                    val_x, val_label = val_x.float(), val_label.float()\n",
    "                    val_outputs = model(val_x)\n",
    "                    val_preds = torch.argmax(val_outputs, dim=1).flatten()\n",
    "                    # _, val_preds = torch.max(val_outputs, 1)\n",
    "                    # print(\"val_outputs:\",val_outputs.flatten())\n",
    "                    # val_preds = val_outputs > 0.0\n",
    "                    # print(\"val_preds:\",val_preds)\n",
    "                    val_preds_list.append(val_preds)\n",
    "                    val_label_list.append(val_label)\n",
    "                    v_loss = criterion(val_outputs, val_label.unsqueeze(1))\n",
    "                    val_loss += (v_loss.item() * val_x.size(0))\n",
    "                    val_corrects += torch.sum(val_preds ==\n",
    "                                              val_label.data).double()\n",
    "                if (epoch % 2 == 0):\n",
    "                    val_preds_list = torch.cat(val_preds_list, 0)\n",
    "                    val_label_list = torch.cat(val_label_list, 0)\n",
    "                    # print(\"\\t\\tValidation) Acc: {:.4f} Loss:{:.4f} F1 score: {:4f}\".format(val_corrects/test_size, val_loss/test_size, f1_score(val_label_list,val_preds_list,average='macro')))\n",
    "                    print(\"\\t\\tValidation) Acc: {:.4f} Loss:{:.4f}\".format(\n",
    "                        val_corrects/test_size, val_loss/test_size))\n",
    "            val_corrects_list.append(val_corrects/test_size)\n",
    "            val_loss_list.append(val_loss/test_size)\n",
    "            val_acc = val_corrects.double() / test_size\n",
    "            val_acc_list.append(val_acc)\n",
    "\n",
    "        if epoch_loss < best_loss:\n",
    "            # print(\"prev_loss: {:.5f}\".format(prev_loss))\n",
    "            # print(\"loss: {:.5f}\".format(loss))\n",
    "            print(\n",
    "                \"\\t\\tSaving the best model w/ loss {:.4f}\".format(epoch_loss))\n",
    "            torch.save(model.state_dict(), PATH)\n",
    "            best_loss = epoch_loss\n",
    "            patience_count = 0\n",
    "        elif best_loss < epoch_loss:\n",
    "            patience_count += 1\n",
    "        if patience_count >= patience:\n",
    "            print(\"Finishing the Model: Loss is not decreasing...\")\n",
    "            print(train_loss[-6:-1])\n",
    "            return train_accuracy, train_loss, val_acc_list, val_loss_list\n",
    "    return train_accuracy, train_loss, val_acc_list, val_loss_list\n",
    "\n",
    "def predict(model, criterion, val_dataloader, val_size):\n",
    "    model.eval()\n",
    "    with torch.no_grad():\n",
    "        val_loss = 0.0\n",
    "        val_corrects = 0\n",
    "        for j, val in enumerate(val_dataloader, 0):\n",
    "            val_x, val_label = val\n",
    "            val_x, val_label = val_x.float(), val_label.float()\n",
    "            val_outputs = model(val_x)\n",
    "            val_preds = val_outputs.squeeze(1) > 0.0\n",
    "\n",
    "            val_preds_list.append(val_preds)\n",
    "            val_label_list.append(val_label)\n",
    "            v_loss = criterion(val_outputs, val_label.unsqueeze(1))\n",
    "            val_loss += (v_loss.item() * val_x.size(0))\n",
    "            val_corrects += torch.sum(val_preds == val_label)\n",
    "\n",
    "    val_preds_list = torch.cat(val_preds_list, 0)\n",
    "    val_label_list = torch.cat(val_label_list, 0)\n",
    "    val_corrects = val_corrects/val_size\n",
    "    val_loss/test_size\n",
    "    val_acc = val_corrects.double() / val_size\n",
    "    print(\"\\t\\tValidation) Acc: {:.4f} Loss:{:.4f}\".format(\n",
    "        val_corrects/val_size, val_loss/test_size))\n",
    "    # print(\"\\t\\tValidation) Acc: {:.4f} Loss:{:.4f} F1 score: {:4f}\".format(val_corrects/val_size, val_loss/test_size, f1_score(val_label_list,val_preds_list,average='macro')))\n"
   ]
  },
  {
   "cell_type": "code",
   "execution_count": 287,
   "metadata": {},
   "outputs": [
    {
     "name": "stdout",
     "output_type": "stream",
     "text": [
      "Epoch 0/99\tTrain) Acc: 0.4986, Loss: 0.7048\n",
      "\t\tValidation) Acc: 0.7340 Loss:0.6528\n",
      "\t\tSaving the best model w/ loss 0.7048\n",
      "\t\tSaving the best model w/ loss 0.6968\n",
      "Epoch 2/99\tTrain) Acc: 0.5007, Loss: 0.6955\n",
      "\t\tValidation) Acc: 0.7155 Loss:0.6601\n",
      "\t\tSaving the best model w/ loss 0.6955\n",
      "\t\tSaving the best model w/ loss 0.6921\n",
      "Epoch 4/99\tTrain) Acc: 0.5288, Loss: 0.6901\n",
      "\t\tValidation) Acc: 0.7381 Loss:0.6569\n",
      "\t\tSaving the best model w/ loss 0.6901\n",
      "Epoch 6/99\tTrain) Acc: 0.5457, Loss: 0.6870\n",
      "\t\tValidation) Acc: 0.7567 Loss:0.6410\n",
      "\t\tSaving the best model w/ loss 0.6870\n",
      "Epoch 8/99\tTrain) Acc: 0.5498, Loss: 0.6859\n",
      "\t\tValidation) Acc: 0.7588 Loss:0.6383\n",
      "\t\tSaving the best model w/ loss 0.6859\n",
      "\t\tSaving the best model w/ loss 0.6834\n",
      "Epoch 10/99\tTrain) Acc: 0.5846, Loss: 0.6819\n",
      "\t\tValidation) Acc: 0.7608 Loss:0.6274\n",
      "\t\tSaving the best model w/ loss 0.6819\n",
      "Epoch 12/99\tTrain) Acc: 0.5820, Loss: 0.6820\n",
      "\t\tValidation) Acc: 0.7567 Loss:0.6263\n",
      "\t\tSaving the best model w/ loss 0.6783\n",
      "Epoch 14/99\tTrain) Acc: 0.5936, Loss: 0.6778\n",
      "\t\tValidation) Acc: 0.7608 Loss:0.6220\n",
      "\t\tSaving the best model w/ loss 0.6778\n",
      "\t\tSaving the best model w/ loss 0.6752\n",
      "Epoch 16/99\tTrain) Acc: 0.6086, Loss: 0.6729\n",
      "\t\tValidation) Acc: 0.7629 Loss:0.6140\n",
      "\t\tSaving the best model w/ loss 0.6729\n",
      "\t\tSaving the best model w/ loss 0.6724\n",
      "Epoch 18/99\tTrain) Acc: 0.6101, Loss: 0.6742\n",
      "\t\tValidation) Acc: 0.7670 Loss:0.6143\n",
      "\t\tSaving the best model w/ loss 0.6722\n",
      "Epoch 20/99\tTrain) Acc: 0.5963, Loss: 0.6731\n",
      "\t\tValidation) Acc: 0.7670 Loss:0.6082\n",
      "\t\tSaving the best model w/ loss 0.6687\n",
      "Epoch 22/99\tTrain) Acc: 0.6026, Loss: 0.6728\n",
      "\t\tValidation) Acc: 0.7670 Loss:0.6019\n",
      "Epoch 24/99\tTrain) Acc: 0.6026, Loss: 0.6693\n",
      "\t\tValidation) Acc: 0.7732 Loss:0.5974\n",
      "Epoch 26/99\tTrain) Acc: 0.5976, Loss: 0.6685\n",
      "\t\tValidation) Acc: 0.7526 Loss:0.6077\n",
      "\t\tSaving the best model w/ loss 0.6685\n",
      "\t\tSaving the best model w/ loss 0.6652\n",
      "Epoch 28/99\tTrain) Acc: 0.6179, Loss: 0.6650\n",
      "\t\tValidation) Acc: 0.7670 Loss:0.5920\n",
      "\t\tSaving the best model w/ loss 0.6650\n",
      "\t\tSaving the best model w/ loss 0.6619\n",
      "Epoch 30/99\tTrain) Acc: 0.6174, Loss: 0.6627\n",
      "\t\tValidation) Acc: 0.7567 Loss:0.5957\n",
      "Epoch 32/99\tTrain) Acc: 0.6146, Loss: 0.6637\n",
      "\t\tValidation) Acc: 0.7629 Loss:0.5914\n",
      "Epoch 34/99\tTrain) Acc: 0.6188, Loss: 0.6608\n",
      "\t\tValidation) Acc: 0.7629 Loss:0.5869\n",
      "\t\tSaving the best model w/ loss 0.6608\n",
      "\t\tSaving the best model w/ loss 0.6607\n",
      "Epoch 36/99\tTrain) Acc: 0.6269, Loss: 0.6581\n",
      "\t\tValidation) Acc: 0.7608 Loss:0.5851\n",
      "\t\tSaving the best model w/ loss 0.6581\n",
      "Epoch 38/99\tTrain) Acc: 0.6027, Loss: 0.6638\n",
      "\t\tValidation) Acc: 0.7649 Loss:0.5830\n",
      "Epoch 40/99\tTrain) Acc: 0.6186, Loss: 0.6591\n",
      "\t\tValidation) Acc: 0.7608 Loss:0.5829\n",
      "\t\tSaving the best model w/ loss 0.6580\n",
      "Epoch 42/99\tTrain) Acc: 0.6256, Loss: 0.6566\n",
      "\t\tValidation) Acc: 0.7588 Loss:0.5810\n",
      "\t\tSaving the best model w/ loss 0.6566\n",
      "\t\tSaving the best model w/ loss 0.6564\n",
      "Epoch 44/99\tTrain) Acc: 0.6365, Loss: 0.6530\n",
      "\t\tValidation) Acc: 0.7588 Loss:0.5769\n",
      "\t\tSaving the best model w/ loss 0.6530\n",
      "Epoch 46/99\tTrain) Acc: 0.6181, Loss: 0.6554\n",
      "\t\tValidation) Acc: 0.7588 Loss:0.5746\n",
      "Epoch 48/99\tTrain) Acc: 0.6248, Loss: 0.6547\n",
      "\t\tValidation) Acc: 0.7505 Loss:0.5780\n",
      "Epoch 50/99\tTrain) Acc: 0.6093, Loss: 0.6566\n",
      "\t\tValidation) Acc: 0.7526 Loss:0.5770\n",
      "Epoch 52/99\tTrain) Acc: 0.6219, Loss: 0.6550\n",
      "\t\tValidation) Acc: 0.7608 Loss:0.5697\n",
      "\t\tSaving the best model w/ loss 0.6452\n",
      "Epoch 54/99\tTrain) Acc: 0.6200, Loss: 0.6516\n",
      "\t\tValidation) Acc: 0.7505 Loss:0.5759\n",
      "Epoch 56/99\tTrain) Acc: 0.6160, Loss: 0.6558\n",
      "\t\tValidation) Acc: 0.7526 Loss:0.5698\n",
      "Epoch 58/99\tTrain) Acc: 0.6167, Loss: 0.6545\n",
      "\t\tValidation) Acc: 0.7526 Loss:0.5699\n",
      "Epoch 60/99\tTrain) Acc: 0.6110, Loss: 0.6555\n",
      "\t\tValidation) Acc: 0.7546 Loss:0.5705\n",
      "Epoch 62/99\tTrain) Acc: 0.6220, Loss: 0.6521\n",
      "\t\tValidation) Acc: 0.7526 Loss:0.5703\n",
      "Epoch 64/99\tTrain) Acc: 0.6170, Loss: 0.6534\n",
      "\t\tValidation) Acc: 0.7567 Loss:0.5654\n",
      "Epoch 66/99\tTrain) Acc: 0.6210, Loss: 0.6500\n",
      "\t\tValidation) Acc: 0.7505 Loss:0.5696\n",
      "Epoch 68/99\tTrain) Acc: 0.6193, Loss: 0.6540\n",
      "\t\tValidation) Acc: 0.7505 Loss:0.5689\n",
      "Epoch 70/99\tTrain) Acc: 0.6319, Loss: 0.6466\n",
      "\t\tValidation) Acc: 0.7505 Loss:0.5665\n",
      "Epoch 72/99\tTrain) Acc: 0.6294, Loss: 0.6482\n",
      "\t\tValidation) Acc: 0.7505 Loss:0.5662\n",
      "Finishing the Model: Loss is not decreasing...\n",
      "[0.6540239783082901, 0.6509926771961463, 0.6465734519123497, 0.6518290086024303, 0.6482335200436318]\n"
     ]
    }
   ],
   "source": [
    "import random\n",
    "\n",
    "train_acc, train_loss, val_acc, val_loss_list = train1(model=model_sparse, num_epochs=epochs,patience=20, criterion=criterion, optimizer=optimizer, scheduler=scheduler, train_loader=train_dataloader, train_size=train_size, test_loader=test_dataloader, test_size=test_size, PATH=PATH)"
   ]
  },
  {
   "cell_type": "code",
   "execution_count": 288,
   "metadata": {},
   "outputs": [
    {
     "data": {
      "image/png": "[encoded data removed]",
      "text/plain": "<Figure size 864x576 with 4 Axes>"
     },
     "metadata": {
      "needs_background": "light"
     },
     "output_type": "display_data"
    },
    {
     "name": "stdout",
     "output_type": "stream",
     "text": [
      "Min of Training Loss: 0.645203\n",
      "Max of Training Accuracy: 0.638573\n",
      "Mean of Training Loss: 0.664737\n",
      "Mean of Training Accuracy: 0.602872\n",
      "----\n",
      "Max of Testing Accuracy: 0.773196\n",
      "Mean of Testing Loss: 0.595279\n",
      "Mean of Testing Accuracy: 0.755809\n"
     ]
    }
   ],
   "source": [
    "__MLP.clf_report(train_loss, train_acc, val_loss_list, val_acc)"
   ]
  },
  {
   "cell_type": "code",
   "execution_count": 278,
   "metadata": {},
   "outputs": [],
   "source": [
    "# 1. log_lists 1\n",
    "# - Min of Training Loss: 0.676791\n",
    "# - Max of Training Accuracy: 0.580834\n",
    "# - Mean of Training Loss: 0.930833\n",
    "# - Mean of Training Accuracy: 0.549138\n",
    "\n",
    "# - Max of Testing Accuracy: 0.758763\n",
    "# - Mean of Testing Loss: 0.639751\n",
    "# - Mean of Testing Accuracy: 0.741991\n",
    "\n",
    "# 2. log_lists 2\n",
    "# Min of Training Loss: 0.661804\n",
    "# Max of Training Accuracy: 0.623923\n",
    "# Mean of Training Loss: 0.675339\n",
    "# Mean of Training Accuracy: 0.579164\n",
    "# ----\n",
    "# Max of Testing Accuracy: 0.754639\n",
    "# Mean of Testing Loss: 0.647825\n",
    "# Mean of Testing Accuracy: 0.663184\n",
    "\n",
    "# 3. log_lists 3\n",
    "# Min of Training Loss: 0.689231\n",
    "# Max of Training Accuracy: 0.551534\n",
    "# Mean of Training Loss: 0.691886\n",
    "# Mean of Training Accuracy: 0.529895\n",
    "# ----\n",
    "# Max of Testing Accuracy: 0.769072\n",
    "# Mean of Testing Loss: 0.672092\n",
    "# Mean of Testing Accuracy: 0.727753\n",
    "\n",
    "# 4. log_lists 4\n",
    "# Min of Training Loss: 0.655381\n",
    "# Max of Training Accuracy: 0.615822\n",
    "# Mean of Training Loss: 0.668167\n",
    "# Mean of Training Accuracy: 0.590891\n",
    "# ----\n",
    "# Max of Testing Accuracy: 0.760825\n",
    "# Mean of Testing Loss: 0.602897\n",
    "# Mean of Testing Accuracy: 0.751031\n",
    "\n",
    "# 5. log_lists 5\n",
    "# Min of Training Loss: 0.645203\n",
    "# Max of Training Accuracy: 0.638573\n",
    "# Mean of Training Loss: 0.664737\n",
    "# Mean of Training Accuracy: 0.602872\n",
    "# ----\n",
    "# Max of Testing Accuracy: 0.773196\n",
    "# Mean of Testing Loss: 0.595279\n",
    "# Mean of Testing Accuracy: 0.755809"
   ]
  },
  {
   "cell_type": "code",
   "execution_count": 83,
   "metadata": {},
   "outputs": [
    {
     "data": {
      "text/plain": "[317066.51713917527,\n 201521.53221649484,\n 143836.59671391753,\n 191701.70277061855,\n 231669.77280927834,\n 403299.20644329896,\n 522603.7418814433,\n 608191.4347938144,\n 719660.6056701031,\n 723971.6600515464,\n 582670.6443298969,\n 584056.094072165]"
     },
     "execution_count": 83,
     "metadata": {},
     "output_type": "execute_result"
    }
   ],
   "source": [
    "val_loss_list"
   ]
  },
  {
   "cell_type": "code",
   "execution_count": 84,
   "metadata": {},
   "outputs": [
    {
     "data": {
      "text/plain": "[tensor(27.3897, dtype=torch.float64),\n tensor(27.3897, dtype=torch.float64),\n tensor(27.3897, dtype=torch.float64),\n tensor(27.3897, dtype=torch.float64),\n tensor(27.3897, dtype=torch.float64),\n tensor(27.3897, dtype=torch.float64),\n tensor(27.3897, dtype=torch.float64),\n tensor(27.3897, dtype=torch.float64),\n tensor(27.3897, dtype=torch.float64),\n tensor(27.3897, dtype=torch.float64),\n tensor(27.3897, dtype=torch.float64),\n tensor(27.3897, dtype=torch.float64)]"
     },
     "execution_count": 84,
     "metadata": {},
     "output_type": "execute_result"
    }
   ],
   "source": [
    "val_acc"
   ]
  }
 ],
 "metadata": {
  "kernelspec": {
   "display_name": "rosetta",
   "language": "python",
   "name": "rosetta"
  },
  "language_info": {
   "codemirror_mode": {
    "name": "ipython",
    "version": 3
   },
   "file_extension": ".py",
   "mimetype": "text/x-python",
   "name": "python",
   "nbconvert_exporter": "python",
   "pygments_lexer": "ipython3",
   "version": "3.8.8"
  },
  "orig_nbformat": 2
 },
 "nbformat": 4,
 "nbformat_minor": 2
}