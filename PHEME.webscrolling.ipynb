{
 "metadata": {
  "language_info": {
   "codemirror_mode": {
    "name": "ipython",
    "version": 3
   },
   "file_extension": ".py",
   "mimetype": "text/x-python",
   "name": "python",
   "nbconvert_exporter": "python",
   "pygments_lexer": "ipython3",
   "version": "3.8.5-final"
  },
  "orig_nbformat": 2,
  "kernelspec": {
   "name": "python3",
   "display_name": "Python 3",
   "language": "python"
  }
 },
 "nbformat": 4,
 "nbformat_minor": 2,
 "cells": [
  {
   "cell_type": "code",
   "execution_count": 4,
   "metadata": {},
   "outputs": [],
   "source": [
    "import pandas as pd\n",
    "import numpy as np\n",
    "import json\n",
    "\n",
    "from sklearn.pipeline import make_pipeline\n",
    "from sklearn.preprocessing import StandardScaler\n",
    "from sklearn.svm import SVC\n",
    "\n",
    "from sklearn.model_selection import cross_val_score\n",
    "from sklearn.metrics import accuracy_score"
   ]
  },
  {
   "cell_type": "code",
   "execution_count": 5,
   "metadata": {},
   "outputs": [],
   "source": [
    "train_avg = pd.read_csv('./train_avg.csv')\n",
    "test_avg = pd.read_csv('./test_avg.csv')\n",
    "valid_avg = pd.read_csv('./valid_avg.csv')\n",
    "valid_whole = pd.read_csv('./df_valid_bertweet.csv')\n",
    "df_data = pd.read_csv('./data_notembeded.csv')"
   ]
  },
  {
   "cell_type": "code",
   "execution_count": 4,
   "metadata": {},
   "outputs": [
    {
     "output_type": "execute_result",
     "data": {
      "text/plain": [
       "   isRumor                                               text  hasURL  \\\n",
       "0        1  BREAKING: Armed man takes hostage in kosher gr...       1   \n",
       "1        1  #CharlieHebdo killers dead, confirmed by genda...       0   \n",
       "2        1  Top French cartoonists Charb, Cabu, Wolinski, ...       0   \n",
       "\n",
       "                         urls          urls_expanded  hasUserURL  \\\n",
       "0  ['http://t.co/PBs3sMwhLt']  ['http://htz.li/1lI']           1   \n",
       "1                          []                     []           1   \n",
       "2                          []                     []           1   \n",
       "\n",
       "                      user_url  \\\n",
       "0       http://www.haaretz.com   \n",
       "1  http://www.agnespoirier.org   \n",
       "2       http://t.co/EWb7m4orG8   \n",
       "\n",
       "                                          text_token  isNotOnlyText  Noun  \\\n",
       "0  ['breaking', 'armed', 'man', 'takes', 'hostage...              1     6   \n",
       "1  ['charliehebdo', 'killers', 'dead', 'confirmed...              0     2   \n",
       "2  ['top', 'french', 'cartoonists', 'charb', 'cab...              0     3   \n",
       "\n",
       "   ...  token_avg290  token_avg291  token_avg292  token_avg293  token_avg294  \\\n",
       "0  ...      0.062943      0.132718      0.133037     -0.026727      0.031101   \n",
       "1  ...      0.043733      0.111315     -0.040369     -0.014255     -0.099877   \n",
       "2  ...      0.002403      0.190812     -0.018724     -0.041470     -0.039200   \n",
       "\n",
       "   token_avg295  token_avg296  token_avg297  token_avg298  token_avg299  \n",
       "0     -0.130553     -0.055182      0.257094      0.000888     -0.071521  \n",
       "1     -0.110036      0.002233      0.145399     -0.059819     -0.187999  \n",
       "2     -0.130378     -0.011311      0.188351      0.000401     -0.217772  \n",
       "\n",
       "[3 rows x 334 columns]"
      ],
      "text/html": "<div>\n<style scoped>\n    .dataframe tbody tr th:only-of-type {\n        vertical-align: middle;\n    }\n\n    .dataframe tbody tr th {\n        vertical-align: top;\n    }\n\n    .dataframe thead th {\n        text-align: right;\n    }\n</style>\n<table border=\"1\" class=\"dataframe\">\n  <thead>\n    <tr style=\"text-align: right;\">\n      <th></th>\n      <th>isRumor</th>\n      <th>text</th>\n      <th>hasURL</th>\n      <th>urls</th>\n      <th>urls_expanded</th>\n      <th>hasUserURL</th>\n      <th>user_url</th>\n      <th>text_token</th>\n      <th>isNotOnlyText</th>\n      <th>Noun</th>\n      <th>...</th>\n      <th>token_avg290</th>\n      <th>token_avg291</th>\n      <th>token_avg292</th>\n      <th>token_avg293</th>\n      <th>token_avg294</th>\n      <th>token_avg295</th>\n      <th>token_avg296</th>\n      <th>token_avg297</th>\n      <th>token_avg298</th>\n      <th>token_avg299</th>\n    </tr>\n  </thead>\n  <tbody>\n    <tr>\n      <th>0</th>\n      <td>1</td>\n      <td>BREAKING: Armed man takes hostage in kosher gr...</td>\n      <td>1</td>\n      <td>['http://t.co/PBs3sMwhLt']</td>\n      <td>['http://htz.li/1lI']</td>\n      <td>1</td>\n      <td>http://www.haaretz.com</td>\n      <td>['breaking', 'armed', 'man', 'takes', 'hostage...</td>\n      <td>1</td>\n      <td>6</td>\n      <td>...</td>\n      <td>0.062943</td>\n      <td>0.132718</td>\n      <td>0.133037</td>\n      <td>-0.026727</td>\n      <td>0.031101</td>\n      <td>-0.130553</td>\n      <td>-0.055182</td>\n      <td>0.257094</td>\n      <td>0.000888</td>\n      <td>-0.071521</td>\n    </tr>\n    <tr>\n      <th>1</th>\n      <td>1</td>\n      <td>#CharlieHebdo killers dead, confirmed by genda...</td>\n      <td>0</td>\n      <td>[]</td>\n      <td>[]</td>\n      <td>1</td>\n      <td>http://www.agnespoirier.org</td>\n      <td>['charliehebdo', 'killers', 'dead', 'confirmed...</td>\n      <td>0</td>\n      <td>2</td>\n      <td>...</td>\n      <td>0.043733</td>\n      <td>0.111315</td>\n      <td>-0.040369</td>\n      <td>-0.014255</td>\n      <td>-0.099877</td>\n      <td>-0.110036</td>\n      <td>0.002233</td>\n      <td>0.145399</td>\n      <td>-0.059819</td>\n      <td>-0.187999</td>\n    </tr>\n    <tr>\n      <th>2</th>\n      <td>1</td>\n      <td>Top French cartoonists Charb, Cabu, Wolinski, ...</td>\n      <td>0</td>\n      <td>[]</td>\n      <td>[]</td>\n      <td>1</td>\n      <td>http://t.co/EWb7m4orG8</td>\n      <td>['top', 'french', 'cartoonists', 'charb', 'cab...</td>\n      <td>0</td>\n      <td>3</td>\n      <td>...</td>\n      <td>0.002403</td>\n      <td>0.190812</td>\n      <td>-0.018724</td>\n      <td>-0.041470</td>\n      <td>-0.039200</td>\n      <td>-0.130378</td>\n      <td>-0.011311</td>\n      <td>0.188351</td>\n      <td>0.000401</td>\n      <td>-0.217772</td>\n    </tr>\n  </tbody>\n</table>\n<p>3 rows × 334 columns</p>\n</div>"
     },
     "metadata": {},
     "execution_count": 4
    }
   ],
   "source": [
    "df_data.head(3)"
   ]
  },
  {
   "cell_type": "code",
   "execution_count": 6,
   "metadata": {},
   "outputs": [],
   "source": [
    "import re \n",
    "def Find(string): \n",
    "    # findall() has been used  \n",
    "    # with valid conditions for urls in string \n",
    "    regex = r\"(?i)\\b((?:https?://|www\\d{0,3}[.]|[a-z0-9.\\-]+[.][a-z]{2,4}/)(?:[^\\s()<>]+|\\(([^\\s()<>]+|(\\([^\\s()<>]+\\)))*\\))+(?:\\(([^\\s()<>]+|(\\([^\\s()<>]+\\)))*\\)|[^\\s`!()\\[\\]{};:'\\\".,<>?«»“”‘’]))\"\n",
    "    url = re.findall(regex,string)       \n",
    "    return [x[0] for x in url] "
   ]
  },
  {
   "cell_type": "code",
   "execution_count": 7,
   "metadata": {},
   "outputs": [],
   "source": [
    "data_urls = df_data['urls_expanded']\n",
    "data_urls = pd.DataFrame([Find(data_urls[i]) for i, d in enumerate(data_urls)]).add_prefix('url')"
   ]
  },
  {
   "source": [
    "## Number of URLs"
   ],
   "cell_type": "markdown",
   "metadata": {}
  },
  {
   "cell_type": "code",
   "execution_count": 136,
   "metadata": {},
   "outputs": [
    {
     "output_type": "stream",
     "name": "stdout",
     "text": [
      "\n                0\nurl0  url1       \nFalse False  3447\nTrue  False  2312\n      True     43\n\n      NumOfUrls\n0             1\n1             0\n2             0\n3             2\n4             1\n...         ...\n5797          1\n5798          0\n5799          1\n5800          1\n5801          0\n\n[5802 rows x 1 columns]\n"
     ]
    },
    {
     "output_type": "display_data",
     "data": {
      "text/plain": "<Figure size 432x288 with 1 Axes>",
      "image/svg+xml": "<?xml version=\"1.0\" encoding=\"utf-8\" standalone=\"no\"?>\n<!DOCTYPE svg PUBLIC \"-//W3C//DTD SVG 1.1//EN\"\n  \"http://www.w3.org/Graphics/SVG/1.1/DTD/svg11.dtd\">\n<!-- Created with matplotlib (https://matplotlib.org/) -->\n<svg height=\"316.893125pt\" version=\"1.1\" viewBox=\"0 0 381.65 316.893125\" width=\"381.65pt\" xmlns=\"http://www.w3.org/2000/svg\" xmlns:xlink=\"http://www.w3.org/1999/xlink\">\n <metadata>\n  <rdf:RDF xmlns:cc=\"http://creativecommons.org/ns#\" xmlns:dc=\"http://purl.org/dc/elements/1.1/\" xmlns:rdf=\"http://www.w3.org/1999/02/22-rdf-syntax-ns#\">\n   <cc:Work>\n    <dc:type rdf:resource=\"http://purl.org/dc/dcmitype/StillImage\"/>\n    <dc:date>2021-01-04T18:55:59.166651</dc:date>\n    <dc:format>image/svg+xml</dc:format>\n    <dc:creator>\n     <cc:Agent>\n      <dc:title>Matplotlib v3.3.2, https://matplotlib.org/</dc:title>\n     </cc:Agent>\n    </dc:creator>\n   </cc:Work>\n  </rdf:RDF>\n </metadata>\n <defs>\n  <style type=\"text/css\">*{stroke-linecap:butt;stroke-linejoin:round;}</style>\n </defs>\n <g id=\"figure_1\">\n  <g id=\"patch_1\">\n   <path d=\"M -0 316.893125 \nL 381.65 316.893125 \nL 381.65 0 \nL -0 0 \nz\n\" style=\"fill:none;\"/>\n  </g>\n  <g id=\"axes_1\">\n   <g id=\"patch_2\">\n    <path d=\"M 39.65 224.64 \nL 374.45 224.64 \nL 374.45 7.2 \nL 39.65 7.2 \nz\n\" style=\"fill:#ffffff;\"/>\n   </g>\n   <g id=\"patch_3\">\n    <path clip-path=\"url(#pf58402e011)\" d=\"M 67.55 224.64 \nL 123.35 224.64 \nL 123.35 17.554286 \nL 67.55 17.554286 \nz\n\" style=\"fill:#1f77b4;\"/>\n   </g>\n   <g id=\"patch_4\">\n    <path clip-path=\"url(#pf58402e011)\" d=\"M 179.15 224.64 \nL 234.95 224.64 \nL 234.95 85.741778 \nL 179.15 85.741778 \nz\n\" style=\"fill:#1f77b4;\"/>\n   </g>\n   <g id=\"patch_5\">\n    <path clip-path=\"url(#pf58402e011)\" d=\"M 290.75 224.64 \nL 346.55 224.64 \nL 346.55 222.056685 \nL 290.75 222.056685 \nz\n\" style=\"fill:#1f77b4;\"/>\n   </g>\n   <g id=\"matplotlib.axis_1\">\n    <g id=\"xtick_1\">\n     <g id=\"line2d_1\">\n      <defs>\n       <path d=\"M 0 0 \nL 0 3.5 \n\" id=\"m7ff58f2d4b\" style=\"stroke:#000000;stroke-width:0.8;\"/>\n      </defs>\n      <g>\n       <use style=\"stroke:#000000;stroke-width:0.8;\" x=\"95.45\" xlink:href=\"#m7ff58f2d4b\" y=\"224.64\"/>\n      </g>\n     </g>\n     <g id=\"text_1\">\n      <!-- (False, False) -->\n      <g transform=\"translate(98.209375 296.015)rotate(-90)scale(0.1 -0.1)\">\n       <defs>\n        <path d=\"M 31 75.875 \nQ 24.46875 64.65625 21.28125 53.65625 \nQ 18.109375 42.671875 18.109375 31.390625 \nQ 18.109375 20.125 21.3125 9.0625 \nQ 24.515625 -2 31 -13.1875 \nL 23.1875 -13.1875 \nQ 15.875 -1.703125 12.234375 9.375 \nQ 8.59375 20.453125 8.59375 31.390625 \nQ 8.59375 42.28125 12.203125 53.3125 \nQ 15.828125 64.359375 23.1875 75.875 \nz\n\" id=\"DejaVuSans-40\"/>\n        <path d=\"M 9.8125 72.90625 \nL 51.703125 72.90625 \nL 51.703125 64.59375 \nL 19.671875 64.59375 \nL 19.671875 43.109375 \nL 48.578125 43.109375 \nL 48.578125 34.8125 \nL 19.671875 34.8125 \nL 19.671875 0 \nL 9.8125 0 \nz\n\" id=\"DejaVuSans-70\"/>\n        <path d=\"M 34.28125 27.484375 \nQ 23.390625 27.484375 19.1875 25 \nQ 14.984375 22.515625 14.984375 16.5 \nQ 14.984375 11.71875 18.140625 8.90625 \nQ 21.296875 6.109375 26.703125 6.109375 \nQ 34.1875 6.109375 38.703125 11.40625 \nQ 43.21875 16.703125 43.21875 25.484375 \nL 43.21875 27.484375 \nz\nM 52.203125 31.203125 \nL 52.203125 0 \nL 43.21875 0 \nL 43.21875 8.296875 \nQ 40.140625 3.328125 35.546875 0.953125 \nQ 30.953125 -1.421875 24.3125 -1.421875 \nQ 15.921875 -1.421875 10.953125 3.296875 \nQ 6 8.015625 6 15.921875 \nQ 6 25.140625 12.171875 29.828125 \nQ 18.359375 34.515625 30.609375 34.515625 \nL 43.21875 34.515625 \nL 43.21875 35.40625 \nQ 43.21875 41.609375 39.140625 45 \nQ 35.0625 48.390625 27.6875 48.390625 \nQ 23 48.390625 18.546875 47.265625 \nQ 14.109375 46.140625 10.015625 43.890625 \nL 10.015625 52.203125 \nQ 14.9375 54.109375 19.578125 55.046875 \nQ 24.21875 56 28.609375 56 \nQ 40.484375 56 46.34375 49.84375 \nQ 52.203125 43.703125 52.203125 31.203125 \nz\n\" id=\"DejaVuSans-97\"/>\n        <path d=\"M 9.421875 75.984375 \nL 18.40625 75.984375 \nL 18.40625 0 \nL 9.421875 0 \nz\n\" id=\"DejaVuSans-108\"/>\n        <path d=\"M 44.28125 53.078125 \nL 44.28125 44.578125 \nQ 40.484375 46.53125 36.375 47.5 \nQ 32.28125 48.484375 27.875 48.484375 \nQ 21.1875 48.484375 17.84375 46.4375 \nQ 14.5 44.390625 14.5 40.28125 \nQ 14.5 37.15625 16.890625 35.375 \nQ 19.28125 33.59375 26.515625 31.984375 \nL 29.59375 31.296875 \nQ 39.15625 29.25 43.1875 25.515625 \nQ 47.21875 21.78125 47.21875 15.09375 \nQ 47.21875 7.46875 41.1875 3.015625 \nQ 35.15625 -1.421875 24.609375 -1.421875 \nQ 20.21875 -1.421875 15.453125 -0.5625 \nQ 10.6875 0.296875 5.421875 2 \nL 5.421875 11.28125 \nQ 10.40625 8.6875 15.234375 7.390625 \nQ 20.0625 6.109375 24.8125 6.109375 \nQ 31.15625 6.109375 34.5625 8.28125 \nQ 37.984375 10.453125 37.984375 14.40625 \nQ 37.984375 18.0625 35.515625 20.015625 \nQ 33.0625 21.96875 24.703125 23.78125 \nL 21.578125 24.515625 \nQ 13.234375 26.265625 9.515625 29.90625 \nQ 5.8125 33.546875 5.8125 39.890625 \nQ 5.8125 47.609375 11.28125 51.796875 \nQ 16.75 56 26.8125 56 \nQ 31.78125 56 36.171875 55.265625 \nQ 40.578125 54.546875 44.28125 53.078125 \nz\n\" id=\"DejaVuSans-115\"/>\n        <path d=\"M 56.203125 29.59375 \nL 56.203125 25.203125 \nL 14.890625 25.203125 \nQ 15.484375 15.921875 20.484375 11.0625 \nQ 25.484375 6.203125 34.421875 6.203125 \nQ 39.59375 6.203125 44.453125 7.46875 \nQ 49.3125 8.734375 54.109375 11.28125 \nL 54.109375 2.78125 \nQ 49.265625 0.734375 44.1875 -0.34375 \nQ 39.109375 -1.421875 33.890625 -1.421875 \nQ 20.796875 -1.421875 13.15625 6.1875 \nQ 5.515625 13.8125 5.515625 26.8125 \nQ 5.515625 40.234375 12.765625 48.109375 \nQ 20.015625 56 32.328125 56 \nQ 43.359375 56 49.78125 48.890625 \nQ 56.203125 41.796875 56.203125 29.59375 \nz\nM 47.21875 32.234375 \nQ 47.125 39.59375 43.09375 43.984375 \nQ 39.0625 48.390625 32.421875 48.390625 \nQ 24.90625 48.390625 20.390625 44.140625 \nQ 15.875 39.890625 15.1875 32.171875 \nz\n\" id=\"DejaVuSans-101\"/>\n        <path d=\"M 11.71875 12.40625 \nL 22.015625 12.40625 \nL 22.015625 4 \nL 14.015625 -11.625 \nL 7.71875 -11.625 \nL 11.71875 4 \nz\n\" id=\"DejaVuSans-44\"/>\n        <path id=\"DejaVuSans-32\"/>\n        <path d=\"M 8.015625 75.875 \nL 15.828125 75.875 \nQ 23.140625 64.359375 26.78125 53.3125 \nQ 30.421875 42.28125 30.421875 31.390625 \nQ 30.421875 20.453125 26.78125 9.375 \nQ 23.140625 -1.703125 15.828125 -13.1875 \nL 8.015625 -13.1875 \nQ 14.5 -2 17.703125 9.0625 \nQ 20.90625 20.125 20.90625 31.390625 \nQ 20.90625 42.671875 17.703125 53.65625 \nQ 14.5 64.65625 8.015625 75.875 \nz\n\" id=\"DejaVuSans-41\"/>\n       </defs>\n       <use xlink:href=\"#DejaVuSans-40\"/>\n       <use x=\"39.013672\" xlink:href=\"#DejaVuSans-70\"/>\n       <use x=\"87.408203\" xlink:href=\"#DejaVuSans-97\"/>\n       <use x=\"148.6875\" xlink:href=\"#DejaVuSans-108\"/>\n       <use x=\"176.470703\" xlink:href=\"#DejaVuSans-115\"/>\n       <use x=\"228.570312\" xlink:href=\"#DejaVuSans-101\"/>\n       <use x=\"290.09375\" xlink:href=\"#DejaVuSans-44\"/>\n       <use x=\"321.880859\" xlink:href=\"#DejaVuSans-32\"/>\n       <use x=\"353.667969\" xlink:href=\"#DejaVuSans-70\"/>\n       <use x=\"402.0625\" xlink:href=\"#DejaVuSans-97\"/>\n       <use x=\"463.341797\" xlink:href=\"#DejaVuSans-108\"/>\n       <use x=\"491.125\" xlink:href=\"#DejaVuSans-115\"/>\n       <use x=\"543.224609\" xlink:href=\"#DejaVuSans-101\"/>\n       <use x=\"604.748047\" xlink:href=\"#DejaVuSans-41\"/>\n      </g>\n     </g>\n    </g>\n    <g id=\"xtick_2\">\n     <g id=\"line2d_2\">\n      <g>\n       <use style=\"stroke:#000000;stroke-width:0.8;\" x=\"207.05\" xlink:href=\"#m7ff58f2d4b\" y=\"224.64\"/>\n      </g>\n     </g>\n     <g id=\"text_2\">\n      <!-- (True, False) -->\n      <g transform=\"translate(209.809375 292.141563)rotate(-90)scale(0.1 -0.1)\">\n       <defs>\n        <path d=\"M -0.296875 72.90625 \nL 61.375 72.90625 \nL 61.375 64.59375 \nL 35.5 64.59375 \nL 35.5 0 \nL 25.59375 0 \nL 25.59375 64.59375 \nL -0.296875 64.59375 \nz\n\" id=\"DejaVuSans-84\"/>\n        <path d=\"M 41.109375 46.296875 \nQ 39.59375 47.171875 37.8125 47.578125 \nQ 36.03125 48 33.890625 48 \nQ 26.265625 48 22.1875 43.046875 \nQ 18.109375 38.09375 18.109375 28.8125 \nL 18.109375 0 \nL 9.078125 0 \nL 9.078125 54.6875 \nL 18.109375 54.6875 \nL 18.109375 46.1875 \nQ 20.953125 51.171875 25.484375 53.578125 \nQ 30.03125 56 36.53125 56 \nQ 37.453125 56 38.578125 55.875 \nQ 39.703125 55.765625 41.0625 55.515625 \nz\n\" id=\"DejaVuSans-114\"/>\n        <path d=\"M 8.5 21.578125 \nL 8.5 54.6875 \nL 17.484375 54.6875 \nL 17.484375 21.921875 \nQ 17.484375 14.15625 20.5 10.265625 \nQ 23.53125 6.390625 29.59375 6.390625 \nQ 36.859375 6.390625 41.078125 11.03125 \nQ 45.3125 15.671875 45.3125 23.6875 \nL 45.3125 54.6875 \nL 54.296875 54.6875 \nL 54.296875 0 \nL 45.3125 0 \nL 45.3125 8.40625 \nQ 42.046875 3.421875 37.71875 1 \nQ 33.40625 -1.421875 27.6875 -1.421875 \nQ 18.265625 -1.421875 13.375 4.4375 \nQ 8.5 10.296875 8.5 21.578125 \nz\nM 31.109375 56 \nz\n\" id=\"DejaVuSans-117\"/>\n       </defs>\n       <use xlink:href=\"#DejaVuSans-40\"/>\n       <use x=\"39.013672\" xlink:href=\"#DejaVuSans-84\"/>\n       <use x=\"85.347656\" xlink:href=\"#DejaVuSans-114\"/>\n       <use x=\"126.460938\" xlink:href=\"#DejaVuSans-117\"/>\n       <use x=\"189.839844\" xlink:href=\"#DejaVuSans-101\"/>\n       <use x=\"251.363281\" xlink:href=\"#DejaVuSans-44\"/>\n       <use x=\"283.150391\" xlink:href=\"#DejaVuSans-32\"/>\n       <use x=\"314.9375\" xlink:href=\"#DejaVuSans-70\"/>\n       <use x=\"363.332031\" xlink:href=\"#DejaVuSans-97\"/>\n       <use x=\"424.611328\" xlink:href=\"#DejaVuSans-108\"/>\n       <use x=\"452.394531\" xlink:href=\"#DejaVuSans-115\"/>\n       <use x=\"504.494141\" xlink:href=\"#DejaVuSans-101\"/>\n       <use x=\"566.017578\" xlink:href=\"#DejaVuSans-41\"/>\n      </g>\n     </g>\n    </g>\n    <g id=\"xtick_3\">\n     <g id=\"line2d_3\">\n      <g>\n       <use style=\"stroke:#000000;stroke-width:0.8;\" x=\"318.65\" xlink:href=\"#m7ff58f2d4b\" y=\"224.64\"/>\n      </g>\n     </g>\n     <g id=\"text_3\">\n      <!-- (True, True) -->\n      <g transform=\"translate(321.409375 288.268125)rotate(-90)scale(0.1 -0.1)\">\n       <use xlink:href=\"#DejaVuSans-40\"/>\n       <use x=\"39.013672\" xlink:href=\"#DejaVuSans-84\"/>\n       <use x=\"85.347656\" xlink:href=\"#DejaVuSans-114\"/>\n       <use x=\"126.460938\" xlink:href=\"#DejaVuSans-117\"/>\n       <use x=\"189.839844\" xlink:href=\"#DejaVuSans-101\"/>\n       <use x=\"251.363281\" xlink:href=\"#DejaVuSans-44\"/>\n       <use x=\"283.150391\" xlink:href=\"#DejaVuSans-32\"/>\n       <use x=\"314.9375\" xlink:href=\"#DejaVuSans-84\"/>\n       <use x=\"361.271484\" xlink:href=\"#DejaVuSans-114\"/>\n       <use x=\"402.384766\" xlink:href=\"#DejaVuSans-117\"/>\n       <use x=\"465.763672\" xlink:href=\"#DejaVuSans-101\"/>\n       <use x=\"527.287109\" xlink:href=\"#DejaVuSans-41\"/>\n      </g>\n     </g>\n    </g>\n    <g id=\"text_4\">\n     <!-- url0,url1 -->\n     <g transform=\"translate(185.871875 307.613438)scale(0.1 -0.1)\">\n      <defs>\n       <path d=\"M 31.78125 66.40625 \nQ 24.171875 66.40625 20.328125 58.90625 \nQ 16.5 51.421875 16.5 36.375 \nQ 16.5 21.390625 20.328125 13.890625 \nQ 24.171875 6.390625 31.78125 6.390625 \nQ 39.453125 6.390625 43.28125 13.890625 \nQ 47.125 21.390625 47.125 36.375 \nQ 47.125 51.421875 43.28125 58.90625 \nQ 39.453125 66.40625 31.78125 66.40625 \nz\nM 31.78125 74.21875 \nQ 44.046875 74.21875 50.515625 64.515625 \nQ 56.984375 54.828125 56.984375 36.375 \nQ 56.984375 17.96875 50.515625 8.265625 \nQ 44.046875 -1.421875 31.78125 -1.421875 \nQ 19.53125 -1.421875 13.0625 8.265625 \nQ 6.59375 17.96875 6.59375 36.375 \nQ 6.59375 54.828125 13.0625 64.515625 \nQ 19.53125 74.21875 31.78125 74.21875 \nz\n\" id=\"DejaVuSans-48\"/>\n       <path d=\"M 12.40625 8.296875 \nL 28.515625 8.296875 \nL 28.515625 63.921875 \nL 10.984375 60.40625 \nL 10.984375 69.390625 \nL 28.421875 72.90625 \nL 38.28125 72.90625 \nL 38.28125 8.296875 \nL 54.390625 8.296875 \nL 54.390625 0 \nL 12.40625 0 \nz\n\" id=\"DejaVuSans-49\"/>\n      </defs>\n      <use xlink:href=\"#DejaVuSans-117\"/>\n      <use x=\"63.378906\" xlink:href=\"#DejaVuSans-114\"/>\n      <use x=\"104.492188\" xlink:href=\"#DejaVuSans-108\"/>\n      <use x=\"132.275391\" xlink:href=\"#DejaVuSans-48\"/>\n      <use x=\"195.898438\" xlink:href=\"#DejaVuSans-44\"/>\n      <use x=\"227.685547\" xlink:href=\"#DejaVuSans-117\"/>\n      <use x=\"291.064453\" xlink:href=\"#DejaVuSans-114\"/>\n      <use x=\"332.177734\" xlink:href=\"#DejaVuSans-108\"/>\n      <use x=\"359.960938\" xlink:href=\"#DejaVuSans-49\"/>\n     </g>\n    </g>\n   </g>\n   <g id=\"matplotlib.axis_2\">\n    <g id=\"ytick_1\">\n     <g id=\"line2d_4\">\n      <defs>\n       <path d=\"M 0 0 \nL -3.5 0 \n\" id=\"meaa73ec25b\" style=\"stroke:#000000;stroke-width:0.8;\"/>\n      </defs>\n      <g>\n       <use style=\"stroke:#000000;stroke-width:0.8;\" x=\"39.65\" xlink:href=\"#meaa73ec25b\" y=\"224.64\"/>\n      </g>\n     </g>\n     <g id=\"text_5\">\n      <!-- 0 -->\n      <g transform=\"translate(26.2875 228.439219)scale(0.1 -0.1)\">\n       <use xlink:href=\"#DejaVuSans-48\"/>\n      </g>\n     </g>\n    </g>\n    <g id=\"ytick_2\">\n     <g id=\"line2d_5\">\n      <g>\n       <use style=\"stroke:#000000;stroke-width:0.8;\" x=\"39.65\" xlink:href=\"#meaa73ec25b\" y=\"194.601457\"/>\n      </g>\n     </g>\n     <g id=\"text_6\">\n      <!-- 500 -->\n      <g transform=\"translate(13.5625 198.400676)scale(0.1 -0.1)\">\n       <defs>\n        <path d=\"M 10.796875 72.90625 \nL 49.515625 72.90625 \nL 49.515625 64.59375 \nL 19.828125 64.59375 \nL 19.828125 46.734375 \nQ 21.96875 47.46875 24.109375 47.828125 \nQ 26.265625 48.1875 28.421875 48.1875 \nQ 40.625 48.1875 47.75 41.5 \nQ 54.890625 34.8125 54.890625 23.390625 \nQ 54.890625 11.625 47.5625 5.09375 \nQ 40.234375 -1.421875 26.90625 -1.421875 \nQ 22.3125 -1.421875 17.546875 -0.640625 \nQ 12.796875 0.140625 7.71875 1.703125 \nL 7.71875 11.625 \nQ 12.109375 9.234375 16.796875 8.0625 \nQ 21.484375 6.890625 26.703125 6.890625 \nQ 35.15625 6.890625 40.078125 11.328125 \nQ 45.015625 15.765625 45.015625 23.390625 \nQ 45.015625 31 40.078125 35.4375 \nQ 35.15625 39.890625 26.703125 39.890625 \nQ 22.75 39.890625 18.8125 39.015625 \nQ 14.890625 38.140625 10.796875 36.28125 \nz\n\" id=\"DejaVuSans-53\"/>\n       </defs>\n       <use xlink:href=\"#DejaVuSans-53\"/>\n       <use x=\"63.623047\" xlink:href=\"#DejaVuSans-48\"/>\n       <use x=\"127.246094\" xlink:href=\"#DejaVuSans-48\"/>\n      </g>\n     </g>\n    </g>\n    <g id=\"ytick_3\">\n     <g id=\"line2d_6\">\n      <g>\n       <use style=\"stroke:#000000;stroke-width:0.8;\" x=\"39.65\" xlink:href=\"#meaa73ec25b\" y=\"164.562914\"/>\n      </g>\n     </g>\n     <g id=\"text_7\">\n      <!-- 1000 -->\n      <g transform=\"translate(7.2 168.362133)scale(0.1 -0.1)\">\n       <use xlink:href=\"#DejaVuSans-49\"/>\n       <use x=\"63.623047\" xlink:href=\"#DejaVuSans-48\"/>\n       <use x=\"127.246094\" xlink:href=\"#DejaVuSans-48\"/>\n       <use x=\"190.869141\" xlink:href=\"#DejaVuSans-48\"/>\n      </g>\n     </g>\n    </g>\n    <g id=\"ytick_4\">\n     <g id=\"line2d_7\">\n      <g>\n       <use style=\"stroke:#000000;stroke-width:0.8;\" x=\"39.65\" xlink:href=\"#meaa73ec25b\" y=\"134.524372\"/>\n      </g>\n     </g>\n     <g id=\"text_8\">\n      <!-- 1500 -->\n      <g transform=\"translate(7.2 138.32359)scale(0.1 -0.1)\">\n       <use xlink:href=\"#DejaVuSans-49\"/>\n       <use x=\"63.623047\" xlink:href=\"#DejaVuSans-53\"/>\n       <use x=\"127.246094\" xlink:href=\"#DejaVuSans-48\"/>\n       <use x=\"190.869141\" xlink:href=\"#DejaVuSans-48\"/>\n      </g>\n     </g>\n    </g>\n    <g id=\"ytick_5\">\n     <g id=\"line2d_8\">\n      <g>\n       <use style=\"stroke:#000000;stroke-width:0.8;\" x=\"39.65\" xlink:href=\"#meaa73ec25b\" y=\"104.485829\"/>\n      </g>\n     </g>\n     <g id=\"text_9\">\n      <!-- 2000 -->\n      <g transform=\"translate(7.2 108.285047)scale(0.1 -0.1)\">\n       <defs>\n        <path d=\"M 19.1875 8.296875 \nL 53.609375 8.296875 \nL 53.609375 0 \nL 7.328125 0 \nL 7.328125 8.296875 \nQ 12.9375 14.109375 22.625 23.890625 \nQ 32.328125 33.6875 34.8125 36.53125 \nQ 39.546875 41.84375 41.421875 45.53125 \nQ 43.3125 49.21875 43.3125 52.78125 \nQ 43.3125 58.59375 39.234375 62.25 \nQ 35.15625 65.921875 28.609375 65.921875 \nQ 23.96875 65.921875 18.8125 64.3125 \nQ 13.671875 62.703125 7.8125 59.421875 \nL 7.8125 69.390625 \nQ 13.765625 71.78125 18.9375 73 \nQ 24.125 74.21875 28.421875 74.21875 \nQ 39.75 74.21875 46.484375 68.546875 \nQ 53.21875 62.890625 53.21875 53.421875 \nQ 53.21875 48.921875 51.53125 44.890625 \nQ 49.859375 40.875 45.40625 35.40625 \nQ 44.1875 33.984375 37.640625 27.21875 \nQ 31.109375 20.453125 19.1875 8.296875 \nz\n\" id=\"DejaVuSans-50\"/>\n       </defs>\n       <use xlink:href=\"#DejaVuSans-50\"/>\n       <use x=\"63.623047\" xlink:href=\"#DejaVuSans-48\"/>\n       <use x=\"127.246094\" xlink:href=\"#DejaVuSans-48\"/>\n       <use x=\"190.869141\" xlink:href=\"#DejaVuSans-48\"/>\n      </g>\n     </g>\n    </g>\n    <g id=\"ytick_6\">\n     <g id=\"line2d_9\">\n      <g>\n       <use style=\"stroke:#000000;stroke-width:0.8;\" x=\"39.65\" xlink:href=\"#meaa73ec25b\" y=\"74.447286\"/>\n      </g>\n     </g>\n     <g id=\"text_10\">\n      <!-- 2500 -->\n      <g transform=\"translate(7.2 78.246505)scale(0.1 -0.1)\">\n       <use xlink:href=\"#DejaVuSans-50\"/>\n       <use x=\"63.623047\" xlink:href=\"#DejaVuSans-53\"/>\n       <use x=\"127.246094\" xlink:href=\"#DejaVuSans-48\"/>\n       <use x=\"190.869141\" xlink:href=\"#DejaVuSans-48\"/>\n      </g>\n     </g>\n    </g>\n    <g id=\"ytick_7\">\n     <g id=\"line2d_10\">\n      <g>\n       <use style=\"stroke:#000000;stroke-width:0.8;\" x=\"39.65\" xlink:href=\"#meaa73ec25b\" y=\"44.408743\"/>\n      </g>\n     </g>\n     <g id=\"text_11\">\n      <!-- 3000 -->\n      <g transform=\"translate(7.2 48.207962)scale(0.1 -0.1)\">\n       <defs>\n        <path d=\"M 40.578125 39.3125 \nQ 47.65625 37.796875 51.625 33 \nQ 55.609375 28.21875 55.609375 21.1875 \nQ 55.609375 10.40625 48.1875 4.484375 \nQ 40.765625 -1.421875 27.09375 -1.421875 \nQ 22.515625 -1.421875 17.65625 -0.515625 \nQ 12.796875 0.390625 7.625 2.203125 \nL 7.625 11.71875 \nQ 11.71875 9.328125 16.59375 8.109375 \nQ 21.484375 6.890625 26.8125 6.890625 \nQ 36.078125 6.890625 40.9375 10.546875 \nQ 45.796875 14.203125 45.796875 21.1875 \nQ 45.796875 27.640625 41.28125 31.265625 \nQ 36.765625 34.90625 28.71875 34.90625 \nL 20.21875 34.90625 \nL 20.21875 43.015625 \nL 29.109375 43.015625 \nQ 36.375 43.015625 40.234375 45.921875 \nQ 44.09375 48.828125 44.09375 54.296875 \nQ 44.09375 59.90625 40.109375 62.90625 \nQ 36.140625 65.921875 28.71875 65.921875 \nQ 24.65625 65.921875 20.015625 65.03125 \nQ 15.375 64.15625 9.8125 62.3125 \nL 9.8125 71.09375 \nQ 15.4375 72.65625 20.34375 73.4375 \nQ 25.25 74.21875 29.59375 74.21875 \nQ 40.828125 74.21875 47.359375 69.109375 \nQ 53.90625 64.015625 53.90625 55.328125 \nQ 53.90625 49.265625 50.4375 45.09375 \nQ 46.96875 40.921875 40.578125 39.3125 \nz\n\" id=\"DejaVuSans-51\"/>\n       </defs>\n       <use xlink:href=\"#DejaVuSans-51\"/>\n       <use x=\"63.623047\" xlink:href=\"#DejaVuSans-48\"/>\n       <use x=\"127.246094\" xlink:href=\"#DejaVuSans-48\"/>\n       <use x=\"190.869141\" xlink:href=\"#DejaVuSans-48\"/>\n      </g>\n     </g>\n    </g>\n    <g id=\"ytick_8\">\n     <g id=\"line2d_11\">\n      <g>\n       <use style=\"stroke:#000000;stroke-width:0.8;\" x=\"39.65\" xlink:href=\"#meaa73ec25b\" y=\"14.3702\"/>\n      </g>\n     </g>\n     <g id=\"text_12\">\n      <!-- 3500 -->\n      <g transform=\"translate(7.2 18.169419)scale(0.1 -0.1)\">\n       <use xlink:href=\"#DejaVuSans-51\"/>\n       <use x=\"63.623047\" xlink:href=\"#DejaVuSans-53\"/>\n       <use x=\"127.246094\" xlink:href=\"#DejaVuSans-48\"/>\n       <use x=\"190.869141\" xlink:href=\"#DejaVuSans-48\"/>\n      </g>\n     </g>\n    </g>\n   </g>\n   <g id=\"patch_6\">\n    <path d=\"M 39.65 224.64 \nL 39.65 7.2 \n\" style=\"fill:none;stroke:#000000;stroke-linecap:square;stroke-linejoin:miter;stroke-width:0.8;\"/>\n   </g>\n   <g id=\"patch_7\">\n    <path d=\"M 374.45 224.64 \nL 374.45 7.2 \n\" style=\"fill:none;stroke:#000000;stroke-linecap:square;stroke-linejoin:miter;stroke-width:0.8;\"/>\n   </g>\n   <g id=\"patch_8\">\n    <path d=\"M 39.65 224.64 \nL 374.45 224.64 \n\" style=\"fill:none;stroke:#000000;stroke-linecap:square;stroke-linejoin:miter;stroke-width:0.8;\"/>\n   </g>\n   <g id=\"patch_9\">\n    <path d=\"M 39.65 7.2 \nL 374.45 7.2 \n\" style=\"fill:none;stroke:#000000;stroke-linecap:square;stroke-linejoin:miter;stroke-width:0.8;\"/>\n   </g>\n   <g id=\"legend_1\">\n    <g id=\"patch_10\">\n     <path d=\"M 329.0875 29.878125 \nL 367.45 29.878125 \nQ 369.45 29.878125 369.45 27.878125 \nL 369.45 14.2 \nQ 369.45 12.2 367.45 12.2 \nL 329.0875 12.2 \nQ 327.0875 12.2 327.0875 14.2 \nL 327.0875 27.878125 \nQ 327.0875 29.878125 329.0875 29.878125 \nz\n\" style=\"fill:#ffffff;opacity:0.8;stroke:#cccccc;stroke-linejoin:miter;\"/>\n    </g>\n    <g id=\"patch_11\">\n     <path d=\"M 331.0875 23.798438 \nL 351.0875 23.798438 \nL 351.0875 16.798438 \nL 331.0875 16.798438 \nz\n\" style=\"fill:#1f77b4;\"/>\n    </g>\n    <g id=\"text_13\">\n     <!-- 0 -->\n     <g transform=\"translate(359.0875 23.798438)scale(0.1 -0.1)\">\n      <use xlink:href=\"#DejaVuSans-48\"/>\n     </g>\n    </g>\n   </g>\n  </g>\n </g>\n <defs>\n  <clipPath id=\"pf58402e011\">\n   <rect height=\"217.44\" width=\"334.8\" x=\"39.65\" y=\"7.2\"/>\n  </clipPath>\n </defs>\n</svg>\n",
      "image/png": "[encoded data removed]"
     },
     "metadata": {
      "needs_background": "light"
     }
    }
   ],
   "source": [
    "data_urls = df_data['urls_expanded']\n",
    "data_urls = pd.DataFrame([Find(data_urls[i]) for i, d in enumerate(data_urls)]).add_prefix('url')\n",
    "data_urls_bool = data_urls.astype(bool)\n",
    "print(\"\\n{}\".format(pd.DataFrame(data_urls_bool.value_counts())))\n",
    "pd.DataFrame(data_urls_bool.value_counts()).plot(kind='bar')\n",
    "data_urls_sum = pd.DataFrame(data_urls_bool[data_urls_bool==True].count(axis=1), columns=['NumOfUrls'])\n",
    "print('\\n{}'.format(data_urls_sum))\n",
    "data_urls_sum.to_csv('./urls_sum.csv', index = False)"
   ]
  },
  {
   "cell_type": "code",
   "execution_count": 140,
   "metadata": {},
   "outputs": [
    {
     "output_type": "stream",
     "name": "stdout",
     "text": [
      "\n               0\nurl0  url1      \nTrue  False  242\nFalse False  144\nTrue  True     4\n\n     NumOfUrls\n0            0\n1            0\n2            1\n3            0\n4            1\n..         ...\n385          1\n386          0\n387          0\n388          0\n389          1\n\n[390 rows x 1 columns]\n"
     ]
    },
    {
     "output_type": "display_data",
     "data": {
      "text/plain": "<Figure size 432x288 with 1 Axes>",
      "image/svg+xml": "<?xml version=\"1.0\" encoding=\"utf-8\" standalone=\"no\"?>\n<!DOCTYPE svg PUBLIC \"-//W3C//DTD SVG 1.1//EN\"\n  \"http://www.w3.org/Graphics/SVG/1.1/DTD/svg11.dtd\">\n<!-- Created with matplotlib (https://matplotlib.org/) -->\n<svg height=\"317.183867pt\" version=\"1.1\" viewBox=\"0 0 375.2875 317.183867\" width=\"375.2875pt\" xmlns=\"http://www.w3.org/2000/svg\" xmlns:xlink=\"http://www.w3.org/1999/xlink\">\n <metadata>\n  <rdf:RDF xmlns:cc=\"http://creativecommons.org/ns#\" xmlns:dc=\"http://purl.org/dc/elements/1.1/\" xmlns:rdf=\"http://www.w3.org/1999/02/22-rdf-syntax-ns#\">\n   <cc:Work>\n    <dc:type rdf:resource=\"http://purl.org/dc/dcmitype/StillImage\"/>\n    <dc:date>2021-01-04T18:57:54.820166</dc:date>\n    <dc:format>image/svg+xml</dc:format>\n    <dc:creator>\n     <cc:Agent>\n      <dc:title>Matplotlib v3.3.2, https://matplotlib.org/</dc:title>\n     </cc:Agent>\n    </dc:creator>\n   </cc:Work>\n  </rdf:RDF>\n </metadata>\n <defs>\n  <style type=\"text/css\">*{stroke-linecap:butt;stroke-linejoin:round;}</style>\n </defs>\n <g id=\"figure_1\">\n  <g id=\"patch_1\">\n   <path d=\"M 0 317.183867 \nL 375.2875 317.183867 \nL 375.2875 0 \nL 0 0 \nz\n\" style=\"fill:none;\"/>\n  </g>\n  <g id=\"axes_1\">\n   <g id=\"patch_2\">\n    <path d=\"M 33.2875 224.930742 \nL 368.0875 224.930742 \nL 368.0875 7.490742 \nL 33.2875 7.490742 \nz\n\" style=\"fill:#ffffff;\"/>\n   </g>\n   <g id=\"patch_3\">\n    <path clip-path=\"url(#pa8912385b2)\" d=\"M 61.1875 224.930742 \nL 116.9875 224.930742 \nL 116.9875 17.845027 \nL 61.1875 17.845027 \nz\n\" style=\"fill:#1f77b4;\"/>\n   </g>\n   <g id=\"patch_4\">\n    <path clip-path=\"url(#pa8912385b2)\" d=\"M 172.7875 224.930742 \nL 228.5875 224.930742 \nL 228.5875 101.706185 \nL 172.7875 101.706185 \nz\n\" style=\"fill:#1f77b4;\"/>\n   </g>\n   <g id=\"patch_5\">\n    <path clip-path=\"url(#pa8912385b2)\" d=\"M 284.3875 224.930742 \nL 340.1875 224.930742 \nL 340.1875 221.507837 \nL 284.3875 221.507837 \nz\n\" style=\"fill:#1f77b4;\"/>\n   </g>\n   <g id=\"matplotlib.axis_1\">\n    <g id=\"xtick_1\">\n     <g id=\"line2d_1\">\n      <defs>\n       <path d=\"M 0 0 \nL 0 3.5 \n\" id=\"m566022a5b3\" style=\"stroke:#000000;stroke-width:0.8;\"/>\n      </defs>\n      <g>\n       <use style=\"stroke:#000000;stroke-width:0.8;\" x=\"89.0875\" xlink:href=\"#m566022a5b3\" y=\"224.930742\"/>\n      </g>\n     </g>\n     <g id=\"text_1\">\n      <!-- (True, False) -->\n      <g transform=\"translate(91.846875 292.432304)rotate(-90)scale(0.1 -0.1)\">\n       <defs>\n        <path d=\"M 31 75.875 \nQ 24.46875 64.65625 21.28125 53.65625 \nQ 18.109375 42.671875 18.109375 31.390625 \nQ 18.109375 20.125 21.3125 9.0625 \nQ 24.515625 -2 31 -13.1875 \nL 23.1875 -13.1875 \nQ 15.875 -1.703125 12.234375 9.375 \nQ 8.59375 20.453125 8.59375 31.390625 \nQ 8.59375 42.28125 12.203125 53.3125 \nQ 15.828125 64.359375 23.1875 75.875 \nz\n\" id=\"DejaVuSans-40\"/>\n        <path d=\"M -0.296875 72.90625 \nL 61.375 72.90625 \nL 61.375 64.59375 \nL 35.5 64.59375 \nL 35.5 0 \nL 25.59375 0 \nL 25.59375 64.59375 \nL -0.296875 64.59375 \nz\n\" id=\"DejaVuSans-84\"/>\n        <path d=\"M 41.109375 46.296875 \nQ 39.59375 47.171875 37.8125 47.578125 \nQ 36.03125 48 33.890625 48 \nQ 26.265625 48 22.1875 43.046875 \nQ 18.109375 38.09375 18.109375 28.8125 \nL 18.109375 0 \nL 9.078125 0 \nL 9.078125 54.6875 \nL 18.109375 54.6875 \nL 18.109375 46.1875 \nQ 20.953125 51.171875 25.484375 53.578125 \nQ 30.03125 56 36.53125 56 \nQ 37.453125 56 38.578125 55.875 \nQ 39.703125 55.765625 41.0625 55.515625 \nz\n\" id=\"DejaVuSans-114\"/>\n        <path d=\"M 8.5 21.578125 \nL 8.5 54.6875 \nL 17.484375 54.6875 \nL 17.484375 21.921875 \nQ 17.484375 14.15625 20.5 10.265625 \nQ 23.53125 6.390625 29.59375 6.390625 \nQ 36.859375 6.390625 41.078125 11.03125 \nQ 45.3125 15.671875 45.3125 23.6875 \nL 45.3125 54.6875 \nL 54.296875 54.6875 \nL 54.296875 0 \nL 45.3125 0 \nL 45.3125 8.40625 \nQ 42.046875 3.421875 37.71875 1 \nQ 33.40625 -1.421875 27.6875 -1.421875 \nQ 18.265625 -1.421875 13.375 4.4375 \nQ 8.5 10.296875 8.5 21.578125 \nz\nM 31.109375 56 \nz\n\" id=\"DejaVuSans-117\"/>\n        <path d=\"M 56.203125 29.59375 \nL 56.203125 25.203125 \nL 14.890625 25.203125 \nQ 15.484375 15.921875 20.484375 11.0625 \nQ 25.484375 6.203125 34.421875 6.203125 \nQ 39.59375 6.203125 44.453125 7.46875 \nQ 49.3125 8.734375 54.109375 11.28125 \nL 54.109375 2.78125 \nQ 49.265625 0.734375 44.1875 -0.34375 \nQ 39.109375 -1.421875 33.890625 -1.421875 \nQ 20.796875 -1.421875 13.15625 6.1875 \nQ 5.515625 13.8125 5.515625 26.8125 \nQ 5.515625 40.234375 12.765625 48.109375 \nQ 20.015625 56 32.328125 56 \nQ 43.359375 56 49.78125 48.890625 \nQ 56.203125 41.796875 56.203125 29.59375 \nz\nM 47.21875 32.234375 \nQ 47.125 39.59375 43.09375 43.984375 \nQ 39.0625 48.390625 32.421875 48.390625 \nQ 24.90625 48.390625 20.390625 44.140625 \nQ 15.875 39.890625 15.1875 32.171875 \nz\n\" id=\"DejaVuSans-101\"/>\n        <path d=\"M 11.71875 12.40625 \nL 22.015625 12.40625 \nL 22.015625 4 \nL 14.015625 -11.625 \nL 7.71875 -11.625 \nL 11.71875 4 \nz\n\" id=\"DejaVuSans-44\"/>\n        <path id=\"DejaVuSans-32\"/>\n        <path d=\"M 9.8125 72.90625 \nL 51.703125 72.90625 \nL 51.703125 64.59375 \nL 19.671875 64.59375 \nL 19.671875 43.109375 \nL 48.578125 43.109375 \nL 48.578125 34.8125 \nL 19.671875 34.8125 \nL 19.671875 0 \nL 9.8125 0 \nz\n\" id=\"DejaVuSans-70\"/>\n        <path d=\"M 34.28125 27.484375 \nQ 23.390625 27.484375 19.1875 25 \nQ 14.984375 22.515625 14.984375 16.5 \nQ 14.984375 11.71875 18.140625 8.90625 \nQ 21.296875 6.109375 26.703125 6.109375 \nQ 34.1875 6.109375 38.703125 11.40625 \nQ 43.21875 16.703125 43.21875 25.484375 \nL 43.21875 27.484375 \nz\nM 52.203125 31.203125 \nL 52.203125 0 \nL 43.21875 0 \nL 43.21875 8.296875 \nQ 40.140625 3.328125 35.546875 0.953125 \nQ 30.953125 -1.421875 24.3125 -1.421875 \nQ 15.921875 -1.421875 10.953125 3.296875 \nQ 6 8.015625 6 15.921875 \nQ 6 25.140625 12.171875 29.828125 \nQ 18.359375 34.515625 30.609375 34.515625 \nL 43.21875 34.515625 \nL 43.21875 35.40625 \nQ 43.21875 41.609375 39.140625 45 \nQ 35.0625 48.390625 27.6875 48.390625 \nQ 23 48.390625 18.546875 47.265625 \nQ 14.109375 46.140625 10.015625 43.890625 \nL 10.015625 52.203125 \nQ 14.9375 54.109375 19.578125 55.046875 \nQ 24.21875 56 28.609375 56 \nQ 40.484375 56 46.34375 49.84375 \nQ 52.203125 43.703125 52.203125 31.203125 \nz\n\" id=\"DejaVuSans-97\"/>\n        <path d=\"M 9.421875 75.984375 \nL 18.40625 75.984375 \nL 18.40625 0 \nL 9.421875 0 \nz\n\" id=\"DejaVuSans-108\"/>\n        <path d=\"M 44.28125 53.078125 \nL 44.28125 44.578125 \nQ 40.484375 46.53125 36.375 47.5 \nQ 32.28125 48.484375 27.875 48.484375 \nQ 21.1875 48.484375 17.84375 46.4375 \nQ 14.5 44.390625 14.5 40.28125 \nQ 14.5 37.15625 16.890625 35.375 \nQ 19.28125 33.59375 26.515625 31.984375 \nL 29.59375 31.296875 \nQ 39.15625 29.25 43.1875 25.515625 \nQ 47.21875 21.78125 47.21875 15.09375 \nQ 47.21875 7.46875 41.1875 3.015625 \nQ 35.15625 -1.421875 24.609375 -1.421875 \nQ 20.21875 -1.421875 15.453125 -0.5625 \nQ 10.6875 0.296875 5.421875 2 \nL 5.421875 11.28125 \nQ 10.40625 8.6875 15.234375 7.390625 \nQ 20.0625 6.109375 24.8125 6.109375 \nQ 31.15625 6.109375 34.5625 8.28125 \nQ 37.984375 10.453125 37.984375 14.40625 \nQ 37.984375 18.0625 35.515625 20.015625 \nQ 33.0625 21.96875 24.703125 23.78125 \nL 21.578125 24.515625 \nQ 13.234375 26.265625 9.515625 29.90625 \nQ 5.8125 33.546875 5.8125 39.890625 \nQ 5.8125 47.609375 11.28125 51.796875 \nQ 16.75 56 26.8125 56 \nQ 31.78125 56 36.171875 55.265625 \nQ 40.578125 54.546875 44.28125 53.078125 \nz\n\" id=\"DejaVuSans-115\"/>\n        <path d=\"M 8.015625 75.875 \nL 15.828125 75.875 \nQ 23.140625 64.359375 26.78125 53.3125 \nQ 30.421875 42.28125 30.421875 31.390625 \nQ 30.421875 20.453125 26.78125 9.375 \nQ 23.140625 -1.703125 15.828125 -13.1875 \nL 8.015625 -13.1875 \nQ 14.5 -2 17.703125 9.0625 \nQ 20.90625 20.125 20.90625 31.390625 \nQ 20.90625 42.671875 17.703125 53.65625 \nQ 14.5 64.65625 8.015625 75.875 \nz\n\" id=\"DejaVuSans-41\"/>\n       </defs>\n       <use xlink:href=\"#DejaVuSans-40\"/>\n       <use x=\"39.013672\" xlink:href=\"#DejaVuSans-84\"/>\n       <use x=\"85.347656\" xlink:href=\"#DejaVuSans-114\"/>\n       <use x=\"126.460938\" xlink:href=\"#DejaVuSans-117\"/>\n       <use x=\"189.839844\" xlink:href=\"#DejaVuSans-101\"/>\n       <use x=\"251.363281\" xlink:href=\"#DejaVuSans-44\"/>\n       <use x=\"283.150391\" xlink:href=\"#DejaVuSans-32\"/>\n       <use x=\"314.9375\" xlink:href=\"#DejaVuSans-70\"/>\n       <use x=\"363.332031\" xlink:href=\"#DejaVuSans-97\"/>\n       <use x=\"424.611328\" xlink:href=\"#DejaVuSans-108\"/>\n       <use x=\"452.394531\" xlink:href=\"#DejaVuSans-115\"/>\n       <use x=\"504.494141\" xlink:href=\"#DejaVuSans-101\"/>\n       <use x=\"566.017578\" xlink:href=\"#DejaVuSans-41\"/>\n      </g>\n     </g>\n    </g>\n    <g id=\"xtick_2\">\n     <g id=\"line2d_2\">\n      <g>\n       <use style=\"stroke:#000000;stroke-width:0.8;\" x=\"200.6875\" xlink:href=\"#m566022a5b3\" y=\"224.930742\"/>\n      </g>\n     </g>\n     <g id=\"text_2\">\n      <!-- (False, False) -->\n      <g transform=\"translate(203.446875 296.305742)rotate(-90)scale(0.1 -0.1)\">\n       <use xlink:href=\"#DejaVuSans-40\"/>\n       <use x=\"39.013672\" xlink:href=\"#DejaVuSans-70\"/>\n       <use x=\"87.408203\" xlink:href=\"#DejaVuSans-97\"/>\n       <use x=\"148.6875\" xlink:href=\"#DejaVuSans-108\"/>\n       <use x=\"176.470703\" xlink:href=\"#DejaVuSans-115\"/>\n       <use x=\"228.570312\" xlink:href=\"#DejaVuSans-101\"/>\n       <use x=\"290.09375\" xlink:href=\"#DejaVuSans-44\"/>\n       <use x=\"321.880859\" xlink:href=\"#DejaVuSans-32\"/>\n       <use x=\"353.667969\" xlink:href=\"#DejaVuSans-70\"/>\n       <use x=\"402.0625\" xlink:href=\"#DejaVuSans-97\"/>\n       <use x=\"463.341797\" xlink:href=\"#DejaVuSans-108\"/>\n       <use x=\"491.125\" xlink:href=\"#DejaVuSans-115\"/>\n       <use x=\"543.224609\" xlink:href=\"#DejaVuSans-101\"/>\n       <use x=\"604.748047\" xlink:href=\"#DejaVuSans-41\"/>\n      </g>\n     </g>\n    </g>\n    <g id=\"xtick_3\">\n     <g id=\"line2d_3\">\n      <g>\n       <use style=\"stroke:#000000;stroke-width:0.8;\" x=\"312.2875\" xlink:href=\"#m566022a5b3\" y=\"224.930742\"/>\n      </g>\n     </g>\n     <g id=\"text_3\">\n      <!-- (True, True) -->\n      <g transform=\"translate(315.046875 288.558867)rotate(-90)scale(0.1 -0.1)\">\n       <use xlink:href=\"#DejaVuSans-40\"/>\n       <use x=\"39.013672\" xlink:href=\"#DejaVuSans-84\"/>\n       <use x=\"85.347656\" xlink:href=\"#DejaVuSans-114\"/>\n       <use x=\"126.460938\" xlink:href=\"#DejaVuSans-117\"/>\n       <use x=\"189.839844\" xlink:href=\"#DejaVuSans-101\"/>\n       <use x=\"251.363281\" xlink:href=\"#DejaVuSans-44\"/>\n       <use x=\"283.150391\" xlink:href=\"#DejaVuSans-32\"/>\n       <use x=\"314.9375\" xlink:href=\"#DejaVuSans-84\"/>\n       <use x=\"361.271484\" xlink:href=\"#DejaVuSans-114\"/>\n       <use x=\"402.384766\" xlink:href=\"#DejaVuSans-117\"/>\n       <use x=\"465.763672\" xlink:href=\"#DejaVuSans-101\"/>\n       <use x=\"527.287109\" xlink:href=\"#DejaVuSans-41\"/>\n      </g>\n     </g>\n    </g>\n    <g id=\"text_4\">\n     <!-- url0,url1 -->\n     <g transform=\"translate(179.509375 307.904179)scale(0.1 -0.1)\">\n      <defs>\n       <path d=\"M 31.78125 66.40625 \nQ 24.171875 66.40625 20.328125 58.90625 \nQ 16.5 51.421875 16.5 36.375 \nQ 16.5 21.390625 20.328125 13.890625 \nQ 24.171875 6.390625 31.78125 6.390625 \nQ 39.453125 6.390625 43.28125 13.890625 \nQ 47.125 21.390625 47.125 36.375 \nQ 47.125 51.421875 43.28125 58.90625 \nQ 39.453125 66.40625 31.78125 66.40625 \nz\nM 31.78125 74.21875 \nQ 44.046875 74.21875 50.515625 64.515625 \nQ 56.984375 54.828125 56.984375 36.375 \nQ 56.984375 17.96875 50.515625 8.265625 \nQ 44.046875 -1.421875 31.78125 -1.421875 \nQ 19.53125 -1.421875 13.0625 8.265625 \nQ 6.59375 17.96875 6.59375 36.375 \nQ 6.59375 54.828125 13.0625 64.515625 \nQ 19.53125 74.21875 31.78125 74.21875 \nz\n\" id=\"DejaVuSans-48\"/>\n       <path d=\"M 12.40625 8.296875 \nL 28.515625 8.296875 \nL 28.515625 63.921875 \nL 10.984375 60.40625 \nL 10.984375 69.390625 \nL 28.421875 72.90625 \nL 38.28125 72.90625 \nL 38.28125 8.296875 \nL 54.390625 8.296875 \nL 54.390625 0 \nL 12.40625 0 \nz\n\" id=\"DejaVuSans-49\"/>\n      </defs>\n      <use xlink:href=\"#DejaVuSans-117\"/>\n      <use x=\"63.378906\" xlink:href=\"#DejaVuSans-114\"/>\n      <use x=\"104.492188\" xlink:href=\"#DejaVuSans-108\"/>\n      <use x=\"132.275391\" xlink:href=\"#DejaVuSans-48\"/>\n      <use x=\"195.898438\" xlink:href=\"#DejaVuSans-44\"/>\n      <use x=\"227.685547\" xlink:href=\"#DejaVuSans-117\"/>\n      <use x=\"291.064453\" xlink:href=\"#DejaVuSans-114\"/>\n      <use x=\"332.177734\" xlink:href=\"#DejaVuSans-108\"/>\n      <use x=\"359.960938\" xlink:href=\"#DejaVuSans-49\"/>\n     </g>\n    </g>\n   </g>\n   <g id=\"matplotlib.axis_2\">\n    <g id=\"ytick_1\">\n     <g id=\"line2d_4\">\n      <defs>\n       <path d=\"M 0 0 \nL -3.5 0 \n\" id=\"mbf33b40cde\" style=\"stroke:#000000;stroke-width:0.8;\"/>\n      </defs>\n      <g>\n       <use style=\"stroke:#000000;stroke-width:0.8;\" x=\"33.2875\" xlink:href=\"#mbf33b40cde\" y=\"224.930742\"/>\n      </g>\n     </g>\n     <g id=\"text_5\">\n      <!-- 0 -->\n      <g transform=\"translate(19.925 228.729961)scale(0.1 -0.1)\">\n       <use xlink:href=\"#DejaVuSans-48\"/>\n      </g>\n     </g>\n    </g>\n    <g id=\"ytick_2\">\n     <g id=\"line2d_5\">\n      <g>\n       <use style=\"stroke:#000000;stroke-width:0.8;\" x=\"33.2875\" xlink:href=\"#mbf33b40cde\" y=\"182.144437\"/>\n      </g>\n     </g>\n     <g id=\"text_6\">\n      <!-- 50 -->\n      <g transform=\"translate(13.5625 185.943656)scale(0.1 -0.1)\">\n       <defs>\n        <path d=\"M 10.796875 72.90625 \nL 49.515625 72.90625 \nL 49.515625 64.59375 \nL 19.828125 64.59375 \nL 19.828125 46.734375 \nQ 21.96875 47.46875 24.109375 47.828125 \nQ 26.265625 48.1875 28.421875 48.1875 \nQ 40.625 48.1875 47.75 41.5 \nQ 54.890625 34.8125 54.890625 23.390625 \nQ 54.890625 11.625 47.5625 5.09375 \nQ 40.234375 -1.421875 26.90625 -1.421875 \nQ 22.3125 -1.421875 17.546875 -0.640625 \nQ 12.796875 0.140625 7.71875 1.703125 \nL 7.71875 11.625 \nQ 12.109375 9.234375 16.796875 8.0625 \nQ 21.484375 6.890625 26.703125 6.890625 \nQ 35.15625 6.890625 40.078125 11.328125 \nQ 45.015625 15.765625 45.015625 23.390625 \nQ 45.015625 31 40.078125 35.4375 \nQ 35.15625 39.890625 26.703125 39.890625 \nQ 22.75 39.890625 18.8125 39.015625 \nQ 14.890625 38.140625 10.796875 36.28125 \nz\n\" id=\"DejaVuSans-53\"/>\n       </defs>\n       <use xlink:href=\"#DejaVuSans-53\"/>\n       <use x=\"63.623047\" xlink:href=\"#DejaVuSans-48\"/>\n      </g>\n     </g>\n    </g>\n    <g id=\"ytick_3\">\n     <g id=\"line2d_6\">\n      <g>\n       <use style=\"stroke:#000000;stroke-width:0.8;\" x=\"33.2875\" xlink:href=\"#mbf33b40cde\" y=\"139.358133\"/>\n      </g>\n     </g>\n     <g id=\"text_7\">\n      <!-- 100 -->\n      <g transform=\"translate(7.2 143.157351)scale(0.1 -0.1)\">\n       <use xlink:href=\"#DejaVuSans-49\"/>\n       <use x=\"63.623047\" xlink:href=\"#DejaVuSans-48\"/>\n       <use x=\"127.246094\" xlink:href=\"#DejaVuSans-48\"/>\n      </g>\n     </g>\n    </g>\n    <g id=\"ytick_4\">\n     <g id=\"line2d_7\">\n      <g>\n       <use style=\"stroke:#000000;stroke-width:0.8;\" x=\"33.2875\" xlink:href=\"#mbf33b40cde\" y=\"96.571828\"/>\n      </g>\n     </g>\n     <g id=\"text_8\">\n      <!-- 150 -->\n      <g transform=\"translate(7.2 100.371047)scale(0.1 -0.1)\">\n       <use xlink:href=\"#DejaVuSans-49\"/>\n       <use x=\"63.623047\" xlink:href=\"#DejaVuSans-53\"/>\n       <use x=\"127.246094\" xlink:href=\"#DejaVuSans-48\"/>\n      </g>\n     </g>\n    </g>\n    <g id=\"ytick_5\">\n     <g id=\"line2d_8\">\n      <g>\n       <use style=\"stroke:#000000;stroke-width:0.8;\" x=\"33.2875\" xlink:href=\"#mbf33b40cde\" y=\"53.785523\"/>\n      </g>\n     </g>\n     <g id=\"text_9\">\n      <!-- 200 -->\n      <g transform=\"translate(7.2 57.584742)scale(0.1 -0.1)\">\n       <defs>\n        <path d=\"M 19.1875 8.296875 \nL 53.609375 8.296875 \nL 53.609375 0 \nL 7.328125 0 \nL 7.328125 8.296875 \nQ 12.9375 14.109375 22.625 23.890625 \nQ 32.328125 33.6875 34.8125 36.53125 \nQ 39.546875 41.84375 41.421875 45.53125 \nQ 43.3125 49.21875 43.3125 52.78125 \nQ 43.3125 58.59375 39.234375 62.25 \nQ 35.15625 65.921875 28.609375 65.921875 \nQ 23.96875 65.921875 18.8125 64.3125 \nQ 13.671875 62.703125 7.8125 59.421875 \nL 7.8125 69.390625 \nQ 13.765625 71.78125 18.9375 73 \nQ 24.125 74.21875 28.421875 74.21875 \nQ 39.75 74.21875 46.484375 68.546875 \nQ 53.21875 62.890625 53.21875 53.421875 \nQ 53.21875 48.921875 51.53125 44.890625 \nQ 49.859375 40.875 45.40625 35.40625 \nQ 44.1875 33.984375 37.640625 27.21875 \nQ 31.109375 20.453125 19.1875 8.296875 \nz\n\" id=\"DejaVuSans-50\"/>\n       </defs>\n       <use xlink:href=\"#DejaVuSans-50\"/>\n       <use x=\"63.623047\" xlink:href=\"#DejaVuSans-48\"/>\n       <use x=\"127.246094\" xlink:href=\"#DejaVuSans-48\"/>\n      </g>\n     </g>\n    </g>\n    <g id=\"ytick_6\">\n     <g id=\"line2d_9\">\n      <g>\n       <use style=\"stroke:#000000;stroke-width:0.8;\" x=\"33.2875\" xlink:href=\"#mbf33b40cde\" y=\"10.999219\"/>\n      </g>\n     </g>\n     <g id=\"text_10\">\n      <!-- 250 -->\n      <g transform=\"translate(7.2 14.798438)scale(0.1 -0.1)\">\n       <use xlink:href=\"#DejaVuSans-50\"/>\n       <use x=\"63.623047\" xlink:href=\"#DejaVuSans-53\"/>\n       <use x=\"127.246094\" xlink:href=\"#DejaVuSans-48\"/>\n      </g>\n     </g>\n    </g>\n   </g>\n   <g id=\"patch_6\">\n    <path d=\"M 33.2875 224.930742 \nL 33.2875 7.490742 \n\" style=\"fill:none;stroke:#000000;stroke-linecap:square;stroke-linejoin:miter;stroke-width:0.8;\"/>\n   </g>\n   <g id=\"patch_7\">\n    <path d=\"M 368.0875 224.930742 \nL 368.0875 7.490742 \n\" style=\"fill:none;stroke:#000000;stroke-linecap:square;stroke-linejoin:miter;stroke-width:0.8;\"/>\n   </g>\n   <g id=\"patch_8\">\n    <path d=\"M 33.2875 224.930742 \nL 368.0875 224.930742 \n\" style=\"fill:none;stroke:#000000;stroke-linecap:square;stroke-linejoin:miter;stroke-width:0.8;\"/>\n   </g>\n   <g id=\"patch_9\">\n    <path d=\"M 33.2875 7.490742 \nL 368.0875 7.490742 \n\" style=\"fill:none;stroke:#000000;stroke-linecap:square;stroke-linejoin:miter;stroke-width:0.8;\"/>\n   </g>\n   <g id=\"legend_1\">\n    <g id=\"patch_10\">\n     <path d=\"M 322.725 30.168867 \nL 361.0875 30.168867 \nQ 363.0875 30.168867 363.0875 28.168867 \nL 363.0875 14.490742 \nQ 363.0875 12.490742 361.0875 12.490742 \nL 322.725 12.490742 \nQ 320.725 12.490742 320.725 14.490742 \nL 320.725 28.168867 \nQ 320.725 30.168867 322.725 30.168867 \nz\n\" style=\"fill:#ffffff;opacity:0.8;stroke:#cccccc;stroke-linejoin:miter;\"/>\n    </g>\n    <g id=\"patch_11\">\n     <path d=\"M 324.725 24.089179 \nL 344.725 24.089179 \nL 344.725 17.089179 \nL 324.725 17.089179 \nz\n\" style=\"fill:#1f77b4;\"/>\n    </g>\n    <g id=\"text_11\">\n     <!-- 0 -->\n     <g transform=\"translate(352.725 24.089179)scale(0.1 -0.1)\">\n      <use xlink:href=\"#DejaVuSans-48\"/>\n     </g>\n    </g>\n   </g>\n  </g>\n </g>\n <defs>\n  <clipPath id=\"pa8912385b2\">\n   <rect height=\"217.44\" width=\"334.8\" x=\"33.2875\" y=\"7.490742\"/>\n  </clipPath>\n </defs>\n</svg>\n",
      "image/png": "[encoded data removed]"
     },
     "metadata": {
      "needs_background": "light"
     }
    }
   ],
   "source": [
    "data_urls = valid_whole['urls_expanded']\n",
    "data_urls = pd.DataFrame([Find(data_urls[i]) for i, d in enumerate(data_urls)]).add_prefix('url')\n",
    "data_urls_bool = data_urls.astype(bool)\n",
    "print(\"\\n{}\".format(pd.DataFrame(data_urls_bool.value_counts())))\n",
    "pd.DataFrame(data_urls_bool.value_counts()).plot(kind='bar')\n",
    "data_urls_sum = pd.DataFrame(data_urls_bool[data_urls_bool==True].count(axis=1), columns=['NumOfUrls'])\n",
    "print('\\n{}'.format(data_urls_sum))\n",
    "data_urls_sum.to_csv('./valid_urls_sum.csv', index = False)"
   ]
  },
  {
   "source": [
    "# Getting externel links"
   ],
   "cell_type": "markdown",
   "metadata": {}
  },
  {
   "cell_type": "code",
   "execution_count": 8,
   "metadata": {},
   "outputs": [],
   "source": [
    "import requests\n",
    "from bs4 import BeautifulSoup\n",
    "import matplotlib.pyplot as plt\n",
    "import seaborn as sns\n",
    "import os\n",
    "%matplotlib inline"
   ]
  },
  {
   "source": [
    "### Function"
   ],
   "cell_type": "markdown",
   "metadata": {}
  },
  {
   "cell_type": "code",
   "execution_count": 9,
   "metadata": {},
   "outputs": [],
   "source": [
    "def build_dataset(seed_urls):\n",
    "    # print(seed_urls)\n",
    "    news_data = []\n",
    "    # for link in urls_list\n",
    "    for index, url in enumerate(seed_urls):\n",
    "        if url == None:\n",
    "            break\n",
    "        news_category = url.split('/')[-1]\n",
    "        data = requests.get(url)\n",
    "        soup = BeautifulSoup(data.content, 'html.parser')\n",
    "        tags=soup.findAll('img')\n",
    "        \n",
    "        news_data.extend(tags)\n",
    "        \n",
    "    return news_data"
   ]
  },
  {
   "source": [
    "### Example code for a row of links"
   ],
   "cell_type": "markdown",
   "metadata": {}
  },
  {
   "cell_type": "code",
   "execution_count": 21,
   "metadata": {
    "tags": []
   },
   "outputs": [
    {
     "output_type": "stream",
     "name": "stdout",
     "text": [
      "Number of the image tags: 227\n"
     ]
    }
   ],
   "source": [
    "seed_urls = data_urls.iloc[3].tolist()\n",
    "news_df = build_dataset(seed_urls)\n",
    "\n",
    "print(\"Number of the image tags:\",len(news_df))"
   ]
  },
  {
   "cell_type": "code",
   "execution_count": 22,
   "metadata": {
    "tags": [
     "outputPrepend"
    ]
   },
   "outputs": [
    {
     "output_type": "stream",
     "name": "stdout",
     "text": [
      "er-169.jpg \n\ndata:image/gif;base64,R0lGODlhEAAJAJEAAAAAAP///////wAAACH5BAEAAAIALAAAAAAQAAkAAAIKlI+py+0Po5yUFQA7 \n\n//cdn.cnn.com/cnnnext/dam/assets/150107065511-04-paris-shooting-0107-super-169.jpg \n\ndata:image/gif;base64,R0lGODlhEAAJAJEAAAAAAP///////wAAACH5BAEAAAIALAAAAAAQAAkAAAIKlI+py+0Po5yUFQA7 \n\n//cdn.cnn.com/cnnnext/dam/assets/150107080632-13-paris-shooting-0107-super-169.jpg \n\ndata:image/gif;base64,R0lGODlhEAAJAJEAAAAAAP///////wAAACH5BAEAAAIALAAAAAAQAAkAAAIKlI+py+0Po5yUFQA7 \n\n//cdn.cnn.com/cnnnext/dam/assets/150107191853-36-paris-shooting-0107-super-169.jpg \n\ndata:image/gif;base64,R0lGODlhEAAJAJEAAAAAAP///////wAAACH5BAEAAAIALAAAAAAQAAkAAAIKlI+py+0Po5yUFQA7 \n\n//cdn.cnn.com/cnnnext/dam/assets/150107112350-29-paris-shooting-0107-restricted-super-169.jpg \n\ndata:image/gif;base64,R0lGODlhEAAJAJEAAAAAAP///////wAAACH5BAEAAAIALAAAAAAQAAkAAAIKlI+py+0Po5yUFQA7 \n\n//cdn.cnn.com/cnnnext/dam/assets/150107065554-05-paris-shooting-0107-super-169.jpg \n\ndata:image/gif;base64,R0lGODlhEAAJAJEAAAAAAP///////wAAACH5BAEAAAIALAAAAAAQAAkAAAIKlI+py+0Po5yUFQA7 \n\n//cdn.cnn.com/cnnnext/dam/assets/150107100538-19-paris-shooting-0107-super-169.jpg \n\ndata:image/gif;base64,R0lGODlhEAAJAJEAAAAAAP///////wAAACH5BAEAAAIALAAAAAAQAAkAAAIKlI+py+0Po5yUFQA7 \n\n//cdn.cnn.com/cnnnext/dam/assets/150107104647-27-paris-shooting-0107-super-169.jpg \n\ndata:image/gif;base64,R0lGODlhEAAJAJEAAAAAAP///////wAAACH5BAEAAAIALAAAAAAQAAkAAAIKlI+py+0Po5yUFQA7 \n\n//cdn.cnn.com/cnnnext/dam/assets/150107100813-restricted-21-paris-shooting-0107-super-169.jpg \n\ndata:image/gif;base64,R0lGODlhEAAJAJEAAAAAAP///////wAAACH5BAEAAAIALAAAAAAQAAkAAAIKlI+py+0Po5yUFQA7 \n\n//cdn.cnn.com/cnnnext/dam/assets/150107101025-23-paris-shooting-0107-super-169.jpg \n\ndata:image/gif;base64,R0lGODlhEAAJAJEAAAAAAP///////wAAACH5BAEAAAIALAAAAAAQAAkAAAIKlI+py+0Po5yUFQA7 \n\n//cdn.cnn.com/cnnnext/dam/assets/150107065404-03-paris-shooting-0107-super-169.jpg \n\ndata:image/gif;base64,R0lGODlhEAAJAJEAAAAAAP///////wAAACH5BAEAAAIALAAAAAAQAAkAAAIKlI+py+0Po5yUFQA7 \n\n//cdn.cnn.com/cnnnext/dam/assets/150107100931-restricted-22-paris-shooting-0107-super-169.jpg \n\ndata:image/gif;base64,R0lGODlhEAAJAJEAAAAAAP///////wAAACH5BAEAAAIALAAAAAAQAAkAAAIKlI+py+0Po5yUFQA7 \n\n//cdn.cnn.com/cnnnext/dam/assets/150107104031-25-paris-shooting-0107-super-169.jpg \n\ndata:image/gif;base64,R0lGODlhEAAJAJEAAAAAAP///////wAAACH5BAEAAAIALAAAAAAQAAkAAAIKlI+py+0Po5yUFQA7 \n\n//cdn.cnn.com/cnnnext/dam/assets/150107100722-20-paris-shooting-0107-super-169.jpg \n\ndata:image/gif;base64,R0lGODlhEAAJAJEAAAAAAP///////wAAACH5BAEAAAIALAAAAAAQAAkAAAIKlI+py+0Po5yUFQA7 \n\n//cdn.cnn.com/cnnnext/dam/assets/150107112217-30-paris-shooting-0107-super-169.jpg \n\ndata:image/gif;base64,R0lGODlhEAAJAJEAAAAAAP///////wAAACH5BAEAAAIALAAAAAAQAAkAAAIKlI+py+0Po5yUFQA7 \n\n//cdn.cnn.com/cnnnext/dam/assets/150107080635-15-paris-shooting-0107-restricted-super-169.jpg \n\ndata:image/gif;base64,R0lGODlhEAAJAJEAAAAAAP///////wAAACH5BAEAAAIALAAAAAAQAAkAAAIKlI+py+0Po5yUFQA7 \n\n//cdn.cnn.com/cnnnext/dam/assets/150107131313-restricted-32-paris-shooting-0107-super-169.jpg \n\ndata:image/gif;base64,R0lGODlhEAAJAJEAAAAAAP///////wAAACH5BAEAAAIALAAAAAAQAAkAAAIKlI+py+0Po5yUFQA7 \n\n//cdn.cnn.com/cnnnext/dam/assets/150107105012-restricted-28-paris-shooting-0107-super-169.jpg \n\ndata:image/gif;base64,R0lGODlhEAAJAJEAAAAAAP///////wAAACH5BAEAAAIALAAAAAAQAAkAAAIKlI+py+0Po5yUFQA7 \n\n//cdn.cnn.com/cnnnext/dam/assets/150107082615-16-paris-shooting-0107-super-169.jpg \n\ndata:image/gif;base64,R0lGODlhEAAJAJEAAAAAAP///////wAAACH5BAEAAAIALAAAAAAQAAkAAAIKlI+py+0Po5yUFQA7 \n\n//cdn.cnn.com/cnnnext/dam/assets/150107090940-17-paris-shooting-0107-super-169.jpg \n\ndata:image/gif;base64,R0lGODlhEAAJAJEAAAAAAP///////wAAACH5BAEAAAIALAAAAAAQAAkAAAIKlI+py+0Po5yUFQA7 \n\n//cdn.cnn.com/cnnnext/dam/assets/150107101113-24-paris-shooting-0107-super-169.jpg \n\ndata:image/gif;base64,R0lGODlhEAAJAJEAAAAAAP///////wAAACH5BAEAAAIALAAAAAAQAAkAAAIKlI+py+0Po5yUFQA7 \n\n//cdn.cnn.com/cnnnext/dam/assets/150107191106-31-paris-shooting-0107-super-169.jpg \n\ndata:image/gif;base64,R0lGODlhEAAJAJEAAAAAAP///////wAAACH5BAEAAAIALAAAAAAQAAkAAAIKlI+py+0Po5yUFQA7 \n\n//cdn.cnn.com/cnnnext/dam/assets/150108183801-paris-bloody-hallway-super-169.jpg \n\n//cdn.cnn.com/cnnnext/dam/assets/150107072449-07-paris-shooting-0107-small-11.jpg \n\n//cdn.cnn.com/cnnnext/dam/assets/150107233102-paris-attack-suspects-03-small-11.jpg \n\n//cdn.cnn.com/cnnnext/dam/assets/150107134311-restricted-18-paris-shooting-0107-small-11.jpg \n\n//cdn.cnn.com/cnnnext/dam/assets/150107180025-paris-shooting-youtube-0107-small-11.jpg \n\n//cdn.cnn.com/cnnnext/dam/assets/150107065511-04-paris-shooting-0107-small-11.jpg \n\n//cdn.cnn.com/cnnnext/dam/assets/150107080632-13-paris-shooting-0107-small-11.jpg \n\n//cdn.cnn.com/cnnnext/dam/assets/150107191853-36-paris-shooting-0107-small-11.jpg \n\n//cdn.cnn.com/cnnnext/dam/assets/150107112350-29-paris-shooting-0107-restricted-small-11.jpg \n\n//cdn.cnn.com/cnnnext/dam/assets/150107065554-05-paris-shooting-0107-small-11.jpg \n\n//cdn.cnn.com/cnnnext/dam/assets/150107100538-19-paris-shooting-0107-small-11.jpg \n\n//cdn.cnn.com/cnnnext/dam/assets/150107104647-27-paris-shooting-0107-small-11.jpg \n\n//cdn.cnn.com/cnnnext/dam/assets/150107100813-restricted-21-paris-shooting-0107-small-11.jpg \n\n//cdn.cnn.com/cnnnext/dam/assets/150107101025-23-paris-shooting-0107-small-11.jpg \n\n//cdn.cnn.com/cnnnext/dam/assets/150107065404-03-paris-shooting-0107-small-11.jpg \n\n//cdn.cnn.com/cnnnext/dam/assets/150107100931-restricted-22-paris-shooting-0107-small-11.jpg \n\n//cdn.cnn.com/cnnnext/dam/assets/150107104031-25-paris-shooting-0107-small-11.jpg \n\n//cdn.cnn.com/cnnnext/dam/assets/150107100722-20-paris-shooting-0107-small-11.jpg \n\n//cdn.cnn.com/cnnnext/dam/assets/150107112217-30-paris-shooting-0107-small-11.jpg \n\n//cdn.cnn.com/cnnnext/dam/assets/150107080635-15-paris-shooting-0107-restricted-small-11.jpg \n\n//cdn.cnn.com/cnnnext/dam/assets/150107131313-restricted-32-paris-shooting-0107-small-11.jpg \n\n//cdn.cnn.com/cnnnext/dam/assets/150107105012-restricted-28-paris-shooting-0107-small-11.jpg \n\n//cdn.cnn.com/cnnnext/dam/assets/150107082615-16-paris-shooting-0107-small-11.jpg \n\n//cdn.cnn.com/cnnnext/dam/assets/150107090940-17-paris-shooting-0107-small-11.jpg \n\n//cdn.cnn.com/cnnnext/dam/assets/150107101113-24-paris-shooting-0107-small-11.jpg \n\n//cdn.cnn.com/cnnnext/dam/assets/150107191106-31-paris-shooting-0107-small-11.jpg \n\n//cdn.cnn.com/cnnnext/dam/assets/150108183801-paris-bloody-hallway-small-11.jpg \n\ndata:image/gif;base64,R0lGODlhEAAJAJEAAAAAAP///////wAAACH5BAEAAAIALAAAAAAQAAkAAAIKlI+py+0Po5yUFQA7 \n\n//cdn.cnn.com/cnnnext/dam/assets/150109141646-wolf-bts-hollande-proud-of-our-police-new-00010112-large-169.jpg \n\n//cdn.cnn.com/cnnnext/dam/assets/150109141646-wolf-bts-hollande-proud-of-our-police-new-00010112-large-169.jpg \n\ndata:image/gif;base64,R0lGODlhEAAJAJEAAAAAAP///////wAAACH5BAEAAAIALAAAAAAQAAkAAAIKlI+py+0Po5yUFQA7 \n\n//cdn.cnn.com/cnnnext/dam/assets/150108121458-07-paris-shooting-0108-large-169.jpg \n\ndata:image/gif;base64,R0lGODlhEAAJAJEAAAAAAP///////wAAACH5BAEAAAIALAAAAAAQAAkAAAIKlI+py+0Po5yUFQA7 \n\n//cdn.cnn.com/cnnnext/dam/assets/150109121733-08-paris-shooting-0109-super-169.jpg \n\ndata:image/gif;base64,R0lGODlhEAAJAJEAAAAAAP///////wAAACH5BAEAAAIALAAAAAAQAAkAAAIKlI+py+0Po5yUFQA7 \n\n//cdn.cnn.com/cnnnext/dam/assets/150107233102-paris-attack-suspects-03-super-169.jpg \n\ndata:image/gif;base64,R0lGODlhEAAJAJEAAAAAAP///////wAAACH5BAEAAAIALAAAAAAQAAkAAAIKlI+py+0Po5yUFQA7 \n\n//cdn.cnn.com/cnnnext/dam/assets/150109122231-09-paris-shooting-0109-super-169.jpg \n\ndata:image/gif;base64,R0lGODlhEAAJAJEAAAAAAP///////wAAACH5BAEAAAIALAAAAAAQAAkAAAIKlI+py+0Po5yUFQA7 \n\n//cdn.cnn.com/cnnnext/dam/assets/150109120151-07-paris-shooting-0109-super-169.jpg \n\ndata:image/gif;base64,R0lGODlhEAAJAJEAAAAAAP///////wAAACH5BAEAAAIALAAAAAAQAAkAAAIKlI+py+0Po5yUFQA7 \n\n//cdn.cnn.com/cnnnext/dam/assets/150109150703-10-paris-shooting-0109-super-169.jpg \n\ndata:image/gif;base64,R0lGODlhEAAJAJEAAAAAAP///////wAAACH5BAEAAAIALAAAAAAQAAkAAAIKlI+py+0Po5yUFQA7 \n\n//cdn.cnn.com/cnnnext/dam/assets/150109150705-11-paris-shooting-0109-super-169.jpg \n\ndata:image/gif;base64,R0lGODlhEAAJAJEAAAAAAP///////wAAACH5BAEAAAIALAAAAAAQAAkAAAIKlI+py+0Po5yUFQA7 \n\n//cdn.cnn.com/cnnnext/dam/assets/150109094251-04-paris-shooting-0109-super-169.jpg \n\ndata:image/gif;base64,R0lGODlhEAAJAJEAAAAAAP///////wAAACH5BAEAAAIALAAAAAAQAAkAAAIKlI+py+0Po5yUFQA7 \n\n//cdn.cnn.com/cnnnext/dam/assets/150109095454-02a-france-manhunt-0109-super-169.jpg \n\ndata:image/gif;base64,R0lGODlhEAAJAJEAAAAAAP///////wAAACH5BAEAAAIALAAAAAAQAAkAAAIKlI+py+0Po5yUFQA7 \n\n//cdn.cnn.com/cnnnext/dam/assets/150111071701-restricted-01-paris-shooting-0111-super-169.jpg \n\ndata:image/gif;base64,R0lGODlhEAAJAJEAAAAAAP///////wAAACH5BAEAAAIALAAAAAAQAAkAAAIKlI+py+0Po5yUFQA7 \n\n//cdn.cnn.com/cnnnext/dam/assets/150109060509-01-paris-shooting-0109-super-169.jpg \n\ndata:image/gif;base64,R0lGODlhEAAJAJEAAAAAAP///////wAAACH5BAEAAAIALAAAAAAQAAkAAAIKlI+py+0Po5yUFQA7 \n\n//cdn.cnn.com/cnnnext/dam/assets/150109060318-superhero-01-paris-shooting-0109-super-169.jpg \n\ndata:image/gif;base64,R0lGODlhEAAJAJEAAAAAAP///////wAAACH5BAEAAAIALAAAAAAQAAkAAAIKlI+py+0Po5yUFQA7 \n\n//cdn.cnn.com/cnnnext/dam/assets/150109051001-france-shooting-super-169.jpg \n\ndata:image/gif;base64,R0lGODlhEAAJAJEAAAAAAP///////wAAACH5BAEAAAIALAAAAAAQAAkAAAIKlI+py+0Po5yUFQA7 \n\n//cdn.cnn.com/cnnnext/dam/assets/150109070411-03-paris-shooting-0109-super-169.jpg \n\ndata:image/gif;base64,R0lGODlhEAAJAJEAAAAAAP///////wAAACH5BAEAAAIALAAAAAAQAAkAAAIKlI+py+0Po5yUFQA7 \n\n//cdn.cnn.com/cnnnext/dam/assets/150109060723-02-paris-shooting-0109-super-169.jpg \n\ndata:image/gif;base64,R0lGODlhEAAJAJEAAAAAAP///////wAAACH5BAEAAAIALAAAAAAQAAkAAAIKlI+py+0Po5yUFQA7 \n\n//cdn.cnn.com/cnnnext/dam/assets/150109153039-charlie-hebdo-manhunt-super-169.jpg \n\ndata:image/gif;base64,R0lGODlhEAAJAJEAAAAAAP///////wAAACH5BAEAAAIALAAAAAAQAAkAAAIKlI+py+0Po5yUFQA7 \n\n//cdn.cnn.com/cnnnext/dam/assets/150108105605-02-paris-shooting-0108-super-169.jpg \n\ndata:image/gif;base64,R0lGODlhEAAJAJEAAAAAAP///////wAAACH5BAEAAAIALAAAAAAQAAkAAAIKlI+py+0Po5yUFQA7 \n\n//cdn.cnn.com/cnnnext/dam/assets/150108121458-07-paris-shooting-0108-super-169.jpg \n\ndata:image/gif;base64,R0lGODlhEAAJAJEAAAAAAP///////wAAACH5BAEAAAIALAAAAAAQAAkAAAIKlI+py+0Po5yUFQA7 \n\n//cdn.cnn.com/cnnnext/dam/assets/150108122037-08-paris-shooting-0108-super-169.jpeg \n\ndata:image/gif;base64,R0lGODlhEAAJAJEAAAAAAP///////wAAACH5BAEAAAIALAAAAAAQAAkAAAIKlI+py+0Po5yUFQA7 \n\n//cdn.cnn.com/cnnnext/dam/assets/150108115332-06-paris-shooting-0108-super-169.jpg \n\ndata:image/gif;base64,R0lGODlhEAAJAJEAAAAAAP///////wAAACH5BAEAAAIALAAAAAAQAAkAAAIKlI+py+0Po5yUFQA7 \n\n//cdn.cnn.com/cnnnext/dam/assets/150108112511-03-paris-shooting-0108-super-169.jpg \n\ndata:image/gif;base64,R0lGODlhEAAJAJEAAAAAAP///////wAAACH5BAEAAAIALAAAAAAQAAkAAAIKlI+py+0Po5yUFQA7 \n\n//cdn.cnn.com/cnnnext/dam/assets/150108085248-01-paris-shooting-0108-super-169.jpg \n\ndata:image/gif;base64,R0lGODlhEAAJAJEAAAAAAP///////wAAACH5BAEAAAIALAAAAAAQAAkAAAIKlI+py+0Po5yUFQA7 \n\n//cdn.cnn.com/cnnnext/dam/assets/150107231315-38-paris-shooting-0107-super-169.jpg \n\ndata:image/gif;base64,R0lGODlhEAAJAJEAAAAAAP///////wAAACH5BAEAAAIALAAAAAAQAAkAAAIKlI+py+0Po5yUFQA7 \n\n//cdn.cnn.com/cnnnext/dam/assets/150107203835-29-paris-shooting-0107-super-169.jpg \n\ndata:image/gif;base64,R0lGODlhEAAJAJEAAAAAAP///////wAAACH5BAEAAAIALAAAAAAQAAkAAAIKlI+py+0Po5yUFQA7 \n\n//cdn.cnn.com/cnnnext/dam/assets/150107203831-28-paris-shooting-0107-super-169.jpg \n\ndata:image/gif;base64,R0lGODlhEAAJAJEAAAAAAP///////wAAACH5BAEAAAIALAAAAAAQAAkAAAIKlI+py+0Po5yUFQA7 \n\n//cdn.cnn.com/cnnnext/dam/assets/150107200140-37-paris-shooting-0107-super-169.jpg \n\n//cdn.cnn.com/cnnnext/dam/assets/150109121733-08-paris-shooting-0109-small-11.jpg \n\n//cdn.cnn.com/cnnnext/dam/assets/150107233102-paris-attack-suspects-03-small-11.jpg \n\n//cdn.cnn.com/cnnnext/dam/assets/150109122231-09-paris-shooting-0109-small-11.jpg \n\n//cdn.cnn.com/cnnnext/dam/assets/150109120151-07-paris-shooting-0109-small-11.jpg \n\n//cdn.cnn.com/cnnnext/dam/assets/150109150703-10-paris-shooting-0109-small-11.jpg \n\n//cdn.cnn.com/cnnnext/dam/assets/150109150705-11-paris-shooting-0109-small-11.jpg \n\n//cdn.cnn.com/cnnnext/dam/assets/150109094251-04-paris-shooting-0109-small-11.jpg \n\n//cdn.cnn.com/cnnnext/dam/assets/150109095454-02a-france-manhunt-0109-small-11.jpg \n\n//cdn.cnn.com/cnnnext/dam/assets/150111071701-restricted-01-paris-shooting-0111-small-11.jpg \n\n//cdn.cnn.com/cnnnext/dam/assets/150109060509-01-paris-shooting-0109-small-11.jpg \n\n//cdn.cnn.com/cnnnext/dam/assets/150109060318-superhero-01-paris-shooting-0109-small-11.jpg \n\n//cdn.cnn.com/cnnnext/dam/assets/150109051001-france-shooting-small-11.jpg \n\n//cdn.cnn.com/cnnnext/dam/assets/150109070411-03-paris-shooting-0109-small-11.jpg \n\n//cdn.cnn.com/cnnnext/dam/assets/150109060723-02-paris-shooting-0109-small-11.jpg \n\n//cdn.cnn.com/cnnnext/dam/assets/150109153039-charlie-hebdo-manhunt-small-11.jpg \n\n//cdn.cnn.com/cnnnext/dam/assets/150108105605-02-paris-shooting-0108-small-11.jpg \n\n//cdn.cnn.com/cnnnext/dam/assets/150108121458-07-paris-shooting-0108-small-11.jpg \n\n//cdn.cnn.com/cnnnext/dam/assets/150108122037-08-paris-shooting-0108-small-11.jpeg \n\n//cdn.cnn.com/cnnnext/dam/assets/150108115332-06-paris-shooting-0108-small-11.jpg \n\n//cdn.cnn.com/cnnnext/dam/assets/150108112511-03-paris-shooting-0108-small-11.jpg \n\n//cdn.cnn.com/cnnnext/dam/assets/150108085248-01-paris-shooting-0108-small-11.jpg \n\n//cdn.cnn.com/cnnnext/dam/assets/150107231315-38-paris-shooting-0107-small-11.jpg \n\n//cdn.cnn.com/cnnnext/dam/assets/150107203835-29-paris-shooting-0107-small-11.jpg \n\n//cdn.cnn.com/cnnnext/dam/assets/150107203831-28-paris-shooting-0107-small-11.jpg \n\n//cdn.cnn.com/cnnnext/dam/assets/150107200140-37-paris-shooting-0107-small-11.jpg \n\ndata:image/gif;base64,R0lGODlhEAAJAJEAAAAAAP///////wAAACH5BAEAAAIALAAAAAAQAAkAAAIKlI+py+0Po5yUFQA7 \n\n//cdn.cnn.com/cnnnext/dam/assets/150110065919-01-paris-grocery-0110-super-169.jpg \n\ndata:image/gif;base64,R0lGODlhEAAJAJEAAAAAAP///////wAAACH5BAEAAAIALAAAAAAQAAkAAAIKlI+py+0Po5yUFQA7 \n\n//cdn.cnn.com/cnnnext/dam/assets/150110065919-01-paris-grocery-0110-super-169.jpg \n\ndata:image/gif;base64,R0lGODlhEAAJAJEAAAAAAP///////wAAACH5BAEAAAIALAAAAAAQAAkAAAIKlI+py+0Po5yUFQA7 \n\n//cdn.cnn.com/cnnnext/dam/assets/150110070023-02-paris-grocery-0110-super-169.jpg \n\ndata:image/gif;base64,R0lGODlhEAAJAJEAAAAAAP///////wAAACH5BAEAAAIALAAAAAAQAAkAAAIKlI+py+0Po5yUFQA7 \n\n//cdn.cnn.com/cnnnext/dam/assets/150109114822-02-vincennes-0109-super-169.jpg \n\ndata:image/gif;base64,R0lGODlhEAAJAJEAAAAAAP///////wAAACH5BAEAAAIALAAAAAAQAAkAAAIKlI+py+0Po5yUFQA7 \n\n//cdn.cnn.com/cnnnext/dam/assets/150109083926-paris-officer-killing-suspects-super-169.jpg \n\ndata:image/gif;base64,R0lGODlhEAAJAJEAAAAAAP///////wAAACH5BAEAAAIALAAAAAAQAAkAAAIKlI+py+0Po5yUFQA7 \n\n//cdn.cnn.com/cnnnext/dam/assets/150109115438-04-vincennes-0109-super-169.jpg \n\ndata:image/gif;base64,R0lGODlhEAAJAJEAAAAAAP///////wAAACH5BAEAAAIALAAAAAAQAAkAAAIKlI+py+0Po5yUFQA7 \n\n//cdn.cnn.com/cnnnext/dam/assets/150109115453-06-vincennes-0109-super-169.jpg \n\ndata:image/gif;base64,R0lGODlhEAAJAJEAAAAAAP///////wAAACH5BAEAAAIALAAAAAAQAAkAAAIKlI+py+0Po5yUFQA7 \n\n//cdn.cnn.com/cnnnext/dam/assets/150109145411-09-vincennes-0109-super-169.jpg \n\ndata:image/gif;base64,R0lGODlhEAAJAJEAAAAAAP///////wAAACH5BAEAAAIALAAAAAAQAAkAAAIKlI+py+0Po5yUFQA7 \n\n//cdn.cnn.com/cnnnext/dam/assets/150109114534-01-vincennes-0109-super-169.jpg \n\ndata:image/gif;base64,R0lGODlhEAAJAJEAAAAAAP///////wAAACH5BAEAAAIALAAAAAAQAAkAAAIKlI+py+0Po5yUFQA7 \n\n//cdn.cnn.com/cnnnext/dam/assets/150109115449-05-vincennes-0109-super-169.jpg \n\ndata:image/gif;base64,R0lGODlhEAAJAJEAAAAAAP///////wAAACH5BAEAAAIALAAAAAAQAAkAAAIKlI+py+0Po5yUFQA7 \n\n//cdn.cnn.com/cnnnext/dam/assets/150109091213-06-paris-grocery-0109-super-169.jpg \n\ndata:image/gif;base64,R0lGODlhEAAJAJEAAAAAAP///////wAAACH5BAEAAAIALAAAAAAQAAkAAAIKlI+py+0Po5yUFQA7 \n\n//cdn.cnn.com/cnnnext/dam/assets/150109110041-restricted-08-paris-grocery-0109-super-169.jpg \n\ndata:image/gif;base64,R0lGODlhEAAJAJEAAAAAAP///////wAAACH5BAEAAAIALAAAAAAQAAkAAAIKlI+py+0Po5yUFQA7 \n\n//cdn.cnn.com/cnnnext/dam/assets/150109083817-01-paris-grocery-0109-super-169.jpg \n\ndata:image/gif;base64,R0lGODlhEAAJAJEAAAAAAP///////wAAACH5BAEAAAIALAAAAAAQAAkAAAIKlI+py+0Po5yUFQA7 \n\n//cdn.cnn.com/cnnnext/dam/assets/150109093614-07-paris-grocery-0109-super-169.jpg \n\ndata:image/gif;base64,R0lGODlhEAAJAJEAAAAAAP///////wAAACH5BAEAAAIALAAAAAAQAAkAAAIKlI+py+0Po5yUFQA7 \n\n//cdn.cnn.com/cnnnext/dam/assets/150109085754-02-paris-grocery-0109-super-169.jpg \n\ndata:image/gif;base64,R0lGODlhEAAJAJEAAAAAAP///////wAAACH5BAEAAAIALAAAAAAQAAkAAAIKlI+py+0Po5yUFQA7 \n\n//cdn.cnn.com/cnnnext/dam/assets/150109090002-03-paris-grocery-0109-super-169.jpg \n\ndata:image/gif;base64,R0lGODlhEAAJAJEAAAAAAP///////wAAACH5BAEAAAIALAAAAAAQAAkAAAIKlI+py+0Po5yUFQA7 \n\n//cdn.cnn.com/cnnnext/dam/assets/150109111440-09-paris-grocery-0109-super-169.jpg \n\ndata:image/gif;base64,R0lGODlhEAAJAJEAAAAAAP///////wAAACH5BAEAAAIALAAAAAAQAAkAAAIKlI+py+0Po5yUFQA7 \n\n//cdn.cnn.com/cnnnext/dam/assets/150109090308-04-paris-grocery-0109-super-169.jpg \n\ndata:image/gif;base64,R0lGODlhEAAJAJEAAAAAAP///////wAAACH5BAEAAAIALAAAAAAQAAkAAAIKlI+py+0Po5yUFQA7 \n\n//cdn.cnn.com/cnnnext/dam/assets/150109090400-05-paris-grocery-0109-super-169.jpg \n\n//cdn.cnn.com/cnnnext/dam/assets/150110065919-01-paris-grocery-0110-small-11.jpg \n\n//cdn.cnn.com/cnnnext/dam/assets/150110070023-02-paris-grocery-0110-small-11.jpg \n\n//cdn.cnn.com/cnnnext/dam/assets/150109114822-02-vincennes-0109-small-11.jpg \n\n//cdn.cnn.com/cnnnext/dam/assets/150109083926-paris-officer-killing-suspects-small-11.jpg \n\n//cdn.cnn.com/cnnnext/dam/assets/150109115438-04-vincennes-0109-small-11.jpg \n\n//cdn.cnn.com/cnnnext/dam/assets/150109115453-06-vincennes-0109-small-11.jpg \n\n//cdn.cnn.com/cnnnext/dam/assets/150109145411-09-vincennes-0109-small-11.jpg \n\n//cdn.cnn.com/cnnnext/dam/assets/150109114534-01-vincennes-0109-small-11.jpg \n\n//cdn.cnn.com/cnnnext/dam/assets/150109115449-05-vincennes-0109-small-11.jpg \n\n//cdn.cnn.com/cnnnext/dam/assets/150109091213-06-paris-grocery-0109-small-11.jpg \n\n//cdn.cnn.com/cnnnext/dam/assets/150109110041-restricted-08-paris-grocery-0109-small-11.jpg \n\n//cdn.cnn.com/cnnnext/dam/assets/150109083817-01-paris-grocery-0109-small-11.jpg \n\n//cdn.cnn.com/cnnnext/dam/assets/150109093614-07-paris-grocery-0109-small-11.jpg \n\n//cdn.cnn.com/cnnnext/dam/assets/150109085754-02-paris-grocery-0109-small-11.jpg \n\n//cdn.cnn.com/cnnnext/dam/assets/150109090002-03-paris-grocery-0109-small-11.jpg \n\n//cdn.cnn.com/cnnnext/dam/assets/150109111440-09-paris-grocery-0109-small-11.jpg \n\n//cdn.cnn.com/cnnnext/dam/assets/150109090308-04-paris-grocery-0109-small-11.jpg \n\n//cdn.cnn.com/cnnnext/dam/assets/150109090400-05-paris-grocery-0109-small-11.jpg \n\ndata:image/gif;base64,R0lGODlhEAAJAJEAAAAAAP///////wAAACH5BAEAAAIALAAAAAAQAAkAAAIKlI+py+0Po5yUFQA7 \n\n//cdn.cnn.com/cnnnext/dam/assets/150109110237-paris-france-terror-map-large-169.jpg \n\ndata:image/gif;base64,R0lGODlhEAAJAJEAAAAAAP///////wAAACH5BAEAAAIALAAAAAAQAAkAAAIKlI+py+0Po5yUFQA7 \n\n//cdn.cnn.com/cnnnext/dam/assets/150107225102-ac-sciutto-paris-attack-tic-toc-00001902-large-169.jpg \n\n//cdn.cnn.com/cnnnext/dam/assets/150107225102-ac-sciutto-paris-attack-tic-toc-00001902-large-169.jpg \n\ndata:image/gif;base64,R0lGODlhEAAJAJEAAAAAAP///////wAAACH5BAEAAAIALAAAAAAQAAkAAAIKlI+py+0Po5yUFQA7 \n\n//cdn.cnn.com/cnnnext/dam/assets/150107233102-paris-attack-suspects-03-large-169.jpg \n\ndata:image/gif;base64,R0lGODlhEAAJAJEAAAAAAP///////wAAACH5BAEAAAIALAAAAAAQAAkAAAIKlI+py+0Po5yUFQA7 \n\n//cdn.cnn.com/cnnnext/dam/assets/150107223549-ac-pkg-foreman-paris-attack-victims-00002108-large-169.jpg \n\n//cdn.cnn.com/cnnnext/dam/assets/150107223549-ac-pkg-foreman-paris-attack-victims-00002108-large-169.jpg \n\ndata:image/gif;base64,R0lGODlhEAAJAJEAAAAAAP///////wAAACH5BAEAAAIALAAAAAAQAAkAAAIKlI+py+0Po5yUFQA7 \n\n//cdn.cnn.com/cnnnext/dam/assets/150107142307-map-charlie-hebdo-2-large-169.jpg \n\n//pixel.quantserve.com/pixel/p-D1yc5zQgjmqr5.gif?labels=noscript%3ANo%20Labels%20Set \n\n"
     ]
    },
    {
     "output_type": "execute_result",
     "data": {
      "text/plain": [
       "AP///////wAAACH5BAEAAAIALAAAAAAQAAkAAAIKlI+py+0Po5yUFQA7',\n",
       " '//cdn.cnn.com/cnnnext/dam/assets/150107191853-36-paris-shooting-0107-super-169.jpg',\n",
       " 'data:image/gif;base64,R0lGODlhEAAJAJEAAAAAAP///////wAAACH5BAEAAAIALAAAAAAQAAkAAAIKlI+py+0Po5yUFQA7',\n",
       " '//cdn.cnn.com/cnnnext/dam/assets/150107112350-29-paris-shooting-0107-restricted-super-169.jpg',\n",
       " 'data:image/gif;base64,R0lGODlhEAAJAJEAAAAAAP///////wAAACH5BAEAAAIALAAAAAAQAAkAAAIKlI+py+0Po5yUFQA7',\n",
       " '//cdn.cnn.com/cnnnext/dam/assets/150107065554-05-paris-shooting-0107-super-169.jpg',\n",
       " 'data:image/gif;base64,R0lGODlhEAAJAJEAAAAAAP///////wAAACH5BAEAAAIALAAAAAAQAAkAAAIKlI+py+0Po5yUFQA7',\n",
       " '//cdn.cnn.com/cnnnext/dam/assets/150107100538-19-paris-shooting-0107-super-169.jpg',\n",
       " 'data:image/gif;base64,R0lGODlhEAAJAJEAAAAAAP///////wAAACH5BAEAAAIALAAAAAAQAAkAAAIKlI+py+0Po5yUFQA7',\n",
       " '//cdn.cnn.com/cnnnext/dam/assets/150107104647-27-paris-shooting-0107-super-169.jpg',\n",
       " 'data:image/gif;base64,R0lGODlhEAAJAJEAAAAAAP///////wAAACH5BAEAAAIALAAAAAAQAAkAAAIKlI+py+0Po5yUFQA7',\n",
       " '//cdn.cnn.com/cnnnext/dam/assets/150107100813-restricted-21-paris-shooting-0107-super-169.jpg',\n",
       " 'data:image/gif;base64,R0lGODlhEAAJAJEAAAAAAP///////wAAACH5BAEAAAIALAAAAAAQAAkAAAIKlI+py+0Po5yUFQA7',\n",
       " '//cdn.cnn.com/cnnnext/dam/assets/150107101025-23-paris-shooting-0107-super-169.jpg',\n",
       " 'data:image/gif;base64,R0lGODlhEAAJAJEAAAAAAP///////wAAACH5BAEAAAIALAAAAAAQAAkAAAIKlI+py+0Po5yUFQA7',\n",
       " '//cdn.cnn.com/cnnnext/dam/assets/150107065404-03-paris-shooting-0107-super-169.jpg',\n",
       " 'data:image/gif;base64,R0lGODlhEAAJAJEAAAAAAP///////wAAACH5BAEAAAIALAAAAAAQAAkAAAIKlI+py+0Po5yUFQA7',\n",
       " '//cdn.cnn.com/cnnnext/dam/assets/150107100931-restricted-22-paris-shooting-0107-super-169.jpg',\n",
       " 'data:image/gif;base64,R0lGODlhEAAJAJEAAAAAAP///////wAAACH5BAEAAAIALAAAAAAQAAkAAAIKlI+py+0Po5yUFQA7',\n",
       " '//cdn.cnn.com/cnnnext/dam/assets/150107104031-25-paris-shooting-0107-super-169.jpg',\n",
       " 'data:image/gif;base64,R0lGODlhEAAJAJEAAAAAAP///////wAAACH5BAEAAAIALAAAAAAQAAkAAAIKlI+py+0Po5yUFQA7',\n",
       " '//cdn.cnn.com/cnnnext/dam/assets/150107100722-20-paris-shooting-0107-super-169.jpg',\n",
       " 'data:image/gif;base64,R0lGODlhEAAJAJEAAAAAAP///////wAAACH5BAEAAAIALAAAAAAQAAkAAAIKlI+py+0Po5yUFQA7',\n",
       " '//cdn.cnn.com/cnnnext/dam/assets/150107112217-30-paris-shooting-0107-super-169.jpg',\n",
       " 'data:image/gif;base64,R0lGODlhEAAJAJEAAAAAAP///////wAAACH5BAEAAAIALAAAAAAQAAkAAAIKlI+py+0Po5yUFQA7',\n",
       " '//cdn.cnn.com/cnnnext/dam/assets/150107080635-15-paris-shooting-0107-restricted-super-169.jpg',\n",
       " 'data:image/gif;base64,R0lGODlhEAAJAJEAAAAAAP///////wAAACH5BAEAAAIALAAAAAAQAAkAAAIKlI+py+0Po5yUFQA7',\n",
       " '//cdn.cnn.com/cnnnext/dam/assets/150107131313-restricted-32-paris-shooting-0107-super-169.jpg',\n",
       " 'data:image/gif;base64,R0lGODlhEAAJAJEAAAAAAP///////wAAACH5BAEAAAIALAAAAAAQAAkAAAIKlI+py+0Po5yUFQA7',\n",
       " '//cdn.cnn.com/cnnnext/dam/assets/150107105012-restricted-28-paris-shooting-0107-super-169.jpg',\n",
       " 'data:image/gif;base64,R0lGODlhEAAJAJEAAAAAAP///////wAAACH5BAEAAAIALAAAAAAQAAkAAAIKlI+py+0Po5yUFQA7',\n",
       " '//cdn.cnn.com/cnnnext/dam/assets/150107082615-16-paris-shooting-0107-super-169.jpg',\n",
       " 'data:image/gif;base64,R0lGODlhEAAJAJEAAAAAAP///////wAAACH5BAEAAAIALAAAAAAQAAkAAAIKlI+py+0Po5yUFQA7',\n",
       " '//cdn.cnn.com/cnnnext/dam/assets/150107090940-17-paris-shooting-0107-super-169.jpg',\n",
       " 'data:image/gif;base64,R0lGODlhEAAJAJEAAAAAAP///////wAAACH5BAEAAAIALAAAAAAQAAkAAAIKlI+py+0Po5yUFQA7',\n",
       " '//cdn.cnn.com/cnnnext/dam/assets/150107101113-24-paris-shooting-0107-super-169.jpg',\n",
       " 'data:image/gif;base64,R0lGODlhEAAJAJEAAAAAAP///////wAAACH5BAEAAAIALAAAAAAQAAkAAAIKlI+py+0Po5yUFQA7',\n",
       " '//cdn.cnn.com/cnnnext/dam/assets/150107191106-31-paris-shooting-0107-super-169.jpg',\n",
       " 'data:image/gif;base64,R0lGODlhEAAJAJEAAAAAAP///////wAAACH5BAEAAAIALAAAAAAQAAkAAAIKlI+py+0Po5yUFQA7',\n",
       " '//cdn.cnn.com/cnnnext/dam/assets/150108183801-paris-bloody-hallway-super-169.jpg',\n",
       " '//cdn.cnn.com/cnnnext/dam/assets/150107072449-07-paris-shooting-0107-small-11.jpg',\n",
       " '//cdn.cnn.com/cnnnext/dam/assets/150107233102-paris-attack-suspects-03-small-11.jpg',\n",
       " '//cdn.cnn.com/cnnnext/dam/assets/150107134311-restricted-18-paris-shooting-0107-small-11.jpg',\n",
       " '//cdn.cnn.com/cnnnext/dam/assets/150107180025-paris-shooting-youtube-0107-small-11.jpg',\n",
       " '//cdn.cnn.com/cnnnext/dam/assets/150107065511-04-paris-shooting-0107-small-11.jpg',\n",
       " '//cdn.cnn.com/cnnnext/dam/assets/150107080632-13-paris-shooting-0107-small-11.jpg',\n",
       " '//cdn.cnn.com/cnnnext/dam/assets/150107191853-36-paris-shooting-0107-small-11.jpg',\n",
       " '//cdn.cnn.com/cnnnext/dam/assets/150107112350-29-paris-shooting-0107-restricted-small-11.jpg',\n",
       " '//cdn.cnn.com/cnnnext/dam/assets/150107065554-05-paris-shooting-0107-small-11.jpg',\n",
       " '//cdn.cnn.com/cnnnext/dam/assets/150107100538-19-paris-shooting-0107-small-11.jpg',\n",
       " '//cdn.cnn.com/cnnnext/dam/assets/150107104647-27-paris-shooting-0107-small-11.jpg',\n",
       " '//cdn.cnn.com/cnnnext/dam/assets/150107100813-restricted-21-paris-shooting-0107-small-11.jpg',\n",
       " '//cdn.cnn.com/cnnnext/dam/assets/150107101025-23-paris-shooting-0107-small-11.jpg',\n",
       " '//cdn.cnn.com/cnnnext/dam/assets/150107065404-03-paris-shooting-0107-small-11.jpg',\n",
       " '//cdn.cnn.com/cnnnext/dam/assets/150107100931-restricted-22-paris-shooting-0107-small-11.jpg',\n",
       " '//cdn.cnn.com/cnnnext/dam/assets/150107104031-25-paris-shooting-0107-small-11.jpg',\n",
       " '//cdn.cnn.com/cnnnext/dam/assets/150107100722-20-paris-shooting-0107-small-11.jpg',\n",
       " '//cdn.cnn.com/cnnnext/dam/assets/150107112217-30-paris-shooting-0107-small-11.jpg',\n",
       " '//cdn.cnn.com/cnnnext/dam/assets/150107080635-15-paris-shooting-0107-restricted-small-11.jpg',\n",
       " '//cdn.cnn.com/cnnnext/dam/assets/150107131313-restricted-32-paris-shooting-0107-small-11.jpg',\n",
       " '//cdn.cnn.com/cnnnext/dam/assets/150107105012-restricted-28-paris-shooting-0107-small-11.jpg',\n",
       " '//cdn.cnn.com/cnnnext/dam/assets/150107082615-16-paris-shooting-0107-small-11.jpg',\n",
       " '//cdn.cnn.com/cnnnext/dam/assets/150107090940-17-paris-shooting-0107-small-11.jpg',\n",
       " '//cdn.cnn.com/cnnnext/dam/assets/150107101113-24-paris-shooting-0107-small-11.jpg',\n",
       " '//cdn.cnn.com/cnnnext/dam/assets/150107191106-31-paris-shooting-0107-small-11.jpg',\n",
       " '//cdn.cnn.com/cnnnext/dam/assets/150108183801-paris-bloody-hallway-small-11.jpg',\n",
       " 'data:image/gif;base64,R0lGODlhEAAJAJEAAAAAAP///////wAAACH5BAEAAAIALAAAAAAQAAkAAAIKlI+py+0Po5yUFQA7',\n",
       " '//cdn.cnn.com/cnnnext/dam/assets/150109141646-wolf-bts-hollande-proud-of-our-police-new-00010112-large-169.jpg',\n",
       " '//cdn.cnn.com/cnnnext/dam/assets/150109141646-wolf-bts-hollande-proud-of-our-police-new-00010112-large-169.jpg',\n",
       " 'data:image/gif;base64,R0lGODlhEAAJAJEAAAAAAP///////wAAACH5BAEAAAIALAAAAAAQAAkAAAIKlI+py+0Po5yUFQA7',\n",
       " '//cdn.cnn.com/cnnnext/dam/assets/150108121458-07-paris-shooting-0108-large-169.jpg',\n",
       " 'data:image/gif;base64,R0lGODlhEAAJAJEAAAAAAP///////wAAACH5BAEAAAIALAAAAAAQAAkAAAIKlI+py+0Po5yUFQA7',\n",
       " '//cdn.cnn.com/cnnnext/dam/assets/150109121733-08-paris-shooting-0109-super-169.jpg',\n",
       " 'data:image/gif;base64,R0lGODlhEAAJAJEAAAAAAP///////wAAACH5BAEAAAIALAAAAAAQAAkAAAIKlI+py+0Po5yUFQA7',\n",
       " '//cdn.cnn.com/cnnnext/dam/assets/150107233102-paris-attack-suspects-03-super-169.jpg',\n",
       " 'data:image/gif;base64,R0lGODlhEAAJAJEAAAAAAP///////wAAACH5BAEAAAIALAAAAAAQAAkAAAIKlI+py+0Po5yUFQA7',\n",
       " '//cdn.cnn.com/cnnnext/dam/assets/150109122231-09-paris-shooting-0109-super-169.jpg',\n",
       " 'data:image/gif;base64,R0lGODlhEAAJAJEAAAAAAP///////wAAACH5BAEAAAIALAAAAAAQAAkAAAIKlI+py+0Po5yUFQA7',\n",
       " '//cdn.cnn.com/cnnnext/dam/assets/150109120151-07-paris-shooting-0109-super-169.jpg',\n",
       " 'data:image/gif;base64,R0lGODlhEAAJAJEAAAAAAP///////wAAACH5BAEAAAIALAAAAAAQAAkAAAIKlI+py+0Po5yUFQA7',\n",
       " '//cdn.cnn.com/cnnnext/dam/assets/150109150703-10-paris-shooting-0109-super-169.jpg',\n",
       " 'data:image/gif;base64,R0lGODlhEAAJAJEAAAAAAP///////wAAACH5BAEAAAIALAAAAAAQAAkAAAIKlI+py+0Po5yUFQA7',\n",
       " '//cdn.cnn.com/cnnnext/dam/assets/150109150705-11-paris-shooting-0109-super-169.jpg',\n",
       " 'data:image/gif;base64,R0lGODlhEAAJAJEAAAAAAP///////wAAACH5BAEAAAIALAAAAAAQAAkAAAIKlI+py+0Po5yUFQA7',\n",
       " '//cdn.cnn.com/cnnnext/dam/assets/150109094251-04-paris-shooting-0109-super-169.jpg',\n",
       " 'data:image/gif;base64,R0lGODlhEAAJAJEAAAAAAP///////wAAACH5BAEAAAIALAAAAAAQAAkAAAIKlI+py+0Po5yUFQA7',\n",
       " '//cdn.cnn.com/cnnnext/dam/assets/150109095454-02a-france-manhunt-0109-super-169.jpg',\n",
       " 'data:image/gif;base64,R0lGODlhEAAJAJEAAAAAAP///////wAAACH5BAEAAAIALAAAAAAQAAkAAAIKlI+py+0Po5yUFQA7',\n",
       " '//cdn.cnn.com/cnnnext/dam/assets/150111071701-restricted-01-paris-shooting-0111-super-169.jpg',\n",
       " 'data:image/gif;base64,R0lGODlhEAAJAJEAAAAAAP///////wAAACH5BAEAAAIALAAAAAAQAAkAAAIKlI+py+0Po5yUFQA7',\n",
       " '//cdn.cnn.com/cnnnext/dam/assets/150109060509-01-paris-shooting-0109-super-169.jpg',\n",
       " 'data:image/gif;base64,R0lGODlhEAAJAJEAAAAAAP///////wAAACH5BAEAAAIALAAAAAAQAAkAAAIKlI+py+0Po5yUFQA7',\n",
       " '//cdn.cnn.com/cnnnext/dam/assets/150109060318-superhero-01-paris-shooting-0109-super-169.jpg',\n",
       " 'data:image/gif;base64,R0lGODlhEAAJAJEAAAAAAP///////wAAACH5BAEAAAIALAAAAAAQAAkAAAIKlI+py+0Po5yUFQA7',\n",
       " '//cdn.cnn.com/cnnnext/dam/assets/150109051001-france-shooting-super-169.jpg',\n",
       " 'data:image/gif;base64,R0lGODlhEAAJAJEAAAAAAP///////wAAACH5BAEAAAIALAAAAAAQAAkAAAIKlI+py+0Po5yUFQA7',\n",
       " '//cdn.cnn.com/cnnnext/dam/assets/150109070411-03-paris-shooting-0109-super-169.jpg',\n",
       " 'data:image/gif;base64,R0lGODlhEAAJAJEAAAAAAP///////wAAACH5BAEAAAIALAAAAAAQAAkAAAIKlI+py+0Po5yUFQA7',\n",
       " '//cdn.cnn.com/cnnnext/dam/assets/150109060723-02-paris-shooting-0109-super-169.jpg',\n",
       " 'data:image/gif;base64,R0lGODlhEAAJAJEAAAAAAP///////wAAACH5BAEAAAIALAAAAAAQAAkAAAIKlI+py+0Po5yUFQA7',\n",
       " '//cdn.cnn.com/cnnnext/dam/assets/150109153039-charlie-hebdo-manhunt-super-169.jpg',\n",
       " 'data:image/gif;base64,R0lGODlhEAAJAJEAAAAAAP///////wAAACH5BAEAAAIALAAAAAAQAAkAAAIKlI+py+0Po5yUFQA7',\n",
       " '//cdn.cnn.com/cnnnext/dam/assets/150108105605-02-paris-shooting-0108-super-169.jpg',\n",
       " 'data:image/gif;base64,R0lGODlhEAAJAJEAAAAAAP///////wAAACH5BAEAAAIALAAAAAAQAAkAAAIKlI+py+0Po5yUFQA7',\n",
       " '//cdn.cnn.com/cnnnext/dam/assets/150108121458-07-paris-shooting-0108-super-169.jpg',\n",
       " 'data:image/gif;base64,R0lGODlhEAAJAJEAAAAAAP///////wAAACH5BAEAAAIALAAAAAAQAAkAAAIKlI+py+0Po5yUFQA7',\n",
       " '//cdn.cnn.com/cnnnext/dam/assets/150108122037-08-paris-shooting-0108-super-169.jpeg',\n",
       " 'data:image/gif;base64,R0lGODlhEAAJAJEAAAAAAP///////wAAACH5BAEAAAIALAAAAAAQAAkAAAIKlI+py+0Po5yUFQA7',\n",
       " '//cdn.cnn.com/cnnnext/dam/assets/150108115332-06-paris-shooting-0108-super-169.jpg',\n",
       " 'data:image/gif;base64,R0lGODlhEAAJAJEAAAAAAP///////wAAACH5BAEAAAIALAAAAAAQAAkAAAIKlI+py+0Po5yUFQA7',\n",
       " '//cdn.cnn.com/cnnnext/dam/assets/150108112511-03-paris-shooting-0108-super-169.jpg',\n",
       " 'data:image/gif;base64,R0lGODlhEAAJAJEAAAAAAP///////wAAACH5BAEAAAIALAAAAAAQAAkAAAIKlI+py+0Po5yUFQA7',\n",
       " '//cdn.cnn.com/cnnnext/dam/assets/150108085248-01-paris-shooting-0108-super-169.jpg',\n",
       " 'data:image/gif;base64,R0lGODlhEAAJAJEAAAAAAP///////wAAACH5BAEAAAIALAAAAAAQAAkAAAIKlI+py+0Po5yUFQA7',\n",
       " '//cdn.cnn.com/cnnnext/dam/assets/150107231315-38-paris-shooting-0107-super-169.jpg',\n",
       " 'data:image/gif;base64,R0lGODlhEAAJAJEAAAAAAP///////wAAACH5BAEAAAIALAAAAAAQAAkAAAIKlI+py+0Po5yUFQA7',\n",
       " '//cdn.cnn.com/cnnnext/dam/assets/150107203835-29-paris-shooting-0107-super-169.jpg',\n",
       " 'data:image/gif;base64,R0lGODlhEAAJAJEAAAAAAP///////wAAACH5BAEAAAIALAAAAAAQAAkAAAIKlI+py+0Po5yUFQA7',\n",
       " '//cdn.cnn.com/cnnnext/dam/assets/150107203831-28-paris-shooting-0107-super-169.jpg',\n",
       " 'data:image/gif;base64,R0lGODlhEAAJAJEAAAAAAP///////wAAACH5BAEAAAIALAAAAAAQAAkAAAIKlI+py+0Po5yUFQA7',\n",
       " '//cdn.cnn.com/cnnnext/dam/assets/150107200140-37-paris-shooting-0107-super-169.jpg',\n",
       " '//cdn.cnn.com/cnnnext/dam/assets/150109121733-08-paris-shooting-0109-small-11.jpg',\n",
       " '//cdn.cnn.com/cnnnext/dam/assets/150107233102-paris-attack-suspects-03-small-11.jpg',\n",
       " '//cdn.cnn.com/cnnnext/dam/assets/150109122231-09-paris-shooting-0109-small-11.jpg',\n",
       " '//cdn.cnn.com/cnnnext/dam/assets/150109120151-07-paris-shooting-0109-small-11.jpg',\n",
       " '//cdn.cnn.com/cnnnext/dam/assets/150109150703-10-paris-shooting-0109-small-11.jpg',\n",
       " '//cdn.cnn.com/cnnnext/dam/assets/150109150705-11-paris-shooting-0109-small-11.jpg',\n",
       " '//cdn.cnn.com/cnnnext/dam/assets/150109094251-04-paris-shooting-0109-small-11.jpg',\n",
       " '//cdn.cnn.com/cnnnext/dam/assets/150109095454-02a-france-manhunt-0109-small-11.jpg',\n",
       " '//cdn.cnn.com/cnnnext/dam/assets/150111071701-restricted-01-paris-shooting-0111-small-11.jpg',\n",
       " '//cdn.cnn.com/cnnnext/dam/assets/150109060509-01-paris-shooting-0109-small-11.jpg',\n",
       " '//cdn.cnn.com/cnnnext/dam/assets/150109060318-superhero-01-paris-shooting-0109-small-11.jpg',\n",
       " '//cdn.cnn.com/cnnnext/dam/assets/150109051001-france-shooting-small-11.jpg',\n",
       " '//cdn.cnn.com/cnnnext/dam/assets/150109070411-03-paris-shooting-0109-small-11.jpg',\n",
       " '//cdn.cnn.com/cnnnext/dam/assets/150109060723-02-paris-shooting-0109-small-11.jpg',\n",
       " '//cdn.cnn.com/cnnnext/dam/assets/150109153039-charlie-hebdo-manhunt-small-11.jpg',\n",
       " '//cdn.cnn.com/cnnnext/dam/assets/150108105605-02-paris-shooting-0108-small-11.jpg',\n",
       " '//cdn.cnn.com/cnnnext/dam/assets/150108121458-07-paris-shooting-0108-small-11.jpg',\n",
       " '//cdn.cnn.com/cnnnext/dam/assets/150108122037-08-paris-shooting-0108-small-11.jpeg',\n",
       " '//cdn.cnn.com/cnnnext/dam/assets/150108115332-06-paris-shooting-0108-small-11.jpg',\n",
       " '//cdn.cnn.com/cnnnext/dam/assets/150108112511-03-paris-shooting-0108-small-11.jpg',\n",
       " '//cdn.cnn.com/cnnnext/dam/assets/150108085248-01-paris-shooting-0108-small-11.jpg',\n",
       " '//cdn.cnn.com/cnnnext/dam/assets/150107231315-38-paris-shooting-0107-small-11.jpg',\n",
       " '//cdn.cnn.com/cnnnext/dam/assets/150107203835-29-paris-shooting-0107-small-11.jpg',\n",
       " '//cdn.cnn.com/cnnnext/dam/assets/150107203831-28-paris-shooting-0107-small-11.jpg',\n",
       " '//cdn.cnn.com/cnnnext/dam/assets/150107200140-37-paris-shooting-0107-small-11.jpg',\n",
       " 'data:image/gif;base64,R0lGODlhEAAJAJEAAAAAAP///////wAAACH5BAEAAAIALAAAAAAQAAkAAAIKlI+py+0Po5yUFQA7',\n",
       " '//cdn.cnn.com/cnnnext/dam/assets/150110065919-01-paris-grocery-0110-super-169.jpg',\n",
       " 'data:image/gif;base64,R0lGODlhEAAJAJEAAAAAAP///////wAAACH5BAEAAAIALAAAAAAQAAkAAAIKlI+py+0Po5yUFQA7',\n",
       " '//cdn.cnn.com/cnnnext/dam/assets/150110065919-01-paris-grocery-0110-super-169.jpg',\n",
       " 'data:image/gif;base64,R0lGODlhEAAJAJEAAAAAAP///////wAAACH5BAEAAAIALAAAAAAQAAkAAAIKlI+py+0Po5yUFQA7',\n",
       " '//cdn.cnn.com/cnnnext/dam/assets/150110070023-02-paris-grocery-0110-super-169.jpg',\n",
       " 'data:image/gif;base64,R0lGODlhEAAJAJEAAAAAAP///////wAAACH5BAEAAAIALAAAAAAQAAkAAAIKlI+py+0Po5yUFQA7',\n",
       " '//cdn.cnn.com/cnnnext/dam/assets/150109114822-02-vincennes-0109-super-169.jpg',\n",
       " 'data:image/gif;base64,R0lGODlhEAAJAJEAAAAAAP///////wAAACH5BAEAAAIALAAAAAAQAAkAAAIKlI+py+0Po5yUFQA7',\n",
       " '//cdn.cnn.com/cnnnext/dam/assets/150109083926-paris-officer-killing-suspects-super-169.jpg',\n",
       " 'data:image/gif;base64,R0lGODlhEAAJAJEAAAAAAP///////wAAACH5BAEAAAIALAAAAAAQAAkAAAIKlI+py+0Po5yUFQA7',\n",
       " '//cdn.cnn.com/cnnnext/dam/assets/150109115438-04-vincennes-0109-super-169.jpg',\n",
       " 'data:image/gif;base64,R0lGODlhEAAJAJEAAAAAAP///////wAAACH5BAEAAAIALAAAAAAQAAkAAAIKlI+py+0Po5yUFQA7',\n",
       " '//cdn.cnn.com/cnnnext/dam/assets/150109115453-06-vincennes-0109-super-169.jpg',\n",
       " 'data:image/gif;base64,R0lGODlhEAAJAJEAAAAAAP///////wAAACH5BAEAAAIALAAAAAAQAAkAAAIKlI+py+0Po5yUFQA7',\n",
       " '//cdn.cnn.com/cnnnext/dam/assets/150109145411-09-vincennes-0109-super-169.jpg',\n",
       " 'data:image/gif;base64,R0lGODlhEAAJAJEAAAAAAP///////wAAACH5BAEAAAIALAAAAAAQAAkAAAIKlI+py+0Po5yUFQA7',\n",
       " '//cdn.cnn.com/cnnnext/dam/assets/150109114534-01-vincennes-0109-super-169.jpg',\n",
       " 'data:image/gif;base64,R0lGODlhEAAJAJEAAAAAAP///////wAAACH5BAEAAAIALAAAAAAQAAkAAAIKlI+py+0Po5yUFQA7',\n",
       " '//cdn.cnn.com/cnnnext/dam/assets/150109115449-05-vincennes-0109-super-169.jpg',\n",
       " 'data:image/gif;base64,R0lGODlhEAAJAJEAAAAAAP///////wAAACH5BAEAAAIALAAAAAAQAAkAAAIKlI+py+0Po5yUFQA7',\n",
       " '//cdn.cnn.com/cnnnext/dam/assets/150109091213-06-paris-grocery-0109-super-169.jpg',\n",
       " 'data:image/gif;base64,R0lGODlhEAAJAJEAAAAAAP///////wAAACH5BAEAAAIALAAAAAAQAAkAAAIKlI+py+0Po5yUFQA7',\n",
       " '//cdn.cnn.com/cnnnext/dam/assets/150109110041-restricted-08-paris-grocery-0109-super-169.jpg',\n",
       " 'data:image/gif;base64,R0lGODlhEAAJAJEAAAAAAP///////wAAACH5BAEAAAIALAAAAAAQAAkAAAIKlI+py+0Po5yUFQA7',\n",
       " '//cdn.cnn.com/cnnnext/dam/assets/150109083817-01-paris-grocery-0109-super-169.jpg',\n",
       " 'data:image/gif;base64,R0lGODlhEAAJAJEAAAAAAP///////wAAACH5BAEAAAIALAAAAAAQAAkAAAIKlI+py+0Po5yUFQA7',\n",
       " '//cdn.cnn.com/cnnnext/dam/assets/150109093614-07-paris-grocery-0109-super-169.jpg',\n",
       " 'data:image/gif;base64,R0lGODlhEAAJAJEAAAAAAP///////wAAACH5BAEAAAIALAAAAAAQAAkAAAIKlI+py+0Po5yUFQA7',\n",
       " '//cdn.cnn.com/cnnnext/dam/assets/150109085754-02-paris-grocery-0109-super-169.jpg',\n",
       " 'data:image/gif;base64,R0lGODlhEAAJAJEAAAAAAP///////wAAACH5BAEAAAIALAAAAAAQAAkAAAIKlI+py+0Po5yUFQA7',\n",
       " '//cdn.cnn.com/cnnnext/dam/assets/150109090002-03-paris-grocery-0109-super-169.jpg',\n",
       " 'data:image/gif;base64,R0lGODlhEAAJAJEAAAAAAP///////wAAACH5BAEAAAIALAAAAAAQAAkAAAIKlI+py+0Po5yUFQA7',\n",
       " '//cdn.cnn.com/cnnnext/dam/assets/150109111440-09-paris-grocery-0109-super-169.jpg',\n",
       " 'data:image/gif;base64,R0lGODlhEAAJAJEAAAAAAP///////wAAACH5BAEAAAIALAAAAAAQAAkAAAIKlI+py+0Po5yUFQA7',\n",
       " '//cdn.cnn.com/cnnnext/dam/assets/150109090308-04-paris-grocery-0109-super-169.jpg',\n",
       " 'data:image/gif;base64,R0lGODlhEAAJAJEAAAAAAP///////wAAACH5BAEAAAIALAAAAAAQAAkAAAIKlI+py+0Po5yUFQA7',\n",
       " '//cdn.cnn.com/cnnnext/dam/assets/150109090400-05-paris-grocery-0109-super-169.jpg',\n",
       " '//cdn.cnn.com/cnnnext/dam/assets/150110065919-01-paris-grocery-0110-small-11.jpg',\n",
       " '//cdn.cnn.com/cnnnext/dam/assets/150110070023-02-paris-grocery-0110-small-11.jpg',\n",
       " '//cdn.cnn.com/cnnnext/dam/assets/150109114822-02-vincennes-0109-small-11.jpg',\n",
       " '//cdn.cnn.com/cnnnext/dam/assets/150109083926-paris-officer-killing-suspects-small-11.jpg',\n",
       " '//cdn.cnn.com/cnnnext/dam/assets/150109115438-04-vincennes-0109-small-11.jpg',\n",
       " '//cdn.cnn.com/cnnnext/dam/assets/150109115453-06-vincennes-0109-small-11.jpg',\n",
       " '//cdn.cnn.com/cnnnext/dam/assets/150109145411-09-vincennes-0109-small-11.jpg',\n",
       " '//cdn.cnn.com/cnnnext/dam/assets/150109114534-01-vincennes-0109-small-11.jpg',\n",
       " '//cdn.cnn.com/cnnnext/dam/assets/150109115449-05-vincennes-0109-small-11.jpg',\n",
       " '//cdn.cnn.com/cnnnext/dam/assets/150109091213-06-paris-grocery-0109-small-11.jpg',\n",
       " '//cdn.cnn.com/cnnnext/dam/assets/150109110041-restricted-08-paris-grocery-0109-small-11.jpg',\n",
       " '//cdn.cnn.com/cnnnext/dam/assets/150109083817-01-paris-grocery-0109-small-11.jpg',\n",
       " '//cdn.cnn.com/cnnnext/dam/assets/150109093614-07-paris-grocery-0109-small-11.jpg',\n",
       " '//cdn.cnn.com/cnnnext/dam/assets/150109085754-02-paris-grocery-0109-small-11.jpg',\n",
       " '//cdn.cnn.com/cnnnext/dam/assets/150109090002-03-paris-grocery-0109-small-11.jpg',\n",
       " '//cdn.cnn.com/cnnnext/dam/assets/150109111440-09-paris-grocery-0109-small-11.jpg',\n",
       " '//cdn.cnn.com/cnnnext/dam/assets/150109090308-04-paris-grocery-0109-small-11.jpg',\n",
       " '//cdn.cnn.com/cnnnext/dam/assets/150109090400-05-paris-grocery-0109-small-11.jpg',\n",
       " 'data:image/gif;base64,R0lGODlhEAAJAJEAAAAAAP///////wAAACH5BAEAAAIALAAAAAAQAAkAAAIKlI+py+0Po5yUFQA7',\n",
       " '//cdn.cnn.com/cnnnext/dam/assets/150109110237-paris-france-terror-map-large-169.jpg',\n",
       " 'data:image/gif;base64,R0lGODlhEAAJAJEAAAAAAP///////wAAACH5BAEAAAIALAAAAAAQAAkAAAIKlI+py+0Po5yUFQA7',\n",
       " '//cdn.cnn.com/cnnnext/dam/assets/150107225102-ac-sciutto-paris-attack-tic-toc-00001902-large-169.jpg',\n",
       " '//cdn.cnn.com/cnnnext/dam/assets/150107225102-ac-sciutto-paris-attack-tic-toc-00001902-large-169.jpg',\n",
       " 'data:image/gif;base64,R0lGODlhEAAJAJEAAAAAAP///////wAAACH5BAEAAAIALAAAAAAQAAkAAAIKlI+py+0Po5yUFQA7',\n",
       " '//cdn.cnn.com/cnnnext/dam/assets/150107233102-paris-attack-suspects-03-large-169.jpg',\n",
       " 'data:image/gif;base64,R0lGODlhEAAJAJEAAAAAAP///////wAAACH5BAEAAAIALAAAAAAQAAkAAAIKlI+py+0Po5yUFQA7',\n",
       " '//cdn.cnn.com/cnnnext/dam/assets/150107223549-ac-pkg-foreman-paris-attack-victims-00002108-large-169.jpg',\n",
       " '//cdn.cnn.com/cnnnext/dam/assets/150107223549-ac-pkg-foreman-paris-attack-victims-00002108-large-169.jpg',\n",
       " 'data:image/gif;base64,R0lGODlhEAAJAJEAAAAAAP///////wAAACH5BAEAAAIALAAAAAAQAAkAAAIKlI+py+0Po5yUFQA7',\n",
       " '//cdn.cnn.com/cnnnext/dam/assets/150107142307-map-charlie-hebdo-2-large-169.jpg',\n",
       " '//pixel.quantserve.com/pixel/p-D1yc5zQgjmqr5.gif?labels=noscript%3ANo%20Labels%20Set']"
      ]
     },
     "metadata": {},
     "execution_count": 22
    }
   ],
   "source": [
    "for image in news_df:\n",
    "    print(image['src'],\"\\n\")\n",
    "[image['src'] for image in news_df]"
   ]
  },
  {
   "source": [
    "## Retreving External link as separate columns"
   ],
   "cell_type": "markdown",
   "metadata": {}
  },
  {
   "cell_type": "code",
   "execution_count": 10,
   "metadata": {},
   "outputs": [],
   "source": [
    "def mass_urls(data_rows):\n",
    "    return build_dataset(data_rows)"
   ]
  },
  {
   "cell_type": "code",
   "execution_count": 11,
   "metadata": {},
   "outputs": [
    {
     "output_type": "execute_result",
     "data": {
      "text/plain": [
       "                                                 url0  \\\n",
       "0                                   http://htz.li/1lI   \n",
       "1                                                None   \n",
       "2                                                None   \n",
       "3                               http://cnn.it/1xYDHvp   \n",
       "4                             http://on.rt.com/k5ivya   \n",
       "..                                                ...   \n",
       "95                                               None   \n",
       "96                                               None   \n",
       "97  http://www.itv.com/news/story/2015-01-08/polic...   \n",
       "98                                               None   \n",
       "99                                               None   \n",
       "\n",
       "                                                 url1  \n",
       "0                                                None  \n",
       "1                                                None  \n",
       "2                                                None  \n",
       "3   https://amp.twimg.com/v/7d7ecf3e-0965-41ca-afa...  \n",
       "4                                                None  \n",
       "..                                                ...  \n",
       "95                                               None  \n",
       "96                                               None  \n",
       "97                                               None  \n",
       "98                                               None  \n",
       "99                                               None  \n",
       "\n",
       "[100 rows x 2 columns]"
      ],
      "text/html": "<div>\n<style scoped>\n    .dataframe tbody tr th:only-of-type {\n        vertical-align: middle;\n    }\n\n    .dataframe tbody tr th {\n        vertical-align: top;\n    }\n\n    .dataframe thead th {\n        text-align: right;\n    }\n</style>\n<table border=\"1\" class=\"dataframe\">\n  <thead>\n    <tr style=\"text-align: right;\">\n      <th></th>\n      <th>url0</th>\n      <th>url1</th>\n    </tr>\n  </thead>\n  <tbody>\n    <tr>\n      <th>0</th>\n      <td>http://htz.li/1lI</td>\n      <td>None</td>\n    </tr>\n    <tr>\n      <th>1</th>\n      <td>None</td>\n      <td>None</td>\n    </tr>\n    <tr>\n      <th>2</th>\n      <td>None</td>\n      <td>None</td>\n    </tr>\n    <tr>\n      <th>3</th>\n      <td>http://cnn.it/1xYDHvp</td>\n      <td>https://amp.twimg.com/v/7d7ecf3e-0965-41ca-afa...</td>\n    </tr>\n    <tr>\n      <th>4</th>\n      <td>http://on.rt.com/k5ivya</td>\n      <td>None</td>\n    </tr>\n    <tr>\n      <th>...</th>\n      <td>...</td>\n      <td>...</td>\n    </tr>\n    <tr>\n      <th>95</th>\n      <td>None</td>\n      <td>None</td>\n    </tr>\n    <tr>\n      <th>96</th>\n      <td>None</td>\n      <td>None</td>\n    </tr>\n    <tr>\n      <th>97</th>\n      <td>http://www.itv.com/news/story/2015-01-08/polic...</td>\n      <td>None</td>\n    </tr>\n    <tr>\n      <th>98</th>\n      <td>None</td>\n      <td>None</td>\n    </tr>\n    <tr>\n      <th>99</th>\n      <td>None</td>\n      <td>None</td>\n    </tr>\n  </tbody>\n</table>\n<p>100 rows × 2 columns</p>\n</div>"
     },
     "metadata": {},
     "execution_count": 11
    }
   ],
   "source": [
    "data_urls[0:100]"
   ]
  },
  {
   "cell_type": "code",
   "execution_count": 12,
   "metadata": {
    "tags": []
   },
   "outputs": [],
   "source": [
    "result = [mass_urls([x, y]) for x, y in zip(data_urls['url0'][0:100], data_urls['url1'][0:100])]"
   ]
  },
  {
   "cell_type": "code",
   "execution_count": 74,
   "metadata": {},
   "outputs": [],
   "source": [
    "# source = [[image['src'] for image in tags] for tags in result]"
   ]
  },
  {
   "cell_type": "code",
   "execution_count": 109,
   "metadata": {},
   "outputs": [
    {
     "output_type": "execute_result",
     "data": {
      "text/plain": [
       "    len0\n",
       "0      3\n",
       "1      0\n",
       "2      0\n",
       "3    227\n",
       "4      0\n",
       "..   ...\n",
       "95     0\n",
       "96     0\n",
       "97     0\n",
       "98     0\n",
       "99     0\n",
       "\n",
       "[100 rows x 1 columns]"
      ],
      "text/html": "<div>\n<style scoped>\n    .dataframe tbody tr th:only-of-type {\n        vertical-align: middle;\n    }\n\n    .dataframe tbody tr th {\n        vertical-align: top;\n    }\n\n    .dataframe thead th {\n        text-align: right;\n    }\n</style>\n<table border=\"1\" class=\"dataframe\">\n  <thead>\n    <tr style=\"text-align: right;\">\n      <th></th>\n      <th>len0</th>\n    </tr>\n  </thead>\n  <tbody>\n    <tr>\n      <th>0</th>\n      <td>3</td>\n    </tr>\n    <tr>\n      <th>1</th>\n      <td>0</td>\n    </tr>\n    <tr>\n      <th>2</th>\n      <td>0</td>\n    </tr>\n    <tr>\n      <th>3</th>\n      <td>227</td>\n    </tr>\n    <tr>\n      <th>4</th>\n      <td>0</td>\n    </tr>\n    <tr>\n      <th>...</th>\n      <td>...</td>\n    </tr>\n    <tr>\n      <th>95</th>\n      <td>0</td>\n    </tr>\n    <tr>\n      <th>96</th>\n      <td>0</td>\n    </tr>\n    <tr>\n      <th>97</th>\n      <td>0</td>\n    </tr>\n    <tr>\n      <th>98</th>\n      <td>0</td>\n    </tr>\n    <tr>\n      <th>99</th>\n      <td>0</td>\n    </tr>\n  </tbody>\n</table>\n<p>100 rows × 1 columns</p>\n</div>"
     },
     "metadata": {},
     "execution_count": 109
    }
   ],
   "source": [
    "sourceLen"
   ]
  },
  {
   "cell_type": "code",
   "execution_count": 72,
   "metadata": {},
   "outputs": [
    {
     "output_type": "error",
     "ename": "NameError",
     "evalue": "name 'bar' is not defined",
     "traceback": [
      "\u001b[0;31m---------------------------------------------------------------------------\u001b[0m",
      "\u001b[0;31mNameError\u001b[0m                                 Traceback (most recent call last)",
      "\u001b[0;32m<ipython-input-72-60314620c50f>\u001b[0m in \u001b[0;36m<module>\u001b[0;34m\u001b[0m\n\u001b[0;32m----> 1\u001b[0;31m \u001b[0msourceLen\u001b[0m\u001b[0;34m.\u001b[0m\u001b[0mplot\u001b[0m\u001b[0;34m(\u001b[0m\u001b[0mkind\u001b[0m\u001b[0;34m=\u001b[0m\u001b[0mbar\u001b[0m\u001b[0;34m)\u001b[0m\u001b[0;34m\u001b[0m\u001b[0;34m\u001b[0m\u001b[0m\n\u001b[0m",
      "\u001b[0;31mNameError\u001b[0m: name 'bar' is not defined"
     ]
    }
   ],
   "source": [
    "sourceLen.plot(kind=bar)"
   ]
  },
  {
   "source": [],
   "cell_type": "markdown",
   "metadata": {}
  },
  {
   "cell_type": "code",
   "execution_count": null,
   "metadata": {},
   "outputs": [],
   "source": [
    "# Exporting"
   ]
  },
  {
   "cell_type": "code",
   "execution_count": 131,
   "metadata": {},
   "outputs": [],
   "source": [
    "data_urls_sum.to_csv('./urls_sum.csv', index = False)"
   ]
  },
  {
   "cell_type": "code",
   "execution_count": null,
   "metadata": {},
   "outputs": [],
   "source": []
  }
 ]
}