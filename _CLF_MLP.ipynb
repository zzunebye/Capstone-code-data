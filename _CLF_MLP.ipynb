{
 "cells": [
  {
   "cell_type": "markdown",
   "metadata": {},
   "source": [
    "# Preparation"
   ]
  },
  {
   "cell_type": "markdown",
   "metadata": {},
   "source": [
    "## Library"
   ]
  },
  {
   "cell_type": "code",
   "execution_count": 1,
   "metadata": {},
   "outputs": [],
   "source": [
    "import pandas as pd\n",
    "import numpy as np\n",
    "import matplotlib.pyplot as plt"
   ]
  },
  {
   "cell_type": "code",
   "execution_count": 2,
   "metadata": {},
   "outputs": [],
   "source": [
    "import torch\n",
    "import torch.nn as nn\n",
    "import torch.nn.functional as F\n",
    "import torch.optim as optim\n",
    "from sklearn.model_selection import train_test_split\n",
    "\n",
    "from torch.utils.data import TensorDataset, DataLoader\n",
    "import torchvision\n",
    "import torchvision.transforms as transforms\n",
    "from torch.utils.data import TensorDataset, DataLoader, RandomSampler, SequentialSampler\n",
    "from torch.utils.data.sampler import WeightedRandomSampler\n",
    "from torch.optim import lr_scheduler\n",
    "\n",
    "from sklearn.metrics import accuracy_score\n",
    "from sklearn.metrics import classification_report\n",
    "from sklearn.metrics import f1_score\n",
    "from transformers import AdamW, get_linear_schedule_with_warmup\n",
    "\n",
    "\n",
    "from fetchData import fetchdata, cv_events\n",
    "import __MLP\n",
    "# from __MLP import getSamplers, convert_df_to_unsqueezed_tensor, train_sequential, clf_report\n",
    "import random"
   ]
  },
  {
   "cell_type": "code",
   "execution_count": 3,
   "metadata": {},
   "outputs": [
    {
     "name": "stdout",
     "output_type": "stream",
     "text": [
      "No GPU available, using the CPU instead.\n"
     ]
    }
   ],
   "source": [
    "if torch.cuda.is_available():       \n",
    "    device = torch.device(\"cuda\")\n",
    "    print(f'There are {torch.cuda.device_count()} GPU(s) available.')\n",
    "    print('Device name:', torch.cuda.get_device_name(0))\n",
    "\n",
    "else:\n",
    "    print('No GPU available, using the CPU instead.')\n",
    "    device = torch.device(\"cpu\")"
   ]
  },
  {
   "cell_type": "markdown",
   "metadata": {},
   "source": [
    "## Data"
   ]
  },
  {
   "cell_type": "code",
   "execution_count": 4,
   "metadata": {},
   "outputs": [],
   "source": [
    "pheme_AVGw2v = pd.read_csv('./data/_PHEME_text_AVGw2v.csv').drop(['token'],axis=1)\n",
    "pheme_sparse = pd.read_csv('./data/_PHEME_sparse.csv')\n",
    "pheme_y = pd.read_csv('./data/_PHEME_target.csv').target\n",
    "pheme_event = pd.read_csv('./data/_PHEME_text.csv')['Event']\n",
    "pheme_bert = fetchdata('pheme','bert')\n",
    "pheme_thread =  fetchdata('pheme','thread')\n",
    "\n",
    "ext_AVGw2v = pd.read_csv('./data/_PHEMEext_text_AVGw2v.csv').drop(['token'],axis=1)\n",
    "ext_sparse = pd.read_csv('./data/_PHEMEext_sparse.csv')\n",
    "ext_y = pd.read_csv('./data/_PHEMEext_text.csv').target\n",
    "ext_event = pd.read_csv('./data/_PHEMEext_text.csv').Event\n",
    "ext_bert = fetchdata('ext','bert')\n",
    "ext_thread = fetchdata('ext','thread')\n",
    "\n",
    "rhi = pd.read_csv('./data/_RHI_text_AVGw2v.csv').drop(['token'],axis=1)\n",
    "rhi_y = pd.read_csv('./data/_RHI_target.csv')\n",
    "rhi_bert = fetchdata('rhi','bert')"
   ]
  },
  {
   "cell_type": "code",
   "execution_count": 5,
   "metadata": {},
   "outputs": [],
   "source": [
    "# pheme_thread = pheme_thread.replace(-np.inf, 0)\n",
    "# ext_thread = ext_thread.replace(-np.inf, 0)"
   ]
  },
  {
   "cell_type": "code",
   "execution_count": 6,
   "metadata": {},
   "outputs": [],
   "source": [
    "cv = cv_events(pd.concat([pheme_sparse, pheme_y, pheme_event],axis=1))\n",
    "X = cv[3][1].drop(['target', 'Event'],axis=1)\n",
    "y = cv[3][1].target\n",
    "val_X = cv[3][0].drop(['target', 'Event'],axis=1)\n",
    "val_y = cv[3][0].target"
   ]
  },
  {
   "cell_type": "markdown",
   "metadata": {},
   "source": [
    "## Functions"
   ]
  },
  {
   "cell_type": "code",
   "execution_count": 9,
   "metadata": {},
   "outputs": [],
   "source": [
    "def set_seed(seed_value=42):\n",
    "    \"\"\"Set seed for reproducibility.\n",
    "    \"\"\"\n",
    "    random.seed(seed_value)\n",
    "    np.random.seed(seed_value)\n",
    "    torch.manual_seed(seed_value)\n",
    "    torch.cuda.manual_seed_all(seed_value)\n",
    "\n",
    "def train1(model, num_epochs, criterion, optimizer, train_loader, train_size, test_loader=None, test_size=None, patience=5, PATH='./state_dict_model.pt'):\n",
    "    set_seed(42)\n",
    "    train_loss = []\n",
    "    patience_count = 0\n",
    "    train_accuracy = []\n",
    "    prev_loss = 10\n",
    "    best_loss = 10.0\n",
    "    val_corrects_list = []\n",
    "    val_loss_list = []\n",
    "    val_acc_list = []\n",
    "    for epoch in range(num_epochs):  # loop over the dataset multiple times\n",
    "        # print('Epoch {}/{}'.format(epoch, num_epochs - 1))\n",
    "        # print('-' * 10)\n",
    "        running_corrects = 0.0\n",
    "        running_loss = 0.0\n",
    "        model.train()  # Set model to training mode\n",
    "        for i, data in enumerate(train_loader, 0):\n",
    "            # get the inputs; data is a list of [inputs, labels]\n",
    "            inputs, labels = data\n",
    "            inputs, labels = inputs.float(), labels.float()\n",
    "\n",
    "            # zero the parameter gradients\n",
    "            optimizer.zero_grad()\n",
    "\n",
    "            # forward + backward + optimize\n",
    "            outputs = model(inputs)\n",
    "\n",
    "            #  _, predictions = torch.max(outputs.data, 1) won’t work if your output only contains a single output unit.\n",
    "            # _, preds = torch.max(outputs, 1)\n",
    "            # print(outputs.flatten().size())\n",
    "            preds = outputs.squeeze(1) > 0.0\n",
    "\n",
    "            loss = criterion(outputs, labels.unsqueeze(1))\n",
    "            loss.backward()\n",
    "            optimizer.step()\n",
    "\n",
    "            # step function\n",
    "            scheduler.step()\n",
    "\n",
    "            running_loss += loss.item() * inputs.size(0)\n",
    "            running_corrects += torch.sum(preds == labels.data)\n",
    "\n",
    "        epoch_loss = running_loss / train_size\n",
    "        # print(running_loss)\n",
    "        # print(train_size)\n",
    "        epoch_acc = running_corrects.double() / train_size\n",
    "        train_loss.append(epoch_loss)\n",
    "        train_accuracy.append(epoch_acc)\n",
    "\n",
    "        if (epoch % 2 == 0):\n",
    "            print('Epoch {}/{}\\tTrain) Acc: {:.4f}, Loss: {:.4f}'.format(epoch,\n",
    "                                                                         num_epochs - 1, epoch_acc, epoch_loss))\n",
    "\n",
    "        if (test_loader != None):\n",
    "            model.eval()\n",
    "            with torch.no_grad():\n",
    "                val_loss = 0.0\n",
    "                val_corrects = 0\n",
    "                val_preds_list = []\n",
    "                val_label_list = []\n",
    "                for j, val in enumerate(test_loader, 0):\n",
    "                    val_x, val_label = val\n",
    "                    val_x, val_label = val_x.float(), val_label.float()\n",
    "                    val_outputs = model(val_x)\n",
    "                    # _, val_preds = torch.max(val_outputs, 1)\n",
    "                    val_preds = val_outputs.squeeze(1) > 0.0\n",
    "\n",
    "                    val_preds_list.append(val_preds)\n",
    "                    val_label_list.append(val_label)\n",
    "                    v_loss = criterion(val_outputs, val_label.unsqueeze(1))\n",
    "                    val_loss += (v_loss.item() * val_x.size(0))\n",
    "                    val_corrects += torch.sum(val_preds == val_label)\n",
    "                    # accuracy = (preds == b_labels).cpu().numpy().mean() * 100\n",
    "\n",
    "                if (epoch % 2 == 0):\n",
    "                    val_preds_list = torch.cat(val_preds_list, 0)\n",
    "                    val_label_list = torch.cat(val_label_list, 0)\n",
    "                    # print(\"\\t\\tValidation) Acc: {:.4f} Loss:{:.4f} F1 score: {:4f}\".format(val_corrects/test_size, val_loss/test_size, f1_score(val_label_list,val_preds_list,average='macro')))\n",
    "                    print(\"\\t\\tValidation) Acc: {:.4f} Loss:{:.4f}\".format(\n",
    "                        val_corrects/test_size, val_loss/test_size))\n",
    "            val_corrects_list.append(val_corrects/test_size)\n",
    "            val_loss_list.append(val_loss/test_size)\n",
    "            val_acc = val_corrects.double() / test_size\n",
    "            val_acc_list.append(val_acc)\n",
    "\n",
    "        if epoch_loss < best_loss:\n",
    "            # print(\"prev_loss: {:.5f}\".format(prev_loss))\n",
    "            # print(\"loss: {:.5f}\".format(loss))\n",
    "            print(\n",
    "                \"\\t\\tSaving the best model w/ loss {:.4f}\".format(epoch_loss))\n",
    "            torch.save(model.state_dict(), PATH)\n",
    "            best_loss = epoch_loss\n",
    "            patience_count = 0\n",
    "        elif best_loss < epoch_loss:\n",
    "            patience_count += 1\n",
    "        if patience_count >= patience:\n",
    "            print(\"Finishing the Model: Loss is not decreasing...\")\n",
    "            print(train_loss[-6:-1])\n",
    "            return train_accuracy, train_loss, val_acc_list, val_loss_list\n",
    "    return train_accuracy, train_loss, val_acc_list, val_loss_list\n",
    "\n",
    "def train2(model, num_epochs, criterion, optimizer, train_loader, train_size, test_loader=None, test_size=None, patience=5, PATH='./state_dict_model.pt'):\n",
    "    set_seed(42)\n",
    "    train_loss = []\n",
    "    patience_count = 0\n",
    "    train_accuracy = []\n",
    "    prev_loss = 10\n",
    "    best_loss = 10.0\n",
    "    val_corrects_list = []\n",
    "    val_loss_list = []\n",
    "    val_acc_list = []\n",
    "    for epoch in range(num_epochs):  # loop over the dataset multiple times\n",
    "        # print('Epoch {}/{}'.format(epoch, num_epochs - 1))\n",
    "        # print('-' * 10)\n",
    "        running_corrects = 0.0\n",
    "        running_loss = 0.0\n",
    "        model.train()  # Set model to training mode\n",
    "        for i, data in enumerate(train_loader, 0):\n",
    "            # get the inputs; data is a list of [inputs, labels]\n",
    "            inputs, labels = data\n",
    "            inputs, labels = inputs.float(), labels.float()\n",
    "            print(inputs.size())\n",
    "            print(labels.size())\n",
    "            print(inputs.flatten())\n",
    "            print(labels.flatten())\n",
    "\n",
    "            # zero the parameter gradients\n",
    "            optimizer.zero_grad()\n",
    "\n",
    "            # forward + backward + optimize\n",
    "            outputs = model(inputs)\n",
    "            print(\"outputs:\",outputs.size())\n",
    "            print(\"outputs:\",outputs)\n",
    "            print(\"labels:\",labels.size())\n",
    "            print(\"labels:\",labels.unsqueeze(1).size())\n",
    "\n",
    "            #  _, predictions = torch.max(outputs.data, 1) won’t work if your output only contains a single output unit.\n",
    "            # _, preds = torch.max(outputs, 1)\n",
    "            preds = torch.argmax(outputs, dim=1).flatten()\n",
    "            # print(outputs.flatten().size())\n",
    "            # preds = outputs > 0.0\n",
    "            # labels = labels.view(-1)\n",
    "            loss = criterion(outputs, labels.long())\n",
    "            loss.backward()\n",
    "            optimizer.step()\n",
    "\n",
    "            # step function\n",
    "            scheduler.step()\n",
    "\n",
    "            running_loss += loss.item() * inputs.size(0)\n",
    "            running_corrects += torch.sum(preds == labels.data)\n",
    "            # print('running correct')\n",
    "            # print(running_corrects)\n",
    "\n",
    "        epoch_loss = running_loss / train_size\n",
    "        # print(running_loss)\n",
    "        # print(train_size)\n",
    "        epoch_acc = running_corrects.double() / train_size\n",
    "        train_loss.append(epoch_loss)\n",
    "        train_accuracy.append(epoch_acc)\n",
    "\n",
    "        if (epoch % 2 == 0):\n",
    "            print('Epoch {}/{}\\tTrain) Acc: {:.4f}, Loss: {:.4f}'.format(epoch,\n",
    "                                                                         num_epochs - 1, epoch_acc, epoch_loss))\n",
    "\n",
    "        if (test_loader != None):\n",
    "            model.eval()\n",
    "            with torch.no_grad():\n",
    "                val_loss = 0.0\n",
    "                val_corrects = 0\n",
    "                val_preds_list = []\n",
    "                val_label_list = []\n",
    "                for j, val in enumerate(test_loader, 0):\n",
    "                    val_x, val_label = val\n",
    "                    val_x, val_label = val_x.float(), val_label.float()\n",
    "                    val_outputs = model(val_x)\n",
    "                    val_preds = torch.argmax(val_outputs, dim=1).flatten()\n",
    "                    # _, val_preds = torch.max(val_outputs, 1)\n",
    "                    # print(\"val_outputs:\",val_outputs.flatten())\n",
    "                    # val_preds = val_outputs > 0.0\n",
    "                    # print(\"val_preds:\",val_preds)\n",
    "                    val_preds_list.append(val_preds)\n",
    "                    val_label_list.append(val_label)\n",
    "                    v_loss = criterion(val_outputs, val_label.unsqueeze(1))\n",
    "                    val_loss += (v_loss.item() * val_x.size(0))\n",
    "                    val_corrects += torch.sum(val_preds ==\n",
    "                                              val_label.data).double()\n",
    "                if (epoch % 2 == 0):\n",
    "                    val_preds_list = torch.cat(val_preds_list, 0)\n",
    "                    val_label_list = torch.cat(val_label_list, 0)\n",
    "                    # print(\"\\t\\tValidation) Acc: {:.4f} Loss:{:.4f} F1 score: {:4f}\".format(val_corrects/test_size, val_loss/test_size, f1_score(val_label_list,val_preds_list,average='macro')))\n",
    "                    print(\"\\t\\tValidation) Acc: {:.4f} Loss:{:.4f}\".format(\n",
    "                        val_corrects/test_size, val_loss/test_size))\n",
    "            val_corrects_list.append(val_corrects/test_size)\n",
    "            val_loss_list.append(val_loss/test_size)\n",
    "            val_acc = val_corrects.double() / test_size\n",
    "            val_acc_list.append(val_acc)\n",
    "\n",
    "        if epoch_loss < best_loss:\n",
    "            # print(\"prev_loss: {:.5f}\".format(prev_loss))\n",
    "            # print(\"loss: {:.5f}\".format(loss))\n",
    "            print(\n",
    "                \"\\t\\tSaving the best model w/ loss {:.4f}\".format(epoch_loss))\n",
    "            torch.save(model.state_dict(), PATH)\n",
    "            best_loss = epoch_loss\n",
    "            patience_count = 0\n",
    "        elif best_loss < epoch_loss:\n",
    "            patience_count += 1\n",
    "        if patience_count >= patience:\n",
    "            print(\"Finishing the Model: Loss is not decreasing...\")\n",
    "            print(train_loss[-6:-1])\n",
    "            return train_accuracy, train_loss, val_acc_list, val_loss_list\n",
    "    return train_accuracy, train_loss, val_acc_list, val_loss_list\n",
    "\n",
    "def predict(model, criterion, val_dataloader, val_size):\n",
    "    model.eval()\n",
    "    with torch.no_grad():\n",
    "        val_loss = 0.0\n",
    "        val_corrects = 0\n",
    "        for j, val in enumerate(val_dataloader, 0):\n",
    "            val_x, val_label = val\n",
    "            val_x, val_label = val_x.float(), val_label.float()\n",
    "            val_outputs = model(val_x)\n",
    "            val_preds = val_outputs.squeeze(1) > 0.0\n",
    "\n",
    "            val_preds_list.append(val_preds)\n",
    "            val_label_list.append(val_label)\n",
    "            v_loss = criterion(val_outputs, val_label.unsqueeze(1))\n",
    "            val_loss += (v_loss.item() * val_x.size(0))\n",
    "            val_corrects += torch.sum(val_preds == val_label)\n",
    "\n",
    "    val_preds_list = torch.cat(val_preds_list, 0)\n",
    "    val_label_list = torch.cat(val_label_list, 0)\n",
    "    val_corrects = val_corrects/val_size\n",
    "    val_loss/test_size\n",
    "    val_acc = val_corrects.double() / val_size\n",
    "    print(\"\\t\\tValidation) Acc: {:.4f} Loss:{:.4f}\".format(\n",
    "        val_corrects/val_size, val_loss/test_size))\n",
    "    # print(\"\\t\\tValidation) Acc: {:.4f} Loss:{:.4f} F1 score: {:4f}\".format(val_corrects/val_size, val_loss/test_size, f1_score(val_label_list,val_preds_list,average='macro')))\n"
   ]
  },
  {
   "cell_type": "markdown",
   "metadata": {},
   "source": [
    "# Sparse-MLP"
   ]
  },
  {
   "cell_type": "code",
   "execution_count": 6,
   "metadata": {},
   "outputs": [
    {
     "name": "stdout",
     "output_type": "stream",
     "text": [
      "torch.Size([5802, 1, 29]) torch.Size([485, 1, 29])\n",
      "torch.Size([5802, 1]) torch.Size([485, 1])\n"
     ]
    }
   ],
   "source": [
    "# train, test = __MLP.scaleData(pheme_sparse.values,ext_sparse.values)\n",
    "tensor_x1, tensor_y1, tensor_x2, tensor_y2 = __MLP.convert_df_to_unsqueezed_tensor(pheme_sparse,pheme_y,ext_sparse,ext_y)\n",
    "train_dataset = TensorDataset(tensor_x1,tensor_y1)\n",
    "test_dataset = TensorDataset(tensor_x2,tensor_y2)\n",
    "print(tensor_x1.size(),tensor_x2.size())\n",
    "print(tensor_y1.size(),tensor_y2.size())"
   ]
  },
  {
   "cell_type": "code",
   "execution_count": 8,
   "metadata": {},
   "outputs": [
    {
     "name": "stdout",
     "output_type": "stream",
     "text": [
      "mean: tensor(81.0324), std: tensor(373.0824)\n",
      "torch.Size([5802, 1, 29]) torch.Size([485, 1, 29])\n",
      "torch.Size([5802, 1]) torch.Size([485, 1])\n",
      "Train Size 5802 Test Size 485\n"
     ]
    }
   ],
   "source": [
    "batch_size = 16\n",
    "\n",
    "# Initialize WeightedRandomSampler to deal with the unbalanced dataset\n",
    "train_sampler, test_sampler = __MLP.getSamplers(pheme_y, tensor_x2)\n",
    "\n",
    "train_dataloader = DataLoader(train_dataset, batch_size=batch_size, sampler=train_sampler, num_workers=2)\n",
    "test_dataloader = DataLoader(test_dataset, batch_size=batch_size, shuffle=False, num_workers=2)\n",
    "\n",
    "data = next(iter(train_dataloader))\n",
    "print(\"mean: %s, std: %s\" %(data[0].mean(), data[0].std()))\n",
    "\n",
    "train_size = int(tensor_y1.size(0))\n",
    "test_size = int(tensor_y2.size(0))\n",
    "\n",
    "print(tensor_x1.shape,tensor_x2.shape)\n",
    "print(tensor_y1.shape,tensor_y2.shape)\n",
    "print(\"Train Size\",train_size,\"Test Size\",test_size)"
   ]
  },
  {
   "cell_type": "code",
   "execution_count": 10,
   "metadata": {},
   "outputs": [],
   "source": [
    "class sparse_model(nn.Module):\n",
    "    def __init__(self):\n",
    "        super(sparse_model, self).__init__() # 1*20\n",
    "        self.fc1 = nn.Linear(29, 12, bias=True) # 420\n",
    "        self.fc2 = nn.Linear(12, 8, bias=True)\n",
    "        self.fc3 = nn.Linear(8, 1)\n",
    "\n",
    "        self.drop_3 = nn.Dropout(0.3)\n",
    "        self.drop_4 = nn.Dropout(0.4)\n",
    "        self.drop_2 = nn.Dropout(0.2)\n",
    "\n",
    "    def forward(self, x):\n",
    "        x = self.drop_2(F.elu(self.fc1(x)))\n",
    "        x = F.elu(self.fc2(x))\n",
    "        x = self.fc3(x)\n",
    "        return x"
   ]
  },
  {
   "cell_type": "code",
   "execution_count": 11,
   "metadata": {},
   "outputs": [],
   "source": [
    "model_sparse = sparse_model()\n",
    "\n",
    "criterion = nn.BCEWithLogitsLoss()\n",
    "# optimizer = optim.SGD(model_sparse.parameters(), lr=0.01, momentum=0.9)\n",
    "optimizer = optim.Adam(model_sparse.parameters(), lr=5e-5, eps=1e-8, weight_decay=1e-6)\n",
    "# scheduler = lr_scheduler.ExponentialLR(optimizer, gamma= 0.99)  \n",
    "\n",
    "epochs = 100\n",
    "\n",
    "total_steps = len(train_dataloader) * epochs\n",
    "scheduler = get_linear_schedule_with_warmup(optimizer,\n",
    "                                            num_warmup_steps=0,  # Default value\n",
    "                                            num_training_steps=total_steps)\n",
    "\n",
    "PATH = \"./Model/state_dict_sparse_model.pt\""
   ]
  },
  {
   "cell_type": "code",
   "execution_count": 13,
   "metadata": {},
   "outputs": [
    {
     "name": "stdout",
     "output_type": "stream",
     "text": [
      "Epoch 0/39\tTrain) Acc: 0.4897, Loss: 6.6408\n",
      "\t\tValidation) Acc: 0.7505 Loss:0.7176\n",
      "\t\tSaving the best model w/ loss 6.6408\n",
      "\t\tSaving the best model w/ loss 2.9049\n",
      "Epoch 2/39\tTrain) Acc: 0.4966, Loss: 2.2544\n",
      "\t\tValidation) Acc: 0.4454 Loss:0.7810\n",
      "\t\tSaving the best model w/ loss 2.2544\n",
      "\t\tSaving the best model w/ loss 1.9121\n",
      "Epoch 4/39\tTrain) Acc: 0.5102, Loss: 1.6465\n",
      "\t\tValidation) Acc: 0.5113 Loss:0.7235\n",
      "\t\tSaving the best model w/ loss 1.6465\n",
      "\t\tSaving the best model w/ loss 1.5426\n",
      "Epoch 6/39\tTrain) Acc: 0.4991, Loss: 1.4276\n",
      "\t\tValidation) Acc: 0.4165 Loss:0.7592\n",
      "\t\tSaving the best model w/ loss 1.4276\n",
      "Epoch 8/39\tTrain) Acc: 0.4974, Loss: 1.1700\n",
      "\t\tValidation) Acc: 0.4062 Loss:0.7533\n",
      "\t\tSaving the best model w/ loss 1.1700\n",
      "\t\tSaving the best model w/ loss 1.0617\n",
      "Epoch 10/39\tTrain) Acc: 0.4993, Loss: 1.0730\n",
      "\t\tValidation) Acc: 0.3649 Loss:0.7775\n",
      "\t\tSaving the best model w/ loss 0.9574\n",
      "Epoch 12/39\tTrain) Acc: 0.4972, Loss: 0.9224\n",
      "\t\tValidation) Acc: 0.3959 Loss:0.7448\n",
      "\t\tSaving the best model w/ loss 0.9224\n",
      "\t\tSaving the best model w/ loss 0.9120\n",
      "Epoch 14/39\tTrain) Acc: 0.5012, Loss: 0.8260\n",
      "\t\tValidation) Acc: 0.2515 Loss:0.8032\n",
      "\t\tSaving the best model w/ loss 0.8260\n",
      "\t\tSaving the best model w/ loss 0.7976\n",
      "Epoch 16/39\tTrain) Acc: 0.4983, Loss: 0.8023\n",
      "\t\tValidation) Acc: 0.2474 Loss:0.7806\n",
      "\t\tSaving the best model w/ loss 0.7792\n",
      "Epoch 18/39\tTrain) Acc: 0.5009, Loss: 0.7697\n",
      "\t\tValidation) Acc: 0.2412 Loss:0.8134\n",
      "\t\tSaving the best model w/ loss 0.7697\n",
      "Epoch 20/39\tTrain) Acc: 0.5026, Loss: 0.7977\n",
      "\t\tValidation) Acc: 0.2371 Loss:0.7809\n",
      "Epoch 22/39\tTrain) Acc: 0.5195, Loss: 0.7706\n",
      "\t\tValidation) Acc: 0.2392 Loss:0.8044\n",
      "\t\tSaving the best model w/ loss 0.7518\n",
      "Epoch 24/39\tTrain) Acc: 0.5165, Loss: 0.7766\n",
      "\t\tValidation) Acc: 0.2392 Loss:0.7930\n",
      "Epoch 26/39\tTrain) Acc: 0.5250, Loss: 0.7706\n",
      "\t\tValidation) Acc: 0.2412 Loss:0.7797\n",
      "\t\tSaving the best model w/ loss 0.7227\n",
      "Epoch 28/39\tTrain) Acc: 0.5471, Loss: 0.7603\n",
      "\t\tValidation) Acc: 0.2392 Loss:0.7508\n",
      "\t\tSaving the best model w/ loss 0.7224\n",
      "Epoch 30/39\tTrain) Acc: 0.5390, Loss: 0.7108\n",
      "\t\tValidation) Acc: 0.3856 Loss:0.7254\n",
      "\t\tSaving the best model w/ loss 0.7108\n",
      "\t\tSaving the best model w/ loss 0.7054\n",
      "Epoch 32/39\tTrain) Acc: 0.5345, Loss: 0.7047\n",
      "\t\tValidation) Acc: 0.5485 Loss:0.7075\n",
      "\t\tSaving the best model w/ loss 0.7047\n",
      "Epoch 34/39\tTrain) Acc: 0.5384, Loss: 0.7207\n",
      "\t\tValidation) Acc: 0.5340 Loss:0.7107\n",
      "\t\tSaving the best model w/ loss 0.6971\n",
      "Epoch 36/39\tTrain) Acc: 0.5464, Loss: 0.6975\n",
      "\t\tValidation) Acc: 0.3876 Loss:0.7236\n",
      "\t\tSaving the best model w/ loss 0.6957\n",
      "Epoch 38/39\tTrain) Acc: 0.5512, Loss: 0.7153\n",
      "\t\tValidation) Acc: 0.5814 Loss:0.6963\n"
     ]
    }
   ],
   "source": [
    "train_acc, train_loss, val_acc, val_loss_list = __MLP.train_sequential(model=model_sparse, num_epochs=40, patience=10, criterion=criterion, optimizer=optimizer, scheduler=scheduler, train_loader=train_dataloader,train_size=train_size, test_loader=test_dataloader, test_size=test_size, PATH=PATH)\n"
   ]
  },
  {
   "cell_type": "code",
   "execution_count": 15,
   "metadata": {},
   "outputs": [
    {
     "data": {
      "image/png": "[encoded data removed]",
      "text/plain": "<Figure size 864x576 with 4 Axes>"
     },
     "metadata": {
      "needs_background": "light"
     },
     "output_type": "display_data"
    },
    {
     "name": "stdout",
     "output_type": "stream",
     "text": [
      "Min of Training Loss: 0.695658\n",
      "Max of Training Accuracy: 0.555153\n",
      "Mean of Training Loss: 1.133345\n",
      "Mean of Training Accuracy: 0.517343\n",
      "----\n",
      "Max of Testing Accuracy: 0.750515\n",
      "Mean of Testing Loss: 0.758975\n",
      "Mean of Testing Accuracy: 0.370103\n"
     ]
    }
   ],
   "source": [
    "__MLP.clf_report(train_loss, train_acc, val_loss_list, val_acc)"
   ]
  },
  {
   "cell_type": "markdown",
   "metadata": {},
   "source": [
    "# W2V-MLP"
   ]
  },
  {
   "cell_type": "code",
   "execution_count": 7,
   "metadata": {},
   "outputs": [
    {
     "name": "stdout",
     "output_type": "stream",
     "text": [
      "torch.Size([5802, 1, 200]) torch.Size([485, 1, 200])\n",
      "torch.Size([5802, 1]) torch.Size([485, 1])\n"
     ]
    }
   ],
   "source": [
    "tensor_x1, tensor_y1, tensor_x2, tensor_y2 = __MLP.convert_df_to_unsqueezed_tensor(pheme_AVGw2v,pheme_y,ext_AVGw2v,ext_y)\n",
    "train_dataset = TensorDataset(tensor_x1,tensor_y1)\n",
    "test_dataset = TensorDataset(tensor_x2,tensor_y2)\n",
    "print(tensor_x1.size(),tensor_x2.size())\n",
    "print(tensor_y1.size(),tensor_y2.size())"
   ]
  },
  {
   "cell_type": "code",
   "execution_count": 8,
   "metadata": {},
   "outputs": [
    {
     "name": "stdout",
     "output_type": "stream",
     "text": [
      "mean: tensor(-0.0126), std: tensor(0.2787)\n",
      "torch.Size([5802, 1, 200])\n",
      "torch.Size([5802, 1])\n",
      "Train Size 5802 Test Size 485\n"
     ]
    }
   ],
   "source": [
    "batch_size = 16\n",
    "\n",
    "# Initialize WeightedRandomSampler to deal with the unbalanced dataset\n",
    "train_sampler, test_sampler = __MLP.getSamplers(pheme_y, tensor_x2)\n",
    "\n",
    "train_dataloader = DataLoader(train_dataset, batch_size=batch_size, sampler=train_sampler, num_workers=2)\n",
    "test_dataloader = DataLoader(test_dataset, batch_size=batch_size, shuffle=False, num_workers=2)\n",
    "\n",
    "data = next(iter(train_dataloader))\n",
    "print(\"mean: %s, std: %s\" %(data[0].mean(), data[0].std()))\n",
    "\n",
    "train_size = int(tensor_y1.size(0))\n",
    "test_size = int(tensor_y2.size(0))\n",
    "\n",
    "print(tensor_x1.shape)\n",
    "print(tensor_y1.shape)\n",
    "print(\"Train Size\",train_size,\"Test Size\",test_size)"
   ]
  },
  {
   "cell_type": "code",
   "execution_count": 52,
   "metadata": {},
   "outputs": [],
   "source": [
    "class W2V_net(nn.Module):\n",
    "    def __init__(self):\n",
    "        super(W2V_net, self).__init__() # 1*20\n",
    "        self.fc1 = nn.Linear(200, 32, bias=True) # 420\n",
    "        self.fc2 = nn.Linear(32, 8, bias=True)\n",
    "        self.fc3 = nn.Linear(8, 1)\n",
    "\n",
    "        self.drop_3 = nn.Dropout(0.3)\n",
    "        self.drop_4 = nn.Dropout(0.4)\n",
    "        self.drop_2 = nn.Dropout(0.2)\n",
    "\n",
    "    def forward(self, x):\n",
    "        x = self.drop_2(F.elu(self.fc1(x)))\n",
    "        x = self.drop_2(F.elu(self.fc2(x)))\n",
    "        x = self.fc3(x)\n",
    "        return x"
   ]
  },
  {
   "cell_type": "code",
   "execution_count": 55,
   "metadata": {},
   "outputs": [],
   "source": [
    "model_w2v = W2V_net()\n",
    "\n",
    "criterion = nn.BCEWithLogitsLoss()\n",
    "# optimizer = optim.SGD(task1_model.parameters(), lr=0.001, momentum=0.9)\n",
    "optimizer = optim.Adam(model_w2v.parameters(), lr=1e-5, weight_decay=1e-6)\n",
    "# scheduler = lr_scheduler.ExponentialLR(optimizer, gamma= 0.99)  \n",
    "\n",
    "train_loss = []\n",
    "train_accuracy = []\n",
    "\n",
    "epochs = 100\n",
    "\n",
    "total_steps = len(train_dataloader) * epochs\n",
    "scheduler = get_linear_schedule_with_warmup(optimizer,\n",
    "                                            num_warmup_steps=0,  # Default value\n",
    "                                            num_training_steps=total_steps)\n",
    "\n",
    "PATH = \"./Model/state_dict_w2v_model.pt\""
   ]
  },
  {
   "cell_type": "code",
   "execution_count": 58,
   "metadata": {},
   "outputs": [
    {
     "name": "stdout",
     "output_type": "stream",
     "text": [
      "Epoch 0/39\tTrain) Acc: 0.4943, Loss: 0.6992\n",
      "\t\tValidation) Acc: 0.7608 Loss:0.6523\n",
      "\t\tSaving the best model w/ loss 0.6992\n",
      "\t\tSaving the best model w/ loss 0.6961\n",
      "Epoch 2/39\tTrain) Acc: 0.5029, Loss: 0.6913\n",
      "\t\tValidation) Acc: 0.7608 Loss:0.6578\n",
      "\t\tSaving the best model w/ loss 0.6913\n",
      "\t\tSaving the best model w/ loss 0.6877\n",
      "Epoch 4/39\tTrain) Acc: 0.5483, Loss: 0.6837\n",
      "\t\tValidation) Acc: 0.7794 Loss:0.6639\n",
      "\t\tSaving the best model w/ loss 0.6837\n",
      "\t\tSaving the best model w/ loss 0.6789\n",
      "Epoch 6/39\tTrain) Acc: 0.6350, Loss: 0.6718\n",
      "\t\tValidation) Acc: 0.7753 Loss:0.6670\n",
      "\t\tSaving the best model w/ loss 0.6718\n",
      "\t\tSaving the best model w/ loss 0.6660\n",
      "Epoch 8/39\tTrain) Acc: 0.6749, Loss: 0.6619\n",
      "\t\tValidation) Acc: 0.6887 Loss:0.6694\n",
      "\t\tSaving the best model w/ loss 0.6619\n",
      "\t\tSaving the best model w/ loss 0.6559\n",
      "Epoch 10/39\tTrain) Acc: 0.6986, Loss: 0.6493\n",
      "\t\tValidation) Acc: 0.6680 Loss:0.6688\n",
      "\t\tSaving the best model w/ loss 0.6493\n",
      "\t\tSaving the best model w/ loss 0.6430\n",
      "Epoch 12/39\tTrain) Acc: 0.7125, Loss: 0.6371\n",
      "\t\tValidation) Acc: 0.6454 Loss:0.6700\n",
      "\t\tSaving the best model w/ loss 0.6371\n",
      "\t\tSaving the best model w/ loss 0.6303\n",
      "Epoch 14/39\tTrain) Acc: 0.7399, Loss: 0.6200\n",
      "\t\tValidation) Acc: 0.6289 Loss:0.6729\n",
      "\t\tSaving the best model w/ loss 0.6200\n",
      "\t\tSaving the best model w/ loss 0.6180\n",
      "Epoch 16/39\tTrain) Acc: 0.7325, Loss: 0.6107\n",
      "\t\tValidation) Acc: 0.6186 Loss:0.6741\n",
      "\t\tSaving the best model w/ loss 0.6107\n",
      "\t\tSaving the best model w/ loss 0.6022\n",
      "Epoch 18/39\tTrain) Acc: 0.7358, Loss: 0.5981\n",
      "\t\tValidation) Acc: 0.6082 Loss:0.6744\n",
      "\t\tSaving the best model w/ loss 0.5981\n",
      "\t\tSaving the best model w/ loss 0.5929\n",
      "Epoch 20/39\tTrain) Acc: 0.7403, Loss: 0.5845\n",
      "\t\tValidation) Acc: 0.6000 Loss:0.6758\n",
      "\t\tSaving the best model w/ loss 0.5845\n",
      "\t\tSaving the best model w/ loss 0.5792\n",
      "Epoch 22/39\tTrain) Acc: 0.7344, Loss: 0.5789\n",
      "\t\tValidation) Acc: 0.5876 Loss:0.6776\n",
      "\t\tSaving the best model w/ loss 0.5789\n",
      "\t\tSaving the best model w/ loss 0.5752\n",
      "Epoch 24/39\tTrain) Acc: 0.7341, Loss: 0.5692\n",
      "\t\tValidation) Acc: 0.5814 Loss:0.6797\n",
      "\t\tSaving the best model w/ loss 0.5692\n",
      "\t\tSaving the best model w/ loss 0.5674\n",
      "Epoch 26/39\tTrain) Acc: 0.7334, Loss: 0.5645\n",
      "\t\tValidation) Acc: 0.5402 Loss:0.6907\n",
      "\t\tSaving the best model w/ loss 0.5645\n",
      "\t\tSaving the best model w/ loss 0.5556\n",
      "Epoch 28/39\tTrain) Acc: 0.7566, Loss: 0.5446\n",
      "\t\tValidation) Acc: 0.5443 Loss:0.6862\n",
      "\t\tSaving the best model w/ loss 0.5446\n",
      "Epoch 30/39\tTrain) Acc: 0.7523, Loss: 0.5478\n",
      "\t\tValidation) Acc: 0.5381 Loss:0.6903\n",
      "\t\tSaving the best model w/ loss 0.5413\n",
      "Epoch 32/39\tTrain) Acc: 0.7456, Loss: 0.5437\n",
      "\t\tValidation) Acc: 0.5340 Loss:0.6953\n",
      "\t\tSaving the best model w/ loss 0.5406\n",
      "Epoch 34/39\tTrain) Acc: 0.7470, Loss: 0.5375\n",
      "\t\tValidation) Acc: 0.5320 Loss:0.6962\n",
      "\t\tSaving the best model w/ loss 0.5375\n",
      "\t\tSaving the best model w/ loss 0.5250\n",
      "Epoch 36/39\tTrain) Acc: 0.7508, Loss: 0.5323\n",
      "\t\tValidation) Acc: 0.5299 Loss:0.6964\n",
      "Epoch 38/39\tTrain) Acc: 0.7477, Loss: 0.5302\n",
      "\t\tValidation) Acc: 0.5278 Loss:0.6962\n",
      "\t\tSaving the best model w/ loss 0.5214\n"
     ]
    }
   ],
   "source": [
    "train_acc, train_loss, val_acc, val_loss_list = __MLP.train_sequential(model=model_w2v, num_epochs=40, patience=15, criterion=criterion, optimizer=optimizer, scheduler=scheduler, train_loader=train_dataloader,train_size=train_size, test_loader=test_dataloader, test_size=test_size, PATH=PATH)\n"
   ]
  },
  {
   "cell_type": "code",
   "execution_count": 59,
   "metadata": {},
   "outputs": [
    {
     "data": {
      "image/png": "[encoded data removed]",
      "text/plain": "<Figure size 864x576 with 4 Axes>"
     },
     "metadata": {
      "needs_background": "light"
     },
     "output_type": "display_data"
    },
    {
     "name": "stdout",
     "output_type": "stream",
     "text": [
      "Min of Training Loss: 0.521443\n",
      "Max of Training Accuracy: 0.763357\n",
      "Mean of Training Loss: 0.600312\n",
      "Mean of Training Accuracy: 0.699961\n",
      "----\n",
      "Max of Testing Accuracy: 0.795876\n",
      "Mean of Testing Loss: 0.678386\n",
      "Mean of Testing Accuracy: 0.619536\n"
     ]
    }
   ],
   "source": [
    "clf_report(train_loss, train_acc, val_loss_list, val_acc)"
   ]
  },
  {
   "cell_type": "markdown",
   "metadata": {},
   "source": [
    "# BERT - MLP"
   ]
  },
  {
   "cell_type": "code",
   "execution_count": 10,
   "metadata": {},
   "outputs": [
    {
     "name": "stdout",
     "output_type": "stream",
     "text": [
      "torch.Size([5802, 1, 768]) torch.Size([485, 1, 768])\n",
      "torch.Size([5802, 1]) torch.Size([485, 1])\n",
      "mean: tensor(0.0439), std: tensor(0.3089)\n",
      "torch.Size([5802, 1, 768])\n",
      "torch.Size([5802, 1])\n",
      "Train Size 5802 Test Size 485\n"
     ]
    }
   ],
   "source": [
    "tensor_x1, tensor_y1, tensor_x2, tensor_y2 = __MLP.convert_df_to_unsqueezed_tensor(pheme_bert, pheme_y, ext_bert, ext_y)\n",
    "train_dataset = TensorDataset(tensor_x1,tensor_y1)\n",
    "test_dataset = TensorDataset(tensor_x2,tensor_y2)\n",
    "print(tensor_x1.size(),tensor_x2.size())\n",
    "print(tensor_y1.size(),tensor_y2.size())\n",
    "\n",
    "batch_size = 16\n",
    "\n",
    "# Initialize WeightedRandomSampler to deal with the unbalanced dataset\n",
    "train_sampler, test_sampler = __MLP.getSamplers(pheme_y, tensor_x2)\n",
    "\n",
    "train_dataloader = DataLoader(train_dataset, batch_size=batch_size, sampler=train_sampler, num_workers=2)\n",
    "test_dataloader = DataLoader(test_dataset, batch_size=batch_size, shuffle=False, num_workers=2)\n",
    "\n",
    "data = next(iter(train_dataloader))\n",
    "print(\"mean: %s, std: %s\" %(data[0].mean(), data[0].std()))\n",
    "\n",
    "train_size = int(tensor_y1.size(0))\n",
    "test_size = int(tensor_y2.size(0))\n",
    "\n",
    "print(tensor_x1.shape)\n",
    "print(tensor_y1.shape)\n",
    "print(\"Train Size\",train_size,\"Test Size\",test_size)"
   ]
  },
  {
   "cell_type": "code",
   "execution_count": 11,
   "metadata": {},
   "outputs": [],
   "source": [
    "class BERT_net(nn.Module):\n",
    "    def __init__(self):\n",
    "        super(BERT_net, self).__init__() # 1*20\n",
    "        self.fc1 = nn.Linear(768, 50, bias=True) # 420\n",
    "        self.fc2 = nn.Linear(50, 8, bias=True)\n",
    "        self.fc3 = nn.Linear(8, 1)\n",
    "\n",
    "        self.drop_3 = nn.Dropout(0.3)\n",
    "        self.drop_4 = nn.Dropout(0.4)\n",
    "        self.drop_2 = nn.Dropout(0.2)\n",
    "\n",
    "    def forward(self, x):\n",
    "        x = self.drop_2(F.elu(self.fc1(x)))\n",
    "        x = self.drop_2(F.elu(self.fc2(x)))\n",
    "        x = self.fc3(x)\n",
    "        return x"
   ]
  },
  {
   "cell_type": "code",
   "execution_count": 13,
   "metadata": {},
   "outputs": [],
   "source": [
    "model_bert = BERT_net()\n",
    "import torch.optim as optim\n",
    "\n",
    "criterion = nn.BCEWithLogitsLoss()\n",
    "# optimizer = optim.SGD(model.parameters(), lr=0.001, momentum=0.9)\n",
    "optimizer = optim.Adam(model_bert.parameters(), lr=5e-5, eps=1e-8, weight_decay=1e-6)\n",
    "# scheduler = lr_scheduler.ExponentialLR(optimizer, gamma= 0.99)  \n",
    "train_loss = []\n",
    "train_accuracy = []\n",
    "\n",
    "epochs = 40\n",
    "\n",
    "total_steps = len(train_dataloader) * epochs\n",
    "scheduler = get_linear_schedule_with_warmup(optimizer,\n",
    "                                            num_warmup_steps=0,  # Default value\n",
    "                                            num_training_steps=total_steps)\n",
    "\n",
    "PATH = \"./Model/state_dict_bert_model.pt\""
   ]
  },
  {
   "cell_type": "code",
   "execution_count": 14,
   "metadata": {},
   "outputs": [
    {
     "name": "stdout",
     "output_type": "stream",
     "text": [
      "Epoch 0/39\tTrain) Acc: 0.6898, Loss: 0.6063\n",
      "\t\tValidation) Acc: 0.6515 Loss:0.7105\n",
      "\t\tSaving the best model w/ loss 0.6063\n",
      "\t\tSaving the best model w/ loss 0.5621\n",
      "Epoch 2/39\tTrain) Acc: 0.7149, Loss: 0.5546\n",
      "\t\tValidation) Acc: 0.6557 Loss:0.8388\n",
      "\t\tSaving the best model w/ loss 0.5546\n",
      "\t\tSaving the best model w/ loss 0.5334\n",
      "Epoch 4/39\tTrain) Acc: 0.7304, Loss: 0.5323\n",
      "\t\tValidation) Acc: 0.6144 Loss:0.9224\n",
      "\t\tSaving the best model w/ loss 0.5323\n",
      "\t\tSaving the best model w/ loss 0.5239\n",
      "Epoch 6/39\tTrain) Acc: 0.7611, Loss: 0.5137\n",
      "\t\tValidation) Acc: 0.6082 Loss:0.9203\n",
      "\t\tSaving the best model w/ loss 0.5137\n",
      "\t\tSaving the best model w/ loss 0.5109\n",
      "Epoch 8/39\tTrain) Acc: 0.7544, Loss: 0.5141\n",
      "\t\tValidation) Acc: 0.6000 Loss:0.9363\n",
      "\t\tSaving the best model w/ loss 0.4991\n",
      "Epoch 10/39\tTrain) Acc: 0.7661, Loss: 0.5075\n",
      "\t\tValidation) Acc: 0.5753 Loss:0.9536\n",
      "\t\tSaving the best model w/ loss 0.4988\n",
      "Epoch 12/39\tTrain) Acc: 0.7682, Loss: 0.4985\n",
      "\t\tValidation) Acc: 0.5649 Loss:0.9704\n",
      "\t\tSaving the best model w/ loss 0.4985\n",
      "\t\tSaving the best model w/ loss 0.4909\n",
      "Epoch 14/39\tTrain) Acc: 0.7758, Loss: 0.4944\n",
      "\t\tValidation) Acc: 0.5443 Loss:0.9834\n",
      "Epoch 16/39\tTrain) Acc: 0.7818, Loss: 0.4866\n",
      "\t\tValidation) Acc: 0.5485 Loss:0.9849\n",
      "\t\tSaving the best model w/ loss 0.4866\n",
      "\t\tSaving the best model w/ loss 0.4836\n",
      "Epoch 18/39\tTrain) Acc: 0.7863, Loss: 0.4801\n",
      "\t\tValidation) Acc: 0.5216 Loss:1.0297\n",
      "\t\tSaving the best model w/ loss 0.4801\n",
      "Epoch 20/39\tTrain) Acc: 0.7866, Loss: 0.4787\n",
      "\t\tValidation) Acc: 0.5464 Loss:1.0097\n",
      "\t\tSaving the best model w/ loss 0.4787\n",
      "\t\tSaving the best model w/ loss 0.4709\n",
      "Epoch 22/39\tTrain) Acc: 0.7883, Loss: 0.4789\n",
      "\t\tValidation) Acc: 0.5464 Loss:1.0012\n",
      "Epoch 24/39\tTrain) Acc: 0.7847, Loss: 0.4806\n",
      "\t\tValidation) Acc: 0.5443 Loss:1.0148\n",
      "Epoch 26/39\tTrain) Acc: 0.7933, Loss: 0.4762\n",
      "\t\tValidation) Acc: 0.5072 Loss:1.0464\n",
      "Epoch 28/39\tTrain) Acc: 0.7992, Loss: 0.4648\n",
      "\t\tValidation) Acc: 0.5464 Loss:1.0130\n",
      "\t\tSaving the best model w/ loss 0.4648\n",
      "Epoch 30/39\tTrain) Acc: 0.7977, Loss: 0.4709\n",
      "\t\tValidation) Acc: 0.5072 Loss:1.0468\n",
      "Epoch 32/39\tTrain) Acc: 0.7973, Loss: 0.4709\n",
      "\t\tValidation) Acc: 0.5093 Loss:1.0409\n",
      "Epoch 34/39\tTrain) Acc: 0.7944, Loss: 0.4697\n",
      "\t\tValidation) Acc: 0.5093 Loss:1.0421\n",
      "\t\tSaving the best model w/ loss 0.4591\n",
      "Epoch 36/39\tTrain) Acc: 0.7977, Loss: 0.4701\n",
      "\t\tValidation) Acc: 0.5052 Loss:1.0490\n",
      "Epoch 38/39\tTrain) Acc: 0.7925, Loss: 0.4738\n",
      "\t\tValidation) Acc: 0.5031 Loss:1.0455\n"
     ]
    }
   ],
   "source": [
    "train_acc, train_loss, val_acc, val_loss_list = __MLP.train_sequential(model=model_bert, num_epochs=40, patience=15, criterion=criterion, optimizer=optimizer, scheduler=scheduler, train_loader=train_dataloader,train_size=train_size, test_loader=test_dataloader, test_size=test_size, PATH=PATH)\n"
   ]
  },
  {
   "cell_type": "code",
   "execution_count": 16,
   "metadata": {},
   "outputs": [
    {
     "data": {
      "image/png": "[encoded data removed]",
      "text/plain": "<Figure size 864x576 with 4 Axes>"
     },
     "metadata": {
      "needs_background": "light"
     },
     "output_type": "display_data"
    },
    {
     "name": "stdout",
     "output_type": "stream",
     "text": [
      "Min of Training Loss: 0.459100\n",
      "Max of Training Accuracy: 0.803861\n",
      "Mean of Training Loss: 0.493687\n",
      "Mean of Training Accuracy: 0.775185\n",
      "----\n",
      "Max of Testing Accuracy: 0.655670\n",
      "Mean of Testing Loss: 0.984076\n",
      "Mean of Testing Accuracy: 0.553866\n"
     ]
    }
   ],
   "source": [
    "__MLP.clf_report(train_loss, train_acc, val_loss_list, val_acc)"
   ]
  },
  {
   "cell_type": "markdown",
   "metadata": {},
   "source": [
    "# Thread"
   ]
  },
  {
   "cell_type": "code",
   "execution_count": 7,
   "metadata": {},
   "outputs": [
    {
     "name": "stdout",
     "output_type": "stream",
     "text": [
      "torch.Size([5802, 1, 36]) torch.Size([485, 1, 36])\n",
      "torch.Size([5802, 1]) torch.Size([485, 1])\n"
     ]
    }
   ],
   "source": [
    "# train, test = __MLP.scaleData(pheme_sparse.values,ext_sparse.values)\n",
    "tensor_x1, tensor_y1, tensor_x2, tensor_y2 = __MLP.convert_df_to_unsqueezed_tensor(pheme_thread,pheme_y,ext_thread,ext_y)\n",
    "train_dataset = TensorDataset(tensor_x1,tensor_y1)\n",
    "test_dataset = TensorDataset(tensor_x2,tensor_y2)\n",
    "print(tensor_x1.size(),tensor_x2.size())\n",
    "print(tensor_y1.size(),tensor_y2.size())"
   ]
  },
  {
   "cell_type": "code",
   "execution_count": 8,
   "metadata": {},
   "outputs": [
    {
     "name": "stdout",
     "output_type": "stream",
     "text": [
      "mean: tensor(1704.3844), std: tensor(26082.9453)\n",
      "torch.Size([5802, 1, 36]) torch.Size([485, 1, 36])\n",
      "torch.Size([5802, 1]) torch.Size([485, 1])\n",
      "Train Size 5802 Test Size 485\n"
     ]
    }
   ],
   "source": [
    "batch_size = 16\n",
    "\n",
    "# Initialize WeightedRandomSampler to deal with the unbalanced dataset\n",
    "train_sampler, test_sampler = __MLP.getSamplers(pheme_y, tensor_x2)\n",
    "\n",
    "train_dataloader = DataLoader(train_dataset, batch_size=batch_size, sampler=train_sampler, num_workers=2)\n",
    "test_dataloader = DataLoader(test_dataset, batch_size=batch_size, shuffle=False, num_workers=2)\n",
    "\n",
    "data = next(iter(train_dataloader))\n",
    "print(\"mean: %s, std: %s\" %(data[0].mean(), data[0].std()))\n",
    "\n",
    "train_size = int(tensor_y1.size(0))\n",
    "test_size = int(tensor_y2.size(0))\n",
    "\n",
    "print(tensor_x1.shape,tensor_x2.shape)\n",
    "print(tensor_y1.shape,tensor_y2.shape)\n",
    "print(\"Train Size\",train_size,\"Test Size\",test_size)"
   ]
  },
  {
   "cell_type": "code",
   "execution_count": 9,
   "metadata": {},
   "outputs": [],
   "source": [
    "class thread_model(nn.Module):\n",
    "    def __init__(self):\n",
    "        super(thread_model, self).__init__() # 1*20\n",
    "        self.fc1 = nn.Linear(36, 8, bias=True) # 420\n",
    "        # self.fc2 = nn.Linear(12, 8, bias=True)\n",
    "        self.fc3 = nn.Linear(8, 1)\n",
    "\n",
    "        self.drop_3 = nn.Dropout(0.3)\n",
    "        self.drop_4 = nn.Dropout(0.4)\n",
    "        self.drop_2 = nn.Dropout(0.2)\n",
    "\n",
    "    def forward(self, x):\n",
    "        x = self.drop_2(F.elu(self.fc1(x)))\n",
    "        # x = F.elu(self.fc2(x))\n",
    "        x = self.fc3(x)\n",
    "        return x"
   ]
  },
  {
   "cell_type": "code",
   "execution_count": 15,
   "metadata": {},
   "outputs": [],
   "source": [
    "model_thread = thread_model()\n",
    "\n",
    "criterion = nn.BCEWithLogitsLoss()\n",
    "# optimizer = optim.SGD(model_sparse.parameters(), lr=0.01, momentum=0.9)\n",
    "optimizer = optim.Adam(model_sparse.parameters(), lr=5e-5, eps=1e-8, weight_decay=1e-6)\n",
    "# scheduler = lr_scheduler.ExponentialLR(optimizer, gamma= 0.99)  \n",
    "\n",
    "epochs = 100\n",
    "\n",
    "total_steps = len(train_dataloader) * epochs\n",
    "scheduler = get_linear_schedule_with_warmup(optimizer,\n",
    "                                            num_warmup_steps=0,  # Default value\n",
    "                                            num_training_steps=total_steps)\n",
    "\n",
    "PATH = \"./Model/state_dict_sparse_model.pt\""
   ]
  },
  {
   "cell_type": "code",
   "execution_count": 17,
   "metadata": {},
   "outputs": [
    {
     "name": "stdout",
     "output_type": "stream",
     "text": [
      "Epoch 0/99\tTrain) Acc: 0.4945, Loss: 623.6534\n",
      "\t\tValidation) Acc: 0.7608 Loss:167.8163\n"
     ]
    }
   ],
   "source": [
    "train_acc, train_loss, val_acc, val_loss_list = __MLP.train_sequential(model=model_thread, num_epochs=100, patience=30, criterion=criterion, optimizer=optimizer, scheduler=scheduler, train_loader=train_dataloader,train_size=train_size, test_loader=test_dataloader, test_size=test_size, PATH=PATH)\n"
   ]
  },
  {
   "cell_type": "code",
   "execution_count": null,
   "metadata": {},
   "outputs": [
    {
     "data": {
      "image/png": "[encoded data removed]",
      "text/plain": "<Figure size 864x576 with 4 Axes>"
     },
     "output_type": "unknown"
    }
   ],
   "source": [
    "clf_report(train_loss, train_acc, val_loss_list, val_acc)"
   ]
  },
  {
   "cell_type": "markdown",
   "metadata": {},
   "source": [
    "# Sparse + W2V -> MLP"
   ]
  },
  {
   "cell_type": "code",
   "execution_count": 47,
   "metadata": {},
   "outputs": [],
   "source": [
    "from sklearn.preprocessing import StandardScaler\n",
    "scaler = StandardScaler()\n",
    "pheme_sparse = scaler.fit_transform(pheme_sparse.values)\n",
    "sparse_bert = np.concatenate([pheme_sparse, pheme_bert.values],axis=1)\n",
    "ext_sparse = scaler.fit_transform(ext_sparse.values)\n",
    "sparse_bert_ext = np.concatenate([ext_sparse, ext_bert.values],axis=1)\n",
    "\n",
    "tensor_x1 = torch.Tensor(sparse_bert).unsqueeze(1)\n",
    "tensor_y1 = torch.Tensor(pheme_y.values).unsqueeze(1)\n",
    "train_dataset = TensorDataset(tensor_x1,tensor_y1)\n",
    "\n",
    "tensor_x2 = torch.Tensor(sparse_bert_ext).unsqueeze(1)\n",
    "tensor_y2 = torch.Tensor(ext_y.values).unsqueeze(1)\n",
    "test_dataset = TensorDataset(tensor_x2,tensor_y2)"
   ]
  },
  {
   "cell_type": "code",
   "execution_count": 57,
   "metadata": {},
   "outputs": [
    {
     "name": "stdout",
     "output_type": "stream",
     "text": [
      "torch.Size([5802, 1, 229]) torch.Size([485, 1, 229])\n",
      "torch.Size([5802, 1]) torch.Size([485, 1])\n"
     ]
    }
   ],
   "source": [
    "pheme_sparse_W2V = pd.concat([pheme_sparse, pheme_AVGw2v],axis=1)\n",
    "ext_sparse_W2V = pd.concat([ext_sparse, ext_AVGw2v],axis=1)\n",
    "\n",
    "tensor_x1, tensor_y1, tensor_x2, tensor_y2 = __MLP.convert_df_to_unsqueezed_tensor(pheme_sparse_W2V, pheme_y, ext_sparse_W2V, ext_y)\n",
    "train_dataset = TensorDataset(tensor_x1,tensor_y1)\n",
    "test_dataset = TensorDataset(tensor_x2,tensor_y2)\n",
    "print(tensor_x1.size(),tensor_x2.size())\n",
    "print(tensor_y1.size(),tensor_y2.size())"
   ]
  },
  {
   "cell_type": "code",
   "execution_count": 59,
   "metadata": {},
   "outputs": [
    {
     "name": "stdout",
     "output_type": "stream",
     "text": [
      "mean: tensor(10.0300), std: tensor(133.5756)\n",
      "torch.Size([5802, 1, 229]) torch.Size([485, 1, 229])\n",
      "torch.Size([5802, 1]) torch.Size([485, 1])\n",
      "Train Size 5802 Test Size 485\n"
     ]
    }
   ],
   "source": [
    "batch_size = 16\n",
    "\n",
    "# Initialize WeightedRandomSampler to deal with the unbalanced dataset\n",
    "train_sampler, test_sampler = __MLP.getSamplers(pheme_y, tensor_x2)\n",
    "\n",
    "train_dataloader = DataLoader(train_dataset, batch_size=batch_size, sampler=train_sampler, num_workers=2)\n",
    "test_dataloader = DataLoader(test_dataset, batch_size=batch_size, shuffle=False, num_workers=2)\n",
    "\n",
    "data = next(iter(train_dataloader))\n",
    "print(\"mean: %s, std: %s\" %(data[0].mean(), data[0].std()))\n",
    "\n",
    "train_size = int(tensor_y1.size(0))\n",
    "test_size = int(tensor_y2.size(0))\n",
    "\n",
    "print(tensor_x1.shape,tensor_x2.shape)\n",
    "print(tensor_y1.shape,tensor_y2.shape)\n",
    "print(\"Train Size\",train_size,\"Test Size\",test_size)"
   ]
  },
  {
   "cell_type": "code",
   "execution_count": 60,
   "metadata": {},
   "outputs": [],
   "source": [
    "class W2V_sparse_net(nn.Module):\n",
    "    def __init__(self):\n",
    "        super(W2V_sparse_net, self).__init__() # 1*20\n",
    "        self.fc1 = nn.Linear(229, 50, bias=True) # 420\n",
    "        self.fc2 = nn.Linear(50, 8, bias=True)\n",
    "        self.fc3 = nn.Linear(8, 1,bias=True)\n",
    "\n",
    "        self.drop_3 = nn.Dropout(0.3)\n",
    "        self.drop_4 = nn.Dropout(0.4)\n",
    "        self.drop_2 = nn.Dropout(0.2)\n",
    "\n",
    "    def forward(self, x):\n",
    "        x = self.drop_2(F.elu(self.fc1(x)))\n",
    "        x = self.drop_2(F.elu(self.fc2(x)))\n",
    "        x = self.fc3(x)\n",
    "        return x"
   ]
  },
  {
   "cell_type": "code",
   "execution_count": 61,
   "metadata": {},
   "outputs": [],
   "source": [
    "set_seed(42)\n",
    "model_w2vsparse = W2V_sparse_net()\n",
    "\n",
    "criterion = nn.BCEWithLogitsLoss()\n",
    "# optimizer = optim.SGD(model.parameters(), lr=0.001, momentum=0.9)\n",
    "optimizer = optim.Adam(model_w2vsparse.parameters(), lr=5e-5, eps=1e-8, weight_decay=1e-6)\n",
    "# scheduler = lr_scheduler.ExponentialLR(optimizer, gamma= 0.99)  \n",
    "\n",
    "epochs = 100\n",
    "\n",
    "total_steps = len(train_dataloader) * epochs\n",
    "scheduler = get_linear_schedule_with_warmup(optimizer,\n",
    "                                            num_warmup_steps=0,  # Default value\n",
    "                                            num_training_steps=total_steps)\n",
    "\n",
    "PATH = \"./Model/state_dict_w2v_sparse_model.pt\""
   ]
  },
  {
   "cell_type": "code",
   "execution_count": 63,
   "metadata": {},
   "outputs": [
    {
     "name": "stdout",
     "output_type": "stream",
     "text": [
      "Epoch 0/39\tTrain) Acc: 0.4964, Loss: 1.1619\n",
      "\t\tValidation) Acc: 0.4103 Loss:0.8039\n",
      "\t\tSaving the best model w/ loss 1.1619\n",
      "\t\tSaving the best model w/ loss 0.8770\n",
      "Epoch 2/39\tTrain) Acc: 0.4883, Loss: 0.9466\n",
      "\t\tValidation) Acc: 0.7443 Loss:0.7230\n",
      "\t\tSaving the best model w/ loss 0.8220\n",
      "Epoch 4/39\tTrain) Acc: 0.4831, Loss: 0.8286\n",
      "\t\tValidation) Acc: 0.7505 Loss:0.7036\n",
      "\t\tSaving the best model w/ loss 0.7546\n",
      "Epoch 6/39\tTrain) Acc: 0.5019, Loss: 0.8223\n",
      "\t\tValidation) Acc: 0.7526 Loss:0.7055\n",
      "Epoch 8/39\tTrain) Acc: 0.5009, Loss: 0.8449\n",
      "\t\tValidation) Acc: 0.7526 Loss:0.6902\n",
      "\t\tSaving the best model w/ loss 0.7223\n",
      "Epoch 10/39\tTrain) Acc: 0.5160, Loss: 0.7300\n",
      "\t\tValidation) Acc: 0.7546 Loss:0.6764\n",
      "Epoch 12/39\tTrain) Acc: 0.4995, Loss: 0.7305\n",
      "\t\tValidation) Acc: 0.7546 Loss:0.6784\n",
      "\t\tSaving the best model w/ loss 0.7204\n",
      "Epoch 14/39\tTrain) Acc: 0.5093, Loss: 0.7425\n",
      "\t\tValidation) Acc: 0.7546 Loss:0.6702\n",
      "\t\tSaving the best model w/ loss 0.7117\n",
      "Epoch 16/39\tTrain) Acc: 0.5050, Loss: 0.7084\n",
      "\t\tValidation) Acc: 0.7546 Loss:0.6603\n",
      "\t\tSaving the best model w/ loss 0.7084\n",
      "Epoch 18/39\tTrain) Acc: 0.4900, Loss: 0.7150\n",
      "\t\tValidation) Acc: 0.7567 Loss:0.6593\n",
      "\t\tSaving the best model w/ loss 0.7084\n",
      "Epoch 20/39\tTrain) Acc: 0.5007, Loss: 0.7576\n",
      "\t\tValidation) Acc: 0.7588 Loss:0.6612\n",
      "Epoch 22/39\tTrain) Acc: 0.5057, Loss: 0.7040\n",
      "\t\tValidation) Acc: 0.7567 Loss:0.6604\n",
      "\t\tSaving the best model w/ loss 0.7040\n",
      "\t\tSaving the best model w/ loss 0.7009\n",
      "Epoch 24/39\tTrain) Acc: 0.5033, Loss: 0.7395\n",
      "\t\tValidation) Acc: 0.7588 Loss:0.6619\n",
      "\t\tSaving the best model w/ loss 0.7007\n",
      "Epoch 26/39\tTrain) Acc: 0.4964, Loss: 0.7245\n",
      "\t\tValidation) Acc: 0.7608 Loss:0.6780\n",
      "\t\tSaving the best model w/ loss 0.6970\n",
      "Epoch 28/39\tTrain) Acc: 0.4993, Loss: 0.7055\n",
      "\t\tValidation) Acc: 0.7608 Loss:0.6642\n",
      "Epoch 30/39\tTrain) Acc: 0.5062, Loss: 0.7021\n",
      "\t\tValidation) Acc: 0.7608 Loss:0.6659\n",
      "Epoch 32/39\tTrain) Acc: 0.5050, Loss: 0.7210\n",
      "\t\tValidation) Acc: 0.7608 Loss:0.6704\n",
      "Epoch 34/39\tTrain) Acc: 0.5026, Loss: 0.7006\n",
      "\t\tValidation) Acc: 0.7608 Loss:0.6642\n",
      "Finishing the Model: Loss is not decreasing...\n",
      "[0.7021169848008141, 0.7286517908555892, 0.7209767910867919, 0.7124049225908771, 0.7005851163982482]\n"
     ]
    }
   ],
   "source": [
    "train_acc, train_loss, val_acc, val_loss_list = __MLP.train_sequential(model=model_w2vsparse, num_epochs=40, patience=8, criterion=criterion, optimizer=optimizer, scheduler=scheduler, train_loader=train_dataloader,train_size=train_size, test_loader=test_dataloader, test_size=test_size, PATH=PATH)\n"
   ]
  },
  {
   "cell_type": "code",
   "execution_count": 65,
   "metadata": {},
   "outputs": [
    {
     "data": {
      "image/png": "[encoded data removed]",
      "text/plain": "<Figure size 864x576 with 4 Axes>"
     },
     "metadata": {
      "needs_background": "light"
     },
     "output_type": "display_data"
    },
    {
     "name": "stdout",
     "output_type": "stream",
     "text": [
      "Min of Training Loss: 0.696975\n",
      "Max of Training Accuracy: 0.518614\n",
      "Mean of Training Loss: 0.756582\n",
      "Mean of Training Accuracy: 0.499483\n",
      "----\n",
      "Max of Testing Accuracy: 0.760825\n",
      "Mean of Testing Loss: 0.682468\n",
      "Mean of Testing Accuracy: 0.745762\n"
     ]
    }
   ],
   "source": [
    "__MLP.clf_report(train_loss, train_acc, val_loss_list, val_acc)"
   ]
  },
  {
   "cell_type": "markdown",
   "metadata": {},
   "source": [
    "# Sparse + BERT -> MLP"
   ]
  },
  {
   "cell_type": "code",
   "execution_count": 13,
   "metadata": {},
   "outputs": [],
   "source": [
    "from sklearn.preprocessing import StandardScaler\n",
    "scaler = StandardScaler()\n",
    "pheme_sparse = scaler.fit_transform(pheme_sparse.values)\n",
    "sparse_bert = np.concatenate([pheme_sparse, pheme_bert.values],axis=1)\n",
    "ext_sparse = scaler.fit_transform(ext_sparse.values)\n",
    "sparse_bert_ext = np.concatenate([ext_sparse, ext_bert.values],axis=1)"
   ]
  },
  {
   "cell_type": "code",
   "execution_count": 14,
   "metadata": {},
   "outputs": [],
   "source": [
    "# Train = pd.concat([pheme_bert, pheme_sparse], axis=1)\n",
    "# Test = pd.concat([ext_bert, ext_sparse], axis=1)\n",
    "\n",
    "tensor_x1 = torch.Tensor(sparse_bert).unsqueeze(1)\n",
    "tensor_y1 = torch.Tensor(pheme_y.values).unsqueeze(1)\n",
    "train_dataset = TensorDataset(tensor_x1,tensor_y1)\n",
    "\n",
    "tensor_x2 = torch.Tensor(sparse_bert_ext).unsqueeze(1)\n",
    "tensor_y2 = torch.Tensor(ext_y.values).unsqueeze(1)\n",
    "test_dataset = TensorDataset(tensor_x2,tensor_y2)"
   ]
  },
  {
   "cell_type": "code",
   "execution_count": 66,
   "metadata": {},
   "outputs": [
    {
     "name": "stdout",
     "output_type": "stream",
     "text": [
      "torch.Size([5802, 1, 797]) torch.Size([485, 1, 797])\n",
      "torch.Size([5802, 1]) torch.Size([485, 1])\n"
     ]
    }
   ],
   "source": [
    "pheme_sparse_bert = pd.concat([pheme_sparse, pheme_bert],axis=1)\n",
    "ext_sparse_bert = pd.concat([ext_sparse, ext_bert],axis=1)\n",
    "\n",
    "tensor_x1, tensor_y1, tensor_x2, tensor_y2 = __MLP.convert_df_to_unsqueezed_tensor(pheme_sparse_bert, pheme_y, ext_sparse_bert, ext_y)\n",
    "train_dataset = TensorDataset(tensor_x1,tensor_y1)\n",
    "test_dataset = TensorDataset(tensor_x2,tensor_y2)\n",
    "print(tensor_x1.size(),tensor_x2.size())\n",
    "print(tensor_y1.size(),tensor_y2.size())"
   ]
  },
  {
   "cell_type": "code",
   "execution_count": 67,
   "metadata": {},
   "outputs": [
    {
     "name": "stdout",
     "output_type": "stream",
     "text": [
      "mean: tensor(2.8082), std: tensor(69.8108)\n",
      "torch.Size([5802, 1, 797]) torch.Size([485, 1, 797])\n",
      "torch.Size([5802, 1]) torch.Size([485, 1])\n",
      "Train Size 5802 Test Size 485\n"
     ]
    }
   ],
   "source": [
    "batch_size = 16\n",
    "\n",
    "# Initialize WeightedRandomSampler to deal with the unbalanced dataset\n",
    "train_sampler, test_sampler = __MLP.getSamplers(pheme_y, tensor_x2)\n",
    "\n",
    "train_dataloader = DataLoader(train_dataset, batch_size=batch_size, sampler=train_sampler, num_workers=2)\n",
    "test_dataloader = DataLoader(test_dataset, batch_size=batch_size, shuffle=False, num_workers=2)\n",
    "\n",
    "data = next(iter(train_dataloader))\n",
    "print(\"mean: %s, std: %s\" %(data[0].mean(), data[0].std()))\n",
    "\n",
    "train_size = int(tensor_y1.size(0))\n",
    "test_size = int(tensor_y2.size(0))\n",
    "\n",
    "print(tensor_x1.shape,tensor_x2.shape)\n",
    "print(tensor_y1.shape,tensor_y2.shape)\n",
    "print(\"Train Size\",train_size,\"Test Size\",test_size)"
   ]
  },
  {
   "cell_type": "code",
   "execution_count": 70,
   "metadata": {},
   "outputs": [],
   "source": [
    "class BERT_sparse_net(nn.Module):\n",
    "    def __init__(self):\n",
    "        super(BERT_sparse_net, self).__init__()  # 1*20\n",
    "        self.fc1 = nn.Linear(797, 64, bias=True)  # 420\n",
    "        self.fc2 = nn.Linear(64, 8, bias=True)\n",
    "        self.fc3 = nn.Linear(8, 1, bias=True)\n",
    "\n",
    "        self.drop_3 = nn.Dropout(0.3)\n",
    "        self.drop_1 = nn.Dropout(0.1)\n",
    "        self.drop_2 = nn.Dropout(0.2)\n",
    "        self.batchnorm = nn.BatchNorm1d(64)\n",
    "\n",
    "    def forward(self, x):\n",
    "        x = self.drop_2(F.elu(self.fc1(x)))\n",
    "        x = self.drop_2(F.elu(self.fc2(x)))\n",
    "        x = self.fc3(x)\n",
    "        return x\n"
   ]
  },
  {
   "cell_type": "code",
   "execution_count": 73,
   "metadata": {},
   "outputs": [],
   "source": [
    "set_seed(42)\n",
    "model_bertsparse = BERT_sparse_net()\n",
    "\n",
    "criterion = nn.BCEWithLogitsLoss()\n",
    "# optimizer = optim.SGD(model.parameters(), lr=0.001, momentum=0.9)\n",
    "optimizer = optim.Adam(model_bertsparse.parameters(), lr=5e-5,eps=1e-8, weight_decay=1e-6)\n",
    "# scheduler = lr_scheduler.ExponentialLR(optimizer, gamma= 0.99)  \n",
    "train_loss = []\n",
    "train_accuracy = []\n",
    "\n",
    "epochs = 40\n",
    "\n",
    "PATH = \"./Model/state_dict_bert_sparse_model.pt\"\n",
    "\n",
    "total_steps = len(train_dataloader) * epochs\n",
    "scheduler = get_linear_schedule_with_warmup(optimizer,\n",
    "                                            num_warmup_steps=0,  # Default value\n",
    "                                            num_training_steps=total_steps)"
   ]
  },
  {
   "cell_type": "code",
   "execution_count": 74,
   "metadata": {},
   "outputs": [
    {
     "name": "stdout",
     "output_type": "stream",
     "text": [
      "Epoch 0/39\tTrain) Acc: 0.5165, Loss: 2.5900\n",
      "\t\tValidation) Acc: 0.2536 Loss:0.9366\n",
      "\t\tSaving the best model w/ loss 2.5900\n",
      "\t\tSaving the best model w/ loss 1.0442\n",
      "Epoch 2/39\tTrain) Acc: 0.5453, Loss: 0.9266\n",
      "\t\tValidation) Acc: 0.2330 Loss:0.9502\n",
      "\t\tSaving the best model w/ loss 0.9266\n",
      "\t\tSaving the best model w/ loss 0.9123\n",
      "Epoch 4/39\tTrain) Acc: 0.5393, Loss: 0.7625\n",
      "\t\tValidation) Acc: 0.2495 Loss:0.9336\n",
      "\t\tSaving the best model w/ loss 0.7625\n",
      "\t\tSaving the best model w/ loss 0.7549\n",
      "Epoch 6/39\tTrain) Acc: 0.5836, Loss: 0.7425\n",
      "\t\tValidation) Acc: 0.4144 Loss:0.8311\n",
      "\t\tSaving the best model w/ loss 0.7425\n",
      "Epoch 8/39\tTrain) Acc: 0.6051, Loss: 0.7172\n",
      "\t\tValidation) Acc: 0.6433 Loss:0.8498\n",
      "\t\tSaving the best model w/ loss 0.7172\n",
      "\t\tSaving the best model w/ loss 0.6527\n",
      "Epoch 10/39\tTrain) Acc: 0.6348, Loss: 0.6409\n",
      "\t\tValidation) Acc: 0.6412 Loss:0.9063\n",
      "\t\tSaving the best model w/ loss 0.6409\n",
      "\t\tSaving the best model w/ loss 0.6321\n",
      "Epoch 12/39\tTrain) Acc: 0.6450, Loss: 0.6339\n",
      "\t\tValidation) Acc: 0.6412 Loss:0.9451\n",
      "\t\tSaving the best model w/ loss 0.5943\n",
      "Epoch 14/39\tTrain) Acc: 0.6462, Loss: 0.6304\n",
      "\t\tValidation) Acc: 0.6412 Loss:0.9324\n",
      "Epoch 16/39\tTrain) Acc: 0.6675, Loss: 0.6084\n",
      "\t\tValidation) Acc: 0.6412 Loss:0.9384\n",
      "\t\tSaving the best model w/ loss 0.5888\n",
      "Epoch 18/39\tTrain) Acc: 0.6713, Loss: 0.5870\n",
      "\t\tValidation) Acc: 0.6412 Loss:0.9357\n",
      "\t\tSaving the best model w/ loss 0.5870\n",
      "Epoch 20/39\tTrain) Acc: 0.6856, Loss: 0.6255\n",
      "\t\tValidation) Acc: 0.6392 Loss:0.9305\n",
      "Epoch 22/39\tTrain) Acc: 0.6837, Loss: 0.5675\n",
      "\t\tValidation) Acc: 0.6392 Loss:0.9323\n",
      "\t\tSaving the best model w/ loss 0.5675\n",
      "Epoch 24/39\tTrain) Acc: 0.6892, Loss: 0.5962\n",
      "\t\tValidation) Acc: 0.6392 Loss:0.8954\n",
      "Epoch 26/39\tTrain) Acc: 0.6822, Loss: 0.5676\n",
      "\t\tValidation) Acc: 0.6392 Loss:0.9384\n",
      "Epoch 28/39\tTrain) Acc: 0.6936, Loss: 0.5624\n",
      "\t\tValidation) Acc: 0.6412 Loss:0.9092\n",
      "\t\tSaving the best model w/ loss 0.5624\n",
      "Epoch 30/39\tTrain) Acc: 0.6894, Loss: 0.5599\n",
      "\t\tValidation) Acc: 0.6392 Loss:0.9308\n",
      "\t\tSaving the best model w/ loss 0.5599\n",
      "Epoch 32/39\tTrain) Acc: 0.6886, Loss: 0.5681\n",
      "\t\tValidation) Acc: 0.6392 Loss:0.9047\n",
      "Epoch 34/39\tTrain) Acc: 0.6956, Loss: 0.5602\n",
      "\t\tValidation) Acc: 0.6392 Loss:0.9036\n",
      "Epoch 36/39\tTrain) Acc: 0.6880, Loss: 0.5734\n",
      "\t\tValidation) Acc: 0.6392 Loss:0.9098\n",
      "Epoch 38/39\tTrain) Acc: 0.6853, Loss: 0.5648\n",
      "\t\tValidation) Acc: 0.6392 Loss:0.9030\n",
      "\t\tSaving the best model w/ loss 0.5580\n"
     ]
    }
   ],
   "source": [
    "train_acc, train_loss, val_acc, val_loss_list = __MLP.train_sequential(model=model_bertsparse, num_epochs=40, patience=10, criterion=criterion, optimizer=optimizer, scheduler=scheduler, train_loader=train_dataloader,train_size=train_size, test_loader=test_dataloader, test_size=test_size, PATH=PATH)\n"
   ]
  },
  {
   "cell_type": "code",
   "execution_count": 76,
   "metadata": {},
   "outputs": [
    {
     "data": {
      "image/png": "[encoded data removed]",
      "text/plain": "<Figure size 864x576 with 4 Axes>"
     },
     "metadata": {
      "needs_background": "light"
     },
     "output_type": "display_data"
    },
    {
     "name": "stdout",
     "output_type": "stream",
     "text": [
      "Min of Training Loss: 0.558032\n",
      "Max of Training Accuracy: 0.698897\n",
      "Mean of Training Loss: 0.687022\n",
      "Mean of Training Accuracy: 0.650168\n",
      "----\n",
      "Max of Testing Accuracy: 0.645361\n",
      "Mean of Testing Loss: 0.914780\n",
      "Mean of Testing Accuracy: 0.575155\n"
     ]
    }
   ],
   "source": [
    "__MLP.clf_report(train_loss, train_acc, val_loss_list, val_acc)"
   ]
  },
  {
   "cell_type": "markdown",
   "metadata": {},
   "source": [
    "# Sparse + BERT -> MLP (2)"
   ]
  },
  {
   "cell_type": "code",
   "execution_count": 9,
   "metadata": {},
   "outputs": [],
   "source": [
    "from sklearn.preprocessing import StandardScaler\n",
    "scaler = StandardScaler()\n",
    "\n",
    "pheme_scaled = scaler.fit_transform(np.concatenate([pheme_sparse.values, pheme_thread.values],axis=1))\n",
    "# Train = np.concatenate([train, pheme_bert.values],axis=1)\n",
    "\n",
    "ext_sparse_scaled = scaler.transform(np.concatenate([ext_sparse.values, ext_thread.values],axis=1))\n",
    "# Test = np.concatenate([test, ext_bert.values],axis=1)"
   ]
  },
  {
   "cell_type": "code",
   "execution_count": 10,
   "metadata": {},
   "outputs": [],
   "source": [
    "# tensor_x11 = torch.Tensor(pheme_scaled).unsqueeze(1)\n",
    "tensor_x11 = torch.Tensor(pheme_sparse.values).unsqueeze(1)\n",
    "tensor_x12 = torch.Tensor(pheme_bert.values).unsqueeze(1)\n",
    "tensor_y1 = torch.Tensor(pheme_y.values).unsqueeze(1)\n",
    "train_dataset = TensorDataset(tensor_x11, tensor_x12, tensor_y1)\n",
    "\n",
    "tensor_x21 = torch.Tensor(ext_sparse.values).unsqueeze(1)\n",
    "# tensor_x21 = torch.Tensor(ext_sparse_scaled).unsqueeze(1)\n",
    "tensor_x22 = torch.Tensor(ext_bert.values).unsqueeze(1)\n",
    "tensor_y2 = torch.Tensor(ext_y.values).unsqueeze(1)\n",
    "test_dataset = TensorDataset(tensor_x21, tensor_x22, tensor_y2)\n"
   ]
  },
  {
   "cell_type": "code",
   "execution_count": 5,
   "metadata": {},
   "outputs": [],
   "source": [
    "tensor_x11, tensor_x12, tensor_y1, tensor_x21, tensor_x22, tensor_y2 = convert_df_to_unsqueezed_tensor(pheme_sparse, pheme_y, ext_sparse, ext_y, pheme_bert, ext_bert)\n",
    "train_dataset = TensorDataset(tensor_x11, tensor_x12, tensor_y1)\n",
    "test_dataset = TensorDataset(tensor_x21, tensor_x22, tensor_y2)"
   ]
  },
  {
   "cell_type": "code",
   "execution_count": 4,
   "metadata": {},
   "outputs": [],
   "source": [
    "import __MLP"
   ]
  },
  {
   "cell_type": "code",
   "execution_count": 11,
   "metadata": {},
   "outputs": [
    {
     "name": "stdout",
     "output_type": "stream",
     "text": [
      "mean: tensor(89.6314), std: tensor(419.5555)\n",
      "torch.Size([5802, 1, 29]) torch.Size([485, 1, 29])\n",
      "torch.Size([5802, 1, 768]) torch.Size([485, 1, 768])\n",
      "torch.Size([5802, 1]) torch.Size([485, 1])\n",
      "Train Size 5802 Test Size 485\n"
     ]
    }
   ],
   "source": [
    "batch_size = 16\n",
    "\n",
    "# Initialize WeightedRandomSampler to deal with the unbalanced dataset\n",
    "train_sampler, test_sampler = __MLP.getSamplers(pheme_y, tensor_x21)\n",
    "\n",
    "train_dataloader = DataLoader(train_dataset, batch_size=batch_size, sampler=train_sampler, num_workers=2)\n",
    "test_dataloader = DataLoader(test_dataset, batch_size=batch_size, shuffle=False, num_workers=2)\n",
    "\n",
    "data = next(iter(train_dataloader))\n",
    "print(\"mean: %s, std: %s\" %(data[0].mean(), data[0].std()))\n",
    "\n",
    "train_size = int(tensor_y1.size(0))\n",
    "test_size = int(tensor_y2.size(0))\n",
    "\n",
    "print(tensor_x11.shape,tensor_x21.shape)\n",
    "print(tensor_x12.shape,tensor_x22.shape)\n",
    "print(tensor_y1.shape,tensor_y2.shape)\n",
    "print(\"Train Size\",train_size,\"Test Size\",test_size)"
   ]
  },
  {
   "cell_type": "code",
   "execution_count": 12,
   "metadata": {},
   "outputs": [],
   "source": [
    "class BERT_sparse_net_multi(nn.Module):\n",
    "    def __init__(self):\n",
    "        super(BERT_sparse_net_multi, self).__init__()  # 1*20\n",
    "\n",
    "\n",
    "        self.layer1 = nn.Sequential(\n",
    "            nn.Linear(29, 5, bias=True),  # 420\n",
    "            nn.ReLU(),\n",
    "            nn.Dropout(0.3),\n",
    "            nn.Linear(5, 2, bias=True),  # 420\n",
    "        )\n",
    "        self.layer2 = nn.Sequential(\n",
    "            nn.Linear(768, 64, bias=True),  # 420\n",
    "            nn.ReLU(),\n",
    "            nn.Dropout(0.3),\n",
    "            nn.Linear(64, 8, bias=True),\n",
    "            nn.ReLU()\n",
    "        )\n",
    "\n",
    "        self.layer3 = nn.Sequential(\n",
    "            nn.Linear(10, 1)  # 420\n",
    "        )\n",
    "\n",
    "        self.drop_2 = nn.Dropout(0.2)\n",
    "\n",
    "    def forward(self, sparse, embedding):\n",
    "        x1 = self.layer1(sparse)\n",
    "        x2 = self.layer2(embedding)\n",
    "        \n",
    "        x = torch.cat((x1.squeeze(1), x2.squeeze(1)), dim=1)\n",
    "        x = self.layer3(x)\n",
    "        return x"
   ]
  },
  {
   "cell_type": "code",
   "execution_count": 16,
   "metadata": {},
   "outputs": [
    {
     "ename": "NameError",
     "evalue": "name 'train_dataloader' is not defined",
     "output_type": "error",
     "traceback": [
      "\u001b[0;31m---------------------------------------------------------------------------\u001b[0m",
      "\u001b[0;31mNameError\u001b[0m                                 Traceback (most recent call last)",
      "\u001b[0;32m<ipython-input-16-7ba57e17da84>\u001b[0m in \u001b[0;36m<module>\u001b[0;34m\u001b[0m\n\u001b[1;32m     12\u001b[0m \u001b[0mPATH\u001b[0m \u001b[0;34m=\u001b[0m \u001b[0;34m\"./Model/state_dict_temp.pt\"\u001b[0m\u001b[0;34m\u001b[0m\u001b[0;34m\u001b[0m\u001b[0m\n\u001b[1;32m     13\u001b[0m \u001b[0;34m\u001b[0m\u001b[0m\n\u001b[0;32m---> 14\u001b[0;31m \u001b[0mtotal_steps\u001b[0m \u001b[0;34m=\u001b[0m \u001b[0mlen\u001b[0m\u001b[0;34m(\u001b[0m\u001b[0mtrain_dataloader\u001b[0m\u001b[0;34m)\u001b[0m \u001b[0;34m*\u001b[0m \u001b[0mepochs\u001b[0m\u001b[0;34m\u001b[0m\u001b[0;34m\u001b[0m\u001b[0m\n\u001b[0m\u001b[1;32m     15\u001b[0m scheduler = get_linear_schedule_with_warmup(optimizer,\n\u001b[1;32m     16\u001b[0m                                             \u001b[0mnum_warmup_steps\u001b[0m\u001b[0;34m=\u001b[0m\u001b[0;36m0\u001b[0m\u001b[0;34m,\u001b[0m  \u001b[0;31m# Default value\u001b[0m\u001b[0;34m\u001b[0m\u001b[0;34m\u001b[0m\u001b[0m\n",
      "\u001b[0;31mNameError\u001b[0m: name 'train_dataloader' is not defined"
     ]
    }
   ],
   "source": [
    "# _MLP.set_seed(42)\n",
    "model_bertsparse_multi = BERT_sparse_net_multi()\n",
    "criterion = nn.BCEWithLogitsLoss()\n",
    "# optimizer = optim.SGD(model.parameters(), lr=0.001, momentum=0.9)\n",
    "optimizer = optim.Adam(model_bertsparse_multi.parameters(), lr=5e-5,eps=1e-8, weight_decay=1e-6)\n",
    "# scheduler = lr_scheduler.ExponentialLR(optimizer, gamma= 0.99)  \n",
    "train_loss = []\n",
    "train_accuracy = []\n",
    "\n",
    "epochs = 40\n",
    "\n",
    "PATH = \"./Model/state_dict_temp.pt\"\n",
    "\n",
    "total_steps = len(train_dataloader) * epochs\n",
    "scheduler = get_linear_schedule_with_warmup(optimizer,\n",
    "                                            num_warmup_steps=0,  # Default value\n",
    "                                            num_training_steps=total_steps)"
   ]
  },
  {
   "cell_type": "code",
   "execution_count": 42,
   "metadata": {},
   "outputs": [],
   "source": [
    "def predict(model, criterion, val_dataloader, val_size):\n",
    "    model.eval()\n",
    "    with torch.no_grad():\n",
    "        val_loss = 0.0\n",
    "        val_corrects = 0\n",
    "        for j, val in enumerate(val_dataloader, 0):\n",
    "            val_sparse, val_embedding, val_labels = val\n",
    "            val_sparse, val_embedding, val_labels = val_sparse.float(), val_embedding.float(), val_labels.float().squeeze(1)\n",
    "            val_outputs = model(val_sparse, val_embedding)\n",
    "            val_preds = val_outputs.squeeze(1) > 0.0\n",
    "\n",
    "            val_preds_list.append(val_preds)\n",
    "            val_label_list.append(val_labels)\n",
    "            v_loss = criterion(val_outputs, val_labels.unsqueeze(1))\n",
    "            val_loss += (v_loss.item() * val_labels.size(0))\n",
    "            val_corrects += torch.sum(val_preds == val_labels)\n",
    "\n",
    "    val_preds_list = torch.cat(val_preds_list, 0)\n",
    "    val_label_list = torch.cat(val_label_list, 0)\n",
    "    val_corrects = val_corrects/val_size\n",
    "    val_loss = val_loss/val_size\n",
    "    val_acc = val_corrects.double() / val_size\n",
    "    print(\"\\t\\tValidation) Acc: {:.4f} Loss:{:.4f}\".format(\n",
    "        val_corrects/val_size, val_loss/val_size))\n",
    "    # print(\"\\t\\tValidation) Acc: {:.4f} Loss:{:.4f} F1 score: {:4f}\".format(val_corrects/val_size, val_loss/test_size, f1_score(val_label_list,val_preds_list,average='macro')))\n",
    "\n",
    "def set_seed(seed_value=42):\n",
    "    \"\"\"Set seed for reproducibility.\n",
    "    \"\"\"\n",
    "    random.seed(seed_value)\n",
    "    np.random.seed(seed_value)\n",
    "    torch.manual_seed(seed_value)\n",
    "    torch.cuda.manual_seed_all(seed_value)\n",
    "\n",
    "def train3(model, num_epochs, criterion, optimizer,scheduler, train_loader, train_size, test_loader=None, test_size=None, patience=5, PATH='./state_dict_model.pt'):\n",
    "    set_seed(42)\n",
    "    train_loss = []\n",
    "    patience_count = 0\n",
    "    train_accuracy = []\n",
    "    prev_loss = 10\n",
    "    best_loss = 10.0\n",
    "    val_corrects_list = []\n",
    "    val_loss_list = []\n",
    "    val_acc_list = []\n",
    "    for epoch in range(num_epochs):  # loop over the dataset multiple times\n",
    "        # print('Epoch {}/{}'.format(epoch, num_epochs - 1))\n",
    "        # print('-' * 10)\n",
    "        running_corrects = 0.0\n",
    "        running_loss = 0.0\n",
    "        model.train()  # Set model to training mode\n",
    "        for i, data in enumerate(train_loader, 0):\n",
    "            # get the inputs; data is a list of [inputs, labels]\n",
    "            sparse, embedding, labels = data\n",
    "            sparse, embedding, labels = sparse.float(), embedding.float(), labels.float().squeeze(1)\n",
    "\n",
    "            # zero the parameter gradients\n",
    "            optimizer.zero_grad()\n",
    "\n",
    "            # forward + backward + optimize\n",
    "            outputs = model(sparse, embedding)\n",
    "\n",
    "            #  _, predictions = torch.max(outputs.data, 1) won’t work if your output only contains a single output unit.\n",
    "            # _, preds = torch.max(outputs, 1)\n",
    "            # print(outputs.flatten().size())\n",
    "            preds = outputs.squeeze(1) > 0.0\n",
    "\n",
    "            loss = criterion(outputs, labels.unsqueeze(1))\n",
    "            loss.backward()\n",
    "            optimizer.step()\n",
    "\n",
    "            # step function\n",
    "            scheduler.step()\n",
    "\n",
    "            running_loss += loss.item() * sparse.size(0)\n",
    "            running_corrects += torch.sum(preds == labels.data)\n",
    "\n",
    "        epoch_loss = running_loss / train_size\n",
    "        # print(running_loss)\n",
    "        # print(train_size)\n",
    "        epoch_acc = running_corrects.double() / train_size\n",
    "        train_loss.append(epoch_loss)\n",
    "        train_accuracy.append(epoch_acc)\n",
    "\n",
    "        if (epoch % 2 == 0):\n",
    "            print('Epoch {}/{}\\tTrain) Acc: {:.4f}, Loss: {:.4f}'.format(epoch,\n",
    "                                                                         num_epochs - 1, epoch_acc, epoch_loss))\n",
    "\n",
    "        if (test_loader != None):\n",
    "            model.eval()\n",
    "            with torch.no_grad():\n",
    "                val_loss = 0.0\n",
    "                val_corrects = 0\n",
    "                val_preds_list = []\n",
    "                val_label_list = []\n",
    "                for j, val in enumerate(test_loader, 0):\n",
    "                    val_sparse, val_embedding, val_labels = data\n",
    "                    val_sparse, val_embedding, val_labels = val_sparse.float(), val_embedding.float(), val_labels.float().squeeze(1)\n",
    "                    val_outputs = model(val_sparse, val_embedding)\n",
    "                    # _, val_preds = torch.max(val_outputs, 1)\n",
    "                    # print(\"val_outputs size:\",val_outputs.size())\n",
    "                    # print(\"val_label size:\",val_label.size())\n",
    "                    val_preds = val_outputs.squeeze(1) > 0.0\n",
    "                    # print(\"pred size:\",val_preds.size())\n",
    "\n",
    "                    # print(\"Length of val_preds:\",val_preds.size())\n",
    "                    val_preds_list.append(val_preds)\n",
    "                    val_label_list.append(val_labels)\n",
    "                    v_loss = criterion(val_outputs, val_labels.unsqueeze(1))\n",
    "                    val_loss += (v_loss.item() * val_labels.size(0))\n",
    "                    val_corrects += torch.sum(val_preds == val_labels)\n",
    "                    # print(\"== length\",val_preds == val_label)\n",
    "                    # accuracy = (preds == b_labels).cpu().numpy().mean() * 100\n",
    "\n",
    "                    # print(\"val_corrects:\",val_corrects)\n",
    "                # print(\"length of one batch\")\n",
    "                # print(\"FINAL val_corrects:\",val_corrects)\n",
    "                # print(\"test_size:\",test_size)\n",
    "                    \n",
    "                if (epoch % 2 == 0):\n",
    "                    val_preds_list = torch.cat(val_preds_list, 0)\n",
    "                    val_label_list = torch.cat(val_label_list, 0)\n",
    "                    # print(\"\\t\\tValidation) Acc: {:.4f} Loss:{:.4f} F1 score: {:4f}\".format(val_corrects/test_size, val_loss/test_size, f1_score(val_label_list,val_preds_list,average='macro')))\n",
    "                    print(\"\\t\\tValidation) Acc: {:.4f} Loss:{:.4f}\".format(\n",
    "                        val_corrects/test_size, val_loss/test_size))\n",
    "            val_corrects_list.append(val_corrects/test_size)\n",
    "            val_loss_list.append(val_loss/test_size)\n",
    "            val_acc = val_corrects.double() / test_size\n",
    "            val_acc_list.append(val_acc)\n",
    "\n",
    "        if epoch_loss < best_loss:\n",
    "            # print(\"prev_loss: {:.5f}\".format(prev_loss))\n",
    "            # print(\"loss: {:.5f}\".format(loss))\n",
    "            print(\n",
    "                \"\\t\\tSaving the best model w/ loss {:.4f}\".format(epoch_loss))\n",
    "            torch.save(model.state_dict(), PATH)\n",
    "            best_loss = epoch_loss\n",
    "            patience_count = 0\n",
    "        elif best_loss < epoch_loss:\n",
    "            patience_count += 1\n",
    "        if patience_count >= patience:\n",
    "            print(\"Finishing the Model: Loss is not decreasing...\")\n",
    "            print(train_loss[-6:-1])\n",
    "            return train_accuracy, train_loss, val_acc_list, val_loss_list\n",
    "    return train_accuracy, train_loss, val_acc_list, val_loss_list"
   ]
  },
  {
   "cell_type": "code",
   "execution_count": 7,
   "metadata": {},
   "outputs": [
    {
     "ename": "NameError",
     "evalue": "name 'train3' is not defined",
     "output_type": "error",
     "traceback": [
      "\u001b[0;31m---------------------------------------------------------------------------\u001b[0m",
      "\u001b[0;31mNameError\u001b[0m                                 Traceback (most recent call last)",
      "\u001b[0;32m<ipython-input-7-d7b221fe2717>\u001b[0m in \u001b[0;36m<module>\u001b[0;34m\u001b[0m\n\u001b[0;32m----> 1\u001b[0;31m \u001b[0mtrain_acc\u001b[0m\u001b[0;34m,\u001b[0m \u001b[0mtrain_loss\u001b[0m\u001b[0;34m,\u001b[0m \u001b[0mval_acc\u001b[0m\u001b[0;34m,\u001b[0m \u001b[0mval_loss_list\u001b[0m \u001b[0;34m=\u001b[0m \u001b[0mtrain3\u001b[0m\u001b[0;34m(\u001b[0m\u001b[0mpatience\u001b[0m\u001b[0;34m=\u001b[0m\u001b[0;36m10\u001b[0m\u001b[0;34m,\u001b[0m\u001b[0mmodel\u001b[0m\u001b[0;34m=\u001b[0m\u001b[0mmodel_bertsparse_multi\u001b[0m\u001b[0;34m,\u001b[0m \u001b[0mnum_epochs\u001b[0m\u001b[0;34m=\u001b[0m\u001b[0mepochs\u001b[0m\u001b[0;34m,\u001b[0m \u001b[0mcriterion\u001b[0m\u001b[0;34m=\u001b[0m\u001b[0mcriterion\u001b[0m\u001b[0;34m,\u001b[0m \u001b[0moptimizer\u001b[0m\u001b[0;34m=\u001b[0m\u001b[0moptimizer\u001b[0m\u001b[0;34m,\u001b[0m\u001b[0mscheduler\u001b[0m\u001b[0;34m=\u001b[0m\u001b[0mscheduler\u001b[0m\u001b[0;34m,\u001b[0m \u001b[0mtrain_loader\u001b[0m\u001b[0;34m=\u001b[0m\u001b[0mtrain_dataloader\u001b[0m\u001b[0;34m,\u001b[0m \u001b[0mtrain_size\u001b[0m\u001b[0;34m=\u001b[0m\u001b[0mtrain_size\u001b[0m\u001b[0;34m,\u001b[0m \u001b[0mtest_loader\u001b[0m\u001b[0;34m=\u001b[0m\u001b[0mtest_dataloader\u001b[0m\u001b[0;34m,\u001b[0m \u001b[0mtest_size\u001b[0m\u001b[0;34m=\u001b[0m\u001b[0mtest_size\u001b[0m\u001b[0;34m,\u001b[0m \u001b[0mPATH\u001b[0m\u001b[0;34m=\u001b[0m\u001b[0mPATH\u001b[0m\u001b[0;34m)\u001b[0m\u001b[0;34m\u001b[0m\u001b[0;34m\u001b[0m\u001b[0m\n\u001b[0m",
      "\u001b[0;31mNameError\u001b[0m: name 'train3' is not defined"
     ]
    }
   ],
   "source": [
    "train_acc, train_loss, val_acc, val_loss_list = train3(patience=10,model=model_bertsparse_multi, num_epochs=epochs, criterion=criterion, optimizer=optimizer,scheduler=scheduler, train_loader=train_dataloader, train_size=train_size, test_loader=test_dataloader, test_size=test_size, PATH=PATH)"
   ]
  },
  {
   "cell_type": "code",
   "execution_count": 4,
   "metadata": {},
   "outputs": [],
   "source": [
    "import __MLP"
   ]
  },
  {
   "cell_type": "code",
   "execution_count": 6,
   "metadata": {},
   "outputs": [
    {
     "ename": "NameError",
     "evalue": "name 'train_loss' is not defined",
     "output_type": "error",
     "traceback": [
      "\u001b[0;31m---------------------------------------------------------------------------\u001b[0m",
      "\u001b[0;31mNameError\u001b[0m                                 Traceback (most recent call last)",
      "\u001b[0;32m<ipython-input-6-4f5d2641781e>\u001b[0m in \u001b[0;36m<module>\u001b[0;34m\u001b[0m\n\u001b[0;32m----> 1\u001b[0;31m \u001b[0m__MLP\u001b[0m\u001b[0;34m.\u001b[0m\u001b[0mclf_report\u001b[0m\u001b[0;34m(\u001b[0m\u001b[0mtrain_loss\u001b[0m\u001b[0;34m,\u001b[0m \u001b[0mtrain_acc\u001b[0m\u001b[0;34m,\u001b[0m \u001b[0mval_loss_list\u001b[0m\u001b[0;34m,\u001b[0m \u001b[0mval_acc\u001b[0m\u001b[0;34m)\u001b[0m\u001b[0;34m\u001b[0m\u001b[0;34m\u001b[0m\u001b[0m\n\u001b[0m",
      "\u001b[0;31mNameError\u001b[0m: name 'train_loss' is not defined"
     ]
    }
   ],
   "source": [
    "__MLP.clf_report(train_loss, train_acc, val_loss_list, val_acc)"
   ]
  },
  {
   "cell_type": "code",
   "execution_count": 300,
   "metadata": {},
   "outputs": [
    {
     "ename": "ValueError",
     "evalue": "too many values to unpack (expected 2)",
     "output_type": "error",
     "traceback": [
      "\u001b[0;31m---------------------------------------------------------------------------\u001b[0m",
      "\u001b[0;31mValueError\u001b[0m                                Traceback (most recent call last)",
      "\u001b[0;32m<ipython-input-300-f6ddb3b90f56>\u001b[0m in \u001b[0;36m<module>\u001b[0;34m\u001b[0m\n\u001b[0;32m----> 1\u001b[0;31m \u001b[0mpredict\u001b[0m\u001b[0;34m(\u001b[0m\u001b[0mmodel_bertsparse\u001b[0m\u001b[0;34m,\u001b[0m \u001b[0mcriterion\u001b[0m\u001b[0;34m,\u001b[0m \u001b[0mtest_dataloader\u001b[0m\u001b[0;34m,\u001b[0m \u001b[0mtest_size\u001b[0m\u001b[0;34m)\u001b[0m\u001b[0;34m\u001b[0m\u001b[0;34m\u001b[0m\u001b[0m\n\u001b[0m",
      "\u001b[0;32m<ipython-input-297-d7305d3b1a45>\u001b[0m in \u001b[0;36mpredict\u001b[0;34m(model, criterion, val_dataloader, val_size)\u001b[0m\n\u001b[1;32m    259\u001b[0m         \u001b[0mval_corrects\u001b[0m \u001b[0;34m=\u001b[0m \u001b[0;36m0\u001b[0m\u001b[0;34m\u001b[0m\u001b[0;34m\u001b[0m\u001b[0m\n\u001b[1;32m    260\u001b[0m         \u001b[0;32mfor\u001b[0m \u001b[0mj\u001b[0m\u001b[0;34m,\u001b[0m \u001b[0mval\u001b[0m \u001b[0;32min\u001b[0m \u001b[0menumerate\u001b[0m\u001b[0;34m(\u001b[0m\u001b[0mval_dataloader\u001b[0m\u001b[0;34m,\u001b[0m \u001b[0;36m0\u001b[0m\u001b[0;34m)\u001b[0m\u001b[0;34m:\u001b[0m\u001b[0;34m\u001b[0m\u001b[0;34m\u001b[0m\u001b[0m\n\u001b[0;32m--> 261\u001b[0;31m             \u001b[0mval_x\u001b[0m\u001b[0;34m,\u001b[0m \u001b[0mval_label\u001b[0m \u001b[0;34m=\u001b[0m \u001b[0mval\u001b[0m\u001b[0;34m\u001b[0m\u001b[0;34m\u001b[0m\u001b[0m\n\u001b[0m\u001b[1;32m    262\u001b[0m             \u001b[0mval_x\u001b[0m\u001b[0;34m,\u001b[0m \u001b[0mval_label\u001b[0m \u001b[0;34m=\u001b[0m \u001b[0mval_x\u001b[0m\u001b[0;34m.\u001b[0m\u001b[0mfloat\u001b[0m\u001b[0;34m(\u001b[0m\u001b[0;34m)\u001b[0m\u001b[0;34m,\u001b[0m \u001b[0mval_label\u001b[0m\u001b[0;34m.\u001b[0m\u001b[0mfloat\u001b[0m\u001b[0;34m(\u001b[0m\u001b[0;34m)\u001b[0m\u001b[0;34m\u001b[0m\u001b[0;34m\u001b[0m\u001b[0m\n\u001b[1;32m    263\u001b[0m             \u001b[0mval_outputs\u001b[0m \u001b[0;34m=\u001b[0m \u001b[0mmodel\u001b[0m\u001b[0;34m(\u001b[0m\u001b[0mval_x\u001b[0m\u001b[0;34m)\u001b[0m\u001b[0;34m\u001b[0m\u001b[0;34m\u001b[0m\u001b[0m\n",
      "\u001b[0;31mValueError\u001b[0m: too many values to unpack (expected 2)"
     ]
    }
   ],
   "source": [
    "predict(model_bertsparse, criterion, test_dataloader, test_size)"
   ]
  },
  {
   "cell_type": "markdown",
   "metadata": {},
   "source": [
    "## Previous Models"
   ]
  },
  {
   "cell_type": "markdown",
   "metadata": {},
   "source": [
    "self.layer1 = nn.Sequential(\n",
    "    nn.Linear(768, 64, bias=True),  # 420\n",
    "    nn.ReLU(),\n",
    "    nn.Dropout(0.2),\n",
    "    nn.Linear(64, 8, bias=True),\n",
    "    nn.ReLU()\n",
    ")\n",
    "\n",
    "self.layer2 = nn.Sequential(\n",
    "    nn.Linear(27, 5, bias=True),  # 420\n",
    "    nn.ReLU(),\n",
    "    nn.Dropout(0.2),\n",
    "    nn.Linear(5, 2, bias=True),\n",
    "    nn.ReLU()\n",
    ")\n",
    "\n",
    "self.layer3 = nn.Sequential(\n",
    "    nn.Linear(10, 1)  # 420\n",
    ")\n",
    "\n",
    "Min of Training Loss: 0.471854\n",
    "Max of Training Accuracy: 0.785764\n",
    "Mean of Training Loss: 0.505716\n",
    "Mean of Training Accuracy: 0.758512\n",
    "----\n",
    "Max of Testing Accuracy: 0.639175\n",
    "Mean of Testing Loss: 0.351359\n",
    "Mean of Testing Accuracy: 0.454525"
   ]
  },
  {
   "cell_type": "markdown",
   "metadata": {},
   "source": [
    "self.layer1 = nn.Sequential(\n",
    "    nn.Linear(768, 64, bias=True),  # 420\n",
    "    nn.ReLU(),\n",
    "    nn.Dropout(0.2),\n",
    "    nn.Linear(64, 5, bias=True),\n",
    "    nn.ReLU()\n",
    ")\n",
    "\n",
    "self.layer2 = nn.Sequential(\n",
    "    nn.Linear(27, 5, bias=True),  # 420\n",
    "    nn.ReLU(),\n",
    "    nn.Dropout(0.2),\n",
    "    nn.Linear(5, 2, bias=True),\n",
    "    nn.ReLU()\n",
    ")\n",
    "\n",
    "self.layer3 = nn.Sequential(\n",
    "    nn.Linear(7, 1)  # 420\n",
    ")\n",
    "\n",
    "Min of Training Loss: 0.467921\n",
    "Max of Training Accuracy: 0.788694\n",
    "Mean of Training Loss: 0.501997\n",
    "Mean of Training Accuracy: 0.760402\n",
    "----\n",
    "Max of Testing Accuracy: 0.639175\n",
    "Mean of Testing Loss: 0.348198\n",
    "Mean of Testing Accuracy: 0.459259"
   ]
  },
  {
   "cell_type": "code",
   "execution_count": null,
   "metadata": {},
   "outputs": [],
   "source": []
  },
  {
   "cell_type": "markdown",
   "metadata": {},
   "source": [
    "# BERT + SPARSE + THREAD"
   ]
  },
  {
   "cell_type": "code",
   "execution_count": 69,
   "metadata": {},
   "outputs": [],
   "source": [
    "pheme_scaled = scaler.fit_transform(np.concatenate([pheme_sparse.values, pheme_thread.values],axis=1))\n",
    "# Train = np.concatenate([train, pheme_bert.values],axis=1)\n",
    "\n",
    "ext_sparse_scaled = scaler.fit_transform(np.concatenate([ext_sparse.values, ext_thread.values],axis=1))\n",
    "# Test = np.concatenate([test, ext_bert.values],axis=1)"
   ]
  },
  {
   "cell_type": "code",
   "execution_count": 70,
   "metadata": {},
   "outputs": [],
   "source": [
    "from sklearn.preprocessing import StandardScaler\n",
    "scaler = StandardScaler()\n",
    "\n",
    "X_train = pd.concat([pheme_sparse, pheme_thread], axis=1)\n",
    "X_test = pd.concat([ext_sparse, ext_thread], axis=1)\n",
    "\n",
    "# X_train = scaler.fit_transform(X_train.values)\n",
    "X_train = np.concatenate([X_train, pheme_bert.values], axis=1)\n",
    "\n",
    "# X_test = scaler.fit_transform(X_test.values)\n",
    "X_test = np.concatenate([X_test, ext_bert.values],axis=1)\n",
    "\n",
    "# Train = pd.concat([pheme_bert, pheme_sparse], axis=1)\n",
    "# Test = pd.concat([ext_bert, ext_sparse], axis=1)\n",
    "\n",
    "tensor_x1 = torch.Tensor(X_train).unsqueeze(1)\n",
    "tensor_y1 = torch.Tensor(pheme_y.values).unsqueeze(1)\n",
    "train_dataset = TensorDataset(tensor_x1,tensor_y1)\n",
    "\n",
    "tensor_x2 = torch.Tensor(X_test).unsqueeze(1)\n",
    "tensor_y2 = torch.Tensor(ext_y.values).unsqueeze(1)\n",
    "test_dataset = TensorDataset(tensor_x2,tensor_y2)"
   ]
  },
  {
   "cell_type": "markdown",
   "metadata": {},
   "source": [
    "___"
   ]
  },
  {
   "cell_type": "code",
   "execution_count": 2,
   "metadata": {},
   "outputs": [
    {
     "ename": "NameError",
     "evalue": "name 'pd' is not defined",
     "output_type": "error",
     "traceback": [
      "\u001b[0;31m---------------------------------------------------------------------------\u001b[0m",
      "\u001b[0;31mNameError\u001b[0m                                 Traceback (most recent call last)",
      "\u001b[0;32m<ipython-input-2-20afeab696c9>\u001b[0m in \u001b[0;36m<module>\u001b[0;34m\u001b[0m\n\u001b[0;32m----> 1\u001b[0;31m \u001b[0mpheme_sparse\u001b[0m \u001b[0;34m=\u001b[0m \u001b[0mpd\u001b[0m\u001b[0;34m.\u001b[0m\u001b[0mconcat\u001b[0m\u001b[0;34m(\u001b[0m\u001b[0;34m[\u001b[0m\u001b[0mpheme_sparse\u001b[0m\u001b[0;34m,\u001b[0m \u001b[0mpheme_thread\u001b[0m\u001b[0;34m]\u001b[0m\u001b[0;34m,\u001b[0m \u001b[0maxis\u001b[0m\u001b[0;34m=\u001b[0m\u001b[0;36m1\u001b[0m\u001b[0;34m)\u001b[0m\u001b[0;34m\u001b[0m\u001b[0;34m\u001b[0m\u001b[0m\n\u001b[0m\u001b[1;32m      2\u001b[0m \u001b[0mext_sparse\u001b[0m \u001b[0;34m=\u001b[0m \u001b[0mpd\u001b[0m\u001b[0;34m.\u001b[0m\u001b[0mconcat\u001b[0m\u001b[0;34m(\u001b[0m\u001b[0;34m[\u001b[0m\u001b[0mext_sparse\u001b[0m\u001b[0;34m,\u001b[0m \u001b[0mext_thread\u001b[0m\u001b[0;34m]\u001b[0m\u001b[0;34m,\u001b[0m \u001b[0maxis\u001b[0m\u001b[0;34m=\u001b[0m\u001b[0;36m1\u001b[0m\u001b[0;34m)\u001b[0m\u001b[0;34m\u001b[0m\u001b[0;34m\u001b[0m\u001b[0m\n\u001b[1;32m      3\u001b[0m \u001b[0;34m\u001b[0m\u001b[0m\n\u001b[1;32m      4\u001b[0m \u001b[0mtensor_x11\u001b[0m\u001b[0;34m,\u001b[0m \u001b[0mtensor_x12\u001b[0m\u001b[0;34m,\u001b[0m \u001b[0mtensor_y1\u001b[0m\u001b[0;34m,\u001b[0m \u001b[0mtensor_x21\u001b[0m\u001b[0;34m,\u001b[0m \u001b[0mtensor_x22\u001b[0m\u001b[0;34m,\u001b[0m \u001b[0mtensor_y2\u001b[0m \u001b[0;34m=\u001b[0m \u001b[0m__MLP\u001b[0m\u001b[0;34m.\u001b[0m\u001b[0mconvert_df_to_unsqueezed_tensor\u001b[0m\u001b[0;34m(\u001b[0m\u001b[0mpheme_sparse\u001b[0m\u001b[0;34m,\u001b[0m \u001b[0mpheme_y\u001b[0m\u001b[0;34m,\u001b[0m \u001b[0mext_sparse\u001b[0m\u001b[0;34m,\u001b[0m \u001b[0mext_y\u001b[0m\u001b[0;34m,\u001b[0m \u001b[0mpheme_bert\u001b[0m\u001b[0;34m,\u001b[0m \u001b[0mext_bert\u001b[0m\u001b[0;34m)\u001b[0m\u001b[0;34m\u001b[0m\u001b[0;34m\u001b[0m\u001b[0m\n\u001b[1;32m      5\u001b[0m \u001b[0mtrain_dataset\u001b[0m \u001b[0;34m=\u001b[0m \u001b[0mTensorDataset\u001b[0m\u001b[0;34m(\u001b[0m\u001b[0mtensor_x11\u001b[0m\u001b[0;34m,\u001b[0m \u001b[0mtensor_x12\u001b[0m\u001b[0;34m,\u001b[0m \u001b[0mtensor_y1\u001b[0m\u001b[0;34m)\u001b[0m\u001b[0;34m\u001b[0m\u001b[0;34m\u001b[0m\u001b[0m\n",
      "\u001b[0;31mNameError\u001b[0m: name 'pd' is not defined"
     ]
    }
   ],
   "source": [
    "pheme_sparse = pd.concat([pheme_sparse, pheme_thread], axis=1)\n",
    "ext_sparse = pd.concat([ext_sparse, ext_thread], axis=1)\n",
    "\n",
    "tensor_x11, tensor_x12, tensor_y1, tensor_x21, tensor_x22, tensor_y2 = __MLP.convert_df_to_unsqueezed_tensor(pheme_sparse, pheme_y, ext_sparse, ext_y, pheme_bert, ext_bert)\n",
    "train_dataset = TensorDataset(tensor_x11, tensor_x12, tensor_y1)\n",
    "test_dataset = TensorDataset(tensor_x21, tensor_x22, tensor_y2)\n",
    "\n",
    "batch_size = 16\n",
    "\n",
    "# Initialize WeightedRandomSampler to deal with the unbalanced dataset\n",
    "train_sampler, test_sampler = __MLP.getSamplers(pheme_y, tensor_x21)\n",
    "\n",
    "train_dataloader = DataLoader(train_dataset, batch_size=batch_size, sampler=train_sampler, num_workers=2)\n",
    "test_dataloader = DataLoader(test_dataset, batch_size=batch_size, shuffle=False, num_workers=2)\n",
    "\n",
    "data = next(iter(train_dataloader))\n",
    "print(\"mean: %s, std: %s\" %(data[0].mean(), data[0].std()))\n",
    "\n",
    "train_size = int(tensor_y1.size(0))\n",
    "test_size = int(tensor_y2.size(0))\n",
    "\n",
    "print(tensor_x1.shape,tensor_x2.shape)\n",
    "print(tensor_y1.shape,tensor_y2.shape)\n",
    "print(\"Train Size\",train_size,\"Test Size\",test_size)"
   ]
  },
  {
   "cell_type": "code",
   "execution_count": 6,
   "metadata": {},
   "outputs": [],
   "source": [
    "# tensor_x11 = torch.Tensor(pheme_scaled).unsqueeze(1)\n",
    "tensor_x11 = torch.Tensor(pheme_sparse.values).unsqueeze(1)\n",
    "tensor_x12 = torch.Tensor(pheme_bert.values).unsqueeze(1)\n",
    "tensor_y1 = torch.Tensor(pheme_y.values).unsqueeze(1)\n",
    "train_dataset = TensorDataset(tensor_x11, tensor_x12, tensor_y1)\n",
    "\n",
    "tensor_x21 = torch.Tensor(ext_sparse.values).unsqueeze(1)\n",
    "# tensor_x21 = torch.Tensor(ext_sparse_scaled).unsqueeze(1)\n",
    "tensor_x22 = torch.Tensor(ext_bert.values).unsqueeze(1)\n",
    "tensor_y2 = torch.Tensor(ext_y.values).unsqueeze(1)\n",
    "test_dataset = TensorDataset(tensor_x21, tensor_x22, tensor_y2)\n"
   ]
  },
  {
   "cell_type": "code",
   "execution_count": 1,
   "metadata": {},
   "outputs": [
    {
     "ename": "NameError",
     "evalue": "name '__MLP' is not defined",
     "output_type": "error",
     "traceback": [
      "\u001b[0;31m---------------------------------------------------------------------------\u001b[0m",
      "\u001b[0;31mNameError\u001b[0m                                 Traceback (most recent call last)",
      "\u001b[0;32m<ipython-input-1-45f340661431>\u001b[0m in \u001b[0;36m<module>\u001b[0;34m\u001b[0m\n\u001b[1;32m      2\u001b[0m \u001b[0;34m\u001b[0m\u001b[0m\n\u001b[1;32m      3\u001b[0m \u001b[0;31m# Initialize WeightedRandomSampler to deal with the unbalanced dataset\u001b[0m\u001b[0;34m\u001b[0m\u001b[0;34m\u001b[0m\u001b[0;34m\u001b[0m\u001b[0m\n\u001b[0;32m----> 4\u001b[0;31m \u001b[0mtrain_sampler\u001b[0m\u001b[0;34m,\u001b[0m \u001b[0mtest_sampler\u001b[0m \u001b[0;34m=\u001b[0m \u001b[0m__MLP\u001b[0m\u001b[0;34m.\u001b[0m\u001b[0mgetSamplers\u001b[0m\u001b[0;34m(\u001b[0m\u001b[0mpheme_y\u001b[0m\u001b[0;34m,\u001b[0m \u001b[0mtensor_x21\u001b[0m\u001b[0;34m)\u001b[0m\u001b[0;34m\u001b[0m\u001b[0;34m\u001b[0m\u001b[0m\n\u001b[0m\u001b[1;32m      5\u001b[0m \u001b[0;34m\u001b[0m\u001b[0m\n\u001b[1;32m      6\u001b[0m \u001b[0mtrain_dataloader\u001b[0m \u001b[0;34m=\u001b[0m \u001b[0mDataLoader\u001b[0m\u001b[0;34m(\u001b[0m\u001b[0mtrain_dataset\u001b[0m\u001b[0;34m,\u001b[0m \u001b[0mbatch_size\u001b[0m\u001b[0;34m=\u001b[0m\u001b[0mbatch_size\u001b[0m\u001b[0;34m,\u001b[0m \u001b[0msampler\u001b[0m\u001b[0;34m=\u001b[0m\u001b[0mtrain_sampler\u001b[0m\u001b[0;34m,\u001b[0m \u001b[0mnum_workers\u001b[0m\u001b[0;34m=\u001b[0m\u001b[0;36m2\u001b[0m\u001b[0;34m)\u001b[0m\u001b[0;34m\u001b[0m\u001b[0;34m\u001b[0m\u001b[0m\n",
      "\u001b[0;31mNameError\u001b[0m: name '__MLP' is not defined"
     ]
    }
   ],
   "source": [
    "batch_size = 16\n",
    "\n",
    "# Initialize WeightedRandomSampler to deal with the unbalanced dataset\n",
    "train_sampler, test_sampler = __MLP.getSamplers(pheme_y, tensor_x21)\n",
    "\n",
    "train_dataloader = DataLoader(train_dataset, batch_size=batch_size, sampler=train_sampler, num_workers=2)\n",
    "test_dataloader = DataLoader(test_dataset, batch_size=batch_size, shuffle=False, num_workers=2)\n",
    "\n",
    "data = next(iter(train_dataloader))\n",
    "print(\"mean: %s, std: %s\" %(data[0].mean(), data[0].std()))\n",
    "\n",
    "train_size = int(tensor_y1.size(0))\n",
    "test_size = int(tensor_y2.size(0))\n",
    "\n",
    "print(tensor_x1.shape,tensor_x2.shape)\n",
    "print(tensor_y1.shape,tensor_y2.shape)\n",
    "print(\"Train Size\",train_size,\"Test Size\",test_size)"
   ]
  },
  {
   "cell_type": "code",
   "execution_count": 1,
   "metadata": {},
   "outputs": [
    {
     "ename": "NameError",
     "evalue": "name 'nn' is not defined",
     "output_type": "error",
     "traceback": [
      "\u001b[0;31m---------------------------------------------------------------------------\u001b[0m",
      "\u001b[0;31mNameError\u001b[0m                                 Traceback (most recent call last)",
      "\u001b[0;32m<ipython-input-1-c9f8060f3e2e>\u001b[0m in \u001b[0;36m<module>\u001b[0;34m\u001b[0m\n\u001b[0;32m----> 1\u001b[0;31m \u001b[0;32mclass\u001b[0m \u001b[0mBERT_thread_net\u001b[0m\u001b[0;34m(\u001b[0m\u001b[0mnn\u001b[0m\u001b[0;34m.\u001b[0m\u001b[0mModule\u001b[0m\u001b[0;34m)\u001b[0m\u001b[0;34m:\u001b[0m\u001b[0;34m\u001b[0m\u001b[0;34m\u001b[0m\u001b[0m\n\u001b[0m\u001b[1;32m      2\u001b[0m     \u001b[0;32mdef\u001b[0m \u001b[0m__init__\u001b[0m\u001b[0;34m(\u001b[0m\u001b[0mself\u001b[0m\u001b[0;34m)\u001b[0m\u001b[0;34m:\u001b[0m\u001b[0;34m\u001b[0m\u001b[0;34m\u001b[0m\u001b[0m\n\u001b[1;32m      3\u001b[0m         \u001b[0msuper\u001b[0m\u001b[0;34m(\u001b[0m\u001b[0mBERT_thread_net\u001b[0m\u001b[0;34m,\u001b[0m \u001b[0mself\u001b[0m\u001b[0;34m)\u001b[0m\u001b[0;34m.\u001b[0m\u001b[0m__init__\u001b[0m\u001b[0;34m(\u001b[0m\u001b[0;34m)\u001b[0m  \u001b[0;31m# 1*20\u001b[0m\u001b[0;34m\u001b[0m\u001b[0;34m\u001b[0m\u001b[0m\n\u001b[1;32m      4\u001b[0m         \u001b[0mself\u001b[0m\u001b[0;34m.\u001b[0m\u001b[0mfc1\u001b[0m \u001b[0;34m=\u001b[0m \u001b[0mnn\u001b[0m\u001b[0;34m.\u001b[0m\u001b[0mLinear\u001b[0m\u001b[0;34m(\u001b[0m\u001b[0;36m804\u001b[0m\u001b[0;34m,\u001b[0m \u001b[0;36m64\u001b[0m\u001b[0;34m,\u001b[0m \u001b[0mbias\u001b[0m\u001b[0;34m=\u001b[0m\u001b[0;32mTrue\u001b[0m\u001b[0;34m)\u001b[0m  \u001b[0;31m# 420\u001b[0m\u001b[0;34m\u001b[0m\u001b[0;34m\u001b[0m\u001b[0m\n\u001b[1;32m      5\u001b[0m         \u001b[0mself\u001b[0m\u001b[0;34m.\u001b[0m\u001b[0mfc2\u001b[0m \u001b[0;34m=\u001b[0m \u001b[0mnn\u001b[0m\u001b[0;34m.\u001b[0m\u001b[0mLinear\u001b[0m\u001b[0;34m(\u001b[0m\u001b[0;36m64\u001b[0m\u001b[0;34m,\u001b[0m \u001b[0;36m8\u001b[0m\u001b[0;34m,\u001b[0m \u001b[0mbias\u001b[0m\u001b[0;34m=\u001b[0m\u001b[0;32mTrue\u001b[0m\u001b[0;34m)\u001b[0m\u001b[0;34m\u001b[0m\u001b[0;34m\u001b[0m\u001b[0m\n",
      "\u001b[0;31mNameError\u001b[0m: name 'nn' is not defined"
     ]
    }
   ],
   "source": [
    "class BERT_thread_net(nn.Module):\n",
    "    def __init__(self):\n",
    "        super(BERT_thread_net, self).__init__()  # 1*20\n",
    "        self.fc1 = nn.Linear(804, 64, bias=True)  # 420\n",
    "        self.fc2 = nn.Linear(64, 8, bias=True)\n",
    "        self.fc3 = nn.Linear(8, 1, bias=True)\n",
    "\n",
    "        self.drop_3 = nn.Dropout(0.3)\n",
    "        self.drop_1 = nn.Dropout(0.1)\n",
    "        self.drop_2 = nn.Dropout(0.2)\n",
    "        self.batchnorm = nn.BatchNorm1d(64)\n",
    "\n",
    "    def forward(self, x):\n",
    "        x = self.drop_2(F.elu(self.fc1(x)))\n",
    "        x = self.drop_2(F.elu(self.fc2(x)))\n",
    "        x = self.fc3(x)\n",
    "        return x\n"
   ]
  },
  {
   "cell_type": "code",
   "execution_count": 74,
   "metadata": {},
   "outputs": [],
   "source": [
    "set_seed()\n",
    "model_bertsparsethread = BERT_thread_net()\n",
    "\n",
    "criterion = nn.BCEWithLogitsLoss()\n",
    "# optimizer = optim.SGD(model.parameters(), lr=0.001, momentum=0.9)\n",
    "optimizer = optim.Adam(model_bertsparsethread.parameters(), lr=5e-5,eps=1e-8, weight_decay=1e-6)\n",
    "# scheduler = lr_scheduler.ExponentialLR(optimizer, gamma= 0.99)  \n",
    "train_loss = []\n",
    "train_accuracy = []\n",
    "\n",
    "\n",
    "epochs = 40\n",
    "\n",
    "PATH = \"./Model/state_dict_bert_sparse_thread_model.pt\"\n",
    "\n",
    "total_steps = len(train_dataloader) * epochs\n",
    "scheduler = get_linear_schedule_with_warmup(optimizer,\n",
    "                                            num_warmup_steps=0,  # Default value\n",
    "                                            num_training_steps=total_steps)"
   ]
  },
  {
   "cell_type": "code",
   "execution_count": 75,
   "metadata": {},
   "outputs": [
    {
     "name": "stdout",
     "output_type": "stream",
     "text": [
      "Epoch 0/39\tTrain) Acc: 0.6615, Loss: 0.6140\n",
      "\t\tValidation) Acc: 0.6536 Loss:0.7272\n",
      "\t\tSaving the best model w/ loss 0.6140\n",
      "\t\tSaving the best model w/ loss 0.5622\n",
      "Epoch 2/39\tTrain) Acc: 0.7115, Loss: 0.5625\n",
      "\t\tValidation) Acc: 0.6495 Loss:0.8237\n",
      "\t\tSaving the best model w/ loss 0.5391\n",
      "Epoch 4/39\tTrain) Acc: 0.7227, Loss: 0.5388\n",
      "\t\tValidation) Acc: 0.6515 Loss:0.8759\n",
      "\t\tSaving the best model w/ loss 0.5388\n",
      "\t\tSaving the best model w/ loss 0.5331\n",
      "Epoch 6/39\tTrain) Acc: 0.7441, Loss: 0.5248\n",
      "\t\tValidation) Acc: 0.6454 Loss:0.8549\n",
      "\t\tSaving the best model w/ loss 0.5248\n",
      "\t\tSaving the best model w/ loss 0.5246\n",
      "Epoch 8/39\tTrain) Acc: 0.7435, Loss: 0.5247\n",
      "\t\tValidation) Acc: 0.6351 Loss:0.8512\n",
      "\t\tSaving the best model w/ loss 0.5083\n",
      "Epoch 10/39\tTrain) Acc: 0.7496, Loss: 0.5138\n",
      "\t\tValidation) Acc: 0.6103 Loss:0.8673\n",
      "Epoch 12/39\tTrain) Acc: 0.7615, Loss: 0.5031\n",
      "\t\tValidation) Acc: 0.6103 Loss:0.8740\n",
      "\t\tSaving the best model w/ loss 0.5031\n",
      "\t\tSaving the best model w/ loss 0.5010\n",
      "Epoch 14/39\tTrain) Acc: 0.7659, Loss: 0.5046\n",
      "\t\tValidation) Acc: 0.6062 Loss:0.8970\n",
      "Epoch 16/39\tTrain) Acc: 0.7713, Loss: 0.4942\n",
      "\t\tValidation) Acc: 0.5959 Loss:0.8996\n",
      "\t\tSaving the best model w/ loss 0.4942\n",
      "\t\tSaving the best model w/ loss 0.4873\n",
      "Epoch 18/39\tTrain) Acc: 0.7730, Loss: 0.4889\n",
      "\t\tValidation) Acc: 0.5505 Loss:0.9598\n",
      "Epoch 20/39\tTrain) Acc: 0.7754, Loss: 0.4846\n",
      "\t\tValidation) Acc: 0.5814 Loss:0.9207\n",
      "\t\tSaving the best model w/ loss 0.4846\n",
      "\t\tSaving the best model w/ loss 0.4760\n",
      "Epoch 22/39\tTrain) Acc: 0.7751, Loss: 0.4876\n",
      "\t\tValidation) Acc: 0.5876 Loss:0.9175\n",
      "Epoch 24/39\tTrain) Acc: 0.7794, Loss: 0.4870\n",
      "\t\tValidation) Acc: 0.5670 Loss:0.9306\n",
      "Epoch 26/39\tTrain) Acc: 0.7770, Loss: 0.4821\n",
      "\t\tValidation) Acc: 0.5402 Loss:0.9636\n",
      "Finishing the Model: Loss is not decreasing...\n",
      "[0.4760498673453162, 0.48757702613526155, 0.4836402734531612, 0.48702889333630955, 0.4924242576209893]\n"
     ]
    }
   ],
   "source": [
    "train_acc, train_loss, val_acc, val_loss_list = train1(model=model_bertsparsethread, num_epochs=epochs, criterion=criterion, optimizer=optimizer, train_loader=train_dataloader, train_size=train_size, test_loader=test_dataloader, test_size=test_size, PATH=PATH)"
   ]
  },
  {
   "cell_type": "code",
   "execution_count": 2,
   "metadata": {},
   "outputs": [
    {
     "ename": "NameError",
     "evalue": "name 'clf_report' is not defined",
     "output_type": "error",
     "traceback": [
      "\u001b[0;31m---------------------------------------------------------------------------\u001b[0m",
      "\u001b[0;31mNameError\u001b[0m                                 Traceback (most recent call last)",
      "\u001b[0;32m<ipython-input-2-1772809b297f>\u001b[0m in \u001b[0;36m<module>\u001b[0;34m\u001b[0m\n\u001b[0;32m----> 1\u001b[0;31m \u001b[0mclf_report\u001b[0m\u001b[0;34m(\u001b[0m\u001b[0mtrain_loss\u001b[0m\u001b[0;34m,\u001b[0m \u001b[0mtrain_acc\u001b[0m\u001b[0;34m,\u001b[0m \u001b[0mval_loss_list\u001b[0m\u001b[0;34m,\u001b[0m \u001b[0mval_acc\u001b[0m\u001b[0;34m)\u001b[0m\u001b[0;34m\u001b[0m\u001b[0;34m\u001b[0m\u001b[0m\n\u001b[0m",
      "\u001b[0;31mNameError\u001b[0m: name 'clf_report' is not defined"
     ]
    }
   ],
   "source": [
    "clf_report(train_loss, train_acc, val_loss_list, val_acc)"
   ]
  },
  {
   "cell_type": "code",
   "execution_count": null,
   "metadata": {},
   "outputs": [],
   "source": []
  }
 ],
 "metadata": {
  "kernelspec": {
   "display_name": "rosetta",
   "language": "python",
   "name": "rosetta"
  },
  "language_info": {
   "codemirror_mode": {
    "name": "ipython",
    "version": 3
   },
   "file_extension": ".py",
   "mimetype": "text/x-python",
   "name": "python",
   "nbconvert_exporter": "python",
   "pygments_lexer": "ipython3",
   "version": "3.8.8"
  },
  "orig_nbformat": 2
 },
 "nbformat": 4,
 "nbformat_minor": 2
}