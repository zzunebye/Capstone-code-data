{
 "cells": [
  {
   "cell_type": "markdown",
   "metadata": {},
   "source": [
    "# README\n",
    "## Options:\n",
    "### Pretrained model:\n",
    "- word2vec-ruscorpora-300\t\n",
    "- glove-twitter-200\n",
    "\n",
    "### Tokenization: How to manage OOV?\n",
    "- Link: '&'\n",
    "- Tag: '#'\n",
    "- Mention: '@' "
   ]
  },
  {
   "cell_type": "code",
   "execution_count": 47,
   "metadata": {},
   "outputs": [],
   "source": [
    "import copy\n",
    "import pandas as pd\n",
    "import numpy as np\n",
    "import nltk\n",
    "# nltk.download('punkt')\n",
    "# nltk.download('averaged_perceptron_tagger')\n",
    "import re\n",
    "from nltk.corpus import stopwords\n",
    "from nltk.stem.porter import PorterStemmer\n",
    "from nltk.tokenize import TweetTokenizer\n",
    "from nltk.stem.wordnet import WordNetLemmatizer\n",
    "from nltk import SnowballStemmer\n",
    "\n",
    "import gensim\n",
    "import gensim.models.word2vec as w2v\n",
    "from gensim.test.utils import common_texts\n",
    "from gensim.models.doc2vec import Doc2Vec, TaggedDocument\n",
    "\n",
    "\n",
    "from sklearn.preprocessing import StandardScaler\n",
    "\n",
    "from sklearn.metrics import accuracy_score\n",
    "from sklearn.metrics import classification_report\n",
    "from sklearn.metrics import f1_score, precision_score, recall_score\n",
    "from transformers import AdamW, get_linear_schedule_with_warmup\n",
    "\n",
    "from fetchData import fetchdata, cv_events\n",
    "import __MLP\n",
    "import __Preprocessing\n",
    "# from __MLP import getSamplers, convert_df_to_unsqueezed_tensor, train_sequential, clf_report\n",
    "import random\n",
    "import emoji\n",
    "\n",
    "\n",
    "# from __Preprocess import *"
   ]
  },
  {
   "cell_type": "code",
   "execution_count": 2,
   "metadata": {},
   "outputs": [],
   "source": [
    "pd.set_option('display.max_rows', 400)\n",
    "# pd.set_option('display.max_columns', None)\n",
    "pd.set_option('display.max_colwidth', 400)"
   ]
  },
  {
   "cell_type": "code",
   "execution_count": 3,
   "metadata": {},
   "outputs": [],
   "source": [
    "import gensim.downloader as api\n",
    "model = api.load('glove-twitter-200')"
   ]
  },
  {
   "cell_type": "markdown",
   "metadata": {},
   "source": [
    "# ! Functions"
   ]
  },
  {
   "cell_type": "code",
   "execution_count": 48,
   "metadata": {},
   "outputs": [],
   "source": [
    "\"\"\" Replaces contractions from a string to their equivalents \"\"\"\n",
    "def replaceContraction(text):\n",
    "    contraction_patterns = [ (r'won\\'t', 'will not'), (r'can\\'t', 'cannot'), (r'i\\'m', 'i am'), (r'ain\\'t', 'is not'), (r'(\\w+)\\'ll', '\\g<1> will'), (r'(\\w+)n\\'t', '\\g<1> not'),\n",
    "                            (r'(\\w+)\\'ve', '\\g<1> have'), (r'(\\w+)\\'s', '\\g<1> is'), (r'(\\w+)\\'re', '\\g<1> are'), (r'(\\w+)\\'d', '\\g<1> would'), (r'&', 'and'), (r'dammit', 'damn it'), (r'dont', 'do not'), (r'wont', 'will not') ]\n",
    "    patterns = [(re.compile(regex), repl) for (regex, repl) in contraction_patterns]\n",
    "    for (pattern, repl) in patterns:\n",
    "        (text, count) = re.subn(pattern, repl, text)\n",
    "    return text\n",
    "\n",
    "def getTokenization(raw_data):\n",
    "\n",
    "    lmt = WordNetLemmatizer()\n",
    "    stemmer = SnowballStemmer(\"english\")\n",
    "    freqdist = nltk.FreqDist()\n",
    "    tweet_tokenizer = TweetTokenizer()\n",
    "    tweet_tokens = []\n",
    "    stop_words = set(stopwords.words('english'))\n",
    "\n",
    "    for sent in raw_data.text:\n",
    "\n",
    "        # 기존\n",
    "        sent = replaceContraction(sent)\n",
    "        sent = emoji.demojize(sent)\n",
    "        sent = re.sub(r':[^:\\s]*:', r' \\g<0>', text)  # http link -> '*'\n",
    "        sent = re.sub(r\"(www\\S+)|(http\\S+)\", \"HTTPURL\", sent)\n",
    "        sent = re.sub(r\"[A-Za-z0-9]+\", \"@USER\", sent)\n",
    "        sent = re.sub(r\"(#)(\\S+)\", r'\\1 \\2', sent)\n",
    "        sent = re.sub(r'([^\\s\\w@#&]|_)+', '', sent)\n",
    "        sent = re.sub(r\"(\\w+@\\w+.[\\w+]{2,4})\", \"<email>\", sent)   \n",
    "        sent = re.sub(r\"\\d+(\\%|\\s\\bpercent\\b)\", \"<percentage>\", sent)   # mention -> '@'\n",
    "        sent = re.sub(r\"([0-1][0-9]|[2][0-3])[:|.|h]([0-5][0-9])\", \"<time>\", sent)   # mention -> '@'\n",
    "        sent = re.sub(r\"([0-2][0-9]|(3)[0-1])(\\/)(((0)[0-9])|((1)[0-2]))(\\/)\\d{4}\", \"<date>\", sent)  \n",
    "        sent = re.sub(r\"(((0)[0-9])|((1)[0-2]))(\\/)([0-2][0-9]|(3)[0-1])(\\/)\\d{4}\", \"<date>\", sent)  \n",
    "        sent = re.sub(r\"\\d{4}(\\/)(((0)[0-9])|((1)[0-2]))(\\/)([0-2][0-9]|(3)[0-1])\", \"<date>\", sent)  \n",
    "        sent = re.sub(r'\\s+', ' ', sent).strip()\n",
    "\n",
    "        # sent = re.sub('@[^\\s]+','atUser',sent)\n",
    "        # sent = re.sub('((www\\.[^\\s]+)|(https?://[^\\s]+))','url',sent)\n",
    "\n",
    "        # sent = re.sub('', '', sent.lower())\n",
    "        # sent = [tweet_tokenizer.tokenize(sent)]\n",
    "        sent = tweet_tokenizer.tokenize(sent.lower())\n",
    "        # sent = [stemmer.stem(token) for token in sent]\n",
    "        # sent = [lmt.lemmatize(token) for token in sent]\n",
    "\n",
    "        temp = [token for token in sent if not token in stop_words]\n",
    "        tweet_tokens.append([temp])\n",
    "        # tweet_tokens.append(tweet_tokenizer.tokenize(sent))\n",
    "    df_tokens = pd.DataFrame(tweet_tokens, columns=['token'])\n",
    "    return df_tokens\n",
    "\n",
    "def getTokenization_less(raw_data):\n",
    "\n",
    "    lmt = WordNetLemmatizer()\n",
    "    stemmer = SnowballStemmer(\"english\")\n",
    "    freqdist = nltk.FreqDist()\n",
    "    tweet_tokenizer = TweetTokenizer()\n",
    "    tweet_tokens = []\n",
    "    stop_words = set(stopwords.words('english'))\n",
    "\n",
    "    for sent in raw_data.text:\n",
    "\n",
    "        # 기존\n",
    "        sent = re.sub(r\"(www\\S+)|(http\\S+)\", \"*\", sent)\n",
    "        sent = re.sub(r\"@\\S+\", \"@\", sent)\n",
    "        sent = re.sub(r\"(#)(\\S+)\", r'\\1 \\2', sent)\n",
    "        sent = re.sub(r'([^\\s\\w@#&]|_)+', '', sent)\n",
    "\n",
    "        # sent = re.sub('@[^\\s]+','atUser',sent)\n",
    "        # sent = re.sub('((www\\.[^\\s]+)|(https?://[^\\s]+))','url',sent)\n",
    "\n",
    "        # sent = re.sub('', '', sent.lower())\n",
    "        # sent = [tweet_tokenizer.tokenize(sent)]\n",
    "        sent = replaceContraction(sent)\n",
    "        sent = tweet_tokenizer.tokenize(sent.lower())\n",
    "        # sent = [stemmer.stem(token) for token in sent]\n",
    "        # sent = [lmt.lemmatize(token) for token in sent]\n",
    "\n",
    "        temp = [token for token in sent if not token in stop_words]\n",
    "        tweet_tokens.append([temp])\n",
    "        # tweet_tokens.append(tweet_tokenizer.tokenize(sent))\n",
    "    df_tokens = pd.DataFrame(tweet_tokens, columns=['token'])\n",
    "    return df_tokens\n",
    "\n",
    "def getObjectW2V(model):\n",
    "    w2v_object = model.wv\n",
    "    w2v_vectors = w2v_object.vectors # here you load vectors for each word in your model\n",
    "    w2v_indices = {word: w2v_object.vocab[word].index for word in w2v_object.vocab} # here you load indices - with whom you can find an index of the particular word in your model \n",
    "    return w2v_object, w2v_vectors, w2v_indices\n",
    "\n",
    "def get_W2V_AVG(df_tokens):\n",
    "    import copy\n",
    "    df_tokens['token_vec'] = copy.deepcopy(df_tokens['token'])\n",
    "\n",
    "    for index, sent in enumerate(df_tokens['token_vec']):\n",
    "        df_tokens['token_vec'][index] = vectorize(sent).mean(axis=0)\n",
    "\n",
    "    df_temp = pd.DataFrame(\n",
    "        df_tokens['token_vec'].values.tolist()).add_prefix('vec_avg')\n",
    "\n",
    "    # df_tokens = df_tokens.join(df_temp).drop('token_vec', axis=1)\n",
    "    df_temp = pd.DataFrame(df_tokens['token_vec'].values.tolist()).add_prefix('vec_avg')\n",
    "    df_tokens = df_tokens.join(df_temp).drop('token_vec', axis=1)\n",
    "    # df_test.drop('text_token_vec',axis=1, inplace=True)\n",
    "\n",
    "    return df_tokens\n",
    "    # return pd.DataFrame(df_tokens)\n",
    "\n",
    "def vectorize(line):\n",
    "    words = []\n",
    "    for word in line:  # line - iterable, for example list of tokens\n",
    "        try:\n",
    "            w2v_idx = w2v_indices[word]\n",
    "        except KeyError:  # if you does not have a vector for this word in your w2v model, continue\n",
    "            words.append(list(np.zeros(200,)))\n",
    "            continue\n",
    "        words.append(list(w2v_vectors[w2v_idx]))\n",
    "        if not word:\n",
    "            words.append(None)\n",
    "\n",
    "        if len(line) > len(words):\n",
    "            continue\n",
    "    return np.asarray(words)"
   ]
  },
  {
   "cell_type": "markdown",
   "metadata": {},
   "source": [
    "# ! COVERSION: PHEME | PHEMEext | RHI"
   ]
  },
  {
   "cell_type": "code",
   "execution_count": 55,
   "metadata": {},
   "outputs": [],
   "source": [
    "# raw_RHI = pd.read_csv(\"./data/_RHI_text.csv\")\n",
    "raw_PHEME = pd.read_csv(\"./data/_PHEME_text.csv\")\n",
    "raw_PHEMEext = pd.read_csv(\"./data/_PHEMEext_text.csv\")\n",
    "\n",
    "datasets = [raw_PHEME, raw_PHEMEext]\n",
    "\n",
    "# for i, dataset in enumerate(datasets): datasets[i] = getTokenization(dataset)\n",
    "datasets = [getTokenization_less(dataset) for dataset in datasets]\n",
    "# datasets = [get_W2V_AVG(dataset) for dataset in datasets]\n",
    "# w2v_object, w2v_vectors, w2v_indices = getObjectW2V(model)"
   ]
  },
  {
   "cell_type": "code",
   "execution_count": 56,
   "metadata": {},
   "outputs": [
    {
     "name": "stderr",
     "output_type": "stream",
     "text": [
      "<ipython-input-48-4e19523d1141>:86: DeprecationWarning: Call to deprecated `wv` (Attribute will be removed in 4.0.0, use self instead).\n",
      "  w2v_object = model.wv\n"
     ]
    }
   ],
   "source": [
    "w2v_object, w2v_vectors, w2v_indices = getObjectW2V(model)\n",
    "datasets = [get_W2V_AVG(dataset) for dataset in datasets]"
   ]
  },
  {
   "cell_type": "code",
   "execution_count": 59,
   "metadata": {},
   "outputs": [],
   "source": [
    "# datasets[0].to_csv('./data/_RHI_text_AVGw2v.csv', index = False)\n",
    "datasets[0].drop(['token'],axis=1).to_csv('./data/_PHEME_text_AVGw2v_final.csv', index = False)\n",
    "datasets[1].drop(['token'],axis=1).to_csv('./data/_PHEMEext_text_AVGw2v_final.csv', index = False)"
   ]
  },
  {
   "cell_type": "code",
   "execution_count": 62,
   "metadata": {},
   "outputs": [
    {
     "data": {
      "text/html": "<div>\n<style scoped>\n    .dataframe tbody tr th:only-of-type {\n        vertical-align: middle;\n    }\n\n    .dataframe tbody tr th {\n        vertical-align: top;\n    }\n\n    .dataframe thead th {\n        text-align: right;\n    }\n</style>\n<table border=\"1\" class=\"dataframe\">\n  <thead>\n    <tr style=\"text-align: right;\">\n      <th></th>\n      <th>vec_avg0</th>\n      <th>vec_avg1</th>\n      <th>vec_avg2</th>\n      <th>vec_avg3</th>\n      <th>vec_avg4</th>\n      <th>vec_avg5</th>\n      <th>vec_avg6</th>\n      <th>vec_avg7</th>\n      <th>vec_avg8</th>\n      <th>vec_avg9</th>\n      <th>...</th>\n      <th>vec_avg190</th>\n      <th>vec_avg191</th>\n      <th>vec_avg192</th>\n      <th>vec_avg193</th>\n      <th>vec_avg194</th>\n      <th>vec_avg195</th>\n      <th>vec_avg196</th>\n      <th>vec_avg197</th>\n      <th>vec_avg198</th>\n      <th>vec_avg199</th>\n    </tr>\n  </thead>\n  <tbody>\n    <tr>\n      <th>0</th>\n      <td>-0.214452</td>\n      <td>0.022334</td>\n      <td>0.199403</td>\n      <td>0.091531</td>\n      <td>-0.106364</td>\n      <td>-0.135615</td>\n      <td>0.224626</td>\n      <td>-0.100319</td>\n      <td>0.156632</td>\n      <td>-0.080552</td>\n      <td>...</td>\n      <td>0.113106</td>\n      <td>-0.158723</td>\n      <td>0.046337</td>\n      <td>-0.102808</td>\n      <td>-0.085297</td>\n      <td>-0.109255</td>\n      <td>0.093852</td>\n      <td>-0.004668</td>\n      <td>0.290299</td>\n      <td>-0.042824</td>\n    </tr>\n    <tr>\n      <th>1</th>\n      <td>-0.195160</td>\n      <td>-0.031767</td>\n      <td>-0.221398</td>\n      <td>0.100288</td>\n      <td>-0.015177</td>\n      <td>-0.042167</td>\n      <td>0.013799</td>\n      <td>0.088592</td>\n      <td>0.268327</td>\n      <td>0.028013</td>\n      <td>...</td>\n      <td>-0.074119</td>\n      <td>-0.061033</td>\n      <td>-0.049259</td>\n      <td>0.049295</td>\n      <td>-0.116513</td>\n      <td>-0.075842</td>\n      <td>-0.245682</td>\n      <td>-0.123421</td>\n      <td>0.156163</td>\n      <td>-0.033397</td>\n    </tr>\n    <tr>\n      <th>2</th>\n      <td>-0.169584</td>\n      <td>-0.189962</td>\n      <td>-0.024939</td>\n      <td>0.014669</td>\n      <td>-0.005484</td>\n      <td>-0.139320</td>\n      <td>-0.007687</td>\n      <td>0.075244</td>\n      <td>0.258728</td>\n      <td>-0.223240</td>\n      <td>...</td>\n      <td>0.041829</td>\n      <td>-0.194850</td>\n      <td>-0.052420</td>\n      <td>0.098689</td>\n      <td>-0.093977</td>\n      <td>-0.054104</td>\n      <td>0.008628</td>\n      <td>-0.100813</td>\n      <td>0.131512</td>\n      <td>-0.046161</td>\n    </tr>\n    <tr>\n      <th>3</th>\n      <td>-0.066611</td>\n      <td>-0.020600</td>\n      <td>-0.276818</td>\n      <td>0.173542</td>\n      <td>0.086674</td>\n      <td>0.009584</td>\n      <td>0.154459</td>\n      <td>-0.003033</td>\n      <td>0.392480</td>\n      <td>-0.100663</td>\n      <td>...</td>\n      <td>0.236469</td>\n      <td>-0.103207</td>\n      <td>0.005035</td>\n      <td>-0.016566</td>\n      <td>-0.165597</td>\n      <td>-0.128446</td>\n      <td>-0.253505</td>\n      <td>-0.236819</td>\n      <td>0.127593</td>\n      <td>-0.069560</td>\n    </tr>\n    <tr>\n      <th>4</th>\n      <td>-0.155211</td>\n      <td>-0.274652</td>\n      <td>-0.147827</td>\n      <td>0.243690</td>\n      <td>0.092317</td>\n      <td>-0.179275</td>\n      <td>-0.047098</td>\n      <td>-0.082695</td>\n      <td>0.426767</td>\n      <td>-0.086420</td>\n      <td>...</td>\n      <td>0.243678</td>\n      <td>-0.092047</td>\n      <td>-0.154122</td>\n      <td>0.105979</td>\n      <td>-0.174003</td>\n      <td>-0.064574</td>\n      <td>0.005597</td>\n      <td>-0.458174</td>\n      <td>0.126540</td>\n      <td>-0.152261</td>\n    </tr>\n    <tr>\n      <th>...</th>\n      <td>...</td>\n      <td>...</td>\n      <td>...</td>\n      <td>...</td>\n      <td>...</td>\n      <td>...</td>\n      <td>...</td>\n      <td>...</td>\n      <td>...</td>\n      <td>...</td>\n      <td>...</td>\n      <td>...</td>\n      <td>...</td>\n      <td>...</td>\n      <td>...</td>\n      <td>...</td>\n      <td>...</td>\n      <td>...</td>\n      <td>...</td>\n      <td>...</td>\n      <td>...</td>\n    </tr>\n    <tr>\n      <th>5797</th>\n      <td>0.106938</td>\n      <td>0.010202</td>\n      <td>0.232050</td>\n      <td>-0.164897</td>\n      <td>-0.209751</td>\n      <td>-0.040170</td>\n      <td>0.197595</td>\n      <td>-0.315733</td>\n      <td>0.216575</td>\n      <td>0.135785</td>\n      <td>...</td>\n      <td>0.043007</td>\n      <td>-0.120709</td>\n      <td>-0.028817</td>\n      <td>-0.140666</td>\n      <td>0.038503</td>\n      <td>-0.039655</td>\n      <td>0.187898</td>\n      <td>-0.196423</td>\n      <td>0.054202</td>\n      <td>0.123615</td>\n    </tr>\n    <tr>\n      <th>5798</th>\n      <td>0.046390</td>\n      <td>-0.021311</td>\n      <td>0.055554</td>\n      <td>-0.253835</td>\n      <td>0.038298</td>\n      <td>-0.210279</td>\n      <td>0.158166</td>\n      <td>-0.008340</td>\n      <td>-0.064945</td>\n      <td>0.061531</td>\n      <td>...</td>\n      <td>-0.086546</td>\n      <td>0.007143</td>\n      <td>-0.023466</td>\n      <td>-0.198655</td>\n      <td>0.108289</td>\n      <td>0.072826</td>\n      <td>-0.123237</td>\n      <td>-0.229534</td>\n      <td>0.018978</td>\n      <td>0.125586</td>\n    </tr>\n    <tr>\n      <th>5799</th>\n      <td>0.136621</td>\n      <td>0.153237</td>\n      <td>0.028462</td>\n      <td>-0.117230</td>\n      <td>-0.080547</td>\n      <td>-0.097569</td>\n      <td>0.462077</td>\n      <td>-0.077477</td>\n      <td>-0.013268</td>\n      <td>0.070316</td>\n      <td>...</td>\n      <td>0.142870</td>\n      <td>-0.085517</td>\n      <td>0.168641</td>\n      <td>-0.129973</td>\n      <td>0.029105</td>\n      <td>0.072826</td>\n      <td>0.168497</td>\n      <td>0.070344</td>\n      <td>0.068108</td>\n      <td>-0.116517</td>\n    </tr>\n    <tr>\n      <th>5800</th>\n      <td>-0.119541</td>\n      <td>-0.062041</td>\n      <td>-0.067776</td>\n      <td>0.133035</td>\n      <td>-0.006523</td>\n      <td>-0.197435</td>\n      <td>-0.374273</td>\n      <td>-0.226611</td>\n      <td>0.016173</td>\n      <td>-0.203868</td>\n      <td>...</td>\n      <td>0.495836</td>\n      <td>-0.286977</td>\n      <td>0.104145</td>\n      <td>-0.171063</td>\n      <td>0.058746</td>\n      <td>-0.203296</td>\n      <td>0.106747</td>\n      <td>0.067551</td>\n      <td>0.144041</td>\n      <td>0.038614</td>\n    </tr>\n    <tr>\n      <th>5801</th>\n      <td>0.002635</td>\n      <td>-0.093892</td>\n      <td>0.075457</td>\n      <td>-0.070614</td>\n      <td>-0.101809</td>\n      <td>-0.113725</td>\n      <td>0.298228</td>\n      <td>0.037715</td>\n      <td>0.218422</td>\n      <td>0.115125</td>\n      <td>...</td>\n      <td>-0.030468</td>\n      <td>-0.180556</td>\n      <td>0.107291</td>\n      <td>0.060924</td>\n      <td>-0.250424</td>\n      <td>0.048951</td>\n      <td>-0.086726</td>\n      <td>-0.290970</td>\n      <td>-0.028816</td>\n      <td>0.095446</td>\n    </tr>\n  </tbody>\n</table>\n<p>5802 rows × 200 columns</p>\n</div>",
      "text/plain": "      vec_avg0  vec_avg1  vec_avg2  vec_avg3  vec_avg4  vec_avg5  vec_avg6  \\\n0    -0.214452  0.022334  0.199403  0.091531 -0.106364 -0.135615  0.224626   \n1    -0.195160 -0.031767 -0.221398  0.100288 -0.015177 -0.042167  0.013799   \n2    -0.169584 -0.189962 -0.024939  0.014669 -0.005484 -0.139320 -0.007687   \n3    -0.066611 -0.020600 -0.276818  0.173542  0.086674  0.009584  0.154459   \n4    -0.155211 -0.274652 -0.147827  0.243690  0.092317 -0.179275 -0.047098   \n...        ...       ...       ...       ...       ...       ...       ...   \n5797  0.106938  0.010202  0.232050 -0.164897 -0.209751 -0.040170  0.197595   \n5798  0.046390 -0.021311  0.055554 -0.253835  0.038298 -0.210279  0.158166   \n5799  0.136621  0.153237  0.028462 -0.117230 -0.080547 -0.097569  0.462077   \n5800 -0.119541 -0.062041 -0.067776  0.133035 -0.006523 -0.197435 -0.374273   \n5801  0.002635 -0.093892  0.075457 -0.070614 -0.101809 -0.113725  0.298228   \n\n      vec_avg7  vec_avg8  vec_avg9  ...  vec_avg190  vec_avg191  vec_avg192  \\\n0    -0.100319  0.156632 -0.080552  ...    0.113106   -0.158723    0.046337   \n1     0.088592  0.268327  0.028013  ...   -0.074119   -0.061033   -0.049259   \n2     0.075244  0.258728 -0.223240  ...    0.041829   -0.194850   -0.052420   \n3    -0.003033  0.392480 -0.100663  ...    0.236469   -0.103207    0.005035   \n4    -0.082695  0.426767 -0.086420  ...    0.243678   -0.092047   -0.154122   \n...        ...       ...       ...  ...         ...         ...         ...   \n5797 -0.315733  0.216575  0.135785  ...    0.043007   -0.120709   -0.028817   \n5798 -0.008340 -0.064945  0.061531  ...   -0.086546    0.007143   -0.023466   \n5799 -0.077477 -0.013268  0.070316  ...    0.142870   -0.085517    0.168641   \n5800 -0.226611  0.016173 -0.203868  ...    0.495836   -0.286977    0.104145   \n5801  0.037715  0.218422  0.115125  ...   -0.030468   -0.180556    0.107291   \n\n      vec_avg193  vec_avg194  vec_avg195  vec_avg196  vec_avg197  vec_avg198  \\\n0      -0.102808   -0.085297   -0.109255    0.093852   -0.004668    0.290299   \n1       0.049295   -0.116513   -0.075842   -0.245682   -0.123421    0.156163   \n2       0.098689   -0.093977   -0.054104    0.008628   -0.100813    0.131512   \n3      -0.016566   -0.165597   -0.128446   -0.253505   -0.236819    0.127593   \n4       0.105979   -0.174003   -0.064574    0.005597   -0.458174    0.126540   \n...          ...         ...         ...         ...         ...         ...   \n5797   -0.140666    0.038503   -0.039655    0.187898   -0.196423    0.054202   \n5798   -0.198655    0.108289    0.072826   -0.123237   -0.229534    0.018978   \n5799   -0.129973    0.029105    0.072826    0.168497    0.070344    0.068108   \n5800   -0.171063    0.058746   -0.203296    0.106747    0.067551    0.144041   \n5801    0.060924   -0.250424    0.048951   -0.086726   -0.290970   -0.028816   \n\n      vec_avg199  \n0      -0.042824  \n1      -0.033397  \n2      -0.046161  \n3      -0.069560  \n4      -0.152261  \n...          ...  \n5797    0.123615  \n5798    0.125586  \n5799   -0.116517  \n5800    0.038614  \n5801    0.095446  \n\n[5802 rows x 200 columns]"
     },
     "execution_count": 62,
     "metadata": {},
     "output_type": "execute_result"
    }
   ],
   "source": [
    "datasets[0].drop(['token'],axis=1)"
   ]
  },
  {
   "cell_type": "markdown",
   "metadata": {},
   "source": [
    "# 알아보기"
   ]
  },
  {
   "cell_type": "code",
   "execution_count": 16,
   "metadata": {},
   "outputs": [],
   "source": [
    "from nltk.corpus import stopwords\n",
    "stop_words = set(stopwords.words('english'))\n",
    "# stop_words"
   ]
  },
  {
   "cell_type": "code",
   "execution_count": 158,
   "metadata": {},
   "outputs": [],
   "source": [
    "raw_data = pd.read_csv(\"./data/_PHEME_text.csv\")\n",
    "raw_RHI = pd.read_csv(\"./data/_RHI_text.csv\")\n",
    "\n",
    "lmt = WordNetLemmatizer()\n",
    "stemmer = SnowballStemmer(\"english\")\n",
    "freqdist = nltk.FreqDist()\n",
    "tweet_tokenizer = TweetTokenizer()\n",
    "tweet_tokens = []\n",
    "stop_words = set(stopwords.words('english'))\n",
    "\n",
    "\"\"\" Replaces contractions from a string to their equivalents \"\"\"\n",
    "contraction_patterns = [ (r'won\\'t', 'will not'), (r'can\\'t', 'cannot'), (r'i\\'m', 'i am'), (r'ain\\'t', 'is not'), (r'(\\w+)\\'ll', '\\g<1> will'), (r'(\\w+)n\\'t', '\\g<1> not'),\n",
    "                         (r'(\\w+)\\'ve', '\\g<1> have'), (r'(\\w+)\\'s', '\\g<1> is'), (r'(\\w+)\\'re', '\\g<1> are'), (r'(\\w+)\\'d', '\\g<1> would'), (r'&', 'and'), (r'dammit', 'damn it'), (r'dont', 'do not'), (r'wont', 'will not') ]\n",
    "def replaceContraction(text):\n",
    "    patterns = [(re.compile(regex), repl) for (regex, repl) in contraction_patterns]\n",
    "    for (pattern, repl) in patterns:\n",
    "        (text, count) = re.subn(pattern, repl, text)\n",
    "    return text\n",
    "\n",
    "for sent in raw_data.text:\n",
    "\n",
    "    sent = re.sub(r\"http\\S+\", \"&\", sent)\n",
    "    # sent = re.sub(r\"@\\S+\", \"@\", sent)\n",
    "    sent = re.sub(r\"(#)(\\S+)\", r'\\1 \\2', sent)\n",
    "\n",
    "    sent = re.sub(r'([^\\s\\w@#&]|_)+', '', sent)\n",
    "    sent = re.sub('@[^\\s]+','atUser',sent)\n",
    "    # sent = re.sub('((www\\.[^\\s]+)|(https?://[^\\s]+))','url',sent)\n",
    "    # sent = re.sub(r'#([^\\s]+)', r'\\1', sent)\n",
    "\n",
    "    sent = replaceContraction(sent)\n",
    "\n",
    "    # sent = re.sub('', '', sent.lower())\n",
    "    # print(tweet_tokenizer.tokenize(sent))\n",
    "    # sent = [tweet_tokenizer.tokenize(sent)]\n",
    "    sent = tweet_tokenizer.tokenize(sent.lower())\n",
    "    sent = [stemmer.stem(token) for token in sent]\n",
    "    # sent = [lmt.lemmatize(token) for token in sent]\n",
    "\n",
    "    temp = [token for token in sent if not token in stop_words]\n",
    "    tweet_tokens.append([temp])\n",
    "    # tweet_tokens.append(tweet_tokenizer.tokenize(sent))\n",
    "df_tokens = pd.DataFrame(tweet_tokens, columns=['token'])"
   ]
  },
  {
   "cell_type": "markdown",
   "metadata": {},
   "source": [
    "## Import data"
   ]
  },
  {
   "cell_type": "code",
   "execution_count": 219,
   "metadata": {},
   "outputs": [],
   "source": [
    "raw_data = pd.read_csv(\"./data/_PHEME_text.csv\")"
   ]
  },
  {
   "cell_type": "code",
   "execution_count": 9,
   "metadata": {},
   "outputs": [
    {
     "name": "stdout",
     "output_type": "stream",
     "text": [
      "(5802, 2)\n"
     ]
    },
    {
     "data": {
      "text/html": "<div>\n<style scoped>\n    .dataframe tbody tr th:only-of-type {\n        vertical-align: middle;\n    }\n\n    .dataframe tbody tr th {\n        vertical-align: top;\n    }\n\n    .dataframe thead th {\n        text-align: right;\n    }\n</style>\n<table border=\"1\" class=\"dataframe\">\n  <thead>\n    <tr style=\"text-align: right;\">\n      <th></th>\n      <th>text</th>\n      <th>Event</th>\n    </tr>\n  </thead>\n  <tbody>\n    <tr>\n      <th>1080</th>\n      <td>#ICYMI, Christopher Hitchens on the case for m...</td>\n      <td>charliehebdo</td>\n    </tr>\n    <tr>\n      <th>4120</th>\n      <td>DEVELOPING NEWS: Soldier shot at War Memorial....</td>\n      <td>ottawashooting</td>\n    </tr>\n    <tr>\n      <th>5004</th>\n      <td>RT @tomsteinfort: Terrifying photo of hostages...</td>\n      <td>sydneysiege</td>\n    </tr>\n    <tr>\n      <th>2305</th>\n      <td>#Ferguson chief said the officer was unaware o...</td>\n      <td>ferguson</td>\n    </tr>\n    <tr>\n      <th>4898</th>\n      <td>BREAKING: 2 people have run out of Sydney buil...</td>\n      <td>sydneysiege</td>\n    </tr>\n  </tbody>\n</table>\n</div>",
      "text/plain": "                                                   text           Event\n1080  #ICYMI, Christopher Hitchens on the case for m...    charliehebdo\n4120  DEVELOPING NEWS: Soldier shot at War Memorial....  ottawashooting\n5004  RT @tomsteinfort: Terrifying photo of hostages...     sydneysiege\n2305  #Ferguson chief said the officer was unaware o...        ferguson\n4898  BREAKING: 2 people have run out of Sydney buil...     sydneysiege"
     },
     "execution_count": 9,
     "metadata": {},
     "output_type": "execute_result"
    }
   ],
   "source": [
    "print(raw_data.shape)\n",
    "raw_data.sample(5)"
   ]
  },
  {
   "cell_type": "markdown",
   "metadata": {},
   "source": [
    "## Preprocessing"
   ]
  },
  {
   "cell_type": "markdown",
   "metadata": {},
   "source": [
    "## Tokenization"
   ]
  },
  {
   "cell_type": "code",
   "execution_count": 243,
   "metadata": {},
   "outputs": [],
   "source": [
    "tweet_tokenizer = TweetTokenizer()\n",
    "tweet_tokens = []\n",
    "\n",
    "for sent in raw_data.text:\n",
    "    sent = re.sub(r\"http\\S+\", \"&\", sent)\n",
    "    sent = re.sub(r\"@\\S+\", \"@\", sent)\n",
    "    sent = re.sub(r\"#\\S+\", \"#\", sent)\n",
    "    sent = re.sub(r'([^\\s\\w@#&]|_)+','', sent)\n",
    "    sent = re.sub('','', sent.lower())\n",
    "    # print(tweet_tokenizer.tokenize(sent))\n",
    "    sent = [tweet_tokenizer.tokenize(sent)]\n",
    "    # sent = [tweet_tokenizer.tokenize(sent.lower())]\n",
    "    tweet_tokens.append(sent)\n",
    "    # tweet_tokens.append(tweet_tokenizer.tokenize(sent))\n",
    "df_tokens = pd.DataFrame(tweet_tokens, columns=['token'])\n"
   ]
  },
  {
   "cell_type": "code",
   "execution_count": 237,
   "metadata": {},
   "outputs": [
    {
     "data": {
      "text/html": "<div>\n<style scoped>\n    .dataframe tbody tr th:only-of-type {\n        vertical-align: middle;\n    }\n\n    .dataframe tbody tr th {\n        vertical-align: top;\n    }\n\n    .dataframe thead th {\n        text-align: right;\n    }\n</style>\n<table border=\"1\" class=\"dataframe\">\n  <thead>\n    <tr style=\"text-align: right;\">\n      <th></th>\n      <th>token</th>\n    </tr>\n  </thead>\n  <tbody>\n    <tr>\n      <th>0</th>\n      <td>[breaking, armed, man, takes, hostage, in, kosher, grocery, east, of, paris, &amp;]</td>\n    </tr>\n    <tr>\n      <th>1</th>\n      <td>[#, killers, dead, confirmed, by, gendarmerie]</td>\n    </tr>\n    <tr>\n      <th>2</th>\n      <td>[top, french, cartoonists, charb, cabu, wolinski, tignous, confirmed, among, dead, in, #, #, attack, editor, is, critically, wounded]</td>\n    </tr>\n    <tr>\n      <th>3</th>\n      <td>[police, have, surrounded, the, area, where, the, #, attack, suspects, are, believed, to, be, &amp;, &amp;]</td>\n    </tr>\n    <tr>\n      <th>4</th>\n      <td>[photo, armed, gunmen, face, police, officers, near, #, hq, in, paris, &amp;, &amp;]</td>\n    </tr>\n  </tbody>\n</table>\n</div>",
      "text/plain": "                                                                                                                                   token\n0                                                        [breaking, armed, man, takes, hostage, in, kosher, grocery, east, of, paris, &]\n1                                                                                         [#, killers, dead, confirmed, by, gendarmerie]\n2  [top, french, cartoonists, charb, cabu, wolinski, tignous, confirmed, among, dead, in, #, #, attack, editor, is, critically, wounded]\n3                                    [police, have, surrounded, the, area, where, the, #, attack, suspects, are, believed, to, be, &, &]\n4                                                           [photo, armed, gunmen, face, police, officers, near, #, hq, in, paris, &, &]"
     },
     "execution_count": 237,
     "metadata": {},
     "output_type": "execute_result"
    }
   ],
   "source": [
    "df_tokens.head()"
   ]
  },
  {
   "cell_type": "markdown",
   "metadata": {},
   "source": [
    "## Word2Vec"
   ]
  },
  {
   "cell_type": "markdown",
   "metadata": {},
   "source": [
    "### Downloading Pretrained model for Gensim"
   ]
  },
  {
   "cell_type": "markdown",
   "metadata": {},
   "source": [
    "### Fetching pretrained Model and Convert the Raw Text"
   ]
  },
  {
   "cell_type": "code",
   "execution_count": 230,
   "metadata": {},
   "outputs": [],
   "source": [
    "import gensim.downloader as api\n",
    "from gensim.models.word2vec import Word2Vec\n",
    "# corpus = api.load('text8')\n",
    "# wv = api.load('word2vec-google-news-300')\n",
    "# fasttext-wiki-news-subwords-300'\n",
    "#  'glove-twitter-200',\n",
    "model = api.load('glove-twitter-200')"
   ]
  },
  {
   "cell_type": "code",
   "execution_count": 20,
   "metadata": {},
   "outputs": [
    {
     "data": {
      "text/plain": "<gensim.models.keyedvectors.Word2VecKeyedVectors at 0x7fa0739797f0>"
     },
     "execution_count": 20,
     "metadata": {},
     "output_type": "execute_result"
    }
   ],
   "source": [
    "# import inspect\n",
    "# print(inspect.getsource(wv.__class__))"
   ]
  },
  {
   "cell_type": "code",
   "execution_count": 42,
   "metadata": {},
   "outputs": [],
   "source": [
    "w2v_object = model.wv\n",
    "w2v_vectors = w2v_object.vectors # here you load vectors for each word in your model\n",
    "w2v_indices = {word: w2v_object.vocab[word].index for word in w2v_object.vocab} # here you load indices - with whom you can find an index of the particular word in your model "
   ]
  },
  {
   "cell_type": "code",
   "execution_count": 241,
   "metadata": {},
   "outputs": [],
   "source": [
    "def vectorize(line): \n",
    "    words = []\n",
    "    for word in line: # line - iterable, for example list of tokens \n",
    "        try:\n",
    "            w2v_idx = w2v_indices[word]\n",
    "        except KeyError: # if you does not have a vector for this word in your w2v model, continue \n",
    "            words.append(list(np.zeros(200,)))\n",
    "            continue\n",
    "        words.append(list(w2v_vectors[w2v_idx]))\n",
    "        if not word:\n",
    "            words.append(None)\n",
    "\n",
    "        if len(line) > len(words):\n",
    "            continue\n",
    "    return np.asarray(words)"
   ]
  },
  {
   "cell_type": "code",
   "execution_count": 233,
   "metadata": {},
   "outputs": [],
   "source": [
    "# print(\"Tweet 1: \", raw_data['text'][1])\n",
    "# print(\"Indice of '{}': {}\".format(df_tokens['token'][1][0], w2v_indices[df_tokens['token'][1][0]]))\n",
    "# # print(\"Indice of '{}': {}\".format(raw_data['text_token'][1][0], w2v_vectors[w2v_indices[raw_data['text_token'][1][0]]]))\n",
    "# # print(\"Indice of '{}': {}\".format(raw_data['text_token'][1][1], w2v_indices[raw_data['text_token'][1][1]]))\n",
    "# # print(\"Indice of '{}': {}\".format(raw_data['text_token'][1][1], w2v_vectors[w2v_indices[raw_data['text_token'][1][1]]]))\n",
    "# # print(\"\\nVector of the first headline:\\n\", vectorize(raw_data['text_token'][1]))"
   ]
  },
  {
   "cell_type": "code",
   "execution_count": 244,
   "metadata": {},
   "outputs": [],
   "source": [
    "import copy\n",
    "df_tokens['token_vec'] = copy.deepcopy(df_tokens['token'])\n",
    "\n",
    "for index, sent in enumerate(df_tokens['token_vec']):\n",
    "    df_tokens['token_vec'][index] = vectorize(sent).mean(axis=0)\n",
    "\n",
    "# df_test[['text_token','text_token_vec']].head()\n",
    "\n",
    "df_temp = pd.DataFrame(df_tokens['token_vec'].values.tolist()).add_prefix('vec_avg')\n",
    "\n",
    "df_tokens = df_tokens.join(df_temp).drop('token_vec',axis=1)\n",
    "# df_test.drop('text_token_vec',axis=1, inplace=True)"
   ]
  },
  {
   "cell_type": "code",
   "execution_count": 1,
   "metadata": {},
   "outputs": [
    {
     "ename": "NameError",
     "evalue": "name 'df_tokens' is not defined",
     "output_type": "error",
     "traceback": [
      "\u001b[0;31m---------------------------------------------------------------------------\u001b[0m",
      "\u001b[0;31mNameError\u001b[0m                                 Traceback (most recent call last)",
      "\u001b[0;32m<ipython-input-1-fc4a52621661>\u001b[0m in \u001b[0;36m<module>\u001b[0;34m\u001b[0m\n\u001b[0;32m----> 1\u001b[0;31m \u001b[0mdf_tokens\u001b[0m\u001b[0;34m.\u001b[0m\u001b[0mhead\u001b[0m\u001b[0;34m(\u001b[0m\u001b[0;34m)\u001b[0m\u001b[0;34m\u001b[0m\u001b[0;34m\u001b[0m\u001b[0m\n\u001b[0m",
      "\u001b[0;31mNameError\u001b[0m: name 'df_tokens' is not defined"
     ]
    }
   ],
   "source": [
    "df_tokens.head()"
   ]
  },
  {
   "cell_type": "code",
   "execution_count": null,
   "metadata": {},
   "outputs": [],
   "source": []
  }
 ],
 "metadata": {
  "kernelspec": {
   "display_name": "rosetta",
   "language": "python",
   "name": "rosetta"
  },
  "language_info": {
   "codemirror_mode": {
    "name": "ipython",
    "version": 3
   },
   "file_extension": ".py",
   "mimetype": "text/x-python",
   "name": "python",
   "nbconvert_exporter": "python",
   "pygments_lexer": "ipython3",
   "version": "3.8.8"
  },
  "orig_nbformat": 2
 },
 "nbformat": 4,
 "nbformat_minor": 2
}