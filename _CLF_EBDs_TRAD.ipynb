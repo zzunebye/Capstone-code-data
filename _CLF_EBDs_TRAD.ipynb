{
 "cells": [
  {
   "cell_type": "code",
   "execution_count": 12,
   "metadata": {},
   "outputs": [],
   "source": [
    "import os\n",
    "import re\n",
    "from tqdm import tqdm\n",
    "import numpy as np\n",
    "import pandas as pd\n",
    "import matplotlib.pyplot as plt\n",
    "%matplotlib inline\n",
    "\n",
    "from sklearn.pipeline import make_pipeline\n",
    "from sklearn.preprocessing import StandardScaler\n",
    "from sklearn.preprocessing import MinMaxScaler\n",
    "from sklearn.svm import SVC\n",
    "\n",
    "from sklearn.model_selection import cross_val_score\n",
    "from sklearn.metrics import accuracy_score\n",
    "from sklearn.metrics import classification_report\n",
    "from sklearn.metrics import f1_score\n",
    "\n",
    "from sklearn.naive_bayes import GaussianNB"
   ]
  },
  {
   "cell_type": "code",
   "execution_count": 15,
   "metadata": {},
   "outputs": [],
   "source": [
    "def train_test(X_train, X_test, y_train, y_test, clf):\n",
    "    clf.fit(X_train, y_train)\n",
    "    result = clf.predict(X_test)\n",
    "    print(\"Accuracy:\",accuracy_score(result,y_test))\n",
    "    print(classification_report(y_test, result))\n",
    "    print(f1_score(y_test, result, average='macro'))\n",
    "    \n",
    "\n",
    "def valid(X_valid, y_valid, clf):\n",
    "    clf.fit\n",
    "    result = clf.predict(X_valid)\n",
    "    print(\"Accuracy:\",accuracy_score(result,y_valid))\n",
    "    print(classification_report(y_valid, result))\n",
    "\n",
    "def cv_events(data):\n",
    "    NUM_EVENT = data.Event.unique().shape[0]\n",
    "    EVENTS = data.Event.unique()\n",
    "\n",
    "    cv_pd_list = []\n",
    "    for i, d in enumerate(EVENTS):\n",
    "        df1, df2 = [x for _, x in data.groupby(data['Event'] != d)]\n",
    "        df1.reset_index(inplace=True, drop=True)\n",
    "        df2.reset_index(inplace=True, drop=True)\n",
    "        cv_pd_list.append([df1, df2])\n",
    "    return cv_pd_list"
   ]
  },
  {
   "cell_type": "code",
   "execution_count": 18,
   "metadata": {},
   "outputs": [],
   "source": [
    "pheme = pd.read_csv('./data/_PHEME_text_AVGw2v.csv').drop(['token'],axis=1)\n",
    "pheme_y = pd.read_csv('./data/_PHEME_target.csv').target\n",
    "pheme_event = pd.read_csv('./data/_PHEME_text.csv').Event\n",
    "\n",
    "ext = pd.read_csv('./data/_PHEMEext_text_AVGw2v.csv').drop(['token'],axis=1)\n",
    "ext_y = pd.read_csv('./data/_PHEMEext_text.csv').target\n",
    "ext_event = pd.read_csv('./data/_PHEMEext_text.csv').Event\n",
    "\n",
    "rhi = pd.read_csv('./data/_RHI_text_AVGw2v.csv').drop(['token'],axis=1)\n",
    "rhi_y = pd.read_csv('./data/_RHI_target.csv')\n",
    "# rhi_y = pd.read_csv('./data/_RHI_target.csv')\n",
    "# pheme_y = pd.read_csv('./data/_HSI_target.csv')\n",
    "# x = pd.read_csv('./data/X_basic.csv')\n",
    "# notembedded = pd.read_csv('./data/data_notembeded.csv')"
   ]
  },
  {
   "cell_type": "code",
   "execution_count": 58,
   "metadata": {},
   "outputs": [],
   "source": [
    "train_list = cv_events(pd.concat([pheme, pheme_y, pheme_event],axis=1))\n",
    "cv_events(pd.concat([]))"
   ]
  },
  {
   "cell_type": "code",
   "execution_count": 22,
   "metadata": {},
   "outputs": [
    {
     "name": "stdout",
     "output_type": "stream",
     "text": [
      "Accuracy: 0.3463917525773196\n",
      "              precision    recall  f1-score   support\n",
      "\n",
      "           0       0.26      0.95      0.41       116\n",
      "           1       0.91      0.16      0.27       369\n",
      "\n",
      "    accuracy                           0.35       485\n",
      "   macro avg       0.58      0.55      0.34       485\n",
      "weighted avg       0.75      0.35      0.30       485\n",
      "\n",
      "0.33879090490751373\n",
      "Accuracy: 0.12760665773866461\n",
      "              precision    recall  f1-score   support\n",
      "\n",
      "           0       0.08      0.79      0.14       475\n",
      "           1       0.75      0.06      0.11      4752\n",
      "\n",
      "    accuracy                           0.13      5227\n",
      "   macro avg       0.41      0.43      0.13      5227\n",
      "weighted avg       0.69      0.13      0.12      5227\n",
      "\n"
     ]
    }
   ],
   "source": [
    "clf = GaussianNB()\n",
    "train_test(pheme, ext, pheme_y, ext_y, clf)\n",
    "valid(rhi, rhi_y, clf)"
   ]
  },
  {
   "cell_type": "code",
   "execution_count": 20,
   "metadata": {},
   "outputs": [
    {
     "name": "stdout",
     "output_type": "stream",
     "text": [
      "Accuracy: 0.28865979381443296\n",
      "              precision    recall  f1-score   support\n",
      "\n",
      "           0       0.25      1.00      0.40       116\n",
      "           1       1.00      0.07      0.12       369\n",
      "\n",
      "    accuracy                           0.29       485\n",
      "   macro avg       0.63      0.53      0.26       485\n",
      "weighted avg       0.82      0.29      0.19       485\n",
      "\n",
      "0.2621085636418961\n",
      "Accuracy: 0.09814425100440023\n",
      "              precision    recall  f1-score   support\n",
      "\n",
      "           0       0.09      0.95      0.16       475\n",
      "           1       0.72      0.01      0.03      4752\n",
      "\n",
      "    accuracy                           0.10      5227\n",
      "   macro avg       0.40      0.48      0.09      5227\n",
      "weighted avg       0.66      0.10      0.04      5227\n",
      "\n"
     ]
    }
   ],
   "source": [
    "clf = SVC(gamma='auto')\n",
    "train_test(pheme, ext, pheme_y, ext_y, clf)\n",
    "valid(rhi, rhi_y, clf)"
   ]
  }
 ],
 "metadata": {
  "kernelspec": {
   "display_name": "rosetta",
   "language": "python",
   "name": "rosetta"
  },
  "language_info": {
   "codemirror_mode": {
    "name": "ipython",
    "version": 3
   },
   "file_extension": ".py",
   "mimetype": "text/x-python",
   "name": "python",
   "nbconvert_exporter": "python",
   "pygments_lexer": "ipython3",
   "version": "3.8.8"
  },
  "orig_nbformat": 2
 },
 "nbformat": 4,
 "nbformat_minor": 2
}