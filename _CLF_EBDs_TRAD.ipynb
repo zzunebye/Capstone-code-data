{
 "cells": [
  {
   "cell_type": "code",
   "execution_count": 4,
   "metadata": {},
   "outputs": [],
   "source": [
    "import os\n",
    "import re\n",
    "from tqdm import tqdm\n",
    "import numpy as np\n",
    "import pandas as pd\n",
    "import matplotlib.pyplot as plt\n",
    "%matplotlib inline\n",
    "\n",
    "from sklearn.pipeline import make_pipeline\n",
    "from sklearn.preprocessing import StandardScaler\n",
    "from sklearn.preprocessing import MinMaxScaler\n",
    "from sklearn.svm import SVC\n",
    "\n",
    "from sklearn.model_selection import cross_val_score\n",
    "from sklearn.metrics import accuracy_score\n",
    "from sklearn.metrics import classification_report\n",
    "from sklearn.metrics import f1_score"
   ]
  },
  {
   "cell_type": "code",
   "execution_count": null,
   "metadata": {},
   "outputs": [],
   "source": [
    "def train_test(X_train, X_test, y_train, y_test, clf):\n",
    "    clf.fit(X_train, y_train)\n",
    "    result = clf.predict(X_test)\n",
    "    print(\"Accuracy:\",accuracy_score(result,y_test))\n",
    "    print(classification_report(y_test, result))\n",
    "    print(f1_score(y_test, result, average='macro'))\n",
    "\n",
    "\n",
    "def valid(X_valid, y_valid, clf):\n",
    "    result = clf.predict(X_valid)\n",
    "    print(\"Accuracy:\",accuracy_score(result,y_valid))\n",
    "    print(classification_report(y_valid, result))"
   ]
  },
  {
   "cell_type": "code",
   "execution_count": 55,
   "metadata": {},
   "outputs": [],
   "source": [
    "pheme_event = pd.read_csv('./data/_PHEME_text.csv').Event\n",
    "pheme = pd.read_csv('./data/_PHEME_text_AVGw2v.csv')\n",
    "pheme_y = pd.read_csv('./data/_PHEME_target.csv')\n",
    "rhi = pd.read_csv('./data/_RHI_text_AVGw2v.csv')\n",
    "rhi_y = pd.read_csv('./data/_RHI_target.csv')\n",
    "# pheme_y = pd.read_csv('./data/_HSI_target.csv')\n",
    "# x = pd.read_csv('./data/X_basic.csv')\n",
    "# notembedded = pd.read_csv('./data/data_notembeded.csv')"
   ]
  },
  {
   "cell_type": "code",
   "execution_count": 49,
   "metadata": {},
   "outputs": [],
   "source": [
    "# import import-ipynb\n",
    "# import __snippet"
   ]
  },
  {
   "cell_type": "code",
   "execution_count": 50,
   "metadata": {},
   "outputs": [
    {
     "ename": "SyntaxError",
     "evalue": "invalid syntax (<ipython-input-53-246bbe44c1e0>, line 1)",
     "output_type": "error",
     "traceback": [
      "\u001b[0;36m  File \u001b[0;32m\"<ipython-input-53-246bbe44c1e0>\"\u001b[0;36m, line \u001b[0;32m1\u001b[0m\n\u001b[0;31m    def cv_events(pd.concat([pheme, pheme_y],axis=1)):\u001b[0m\n\u001b[0m                    ^\u001b[0m\n\u001b[0;31mSyntaxError\u001b[0m\u001b[0;31m:\u001b[0m invalid syntax\n"
     ]
    }
   ],
   "source": [
    "def cv_events(data):\n",
    "    NUM_EVENT = data.Event.unique().shape[0]\n",
    "    EVENTS = data.Event.unique()\n",
    "\n",
    "    cv_pd_list = []\n",
    "    for i, d in enumerate(EVENTS):\n",
    "        df1, df2 = [x for _, x in data.groupby(data['Event'] != d)]\n",
    "        df1.reset_index(inplace=True, drop=True)\n",
    "        df2.reset_index(inplace=True, drop=True)\n",
    "        cv_pd_list.append([df1, df2])\n",
    "    return cv_pd_list\n"
   ]
  },
  {
   "cell_type": "code",
   "execution_count": 58,
   "metadata": {},
   "outputs": [],
   "source": [
    "train_list = cv_events(pd.concat([pheme, pheme_y, pheme_event],axis=1))"
   ]
  },
  {
   "cell_type": "code",
   "execution_count": null,
   "metadata": {},
   "outputs": [],
   "source": [
    "cv_events(pd.concat([]))"
   ]
  },
  {
   "cell_type": "code",
   "execution_count": 5,
   "metadata": {},
   "outputs": [],
   "source": [
    "from sklearn.naive_bayes import GaussianNB"
   ]
  },
  {
   "cell_type": "code",
   "execution_count": 44,
   "metadata": {},
   "outputs": [],
   "source": [
    "clf = make_pipeline((StandardScaler()), GaussianNB())\n",
    "# train_test(train_avg_base, test_avg_base, train_y, test_y, clf)\n",
    "# valid(valid_avg_base, valid_y, clf)"
   ]
  },
  {
   "cell_type": "code",
   "execution_count": 74,
   "metadata": {},
   "outputs": [
    {
     "name": "stdout",
     "output_type": "stream",
     "text": [
      "Accuracy: 0.6945126945126945\n",
      "              precision    recall  f1-score   support\n",
      "\n",
      "           0       0.72      0.76      0.74       699\n",
      "           1       0.65      0.61      0.63       522\n",
      "\n",
      "    accuracy                           0.69      1221\n",
      "   macro avg       0.69      0.68      0.69      1221\n",
      "weighted avg       0.69      0.69      0.69      1221\n",
      "\n",
      "0.6850169825374837\n"
     ]
    }
   ],
   "source": [
    "X = train_list[4][1].drop([\"Event\",\"target\"],axis=1)\n",
    "y = train_list[4][1].target\n",
    "X_test = train_list[4][0].drop([\"Event\",\"target\"],axis=1)\n",
    "y_test = train_list[4][0].target\n",
    "clf.fit(X,y)\n",
    "result = clf.predict(X_test)\n",
    "print(\"Accuracy:\", accuracy_score(result, y_test))\n",
    "print(classification_report(y_test, result))\n",
    "print(f1_score(y_test, result, average='macro'))\n"
   ]
  },
  {
   "cell_type": "code",
   "execution_count": 42,
   "metadata": {},
   "outputs": [],
   "source": [
    "rhi.drop(['token'], axis=1, inplace=True)"
   ]
  }
 ],
 "metadata": {
  "kernelspec": {
   "display_name": "rosetta",
   "name": "rosetta"
  },
  "language_info": {
   "codemirror_mode": {
    "name": "ipython",
    "version": 3
   },
   "file_extension": ".py",
   "mimetype": "text/x-python",
   "name": "python",
   "nbconvert_exporter": "python",
   "pygments_lexer": "ipython3",
   "version": "3.8.8"
  },
  "orig_nbformat": 2
 },
 "nbformat": 4,
 "nbformat_minor": 2
}