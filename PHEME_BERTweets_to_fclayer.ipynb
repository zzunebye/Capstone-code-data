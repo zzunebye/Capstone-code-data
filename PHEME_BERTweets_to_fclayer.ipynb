{
 "metadata": {
  "language_info": {
   "codemirror_mode": {
    "name": "ipython",
    "version": 3
   },
   "file_extension": ".py",
   "mimetype": "text/x-python",
   "name": "python",
   "nbconvert_exporter": "python",
   "pygments_lexer": "ipython3",
   "version": "3.8.2-final"
  },
  "orig_nbformat": 2,
  "kernelspec": {
   "name": "venv",
   "display_name": "x86VenvTest",
   "language": "python"
  }
 },
 "nbformat": 4,
 "nbformat_minor": 2,
 "cells": [
  {
   "source": [
    "# Import Lib and Model"
   ],
   "cell_type": "markdown",
   "metadata": {}
  },
  {
   "cell_type": "code",
   "execution_count": 1,
   "metadata": {},
   "outputs": [],
   "source": [
    "import pandas as pd\n",
    "import torch\n",
    "from transformers import AutoModel, AutoTokenizer \n",
    "import logging\n",
    "\n",
    "raw_text = pd.read_csv('./data/raw_text_tokens.csv')"
   ]
  },
  {
   "cell_type": "code",
   "execution_count": 2,
   "metadata": {},
   "outputs": [
    {
     "output_type": "execute_result",
     "data": {
      "text/plain": [
       "                                                text  \\\n",
       "0  BREAKING: Armed man takes hostage in kosher gr...   \n",
       "1  #CharlieHebdo killers dead, confirmed by genda...   \n",
       "2  Top French cartoonists Charb, Cabu, Wolinski, ...   \n",
       "3  Police have surrounded the area where the #Cha...   \n",
       "4  PHOTO: Armed gunmen face police officers near ...   \n",
       "\n",
       "                                          text_token  \n",
       "0  ['breaking', 'armed', 'man', 'takes', 'hostage...  \n",
       "1  ['charliehebdo', 'killers', 'dead', 'confirmed...  \n",
       "2  ['top', 'french', 'cartoonists', 'charb', 'cab...  \n",
       "3  ['police', 'have', 'surrounded', 'the', 'area'...  \n",
       "4  ['photo', 'armed', 'gunmen', 'face', 'police',...  "
      ],
      "text/html": "<div>\n<style scoped>\n    .dataframe tbody tr th:only-of-type {\n        vertical-align: middle;\n    }\n\n    .dataframe tbody tr th {\n        vertical-align: top;\n    }\n\n    .dataframe thead th {\n        text-align: right;\n    }\n</style>\n<table border=\"1\" class=\"dataframe\">\n  <thead>\n    <tr style=\"text-align: right;\">\n      <th></th>\n      <th>text</th>\n      <th>text_token</th>\n    </tr>\n  </thead>\n  <tbody>\n    <tr>\n      <th>0</th>\n      <td>BREAKING: Armed man takes hostage in kosher gr...</td>\n      <td>['breaking', 'armed', 'man', 'takes', 'hostage...</td>\n    </tr>\n    <tr>\n      <th>1</th>\n      <td>#CharlieHebdo killers dead, confirmed by genda...</td>\n      <td>['charliehebdo', 'killers', 'dead', 'confirmed...</td>\n    </tr>\n    <tr>\n      <th>2</th>\n      <td>Top French cartoonists Charb, Cabu, Wolinski, ...</td>\n      <td>['top', 'french', 'cartoonists', 'charb', 'cab...</td>\n    </tr>\n    <tr>\n      <th>3</th>\n      <td>Police have surrounded the area where the #Cha...</td>\n      <td>['police', 'have', 'surrounded', 'the', 'area'...</td>\n    </tr>\n    <tr>\n      <th>4</th>\n      <td>PHOTO: Armed gunmen face police officers near ...</td>\n      <td>['photo', 'armed', 'gunmen', 'face', 'police',...</td>\n    </tr>\n  </tbody>\n</table>\n</div>"
     },
     "metadata": {},
     "execution_count": 2
    }
   ],
   "source": [
    "raw_text.head()"
   ]
  },
  {
   "source": [
    "# Experiment with one sentence"
   ],
   "cell_type": "markdown",
   "metadata": {}
  },
  {
   "cell_type": "code",
   "execution_count": null,
   "metadata": {},
   "outputs": [],
   "source": []
  }
 ]
}